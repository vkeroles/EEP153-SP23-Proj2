{
 "cells": [
  {
   "cell_type": "markdown",
   "metadata": {},
   "source": [
    "## Function to solve the subsistence problem\n",
    "\n"
   ]
  },
  {
   "cell_type": "markdown",
   "metadata": {},
   "source": [
    "The following code block defines a function\n",
    "`solve_subsistence_problem`, which takes as arguments a dataframe\n",
    "mapping different foods to nutrients; a series of prices for those\n",
    "same foods; a series giving dietary recommended intake (DRI) minimums;\n",
    "and a series giving dietary recommended maximums.\n",
    "\n"
   ]
  },
  {
   "cell_type": "code",
   "execution_count": 113,
   "metadata": {},
   "outputs": [],
   "source": [
    "from  scipy.optimize import linprog as lp\n",
    "import numpy as np\n",
    "import warnings\n",
    "\n",
    "def solve_subsistence_problem(FoodNutrients,Prices,dietmin,dietmax,max_weight=None,tol=1e-6):\n",
    "    \"\"\"Solve Stigler's Subsistence Cost Problem.\n",
    "\n",
    "    Inputs:\n",
    "       - FoodNutrients : A pd.DataFrame with rows corresponding to foods, columns to nutrients.\n",
    "       - Prices : A pd.Series of prices for different foods\n",
    "       - diet_min : A pd.Series of DRIs, with index corresponding to columns of FoodNutrients,\n",
    "                    describing minimum intakes.\n",
    "       - diet_max : A pd.Series of DRIs, with index corresponding to columns of FoodNutrients,\n",
    "                    describing maximum intakes.\n",
    "       - max_weight : Maximum weight (in hectograms) allowed for diet.\n",
    "       - tol : Solution values smaller than this in absolute value treated as zeros.\n",
    "       \n",
    "    \"\"\"\n",
    "    try: \n",
    "        p = Prices.apply(lambda x:x.magnitude)\n",
    "    except AttributeError:  # Maybe not passing in prices with units?\n",
    "        warnings.warn(\"Prices have no units.  BE CAREFUL!  We're assuming prices are per hectogram or deciliter!\")\n",
    "        p = Prices\n",
    "\n",
    "    p = p.dropna()\n",
    "\n",
    "    # Compile list that we have both prices and nutritional info for; drop if either missing\n",
    "    use = p.index.intersection(FoodNutrients.columns)\n",
    "    p = p[use]\n",
    "\n",
    "    # Drop nutritional information for foods we don't know the price of,\n",
    "    # and replace missing nutrients with zeros.\n",
    "    Aall = FoodNutrients[p.index].fillna(0)\n",
    "\n",
    "    # Drop rows of A that we don't have constraints for.\n",
    "    Amin = Aall.loc[Aall.index.intersection(dietmin.index)]\n",
    "    Amin = Amin.reindex(dietmin.index,axis=0)\n",
    "    idx = Amin.index.to_frame()\n",
    "    idx['type'] = 'min'\n",
    "    #Amin.index = pd.MultiIndex.from_frame(idx)\n",
    "    #dietmin.index = Amin.index\n",
    "    \n",
    "    Amax = Aall.loc[Aall.index.intersection(dietmax.index)]\n",
    "    Amax = Amax.reindex(dietmax.index,axis=0)\n",
    "    idx = Amax.index.to_frame()\n",
    "    idx['type'] = 'max'\n",
    "    #Amax.index = pd.MultiIndex.from_frame(idx)\n",
    "    #dietmax.index = Amax.index\n",
    "\n",
    "    # Minimum requirements involve multiplying constraint by -1 to make <=.\n",
    "    A = pd.concat([Amin,\n",
    "                   -Amax])\n",
    "\n",
    "    b = pd.concat([dietmin,\n",
    "                   -dietmax]) # Note sign change for max constraints\n",
    "\n",
    "    # Make sure order of p, A, b are consistent\n",
    "    A = A.reindex(p.index,axis=1)\n",
    "    A = A.reindex(b.index,axis=0)\n",
    "\n",
    "    if max_weight is not None:\n",
    "        # Add up weights of foods consumed\n",
    "        A.loc['Hectograms'] = -1\n",
    "        b.loc['Hectograms'] = -max_weight\n",
    "        \n",
    "    # Now solve problem!  (Note that the linear program solver we'll use assumes\n",
    "    # \"less-than-or-equal\" constraints.  We can switch back and forth by\n",
    "    # multiplying $A$ and $b$ by $-1$.)\n",
    "\n",
    "    result = lp(p, -A, -b, method='interior-point')\n",
    "\n",
    "    result.A = A\n",
    "    result.b = b\n",
    "    \n",
    "    if result.success:\n",
    "        result.diet = pd.Series(result.x,index=p.index)\n",
    "    else: # No feasible solution?\n",
    "        warnings.warn(result.message)\n",
    "        result.diet = pd.Series(result.x,index=p.index)*np.nan  \n",
    "\n",
    "    return result"
   ]
  },
  {
   "cell_type": "markdown",
   "metadata": {},
   "source": [
    "## Setup\n",
    "\n"
   ]
  },
  {
   "cell_type": "code",
   "execution_count": 114,
   "metadata": {},
   "outputs": [
    {
     "name": "stdout",
     "output_type": "stream",
     "text": [
      "Requirement already satisfied: eep153_tools in /opt/conda/lib/python3.9/site-packages (0.11)\n"
     ]
    }
   ],
   "source": [
    "#!git reset --hard origin/master  # To revert to original\n",
    "!pip install eep153_tools"
   ]
  },
  {
   "cell_type": "markdown",
   "metadata": {},
   "source": [
    "## USDA Food Central DataBase\n",
    "\n",
    "API key to access USDA Food Central DataBase\n"
   ]
  },
  {
   "cell_type": "code",
   "execution_count": 115,
   "metadata": {},
   "outputs": [],
   "source": [
    "# API key for Gov; substitute your own!\n",
    "apikey = \"zjPzq6seNovgsh28xoUlw7NW7Ikj7Zidg1We4Ekv\""
   ]
  },
  {
   "cell_type": "markdown",
   "metadata": {},
   "source": [
    "## Data on Prices of Different Foods\n"
   ]
  },
  {
   "cell_type": "markdown",
   "metadata": {},
   "source": [
    "We have a spreadsheet for the prices in each supermarket (Trader Joes, Walmart, Wholefoods, Target, and FoodMaxx) . We will be using the read_sheets function to import the data on prices into this notebook. You can find the spreadsheet here: (https://docs.google.com/spreadsheets/d/1dZW1_vvjZwcAfxfHiAkjqrLEpFbFsZ4s7_MzTG6Ezu0/edit#gid=1105367422)\n",
    "\n",
    "Below we will show dataframes for each of the 5 supermarkets we obtained grocery prices from."
   ]
  },
  {
   "cell_type": "markdown",
   "metadata": {},
   "source": [
    "## Trader Joes Price List\n"
   ]
  },
  {
   "cell_type": "code",
   "execution_count": 116,
   "metadata": {},
   "outputs": [
    {
     "name": "stdout",
     "output_type": "stream",
     "text": [
      "Key available for students@eep153.iam.gserviceaccount.com.\n"
     ]
    },
    {
     "data": {
      "text/html": [
       "<div>\n",
       "<style scoped>\n",
       "    .dataframe tbody tr th:only-of-type {\n",
       "        vertical-align: middle;\n",
       "    }\n",
       "\n",
       "    .dataframe tbody tr th {\n",
       "        vertical-align: top;\n",
       "    }\n",
       "\n",
       "    .dataframe thead th {\n",
       "        text-align: right;\n",
       "    }\n",
       "</style>\n",
       "<table border=\"1\" class=\"dataframe\">\n",
       "  <thead>\n",
       "    <tr style=\"text-align: right;\">\n",
       "      <th></th>\n",
       "      <th>Food</th>\n",
       "      <th>Quantity</th>\n",
       "      <th>Units</th>\n",
       "      <th>Price</th>\n",
       "      <th>Date</th>\n",
       "      <th>Location</th>\n",
       "      <th>FDC</th>\n",
       "    </tr>\n",
       "  </thead>\n",
       "  <tbody>\n",
       "    <tr>\n",
       "      <th>0</th>\n",
       "      <td>Banana,raw</td>\n",
       "      <td>120.00</td>\n",
       "      <td>grams</td>\n",
       "      <td>0.19</td>\n",
       "      <td>02/27/23</td>\n",
       "      <td>Trader Joe's</td>\n",
       "      <td>1105314</td>\n",
       "    </tr>\n",
       "    <tr>\n",
       "      <th>1</th>\n",
       "      <td>Apple, Gala</td>\n",
       "      <td>0.33</td>\n",
       "      <td>pound</td>\n",
       "      <td>1.29</td>\n",
       "      <td>02/27/23</td>\n",
       "      <td>Trader Joe's</td>\n",
       "      <td>1750341</td>\n",
       "    </tr>\n",
       "    <tr>\n",
       "      <th>2</th>\n",
       "      <td>Oranges, Navel</td>\n",
       "      <td>3.00</td>\n",
       "      <td>pound</td>\n",
       "      <td>3.69</td>\n",
       "      <td>02/27/23</td>\n",
       "      <td>Trader Joe's</td>\n",
       "      <td>746771</td>\n",
       "    </tr>\n",
       "    <tr>\n",
       "      <th>3</th>\n",
       "      <td>Blueberries</td>\n",
       "      <td>11.00</td>\n",
       "      <td>oz</td>\n",
       "      <td>4.49</td>\n",
       "      <td>03/01/23</td>\n",
       "      <td>Trader Joe's</td>\n",
       "      <td>2346411</td>\n",
       "    </tr>\n",
       "    <tr>\n",
       "      <th>4</th>\n",
       "      <td>Raspberries</td>\n",
       "      <td>6.00</td>\n",
       "      <td>oz</td>\n",
       "      <td>3.99</td>\n",
       "      <td>03/01/23</td>\n",
       "      <td>Trader Joe's</td>\n",
       "      <td>2346410</td>\n",
       "    </tr>\n",
       "    <tr>\n",
       "      <th>5</th>\n",
       "      <td>Grapes, green, seedless</td>\n",
       "      <td>2.00</td>\n",
       "      <td>pound</td>\n",
       "      <td>5.99</td>\n",
       "      <td>03/01/23</td>\n",
       "      <td>Trader Joe's</td>\n",
       "      <td>2346413</td>\n",
       "    </tr>\n",
       "    <tr>\n",
       "      <th>6</th>\n",
       "      <td>Strawberries</td>\n",
       "      <td>1.00</td>\n",
       "      <td>pound</td>\n",
       "      <td>3.99</td>\n",
       "      <td>02/27/23</td>\n",
       "      <td>Trader Joe's</td>\n",
       "      <td>167762</td>\n",
       "    </tr>\n",
       "    <tr>\n",
       "      <th>7</th>\n",
       "      <td>Lentils, red</td>\n",
       "      <td>17.63</td>\n",
       "      <td>oz</td>\n",
       "      <td>3.29</td>\n",
       "      <td>02/27/23</td>\n",
       "      <td>Trader Joe's</td>\n",
       "      <td>174284</td>\n",
       "    </tr>\n",
       "    <tr>\n",
       "      <th>8</th>\n",
       "      <td>Tofu</td>\n",
       "      <td>19.00</td>\n",
       "      <td>oz</td>\n",
       "      <td>2.29</td>\n",
       "      <td>03/01/23</td>\n",
       "      <td>Trader Joe's</td>\n",
       "      <td>173788</td>\n",
       "    </tr>\n",
       "    <tr>\n",
       "      <th>9</th>\n",
       "      <td>Split peas, dry</td>\n",
       "      <td>12.00</td>\n",
       "      <td>oz</td>\n",
       "      <td>2.69</td>\n",
       "      <td>03/01/23</td>\n",
       "      <td>Trader Joe's</td>\n",
       "      <td>172428</td>\n",
       "    </tr>\n",
       "    <tr>\n",
       "      <th>10</th>\n",
       "      <td>Chickpeas, canned</td>\n",
       "      <td>9.88</td>\n",
       "      <td>oz</td>\n",
       "      <td>1.99</td>\n",
       "      <td>03/01/23</td>\n",
       "      <td>Trader Joe's</td>\n",
       "      <td>173800</td>\n",
       "    </tr>\n",
       "    <tr>\n",
       "      <th>11</th>\n",
       "      <td>Quinoa, dry</td>\n",
       "      <td>16.00</td>\n",
       "      <td>oz</td>\n",
       "      <td>3.99</td>\n",
       "      <td>02/27/23</td>\n",
       "      <td>Trader Joe's</td>\n",
       "      <td>168874</td>\n",
       "    </tr>\n",
       "    <tr>\n",
       "      <th>12</th>\n",
       "      <td>Hummus</td>\n",
       "      <td>16.00</td>\n",
       "      <td>oz</td>\n",
       "      <td>3.99</td>\n",
       "      <td>02/27/23</td>\n",
       "      <td>Trader Joe's</td>\n",
       "      <td>174289</td>\n",
       "    </tr>\n",
       "    <tr>\n",
       "      <th>13</th>\n",
       "      <td>Black beans, canned</td>\n",
       "      <td>15.50</td>\n",
       "      <td>oz</td>\n",
       "      <td>1.09</td>\n",
       "      <td>02/27/23</td>\n",
       "      <td>Trader Joe's</td>\n",
       "      <td>175238</td>\n",
       "    </tr>\n",
       "    <tr>\n",
       "      <th>14</th>\n",
       "      <td>Tomato, Roma</td>\n",
       "      <td>1.00</td>\n",
       "      <td>pound</td>\n",
       "      <td>2.99</td>\n",
       "      <td>02/27/23</td>\n",
       "      <td>Trader Joe's</td>\n",
       "      <td>1999634</td>\n",
       "    </tr>\n",
       "    <tr>\n",
       "      <th>15</th>\n",
       "      <td>Broccoli</td>\n",
       "      <td>12.00</td>\n",
       "      <td>oz</td>\n",
       "      <td>2.49</td>\n",
       "      <td>03/01/23</td>\n",
       "      <td>Trader Joe's</td>\n",
       "      <td>539572</td>\n",
       "    </tr>\n",
       "    <tr>\n",
       "      <th>16</th>\n",
       "      <td>Kale</td>\n",
       "      <td>10.00</td>\n",
       "      <td>oz</td>\n",
       "      <td>2.99</td>\n",
       "      <td>02/27/23</td>\n",
       "      <td>Trader Joe's</td>\n",
       "      <td>1103116</td>\n",
       "    </tr>\n",
       "    <tr>\n",
       "      <th>17</th>\n",
       "      <td>Green beans, raw</td>\n",
       "      <td>24.00</td>\n",
       "      <td>oz</td>\n",
       "      <td>1.99</td>\n",
       "      <td>02/27/23</td>\n",
       "      <td>Trader Joe's</td>\n",
       "      <td>2346400</td>\n",
       "    </tr>\n",
       "    <tr>\n",
       "      <th>18</th>\n",
       "      <td>Onions, yellow</td>\n",
       "      <td>4.30</td>\n",
       "      <td>oz</td>\n",
       "      <td>0.99</td>\n",
       "      <td>03/01/23</td>\n",
       "      <td>Trader Joe's</td>\n",
       "      <td>790646</td>\n",
       "    </tr>\n",
       "    <tr>\n",
       "      <th>19</th>\n",
       "      <td>Celery</td>\n",
       "      <td>16.00</td>\n",
       "      <td>oz</td>\n",
       "      <td>2.79</td>\n",
       "      <td>03/01/23</td>\n",
       "      <td>Trader Joe's</td>\n",
       "      <td>2346405</td>\n",
       "    </tr>\n",
       "    <tr>\n",
       "      <th>20</th>\n",
       "      <td>Potato, Russet</td>\n",
       "      <td>200.00</td>\n",
       "      <td>grams</td>\n",
       "      <td>0.79</td>\n",
       "      <td>02/27/23</td>\n",
       "      <td>Trader Joe's</td>\n",
       "      <td>2060240</td>\n",
       "    </tr>\n",
       "    <tr>\n",
       "      <th>21</th>\n",
       "      <td>Carrot</td>\n",
       "      <td>2.00</td>\n",
       "      <td>pound</td>\n",
       "      <td>1.99</td>\n",
       "      <td>02/27/23</td>\n",
       "      <td>Trader Joe's</td>\n",
       "      <td>170393</td>\n",
       "    </tr>\n",
       "    <tr>\n",
       "      <th>22</th>\n",
       "      <td>Cucumber</td>\n",
       "      <td>1.00</td>\n",
       "      <td>pound</td>\n",
       "      <td>2.49</td>\n",
       "      <td>02/27/23</td>\n",
       "      <td>Trader Joe's</td>\n",
       "      <td>2346406</td>\n",
       "    </tr>\n",
       "    <tr>\n",
       "      <th>23</th>\n",
       "      <td>Avocado</td>\n",
       "      <td>5.40</td>\n",
       "      <td>oz</td>\n",
       "      <td>0.60</td>\n",
       "      <td>03/01/23</td>\n",
       "      <td>Trader Joe's</td>\n",
       "      <td>171705</td>\n",
       "    </tr>\n",
       "    <tr>\n",
       "      <th>24</th>\n",
       "      <td>Lettuce, Romaine</td>\n",
       "      <td>5.00</td>\n",
       "      <td>oz</td>\n",
       "      <td>2.49</td>\n",
       "      <td>02/27/23</td>\n",
       "      <td>Trader Joe's</td>\n",
       "      <td>169247</td>\n",
       "    </tr>\n",
       "    <tr>\n",
       "      <th>25</th>\n",
       "      <td>Mushrooms</td>\n",
       "      <td>6.00</td>\n",
       "      <td>oz</td>\n",
       "      <td>3.29</td>\n",
       "      <td>02/27/23</td>\n",
       "      <td>Trader Joe's</td>\n",
       "      <td>1999629</td>\n",
       "    </tr>\n",
       "    <tr>\n",
       "      <th>26</th>\n",
       "      <td>Spinach</td>\n",
       "      <td>12.00</td>\n",
       "      <td>oz</td>\n",
       "      <td>2.49</td>\n",
       "      <td>03/01/23</td>\n",
       "      <td>Trader Joe's</td>\n",
       "      <td>1999632</td>\n",
       "    </tr>\n",
       "    <tr>\n",
       "      <th>27</th>\n",
       "      <td>Rice, White</td>\n",
       "      <td>3.00</td>\n",
       "      <td>pound</td>\n",
       "      <td>2.99</td>\n",
       "      <td>02/27/23</td>\n",
       "      <td>Trader Joe's</td>\n",
       "      <td>168931</td>\n",
       "    </tr>\n",
       "    <tr>\n",
       "      <th>28</th>\n",
       "      <td>Tortillas, corn</td>\n",
       "      <td>12.00</td>\n",
       "      <td>oz</td>\n",
       "      <td>1.29</td>\n",
       "      <td>03/01/23</td>\n",
       "      <td>Trader Joe's</td>\n",
       "      <td>167535</td>\n",
       "    </tr>\n",
       "    <tr>\n",
       "      <th>29</th>\n",
       "      <td>Oats, rolled</td>\n",
       "      <td>18.00</td>\n",
       "      <td>oz</td>\n",
       "      <td>2.99</td>\n",
       "      <td>02/27/23</td>\n",
       "      <td>Trader Joe's</td>\n",
       "      <td>2346396</td>\n",
       "    </tr>\n",
       "    <tr>\n",
       "      <th>30</th>\n",
       "      <td>Soy milk, unsweetened</td>\n",
       "      <td>32.00</td>\n",
       "      <td>oz</td>\n",
       "      <td>2.49</td>\n",
       "      <td>02/27/23</td>\n",
       "      <td>Trader Joe's</td>\n",
       "      <td>1999630</td>\n",
       "    </tr>\n",
       "    <tr>\n",
       "      <th>31</th>\n",
       "      <td>Peanut butter, creamy</td>\n",
       "      <td>16.00</td>\n",
       "      <td>oz</td>\n",
       "      <td>2.29</td>\n",
       "      <td>02/27/23</td>\n",
       "      <td>Trader Joe's</td>\n",
       "      <td>2262072</td>\n",
       "    </tr>\n",
       "    <tr>\n",
       "      <th>32</th>\n",
       "      <td>Rice, Brown</td>\n",
       "      <td>32.00</td>\n",
       "      <td>oz</td>\n",
       "      <td>3.29</td>\n",
       "      <td>03/01/23</td>\n",
       "      <td>Trader Joe's</td>\n",
       "      <td>169706</td>\n",
       "    </tr>\n",
       "    <tr>\n",
       "      <th>33</th>\n",
       "      <td>Spaghetti, dry</td>\n",
       "      <td>1.00</td>\n",
       "      <td>pound</td>\n",
       "      <td>0.99</td>\n",
       "      <td>02/27/23</td>\n",
       "      <td>Trader Joe's</td>\n",
       "      <td>168927</td>\n",
       "    </tr>\n",
       "  </tbody>\n",
       "</table>\n",
       "</div>"
      ],
      "text/plain": [
       "                       Food  Quantity  Units  Price      Date      Location  \\\n",
       "0                Banana,raw    120.00  grams   0.19  02/27/23  Trader Joe's   \n",
       "1               Apple, Gala      0.33  pound   1.29  02/27/23  Trader Joe's   \n",
       "2            Oranges, Navel      3.00  pound   3.69  02/27/23  Trader Joe's   \n",
       "3               Blueberries     11.00     oz   4.49  03/01/23  Trader Joe's   \n",
       "4               Raspberries      6.00     oz   3.99  03/01/23  Trader Joe's   \n",
       "5   Grapes, green, seedless      2.00  pound   5.99  03/01/23  Trader Joe's   \n",
       "6              Strawberries      1.00  pound   3.99  02/27/23  Trader Joe's   \n",
       "7              Lentils, red     17.63     oz   3.29  02/27/23  Trader Joe's   \n",
       "8                      Tofu     19.00     oz   2.29  03/01/23  Trader Joe's   \n",
       "9           Split peas, dry     12.00     oz   2.69  03/01/23  Trader Joe's   \n",
       "10        Chickpeas, canned      9.88     oz   1.99  03/01/23  Trader Joe's   \n",
       "11              Quinoa, dry     16.00     oz   3.99  02/27/23  Trader Joe's   \n",
       "12                   Hummus     16.00     oz   3.99  02/27/23  Trader Joe's   \n",
       "13      Black beans, canned     15.50     oz   1.09  02/27/23  Trader Joe's   \n",
       "14             Tomato, Roma      1.00  pound   2.99  02/27/23  Trader Joe's   \n",
       "15                 Broccoli     12.00     oz   2.49  03/01/23  Trader Joe's   \n",
       "16                     Kale     10.00     oz   2.99  02/27/23  Trader Joe's   \n",
       "17         Green beans, raw     24.00     oz   1.99  02/27/23  Trader Joe's   \n",
       "18           Onions, yellow      4.30     oz   0.99  03/01/23  Trader Joe's   \n",
       "19                   Celery     16.00     oz   2.79  03/01/23  Trader Joe's   \n",
       "20           Potato, Russet    200.00  grams   0.79  02/27/23  Trader Joe's   \n",
       "21                   Carrot      2.00  pound   1.99  02/27/23  Trader Joe's   \n",
       "22                 Cucumber      1.00  pound   2.49  02/27/23  Trader Joe's   \n",
       "23                  Avocado      5.40     oz   0.60  03/01/23  Trader Joe's   \n",
       "24         Lettuce, Romaine      5.00     oz   2.49  02/27/23  Trader Joe's   \n",
       "25                Mushrooms      6.00     oz   3.29  02/27/23  Trader Joe's   \n",
       "26                  Spinach     12.00     oz   2.49  03/01/23  Trader Joe's   \n",
       "27              Rice, White      3.00  pound   2.99  02/27/23  Trader Joe's   \n",
       "28          Tortillas, corn     12.00     oz   1.29  03/01/23  Trader Joe's   \n",
       "29             Oats, rolled     18.00     oz   2.99  02/27/23  Trader Joe's   \n",
       "30    Soy milk, unsweetened     32.00     oz   2.49  02/27/23  Trader Joe's   \n",
       "31    Peanut butter, creamy     16.00     oz   2.29  02/27/23  Trader Joe's   \n",
       "32              Rice, Brown     32.00     oz   3.29  03/01/23  Trader Joe's   \n",
       "33           Spaghetti, dry      1.00  pound   0.99  02/27/23  Trader Joe's   \n",
       "\n",
       "        FDC  \n",
       "0   1105314  \n",
       "1   1750341  \n",
       "2    746771  \n",
       "3   2346411  \n",
       "4   2346410  \n",
       "5   2346413  \n",
       "6    167762  \n",
       "7    174284  \n",
       "8    173788  \n",
       "9    172428  \n",
       "10   173800  \n",
       "11   168874  \n",
       "12   174289  \n",
       "13   175238  \n",
       "14  1999634  \n",
       "15   539572  \n",
       "16  1103116  \n",
       "17  2346400  \n",
       "18   790646  \n",
       "19  2346405  \n",
       "20  2060240  \n",
       "21   170393  \n",
       "22  2346406  \n",
       "23   171705  \n",
       "24   169247  \n",
       "25  1999629  \n",
       "26  1999632  \n",
       "27   168931  \n",
       "28   167535  \n",
       "29  2346396  \n",
       "30  1999630  \n",
       "31  2262072  \n",
       "32   169706  \n",
       "33   168927  "
      ]
     },
     "execution_count": 116,
     "metadata": {},
     "output_type": "execute_result"
    }
   ],
   "source": [
    "import pandas as pd\n",
    "from eep153_tools.sheets import read_sheets\n",
    "\n",
    "df = read_sheets('https://docs.google.com/spreadsheets/d/1dZW1_vvjZwcAfxfHiAkjqrLEpFbFsZ4s7_MzTG6Ezu0/edit#gid=0',sheet='Trader Joes')\n",
    "df"
   ]
  },
  {
   "cell_type": "markdown",
   "metadata": {},
   "source": [
    "## Walmart Price List\n"
   ]
  },
  {
   "cell_type": "code",
   "execution_count": 117,
   "metadata": {},
   "outputs": [
    {
     "name": "stdout",
     "output_type": "stream",
     "text": [
      "Key available for students@eep153.iam.gserviceaccount.com.\n"
     ]
    },
    {
     "data": {
      "text/html": [
       "<div>\n",
       "<style scoped>\n",
       "    .dataframe tbody tr th:only-of-type {\n",
       "        vertical-align: middle;\n",
       "    }\n",
       "\n",
       "    .dataframe tbody tr th {\n",
       "        vertical-align: top;\n",
       "    }\n",
       "\n",
       "    .dataframe thead th {\n",
       "        text-align: right;\n",
       "    }\n",
       "</style>\n",
       "<table border=\"1\" class=\"dataframe\">\n",
       "  <thead>\n",
       "    <tr style=\"text-align: right;\">\n",
       "      <th></th>\n",
       "      <th>Food</th>\n",
       "      <th>Quantity</th>\n",
       "      <th>Units</th>\n",
       "      <th>Price</th>\n",
       "      <th>Date</th>\n",
       "      <th>Location</th>\n",
       "      <th>FDC</th>\n",
       "      <th>Note</th>\n",
       "    </tr>\n",
       "  </thead>\n",
       "  <tbody>\n",
       "    <tr>\n",
       "      <th>0</th>\n",
       "      <td>Banana,raw</td>\n",
       "      <td>1.0</td>\n",
       "      <td>lbs</td>\n",
       "      <td>0.77</td>\n",
       "      <td>02/27/23</td>\n",
       "      <td>walmart</td>\n",
       "      <td>1105073</td>\n",
       "      <td></td>\n",
       "    </tr>\n",
       "    <tr>\n",
       "      <th>1</th>\n",
       "      <td>Apple, Gala</td>\n",
       "      <td>1.0</td>\n",
       "      <td>lbs</td>\n",
       "      <td>1.67</td>\n",
       "      <td>02/27/23</td>\n",
       "      <td>walmart</td>\n",
       "      <td>1750341</td>\n",
       "      <td></td>\n",
       "    </tr>\n",
       "    <tr>\n",
       "      <th>2</th>\n",
       "      <td>Oranges, Navel</td>\n",
       "      <td>1.0</td>\n",
       "      <td>lbs</td>\n",
       "      <td>0.88</td>\n",
       "      <td>02/27/23</td>\n",
       "      <td>walmart</td>\n",
       "      <td>746771</td>\n",
       "      <td></td>\n",
       "    </tr>\n",
       "    <tr>\n",
       "      <th>3</th>\n",
       "      <td>Blueberries</td>\n",
       "      <td>11.0</td>\n",
       "      <td>oz</td>\n",
       "      <td>3.38</td>\n",
       "      <td>02/27/23</td>\n",
       "      <td>walmart</td>\n",
       "      <td>2346411</td>\n",
       "      <td></td>\n",
       "    </tr>\n",
       "    <tr>\n",
       "      <th>4</th>\n",
       "      <td>Raspberries</td>\n",
       "      <td>12.0</td>\n",
       "      <td>oz</td>\n",
       "      <td>5.98</td>\n",
       "      <td>02/27/23</td>\n",
       "      <td>walmart</td>\n",
       "      <td>2346410</td>\n",
       "      <td></td>\n",
       "    </tr>\n",
       "    <tr>\n",
       "      <th>5</th>\n",
       "      <td>Grapes, green, seedless</td>\n",
       "      <td>1.0</td>\n",
       "      <td>lbs</td>\n",
       "      <td>1.98</td>\n",
       "      <td>02/27/23</td>\n",
       "      <td>walmart</td>\n",
       "      <td>2346413</td>\n",
       "      <td></td>\n",
       "    </tr>\n",
       "    <tr>\n",
       "      <th>6</th>\n",
       "      <td>Strawberries</td>\n",
       "      <td>1.0</td>\n",
       "      <td>lbs</td>\n",
       "      <td>2.78</td>\n",
       "      <td>02/27/23</td>\n",
       "      <td>walmart</td>\n",
       "      <td>167762</td>\n",
       "      <td></td>\n",
       "    </tr>\n",
       "    <tr>\n",
       "      <th>7</th>\n",
       "      <td>Lentils, red</td>\n",
       "      <td>27.0</td>\n",
       "      <td>oz</td>\n",
       "      <td>9.55</td>\n",
       "      <td>03/01/23</td>\n",
       "      <td>walmart</td>\n",
       "      <td>174284</td>\n",
       "      <td></td>\n",
       "    </tr>\n",
       "    <tr>\n",
       "      <th>8</th>\n",
       "      <td>Tofu</td>\n",
       "      <td>1.0</td>\n",
       "      <td>lbs</td>\n",
       "      <td>2.12</td>\n",
       "      <td>02/27/23</td>\n",
       "      <td>walmart</td>\n",
       "      <td>173788</td>\n",
       "      <td></td>\n",
       "    </tr>\n",
       "    <tr>\n",
       "      <th>9</th>\n",
       "      <td>Split peas, dry</td>\n",
       "      <td>1.0</td>\n",
       "      <td>lbs</td>\n",
       "      <td>1.48</td>\n",
       "      <td>02/27/23</td>\n",
       "      <td>walmart</td>\n",
       "      <td>172428</td>\n",
       "      <td>green</td>\n",
       "    </tr>\n",
       "    <tr>\n",
       "      <th>10</th>\n",
       "      <td>Chickpeas, canned</td>\n",
       "      <td>15.5</td>\n",
       "      <td>oz</td>\n",
       "      <td>0.78</td>\n",
       "      <td>02/27/23</td>\n",
       "      <td>walmart</td>\n",
       "      <td>173800</td>\n",
       "      <td></td>\n",
       "    </tr>\n",
       "    <tr>\n",
       "      <th>11</th>\n",
       "      <td>Quinoa, dry</td>\n",
       "      <td>1.0</td>\n",
       "      <td>lbs</td>\n",
       "      <td>3.72</td>\n",
       "      <td>02/27/23</td>\n",
       "      <td>walmart</td>\n",
       "      <td>168874</td>\n",
       "      <td>organic</td>\n",
       "    </tr>\n",
       "    <tr>\n",
       "      <th>12</th>\n",
       "      <td>Fresh Hummus</td>\n",
       "      <td>10.0</td>\n",
       "      <td>oz</td>\n",
       "      <td>3.47</td>\n",
       "      <td>02/27/23</td>\n",
       "      <td>walmart</td>\n",
       "      <td>174289</td>\n",
       "      <td></td>\n",
       "    </tr>\n",
       "    <tr>\n",
       "      <th>13</th>\n",
       "      <td>Black beans, canned</td>\n",
       "      <td>15.0</td>\n",
       "      <td>oz</td>\n",
       "      <td>0.78</td>\n",
       "      <td>02/27/23</td>\n",
       "      <td>walmart</td>\n",
       "      <td>175238</td>\n",
       "      <td></td>\n",
       "    </tr>\n",
       "    <tr>\n",
       "      <th>14</th>\n",
       "      <td>Tomato, Roma</td>\n",
       "      <td>1.0</td>\n",
       "      <td>lbs</td>\n",
       "      <td>1.28</td>\n",
       "      <td>02/27/23</td>\n",
       "      <td>walmart</td>\n",
       "      <td>1999634</td>\n",
       "      <td></td>\n",
       "    </tr>\n",
       "    <tr>\n",
       "      <th>15</th>\n",
       "      <td>Broccoli Florest</td>\n",
       "      <td>1.0</td>\n",
       "      <td>oz</td>\n",
       "      <td>4.15</td>\n",
       "      <td>02/27/23</td>\n",
       "      <td>walmart</td>\n",
       "      <td>539572</td>\n",
       "      <td></td>\n",
       "    </tr>\n",
       "    <tr>\n",
       "      <th>16</th>\n",
       "      <td>Kale</td>\n",
       "      <td>40.0</td>\n",
       "      <td>oz</td>\n",
       "      <td>11.78</td>\n",
       "      <td>02/27/23</td>\n",
       "      <td>walmart</td>\n",
       "      <td>1103116</td>\n",
       "      <td></td>\n",
       "    </tr>\n",
       "    <tr>\n",
       "      <th>17</th>\n",
       "      <td>Green beans, raw</td>\n",
       "      <td>12.0</td>\n",
       "      <td>oz</td>\n",
       "      <td>2.78</td>\n",
       "      <td>02/27/23</td>\n",
       "      <td>walmart</td>\n",
       "      <td>2346400</td>\n",
       "      <td></td>\n",
       "    </tr>\n",
       "    <tr>\n",
       "      <th>18</th>\n",
       "      <td>Onions, yellow</td>\n",
       "      <td>3.0</td>\n",
       "      <td>oz</td>\n",
       "      <td>2.24</td>\n",
       "      <td>02/27/23</td>\n",
       "      <td>walmart</td>\n",
       "      <td>790646</td>\n",
       "      <td>organic</td>\n",
       "    </tr>\n",
       "    <tr>\n",
       "      <th>19</th>\n",
       "      <td>Celery</td>\n",
       "      <td>20.0</td>\n",
       "      <td>oz</td>\n",
       "      <td>2.98</td>\n",
       "      <td>02/27/23</td>\n",
       "      <td>walmart</td>\n",
       "      <td>2346405</td>\n",
       "      <td></td>\n",
       "    </tr>\n",
       "    <tr>\n",
       "      <th>20</th>\n",
       "      <td>Potato, Russet</td>\n",
       "      <td>5.0</td>\n",
       "      <td>lbs</td>\n",
       "      <td>3.47</td>\n",
       "      <td>02/27/23</td>\n",
       "      <td>walmart</td>\n",
       "      <td>2060240</td>\n",
       "      <td></td>\n",
       "    </tr>\n",
       "    <tr>\n",
       "      <th>21</th>\n",
       "      <td>Carrot</td>\n",
       "      <td>1.0</td>\n",
       "      <td>lbs</td>\n",
       "      <td>0.98</td>\n",
       "      <td>02/27/23</td>\n",
       "      <td>walmart</td>\n",
       "      <td>1103193</td>\n",
       "      <td>whole</td>\n",
       "    </tr>\n",
       "    <tr>\n",
       "      <th>22</th>\n",
       "      <td>Cucumber</td>\n",
       "      <td>1.0</td>\n",
       "      <td>oz</td>\n",
       "      <td>0.68</td>\n",
       "      <td>02/27/23</td>\n",
       "      <td>walmart</td>\n",
       "      <td>2346406</td>\n",
       "      <td></td>\n",
       "    </tr>\n",
       "    <tr>\n",
       "      <th>23</th>\n",
       "      <td>Avocado</td>\n",
       "      <td>1.0</td>\n",
       "      <td>lbs</td>\n",
       "      <td>1.09</td>\n",
       "      <td>02/27/23</td>\n",
       "      <td>walmart</td>\n",
       "      <td>815990</td>\n",
       "      <td></td>\n",
       "    </tr>\n",
       "    <tr>\n",
       "      <th>24</th>\n",
       "      <td>Lettuce, Romaine</td>\n",
       "      <td>10.0</td>\n",
       "      <td>oz</td>\n",
       "      <td>2.98</td>\n",
       "      <td>02/27/23</td>\n",
       "      <td>walmart</td>\n",
       "      <td>169247</td>\n",
       "      <td></td>\n",
       "    </tr>\n",
       "    <tr>\n",
       "      <th>25</th>\n",
       "      <td>Fresh whole Mushrooms</td>\n",
       "      <td>8.0</td>\n",
       "      <td>oz</td>\n",
       "      <td>2.08</td>\n",
       "      <td>02/27/23</td>\n",
       "      <td>walmart</td>\n",
       "      <td>1999629</td>\n",
       "      <td></td>\n",
       "    </tr>\n",
       "    <tr>\n",
       "      <th>26</th>\n",
       "      <td>Market side fresh Spinach</td>\n",
       "      <td>10.0</td>\n",
       "      <td>oz</td>\n",
       "      <td>2.28</td>\n",
       "      <td>02/27/23</td>\n",
       "      <td>walmart</td>\n",
       "      <td>1999632</td>\n",
       "      <td></td>\n",
       "    </tr>\n",
       "    <tr>\n",
       "      <th>27</th>\n",
       "      <td>Rice, White</td>\n",
       "      <td>14.0</td>\n",
       "      <td>oz</td>\n",
       "      <td>2.44</td>\n",
       "      <td>02/27/23</td>\n",
       "      <td>walmart</td>\n",
       "      <td>168931</td>\n",
       "      <td></td>\n",
       "    </tr>\n",
       "    <tr>\n",
       "      <th>28</th>\n",
       "      <td>Tortillas, corn</td>\n",
       "      <td>25.0</td>\n",
       "      <td>oz</td>\n",
       "      <td>2.48</td>\n",
       "      <td>02/27/23</td>\n",
       "      <td>walmart</td>\n",
       "      <td>167535</td>\n",
       "      <td></td>\n",
       "    </tr>\n",
       "    <tr>\n",
       "      <th>29</th>\n",
       "      <td>Organic Oats, rolled</td>\n",
       "      <td>24.0</td>\n",
       "      <td>oz</td>\n",
       "      <td>12.29</td>\n",
       "      <td>02/27/23</td>\n",
       "      <td>walmart</td>\n",
       "      <td>2346396</td>\n",
       "      <td></td>\n",
       "    </tr>\n",
       "    <tr>\n",
       "      <th>30</th>\n",
       "      <td>Soy milk, unsweetened</td>\n",
       "      <td>32.0</td>\n",
       "      <td>floz</td>\n",
       "      <td>3.24</td>\n",
       "      <td>02/27/23</td>\n",
       "      <td>walmart</td>\n",
       "      <td>1999630</td>\n",
       "      <td></td>\n",
       "    </tr>\n",
       "    <tr>\n",
       "      <th>31</th>\n",
       "      <td>Peanut butter, creamy</td>\n",
       "      <td>24.0</td>\n",
       "      <td>oz</td>\n",
       "      <td>12.56</td>\n",
       "      <td>02/27/23</td>\n",
       "      <td>walmart</td>\n",
       "      <td>2262072</td>\n",
       "      <td>organic</td>\n",
       "    </tr>\n",
       "    <tr>\n",
       "      <th>32</th>\n",
       "      <td>Rice, Brown</td>\n",
       "      <td>32.0</td>\n",
       "      <td>oz</td>\n",
       "      <td>1.37</td>\n",
       "      <td>02/27/23</td>\n",
       "      <td>walmart</td>\n",
       "      <td>169706</td>\n",
       "      <td>Fresh</td>\n",
       "    </tr>\n",
       "    <tr>\n",
       "      <th>33</th>\n",
       "      <td>Spaghetti, dry</td>\n",
       "      <td>1.0</td>\n",
       "      <td>oz</td>\n",
       "      <td>0.09</td>\n",
       "      <td>02/27/23</td>\n",
       "      <td>walmart</td>\n",
       "      <td>168927</td>\n",
       "      <td></td>\n",
       "    </tr>\n",
       "  </tbody>\n",
       "</table>\n",
       "</div>"
      ],
      "text/plain": [
       "                         Food  Quantity Units  Price      Date Location  \\\n",
       "0                  Banana,raw       1.0   lbs   0.77  02/27/23  walmart   \n",
       "1                 Apple, Gala       1.0   lbs   1.67  02/27/23  walmart   \n",
       "2              Oranges, Navel       1.0   lbs   0.88  02/27/23  walmart   \n",
       "3                 Blueberries      11.0    oz   3.38  02/27/23  walmart   \n",
       "4                 Raspberries      12.0    oz   5.98  02/27/23  walmart   \n",
       "5     Grapes, green, seedless       1.0   lbs   1.98  02/27/23  walmart   \n",
       "6                Strawberries       1.0   lbs   2.78  02/27/23  walmart   \n",
       "7                Lentils, red      27.0    oz   9.55  03/01/23  walmart   \n",
       "8                        Tofu       1.0   lbs   2.12  02/27/23  walmart   \n",
       "9             Split peas, dry       1.0   lbs   1.48  02/27/23  walmart   \n",
       "10          Chickpeas, canned      15.5    oz   0.78  02/27/23  walmart   \n",
       "11                Quinoa, dry       1.0   lbs   3.72  02/27/23  walmart   \n",
       "12               Fresh Hummus      10.0    oz   3.47  02/27/23  walmart   \n",
       "13        Black beans, canned      15.0    oz   0.78  02/27/23  walmart   \n",
       "14               Tomato, Roma       1.0   lbs   1.28  02/27/23  walmart   \n",
       "15           Broccoli Florest       1.0    oz   4.15  02/27/23  walmart   \n",
       "16                       Kale      40.0    oz  11.78  02/27/23  walmart   \n",
       "17           Green beans, raw      12.0    oz   2.78  02/27/23  walmart   \n",
       "18             Onions, yellow       3.0    oz   2.24  02/27/23  walmart   \n",
       "19                     Celery      20.0    oz   2.98  02/27/23  walmart   \n",
       "20             Potato, Russet       5.0   lbs   3.47  02/27/23  walmart   \n",
       "21                     Carrot       1.0   lbs   0.98  02/27/23  walmart   \n",
       "22                   Cucumber       1.0    oz   0.68  02/27/23  walmart   \n",
       "23                    Avocado       1.0   lbs   1.09  02/27/23  walmart   \n",
       "24           Lettuce, Romaine      10.0    oz   2.98  02/27/23  walmart   \n",
       "25      Fresh whole Mushrooms       8.0    oz   2.08  02/27/23  walmart   \n",
       "26  Market side fresh Spinach      10.0    oz   2.28  02/27/23  walmart   \n",
       "27                Rice, White      14.0    oz   2.44  02/27/23  walmart   \n",
       "28            Tortillas, corn      25.0    oz   2.48  02/27/23  walmart   \n",
       "29       Organic Oats, rolled      24.0    oz  12.29  02/27/23  walmart   \n",
       "30      Soy milk, unsweetened      32.0  floz   3.24  02/27/23  walmart   \n",
       "31      Peanut butter, creamy      24.0    oz  12.56  02/27/23  walmart   \n",
       "32                Rice, Brown      32.0    oz   1.37  02/27/23  walmart   \n",
       "33             Spaghetti, dry       1.0    oz   0.09  02/27/23  walmart   \n",
       "\n",
       "        FDC     Note  \n",
       "0   1105073           \n",
       "1   1750341           \n",
       "2    746771           \n",
       "3   2346411           \n",
       "4   2346410           \n",
       "5   2346413           \n",
       "6    167762           \n",
       "7    174284           \n",
       "8    173788           \n",
       "9    172428    green  \n",
       "10   173800           \n",
       "11   168874  organic  \n",
       "12   174289           \n",
       "13   175238           \n",
       "14  1999634           \n",
       "15   539572           \n",
       "16  1103116           \n",
       "17  2346400           \n",
       "18   790646  organic  \n",
       "19  2346405           \n",
       "20  2060240           \n",
       "21  1103193    whole  \n",
       "22  2346406           \n",
       "23   815990           \n",
       "24   169247           \n",
       "25  1999629           \n",
       "26  1999632           \n",
       "27   168931           \n",
       "28   167535           \n",
       "29  2346396           \n",
       "30  1999630           \n",
       "31  2262072  organic  \n",
       "32   169706    Fresh  \n",
       "33   168927           "
      ]
     },
     "execution_count": 117,
     "metadata": {},
     "output_type": "execute_result"
    }
   ],
   "source": [
    "import pandas as pd\n",
    "from eep153_tools.sheets import read_sheets\n",
    "\n",
    "walmartdf = read_sheets('https://docs.google.com/spreadsheets/d/1dZW1_vvjZwcAfxfHiAkjqrLEpFbFsZ4s7_MzTG6Ezu0/edit#gid=0',sheet='Walmart')\n",
    "walmartdf"
   ]
  },
  {
   "cell_type": "markdown",
   "metadata": {},
   "source": [
    "## Whole Foods Price List\n"
   ]
  },
  {
   "cell_type": "code",
   "execution_count": 118,
   "metadata": {},
   "outputs": [
    {
     "name": "stdout",
     "output_type": "stream",
     "text": [
      "Key available for students@eep153.iam.gserviceaccount.com.\n"
     ]
    },
    {
     "data": {
      "text/html": [
       "<div>\n",
       "<style scoped>\n",
       "    .dataframe tbody tr th:only-of-type {\n",
       "        vertical-align: middle;\n",
       "    }\n",
       "\n",
       "    .dataframe tbody tr th {\n",
       "        vertical-align: top;\n",
       "    }\n",
       "\n",
       "    .dataframe thead th {\n",
       "        text-align: right;\n",
       "    }\n",
       "</style>\n",
       "<table border=\"1\" class=\"dataframe\">\n",
       "  <thead>\n",
       "    <tr style=\"text-align: right;\">\n",
       "      <th></th>\n",
       "      <th>Food</th>\n",
       "      <th>FDC</th>\n",
       "      <th>Quantity</th>\n",
       "      <th>Units</th>\n",
       "      <th>Price</th>\n",
       "      <th>Date</th>\n",
       "      <th>Location</th>\n",
       "      <th>Notes</th>\n",
       "    </tr>\n",
       "  </thead>\n",
       "  <tbody>\n",
       "    <tr>\n",
       "      <th>0</th>\n",
       "      <td>Banana,raw</td>\n",
       "      <td>1105314</td>\n",
       "      <td>1.0</td>\n",
       "      <td>lbs</td>\n",
       "      <td>0.99</td>\n",
       "      <td>2/27/23</td>\n",
       "      <td>Whole Foods</td>\n",
       "      <td></td>\n",
       "    </tr>\n",
       "    <tr>\n",
       "      <th>1</th>\n",
       "      <td>Apple, Gala</td>\n",
       "      <td>1750341</td>\n",
       "      <td>3.0</td>\n",
       "      <td>lbs</td>\n",
       "      <td>6.49</td>\n",
       "      <td>2/27/23</td>\n",
       "      <td>Whole Foods</td>\n",
       "      <td></td>\n",
       "    </tr>\n",
       "    <tr>\n",
       "      <th>2</th>\n",
       "      <td>Oranges, Navel</td>\n",
       "      <td>746771</td>\n",
       "      <td>1.0</td>\n",
       "      <td>lbs</td>\n",
       "      <td>2.39</td>\n",
       "      <td>2/27/23</td>\n",
       "      <td>Whole Foods</td>\n",
       "      <td></td>\n",
       "    </tr>\n",
       "    <tr>\n",
       "      <th>3</th>\n",
       "      <td>Blueberries</td>\n",
       "      <td>2346411</td>\n",
       "      <td>11.0</td>\n",
       "      <td>oz</td>\n",
       "      <td>6.99</td>\n",
       "      <td>2/27/23</td>\n",
       "      <td>Whole Foods</td>\n",
       "      <td></td>\n",
       "    </tr>\n",
       "    <tr>\n",
       "      <th>4</th>\n",
       "      <td>Raspberries</td>\n",
       "      <td>2346410</td>\n",
       "      <td>12.0</td>\n",
       "      <td>oz</td>\n",
       "      <td>8.69</td>\n",
       "      <td>2/27/23</td>\n",
       "      <td>Whole Foods</td>\n",
       "      <td>Only organic</td>\n",
       "    </tr>\n",
       "    <tr>\n",
       "      <th>5</th>\n",
       "      <td>Grapes, green, seedless</td>\n",
       "      <td>2346413</td>\n",
       "      <td>3.0</td>\n",
       "      <td>lbs</td>\n",
       "      <td>7.49</td>\n",
       "      <td>2/27/23</td>\n",
       "      <td>Whole Foods</td>\n",
       "      <td></td>\n",
       "    </tr>\n",
       "    <tr>\n",
       "      <th>6</th>\n",
       "      <td>Strawberries</td>\n",
       "      <td>167762</td>\n",
       "      <td>1.0</td>\n",
       "      <td>lbs</td>\n",
       "      <td>4.49</td>\n",
       "      <td>2/27/23</td>\n",
       "      <td>Whole Foods</td>\n",
       "      <td></td>\n",
       "    </tr>\n",
       "    <tr>\n",
       "      <th>7</th>\n",
       "      <td>Lentils, red</td>\n",
       "      <td>174284</td>\n",
       "      <td>1.0</td>\n",
       "      <td>lbs</td>\n",
       "      <td>2.99</td>\n",
       "      <td>2/27/23</td>\n",
       "      <td>Whole Foods</td>\n",
       "      <td></td>\n",
       "    </tr>\n",
       "    <tr>\n",
       "      <th>8</th>\n",
       "      <td>Tofu</td>\n",
       "      <td>173788</td>\n",
       "      <td>14.0</td>\n",
       "      <td>oz</td>\n",
       "      <td>2.99</td>\n",
       "      <td>2/27/23</td>\n",
       "      <td>Whole Foods</td>\n",
       "      <td></td>\n",
       "    </tr>\n",
       "    <tr>\n",
       "      <th>9</th>\n",
       "      <td>Split peas, dry</td>\n",
       "      <td>172428</td>\n",
       "      <td>1.0</td>\n",
       "      <td>lbs</td>\n",
       "      <td>2.99</td>\n",
       "      <td>2/27/23</td>\n",
       "      <td>Whole Foods</td>\n",
       "      <td></td>\n",
       "    </tr>\n",
       "    <tr>\n",
       "      <th>10</th>\n",
       "      <td>Chickpeas, canned</td>\n",
       "      <td>173800</td>\n",
       "      <td>15.5</td>\n",
       "      <td>oz</td>\n",
       "      <td>1.99</td>\n",
       "      <td>2/27/23</td>\n",
       "      <td>Whole Foods</td>\n",
       "      <td></td>\n",
       "    </tr>\n",
       "    <tr>\n",
       "      <th>11</th>\n",
       "      <td>Quinoa, dry</td>\n",
       "      <td>168874</td>\n",
       "      <td>1.0</td>\n",
       "      <td>lbs</td>\n",
       "      <td>4.79</td>\n",
       "      <td>2/27/23</td>\n",
       "      <td>Whole Foods</td>\n",
       "      <td>Only organic</td>\n",
       "    </tr>\n",
       "    <tr>\n",
       "      <th>12</th>\n",
       "      <td>Hummus</td>\n",
       "      <td>174289</td>\n",
       "      <td>1.0</td>\n",
       "      <td>lbs</td>\n",
       "      <td>5.29</td>\n",
       "      <td>2/27/23</td>\n",
       "      <td>Whole Foods</td>\n",
       "      <td></td>\n",
       "    </tr>\n",
       "    <tr>\n",
       "      <th>13</th>\n",
       "      <td>Black beans, canned</td>\n",
       "      <td>175238</td>\n",
       "      <td>15.0</td>\n",
       "      <td>oz</td>\n",
       "      <td>1.99</td>\n",
       "      <td>2/27/23</td>\n",
       "      <td>Whole Foods</td>\n",
       "      <td></td>\n",
       "    </tr>\n",
       "    <tr>\n",
       "      <th>14</th>\n",
       "      <td>Tomato, Roma</td>\n",
       "      <td>1999634</td>\n",
       "      <td>1.0</td>\n",
       "      <td>lbs</td>\n",
       "      <td>3.19</td>\n",
       "      <td>2/27/23</td>\n",
       "      <td>Whole Foods</td>\n",
       "      <td></td>\n",
       "    </tr>\n",
       "    <tr>\n",
       "      <th>15</th>\n",
       "      <td>Broccoli</td>\n",
       "      <td>539572</td>\n",
       "      <td>1.0</td>\n",
       "      <td>lbs</td>\n",
       "      <td>2.99</td>\n",
       "      <td>2/27/23</td>\n",
       "      <td>Whole Foods</td>\n",
       "      <td></td>\n",
       "    </tr>\n",
       "    <tr>\n",
       "      <th>16</th>\n",
       "      <td>Kale</td>\n",
       "      <td>1103116</td>\n",
       "      <td>1.0</td>\n",
       "      <td>lbs</td>\n",
       "      <td>4.99</td>\n",
       "      <td>2/27/23</td>\n",
       "      <td>Whole Foods</td>\n",
       "      <td></td>\n",
       "    </tr>\n",
       "    <tr>\n",
       "      <th>17</th>\n",
       "      <td>Green beans, raw</td>\n",
       "      <td>2346400</td>\n",
       "      <td>1.0</td>\n",
       "      <td>lbs</td>\n",
       "      <td>2.99</td>\n",
       "      <td>2/27/23</td>\n",
       "      <td>Whole Foods</td>\n",
       "      <td></td>\n",
       "    </tr>\n",
       "    <tr>\n",
       "      <th>18</th>\n",
       "      <td>Onions, yellow</td>\n",
       "      <td>790646</td>\n",
       "      <td>1.0</td>\n",
       "      <td>lbs</td>\n",
       "      <td>1.99</td>\n",
       "      <td>2/27/23</td>\n",
       "      <td>Whole Foods</td>\n",
       "      <td></td>\n",
       "    </tr>\n",
       "    <tr>\n",
       "      <th>19</th>\n",
       "      <td>Celery</td>\n",
       "      <td>2346405</td>\n",
       "      <td>1.0</td>\n",
       "      <td>lbs</td>\n",
       "      <td>2.69</td>\n",
       "      <td>2/27/23</td>\n",
       "      <td>Whole Foods</td>\n",
       "      <td></td>\n",
       "    </tr>\n",
       "    <tr>\n",
       "      <th>20</th>\n",
       "      <td>Potato, Russet</td>\n",
       "      <td>2060240</td>\n",
       "      <td>1.0</td>\n",
       "      <td>lbs</td>\n",
       "      <td>1.69</td>\n",
       "      <td>2/27/23</td>\n",
       "      <td>Whole Foods</td>\n",
       "      <td></td>\n",
       "    </tr>\n",
       "    <tr>\n",
       "      <th>21</th>\n",
       "      <td>Carrot</td>\n",
       "      <td>170393</td>\n",
       "      <td>1.0</td>\n",
       "      <td>lbs</td>\n",
       "      <td>1.49</td>\n",
       "      <td>2/27/23</td>\n",
       "      <td>Whole Foods</td>\n",
       "      <td>Oragnic</td>\n",
       "    </tr>\n",
       "    <tr>\n",
       "      <th>22</th>\n",
       "      <td>Cucumber</td>\n",
       "      <td>2346406</td>\n",
       "      <td>14.0</td>\n",
       "      <td>oz</td>\n",
       "      <td>1.79</td>\n",
       "      <td>2/27/23</td>\n",
       "      <td>Whole Foods</td>\n",
       "      <td></td>\n",
       "    </tr>\n",
       "    <tr>\n",
       "      <th>23</th>\n",
       "      <td>Avocado</td>\n",
       "      <td>171705</td>\n",
       "      <td>8.0</td>\n",
       "      <td>oz</td>\n",
       "      <td>1.99</td>\n",
       "      <td>2/27/23</td>\n",
       "      <td>Whole Foods</td>\n",
       "      <td></td>\n",
       "    </tr>\n",
       "    <tr>\n",
       "      <th>24</th>\n",
       "      <td>Lettuce, Romaine</td>\n",
       "      <td>169247</td>\n",
       "      <td>22.0</td>\n",
       "      <td>oz</td>\n",
       "      <td>2.99</td>\n",
       "      <td>2/27/23</td>\n",
       "      <td>Whole Foods</td>\n",
       "      <td></td>\n",
       "    </tr>\n",
       "    <tr>\n",
       "      <th>25</th>\n",
       "      <td>Mushrooms</td>\n",
       "      <td>1999629</td>\n",
       "      <td>8.0</td>\n",
       "      <td>oz</td>\n",
       "      <td>3.49</td>\n",
       "      <td>2/27/23</td>\n",
       "      <td>Whole Foods</td>\n",
       "      <td></td>\n",
       "    </tr>\n",
       "    <tr>\n",
       "      <th>26</th>\n",
       "      <td>Spinach</td>\n",
       "      <td>1999632</td>\n",
       "      <td>5.0</td>\n",
       "      <td>oz</td>\n",
       "      <td>3.99</td>\n",
       "      <td>2/27/23</td>\n",
       "      <td>Whole Foods</td>\n",
       "      <td></td>\n",
       "    </tr>\n",
       "    <tr>\n",
       "      <th>27</th>\n",
       "      <td>Rice, White</td>\n",
       "      <td>168931</td>\n",
       "      <td>2.0</td>\n",
       "      <td>lbs</td>\n",
       "      <td>5.29</td>\n",
       "      <td>2/27/23</td>\n",
       "      <td>Whole Foods</td>\n",
       "      <td></td>\n",
       "    </tr>\n",
       "    <tr>\n",
       "      <th>28</th>\n",
       "      <td>Tortillas, corn</td>\n",
       "      <td>167535</td>\n",
       "      <td>8.0</td>\n",
       "      <td>oz</td>\n",
       "      <td>1.99</td>\n",
       "      <td>2/27/23</td>\n",
       "      <td>Whole Foods</td>\n",
       "      <td></td>\n",
       "    </tr>\n",
       "    <tr>\n",
       "      <th>29</th>\n",
       "      <td>Oats, rolled</td>\n",
       "      <td>2346396</td>\n",
       "      <td>42.0</td>\n",
       "      <td>oz</td>\n",
       "      <td>5.99</td>\n",
       "      <td>2/27/23</td>\n",
       "      <td>Whole Foods</td>\n",
       "      <td></td>\n",
       "    </tr>\n",
       "    <tr>\n",
       "      <th>30</th>\n",
       "      <td>Soy milk, unsweetened</td>\n",
       "      <td>1999630</td>\n",
       "      <td>32.0</td>\n",
       "      <td>oz</td>\n",
       "      <td>5.39</td>\n",
       "      <td>2/27/23</td>\n",
       "      <td>Whole Foods</td>\n",
       "      <td>Organic</td>\n",
       "    </tr>\n",
       "    <tr>\n",
       "      <th>31</th>\n",
       "      <td>Peanut butter, creamy</td>\n",
       "      <td>2262072</td>\n",
       "      <td>36.0</td>\n",
       "      <td>oz</td>\n",
       "      <td>6.79</td>\n",
       "      <td>2/27/23</td>\n",
       "      <td>Whole Foods</td>\n",
       "      <td></td>\n",
       "    </tr>\n",
       "    <tr>\n",
       "      <th>32</th>\n",
       "      <td>Rice, Brown</td>\n",
       "      <td>169706</td>\n",
       "      <td>80.0</td>\n",
       "      <td>oz</td>\n",
       "      <td>5.99</td>\n",
       "      <td>2/27/23</td>\n",
       "      <td>Whole Foods</td>\n",
       "      <td></td>\n",
       "    </tr>\n",
       "    <tr>\n",
       "      <th>33</th>\n",
       "      <td>Spaghetti, dry</td>\n",
       "      <td>168927</td>\n",
       "      <td>16.0</td>\n",
       "      <td>oz</td>\n",
       "      <td>1.59</td>\n",
       "      <td>2/27/23</td>\n",
       "      <td>Whole Foods</td>\n",
       "      <td></td>\n",
       "    </tr>\n",
       "  </tbody>\n",
       "</table>\n",
       "</div>"
      ],
      "text/plain": [
       "                       Food      FDC  Quantity Units  Price     Date  \\\n",
       "0                Banana,raw  1105314       1.0   lbs   0.99  2/27/23   \n",
       "1               Apple, Gala  1750341       3.0   lbs   6.49  2/27/23   \n",
       "2            Oranges, Navel   746771       1.0   lbs   2.39  2/27/23   \n",
       "3               Blueberries  2346411      11.0    oz   6.99  2/27/23   \n",
       "4               Raspberries  2346410      12.0    oz   8.69  2/27/23   \n",
       "5   Grapes, green, seedless  2346413       3.0   lbs   7.49  2/27/23   \n",
       "6              Strawberries   167762       1.0   lbs   4.49  2/27/23   \n",
       "7              Lentils, red   174284       1.0   lbs   2.99  2/27/23   \n",
       "8                      Tofu   173788      14.0    oz   2.99  2/27/23   \n",
       "9           Split peas, dry   172428       1.0   lbs   2.99  2/27/23   \n",
       "10        Chickpeas, canned   173800      15.5    oz   1.99  2/27/23   \n",
       "11              Quinoa, dry   168874       1.0   lbs   4.79  2/27/23   \n",
       "12                   Hummus   174289       1.0   lbs   5.29  2/27/23   \n",
       "13      Black beans, canned   175238      15.0    oz   1.99  2/27/23   \n",
       "14             Tomato, Roma  1999634       1.0   lbs   3.19  2/27/23   \n",
       "15                 Broccoli   539572       1.0   lbs   2.99  2/27/23   \n",
       "16                     Kale  1103116       1.0   lbs   4.99  2/27/23   \n",
       "17         Green beans, raw  2346400       1.0   lbs   2.99  2/27/23   \n",
       "18           Onions, yellow   790646       1.0   lbs   1.99  2/27/23   \n",
       "19                   Celery  2346405       1.0   lbs   2.69  2/27/23   \n",
       "20           Potato, Russet  2060240       1.0   lbs   1.69  2/27/23   \n",
       "21                   Carrot   170393       1.0   lbs   1.49  2/27/23   \n",
       "22                 Cucumber  2346406      14.0    oz   1.79  2/27/23   \n",
       "23                  Avocado   171705       8.0    oz   1.99  2/27/23   \n",
       "24         Lettuce, Romaine   169247      22.0    oz   2.99  2/27/23   \n",
       "25                Mushrooms  1999629       8.0    oz   3.49  2/27/23   \n",
       "26                  Spinach  1999632       5.0    oz   3.99  2/27/23   \n",
       "27              Rice, White   168931       2.0   lbs   5.29  2/27/23   \n",
       "28          Tortillas, corn   167535       8.0    oz   1.99  2/27/23   \n",
       "29             Oats, rolled  2346396      42.0    oz   5.99  2/27/23   \n",
       "30    Soy milk, unsweetened  1999630      32.0    oz   5.39  2/27/23   \n",
       "31    Peanut butter, creamy  2262072      36.0    oz   6.79  2/27/23   \n",
       "32              Rice, Brown   169706      80.0    oz   5.99  2/27/23   \n",
       "33           Spaghetti, dry   168927      16.0    oz   1.59  2/27/23   \n",
       "\n",
       "       Location         Notes  \n",
       "0   Whole Foods                \n",
       "1   Whole Foods                \n",
       "2   Whole Foods                \n",
       "3   Whole Foods                \n",
       "4   Whole Foods  Only organic  \n",
       "5   Whole Foods                \n",
       "6   Whole Foods                \n",
       "7   Whole Foods                \n",
       "8   Whole Foods                \n",
       "9   Whole Foods                \n",
       "10  Whole Foods                \n",
       "11  Whole Foods  Only organic  \n",
       "12  Whole Foods                \n",
       "13  Whole Foods                \n",
       "14  Whole Foods                \n",
       "15  Whole Foods                \n",
       "16  Whole Foods                \n",
       "17  Whole Foods                \n",
       "18  Whole Foods                \n",
       "19  Whole Foods                \n",
       "20  Whole Foods                \n",
       "21  Whole Foods       Oragnic  \n",
       "22  Whole Foods                \n",
       "23  Whole Foods                \n",
       "24  Whole Foods                \n",
       "25  Whole Foods                \n",
       "26  Whole Foods                \n",
       "27  Whole Foods                \n",
       "28  Whole Foods                \n",
       "29  Whole Foods                \n",
       "30  Whole Foods       Organic  \n",
       "31  Whole Foods                \n",
       "32  Whole Foods                \n",
       "33  Whole Foods                "
      ]
     },
     "execution_count": 118,
     "metadata": {},
     "output_type": "execute_result"
    }
   ],
   "source": [
    "import pandas as pd\n",
    "from eep153_tools.sheets import read_sheets\n",
    "\n",
    "wholefoodsdf = read_sheets('https://docs.google.com/spreadsheets/d/1dZW1_vvjZwcAfxfHiAkjqrLEpFbFsZ4s7_MzTG6Ezu0/edit#gid=0',sheet='Whole Foods')\n",
    "wholefoodsdf"
   ]
  },
  {
   "cell_type": "markdown",
   "metadata": {},
   "source": [
    "## FoodMaxx Price List\n"
   ]
  },
  {
   "cell_type": "code",
   "execution_count": 119,
   "metadata": {},
   "outputs": [
    {
     "name": "stdout",
     "output_type": "stream",
     "text": [
      "Key available for students@eep153.iam.gserviceaccount.com.\n"
     ]
    },
    {
     "data": {
      "text/html": [
       "<div>\n",
       "<style scoped>\n",
       "    .dataframe tbody tr th:only-of-type {\n",
       "        vertical-align: middle;\n",
       "    }\n",
       "\n",
       "    .dataframe tbody tr th {\n",
       "        vertical-align: top;\n",
       "    }\n",
       "\n",
       "    .dataframe thead th {\n",
       "        text-align: right;\n",
       "    }\n",
       "</style>\n",
       "<table border=\"1\" class=\"dataframe\">\n",
       "  <thead>\n",
       "    <tr style=\"text-align: right;\">\n",
       "      <th></th>\n",
       "      <th>Food</th>\n",
       "      <th>Quantity</th>\n",
       "      <th>Units</th>\n",
       "      <th>Price</th>\n",
       "      <th>Date</th>\n",
       "      <th>Location</th>\n",
       "      <th>FDC</th>\n",
       "    </tr>\n",
       "  </thead>\n",
       "  <tbody>\n",
       "    <tr>\n",
       "      <th>0</th>\n",
       "      <td>Banana,raw</td>\n",
       "      <td>1</td>\n",
       "      <td>lbs</td>\n",
       "      <td>0.69</td>\n",
       "      <td>02/27/23</td>\n",
       "      <td>FoodMaxx</td>\n",
       "      <td>1105073</td>\n",
       "    </tr>\n",
       "    <tr>\n",
       "      <th>1</th>\n",
       "      <td>Apple, Gala</td>\n",
       "      <td>1</td>\n",
       "      <td>lbs</td>\n",
       "      <td>0.99</td>\n",
       "      <td>02/27/23</td>\n",
       "      <td>FoodMaxx</td>\n",
       "      <td>1750341</td>\n",
       "    </tr>\n",
       "    <tr>\n",
       "      <th>2</th>\n",
       "      <td>Oranges, Navel</td>\n",
       "      <td>1</td>\n",
       "      <td>lbs</td>\n",
       "      <td>0.99</td>\n",
       "      <td>02/27/23</td>\n",
       "      <td>FoodMaxx</td>\n",
       "      <td>746771</td>\n",
       "    </tr>\n",
       "    <tr>\n",
       "      <th>3</th>\n",
       "      <td>Blueberries</td>\n",
       "      <td>6</td>\n",
       "      <td>oz</td>\n",
       "      <td>3.49</td>\n",
       "      <td>02/27/23</td>\n",
       "      <td>FoodMaxx</td>\n",
       "      <td>2346411</td>\n",
       "    </tr>\n",
       "    <tr>\n",
       "      <th>4</th>\n",
       "      <td>Raspberries</td>\n",
       "      <td>1</td>\n",
       "      <td>lbs</td>\n",
       "      <td>4.99</td>\n",
       "      <td>02/27/23</td>\n",
       "      <td>FoodMaxx</td>\n",
       "      <td>2346410</td>\n",
       "    </tr>\n",
       "    <tr>\n",
       "      <th>5</th>\n",
       "      <td>Grapes, green, seedless</td>\n",
       "      <td>1</td>\n",
       "      <td>lbs</td>\n",
       "      <td>2.99</td>\n",
       "      <td>02/27/23</td>\n",
       "      <td>FoodMaxx</td>\n",
       "      <td>2346413</td>\n",
       "    </tr>\n",
       "    <tr>\n",
       "      <th>6</th>\n",
       "      <td>Strawberries</td>\n",
       "      <td>1</td>\n",
       "      <td>lbs</td>\n",
       "      <td>6.99</td>\n",
       "      <td>02/27/23</td>\n",
       "      <td>FoodMaxx</td>\n",
       "      <td>167762</td>\n",
       "    </tr>\n",
       "    <tr>\n",
       "      <th>7</th>\n",
       "      <td>Lentils, red</td>\n",
       "      <td>1</td>\n",
       "      <td>lbs</td>\n",
       "      <td>1.99</td>\n",
       "      <td>02/27/23</td>\n",
       "      <td>FoodMaxx</td>\n",
       "      <td>174284</td>\n",
       "    </tr>\n",
       "    <tr>\n",
       "      <th>8</th>\n",
       "      <td>Tofu</td>\n",
       "      <td>14</td>\n",
       "      <td>oz</td>\n",
       "      <td>2.99</td>\n",
       "      <td>02/27/23</td>\n",
       "      <td>FoodMaxx</td>\n",
       "      <td>173788</td>\n",
       "    </tr>\n",
       "    <tr>\n",
       "      <th>9</th>\n",
       "      <td>Split peas, dry</td>\n",
       "      <td>1</td>\n",
       "      <td>lbs</td>\n",
       "      <td>1.79</td>\n",
       "      <td>02/27/23</td>\n",
       "      <td>FoodMaxx</td>\n",
       "      <td>172428</td>\n",
       "    </tr>\n",
       "    <tr>\n",
       "      <th>10</th>\n",
       "      <td>Chickpeas, canned</td>\n",
       "      <td>1</td>\n",
       "      <td>lbs</td>\n",
       "      <td>0.79</td>\n",
       "      <td>02/27/23</td>\n",
       "      <td>FoodMaxx</td>\n",
       "      <td>173800</td>\n",
       "    </tr>\n",
       "    <tr>\n",
       "      <th>11</th>\n",
       "      <td>Quinoa, dry</td>\n",
       "      <td>1</td>\n",
       "      <td>lbs</td>\n",
       "      <td>4.99</td>\n",
       "      <td>02/27/23</td>\n",
       "      <td>FoodMaxx</td>\n",
       "      <td>168874</td>\n",
       "    </tr>\n",
       "    <tr>\n",
       "      <th>12</th>\n",
       "      <td>Hummus</td>\n",
       "      <td>10</td>\n",
       "      <td>oz</td>\n",
       "      <td>3.99</td>\n",
       "      <td>02/27/23</td>\n",
       "      <td>FoodMaxx</td>\n",
       "      <td>174289</td>\n",
       "    </tr>\n",
       "    <tr>\n",
       "      <th>13</th>\n",
       "      <td>Black beans, canned</td>\n",
       "      <td>15</td>\n",
       "      <td>oz</td>\n",
       "      <td>1.19</td>\n",
       "      <td>02/27/23</td>\n",
       "      <td>FoodMaxx</td>\n",
       "      <td>175238</td>\n",
       "    </tr>\n",
       "    <tr>\n",
       "      <th>14</th>\n",
       "      <td>Tomato, Roma</td>\n",
       "      <td>1</td>\n",
       "      <td>lbs</td>\n",
       "      <td>1.39</td>\n",
       "      <td>02/27/23</td>\n",
       "      <td>FoodMaxx</td>\n",
       "      <td>1999634</td>\n",
       "    </tr>\n",
       "    <tr>\n",
       "      <th>15</th>\n",
       "      <td>Broccoli</td>\n",
       "      <td>1</td>\n",
       "      <td>lbs</td>\n",
       "      <td>1.89</td>\n",
       "      <td>02/27/23</td>\n",
       "      <td>FoodMaxx</td>\n",
       "      <td>539572</td>\n",
       "    </tr>\n",
       "    <tr>\n",
       "      <th>16</th>\n",
       "      <td>Kale</td>\n",
       "      <td>8</td>\n",
       "      <td>oz</td>\n",
       "      <td>1.29</td>\n",
       "      <td>02/27/23</td>\n",
       "      <td>FoodMaxx</td>\n",
       "      <td>1103116</td>\n",
       "    </tr>\n",
       "    <tr>\n",
       "      <th>17</th>\n",
       "      <td>Green beans, raw</td>\n",
       "      <td>12</td>\n",
       "      <td>oz</td>\n",
       "      <td>3.29</td>\n",
       "      <td>02/27/23</td>\n",
       "      <td>FoodMaxx</td>\n",
       "      <td>2346400</td>\n",
       "    </tr>\n",
       "    <tr>\n",
       "      <th>18</th>\n",
       "      <td>Onions, yellow</td>\n",
       "      <td>5</td>\n",
       "      <td>lbs</td>\n",
       "      <td>4.69</td>\n",
       "      <td>02/27/23</td>\n",
       "      <td>FoodMaxx</td>\n",
       "      <td>790646</td>\n",
       "    </tr>\n",
       "    <tr>\n",
       "      <th>19</th>\n",
       "      <td>Celery</td>\n",
       "      <td>1</td>\n",
       "      <td>lbs</td>\n",
       "      <td>1.29</td>\n",
       "      <td>02/27/23</td>\n",
       "      <td>FoodMaxx</td>\n",
       "      <td>2346405</td>\n",
       "    </tr>\n",
       "    <tr>\n",
       "      <th>20</th>\n",
       "      <td>Potato, Russet</td>\n",
       "      <td>1</td>\n",
       "      <td>lbs</td>\n",
       "      <td>1.89</td>\n",
       "      <td>02/27/23</td>\n",
       "      <td>FoodMaxx</td>\n",
       "      <td>2060240</td>\n",
       "    </tr>\n",
       "    <tr>\n",
       "      <th>21</th>\n",
       "      <td>Carrot</td>\n",
       "      <td>1</td>\n",
       "      <td>lbs</td>\n",
       "      <td>0.69</td>\n",
       "      <td>02/27/23</td>\n",
       "      <td>FoodMaxx</td>\n",
       "      <td>1103193</td>\n",
       "    </tr>\n",
       "    <tr>\n",
       "      <th>22</th>\n",
       "      <td>Cucumber</td>\n",
       "      <td>8</td>\n",
       "      <td>oz</td>\n",
       "      <td>0.79</td>\n",
       "      <td>02/27/23</td>\n",
       "      <td>FoodMaxx</td>\n",
       "      <td>2346406</td>\n",
       "    </tr>\n",
       "    <tr>\n",
       "      <th>23</th>\n",
       "      <td>Avocado</td>\n",
       "      <td>5</td>\n",
       "      <td>oz</td>\n",
       "      <td>0.50</td>\n",
       "      <td>02/27/23</td>\n",
       "      <td>FoodMaxx</td>\n",
       "      <td>815990</td>\n",
       "    </tr>\n",
       "    <tr>\n",
       "      <th>24</th>\n",
       "      <td>Lettuce, Romaine</td>\n",
       "      <td>1</td>\n",
       "      <td>lbs</td>\n",
       "      <td>3.49</td>\n",
       "      <td>02/27/23</td>\n",
       "      <td>FoodMaxx</td>\n",
       "      <td>169247</td>\n",
       "    </tr>\n",
       "    <tr>\n",
       "      <th>25</th>\n",
       "      <td>Mushrooms</td>\n",
       "      <td>8</td>\n",
       "      <td>oz</td>\n",
       "      <td>2.99</td>\n",
       "      <td>02/27/23</td>\n",
       "      <td>FoodMaxx</td>\n",
       "      <td>1999629</td>\n",
       "    </tr>\n",
       "    <tr>\n",
       "      <th>26</th>\n",
       "      <td>Spinach</td>\n",
       "      <td>8</td>\n",
       "      <td>oz</td>\n",
       "      <td>2.49</td>\n",
       "      <td>02/27/23</td>\n",
       "      <td>FoodMaxx</td>\n",
       "      <td>1999632</td>\n",
       "    </tr>\n",
       "    <tr>\n",
       "      <th>27</th>\n",
       "      <td>Rice, White</td>\n",
       "      <td>2</td>\n",
       "      <td>lbs</td>\n",
       "      <td>4.59</td>\n",
       "      <td>02/27/23</td>\n",
       "      <td>FoodMaxx</td>\n",
       "      <td>168931</td>\n",
       "    </tr>\n",
       "    <tr>\n",
       "      <th>28</th>\n",
       "      <td>Tortillas, corn</td>\n",
       "      <td>30</td>\n",
       "      <td>oz</td>\n",
       "      <td>2.79</td>\n",
       "      <td>02/27/23</td>\n",
       "      <td>FoodMaxx</td>\n",
       "      <td>167535</td>\n",
       "    </tr>\n",
       "    <tr>\n",
       "      <th>29</th>\n",
       "      <td>Oats, rolled</td>\n",
       "      <td>42</td>\n",
       "      <td>oz</td>\n",
       "      <td>3.99</td>\n",
       "      <td>02/27/23</td>\n",
       "      <td>FoodMaxx</td>\n",
       "      <td>2346396</td>\n",
       "    </tr>\n",
       "    <tr>\n",
       "      <th>30</th>\n",
       "      <td>Soy milk, unsweetened</td>\n",
       "      <td>32</td>\n",
       "      <td>oz</td>\n",
       "      <td>2.69</td>\n",
       "      <td>02/27/23</td>\n",
       "      <td>FoodMaxx</td>\n",
       "      <td>1999630</td>\n",
       "    </tr>\n",
       "    <tr>\n",
       "      <th>31</th>\n",
       "      <td>Peanut butter, creamy</td>\n",
       "      <td>16</td>\n",
       "      <td>oz</td>\n",
       "      <td>2.79</td>\n",
       "      <td>02/27/23</td>\n",
       "      <td>FoodMaxx</td>\n",
       "      <td>2262072</td>\n",
       "    </tr>\n",
       "    <tr>\n",
       "      <th>32</th>\n",
       "      <td>Rice, Brown</td>\n",
       "      <td>28</td>\n",
       "      <td>oz</td>\n",
       "      <td>2.99</td>\n",
       "      <td>02/27/23</td>\n",
       "      <td>FoodMaxx</td>\n",
       "      <td>169706</td>\n",
       "    </tr>\n",
       "    <tr>\n",
       "      <th>33</th>\n",
       "      <td>Spaghetti, dry</td>\n",
       "      <td>1</td>\n",
       "      <td>lbs</td>\n",
       "      <td>1.69</td>\n",
       "      <td>02/27/23</td>\n",
       "      <td>FoodMaxx</td>\n",
       "      <td>168927</td>\n",
       "    </tr>\n",
       "  </tbody>\n",
       "</table>\n",
       "</div>"
      ],
      "text/plain": [
       "                       Food  Quantity Units  Price      Date  Location  \\\n",
       "0                Banana,raw         1   lbs   0.69  02/27/23  FoodMaxx   \n",
       "1               Apple, Gala         1   lbs   0.99  02/27/23  FoodMaxx   \n",
       "2            Oranges, Navel         1   lbs   0.99  02/27/23  FoodMaxx   \n",
       "3               Blueberries         6    oz   3.49  02/27/23  FoodMaxx   \n",
       "4               Raspberries         1   lbs   4.99  02/27/23  FoodMaxx   \n",
       "5   Grapes, green, seedless         1   lbs   2.99  02/27/23  FoodMaxx   \n",
       "6              Strawberries         1   lbs   6.99  02/27/23  FoodMaxx   \n",
       "7              Lentils, red         1   lbs   1.99  02/27/23  FoodMaxx   \n",
       "8                      Tofu        14    oz   2.99  02/27/23  FoodMaxx   \n",
       "9           Split peas, dry         1   lbs   1.79  02/27/23  FoodMaxx   \n",
       "10        Chickpeas, canned         1   lbs   0.79  02/27/23  FoodMaxx   \n",
       "11              Quinoa, dry         1   lbs   4.99  02/27/23  FoodMaxx   \n",
       "12                   Hummus        10    oz   3.99  02/27/23  FoodMaxx   \n",
       "13      Black beans, canned        15    oz   1.19  02/27/23  FoodMaxx   \n",
       "14             Tomato, Roma         1   lbs   1.39  02/27/23  FoodMaxx   \n",
       "15                 Broccoli         1   lbs   1.89  02/27/23  FoodMaxx   \n",
       "16                     Kale         8    oz   1.29  02/27/23  FoodMaxx   \n",
       "17         Green beans, raw        12    oz   3.29  02/27/23  FoodMaxx   \n",
       "18           Onions, yellow         5   lbs   4.69  02/27/23  FoodMaxx   \n",
       "19                   Celery         1   lbs   1.29  02/27/23  FoodMaxx   \n",
       "20           Potato, Russet         1   lbs   1.89  02/27/23  FoodMaxx   \n",
       "21                   Carrot         1   lbs   0.69  02/27/23  FoodMaxx   \n",
       "22                 Cucumber         8    oz   0.79  02/27/23  FoodMaxx   \n",
       "23                  Avocado         5    oz   0.50  02/27/23  FoodMaxx   \n",
       "24         Lettuce, Romaine         1   lbs   3.49  02/27/23  FoodMaxx   \n",
       "25                Mushrooms         8    oz   2.99  02/27/23  FoodMaxx   \n",
       "26                  Spinach         8    oz   2.49  02/27/23  FoodMaxx   \n",
       "27              Rice, White         2   lbs   4.59  02/27/23  FoodMaxx   \n",
       "28          Tortillas, corn        30    oz   2.79  02/27/23  FoodMaxx   \n",
       "29             Oats, rolled        42    oz   3.99  02/27/23  FoodMaxx   \n",
       "30    Soy milk, unsweetened        32    oz   2.69  02/27/23  FoodMaxx   \n",
       "31    Peanut butter, creamy        16    oz   2.79  02/27/23  FoodMaxx   \n",
       "32              Rice, Brown        28    oz   2.99  02/27/23  FoodMaxx   \n",
       "33           Spaghetti, dry         1   lbs   1.69  02/27/23  FoodMaxx   \n",
       "\n",
       "        FDC  \n",
       "0   1105073  \n",
       "1   1750341  \n",
       "2    746771  \n",
       "3   2346411  \n",
       "4   2346410  \n",
       "5   2346413  \n",
       "6    167762  \n",
       "7    174284  \n",
       "8    173788  \n",
       "9    172428  \n",
       "10   173800  \n",
       "11   168874  \n",
       "12   174289  \n",
       "13   175238  \n",
       "14  1999634  \n",
       "15   539572  \n",
       "16  1103116  \n",
       "17  2346400  \n",
       "18   790646  \n",
       "19  2346405  \n",
       "20  2060240  \n",
       "21  1103193  \n",
       "22  2346406  \n",
       "23   815990  \n",
       "24   169247  \n",
       "25  1999629  \n",
       "26  1999632  \n",
       "27   168931  \n",
       "28   167535  \n",
       "29  2346396  \n",
       "30  1999630  \n",
       "31  2262072  \n",
       "32   169706  \n",
       "33   168927  "
      ]
     },
     "execution_count": 119,
     "metadata": {},
     "output_type": "execute_result"
    }
   ],
   "source": [
    "import pandas as pd\n",
    "from eep153_tools.sheets import read_sheets\n",
    "\n",
    "foodmaxxdf = read_sheets('https://docs.google.com/spreadsheets/d/1dZW1_vvjZwcAfxfHiAkjqrLEpFbFsZ4s7_MzTG6Ezu0/edit#gid=0',sheet='Food Max')\n",
    "foodmaxxdf"
   ]
  },
  {
   "cell_type": "markdown",
   "metadata": {},
   "source": [
    "## Target Price List\n"
   ]
  },
  {
   "cell_type": "code",
   "execution_count": 120,
   "metadata": {},
   "outputs": [
    {
     "name": "stdout",
     "output_type": "stream",
     "text": [
      "Key available for students@eep153.iam.gserviceaccount.com.\n"
     ]
    },
    {
     "data": {
      "text/html": [
       "<div>\n",
       "<style scoped>\n",
       "    .dataframe tbody tr th:only-of-type {\n",
       "        vertical-align: middle;\n",
       "    }\n",
       "\n",
       "    .dataframe tbody tr th {\n",
       "        vertical-align: top;\n",
       "    }\n",
       "\n",
       "    .dataframe thead th {\n",
       "        text-align: right;\n",
       "    }\n",
       "</style>\n",
       "<table border=\"1\" class=\"dataframe\">\n",
       "  <thead>\n",
       "    <tr style=\"text-align: right;\">\n",
       "      <th></th>\n",
       "      <th>Food</th>\n",
       "      <th>Quantity</th>\n",
       "      <th>Units</th>\n",
       "      <th>Price</th>\n",
       "      <th>Date</th>\n",
       "      <th>Location</th>\n",
       "      <th>FDC</th>\n",
       "      <th>notes</th>\n",
       "    </tr>\n",
       "  </thead>\n",
       "  <tbody>\n",
       "    <tr>\n",
       "      <th>0</th>\n",
       "      <td>Banana,raw</td>\n",
       "      <td>2.00</td>\n",
       "      <td>lbs</td>\n",
       "      <td>1.99</td>\n",
       "      <td>02/27/23</td>\n",
       "      <td>Target</td>\n",
       "      <td>1105314</td>\n",
       "      <td>organic</td>\n",
       "    </tr>\n",
       "    <tr>\n",
       "      <th>1</th>\n",
       "      <td>Apple, Gala</td>\n",
       "      <td>0.66</td>\n",
       "      <td>lbs</td>\n",
       "      <td>5.99</td>\n",
       "      <td>02/27/23</td>\n",
       "      <td>Target</td>\n",
       "      <td>1750341</td>\n",
       "      <td>organic</td>\n",
       "    </tr>\n",
       "    <tr>\n",
       "      <th>2</th>\n",
       "      <td>Oranges, Navel</td>\n",
       "      <td>4.00</td>\n",
       "      <td>lbs</td>\n",
       "      <td>5.99</td>\n",
       "      <td>02/27/23</td>\n",
       "      <td>Target</td>\n",
       "      <td>746771</td>\n",
       "      <td></td>\n",
       "    </tr>\n",
       "    <tr>\n",
       "      <th>3</th>\n",
       "      <td>Blueberries</td>\n",
       "      <td>11.20</td>\n",
       "      <td>oz</td>\n",
       "      <td>3.59</td>\n",
       "      <td>02/27/23</td>\n",
       "      <td>Target</td>\n",
       "      <td>2346411</td>\n",
       "      <td></td>\n",
       "    </tr>\n",
       "    <tr>\n",
       "      <th>4</th>\n",
       "      <td>Raspberries</td>\n",
       "      <td>12.00</td>\n",
       "      <td>oz</td>\n",
       "      <td>8.29</td>\n",
       "      <td>02/27/23</td>\n",
       "      <td>Target</td>\n",
       "      <td>2346410</td>\n",
       "      <td></td>\n",
       "    </tr>\n",
       "    <tr>\n",
       "      <th>5</th>\n",
       "      <td>Grapes, green, seedless</td>\n",
       "      <td>1.50</td>\n",
       "      <td>lb</td>\n",
       "      <td>4.29</td>\n",
       "      <td>02/27/23</td>\n",
       "      <td>Target</td>\n",
       "      <td>2346413</td>\n",
       "      <td></td>\n",
       "    </tr>\n",
       "    <tr>\n",
       "      <th>6</th>\n",
       "      <td>Strawberries</td>\n",
       "      <td>1.00</td>\n",
       "      <td>lb</td>\n",
       "      <td>3.49</td>\n",
       "      <td>02/27/23</td>\n",
       "      <td>Target</td>\n",
       "      <td>167762</td>\n",
       "      <td></td>\n",
       "    </tr>\n",
       "    <tr>\n",
       "      <th>7</th>\n",
       "      <td>Lentils, red</td>\n",
       "      <td>1.00</td>\n",
       "      <td>lb</td>\n",
       "      <td>1.59</td>\n",
       "      <td>02/27/23</td>\n",
       "      <td>Target</td>\n",
       "      <td>174284</td>\n",
       "      <td>green</td>\n",
       "    </tr>\n",
       "    <tr>\n",
       "      <th>8</th>\n",
       "      <td>Tofu</td>\n",
       "      <td>14.00</td>\n",
       "      <td>oz</td>\n",
       "      <td>3.29</td>\n",
       "      <td>02/27/23</td>\n",
       "      <td>Target</td>\n",
       "      <td>173788</td>\n",
       "      <td></td>\n",
       "    </tr>\n",
       "    <tr>\n",
       "      <th>9</th>\n",
       "      <td>Split peas, dry</td>\n",
       "      <td>1.00</td>\n",
       "      <td>lb</td>\n",
       "      <td>1.39</td>\n",
       "      <td>02/27/23</td>\n",
       "      <td>Target</td>\n",
       "      <td>172428</td>\n",
       "      <td></td>\n",
       "    </tr>\n",
       "    <tr>\n",
       "      <th>10</th>\n",
       "      <td>Chickpeas, canned</td>\n",
       "      <td>15.50</td>\n",
       "      <td>oz</td>\n",
       "      <td>0.85</td>\n",
       "      <td>02/27/23</td>\n",
       "      <td>Target</td>\n",
       "      <td>173800</td>\n",
       "      <td></td>\n",
       "    </tr>\n",
       "    <tr>\n",
       "      <th>11</th>\n",
       "      <td>Quinoa, dry</td>\n",
       "      <td>48.00</td>\n",
       "      <td>oz</td>\n",
       "      <td>9.69</td>\n",
       "      <td>02/27/23</td>\n",
       "      <td>Target</td>\n",
       "      <td>168874</td>\n",
       "      <td>organic</td>\n",
       "    </tr>\n",
       "    <tr>\n",
       "      <th>12</th>\n",
       "      <td>Hummus</td>\n",
       "      <td>10.00</td>\n",
       "      <td>oz</td>\n",
       "      <td>3.49</td>\n",
       "      <td>02/27/23</td>\n",
       "      <td>Target</td>\n",
       "      <td>174289</td>\n",
       "      <td></td>\n",
       "    </tr>\n",
       "    <tr>\n",
       "      <th>13</th>\n",
       "      <td>Black beans, canned</td>\n",
       "      <td>15.50</td>\n",
       "      <td>oz</td>\n",
       "      <td>0.85</td>\n",
       "      <td>02/27/23</td>\n",
       "      <td>Target</td>\n",
       "      <td>175238</td>\n",
       "      <td></td>\n",
       "    </tr>\n",
       "    <tr>\n",
       "      <th>14</th>\n",
       "      <td>Tomato, Roma</td>\n",
       "      <td>16.00</td>\n",
       "      <td>oz</td>\n",
       "      <td>1.99</td>\n",
       "      <td>02/27/23</td>\n",
       "      <td>Target</td>\n",
       "      <td>1999634</td>\n",
       "      <td></td>\n",
       "    </tr>\n",
       "    <tr>\n",
       "      <th>15</th>\n",
       "      <td>Broccoli</td>\n",
       "      <td>12.00</td>\n",
       "      <td>oz</td>\n",
       "      <td>2.99</td>\n",
       "      <td>02/27/23</td>\n",
       "      <td>Target</td>\n",
       "      <td>539572</td>\n",
       "      <td></td>\n",
       "    </tr>\n",
       "    <tr>\n",
       "      <th>16</th>\n",
       "      <td>Kale</td>\n",
       "      <td>16.00</td>\n",
       "      <td>oz</td>\n",
       "      <td>3.49</td>\n",
       "      <td>02/27/23</td>\n",
       "      <td>Target</td>\n",
       "      <td>1103116</td>\n",
       "      <td></td>\n",
       "    </tr>\n",
       "    <tr>\n",
       "      <th>17</th>\n",
       "      <td>Green beans, raw</td>\n",
       "      <td>12.00</td>\n",
       "      <td>oz</td>\n",
       "      <td>2.99</td>\n",
       "      <td>02/27/23</td>\n",
       "      <td>Target</td>\n",
       "      <td>2346400</td>\n",
       "      <td></td>\n",
       "    </tr>\n",
       "    <tr>\n",
       "      <th>18</th>\n",
       "      <td>Onions, yellow</td>\n",
       "      <td>2.00</td>\n",
       "      <td>lb</td>\n",
       "      <td>3.49</td>\n",
       "      <td>02/27/23</td>\n",
       "      <td>Target</td>\n",
       "      <td>790646</td>\n",
       "      <td></td>\n",
       "    </tr>\n",
       "    <tr>\n",
       "      <th>19</th>\n",
       "      <td>Celery</td>\n",
       "      <td>20.00</td>\n",
       "      <td>oz</td>\n",
       "      <td>3.19</td>\n",
       "      <td>02/27/23</td>\n",
       "      <td>Target</td>\n",
       "      <td>2346405</td>\n",
       "      <td></td>\n",
       "    </tr>\n",
       "    <tr>\n",
       "      <th>20</th>\n",
       "      <td>Potato, Russet</td>\n",
       "      <td>5.00</td>\n",
       "      <td>lb</td>\n",
       "      <td>4.39</td>\n",
       "      <td>02/27/23</td>\n",
       "      <td>Target</td>\n",
       "      <td>2060240</td>\n",
       "      <td></td>\n",
       "    </tr>\n",
       "    <tr>\n",
       "      <th>21</th>\n",
       "      <td>Carrot</td>\n",
       "      <td>1.00</td>\n",
       "      <td>lb</td>\n",
       "      <td>1.29</td>\n",
       "      <td>02/27/23</td>\n",
       "      <td>Target</td>\n",
       "      <td>170393</td>\n",
       "      <td></td>\n",
       "    </tr>\n",
       "    <tr>\n",
       "      <th>22</th>\n",
       "      <td>Cucumber</td>\n",
       "      <td>16.00</td>\n",
       "      <td>oz</td>\n",
       "      <td>2.69</td>\n",
       "      <td>02/27/23</td>\n",
       "      <td>Target</td>\n",
       "      <td>2346406</td>\n",
       "      <td></td>\n",
       "    </tr>\n",
       "    <tr>\n",
       "      <th>23</th>\n",
       "      <td>Avocado</td>\n",
       "      <td>32.00</td>\n",
       "      <td>oz</td>\n",
       "      <td>3.29</td>\n",
       "      <td>02/27/23</td>\n",
       "      <td>Target</td>\n",
       "      <td>171705</td>\n",
       "      <td></td>\n",
       "    </tr>\n",
       "    <tr>\n",
       "      <th>24</th>\n",
       "      <td>Lettuce, Romaine</td>\n",
       "      <td>22.00</td>\n",
       "      <td>oz</td>\n",
       "      <td>4.29</td>\n",
       "      <td>02/27/23</td>\n",
       "      <td>Target</td>\n",
       "      <td>169247</td>\n",
       "      <td></td>\n",
       "    </tr>\n",
       "    <tr>\n",
       "      <th>25</th>\n",
       "      <td>Mushrooms</td>\n",
       "      <td>8.00</td>\n",
       "      <td>oz</td>\n",
       "      <td>2.19</td>\n",
       "      <td>02/27/23</td>\n",
       "      <td>Target</td>\n",
       "      <td>1999629</td>\n",
       "      <td></td>\n",
       "    </tr>\n",
       "    <tr>\n",
       "      <th>26</th>\n",
       "      <td>Spinach</td>\n",
       "      <td>9.00</td>\n",
       "      <td>oz</td>\n",
       "      <td>2.29</td>\n",
       "      <td>02/27/23</td>\n",
       "      <td>Target</td>\n",
       "      <td>1999632</td>\n",
       "      <td></td>\n",
       "    </tr>\n",
       "    <tr>\n",
       "      <th>27</th>\n",
       "      <td>Rice, White</td>\n",
       "      <td>32.00</td>\n",
       "      <td>oz</td>\n",
       "      <td>2.19</td>\n",
       "      <td>02/27/23</td>\n",
       "      <td>Target</td>\n",
       "      <td>168931</td>\n",
       "      <td></td>\n",
       "    </tr>\n",
       "    <tr>\n",
       "      <th>28</th>\n",
       "      <td>Tortillas, corn</td>\n",
       "      <td>25.00</td>\n",
       "      <td>oz</td>\n",
       "      <td>2.99</td>\n",
       "      <td>02/27/23</td>\n",
       "      <td>Target</td>\n",
       "      <td>167535</td>\n",
       "      <td></td>\n",
       "    </tr>\n",
       "    <tr>\n",
       "      <th>29</th>\n",
       "      <td>Oats, rolled</td>\n",
       "      <td>42.00</td>\n",
       "      <td>oz</td>\n",
       "      <td>4.19</td>\n",
       "      <td>02/27/23</td>\n",
       "      <td>Target</td>\n",
       "      <td>2346396</td>\n",
       "      <td></td>\n",
       "    </tr>\n",
       "    <tr>\n",
       "      <th>30</th>\n",
       "      <td>Soy milk, unsweetened</td>\n",
       "      <td>64.00</td>\n",
       "      <td>oz</td>\n",
       "      <td>3.99</td>\n",
       "      <td>02/27/23</td>\n",
       "      <td>Target</td>\n",
       "      <td>1999630</td>\n",
       "      <td></td>\n",
       "    </tr>\n",
       "    <tr>\n",
       "      <th>31</th>\n",
       "      <td>Peanut butter, creamy</td>\n",
       "      <td>16.00</td>\n",
       "      <td>oz</td>\n",
       "      <td>1.79</td>\n",
       "      <td>02/27/23</td>\n",
       "      <td>Target</td>\n",
       "      <td>2262072</td>\n",
       "      <td></td>\n",
       "    </tr>\n",
       "    <tr>\n",
       "      <th>32</th>\n",
       "      <td>Rice, Brown</td>\n",
       "      <td>1.00</td>\n",
       "      <td>lb</td>\n",
       "      <td>1.19</td>\n",
       "      <td>02/27/23</td>\n",
       "      <td>Target</td>\n",
       "      <td>169706</td>\n",
       "      <td></td>\n",
       "    </tr>\n",
       "    <tr>\n",
       "      <th>33</th>\n",
       "      <td>Spaghetti, dry</td>\n",
       "      <td>16.00</td>\n",
       "      <td>oz</td>\n",
       "      <td>0.99</td>\n",
       "      <td>02/27/23</td>\n",
       "      <td>Target</td>\n",
       "      <td>168927</td>\n",
       "      <td></td>\n",
       "    </tr>\n",
       "  </tbody>\n",
       "</table>\n",
       "</div>"
      ],
      "text/plain": [
       "                       Food  Quantity Units  Price      Date Location  \\\n",
       "0                Banana,raw      2.00   lbs   1.99  02/27/23   Target   \n",
       "1               Apple, Gala      0.66   lbs   5.99  02/27/23   Target   \n",
       "2            Oranges, Navel      4.00   lbs   5.99  02/27/23   Target   \n",
       "3               Blueberries     11.20    oz   3.59  02/27/23   Target   \n",
       "4               Raspberries     12.00    oz   8.29  02/27/23   Target   \n",
       "5   Grapes, green, seedless      1.50    lb   4.29  02/27/23   Target   \n",
       "6              Strawberries      1.00    lb   3.49  02/27/23   Target   \n",
       "7              Lentils, red      1.00    lb   1.59  02/27/23   Target   \n",
       "8                      Tofu     14.00    oz   3.29  02/27/23   Target   \n",
       "9           Split peas, dry      1.00    lb   1.39  02/27/23   Target   \n",
       "10        Chickpeas, canned     15.50    oz   0.85  02/27/23   Target   \n",
       "11              Quinoa, dry     48.00    oz   9.69  02/27/23   Target   \n",
       "12                   Hummus     10.00    oz   3.49  02/27/23   Target   \n",
       "13      Black beans, canned     15.50    oz   0.85  02/27/23   Target   \n",
       "14             Tomato, Roma     16.00    oz   1.99  02/27/23   Target   \n",
       "15                 Broccoli     12.00    oz   2.99  02/27/23   Target   \n",
       "16                     Kale     16.00    oz   3.49  02/27/23   Target   \n",
       "17         Green beans, raw     12.00    oz   2.99  02/27/23   Target   \n",
       "18           Onions, yellow      2.00    lb   3.49  02/27/23   Target   \n",
       "19                   Celery     20.00    oz   3.19  02/27/23   Target   \n",
       "20           Potato, Russet      5.00    lb   4.39  02/27/23   Target   \n",
       "21                   Carrot      1.00    lb   1.29  02/27/23   Target   \n",
       "22                 Cucumber     16.00    oz   2.69  02/27/23   Target   \n",
       "23                  Avocado     32.00    oz   3.29  02/27/23   Target   \n",
       "24         Lettuce, Romaine     22.00    oz   4.29  02/27/23   Target   \n",
       "25                Mushrooms      8.00    oz   2.19  02/27/23   Target   \n",
       "26                  Spinach      9.00    oz   2.29  02/27/23   Target   \n",
       "27              Rice, White     32.00    oz   2.19  02/27/23   Target   \n",
       "28          Tortillas, corn     25.00    oz   2.99  02/27/23   Target   \n",
       "29             Oats, rolled     42.00    oz   4.19  02/27/23   Target   \n",
       "30    Soy milk, unsweetened     64.00    oz   3.99  02/27/23   Target   \n",
       "31    Peanut butter, creamy     16.00    oz   1.79  02/27/23   Target   \n",
       "32              Rice, Brown      1.00    lb   1.19  02/27/23   Target   \n",
       "33           Spaghetti, dry     16.00    oz   0.99  02/27/23   Target   \n",
       "\n",
       "        FDC    notes  \n",
       "0   1105314  organic  \n",
       "1   1750341  organic  \n",
       "2    746771           \n",
       "3   2346411           \n",
       "4   2346410           \n",
       "5   2346413           \n",
       "6    167762           \n",
       "7    174284    green  \n",
       "8    173788           \n",
       "9    172428           \n",
       "10   173800           \n",
       "11   168874  organic  \n",
       "12   174289           \n",
       "13   175238           \n",
       "14  1999634           \n",
       "15   539572           \n",
       "16  1103116           \n",
       "17  2346400           \n",
       "18   790646           \n",
       "19  2346405           \n",
       "20  2060240           \n",
       "21   170393           \n",
       "22  2346406           \n",
       "23   171705           \n",
       "24   169247           \n",
       "25  1999629           \n",
       "26  1999632           \n",
       "27   168931           \n",
       "28   167535           \n",
       "29  2346396           \n",
       "30  1999630           \n",
       "31  2262072           \n",
       "32   169706           \n",
       "33   168927           "
      ]
     },
     "execution_count": 120,
     "metadata": {},
     "output_type": "execute_result"
    }
   ],
   "source": [
    "import pandas as pd\n",
    "from eep153_tools.sheets import read_sheets\n",
    "\n",
    "targetdf = read_sheets('https://docs.google.com/spreadsheets/d/1dZW1_vvjZwcAfxfHiAkjqrLEpFbFsZ4s7_MzTG6Ezu0/edit#gid=0',sheet='Target')\n",
    "targetdf"
   ]
  },
  {
   "cell_type": "markdown",
   "metadata": {},
   "source": [
    "### Look up nutritional information for foods\n",
    "\n"
   ]
  },
  {
   "cell_type": "markdown",
   "metadata": {},
   "source": [
    "Now we have a list of foods with prices.  Do lookups on USDA database\n",
    "to get nutritional information.\n",
    "\n"
   ]
  },
  {
   "cell_type": "code",
   "execution_count": 121,
   "metadata": {},
   "outputs": [
    {
     "data": {
      "text/html": [
       "<div>\n",
       "<style scoped>\n",
       "    .dataframe tbody tr th:only-of-type {\n",
       "        vertical-align: middle;\n",
       "    }\n",
       "\n",
       "    .dataframe tbody tr th {\n",
       "        vertical-align: top;\n",
       "    }\n",
       "\n",
       "    .dataframe thead th {\n",
       "        text-align: right;\n",
       "    }\n",
       "</style>\n",
       "<table border=\"1\" class=\"dataframe\">\n",
       "  <thead>\n",
       "    <tr style=\"text-align: right;\">\n",
       "      <th></th>\n",
       "      <th>Banana,raw</th>\n",
       "      <th>Apple, Gala</th>\n",
       "      <th>Oranges, Navel</th>\n",
       "      <th>Blueberries</th>\n",
       "      <th>Raspberries</th>\n",
       "      <th>Grapes, green, seedless</th>\n",
       "      <th>Strawberries</th>\n",
       "      <th>Lentils, red</th>\n",
       "      <th>Tofu</th>\n",
       "      <th>Split peas, dry</th>\n",
       "      <th>...</th>\n",
       "      <th>Lettuce, Romaine</th>\n",
       "      <th>Mushrooms</th>\n",
       "      <th>Spinach</th>\n",
       "      <th>Rice, White</th>\n",
       "      <th>Tortillas, corn</th>\n",
       "      <th>Oats, rolled</th>\n",
       "      <th>Soy milk, unsweetened</th>\n",
       "      <th>Peanut butter, creamy</th>\n",
       "      <th>Rice, Brown</th>\n",
       "      <th>Spaghetti, dry</th>\n",
       "    </tr>\n",
       "  </thead>\n",
       "  <tbody>\n",
       "    <tr>\n",
       "      <th>Ergosta-5,7-dienol</th>\n",
       "      <td>0.0</td>\n",
       "      <td>0.0</td>\n",
       "      <td>0.000</td>\n",
       "      <td>0.0</td>\n",
       "      <td>0.0</td>\n",
       "      <td>0.0</td>\n",
       "      <td>0.000</td>\n",
       "      <td>0.000</td>\n",
       "      <td>0.0</td>\n",
       "      <td>0.000</td>\n",
       "      <td>...</td>\n",
       "      <td>0.000</td>\n",
       "      <td>5.841</td>\n",
       "      <td>0.0</td>\n",
       "      <td>0.000</td>\n",
       "      <td>0.000</td>\n",
       "      <td>0.0</td>\n",
       "      <td>0.0000</td>\n",
       "      <td>0.00</td>\n",
       "      <td>0.000</td>\n",
       "      <td>0.000</td>\n",
       "    </tr>\n",
       "    <tr>\n",
       "      <th>Ergosta-7,22-dienol</th>\n",
       "      <td>0.0</td>\n",
       "      <td>0.0</td>\n",
       "      <td>0.000</td>\n",
       "      <td>0.0</td>\n",
       "      <td>0.0</td>\n",
       "      <td>0.0</td>\n",
       "      <td>0.000</td>\n",
       "      <td>0.000</td>\n",
       "      <td>0.0</td>\n",
       "      <td>0.000</td>\n",
       "      <td>...</td>\n",
       "      <td>0.000</td>\n",
       "      <td>1.543</td>\n",
       "      <td>0.0</td>\n",
       "      <td>0.000</td>\n",
       "      <td>0.000</td>\n",
       "      <td>0.0</td>\n",
       "      <td>0.0000</td>\n",
       "      <td>0.00</td>\n",
       "      <td>0.000</td>\n",
       "      <td>0.000</td>\n",
       "    </tr>\n",
       "    <tr>\n",
       "      <th>Alanine</th>\n",
       "      <td>0.0</td>\n",
       "      <td>0.0</td>\n",
       "      <td>0.028</td>\n",
       "      <td>0.0</td>\n",
       "      <td>0.0</td>\n",
       "      <td>0.0</td>\n",
       "      <td>0.033</td>\n",
       "      <td>1.042</td>\n",
       "      <td>0.0</td>\n",
       "      <td>1.049</td>\n",
       "      <td>...</td>\n",
       "      <td>0.056</td>\n",
       "      <td>0.000</td>\n",
       "      <td>0.0</td>\n",
       "      <td>0.377</td>\n",
       "      <td>0.215</td>\n",
       "      <td>0.0</td>\n",
       "      <td>0.1394</td>\n",
       "      <td>1.16</td>\n",
       "      <td>0.437</td>\n",
       "      <td>0.438</td>\n",
       "    </tr>\n",
       "    <tr>\n",
       "      <th>Alcohol, ethyl</th>\n",
       "      <td>0.0</td>\n",
       "      <td>0.0</td>\n",
       "      <td>0.000</td>\n",
       "      <td>0.0</td>\n",
       "      <td>0.0</td>\n",
       "      <td>0.0</td>\n",
       "      <td>0.000</td>\n",
       "      <td>0.000</td>\n",
       "      <td>0.0</td>\n",
       "      <td>0.000</td>\n",
       "      <td>...</td>\n",
       "      <td>0.000</td>\n",
       "      <td>0.000</td>\n",
       "      <td>0.0</td>\n",
       "      <td>0.000</td>\n",
       "      <td>0.000</td>\n",
       "      <td>0.0</td>\n",
       "      <td>0.0000</td>\n",
       "      <td>0.00</td>\n",
       "      <td>0.000</td>\n",
       "      <td>0.000</td>\n",
       "    </tr>\n",
       "    <tr>\n",
       "      <th>Amino acids</th>\n",
       "      <td>0.0</td>\n",
       "      <td>0.0</td>\n",
       "      <td>0.000</td>\n",
       "      <td>0.0</td>\n",
       "      <td>0.0</td>\n",
       "      <td>0.0</td>\n",
       "      <td>0.000</td>\n",
       "      <td>0.000</td>\n",
       "      <td>0.0</td>\n",
       "      <td>0.000</td>\n",
       "      <td>...</td>\n",
       "      <td>0.000</td>\n",
       "      <td>0.000</td>\n",
       "      <td>0.0</td>\n",
       "      <td>0.000</td>\n",
       "      <td>0.000</td>\n",
       "      <td>0.0</td>\n",
       "      <td>0.0000</td>\n",
       "      <td>0.00</td>\n",
       "      <td>0.000</td>\n",
       "      <td>0.000</td>\n",
       "    </tr>\n",
       "    <tr>\n",
       "      <th>...</th>\n",
       "      <td>...</td>\n",
       "      <td>...</td>\n",
       "      <td>...</td>\n",
       "      <td>...</td>\n",
       "      <td>...</td>\n",
       "      <td>...</td>\n",
       "      <td>...</td>\n",
       "      <td>...</td>\n",
       "      <td>...</td>\n",
       "      <td>...</td>\n",
       "      <td>...</td>\n",
       "      <td>...</td>\n",
       "      <td>...</td>\n",
       "      <td>...</td>\n",
       "      <td>...</td>\n",
       "      <td>...</td>\n",
       "      <td>...</td>\n",
       "      <td>...</td>\n",
       "      <td>...</td>\n",
       "      <td>...</td>\n",
       "      <td>...</td>\n",
       "    </tr>\n",
       "    <tr>\n",
       "      <th>cis-Lutein/Zeaxanthin</th>\n",
       "      <td>0.0</td>\n",
       "      <td>0.0</td>\n",
       "      <td>0.000</td>\n",
       "      <td>0.0</td>\n",
       "      <td>0.0</td>\n",
       "      <td>0.0</td>\n",
       "      <td>0.000</td>\n",
       "      <td>0.000</td>\n",
       "      <td>0.0</td>\n",
       "      <td>0.000</td>\n",
       "      <td>...</td>\n",
       "      <td>0.000</td>\n",
       "      <td>0.000</td>\n",
       "      <td>0.0</td>\n",
       "      <td>0.000</td>\n",
       "      <td>0.000</td>\n",
       "      <td>0.0</td>\n",
       "      <td>0.9655</td>\n",
       "      <td>0.00</td>\n",
       "      <td>0.000</td>\n",
       "      <td>0.000</td>\n",
       "    </tr>\n",
       "    <tr>\n",
       "      <th>cis-Lycopene</th>\n",
       "      <td>0.0</td>\n",
       "      <td>0.0</td>\n",
       "      <td>0.000</td>\n",
       "      <td>0.0</td>\n",
       "      <td>0.0</td>\n",
       "      <td>0.0</td>\n",
       "      <td>0.000</td>\n",
       "      <td>0.000</td>\n",
       "      <td>0.0</td>\n",
       "      <td>0.000</td>\n",
       "      <td>...</td>\n",
       "      <td>0.000</td>\n",
       "      <td>0.000</td>\n",
       "      <td>0.0</td>\n",
       "      <td>0.000</td>\n",
       "      <td>0.000</td>\n",
       "      <td>0.0</td>\n",
       "      <td>0.0000</td>\n",
       "      <td>0.00</td>\n",
       "      <td>0.000</td>\n",
       "      <td>0.000</td>\n",
       "    </tr>\n",
       "    <tr>\n",
       "      <th>cis-beta-Carotene</th>\n",
       "      <td>1.0</td>\n",
       "      <td>0.0</td>\n",
       "      <td>0.000</td>\n",
       "      <td>0.0</td>\n",
       "      <td>0.0</td>\n",
       "      <td>0.0</td>\n",
       "      <td>0.000</td>\n",
       "      <td>0.000</td>\n",
       "      <td>0.0</td>\n",
       "      <td>0.000</td>\n",
       "      <td>...</td>\n",
       "      <td>0.000</td>\n",
       "      <td>0.000</td>\n",
       "      <td>0.0</td>\n",
       "      <td>0.000</td>\n",
       "      <td>0.000</td>\n",
       "      <td>0.0</td>\n",
       "      <td>0.0000</td>\n",
       "      <td>0.00</td>\n",
       "      <td>0.000</td>\n",
       "      <td>0.000</td>\n",
       "    </tr>\n",
       "    <tr>\n",
       "      <th>trans-Lycopene</th>\n",
       "      <td>0.0</td>\n",
       "      <td>0.0</td>\n",
       "      <td>0.000</td>\n",
       "      <td>0.0</td>\n",
       "      <td>0.0</td>\n",
       "      <td>0.0</td>\n",
       "      <td>0.000</td>\n",
       "      <td>0.000</td>\n",
       "      <td>0.0</td>\n",
       "      <td>0.000</td>\n",
       "      <td>...</td>\n",
       "      <td>0.000</td>\n",
       "      <td>0.000</td>\n",
       "      <td>0.0</td>\n",
       "      <td>0.000</td>\n",
       "      <td>0.000</td>\n",
       "      <td>0.0</td>\n",
       "      <td>0.0000</td>\n",
       "      <td>0.00</td>\n",
       "      <td>0.000</td>\n",
       "      <td>0.000</td>\n",
       "    </tr>\n",
       "    <tr>\n",
       "      <th>trans-beta-Carotene</th>\n",
       "      <td>7.0</td>\n",
       "      <td>0.0</td>\n",
       "      <td>0.000</td>\n",
       "      <td>0.0</td>\n",
       "      <td>0.0</td>\n",
       "      <td>0.0</td>\n",
       "      <td>0.000</td>\n",
       "      <td>0.000</td>\n",
       "      <td>0.0</td>\n",
       "      <td>0.000</td>\n",
       "      <td>...</td>\n",
       "      <td>0.000</td>\n",
       "      <td>0.000</td>\n",
       "      <td>0.0</td>\n",
       "      <td>0.000</td>\n",
       "      <td>0.000</td>\n",
       "      <td>0.0</td>\n",
       "      <td>0.0000</td>\n",
       "      <td>0.00</td>\n",
       "      <td>0.000</td>\n",
       "      <td>0.000</td>\n",
       "    </tr>\n",
       "  </tbody>\n",
       "</table>\n",
       "<p>227 rows × 34 columns</p>\n",
       "</div>"
      ],
      "text/plain": [
       "                        Banana,raw  Apple, Gala  Oranges, Navel  Blueberries  \\\n",
       " Ergosta-5,7-dienol            0.0          0.0           0.000          0.0   \n",
       " Ergosta-7,22-dienol           0.0          0.0           0.000          0.0   \n",
       "Alanine                        0.0          0.0           0.028          0.0   \n",
       "Alcohol, ethyl                 0.0          0.0           0.000          0.0   \n",
       "Amino acids                    0.0          0.0           0.000          0.0   \n",
       "...                            ...          ...             ...          ...   \n",
       "cis-Lutein/Zeaxanthin          0.0          0.0           0.000          0.0   \n",
       "cis-Lycopene                   0.0          0.0           0.000          0.0   \n",
       "cis-beta-Carotene              1.0          0.0           0.000          0.0   \n",
       "trans-Lycopene                 0.0          0.0           0.000          0.0   \n",
       "trans-beta-Carotene            7.0          0.0           0.000          0.0   \n",
       "\n",
       "                       Raspberries  Grapes, green, seedless  Strawberries  \\\n",
       " Ergosta-5,7-dienol            0.0                      0.0         0.000   \n",
       " Ergosta-7,22-dienol           0.0                      0.0         0.000   \n",
       "Alanine                        0.0                      0.0         0.033   \n",
       "Alcohol, ethyl                 0.0                      0.0         0.000   \n",
       "Amino acids                    0.0                      0.0         0.000   \n",
       "...                            ...                      ...           ...   \n",
       "cis-Lutein/Zeaxanthin          0.0                      0.0         0.000   \n",
       "cis-Lycopene                   0.0                      0.0         0.000   \n",
       "cis-beta-Carotene              0.0                      0.0         0.000   \n",
       "trans-Lycopene                 0.0                      0.0         0.000   \n",
       "trans-beta-Carotene            0.0                      0.0         0.000   \n",
       "\n",
       "                       Lentils, red  Tofu  Split peas, dry  ...  \\\n",
       " Ergosta-5,7-dienol           0.000   0.0            0.000  ...   \n",
       " Ergosta-7,22-dienol          0.000   0.0            0.000  ...   \n",
       "Alanine                       1.042   0.0            1.049  ...   \n",
       "Alcohol, ethyl                0.000   0.0            0.000  ...   \n",
       "Amino acids                   0.000   0.0            0.000  ...   \n",
       "...                             ...   ...              ...  ...   \n",
       "cis-Lutein/Zeaxanthin         0.000   0.0            0.000  ...   \n",
       "cis-Lycopene                  0.000   0.0            0.000  ...   \n",
       "cis-beta-Carotene             0.000   0.0            0.000  ...   \n",
       "trans-Lycopene                0.000   0.0            0.000  ...   \n",
       "trans-beta-Carotene           0.000   0.0            0.000  ...   \n",
       "\n",
       "                       Lettuce, Romaine  Mushrooms  Spinach  Rice, White  \\\n",
       " Ergosta-5,7-dienol               0.000      5.841      0.0        0.000   \n",
       " Ergosta-7,22-dienol              0.000      1.543      0.0        0.000   \n",
       "Alanine                           0.056      0.000      0.0        0.377   \n",
       "Alcohol, ethyl                    0.000      0.000      0.0        0.000   \n",
       "Amino acids                       0.000      0.000      0.0        0.000   \n",
       "...                                 ...        ...      ...          ...   \n",
       "cis-Lutein/Zeaxanthin             0.000      0.000      0.0        0.000   \n",
       "cis-Lycopene                      0.000      0.000      0.0        0.000   \n",
       "cis-beta-Carotene                 0.000      0.000      0.0        0.000   \n",
       "trans-Lycopene                    0.000      0.000      0.0        0.000   \n",
       "trans-beta-Carotene               0.000      0.000      0.0        0.000   \n",
       "\n",
       "                       Tortillas, corn  Oats, rolled  Soy milk, unsweetened  \\\n",
       " Ergosta-5,7-dienol              0.000           0.0                 0.0000   \n",
       " Ergosta-7,22-dienol             0.000           0.0                 0.0000   \n",
       "Alanine                          0.215           0.0                 0.1394   \n",
       "Alcohol, ethyl                   0.000           0.0                 0.0000   \n",
       "Amino acids                      0.000           0.0                 0.0000   \n",
       "...                                ...           ...                    ...   \n",
       "cis-Lutein/Zeaxanthin            0.000           0.0                 0.9655   \n",
       "cis-Lycopene                     0.000           0.0                 0.0000   \n",
       "cis-beta-Carotene                0.000           0.0                 0.0000   \n",
       "trans-Lycopene                   0.000           0.0                 0.0000   \n",
       "trans-beta-Carotene              0.000           0.0                 0.0000   \n",
       "\n",
       "                       Peanut butter, creamy  Rice, Brown  Spaghetti, dry  \n",
       " Ergosta-5,7-dienol                     0.00        0.000           0.000  \n",
       " Ergosta-7,22-dienol                    0.00        0.000           0.000  \n",
       "Alanine                                 1.16        0.437           0.438  \n",
       "Alcohol, ethyl                          0.00        0.000           0.000  \n",
       "Amino acids                             0.00        0.000           0.000  \n",
       "...                                      ...          ...             ...  \n",
       "cis-Lutein/Zeaxanthin                   0.00        0.000           0.000  \n",
       "cis-Lycopene                            0.00        0.000           0.000  \n",
       "cis-beta-Carotene                       0.00        0.000           0.000  \n",
       "trans-Lycopene                          0.00        0.000           0.000  \n",
       "trans-beta-Carotene                     0.00        0.000           0.000  \n",
       "\n",
       "[227 rows x 34 columns]"
      ]
     },
     "execution_count": 121,
     "metadata": {},
     "output_type": "execute_result"
    }
   ],
   "source": [
    "import fooddatacentral as fdc\n",
    "import warnings\n",
    "\n",
    "D = {}\n",
    "count = 0\n",
    "for food in  df.Food.tolist():\n",
    "    try:\n",
    "        FDC = df.loc[df.Food==food,:].FDC[count]\n",
    "        count+=1\n",
    "        D[food] = fdc.nutrients(apikey,FDC).Quantity\n",
    "    except AttributeError: \n",
    "        warnings.warn(\"Couldn't find FDC Code %s for food %s.\" % (food,FDC))        \n",
    "\n",
    "FoodNutrients = pd.DataFrame(D,dtype=float)\n",
    "FoodNutrients = FoodNutrients.fillna(0)\n",
    "FoodNutrients"
   ]
  },
  {
   "cell_type": "markdown",
   "metadata": {},
   "source": [
    "## Units & Prices\n",
    "\n"
   ]
  },
  {
   "cell_type": "markdown",
   "metadata": {},
   "source": [
    "Now, the prices we observe can be for lots of different quantities and\n",
    "units.  The FDC database basically wants everything in either hundreds\n",
    "of grams (hectograms) or hundreds of milliliters (deciliters).  \n",
    "We use the `units` function to convert all foods to either\n",
    "deciliters or hectograms, to match FDC database:\n",
    "\n"
   ]
  },
  {
   "cell_type": "code",
   "execution_count": 122,
   "metadata": {},
   "outputs": [
    {
     "name": "stderr",
     "output_type": "stream",
     "text": [
      "/opt/conda/lib/python3.9/site-packages/pandas/core/dtypes/cast.py:1990: UnitStrippedWarning:\n",
      "\n",
      "The unit of the quantity is stripped when downcasting to ndarray.\n",
      "\n"
     ]
    },
    {
     "data": {
      "text/plain": [
       "Food\n",
       " Banana,raw                0.15833333333333335 / hectogram\n",
       "Apple, Gala                 0.8618070249045213 / hectogram\n",
       "Oranges, Navel              0.2711685824873994 / hectogram\n",
       "Blueberries                 1.4398189923056004 / hectogram\n",
       "Raspberries                 2.3457184696470974 / hectogram\n",
       "Grapes, green, seedless     0.6602844752437083 / hectogram\n",
       "Strawberries                0.8796444261176615 / hectogram\n",
       "Lentils, red                0.6582605491441835 / hectogram\n",
       "Tofu                        0.4251440677081007 / hectogram\n",
       "Split peas, dry             0.7907246470364275 / hectogram\n",
       "Chickpeas, canned             0.71047757368082 / hectogram\n",
       "Quinoa, dry                 0.8796444261176615 / hectogram\n",
       "Hummus                      0.8796444261176615 / hectogram\n",
       "Black beans, canned        0.24805560338737195 / hectogram\n",
       "Tomato, Roma                 0.659182163932784 / hectogram\n",
       "Broccoli                    0.7319347104537935 / hectogram\n",
       "Kale                        1.0546914622924541 / hectogram\n",
       "Green beans, raw           0.29247993449860427 / hectogram\n",
       "Onions, yellow              0.8121214495368513 / hectogram\n",
       "Celery                      0.6150897114958084 / hectogram\n",
       "Potato, Russet                           0.395 / hectogram\n",
       "Carrot                     0.21935995087395316 / hectogram\n",
       "Cucumber                    0.5489510328403452 / hectogram\n",
       "Avocado                     0.3919329105508934 / hectogram\n",
       "Lettuce, Romaine            1.7566433050891044 / hectogram\n",
       "Mushrooms                   1.9341889135686592 / hectogram\n",
       "Spinach                     0.7319347104537935 / hectogram\n",
       "Rice, White                0.21972738797759467 / hectogram\n",
       "Tortillas, corn             0.3791950909579894 / hectogram\n",
       "Oats, rolled                0.5859397012735857 / hectogram\n",
       "Soy milk, unsweetened       0.2744755164201726 / hectogram\n",
       "Peanut butter, creamy       0.5048585804033696 / hectogram\n",
       "Rice, Brown                0.36266042129412357 / hectogram\n",
       "Spaghetti, dry             0.21825763956302877 / hectogram\n",
       "Name: FDC Price, dtype: object"
      ]
     },
     "execution_count": 122,
     "metadata": {},
     "output_type": "execute_result"
    }
   ],
   "source": [
    "# Convert food quantities to FDC units\n",
    "df['FDC Quantity'] = df[['Quantity','Units']].T.apply(lambda x : fdc.units(x['Quantity'],x['Units']))\n",
    "\n",
    "# Now may want to filter df by time or place--need to get a unique set of food names.\n",
    "df['FDC Price'] = df['Price']/df['FDC Quantity']\n",
    "\n",
    "df.dropna(how='any') # Drop food with any missing data\n",
    "\n",
    "# To use minimum price observed\n",
    "Prices = df.groupby('Food',sort=False)['FDC Price'].min()\n",
    "Prices"
   ]
  },
  {
   "cell_type": "markdown",
   "metadata": {},
   "source": [
    "## Dietary Requirements\n",
    "\n"
   ]
  },
  {
   "cell_type": "markdown",
   "metadata": {},
   "source": [
    "Next, we will create a function that takes as arguments the characteristics of a person (e.g., age, sex, activity level) and returns a pandas.Series of Dietary Reference Intakes (DRI's) or \"Recommended Daily Allowances\" (RDA) of a variety of nutrients appropriate for our population of interest.\n",
    "\n",
    "Our data for this is based\n",
    "on  US government recommendations available at\n",
    "[https://www.dietaryguidelines.gov/sites/default/files/2021-03/Dietary_Guidelines_for_Americans-2020-2025.pdf](https://www.dietaryguidelines.gov/sites/default/files/2021-03/Dietary_Guidelines_for_Americans-2020-2025.pdf)\n",
    "\n",
    "These data have been put into a google sheets that we will access using the read_sheets function defined earlier. You can access the spreadsheet here: https://docs.google.com/spreadsheets/d/1swR8k5x6GaRZd5DvfDF55oeAZZvOC4edB3ofOKov8nE/edit#gid=188168169\n",
    "\n",
    "\n",
    "Note that we&rsquo;ve tweaked the nutrient labels to match those in the FDC\n",
    "data.\n",
    "\n",
    "Also note that the last two rows refer to the maximum requirements which involve multiplying the constraint by -1 to make <=.\n"
   ]
  },
  {
   "cell_type": "code",
   "execution_count": 123,
   "metadata": {},
   "outputs": [
    {
     "name": "stdout",
     "output_type": "stream",
     "text": [
      "Key available for students@eep153.iam.gserviceaccount.com.\n"
     ]
    }
   ],
   "source": [
    "RDIs = read_sheets('https://docs.google.com/spreadsheets/d/1swR8k5x6GaRZd5DvfDF55oeAZZvOC4edB3ofOKov8nE/edit#gid=188168169')\n",
    "def recommended_diet(age, sex, activity_level):\n",
    "    if activity_level == 'high' or activity_level == 'High':\n",
    "        if sex == 'Female' or sex == 'F':\n",
    "            if age in range(1,4):\n",
    "                agerange = '1-3'\n",
    "            if age in range(4,9):\n",
    "                agerange = '4-8'\n",
    "            if age in range(9,14):\n",
    "                agerange = '9-13'\n",
    "            if age in range(14,19):\n",
    "                agerange = '14-18'\n",
    "            if age in range(19,31):\n",
    "                agerange = '19-30'\n",
    "            if age in range(31,51):\n",
    "                agerange = '31-50'\n",
    "            if age in range(51,100000000):\n",
    "                agerange = '51+'\n",
    "            group = 'F ' + agerange\n",
    "        if sex == 'Male' or sex == 'M':\n",
    "            if age in range(1,4):\n",
    "                agerange = '1-3'\n",
    "            if age in range(4,9):\n",
    "                agerange = '4-8'\n",
    "            if age in range(9,14):\n",
    "                agerange = '9-13'\n",
    "            if age in range(14,19):\n",
    "                agerange = '14-18'\n",
    "            if age in range(19,31):\n",
    "                agerange = '19-30'\n",
    "            if age in range(31,51):\n",
    "                agerange = '31-50'\n",
    "            if age in range(51,100000000):\n",
    "                agerange = '51+'\n",
    "            group = 'M ' + agerange\n",
    "        bmin = RDIs['high_activity'].set_index('Nutrition')[[group]]\n",
    "        bmax = RDIs['high_max'].set_index('Nutrition')[[group]]\n",
    "    if activity_level == 'moderate' or activity_level == 'Moderate':\n",
    "        if sex == 'Female' or sex == 'F':\n",
    "            if age in range(1,4):\n",
    "                agerange = '1-3'\n",
    "            if age in range(4,9):\n",
    "                agerange = '4-8'\n",
    "            if age in range(9,14):\n",
    "                agerange = '9-13'\n",
    "            if age in range(14,19):\n",
    "                agerange = '14-18'\n",
    "            if age in range(19,31):\n",
    "                agerange = '19-30'\n",
    "            if age in range(31,51):\n",
    "                agerange = '31-50'\n",
    "            if age in range(51,100000000):\n",
    "                agerange = '51+'\n",
    "            group = 'F ' + agerange\n",
    "        if sex == 'Male' or sex == 'M':\n",
    "            if age in range(14,19):\n",
    "                agerange = '14-18'\n",
    "            if age in range(19,31):\n",
    "                agerange = '19-30'\n",
    "            if age in range(31,51):\n",
    "                agerange = '31-50'\n",
    "            if age in range(51,100000000):\n",
    "                agerange = '51+'\n",
    "            group = 'M ' + agerange\n",
    "        bmin = RDIs['moderate_activity'].set_index('Nutrition')[[group]]\n",
    "        bmax = RDIs['moderate_max'].set_index('Nutrition')[[group]]\n",
    "    b = pd.concat([bmin,-bmax])\n",
    "    return b.squeeze()"
   ]
  },
  {
   "cell_type": "markdown",
   "metadata": {},
   "source": [
    "Let's find our the recommended daily allowance of nutrient intake for a Male aged 52 years old with high activity levels. "
   ]
  },
  {
   "cell_type": "code",
   "execution_count": 124,
   "metadata": {},
   "outputs": [
    {
     "data": {
      "text/plain": [
       "Nutrition\n",
       "Energy                            2850.0\n",
       "Protein                             56.0\n",
       "Fiber, total dietary                30.8\n",
       "Folate, DFE                        400.0\n",
       "Calcium, Ca                       1000.0\n",
       "Carbohydrate, by difference        130.0\n",
       "Iron, Fe                             8.0\n",
       "Magnesium, Mg                      420.0\n",
       "Niacin                              16.0\n",
       "Phosphorus, P                      700.0\n",
       "Potassium, K                      4700.0\n",
       "Riboflavin                           1.3\n",
       "Thiamin                              1.2\n",
       "Vitamin A, RAE                     900.0\n",
       "Vitamin B-12                         2.4\n",
       "Vitamin B-6                          1.3\n",
       "Vitamin C, total ascorbic acid      90.0\n",
       "Vitamin E (alpha-tocopherol)        15.0\n",
       "Vitamin K (phylloquinone)          120.0\n",
       "Zinc, Zn                            11.0\n",
       "Sodium, Na                       -2300.0\n",
       "Energy                           -3500.0\n",
       "Name: M 31-50, dtype: float64"
      ]
     },
     "execution_count": 124,
     "metadata": {},
     "output_type": "execute_result"
    }
   ],
   "source": [
    "recommended = recommended_diet(50, 'M' , 'High')\n",
    "\n",
    "# Define *minimums*\n",
    "diet_min = recommended[:20]\n",
    "\n",
    "# Define *maximums*\n",
    "diet_max = recommended[20:]\n",
    "\n",
    "recommended\n"
   ]
  },
  {
   "cell_type": "markdown",
   "metadata": {},
   "source": [
    "For this code demonstration, we will use nutritional information based on high activity levels."
   ]
  },
  {
   "cell_type": "code",
   "execution_count": 125,
   "metadata": {},
   "outputs": [
    {
     "name": "stdout",
     "output_type": "stream",
     "text": [
      "Key available for students@eep153.iam.gserviceaccount.com.\n"
     ]
    }
   ],
   "source": [
    "from eep153_tools.sheets import read_sheets\n",
    "\n",
    "DRI_url = \"https://docs.google.com/spreadsheets/d/1swR8k5x6GaRZd5DvfDF55oeAZZvOC4edB3ofOKov8nE/edit#gid=188168169\"\n",
    "\n",
    "DRIs = read_sheets(DRI_url)\n",
    "\n",
    "# Define *minimums*\n",
    "diet_min = DRIs['moderate_activity'].set_index('Nutrition')\n",
    "\n",
    "# Define *maximums*\n",
    "diet_max = DRIs['moderate_max'].set_index('Nutrition')\n"
   ]
  },
  {
   "cell_type": "markdown",
   "metadata": {},
   "source": [
    "## Using `solve_subsistence_problem` to analyze diet\n",
    "\n"
   ]
  },
  {
   "cell_type": "markdown",
   "metadata": {},
   "source": [
    "Let&rsquo;s choose a particular group (type of person with particular\n",
    "dietary requirements) and solve the subsistence problem for them:\n",
    "\n"
   ]
  },
  {
   "cell_type": "code",
   "execution_count": 126,
   "metadata": {},
   "outputs": [
    {
     "name": "stdout",
     "output_type": "stream",
     "text": [
      "Cost of diet for F 19-30 is $4.69 per day.\n",
      "\n",
      "\n",
      "Diet (in 100s of grams or milliliters):\n",
      " Banana,raw              1.589644\n",
      "Oranges, Navel           0.338834\n",
      "Black beans, canned      5.381961\n",
      "Kale                     0.168344\n",
      "Carrot                   0.359735\n",
      "Avocado                  0.304517\n",
      "Tortillas, corn          0.158310\n",
      "Soy milk, unsweetened    6.105317\n",
      "Peanut butter, creamy    1.773057\n",
      "dtype: float64\n",
      "\n",
      "\n",
      "With the following nutritional outcomes of interest:\n",
      "                                    Outcome  Recommendation\n",
      "Nutrition                                                  \n",
      "Energy                          3229.221341          2100.0\n",
      "Protein                          100.833751            46.0\n",
      "Fiber, total dietary              55.844313            28.0\n",
      "Folate, DFE                      400.000002           400.0\n",
      "Calcium, Ca                     1000.000014          1000.0\n",
      "Carbohydrate, by difference      192.369320           130.0\n",
      "Iron, Fe                          18.000000            18.0\n",
      "Magnesium, Mg                    731.531214           310.0\n",
      "Niacin                            38.213151            14.0\n",
      "Phosphorus, P                   1811.717738           700.0\n",
      "Potassium, K                    4700.000010          4700.0\n",
      "Riboflavin                         1.314460             1.1\n",
      "Thiamin                            1.605426             1.1\n",
      "Vitamin A, RAE                   700.000709           700.0\n",
      "Vitamin B-12                       2.400000             2.4\n",
      "Vitamin B-6                        1.824062             1.3\n",
      "Vitamin C, total ascorbic acid    75.000001            75.0\n",
      "Vitamin E (alpha-tocopherol)      15.000000            15.0\n",
      "Vitamin K (phylloquinone)         90.000001            90.0\n",
      "Zinc, Zn                          10.967731             8.0\n",
      "Sodium, Na                      1499.705430          2300.0\n",
      "Energy                          3229.221341          3300.0\n",
      "\n",
      "\n",
      "Constraining nutrients are:\n",
      "['Folate, DFE', 'Calcium, Ca', 'Iron, Fe', 'Potassium, K', 'Vitamin B-12', 'Vitamin C, total ascorbic acid', 'Vitamin E (alpha-tocopherol)', 'Vitamin K (phylloquinone)']\n"
     ]
    }
   ],
   "source": [
    "group = 'F 19-30'\n",
    "tol = 1e-6\n",
    "\n",
    "result = solve_subsistence_problem(FoodNutrients,Prices,diet_min[group],diet_max[group],tol=tol)\n",
    "\n",
    "print(\"Cost of diet for %s is $%4.2f per day.\\n\" % (group,result.fun))\n",
    "\n",
    "# Put back into nice series\n",
    "diet = result.diet\n",
    "\n",
    "print(\"\\nDiet (in 100s of grams or milliliters):\")\n",
    "print(diet[diet >= tol])  # Drop items with quantities less than precision of calculation.\n",
    "print()\n",
    "\n",
    "tab = pd.DataFrame({\"Outcome\":np.abs(result.A).dot(diet),\"Recommendation\":np.abs(result.b)})\n",
    "print(\"\\nWith the following nutritional outcomes of interest:\")\n",
    "print(tab)\n",
    "print()\n",
    "\n",
    "print(\"\\nConstraining nutrients are:\")\n",
    "excess = tab.diff(axis=1).iloc[:,1]\n",
    "print(excess.loc[np.abs(excess) < tol*100].index.tolist())"
   ]
  },
  {
   "cell_type": "markdown",
   "metadata": {},
   "source": [
    "## Effects of Price Changes on Subsistence Diet Cost\n",
    "\n"
   ]
  },
  {
   "cell_type": "markdown",
   "metadata": {},
   "source": [
    "As prices change, we should expect the minimum cost diet to also\n",
    "  change.  The code below creates a graph which changes prices away\n",
    "  from the \\`base&rsquo; case one food at a time, and plots changes in total\n",
    "  diet cost.\n",
    "\n"
   ]
  },
  {
   "cell_type": "code",
   "execution_count": 127,
   "metadata": {},
   "outputs": [
    {
     "data": {
      "text/html": [
       "        <script type=\"text/javascript\">\n",
       "        window.PlotlyConfig = {MathJaxConfig: 'local'};\n",
       "        if (window.MathJax) {MathJax.Hub.Config({SVG: {font: \"STIX-Web\"}});}\n",
       "        if (typeof require !== 'undefined') {\n",
       "        require.undef(\"plotly\");\n",
       "        requirejs.config({\n",
       "            paths: {\n",
       "                'plotly': ['https://cdn.plot.ly/plotly-2.3.1.min']\n",
       "            }\n",
       "        });\n",
       "        require(['plotly'], function(Plotly) {\n",
       "            window._Plotly = Plotly;\n",
       "        });\n",
       "        }\n",
       "        </script>\n",
       "        "
      ]
     },
     "metadata": {},
     "output_type": "display_data"
    },
    {
     "data": {
      "application/vnd.plotly.v1+json": {
       "config": {
        "linkText": "Export to plot.ly",
        "plotlyServerURL": "https://plot.ly",
        "showLink": true
       },
       "data": [
        {
         "line": {
          "color": "rgba(255, 153, 51, 1.0)",
          "dash": "solid",
          "shape": "linear",
          "width": 1.3
         },
         "mode": "lines",
         "name": " Banana,raw",
         "text": "",
         "type": "scatter",
         "x": [
          -0.6931471805599453,
          -0.5108256237659907,
          -0.35667494393873245,
          -0.22314355131420968,
          -0.10536051565782628,
          0,
          0.09531017980432495,
          0.1823215567939546,
          0.26236426446749106,
          0.33647223662121284,
          0.4054651081081644
         ],
         "y": [
          -0.029652601479320476,
          -0.023397936367012876,
          -0.01718276360776043,
          -0.011005694385064877,
          -0.00538643139910236,
          0,
          0.004234103927641291,
          0.006741513265729743,
          0.0068192627983111,
          0.006819262430732989,
          0.0068192625657435444
         ]
        },
        {
         "line": {
          "color": "rgba(55, 128, 191, 1.0)",
          "dash": "solid",
          "shape": "linear",
          "width": 1.3
         },
         "mode": "lines",
         "name": "Apple, Gala",
         "text": "",
         "type": "scatter",
         "x": [
          -0.6931471805599453,
          -0.5108256237659907,
          -0.35667494393873245,
          -0.22314355131420968,
          -0.10536051565782628,
          0,
          0.09531017980432495,
          0.1823215567939546,
          0.26236426446749106,
          0.33647223662121284,
          0.4054651081081644
         ],
         "y": [
          -1.572307085788229e-8,
          -1.5719256797643534e-8,
          -1.5648173102042514e-8,
          -1.265520662943838e-8,
          -3.4740426151762336e-9,
          0,
          -1.4534566433899357e-8,
          -1.3464536354365554e-8,
          -1.5052895932007225e-8,
          -1.555616514379802e-8,
          -1.0609787771338406e-8
         ]
        },
        {
         "line": {
          "color": "rgba(50, 171, 96, 1.0)",
          "dash": "solid",
          "shape": "linear",
          "width": 1.3
         },
         "mode": "lines",
         "name": "Oranges, Navel",
         "text": "",
         "type": "scatter",
         "x": [
          -0.6931471805599453,
          -0.5108256237659907,
          -0.35667494393873245,
          -0.22314355131420968,
          -0.10536051565782628,
          0,
          0.09531017980432495,
          0.1823215567939546,
          0.26236426446749106,
          0.33647223662121284,
          0.4054651081081644
         ],
         "y": [
          -0.01171491526537751,
          -0.009013249983663284,
          -0.006318976393598185,
          -0.003929791222974597,
          -0.0019629726238367634,
          0,
          0.0019591036043742896,
          0.0039144084021034906,
          0.005865857714865553,
          0.00781385645981047,
          0.009757395769055427
         ]
        },
        {
         "line": {
          "color": "rgba(128, 0, 128, 1.0)",
          "dash": "solid",
          "shape": "linear",
          "width": 1.3
         },
         "mode": "lines",
         "name": "Blueberries",
         "text": "",
         "type": "scatter",
         "x": [
          -0.6931471805599453,
          -0.5108256237659907,
          -0.35667494393873245,
          -0.22314355131420968,
          -0.10536051565782628,
          0,
          0.09531017980432495,
          0.1823215567939546,
          0.26236426446749106,
          0.33647223662121284,
          0.4054651081081644
         ],
         "y": [
          7.67671034902433e-9,
          5.2534512157927124e-9,
          2.8234496922794226e-9,
          5.472091667181824e-10,
          -9.463827503923388e-10,
          0,
          -2.1983885847027267e-9,
          -5.8884395311050225e-9,
          -9.493248676703245e-9,
          -1.2228376386307095e-8,
          -1.398044223502215e-8
         ]
        },
        {
         "line": {
          "color": "rgba(219, 64, 82, 1.0)",
          "dash": "solid",
          "shape": "linear",
          "width": 1.3
         },
         "mode": "lines",
         "name": "Raspberries",
         "text": "",
         "type": "scatter",
         "x": [
          -0.6931471805599453,
          -0.5108256237659907,
          -0.35667494393873245,
          -0.22314355131420968,
          -0.10536051565782628,
          0,
          0.09531017980432495,
          0.1823215567939546,
          0.26236426446749106,
          0.33647223662121284,
          0.4054651081081644
         ],
         "y": [
          -7.031966122980032e-10,
          -7.638456536871086e-10,
          -4.863526249582502e-10,
          -4.0444836377070326e-10,
          3.345013155297681e-11,
          0,
          -9.174313535299062e-10,
          -2.3887790662978344e-9,
          -4.105433668123027e-9,
          -5.831936839359356e-9,
          -7.418798714006381e-9
         ]
        },
        {
         "line": {
          "color": "rgba(0, 128, 128, 1.0)",
          "dash": "solid",
          "shape": "linear",
          "width": 1.3
         },
         "mode": "lines",
         "name": "Grapes, green, seedless",
         "text": "",
         "type": "scatter",
         "x": [
          -0.6931471805599453,
          -0.5108256237659907,
          -0.35667494393873245,
          -0.22314355131420968,
          -0.10536051565782628,
          0,
          0.09531017980432495,
          0.1823215567939546,
          0.26236426446749106,
          0.33647223662121284,
          0.4054651081081644
         ],
         "y": [
          -9.047716616880081e-9,
          -6.657279749644109e-9,
          -4.473527003293402e-9,
          -2.569516935861343e-9,
          -1.0453311555159895e-9,
          0,
          4.998248480519872e-10,
          4.332758595409545e-10,
          -1.680920958121722e-10,
          -1.228827373944753e-9,
          -2.643648081721028e-9
         ]
        },
        {
         "line": {
          "color": "rgba(255, 255, 51, 1.0)",
          "dash": "solid",
          "shape": "linear",
          "width": 1.3
         },
         "mode": "lines",
         "name": "Strawberries",
         "text": "",
         "type": "scatter",
         "x": [
          -0.6931471805599453,
          -0.5108256237659907,
          -0.35667494393873245,
          -0.22314355131420968,
          -0.10536051565782628,
          0,
          0.09531017980432495,
          0.1823215567939546,
          0.26236426446749106,
          0.33647223662121284,
          0.4054651081081644
         ],
         "y": [
          -1.0559821073363238e-8,
          -7.1770819545216794e-9,
          -4.4746226824013065e-9,
          -2.3320084779334406e-9,
          -8.383850284194342e-10,
          0,
          3.5491343191392915e-10,
          2.2510238115411838e-10,
          -3.576521301980138e-10,
          -1.328719468668536e-9,
          -2.6040603041165837e-9
         ]
        },
        {
         "line": {
          "color": "rgba(128, 128, 0, 1.0)",
          "dash": "solid",
          "shape": "linear",
          "width": 1.3
         },
         "mode": "lines",
         "name": "Lentils, red",
         "text": "",
         "type": "scatter",
         "x": [
          -0.6931471805599453,
          -0.5108256237659907,
          -0.35667494393873245,
          -0.22314355131420968,
          -0.10536051565782628,
          0,
          0.09531017980432495,
          0.1823215567939546,
          0.26236426446749106,
          0.33647223662121284,
          0.4054651081081644
         ],
         "y": [
          -0.04397823959338412,
          -0.028824016758969905,
          -0.015508868449938991,
          -0.0031293712162609056,
          2.3559130002798373e-7,
          0,
          -7.288805696699245e-9,
          -8.941436853155916e-9,
          -9.707986794942534e-9,
          -1.0206054609119932e-8,
          -1.0596035882675775e-8
         ]
        },
        {
         "line": {
          "color": "rgba(251, 128, 114, 1.0)",
          "dash": "solid",
          "shape": "linear",
          "width": 1.3
         },
         "mode": "lines",
         "name": "Tofu",
         "text": "",
         "type": "scatter",
         "x": [
          -0.6931471805599453,
          -0.5108256237659907,
          -0.35667494393873245,
          -0.22314355131420968,
          -0.10536051565782628,
          0,
          0.09531017980432495,
          0.1823215567939546,
          0.26236426446749106,
          0.33647223662121284,
          0.4054651081081644
         ],
         "y": [
          -1.551674778491932e-8,
          -1.48419697634318e-8,
          -1.1922587432897434e-8,
          -7.307546705580903e-9,
          -3.0599638425520168e-9,
          0,
          1.8535672979299512e-9,
          2.7436157752468973e-9,
          2.7488580263101757e-9,
          2.973840724803821e-9,
          3.525238317262635e-9
         ]
        },
        {
         "line": {
          "color": "rgba(128, 177, 211, 1.0)",
          "dash": "solid",
          "shape": "linear",
          "width": 1.3
         },
         "mode": "lines",
         "name": "Split peas, dry",
         "text": "",
         "type": "scatter",
         "x": [
          -0.6931471805599453,
          -0.5108256237659907,
          -0.35667494393873245,
          -0.22314355131420968,
          -0.10536051565782628,
          0,
          0.09531017980432495,
          0.1823215567939546,
          0.26236426446749106,
          0.33647223662121284,
          0.4054651081081644
         ],
         "y": [
          -0.001918939973602894,
          -1.1344574122286221e-8,
          -1.524474569321552e-8,
          -1.450945285565073e-8,
          -6.940238852162717e-9,
          0,
          3.6225604672534566e-9,
          5.104244791572376e-9,
          6.0244731244269e-9,
          3.863080292631053e-9,
          5.492737360959861e-9
         ]
        },
        {
         "line": {
          "color": "rgba(128, 177, 211, 0.8999999999999999)",
          "dash": "solid",
          "shape": "linear",
          "width": 1.3
         },
         "mode": "lines",
         "name": "Chickpeas, canned",
         "text": "",
         "type": "scatter",
         "x": [
          -0.6931471805599453,
          -0.5108256237659907,
          -0.35667494393873245,
          -0.22314355131420968,
          -0.10536051565782628,
          0,
          0.09531017980432495,
          0.1823215567939546,
          0.26236426446749106,
          0.33647223662121284,
          0.4054651081081644
         ],
         "y": [
          8.898188848454225e-10,
          8.595084640320376e-10,
          7.183045267118789e-10,
          5.102973597933821e-10,
          2.647655427883471e-10,
          0,
          -2.72773026425709e-10,
          -5.467156728829044e-10,
          -8.177402092148292e-10,
          -1.0834305680703009e-9,
          -1.342455036925241e-9
         ]
        },
        {
         "line": {
          "color": "rgba(255, 153, 51, 0.8999999999999999)",
          "dash": "solid",
          "shape": "linear",
          "width": 1.3
         },
         "mode": "lines",
         "name": "Quinoa, dry",
         "text": "",
         "type": "scatter",
         "x": [
          -0.6931471805599453,
          -0.5108256237659907,
          -0.35667494393873245,
          -0.22314355131420968,
          -0.10536051565782628,
          0,
          0.09531017980432495,
          0.1823215567939546,
          0.26236426446749106,
          0.33647223662121284,
          0.4054651081081644
         ],
         "y": [
          -0.008257717250694498,
          -0.0006287403212418017,
          3.837702348875779e-8,
          8.282323903493157e-9,
          2.4826700664439135e-9,
          0,
          -1.4141197112189644e-9,
          -2.346755792448641e-9,
          -3.0202335122942993e-9,
          -3.537854349074822e-9,
          -3.9541811014860705e-9
         ]
        },
        {
         "line": {
          "color": "rgba(55, 128, 191, 0.8999999999999999)",
          "dash": "solid",
          "shape": "linear",
          "width": 1.3
         },
         "mode": "lines",
         "name": "Hummus",
         "text": "",
         "type": "scatter",
         "x": [
          -0.6931471805599453,
          -0.5108256237659907,
          -0.35667494393873245,
          -0.22314355131420968,
          -0.10536051565782628,
          0,
          0.09531017980432495,
          0.1823215567939546,
          0.26236426446749106,
          0.33647223662121284,
          0.4054651081081644
         ],
         "y": [
          -4.6211254929510695e-9,
          1.4745866739004738e-9,
          3.3610019155722963e-9,
          3.042243785591267e-9,
          1.6958139322840867e-9,
          0,
          -1.6986676524272115e-9,
          -3.3840419412871693e-9,
          -4.948350519371027e-9,
          -6.280351258784415e-9,
          -7.4292929862022574e-9
         ]
        },
        {
         "line": {
          "color": "rgba(50, 171, 96, 0.8999999999999999)",
          "dash": "solid",
          "shape": "linear",
          "width": 1.3
         },
         "mode": "lines",
         "name": "Black beans, canned",
         "text": "",
         "type": "scatter",
         "x": [
          -0.6931471805599453,
          -0.5108256237659907,
          -0.35667494393873245,
          -0.22314355131420968,
          -0.10536051565782628,
          0,
          0.09531017980432495,
          0.1823215567939546,
          0.26236426446749106,
          0.33647223662121284,
          0.4054651081081644
         ],
         "y": [
          -0.18566551658824515,
          -0.13754903462731002,
          -0.09905859617875408,
          -0.06337544941915613,
          -0.029612757773852926,
          0,
          0.027083230687134904,
          0.03524214917504101,
          0.04069823414448287,
          0.04471851926278404,
          0.048722126865029566
         ]
        },
        {
         "line": {
          "color": "rgba(128, 0, 128, 0.8999999999999999)",
          "dash": "solid",
          "shape": "linear",
          "width": 1.3
         },
         "mode": "lines",
         "name": "Tomato, Roma",
         "text": "",
         "type": "scatter",
         "x": [
          -0.6931471805599453,
          -0.5108256237659907,
          -0.35667494393873245,
          -0.22314355131420968,
          -0.10536051565782628,
          0,
          0.09531017980432495,
          0.1823215567939546,
          0.26236426446749106,
          0.33647223662121284,
          0.4054651081081644
         ],
         "y": [
          -9.70524920698184e-9,
          -6.5772311147266984e-9,
          -4.2528792800152234e-9,
          -2.3924335874367292e-9,
          -9.560932050641574e-10,
          0,
          4.0425041084191414e-10,
          2.1331336694741793e-10,
          -5.623019829119574e-10,
          -1.8536526775164149e-9,
          -3.5431720953369994e-9
         ]
        },
        {
         "line": {
          "color": "rgba(219, 64, 82, 0.8999999999999999)",
          "dash": "solid",
          "shape": "linear",
          "width": 1.3
         },
         "mode": "lines",
         "name": "Broccoli",
         "text": "",
         "type": "scatter",
         "x": [
          -0.6931471805599453,
          -0.5108256237659907,
          -0.35667494393873245,
          -0.22314355131420968,
          -0.10536051565782628,
          0,
          0.09531017980432495,
          0.1823215567939546,
          0.26236426446749106,
          0.33647223662121284,
          0.4054651081081644
         ],
         "y": [
          -1.5558512710420112e-8,
          -1.576903087217869e-8,
          -1.5529940676348044e-8,
          -9.857593678844142e-9,
          -3.717994696811937e-9,
          0,
          -4.790237662459928e-9,
          -1.500265867245489e-8,
          -1.563613151190677e-8,
          -1.5641704942599853e-8,
          -1.5618445880892716e-8
         ]
        },
        {
         "line": {
          "color": "rgba(0, 128, 128, 0.8999999999999999)",
          "dash": "solid",
          "shape": "linear",
          "width": 1.3
         },
         "mode": "lines",
         "name": "Kale",
         "text": "",
         "type": "scatter",
         "x": [
          -0.6931471805599453,
          -0.5108256237659907,
          -0.35667494393873245,
          -0.22314355131420968,
          -0.10536051565782628,
          0,
          0.09531017980432495,
          0.1823215567939546,
          0.26236426446749106,
          0.33647223662121284,
          0.4054651081081644
         ],
         "y": [
          -0.022904153454124936,
          -0.015274080154083795,
          -0.011433565306948782,
          -0.007607840737371071,
          -0.0037966899296865576,
          0,
          0.003782324062982713,
          0.0075504119637712554,
          0.011064391588259264,
          0.01415964814878745,
          0.01724535486635341
         ]
        },
        {
         "line": {
          "color": "rgba(255, 255, 51, 0.8999999999999999)",
          "dash": "solid",
          "shape": "linear",
          "width": 1.3
         },
         "mode": "lines",
         "name": "Green beans, raw",
         "text": "",
         "type": "scatter",
         "x": [
          -0.6931471805599453,
          -0.5108256237659907,
          -0.35667494393873245,
          -0.22314355131420968,
          -0.10536051565782628,
          0,
          0.09531017980432495,
          0.1823215567939546,
          0.26236426446749106,
          0.33647223662121284,
          0.4054651081081644
         ],
         "y": [
          -2.458225737102491e-9,
          -1.5395835946951503e-8,
          -1.5739139893126592e-8,
          -1.504881564028571e-8,
          -1.0487813228473581e-8,
          0,
          1.2971896805844409e-8,
          2.5462763795234336e-8,
          3.58728118548539e-8,
          5.596341300319717e-8,
          7.460645112060814e-8
         ]
        },
        {
         "line": {
          "color": "rgba(128, 128, 0, 0.8999999999999999)",
          "dash": "solid",
          "shape": "linear",
          "width": 1.3
         },
         "mode": "lines",
         "name": "Onions, yellow",
         "text": "",
         "type": "scatter",
         "x": [
          -0.6931471805599453,
          -0.5108256237659907,
          -0.35667494393873245,
          -0.22314355131420968,
          -0.10536051565782628,
          0,
          0.09531017980432495,
          0.1823215567939546,
          0.26236426446749106,
          0.33647223662121284,
          0.4054651081081644
         ],
         "y": [
          -4.675660758397183e-9,
          -2.6452338132712936e-9,
          -1.3995662416578887e-9,
          -6.480206373606023e-10,
          -2.1520230044742248e-10,
          0,
          5.691869198025773e-11,
          -8.324341216371609e-12,
          -1.7250545438041373e-10,
          -4.1959014049829215e-10,
          -7.37610639506311e-10
         ]
        },
        {
         "line": {
          "color": "rgba(251, 128, 114, 0.8999999999999999)",
          "dash": "solid",
          "shape": "linear",
          "width": 1.3
         },
         "mode": "lines",
         "name": "Celery",
         "text": "",
         "type": "scatter",
         "x": [
          -0.6931471805599453,
          -0.5108256237659907,
          -0.35667494393873245,
          -0.22314355131420968,
          -0.10536051565782628,
          0,
          0.09531017980432495,
          0.1823215567939546,
          0.26236426446749106,
          0.33647223662121284,
          0.4054651081081644
         ],
         "y": [
          -1.1935218107332358e-8,
          -9.953669604789334e-9,
          -7.500660676270878e-9,
          -4.92535380361462e-9,
          -2.394498491245172e-9,
          0,
          2.194599610739696e-9,
          4.147268742042833e-9,
          5.835443000661483e-9,
          7.25373469768038e-9,
          8.410478722512848e-9
         ]
        },
        {
         "line": {
          "color": "rgba(251, 128, 114, 0.7999999999999998)",
          "dash": "solid",
          "shape": "linear",
          "width": 1.3
         },
         "mode": "lines",
         "name": "Potato, Russet",
         "text": "",
         "type": "scatter",
         "x": [
          -0.6931471805599453,
          -0.5108256237659907,
          -0.35667494393873245,
          -0.22314355131420968,
          -0.10536051565782628,
          0,
          0.09531017980432495,
          0.1823215567939546,
          0.26236426446749106,
          0.33647223662121284,
          0.4054651081081644
         ],
         "y": [
          -0.011184594739442348,
          -1.5798620869764952e-8,
          2.0357711051727725e-9,
          -1.563882391380589e-8,
          -1.369427458592634e-8,
          0,
          1.2811707168578476e-8,
          3.330816922315103e-8,
          4.791565163088561e-8,
          7.087305935221234e-8,
          9.234797388930997e-8
         ]
        },
        {
         "line": {
          "color": "rgba(128, 177, 211, 0.7999999999999998)",
          "dash": "solid",
          "shape": "linear",
          "width": 1.3
         },
         "mode": "lines",
         "name": "Carrot",
         "text": "",
         "type": "scatter",
         "x": [
          -0.6931471805599453,
          -0.5108256237659907,
          -0.35667494393873245,
          -0.22314355131420968,
          -0.10536051565782628,
          0,
          0.09531017980432495,
          0.1823215567939546,
          0.26236426446749106,
          0.33647223662121284,
          0.4054651081081644
         ],
         "y": [
          -0.08717975018382935,
          -0.05812570045735961,
          -0.036126546947566465,
          -0.01684515285905748,
          -0.004766812931784825,
          0,
          0.001682794822168504,
          0.0033627723715782955,
          0.005039927315135691,
          0.00671427049573731,
          0.008385812198289317
         ]
        },
        {
         "line": {
          "color": "rgba(255, 153, 51, 0.7999999999999998)",
          "dash": "solid",
          "shape": "linear",
          "width": 1.3
         },
         "mode": "lines",
         "name": "Cucumber",
         "text": "",
         "type": "scatter",
         "x": [
          -0.6931471805599453,
          -0.5108256237659907,
          -0.35667494393873245,
          -0.22314355131420968,
          -0.10536051565782628,
          0,
          0.09531017980432495,
          0.1823215567939546,
          0.26236426446749106,
          0.33647223662121284,
          0.4054651081081644
         ],
         "y": [
          -8.21871463154776e-9,
          -6.041574259139557e-9,
          -4.085879198887913e-9,
          -2.3920301323886156e-9,
          -1.0138914157830738e-9,
          0,
          6.184996957122806e-10,
          8.331830777390113e-10,
          6.581106768487829e-10,
          1.322151277262399e-10,
          -6.925967579629969e-10
         ]
        },
        {
         "line": {
          "color": "rgba(55, 128, 191, 0.7999999999999998)",
          "dash": "solid",
          "shape": "linear",
          "width": 1.3
         },
         "mode": "lines",
         "name": "Avocado",
         "text": "",
         "type": "scatter",
         "x": [
          -0.6931471805599453,
          -0.5108256237659907,
          -0.35667494393873245,
          -0.22314355131420968,
          -0.10536051565782628,
          0,
          0.09531017980432495,
          0.1823215567939546,
          0.26236426446749106,
          0.33647223662121284,
          0.4054651081081644
         ],
         "y": [
          -0.03174932347990932,
          -0.02049956673672614,
          -0.011121229832779096,
          -0.005107483282907135,
          -0.002550568721752029,
          0,
          0.002544056719255059,
          0.004215988375794859,
          0.004215987330668613,
          0.004215987119545512,
          0.0042159870709814785
         ]
        },
        {
         "line": {
          "color": "rgba(50, 171, 96, 0.7999999999999998)",
          "dash": "solid",
          "shape": "linear",
          "width": 1.3
         },
         "mode": "lines",
         "name": "Lettuce, Romaine",
         "text": "",
         "type": "scatter",
         "x": [
          -0.6931471805599453,
          -0.5108256237659907,
          -0.35667494393873245,
          -0.22314355131420968,
          -0.10536051565782628,
          0,
          0.09531017980432495,
          0.1823215567939546,
          0.26236426446749106,
          0.33647223662121284,
          0.4054651081081644
         ],
         "y": [
          -1.5756060469444454e-8,
          -1.5622902316183177e-8,
          -1.5456720467538868e-8,
          -1.566402275721251e-8,
          -1.4018832637528115e-8,
          0,
          -5.403218886921476e-9,
          -6.692224130599733e-9,
          -9.98353105173575e-9,
          -1.3439873193630942e-8,
          -1.4550448951653709e-8
         ]
        },
        {
         "line": {
          "color": "rgba(128, 0, 128, 0.7999999999999998)",
          "dash": "solid",
          "shape": "linear",
          "width": 1.3
         },
         "mode": "lines",
         "name": "Mushrooms",
         "text": "",
         "type": "scatter",
         "x": [
          -0.6931471805599453,
          -0.5108256237659907,
          -0.35667494393873245,
          -0.22314355131420968,
          -0.10536051565782628,
          0,
          0.09531017980432495,
          0.1823215567939546,
          0.26236426446749106,
          0.33647223662121284,
          0.4054651081081644
         ],
         "y": [
          -1.579199505864933e-8,
          -1.5305981599386357e-8,
          -1.447613861491259e-8,
          -3.0870395133821667e-10,
          -6.419689226717698e-10,
          0,
          -1.7818972979699189e-9,
          -5.440114706854276e-9,
          -9.667354630249066e-9,
          -1.3129522999516552e-8,
          -1.4572271495743507e-8
         ]
        },
        {
         "line": {
          "color": "rgba(219, 64, 82, 0.7999999999999998)",
          "dash": "solid",
          "shape": "linear",
          "width": 1.3
         },
         "mode": "lines",
         "name": "Spinach",
         "text": "",
         "type": "scatter",
         "x": [
          -0.6931471805599453,
          -0.5108256237659907,
          -0.35667494393873245,
          -0.22314355131420968,
          -0.10536051565782628,
          0,
          0.09531017980432495,
          0.1823215567939546,
          0.26236426446749106,
          0.33647223662121284,
          0.4054651081081644
         ],
         "y": [
          -1.3534677026361472e-8,
          1.5853840493791383e-7,
          -1.5814836232407425e-8,
          -1.5677701260201756e-8,
          -1.5486507973795024e-8,
          0,
          -5.13692201207681e-9,
          -1.5238893374496613e-8,
          -1.5119239863357527e-8,
          -1.5037703750931984e-8,
          -1.49683290217068e-8
         ]
        },
        {
         "line": {
          "color": "rgba(0, 128, 128, 0.7999999999999998)",
          "dash": "solid",
          "shape": "linear",
          "width": 1.3
         },
         "mode": "lines",
         "name": "Rice, White",
         "text": "",
         "type": "scatter",
         "x": [
          -0.6931471805599453,
          -0.5108256237659907,
          -0.35667494393873245,
          -0.22314355131420968,
          -0.10536051565782628,
          0,
          0.09531017980432495,
          0.1823215567939546,
          0.26236426446749106,
          0.33647223662121284,
          0.4054651081081644
         ],
         "y": [
          6.443993664215527e-8,
          2.8186230951693806e-8,
          1.3311056390689434e-8,
          6.2185212341520935e-9,
          2.3470623195177578e-9,
          0,
          -1.5423233813108826e-9,
          -2.6218001137842124e-9,
          -3.4166259879699922e-9,
          -4.026979424701972e-9,
          -4.5325805433952526e-9
         ]
        },
        {
         "line": {
          "color": "rgba(255, 255, 51, 0.7999999999999998)",
          "dash": "solid",
          "shape": "linear",
          "width": 1.3
         },
         "mode": "lines",
         "name": "Tortillas, corn",
         "text": "",
         "type": "scatter",
         "x": [
          -0.6931471805599453,
          -0.5108256237659907,
          -0.35667494393873245,
          -0.22314355131420968,
          -0.10536051565782628,
          0,
          0.09531017980432495,
          0.1823215567939546,
          0.26236426446749106,
          0.33647223662121284,
          0.4054651081081644
         ],
         "y": [
          -0.011347940357039222,
          -0.008119792035507898,
          -0.005167712881316218,
          -0.0030286339619697714,
          -0.001282069984954864,
          0,
          0.0012804122683328085,
          0.0017208077668905693,
          0.001720715044669027,
          0.0017210571630789167,
          0.0017207325243337615
         ]
        },
        {
         "line": {
          "color": "rgba(128, 128, 0, 0.7999999999999998)",
          "dash": "solid",
          "shape": "linear",
          "width": 1.3
         },
         "mode": "lines",
         "name": "Oats, rolled",
         "text": "",
         "type": "scatter",
         "x": [
          -0.6931471805599453,
          -0.5108256237659907,
          -0.35667494393873245,
          -0.22314355131420968,
          -0.10536051565782628,
          0,
          0.09531017980432495,
          0.1823215567939546,
          0.26236426446749106,
          0.33647223662121284,
          0.4054651081081644
         ],
         "y": [
          -1.4490340143960069e-8,
          -1.0396855097606881e-8,
          -6.7151415764722815e-9,
          -3.835225366870891e-9,
          -1.660013017313923e-9,
          0,
          1.2924830086720941e-9,
          2.317923850170621e-9,
          3.1454017119173954e-9,
          3.8231351344923676e-9,
          4.385414022299574e-9
         ]
        },
        {
         "line": {
          "color": "rgba(128, 128, 0, 0.7)",
          "dash": "solid",
          "shape": "linear",
          "width": 1.3
         },
         "mode": "lines",
         "name": "Soy milk, unsweetened",
         "text": "",
         "type": "scatter",
         "x": [
          -0.6931471805599453,
          -0.5108256237659907,
          -0.35667494393873245,
          -0.22314355131420968,
          -0.10536051565782628,
          0,
          0.09531017980432495,
          0.1823215567939546,
          0.26236426446749106,
          0.33647223662121284,
          0.4054651081081644
         ],
         "y": [
          -0.19702499006728477,
          -0.15439193942801932,
          -0.11350238541947295,
          -0.07421931409318766,
          -0.03642125135082577,
          0,
          0.0351412268655212,
          0.06908935585817434,
          0.1019227487924666,
          0.13371229217768915,
          0.16452231879982895
         ]
        },
        {
         "line": {
          "color": "rgba(251, 128, 114, 0.7)",
          "dash": "solid",
          "shape": "linear",
          "width": 1.3
         },
         "mode": "lines",
         "name": "Peanut butter, creamy",
         "text": "",
         "type": "scatter",
         "x": [
          -0.6931471805599453,
          -0.5108256237659907,
          -0.35667494393873245,
          -0.22314355131420968,
          -0.10536051565782628,
          0,
          0.09531017980432495,
          0.1823215567939546,
          0.26236426446749106,
          0.33647223662121284,
          0.4054651081081644
         ],
         "y": [
          -0.10834646760350483,
          -0.08018104829491247,
          -0.059197530595756304,
          -0.03895950161273121,
          -0.019289899034675064,
          0,
          0.018924935302786945,
          0.036957993998634864,
          0.05412128471627969,
          0.07003343008740709,
          0.08412198369466775
         ]
        },
        {
         "line": {
          "color": "rgba(128, 177, 211, 0.7)",
          "dash": "solid",
          "shape": "linear",
          "width": 1.3
         },
         "mode": "lines",
         "name": "Rice, Brown",
         "text": "",
         "type": "scatter",
         "x": [
          -0.6931471805599453,
          -0.5108256237659907,
          -0.35667494393873245,
          -0.22314355131420968,
          -0.10536051565782628,
          0,
          0.09531017980432495,
          0.1823215567939546,
          0.26236426446749106,
          0.33647223662121284,
          0.4054651081081644
         ],
         "y": [
          1.0796188715323849e-7,
          2.9326892484094394e-8,
          9.049031039068168e-9,
          3.3484401861800136e-9,
          1.092920420233741e-9,
          0,
          -6.060130177292184e-10,
          -9.793071913754164e-10,
          -1.2318239769142058e-9,
          -1.4187397933201836e-9,
          -1.5699197509877236e-9
         ]
        },
        {
         "line": {
          "color": "rgba(255, 153, 51, 0.7)",
          "dash": "solid",
          "shape": "linear",
          "width": 1.3
         },
         "mode": "lines",
         "name": "Spaghetti, dry",
         "text": "",
         "type": "scatter",
         "x": [
          -0.6931471805599453,
          -0.5108256237659907,
          -0.35667494393873245,
          -0.22314355131420968,
          -0.10536051565782628,
          0,
          0.09531017980432495,
          0.1823215567939546,
          0.26236426446749106,
          0.33647223662121284,
          0.4054651081081644
         ],
         "y": [
          -0.00026539682648947993,
          -0.000027290311737800668,
          -1.575575926593313e-8,
          1.3237286390192325e-7,
          3.096978181465751e-8,
          0,
          -7.884545270006151e-9,
          -1.0581172105642403e-8,
          -1.1812944803286407e-8,
          -1.2053835113862181e-8,
          -1.2217975927907583e-8
         ]
        }
       ],
       "layout": {
        "autosize": true,
        "legend": {
         "bgcolor": "#F5F6F9",
         "font": {
          "color": "#4D5663"
         }
        },
        "paper_bgcolor": "#F5F6F9",
        "plot_bgcolor": "#F5F6F9",
        "template": {
         "data": {
          "bar": [
           {
            "error_x": {
             "color": "#2a3f5f"
            },
            "error_y": {
             "color": "#2a3f5f"
            },
            "marker": {
             "line": {
              "color": "#E5ECF6",
              "width": 0.5
             },
             "pattern": {
              "fillmode": "overlay",
              "size": 10,
              "solidity": 0.2
             }
            },
            "type": "bar"
           }
          ],
          "barpolar": [
           {
            "marker": {
             "line": {
              "color": "#E5ECF6",
              "width": 0.5
             },
             "pattern": {
              "fillmode": "overlay",
              "size": 10,
              "solidity": 0.2
             }
            },
            "type": "barpolar"
           }
          ],
          "carpet": [
           {
            "aaxis": {
             "endlinecolor": "#2a3f5f",
             "gridcolor": "white",
             "linecolor": "white",
             "minorgridcolor": "white",
             "startlinecolor": "#2a3f5f"
            },
            "baxis": {
             "endlinecolor": "#2a3f5f",
             "gridcolor": "white",
             "linecolor": "white",
             "minorgridcolor": "white",
             "startlinecolor": "#2a3f5f"
            },
            "type": "carpet"
           }
          ],
          "choropleth": [
           {
            "colorbar": {
             "outlinewidth": 0,
             "ticks": ""
            },
            "type": "choropleth"
           }
          ],
          "contour": [
           {
            "colorbar": {
             "outlinewidth": 0,
             "ticks": ""
            },
            "colorscale": [
             [
              0,
              "#0d0887"
             ],
             [
              0.1111111111111111,
              "#46039f"
             ],
             [
              0.2222222222222222,
              "#7201a8"
             ],
             [
              0.3333333333333333,
              "#9c179e"
             ],
             [
              0.4444444444444444,
              "#bd3786"
             ],
             [
              0.5555555555555556,
              "#d8576b"
             ],
             [
              0.6666666666666666,
              "#ed7953"
             ],
             [
              0.7777777777777778,
              "#fb9f3a"
             ],
             [
              0.8888888888888888,
              "#fdca26"
             ],
             [
              1,
              "#f0f921"
             ]
            ],
            "type": "contour"
           }
          ],
          "contourcarpet": [
           {
            "colorbar": {
             "outlinewidth": 0,
             "ticks": ""
            },
            "type": "contourcarpet"
           }
          ],
          "heatmap": [
           {
            "colorbar": {
             "outlinewidth": 0,
             "ticks": ""
            },
            "colorscale": [
             [
              0,
              "#0d0887"
             ],
             [
              0.1111111111111111,
              "#46039f"
             ],
             [
              0.2222222222222222,
              "#7201a8"
             ],
             [
              0.3333333333333333,
              "#9c179e"
             ],
             [
              0.4444444444444444,
              "#bd3786"
             ],
             [
              0.5555555555555556,
              "#d8576b"
             ],
             [
              0.6666666666666666,
              "#ed7953"
             ],
             [
              0.7777777777777778,
              "#fb9f3a"
             ],
             [
              0.8888888888888888,
              "#fdca26"
             ],
             [
              1,
              "#f0f921"
             ]
            ],
            "type": "heatmap"
           }
          ],
          "heatmapgl": [
           {
            "colorbar": {
             "outlinewidth": 0,
             "ticks": ""
            },
            "colorscale": [
             [
              0,
              "#0d0887"
             ],
             [
              0.1111111111111111,
              "#46039f"
             ],
             [
              0.2222222222222222,
              "#7201a8"
             ],
             [
              0.3333333333333333,
              "#9c179e"
             ],
             [
              0.4444444444444444,
              "#bd3786"
             ],
             [
              0.5555555555555556,
              "#d8576b"
             ],
             [
              0.6666666666666666,
              "#ed7953"
             ],
             [
              0.7777777777777778,
              "#fb9f3a"
             ],
             [
              0.8888888888888888,
              "#fdca26"
             ],
             [
              1,
              "#f0f921"
             ]
            ],
            "type": "heatmapgl"
           }
          ],
          "histogram": [
           {
            "marker": {
             "pattern": {
              "fillmode": "overlay",
              "size": 10,
              "solidity": 0.2
             }
            },
            "type": "histogram"
           }
          ],
          "histogram2d": [
           {
            "colorbar": {
             "outlinewidth": 0,
             "ticks": ""
            },
            "colorscale": [
             [
              0,
              "#0d0887"
             ],
             [
              0.1111111111111111,
              "#46039f"
             ],
             [
              0.2222222222222222,
              "#7201a8"
             ],
             [
              0.3333333333333333,
              "#9c179e"
             ],
             [
              0.4444444444444444,
              "#bd3786"
             ],
             [
              0.5555555555555556,
              "#d8576b"
             ],
             [
              0.6666666666666666,
              "#ed7953"
             ],
             [
              0.7777777777777778,
              "#fb9f3a"
             ],
             [
              0.8888888888888888,
              "#fdca26"
             ],
             [
              1,
              "#f0f921"
             ]
            ],
            "type": "histogram2d"
           }
          ],
          "histogram2dcontour": [
           {
            "colorbar": {
             "outlinewidth": 0,
             "ticks": ""
            },
            "colorscale": [
             [
              0,
              "#0d0887"
             ],
             [
              0.1111111111111111,
              "#46039f"
             ],
             [
              0.2222222222222222,
              "#7201a8"
             ],
             [
              0.3333333333333333,
              "#9c179e"
             ],
             [
              0.4444444444444444,
              "#bd3786"
             ],
             [
              0.5555555555555556,
              "#d8576b"
             ],
             [
              0.6666666666666666,
              "#ed7953"
             ],
             [
              0.7777777777777778,
              "#fb9f3a"
             ],
             [
              0.8888888888888888,
              "#fdca26"
             ],
             [
              1,
              "#f0f921"
             ]
            ],
            "type": "histogram2dcontour"
           }
          ],
          "mesh3d": [
           {
            "colorbar": {
             "outlinewidth": 0,
             "ticks": ""
            },
            "type": "mesh3d"
           }
          ],
          "parcoords": [
           {
            "line": {
             "colorbar": {
              "outlinewidth": 0,
              "ticks": ""
             }
            },
            "type": "parcoords"
           }
          ],
          "pie": [
           {
            "automargin": true,
            "type": "pie"
           }
          ],
          "scatter": [
           {
            "marker": {
             "colorbar": {
              "outlinewidth": 0,
              "ticks": ""
             }
            },
            "type": "scatter"
           }
          ],
          "scatter3d": [
           {
            "line": {
             "colorbar": {
              "outlinewidth": 0,
              "ticks": ""
             }
            },
            "marker": {
             "colorbar": {
              "outlinewidth": 0,
              "ticks": ""
             }
            },
            "type": "scatter3d"
           }
          ],
          "scattercarpet": [
           {
            "marker": {
             "colorbar": {
              "outlinewidth": 0,
              "ticks": ""
             }
            },
            "type": "scattercarpet"
           }
          ],
          "scattergeo": [
           {
            "marker": {
             "colorbar": {
              "outlinewidth": 0,
              "ticks": ""
             }
            },
            "type": "scattergeo"
           }
          ],
          "scattergl": [
           {
            "marker": {
             "colorbar": {
              "outlinewidth": 0,
              "ticks": ""
             }
            },
            "type": "scattergl"
           }
          ],
          "scattermapbox": [
           {
            "marker": {
             "colorbar": {
              "outlinewidth": 0,
              "ticks": ""
             }
            },
            "type": "scattermapbox"
           }
          ],
          "scatterpolar": [
           {
            "marker": {
             "colorbar": {
              "outlinewidth": 0,
              "ticks": ""
             }
            },
            "type": "scatterpolar"
           }
          ],
          "scatterpolargl": [
           {
            "marker": {
             "colorbar": {
              "outlinewidth": 0,
              "ticks": ""
             }
            },
            "type": "scatterpolargl"
           }
          ],
          "scatterternary": [
           {
            "marker": {
             "colorbar": {
              "outlinewidth": 0,
              "ticks": ""
             }
            },
            "type": "scatterternary"
           }
          ],
          "surface": [
           {
            "colorbar": {
             "outlinewidth": 0,
             "ticks": ""
            },
            "colorscale": [
             [
              0,
              "#0d0887"
             ],
             [
              0.1111111111111111,
              "#46039f"
             ],
             [
              0.2222222222222222,
              "#7201a8"
             ],
             [
              0.3333333333333333,
              "#9c179e"
             ],
             [
              0.4444444444444444,
              "#bd3786"
             ],
             [
              0.5555555555555556,
              "#d8576b"
             ],
             [
              0.6666666666666666,
              "#ed7953"
             ],
             [
              0.7777777777777778,
              "#fb9f3a"
             ],
             [
              0.8888888888888888,
              "#fdca26"
             ],
             [
              1,
              "#f0f921"
             ]
            ],
            "type": "surface"
           }
          ],
          "table": [
           {
            "cells": {
             "fill": {
              "color": "#EBF0F8"
             },
             "line": {
              "color": "white"
             }
            },
            "header": {
             "fill": {
              "color": "#C8D4E3"
             },
             "line": {
              "color": "white"
             }
            },
            "type": "table"
           }
          ]
         },
         "layout": {
          "annotationdefaults": {
           "arrowcolor": "#2a3f5f",
           "arrowhead": 0,
           "arrowwidth": 1
          },
          "autotypenumbers": "strict",
          "coloraxis": {
           "colorbar": {
            "outlinewidth": 0,
            "ticks": ""
           }
          },
          "colorscale": {
           "diverging": [
            [
             0,
             "#8e0152"
            ],
            [
             0.1,
             "#c51b7d"
            ],
            [
             0.2,
             "#de77ae"
            ],
            [
             0.3,
             "#f1b6da"
            ],
            [
             0.4,
             "#fde0ef"
            ],
            [
             0.5,
             "#f7f7f7"
            ],
            [
             0.6,
             "#e6f5d0"
            ],
            [
             0.7,
             "#b8e186"
            ],
            [
             0.8,
             "#7fbc41"
            ],
            [
             0.9,
             "#4d9221"
            ],
            [
             1,
             "#276419"
            ]
           ],
           "sequential": [
            [
             0,
             "#0d0887"
            ],
            [
             0.1111111111111111,
             "#46039f"
            ],
            [
             0.2222222222222222,
             "#7201a8"
            ],
            [
             0.3333333333333333,
             "#9c179e"
            ],
            [
             0.4444444444444444,
             "#bd3786"
            ],
            [
             0.5555555555555556,
             "#d8576b"
            ],
            [
             0.6666666666666666,
             "#ed7953"
            ],
            [
             0.7777777777777778,
             "#fb9f3a"
            ],
            [
             0.8888888888888888,
             "#fdca26"
            ],
            [
             1,
             "#f0f921"
            ]
           ],
           "sequentialminus": [
            [
             0,
             "#0d0887"
            ],
            [
             0.1111111111111111,
             "#46039f"
            ],
            [
             0.2222222222222222,
             "#7201a8"
            ],
            [
             0.3333333333333333,
             "#9c179e"
            ],
            [
             0.4444444444444444,
             "#bd3786"
            ],
            [
             0.5555555555555556,
             "#d8576b"
            ],
            [
             0.6666666666666666,
             "#ed7953"
            ],
            [
             0.7777777777777778,
             "#fb9f3a"
            ],
            [
             0.8888888888888888,
             "#fdca26"
            ],
            [
             1,
             "#f0f921"
            ]
           ]
          },
          "colorway": [
           "#636efa",
           "#EF553B",
           "#00cc96",
           "#ab63fa",
           "#FFA15A",
           "#19d3f3",
           "#FF6692",
           "#B6E880",
           "#FF97FF",
           "#FECB52"
          ],
          "font": {
           "color": "#2a3f5f"
          },
          "geo": {
           "bgcolor": "white",
           "lakecolor": "white",
           "landcolor": "#E5ECF6",
           "showlakes": true,
           "showland": true,
           "subunitcolor": "white"
          },
          "hoverlabel": {
           "align": "left"
          },
          "hovermode": "closest",
          "mapbox": {
           "style": "light"
          },
          "paper_bgcolor": "white",
          "plot_bgcolor": "#E5ECF6",
          "polar": {
           "angularaxis": {
            "gridcolor": "white",
            "linecolor": "white",
            "ticks": ""
           },
           "bgcolor": "#E5ECF6",
           "radialaxis": {
            "gridcolor": "white",
            "linecolor": "white",
            "ticks": ""
           }
          },
          "scene": {
           "xaxis": {
            "backgroundcolor": "#E5ECF6",
            "gridcolor": "white",
            "gridwidth": 2,
            "linecolor": "white",
            "showbackground": true,
            "ticks": "",
            "zerolinecolor": "white"
           },
           "yaxis": {
            "backgroundcolor": "#E5ECF6",
            "gridcolor": "white",
            "gridwidth": 2,
            "linecolor": "white",
            "showbackground": true,
            "ticks": "",
            "zerolinecolor": "white"
           },
           "zaxis": {
            "backgroundcolor": "#E5ECF6",
            "gridcolor": "white",
            "gridwidth": 2,
            "linecolor": "white",
            "showbackground": true,
            "ticks": "",
            "zerolinecolor": "white"
           }
          },
          "shapedefaults": {
           "line": {
            "color": "#2a3f5f"
           }
          },
          "ternary": {
           "aaxis": {
            "gridcolor": "white",
            "linecolor": "white",
            "ticks": ""
           },
           "baxis": {
            "gridcolor": "white",
            "linecolor": "white",
            "ticks": ""
           },
           "bgcolor": "#E5ECF6",
           "caxis": {
            "gridcolor": "white",
            "linecolor": "white",
            "ticks": ""
           }
          },
          "title": {
           "x": 0.05
          },
          "xaxis": {
           "automargin": true,
           "gridcolor": "white",
           "linecolor": "white",
           "ticks": "",
           "title": {
            "standoff": 15
           },
           "zerolinecolor": "white",
           "zerolinewidth": 2
          },
          "yaxis": {
           "automargin": true,
           "gridcolor": "white",
           "linecolor": "white",
           "ticks": "",
           "title": {
            "standoff": 15
           },
           "zerolinecolor": "white",
           "zerolinewidth": 2
          }
         }
        },
        "title": {
         "font": {
          "color": "#4D5663"
         }
        },
        "xaxis": {
         "autorange": true,
         "gridcolor": "#E1E5ED",
         "range": [
          -0.6931471805599453,
          0.4054651081081644
         ],
         "showgrid": true,
         "tickfont": {
          "color": "#4D5663"
         },
         "title": {
          "font": {
           "color": "#4D5663"
          },
          "text": "change in log price"
         },
         "type": "linear",
         "zerolinecolor": "#E1E5ED"
        },
        "yaxis": {
         "autorange": true,
         "gridcolor": "#E1E5ED",
         "range": [
          -0.21711095167101332,
          0.1846082804035575
         ],
         "showgrid": true,
         "tickfont": {
          "color": "#4D5663"
         },
         "title": {
          "font": {
           "color": "#4D5663"
          },
          "text": "change in log cost"
         },
         "type": "linear",
         "zerolinecolor": "#E1E5ED"
        }
       }
      },
      "image/png": "[encoded data removed]",
      "text/html": [
       "<div>                            <div id=\"9bd2d2d7-1fa7-44c2-abf5-fbaaa6aaccc0\" class=\"plotly-graph-div\" style=\"height:525px; width:100%;\"></div>            <script type=\"text/javascript\">                require([\"plotly\"], function(Plotly) {                    window.PLOTLYENV=window.PLOTLYENV || {};\n",
       "                    window.PLOTLYENV.BASE_URL='https://plot.ly';                                    if (document.getElementById(\"9bd2d2d7-1fa7-44c2-abf5-fbaaa6aaccc0\")) {                    Plotly.newPlot(                        \"9bd2d2d7-1fa7-44c2-abf5-fbaaa6aaccc0\",                        [{\"line\":{\"color\":\"rgba(255, 153, 51, 1.0)\",\"dash\":\"solid\",\"shape\":\"linear\",\"width\":1.3},\"mode\":\"lines\",\"name\":\" Banana,raw\",\"text\":\"\",\"type\":\"scatter\",\"x\":[-0.6931471805599453,-0.5108256237659907,-0.35667494393873245,-0.22314355131420968,-0.10536051565782628,0.0,0.09531017980432495,0.1823215567939546,0.26236426446749106,0.33647223662121284,0.4054651081081644],\"y\":[-0.029652601479320476,-0.023397936367012876,-0.01718276360776043,-0.011005694385064877,-0.00538643139910236,0.0,0.004234103927641291,0.006741513265729743,0.0068192627983111,0.006819262430732989,0.0068192625657435444]},{\"line\":{\"color\":\"rgba(55, 128, 191, 1.0)\",\"dash\":\"solid\",\"shape\":\"linear\",\"width\":1.3},\"mode\":\"lines\",\"name\":\"Apple, Gala\",\"text\":\"\",\"type\":\"scatter\",\"x\":[-0.6931471805599453,-0.5108256237659907,-0.35667494393873245,-0.22314355131420968,-0.10536051565782628,0.0,0.09531017980432495,0.1823215567939546,0.26236426446749106,0.33647223662121284,0.4054651081081644],\"y\":[-1.572307085788229e-08,-1.5719256797643534e-08,-1.5648173102042514e-08,-1.265520662943838e-08,-3.4740426151762336e-09,0.0,-1.4534566433899357e-08,-1.3464536354365554e-08,-1.5052895932007225e-08,-1.555616514379802e-08,-1.0609787771338406e-08]},{\"line\":{\"color\":\"rgba(50, 171, 96, 1.0)\",\"dash\":\"solid\",\"shape\":\"linear\",\"width\":1.3},\"mode\":\"lines\",\"name\":\"Oranges, Navel\",\"text\":\"\",\"type\":\"scatter\",\"x\":[-0.6931471805599453,-0.5108256237659907,-0.35667494393873245,-0.22314355131420968,-0.10536051565782628,0.0,0.09531017980432495,0.1823215567939546,0.26236426446749106,0.33647223662121284,0.4054651081081644],\"y\":[-0.01171491526537751,-0.009013249983663284,-0.006318976393598185,-0.003929791222974597,-0.0019629726238367634,0.0,0.0019591036043742896,0.0039144084021034906,0.005865857714865553,0.00781385645981047,0.009757395769055427]},{\"line\":{\"color\":\"rgba(128, 0, 128, 1.0)\",\"dash\":\"solid\",\"shape\":\"linear\",\"width\":1.3},\"mode\":\"lines\",\"name\":\"Blueberries\",\"text\":\"\",\"type\":\"scatter\",\"x\":[-0.6931471805599453,-0.5108256237659907,-0.35667494393873245,-0.22314355131420968,-0.10536051565782628,0.0,0.09531017980432495,0.1823215567939546,0.26236426446749106,0.33647223662121284,0.4054651081081644],\"y\":[7.67671034902433e-09,5.2534512157927124e-09,2.8234496922794226e-09,5.472091667181824e-10,-9.463827503923388e-10,0.0,-2.1983885847027267e-09,-5.8884395311050225e-09,-9.493248676703245e-09,-1.2228376386307095e-08,-1.398044223502215e-08]},{\"line\":{\"color\":\"rgba(219, 64, 82, 1.0)\",\"dash\":\"solid\",\"shape\":\"linear\",\"width\":1.3},\"mode\":\"lines\",\"name\":\"Raspberries\",\"text\":\"\",\"type\":\"scatter\",\"x\":[-0.6931471805599453,-0.5108256237659907,-0.35667494393873245,-0.22314355131420968,-0.10536051565782628,0.0,0.09531017980432495,0.1823215567939546,0.26236426446749106,0.33647223662121284,0.4054651081081644],\"y\":[-7.031966122980032e-10,-7.638456536871086e-10,-4.863526249582502e-10,-4.0444836377070326e-10,3.345013155297681e-11,0.0,-9.174313535299062e-10,-2.3887790662978344e-09,-4.105433668123027e-09,-5.831936839359356e-09,-7.418798714006381e-09]},{\"line\":{\"color\":\"rgba(0, 128, 128, 1.0)\",\"dash\":\"solid\",\"shape\":\"linear\",\"width\":1.3},\"mode\":\"lines\",\"name\":\"Grapes, green, seedless\",\"text\":\"\",\"type\":\"scatter\",\"x\":[-0.6931471805599453,-0.5108256237659907,-0.35667494393873245,-0.22314355131420968,-0.10536051565782628,0.0,0.09531017980432495,0.1823215567939546,0.26236426446749106,0.33647223662121284,0.4054651081081644],\"y\":[-9.047716616880081e-09,-6.657279749644109e-09,-4.473527003293402e-09,-2.569516935861343e-09,-1.0453311555159895e-09,0.0,4.998248480519872e-10,4.332758595409545e-10,-1.680920958121722e-10,-1.228827373944753e-09,-2.643648081721028e-09]},{\"line\":{\"color\":\"rgba(255, 255, 51, 1.0)\",\"dash\":\"solid\",\"shape\":\"linear\",\"width\":1.3},\"mode\":\"lines\",\"name\":\"Strawberries\",\"text\":\"\",\"type\":\"scatter\",\"x\":[-0.6931471805599453,-0.5108256237659907,-0.35667494393873245,-0.22314355131420968,-0.10536051565782628,0.0,0.09531017980432495,0.1823215567939546,0.26236426446749106,0.33647223662121284,0.4054651081081644],\"y\":[-1.0559821073363238e-08,-7.1770819545216794e-09,-4.4746226824013065e-09,-2.3320084779334406e-09,-8.383850284194342e-10,0.0,3.5491343191392915e-10,2.2510238115411838e-10,-3.576521301980138e-10,-1.328719468668536e-09,-2.6040603041165837e-09]},{\"line\":{\"color\":\"rgba(128, 128, 0, 1.0)\",\"dash\":\"solid\",\"shape\":\"linear\",\"width\":1.3},\"mode\":\"lines\",\"name\":\"Lentils, red\",\"text\":\"\",\"type\":\"scatter\",\"x\":[-0.6931471805599453,-0.5108256237659907,-0.35667494393873245,-0.22314355131420968,-0.10536051565782628,0.0,0.09531017980432495,0.1823215567939546,0.26236426446749106,0.33647223662121284,0.4054651081081644],\"y\":[-0.04397823959338412,-0.028824016758969905,-0.015508868449938991,-0.0031293712162609056,2.3559130002798373e-07,0.0,-7.288805696699245e-09,-8.941436853155916e-09,-9.707986794942534e-09,-1.0206054609119932e-08,-1.0596035882675775e-08]},{\"line\":{\"color\":\"rgba(251, 128, 114, 1.0)\",\"dash\":\"solid\",\"shape\":\"linear\",\"width\":1.3},\"mode\":\"lines\",\"name\":\"Tofu\",\"text\":\"\",\"type\":\"scatter\",\"x\":[-0.6931471805599453,-0.5108256237659907,-0.35667494393873245,-0.22314355131420968,-0.10536051565782628,0.0,0.09531017980432495,0.1823215567939546,0.26236426446749106,0.33647223662121284,0.4054651081081644],\"y\":[-1.551674778491932e-08,-1.48419697634318e-08,-1.1922587432897434e-08,-7.307546705580903e-09,-3.0599638425520168e-09,0.0,1.8535672979299512e-09,2.7436157752468973e-09,2.7488580263101757e-09,2.973840724803821e-09,3.525238317262635e-09]},{\"line\":{\"color\":\"rgba(128, 177, 211, 1.0)\",\"dash\":\"solid\",\"shape\":\"linear\",\"width\":1.3},\"mode\":\"lines\",\"name\":\"Split peas, dry\",\"text\":\"\",\"type\":\"scatter\",\"x\":[-0.6931471805599453,-0.5108256237659907,-0.35667494393873245,-0.22314355131420968,-0.10536051565782628,0.0,0.09531017980432495,0.1823215567939546,0.26236426446749106,0.33647223662121284,0.4054651081081644],\"y\":[-0.001918939973602894,-1.1344574122286221e-08,-1.524474569321552e-08,-1.450945285565073e-08,-6.940238852162717e-09,0.0,3.6225604672534566e-09,5.104244791572376e-09,6.0244731244269e-09,3.863080292631053e-09,5.492737360959861e-09]},{\"line\":{\"color\":\"rgba(128, 177, 211, 0.8999999999999999)\",\"dash\":\"solid\",\"shape\":\"linear\",\"width\":1.3},\"mode\":\"lines\",\"name\":\"Chickpeas, canned\",\"text\":\"\",\"type\":\"scatter\",\"x\":[-0.6931471805599453,-0.5108256237659907,-0.35667494393873245,-0.22314355131420968,-0.10536051565782628,0.0,0.09531017980432495,0.1823215567939546,0.26236426446749106,0.33647223662121284,0.4054651081081644],\"y\":[8.898188848454225e-10,8.595084640320376e-10,7.183045267118789e-10,5.102973597933821e-10,2.647655427883471e-10,0.0,-2.72773026425709e-10,-5.467156728829044e-10,-8.177402092148292e-10,-1.0834305680703009e-09,-1.342455036925241e-09]},{\"line\":{\"color\":\"rgba(255, 153, 51, 0.8999999999999999)\",\"dash\":\"solid\",\"shape\":\"linear\",\"width\":1.3},\"mode\":\"lines\",\"name\":\"Quinoa, dry\",\"text\":\"\",\"type\":\"scatter\",\"x\":[-0.6931471805599453,-0.5108256237659907,-0.35667494393873245,-0.22314355131420968,-0.10536051565782628,0.0,0.09531017980432495,0.1823215567939546,0.26236426446749106,0.33647223662121284,0.4054651081081644],\"y\":[-0.008257717250694498,-0.0006287403212418017,3.837702348875779e-08,8.282323903493157e-09,2.4826700664439135e-09,0.0,-1.4141197112189644e-09,-2.346755792448641e-09,-3.0202335122942993e-09,-3.537854349074822e-09,-3.9541811014860705e-09]},{\"line\":{\"color\":\"rgba(55, 128, 191, 0.8999999999999999)\",\"dash\":\"solid\",\"shape\":\"linear\",\"width\":1.3},\"mode\":\"lines\",\"name\":\"Hummus\",\"text\":\"\",\"type\":\"scatter\",\"x\":[-0.6931471805599453,-0.5108256237659907,-0.35667494393873245,-0.22314355131420968,-0.10536051565782628,0.0,0.09531017980432495,0.1823215567939546,0.26236426446749106,0.33647223662121284,0.4054651081081644],\"y\":[-4.6211254929510695e-09,1.4745866739004738e-09,3.3610019155722963e-09,3.042243785591267e-09,1.6958139322840867e-09,0.0,-1.6986676524272115e-09,-3.3840419412871693e-09,-4.948350519371027e-09,-6.280351258784415e-09,-7.4292929862022574e-09]},{\"line\":{\"color\":\"rgba(50, 171, 96, 0.8999999999999999)\",\"dash\":\"solid\",\"shape\":\"linear\",\"width\":1.3},\"mode\":\"lines\",\"name\":\"Black beans, canned\",\"text\":\"\",\"type\":\"scatter\",\"x\":[-0.6931471805599453,-0.5108256237659907,-0.35667494393873245,-0.22314355131420968,-0.10536051565782628,0.0,0.09531017980432495,0.1823215567939546,0.26236426446749106,0.33647223662121284,0.4054651081081644],\"y\":[-0.18566551658824515,-0.13754903462731002,-0.09905859617875408,-0.06337544941915613,-0.029612757773852926,0.0,0.027083230687134904,0.03524214917504101,0.04069823414448287,0.04471851926278404,0.048722126865029566]},{\"line\":{\"color\":\"rgba(128, 0, 128, 0.8999999999999999)\",\"dash\":\"solid\",\"shape\":\"linear\",\"width\":1.3},\"mode\":\"lines\",\"name\":\"Tomato, Roma\",\"text\":\"\",\"type\":\"scatter\",\"x\":[-0.6931471805599453,-0.5108256237659907,-0.35667494393873245,-0.22314355131420968,-0.10536051565782628,0.0,0.09531017980432495,0.1823215567939546,0.26236426446749106,0.33647223662121284,0.4054651081081644],\"y\":[-9.70524920698184e-09,-6.5772311147266984e-09,-4.2528792800152234e-09,-2.3924335874367292e-09,-9.560932050641574e-10,0.0,4.0425041084191414e-10,2.1331336694741793e-10,-5.623019829119574e-10,-1.8536526775164149e-09,-3.5431720953369994e-09]},{\"line\":{\"color\":\"rgba(219, 64, 82, 0.8999999999999999)\",\"dash\":\"solid\",\"shape\":\"linear\",\"width\":1.3},\"mode\":\"lines\",\"name\":\"Broccoli\",\"text\":\"\",\"type\":\"scatter\",\"x\":[-0.6931471805599453,-0.5108256237659907,-0.35667494393873245,-0.22314355131420968,-0.10536051565782628,0.0,0.09531017980432495,0.1823215567939546,0.26236426446749106,0.33647223662121284,0.4054651081081644],\"y\":[-1.5558512710420112e-08,-1.576903087217869e-08,-1.5529940676348044e-08,-9.857593678844142e-09,-3.717994696811937e-09,0.0,-4.790237662459928e-09,-1.500265867245489e-08,-1.563613151190677e-08,-1.5641704942599853e-08,-1.5618445880892716e-08]},{\"line\":{\"color\":\"rgba(0, 128, 128, 0.8999999999999999)\",\"dash\":\"solid\",\"shape\":\"linear\",\"width\":1.3},\"mode\":\"lines\",\"name\":\"Kale\",\"text\":\"\",\"type\":\"scatter\",\"x\":[-0.6931471805599453,-0.5108256237659907,-0.35667494393873245,-0.22314355131420968,-0.10536051565782628,0.0,0.09531017980432495,0.1823215567939546,0.26236426446749106,0.33647223662121284,0.4054651081081644],\"y\":[-0.022904153454124936,-0.015274080154083795,-0.011433565306948782,-0.007607840737371071,-0.0037966899296865576,0.0,0.003782324062982713,0.0075504119637712554,0.011064391588259264,0.01415964814878745,0.01724535486635341]},{\"line\":{\"color\":\"rgba(255, 255, 51, 0.8999999999999999)\",\"dash\":\"solid\",\"shape\":\"linear\",\"width\":1.3},\"mode\":\"lines\",\"name\":\"Green beans, raw\",\"text\":\"\",\"type\":\"scatter\",\"x\":[-0.6931471805599453,-0.5108256237659907,-0.35667494393873245,-0.22314355131420968,-0.10536051565782628,0.0,0.09531017980432495,0.1823215567939546,0.26236426446749106,0.33647223662121284,0.4054651081081644],\"y\":[-2.458225737102491e-09,-1.5395835946951503e-08,-1.5739139893126592e-08,-1.504881564028571e-08,-1.0487813228473581e-08,0.0,1.2971896805844409e-08,2.5462763795234336e-08,3.58728118548539e-08,5.596341300319717e-08,7.460645112060814e-08]},{\"line\":{\"color\":\"rgba(128, 128, 0, 0.8999999999999999)\",\"dash\":\"solid\",\"shape\":\"linear\",\"width\":1.3},\"mode\":\"lines\",\"name\":\"Onions, yellow\",\"text\":\"\",\"type\":\"scatter\",\"x\":[-0.6931471805599453,-0.5108256237659907,-0.35667494393873245,-0.22314355131420968,-0.10536051565782628,0.0,0.09531017980432495,0.1823215567939546,0.26236426446749106,0.33647223662121284,0.4054651081081644],\"y\":[-4.675660758397183e-09,-2.6452338132712936e-09,-1.3995662416578887e-09,-6.480206373606023e-10,-2.1520230044742248e-10,0.0,5.691869198025773e-11,-8.324341216371609e-12,-1.7250545438041373e-10,-4.1959014049829215e-10,-7.37610639506311e-10]},{\"line\":{\"color\":\"rgba(251, 128, 114, 0.8999999999999999)\",\"dash\":\"solid\",\"shape\":\"linear\",\"width\":1.3},\"mode\":\"lines\",\"name\":\"Celery\",\"text\":\"\",\"type\":\"scatter\",\"x\":[-0.6931471805599453,-0.5108256237659907,-0.35667494393873245,-0.22314355131420968,-0.10536051565782628,0.0,0.09531017980432495,0.1823215567939546,0.26236426446749106,0.33647223662121284,0.4054651081081644],\"y\":[-1.1935218107332358e-08,-9.953669604789334e-09,-7.500660676270878e-09,-4.92535380361462e-09,-2.394498491245172e-09,0.0,2.194599610739696e-09,4.147268742042833e-09,5.835443000661483e-09,7.25373469768038e-09,8.410478722512848e-09]},{\"line\":{\"color\":\"rgba(251, 128, 114, 0.7999999999999998)\",\"dash\":\"solid\",\"shape\":\"linear\",\"width\":1.3},\"mode\":\"lines\",\"name\":\"Potato, Russet\",\"text\":\"\",\"type\":\"scatter\",\"x\":[-0.6931471805599453,-0.5108256237659907,-0.35667494393873245,-0.22314355131420968,-0.10536051565782628,0.0,0.09531017980432495,0.1823215567939546,0.26236426446749106,0.33647223662121284,0.4054651081081644],\"y\":[-0.011184594739442348,-1.5798620869764952e-08,2.0357711051727725e-09,-1.563882391380589e-08,-1.369427458592634e-08,0.0,1.2811707168578476e-08,3.330816922315103e-08,4.791565163088561e-08,7.087305935221234e-08,9.234797388930997e-08]},{\"line\":{\"color\":\"rgba(128, 177, 211, 0.7999999999999998)\",\"dash\":\"solid\",\"shape\":\"linear\",\"width\":1.3},\"mode\":\"lines\",\"name\":\"Carrot\",\"text\":\"\",\"type\":\"scatter\",\"x\":[-0.6931471805599453,-0.5108256237659907,-0.35667494393873245,-0.22314355131420968,-0.10536051565782628,0.0,0.09531017980432495,0.1823215567939546,0.26236426446749106,0.33647223662121284,0.4054651081081644],\"y\":[-0.08717975018382935,-0.05812570045735961,-0.036126546947566465,-0.01684515285905748,-0.004766812931784825,0.0,0.001682794822168504,0.0033627723715782955,0.005039927315135691,0.00671427049573731,0.008385812198289317]},{\"line\":{\"color\":\"rgba(255, 153, 51, 0.7999999999999998)\",\"dash\":\"solid\",\"shape\":\"linear\",\"width\":1.3},\"mode\":\"lines\",\"name\":\"Cucumber\",\"text\":\"\",\"type\":\"scatter\",\"x\":[-0.6931471805599453,-0.5108256237659907,-0.35667494393873245,-0.22314355131420968,-0.10536051565782628,0.0,0.09531017980432495,0.1823215567939546,0.26236426446749106,0.33647223662121284,0.4054651081081644],\"y\":[-8.21871463154776e-09,-6.041574259139557e-09,-4.085879198887913e-09,-2.3920301323886156e-09,-1.0138914157830738e-09,0.0,6.184996957122806e-10,8.331830777390113e-10,6.581106768487829e-10,1.322151277262399e-10,-6.925967579629969e-10]},{\"line\":{\"color\":\"rgba(55, 128, 191, 0.7999999999999998)\",\"dash\":\"solid\",\"shape\":\"linear\",\"width\":1.3},\"mode\":\"lines\",\"name\":\"Avocado\",\"text\":\"\",\"type\":\"scatter\",\"x\":[-0.6931471805599453,-0.5108256237659907,-0.35667494393873245,-0.22314355131420968,-0.10536051565782628,0.0,0.09531017980432495,0.1823215567939546,0.26236426446749106,0.33647223662121284,0.4054651081081644],\"y\":[-0.03174932347990932,-0.02049956673672614,-0.011121229832779096,-0.005107483282907135,-0.002550568721752029,0.0,0.002544056719255059,0.004215988375794859,0.004215987330668613,0.004215987119545512,0.0042159870709814785]},{\"line\":{\"color\":\"rgba(50, 171, 96, 0.7999999999999998)\",\"dash\":\"solid\",\"shape\":\"linear\",\"width\":1.3},\"mode\":\"lines\",\"name\":\"Lettuce, Romaine\",\"text\":\"\",\"type\":\"scatter\",\"x\":[-0.6931471805599453,-0.5108256237659907,-0.35667494393873245,-0.22314355131420968,-0.10536051565782628,0.0,0.09531017980432495,0.1823215567939546,0.26236426446749106,0.33647223662121284,0.4054651081081644],\"y\":[-1.5756060469444454e-08,-1.5622902316183177e-08,-1.5456720467538868e-08,-1.566402275721251e-08,-1.4018832637528115e-08,0.0,-5.403218886921476e-09,-6.692224130599733e-09,-9.98353105173575e-09,-1.3439873193630942e-08,-1.4550448951653709e-08]},{\"line\":{\"color\":\"rgba(128, 0, 128, 0.7999999999999998)\",\"dash\":\"solid\",\"shape\":\"linear\",\"width\":1.3},\"mode\":\"lines\",\"name\":\"Mushrooms\",\"text\":\"\",\"type\":\"scatter\",\"x\":[-0.6931471805599453,-0.5108256237659907,-0.35667494393873245,-0.22314355131420968,-0.10536051565782628,0.0,0.09531017980432495,0.1823215567939546,0.26236426446749106,0.33647223662121284,0.4054651081081644],\"y\":[-1.579199505864933e-08,-1.5305981599386357e-08,-1.447613861491259e-08,-3.0870395133821667e-10,-6.419689226717698e-10,0.0,-1.7818972979699189e-09,-5.440114706854276e-09,-9.667354630249066e-09,-1.3129522999516552e-08,-1.4572271495743507e-08]},{\"line\":{\"color\":\"rgba(219, 64, 82, 0.7999999999999998)\",\"dash\":\"solid\",\"shape\":\"linear\",\"width\":1.3},\"mode\":\"lines\",\"name\":\"Spinach\",\"text\":\"\",\"type\":\"scatter\",\"x\":[-0.6931471805599453,-0.5108256237659907,-0.35667494393873245,-0.22314355131420968,-0.10536051565782628,0.0,0.09531017980432495,0.1823215567939546,0.26236426446749106,0.33647223662121284,0.4054651081081644],\"y\":[-1.3534677026361472e-08,1.5853840493791383e-07,-1.5814836232407425e-08,-1.5677701260201756e-08,-1.5486507973795024e-08,0.0,-5.13692201207681e-09,-1.5238893374496613e-08,-1.5119239863357527e-08,-1.5037703750931984e-08,-1.49683290217068e-08]},{\"line\":{\"color\":\"rgba(0, 128, 128, 0.7999999999999998)\",\"dash\":\"solid\",\"shape\":\"linear\",\"width\":1.3},\"mode\":\"lines\",\"name\":\"Rice, White\",\"text\":\"\",\"type\":\"scatter\",\"x\":[-0.6931471805599453,-0.5108256237659907,-0.35667494393873245,-0.22314355131420968,-0.10536051565782628,0.0,0.09531017980432495,0.1823215567939546,0.26236426446749106,0.33647223662121284,0.4054651081081644],\"y\":[6.443993664215527e-08,2.8186230951693806e-08,1.3311056390689434e-08,6.2185212341520935e-09,2.3470623195177578e-09,0.0,-1.5423233813108826e-09,-2.6218001137842124e-09,-3.4166259879699922e-09,-4.026979424701972e-09,-4.5325805433952526e-09]},{\"line\":{\"color\":\"rgba(255, 255, 51, 0.7999999999999998)\",\"dash\":\"solid\",\"shape\":\"linear\",\"width\":1.3},\"mode\":\"lines\",\"name\":\"Tortillas, corn\",\"text\":\"\",\"type\":\"scatter\",\"x\":[-0.6931471805599453,-0.5108256237659907,-0.35667494393873245,-0.22314355131420968,-0.10536051565782628,0.0,0.09531017980432495,0.1823215567939546,0.26236426446749106,0.33647223662121284,0.4054651081081644],\"y\":[-0.011347940357039222,-0.008119792035507898,-0.005167712881316218,-0.0030286339619697714,-0.001282069984954864,0.0,0.0012804122683328085,0.0017208077668905693,0.001720715044669027,0.0017210571630789167,0.0017207325243337615]},{\"line\":{\"color\":\"rgba(128, 128, 0, 0.7999999999999998)\",\"dash\":\"solid\",\"shape\":\"linear\",\"width\":1.3},\"mode\":\"lines\",\"name\":\"Oats, rolled\",\"text\":\"\",\"type\":\"scatter\",\"x\":[-0.6931471805599453,-0.5108256237659907,-0.35667494393873245,-0.22314355131420968,-0.10536051565782628,0.0,0.09531017980432495,0.1823215567939546,0.26236426446749106,0.33647223662121284,0.4054651081081644],\"y\":[-1.4490340143960069e-08,-1.0396855097606881e-08,-6.7151415764722815e-09,-3.835225366870891e-09,-1.660013017313923e-09,0.0,1.2924830086720941e-09,2.317923850170621e-09,3.1454017119173954e-09,3.8231351344923676e-09,4.385414022299574e-09]},{\"line\":{\"color\":\"rgba(128, 128, 0, 0.7)\",\"dash\":\"solid\",\"shape\":\"linear\",\"width\":1.3},\"mode\":\"lines\",\"name\":\"Soy milk, unsweetened\",\"text\":\"\",\"type\":\"scatter\",\"x\":[-0.6931471805599453,-0.5108256237659907,-0.35667494393873245,-0.22314355131420968,-0.10536051565782628,0.0,0.09531017980432495,0.1823215567939546,0.26236426446749106,0.33647223662121284,0.4054651081081644],\"y\":[-0.19702499006728477,-0.15439193942801932,-0.11350238541947295,-0.07421931409318766,-0.03642125135082577,0.0,0.0351412268655212,0.06908935585817434,0.1019227487924666,0.13371229217768915,0.16452231879982895]},{\"line\":{\"color\":\"rgba(251, 128, 114, 0.7)\",\"dash\":\"solid\",\"shape\":\"linear\",\"width\":1.3},\"mode\":\"lines\",\"name\":\"Peanut butter, creamy\",\"text\":\"\",\"type\":\"scatter\",\"x\":[-0.6931471805599453,-0.5108256237659907,-0.35667494393873245,-0.22314355131420968,-0.10536051565782628,0.0,0.09531017980432495,0.1823215567939546,0.26236426446749106,0.33647223662121284,0.4054651081081644],\"y\":[-0.10834646760350483,-0.08018104829491247,-0.059197530595756304,-0.03895950161273121,-0.019289899034675064,0.0,0.018924935302786945,0.036957993998634864,0.05412128471627969,0.07003343008740709,0.08412198369466775]},{\"line\":{\"color\":\"rgba(128, 177, 211, 0.7)\",\"dash\":\"solid\",\"shape\":\"linear\",\"width\":1.3},\"mode\":\"lines\",\"name\":\"Rice, Brown\",\"text\":\"\",\"type\":\"scatter\",\"x\":[-0.6931471805599453,-0.5108256237659907,-0.35667494393873245,-0.22314355131420968,-0.10536051565782628,0.0,0.09531017980432495,0.1823215567939546,0.26236426446749106,0.33647223662121284,0.4054651081081644],\"y\":[1.0796188715323849e-07,2.9326892484094394e-08,9.049031039068168e-09,3.3484401861800136e-09,1.092920420233741e-09,0.0,-6.060130177292184e-10,-9.793071913754164e-10,-1.2318239769142058e-09,-1.4187397933201836e-09,-1.5699197509877236e-09]},{\"line\":{\"color\":\"rgba(255, 153, 51, 0.7)\",\"dash\":\"solid\",\"shape\":\"linear\",\"width\":1.3},\"mode\":\"lines\",\"name\":\"Spaghetti, dry\",\"text\":\"\",\"type\":\"scatter\",\"x\":[-0.6931471805599453,-0.5108256237659907,-0.35667494393873245,-0.22314355131420968,-0.10536051565782628,0.0,0.09531017980432495,0.1823215567939546,0.26236426446749106,0.33647223662121284,0.4054651081081644],\"y\":[-0.00026539682648947993,-2.7290311737800668e-05,-1.575575926593313e-08,1.3237286390192325e-07,3.096978181465751e-08,0.0,-7.884545270006151e-09,-1.0581172105642403e-08,-1.1812944803286407e-08,-1.2053835113862181e-08,-1.2217975927907583e-08]}],                        {\"legend\":{\"bgcolor\":\"#F5F6F9\",\"font\":{\"color\":\"#4D5663\"}},\"paper_bgcolor\":\"#F5F6F9\",\"plot_bgcolor\":\"#F5F6F9\",\"template\":{\"data\":{\"bar\":[{\"error_x\":{\"color\":\"#2a3f5f\"},\"error_y\":{\"color\":\"#2a3f5f\"},\"marker\":{\"line\":{\"color\":\"#E5ECF6\",\"width\":0.5},\"pattern\":{\"fillmode\":\"overlay\",\"size\":10,\"solidity\":0.2}},\"type\":\"bar\"}],\"barpolar\":[{\"marker\":{\"line\":{\"color\":\"#E5ECF6\",\"width\":0.5},\"pattern\":{\"fillmode\":\"overlay\",\"size\":10,\"solidity\":0.2}},\"type\":\"barpolar\"}],\"carpet\":[{\"aaxis\":{\"endlinecolor\":\"#2a3f5f\",\"gridcolor\":\"white\",\"linecolor\":\"white\",\"minorgridcolor\":\"white\",\"startlinecolor\":\"#2a3f5f\"},\"baxis\":{\"endlinecolor\":\"#2a3f5f\",\"gridcolor\":\"white\",\"linecolor\":\"white\",\"minorgridcolor\":\"white\",\"startlinecolor\":\"#2a3f5f\"},\"type\":\"carpet\"}],\"choropleth\":[{\"colorbar\":{\"outlinewidth\":0,\"ticks\":\"\"},\"type\":\"choropleth\"}],\"contour\":[{\"colorbar\":{\"outlinewidth\":0,\"ticks\":\"\"},\"colorscale\":[[0.0,\"#0d0887\"],[0.1111111111111111,\"#46039f\"],[0.2222222222222222,\"#7201a8\"],[0.3333333333333333,\"#9c179e\"],[0.4444444444444444,\"#bd3786\"],[0.5555555555555556,\"#d8576b\"],[0.6666666666666666,\"#ed7953\"],[0.7777777777777778,\"#fb9f3a\"],[0.8888888888888888,\"#fdca26\"],[1.0,\"#f0f921\"]],\"type\":\"contour\"}],\"contourcarpet\":[{\"colorbar\":{\"outlinewidth\":0,\"ticks\":\"\"},\"type\":\"contourcarpet\"}],\"heatmap\":[{\"colorbar\":{\"outlinewidth\":0,\"ticks\":\"\"},\"colorscale\":[[0.0,\"#0d0887\"],[0.1111111111111111,\"#46039f\"],[0.2222222222222222,\"#7201a8\"],[0.3333333333333333,\"#9c179e\"],[0.4444444444444444,\"#bd3786\"],[0.5555555555555556,\"#d8576b\"],[0.6666666666666666,\"#ed7953\"],[0.7777777777777778,\"#fb9f3a\"],[0.8888888888888888,\"#fdca26\"],[1.0,\"#f0f921\"]],\"type\":\"heatmap\"}],\"heatmapgl\":[{\"colorbar\":{\"outlinewidth\":0,\"ticks\":\"\"},\"colorscale\":[[0.0,\"#0d0887\"],[0.1111111111111111,\"#46039f\"],[0.2222222222222222,\"#7201a8\"],[0.3333333333333333,\"#9c179e\"],[0.4444444444444444,\"#bd3786\"],[0.5555555555555556,\"#d8576b\"],[0.6666666666666666,\"#ed7953\"],[0.7777777777777778,\"#fb9f3a\"],[0.8888888888888888,\"#fdca26\"],[1.0,\"#f0f921\"]],\"type\":\"heatmapgl\"}],\"histogram\":[{\"marker\":{\"pattern\":{\"fillmode\":\"overlay\",\"size\":10,\"solidity\":0.2}},\"type\":\"histogram\"}],\"histogram2d\":[{\"colorbar\":{\"outlinewidth\":0,\"ticks\":\"\"},\"colorscale\":[[0.0,\"#0d0887\"],[0.1111111111111111,\"#46039f\"],[0.2222222222222222,\"#7201a8\"],[0.3333333333333333,\"#9c179e\"],[0.4444444444444444,\"#bd3786\"],[0.5555555555555556,\"#d8576b\"],[0.6666666666666666,\"#ed7953\"],[0.7777777777777778,\"#fb9f3a\"],[0.8888888888888888,\"#fdca26\"],[1.0,\"#f0f921\"]],\"type\":\"histogram2d\"}],\"histogram2dcontour\":[{\"colorbar\":{\"outlinewidth\":0,\"ticks\":\"\"},\"colorscale\":[[0.0,\"#0d0887\"],[0.1111111111111111,\"#46039f\"],[0.2222222222222222,\"#7201a8\"],[0.3333333333333333,\"#9c179e\"],[0.4444444444444444,\"#bd3786\"],[0.5555555555555556,\"#d8576b\"],[0.6666666666666666,\"#ed7953\"],[0.7777777777777778,\"#fb9f3a\"],[0.8888888888888888,\"#fdca26\"],[1.0,\"#f0f921\"]],\"type\":\"histogram2dcontour\"}],\"mesh3d\":[{\"colorbar\":{\"outlinewidth\":0,\"ticks\":\"\"},\"type\":\"mesh3d\"}],\"parcoords\":[{\"line\":{\"colorbar\":{\"outlinewidth\":0,\"ticks\":\"\"}},\"type\":\"parcoords\"}],\"pie\":[{\"automargin\":true,\"type\":\"pie\"}],\"scatter\":[{\"marker\":{\"colorbar\":{\"outlinewidth\":0,\"ticks\":\"\"}},\"type\":\"scatter\"}],\"scatter3d\":[{\"line\":{\"colorbar\":{\"outlinewidth\":0,\"ticks\":\"\"}},\"marker\":{\"colorbar\":{\"outlinewidth\":0,\"ticks\":\"\"}},\"type\":\"scatter3d\"}],\"scattercarpet\":[{\"marker\":{\"colorbar\":{\"outlinewidth\":0,\"ticks\":\"\"}},\"type\":\"scattercarpet\"}],\"scattergeo\":[{\"marker\":{\"colorbar\":{\"outlinewidth\":0,\"ticks\":\"\"}},\"type\":\"scattergeo\"}],\"scattergl\":[{\"marker\":{\"colorbar\":{\"outlinewidth\":0,\"ticks\":\"\"}},\"type\":\"scattergl\"}],\"scattermapbox\":[{\"marker\":{\"colorbar\":{\"outlinewidth\":0,\"ticks\":\"\"}},\"type\":\"scattermapbox\"}],\"scatterpolar\":[{\"marker\":{\"colorbar\":{\"outlinewidth\":0,\"ticks\":\"\"}},\"type\":\"scatterpolar\"}],\"scatterpolargl\":[{\"marker\":{\"colorbar\":{\"outlinewidth\":0,\"ticks\":\"\"}},\"type\":\"scatterpolargl\"}],\"scatterternary\":[{\"marker\":{\"colorbar\":{\"outlinewidth\":0,\"ticks\":\"\"}},\"type\":\"scatterternary\"}],\"surface\":[{\"colorbar\":{\"outlinewidth\":0,\"ticks\":\"\"},\"colorscale\":[[0.0,\"#0d0887\"],[0.1111111111111111,\"#46039f\"],[0.2222222222222222,\"#7201a8\"],[0.3333333333333333,\"#9c179e\"],[0.4444444444444444,\"#bd3786\"],[0.5555555555555556,\"#d8576b\"],[0.6666666666666666,\"#ed7953\"],[0.7777777777777778,\"#fb9f3a\"],[0.8888888888888888,\"#fdca26\"],[1.0,\"#f0f921\"]],\"type\":\"surface\"}],\"table\":[{\"cells\":{\"fill\":{\"color\":\"#EBF0F8\"},\"line\":{\"color\":\"white\"}},\"header\":{\"fill\":{\"color\":\"#C8D4E3\"},\"line\":{\"color\":\"white\"}},\"type\":\"table\"}]},\"layout\":{\"annotationdefaults\":{\"arrowcolor\":\"#2a3f5f\",\"arrowhead\":0,\"arrowwidth\":1},\"autotypenumbers\":\"strict\",\"coloraxis\":{\"colorbar\":{\"outlinewidth\":0,\"ticks\":\"\"}},\"colorscale\":{\"diverging\":[[0,\"#8e0152\"],[0.1,\"#c51b7d\"],[0.2,\"#de77ae\"],[0.3,\"#f1b6da\"],[0.4,\"#fde0ef\"],[0.5,\"#f7f7f7\"],[0.6,\"#e6f5d0\"],[0.7,\"#b8e186\"],[0.8,\"#7fbc41\"],[0.9,\"#4d9221\"],[1,\"#276419\"]],\"sequential\":[[0.0,\"#0d0887\"],[0.1111111111111111,\"#46039f\"],[0.2222222222222222,\"#7201a8\"],[0.3333333333333333,\"#9c179e\"],[0.4444444444444444,\"#bd3786\"],[0.5555555555555556,\"#d8576b\"],[0.6666666666666666,\"#ed7953\"],[0.7777777777777778,\"#fb9f3a\"],[0.8888888888888888,\"#fdca26\"],[1.0,\"#f0f921\"]],\"sequentialminus\":[[0.0,\"#0d0887\"],[0.1111111111111111,\"#46039f\"],[0.2222222222222222,\"#7201a8\"],[0.3333333333333333,\"#9c179e\"],[0.4444444444444444,\"#bd3786\"],[0.5555555555555556,\"#d8576b\"],[0.6666666666666666,\"#ed7953\"],[0.7777777777777778,\"#fb9f3a\"],[0.8888888888888888,\"#fdca26\"],[1.0,\"#f0f921\"]]},\"colorway\":[\"#636efa\",\"#EF553B\",\"#00cc96\",\"#ab63fa\",\"#FFA15A\",\"#19d3f3\",\"#FF6692\",\"#B6E880\",\"#FF97FF\",\"#FECB52\"],\"font\":{\"color\":\"#2a3f5f\"},\"geo\":{\"bgcolor\":\"white\",\"lakecolor\":\"white\",\"landcolor\":\"#E5ECF6\",\"showlakes\":true,\"showland\":true,\"subunitcolor\":\"white\"},\"hoverlabel\":{\"align\":\"left\"},\"hovermode\":\"closest\",\"mapbox\":{\"style\":\"light\"},\"paper_bgcolor\":\"white\",\"plot_bgcolor\":\"#E5ECF6\",\"polar\":{\"angularaxis\":{\"gridcolor\":\"white\",\"linecolor\":\"white\",\"ticks\":\"\"},\"bgcolor\":\"#E5ECF6\",\"radialaxis\":{\"gridcolor\":\"white\",\"linecolor\":\"white\",\"ticks\":\"\"}},\"scene\":{\"xaxis\":{\"backgroundcolor\":\"#E5ECF6\",\"gridcolor\":\"white\",\"gridwidth\":2,\"linecolor\":\"white\",\"showbackground\":true,\"ticks\":\"\",\"zerolinecolor\":\"white\"},\"yaxis\":{\"backgroundcolor\":\"#E5ECF6\",\"gridcolor\":\"white\",\"gridwidth\":2,\"linecolor\":\"white\",\"showbackground\":true,\"ticks\":\"\",\"zerolinecolor\":\"white\"},\"zaxis\":{\"backgroundcolor\":\"#E5ECF6\",\"gridcolor\":\"white\",\"gridwidth\":2,\"linecolor\":\"white\",\"showbackground\":true,\"ticks\":\"\",\"zerolinecolor\":\"white\"}},\"shapedefaults\":{\"line\":{\"color\":\"#2a3f5f\"}},\"ternary\":{\"aaxis\":{\"gridcolor\":\"white\",\"linecolor\":\"white\",\"ticks\":\"\"},\"baxis\":{\"gridcolor\":\"white\",\"linecolor\":\"white\",\"ticks\":\"\"},\"bgcolor\":\"#E5ECF6\",\"caxis\":{\"gridcolor\":\"white\",\"linecolor\":\"white\",\"ticks\":\"\"}},\"title\":{\"x\":0.05},\"xaxis\":{\"automargin\":true,\"gridcolor\":\"white\",\"linecolor\":\"white\",\"ticks\":\"\",\"title\":{\"standoff\":15},\"zerolinecolor\":\"white\",\"zerolinewidth\":2},\"yaxis\":{\"automargin\":true,\"gridcolor\":\"white\",\"linecolor\":\"white\",\"ticks\":\"\",\"title\":{\"standoff\":15},\"zerolinecolor\":\"white\",\"zerolinewidth\":2}}},\"title\":{\"font\":{\"color\":\"#4D5663\"}},\"xaxis\":{\"gridcolor\":\"#E1E5ED\",\"showgrid\":true,\"tickfont\":{\"color\":\"#4D5663\"},\"title\":{\"font\":{\"color\":\"#4D5663\"},\"text\":\"change in log price\"},\"zerolinecolor\":\"#E1E5ED\"},\"yaxis\":{\"gridcolor\":\"#E1E5ED\",\"showgrid\":true,\"tickfont\":{\"color\":\"#4D5663\"},\"title\":{\"font\":{\"color\":\"#4D5663\"},\"text\":\"change in log cost\"},\"zerolinecolor\":\"#E1E5ED\"}},                        {\"showLink\": true, \"linkText\": \"Export to plot.ly\", \"plotlyServerURL\": \"https://plot.ly\", \"responsive\": true}                    ).then(function(){\n",
       "                            \n",
       "var gd = document.getElementById('9bd2d2d7-1fa7-44c2-abf5-fbaaa6aaccc0');\n",
       "var x = new MutationObserver(function (mutations, observer) {{\n",
       "        var display = window.getComputedStyle(gd).display;\n",
       "        if (!display || display === 'none') {{\n",
       "            console.log([gd, 'removed!']);\n",
       "            Plotly.purge(gd);\n",
       "            observer.disconnect();\n",
       "        }}\n",
       "}});\n",
       "\n",
       "// Listen for the removal of the full notebook cells\n",
       "var notebookContainer = gd.closest('#notebook-container');\n",
       "if (notebookContainer) {{\n",
       "    x.observe(notebookContainer, {childList: true});\n",
       "}}\n",
       "\n",
       "// Listen for the clearing of the current output cell\n",
       "var outputEl = gd.closest('.output');\n",
       "if (outputEl) {{\n",
       "    x.observe(outputEl, {childList: true});\n",
       "}}\n",
       "\n",
       "                        })                };                });            </script>        </div>"
      ]
     },
     "metadata": {},
     "output_type": "display_data"
    }
   ],
   "source": [
    "import cufflinks as cf\n",
    "cf.go_offline()\n",
    "\n",
    "scale = [.5,.6,.7,.8,.9,1.,1.1,1.2,1.3,1.4,1.5]\n",
    "\n",
    "cost0 = solve_subsistence_problem(FoodNutrients,Prices,diet_min[group],diet_max[group],tol=tol).fun\n",
    "\n",
    "Price_response={}\n",
    "for s in scale:\n",
    "    cost = {}\n",
    "    for i,p in enumerate(Prices):\n",
    "        my_p = Prices.copy()\n",
    "        my_p[i] = p*s\n",
    "        result = solve_subsistence_problem(FoodNutrients,my_p,diet_min[group],diet_max[group],tol=tol)\n",
    "        cost[Prices.index[i]] = np.log(result.fun/cost0)\n",
    "    Price_response[np.log(s)] = cost\n",
    "\n",
    "Price_response = pd.DataFrame(Price_response).T\n",
    "Price_response.iplot(xTitle='change in log price',yTitle='change in log cost')"
   ]
  },
  {
   "cell_type": "markdown",
   "metadata": {},
   "source": [
    "## Effects of Price Changes on Subsistence Diet Composition\n",
    "\n"
   ]
  },
  {
   "cell_type": "markdown",
   "metadata": {},
   "source": [
    "The code below creates a graph which changes prices just for *one* food,\n",
    "  and traces out the effects of this change on all the foods consumed.\n",
    "\n"
   ]
  },
  {
   "cell_type": "code",
   "execution_count": 128,
   "metadata": {},
   "outputs": [
    {
     "data": {
      "text/html": [
       "        <script type=\"text/javascript\">\n",
       "        window.PlotlyConfig = {MathJaxConfig: 'local'};\n",
       "        if (window.MathJax) {MathJax.Hub.Config({SVG: {font: \"STIX-Web\"}});}\n",
       "        if (typeof require !== 'undefined') {\n",
       "        require.undef(\"plotly\");\n",
       "        requirejs.config({\n",
       "            paths: {\n",
       "                'plotly': ['https://cdn.plot.ly/plotly-2.3.1.min']\n",
       "            }\n",
       "        });\n",
       "        require(['plotly'], function(Plotly) {\n",
       "            window._Plotly = Plotly;\n",
       "        });\n",
       "        }\n",
       "        </script>\n",
       "        "
      ]
     },
     "metadata": {},
     "output_type": "display_data"
    },
    {
     "name": "stderr",
     "output_type": "stream",
     "text": [
      "/opt/conda/lib/python3.9/site-packages/pandas/core/dtypes/cast.py:1990: UnitStrippedWarning:\n",
      "\n",
      "The unit of the quantity is stripped when downcasting to ndarray.\n",
      "\n"
     ]
    },
    {
     "data": {
      "application/vnd.plotly.v1+json": {
       "config": {
        "linkText": "Export to plot.ly",
        "plotlyServerURL": "https://plot.ly",
        "showLink": true
       },
       "data": [
        {
         "line": {
          "color": "rgba(255, 153, 51, 1.0)",
          "dash": "solid",
          "shape": "linear",
          "width": 1.3
         },
         "mode": "lines",
         "name": " Banana,raw",
         "text": "",
         "type": "scatter",
         "x": [
          0.3659673552268968,
          0.5489510328403452,
          0.6587412394084142,
          0.7319347104537935,
          0.805128181499173,
          0.8783216525445522,
          0.9515151235899316,
          1.024708594635311,
          1.0979020656806904,
          1.463869420907587,
          2.927738841815174
         ],
         "y": [
          1.5896448754449395,
          1.5896449430778736,
          1.5896449318214716,
          1.5896443175259862,
          1.5896445782908109,
          1.5896448833235828,
          1.5896448750688663,
          1.5896448707941437,
          1.5896448687046962,
          1.5896448335974835,
          1.5896449401441475
         ]
        },
        {
         "line": {
          "color": "rgba(55, 128, 191, 1.0)",
          "dash": "solid",
          "shape": "linear",
          "width": 1.3
         },
         "mode": "lines",
         "name": "Oranges, Navel",
         "text": "",
         "type": "scatter",
         "x": [
          0.3659673552268968,
          0.5489510328403452,
          0.6587412394084142,
          0.7319347104537935,
          0.805128181499173,
          0.8783216525445522,
          0.9515151235899316,
          1.024708594635311,
          1.0979020656806904,
          1.463869420907587,
          2.927738841815174
         ],
         "y": [
          0.3388344129570882,
          0.33883440321648156,
          0.3388344045125301,
          0.3388344836976061,
          0.3388344491855748,
          0.33883441142228315,
          0.33883441251541513,
          0.33883441301682404,
          0.33883441316455937,
          0.3388344159433859,
          0.3388344036377675
         ]
        },
        {
         "line": {
          "color": "rgba(50, 171, 96, 1.0)",
          "dash": "solid",
          "shape": "linear",
          "width": 1.3
         },
         "mode": "lines",
         "name": "Black beans, canned",
         "text": "",
         "type": "scatter",
         "x": [
          0.3659673552268968,
          0.5489510328403452,
          0.6587412394084142,
          0.7319347104537935,
          0.805128181499173,
          0.8783216525445522,
          0.9515151235899316,
          1.024708594635311,
          1.0979020656806904,
          1.463869420907587,
          2.927738841815174
         ],
         "y": [
          5.381961596177318,
          5.38196161408416,
          5.381961614683387,
          5.381961423955438,
          5.38196151777709,
          5.381961628924427,
          5.3819616316084495,
          5.381961631898649,
          5.381961630135294,
          5.3819616254688345,
          5.3819616133696195
         ]
        },
        {
         "line": {
          "color": "rgba(128, 0, 128, 1.0)",
          "dash": "solid",
          "shape": "linear",
          "width": 1.3
         },
         "mode": "lines",
         "name": "Kale",
         "text": "",
         "type": "scatter",
         "x": [
          0.3659673552268968,
          0.5489510328403452,
          0.6587412394084142,
          0.7319347104537935,
          0.805128181499173,
          0.8783216525445522,
          0.9515151235899316,
          1.024708594635311,
          1.0979020656806904,
          1.463869420907587,
          2.927738841815174
         ],
         "y": [
          0.1683443069290071,
          0.16834430875349815,
          0.16834430839642422,
          0.1683442848494885,
          0.1683442962544029,
          0.16834430685005256,
          0.1683443066516727,
          0.16834430651959822,
          0.1683443064007853,
          0.1683443054196462,
          0.1683443086350461
         ]
        },
        {
         "line": {
          "color": "rgba(219, 64, 82, 1.0)",
          "dash": "solid",
          "shape": "linear",
          "width": 1.3
         },
         "mode": "lines",
         "name": "Carrot",
         "text": "",
         "type": "scatter",
         "x": [
          0.3659673552268968,
          0.5489510328403452,
          0.6587412394084142,
          0.7319347104537935,
          0.805128181499173,
          0.8783216525445522,
          0.9515151235899316,
          1.024708594635311,
          1.0979020656806904,
          1.463869420907587,
          2.927738841815174
         ],
         "y": [
          0.35973459353246484,
          0.35973452505377607,
          0.35973453503745767,
          0.3597353769588023,
          0.3597350135240513,
          0.35973458337411957,
          0.3597345902850967,
          0.35973459446566725,
          0.35973459756585563,
          0.35973462802777517,
          0.35973452843038983
         ]
        },
        {
         "line": {
          "color": "rgba(0, 128, 128, 1.0)",
          "dash": "solid",
          "shape": "linear",
          "width": 1.3
         },
         "mode": "lines",
         "name": "Avocado",
         "text": "",
         "type": "scatter",
         "x": [
          0.3659673552268968,
          0.5489510328403452,
          0.6587412394084142,
          0.7319347104537935,
          0.805128181499173,
          0.8783216525445522,
          0.9515151235899316,
          1.024708594635311,
          1.0979020656806904,
          1.463869420907587,
          2.927738841815174
         ],
         "y": [
          0.30451654826460817,
          0.3045165472776106,
          0.30451654891759977,
          0.30451652135513924,
          0.30451651330473417,
          0.30451654873584766,
          0.30451654886416624,
          0.30451654935322064,
          0.3045165502933446,
          0.304516558931265,
          0.3045165476052885
         ]
        },
        {
         "line": {
          "color": "rgba(255, 255, 51, 1.0)",
          "dash": "solid",
          "shape": "linear",
          "width": 1.3
         },
         "mode": "lines",
         "name": "Tortillas, corn",
         "text": "",
         "type": "scatter",
         "x": [
          0.3659673552268968,
          0.5489510328403452,
          0.6587412394084142,
          0.7319347104537935,
          0.805128181499173,
          0.8783216525445522,
          0.9515151235899316,
          1.024708594635311,
          1.0979020656806904,
          1.463869420907587,
          2.927738841815174
         ],
         "y": [
          0.1583095565981281,
          0.15830956425248896,
          0.1583095622719267,
          0.1583095338694348,
          0.15830954808565295,
          0.15830955290885493,
          0.1583095511960087,
          0.1583095504467943,
          0.15830955032228047,
          0.1583095446167944,
          0.15830956394768003
         ]
        },
        {
         "line": {
          "color": "rgba(128, 128, 0, 1.0)",
          "dash": "solid",
          "shape": "linear",
          "width": 1.3
         },
         "mode": "lines",
         "name": "Soy milk, unsweetened",
         "text": "",
         "type": "scatter",
         "x": [
          0.3659673552268968,
          0.5489510328403452,
          0.6587412394084142,
          0.7319347104537935,
          0.805128181499173,
          0.8783216525445522,
          0.9515151235899316,
          1.024708594635311,
          1.0979020656806904,
          1.463869420907587,
          2.927738841815174
         ],
         "y": [
          6.1053167146507334,
          6.105316713400017,
          6.1053167135395485,
          6.105316718903675,
          6.105316717290184,
          6.105316713658208,
          6.105316713742564,
          6.105316713803903,
          6.105316713857775,
          6.105316714672682,
          6.105316713426556
         ]
        },
        {
         "line": {
          "color": "rgba(251, 128, 114, 1.0)",
          "dash": "solid",
          "shape": "linear",
          "width": 1.3
         },
         "mode": "lines",
         "name": "Peanut butter, creamy",
         "text": "",
         "type": "scatter",
         "x": [
          0.3659673552268968,
          0.5489510328403452,
          0.6587412394084142,
          0.7319347104537935,
          0.805128181499173,
          0.8783216525445522,
          0.9515151235899316,
          1.024708594635311,
          1.0979020656806904,
          1.463869420907587,
          2.927738841815174
         ],
         "y": [
          1.7730571693796142,
          1.773057173218396,
          1.773057171653965,
          1.7730571057789526,
          1.7730571399311443,
          1.7730571658590217,
          1.7730571649597255,
          1.7730571643688673,
          1.7730571638715666,
          1.7730571582622965,
          1.773057172850617
         ]
        }
       ],
       "layout": {
        "autosize": true,
        "legend": {
         "bgcolor": "#F5F6F9",
         "font": {
          "color": "#4D5663"
         }
        },
        "paper_bgcolor": "#F5F6F9",
        "plot_bgcolor": "#F5F6F9",
        "template": {
         "data": {
          "bar": [
           {
            "error_x": {
             "color": "#2a3f5f"
            },
            "error_y": {
             "color": "#2a3f5f"
            },
            "marker": {
             "line": {
              "color": "#E5ECF6",
              "width": 0.5
             },
             "pattern": {
              "fillmode": "overlay",
              "size": 10,
              "solidity": 0.2
             }
            },
            "type": "bar"
           }
          ],
          "barpolar": [
           {
            "marker": {
             "line": {
              "color": "#E5ECF6",
              "width": 0.5
             },
             "pattern": {
              "fillmode": "overlay",
              "size": 10,
              "solidity": 0.2
             }
            },
            "type": "barpolar"
           }
          ],
          "carpet": [
           {
            "aaxis": {
             "endlinecolor": "#2a3f5f",
             "gridcolor": "white",
             "linecolor": "white",
             "minorgridcolor": "white",
             "startlinecolor": "#2a3f5f"
            },
            "baxis": {
             "endlinecolor": "#2a3f5f",
             "gridcolor": "white",
             "linecolor": "white",
             "minorgridcolor": "white",
             "startlinecolor": "#2a3f5f"
            },
            "type": "carpet"
           }
          ],
          "choropleth": [
           {
            "colorbar": {
             "outlinewidth": 0,
             "ticks": ""
            },
            "type": "choropleth"
           }
          ],
          "contour": [
           {
            "colorbar": {
             "outlinewidth": 0,
             "ticks": ""
            },
            "colorscale": [
             [
              0,
              "#0d0887"
             ],
             [
              0.1111111111111111,
              "#46039f"
             ],
             [
              0.2222222222222222,
              "#7201a8"
             ],
             [
              0.3333333333333333,
              "#9c179e"
             ],
             [
              0.4444444444444444,
              "#bd3786"
             ],
             [
              0.5555555555555556,
              "#d8576b"
             ],
             [
              0.6666666666666666,
              "#ed7953"
             ],
             [
              0.7777777777777778,
              "#fb9f3a"
             ],
             [
              0.8888888888888888,
              "#fdca26"
             ],
             [
              1,
              "#f0f921"
             ]
            ],
            "type": "contour"
           }
          ],
          "contourcarpet": [
           {
            "colorbar": {
             "outlinewidth": 0,
             "ticks": ""
            },
            "type": "contourcarpet"
           }
          ],
          "heatmap": [
           {
            "colorbar": {
             "outlinewidth": 0,
             "ticks": ""
            },
            "colorscale": [
             [
              0,
              "#0d0887"
             ],
             [
              0.1111111111111111,
              "#46039f"
             ],
             [
              0.2222222222222222,
              "#7201a8"
             ],
             [
              0.3333333333333333,
              "#9c179e"
             ],
             [
              0.4444444444444444,
              "#bd3786"
             ],
             [
              0.5555555555555556,
              "#d8576b"
             ],
             [
              0.6666666666666666,
              "#ed7953"
             ],
             [
              0.7777777777777778,
              "#fb9f3a"
             ],
             [
              0.8888888888888888,
              "#fdca26"
             ],
             [
              1,
              "#f0f921"
             ]
            ],
            "type": "heatmap"
           }
          ],
          "heatmapgl": [
           {
            "colorbar": {
             "outlinewidth": 0,
             "ticks": ""
            },
            "colorscale": [
             [
              0,
              "#0d0887"
             ],
             [
              0.1111111111111111,
              "#46039f"
             ],
             [
              0.2222222222222222,
              "#7201a8"
             ],
             [
              0.3333333333333333,
              "#9c179e"
             ],
             [
              0.4444444444444444,
              "#bd3786"
             ],
             [
              0.5555555555555556,
              "#d8576b"
             ],
             [
              0.6666666666666666,
              "#ed7953"
             ],
             [
              0.7777777777777778,
              "#fb9f3a"
             ],
             [
              0.8888888888888888,
              "#fdca26"
             ],
             [
              1,
              "#f0f921"
             ]
            ],
            "type": "heatmapgl"
           }
          ],
          "histogram": [
           {
            "marker": {
             "pattern": {
              "fillmode": "overlay",
              "size": 10,
              "solidity": 0.2
             }
            },
            "type": "histogram"
           }
          ],
          "histogram2d": [
           {
            "colorbar": {
             "outlinewidth": 0,
             "ticks": ""
            },
            "colorscale": [
             [
              0,
              "#0d0887"
             ],
             [
              0.1111111111111111,
              "#46039f"
             ],
             [
              0.2222222222222222,
              "#7201a8"
             ],
             [
              0.3333333333333333,
              "#9c179e"
             ],
             [
              0.4444444444444444,
              "#bd3786"
             ],
             [
              0.5555555555555556,
              "#d8576b"
             ],
             [
              0.6666666666666666,
              "#ed7953"
             ],
             [
              0.7777777777777778,
              "#fb9f3a"
             ],
             [
              0.8888888888888888,
              "#fdca26"
             ],
             [
              1,
              "#f0f921"
             ]
            ],
            "type": "histogram2d"
           }
          ],
          "histogram2dcontour": [
           {
            "colorbar": {
             "outlinewidth": 0,
             "ticks": ""
            },
            "colorscale": [
             [
              0,
              "#0d0887"
             ],
             [
              0.1111111111111111,
              "#46039f"
             ],
             [
              0.2222222222222222,
              "#7201a8"
             ],
             [
              0.3333333333333333,
              "#9c179e"
             ],
             [
              0.4444444444444444,
              "#bd3786"
             ],
             [
              0.5555555555555556,
              "#d8576b"
             ],
             [
              0.6666666666666666,
              "#ed7953"
             ],
             [
              0.7777777777777778,
              "#fb9f3a"
             ],
             [
              0.8888888888888888,
              "#fdca26"
             ],
             [
              1,
              "#f0f921"
             ]
            ],
            "type": "histogram2dcontour"
           }
          ],
          "mesh3d": [
           {
            "colorbar": {
             "outlinewidth": 0,
             "ticks": ""
            },
            "type": "mesh3d"
           }
          ],
          "parcoords": [
           {
            "line": {
             "colorbar": {
              "outlinewidth": 0,
              "ticks": ""
             }
            },
            "type": "parcoords"
           }
          ],
          "pie": [
           {
            "automargin": true,
            "type": "pie"
           }
          ],
          "scatter": [
           {
            "marker": {
             "colorbar": {
              "outlinewidth": 0,
              "ticks": ""
             }
            },
            "type": "scatter"
           }
          ],
          "scatter3d": [
           {
            "line": {
             "colorbar": {
              "outlinewidth": 0,
              "ticks": ""
             }
            },
            "marker": {
             "colorbar": {
              "outlinewidth": 0,
              "ticks": ""
             }
            },
            "type": "scatter3d"
           }
          ],
          "scattercarpet": [
           {
            "marker": {
             "colorbar": {
              "outlinewidth": 0,
              "ticks": ""
             }
            },
            "type": "scattercarpet"
           }
          ],
          "scattergeo": [
           {
            "marker": {
             "colorbar": {
              "outlinewidth": 0,
              "ticks": ""
             }
            },
            "type": "scattergeo"
           }
          ],
          "scattergl": [
           {
            "marker": {
             "colorbar": {
              "outlinewidth": 0,
              "ticks": ""
             }
            },
            "type": "scattergl"
           }
          ],
          "scattermapbox": [
           {
            "marker": {
             "colorbar": {
              "outlinewidth": 0,
              "ticks": ""
             }
            },
            "type": "scattermapbox"
           }
          ],
          "scatterpolar": [
           {
            "marker": {
             "colorbar": {
              "outlinewidth": 0,
              "ticks": ""
             }
            },
            "type": "scatterpolar"
           }
          ],
          "scatterpolargl": [
           {
            "marker": {
             "colorbar": {
              "outlinewidth": 0,
              "ticks": ""
             }
            },
            "type": "scatterpolargl"
           }
          ],
          "scatterternary": [
           {
            "marker": {
             "colorbar": {
              "outlinewidth": 0,
              "ticks": ""
             }
            },
            "type": "scatterternary"
           }
          ],
          "surface": [
           {
            "colorbar": {
             "outlinewidth": 0,
             "ticks": ""
            },
            "colorscale": [
             [
              0,
              "#0d0887"
             ],
             [
              0.1111111111111111,
              "#46039f"
             ],
             [
              0.2222222222222222,
              "#7201a8"
             ],
             [
              0.3333333333333333,
              "#9c179e"
             ],
             [
              0.4444444444444444,
              "#bd3786"
             ],
             [
              0.5555555555555556,
              "#d8576b"
             ],
             [
              0.6666666666666666,
              "#ed7953"
             ],
             [
              0.7777777777777778,
              "#fb9f3a"
             ],
             [
              0.8888888888888888,
              "#fdca26"
             ],
             [
              1,
              "#f0f921"
             ]
            ],
            "type": "surface"
           }
          ],
          "table": [
           {
            "cells": {
             "fill": {
              "color": "#EBF0F8"
             },
             "line": {
              "color": "white"
             }
            },
            "header": {
             "fill": {
              "color": "#C8D4E3"
             },
             "line": {
              "color": "white"
             }
            },
            "type": "table"
           }
          ]
         },
         "layout": {
          "annotationdefaults": {
           "arrowcolor": "#2a3f5f",
           "arrowhead": 0,
           "arrowwidth": 1
          },
          "autotypenumbers": "strict",
          "coloraxis": {
           "colorbar": {
            "outlinewidth": 0,
            "ticks": ""
           }
          },
          "colorscale": {
           "diverging": [
            [
             0,
             "#8e0152"
            ],
            [
             0.1,
             "#c51b7d"
            ],
            [
             0.2,
             "#de77ae"
            ],
            [
             0.3,
             "#f1b6da"
            ],
            [
             0.4,
             "#fde0ef"
            ],
            [
             0.5,
             "#f7f7f7"
            ],
            [
             0.6,
             "#e6f5d0"
            ],
            [
             0.7,
             "#b8e186"
            ],
            [
             0.8,
             "#7fbc41"
            ],
            [
             0.9,
             "#4d9221"
            ],
            [
             1,
             "#276419"
            ]
           ],
           "sequential": [
            [
             0,
             "#0d0887"
            ],
            [
             0.1111111111111111,
             "#46039f"
            ],
            [
             0.2222222222222222,
             "#7201a8"
            ],
            [
             0.3333333333333333,
             "#9c179e"
            ],
            [
             0.4444444444444444,
             "#bd3786"
            ],
            [
             0.5555555555555556,
             "#d8576b"
            ],
            [
             0.6666666666666666,
             "#ed7953"
            ],
            [
             0.7777777777777778,
             "#fb9f3a"
            ],
            [
             0.8888888888888888,
             "#fdca26"
            ],
            [
             1,
             "#f0f921"
            ]
           ],
           "sequentialminus": [
            [
             0,
             "#0d0887"
            ],
            [
             0.1111111111111111,
             "#46039f"
            ],
            [
             0.2222222222222222,
             "#7201a8"
            ],
            [
             0.3333333333333333,
             "#9c179e"
            ],
            [
             0.4444444444444444,
             "#bd3786"
            ],
            [
             0.5555555555555556,
             "#d8576b"
            ],
            [
             0.6666666666666666,
             "#ed7953"
            ],
            [
             0.7777777777777778,
             "#fb9f3a"
            ],
            [
             0.8888888888888888,
             "#fdca26"
            ],
            [
             1,
             "#f0f921"
            ]
           ]
          },
          "colorway": [
           "#636efa",
           "#EF553B",
           "#00cc96",
           "#ab63fa",
           "#FFA15A",
           "#19d3f3",
           "#FF6692",
           "#B6E880",
           "#FF97FF",
           "#FECB52"
          ],
          "font": {
           "color": "#2a3f5f"
          },
          "geo": {
           "bgcolor": "white",
           "lakecolor": "white",
           "landcolor": "#E5ECF6",
           "showlakes": true,
           "showland": true,
           "subunitcolor": "white"
          },
          "hoverlabel": {
           "align": "left"
          },
          "hovermode": "closest",
          "mapbox": {
           "style": "light"
          },
          "paper_bgcolor": "white",
          "plot_bgcolor": "#E5ECF6",
          "polar": {
           "angularaxis": {
            "gridcolor": "white",
            "linecolor": "white",
            "ticks": ""
           },
           "bgcolor": "#E5ECF6",
           "radialaxis": {
            "gridcolor": "white",
            "linecolor": "white",
            "ticks": ""
           }
          },
          "scene": {
           "xaxis": {
            "backgroundcolor": "#E5ECF6",
            "gridcolor": "white",
            "gridwidth": 2,
            "linecolor": "white",
            "showbackground": true,
            "ticks": "",
            "zerolinecolor": "white"
           },
           "yaxis": {
            "backgroundcolor": "#E5ECF6",
            "gridcolor": "white",
            "gridwidth": 2,
            "linecolor": "white",
            "showbackground": true,
            "ticks": "",
            "zerolinecolor": "white"
           },
           "zaxis": {
            "backgroundcolor": "#E5ECF6",
            "gridcolor": "white",
            "gridwidth": 2,
            "linecolor": "white",
            "showbackground": true,
            "ticks": "",
            "zerolinecolor": "white"
           }
          },
          "shapedefaults": {
           "line": {
            "color": "#2a3f5f"
           }
          },
          "ternary": {
           "aaxis": {
            "gridcolor": "white",
            "linecolor": "white",
            "ticks": ""
           },
           "baxis": {
            "gridcolor": "white",
            "linecolor": "white",
            "ticks": ""
           },
           "bgcolor": "#E5ECF6",
           "caxis": {
            "gridcolor": "white",
            "linecolor": "white",
            "ticks": ""
           }
          },
          "title": {
           "x": 0.05
          },
          "xaxis": {
           "automargin": true,
           "gridcolor": "white",
           "linecolor": "white",
           "ticks": "",
           "title": {
            "standoff": 15
           },
           "zerolinecolor": "white",
           "zerolinewidth": 2
          },
          "yaxis": {
           "automargin": true,
           "gridcolor": "white",
           "linecolor": "white",
           "ticks": "",
           "title": {
            "standoff": 15
           },
           "zerolinecolor": "white",
           "zerolinewidth": 2
          }
         }
        },
        "title": {
         "font": {
          "color": "#4D5663"
         }
        },
        "xaxis": {
         "autorange": true,
         "gridcolor": "#E1E5ED",
         "range": [
          0.3659673552268968,
          2.927738841815174
         ],
         "showgrid": true,
         "tickfont": {
          "color": "#4D5663"
         },
         "title": {
          "font": {
           "color": "#4D5663"
          },
          "text": "Spinach Price"
         },
         "type": "linear",
         "zerolinecolor": "#E1E5ED"
        },
        "yaxis": {
         "autorange": true,
         "gridcolor": "#E1E5ED",
         "range": [
          -0.17207975418802302,
          6.435706006961134
         ],
         "showgrid": true,
         "tickfont": {
          "color": "#4D5663"
         },
         "title": {
          "font": {
           "color": "#4D5663"
          },
          "text": "Hectograms"
         },
         "type": "linear",
         "zerolinecolor": "#E1E5ED"
        }
       }
      },
      "image/png": "[encoded data removed]",
      "text/html": [
       "<div>                            <div id=\"8a1910a0-d43b-44ae-94e5-4a2ee61ed7c8\" class=\"plotly-graph-div\" style=\"height:525px; width:100%;\"></div>            <script type=\"text/javascript\">                require([\"plotly\"], function(Plotly) {                    window.PLOTLYENV=window.PLOTLYENV || {};\n",
       "                    window.PLOTLYENV.BASE_URL='https://plot.ly';                                    if (document.getElementById(\"8a1910a0-d43b-44ae-94e5-4a2ee61ed7c8\")) {                    Plotly.newPlot(                        \"8a1910a0-d43b-44ae-94e5-4a2ee61ed7c8\",                        [{\"line\":{\"color\":\"rgba(255, 153, 51, 1.0)\",\"dash\":\"solid\",\"shape\":\"linear\",\"width\":1.3},\"mode\":\"lines\",\"name\":\" Banana,raw\",\"text\":\"\",\"type\":\"scatter\",\"x\":[0.3659673552268968,0.5489510328403452,0.6587412394084142,0.7319347104537935,0.805128181499173,0.8783216525445522,0.9515151235899316,1.024708594635311,1.0979020656806904,1.463869420907587,2.927738841815174],\"y\":[1.5896448754449395,1.5896449430778736,1.5896449318214716,1.5896443175259862,1.5896445782908109,1.5896448833235828,1.5896448750688663,1.5896448707941437,1.5896448687046962,1.5896448335974835,1.5896449401441475]},{\"line\":{\"color\":\"rgba(55, 128, 191, 1.0)\",\"dash\":\"solid\",\"shape\":\"linear\",\"width\":1.3},\"mode\":\"lines\",\"name\":\"Oranges, Navel\",\"text\":\"\",\"type\":\"scatter\",\"x\":[0.3659673552268968,0.5489510328403452,0.6587412394084142,0.7319347104537935,0.805128181499173,0.8783216525445522,0.9515151235899316,1.024708594635311,1.0979020656806904,1.463869420907587,2.927738841815174],\"y\":[0.3388344129570882,0.33883440321648156,0.3388344045125301,0.3388344836976061,0.3388344491855748,0.33883441142228315,0.33883441251541513,0.33883441301682404,0.33883441316455937,0.3388344159433859,0.3388344036377675]},{\"line\":{\"color\":\"rgba(50, 171, 96, 1.0)\",\"dash\":\"solid\",\"shape\":\"linear\",\"width\":1.3},\"mode\":\"lines\",\"name\":\"Black beans, canned\",\"text\":\"\",\"type\":\"scatter\",\"x\":[0.3659673552268968,0.5489510328403452,0.6587412394084142,0.7319347104537935,0.805128181499173,0.8783216525445522,0.9515151235899316,1.024708594635311,1.0979020656806904,1.463869420907587,2.927738841815174],\"y\":[5.381961596177318,5.38196161408416,5.381961614683387,5.381961423955438,5.38196151777709,5.381961628924427,5.3819616316084495,5.381961631898649,5.381961630135294,5.3819616254688345,5.3819616133696195]},{\"line\":{\"color\":\"rgba(128, 0, 128, 1.0)\",\"dash\":\"solid\",\"shape\":\"linear\",\"width\":1.3},\"mode\":\"lines\",\"name\":\"Kale\",\"text\":\"\",\"type\":\"scatter\",\"x\":[0.3659673552268968,0.5489510328403452,0.6587412394084142,0.7319347104537935,0.805128181499173,0.8783216525445522,0.9515151235899316,1.024708594635311,1.0979020656806904,1.463869420907587,2.927738841815174],\"y\":[0.1683443069290071,0.16834430875349815,0.16834430839642422,0.1683442848494885,0.1683442962544029,0.16834430685005256,0.1683443066516727,0.16834430651959822,0.1683443064007853,0.1683443054196462,0.1683443086350461]},{\"line\":{\"color\":\"rgba(219, 64, 82, 1.0)\",\"dash\":\"solid\",\"shape\":\"linear\",\"width\":1.3},\"mode\":\"lines\",\"name\":\"Carrot\",\"text\":\"\",\"type\":\"scatter\",\"x\":[0.3659673552268968,0.5489510328403452,0.6587412394084142,0.7319347104537935,0.805128181499173,0.8783216525445522,0.9515151235899316,1.024708594635311,1.0979020656806904,1.463869420907587,2.927738841815174],\"y\":[0.35973459353246484,0.35973452505377607,0.35973453503745767,0.3597353769588023,0.3597350135240513,0.35973458337411957,0.3597345902850967,0.35973459446566725,0.35973459756585563,0.35973462802777517,0.35973452843038983]},{\"line\":{\"color\":\"rgba(0, 128, 128, 1.0)\",\"dash\":\"solid\",\"shape\":\"linear\",\"width\":1.3},\"mode\":\"lines\",\"name\":\"Avocado\",\"text\":\"\",\"type\":\"scatter\",\"x\":[0.3659673552268968,0.5489510328403452,0.6587412394084142,0.7319347104537935,0.805128181499173,0.8783216525445522,0.9515151235899316,1.024708594635311,1.0979020656806904,1.463869420907587,2.927738841815174],\"y\":[0.30451654826460817,0.3045165472776106,0.30451654891759977,0.30451652135513924,0.30451651330473417,0.30451654873584766,0.30451654886416624,0.30451654935322064,0.3045165502933446,0.304516558931265,0.3045165476052885]},{\"line\":{\"color\":\"rgba(255, 255, 51, 1.0)\",\"dash\":\"solid\",\"shape\":\"linear\",\"width\":1.3},\"mode\":\"lines\",\"name\":\"Tortillas, corn\",\"text\":\"\",\"type\":\"scatter\",\"x\":[0.3659673552268968,0.5489510328403452,0.6587412394084142,0.7319347104537935,0.805128181499173,0.8783216525445522,0.9515151235899316,1.024708594635311,1.0979020656806904,1.463869420907587,2.927738841815174],\"y\":[0.1583095565981281,0.15830956425248896,0.1583095622719267,0.1583095338694348,0.15830954808565295,0.15830955290885493,0.1583095511960087,0.1583095504467943,0.15830955032228047,0.1583095446167944,0.15830956394768003]},{\"line\":{\"color\":\"rgba(128, 128, 0, 1.0)\",\"dash\":\"solid\",\"shape\":\"linear\",\"width\":1.3},\"mode\":\"lines\",\"name\":\"Soy milk, unsweetened\",\"text\":\"\",\"type\":\"scatter\",\"x\":[0.3659673552268968,0.5489510328403452,0.6587412394084142,0.7319347104537935,0.805128181499173,0.8783216525445522,0.9515151235899316,1.024708594635311,1.0979020656806904,1.463869420907587,2.927738841815174],\"y\":[6.1053167146507334,6.105316713400017,6.1053167135395485,6.105316718903675,6.105316717290184,6.105316713658208,6.105316713742564,6.105316713803903,6.105316713857775,6.105316714672682,6.105316713426556]},{\"line\":{\"color\":\"rgba(251, 128, 114, 1.0)\",\"dash\":\"solid\",\"shape\":\"linear\",\"width\":1.3},\"mode\":\"lines\",\"name\":\"Peanut butter, creamy\",\"text\":\"\",\"type\":\"scatter\",\"x\":[0.3659673552268968,0.5489510328403452,0.6587412394084142,0.7319347104537935,0.805128181499173,0.8783216525445522,0.9515151235899316,1.024708594635311,1.0979020656806904,1.463869420907587,2.927738841815174],\"y\":[1.7730571693796142,1.773057173218396,1.773057171653965,1.7730571057789526,1.7730571399311443,1.7730571658590217,1.7730571649597255,1.7730571643688673,1.7730571638715666,1.7730571582622965,1.773057172850617]}],                        {\"legend\":{\"bgcolor\":\"#F5F6F9\",\"font\":{\"color\":\"#4D5663\"}},\"paper_bgcolor\":\"#F5F6F9\",\"plot_bgcolor\":\"#F5F6F9\",\"template\":{\"data\":{\"bar\":[{\"error_x\":{\"color\":\"#2a3f5f\"},\"error_y\":{\"color\":\"#2a3f5f\"},\"marker\":{\"line\":{\"color\":\"#E5ECF6\",\"width\":0.5},\"pattern\":{\"fillmode\":\"overlay\",\"size\":10,\"solidity\":0.2}},\"type\":\"bar\"}],\"barpolar\":[{\"marker\":{\"line\":{\"color\":\"#E5ECF6\",\"width\":0.5},\"pattern\":{\"fillmode\":\"overlay\",\"size\":10,\"solidity\":0.2}},\"type\":\"barpolar\"}],\"carpet\":[{\"aaxis\":{\"endlinecolor\":\"#2a3f5f\",\"gridcolor\":\"white\",\"linecolor\":\"white\",\"minorgridcolor\":\"white\",\"startlinecolor\":\"#2a3f5f\"},\"baxis\":{\"endlinecolor\":\"#2a3f5f\",\"gridcolor\":\"white\",\"linecolor\":\"white\",\"minorgridcolor\":\"white\",\"startlinecolor\":\"#2a3f5f\"},\"type\":\"carpet\"}],\"choropleth\":[{\"colorbar\":{\"outlinewidth\":0,\"ticks\":\"\"},\"type\":\"choropleth\"}],\"contour\":[{\"colorbar\":{\"outlinewidth\":0,\"ticks\":\"\"},\"colorscale\":[[0.0,\"#0d0887\"],[0.1111111111111111,\"#46039f\"],[0.2222222222222222,\"#7201a8\"],[0.3333333333333333,\"#9c179e\"],[0.4444444444444444,\"#bd3786\"],[0.5555555555555556,\"#d8576b\"],[0.6666666666666666,\"#ed7953\"],[0.7777777777777778,\"#fb9f3a\"],[0.8888888888888888,\"#fdca26\"],[1.0,\"#f0f921\"]],\"type\":\"contour\"}],\"contourcarpet\":[{\"colorbar\":{\"outlinewidth\":0,\"ticks\":\"\"},\"type\":\"contourcarpet\"}],\"heatmap\":[{\"colorbar\":{\"outlinewidth\":0,\"ticks\":\"\"},\"colorscale\":[[0.0,\"#0d0887\"],[0.1111111111111111,\"#46039f\"],[0.2222222222222222,\"#7201a8\"],[0.3333333333333333,\"#9c179e\"],[0.4444444444444444,\"#bd3786\"],[0.5555555555555556,\"#d8576b\"],[0.6666666666666666,\"#ed7953\"],[0.7777777777777778,\"#fb9f3a\"],[0.8888888888888888,\"#fdca26\"],[1.0,\"#f0f921\"]],\"type\":\"heatmap\"}],\"heatmapgl\":[{\"colorbar\":{\"outlinewidth\":0,\"ticks\":\"\"},\"colorscale\":[[0.0,\"#0d0887\"],[0.1111111111111111,\"#46039f\"],[0.2222222222222222,\"#7201a8\"],[0.3333333333333333,\"#9c179e\"],[0.4444444444444444,\"#bd3786\"],[0.5555555555555556,\"#d8576b\"],[0.6666666666666666,\"#ed7953\"],[0.7777777777777778,\"#fb9f3a\"],[0.8888888888888888,\"#fdca26\"],[1.0,\"#f0f921\"]],\"type\":\"heatmapgl\"}],\"histogram\":[{\"marker\":{\"pattern\":{\"fillmode\":\"overlay\",\"size\":10,\"solidity\":0.2}},\"type\":\"histogram\"}],\"histogram2d\":[{\"colorbar\":{\"outlinewidth\":0,\"ticks\":\"\"},\"colorscale\":[[0.0,\"#0d0887\"],[0.1111111111111111,\"#46039f\"],[0.2222222222222222,\"#7201a8\"],[0.3333333333333333,\"#9c179e\"],[0.4444444444444444,\"#bd3786\"],[0.5555555555555556,\"#d8576b\"],[0.6666666666666666,\"#ed7953\"],[0.7777777777777778,\"#fb9f3a\"],[0.8888888888888888,\"#fdca26\"],[1.0,\"#f0f921\"]],\"type\":\"histogram2d\"}],\"histogram2dcontour\":[{\"colorbar\":{\"outlinewidth\":0,\"ticks\":\"\"},\"colorscale\":[[0.0,\"#0d0887\"],[0.1111111111111111,\"#46039f\"],[0.2222222222222222,\"#7201a8\"],[0.3333333333333333,\"#9c179e\"],[0.4444444444444444,\"#bd3786\"],[0.5555555555555556,\"#d8576b\"],[0.6666666666666666,\"#ed7953\"],[0.7777777777777778,\"#fb9f3a\"],[0.8888888888888888,\"#fdca26\"],[1.0,\"#f0f921\"]],\"type\":\"histogram2dcontour\"}],\"mesh3d\":[{\"colorbar\":{\"outlinewidth\":0,\"ticks\":\"\"},\"type\":\"mesh3d\"}],\"parcoords\":[{\"line\":{\"colorbar\":{\"outlinewidth\":0,\"ticks\":\"\"}},\"type\":\"parcoords\"}],\"pie\":[{\"automargin\":true,\"type\":\"pie\"}],\"scatter\":[{\"marker\":{\"colorbar\":{\"outlinewidth\":0,\"ticks\":\"\"}},\"type\":\"scatter\"}],\"scatter3d\":[{\"line\":{\"colorbar\":{\"outlinewidth\":0,\"ticks\":\"\"}},\"marker\":{\"colorbar\":{\"outlinewidth\":0,\"ticks\":\"\"}},\"type\":\"scatter3d\"}],\"scattercarpet\":[{\"marker\":{\"colorbar\":{\"outlinewidth\":0,\"ticks\":\"\"}},\"type\":\"scattercarpet\"}],\"scattergeo\":[{\"marker\":{\"colorbar\":{\"outlinewidth\":0,\"ticks\":\"\"}},\"type\":\"scattergeo\"}],\"scattergl\":[{\"marker\":{\"colorbar\":{\"outlinewidth\":0,\"ticks\":\"\"}},\"type\":\"scattergl\"}],\"scattermapbox\":[{\"marker\":{\"colorbar\":{\"outlinewidth\":0,\"ticks\":\"\"}},\"type\":\"scattermapbox\"}],\"scatterpolar\":[{\"marker\":{\"colorbar\":{\"outlinewidth\":0,\"ticks\":\"\"}},\"type\":\"scatterpolar\"}],\"scatterpolargl\":[{\"marker\":{\"colorbar\":{\"outlinewidth\":0,\"ticks\":\"\"}},\"type\":\"scatterpolargl\"}],\"scatterternary\":[{\"marker\":{\"colorbar\":{\"outlinewidth\":0,\"ticks\":\"\"}},\"type\":\"scatterternary\"}],\"surface\":[{\"colorbar\":{\"outlinewidth\":0,\"ticks\":\"\"},\"colorscale\":[[0.0,\"#0d0887\"],[0.1111111111111111,\"#46039f\"],[0.2222222222222222,\"#7201a8\"],[0.3333333333333333,\"#9c179e\"],[0.4444444444444444,\"#bd3786\"],[0.5555555555555556,\"#d8576b\"],[0.6666666666666666,\"#ed7953\"],[0.7777777777777778,\"#fb9f3a\"],[0.8888888888888888,\"#fdca26\"],[1.0,\"#f0f921\"]],\"type\":\"surface\"}],\"table\":[{\"cells\":{\"fill\":{\"color\":\"#EBF0F8\"},\"line\":{\"color\":\"white\"}},\"header\":{\"fill\":{\"color\":\"#C8D4E3\"},\"line\":{\"color\":\"white\"}},\"type\":\"table\"}]},\"layout\":{\"annotationdefaults\":{\"arrowcolor\":\"#2a3f5f\",\"arrowhead\":0,\"arrowwidth\":1},\"autotypenumbers\":\"strict\",\"coloraxis\":{\"colorbar\":{\"outlinewidth\":0,\"ticks\":\"\"}},\"colorscale\":{\"diverging\":[[0,\"#8e0152\"],[0.1,\"#c51b7d\"],[0.2,\"#de77ae\"],[0.3,\"#f1b6da\"],[0.4,\"#fde0ef\"],[0.5,\"#f7f7f7\"],[0.6,\"#e6f5d0\"],[0.7,\"#b8e186\"],[0.8,\"#7fbc41\"],[0.9,\"#4d9221\"],[1,\"#276419\"]],\"sequential\":[[0.0,\"#0d0887\"],[0.1111111111111111,\"#46039f\"],[0.2222222222222222,\"#7201a8\"],[0.3333333333333333,\"#9c179e\"],[0.4444444444444444,\"#bd3786\"],[0.5555555555555556,\"#d8576b\"],[0.6666666666666666,\"#ed7953\"],[0.7777777777777778,\"#fb9f3a\"],[0.8888888888888888,\"#fdca26\"],[1.0,\"#f0f921\"]],\"sequentialminus\":[[0.0,\"#0d0887\"],[0.1111111111111111,\"#46039f\"],[0.2222222222222222,\"#7201a8\"],[0.3333333333333333,\"#9c179e\"],[0.4444444444444444,\"#bd3786\"],[0.5555555555555556,\"#d8576b\"],[0.6666666666666666,\"#ed7953\"],[0.7777777777777778,\"#fb9f3a\"],[0.8888888888888888,\"#fdca26\"],[1.0,\"#f0f921\"]]},\"colorway\":[\"#636efa\",\"#EF553B\",\"#00cc96\",\"#ab63fa\",\"#FFA15A\",\"#19d3f3\",\"#FF6692\",\"#B6E880\",\"#FF97FF\",\"#FECB52\"],\"font\":{\"color\":\"#2a3f5f\"},\"geo\":{\"bgcolor\":\"white\",\"lakecolor\":\"white\",\"landcolor\":\"#E5ECF6\",\"showlakes\":true,\"showland\":true,\"subunitcolor\":\"white\"},\"hoverlabel\":{\"align\":\"left\"},\"hovermode\":\"closest\",\"mapbox\":{\"style\":\"light\"},\"paper_bgcolor\":\"white\",\"plot_bgcolor\":\"#E5ECF6\",\"polar\":{\"angularaxis\":{\"gridcolor\":\"white\",\"linecolor\":\"white\",\"ticks\":\"\"},\"bgcolor\":\"#E5ECF6\",\"radialaxis\":{\"gridcolor\":\"white\",\"linecolor\":\"white\",\"ticks\":\"\"}},\"scene\":{\"xaxis\":{\"backgroundcolor\":\"#E5ECF6\",\"gridcolor\":\"white\",\"gridwidth\":2,\"linecolor\":\"white\",\"showbackground\":true,\"ticks\":\"\",\"zerolinecolor\":\"white\"},\"yaxis\":{\"backgroundcolor\":\"#E5ECF6\",\"gridcolor\":\"white\",\"gridwidth\":2,\"linecolor\":\"white\",\"showbackground\":true,\"ticks\":\"\",\"zerolinecolor\":\"white\"},\"zaxis\":{\"backgroundcolor\":\"#E5ECF6\",\"gridcolor\":\"white\",\"gridwidth\":2,\"linecolor\":\"white\",\"showbackground\":true,\"ticks\":\"\",\"zerolinecolor\":\"white\"}},\"shapedefaults\":{\"line\":{\"color\":\"#2a3f5f\"}},\"ternary\":{\"aaxis\":{\"gridcolor\":\"white\",\"linecolor\":\"white\",\"ticks\":\"\"},\"baxis\":{\"gridcolor\":\"white\",\"linecolor\":\"white\",\"ticks\":\"\"},\"bgcolor\":\"#E5ECF6\",\"caxis\":{\"gridcolor\":\"white\",\"linecolor\":\"white\",\"ticks\":\"\"}},\"title\":{\"x\":0.05},\"xaxis\":{\"automargin\":true,\"gridcolor\":\"white\",\"linecolor\":\"white\",\"ticks\":\"\",\"title\":{\"standoff\":15},\"zerolinecolor\":\"white\",\"zerolinewidth\":2},\"yaxis\":{\"automargin\":true,\"gridcolor\":\"white\",\"linecolor\":\"white\",\"ticks\":\"\",\"title\":{\"standoff\":15},\"zerolinecolor\":\"white\",\"zerolinewidth\":2}}},\"title\":{\"font\":{\"color\":\"#4D5663\"}},\"xaxis\":{\"gridcolor\":\"#E1E5ED\",\"showgrid\":true,\"tickfont\":{\"color\":\"#4D5663\"},\"title\":{\"font\":{\"color\":\"#4D5663\"},\"text\":\"Spinach Price\"},\"zerolinecolor\":\"#E1E5ED\"},\"yaxis\":{\"gridcolor\":\"#E1E5ED\",\"showgrid\":true,\"tickfont\":{\"color\":\"#4D5663\"},\"title\":{\"font\":{\"color\":\"#4D5663\"},\"text\":\"Hectograms\"},\"zerolinecolor\":\"#E1E5ED\"}},                        {\"showLink\": true, \"linkText\": \"Export to plot.ly\", \"plotlyServerURL\": \"https://plot.ly\", \"responsive\": true}                    ).then(function(){\n",
       "                            \n",
       "var gd = document.getElementById('8a1910a0-d43b-44ae-94e5-4a2ee61ed7c8');\n",
       "var x = new MutationObserver(function (mutations, observer) {{\n",
       "        var display = window.getComputedStyle(gd).display;\n",
       "        if (!display || display === 'none') {{\n",
       "            console.log([gd, 'removed!']);\n",
       "            Plotly.purge(gd);\n",
       "            observer.disconnect();\n",
       "        }}\n",
       "}});\n",
       "\n",
       "// Listen for the removal of the full notebook cells\n",
       "var notebookContainer = gd.closest('#notebook-container');\n",
       "if (notebookContainer) {{\n",
       "    x.observe(notebookContainer, {childList: true});\n",
       "}}\n",
       "\n",
       "// Listen for the clearing of the current output cell\n",
       "var outputEl = gd.closest('.output');\n",
       "if (outputEl) {{\n",
       "    x.observe(outputEl, {childList: true});\n",
       "}}\n",
       "\n",
       "                        })                };                });            </script>        </div>"
      ]
     },
     "metadata": {},
     "output_type": "display_data"
    }
   ],
   "source": [
    "import cufflinks as cf\n",
    "cf.go_offline()\n",
    "\n",
    "ReferenceGood = 'Spinach'\n",
    "\n",
    "scale = [0.5,0.75,0.9,1.,1.1,1.2,1.3,1.4,1.5,2,4]\n",
    "\n",
    "cost0 = solve_subsistence_problem(FoodNutrients,Prices,diet_min[group],diet_max[group],tol=tol).fun\n",
    "\n",
    "my_p = Prices.copy()\n",
    "\n",
    "diet = {}\n",
    "for s in scale:\n",
    "\n",
    "    my_p[ReferenceGood] = Prices[ReferenceGood]*s\n",
    "    result = solve_subsistence_problem(FoodNutrients,my_p,diet_min[group],diet_max[group],tol=tol)\n",
    "    diet[my_p[ReferenceGood]] = result.diet\n",
    "\n",
    "Diet_response = pd.DataFrame(diet).T\n",
    "Diet_response.index.name = '%s Price' % ReferenceGood\n",
    "\n",
    "Diet_response.reset_index(inplace=True)\n",
    "\n",
    "# Get rid of units for index (cufflinks chokes)\n",
    "Diet_response['%s Price' % ReferenceGood] = Diet_response['%s Price' % ReferenceGood].apply(lambda x: x.magnitude)\n",
    "\n",
    "Diet_response = Diet_response.set_index('%s Price' % ReferenceGood)\n",
    "\n",
    "# Just look at goods consumed in quantities greater than error tolerance\n",
    "Diet_response.loc[:,(Diet_response>tol).sum()>0].iplot(xTitle='%s Price' % ReferenceGood,yTitle='Hectograms')"
   ]
  },
  {
   "cell_type": "markdown",
   "metadata": {},
   "source": [
    "## Effects of Price Changes on Subsistence Diet Nutrition\n",
    "\n"
   ]
  },
  {
   "cell_type": "markdown",
   "metadata": {},
   "source": [
    "The code below creates a graph which uses the food price changes\n",
    "  described above, but maps into nutrients.\n",
    "\n"
   ]
  },
  {
   "cell_type": "code",
   "execution_count": 129,
   "metadata": {},
   "outputs": [
    {
     "data": {
      "application/vnd.plotly.v1+json": {
       "config": {
        "linkText": "Export to plot.ly",
        "plotlyServerURL": "https://plot.ly",
        "showLink": true
       },
       "data": [
        {
         "line": {
          "color": "rgba(255, 153, 51, 1.0)",
          "dash": "solid",
          "shape": "linear",
          "width": 1.3
         },
         "mode": "lines",
         "name": " Ergosta-5,7-dienol",
         "text": "",
         "type": "scatter",
         "x": [
          0.3659673552268968,
          0.5489510328403452,
          0.6587412394084142,
          0.7319347104537935,
          0.805128181499173,
          0.8783216525445522,
          0.9515151235899316,
          1.024708594635311,
          1.0979020656806904,
          1.463869420907587,
          2.927738841815174
         ],
         "y": [
          7.268433319235653e-10,
          3.706099170535872e-11,
          1.267780303083747e-10,
          3.445356696039069e-9,
          2.3463003908560822e-9,
          1.6500378076744459e-10,
          2.0348510510329332e-10,
          2.355209316998891e-10,
          2.6869032421478917e-10,
          8.116601053234486e-10,
          6.768829724535438e-11
         ]
        },
        {
         "line": {
          "color": "rgba(55, 128, 191, 1.0)",
          "dash": "solid",
          "shape": "linear",
          "width": 1.3
         },
         "mode": "lines",
         "name": " Ergosta-7,22-dienol",
         "text": "",
         "type": "scatter",
         "x": [
          0.3659673552268968,
          0.5489510328403452,
          0.6587412394084142,
          0.7319347104537935,
          0.805128181499173,
          0.8783216525445522,
          0.9515151235899316,
          1.024708594635311,
          1.0979020656806904,
          1.463869420907587,
          2.927738841815174
         ],
         "y": [
          1.9200809127855866e-10,
          9.790294504599983e-12,
          3.34905839352546e-11,
          9.101498685136592e-10,
          6.198153574886037e-10,
          4.35885693758204e-11,
          5.3754069024889844e-11,
          6.221688026244288e-11,
          7.09791423152576e-11,
          2.1441389188736195e-10,
          1.7881020826841602e-11
         ]
        },
        {
         "line": {
          "color": "rgba(50, 171, 96, 1.0)",
          "dash": "solid",
          "shape": "linear",
          "width": 1.3
         },
         "mode": "lines",
         "name": "Alanine",
         "text": "",
         "type": "scatter",
         "x": [
          0.3659673552268968,
          0.5489510328403452,
          0.6587412394084142,
          0.7319347104537935,
          0.805128181499173,
          0.8783216525445522,
          0.9515151235899316,
          1.024708594635311,
          1.0979020656806904,
          1.463869420907587,
          2.927738841815174
         ],
         "y": [
          4.499851184052061,
          4.499851177767586,
          4.499851177598894,
          4.499851196872199,
          4.49985120108803,
          4.499851179021323,
          4.499851179477789,
          4.499851179415705,
          4.499851178889644,
          4.4998511776306245,
          4.499851177783703
         ]
        },
        {
         "line": {
          "color": "rgba(128, 0, 128, 1.0)",
          "dash": "solid",
          "shape": "linear",
          "width": 1.3
         },
         "mode": "lines",
         "name": "Alcohol, ethyl",
         "text": "",
         "type": "scatter",
         "x": [
          0.3659673552268968,
          0.5489510328403452,
          0.6587412394084142,
          0.7319347104537935,
          0.805128181499173,
          0.8783216525445522,
          0.9515151235899316,
          1.024708594635311,
          1.0979020656806904,
          1.463869420907587,
          2.927738841815174
         ],
         "y": [
          0,
          0,
          0,
          0,
          0,
          0,
          0,
          0,
          0,
          0,
          0
         ]
        },
        {
         "line": {
          "color": "rgba(219, 64, 82, 1.0)",
          "dash": "solid",
          "shape": "linear",
          "width": 1.3
         },
         "mode": "lines",
         "name": "Amino acids",
         "text": "",
         "type": "scatter",
         "x": [
          0.3659673552268968,
          0.5489510328403452,
          0.6587412394084142,
          0.7319347104537935,
          0.805128181499173,
          0.8783216525445522,
          0.9515151235899316,
          1.024708594635311,
          1.0979020656806904,
          1.463869420907587,
          2.927738841815174
         ],
         "y": [
          0,
          0,
          0,
          0,
          0,
          0,
          0,
          0,
          0,
          0,
          0
         ]
        },
        {
         "line": {
          "color": "rgba(0, 128, 128, 1.0)",
          "dash": "solid",
          "shape": "linear",
          "width": 1.3
         },
         "mode": "lines",
         "name": "Arginine",
         "text": "",
         "type": "scatter",
         "x": [
          0.3659673552268968,
          0.5489510328403452,
          0.6587412394084142,
          0.7319347104537935,
          0.805128181499173,
          0.8783216525445522,
          0.9515151235899316,
          1.024708594635311,
          1.0979020656806904,
          1.463869420907587,
          2.927738841815174
         ],
         "y": [
          9.450228902255464,
          9.450228899874574,
          9.450228896451227,
          9.450228779241465,
          9.45022885850396,
          9.450228885344092,
          9.450228884008748,
          9.450228882685888,
          9.450228880988167,
          9.45022886845673,
          9.450228899190414
         ]
        },
        {
         "line": {
          "color": "rgba(255, 255, 51, 1.0)",
          "dash": "solid",
          "shape": "linear",
          "width": 1.3
         },
         "mode": "lines",
         "name": "Ash",
         "text": "",
         "type": "scatter",
         "x": [
          0.3659673552268968,
          0.5489510328403452,
          0.6587412394084142,
          0.7319347104537935,
          0.805128181499173,
          0.8783216525445522,
          0.9515151235899316,
          1.024708594635311,
          1.0979020656806904,
          1.463869420907587,
          2.927738841815174
         ],
         "y": [
          19.326688153531766,
          19.326688152427323,
          19.32668815134086,
          19.326688181926954,
          19.326688186512666,
          19.326688148580597,
          19.3266881481752,
          19.326688147690128,
          19.326688147003004,
          19.32668814266839,
          19.3266881523261
         ]
        },
        {
         "line": {
          "color": "rgba(128, 128, 0, 1.0)",
          "dash": "solid",
          "shape": "linear",
          "width": 1.3
         },
         "mode": "lines",
         "name": "Aspartic acid",
         "text": "",
         "type": "scatter",
         "x": [
          0.3659673552268968,
          0.5489510328403452,
          0.6587412394084142,
          0.7319347104537935,
          0.805128181499173,
          0.8783216525445522,
          0.9515151235899316,
          1.024708594635311,
          1.0979020656806904,
          1.463869420907587,
          2.927738841815174
         ],
         "y": [
          12.763268867356107,
          12.763268859868873,
          12.76326885809752,
          12.763268766433056,
          12.763268839816773,
          12.763268857647708,
          12.763268858247141,
          12.763268857576637,
          12.76326885559553,
          12.763268846666849,
          12.763268859398192
         ]
        },
        {
         "line": {
          "color": "rgba(251, 128, 114, 1.0)",
          "dash": "solid",
          "shape": "linear",
          "width": 1.3
         },
         "mode": "lines",
         "name": "Beta-glucan",
         "text": "",
         "type": "scatter",
         "x": [
          0.3659673552268968,
          0.5489510328403452,
          0.6587412394084142,
          0.7319347104537935,
          0.805128181499173,
          0.8783216525445522,
          0.9515151235899316,
          1.024708594635311,
          1.0979020656806904,
          1.463869420907587,
          2.927738841815174
         ],
         "y": [
          2.50244549212505e-9,
          1.1270234700269888e-10,
          4.1916249770201905e-10,
          1.120856679774549e-8,
          7.3530983943444285e-9,
          4.738679652834524e-10,
          5.746904775711321e-10,
          6.605259062851539e-10,
          7.542573465917238e-10,
          2.322967784201841e-9,
          2.207214039017581e-10
         ]
        },
        {
         "line": {
          "color": "rgba(128, 177, 211, 1.0)",
          "dash": "solid",
          "shape": "linear",
          "width": 1.3
         },
         "mode": "lines",
         "name": "Beta-sitostanol",
         "text": "",
         "type": "scatter",
         "x": [
          0.3659673552268968,
          0.5489510328403452,
          0.6587412394084142,
          0.7319347104537935,
          0.805128181499173,
          0.8783216525445522,
          0.9515151235899316,
          1.024708594635311,
          1.0979020656806904,
          1.463869420907587,
          2.927738841815174
         ],
         "y": [
          0,
          0,
          0,
          0,
          0,
          0,
          0,
          0,
          0,
          0,
          0
         ]
        },
        {
         "line": {
          "color": "rgba(128, 177, 211, 0.9647577092511013)",
          "dash": "solid",
          "shape": "linear",
          "width": 1.3
         },
         "mode": "lines",
         "name": "Beta-sitosterol",
         "text": "",
         "type": "scatter",
         "x": [
          0.3659673552268968,
          0.5489510328403452,
          0.6587412394084142,
          0.7319347104537935,
          0.805128181499173,
          0.8783216525445522,
          0.9515151235899316,
          1.024708594635311,
          1.0979020656806904,
          1.463869420907587,
          2.927738841815174
         ],
         "y": [
          23.143257936570627,
          23.143257595422423,
          23.143257728264828,
          23.143256659464377,
          23.1432557101313,
          23.143257726851466,
          23.143257742203065,
          23.14325778242906,
          23.14325785580343,
          23.143258567950294,
          23.143257626383125
         ]
        },
        {
         "line": {
          "color": "rgba(255, 153, 51, 0.9647577092511013)",
          "dash": "solid",
          "shape": "linear",
          "width": 1.3
         },
         "mode": "lines",
         "name": "Betaine",
         "text": "",
         "type": "scatter",
         "x": [
          0.3659673552268968,
          0.5489510328403452,
          0.6587412394084142,
          0.7319347104537935,
          0.805128181499173,
          0.8783216525445522,
          0.9515151235899316,
          1.024708594635311,
          1.0979020656806904,
          1.463869420907587,
          2.927738841815174
         ],
         "y": [
          7.544309765442582,
          7.544309628549579,
          7.54430959738824,
          7.5443108232310125,
          7.5443105586297845,
          7.5443092014738085,
          7.544309143243606,
          7.544309125882726,
          7.544309138773335,
          7.544309188145753,
          7.544309638566317
         ]
        },
        {
         "line": {
          "color": "rgba(55, 128, 191, 0.9647577092511013)",
          "dash": "solid",
          "shape": "linear",
          "width": 1.3
         },
         "mode": "lines",
         "name": "Biotin",
         "text": "",
         "type": "scatter",
         "x": [
          0.3659673552268968,
          0.5489510328403452,
          0.6587412394084142,
          0.7319347104537935,
          0.805128181499173,
          0.8783216525445522,
          0.9515151235899316,
          1.024708594635311,
          1.0979020656806904,
          1.463869420907587,
          2.927738841815174
         ],
         "y": [
          176.07169725550156,
          176.07169757044144,
          176.071697435944,
          176.0716917533399,
          176.07169471560283,
          176.07169692787087,
          176.07169684987787,
          176.07169679876463,
          176.0716967558872,
          176.07169627680932,
          176.07169753888354
         ]
        },
        {
         "line": {
          "color": "rgba(50, 171, 96, 0.9647577092511013)",
          "dash": "solid",
          "shape": "linear",
          "width": 1.3
         },
         "mode": "lines",
         "name": "Caffeine",
         "text": "",
         "type": "scatter",
         "x": [
          0.3659673552268968,
          0.5489510328403452,
          0.6587412394084142,
          0.7319347104537935,
          0.805128181499173,
          0.8783216525445522,
          0.9515151235899316,
          1.024708594635311,
          1.0979020656806904,
          1.463869420907587,
          2.927738841815174
         ],
         "y": [
          0,
          0,
          0,
          0,
          0,
          0,
          0,
          0,
          0,
          0,
          0
         ]
        },
        {
         "line": {
          "color": "rgba(128, 0, 128, 0.9647577092511013)",
          "dash": "solid",
          "shape": "linear",
          "width": 1.3
         },
         "mode": "lines",
         "name": "Calcium, Ca",
         "text": "",
         "type": "scatter",
         "x": [
          0.3659673552268968,
          0.5489510328403452,
          0.6587412394084142,
          0.7319347104537935,
          0.805128181499173,
          0.8783216525445522,
          0.9515151235899316,
          1.024708594635311,
          1.0979020656806904,
          1.463869420907587,
          2.927738841815174
         ],
         "y": [
          1000.0000009211146,
          1000.0000000087214,
          1000.0000000026065,
          1000.0000136005189,
          1000.0000092748642,
          1000.0000000065636,
          1000.0000000072644,
          1000.0000000077368,
          1000.000000008199,
          1000.000000017481,
          1000.0000000277655
         ]
        },
        {
         "line": {
          "color": "rgba(219, 64, 82, 0.9647577092511013)",
          "dash": "solid",
          "shape": "linear",
          "width": 1.3
         },
         "mode": "lines",
         "name": "Campesterol",
         "text": "",
         "type": "scatter",
         "x": [
          0.3659673552268968,
          0.5489510328403452,
          0.6587412394084142,
          0.7319347104537935,
          0.805128181499173,
          0.8783216525445522,
          0.9515151235899316,
          1.024708594635311,
          1.0979020656806904,
          1.463869420907587,
          2.927738841815174
         ],
         "y": [
          1.5225827755945822,
          1.5225827366847358,
          1.5225827459319026,
          1.5225827390914999,
          1.5225826557540751,
          1.5225827466060953,
          1.5225827479625034,
          1.5225827507981406,
          1.5225827557444982,
          1.5225828060402593,
          1.5225827390963826
         ]
        },
        {
         "line": {
          "color": "rgba(0, 128, 128, 0.9647577092511013)",
          "dash": "solid",
          "shape": "linear",
          "width": 1.3
         },
         "mode": "lines",
         "name": "Carbohydrate, by difference",
         "text": "",
         "type": "scatter",
         "x": [
          0.3659673552268968,
          0.5489510328403452,
          0.6587412394084142,
          0.7319347104537935,
          0.805128181499173,
          0.8783216525445522,
          0.9515151235899316,
          1.024708594635311,
          1.0979020656806904,
          1.463869420907587,
          2.927738841815174
         ],
         "y": [
          192.36932293838657,
          192.36932355872375,
          192.3693233784798,
          192.36931966898084,
          192.3693219648499,
          192.36932252222707,
          192.36932239229697,
          192.36932232052425,
          192.3693222793828,
          192.36932183760914,
          192.36932352497416
         ]
        },
        {
         "line": {
          "color": "rgba(255, 255, 51, 0.9647577092511013)",
          "dash": "solid",
          "shape": "linear",
          "width": 1.3
         },
         "mode": "lines",
         "name": "Carbohydrate, by summation",
         "text": "",
         "type": "scatter",
         "x": [
          0.3659673552268968,
          0.5489510328403452,
          0.6587412394084142,
          0.7319347104537935,
          0.805128181499173,
          0.8783216525445522,
          0.9515151235899316,
          1.024708594635311,
          1.0979020656806904,
          1.463869420907587,
          2.927738841815174
         ],
         "y": [
          37.2921161434595,
          37.29211746759272,
          37.29211724346937,
          37.29210508519911,
          37.29211023774416,
          37.29211628870621,
          37.292116125601574,
          37.292116040555314,
          37.292115998095305,
          37.29211528777221,
          37.2921174100792
         ]
        },
        {
         "line": {
          "color": "rgba(128, 128, 0, 0.9647577092511013)",
          "dash": "solid",
          "shape": "linear",
          "width": 1.3
         },
         "mode": "lines",
         "name": "Carbohydrates",
         "text": "",
         "type": "scatter",
         "x": [
          0.3659673552268968,
          0.5489510328403452,
          0.6587412394084142,
          0.7319347104537935,
          0.805128181499173,
          0.8783216525445522,
          0.9515151235899316,
          1.024708594635311,
          1.0979020656806904,
          1.463869420907587,
          2.927738841815174
         ],
         "y": [
          0,
          0,
          0,
          0,
          0,
          0,
          0,
          0,
          0,
          0,
          0
         ]
        },
        {
         "line": {
          "color": "rgba(251, 128, 114, 0.9647577092511013)",
          "dash": "solid",
          "shape": "linear",
          "width": 1.3
         },
         "mode": "lines",
         "name": "Carotene, alpha",
         "text": "",
         "type": "scatter",
         "x": [
          0.3659673552268968,
          0.5489510328403452,
          0.6587412394084142,
          0.7319347104537935,
          0.805128181499173,
          0.8783216525445522,
          0.9515151235899316,
          1.024708594635311,
          1.0979020656806904,
          1.463869420907587,
          2.927738841815174
         ],
         "y": [
          1269.2330929993002,
          1269.232855348212,
          1269.2328900221041,
          1269.23581242389,
          1269.2345503924344,
          1269.2330577448636,
          1269.2330817196519,
          1269.233096237329,
          1269.2331070246394,
          1269.2332129026313,
          1269.232867076039
         ]
        },
        {
         "line": {
          "color": "rgba(251, 128, 114, 0.9295154185022025)",
          "dash": "solid",
          "shape": "linear",
          "width": 1.3
         },
         "mode": "lines",
         "name": "Carotene, beta",
         "text": "",
         "type": "scatter",
         "x": [
          0.3659673552268968,
          0.5489510328403452,
          0.6587412394084142,
          0.7319347104537935,
          0.805128181499173,
          0.8783216525445522,
          0.9515151235899316,
          1.024708594635311,
          1.0979020656806904,
          1.463869420907587,
          2.927738841815174
         ],
         "y": [
          3495.146460606113,
          3495.1458918788126,
          3495.1459746982046,
          3495.152916121599,
          3495.1499243242883,
          3495.1463707162025,
          3495.146427486149,
          3495.1464617797974,
          3495.146487184336,
          3495.146738561241,
          3495.1459194419167
         ]
        },
        {
         "line": {
          "color": "rgba(128, 177, 211, 0.9295154185022025)",
          "dash": "solid",
          "shape": "linear",
          "width": 1.3
         },
         "mode": "lines",
         "name": "Carotene, gamma",
         "text": "",
         "type": "scatter",
         "x": [
          0.3659673552268968,
          0.5489510328403452,
          0.6587412394084142,
          0.7319347104537935,
          0.805128181499173,
          0.8783216525445522,
          0.9515151235899316,
          1.024708594635311,
          1.0979020656806904,
          1.463869420907587,
          2.927738841815174
         ],
         "y": [
          1.1045602820906735e-9,
          6.050590605217282e-11,
          2.209085359856694e-10,
          7.11321394213959e-9,
          4.756624148707701e-9,
          3.0230188943675584e-10,
          3.6124893060285296e-10,
          4.0673691147571567e-10,
          4.520886126683739e-10,
          1.2733302470381965e-9,
          9.135942817728532e-11
         ]
        },
        {
         "line": {
          "color": "rgba(255, 153, 51, 0.9295154185022025)",
          "dash": "solid",
          "shape": "linear",
          "width": 1.3
         },
         "mode": "lines",
         "name": "Cholesterol",
         "text": "",
         "type": "scatter",
         "x": [
          0.3659673552268968,
          0.5489510328403452,
          0.6587412394084142,
          0.7319347104537935,
          0.805128181499173,
          0.8783216525445522,
          0.9515151235899316,
          1.024708594635311,
          1.0979020656806904,
          1.463869420907587,
          2.927738841815174
         ],
         "y": [
          0,
          0,
          0,
          0,
          0,
          0,
          0,
          0,
          0,
          0,
          0
         ]
        },
        {
         "line": {
          "color": "rgba(55, 128, 191, 0.9295154185022025)",
          "dash": "solid",
          "shape": "linear",
          "width": 1.3
         },
         "mode": "lines",
         "name": "Choline, total",
         "text": "",
         "type": "scatter",
         "x": [
          0.3659673552268968,
          0.5489510328403452,
          0.6587412394084142,
          0.7319347104537935,
          0.805128181499173,
          0.8783216525445522,
          0.9515151235899316,
          1.024708594635311,
          1.0979020656806904,
          1.463869420907587,
          2.927738841815174
         ],
         "y": [
          133.5119857475888,
          133.51198543651716,
          133.5119855702788,
          133.5119889536027,
          133.51198753055536,
          133.51198625898078,
          133.5119863773738,
          133.51198642721897,
          133.51198643133233,
          133.5119867736767,
          133.5119854622058
         ]
        },
        {
         "line": {
          "color": "rgba(50, 171, 96, 0.9295154185022025)",
          "dash": "solid",
          "shape": "linear",
          "width": 1.3
         },
         "mode": "lines",
         "name": "Citric acid",
         "text": "",
         "type": "scatter",
         "x": [
          0.3659673552268968,
          0.5489510328403452,
          0.6587412394084142,
          0.7319347104537935,
          0.805128181499173,
          0.8783216525445522,
          0.9515151235899316,
          1.024708594635311,
          1.0979020656806904,
          1.463869420907587,
          2.927738841815174
         ],
         "y": [
          542.0689027839645,
          542.068925602264,
          542.0689217976321,
          542.068713834625,
          542.06880222313,
          542.0689052752375,
          542.0689024734447,
          542.0689010262877,
          542.0689003244488,
          542.0688885424415,
          542.0689246087961
         ]
        },
        {
         "line": {
          "color": "rgba(128, 0, 128, 0.9295154185022025)",
          "dash": "solid",
          "shape": "linear",
          "width": 1.3
         },
         "mode": "lines",
         "name": "Copper, Cu",
         "text": "",
         "type": "scatter",
         "x": [
          0.3659673552268968,
          0.5489510328403452,
          0.6587412394084142,
          0.7319347104537935,
          0.805128181499173,
          0.8783216525445522,
          0.9515151235899316,
          1.024708594635311,
          1.0979020656806904,
          1.463869420907587,
          2.927738841815174
         ],
         "y": [
          2.933240762276104,
          2.933240760838606,
          2.933240760228078,
          2.9332407192254024,
          2.933240743104835,
          2.9332407569772596,
          2.933240756704888,
          2.933240756425465,
          2.9332407560566134,
          2.9332407548603427,
          2.9332407607027027
         ]
        },
        {
         "line": {
          "color": "rgba(219, 64, 82, 0.9295154185022025)",
          "dash": "solid",
          "shape": "linear",
          "width": 1.3
         },
         "mode": "lines",
         "name": "Cryptoxanthin, alpha",
         "text": "",
         "type": "scatter",
         "x": [
          0.3659673552268968,
          0.5489510328403452,
          0.6587412394084142,
          0.7319347104537935,
          0.805128181499173,
          0.8783216525445522,
          0.9515151235899316,
          1.024708594635311,
          1.0979020656806904,
          1.463869420907587,
          2.927738841815174
         ],
         "y": [
          5.003008336528345e-9,
          2.740561627069004e-10,
          1.0005857218174437e-9,
          3.221867491439696e-8,
          2.1544709379440765e-8,
          1.3692497345076587e-9,
          1.636245156259981e-9,
          1.8422789519782416e-9,
          2.0476954809096935e-9,
          5.767437001290655e-9,
          4.138044688029982e-10
         ]
        },
        {
         "line": {
          "color": "rgba(0, 128, 128, 0.9295154185022025)",
          "dash": "solid",
          "shape": "linear",
          "width": 1.3
         },
         "mode": "lines",
         "name": "Cryptoxanthin, beta",
         "text": "",
         "type": "scatter",
         "x": [
          0.3659673552268968,
          0.5489510328403452,
          0.6587412394084142,
          0.7319347104537935,
          0.805128181499173,
          0.8783216525445522,
          0.9515151235899316,
          1.024708594635311,
          1.0979020656806904,
          1.463869420907587,
          2.927738841815174
         ],
         "y": [
          13.071759651607213,
          13.07175966078394,
          13.07175969886889,
          13.071758371248503,
          13.071758426075863,
          13.071759652849833,
          13.071759651725001,
          13.07175966235557,
          13.07175968598457,
          13.071759910770108,
          13.071759667123736
         ]
        },
        {
         "line": {
          "color": "rgba(255, 255, 51, 0.9295154185022025)",
          "dash": "solid",
          "shape": "linear",
          "width": 1.3
         },
         "mode": "lines",
         "name": "Cysteine",
         "text": "",
         "type": "scatter",
         "x": [
          0.3659673552268968,
          0.5489510328403452,
          0.6587412394084142,
          0.7319347104537935,
          0.805128181499173,
          0.8783216525445522,
          0.9515151235899316,
          1.024708594635311,
          1.0979020656806904,
          1.463869420907587,
          2.927738841815174
         ],
         "y": [
          1.262052484719663,
          1.2620524866201128,
          1.2620524858243314,
          1.2620524522861873,
          1.2620524697408075,
          1.2620524828537125,
          1.2620524823965045,
          1.2620524820964485,
          1.262052481844033,
          1.2620524790088472,
          1.262052486432674
         ]
        },
        {
         "line": {
          "color": "rgba(128, 128, 0, 0.9295154185022025)",
          "dash": "solid",
          "shape": "linear",
          "width": 1.3
         },
         "mode": "lines",
         "name": "Cystine",
         "text": "",
         "type": "scatter",
         "x": [
          0.3659673552268968,
          0.5489510328403452,
          0.6587412394084142,
          0.7319347104537935,
          0.805128181499173,
          0.8783216525445522,
          0.9515151235899316,
          1.024708594635311,
          1.0979020656806904,
          1.463869420907587,
          2.927738841815174
         ],
         "y": [
          0.3649992372573722,
          0.3649992305392896,
          0.36499923135898465,
          0.3649993104455485,
          0.364999278415558,
          0.3649992351725299,
          0.3649992357838885,
          0.3649992361133486,
          0.36499923630477193,
          0.3649992391320124,
          0.3649992308305013
         ]
        },
        {
         "line": {
          "color": "rgba(128, 128, 0, 0.894273127753304)",
          "dash": "solid",
          "shape": "linear",
          "width": 1.3
         },
         "mode": "lines",
         "name": "Daidzein",
         "text": "",
         "type": "scatter",
         "x": [
          0.3659673552268968,
          0.5489510328403452,
          0.6587412394084142,
          0.7319347104537935,
          0.805128181499173,
          0.8783216525445522,
          0.9515151235899316,
          1.024708594635311,
          1.0979020656806904,
          1.463869420907587,
          2.927738841815174
         ],
         "y": [
          23.1087543680143,
          23.108754411435285,
          23.10875439357066,
          23.108753641093887,
          23.1087540317408,
          23.108754327214825,
          23.108754316947433,
          23.108754310204223,
          23.10875430452977,
          23.108754240619866,
          23.108754407232666
         ]
        },
        {
         "line": {
          "color": "rgba(251, 128, 114, 0.894273127753304)",
          "dash": "solid",
          "shape": "linear",
          "width": 1.3
         },
         "mode": "lines",
         "name": "Daidzin",
         "text": "",
         "type": "scatter",
         "x": [
          0.3659673552268968,
          0.5489510328403452,
          0.6587412394084142,
          0.7319347104537935,
          0.805128181499173,
          0.8783216525445522,
          0.9515151235899316,
          1.024708594635311,
          1.0979020656806904,
          1.463869420907587,
          2.927738841815174
         ],
         "y": [
          79.97088480621916,
          79.97088479256492,
          79.97088479335049,
          79.97088481982873,
          79.97088482117356,
          79.97088479111973,
          79.97088479162485,
          79.97088479203309,
          79.97088479240567,
          79.97088479928404,
          79.97088479266874
         ]
        },
        {
         "line": {
          "color": "rgba(128, 177, 211, 0.894273127753304)",
          "dash": "solid",
          "shape": "linear",
          "width": 1.3
         },
         "mode": "lines",
         "name": "Delta-5-avenasterol",
         "text": "",
         "type": "scatter",
         "x": [
          0.3659673552268968,
          0.5489510328403452,
          0.6587412394084142,
          0.7319347104537935,
          0.805128181499173,
          0.8783216525445522,
          0.9515151235899316,
          1.024708594635311,
          1.0979020656806904,
          1.463869420907587,
          2.927738841815174
         ],
         "y": [
          0,
          0,
          0,
          0,
          0,
          0,
          0,
          0,
          0,
          0,
          0
         ]
        },
        {
         "line": {
          "color": "rgba(255, 153, 51, 0.894273127753304)",
          "dash": "solid",
          "shape": "linear",
          "width": 1.3
         },
         "mode": "lines",
         "name": "Delta-7-Stigmastenol",
         "text": "",
         "type": "scatter",
         "x": [
          0.3659673552268968,
          0.5489510328403452,
          0.6587412394084142,
          0.7319347104537935,
          0.805128181499173,
          0.8783216525445522,
          0.9515151235899316,
          1.024708594635311,
          1.0979020656806904,
          1.463869420907587,
          2.927738841815174
         ],
         "y": [
          0,
          0,
          0,
          0,
          0,
          0,
          0,
          0,
          0,
          0,
          0
         ]
        },
        {
         "line": {
          "color": "rgba(55, 128, 191, 0.894273127753304)",
          "dash": "solid",
          "shape": "linear",
          "width": 1.3
         },
         "mode": "lines",
         "name": "Energy",
         "text": "",
         "type": "scatter",
         "x": [
          0.3659673552268968,
          0.5489510328403452,
          0.6587412394084142,
          0.7319347104537935,
          0.805128181499173,
          0.8783216525445522,
          0.9515151235899316,
          1.024708594635311,
          1.0979020656806904,
          1.463869420907587,
          2.927738841815174
         ],
         "y": [
          3229.221391121251,
          3229.2214017697643,
          3229.221399461063,
          3229.221341040752,
          3229.221368859023,
          3229.221384600537,
          3229.221382391529,
          3229.221381376666,
          3229.2213811297415,
          3229.2213779913714,
          3229.2214013915377
         ]
        },
        {
         "line": {
          "color": "rgba(50, 171, 96, 0.894273127753304)",
          "dash": "solid",
          "shape": "linear",
          "width": 1.3
         },
         "mode": "lines",
         "name": "Energy (Atwater General Factors)",
         "text": "",
         "type": "scatter",
         "x": [
          0.3659673552268968,
          0.5489510328403452,
          0.6587412394084142,
          0.7319347104537935,
          0.805128181499173,
          0.8783216525445522,
          0.9515151235899316,
          1.024708594635311,
          1.0979020656806904,
          1.463869420907587,
          2.927738841815174
         ],
         "y": [
          1354.9146752671725,
          1354.9146772009979,
          1354.9146762782282,
          1354.9146370872024,
          1354.9146577862928,
          1354.9146726375113,
          1354.9146720929682,
          1354.9146717383994,
          1354.9146714431752,
          1354.9146682251667,
          1354.914676983855
         ]
        },
        {
         "line": {
          "color": "rgba(128, 0, 128, 0.894273127753304)",
          "dash": "solid",
          "shape": "linear",
          "width": 1.3
         },
         "mode": "lines",
         "name": "Energy (Atwater Specific Factors)",
         "text": "",
         "type": "scatter",
         "x": [
          0.3659673552268968,
          0.5489510328403452,
          0.6587412394084142,
          0.7319347104537935,
          0.805128181499173,
          0.8783216525445522,
          0.9515151235899316,
          1.024708594635311,
          1.0979020656806904,
          1.463869420907587,
          2.927738841815174
         ],
         "y": [
          1279.9728784928996,
          1279.9728802972168,
          1279.9728794358066,
          1279.972842852658,
          1279.9728621759555,
          1279.9728760387395,
          1279.972875530727,
          1279.9728752000347,
          1279.9728749247677,
          1279.9728719237323,
          1279.9728800951584
         ]
        },
        {
         "line": {
          "color": "rgba(219, 64, 82, 0.894273127753304)",
          "dash": "solid",
          "shape": "linear",
          "width": 1.3
         },
         "mode": "lines",
         "name": "Ergosta-7-enol",
         "text": "",
         "type": "scatter",
         "x": [
          0.3659673552268968,
          0.5489510328403452,
          0.6587412394084142,
          0.7319347104537935,
          0.805128181499173,
          0.8783216525445522,
          0.9515151235899316,
          1.024708594635311,
          1.0979020656806904,
          1.463869420907587,
          2.927738841815174
         ],
         "y": [
          2.0333196445182428e-10,
          1.0367687116342433e-11,
          3.546572530797539e-11,
          9.638268860345555e-10,
          6.56369600866091e-10,
          4.61592497473043e-11,
          5.692427011449773e-11,
          6.588618428310542e-11,
          7.516520968446592e-11,
          2.2705917002200222e-10,
          1.8935572281956694e-11
         ]
        },
        {
         "line": {
          "color": "rgba(0, 128, 128, 0.894273127753304)",
          "dash": "solid",
          "shape": "linear",
          "width": 1.3
         },
         "mode": "lines",
         "name": "Ergosterol",
         "text": "",
         "type": "scatter",
         "x": [
          0.3659673552268968,
          0.5489510328403452,
          0.6587412394084142,
          0.7319347104537935,
          0.805128181499173,
          0.8783216525445522,
          0.9515151235899316,
          1.024708594635311,
          1.0979020656806904,
          1.463869420907587,
          2.927738841815174
         ],
         "y": [
          6.9187620706985504e-9,
          3.5278054080088084e-10,
          1.2067896738821492e-9,
          3.279606784793225e-8,
          2.2334241008662587e-8,
          1.5706574577418113e-9,
          1.93695802837581e-9,
          2.241904434602608e-9,
          2.5576411618459644e-9,
          7.726125981164826e-9,
          6.443193505977922e-10
         ]
        },
        {
         "line": {
          "color": "rgba(255, 255, 51, 0.894273127753304)",
          "dash": "solid",
          "shape": "linear",
          "width": 1.3
         },
         "mode": "lines",
         "name": "Ergothioneine",
         "text": "",
         "type": "scatter",
         "x": [
          0.3659673552268968,
          0.5489510328403452,
          0.6587412394084142,
          0.7319347104537935,
          0.805128181499173,
          0.8783216525445522,
          0.9515151235899316,
          1.024708594635311,
          1.0979020656806904,
          1.463869420907587,
          2.927738841815174
         ],
         "y": [
          5.288622086415258e-10,
          2.6966138460498984e-11,
          9.224561356113549e-11,
          2.5068936754264755e-9,
          1.707203674223309e-9,
          1.2005924811875354e-10,
          1.4805884209707184e-10,
          1.7136859437160223e-10,
          1.9550314636412497e-10,
          5.905761766178148e-10,
          4.925102949713339e-11
         ]
        },
        {
         "line": {
          "color": "rgba(255, 255, 51, 0.8590308370044053)",
          "dash": "solid",
          "shape": "linear",
          "width": 1.3
         },
         "mode": "lines",
         "name": "Fatty acids, total monounsaturated",
         "text": "",
         "type": "scatter",
         "x": [
          0.3659673552268968,
          0.5489510328403452,
          0.6587412394084142,
          0.7319347104537935,
          0.805128181499173,
          0.8783216525445522,
          0.9515151235899316,
          1.024708594635311,
          1.0979020656806904,
          1.463869420907587,
          2.927738841815174
         ],
         "y": [
          60.73429497576154,
          60.734295100949154,
          60.73429506272902,
          60.734292735340816,
          60.734293733112196,
          60.73429484868574,
          60.73429481637355,
          60.734294800537654,
          60.734294794303416,
          60.73429469171345,
          60.734295092077474
         ]
        },
        {
         "line": {
          "color": "rgba(128, 128, 0, 0.8590308370044053)",
          "dash": "solid",
          "shape": "linear",
          "width": 1.3
         },
         "mode": "lines",
         "name": "Fatty acids, total polyunsaturated",
         "text": "",
         "type": "scatter",
         "x": [
          0.3659673552268968,
          0.5489510328403452,
          0.6587412394084142,
          0.7319347104537935,
          0.805128181499173,
          0.8783216525445522,
          0.9515151235899316,
          1.024708594635311,
          1.0979020656806904,
          1.463869420907587,
          2.927738841815174
         ],
         "y": [
          26.10422574917468,
          26.104225774412157,
          26.104225760897013,
          26.104225194751432,
          26.104225476149693,
          26.10422569067202,
          26.10422568021812,
          26.104225674716446,
          26.10422567189042,
          26.1042256347526,
          26.104225771569876
         ]
        },
        {
         "line": {
          "color": "rgba(251, 128, 114, 0.8590308370044053)",
          "dash": "solid",
          "shape": "linear",
          "width": 1.3
         },
         "mode": "lines",
         "name": "Fatty acids, total saturated",
         "text": "",
         "type": "scatter",
         "x": [
          0.3659673552268968,
          0.5489510328403452,
          0.6587412394084142,
          0.7319347104537935,
          0.805128181499173,
          0.8783216525445522,
          0.9515151235899316,
          1.024708594635311,
          1.0979020656806904,
          1.463869420907587,
          2.927738841815174
         ],
         "y": [
          18.12257977448689,
          18.12257980603736,
          18.12257979493272,
          18.122579205785765,
          18.122579472925576,
          18.122579737103166,
          18.122579728389592,
          18.12257972386683,
          18.12257972164492,
          18.122579690203647,
          18.122579803511076
         ]
        },
        {
         "line": {
          "color": "rgba(128, 177, 211, 0.8590308370044053)",
          "dash": "solid",
          "shape": "linear",
          "width": 1.3
         },
         "mode": "lines",
         "name": "Fatty acids, total trans",
         "text": "",
         "type": "scatter",
         "x": [
          0.3659673552268968,
          0.5489510328403452,
          0.6587412394084142,
          0.7319347104537935,
          0.805128181499173,
          0.8783216525445522,
          0.9515151235899316,
          1.024708594635311,
          1.0979020656806904,
          1.463869420907587,
          2.927738841815174
         ],
         "y": [
          0.002216333810742466,
          0.002216333900243798,
          0.002216333874699991,
          0.002216333587458873,
          0.0022163337451025704,
          0.0022163337440427597,
          0.0022163337206682373,
          0.002216333710703197,
          0.002216333709552075,
          0.0022163336413511853,
          0.0022163338964904656
         ]
        },
        {
         "line": {
          "color": "rgba(255, 153, 51, 0.8590308370044053)",
          "dash": "solid",
          "shape": "linear",
          "width": 1.3
         },
         "mode": "lines",
         "name": "Fatty acids, total trans-monoenoic",
         "text": "",
         "type": "scatter",
         "x": [
          0.3659673552268968,
          0.5489510328403452,
          0.6587412394084142,
          0.7319347104537935,
          0.805128181499173,
          0.8783216525445522,
          0.9515151235899316,
          1.024708594635311,
          1.0979020656806904,
          1.463869420907587,
          2.927738841815174
         ],
         "y": [
          0.004960569836973177,
          0.004960569829881641,
          0.004960569830757333,
          0.004960569873284899,
          0.004960569857529708,
          0.004960569830977733,
          0.004960569831251686,
          0.004960569831479671,
          0.004960569831725768,
          0.004960569836372356,
          0.0049605698301007015
         ]
        },
        {
         "line": {
          "color": "rgba(55, 128, 191, 0.8590308370044053)",
          "dash": "solid",
          "shape": "linear",
          "width": 1.3
         },
         "mode": "lines",
         "name": "Fatty acids, total trans-polyenoic",
         "text": "",
         "type": "scatter",
         "x": [
          0.3659673552268968,
          0.5489510328403452,
          0.6587412394084142,
          0.7319347104537935,
          0.805128181499173,
          0.8783216525445522,
          0.9515151235899316,
          1.024708594635311,
          1.0979020656806904,
          1.463869420907587,
          2.927738841815174
         ],
         "y": [
          1.1230679266524177e-11,
          4.332969408050146e-13,
          1.7608360588823427e-12,
          6.912034248246069e-11,
          4.3966201050322523e-11,
          2.037220781369528e-12,
          2.40934638655975e-12,
          2.7312086372535842e-12,
          3.0941802958471654e-12,
          1.0256053629263503e-11,
          7.327922710676928e-13
         ]
        },
        {
         "line": {
          "color": "rgba(50, 171, 96, 0.8590308370044053)",
          "dash": "solid",
          "shape": "linear",
          "width": 1.3
         },
         "mode": "lines",
         "name": "Fiber, insoluble",
         "text": "",
         "type": "scatter",
         "x": [
          0.3659673552268968,
          0.5489510328403452,
          0.6587412394084142,
          0.7319347104537935,
          0.805128181499173,
          0.8783216525445522,
          0.9515151235899316,
          1.024708594635311,
          1.0979020656806904,
          1.463869420907587,
          2.927738841815174
         ],
         "y": [
          0.6099019433227588,
          0.6099019257896668,
          0.6099019281225542,
          0.609902070655691,
          0.6099020085340346,
          0.6099019405601097,
          0.6099019425277472,
          0.6099019434302833,
          0.6099019436962069,
          0.6099019486980947,
          0.6099019265479816
         ]
        },
        {
         "line": {
          "color": "rgba(128, 0, 128, 0.8590308370044053)",
          "dash": "solid",
          "shape": "linear",
          "width": 1.3
         },
         "mode": "lines",
         "name": "Fiber, soluble",
         "text": "",
         "type": "scatter",
         "x": [
          0.3659673552268968,
          0.5489510328403452,
          0.6587412394084142,
          0.7319347104537935,
          0.805128181499173,
          0.8783216525445522,
          0.9515151235899316,
          1.024708594635311,
          1.0979020656806904,
          1.463869420907587,
          2.927738841815174
         ],
         "y": [
          0.06776688259141765,
          0.06776688064329632,
          0.06776688090250603,
          0.06776689673952123,
          0.06776688983711497,
          0.06776688228445664,
          0.06776688250308303,
          0.06776688260336482,
          0.06776688263291188,
          0.06776688318867718,
          0.0677668807275535
         ]
        },
        {
         "line": {
          "color": "rgba(219, 64, 82, 0.8590308370044053)",
          "dash": "solid",
          "shape": "linear",
          "width": 1.3
         },
         "mode": "lines",
         "name": "Fiber, total dietary",
         "text": "",
         "type": "scatter",
         "x": [
          0.3659673552268968,
          0.5489510328403452,
          0.6587412394084142,
          0.7319347104537935,
          0.805128181499173,
          0.8783216525445522,
          0.9515151235899316,
          1.024708594635311,
          1.0979020656806904,
          1.463869420907587,
          2.927738841815174
         ],
         "y": [
          55.84431305662028,
          55.84431301283707,
          55.84431303222466,
          55.84431310503791,
          55.84431310857678,
          55.844313136993435,
          55.844313157203395,
          55.84431316432764,
          55.8443131619621,
          55.8443132143926,
          55.84431301522382
         ]
        },
        {
         "line": {
          "color": "rgba(0, 128, 128, 0.8590308370044053)",
          "dash": "solid",
          "shape": "linear",
          "width": 1.3
         },
         "mode": "lines",
         "name": "Fluoride, F",
         "text": "",
         "type": "scatter",
         "x": [
          0.3659673552268968,
          0.5489510328403452,
          0.6587412394084142,
          0.7319347104537935,
          0.805128181499173,
          0.8783216525445522,
          0.9515151235899316,
          1.024708594635311,
          1.0979020656806904,
          1.463869420907587,
          2.927738841815174
         ],
         "y": [
          6.4489576711107,
          6.4489575962720656,
          6.4489576003906315,
          6.44895954713115,
          6.448958607634854,
          6.448957566694101,
          6.448957555560486,
          6.448957557464569,
          6.448957571565174,
          6.448957617039755,
          6.448957603342156
         ]
        },
        {
         "line": {
          "color": "rgba(0, 128, 128, 0.8237885462555066)",
          "dash": "solid",
          "shape": "linear",
          "width": 1.3
         },
         "mode": "lines",
         "name": "Folate, DFE",
         "text": "",
         "type": "scatter",
         "x": [
          0.3659673552268968,
          0.5489510328403452,
          0.6587412394084142,
          0.7319347104537935,
          0.805128181499173,
          0.8783216525445522,
          0.9515151235899316,
          1.024708594635311,
          1.0979020656806904,
          1.463869420907587,
          2.927738841815174
         ],
         "y": [
          400.00000022433517,
          400.00000000907545,
          400.000000049173,
          400.0000024339112,
          400.00000163273404,
          400.0000000504443,
          400.0000000615679,
          400.0000000726881,
          400.0000000865208,
          400.00000038839886,
          400.00000002851453
         ]
        },
        {
         "line": {
          "color": "rgba(255, 255, 51, 0.8237885462555066)",
          "dash": "solid",
          "shape": "linear",
          "width": 1.3
         },
         "mode": "lines",
         "name": "Folate, food",
         "text": "",
         "type": "scatter",
         "x": [
          0.3659673552268968,
          0.5489510328403452,
          0.6587412394084142,
          0.7319347104537935,
          0.805128181499173,
          0.8783216525445522,
          0.9515151235899316,
          1.024708594635311,
          1.0979020656806904,
          1.463869420907587,
          2.927738841815174
         ],
         "y": [
          373.24568515925154,
          373.2456836504048,
          373.24568402521743,
          373.24569120997677,
          373.24568800625866,
          373.24568560884785,
          373.24568590944244,
          373.24568604717984,
          373.24568608205544,
          373.24568734816063,
          373.2456837213566
         ]
        },
        {
         "line": {
          "color": "rgba(128, 128, 0, 0.8237885462555066)",
          "dash": "solid",
          "shape": "linear",
          "width": 1.3
         },
         "mode": "lines",
         "name": "Folate, total",
         "text": "",
         "type": "scatter",
         "x": [
          0.3659673552268968,
          0.5489510328403452,
          0.6587412394084142,
          0.7319347104537935,
          0.805128181499173,
          0.8783216525445522,
          0.9515151235899316,
          1.024708594635311,
          1.0979020656806904,
          1.463869420907587,
          2.927738841815174
         ],
         "y": [
          712.3586381626874,
          712.3586382693909,
          712.3586382043709,
          712.3586305697884,
          712.3586344297535,
          712.3586377910041,
          712.3586377500054,
          712.3586377103592,
          712.3586376604096,
          712.3586374501667,
          712.358638243213
         ]
        },
        {
         "line": {
          "color": "rgba(251, 128, 114, 0.8237885462555066)",
          "dash": "solid",
          "shape": "linear",
          "width": 1.3
         },
         "mode": "lines",
         "name": "Folic acid",
         "text": "",
         "type": "scatter",
         "x": [
          0.3659673552268968,
          0.5489510328403452,
          0.6587412394084142,
          0.7319347104537935,
          0.805128181499173,
          0.8783216525445522,
          0.9515151235899316,
          1.024708594635311,
          1.0979020656806904,
          1.463869420907587,
          2.927738841815174
         ],
         "y": [
          15.83095565981281,
          15.830956425248896,
          15.830956227192669,
          15.83095338694348,
          15.830954808565295,
          15.830955290885493,
          15.83095511960087,
          15.83095504467943,
          15.830955032228047,
          15.83095446167944,
          15.830956394768004
         ]
        },
        {
         "line": {
          "color": "rgba(128, 177, 211, 0.8237885462555066)",
          "dash": "solid",
          "shape": "linear",
          "width": 1.3
         },
         "mode": "lines",
         "name": "Fructose",
         "text": "",
         "type": "scatter",
         "x": [
          0.3659673552268968,
          0.5489510328403452,
          0.6587412394084142,
          0.7319347104537935,
          0.805128181499173,
          0.8783216525445522,
          0.9515151235899316,
          1.024708594635311,
          1.0979020656806904,
          1.463869420907587,
          2.927738841815174
         ],
         "y": [
          10.719731817423597,
          10.71973215695697,
          10.719732098677161,
          10.71972907476865,
          10.719730356263668,
          10.719731846749317,
          10.719731803524777,
          10.719731781564917,
          10.71973177154536,
          10.719731591402425,
          10.719732142338984
         ]
        },
        {
         "line": {
          "color": "rgba(255, 153, 51, 0.8237885462555066)",
          "dash": "solid",
          "shape": "linear",
          "width": 1.3
         },
         "mode": "lines",
         "name": "Galactose",
         "text": "",
         "type": "scatter",
         "x": [
          0.3659673552268968,
          0.5489510328403452,
          0.6587412394084142,
          0.7319347104537935,
          0.805128181499173,
          0.8783216525445522,
          0.9515151235899316,
          1.024708594635311,
          1.0979020656806904,
          1.463869420907587,
          2.927738841815174
         ],
         "y": [
          0.030451654826460818,
          0.030451654727761065,
          0.03045165489175998,
          0.030451652135513926,
          0.03045165133047342,
          0.03045165487358477,
          0.030451654886416626,
          0.030451654935322064,
          0.030451655029334463,
          0.0304516558931265,
          0.030451654760528853
         ]
        },
        {
         "line": {
          "color": "rgba(55, 128, 191, 0.8237885462555066)",
          "dash": "solid",
          "shape": "linear",
          "width": 1.3
         },
         "mode": "lines",
         "name": "Genistein",
         "text": "",
         "type": "scatter",
         "x": [
          0.3659673552268968,
          0.5489510328403452,
          0.6587412394084142,
          0.7319347104537935,
          0.805128181499173,
          0.8783216525445522,
          0.9515151235899316,
          1.024708594635311,
          1.0979020656806904,
          1.463869420907587,
          2.927738841815174
         ],
         "y": [
          2.320630883238744,
          2.3206308827633464,
          2.320630882816382,
          2.320630884855287,
          2.3206308842419987,
          2.320630882861485,
          2.3206308828935485,
          2.3206308829168636,
          2.32063088293734,
          2.3206308832470866,
          2.320630882773434
         ]
        },
        {
         "line": {
          "color": "rgba(50, 171, 96, 0.8237885462555066)",
          "dash": "solid",
          "shape": "linear",
          "width": 1.3
         },
         "mode": "lines",
         "name": "Genistin",
         "text": "",
         "type": "scatter",
         "x": [
          0.3659673552268968,
          0.5489510328403452,
          0.6587412394084142,
          0.7319347104537935,
          0.805128181499173,
          0.8783216525445522,
          0.9515151235899316,
          1.024708594635311,
          1.0979020656806904,
          1.463869420907587,
          2.927738841815174
         ],
         "y": [
          118.2665538538217,
          118.26655383771225,
          118.26655383731436,
          118.26655381094305,
          118.26655384657532,
          118.26655382835052,
          118.2665538281998,
          118.26655382821207,
          118.2665538282646,
          118.2665538327559,
          118.26655383750091
         ]
        },
        {
         "line": {
          "color": "rgba(128, 0, 128, 0.8237885462555066)",
          "dash": "solid",
          "shape": "linear",
          "width": 1.3
         },
         "mode": "lines",
         "name": "Glucose",
         "text": "",
         "type": "scatter",
         "x": [
          0.3659673552268968,
          0.5489510328403452,
          0.6587412394084142,
          0.7319347104537935,
          0.805128181499173,
          0.8783216525445522,
          0.9515151235899316,
          1.024708594635311,
          1.0979020656806904,
          1.463869420907587,
          2.927738841815174
         ],
         "y": [
          9.846136976508413,
          9.846137282197478,
          9.846137230050404,
          9.846134528441706,
          9.846135667302024,
          9.846137003153977,
          9.846136964091826,
          9.846136944397218,
          9.846136935685282,
          9.846136774742263,
          9.846137269115975
         ]
        },
        {
         "line": {
          "color": "rgba(219, 64, 82, 0.8237885462555066)",
          "dash": "solid",
          "shape": "linear",
          "width": 1.3
         },
         "mode": "lines",
         "name": "Glutamic acid",
         "text": "",
         "type": "scatter",
         "x": [
          0.3659673552268968,
          0.5489510328403452,
          0.6587412394084142,
          0.7319347104537935,
          0.805128181499173,
          0.8783216525445522,
          0.9515151235899316,
          1.024708594635311,
          1.0979020656806904,
          1.463869420907587,
          2.927738841815174
         ],
         "y": [
          19.971268899277522,
          19.971268888622035,
          19.971268882649813,
          19.971268936146156,
          19.97126898183351,
          19.97126886549629,
          19.971268863648664,
          19.97126886139094,
          19.971268858210514,
          19.97126883834117,
          19.971268887542692
         ]
        },
        {
         "line": {
          "color": "rgba(219, 64, 82, 0.7885462555066078)",
          "dash": "solid",
          "shape": "linear",
          "width": 1.3
         },
         "mode": "lines",
         "name": "Glycine",
         "text": "",
         "type": "scatter",
         "x": [
          0.3659673552268968,
          0.5489510328403452,
          0.6587412394084142,
          0.7319347104537935,
          0.805128181499173,
          0.8783216525445522,
          0.9515151235899316,
          1.024708594635311,
          1.0979020656806904,
          1.463869420907587,
          2.927738841815174
         ],
         "y": [
          5.265694735110958,
          5.2656947353915795,
          5.265694733627842,
          5.265694665317646,
          5.265694710075305,
          5.265694728070038,
          5.265694727454973,
          5.26569472676558,
          5.265694725810864,
          5.265694719393148,
          5.265694734985896
         ]
        },
        {
         "line": {
          "color": "rgba(0, 128, 128, 0.7885462555066078)",
          "dash": "solid",
          "shape": "linear",
          "width": 1.3
         },
         "mode": "lines",
         "name": "Glycitin",
         "text": "",
         "type": "scatter",
         "x": [
          0.3659673552268968,
          0.5489510328403452,
          0.6587412394084142,
          0.7319347104537935,
          0.805128181499173,
          0.8783216525445522,
          0.9515151235899316,
          1.024708594635311,
          1.0979020656806904,
          1.463869420907587,
          2.927738841815174
         ],
         "y": [
          9.065143397867343,
          9.06514339774361,
          9.065143397288743,
          9.065143377437336,
          9.065143389322698,
          9.065143395060302,
          9.065143394804487,
          9.065143394644487,
          9.065143394512884,
          9.06514339331141,
          9.065143397628129
         ]
        },
        {
         "line": {
          "color": "rgba(255, 255, 51, 0.7885462555066078)",
          "dash": "solid",
          "shape": "linear",
          "width": 1.3
         },
         "mode": "lines",
         "name": "High Molecular Weight Dietary Fiber (HMWDF)",
         "text": "",
         "type": "scatter",
         "x": [
          0.3659673552268968,
          0.5489510328403452,
          0.6587412394084142,
          0.7319347104537935,
          0.805128181499173,
          0.8783216525445522,
          0.9515151235899316,
          1.024708594635311,
          1.0979020656806904,
          1.463869420907587,
          2.927738841815174
         ],
         "y": [
          6.111283911421343e-9,
          2.7382402946552123e-10,
          1.022008390515873e-9,
          2.73108978678497e-8,
          1.788859579381071e-8,
          1.1483304896267892e-9,
          1.3915559266625473e-9,
          1.5988625967563157e-9,
          1.8258301036545651e-9,
          5.6283702736902705e-9,
          5.378634075719622e-10
         ]
        },
        {
         "line": {
          "color": "rgba(128, 128, 0, 0.7885462555066078)",
          "dash": "solid",
          "shape": "linear",
          "width": 1.3
         },
         "mode": "lines",
         "name": "Histidine",
         "text": "",
         "type": "scatter",
         "x": [
          0.3659673552268968,
          0.5489510328403452,
          0.6587412394084142,
          0.7319347104537935,
          0.805128181499173,
          0.8783216525445522,
          0.9515151235899316,
          1.024708594635311,
          1.0979020656806904,
          1.463869420907587,
          2.927738841815174
         ],
         "y": [
          2.744418571211692,
          2.7444185691518044,
          2.744418568731791,
          2.744418559509464,
          2.7444185715133607,
          2.744418568203147,
          2.7444185682778963,
          2.7444185681149214,
          2.744418567699568,
          2.7444185659785556,
          2.7444185690594627
         ]
        },
        {
         "line": {
          "color": "rgba(251, 128, 114, 0.7885462555066078)",
          "dash": "solid",
          "shape": "linear",
          "width": 1.3
         },
         "mode": "lines",
         "name": "Hydroxyproline",
         "text": "",
         "type": "scatter",
         "x": [
          0.3659673552268968,
          0.5489510328403452,
          0.6587412394084142,
          0.7319347104537935,
          0.805128181499173,
          0.8783216525445522,
          0.9515151235899316,
          1.024708594635311,
          1.0979020656806904,
          1.463869420907587,
          2.927738841815174
         ],
         "y": [
          0.2881217900241873,
          0.2881217906479894,
          0.2881217903937693,
          0.2881217796890798,
          0.288121785238811,
          0.28812178945209105,
          0.2881217893059554,
          0.28812178920994097,
          0.2881217891291296,
          0.2881217882176232,
          0.2881217905882253
         ]
        },
        {
         "line": {
          "color": "rgba(128, 177, 211, 0.7885462555066078)",
          "dash": "solid",
          "shape": "linear",
          "width": 1.3
         },
         "mode": "lines",
         "name": "Iodine, I",
         "text": "",
         "type": "scatter",
         "x": [
          0.3659673552268968,
          0.5489510328403452,
          0.6587412394084142,
          0.7319347104537935,
          0.805128181499173,
          0.8783216525445522,
          0.9515151235899316,
          1.024708594635311,
          1.0979020656806904,
          1.463869420907587,
          2.927738841815174
         ],
         "y": [
          0,
          0,
          0,
          0,
          0,
          0,
          0,
          0,
          0,
          0,
          0
         ]
        },
        {
         "line": {
          "color": "rgba(255, 153, 51, 0.7885462555066078)",
          "dash": "solid",
          "shape": "linear",
          "width": 1.3
         },
         "mode": "lines",
         "name": "Iron, Fe",
         "text": "",
         "type": "scatter",
         "x": [
          0.3659673552268968,
          0.5489510328403452,
          0.6587412394084142,
          0.7319347104537935,
          0.805128181499173,
          0.8783216525445522,
          0.9515151235899316,
          1.024708594635311,
          1.0979020656806904,
          1.463869420907587,
          2.927738841815174
         ],
         "y": [
          18.000000023116247,
          18.00000000096388,
          18.000000000964825,
          18.000000007956732,
          18.000000064204546,
          18.000000003975615,
          18.000000005993602,
          18.000000005736972,
          18.000000003393186,
          18.000000003664418,
          18.00000000085197
         ]
        },
        {
         "line": {
          "color": "rgba(55, 128, 191, 0.7885462555066078)",
          "dash": "solid",
          "shape": "linear",
          "width": 1.3
         },
         "mode": "lines",
         "name": "Isoflavones",
         "text": "",
         "type": "scatter",
         "x": [
          0.3659673552268968,
          0.5489510328403452,
          0.6587412394084142,
          0.7319347104537935,
          0.805128181499173,
          0.8783216525445522,
          0.9515151235899316,
          1.024708594635311,
          1.0979020656806904,
          1.463869420907587,
          2.927738841815174
         ],
         "y": [
          0,
          0,
          0,
          0,
          0,
          0,
          0,
          0,
          0,
          0,
          0
         ]
        },
        {
         "line": {
          "color": "rgba(50, 171, 96, 0.7885462555066078)",
          "dash": "solid",
          "shape": "linear",
          "width": 1.3
         },
         "mode": "lines",
         "name": "Isoleucine",
         "text": "",
         "type": "scatter",
         "x": [
          0.3659673552268968,
          0.5489510328403452,
          0.6587412394084142,
          0.7319347104537935,
          0.805128181499173,
          0.8783216525445522,
          0.9515151235899316,
          1.024708594635311,
          1.0979020656806904,
          1.463869420907587,
          2.927738841815174
         ],
         "y": [
          4.144934726604692,
          4.144934722333668,
          4.14493472207146,
          4.144934725835075,
          4.144934736202465,
          4.144934723122502,
          4.14493472353941,
          4.144934723438139,
          4.144934722860745,
          4.1449347213696885,
          4.14493472227275
         ]
        },
        {
         "line": {
          "color": "rgba(128, 0, 128, 0.7885462555066078)",
          "dash": "solid",
          "shape": "linear",
          "width": 1.3
         },
         "mode": "lines",
         "name": "Lactose",
         "text": "",
         "type": "scatter",
         "x": [
          0.3659673552268968,
          0.5489510328403452,
          0.6587412394084142,
          0.7319347104537935,
          0.805128181499173,
          0.8783216525445522,
          0.9515151235899316,
          1.024708594635311,
          1.0979020656806904,
          1.463869420907587,
          2.927738841815174
         ],
         "y": [
          0,
          0,
          0,
          0,
          0,
          0,
          0,
          0,
          0,
          0,
          0
         ]
        },
        {
         "line": {
          "color": "rgba(128, 0, 128, 0.7533039647577093)",
          "dash": "solid",
          "shape": "linear",
          "width": 1.3
         },
         "mode": "lines",
         "name": "Leucine",
         "text": "",
         "type": "scatter",
         "x": [
          0.3659673552268968,
          0.5489510328403452,
          0.6587412394084142,
          0.7319347104537935,
          0.805128181499173,
          0.8783216525445522,
          0.9515151235899316,
          1.024708594635311,
          1.0979020656806904,
          1.463869420907587,
          2.927738841815174
         ],
         "y": [
          7.774724619004959,
          7.7747246156672905,
          7.7747246143596005,
          7.774724575048634,
          7.774724615034369,
          7.774724612773262,
          7.77472461298772,
          7.774724612476301,
          7.774724611190004,
          7.774724605716542,
          7.774724615317626
         ]
        },
        {
         "line": {
          "color": "rgba(219, 64, 82, 0.7533039647577093)",
          "dash": "solid",
          "shape": "linear",
          "width": 1.3
         },
         "mode": "lines",
         "name": "Lipids",
         "text": "",
         "type": "scatter",
         "x": [
          0.3659673552268968,
          0.5489510328403452,
          0.6587412394084142,
          0.7319347104537935,
          0.805128181499173,
          0.8783216525445522,
          0.9515151235899316,
          1.024708594635311,
          1.0979020656806904,
          1.463869420907587,
          2.927738841815174
         ],
         "y": [
          0,
          0,
          0,
          0,
          0,
          0,
          0,
          0,
          0,
          0,
          0
         ]
        },
        {
         "line": {
          "color": "rgba(0, 128, 128, 0.7533039647577093)",
          "dash": "solid",
          "shape": "linear",
          "width": 1.3
         },
         "mode": "lines",
         "name": "Low Molecular Weight Dietary Fiber (LMWDF)",
         "text": "",
         "type": "scatter",
         "x": [
          0.3659673552268968,
          0.5489510328403452,
          0.6587412394084142,
          0.7319347104537935,
          0.805128181499173,
          0.8783216525445522,
          0.9515151235899316,
          1.024708594635311,
          1.0979020656806904,
          1.463869420907587,
          2.927738841815174
         ],
         "y": [
          4.4176590080087917e-10,
          1.979389614213301e-11,
          7.387784036976537e-11,
          1.974220732197236e-9,
          1.2931115211562232e-9,
          8.300927604083581e-11,
          1.0059129413182631e-10,
          1.155768551339668e-10,
          1.3198363750420613e-10,
          4.068575605448167e-10,
          3.8880489958876054e-11
         ]
        },
        {
         "line": {
          "color": "rgba(255, 255, 51, 0.7533039647577093)",
          "dash": "solid",
          "shape": "linear",
          "width": 1.3
         },
         "mode": "lines",
         "name": "Lutein",
         "text": "",
         "type": "scatter",
         "x": [
          0.3659673552268968,
          0.5489510328403452,
          0.6587412394084142,
          0.7319347104537935,
          0.805128181499173,
          0.8783216525445522,
          0.9515151235899316,
          1.024708594635311,
          1.0979020656806904,
          1.463869420907587,
          2.927738841815174
         ],
         "y": [
          0.000008519846416634797,
          1.9187503026851195e-7,
          0.0000015523055087992694,
          0.00004058826202422489,
          0.000021837503275349486,
          0.0000013837504365384948,
          0.0000014214025213846821,
          0.0000013861431742414271,
          0.0000013476047800847734,
          0.0000023856325390449555,
          7.4183982897035e-8
         ]
        },
        {
         "line": {
          "color": "rgba(128, 128, 0, 0.7533039647577093)",
          "dash": "solid",
          "shape": "linear",
          "width": 1.3
         },
         "mode": "lines",
         "name": "Lutein + zeaxanthin",
         "text": "",
         "type": "scatter",
         "x": [
          0.3659673552268968,
          0.5489510328403452,
          0.6587412394084142,
          0.7319347104537935,
          0.805128181499173,
          0.8783216525445522,
          0.9515151235899316,
          1.024708594635311,
          1.0979020656806904,
          1.463869420907587,
          2.927738841815174
         ],
         "y": [
          1280.5643038936107,
          1280.564287852884,
          1280.564290167525,
          1280.5643995786488,
          1280.564354364141,
          1280.564292742936,
          1280.564293382329,
          1280.5642937465195,
          1280.564294036168,
          1280.5642996038653,
          1280.5642879441386
         ]
        },
        {
         "line": {
          "color": "rgba(251, 128, 114, 0.7533039647577093)",
          "dash": "solid",
          "shape": "linear",
          "width": 1.3
         },
         "mode": "lines",
         "name": "Lycopene",
         "text": "",
         "type": "scatter",
         "x": [
          0.3659673552268968,
          0.5489510328403452,
          0.6587412394084142,
          0.7319347104537935,
          0.805128181499173,
          0.8783216525445522,
          0.9515151235899316,
          1.024708594635311,
          1.0979020656806904,
          1.463869420907587,
          2.927738841815174
         ],
         "y": [
          0.3597360817000355,
          0.35973460657302736,
          0.35973483266622874,
          0.35974496055010413,
          0.3597414220957867,
          0.359734990663677,
          0.3597350769936559,
          0.3597351424599155,
          0.3597352066621841,
          0.35973634357812684,
          0.35973465151841
         ]
        },
        {
         "line": {
          "color": "rgba(128, 177, 211, 0.7533039647577093)",
          "dash": "solid",
          "shape": "linear",
          "width": 1.3
         },
         "mode": "lines",
         "name": "Lysine",
         "text": "",
         "type": "scatter",
         "x": [
          0.3659673552268968,
          0.5489510328403452,
          0.6587412394084142,
          0.7319347104537935,
          0.805128181499173,
          0.8783216525445522,
          0.9515151235899316,
          1.024708594635311,
          1.0979020656806904,
          1.463869420907587,
          2.927738841815174
         ],
         "y": [
          5.415373543637027,
          5.415373535311113,
          5.415373535778885,
          5.415373542544784,
          5.415373553269215,
          5.415373540686178,
          5.415373541838635,
          5.415373542009288,
          5.41537354137077,
          5.41537354174994,
          5.41537353540116
         ]
        },
        {
         "line": {
          "color": "rgba(255, 153, 51, 0.7533039647577093)",
          "dash": "solid",
          "shape": "linear",
          "width": 1.3
         },
         "mode": "lines",
         "name": "MUFA 12:1",
         "text": "",
         "type": "scatter",
         "x": [
          0.3659673552268968,
          0.5489510328403452,
          0.6587412394084142,
          0.7319347104537935,
          0.805128181499173,
          0.8783216525445522,
          0.9515151235899316,
          1.024708594635311,
          1.0979020656806904,
          1.463869420907587,
          2.927738841815174
         ],
         "y": [
          0,
          0,
          0,
          0,
          0,
          0,
          0,
          0,
          0,
          0,
          0
         ]
        },
        {
         "line": {
          "color": "rgba(55, 128, 191, 0.7533039647577093)",
          "dash": "solid",
          "shape": "linear",
          "width": 1.3
         },
         "mode": "lines",
         "name": "MUFA 14:1",
         "text": "",
         "type": "scatter",
         "x": [
          0.3659673552268968,
          0.5489510328403452,
          0.6587412394084142,
          0.7319347104537935,
          0.805128181499173,
          0.8783216525445522,
          0.9515151235899316,
          1.024708594635311,
          1.0979020656806904,
          1.463869420907587,
          2.927738841815174
         ],
         "y": [
          0,
          0,
          0,
          0,
          0,
          0,
          0,
          0,
          0,
          0,
          0
         ]
        },
        {
         "line": {
          "color": "rgba(50, 171, 96, 0.7533039647577093)",
          "dash": "solid",
          "shape": "linear",
          "width": 1.3
         },
         "mode": "lines",
         "name": "MUFA 14:1 c",
         "text": "",
         "type": "scatter",
         "x": [
          0.3659673552268968,
          0.5489510328403452,
          0.6587412394084142,
          0.7319347104537935,
          0.805128181499173,
          0.8783216525445522,
          0.9515151235899316,
          1.024708594635311,
          1.0979020656806904,
          1.463869420907587,
          2.927738841815174
         ],
         "y": [
          0,
          0,
          0,
          0,
          0,
          0,
          0,
          0,
          0,
          0,
          0
         ]
        },
        {
         "line": {
          "color": "rgba(50, 171, 96, 0.7180616740088106)",
          "dash": "solid",
          "shape": "linear",
          "width": 1.3
         },
         "mode": "lines",
         "name": "MUFA 15:1",
         "text": "",
         "type": "scatter",
         "x": [
          0.3659673552268968,
          0.5489510328403452,
          0.6587412394084142,
          0.7319347104537935,
          0.805128181499173,
          0.8783216525445522,
          0.9515151235899316,
          1.024708594635311,
          1.0979020656806904,
          1.463869420907587,
          2.927738841815174
         ],
         "y": [
          0,
          0,
          0,
          0,
          0,
          0,
          0,
          0,
          0,
          0,
          0
         ]
        },
        {
         "line": {
          "color": "rgba(128, 0, 128, 0.7180616740088106)",
          "dash": "solid",
          "shape": "linear",
          "width": 1.3
         },
         "mode": "lines",
         "name": "MUFA 16:1",
         "text": "",
         "type": "scatter",
         "x": [
          0.3659673552268968,
          0.5489510328403452,
          0.6587412394084142,
          0.7319347104537935,
          0.805128181499173,
          0.8783216525445522,
          0.9515151235899316,
          1.024708594635311,
          1.0979020656806904,
          1.463869420907587,
          2.927738841815174
         ],
         "y": [
          0.21438018680256832,
          0.21438018600080702,
          0.21438018715535548,
          0.21438016959479314,
          0.21438016327876228,
          0.21438018706041034,
          0.21438018715286702,
          0.2143801874982266,
          0.21438018816074267,
          0.21438019423049484,
          0.21438018623538083
         ]
        },
        {
         "line": {
          "color": "rgba(219, 64, 82, 0.7180616740088106)",
          "dash": "solid",
          "shape": "linear",
          "width": 1.3
         },
         "mode": "lines",
         "name": "MUFA 16:1 c",
         "text": "",
         "type": "scatter",
         "x": [
          0.3659673552268968,
          0.5489510328403452,
          0.6587412394084142,
          0.7319347104537935,
          0.805128181499173,
          0.8783216525445522,
          0.9515151235899316,
          1.024708594635311,
          1.0979020656806904,
          1.463869420907587,
          2.927738841815174
         ],
         "y": [
          0.011832103807612371,
          0.011832103791132692,
          0.011832103793103104,
          0.011832103890694072,
          0.011832103855355219,
          0.01183210379375065,
          0.011832103794405833,
          0.011832103794949119,
          0.011832103795529524,
          0.011832103806514982,
          0.01183210379152087
         ]
        },
        {
         "line": {
          "color": "rgba(0, 128, 128, 0.7180616740088106)",
          "dash": "solid",
          "shape": "linear",
          "width": 1.3
         },
         "mode": "lines",
         "name": "MUFA 17:1",
         "text": "",
         "type": "scatter",
         "x": [
          0.3659673552268968,
          0.5489510328403452,
          0.6587412394084142,
          0.7319347104537935,
          0.805128181499173,
          0.8783216525445522,
          0.9515151235899316,
          1.024708594635311,
          1.0979020656806904,
          1.463869420907587,
          2.927738841815174
         ],
         "y": [
          0.00915048220454923,
          0.009150482186455828,
          0.009150482203847426,
          0.0091504819769968,
          0.009150481878732216,
          0.009150482202337556,
          0.00915048220394673,
          0.00915048220910745,
          0.009150482218797596,
          0.009150482310631777,
          0.009150482189942893
         ]
        },
        {
         "line": {
          "color": "rgba(255, 255, 51, 0.7180616740088106)",
          "dash": "solid",
          "shape": "linear",
          "width": 1.3
         },
         "mode": "lines",
         "name": "MUFA 17:1 c",
         "text": "",
         "type": "scatter",
         "x": [
          0.3659673552268968,
          0.5489510328403452,
          0.6587412394084142,
          0.7319347104537935,
          0.805128181499173,
          0.8783216525445522,
          0.9515151235899316,
          1.024708594635311,
          1.0979020656806904,
          1.463869420907587,
          2.927738841815174
         ],
         "y": [
          0.006105316714650734,
          0.0061053167134000165,
          0.006105316713539549,
          0.006105316718903676,
          0.006105316717290184,
          0.0061053167136582084,
          0.006105316713742564,
          0.0061053167138039035,
          0.006105316713857775,
          0.0061053167146726825,
          0.006105316713426556
         ]
        },
        {
         "line": {
          "color": "rgba(128, 128, 0, 0.7180616740088106)",
          "dash": "solid",
          "shape": "linear",
          "width": 1.3
         },
         "mode": "lines",
         "name": "MUFA 18:1",
         "text": "",
         "type": "scatter",
         "x": [
          0.3659673552268968,
          0.5489510328403452,
          0.6587412394084142,
          0.7319347104537935,
          0.805128181499173,
          0.8783216525445522,
          0.9515151235899316,
          1.024708594635311,
          1.0979020656806904,
          1.463869420907587,
          2.927738841815174
         ],
         "y": [
          3.510105183412467,
          3.5101051929763503,
          3.5101052014759175,
          3.510104908600878,
          3.5101048662906957,
          3.510105165876808,
          3.510105161083591,
          3.5101051630015583,
          3.510105171286301,
          3.5101052337224172,
          3.5101051951287605
         ]
        },
        {
         "line": {
          "color": "rgba(251, 128, 114, 0.7180616740088106)",
          "dash": "solid",
          "shape": "linear",
          "width": 1.3
         },
         "mode": "lines",
         "name": "MUFA 18:1 c",
         "text": "",
         "type": "scatter",
         "x": [
          0.3659673552268968,
          0.5489510328403452,
          0.6587412394084142,
          0.7319347104537935,
          0.805128181499173,
          0.8783216525445522,
          0.9515151235899316,
          1.024708594635311,
          1.0979020656806904,
          1.463869420907587,
          2.927738841815174
         ],
         "y": [
          55.26447696544938,
          55.264477074285914,
          55.264477028369086,
          55.264475106837814,
          55.26447610892265,
          55.264476856211985,
          55.26447682967977,
          55.264476812267795,
          55.26447679763674,
          55.26447663428172,
          55.26447706347024
         ]
        },
        {
         "line": {
          "color": "rgba(128, 177, 211, 0.7180616740088106)",
          "dash": "solid",
          "shape": "linear",
          "width": 1.3
         },
         "mode": "lines",
         "name": "MUFA 20:1",
         "text": "",
         "type": "scatter",
         "x": [
          0.3659673552268968,
          0.5489510328403452,
          0.6587412394084142,
          0.7319347104537935,
          0.805128181499173,
          0.8783216525445522,
          0.9515151235899316,
          1.024708594635311,
          1.0979020656806904,
          1.463869420907587,
          2.927738841815174
         ],
         "y": [
          0.014895153494264464,
          0.014895153642786799,
          0.014895153608566669,
          0.01489515248479379,
          0.014895152631743036,
          0.014895153178961233,
          0.014895153108848917,
          0.014895153090956771,
          0.014895153113295981,
          0.014895153155336164,
          0.014895153643021398
         ]
        },
        {
         "line": {
          "color": "rgba(255, 153, 51, 0.7180616740088106)",
          "dash": "solid",
          "shape": "linear",
          "width": 1.3
         },
         "mode": "lines",
         "name": "MUFA 20:1 c",
         "text": "",
         "type": "scatter",
         "x": [
          0.3659673552268968,
          0.5489510328403452,
          0.6587412394084142,
          0.7319347104537935,
          0.805128181499173,
          0.8783216525445522,
          0.9515151235899316,
          1.024708594635311,
          1.0979020656806904,
          1.463869420907587,
          2.927738841815174
         ],
         "y": [
          1.4488944591529331,
          1.448894462220242,
          1.4488944609684302,
          1.4488944082547128,
          1.4488944355891917,
          1.4488944563295698,
          1.4488944556099992,
          1.4488944551372533,
          1.4488944547393736,
          1.448894450252514,
          1.448894461925926
         ]
        },
        {
         "line": {
          "color": "rgba(55, 128, 191, 0.7180616740088106)",
          "dash": "solid",
          "shape": "linear",
          "width": 1.3
         },
         "mode": "lines",
         "name": "MUFA 22:1",
         "text": "",
         "type": "scatter",
         "x": [
          0.3659673552268968,
          0.5489510328403452,
          0.6587412394084142,
          0.7319347104537935,
          0.805128181499173,
          0.8783216525445522,
          0.9515151235899316,
          1.024708594635311,
          1.0979020656806904,
          1.463869420907587,
          2.927738841815174
         ],
         "y": [
          6.383459822609998e-11,
          2.4706674756270043e-12,
          9.716500254722189e-12,
          3.0759368409938255e-10,
          2.0410930349567826e-10,
          1.099865247548337e-11,
          1.3230876566019577e-11,
          1.519068808289723e-11,
          1.742167648066055e-11,
          5.638963468020057e-11,
          5.494812428017667e-12
         ]
        },
        {
         "line": {
          "color": "rgba(55, 128, 191, 0.6828193832599119)",
          "dash": "solid",
          "shape": "linear",
          "width": 1.3
         },
         "mode": "lines",
         "name": "MUFA 22:1 c",
         "text": "",
         "type": "scatter",
         "x": [
          0.3659673552268968,
          0.5489510328403452,
          0.6587412394084142,
          0.7319347104537935,
          0.805128181499173,
          0.8783216525445522,
          0.9515151235899316,
          1.024708594635311,
          1.0979020656806904,
          1.463869420907587,
          2.927738841815174
         ],
         "y": [
          1.4082328924111745e-12,
          5.4957741966191816e-14,
          2.520643463833497e-13,
          9.230984106226928e-12,
          5.49666547417901e-12,
          2.23658781216967e-13,
          2.623607747268355e-13,
          2.96791332161777e-13,
          3.384711560206218e-13,
          1.1455489318531842e-12,
          1.5045733965186924e-13
         ]
        },
        {
         "line": {
          "color": "rgba(50, 171, 96, 0.6828193832599119)",
          "dash": "solid",
          "shape": "linear",
          "width": 1.3
         },
         "mode": "lines",
         "name": "MUFA 22:1 n-11",
         "text": "",
         "type": "scatter",
         "x": [
          0.3659673552268968,
          0.5489510328403452,
          0.6587412394084142,
          0.7319347104537935,
          0.805128181499173,
          0.8783216525445522,
          0.9515151235899316,
          1.024708594635311,
          1.0979020656806904,
          1.463869420907587,
          2.927738841815174
         ],
         "y": [
          0,
          0,
          0,
          0,
          0,
          0,
          0,
          0,
          0,
          0,
          0
         ]
        },
        {
         "line": {
          "color": "rgba(128, 0, 128, 0.6828193832599119)",
          "dash": "solid",
          "shape": "linear",
          "width": 1.3
         },
         "mode": "lines",
         "name": "MUFA 22:1 n-9",
         "text": "",
         "type": "scatter",
         "x": [
          0.3659673552268968,
          0.5489510328403452,
          0.6587412394084142,
          0.7319347104537935,
          0.805128181499173,
          0.8783216525445522,
          0.9515151235899316,
          1.024708594635311,
          1.0979020656806904,
          1.463869420907587,
          2.927738841815174
         ],
         "y": [
          0.2340435463581091,
          0.23404354686482828,
          0.2340435466583234,
          0.23404353796282176,
          0.23404354247091105,
          0.23404354589339088,
          0.23404354577468378,
          0.2340435456966905,
          0.23404354563104682,
          0.23404354489062315,
          0.23404354681628145
         ]
        },
        {
         "line": {
          "color": "rgba(219, 64, 82, 0.6828193832599119)",
          "dash": "solid",
          "shape": "linear",
          "width": 1.3
         },
         "mode": "lines",
         "name": "MUFA 24:1 c",
         "text": "",
         "type": "scatter",
         "x": [
          0.3659673552268968,
          0.5489510328403452,
          0.6587412394084142,
          0.7319347104537935,
          0.805128181499173,
          0.8783216525445522,
          0.9515151235899316,
          1.024708594635311,
          1.0979020656806904,
          1.463869420907587,
          2.927738841815174
         ],
         "y": [
          1.360466021799588e-11,
          5.263121879221165e-13,
          2.0642298970266463e-12,
          6.610121239340477e-11,
          4.3885491575507794e-11,
          2.358056585986957e-12,
          2.8351174971946294e-12,
          3.2534252745709367e-12,
          3.728612193606575e-12,
          1.2074262432277032e-11,
          1.1431548567611807e-12
         ]
        },
        {
         "line": {
          "color": "rgba(0, 128, 128, 0.6828193832599119)",
          "dash": "solid",
          "shape": "linear",
          "width": 1.3
         },
         "mode": "lines",
         "name": "Magnesium, Mg",
         "text": "",
         "type": "scatter",
         "x": [
          0.3659673552268968,
          0.5489510328403452,
          0.6587412394084142,
          0.7319347104537935,
          0.805128181499173,
          0.8783216525445522,
          0.9515151235899316,
          1.024708594635311,
          1.0979020656806904,
          1.463869420907587,
          2.927738841815174
         ],
         "y": [
          731.5312325188044,
          731.5312338258185,
          731.5312334827497,
          731.5312139854624,
          731.5312238239862,
          731.5312319784748,
          731.5312317706313,
          731.5312316259301,
          731.5312314932394,
          731.5312303554803,
          731.5312337269377
         ]
        },
        {
         "line": {
          "color": "rgba(255, 255, 51, 0.6828193832599119)",
          "dash": "solid",
          "shape": "linear",
          "width": 1.3
         },
         "mode": "lines",
         "name": "Malic acid",
         "text": "",
         "type": "scatter",
         "x": [
          0.3659673552268968,
          0.5489510328403452,
          0.6587412394084142,
          0.7319347104537935,
          0.805128181499173,
          0.8783216525445522,
          0.9515151235899316,
          1.024708594635311,
          1.0979020656806904,
          1.463869420907587,
          2.927738841815174
         ],
         "y": [
          586.5789590471778,
          586.5789839961304,
          586.5789798435685,
          586.5787532155205,
          586.5788494211967,
          586.5789619483257,
          586.5789589027414,
          586.5789573256959,
          586.5789565550211,
          586.578943606351,
          586.5789829138009
         ]
        },
        {
         "line": {
          "color": "rgba(128, 128, 0, 0.6828193832599119)",
          "dash": "solid",
          "shape": "linear",
          "width": 1.3
         },
         "mode": "lines",
         "name": "Maltose",
         "text": "",
         "type": "scatter",
         "x": [
          0.3659673552268968,
          0.5489510328403452,
          0.6587412394084142,
          0.7319347104537935,
          0.805128181499173,
          0.8783216525445522,
          0.9515151235899316,
          1.024708594635311,
          1.0979020656806904,
          1.463869420907587,
          2.927738841815174
         ],
         "y": [
          0.3261176906675352,
          0.32611770237257354,
          0.3261176986325864,
          0.3261177371970329,
          0.32611773061667637,
          0.32611768080012865,
          0.3261176777161559,
          0.32611767629581484,
          0.3261176759641141,
          0.3261176667324677,
          0.32611770175189264
         ]
        },
        {
         "line": {
          "color": "rgba(251, 128, 114, 0.6828193832599119)",
          "dash": "solid",
          "shape": "linear",
          "width": 1.3
         },
         "mode": "lines",
         "name": "Manganese, Mn",
         "text": "",
         "type": "scatter",
         "x": [
          0.3659673552268968,
          0.5489510328403452,
          0.6587412394084142,
          0.7319347104537935,
          0.805128181499173,
          0.8783216525445522,
          0.9515151235899316,
          1.024708594635311,
          1.0979020656806904,
          1.463869420907587,
          2.927738841815174
         ],
         "y": [
          6.098906163561851,
          6.098906161186387,
          6.098906158571573,
          6.098906107282732,
          6.098906150061713,
          6.098906143219216,
          6.098906141228922,
          6.0989061400438205,
          6.098906139226926,
          6.0989061335592805,
          6.098906160853717
         ]
        },
        {
         "line": {
          "color": "rgba(128, 177, 211, 0.6828193832599119)",
          "dash": "solid",
          "shape": "linear",
          "width": 1.3
         },
         "mode": "lines",
         "name": "Methionine",
         "text": "",
         "type": "scatter",
         "x": [
          0.3659673552268968,
          0.5489510328403452,
          0.6587412394084142,
          0.7319347104537935,
          0.805128181499173,
          0.8783216525445522,
          0.9515151235899316,
          1.024708594635311,
          1.0979020656806904,
          1.463869420907587,
          2.927738841815174
         ],
         "y": [
          1.2615511348442612,
          1.2615511344826422,
          1.26155113427851,
          1.261551130183689,
          1.2615511352333646,
          1.2615511338009018,
          1.2615511337884602,
          1.2615511337046925,
          1.261551133535327,
          1.261551132781238,
          1.2615511344408104
         ]
        },
        {
         "line": {
          "color": "rgba(255, 153, 51, 0.6828193832599119)",
          "dash": "solid",
          "shape": "linear",
          "width": 1.3
         },
         "mode": "lines",
         "name": "Minerals",
         "text": "",
         "type": "scatter",
         "x": [
          0.3659673552268968,
          0.5489510328403452,
          0.6587412394084142,
          0.7319347104537935,
          0.805128181499173,
          0.8783216525445522,
          0.9515151235899316,
          1.024708594635311,
          1.0979020656806904,
          1.463869420907587,
          2.927738841815174
         ],
         "y": [
          0,
          0,
          0,
          0,
          0,
          0,
          0,
          0,
          0,
          0,
          0
         ]
        },
        {
         "line": {
          "color": "rgba(255, 153, 51, 0.6475770925110131)",
          "dash": "solid",
          "shape": "linear",
          "width": 1.3
         },
         "mode": "lines",
         "name": "Molybdenum, Mo",
         "text": "",
         "type": "scatter",
         "x": [
          0.3659673552268968,
          0.5489510328403452,
          0.6587412394084142,
          0.7319347104537935,
          0.805128181499173,
          0.8783216525445522,
          0.9515151235899316,
          1.024708594635311,
          1.0979020656806904,
          1.463869420907587,
          2.927738841815174
         ],
         "y": [
          356.4283899779316,
          356.4283897378878,
          356.42838976850027,
          356.42839091822776,
          356.42839052174804,
          356.4283897819631,
          356.42838979540346,
          356.4283898057972,
          356.4283898158082,
          356.42838998143066,
          356.42838974445283
         ]
        },
        {
         "line": {
          "color": "rgba(55, 128, 191, 0.6475770925110131)",
          "dash": "solid",
          "shape": "linear",
          "width": 1.3
         },
         "mode": "lines",
         "name": "Niacin",
         "text": "",
         "type": "scatter",
         "x": [
          0.3659673552268968,
          0.5489510328403452,
          0.6587412394084142,
          0.7319347104537935,
          0.805128181499173,
          0.8783216525445522,
          0.9515151235899316,
          1.024708594635311,
          1.0979020656806904,
          1.463869420907587,
          2.927738841815174
         ],
         "y": [
          38.21315218332913,
          38.21315223767074,
          38.21315221102051,
          38.213151444529366,
          38.21315186821096,
          38.21315209917493,
          38.21315208122393,
          38.21315207104907,
          38.21315206469074,
          38.21315197860009,
          38.21315223257272
         ]
        },
        {
         "line": {
          "color": "rgba(50, 171, 96, 0.6475770925110131)",
          "dash": "solid",
          "shape": "linear",
          "width": 1.3
         },
         "mode": "lines",
         "name": "Nitrogen",
         "text": "",
         "type": "scatter",
         "x": [
          0.3659673552268968,
          0.5489510328403452,
          0.6587412394084142,
          0.7319347104537935,
          0.805128181499173,
          0.8783216525445522,
          0.9515151235899316,
          1.024708594635311,
          1.0979020656806904,
          1.463869420907587,
          2.927738841815174
         ],
         "y": [
          11.493774643703762,
          11.493774663731704,
          11.493774656172292,
          11.493774321301368,
          11.493774491460496,
          11.493774625994476,
          11.493774621365272,
          11.493774618446876,
          11.493774616150493,
          11.493774589783145,
          11.493774661906093
         ]
        },
        {
         "line": {
          "color": "rgba(128, 0, 128, 0.6475770925110131)",
          "dash": "solid",
          "shape": "linear",
          "width": 1.3
         },
         "mode": "lines",
         "name": "Oligosaccharides",
         "text": "",
         "type": "scatter",
         "x": [
          0.3659673552268968,
          0.5489510328403452,
          0.6587412394084142,
          0.7319347104537935,
          0.805128181499173,
          0.8783216525445522,
          0.9515151235899316,
          1.024708594635311,
          1.0979020656806904,
          1.463869420907587,
          2.927738841815174
         ],
         "y": [
          0,
          0,
          0,
          0,
          0,
          0,
          0,
          0,
          0,
          0,
          0
         ]
        },
        {
         "line": {
          "color": "rgba(219, 64, 82, 0.6475770925110131)",
          "dash": "solid",
          "shape": "linear",
          "width": 1.3
         },
         "mode": "lines",
         "name": "Organic acids",
         "text": "",
         "type": "scatter",
         "x": [
          0.3659673552268968,
          0.5489510328403452,
          0.6587412394084142,
          0.7319347104537935,
          0.805128181499173,
          0.8783216525445522,
          0.9515151235899316,
          1.024708594635311,
          1.0979020656806904,
          1.463869420907587,
          2.927738841815174
         ],
         "y": [
          0,
          0,
          0,
          0,
          0,
          0,
          0,
          0,
          0,
          0,
          0
         ]
        },
        {
         "line": {
          "color": "rgba(0, 128, 128, 0.6475770925110131)",
          "dash": "solid",
          "shape": "linear",
          "width": 1.3
         },
         "mode": "lines",
         "name": "Oxalic acid",
         "text": "",
         "type": "scatter",
         "x": [
          0.3659673552268968,
          0.5489510328403452,
          0.6587412394084142,
          0.7319347104537935,
          0.805128181499173,
          0.8783216525445522,
          0.9515151235899316,
          1.024708594635311,
          1.0979020656806904,
          1.463869420907587,
          2.927738841815174
         ],
         "y": [
          0,
          0,
          0,
          0,
          0,
          0,
          0,
          0,
          0,
          0,
          0
         ]
        },
        {
         "line": {
          "color": "rgba(255, 255, 51, 0.6475770925110131)",
          "dash": "solid",
          "shape": "linear",
          "width": 1.3
         },
         "mode": "lines",
         "name": "PUFA 18:2",
         "text": "",
         "type": "scatter",
         "x": [
          0.3659673552268968,
          0.5489510328403452,
          0.6587412394084142,
          0.7319347104537935,
          0.805128181499173,
          0.8783216525445522,
          0.9515151235899316,
          1.024708594635311,
          1.0979020656806904,
          1.463869420907587,
          2.927738841815174
         ],
         "y": [
          1.2399538180247671,
          1.2399538080665018,
          1.2399538097929441,
          1.2399538869659634,
          1.2399538327064537,
          1.239953799224594,
          1.2399537978375232,
          1.239953798149701,
          1.2399538000398427,
          1.2399538156175465,
          1.2399538088177764
         ]
        },
        {
         "line": {
          "color": "rgba(128, 128, 0, 0.6475770925110131)",
          "dash": "solid",
          "shape": "linear",
          "width": 1.3
         },
         "mode": "lines",
         "name": "PUFA 18:2 CLAs",
         "text": "",
         "type": "scatter",
         "x": [
          0.3659673552268968,
          0.5489510328403452,
          0.6587412394084142,
          0.7319347104537935,
          0.805128181499173,
          0.8783216525445522,
          0.9515151235899316,
          1.024708594635311,
          1.0979020656806904,
          1.463869420907587,
          2.927738841815174
         ],
         "y": [
          2.4556115935282508e-12,
          9.458479970970569e-14,
          3.7719292812474823e-13,
          1.4972339594058437e-11,
          9.617383894035878e-12,
          4.533905000381402e-13,
          5.367464029582286e-13,
          6.086043262729518e-13,
          6.889272849566358e-13,
          2.2776261743525798e-12,
          1.4558373285395587e-13
         ]
        },
        {
         "line": {
          "color": "rgba(251, 128, 114, 0.6475770925110131)",
          "dash": "solid",
          "shape": "linear",
          "width": 1.3
         },
         "mode": "lines",
         "name": "PUFA 18:2 c",
         "text": "",
         "type": "scatter",
         "x": [
          0.3659673552268968,
          0.5489510328403452,
          0.6587412394084142,
          0.7319347104537935,
          0.805128181499173,
          0.8783216525445522,
          0.9515151235899316,
          1.024708594635311,
          1.0979020656806904,
          1.463869420907587,
          2.927738841815174
         ],
         "y": [
          6.030831850731994,
          6.030831849496536,
          6.0308318496343665,
          6.030831854933051,
          6.030831853339244,
          6.0308318497515785,
          6.030831849834905,
          6.030831849895495,
          6.03083184994871,
          6.030831850753676,
          6.030831849522753
         ]
        },
        {
         "line": {
          "color": "rgba(128, 177, 211, 0.6475770925110131)",
          "dash": "solid",
          "shape": "linear",
          "width": 1.3
         },
         "mode": "lines",
         "name": "PUFA 18:2 n-6 c,c",
         "text": "",
         "type": "scatter",
         "x": [
          0.3659673552268968,
          0.5489510328403452,
          0.6587412394084142,
          0.7319347104537935,
          0.805128181499173,
          0.8783216525445522,
          0.9515151235899316,
          1.024708594635311,
          1.0979020656806904,
          1.463869420907587,
          2.927738841815174
         ],
         "y": [
          23.287997287504144,
          23.287997316708832,
          23.287997302463683,
          23.287996709656895,
          23.287997024481264,
          23.28799724637135,
          23.28799723794236,
          23.287997232459933,
          23.287997227906573,
          23.2879971787305,
          23.287997313333285
         ]
        },
        {
         "line": {
          "color": "rgba(128, 177, 211, 0.6123348017621146)",
          "dash": "solid",
          "shape": "linear",
          "width": 1.3
         },
         "mode": "lines",
         "name": "PUFA 18:3",
         "text": "",
         "type": "scatter",
         "x": [
          0.3659673552268968,
          0.5489510328403452,
          0.6587412394084142,
          0.7319347104537935,
          0.805128181499173,
          0.8783216525445522,
          0.9515151235899316,
          1.024708594635311,
          1.0979020656806904,
          1.463869420907587,
          2.927738841815174
         ],
         "y": [
          0.47045579766552165,
          0.47045579959114764,
          0.47045579912450625,
          0.47045577953960305,
          0.4704557884621164,
          0.4704557959190947,
          0.47045579543628935,
          0.4704557952312796,
          0.47045579520514613,
          0.470455794493912,
          0.47045579950291905
         ]
        },
        {
         "line": {
          "color": "rgba(255, 153, 51, 0.6123348017621146)",
          "dash": "solid",
          "shape": "linear",
          "width": 1.3
         },
         "mode": "lines",
         "name": "PUFA 18:3 c",
         "text": "",
         "type": "scatter",
         "x": [
          0.3659673552268968,
          0.5489510328403452,
          0.6587412394084142,
          0.7319347104537935,
          0.805128181499173,
          0.8783216525445522,
          0.9515151235899316,
          1.024708594635311,
          1.0979020656806904,
          1.463869420907587,
          2.927738841815174
         ],
         "y": [
          1.015924701317882,
          1.0159247011097627,
          1.0159247011329808,
          1.0159247020255715,
          1.0159247017570865,
          1.0159247011527257,
          1.0159247011667625,
          1.0159247011769694,
          1.0159247011859336,
          1.0159247013215342,
          1.015924701114179
         ]
        },
        {
         "line": {
          "color": "rgba(55, 128, 191, 0.6123348017621146)",
          "dash": "solid",
          "shape": "linear",
          "width": 1.3
         },
         "mode": "lines",
         "name": "PUFA 18:3 n-3 c,c,c (ALA)",
         "text": "",
         "type": "scatter",
         "x": [
          0.3659673552268968,
          0.5489510328403452,
          0.6587412394084142,
          0.7319347104537935,
          0.805128181499173,
          0.8783216525445522,
          0.9515151235899316,
          1.024708594635311,
          1.0979020656806904,
          1.463869420907587,
          2.927738841815174
         ],
         "y": [
          1.0497260389219072,
          1.0497260378846254,
          1.0497260381770877,
          1.0497260413897331,
          1.049726038215009,
          1.049726038210224,
          1.0497260382668565,
          1.0497260383526914,
          1.049726038487522,
          1.0497260400551076,
          1.0497260379453726
         ]
        },
        {
         "line": {
          "color": "rgba(50, 171, 96, 0.6123348017621146)",
          "dash": "solid",
          "shape": "linear",
          "width": 1.3
         },
         "mode": "lines",
         "name": "PUFA 18:3 n-6 c,c,c",
         "text": "",
         "type": "scatter",
         "x": [
          0.3659673552268968,
          0.5489510328403452,
          0.6587412394084142,
          0.7319347104537935,
          0.805128181499173,
          0.8783216525445522,
          0.9515151235899316,
          1.024708594635311,
          1.0979020656806904,
          1.463869420907587,
          2.927738841815174
         ],
         "y": [
          0.004567748236132759,
          0.004567748209633034,
          0.004567748235650262,
          0.004567747894813499,
          0.00456774774720047,
          0.004567748233265366,
          0.00456774823559849,
          0.0045677482432868585,
          0.004567748257784399,
          0.004567748395170671,
          0.004567748214833947
         ]
        },
        {
         "line": {
          "color": "rgba(128, 0, 128, 0.6123348017621146)",
          "dash": "solid",
          "shape": "linear",
          "width": 1.3
         },
         "mode": "lines",
         "name": "PUFA 18:3i",
         "text": "",
         "type": "scatter",
         "x": [
          0.3659673552268968,
          0.5489510328403452,
          0.6587412394084142,
          0.7319347104537935,
          0.805128181499173,
          0.8783216525445522,
          0.9515151235899316,
          1.024708594635311,
          1.0979020656806904,
          1.463869420907587,
          2.927738841815174
         ],
         "y": [
          0,
          0,
          0,
          0,
          0,
          0,
          0,
          0,
          0,
          0,
          0
         ]
        },
        {
         "line": {
          "color": "rgba(219, 64, 82, 0.6123348017621146)",
          "dash": "solid",
          "shape": "linear",
          "width": 1.3
         },
         "mode": "lines",
         "name": "PUFA 18:4",
         "text": "",
         "type": "scatter",
         "x": [
          0.3659673552268968,
          0.5489510328403452,
          0.6587412394084142,
          0.7319347104537935,
          0.805128181499173,
          0.8783216525445522,
          0.9515151235899316,
          1.024708594635311,
          1.0979020656806904,
          1.463869420907587,
          2.927738841815174
         ],
         "y": [
          0,
          0,
          0,
          0,
          0,
          0,
          0,
          0,
          0,
          0,
          0
         ]
        },
        {
         "line": {
          "color": "rgba(0, 128, 128, 0.6123348017621146)",
          "dash": "solid",
          "shape": "linear",
          "width": 1.3
         },
         "mode": "lines",
         "name": "PUFA 20:2 c",
         "text": "",
         "type": "scatter",
         "x": [
          0.3659673552268968,
          0.5489510328403452,
          0.6587412394084142,
          0.7319347104537935,
          0.805128181499173,
          0.8783216525445522,
          0.9515151235899316,
          1.024708594635311,
          1.0979020656806904,
          1.463869420907587,
          2.927738841815174
         ],
         "y": [
          0.0034342406519910374,
          0.003434240651287509,
          0.0034342406513659957,
          0.0034342406543833174,
          0.0034342406534757283,
          0.003434240651432742,
          0.003434240651480192,
          0.0034342406515146954,
          0.003434240651544998,
          0.0034342406520033834,
          0.0034342406513024376
         ]
        },
        {
         "line": {
          "color": "rgba(255, 255, 51, 0.6123348017621146)",
          "dash": "solid",
          "shape": "linear",
          "width": 1.3
         },
         "mode": "lines",
         "name": "PUFA 20:2 n-6 c,c",
         "text": "",
         "type": "scatter",
         "x": [
          0.3659673552268968,
          0.5489510328403452,
          0.6587412394084142,
          0.7319347104537935,
          0.805128181499173,
          0.8783216525445522,
          0.9515151235899316,
          1.024708594635311,
          1.0979020656806904,
          1.463869420907587,
          2.927738841815174
         ],
         "y": [
          0.0034342406559693026,
          0.003434240651441101,
          0.003434240651994952,
          0.0034342406789619286,
          0.0034342406690472393,
          0.003434240652149092,
          0.0034342406523270343,
          0.0034342406524745634,
          0.0034342406526328036,
          0.0034342406556129926,
          0.0034342406515717777
         ]
        },
        {
         "line": {
          "color": "rgba(128, 128, 0, 0.6123348017621146)",
          "dash": "solid",
          "shape": "linear",
          "width": 1.3
         },
         "mode": "lines",
         "name": "PUFA 20:3",
         "text": "",
         "type": "scatter",
         "x": [
          0.3659673552268968,
          0.5489510328403452,
          0.6587412394084142,
          0.7319347104537935,
          0.805128181499173,
          0.8783216525445522,
          0.9515151235899316,
          1.024708594635311,
          1.0979020656806904,
          1.463869420907587,
          2.927738841815174
         ],
         "y": [
          0.00487226477223373,
          0.00487226475644177,
          0.004872264782681596,
          0.004872264341682228,
          0.004872264212875747,
          0.004872264779773563,
          0.00487226478182666,
          0.00487226478965153,
          0.004872264804693514,
          0.00487226494290024,
          0.004872264761684617
         ]
        },
        {
         "line": {
          "color": "rgba(251, 128, 114, 0.6123348017621146)",
          "dash": "solid",
          "shape": "linear",
          "width": 1.3
         },
         "mode": "lines",
         "name": "PUFA 20:3 c",
         "text": "",
         "type": "scatter",
         "x": [
          0.3659673552268968,
          0.5489510328403452,
          0.6587412394084142,
          0.7319347104537935,
          0.805128181499173,
          0.8783216525445522,
          0.9515151235899316,
          1.024708594635311,
          1.0979020656806904,
          1.463869420907587,
          2.927738841815174
         ],
         "y": [
          0,
          0,
          0,
          0,
          0,
          0,
          0,
          0,
          0,
          0,
          0
         ]
        },
        {
         "line": {
          "color": "rgba(251, 128, 114, 0.5770925110132159)",
          "dash": "solid",
          "shape": "linear",
          "width": 1.3
         },
         "mode": "lines",
         "name": "PUFA 20:3 n-3",
         "text": "",
         "type": "scatter",
         "x": [
          0.3659673552268968,
          0.5489510328403452,
          0.6587412394084142,
          0.7319347104537935,
          0.805128181499173,
          0.8783216525445522,
          0.9515151235899316,
          1.024708594635311,
          1.0979020656806904,
          1.463869420907587,
          2.927738841815174
         ],
         "y": [
          0,
          0,
          0,
          0,
          0,
          0,
          0,
          0,
          0,
          0,
          0
         ]
        },
        {
         "line": {
          "color": "rgba(128, 177, 211, 0.5770925110132159)",
          "dash": "solid",
          "shape": "linear",
          "width": 1.3
         },
         "mode": "lines",
         "name": "PUFA 20:3 n-9",
         "text": "",
         "type": "scatter",
         "x": [
          0.3659673552268968,
          0.5489510328403452,
          0.6587412394084142,
          0.7319347104537935,
          0.805128181499173,
          0.8783216525445522,
          0.9515151235899316,
          1.024708594635311,
          1.0979020656806904,
          1.463869420907587,
          2.927738841815174
         ],
         "y": [
          0,
          0,
          0,
          0,
          0,
          0,
          0,
          0,
          0,
          0,
          0
         ]
        },
        {
         "line": {
          "color": "rgba(255, 153, 51, 0.5770925110132159)",
          "dash": "solid",
          "shape": "linear",
          "width": 1.3
         },
         "mode": "lines",
         "name": "PUFA 20:4",
         "text": "",
         "type": "scatter",
         "x": [
          0.3659673552268968,
          0.5489510328403452,
          0.6587412394084142,
          0.7319347104537935,
          0.805128181499173,
          0.8783216525445522,
          0.9515151235899316,
          1.024708594635311,
          1.0979020656806904,
          1.463869420907587,
          2.927738841815174
         ],
         "y": [
          0.0005050329331714848,
          0.0005050329267390874,
          0.0005050329270959549,
          0.0005050329214612186,
          0.0005050329322826194,
          0.0005050329227371409,
          0.0005050329225659159,
          0.0005050329225393999,
          0.0005050329226018418,
          0.000505032927377288,
          0.0005050329268510428
         ]
        },
        {
         "line": {
          "color": "rgba(55, 128, 191, 0.5770925110132159)",
          "dash": "solid",
          "shape": "linear",
          "width": 1.3
         },
         "mode": "lines",
         "name": "PUFA 20:4 n-6",
         "text": "",
         "type": "scatter",
         "x": [
          0.3659673552268968,
          0.5489510328403452,
          0.6587412394084142,
          0.7319347104537935,
          0.805128181499173,
          0.8783216525445522,
          0.9515151235899316,
          1.024708594635311,
          1.0979020656806904,
          1.463869420907587,
          2.927738841815174
         ],
         "y": [
          0,
          0,
          0,
          0,
          0,
          0,
          0,
          0,
          0,
          0,
          0
         ]
        },
        {
         "line": {
          "color": "rgba(50, 171, 96, 0.5770925110132159)",
          "dash": "solid",
          "shape": "linear",
          "width": 1.3
         },
         "mode": "lines",
         "name": "PUFA 20:4c",
         "text": "",
         "type": "scatter",
         "x": [
          0.3659673552268968,
          0.5489510328403452,
          0.6587412394084142,
          0.7319347104537935,
          0.805128181499173,
          0.8783216525445522,
          0.9515151235899316,
          1.024708594635311,
          1.0979020656806904,
          1.463869420907587,
          2.927738841815174
         ],
         "y": [
          0,
          0,
          0,
          0,
          0,
          0,
          0,
          0,
          0,
          0,
          0
         ]
        },
        {
         "line": {
          "color": "rgba(128, 0, 128, 0.5770925110132159)",
          "dash": "solid",
          "shape": "linear",
          "width": 1.3
         },
         "mode": "lines",
         "name": "PUFA 20:5 n-3 (EPA)",
         "text": "",
         "type": "scatter",
         "x": [
          0.3659673552268968,
          0.5489510328403452,
          0.6587412394084142,
          0.7319347104537935,
          0.805128181499173,
          0.8783216525445522,
          0.9515151235899316,
          1.024708594635311,
          1.0979020656806904,
          1.463869420907587,
          2.927738841815174
         ],
         "y": [
          0,
          0,
          0,
          0,
          0,
          0,
          0,
          0,
          0,
          0,
          0
         ]
        },
        {
         "line": {
          "color": "rgba(219, 64, 82, 0.5770925110132159)",
          "dash": "solid",
          "shape": "linear",
          "width": 1.3
         },
         "mode": "lines",
         "name": "PUFA 20:5c",
         "text": "",
         "type": "scatter",
         "x": [
          0.3659673552268968,
          0.5489510328403452,
          0.6587412394084142,
          0.7319347104537935,
          0.805128181499173,
          0.8783216525445522,
          0.9515151235899316,
          1.024708594635311,
          1.0979020656806904,
          1.463869420907587,
          2.927738841815174
         ],
         "y": [
          0,
          0,
          0,
          0,
          0,
          0,
          0,
          0,
          0,
          0,
          0
         ]
        },
        {
         "line": {
          "color": "rgba(0, 128, 128, 0.5770925110132159)",
          "dash": "solid",
          "shape": "linear",
          "width": 1.3
         },
         "mode": "lines",
         "name": "PUFA 21:5",
         "text": "",
         "type": "scatter",
         "x": [
          0.3659673552268968,
          0.5489510328403452,
          0.6587412394084142,
          0.7319347104537935,
          0.805128181499173,
          0.8783216525445522,
          0.9515151235899316,
          1.024708594635311,
          1.0979020656806904,
          1.463869420907587,
          2.927738841815174
         ],
         "y": [
          0,
          0,
          0,
          0,
          0,
          0,
          0,
          0,
          0,
          0,
          0
         ]
        },
        {
         "line": {
          "color": "rgba(255, 255, 51, 0.5770925110132159)",
          "dash": "solid",
          "shape": "linear",
          "width": 1.3
         },
         "mode": "lines",
         "name": "PUFA 22:2",
         "text": "",
         "type": "scatter",
         "x": [
          0.3659673552268968,
          0.5489510328403452,
          0.6587412394084142,
          0.7319347104537935,
          0.805128181499173,
          0.8783216525445522,
          0.9515151235899316,
          1.024708594635311,
          1.0979020656806904,
          1.463869420907587,
          2.927738841815174
         ],
         "y": [
          0,
          0,
          0,
          0,
          0,
          0,
          0,
          0,
          0,
          0,
          0
         ]
        },
        {
         "line": {
          "color": "rgba(128, 128, 0, 0.5770925110132159)",
          "dash": "solid",
          "shape": "linear",
          "width": 1.3
         },
         "mode": "lines",
         "name": "PUFA 22:3",
         "text": "",
         "type": "scatter",
         "x": [
          0.3659673552268968,
          0.5489510328403452,
          0.6587412394084142,
          0.7319347104537935,
          0.805128181499173,
          0.8783216525445522,
          0.9515151235899316,
          1.024708594635311,
          1.0979020656806904,
          1.463869420907587,
          2.927738841815174
         ],
         "y": [
          0,
          0,
          0,
          0,
          0,
          0,
          0,
          0,
          0,
          0,
          0
         ]
        },
        {
         "line": {
          "color": "rgba(128, 128, 0, 0.5418502202643172)",
          "dash": "solid",
          "shape": "linear",
          "width": 1.3
         },
         "mode": "lines",
         "name": "PUFA 22:4",
         "text": "",
         "type": "scatter",
         "x": [
          0.3659673552268968,
          0.5489510328403452,
          0.6587412394084142,
          0.7319347104537935,
          0.805128181499173,
          0.8783216525445522,
          0.9515151235899316,
          1.024708594635311,
          1.0979020656806904,
          1.463869420907587,
          2.927738841815174
         ],
         "y": [
          0,
          0,
          0,
          0,
          0,
          0,
          0,
          0,
          0,
          0,
          0
         ]
        },
        {
         "line": {
          "color": "rgba(251, 128, 114, 0.5418502202643172)",
          "dash": "solid",
          "shape": "linear",
          "width": 1.3
         },
         "mode": "lines",
         "name": "PUFA 22:5 c",
         "text": "",
         "type": "scatter",
         "x": [
          0.3659673552268968,
          0.5489510328403452,
          0.6587412394084142,
          0.7319347104537935,
          0.805128181499173,
          0.8783216525445522,
          0.9515151235899316,
          1.024708594635311,
          1.0979020656806904,
          1.463869420907587,
          2.927738841815174
         ],
         "y": [
          0,
          0,
          0,
          0,
          0,
          0,
          0,
          0,
          0,
          0,
          0
         ]
        },
        {
         "line": {
          "color": "rgba(128, 177, 211, 0.5418502202643172)",
          "dash": "solid",
          "shape": "linear",
          "width": 1.3
         },
         "mode": "lines",
         "name": "PUFA 22:5 n-3 (DPA)",
         "text": "",
         "type": "scatter",
         "x": [
          0.3659673552268968,
          0.5489510328403452,
          0.6587412394084142,
          0.7319347104537935,
          0.805128181499173,
          0.8783216525445522,
          0.9515151235899316,
          1.024708594635311,
          1.0979020656806904,
          1.463869420907587,
          2.927738841815174
         ],
         "y": [
          0,
          0,
          0,
          0,
          0,
          0,
          0,
          0,
          0,
          0,
          0
         ]
        },
        {
         "line": {
          "color": "rgba(255, 153, 51, 0.5418502202643172)",
          "dash": "solid",
          "shape": "linear",
          "width": 1.3
         },
         "mode": "lines",
         "name": "PUFA 22:6 c",
         "text": "",
         "type": "scatter",
         "x": [
          0.3659673552268968,
          0.5489510328403452,
          0.6587412394084142,
          0.7319347104537935,
          0.805128181499173,
          0.8783216525445522,
          0.9515151235899316,
          1.024708594635311,
          1.0979020656806904,
          1.463869420907587,
          2.927738841815174
         ],
         "y": [
          0,
          0,
          0,
          0,
          0,
          0,
          0,
          0,
          0,
          0,
          0
         ]
        },
        {
         "line": {
          "color": "rgba(55, 128, 191, 0.5418502202643172)",
          "dash": "solid",
          "shape": "linear",
          "width": 1.3
         },
         "mode": "lines",
         "name": "PUFA 22:6 n-3 (DHA)",
         "text": "",
         "type": "scatter",
         "x": [
          0.3659673552268968,
          0.5489510328403452,
          0.6587412394084142,
          0.7319347104537935,
          0.805128181499173,
          0.8783216525445522,
          0.9515151235899316,
          1.024708594635311,
          1.0979020656806904,
          1.463869420907587,
          2.927738841815174
         ],
         "y": [
          3.534986952630571e-11,
          1.3679320178561227e-12,
          5.359379369782234e-12,
          1.689523722852809e-10,
          1.1246739743386102e-10,
          6.10150245337977e-12,
          7.343617375792275e-12,
          8.433893340777908e-12,
          9.673622292265983e-12,
          3.1282795544244904e-11,
          3.02632155606256e-12
         ]
        },
        {
         "line": {
          "color": "rgba(50, 171, 96, 0.5418502202643172)",
          "dash": "solid",
          "shape": "linear",
          "width": 1.3
         },
         "mode": "lines",
         "name": "Pantothenic acid",
         "text": "",
         "type": "scatter",
         "x": [
          0.3659673552268968,
          0.5489510328403452,
          0.6587412394084142,
          0.7319347104537935,
          0.805128181499173,
          0.8783216525445522,
          0.9515151235899316,
          1.024708594635311,
          1.0979020656806904,
          1.463869420907587,
          2.927738841815174
         ],
         "y": [
          1.6446993572530946,
          1.6446993326112758,
          1.644699338231838,
          1.6446995691915873,
          1.6446994483086594,
          1.6446993533734453,
          1.6446993560220773,
          1.644699357991311,
          1.6446993599647992,
          1.6446993824629357,
          1.6446993342101905
         ]
        },
        {
         "line": {
          "color": "rgba(128, 0, 128, 0.5418502202643172)",
          "dash": "solid",
          "shape": "linear",
          "width": 1.3
         },
         "mode": "lines",
         "name": "Phenylalanine",
         "text": "",
         "type": "scatter",
         "x": [
          0.3659673552268968,
          0.5489510328403452,
          0.6587412394084142,
          0.7319347104537935,
          0.805128181499173,
          0.8783216525445522,
          0.9515151235899316,
          1.024708594635311,
          1.0979020656806904,
          1.463869420907587,
          2.927738841815174
         ],
         "y": [
          5.767722056712775,
          5.767722055877562,
          5.767722054556792,
          5.767722006333353,
          5.767722044189049,
          5.7677220519109405,
          5.767722051816112,
          5.767722051303461,
          5.767722050280581,
          5.767722044966196,
          5.767722055529349
         ]
        },
        {
         "line": {
          "color": "rgba(219, 64, 82, 0.5418502202643172)",
          "dash": "solid",
          "shape": "linear",
          "width": 1.3
         },
         "mode": "lines",
         "name": "Phosphorus, P",
         "text": "",
         "type": "scatter",
         "x": [
          0.3659673552268968,
          0.5489510328403452,
          0.6587412394084142,
          0.7319347104537935,
          0.805128181499173,
          0.8783216525445522,
          0.9515151235899316,
          1.024708594635311,
          1.0979020656806904,
          1.463869420907587,
          2.927738841815174
         ],
         "y": [
          1811.717750113554,
          1811.7177503164849,
          1811.7177498525236,
          1811.7177382596337,
          1811.7177480034381,
          1811.7177480649882,
          1811.7177478644442,
          1811.717747673682,
          1811.717747435621,
          1811.717745993634,
          1811.717750220102
         ]
        },
        {
         "line": {
          "color": "rgba(0, 128, 128, 0.5418502202643172)",
          "dash": "solid",
          "shape": "linear",
          "width": 1.3
         },
         "mode": "lines",
         "name": "Phytosterols",
         "text": "",
         "type": "scatter",
         "x": [
          0.3659673552268968,
          0.5489510328403452,
          0.6587412394084142,
          0.7319347104537935,
          0.805128181499173,
          0.8783216525445522,
          0.9515151235899316,
          1.024708594635311,
          1.0979020656806904,
          1.463869420907587,
          2.927738841815174
         ],
         "y": [
          5.432710751086565e-9,
          2.916236613025008e-10,
          1.115548842949434e-9,
          3.8149938955698984e-8,
          2.594097604221767e-8,
          1.5515059895608255e-9,
          1.8513783013684369e-9,
          2.0890980511867014e-9,
          2.33294590274128e-9,
          6.807633119852251e-9,
          4.753308730489098e-10
         ]
        },
        {
         "line": {
          "color": "rgba(255, 255, 51, 0.5418502202643172)",
          "dash": "solid",
          "shape": "linear",
          "width": 1.3
         },
         "mode": "lines",
         "name": "Potassium, K",
         "text": "",
         "type": "scatter",
         "x": [
          0.3659673552268968,
          0.5489510328403452,
          0.6587412394084142,
          0.7319347104537935,
          0.805128181499173,
          0.8783216525445522,
          0.9515151235899316,
          1.024708594635311,
          1.0979020656806904,
          1.463869420907587,
          2.927738841815174
         ],
         "y": [
          4700.000001519131,
          4700.000000058775,
          4700.0000002352,
          4700.000010381467,
          4700.000006846125,
          4700.000000292803,
          4700.000000343809,
          4700.000000388494,
          4700.000000439578,
          4700.000001490286,
          4700.000000087977
         ]
        },
        {
         "line": {
          "color": "rgba(255, 255, 51, 0.5066079295154184)",
          "dash": "solid",
          "shape": "linear",
          "width": 1.3
         },
         "mode": "lines",
         "name": "Proline",
         "text": "",
         "type": "scatter",
         "x": [
          0.3659673552268968,
          0.5489510328403452,
          0.6587412394084142,
          0.7319347104537935,
          0.805128181499173,
          0.8783216525445522,
          0.9515151235899316,
          1.024708594635311,
          1.0979020656806904,
          1.463869420907587,
          2.927738841815174
         ],
         "y": [
          87.86788725615317,
          87.86788723934279,
          87.86788723961067,
          87.86788731233858,
          87.86788730901311,
          87.86788723678723,
          87.86788723752677,
          87.8678872377287,
          87.86788723747681,
          87.86788724313783,
          87.8678872393147
         ]
        },
        {
         "line": {
          "color": "rgba(128, 128, 0, 0.5066079295154184)",
          "dash": "solid",
          "shape": "linear",
          "width": 1.3
         },
         "mode": "lines",
         "name": "Protein",
         "text": "",
         "type": "scatter",
         "x": [
          0.3659673552268968,
          0.5489510328403452,
          0.6587412394084142,
          0.7319347104537935,
          0.805128181499173,
          0.8783216525445522,
          0.9515151235899316,
          1.024708594635311,
          1.0979020656806904,
          1.463869420907587,
          2.927738841815174
         ],
         "y": [
          100.83375170299172,
          100.83375169114325,
          100.83375166429087,
          100.83375070154362,
          100.83375142818915,
          100.83375156492728,
          100.8337515562706,
          100.83375154497504,
          100.83375152809202,
          100.8337514442141,
          100.83375168409451
         ]
        },
        {
         "line": {
          "color": "rgba(251, 128, 114, 0.5066079295154184)",
          "dash": "solid",
          "shape": "linear",
          "width": 1.3
         },
         "mode": "lines",
         "name": "Proximates",
         "text": "",
         "type": "scatter",
         "x": [
          0.3659673552268968,
          0.5489510328403452,
          0.6587412394084142,
          0.7319347104537935,
          0.805128181499173,
          0.8783216525445522,
          0.9515151235899316,
          1.024708594635311,
          1.0979020656806904,
          1.463869420907587,
          2.927738841815174
         ],
         "y": [
          0,
          0,
          0,
          0,
          0,
          0,
          0,
          0,
          0,
          0,
          0
         ]
        },
        {
         "line": {
          "color": "rgba(128, 177, 211, 0.5066079295154184)",
          "dash": "solid",
          "shape": "linear",
          "width": 1.3
         },
         "mode": "lines",
         "name": "Pyruvic acid",
         "text": "",
         "type": "scatter",
         "x": [
          0.3659673552268968,
          0.5489510328403452,
          0.6587412394084142,
          0.7319347104537935,
          0.805128181499173,
          0.8783216525445522,
          0.9515151235899316,
          1.024708594635311,
          1.0979020656806904,
          1.463869420907587,
          2.927738841815174
         ],
         "y": [
          0,
          0,
          0,
          0,
          0,
          0,
          0,
          0,
          0,
          0,
          0
         ]
        },
        {
         "line": {
          "color": "rgba(255, 153, 51, 0.5066079295154184)",
          "dash": "solid",
          "shape": "linear",
          "width": 1.3
         },
         "mode": "lines",
         "name": "Quinic acid",
         "text": "",
         "type": "scatter",
         "x": [
          0.3659673552268968,
          0.5489510328403452,
          0.6587412394084142,
          0.7319347104537935,
          0.805128181499173,
          0.8783216525445522,
          0.9515151235899316,
          1.024708594635311,
          1.0979020656806904,
          1.463869420907587,
          2.927738841815174
         ],
         "y": [
          0,
          0,
          0,
          0,
          0,
          0,
          0,
          0,
          0,
          0,
          0
         ]
        },
        {
         "line": {
          "color": "rgba(55, 128, 191, 0.5066079295154184)",
          "dash": "solid",
          "shape": "linear",
          "width": 1.3
         },
         "mode": "lines",
         "name": "Raffinose",
         "text": "",
         "type": "scatter",
         "x": [
          0.3659673552268968,
          0.5489510328403452,
          0.6587412394084142,
          0.7319347104537935,
          0.805128181499173,
          0.8783216525445522,
          0.9515151235899316,
          1.024708594635311,
          1.0979020656806904,
          1.463869420907587,
          2.927738841815174
         ],
         "y": [
          0.40618672102571335,
          0.40618672094250313,
          0.4061867209517862,
          0.40618672130866157,
          0.406186721201316,
          0.4061867209596806,
          0.4061867209652928,
          0.4061867209693737,
          0.40618672097295777,
          0.40618672102717357,
          0.40618672094426883
         ]
        },
        {
         "line": {
          "color": "rgba(50, 171, 96, 0.5066079295154184)",
          "dash": "solid",
          "shape": "linear",
          "width": 1.3
         },
         "mode": "lines",
         "name": "Retinol",
         "text": "",
         "type": "scatter",
         "x": [
          0.3659673552268968,
          0.5489510328403452,
          0.6587412394084142,
          0.7319347104537935,
          0.805128181499173,
          0.8783216525445522,
          0.9515151235899316,
          1.024708594635311,
          1.0979020656806904,
          1.463869420907587,
          2.927738841815174
         ],
         "y": [
          355.5125922941122,
          355.51259222128294,
          355.5125922294079,
          355.512592541761,
          355.5125924478074,
          355.51259223631746,
          355.51259224122947,
          355.5125922448013,
          355.5125922479382,
          355.5125922953903,
          355.51259222282835
         ]
        },
        {
         "line": {
          "color": "rgba(128, 0, 128, 0.5066079295154184)",
          "dash": "solid",
          "shape": "linear",
          "width": 1.3
         },
         "mode": "lines",
         "name": "Riboflavin",
         "text": "",
         "type": "scatter",
         "x": [
          0.3659673552268968,
          0.5489510328403452,
          0.6587412394084142,
          0.7319347104537935,
          0.805128181499173,
          0.8783216525445522,
          0.9515151235899316,
          1.024708594635311,
          1.0979020656806904,
          1.463869420907587,
          2.927738841815174
         ],
         "y": [
          1.3144601696531173,
          1.314460166927801,
          1.3144601676722296,
          1.3144601939801224,
          1.314460182801595,
          1.3144601709121755,
          1.3144601714906117,
          1.3144601717580098,
          1.3144601718320483,
          1.3144601740709398,
          1.3144601670717049
         ]
        },
        {
         "line": {
          "color": "rgba(219, 64, 82, 0.5066079295154184)",
          "dash": "solid",
          "shape": "linear",
          "width": 1.3
         },
         "mode": "lines",
         "name": "SFA 10:0",
         "text": "",
         "type": "scatter",
         "x": [
          0.3659673552268968,
          0.5489510328403452,
          0.6587412394084142,
          0.7319347104537935,
          0.805128181499173,
          0.8783216525445522,
          0.9515151235899316,
          1.024708594635311,
          1.0979020656806904,
          1.463869420907587,
          2.927738841815174
         ],
         "y": [
          8.528389332880997e-12,
          1.5936257655639102e-13,
          7.281126483220756e-13,
          4.051460215661283e-11,
          2.5865065014736334e-11,
          9.351270422169108e-13,
          1.131666909901615e-12,
          1.2655888977803473e-12,
          1.3899048127269039e-12,
          4.188420258632129e-12,
          4.792380121985249e-13
         ]
        },
        {
         "line": {
          "color": "rgba(0, 128, 128, 0.5066079295154184)",
          "dash": "solid",
          "shape": "linear",
          "width": 1.3
         },
         "mode": "lines",
         "name": "SFA 11:0",
         "text": "",
         "type": "scatter",
         "x": [
          0.3659673552268968,
          0.5489510328403452,
          0.6587412394084142,
          0.7319347104537935,
          0.805128181499173,
          0.8783216525445522,
          0.9515151235899316,
          1.024708594635311,
          1.0979020656806904,
          1.463869420907587,
          2.927738841815174
         ],
         "y": [
          0,
          0,
          0,
          0,
          0,
          0,
          0,
          0,
          0,
          0,
          0
         ]
        },
        {
         "line": {
          "color": "rgba(0, 128, 128, 0.47136563876652)",
          "dash": "solid",
          "shape": "linear",
          "width": 1.3
         },
         "mode": "lines",
         "name": "SFA 12:0",
         "text": "",
         "type": "scatter",
         "x": [
          0.3659673552268968,
          0.5489510328403452,
          0.6587412394084142,
          0.7319347104537935,
          0.805128181499173,
          0.8783216525445522,
          0.9515151235899316,
          1.024708594635311,
          1.0979020656806904,
          1.463869420907587,
          2.927738841815174
         ],
         "y": [
          0.0010100658557289897,
          0.001010065852720097,
          0.0010100658512833,
          0.0010100657709364584,
          0.0010100658184985169,
          0.0010100658425190754,
          0.0010100658416527088,
          0.0010100658410648483,
          0.0010100658405211716,
          0.0010100658387207733,
          0.00101006585244826
         ]
        },
        {
         "line": {
          "color": "rgba(255, 255, 51, 0.47136563876652)",
          "dash": "solid",
          "shape": "linear",
          "width": 1.3
         },
         "mode": "lines",
         "name": "SFA 13:0",
         "text": "",
         "type": "scatter",
         "x": [
          0.3659673552268968,
          0.5489510328403452,
          0.6587412394084142,
          0.7319347104537935,
          0.805128181499173,
          0.8783216525445522,
          0.9515151235899316,
          1.024708594635311,
          1.0979020656806904,
          1.463869420907587,
          2.927738841815174
         ],
         "y": [
          0,
          0,
          0,
          0,
          0,
          0,
          0,
          0,
          0,
          0,
          0
         ]
        },
        {
         "line": {
          "color": "rgba(128, 128, 0, 0.47136563876652)",
          "dash": "solid",
          "shape": "linear",
          "width": 1.3
         },
         "mode": "lines",
         "name": "SFA 14:0",
         "text": "",
         "type": "scatter",
         "x": [
          0.3659673552268968,
          0.5489510328403452,
          0.6587412394084142,
          0.7319347104537935,
          0.805128181499173,
          0.8783216525445522,
          0.9515151235899316,
          1.024708594635311,
          1.0979020656806904,
          1.463869420907587,
          2.927738841815174
         ],
         "y": [
          0.026505972310911993,
          0.026505972381387344,
          0.026505972355906588,
          0.026505972076208376,
          0.026505972250926782,
          0.026505972216966937,
          0.026505972193339774,
          0.026505972183228293,
          0.026505972181948147,
          0.026505972119788154,
          0.026505972378291623
         ]
        },
        {
         "line": {
          "color": "rgba(251, 128, 114, 0.47136563876652)",
          "dash": "solid",
          "shape": "linear",
          "width": 1.3
         },
         "mode": "lines",
         "name": "SFA 15:0",
         "text": "",
         "type": "scatter",
         "x": [
          0.3659673552268968,
          0.5489510328403452,
          0.6587412394084142,
          0.7319347104537935,
          0.805128181499173,
          0.8783216525445522,
          0.9515151235899316,
          1.024708594635311,
          1.0979020656806904,
          1.463869420907587,
          2.927738841815174
         ],
         "y": [
          0.010305774637442403,
          0.01030577461259955,
          0.010305774614134063,
          0.010305774725717106,
          0.010305774686760081,
          0.010305774615131021,
          0.010305774615810932,
          0.010305774616267591,
          0.010305774616665916,
          0.010305774625200954,
          0.010305774613320724
         ]
        },
        {
         "line": {
          "color": "rgba(128, 177, 211, 0.47136563876652)",
          "dash": "solid",
          "shape": "linear",
          "width": 1.3
         },
         "mode": "lines",
         "name": "SFA 16:0",
         "text": "",
         "type": "scatter",
         "x": [
          0.3659673552268968,
          0.5489510328403452,
          0.6587412394084142,
          0.7319347104537935,
          0.805128181499173,
          0.8783216525445522,
          0.9515151235899316,
          1.024708594635311,
          1.0979020656806904,
          1.463869420907587,
          2.927738841815174
         ],
         "y": [
          9.774709961255688,
          9.774709975064642,
          9.774709971320677,
          9.774709666921066,
          9.774709785447143,
          9.774709942811501,
          9.774709938690721,
          9.774709936979807,
          9.774709936850405,
          9.774709930541013,
          9.774709974191994
         ]
        },
        {
         "line": {
          "color": "rgba(255, 153, 51, 0.47136563876652)",
          "dash": "solid",
          "shape": "linear",
          "width": 1.3
         },
         "mode": "lines",
         "name": "SFA 17:0",
         "text": "",
         "type": "scatter",
         "x": [
          0.3659673552268968,
          0.5489510328403452,
          0.6587412394084142,
          0.7319347104537935,
          0.805128181499173,
          0.8783216525445522,
          0.9515151235899316,
          1.024708594635311,
          1.0979020656806904,
          1.463869420907587,
          2.927738841815174
         ],
         "y": [
          0.01221063346549219,
          0.012210633427513556,
          0.012210633430113966,
          0.012210633608984705,
          0.012210633546278504,
          0.012210633431640364,
          0.012210633432715797,
          0.012210633433472227,
          0.012210633434169288,
          0.012210633448909032,
          0.012210633428524884
         ]
        },
        {
         "line": {
          "color": "rgba(55, 128, 191, 0.47136563876652)",
          "dash": "solid",
          "shape": "linear",
          "width": 1.3
         },
         "mode": "lines",
         "name": "SFA 18:0",
         "text": "",
         "type": "scatter",
         "x": [
          0.3659673552268968,
          0.5489510328403452,
          0.6587412394084142,
          0.7319347104537935,
          0.805128181499173,
          0.8783216525445522,
          0.9515151235899316,
          1.024708594635311,
          1.0979020656806904,
          1.463869420907587,
          2.927738841815174
         ],
         "y": [
          2.845717476026671,
          2.845717483173762,
          2.8457174804828953,
          2.845717389242205,
          2.84571743647067,
          2.845717469015992,
          2.8457174671632255,
          2.8457174661295075,
          2.8457174655052584,
          2.845717456805291,
          2.845717482612039
         ]
        },
        {
         "line": {
          "color": "rgba(50, 171, 96, 0.47136563876652)",
          "dash": "solid",
          "shape": "linear",
          "width": 1.3
         },
         "mode": "lines",
         "name": "SFA 20:0",
         "text": "",
         "type": "scatter",
         "x": [
          0.3659673552268968,
          0.5489510328403452,
          0.6587412394084142,
          0.7319347104537935,
          0.805128181499173,
          0.8783216525445522,
          0.9515151235899316,
          1.024708594635311,
          1.0979020656806904,
          1.463869420907587,
          2.927738841815174
         ],
         "y": [
          1.2482723503132664,
          1.2482723529338466,
          1.2482723518345356,
          1.2482723070784318,
          1.2482723304138812,
          1.2482723476701116,
          1.2482723470221273,
          1.2482723466055476,
          1.2482723462671732,
          1.2482723423869806,
          1.248272352680698
         ]
        },
        {
         "line": {
          "color": "rgba(128, 0, 128, 0.47136563876652)",
          "dash": "solid",
          "shape": "linear",
          "width": 1.3
         },
         "mode": "lines",
         "name": "SFA 21:0",
         "text": "",
         "type": "scatter",
         "x": [
          0.3659673552268968,
          0.5489510328403452,
          0.6587412394084142,
          0.7319347104537935,
          0.805128181499173,
          0.8783216525445522,
          0.9515151235899316,
          1.024708594635311,
          1.0979020656806904,
          1.463869420907587,
          2.927738841815174
         ],
         "y": [
          0,
          0,
          0,
          0,
          0,
          0,
          0,
          0,
          0,
          0,
          0
         ]
        },
        {
         "line": {
          "color": "rgba(219, 64, 82, 0.47136563876652)",
          "dash": "solid",
          "shape": "linear",
          "width": 1.3
         },
         "mode": "lines",
         "name": "SFA 22:0",
         "text": "",
         "type": "scatter",
         "x": [
          0.3659673552268968,
          0.5489510328403452,
          0.6587412394084142,
          0.7319347104537935,
          0.805128181499173,
          0.8783216525445522,
          0.9515151235899316,
          1.024708594635311,
          1.0979020656806904,
          1.463869420907587,
          2.927738841815174
         ],
         "y": [
          2.5677857022852235,
          2.5677857076883175,
          2.5677857054493476,
          2.567785612014018,
          2.5677856605678464,
          2.567785697100409,
          2.5677856958053282,
          2.567785694958872,
          2.567785694252363,
          2.567785686263321,
          2.5677857071652452
         ]
        },
        {
         "line": {
          "color": "rgba(219, 64, 82, 0.43612334801762126)",
          "dash": "solid",
          "shape": "linear",
          "width": 1.3
         },
         "mode": "lines",
         "name": "SFA 23:0",
         "text": "",
         "type": "scatter",
         "x": [
          0.3659673552268968,
          0.5489510328403452,
          0.6587412394084142,
          0.7319347104537935,
          0.805128181499173,
          0.8783216525445522,
          0.9515151235899316,
          1.024708594635311,
          1.0979020656806904,
          1.463869420907587,
          2.927738841815174
         ],
         "y": [
          0,
          0,
          0,
          0,
          0,
          0,
          0,
          0,
          0,
          0,
          0
         ]
        },
        {
         "line": {
          "color": "rgba(0, 128, 128, 0.43612334801762126)",
          "dash": "solid",
          "shape": "linear",
          "width": 1.3
         },
         "mode": "lines",
         "name": "SFA 24:0",
         "text": "",
         "type": "scatter",
         "x": [
          0.3659673552268968,
          0.5489510328403452,
          0.6587412394084142,
          0.7319347104537935,
          0.805128181499173,
          0.8783216525445522,
          0.9515151235899316,
          1.024708594635311,
          1.0979020656806904,
          1.463869420907587,
          2.927738841815174
         ],
         "y": [
          1.4756526223845154,
          1.4756526254439777,
          1.475652624161011,
          1.475652570337044,
          1.4756525983237252,
          1.4756526193884494,
          1.4756526186499621,
          1.4756526181648635,
          1.475652617756714,
          1.47565261317134,
          1.4756526251435884
         ]
        },
        {
         "line": {
          "color": "rgba(255, 255, 51, 0.43612334801762126)",
          "dash": "solid",
          "shape": "linear",
          "width": 1.3
         },
         "mode": "lines",
         "name": "SFA 4:0",
         "text": "",
         "type": "scatter",
         "x": [
          0.3659673552268968,
          0.5489510328403452,
          0.6587412394084142,
          0.7319347104537935,
          0.805128181499173,
          0.8783216525445522,
          0.9515151235899316,
          1.024708594635311,
          1.0979020656806904,
          1.463869420907587,
          2.927738841815174
         ],
         "y": [
          0,
          0,
          0,
          0,
          0,
          0,
          0,
          0,
          0,
          0,
          0
         ]
        },
        {
         "line": {
          "color": "rgba(128, 128, 0, 0.43612334801762126)",
          "dash": "solid",
          "shape": "linear",
          "width": 1.3
         },
         "mode": "lines",
         "name": "SFA 5:0",
         "text": "",
         "type": "scatter",
         "x": [
          0.3659673552268968,
          0.5489510328403452,
          0.6587412394084142,
          0.7319347104537935,
          0.805128181499173,
          0.8783216525445522,
          0.9515151235899316,
          1.024708594635311,
          1.0979020656806904,
          1.463869420907587,
          2.927738841815174
         ],
         "y": [
          0,
          0,
          0,
          0,
          0,
          0,
          0,
          0,
          0,
          0,
          0
         ]
        },
        {
         "line": {
          "color": "rgba(251, 128, 114, 0.43612334801762126)",
          "dash": "solid",
          "shape": "linear",
          "width": 1.3
         },
         "mode": "lines",
         "name": "SFA 6:0",
         "text": "",
         "type": "scatter",
         "x": [
          0.3659673552268968,
          0.5489510328403452,
          0.6587412394084142,
          0.7319347104537935,
          0.805128181499173,
          0.8783216525445522,
          0.9515151235899316,
          1.024708594635311,
          1.0979020656806904,
          1.463869420907587,
          2.927738841815174
         ],
         "y": [
          0,
          0,
          0,
          0,
          0,
          0,
          0,
          0,
          0,
          0,
          0
         ]
        },
        {
         "line": {
          "color": "rgba(128, 177, 211, 0.43612334801762126)",
          "dash": "solid",
          "shape": "linear",
          "width": 1.3
         },
         "mode": "lines",
         "name": "SFA 7:0",
         "text": "",
         "type": "scatter",
         "x": [
          0.3659673552268968,
          0.5489510328403452,
          0.6587412394084142,
          0.7319347104537935,
          0.805128181499173,
          0.8783216525445522,
          0.9515151235899316,
          1.024708594635311,
          1.0979020656806904,
          1.463869420907587,
          2.927738841815174
         ],
         "y": [
          0,
          0,
          0,
          0,
          0,
          0,
          0,
          0,
          0,
          0,
          0
         ]
        },
        {
         "line": {
          "color": "rgba(255, 153, 51, 0.43612334801762126)",
          "dash": "solid",
          "shape": "linear",
          "width": 1.3
         },
         "mode": "lines",
         "name": "SFA 8:0",
         "text": "",
         "type": "scatter",
         "x": [
          0.3659673552268968,
          0.5489510328403452,
          0.6587412394084142,
          0.7319347104537935,
          0.805128181499173,
          0.8783216525445522,
          0.9515151235899316,
          1.024708594635311,
          1.0979020656806904,
          1.463869420907587,
          2.927738841815174
         ],
         "y": [
          0.00030451654826460815,
          0.0003045165472776106,
          0.00030451654891759975,
          0.00030451652135513925,
          0.0003045165133047342,
          0.0003045165487358477,
          0.00030451654886416626,
          0.00030451654935322064,
          0.00030451655029334465,
          0.000304516558931265,
          0.00030451654760528854
         ]
        },
        {
         "line": {
          "color": "rgba(55, 128, 191, 0.43612334801762126)",
          "dash": "solid",
          "shape": "linear",
          "width": 1.3
         },
         "mode": "lines",
         "name": "SFA 9:0",
         "text": "",
         "type": "scatter",
         "x": [
          0.3659673552268968,
          0.5489510328403452,
          0.6587412394084142,
          0.7319347104537935,
          0.805128181499173,
          0.8783216525445522,
          0.9515151235899316,
          1.024708594635311,
          1.0979020656806904,
          1.463869420907587,
          2.927738841815174
         ],
         "y": [
          0,
          0,
          0,
          0,
          0,
          0,
          0,
          0,
          0,
          0,
          0
         ]
        },
        {
         "line": {
          "color": "rgba(50, 171, 96, 0.43612334801762126)",
          "dash": "solid",
          "shape": "linear",
          "width": 1.3
         },
         "mode": "lines",
         "name": "Selenium, Se",
         "text": "",
         "type": "scatter",
         "x": [
          0.3659673552268968,
          0.5489510328403452,
          0.6587412394084142,
          0.7319347104537935,
          0.805128181499173,
          0.8783216525445522,
          0.9515151235899316,
          1.024708594635311,
          1.0979020656806904,
          1.463869420907587,
          2.927738841815174
         ],
         "y": [
          58.37417708331241,
          58.374177176253156,
          58.37417711937992,
          58.3741783033486,
          58.374178166424635,
          58.37417686722332,
          58.37417683154052,
          58.374176809387386,
          58.37417679394501,
          58.37417666198371,
          58.37417716362129
         ]
        },
        {
         "line": {
          "color": "rgba(128, 0, 128, 0.43612334801762126)",
          "dash": "solid",
          "shape": "linear",
          "width": 1.3
         },
         "mode": "lines",
         "name": "Serine",
         "text": "",
         "type": "scatter",
         "x": [
          0.3659673552268968,
          0.5489510328403452,
          0.6587412394084142,
          0.7319347104537935,
          0.805128181499173,
          0.8783216525445522,
          0.9515151235899316,
          1.024708594635311,
          1.0979020656806904,
          1.463869420907587,
          2.927738841815174
         ],
         "y": [
          5.697782733247114,
          5.697782733792292,
          5.6977827325095065,
          5.697782672543779,
          5.697782714566514,
          5.697782730123677,
          5.697782730071428,
          5.697782729571593,
          5.697782728535909,
          5.69778272323215,
          5.697782733415711
         ]
        },
        {
         "line": {
          "color": "rgba(128, 0, 128, 0.40088105726872253)",
          "dash": "solid",
          "shape": "linear",
          "width": 1.3
         },
         "mode": "lines",
         "name": "Sodium, Na",
         "text": "",
         "type": "scatter",
         "x": [
          0.3659673552268968,
          0.5489510328403452,
          0.6587412394084142,
          0.7319347104537935,
          0.805128181499173,
          0.8783216525445522,
          0.9515151235899316,
          1.024708594635311,
          1.0979020656806904,
          1.463869420907587,
          2.927738841815174
         ],
         "y": [
          1499.7054271307263,
          1499.7054305667173,
          1499.7054296350805,
          1499.7054300301613,
          1499.7054343963912,
          1499.7054267225553,
          1499.7054261315072,
          1499.7054257978475,
          1499.7054255915662,
          1499.7054220985885,
          1499.705430408146
         ]
        },
        {
         "line": {
          "color": "rgba(219, 64, 82, 0.40088105726872253)",
          "dash": "solid",
          "shape": "linear",
          "width": 1.3
         },
         "mode": "lines",
         "name": "Stachyose",
         "text": "",
         "type": "scatter",
         "x": [
          0.3659673552268968,
          0.5489510328403452,
          0.6587412394084142,
          0.7319347104537935,
          0.805128181499173,
          0.8783216525445522,
          0.9515151235899316,
          1.024708594635311,
          1.0979020656806904,
          1.463869420907587,
          2.927738841815174
         ],
         "y": [
          2.6521495808442785,
          2.6521495803009674,
          2.6521495803615798,
          2.6521495826917567,
          2.652149581990856,
          2.6521495804131257,
          2.6521495804497697,
          2.6521495804764155,
          2.6521495804998176,
          2.652149580853813,
          2.652149580312496
         ]
        },
        {
         "line": {
          "color": "rgba(0, 128, 128, 0.40088105726872253)",
          "dash": "solid",
          "shape": "linear",
          "width": 1.3
         },
         "mode": "lines",
         "name": "Starch",
         "text": "",
         "type": "scatter",
         "x": [
          0.3659673552268968,
          0.5489510328403452,
          0.6587412394084142,
          0.7319347104537935,
          0.805128181499173,
          0.8783216525445522,
          0.9515151235899316,
          1.024708594635311,
          1.0979020656806904,
          1.463869420907587,
          2.927738841815174
         ],
         "y": [
          12.73006219008592,
          12.730062171687877,
          12.730062093819463,
          12.730064404081743,
          12.730063795182339,
          12.730061669692825,
          12.730061603311102,
          12.730061573153119,
          12.730061567444457,
          12.730061440237796,
          12.73006216337386
         ]
        },
        {
         "line": {
          "color": "rgba(255, 255, 51, 0.40088105726872253)",
          "dash": "solid",
          "shape": "linear",
          "width": 1.3
         },
         "mode": "lines",
         "name": "Stigmasterol",
         "text": "",
         "type": "scatter",
         "x": [
          0.3659673552268968,
          0.5489510328403452,
          0.6587412394084142,
          0.7319347104537935,
          0.805128181499173,
          0.8783216525445522,
          0.9515151235899316,
          1.024708594635311,
          1.0979020656806904,
          1.463869420907587,
          2.927738841815174
         ],
         "y": [
          0.6090331193769105,
          0.6090330947530096,
          0.6090330987311353,
          0.6090331309208142,
          0.6090330860964046,
          0.6090330994229333,
          0.6090331001561139,
          0.6090331013944662,
          0.6090331034385392,
          0.6090331254518195,
          0.6090330959238703
         ]
        },
        {
         "line": {
          "color": "rgba(128, 128, 0, 0.40088105726872253)",
          "dash": "solid",
          "shape": "linear",
          "width": 1.3
         },
         "mode": "lines",
         "name": "Sucrose",
         "text": "",
         "type": "scatter",
         "x": [
          0.3659673552268968,
          0.5489510328403452,
          0.6587412394084142,
          0.7319347104537935,
          0.805128181499173,
          0.8783216525445522,
          0.9515151235899316,
          1.024708594635311,
          1.0979020656806904,
          1.463869420907587,
          2.927738841815174
         ],
         "y": [
          12.850189423757246,
          12.850189418026744,
          12.850189412051144,
          12.850190231940493,
          12.850189860865155,
          12.850189407790102,
          12.850189402175033,
          12.850189401285913,
          12.850189404457408,
          12.850189380207427,
          12.85018941973731
         ]
        },
        {
         "line": {
          "color": "rgba(251, 128, 114, 0.40088105726872253)",
          "dash": "solid",
          "shape": "linear",
          "width": 1.3
         },
         "mode": "lines",
         "name": "Sugars, Total",
         "text": "",
         "type": "scatter",
         "x": [
          0.3659673552268968,
          0.5489510328403452,
          0.6587412394084142,
          0.7319347104537935,
          0.805128181499173,
          0.8783216525445522,
          0.9515151235899316,
          1.024708594635311,
          1.0979020656806904,
          1.463869420907587,
          2.927738841815174
         ],
         "y": [
          31.42025085042328,
          31.420251815012403,
          31.420251651006534,
          31.42024273670417,
          31.42024652141302,
          31.420250945193885,
          31.420250825340414,
          31.420250763066722,
          31.420250732280813,
          31.42025021772775,
          31.420251772878885
         ]
        },
        {
         "line": {
          "color": "rgba(128, 177, 211, 0.40088105726872253)",
          "dash": "solid",
          "shape": "linear",
          "width": 1.3
         },
         "mode": "lines",
         "name": "Sugars, total including NLEA",
         "text": "",
         "type": "scatter",
         "x": [
          0.3659673552268968,
          0.5489510328403452,
          0.6587412394084142,
          0.7319347104537935,
          0.805128181499173,
          0.8783216525445522,
          0.9515151235899316,
          1.024708594635311,
          1.0979020656806904,
          1.463869420907587,
          2.927738841815174
         ],
         "y": [
          3.6997529479881575,
          3.699752629797152,
          3.6997526750438694,
          3.699756721185133,
          3.699754986231073,
          3.69975288394866,
          3.6997529140619476,
          3.699752932978674,
          3.6997529480241234,
          3.699753096012886,
          3.699752645521848
         ]
        },
        {
         "line": {
          "color": "rgba(255, 153, 51, 0.40088105726872253)",
          "dash": "solid",
          "shape": "linear",
          "width": 1.3
         },
         "mode": "lines",
         "name": "TFA 14:1 t",
         "text": "",
         "type": "scatter",
         "x": [
          0.3659673552268968,
          0.5489510328403452,
          0.6587412394084142,
          0.7319347104537935,
          0.805128181499173,
          0.8783216525445522,
          0.9515151235899316,
          1.024708594635311,
          1.0979020656806904,
          1.463869420907587,
          2.927738841815174
         ],
         "y": [
          0,
          0,
          0,
          0,
          0,
          0,
          0,
          0,
          0,
          0,
          0
         ]
        },
        {
         "line": {
          "color": "rgba(55, 128, 191, 0.40088105726872253)",
          "dash": "solid",
          "shape": "linear",
          "width": 1.3
         },
         "mode": "lines",
         "name": "TFA 16:1 t",
         "text": "",
         "type": "scatter",
         "x": [
          0.3659673552268968,
          0.5489510328403452,
          0.6587412394084142,
          0.7319347104537935,
          0.805128181499173,
          0.8783216525445522,
          0.9515151235899316,
          1.024708594635311,
          1.0979020656806904,
          1.463869420907587,
          2.927738841815174
         ],
         "y": [
          0,
          0,
          0,
          0,
          0,
          0,
          0,
          0,
          0,
          0,
          0
         ]
        },
        {
         "line": {
          "color": "rgba(50, 171, 96, 0.40088105726872253)",
          "dash": "solid",
          "shape": "linear",
          "width": 1.3
         },
         "mode": "lines",
         "name": "TFA 18:1 t",
         "text": "",
         "type": "scatter",
         "x": [
          0.3659673552268968,
          0.5489510328403452,
          0.6587412394084142,
          0.7319347104537935,
          0.805128181499173,
          0.8783216525445522,
          0.9515151235899316,
          1.024708594635311,
          1.0979020656806904,
          1.463869420907587,
          2.927738841815174
         ],
         "y": [
          0.004960569836973177,
          0.004960569829881641,
          0.004960569830757333,
          0.004960569873284899,
          0.004960569857529708,
          0.004960569830977733,
          0.004960569831251686,
          0.004960569831479671,
          0.004960569831725768,
          0.004960569836372356,
          0.0049605698301007015
         ]
        },
        {
         "line": {
          "color": "rgba(50, 171, 96, 0.3656387665198238)",
          "dash": "solid",
          "shape": "linear",
          "width": 1.3
         },
         "mode": "lines",
         "name": "TFA 18:2 t",
         "text": "",
         "type": "scatter",
         "x": [
          0.3659673552268968,
          0.5489510328403452,
          0.6587412394084142,
          0.7319347104537935,
          0.805128181499173,
          0.8783216525445522,
          0.9515151235899316,
          1.024708594635311,
          1.0979020656806904,
          1.463869420907587,
          2.927738841815174
         ],
         "y": [
          0.006868481303982075,
          0.006868481302575018,
          0.0068684813027319915,
          0.006868481308766635,
          0.0068684813069514565,
          0.006868481302865484,
          0.006868481302960384,
          0.006868481303029391,
          0.006868481303089996,
          0.006868481304006767,
          0.006868481302604875
         ]
        },
        {
         "line": {
          "color": "rgba(128, 0, 128, 0.3656387665198238)",
          "dash": "solid",
          "shape": "linear",
          "width": 1.3
         },
         "mode": "lines",
         "name": "TFA 18:2 t not further defined",
         "text": "",
         "type": "scatter",
         "x": [
          0.3659673552268968,
          0.5489510328403452,
          0.6587412394084142,
          0.7319347104537935,
          0.805128181499173,
          0.8783216525445522,
          0.9515151235899316,
          1.024708594635311,
          1.0979020656806904,
          1.463869420907587,
          2.927738841815174
         ],
         "y": [
          0.0068684813152127535,
          0.006868481303008315,
          0.006868481304492828,
          0.006868481377886977,
          0.006868481350917657,
          0.006868481304902705,
          0.0068684813053697304,
          0.006868481305760599,
          0.006868481306184176,
          0.006868481314262821,
          0.0068684813033376675
         ]
        },
        {
         "line": {
          "color": "rgba(219, 64, 82, 0.3656387665198238)",
          "dash": "solid",
          "shape": "linear",
          "width": 1.3
         },
         "mode": "lines",
         "name": "TFA 18:3 t",
         "text": "",
         "type": "scatter",
         "x": [
          0.3659673552268968,
          0.5489510328403452,
          0.6587412394084142,
          0.7319347104537935,
          0.805128181499173,
          0.8783216525445522,
          0.9515151235899316,
          1.024708594635311,
          1.0979020656806904,
          1.463869420907587,
          2.927738841815174
         ],
         "y": [
          0,
          0,
          0,
          0,
          0,
          0,
          0,
          0,
          0,
          0,
          0
         ]
        },
        {
         "line": {
          "color": "rgba(0, 128, 128, 0.3656387665198238)",
          "dash": "solid",
          "shape": "linear",
          "width": 1.3
         },
         "mode": "lines",
         "name": "TFA 20:1 t",
         "text": "",
         "type": "scatter",
         "x": [
          0.3659673552268968,
          0.5489510328403452,
          0.6587412394084142,
          0.7319347104537935,
          0.805128181499173,
          0.8783216525445522,
          0.9515151235899316,
          1.024708594635311,
          1.0979020656806904,
          1.463869420907587,
          2.927738841815174
         ],
         "y": [
          0,
          0,
          0,
          0,
          0,
          0,
          0,
          0,
          0,
          0,
          0
         ]
        },
        {
         "line": {
          "color": "rgba(255, 255, 51, 0.3656387665198238)",
          "dash": "solid",
          "shape": "linear",
          "width": 1.3
         },
         "mode": "lines",
         "name": "TFA 22:1 t",
         "text": "",
         "type": "scatter",
         "x": [
          0.3659673552268968,
          0.5489510328403452,
          0.6587412394084142,
          0.7319347104537935,
          0.805128181499173,
          0.8783216525445522,
          0.9515151235899316,
          1.024708594635311,
          1.0979020656806904,
          1.463869420907587,
          2.927738841815174
         ],
         "y": [
          0,
          0,
          0,
          0,
          0,
          0,
          0,
          0,
          0,
          0,
          0
         ]
        },
        {
         "line": {
          "color": "rgba(128, 128, 0, 0.3656387665198238)",
          "dash": "solid",
          "shape": "linear",
          "width": 1.3
         },
         "mode": "lines",
         "name": "Theobromine",
         "text": "",
         "type": "scatter",
         "x": [
          0.3659673552268968,
          0.5489510328403452,
          0.6587412394084142,
          0.7319347104537935,
          0.805128181499173,
          0.8783216525445522,
          0.9515151235899316,
          1.024708594635311,
          1.0979020656806904,
          1.463869420907587,
          2.927738841815174
         ],
         "y": [
          0,
          0,
          0,
          0,
          0,
          0,
          0,
          0,
          0,
          0,
          0
         ]
        },
        {
         "line": {
          "color": "rgba(251, 128, 114, 0.3656387665198238)",
          "dash": "solid",
          "shape": "linear",
          "width": 1.3
         },
         "mode": "lines",
         "name": "Thiamin",
         "text": "",
         "type": "scatter",
         "x": [
          0.3659673552268968,
          0.5489510328403452,
          0.6587412394084142,
          0.7319347104537935,
          0.805128181499173,
          0.8783216525445522,
          0.9515151235899316,
          1.024708594635311,
          1.0979020656806904,
          1.463869420907587,
          2.927738841815174
         ],
         "y": [
          1.605425892129433,
          1.6054258925183649,
          1.6054258920048572,
          1.6054258929024185,
          1.6054258963632506,
          1.605425889724872,
          1.6054258893647302,
          1.6054258891551756,
          1.6054258890170396,
          1.605425887555405,
          1.6054258924842708
         ]
        },
        {
         "line": {
          "color": "rgba(128, 177, 211, 0.3656387665198238)",
          "dash": "solid",
          "shape": "linear",
          "width": 1.3
         },
         "mode": "lines",
         "name": "Threonine",
         "text": "",
         "type": "scatter",
         "x": [
          0.3659673552268968,
          0.5489510328403452,
          0.6587412394084142,
          0.7319347104537935,
          0.805128181499173,
          0.8783216525445522,
          0.9515151235899316,
          1.024708594635311,
          1.0979020656806904,
          1.463869420907587,
          2.927738841815174
         ],
         "y": [
          3.5316752541433716,
          3.5316752415685047,
          3.5316752425849245,
          3.53167535525278,
          3.531675316697527,
          3.5316752492967005,
          3.5316752504756295,
          3.5316752509080915,
          3.5316752508319387,
          3.531675253459417,
          3.5316752419489843
         ]
        },
        {
         "line": {
          "color": "rgba(255, 153, 51, 0.3656387665198238)",
          "dash": "solid",
          "shape": "linear",
          "width": 1.3
         },
         "mode": "lines",
         "name": "Tocopherol, beta",
         "text": "",
         "type": "scatter",
         "x": [
          0.3659673552268968,
          0.5489510328403452,
          0.6587412394084142,
          0.7319347104537935,
          0.805128181499173,
          0.8783216525445522,
          0.9515151235899316,
          1.024708594635311,
          1.0979020656806904,
          1.463869420907587,
          2.927738841815174
         ],
         "y": [
          0.0283217471914067,
          0.02832174648317616,
          0.02832174659436091,
          0.028321756371103422,
          0.028321751559051984,
          0.02832174655424717,
          0.02832174655015227,
          0.02832174658479441,
          0.02832174666482989,
          0.02832174734390689,
          0.02832174652397774
         ]
        },
        {
         "line": {
          "color": "rgba(55, 128, 191, 0.3656387665198238)",
          "dash": "solid",
          "shape": "linear",
          "width": 1.3
         },
         "mode": "lines",
         "name": "Tocopherol, delta",
         "text": "",
         "type": "scatter",
         "x": [
          0.3659673552268968,
          0.5489510328403452,
          0.6587412394084142,
          0.7319347104537935,
          0.805128181499173,
          0.8783216525445522,
          0.9515151235899316,
          1.024708594635311,
          1.0979020656806904,
          1.463869420907587,
          2.927738841815174
         ],
         "y": [
          5.435177747812464,
          5.43517774914631,
          5.435177748393063,
          5.435177748084186,
          5.43517775034661,
          5.435177743120202,
          5.435177742273264,
          5.43517774196277,
          5.435177742024553,
          5.435177740924632,
          5.435177749053796
         ]
        },
        {
         "line": {
          "color": "rgba(55, 128, 191, 0.3303964757709253)",
          "dash": "solid",
          "shape": "linear",
          "width": 1.3
         },
         "mode": "lines",
         "name": "Tocopherol, gamma",
         "text": "",
         "type": "scatter",
         "x": [
          0.3659673552268968,
          0.5489510328403452,
          0.6587412394084142,
          0.7319347104537935,
          0.805128181499173,
          0.8783216525445522,
          0.9515151235899316,
          1.024708594635311,
          1.0979020656806904,
          1.463869420907587,
          2.927738841815174
         ],
         "y": [
          9.137318385528653,
          9.137318383346726,
          9.137318381660327,
          9.137318454447698,
          9.137318430188857,
          9.137318361005091,
          9.137318357939881,
          9.137318356979048,
          9.13731835758188,
          9.137318359815838,
          9.137318383411372
         ]
        },
        {
         "line": {
          "color": "rgba(50, 171, 96, 0.3303964757709253)",
          "dash": "solid",
          "shape": "linear",
          "width": 1.3
         },
         "mode": "lines",
         "name": "Tocotrienol, alpha",
         "text": "",
         "type": "scatter",
         "x": [
          0.3659673552268968,
          0.5489510328403452,
          0.6587412394084142,
          0.7319347104537935,
          0.805128181499173,
          0.8783216525445522,
          0.9515151235899316,
          1.024708594635311,
          1.0979020656806904,
          1.463869420907587,
          2.927738841815174
         ],
         "y": [
          0.00822560727351132,
          0.008225606367564186,
          0.008225606489435338,
          0.008225620936673398,
          0.008225614949029505,
          0.00822560697782136,
          0.00822560706161594,
          0.008225607109571436,
          0.008225607144189594,
          0.008225607654990343,
          0.00822560640208814
         ]
        },
        {
         "line": {
          "color": "rgba(128, 0, 128, 0.3303964757709253)",
          "dash": "solid",
          "shape": "linear",
          "width": 1.3
         },
         "mode": "lines",
         "name": "Tocotrienol, beta",
         "text": "",
         "type": "scatter",
         "x": [
          0.3659673552268968,
          0.5489510328403452,
          0.6587412394084142,
          0.7319347104537935,
          0.805128181499173,
          0.8783216525445522,
          0.9515151235899316,
          1.024708594635311,
          1.0979020656806904,
          1.463869420907587,
          2.927738841815174
         ],
         "y": [
          0.007915477850699217,
          0.007915478212687949,
          0.007915478115394383,
          0.007915477190543157,
          0.007915477718365461,
          0.007915477654666664,
          0.00791547757129216,
          0.007915477534459198,
          0.007915477527849822,
          0.007915477255441103,
          0.007915478197484367
         ]
        },
        {
         "line": {
          "color": "rgba(219, 64, 82, 0.3303964757709253)",
          "dash": "solid",
          "shape": "linear",
          "width": 1.3
         },
         "mode": "lines",
         "name": "Tocotrienol, delta",
         "text": "",
         "type": "scatter",
         "x": [
          0.3659673552268968,
          0.5489510328403452,
          0.6587412394084142,
          0.7319347104537935,
          0.805128181499173,
          0.8783216525445522,
          0.9515151235899316,
          1.024708594635311,
          1.0979020656806904,
          1.463869420907587,
          2.927738841815174
         ],
         "y": [
          0,
          0,
          0,
          0,
          0,
          0,
          0,
          0,
          0,
          0,
          0
         ]
        },
        {
         "line": {
          "color": "rgba(0, 128, 128, 0.3303964757709253)",
          "dash": "solid",
          "shape": "linear",
          "width": 1.3
         },
         "mode": "lines",
         "name": "Tocotrienol, gamma",
         "text": "",
         "type": "scatter",
         "x": [
          0.3659673552268968,
          0.5489510328403452,
          0.6587412394084142,
          0.7319347104537935,
          0.805128181499173,
          0.8783216525445522,
          0.9515151235899316,
          1.024708594635311,
          1.0979020656806904,
          1.463869420907587,
          2.927738841815174
         ],
         "y": [
          0,
          0,
          0,
          0,
          0,
          0,
          0,
          0,
          0,
          0,
          0
         ]
        },
        {
         "line": {
          "color": "rgba(255, 255, 51, 0.3303964757709253)",
          "dash": "solid",
          "shape": "linear",
          "width": 1.3
         },
         "mode": "lines",
         "name": "Total dietary fiber (AOAC 2011.25)",
         "text": "",
         "type": "scatter",
         "x": [
          0.3659673552268968,
          0.5489510328403452,
          0.6587412394084142,
          0.7319347104537935,
          0.805128181499173,
          0.8783216525445522,
          0.9515151235899316,
          1.024708594635311,
          1.0979020656806904,
          1.463869420907587,
          2.927738841815174
         ],
         "y": [
          7.34415933230788,
          7.34415963737057,
          7.344159586317058,
          7.344156782870189,
          7.3441579752718855,
          7.344159362456948,
          7.344159324635836,
          7.3441593051530845,
          7.344159295788707,
          7.344159138492139,
          7.344159624129666
         ]
        },
        {
         "line": {
          "color": "rgba(128, 128, 0, 0.3303964757709253)",
          "dash": "solid",
          "shape": "linear",
          "width": 1.3
         },
         "mode": "lines",
         "name": "Total fat (NLEA)",
         "text": "",
         "type": "scatter",
         "x": [
          0.3659673552268968,
          0.5489510328403452,
          0.6587412394084142,
          0.7319347104537935,
          0.805128181499173,
          0.8783216525445522,
          0.9515151235899316,
          1.024708594635311,
          1.0979020656806904,
          1.463869420907587,
          2.927738841815174
         ],
         "y": [
          11.503027222073447,
          11.503027219716971,
          11.503027219979865,
          11.503027230086415,
          11.503027227046436,
          11.50302722020343,
          11.503027220362366,
          11.503027220477934,
          11.503027220579435,
          11.5030272221148,
          11.503027219766976
         ]
        },
        {
         "line": {
          "color": "rgba(251, 128, 114, 0.3303964757709253)",
          "dash": "solid",
          "shape": "linear",
          "width": 1.3
         },
         "mode": "lines",
         "name": "Total lipid (fat)",
         "text": "",
         "type": "scatter",
         "x": [
          0.3659673552268968,
          0.5489510328403452,
          0.6587412394084142,
          0.7319347104537935,
          0.805128181499173,
          0.8783216525445522,
          0.9515151235899316,
          1.024708594635311,
          1.0979020656806904,
          1.463869420907587,
          2.927738841815174
         ],
         "y": [
          108.68997334940701,
          108.68997353805078,
          108.68997347420984,
          108.68996988727847,
          108.68997146911413,
          108.68997311741053,
          108.68997306388472,
          108.6899730373873,
          108.68997302650342,
          108.68997285712027,
          108.68997352358711
         ]
        },
        {
         "line": {
          "color": "rgba(128, 177, 211, 0.3303964757709253)",
          "dash": "solid",
          "shape": "linear",
          "width": 1.3
         },
         "mode": "lines",
         "name": "Tryptophan",
         "text": "",
         "type": "scatter",
         "x": [
          0.3659673552268968,
          0.5489510328403452,
          0.6587412394084142,
          0.7319347104537935,
          0.805128181499173,
          0.8783216525445522,
          0.9515151235899316,
          1.024708594635311,
          1.0979020656806904,
          1.463869420907587,
          2.927738841815174
         ],
         "y": [
          1.1031694032315293,
          1.1031694029477728,
          1.1031694027773438,
          1.1031693988857099,
          1.1031694036255808,
          1.1031694025437708,
          1.1031694025732268,
          1.1031694025057737,
          1.1031694023359975,
          1.1031694016786497,
          1.1031694028970054
         ]
        },
        {
         "line": {
          "color": "rgba(255, 153, 51, 0.3303964757709253)",
          "dash": "solid",
          "shape": "linear",
          "width": 1.3
         },
         "mode": "lines",
         "name": "Tyrosine",
         "text": "",
         "type": "scatter",
         "x": [
          0.3659673552268968,
          0.5489510328403452,
          0.6587412394084142,
          0.7319347104537935,
          0.805128181499173,
          0.8783216525445522,
          0.9515151235899316,
          1.024708594635311,
          1.0979020656806904,
          1.463869420907587,
          2.927738841815174
         ],
         "y": [
          3.47808715864746,
          3.4780871581252497,
          3.478087157000506,
          3.4780871247812235,
          3.478087148565073,
          3.478087153497913,
          3.478087153078044,
          3.4780871526480075,
          3.4780871520851084,
          3.478087148010929,
          3.478087157899564
         ]
        },
        {
         "line": {
          "color": "rgba(255, 153, 51, 0.29515418502202656)",
          "dash": "solid",
          "shape": "linear",
          "width": 1.3
         },
         "mode": "lines",
         "name": "Valine",
         "text": "",
         "type": "scatter",
         "x": [
          0.3659673552268968,
          0.5489510328403452,
          0.6587412394084142,
          0.7319347104537935,
          0.805128181499173,
          0.8783216525445522,
          0.9515151235899316,
          1.024708594635311,
          1.0979020656806904,
          1.463869420907587,
          2.927738841815174
         ],
         "y": [
          4.825285164758307,
          4.825285161671691,
          4.825285161122607,
          4.82528514206584,
          4.825285164481114,
          4.82528516135247,
          4.825285161703236,
          4.825285161483488,
          4.825285160705678,
          4.8252851581059915,
          4.825285161510125
         ]
        },
        {
         "line": {
          "color": "rgba(55, 128, 191, 0.29515418502202656)",
          "dash": "solid",
          "shape": "linear",
          "width": 1.3
         },
         "mode": "lines",
         "name": "Verbascose",
         "text": "",
         "type": "scatter",
         "x": [
          0.3659673552268968,
          0.5489510328403452,
          0.6587412394084142,
          0.7319347104537935,
          0.805128181499173,
          0.8783216525445522,
          0.9515151235899316,
          1.024708594635311,
          1.0979020656806904,
          1.463869420907587,
          2.927738841815174
         ],
         "y": [
          0.16026456375958176,
          0.16026456372675044,
          0.16026456373041315,
          0.16026456387122148,
          0.16026456382886733,
          0.16026456373352796,
          0.1602645637357423,
          0.16026456373735246,
          0.16026456373876657,
          0.1602645637601579,
          0.1602645637274471
         ]
        },
        {
         "line": {
          "color": "rgba(50, 171, 96, 0.29515418502202656)",
          "dash": "solid",
          "shape": "linear",
          "width": 1.3
         },
         "mode": "lines",
         "name": "Vitamin A, IU",
         "text": "",
         "type": "scatter",
         "x": [
          0.3659673552268968,
          0.5489510328403452,
          0.6587412394084142,
          0.7319347104537935,
          0.805128181499173,
          0.8783216525445522,
          0.9515151235899316,
          1.024708594635311,
          1.0979020656806904,
          1.463869420907587,
          2.927738841815174
         ],
         "y": [
          6075.713385858085,
          6075.712238068573,
          6075.7124056366665,
          6075.726495486211,
          6075.720416279695,
          6075.713213993627,
          6075.713329676463,
          6075.71339969395,
          6075.713451687799,
          6075.713963479947,
          6075.712294520803
         ]
        },
        {
         "line": {
          "color": "rgba(128, 0, 128, 0.29515418502202656)",
          "dash": "solid",
          "shape": "linear",
          "width": 1.3
         },
         "mode": "lines",
         "name": "Vitamin A, RAE",
         "text": "",
         "type": "scatter",
         "x": [
          0.3659673552268968,
          0.5489510328403452,
          0.6587412394084142,
          0.7319347104537935,
          0.805128181499173,
          0.8783216525445522,
          0.9515151235899316,
          1.024708594635311,
          1.0979020656806904,
          1.463869420907587,
          2.927738841815174
         ],
         "y": [
          700.0000576851573,
          700.0000003409233,
          700.0000086927766,
          700.0007088906044,
          700.0004070258926,
          700.0000486706592,
          700.0000544027816,
          700.0000578678646,
          700.0000604371243,
          700.000085839818,
          700.0000031270265
         ]
        },
        {
         "line": {
          "color": "rgba(219, 64, 82, 0.29515418502202656)",
          "dash": "solid",
          "shape": "linear",
          "width": 1.3
         },
         "mode": "lines",
         "name": "Vitamin B-12",
         "text": "",
         "type": "scatter",
         "x": [
          0.3659673552268968,
          0.5489510328403452,
          0.6587412394084142,
          0.7319347104537935,
          0.805128181499173,
          0.8783216525445522,
          0.9515151235899316,
          1.024708594635311,
          1.0979020656806904,
          1.463869420907587,
          2.927738841815174
         ],
         "y": [
          2.4000000005292033,
          2.4000000000375468,
          2.4000000000923967,
          2.400000002201035,
          2.4000000015667715,
          2.4000000001390416,
          2.4000000001722017,
          2.4000000001963144,
          2.4000000002174913,
          2.4000000005378315,
          2.4000000000479793
         ]
        },
        {
         "line": {
          "color": "rgba(0, 128, 128, 0.29515418502202656)",
          "dash": "solid",
          "shape": "linear",
          "width": 1.3
         },
         "mode": "lines",
         "name": "Vitamin B-12, added",
         "text": "",
         "type": "scatter",
         "x": [
          0.3659673552268968,
          0.5489510328403452,
          0.6587412394084142,
          0.7319347104537935,
          0.805128181499173,
          0.8783216525445522,
          0.9515151235899316,
          1.024708594635311,
          1.0979020656806904,
          1.463869420907587,
          2.927738841815174
         ],
         "y": [
          0,
          0,
          0,
          0,
          0,
          0,
          0,
          0,
          0,
          0,
          0
         ]
        },
        {
         "line": {
          "color": "rgba(255, 255, 51, 0.29515418502202656)",
          "dash": "solid",
          "shape": "linear",
          "width": 1.3
         },
         "mode": "lines",
         "name": "Vitamin B-6",
         "text": "",
         "type": "scatter",
         "x": [
          0.3659673552268968,
          0.5489510328403452,
          0.6587412394084142,
          0.7319347104537935,
          0.805128181499173,
          0.8783216525445522,
          0.9515151235899316,
          1.024708594635311,
          1.0979020656806904,
          1.463869420907587,
          2.927738841815174
         ],
         "y": [
          1.824061999297051,
          1.8240620009709645,
          1.8240620002654566,
          1.8240619775471067,
          1.8240619865994945,
          1.8240619956638293,
          1.8240619949145913,
          1.8240619946239698,
          1.824061994650588,
          1.8240619934469153,
          1.824062000874958
         ]
        },
        {
         "line": {
          "color": "rgba(128, 128, 0, 0.29515418502202656)",
          "dash": "solid",
          "shape": "linear",
          "width": 1.3
         },
         "mode": "lines",
         "name": "Vitamin C, total ascorbic acid",
         "text": "",
         "type": "scatter",
         "x": [
          0.3659673552268968,
          0.5489510328403452,
          0.6587412394084142,
          0.7319347104537935,
          0.805128181499173,
          0.8783216525445522,
          0.9515151235899316,
          1.024708594635311,
          1.0979020656806904,
          1.463869420907587,
          2.927738841815174
         ],
         "y": [
          75.00000015415185,
          75.00000000629035,
          75.00000002028835,
          75.00000061919751,
          75.00000039512562,
          75.00000002622066,
          75.00000003155984,
          75.00000003564321,
          75.0000000396129,
          75.00000011208907,
          75.00000000886449
         ]
        },
        {
         "line": {
          "color": "rgba(251, 128, 114, 0.29515418502202656)",
          "dash": "solid",
          "shape": "linear",
          "width": 1.3
         },
         "mode": "lines",
         "name": "Vitamin D (D2 + D3)",
         "text": "",
         "type": "scatter",
         "x": [
          0.3659673552268968,
          0.5489510328403452,
          0.6587412394084142,
          0.7319347104537935,
          0.805128181499173,
          0.8783216525445522,
          0.9515151235899316,
          1.024708594635311,
          1.0979020656806904,
          1.463869420907587,
          2.927738841815174
         ],
         "y": [
          4.15772068267985,
          4.157720681825549,
          4.157720681920904,
          4.157720685586203,
          4.1577206844833325,
          4.1577206820018535,
          4.157720682059442,
          4.157720682101333,
          4.157720682138144,
          4.157720682695112,
          4.157720681843736
         ]
        },
        {
         "line": {
          "color": "rgba(128, 177, 211, 0.29515418502202656)",
          "dash": "solid",
          "shape": "linear",
          "width": 1.3
         },
         "mode": "lines",
         "name": "Vitamin D (D2 + D3), International Units",
         "text": "",
         "type": "scatter",
         "x": [
          0.3659673552268968,
          0.5489510328403452,
          0.6587412394084142,
          0.7319347104537935,
          0.805128181499173,
          0.8783216525445522,
          0.9515151235899316,
          1.024708594635311,
          1.0979020656806904,
          1.463869420907587,
          2.927738841815174
         ],
         "y": [
          166.06461463860796,
          166.06461460448597,
          166.06461460829456,
          166.06461475469197,
          166.06461471064168,
          166.0646146115278,
          166.06461461382798,
          166.06461461550117,
          166.0646146169714,
          166.06461463921755,
          166.0646146052124
         ]
        },
        {
         "line": {
          "color": "rgba(128, 177, 211, 0.25991189427312783)",
          "dash": "solid",
          "shape": "linear",
          "width": 1.3
         },
         "mode": "lines",
         "name": "Vitamin D2 (ergocalciferol)",
         "text": "",
         "type": "scatter",
         "x": [
          0.3659673552268968,
          0.5489510328403452,
          0.6587412394084142,
          0.7319347104537935,
          0.805128181499173,
          0.8783216525445522,
          0.9515151235899316,
          1.024708594635311,
          1.0979020656806904,
          1.463869420907587,
          2.927738841815174
         ],
         "y": [
          4.160162809365707,
          4.160162808510909,
          4.1601628086063185,
          4.160162812273747,
          4.1601628111702365,
          4.160162808687315,
          4.160162808744938,
          4.160162808786853,
          4.160162808823685,
          4.160162809380977,
          4.1601628085291065
         ]
        },
        {
         "line": {
          "color": "rgba(255, 153, 51, 0.25991189427312783)",
          "dash": "solid",
          "shape": "linear",
          "width": 1.3
         },
         "mode": "lines",
         "name": "Vitamin D3 (cholecalciferol)",
         "text": "",
         "type": "scatter",
         "x": [
          0.3659673552268968,
          0.5489510328403452,
          0.6587412394084142,
          0.7319347104537935,
          0.805128181499173,
          0.8783216525445522,
          0.9515151235899316,
          1.024708594635311,
          1.0979020656806904,
          1.463869420907587,
          2.927738841815174
         ],
         "y": [
          0,
          0,
          0,
          0,
          0,
          0,
          0,
          0,
          0,
          0,
          0
         ]
        },
        {
         "line": {
          "color": "rgba(55, 128, 191, 0.25991189427312783)",
          "dash": "solid",
          "shape": "linear",
          "width": 1.3
         },
         "mode": "lines",
         "name": "Vitamin D4",
         "text": "",
         "type": "scatter",
         "x": [
          0.3659673552268968,
          0.5489510328403452,
          0.6587412394084142,
          0.7319347104537935,
          0.805128181499173,
          0.8783216525445522,
          0.9515151235899316,
          1.024708594635311,
          1.0979020656806904,
          1.463869420907587,
          2.927738841815174
         ],
         "y": [
          0,
          0,
          0,
          0,
          0,
          0,
          0,
          0,
          0,
          0,
          0
         ]
        },
        {
         "line": {
          "color": "rgba(50, 171, 96, 0.25991189427312783)",
          "dash": "solid",
          "shape": "linear",
          "width": 1.3
         },
         "mode": "lines",
         "name": "Vitamin E (alpha-tocopherol)",
         "text": "",
         "type": "scatter",
         "x": [
          0.3659673552268968,
          0.5489510328403452,
          0.6587412394084142,
          0.7319347104537935,
          0.805128181499173,
          0.8783216525445522,
          0.9515151235899316,
          1.024708594635311,
          1.0979020656806904,
          1.463869420907587,
          2.927738841815174
         ],
         "y": [
          15.000000011555723,
          15.000000000213085,
          15.000000000608678,
          15.000000009114245,
          15.000000006619084,
          15.000000000727352,
          15.00000000090967,
          15.000000001055046,
          15.00000000120048,
          15.00000000284154,
          15.000000000477089
         ]
        },
        {
         "line": {
          "color": "rgba(128, 0, 128, 0.25991189427312783)",
          "dash": "solid",
          "shape": "linear",
          "width": 1.3
         },
         "mode": "lines",
         "name": "Vitamin E, added",
         "text": "",
         "type": "scatter",
         "x": [
          0.3659673552268968,
          0.5489510328403452,
          0.6587412394084142,
          0.7319347104537935,
          0.805128181499173,
          0.8783216525445522,
          0.9515151235899316,
          1.024708594635311,
          1.0979020656806904,
          1.463869420907587,
          2.927738841815174
         ],
         "y": [
          0,
          0,
          0,
          0,
          0,
          0,
          0,
          0,
          0,
          0,
          0
         ]
        },
        {
         "line": {
          "color": "rgba(219, 64, 82, 0.25991189427312783)",
          "dash": "solid",
          "shape": "linear",
          "width": 1.3
         },
         "mode": "lines",
         "name": "Vitamin K (Dihydrophylloquinone)",
         "text": "",
         "type": "scatter",
         "x": [
          0.3659673552268968,
          0.5489510328403452,
          0.6587412394084142,
          0.7319347104537935,
          0.805128181499173,
          0.8783216525445522,
          0.9515151235899316,
          1.024708594635311,
          1.0979020656806904,
          1.463869420907587,
          2.927738841815174
         ],
         "y": [
          0,
          0,
          0,
          0,
          0,
          0,
          0,
          0,
          0,
          0,
          0
         ]
        },
        {
         "line": {
          "color": "rgba(0, 128, 128, 0.25991189427312783)",
          "dash": "solid",
          "shape": "linear",
          "width": 1.3
         },
         "mode": "lines",
         "name": "Vitamin K (Menaquinone-4)",
         "text": "",
         "type": "scatter",
         "x": [
          0.3659673552268968,
          0.5489510328403452,
          0.6587412394084142,
          0.7319347104537935,
          0.805128181499173,
          0.8783216525445522,
          0.9515151235899316,
          1.024708594635311,
          1.0979020656806904,
          1.463869420907587,
          2.927738841815174
         ],
         "y": [
          8.273373718922614e-10,
          3.20154302051433e-11,
          1.2543228312256294e-10,
          3.954204457740616e-9,
          2.6322156846222795e-9,
          1.4280112124931377e-10,
          1.718718960291809e-10,
          1.9738899308203616e-10,
          2.264039259892039e-10,
          7.321505340142425e-10,
          7.082880237593226e-11
         ]
        },
        {
         "line": {
          "color": "rgba(255, 255, 51, 0.25991189427312783)",
          "dash": "solid",
          "shape": "linear",
          "width": 1.3
         },
         "mode": "lines",
         "name": "Vitamin K (phylloquinone)",
         "text": "",
         "type": "scatter",
         "x": [
          0.3659673552268968,
          0.5489510328403452,
          0.6587412394084142,
          0.7319347104537935,
          0.805128181499173,
          0.8783216525445522,
          0.9515151235899316,
          1.024708594635311,
          1.0979020656806904,
          1.463869420907587,
          2.927738841815174
         ],
         "y": [
          90.00000021725955,
          90.00000001692926,
          90.0000000455401,
          90.00000128157262,
          90.00000092138427,
          90.00000007498188,
          90.00000009281958,
          90.00000010578802,
          90.00000011699687,
          90.00000031512879,
          90.000000019939
         ]
        },
        {
         "line": {
          "color": "rgba(128, 128, 0, 0.25991189427312783)",
          "dash": "solid",
          "shape": "linear",
          "width": 1.3
         },
         "mode": "lines",
         "name": "Vitamins and Other Components",
         "text": "",
         "type": "scatter",
         "x": [
          0.3659673552268968,
          0.5489510328403452,
          0.6587412394084142,
          0.7319347104537935,
          0.805128181499173,
          0.8783216525445522,
          0.9515151235899316,
          1.024708594635311,
          1.0979020656806904,
          1.463869420907587,
          2.927738841815174
         ],
         "y": [
          0,
          0,
          0,
          0,
          0,
          0,
          0,
          0,
          0,
          0,
          0
         ]
        },
        {
         "line": {
          "color": "rgba(251, 128, 114, 0.25991189427312783)",
          "dash": "solid",
          "shape": "linear",
          "width": 1.3
         },
         "mode": "lines",
         "name": "Water",
         "text": "",
         "type": "scatter",
         "x": [
          0.3659673552268968,
          0.5489510328403452,
          0.6587412394084142,
          0.7319347104537935,
          0.805128181499173,
          0.8783216525445522,
          0.9515151235899316,
          1.024708594635311,
          1.0979020656806904,
          1.463869420907587,
          2.927738841815174
         ],
         "y": [
          1196.535841281426,
          1196.535840149944,
          1196.5358404999863,
          1196.5358619735541,
          1196.5358523843456,
          1196.5358423935133,
          1196.5358426644457,
          1196.535842811843,
          1196.5358428947711,
          1196.5358438210844,
          1196.5358402325567
         ]
        },
        {
         "line": {
          "color": "rgba(251, 128, 114, 0.2246696035242291)",
          "dash": "solid",
          "shape": "linear",
          "width": 1.3
         },
         "mode": "lines",
         "name": "Zeaxanthin",
         "text": "",
         "type": "scatter",
         "x": [
          0.3659673552268968,
          0.5489510328403452,
          0.6587412394084142,
          0.7319347104537935,
          0.805128181499173,
          0.8783216525445522,
          0.9515151235899316,
          1.024708594635311,
          1.0979020656806904,
          1.463869420907587,
          2.927738841815174
         ],
         "y": [
          44.31849431030437,
          44.31849402881547,
          44.318494074337124,
          44.31849538842238,
          44.3184947633733,
          44.318494069596326,
          44.318494071393374,
          44.31849407064213,
          44.318494069729184,
          44.318494109001016,
          44.31849402511898
         ]
        },
        {
         "line": {
          "color": "rgba(128, 177, 211, 0.2246696035242291)",
          "dash": "solid",
          "shape": "linear",
          "width": 1.3
         },
         "mode": "lines",
         "name": "Zinc, Zn",
         "text": "",
         "type": "scatter",
         "x": [
          0.3659673552268968,
          0.5489510328403452,
          0.6587412394084142,
          0.7319347104537935,
          0.805128181499173,
          0.8783216525445522,
          0.9515151235899316,
          1.024708594635311,
          1.0979020656806904,
          1.463869420907587,
          2.927738841815174
         ],
         "y": [
          10.967730689186768,
          10.967730671529877,
          10.9677306702413,
          10.967730664783442,
          10.967730696092945,
          10.967730660951549,
          10.967730660385344,
          10.967730659680026,
          10.967730658663816,
          10.967730657572973,
          10.967730671496904
         ]
        },
        {
         "line": {
          "color": "rgba(255, 153, 51, 0.2246696035242291)",
          "dash": "solid",
          "shape": "linear",
          "width": 1.3
         },
         "mode": "lines",
         "name": "cis-Lutein/Zeaxanthin",
         "text": "",
         "type": "scatter",
         "x": [
          0.3659673552268968,
          0.5489510328403452,
          0.6587412394084142,
          0.7319347104537935,
          0.805128181499173,
          0.8783216525445522,
          0.9515151235899316,
          1.024708594635311,
          1.0979020656806904,
          1.463869420907587,
          2.927738841815174
         ],
         "y": [
          5.894683287995283,
          5.894683286787716,
          5.894683286922434,
          5.894683292101499,
          5.894683290543672,
          5.894683287037,
          5.894683287118446,
          5.894683287177669,
          5.8946832872296815,
          5.894683288016474,
          5.89468328681334
         ]
        },
        {
         "line": {
          "color": "rgba(55, 128, 191, 0.2246696035242291)",
          "dash": "solid",
          "shape": "linear",
          "width": 1.3
         },
         "mode": "lines",
         "name": "cis-Lycopene",
         "text": "",
         "type": "scatter",
         "x": [
          0.3659673552268968,
          0.5489510328403452,
          0.6587412394084142,
          0.7319347104537935,
          0.805128181499173,
          0.8783216525445522,
          0.9515151235899316,
          1.024708594635311,
          1.0979020656806904,
          1.463869420907587,
          2.927738841815174
         ],
         "y": [
          0,
          0,
          0,
          0,
          0,
          0,
          0,
          0,
          0,
          0,
          0
         ]
        },
        {
         "line": {
          "color": "rgba(50, 171, 96, 0.2246696035242291)",
          "dash": "solid",
          "shape": "linear",
          "width": 1.3
         },
         "mode": "lines",
         "name": "cis-beta-Carotene",
         "text": "",
         "type": "scatter",
         "x": [
          0.3659673552268968,
          0.5489510328403452,
          0.6587412394084142,
          0.7319347104537935,
          0.805128181499173,
          0.8783216525445522,
          0.9515151235899316,
          1.024708594635311,
          1.0979020656806904,
          1.463869420907587,
          2.927738841815174
         ],
         "y": [
          1.5896448754449395,
          1.5896449430778736,
          1.5896449318214716,
          1.5896443175259862,
          1.5896445782908109,
          1.5896448833235828,
          1.5896448750688663,
          1.5896448707941437,
          1.5896448687046962,
          1.5896448335974835,
          1.5896449401441475
         ]
        },
        {
         "line": {
          "color": "rgba(128, 0, 128, 0.2246696035242291)",
          "dash": "solid",
          "shape": "linear",
          "width": 1.3
         },
         "mode": "lines",
         "name": "trans-Lycopene",
         "text": "",
         "type": "scatter",
         "x": [
          0.3659673552268968,
          0.5489510328403452,
          0.6587412394084142,
          0.7319347104537935,
          0.805128181499173,
          0.8783216525445522,
          0.9515151235899316,
          1.024708594635311,
          1.0979020656806904,
          1.463869420907587,
          2.927738841815174
         ],
         "y": [
          0,
          0,
          0,
          0,
          0,
          0,
          0,
          0,
          0,
          0,
          0
         ]
        },
        {
         "line": {
          "color": "rgba(219, 64, 82, 0.2246696035242291)",
          "dash": "solid",
          "shape": "linear",
          "width": 1.3
         },
         "mode": "lines",
         "name": "trans-beta-Carotene",
         "text": "",
         "type": "scatter",
         "x": [
          0.3659673552268968,
          0.5489510328403452,
          0.6587412394084142,
          0.7319347104537935,
          0.805128181499173,
          0.8783216525445522,
          0.9515151235899316,
          1.024708594635311,
          1.0979020656806904,
          1.463869420907587,
          2.927738841815174
         ],
         "y": [
          11.127514128114576,
          11.127514601545116,
          11.127514522750301,
          11.127510222681904,
          11.127512048035676,
          11.12751418326508,
          11.127514125482064,
          11.127514095559006,
          11.127514080932874,
          11.127513835182384,
          11.127514581009033
         ]
        }
       ],
       "layout": {
        "autosize": true,
        "legend": {
         "bgcolor": "#F5F6F9",
         "font": {
          "color": "#4D5663"
         }
        },
        "paper_bgcolor": "#F5F6F9",
        "plot_bgcolor": "#F5F6F9",
        "template": {
         "data": {
          "bar": [
           {
            "error_x": {
             "color": "#2a3f5f"
            },
            "error_y": {
             "color": "#2a3f5f"
            },
            "marker": {
             "line": {
              "color": "#E5ECF6",
              "width": 0.5
             },
             "pattern": {
              "fillmode": "overlay",
              "size": 10,
              "solidity": 0.2
             }
            },
            "type": "bar"
           }
          ],
          "barpolar": [
           {
            "marker": {
             "line": {
              "color": "#E5ECF6",
              "width": 0.5
             },
             "pattern": {
              "fillmode": "overlay",
              "size": 10,
              "solidity": 0.2
             }
            },
            "type": "barpolar"
           }
          ],
          "carpet": [
           {
            "aaxis": {
             "endlinecolor": "#2a3f5f",
             "gridcolor": "white",
             "linecolor": "white",
             "minorgridcolor": "white",
             "startlinecolor": "#2a3f5f"
            },
            "baxis": {
             "endlinecolor": "#2a3f5f",
             "gridcolor": "white",
             "linecolor": "white",
             "minorgridcolor": "white",
             "startlinecolor": "#2a3f5f"
            },
            "type": "carpet"
           }
          ],
          "choropleth": [
           {
            "colorbar": {
             "outlinewidth": 0,
             "ticks": ""
            },
            "type": "choropleth"
           }
          ],
          "contour": [
           {
            "colorbar": {
             "outlinewidth": 0,
             "ticks": ""
            },
            "colorscale": [
             [
              0,
              "#0d0887"
             ],
             [
              0.1111111111111111,
              "#46039f"
             ],
             [
              0.2222222222222222,
              "#7201a8"
             ],
             [
              0.3333333333333333,
              "#9c179e"
             ],
             [
              0.4444444444444444,
              "#bd3786"
             ],
             [
              0.5555555555555556,
              "#d8576b"
             ],
             [
              0.6666666666666666,
              "#ed7953"
             ],
             [
              0.7777777777777778,
              "#fb9f3a"
             ],
             [
              0.8888888888888888,
              "#fdca26"
             ],
             [
              1,
              "#f0f921"
             ]
            ],
            "type": "contour"
           }
          ],
          "contourcarpet": [
           {
            "colorbar": {
             "outlinewidth": 0,
             "ticks": ""
            },
            "type": "contourcarpet"
           }
          ],
          "heatmap": [
           {
            "colorbar": {
             "outlinewidth": 0,
             "ticks": ""
            },
            "colorscale": [
             [
              0,
              "#0d0887"
             ],
             [
              0.1111111111111111,
              "#46039f"
             ],
             [
              0.2222222222222222,
              "#7201a8"
             ],
             [
              0.3333333333333333,
              "#9c179e"
             ],
             [
              0.4444444444444444,
              "#bd3786"
             ],
             [
              0.5555555555555556,
              "#d8576b"
             ],
             [
              0.6666666666666666,
              "#ed7953"
             ],
             [
              0.7777777777777778,
              "#fb9f3a"
             ],
             [
              0.8888888888888888,
              "#fdca26"
             ],
             [
              1,
              "#f0f921"
             ]
            ],
            "type": "heatmap"
           }
          ],
          "heatmapgl": [
           {
            "colorbar": {
             "outlinewidth": 0,
             "ticks": ""
            },
            "colorscale": [
             [
              0,
              "#0d0887"
             ],
             [
              0.1111111111111111,
              "#46039f"
             ],
             [
              0.2222222222222222,
              "#7201a8"
             ],
             [
              0.3333333333333333,
              "#9c179e"
             ],
             [
              0.4444444444444444,
              "#bd3786"
             ],
             [
              0.5555555555555556,
              "#d8576b"
             ],
             [
              0.6666666666666666,
              "#ed7953"
             ],
             [
              0.7777777777777778,
              "#fb9f3a"
             ],
             [
              0.8888888888888888,
              "#fdca26"
             ],
             [
              1,
              "#f0f921"
             ]
            ],
            "type": "heatmapgl"
           }
          ],
          "histogram": [
           {
            "marker": {
             "pattern": {
              "fillmode": "overlay",
              "size": 10,
              "solidity": 0.2
             }
            },
            "type": "histogram"
           }
          ],
          "histogram2d": [
           {
            "colorbar": {
             "outlinewidth": 0,
             "ticks": ""
            },
            "colorscale": [
             [
              0,
              "#0d0887"
             ],
             [
              0.1111111111111111,
              "#46039f"
             ],
             [
              0.2222222222222222,
              "#7201a8"
             ],
             [
              0.3333333333333333,
              "#9c179e"
             ],
             [
              0.4444444444444444,
              "#bd3786"
             ],
             [
              0.5555555555555556,
              "#d8576b"
             ],
             [
              0.6666666666666666,
              "#ed7953"
             ],
             [
              0.7777777777777778,
              "#fb9f3a"
             ],
             [
              0.8888888888888888,
              "#fdca26"
             ],
             [
              1,
              "#f0f921"
             ]
            ],
            "type": "histogram2d"
           }
          ],
          "histogram2dcontour": [
           {
            "colorbar": {
             "outlinewidth": 0,
             "ticks": ""
            },
            "colorscale": [
             [
              0,
              "#0d0887"
             ],
             [
              0.1111111111111111,
              "#46039f"
             ],
             [
              0.2222222222222222,
              "#7201a8"
             ],
             [
              0.3333333333333333,
              "#9c179e"
             ],
             [
              0.4444444444444444,
              "#bd3786"
             ],
             [
              0.5555555555555556,
              "#d8576b"
             ],
             [
              0.6666666666666666,
              "#ed7953"
             ],
             [
              0.7777777777777778,
              "#fb9f3a"
             ],
             [
              0.8888888888888888,
              "#fdca26"
             ],
             [
              1,
              "#f0f921"
             ]
            ],
            "type": "histogram2dcontour"
           }
          ],
          "mesh3d": [
           {
            "colorbar": {
             "outlinewidth": 0,
             "ticks": ""
            },
            "type": "mesh3d"
           }
          ],
          "parcoords": [
           {
            "line": {
             "colorbar": {
              "outlinewidth": 0,
              "ticks": ""
             }
            },
            "type": "parcoords"
           }
          ],
          "pie": [
           {
            "automargin": true,
            "type": "pie"
           }
          ],
          "scatter": [
           {
            "marker": {
             "colorbar": {
              "outlinewidth": 0,
              "ticks": ""
             }
            },
            "type": "scatter"
           }
          ],
          "scatter3d": [
           {
            "line": {
             "colorbar": {
              "outlinewidth": 0,
              "ticks": ""
             }
            },
            "marker": {
             "colorbar": {
              "outlinewidth": 0,
              "ticks": ""
             }
            },
            "type": "scatter3d"
           }
          ],
          "scattercarpet": [
           {
            "marker": {
             "colorbar": {
              "outlinewidth": 0,
              "ticks": ""
             }
            },
            "type": "scattercarpet"
           }
          ],
          "scattergeo": [
           {
            "marker": {
             "colorbar": {
              "outlinewidth": 0,
              "ticks": ""
             }
            },
            "type": "scattergeo"
           }
          ],
          "scattergl": [
           {
            "marker": {
             "colorbar": {
              "outlinewidth": 0,
              "ticks": ""
             }
            },
            "type": "scattergl"
           }
          ],
          "scattermapbox": [
           {
            "marker": {
             "colorbar": {
              "outlinewidth": 0,
              "ticks": ""
             }
            },
            "type": "scattermapbox"
           }
          ],
          "scatterpolar": [
           {
            "marker": {
             "colorbar": {
              "outlinewidth": 0,
              "ticks": ""
             }
            },
            "type": "scatterpolar"
           }
          ],
          "scatterpolargl": [
           {
            "marker": {
             "colorbar": {
              "outlinewidth": 0,
              "ticks": ""
             }
            },
            "type": "scatterpolargl"
           }
          ],
          "scatterternary": [
           {
            "marker": {
             "colorbar": {
              "outlinewidth": 0,
              "ticks": ""
             }
            },
            "type": "scatterternary"
           }
          ],
          "surface": [
           {
            "colorbar": {
             "outlinewidth": 0,
             "ticks": ""
            },
            "colorscale": [
             [
              0,
              "#0d0887"
             ],
             [
              0.1111111111111111,
              "#46039f"
             ],
             [
              0.2222222222222222,
              "#7201a8"
             ],
             [
              0.3333333333333333,
              "#9c179e"
             ],
             [
              0.4444444444444444,
              "#bd3786"
             ],
             [
              0.5555555555555556,
              "#d8576b"
             ],
             [
              0.6666666666666666,
              "#ed7953"
             ],
             [
              0.7777777777777778,
              "#fb9f3a"
             ],
             [
              0.8888888888888888,
              "#fdca26"
             ],
             [
              1,
              "#f0f921"
             ]
            ],
            "type": "surface"
           }
          ],
          "table": [
           {
            "cells": {
             "fill": {
              "color": "#EBF0F8"
             },
             "line": {
              "color": "white"
             }
            },
            "header": {
             "fill": {
              "color": "#C8D4E3"
             },
             "line": {
              "color": "white"
             }
            },
            "type": "table"
           }
          ]
         },
         "layout": {
          "annotationdefaults": {
           "arrowcolor": "#2a3f5f",
           "arrowhead": 0,
           "arrowwidth": 1
          },
          "autotypenumbers": "strict",
          "coloraxis": {
           "colorbar": {
            "outlinewidth": 0,
            "ticks": ""
           }
          },
          "colorscale": {
           "diverging": [
            [
             0,
             "#8e0152"
            ],
            [
             0.1,
             "#c51b7d"
            ],
            [
             0.2,
             "#de77ae"
            ],
            [
             0.3,
             "#f1b6da"
            ],
            [
             0.4,
             "#fde0ef"
            ],
            [
             0.5,
             "#f7f7f7"
            ],
            [
             0.6,
             "#e6f5d0"
            ],
            [
             0.7,
             "#b8e186"
            ],
            [
             0.8,
             "#7fbc41"
            ],
            [
             0.9,
             "#4d9221"
            ],
            [
             1,
             "#276419"
            ]
           ],
           "sequential": [
            [
             0,
             "#0d0887"
            ],
            [
             0.1111111111111111,
             "#46039f"
            ],
            [
             0.2222222222222222,
             "#7201a8"
            ],
            [
             0.3333333333333333,
             "#9c179e"
            ],
            [
             0.4444444444444444,
             "#bd3786"
            ],
            [
             0.5555555555555556,
             "#d8576b"
            ],
            [
             0.6666666666666666,
             "#ed7953"
            ],
            [
             0.7777777777777778,
             "#fb9f3a"
            ],
            [
             0.8888888888888888,
             "#fdca26"
            ],
            [
             1,
             "#f0f921"
            ]
           ],
           "sequentialminus": [
            [
             0,
             "#0d0887"
            ],
            [
             0.1111111111111111,
             "#46039f"
            ],
            [
             0.2222222222222222,
             "#7201a8"
            ],
            [
             0.3333333333333333,
             "#9c179e"
            ],
            [
             0.4444444444444444,
             "#bd3786"
            ],
            [
             0.5555555555555556,
             "#d8576b"
            ],
            [
             0.6666666666666666,
             "#ed7953"
            ],
            [
             0.7777777777777778,
             "#fb9f3a"
            ],
            [
             0.8888888888888888,
             "#fdca26"
            ],
            [
             1,
             "#f0f921"
            ]
           ]
          },
          "colorway": [
           "#636efa",
           "#EF553B",
           "#00cc96",
           "#ab63fa",
           "#FFA15A",
           "#19d3f3",
           "#FF6692",
           "#B6E880",
           "#FF97FF",
           "#FECB52"
          ],
          "font": {
           "color": "#2a3f5f"
          },
          "geo": {
           "bgcolor": "white",
           "lakecolor": "white",
           "landcolor": "#E5ECF6",
           "showlakes": true,
           "showland": true,
           "subunitcolor": "white"
          },
          "hoverlabel": {
           "align": "left"
          },
          "hovermode": "closest",
          "mapbox": {
           "style": "light"
          },
          "paper_bgcolor": "white",
          "plot_bgcolor": "#E5ECF6",
          "polar": {
           "angularaxis": {
            "gridcolor": "white",
            "linecolor": "white",
            "ticks": ""
           },
           "bgcolor": "#E5ECF6",
           "radialaxis": {
            "gridcolor": "white",
            "linecolor": "white",
            "ticks": ""
           }
          },
          "scene": {
           "xaxis": {
            "backgroundcolor": "#E5ECF6",
            "gridcolor": "white",
            "gridwidth": 2,
            "linecolor": "white",
            "showbackground": true,
            "ticks": "",
            "zerolinecolor": "white"
           },
           "yaxis": {
            "backgroundcolor": "#E5ECF6",
            "gridcolor": "white",
            "gridwidth": 2,
            "linecolor": "white",
            "showbackground": true,
            "ticks": "",
            "zerolinecolor": "white"
           },
           "zaxis": {
            "backgroundcolor": "#E5ECF6",
            "gridcolor": "white",
            "gridwidth": 2,
            "linecolor": "white",
            "showbackground": true,
            "ticks": "",
            "zerolinecolor": "white"
           }
          },
          "shapedefaults": {
           "line": {
            "color": "#2a3f5f"
           }
          },
          "ternary": {
           "aaxis": {
            "gridcolor": "white",
            "linecolor": "white",
            "ticks": ""
           },
           "baxis": {
            "gridcolor": "white",
            "linecolor": "white",
            "ticks": ""
           },
           "bgcolor": "#E5ECF6",
           "caxis": {
            "gridcolor": "white",
            "linecolor": "white",
            "ticks": ""
           }
          },
          "title": {
           "x": 0.05
          },
          "xaxis": {
           "automargin": true,
           "gridcolor": "white",
           "linecolor": "white",
           "ticks": "",
           "title": {
            "standoff": 15
           },
           "zerolinecolor": "white",
           "zerolinewidth": 2
          },
          "yaxis": {
           "automargin": true,
           "gridcolor": "white",
           "linecolor": "white",
           "ticks": "",
           "title": {
            "standoff": 15
           },
           "zerolinecolor": "white",
           "zerolinewidth": 2
          }
         }
        },
        "title": {
         "font": {
          "color": "#4D5663"
         }
        },
        "xaxis": {
         "autorange": true,
         "gridcolor": "#E1E5ED",
         "range": [
          0.3659673552268968,
          2.927738841815174
         ],
         "showgrid": true,
         "tickfont": {
          "color": "#4D5663"
         },
         "title": {
          "font": {
           "color": "#4D5663"
          },
          "text": "Spinach Price"
         },
         "type": "linear",
         "zerolinecolor": "#E1E5ED"
        },
        "yaxis": {
         "autorange": true,
         "gridcolor": "#E1E5ED",
         "range": [
          -337.54036086034506,
          6413.266856346556
         ],
         "showgrid": true,
         "tickfont": {
          "color": "#4D5663"
         },
         "title": {
          "font": {
           "color": "#4D5663"
          },
          "text": "Nutrients"
         },
         "type": "linear",
         "zerolinecolor": "#E1E5ED"
        }
       }
      },
      "image/png": "[encoded data removed]",
      "text/html": [
       "<div>                            <div id=\"3bb9f9a0-0966-48cc-aed2-55a63bc8860f\" class=\"plotly-graph-div\" style=\"height:525px; width:100%;\"></div>            <script type=\"text/javascript\">                require([\"plotly\"], function(Plotly) {                    window.PLOTLYENV=window.PLOTLYENV || {};\n",
       "                    window.PLOTLYENV.BASE_URL='https://plot.ly';                                    if (document.getElementById(\"3bb9f9a0-0966-48cc-aed2-55a63bc8860f\")) {                    Plotly.newPlot(                        \"3bb9f9a0-0966-48cc-aed2-55a63bc8860f\",                        [{\"line\":{\"color\":\"rgba(255, 153, 51, 1.0)\",\"dash\":\"solid\",\"shape\":\"linear\",\"width\":1.3},\"mode\":\"lines\",\"name\":\" Ergosta-5,7-dienol\",\"text\":\"\",\"type\":\"scatter\",\"x\":[0.3659673552268968,0.5489510328403452,0.6587412394084142,0.7319347104537935,0.805128181499173,0.8783216525445522,0.9515151235899316,1.024708594635311,1.0979020656806904,1.463869420907587,2.927738841815174],\"y\":[7.268433319235653e-10,3.706099170535872e-11,1.267780303083747e-10,3.445356696039069e-09,2.3463003908560822e-09,1.6500378076744459e-10,2.0348510510329332e-10,2.355209316998891e-10,2.6869032421478917e-10,8.116601053234486e-10,6.768829724535438e-11]},{\"line\":{\"color\":\"rgba(55, 128, 191, 1.0)\",\"dash\":\"solid\",\"shape\":\"linear\",\"width\":1.3},\"mode\":\"lines\",\"name\":\" Ergosta-7,22-dienol\",\"text\":\"\",\"type\":\"scatter\",\"x\":[0.3659673552268968,0.5489510328403452,0.6587412394084142,0.7319347104537935,0.805128181499173,0.8783216525445522,0.9515151235899316,1.024708594635311,1.0979020656806904,1.463869420907587,2.927738841815174],\"y\":[1.9200809127855866e-10,9.790294504599983e-12,3.34905839352546e-11,9.101498685136592e-10,6.198153574886037e-10,4.35885693758204e-11,5.3754069024889844e-11,6.221688026244288e-11,7.09791423152576e-11,2.1441389188736195e-10,1.7881020826841602e-11]},{\"line\":{\"color\":\"rgba(50, 171, 96, 1.0)\",\"dash\":\"solid\",\"shape\":\"linear\",\"width\":1.3},\"mode\":\"lines\",\"name\":\"Alanine\",\"text\":\"\",\"type\":\"scatter\",\"x\":[0.3659673552268968,0.5489510328403452,0.6587412394084142,0.7319347104537935,0.805128181499173,0.8783216525445522,0.9515151235899316,1.024708594635311,1.0979020656806904,1.463869420907587,2.927738841815174],\"y\":[4.499851184052061,4.499851177767586,4.499851177598894,4.499851196872199,4.49985120108803,4.499851179021323,4.499851179477789,4.499851179415705,4.499851178889644,4.4998511776306245,4.499851177783703]},{\"line\":{\"color\":\"rgba(128, 0, 128, 1.0)\",\"dash\":\"solid\",\"shape\":\"linear\",\"width\":1.3},\"mode\":\"lines\",\"name\":\"Alcohol, ethyl\",\"text\":\"\",\"type\":\"scatter\",\"x\":[0.3659673552268968,0.5489510328403452,0.6587412394084142,0.7319347104537935,0.805128181499173,0.8783216525445522,0.9515151235899316,1.024708594635311,1.0979020656806904,1.463869420907587,2.927738841815174],\"y\":[0.0,0.0,0.0,0.0,0.0,0.0,0.0,0.0,0.0,0.0,0.0]},{\"line\":{\"color\":\"rgba(219, 64, 82, 1.0)\",\"dash\":\"solid\",\"shape\":\"linear\",\"width\":1.3},\"mode\":\"lines\",\"name\":\"Amino acids\",\"text\":\"\",\"type\":\"scatter\",\"x\":[0.3659673552268968,0.5489510328403452,0.6587412394084142,0.7319347104537935,0.805128181499173,0.8783216525445522,0.9515151235899316,1.024708594635311,1.0979020656806904,1.463869420907587,2.927738841815174],\"y\":[0.0,0.0,0.0,0.0,0.0,0.0,0.0,0.0,0.0,0.0,0.0]},{\"line\":{\"color\":\"rgba(0, 128, 128, 1.0)\",\"dash\":\"solid\",\"shape\":\"linear\",\"width\":1.3},\"mode\":\"lines\",\"name\":\"Arginine\",\"text\":\"\",\"type\":\"scatter\",\"x\":[0.3659673552268968,0.5489510328403452,0.6587412394084142,0.7319347104537935,0.805128181499173,0.8783216525445522,0.9515151235899316,1.024708594635311,1.0979020656806904,1.463869420907587,2.927738841815174],\"y\":[9.450228902255464,9.450228899874574,9.450228896451227,9.450228779241465,9.45022885850396,9.450228885344092,9.450228884008748,9.450228882685888,9.450228880988167,9.45022886845673,9.450228899190414]},{\"line\":{\"color\":\"rgba(255, 255, 51, 1.0)\",\"dash\":\"solid\",\"shape\":\"linear\",\"width\":1.3},\"mode\":\"lines\",\"name\":\"Ash\",\"text\":\"\",\"type\":\"scatter\",\"x\":[0.3659673552268968,0.5489510328403452,0.6587412394084142,0.7319347104537935,0.805128181499173,0.8783216525445522,0.9515151235899316,1.024708594635311,1.0979020656806904,1.463869420907587,2.927738841815174],\"y\":[19.326688153531766,19.326688152427323,19.32668815134086,19.326688181926954,19.326688186512666,19.326688148580597,19.3266881481752,19.326688147690128,19.326688147003004,19.32668814266839,19.3266881523261]},{\"line\":{\"color\":\"rgba(128, 128, 0, 1.0)\",\"dash\":\"solid\",\"shape\":\"linear\",\"width\":1.3},\"mode\":\"lines\",\"name\":\"Aspartic acid\",\"text\":\"\",\"type\":\"scatter\",\"x\":[0.3659673552268968,0.5489510328403452,0.6587412394084142,0.7319347104537935,0.805128181499173,0.8783216525445522,0.9515151235899316,1.024708594635311,1.0979020656806904,1.463869420907587,2.927738841815174],\"y\":[12.763268867356107,12.763268859868873,12.76326885809752,12.763268766433056,12.763268839816773,12.763268857647708,12.763268858247141,12.763268857576637,12.76326885559553,12.763268846666849,12.763268859398192]},{\"line\":{\"color\":\"rgba(251, 128, 114, 1.0)\",\"dash\":\"solid\",\"shape\":\"linear\",\"width\":1.3},\"mode\":\"lines\",\"name\":\"Beta-glucan\",\"text\":\"\",\"type\":\"scatter\",\"x\":[0.3659673552268968,0.5489510328403452,0.6587412394084142,0.7319347104537935,0.805128181499173,0.8783216525445522,0.9515151235899316,1.024708594635311,1.0979020656806904,1.463869420907587,2.927738841815174],\"y\":[2.50244549212505e-09,1.1270234700269888e-10,4.1916249770201905e-10,1.120856679774549e-08,7.3530983943444285e-09,4.738679652834524e-10,5.746904775711321e-10,6.605259062851539e-10,7.542573465917238e-10,2.322967784201841e-09,2.207214039017581e-10]},{\"line\":{\"color\":\"rgba(128, 177, 211, 1.0)\",\"dash\":\"solid\",\"shape\":\"linear\",\"width\":1.3},\"mode\":\"lines\",\"name\":\"Beta-sitostanol\",\"text\":\"\",\"type\":\"scatter\",\"x\":[0.3659673552268968,0.5489510328403452,0.6587412394084142,0.7319347104537935,0.805128181499173,0.8783216525445522,0.9515151235899316,1.024708594635311,1.0979020656806904,1.463869420907587,2.927738841815174],\"y\":[0.0,0.0,0.0,0.0,0.0,0.0,0.0,0.0,0.0,0.0,0.0]},{\"line\":{\"color\":\"rgba(128, 177, 211, 0.9647577092511013)\",\"dash\":\"solid\",\"shape\":\"linear\",\"width\":1.3},\"mode\":\"lines\",\"name\":\"Beta-sitosterol\",\"text\":\"\",\"type\":\"scatter\",\"x\":[0.3659673552268968,0.5489510328403452,0.6587412394084142,0.7319347104537935,0.805128181499173,0.8783216525445522,0.9515151235899316,1.024708594635311,1.0979020656806904,1.463869420907587,2.927738841815174],\"y\":[23.143257936570627,23.143257595422423,23.143257728264828,23.143256659464377,23.1432557101313,23.143257726851466,23.143257742203065,23.14325778242906,23.14325785580343,23.143258567950294,23.143257626383125]},{\"line\":{\"color\":\"rgba(255, 153, 51, 0.9647577092511013)\",\"dash\":\"solid\",\"shape\":\"linear\",\"width\":1.3},\"mode\":\"lines\",\"name\":\"Betaine\",\"text\":\"\",\"type\":\"scatter\",\"x\":[0.3659673552268968,0.5489510328403452,0.6587412394084142,0.7319347104537935,0.805128181499173,0.8783216525445522,0.9515151235899316,1.024708594635311,1.0979020656806904,1.463869420907587,2.927738841815174],\"y\":[7.544309765442582,7.544309628549579,7.54430959738824,7.5443108232310125,7.5443105586297845,7.5443092014738085,7.544309143243606,7.544309125882726,7.544309138773335,7.544309188145753,7.544309638566317]},{\"line\":{\"color\":\"rgba(55, 128, 191, 0.9647577092511013)\",\"dash\":\"solid\",\"shape\":\"linear\",\"width\":1.3},\"mode\":\"lines\",\"name\":\"Biotin\",\"text\":\"\",\"type\":\"scatter\",\"x\":[0.3659673552268968,0.5489510328403452,0.6587412394084142,0.7319347104537935,0.805128181499173,0.8783216525445522,0.9515151235899316,1.024708594635311,1.0979020656806904,1.463869420907587,2.927738841815174],\"y\":[176.07169725550156,176.07169757044144,176.071697435944,176.0716917533399,176.07169471560283,176.07169692787087,176.07169684987787,176.07169679876463,176.0716967558872,176.07169627680932,176.07169753888354]},{\"line\":{\"color\":\"rgba(50, 171, 96, 0.9647577092511013)\",\"dash\":\"solid\",\"shape\":\"linear\",\"width\":1.3},\"mode\":\"lines\",\"name\":\"Caffeine\",\"text\":\"\",\"type\":\"scatter\",\"x\":[0.3659673552268968,0.5489510328403452,0.6587412394084142,0.7319347104537935,0.805128181499173,0.8783216525445522,0.9515151235899316,1.024708594635311,1.0979020656806904,1.463869420907587,2.927738841815174],\"y\":[0.0,0.0,0.0,0.0,0.0,0.0,0.0,0.0,0.0,0.0,0.0]},{\"line\":{\"color\":\"rgba(128, 0, 128, 0.9647577092511013)\",\"dash\":\"solid\",\"shape\":\"linear\",\"width\":1.3},\"mode\":\"lines\",\"name\":\"Calcium, Ca\",\"text\":\"\",\"type\":\"scatter\",\"x\":[0.3659673552268968,0.5489510328403452,0.6587412394084142,0.7319347104537935,0.805128181499173,0.8783216525445522,0.9515151235899316,1.024708594635311,1.0979020656806904,1.463869420907587,2.927738841815174],\"y\":[1000.0000009211146,1000.0000000087214,1000.0000000026065,1000.0000136005189,1000.0000092748642,1000.0000000065636,1000.0000000072644,1000.0000000077368,1000.000000008199,1000.000000017481,1000.0000000277655]},{\"line\":{\"color\":\"rgba(219, 64, 82, 0.9647577092511013)\",\"dash\":\"solid\",\"shape\":\"linear\",\"width\":1.3},\"mode\":\"lines\",\"name\":\"Campesterol\",\"text\":\"\",\"type\":\"scatter\",\"x\":[0.3659673552268968,0.5489510328403452,0.6587412394084142,0.7319347104537935,0.805128181499173,0.8783216525445522,0.9515151235899316,1.024708594635311,1.0979020656806904,1.463869420907587,2.927738841815174],\"y\":[1.5225827755945822,1.5225827366847358,1.5225827459319026,1.5225827390914999,1.5225826557540751,1.5225827466060953,1.5225827479625034,1.5225827507981406,1.5225827557444982,1.5225828060402593,1.5225827390963826]},{\"line\":{\"color\":\"rgba(0, 128, 128, 0.9647577092511013)\",\"dash\":\"solid\",\"shape\":\"linear\",\"width\":1.3},\"mode\":\"lines\",\"name\":\"Carbohydrate, by difference\",\"text\":\"\",\"type\":\"scatter\",\"x\":[0.3659673552268968,0.5489510328403452,0.6587412394084142,0.7319347104537935,0.805128181499173,0.8783216525445522,0.9515151235899316,1.024708594635311,1.0979020656806904,1.463869420907587,2.927738841815174],\"y\":[192.36932293838657,192.36932355872375,192.3693233784798,192.36931966898084,192.3693219648499,192.36932252222707,192.36932239229697,192.36932232052425,192.3693222793828,192.36932183760914,192.36932352497416]},{\"line\":{\"color\":\"rgba(255, 255, 51, 0.9647577092511013)\",\"dash\":\"solid\",\"shape\":\"linear\",\"width\":1.3},\"mode\":\"lines\",\"name\":\"Carbohydrate, by summation\",\"text\":\"\",\"type\":\"scatter\",\"x\":[0.3659673552268968,0.5489510328403452,0.6587412394084142,0.7319347104537935,0.805128181499173,0.8783216525445522,0.9515151235899316,1.024708594635311,1.0979020656806904,1.463869420907587,2.927738841815174],\"y\":[37.2921161434595,37.29211746759272,37.29211724346937,37.29210508519911,37.29211023774416,37.29211628870621,37.292116125601574,37.292116040555314,37.292115998095305,37.29211528777221,37.2921174100792]},{\"line\":{\"color\":\"rgba(128, 128, 0, 0.9647577092511013)\",\"dash\":\"solid\",\"shape\":\"linear\",\"width\":1.3},\"mode\":\"lines\",\"name\":\"Carbohydrates\",\"text\":\"\",\"type\":\"scatter\",\"x\":[0.3659673552268968,0.5489510328403452,0.6587412394084142,0.7319347104537935,0.805128181499173,0.8783216525445522,0.9515151235899316,1.024708594635311,1.0979020656806904,1.463869420907587,2.927738841815174],\"y\":[0.0,0.0,0.0,0.0,0.0,0.0,0.0,0.0,0.0,0.0,0.0]},{\"line\":{\"color\":\"rgba(251, 128, 114, 0.9647577092511013)\",\"dash\":\"solid\",\"shape\":\"linear\",\"width\":1.3},\"mode\":\"lines\",\"name\":\"Carotene, alpha\",\"text\":\"\",\"type\":\"scatter\",\"x\":[0.3659673552268968,0.5489510328403452,0.6587412394084142,0.7319347104537935,0.805128181499173,0.8783216525445522,0.9515151235899316,1.024708594635311,1.0979020656806904,1.463869420907587,2.927738841815174],\"y\":[1269.2330929993002,1269.232855348212,1269.2328900221041,1269.23581242389,1269.2345503924344,1269.2330577448636,1269.2330817196519,1269.233096237329,1269.2331070246394,1269.2332129026313,1269.232867076039]},{\"line\":{\"color\":\"rgba(251, 128, 114, 0.9295154185022025)\",\"dash\":\"solid\",\"shape\":\"linear\",\"width\":1.3},\"mode\":\"lines\",\"name\":\"Carotene, beta\",\"text\":\"\",\"type\":\"scatter\",\"x\":[0.3659673552268968,0.5489510328403452,0.6587412394084142,0.7319347104537935,0.805128181499173,0.8783216525445522,0.9515151235899316,1.024708594635311,1.0979020656806904,1.463869420907587,2.927738841815174],\"y\":[3495.146460606113,3495.1458918788126,3495.1459746982046,3495.152916121599,3495.1499243242883,3495.1463707162025,3495.146427486149,3495.1464617797974,3495.146487184336,3495.146738561241,3495.1459194419167]},{\"line\":{\"color\":\"rgba(128, 177, 211, 0.9295154185022025)\",\"dash\":\"solid\",\"shape\":\"linear\",\"width\":1.3},\"mode\":\"lines\",\"name\":\"Carotene, gamma\",\"text\":\"\",\"type\":\"scatter\",\"x\":[0.3659673552268968,0.5489510328403452,0.6587412394084142,0.7319347104537935,0.805128181499173,0.8783216525445522,0.9515151235899316,1.024708594635311,1.0979020656806904,1.463869420907587,2.927738841815174],\"y\":[1.1045602820906735e-09,6.050590605217282e-11,2.209085359856694e-10,7.11321394213959e-09,4.756624148707701e-09,3.0230188943675584e-10,3.6124893060285296e-10,4.0673691147571567e-10,4.520886126683739e-10,1.2733302470381965e-09,9.135942817728532e-11]},{\"line\":{\"color\":\"rgba(255, 153, 51, 0.9295154185022025)\",\"dash\":\"solid\",\"shape\":\"linear\",\"width\":1.3},\"mode\":\"lines\",\"name\":\"Cholesterol\",\"text\":\"\",\"type\":\"scatter\",\"x\":[0.3659673552268968,0.5489510328403452,0.6587412394084142,0.7319347104537935,0.805128181499173,0.8783216525445522,0.9515151235899316,1.024708594635311,1.0979020656806904,1.463869420907587,2.927738841815174],\"y\":[0.0,0.0,0.0,0.0,0.0,0.0,0.0,0.0,0.0,0.0,0.0]},{\"line\":{\"color\":\"rgba(55, 128, 191, 0.9295154185022025)\",\"dash\":\"solid\",\"shape\":\"linear\",\"width\":1.3},\"mode\":\"lines\",\"name\":\"Choline, total\",\"text\":\"\",\"type\":\"scatter\",\"x\":[0.3659673552268968,0.5489510328403452,0.6587412394084142,0.7319347104537935,0.805128181499173,0.8783216525445522,0.9515151235899316,1.024708594635311,1.0979020656806904,1.463869420907587,2.927738841815174],\"y\":[133.5119857475888,133.51198543651716,133.5119855702788,133.5119889536027,133.51198753055536,133.51198625898078,133.5119863773738,133.51198642721897,133.51198643133233,133.5119867736767,133.5119854622058]},{\"line\":{\"color\":\"rgba(50, 171, 96, 0.9295154185022025)\",\"dash\":\"solid\",\"shape\":\"linear\",\"width\":1.3},\"mode\":\"lines\",\"name\":\"Citric acid\",\"text\":\"\",\"type\":\"scatter\",\"x\":[0.3659673552268968,0.5489510328403452,0.6587412394084142,0.7319347104537935,0.805128181499173,0.8783216525445522,0.9515151235899316,1.024708594635311,1.0979020656806904,1.463869420907587,2.927738841815174],\"y\":[542.0689027839645,542.068925602264,542.0689217976321,542.068713834625,542.06880222313,542.0689052752375,542.0689024734447,542.0689010262877,542.0689003244488,542.0688885424415,542.0689246087961]},{\"line\":{\"color\":\"rgba(128, 0, 128, 0.9295154185022025)\",\"dash\":\"solid\",\"shape\":\"linear\",\"width\":1.3},\"mode\":\"lines\",\"name\":\"Copper, Cu\",\"text\":\"\",\"type\":\"scatter\",\"x\":[0.3659673552268968,0.5489510328403452,0.6587412394084142,0.7319347104537935,0.805128181499173,0.8783216525445522,0.9515151235899316,1.024708594635311,1.0979020656806904,1.463869420907587,2.927738841815174],\"y\":[2.933240762276104,2.933240760838606,2.933240760228078,2.9332407192254024,2.933240743104835,2.9332407569772596,2.933240756704888,2.933240756425465,2.9332407560566134,2.9332407548603427,2.9332407607027027]},{\"line\":{\"color\":\"rgba(219, 64, 82, 0.9295154185022025)\",\"dash\":\"solid\",\"shape\":\"linear\",\"width\":1.3},\"mode\":\"lines\",\"name\":\"Cryptoxanthin, alpha\",\"text\":\"\",\"type\":\"scatter\",\"x\":[0.3659673552268968,0.5489510328403452,0.6587412394084142,0.7319347104537935,0.805128181499173,0.8783216525445522,0.9515151235899316,1.024708594635311,1.0979020656806904,1.463869420907587,2.927738841815174],\"y\":[5.003008336528345e-09,2.740561627069004e-10,1.0005857218174437e-09,3.221867491439696e-08,2.1544709379440765e-08,1.3692497345076587e-09,1.636245156259981e-09,1.8422789519782416e-09,2.0476954809096935e-09,5.767437001290655e-09,4.138044688029982e-10]},{\"line\":{\"color\":\"rgba(0, 128, 128, 0.9295154185022025)\",\"dash\":\"solid\",\"shape\":\"linear\",\"width\":1.3},\"mode\":\"lines\",\"name\":\"Cryptoxanthin, beta\",\"text\":\"\",\"type\":\"scatter\",\"x\":[0.3659673552268968,0.5489510328403452,0.6587412394084142,0.7319347104537935,0.805128181499173,0.8783216525445522,0.9515151235899316,1.024708594635311,1.0979020656806904,1.463869420907587,2.927738841815174],\"y\":[13.071759651607213,13.07175966078394,13.07175969886889,13.071758371248503,13.071758426075863,13.071759652849833,13.071759651725001,13.07175966235557,13.07175968598457,13.071759910770108,13.071759667123736]},{\"line\":{\"color\":\"rgba(255, 255, 51, 0.9295154185022025)\",\"dash\":\"solid\",\"shape\":\"linear\",\"width\":1.3},\"mode\":\"lines\",\"name\":\"Cysteine\",\"text\":\"\",\"type\":\"scatter\",\"x\":[0.3659673552268968,0.5489510328403452,0.6587412394084142,0.7319347104537935,0.805128181499173,0.8783216525445522,0.9515151235899316,1.024708594635311,1.0979020656806904,1.463869420907587,2.927738841815174],\"y\":[1.262052484719663,1.2620524866201128,1.2620524858243314,1.2620524522861873,1.2620524697408075,1.2620524828537125,1.2620524823965045,1.2620524820964485,1.262052481844033,1.2620524790088472,1.262052486432674]},{\"line\":{\"color\":\"rgba(128, 128, 0, 0.9295154185022025)\",\"dash\":\"solid\",\"shape\":\"linear\",\"width\":1.3},\"mode\":\"lines\",\"name\":\"Cystine\",\"text\":\"\",\"type\":\"scatter\",\"x\":[0.3659673552268968,0.5489510328403452,0.6587412394084142,0.7319347104537935,0.805128181499173,0.8783216525445522,0.9515151235899316,1.024708594635311,1.0979020656806904,1.463869420907587,2.927738841815174],\"y\":[0.3649992372573722,0.3649992305392896,0.36499923135898465,0.3649993104455485,0.364999278415558,0.3649992351725299,0.3649992357838885,0.3649992361133486,0.36499923630477193,0.3649992391320124,0.3649992308305013]},{\"line\":{\"color\":\"rgba(128, 128, 0, 0.894273127753304)\",\"dash\":\"solid\",\"shape\":\"linear\",\"width\":1.3},\"mode\":\"lines\",\"name\":\"Daidzein\",\"text\":\"\",\"type\":\"scatter\",\"x\":[0.3659673552268968,0.5489510328403452,0.6587412394084142,0.7319347104537935,0.805128181499173,0.8783216525445522,0.9515151235899316,1.024708594635311,1.0979020656806904,1.463869420907587,2.927738841815174],\"y\":[23.1087543680143,23.108754411435285,23.10875439357066,23.108753641093887,23.1087540317408,23.108754327214825,23.108754316947433,23.108754310204223,23.10875430452977,23.108754240619866,23.108754407232666]},{\"line\":{\"color\":\"rgba(251, 128, 114, 0.894273127753304)\",\"dash\":\"solid\",\"shape\":\"linear\",\"width\":1.3},\"mode\":\"lines\",\"name\":\"Daidzin\",\"text\":\"\",\"type\":\"scatter\",\"x\":[0.3659673552268968,0.5489510328403452,0.6587412394084142,0.7319347104537935,0.805128181499173,0.8783216525445522,0.9515151235899316,1.024708594635311,1.0979020656806904,1.463869420907587,2.927738841815174],\"y\":[79.97088480621916,79.97088479256492,79.97088479335049,79.97088481982873,79.97088482117356,79.97088479111973,79.97088479162485,79.97088479203309,79.97088479240567,79.97088479928404,79.97088479266874]},{\"line\":{\"color\":\"rgba(128, 177, 211, 0.894273127753304)\",\"dash\":\"solid\",\"shape\":\"linear\",\"width\":1.3},\"mode\":\"lines\",\"name\":\"Delta-5-avenasterol\",\"text\":\"\",\"type\":\"scatter\",\"x\":[0.3659673552268968,0.5489510328403452,0.6587412394084142,0.7319347104537935,0.805128181499173,0.8783216525445522,0.9515151235899316,1.024708594635311,1.0979020656806904,1.463869420907587,2.927738841815174],\"y\":[0.0,0.0,0.0,0.0,0.0,0.0,0.0,0.0,0.0,0.0,0.0]},{\"line\":{\"color\":\"rgba(255, 153, 51, 0.894273127753304)\",\"dash\":\"solid\",\"shape\":\"linear\",\"width\":1.3},\"mode\":\"lines\",\"name\":\"Delta-7-Stigmastenol\",\"text\":\"\",\"type\":\"scatter\",\"x\":[0.3659673552268968,0.5489510328403452,0.6587412394084142,0.7319347104537935,0.805128181499173,0.8783216525445522,0.9515151235899316,1.024708594635311,1.0979020656806904,1.463869420907587,2.927738841815174],\"y\":[0.0,0.0,0.0,0.0,0.0,0.0,0.0,0.0,0.0,0.0,0.0]},{\"line\":{\"color\":\"rgba(55, 128, 191, 0.894273127753304)\",\"dash\":\"solid\",\"shape\":\"linear\",\"width\":1.3},\"mode\":\"lines\",\"name\":\"Energy\",\"text\":\"\",\"type\":\"scatter\",\"x\":[0.3659673552268968,0.5489510328403452,0.6587412394084142,0.7319347104537935,0.805128181499173,0.8783216525445522,0.9515151235899316,1.024708594635311,1.0979020656806904,1.463869420907587,2.927738841815174],\"y\":[3229.221391121251,3229.2214017697643,3229.221399461063,3229.221341040752,3229.221368859023,3229.221384600537,3229.221382391529,3229.221381376666,3229.2213811297415,3229.2213779913714,3229.2214013915377]},{\"line\":{\"color\":\"rgba(50, 171, 96, 0.894273127753304)\",\"dash\":\"solid\",\"shape\":\"linear\",\"width\":1.3},\"mode\":\"lines\",\"name\":\"Energy (Atwater General Factors)\",\"text\":\"\",\"type\":\"scatter\",\"x\":[0.3659673552268968,0.5489510328403452,0.6587412394084142,0.7319347104537935,0.805128181499173,0.8783216525445522,0.9515151235899316,1.024708594635311,1.0979020656806904,1.463869420907587,2.927738841815174],\"y\":[1354.9146752671725,1354.9146772009979,1354.9146762782282,1354.9146370872024,1354.9146577862928,1354.9146726375113,1354.9146720929682,1354.9146717383994,1354.9146714431752,1354.9146682251667,1354.914676983855]},{\"line\":{\"color\":\"rgba(128, 0, 128, 0.894273127753304)\",\"dash\":\"solid\",\"shape\":\"linear\",\"width\":1.3},\"mode\":\"lines\",\"name\":\"Energy (Atwater Specific Factors)\",\"text\":\"\",\"type\":\"scatter\",\"x\":[0.3659673552268968,0.5489510328403452,0.6587412394084142,0.7319347104537935,0.805128181499173,0.8783216525445522,0.9515151235899316,1.024708594635311,1.0979020656806904,1.463869420907587,2.927738841815174],\"y\":[1279.9728784928996,1279.9728802972168,1279.9728794358066,1279.972842852658,1279.9728621759555,1279.9728760387395,1279.972875530727,1279.9728752000347,1279.9728749247677,1279.9728719237323,1279.9728800951584]},{\"line\":{\"color\":\"rgba(219, 64, 82, 0.894273127753304)\",\"dash\":\"solid\",\"shape\":\"linear\",\"width\":1.3},\"mode\":\"lines\",\"name\":\"Ergosta-7-enol\",\"text\":\"\",\"type\":\"scatter\",\"x\":[0.3659673552268968,0.5489510328403452,0.6587412394084142,0.7319347104537935,0.805128181499173,0.8783216525445522,0.9515151235899316,1.024708594635311,1.0979020656806904,1.463869420907587,2.927738841815174],\"y\":[2.0333196445182428e-10,1.0367687116342433e-11,3.546572530797539e-11,9.638268860345555e-10,6.56369600866091e-10,4.61592497473043e-11,5.692427011449773e-11,6.588618428310542e-11,7.516520968446592e-11,2.2705917002200222e-10,1.8935572281956694e-11]},{\"line\":{\"color\":\"rgba(0, 128, 128, 0.894273127753304)\",\"dash\":\"solid\",\"shape\":\"linear\",\"width\":1.3},\"mode\":\"lines\",\"name\":\"Ergosterol\",\"text\":\"\",\"type\":\"scatter\",\"x\":[0.3659673552268968,0.5489510328403452,0.6587412394084142,0.7319347104537935,0.805128181499173,0.8783216525445522,0.9515151235899316,1.024708594635311,1.0979020656806904,1.463869420907587,2.927738841815174],\"y\":[6.9187620706985504e-09,3.5278054080088084e-10,1.2067896738821492e-09,3.279606784793225e-08,2.2334241008662587e-08,1.5706574577418113e-09,1.93695802837581e-09,2.241904434602608e-09,2.5576411618459644e-09,7.726125981164826e-09,6.443193505977922e-10]},{\"line\":{\"color\":\"rgba(255, 255, 51, 0.894273127753304)\",\"dash\":\"solid\",\"shape\":\"linear\",\"width\":1.3},\"mode\":\"lines\",\"name\":\"Ergothioneine\",\"text\":\"\",\"type\":\"scatter\",\"x\":[0.3659673552268968,0.5489510328403452,0.6587412394084142,0.7319347104537935,0.805128181499173,0.8783216525445522,0.9515151235899316,1.024708594635311,1.0979020656806904,1.463869420907587,2.927738841815174],\"y\":[5.288622086415258e-10,2.6966138460498984e-11,9.224561356113549e-11,2.5068936754264755e-09,1.707203674223309e-09,1.2005924811875354e-10,1.4805884209707184e-10,1.7136859437160223e-10,1.9550314636412497e-10,5.905761766178148e-10,4.925102949713339e-11]},{\"line\":{\"color\":\"rgba(255, 255, 51, 0.8590308370044053)\",\"dash\":\"solid\",\"shape\":\"linear\",\"width\":1.3},\"mode\":\"lines\",\"name\":\"Fatty acids, total monounsaturated\",\"text\":\"\",\"type\":\"scatter\",\"x\":[0.3659673552268968,0.5489510328403452,0.6587412394084142,0.7319347104537935,0.805128181499173,0.8783216525445522,0.9515151235899316,1.024708594635311,1.0979020656806904,1.463869420907587,2.927738841815174],\"y\":[60.73429497576154,60.734295100949154,60.73429506272902,60.734292735340816,60.734293733112196,60.73429484868574,60.73429481637355,60.734294800537654,60.734294794303416,60.73429469171345,60.734295092077474]},{\"line\":{\"color\":\"rgba(128, 128, 0, 0.8590308370044053)\",\"dash\":\"solid\",\"shape\":\"linear\",\"width\":1.3},\"mode\":\"lines\",\"name\":\"Fatty acids, total polyunsaturated\",\"text\":\"\",\"type\":\"scatter\",\"x\":[0.3659673552268968,0.5489510328403452,0.6587412394084142,0.7319347104537935,0.805128181499173,0.8783216525445522,0.9515151235899316,1.024708594635311,1.0979020656806904,1.463869420907587,2.927738841815174],\"y\":[26.10422574917468,26.104225774412157,26.104225760897013,26.104225194751432,26.104225476149693,26.10422569067202,26.10422568021812,26.104225674716446,26.10422567189042,26.1042256347526,26.104225771569876]},{\"line\":{\"color\":\"rgba(251, 128, 114, 0.8590308370044053)\",\"dash\":\"solid\",\"shape\":\"linear\",\"width\":1.3},\"mode\":\"lines\",\"name\":\"Fatty acids, total saturated\",\"text\":\"\",\"type\":\"scatter\",\"x\":[0.3659673552268968,0.5489510328403452,0.6587412394084142,0.7319347104537935,0.805128181499173,0.8783216525445522,0.9515151235899316,1.024708594635311,1.0979020656806904,1.463869420907587,2.927738841815174],\"y\":[18.12257977448689,18.12257980603736,18.12257979493272,18.122579205785765,18.122579472925576,18.122579737103166,18.122579728389592,18.12257972386683,18.12257972164492,18.122579690203647,18.122579803511076]},{\"line\":{\"color\":\"rgba(128, 177, 211, 0.8590308370044053)\",\"dash\":\"solid\",\"shape\":\"linear\",\"width\":1.3},\"mode\":\"lines\",\"name\":\"Fatty acids, total trans\",\"text\":\"\",\"type\":\"scatter\",\"x\":[0.3659673552268968,0.5489510328403452,0.6587412394084142,0.7319347104537935,0.805128181499173,0.8783216525445522,0.9515151235899316,1.024708594635311,1.0979020656806904,1.463869420907587,2.927738841815174],\"y\":[0.002216333810742466,0.002216333900243798,0.002216333874699991,0.002216333587458873,0.0022163337451025704,0.0022163337440427597,0.0022163337206682373,0.002216333710703197,0.002216333709552075,0.0022163336413511853,0.0022163338964904656]},{\"line\":{\"color\":\"rgba(255, 153, 51, 0.8590308370044053)\",\"dash\":\"solid\",\"shape\":\"linear\",\"width\":1.3},\"mode\":\"lines\",\"name\":\"Fatty acids, total trans-monoenoic\",\"text\":\"\",\"type\":\"scatter\",\"x\":[0.3659673552268968,0.5489510328403452,0.6587412394084142,0.7319347104537935,0.805128181499173,0.8783216525445522,0.9515151235899316,1.024708594635311,1.0979020656806904,1.463869420907587,2.927738841815174],\"y\":[0.004960569836973177,0.004960569829881641,0.004960569830757333,0.004960569873284899,0.004960569857529708,0.004960569830977733,0.004960569831251686,0.004960569831479671,0.004960569831725768,0.004960569836372356,0.0049605698301007015]},{\"line\":{\"color\":\"rgba(55, 128, 191, 0.8590308370044053)\",\"dash\":\"solid\",\"shape\":\"linear\",\"width\":1.3},\"mode\":\"lines\",\"name\":\"Fatty acids, total trans-polyenoic\",\"text\":\"\",\"type\":\"scatter\",\"x\":[0.3659673552268968,0.5489510328403452,0.6587412394084142,0.7319347104537935,0.805128181499173,0.8783216525445522,0.9515151235899316,1.024708594635311,1.0979020656806904,1.463869420907587,2.927738841815174],\"y\":[1.1230679266524177e-11,4.332969408050146e-13,1.7608360588823427e-12,6.912034248246069e-11,4.3966201050322523e-11,2.037220781369528e-12,2.40934638655975e-12,2.7312086372535842e-12,3.0941802958471654e-12,1.0256053629263503e-11,7.327922710676928e-13]},{\"line\":{\"color\":\"rgba(50, 171, 96, 0.8590308370044053)\",\"dash\":\"solid\",\"shape\":\"linear\",\"width\":1.3},\"mode\":\"lines\",\"name\":\"Fiber, insoluble\",\"text\":\"\",\"type\":\"scatter\",\"x\":[0.3659673552268968,0.5489510328403452,0.6587412394084142,0.7319347104537935,0.805128181499173,0.8783216525445522,0.9515151235899316,1.024708594635311,1.0979020656806904,1.463869420907587,2.927738841815174],\"y\":[0.6099019433227588,0.6099019257896668,0.6099019281225542,0.609902070655691,0.6099020085340346,0.6099019405601097,0.6099019425277472,0.6099019434302833,0.6099019436962069,0.6099019486980947,0.6099019265479816]},{\"line\":{\"color\":\"rgba(128, 0, 128, 0.8590308370044053)\",\"dash\":\"solid\",\"shape\":\"linear\",\"width\":1.3},\"mode\":\"lines\",\"name\":\"Fiber, soluble\",\"text\":\"\",\"type\":\"scatter\",\"x\":[0.3659673552268968,0.5489510328403452,0.6587412394084142,0.7319347104537935,0.805128181499173,0.8783216525445522,0.9515151235899316,1.024708594635311,1.0979020656806904,1.463869420907587,2.927738841815174],\"y\":[0.06776688259141765,0.06776688064329632,0.06776688090250603,0.06776689673952123,0.06776688983711497,0.06776688228445664,0.06776688250308303,0.06776688260336482,0.06776688263291188,0.06776688318867718,0.0677668807275535]},{\"line\":{\"color\":\"rgba(219, 64, 82, 0.8590308370044053)\",\"dash\":\"solid\",\"shape\":\"linear\",\"width\":1.3},\"mode\":\"lines\",\"name\":\"Fiber, total dietary\",\"text\":\"\",\"type\":\"scatter\",\"x\":[0.3659673552268968,0.5489510328403452,0.6587412394084142,0.7319347104537935,0.805128181499173,0.8783216525445522,0.9515151235899316,1.024708594635311,1.0979020656806904,1.463869420907587,2.927738841815174],\"y\":[55.84431305662028,55.84431301283707,55.84431303222466,55.84431310503791,55.84431310857678,55.844313136993435,55.844313157203395,55.84431316432764,55.8443131619621,55.8443132143926,55.84431301522382]},{\"line\":{\"color\":\"rgba(0, 128, 128, 0.8590308370044053)\",\"dash\":\"solid\",\"shape\":\"linear\",\"width\":1.3},\"mode\":\"lines\",\"name\":\"Fluoride, F\",\"text\":\"\",\"type\":\"scatter\",\"x\":[0.3659673552268968,0.5489510328403452,0.6587412394084142,0.7319347104537935,0.805128181499173,0.8783216525445522,0.9515151235899316,1.024708594635311,1.0979020656806904,1.463869420907587,2.927738841815174],\"y\":[6.4489576711107,6.4489575962720656,6.4489576003906315,6.44895954713115,6.448958607634854,6.448957566694101,6.448957555560486,6.448957557464569,6.448957571565174,6.448957617039755,6.448957603342156]},{\"line\":{\"color\":\"rgba(0, 128, 128, 0.8237885462555066)\",\"dash\":\"solid\",\"shape\":\"linear\",\"width\":1.3},\"mode\":\"lines\",\"name\":\"Folate, DFE\",\"text\":\"\",\"type\":\"scatter\",\"x\":[0.3659673552268968,0.5489510328403452,0.6587412394084142,0.7319347104537935,0.805128181499173,0.8783216525445522,0.9515151235899316,1.024708594635311,1.0979020656806904,1.463869420907587,2.927738841815174],\"y\":[400.00000022433517,400.00000000907545,400.000000049173,400.0000024339112,400.00000163273404,400.0000000504443,400.0000000615679,400.0000000726881,400.0000000865208,400.00000038839886,400.00000002851453]},{\"line\":{\"color\":\"rgba(255, 255, 51, 0.8237885462555066)\",\"dash\":\"solid\",\"shape\":\"linear\",\"width\":1.3},\"mode\":\"lines\",\"name\":\"Folate, food\",\"text\":\"\",\"type\":\"scatter\",\"x\":[0.3659673552268968,0.5489510328403452,0.6587412394084142,0.7319347104537935,0.805128181499173,0.8783216525445522,0.9515151235899316,1.024708594635311,1.0979020656806904,1.463869420907587,2.927738841815174],\"y\":[373.24568515925154,373.2456836504048,373.24568402521743,373.24569120997677,373.24568800625866,373.24568560884785,373.24568590944244,373.24568604717984,373.24568608205544,373.24568734816063,373.2456837213566]},{\"line\":{\"color\":\"rgba(128, 128, 0, 0.8237885462555066)\",\"dash\":\"solid\",\"shape\":\"linear\",\"width\":1.3},\"mode\":\"lines\",\"name\":\"Folate, total\",\"text\":\"\",\"type\":\"scatter\",\"x\":[0.3659673552268968,0.5489510328403452,0.6587412394084142,0.7319347104537935,0.805128181499173,0.8783216525445522,0.9515151235899316,1.024708594635311,1.0979020656806904,1.463869420907587,2.927738841815174],\"y\":[712.3586381626874,712.3586382693909,712.3586382043709,712.3586305697884,712.3586344297535,712.3586377910041,712.3586377500054,712.3586377103592,712.3586376604096,712.3586374501667,712.358638243213]},{\"line\":{\"color\":\"rgba(251, 128, 114, 0.8237885462555066)\",\"dash\":\"solid\",\"shape\":\"linear\",\"width\":1.3},\"mode\":\"lines\",\"name\":\"Folic acid\",\"text\":\"\",\"type\":\"scatter\",\"x\":[0.3659673552268968,0.5489510328403452,0.6587412394084142,0.7319347104537935,0.805128181499173,0.8783216525445522,0.9515151235899316,1.024708594635311,1.0979020656806904,1.463869420907587,2.927738841815174],\"y\":[15.83095565981281,15.830956425248896,15.830956227192669,15.83095338694348,15.830954808565295,15.830955290885493,15.83095511960087,15.83095504467943,15.830955032228047,15.83095446167944,15.830956394768004]},{\"line\":{\"color\":\"rgba(128, 177, 211, 0.8237885462555066)\",\"dash\":\"solid\",\"shape\":\"linear\",\"width\":1.3},\"mode\":\"lines\",\"name\":\"Fructose\",\"text\":\"\",\"type\":\"scatter\",\"x\":[0.3659673552268968,0.5489510328403452,0.6587412394084142,0.7319347104537935,0.805128181499173,0.8783216525445522,0.9515151235899316,1.024708594635311,1.0979020656806904,1.463869420907587,2.927738841815174],\"y\":[10.719731817423597,10.71973215695697,10.719732098677161,10.71972907476865,10.719730356263668,10.719731846749317,10.719731803524777,10.719731781564917,10.71973177154536,10.719731591402425,10.719732142338984]},{\"line\":{\"color\":\"rgba(255, 153, 51, 0.8237885462555066)\",\"dash\":\"solid\",\"shape\":\"linear\",\"width\":1.3},\"mode\":\"lines\",\"name\":\"Galactose\",\"text\":\"\",\"type\":\"scatter\",\"x\":[0.3659673552268968,0.5489510328403452,0.6587412394084142,0.7319347104537935,0.805128181499173,0.8783216525445522,0.9515151235899316,1.024708594635311,1.0979020656806904,1.463869420907587,2.927738841815174],\"y\":[0.030451654826460818,0.030451654727761065,0.03045165489175998,0.030451652135513926,0.03045165133047342,0.03045165487358477,0.030451654886416626,0.030451654935322064,0.030451655029334463,0.0304516558931265,0.030451654760528853]},{\"line\":{\"color\":\"rgba(55, 128, 191, 0.8237885462555066)\",\"dash\":\"solid\",\"shape\":\"linear\",\"width\":1.3},\"mode\":\"lines\",\"name\":\"Genistein\",\"text\":\"\",\"type\":\"scatter\",\"x\":[0.3659673552268968,0.5489510328403452,0.6587412394084142,0.7319347104537935,0.805128181499173,0.8783216525445522,0.9515151235899316,1.024708594635311,1.0979020656806904,1.463869420907587,2.927738841815174],\"y\":[2.320630883238744,2.3206308827633464,2.320630882816382,2.320630884855287,2.3206308842419987,2.320630882861485,2.3206308828935485,2.3206308829168636,2.32063088293734,2.3206308832470866,2.320630882773434]},{\"line\":{\"color\":\"rgba(50, 171, 96, 0.8237885462555066)\",\"dash\":\"solid\",\"shape\":\"linear\",\"width\":1.3},\"mode\":\"lines\",\"name\":\"Genistin\",\"text\":\"\",\"type\":\"scatter\",\"x\":[0.3659673552268968,0.5489510328403452,0.6587412394084142,0.7319347104537935,0.805128181499173,0.8783216525445522,0.9515151235899316,1.024708594635311,1.0979020656806904,1.463869420907587,2.927738841815174],\"y\":[118.2665538538217,118.26655383771225,118.26655383731436,118.26655381094305,118.26655384657532,118.26655382835052,118.2665538281998,118.26655382821207,118.2665538282646,118.2665538327559,118.26655383750091]},{\"line\":{\"color\":\"rgba(128, 0, 128, 0.8237885462555066)\",\"dash\":\"solid\",\"shape\":\"linear\",\"width\":1.3},\"mode\":\"lines\",\"name\":\"Glucose\",\"text\":\"\",\"type\":\"scatter\",\"x\":[0.3659673552268968,0.5489510328403452,0.6587412394084142,0.7319347104537935,0.805128181499173,0.8783216525445522,0.9515151235899316,1.024708594635311,1.0979020656806904,1.463869420907587,2.927738841815174],\"y\":[9.846136976508413,9.846137282197478,9.846137230050404,9.846134528441706,9.846135667302024,9.846137003153977,9.846136964091826,9.846136944397218,9.846136935685282,9.846136774742263,9.846137269115975]},{\"line\":{\"color\":\"rgba(219, 64, 82, 0.8237885462555066)\",\"dash\":\"solid\",\"shape\":\"linear\",\"width\":1.3},\"mode\":\"lines\",\"name\":\"Glutamic acid\",\"text\":\"\",\"type\":\"scatter\",\"x\":[0.3659673552268968,0.5489510328403452,0.6587412394084142,0.7319347104537935,0.805128181499173,0.8783216525445522,0.9515151235899316,1.024708594635311,1.0979020656806904,1.463869420907587,2.927738841815174],\"y\":[19.971268899277522,19.971268888622035,19.971268882649813,19.971268936146156,19.97126898183351,19.97126886549629,19.971268863648664,19.97126886139094,19.971268858210514,19.97126883834117,19.971268887542692]},{\"line\":{\"color\":\"rgba(219, 64, 82, 0.7885462555066078)\",\"dash\":\"solid\",\"shape\":\"linear\",\"width\":1.3},\"mode\":\"lines\",\"name\":\"Glycine\",\"text\":\"\",\"type\":\"scatter\",\"x\":[0.3659673552268968,0.5489510328403452,0.6587412394084142,0.7319347104537935,0.805128181499173,0.8783216525445522,0.9515151235899316,1.024708594635311,1.0979020656806904,1.463869420907587,2.927738841815174],\"y\":[5.265694735110958,5.2656947353915795,5.265694733627842,5.265694665317646,5.265694710075305,5.265694728070038,5.265694727454973,5.26569472676558,5.265694725810864,5.265694719393148,5.265694734985896]},{\"line\":{\"color\":\"rgba(0, 128, 128, 0.7885462555066078)\",\"dash\":\"solid\",\"shape\":\"linear\",\"width\":1.3},\"mode\":\"lines\",\"name\":\"Glycitin\",\"text\":\"\",\"type\":\"scatter\",\"x\":[0.3659673552268968,0.5489510328403452,0.6587412394084142,0.7319347104537935,0.805128181499173,0.8783216525445522,0.9515151235899316,1.024708594635311,1.0979020656806904,1.463869420907587,2.927738841815174],\"y\":[9.065143397867343,9.06514339774361,9.065143397288743,9.065143377437336,9.065143389322698,9.065143395060302,9.065143394804487,9.065143394644487,9.065143394512884,9.06514339331141,9.065143397628129]},{\"line\":{\"color\":\"rgba(255, 255, 51, 0.7885462555066078)\",\"dash\":\"solid\",\"shape\":\"linear\",\"width\":1.3},\"mode\":\"lines\",\"name\":\"High Molecular Weight Dietary Fiber (HMWDF)\",\"text\":\"\",\"type\":\"scatter\",\"x\":[0.3659673552268968,0.5489510328403452,0.6587412394084142,0.7319347104537935,0.805128181499173,0.8783216525445522,0.9515151235899316,1.024708594635311,1.0979020656806904,1.463869420907587,2.927738841815174],\"y\":[6.111283911421343e-09,2.7382402946552123e-10,1.022008390515873e-09,2.73108978678497e-08,1.788859579381071e-08,1.1483304896267892e-09,1.3915559266625473e-09,1.5988625967563157e-09,1.8258301036545651e-09,5.6283702736902705e-09,5.378634075719622e-10]},{\"line\":{\"color\":\"rgba(128, 128, 0, 0.7885462555066078)\",\"dash\":\"solid\",\"shape\":\"linear\",\"width\":1.3},\"mode\":\"lines\",\"name\":\"Histidine\",\"text\":\"\",\"type\":\"scatter\",\"x\":[0.3659673552268968,0.5489510328403452,0.6587412394084142,0.7319347104537935,0.805128181499173,0.8783216525445522,0.9515151235899316,1.024708594635311,1.0979020656806904,1.463869420907587,2.927738841815174],\"y\":[2.744418571211692,2.7444185691518044,2.744418568731791,2.744418559509464,2.7444185715133607,2.744418568203147,2.7444185682778963,2.7444185681149214,2.744418567699568,2.7444185659785556,2.7444185690594627]},{\"line\":{\"color\":\"rgba(251, 128, 114, 0.7885462555066078)\",\"dash\":\"solid\",\"shape\":\"linear\",\"width\":1.3},\"mode\":\"lines\",\"name\":\"Hydroxyproline\",\"text\":\"\",\"type\":\"scatter\",\"x\":[0.3659673552268968,0.5489510328403452,0.6587412394084142,0.7319347104537935,0.805128181499173,0.8783216525445522,0.9515151235899316,1.024708594635311,1.0979020656806904,1.463869420907587,2.927738841815174],\"y\":[0.2881217900241873,0.2881217906479894,0.2881217903937693,0.2881217796890798,0.288121785238811,0.28812178945209105,0.2881217893059554,0.28812178920994097,0.2881217891291296,0.2881217882176232,0.2881217905882253]},{\"line\":{\"color\":\"rgba(128, 177, 211, 0.7885462555066078)\",\"dash\":\"solid\",\"shape\":\"linear\",\"width\":1.3},\"mode\":\"lines\",\"name\":\"Iodine, I\",\"text\":\"\",\"type\":\"scatter\",\"x\":[0.3659673552268968,0.5489510328403452,0.6587412394084142,0.7319347104537935,0.805128181499173,0.8783216525445522,0.9515151235899316,1.024708594635311,1.0979020656806904,1.463869420907587,2.927738841815174],\"y\":[0.0,0.0,0.0,0.0,0.0,0.0,0.0,0.0,0.0,0.0,0.0]},{\"line\":{\"color\":\"rgba(255, 153, 51, 0.7885462555066078)\",\"dash\":\"solid\",\"shape\":\"linear\",\"width\":1.3},\"mode\":\"lines\",\"name\":\"Iron, Fe\",\"text\":\"\",\"type\":\"scatter\",\"x\":[0.3659673552268968,0.5489510328403452,0.6587412394084142,0.7319347104537935,0.805128181499173,0.8783216525445522,0.9515151235899316,1.024708594635311,1.0979020656806904,1.463869420907587,2.927738841815174],\"y\":[18.000000023116247,18.00000000096388,18.000000000964825,18.000000007956732,18.000000064204546,18.000000003975615,18.000000005993602,18.000000005736972,18.000000003393186,18.000000003664418,18.00000000085197]},{\"line\":{\"color\":\"rgba(55, 128, 191, 0.7885462555066078)\",\"dash\":\"solid\",\"shape\":\"linear\",\"width\":1.3},\"mode\":\"lines\",\"name\":\"Isoflavones\",\"text\":\"\",\"type\":\"scatter\",\"x\":[0.3659673552268968,0.5489510328403452,0.6587412394084142,0.7319347104537935,0.805128181499173,0.8783216525445522,0.9515151235899316,1.024708594635311,1.0979020656806904,1.463869420907587,2.927738841815174],\"y\":[0.0,0.0,0.0,0.0,0.0,0.0,0.0,0.0,0.0,0.0,0.0]},{\"line\":{\"color\":\"rgba(50, 171, 96, 0.7885462555066078)\",\"dash\":\"solid\",\"shape\":\"linear\",\"width\":1.3},\"mode\":\"lines\",\"name\":\"Isoleucine\",\"text\":\"\",\"type\":\"scatter\",\"x\":[0.3659673552268968,0.5489510328403452,0.6587412394084142,0.7319347104537935,0.805128181499173,0.8783216525445522,0.9515151235899316,1.024708594635311,1.0979020656806904,1.463869420907587,2.927738841815174],\"y\":[4.144934726604692,4.144934722333668,4.14493472207146,4.144934725835075,4.144934736202465,4.144934723122502,4.14493472353941,4.144934723438139,4.144934722860745,4.1449347213696885,4.14493472227275]},{\"line\":{\"color\":\"rgba(128, 0, 128, 0.7885462555066078)\",\"dash\":\"solid\",\"shape\":\"linear\",\"width\":1.3},\"mode\":\"lines\",\"name\":\"Lactose\",\"text\":\"\",\"type\":\"scatter\",\"x\":[0.3659673552268968,0.5489510328403452,0.6587412394084142,0.7319347104537935,0.805128181499173,0.8783216525445522,0.9515151235899316,1.024708594635311,1.0979020656806904,1.463869420907587,2.927738841815174],\"y\":[0.0,0.0,0.0,0.0,0.0,0.0,0.0,0.0,0.0,0.0,0.0]},{\"line\":{\"color\":\"rgba(128, 0, 128, 0.7533039647577093)\",\"dash\":\"solid\",\"shape\":\"linear\",\"width\":1.3},\"mode\":\"lines\",\"name\":\"Leucine\",\"text\":\"\",\"type\":\"scatter\",\"x\":[0.3659673552268968,0.5489510328403452,0.6587412394084142,0.7319347104537935,0.805128181499173,0.8783216525445522,0.9515151235899316,1.024708594635311,1.0979020656806904,1.463869420907587,2.927738841815174],\"y\":[7.774724619004959,7.7747246156672905,7.7747246143596005,7.774724575048634,7.774724615034369,7.774724612773262,7.77472461298772,7.774724612476301,7.774724611190004,7.774724605716542,7.774724615317626]},{\"line\":{\"color\":\"rgba(219, 64, 82, 0.7533039647577093)\",\"dash\":\"solid\",\"shape\":\"linear\",\"width\":1.3},\"mode\":\"lines\",\"name\":\"Lipids\",\"text\":\"\",\"type\":\"scatter\",\"x\":[0.3659673552268968,0.5489510328403452,0.6587412394084142,0.7319347104537935,0.805128181499173,0.8783216525445522,0.9515151235899316,1.024708594635311,1.0979020656806904,1.463869420907587,2.927738841815174],\"y\":[0.0,0.0,0.0,0.0,0.0,0.0,0.0,0.0,0.0,0.0,0.0]},{\"line\":{\"color\":\"rgba(0, 128, 128, 0.7533039647577093)\",\"dash\":\"solid\",\"shape\":\"linear\",\"width\":1.3},\"mode\":\"lines\",\"name\":\"Low Molecular Weight Dietary Fiber (LMWDF)\",\"text\":\"\",\"type\":\"scatter\",\"x\":[0.3659673552268968,0.5489510328403452,0.6587412394084142,0.7319347104537935,0.805128181499173,0.8783216525445522,0.9515151235899316,1.024708594635311,1.0979020656806904,1.463869420907587,2.927738841815174],\"y\":[4.4176590080087917e-10,1.979389614213301e-11,7.387784036976537e-11,1.974220732197236e-09,1.2931115211562232e-09,8.300927604083581e-11,1.0059129413182631e-10,1.155768551339668e-10,1.3198363750420613e-10,4.068575605448167e-10,3.8880489958876054e-11]},{\"line\":{\"color\":\"rgba(255, 255, 51, 0.7533039647577093)\",\"dash\":\"solid\",\"shape\":\"linear\",\"width\":1.3},\"mode\":\"lines\",\"name\":\"Lutein\",\"text\":\"\",\"type\":\"scatter\",\"x\":[0.3659673552268968,0.5489510328403452,0.6587412394084142,0.7319347104537935,0.805128181499173,0.8783216525445522,0.9515151235899316,1.024708594635311,1.0979020656806904,1.463869420907587,2.927738841815174],\"y\":[8.519846416634797e-06,1.9187503026851195e-07,1.5523055087992694e-06,4.058826202422489e-05,2.1837503275349486e-05,1.3837504365384948e-06,1.4214025213846821e-06,1.3861431742414271e-06,1.3476047800847734e-06,2.3856325390449555e-06,7.4183982897035e-08]},{\"line\":{\"color\":\"rgba(128, 128, 0, 0.7533039647577093)\",\"dash\":\"solid\",\"shape\":\"linear\",\"width\":1.3},\"mode\":\"lines\",\"name\":\"Lutein + zeaxanthin\",\"text\":\"\",\"type\":\"scatter\",\"x\":[0.3659673552268968,0.5489510328403452,0.6587412394084142,0.7319347104537935,0.805128181499173,0.8783216525445522,0.9515151235899316,1.024708594635311,1.0979020656806904,1.463869420907587,2.927738841815174],\"y\":[1280.5643038936107,1280.564287852884,1280.564290167525,1280.5643995786488,1280.564354364141,1280.564292742936,1280.564293382329,1280.5642937465195,1280.564294036168,1280.5642996038653,1280.5642879441386]},{\"line\":{\"color\":\"rgba(251, 128, 114, 0.7533039647577093)\",\"dash\":\"solid\",\"shape\":\"linear\",\"width\":1.3},\"mode\":\"lines\",\"name\":\"Lycopene\",\"text\":\"\",\"type\":\"scatter\",\"x\":[0.3659673552268968,0.5489510328403452,0.6587412394084142,0.7319347104537935,0.805128181499173,0.8783216525445522,0.9515151235899316,1.024708594635311,1.0979020656806904,1.463869420907587,2.927738841815174],\"y\":[0.3597360817000355,0.35973460657302736,0.35973483266622874,0.35974496055010413,0.3597414220957867,0.359734990663677,0.3597350769936559,0.3597351424599155,0.3597352066621841,0.35973634357812684,0.35973465151841]},{\"line\":{\"color\":\"rgba(128, 177, 211, 0.7533039647577093)\",\"dash\":\"solid\",\"shape\":\"linear\",\"width\":1.3},\"mode\":\"lines\",\"name\":\"Lysine\",\"text\":\"\",\"type\":\"scatter\",\"x\":[0.3659673552268968,0.5489510328403452,0.6587412394084142,0.7319347104537935,0.805128181499173,0.8783216525445522,0.9515151235899316,1.024708594635311,1.0979020656806904,1.463869420907587,2.927738841815174],\"y\":[5.415373543637027,5.415373535311113,5.415373535778885,5.415373542544784,5.415373553269215,5.415373540686178,5.415373541838635,5.415373542009288,5.41537354137077,5.41537354174994,5.41537353540116]},{\"line\":{\"color\":\"rgba(255, 153, 51, 0.7533039647577093)\",\"dash\":\"solid\",\"shape\":\"linear\",\"width\":1.3},\"mode\":\"lines\",\"name\":\"MUFA 12:1\",\"text\":\"\",\"type\":\"scatter\",\"x\":[0.3659673552268968,0.5489510328403452,0.6587412394084142,0.7319347104537935,0.805128181499173,0.8783216525445522,0.9515151235899316,1.024708594635311,1.0979020656806904,1.463869420907587,2.927738841815174],\"y\":[0.0,0.0,0.0,0.0,0.0,0.0,0.0,0.0,0.0,0.0,0.0]},{\"line\":{\"color\":\"rgba(55, 128, 191, 0.7533039647577093)\",\"dash\":\"solid\",\"shape\":\"linear\",\"width\":1.3},\"mode\":\"lines\",\"name\":\"MUFA 14:1\",\"text\":\"\",\"type\":\"scatter\",\"x\":[0.3659673552268968,0.5489510328403452,0.6587412394084142,0.7319347104537935,0.805128181499173,0.8783216525445522,0.9515151235899316,1.024708594635311,1.0979020656806904,1.463869420907587,2.927738841815174],\"y\":[0.0,0.0,0.0,0.0,0.0,0.0,0.0,0.0,0.0,0.0,0.0]},{\"line\":{\"color\":\"rgba(50, 171, 96, 0.7533039647577093)\",\"dash\":\"solid\",\"shape\":\"linear\",\"width\":1.3},\"mode\":\"lines\",\"name\":\"MUFA 14:1 c\",\"text\":\"\",\"type\":\"scatter\",\"x\":[0.3659673552268968,0.5489510328403452,0.6587412394084142,0.7319347104537935,0.805128181499173,0.8783216525445522,0.9515151235899316,1.024708594635311,1.0979020656806904,1.463869420907587,2.927738841815174],\"y\":[0.0,0.0,0.0,0.0,0.0,0.0,0.0,0.0,0.0,0.0,0.0]},{\"line\":{\"color\":\"rgba(50, 171, 96, 0.7180616740088106)\",\"dash\":\"solid\",\"shape\":\"linear\",\"width\":1.3},\"mode\":\"lines\",\"name\":\"MUFA 15:1\",\"text\":\"\",\"type\":\"scatter\",\"x\":[0.3659673552268968,0.5489510328403452,0.6587412394084142,0.7319347104537935,0.805128181499173,0.8783216525445522,0.9515151235899316,1.024708594635311,1.0979020656806904,1.463869420907587,2.927738841815174],\"y\":[0.0,0.0,0.0,0.0,0.0,0.0,0.0,0.0,0.0,0.0,0.0]},{\"line\":{\"color\":\"rgba(128, 0, 128, 0.7180616740088106)\",\"dash\":\"solid\",\"shape\":\"linear\",\"width\":1.3},\"mode\":\"lines\",\"name\":\"MUFA 16:1\",\"text\":\"\",\"type\":\"scatter\",\"x\":[0.3659673552268968,0.5489510328403452,0.6587412394084142,0.7319347104537935,0.805128181499173,0.8783216525445522,0.9515151235899316,1.024708594635311,1.0979020656806904,1.463869420907587,2.927738841815174],\"y\":[0.21438018680256832,0.21438018600080702,0.21438018715535548,0.21438016959479314,0.21438016327876228,0.21438018706041034,0.21438018715286702,0.2143801874982266,0.21438018816074267,0.21438019423049484,0.21438018623538083]},{\"line\":{\"color\":\"rgba(219, 64, 82, 0.7180616740088106)\",\"dash\":\"solid\",\"shape\":\"linear\",\"width\":1.3},\"mode\":\"lines\",\"name\":\"MUFA 16:1 c\",\"text\":\"\",\"type\":\"scatter\",\"x\":[0.3659673552268968,0.5489510328403452,0.6587412394084142,0.7319347104537935,0.805128181499173,0.8783216525445522,0.9515151235899316,1.024708594635311,1.0979020656806904,1.463869420907587,2.927738841815174],\"y\":[0.011832103807612371,0.011832103791132692,0.011832103793103104,0.011832103890694072,0.011832103855355219,0.01183210379375065,0.011832103794405833,0.011832103794949119,0.011832103795529524,0.011832103806514982,0.01183210379152087]},{\"line\":{\"color\":\"rgba(0, 128, 128, 0.7180616740088106)\",\"dash\":\"solid\",\"shape\":\"linear\",\"width\":1.3},\"mode\":\"lines\",\"name\":\"MUFA 17:1\",\"text\":\"\",\"type\":\"scatter\",\"x\":[0.3659673552268968,0.5489510328403452,0.6587412394084142,0.7319347104537935,0.805128181499173,0.8783216525445522,0.9515151235899316,1.024708594635311,1.0979020656806904,1.463869420907587,2.927738841815174],\"y\":[0.00915048220454923,0.009150482186455828,0.009150482203847426,0.0091504819769968,0.009150481878732216,0.009150482202337556,0.00915048220394673,0.00915048220910745,0.009150482218797596,0.009150482310631777,0.009150482189942893]},{\"line\":{\"color\":\"rgba(255, 255, 51, 0.7180616740088106)\",\"dash\":\"solid\",\"shape\":\"linear\",\"width\":1.3},\"mode\":\"lines\",\"name\":\"MUFA 17:1 c\",\"text\":\"\",\"type\":\"scatter\",\"x\":[0.3659673552268968,0.5489510328403452,0.6587412394084142,0.7319347104537935,0.805128181499173,0.8783216525445522,0.9515151235899316,1.024708594635311,1.0979020656806904,1.463869420907587,2.927738841815174],\"y\":[0.006105316714650734,0.0061053167134000165,0.006105316713539549,0.006105316718903676,0.006105316717290184,0.0061053167136582084,0.006105316713742564,0.0061053167138039035,0.006105316713857775,0.0061053167146726825,0.006105316713426556]},{\"line\":{\"color\":\"rgba(128, 128, 0, 0.7180616740088106)\",\"dash\":\"solid\",\"shape\":\"linear\",\"width\":1.3},\"mode\":\"lines\",\"name\":\"MUFA 18:1\",\"text\":\"\",\"type\":\"scatter\",\"x\":[0.3659673552268968,0.5489510328403452,0.6587412394084142,0.7319347104537935,0.805128181499173,0.8783216525445522,0.9515151235899316,1.024708594635311,1.0979020656806904,1.463869420907587,2.927738841815174],\"y\":[3.510105183412467,3.5101051929763503,3.5101052014759175,3.510104908600878,3.5101048662906957,3.510105165876808,3.510105161083591,3.5101051630015583,3.510105171286301,3.5101052337224172,3.5101051951287605]},{\"line\":{\"color\":\"rgba(251, 128, 114, 0.7180616740088106)\",\"dash\":\"solid\",\"shape\":\"linear\",\"width\":1.3},\"mode\":\"lines\",\"name\":\"MUFA 18:1 c\",\"text\":\"\",\"type\":\"scatter\",\"x\":[0.3659673552268968,0.5489510328403452,0.6587412394084142,0.7319347104537935,0.805128181499173,0.8783216525445522,0.9515151235899316,1.024708594635311,1.0979020656806904,1.463869420907587,2.927738841815174],\"y\":[55.26447696544938,55.264477074285914,55.264477028369086,55.264475106837814,55.26447610892265,55.264476856211985,55.26447682967977,55.264476812267795,55.26447679763674,55.26447663428172,55.26447706347024]},{\"line\":{\"color\":\"rgba(128, 177, 211, 0.7180616740088106)\",\"dash\":\"solid\",\"shape\":\"linear\",\"width\":1.3},\"mode\":\"lines\",\"name\":\"MUFA 20:1\",\"text\":\"\",\"type\":\"scatter\",\"x\":[0.3659673552268968,0.5489510328403452,0.6587412394084142,0.7319347104537935,0.805128181499173,0.8783216525445522,0.9515151235899316,1.024708594635311,1.0979020656806904,1.463869420907587,2.927738841815174],\"y\":[0.014895153494264464,0.014895153642786799,0.014895153608566669,0.01489515248479379,0.014895152631743036,0.014895153178961233,0.014895153108848917,0.014895153090956771,0.014895153113295981,0.014895153155336164,0.014895153643021398]},{\"line\":{\"color\":\"rgba(255, 153, 51, 0.7180616740088106)\",\"dash\":\"solid\",\"shape\":\"linear\",\"width\":1.3},\"mode\":\"lines\",\"name\":\"MUFA 20:1 c\",\"text\":\"\",\"type\":\"scatter\",\"x\":[0.3659673552268968,0.5489510328403452,0.6587412394084142,0.7319347104537935,0.805128181499173,0.8783216525445522,0.9515151235899316,1.024708594635311,1.0979020656806904,1.463869420907587,2.927738841815174],\"y\":[1.4488944591529331,1.448894462220242,1.4488944609684302,1.4488944082547128,1.4488944355891917,1.4488944563295698,1.4488944556099992,1.4488944551372533,1.4488944547393736,1.448894450252514,1.448894461925926]},{\"line\":{\"color\":\"rgba(55, 128, 191, 0.7180616740088106)\",\"dash\":\"solid\",\"shape\":\"linear\",\"width\":1.3},\"mode\":\"lines\",\"name\":\"MUFA 22:1\",\"text\":\"\",\"type\":\"scatter\",\"x\":[0.3659673552268968,0.5489510328403452,0.6587412394084142,0.7319347104537935,0.805128181499173,0.8783216525445522,0.9515151235899316,1.024708594635311,1.0979020656806904,1.463869420907587,2.927738841815174],\"y\":[6.383459822609998e-11,2.4706674756270043e-12,9.716500254722189e-12,3.0759368409938255e-10,2.0410930349567826e-10,1.099865247548337e-11,1.3230876566019577e-11,1.519068808289723e-11,1.742167648066055e-11,5.638963468020057e-11,5.494812428017667e-12]},{\"line\":{\"color\":\"rgba(55, 128, 191, 0.6828193832599119)\",\"dash\":\"solid\",\"shape\":\"linear\",\"width\":1.3},\"mode\":\"lines\",\"name\":\"MUFA 22:1 c\",\"text\":\"\",\"type\":\"scatter\",\"x\":[0.3659673552268968,0.5489510328403452,0.6587412394084142,0.7319347104537935,0.805128181499173,0.8783216525445522,0.9515151235899316,1.024708594635311,1.0979020656806904,1.463869420907587,2.927738841815174],\"y\":[1.4082328924111745e-12,5.4957741966191816e-14,2.520643463833497e-13,9.230984106226928e-12,5.49666547417901e-12,2.23658781216967e-13,2.623607747268355e-13,2.96791332161777e-13,3.384711560206218e-13,1.1455489318531842e-12,1.5045733965186924e-13]},{\"line\":{\"color\":\"rgba(50, 171, 96, 0.6828193832599119)\",\"dash\":\"solid\",\"shape\":\"linear\",\"width\":1.3},\"mode\":\"lines\",\"name\":\"MUFA 22:1 n-11\",\"text\":\"\",\"type\":\"scatter\",\"x\":[0.3659673552268968,0.5489510328403452,0.6587412394084142,0.7319347104537935,0.805128181499173,0.8783216525445522,0.9515151235899316,1.024708594635311,1.0979020656806904,1.463869420907587,2.927738841815174],\"y\":[0.0,0.0,0.0,0.0,0.0,0.0,0.0,0.0,0.0,0.0,0.0]},{\"line\":{\"color\":\"rgba(128, 0, 128, 0.6828193832599119)\",\"dash\":\"solid\",\"shape\":\"linear\",\"width\":1.3},\"mode\":\"lines\",\"name\":\"MUFA 22:1 n-9\",\"text\":\"\",\"type\":\"scatter\",\"x\":[0.3659673552268968,0.5489510328403452,0.6587412394084142,0.7319347104537935,0.805128181499173,0.8783216525445522,0.9515151235899316,1.024708594635311,1.0979020656806904,1.463869420907587,2.927738841815174],\"y\":[0.2340435463581091,0.23404354686482828,0.2340435466583234,0.23404353796282176,0.23404354247091105,0.23404354589339088,0.23404354577468378,0.2340435456966905,0.23404354563104682,0.23404354489062315,0.23404354681628145]},{\"line\":{\"color\":\"rgba(219, 64, 82, 0.6828193832599119)\",\"dash\":\"solid\",\"shape\":\"linear\",\"width\":1.3},\"mode\":\"lines\",\"name\":\"MUFA 24:1 c\",\"text\":\"\",\"type\":\"scatter\",\"x\":[0.3659673552268968,0.5489510328403452,0.6587412394084142,0.7319347104537935,0.805128181499173,0.8783216525445522,0.9515151235899316,1.024708594635311,1.0979020656806904,1.463869420907587,2.927738841815174],\"y\":[1.360466021799588e-11,5.263121879221165e-13,2.0642298970266463e-12,6.610121239340477e-11,4.3885491575507794e-11,2.358056585986957e-12,2.8351174971946294e-12,3.2534252745709367e-12,3.728612193606575e-12,1.2074262432277032e-11,1.1431548567611807e-12]},{\"line\":{\"color\":\"rgba(0, 128, 128, 0.6828193832599119)\",\"dash\":\"solid\",\"shape\":\"linear\",\"width\":1.3},\"mode\":\"lines\",\"name\":\"Magnesium, Mg\",\"text\":\"\",\"type\":\"scatter\",\"x\":[0.3659673552268968,0.5489510328403452,0.6587412394084142,0.7319347104537935,0.805128181499173,0.8783216525445522,0.9515151235899316,1.024708594635311,1.0979020656806904,1.463869420907587,2.927738841815174],\"y\":[731.5312325188044,731.5312338258185,731.5312334827497,731.5312139854624,731.5312238239862,731.5312319784748,731.5312317706313,731.5312316259301,731.5312314932394,731.5312303554803,731.5312337269377]},{\"line\":{\"color\":\"rgba(255, 255, 51, 0.6828193832599119)\",\"dash\":\"solid\",\"shape\":\"linear\",\"width\":1.3},\"mode\":\"lines\",\"name\":\"Malic acid\",\"text\":\"\",\"type\":\"scatter\",\"x\":[0.3659673552268968,0.5489510328403452,0.6587412394084142,0.7319347104537935,0.805128181499173,0.8783216525445522,0.9515151235899316,1.024708594635311,1.0979020656806904,1.463869420907587,2.927738841815174],\"y\":[586.5789590471778,586.5789839961304,586.5789798435685,586.5787532155205,586.5788494211967,586.5789619483257,586.5789589027414,586.5789573256959,586.5789565550211,586.578943606351,586.5789829138009]},{\"line\":{\"color\":\"rgba(128, 128, 0, 0.6828193832599119)\",\"dash\":\"solid\",\"shape\":\"linear\",\"width\":1.3},\"mode\":\"lines\",\"name\":\"Maltose\",\"text\":\"\",\"type\":\"scatter\",\"x\":[0.3659673552268968,0.5489510328403452,0.6587412394084142,0.7319347104537935,0.805128181499173,0.8783216525445522,0.9515151235899316,1.024708594635311,1.0979020656806904,1.463869420907587,2.927738841815174],\"y\":[0.3261176906675352,0.32611770237257354,0.3261176986325864,0.3261177371970329,0.32611773061667637,0.32611768080012865,0.3261176777161559,0.32611767629581484,0.3261176759641141,0.3261176667324677,0.32611770175189264]},{\"line\":{\"color\":\"rgba(251, 128, 114, 0.6828193832599119)\",\"dash\":\"solid\",\"shape\":\"linear\",\"width\":1.3},\"mode\":\"lines\",\"name\":\"Manganese, Mn\",\"text\":\"\",\"type\":\"scatter\",\"x\":[0.3659673552268968,0.5489510328403452,0.6587412394084142,0.7319347104537935,0.805128181499173,0.8783216525445522,0.9515151235899316,1.024708594635311,1.0979020656806904,1.463869420907587,2.927738841815174],\"y\":[6.098906163561851,6.098906161186387,6.098906158571573,6.098906107282732,6.098906150061713,6.098906143219216,6.098906141228922,6.0989061400438205,6.098906139226926,6.0989061335592805,6.098906160853717]},{\"line\":{\"color\":\"rgba(128, 177, 211, 0.6828193832599119)\",\"dash\":\"solid\",\"shape\":\"linear\",\"width\":1.3},\"mode\":\"lines\",\"name\":\"Methionine\",\"text\":\"\",\"type\":\"scatter\",\"x\":[0.3659673552268968,0.5489510328403452,0.6587412394084142,0.7319347104537935,0.805128181499173,0.8783216525445522,0.9515151235899316,1.024708594635311,1.0979020656806904,1.463869420907587,2.927738841815174],\"y\":[1.2615511348442612,1.2615511344826422,1.26155113427851,1.261551130183689,1.2615511352333646,1.2615511338009018,1.2615511337884602,1.2615511337046925,1.261551133535327,1.261551132781238,1.2615511344408104]},{\"line\":{\"color\":\"rgba(255, 153, 51, 0.6828193832599119)\",\"dash\":\"solid\",\"shape\":\"linear\",\"width\":1.3},\"mode\":\"lines\",\"name\":\"Minerals\",\"text\":\"\",\"type\":\"scatter\",\"x\":[0.3659673552268968,0.5489510328403452,0.6587412394084142,0.7319347104537935,0.805128181499173,0.8783216525445522,0.9515151235899316,1.024708594635311,1.0979020656806904,1.463869420907587,2.927738841815174],\"y\":[0.0,0.0,0.0,0.0,0.0,0.0,0.0,0.0,0.0,0.0,0.0]},{\"line\":{\"color\":\"rgba(255, 153, 51, 0.6475770925110131)\",\"dash\":\"solid\",\"shape\":\"linear\",\"width\":1.3},\"mode\":\"lines\",\"name\":\"Molybdenum, Mo\",\"text\":\"\",\"type\":\"scatter\",\"x\":[0.3659673552268968,0.5489510328403452,0.6587412394084142,0.7319347104537935,0.805128181499173,0.8783216525445522,0.9515151235899316,1.024708594635311,1.0979020656806904,1.463869420907587,2.927738841815174],\"y\":[356.4283899779316,356.4283897378878,356.42838976850027,356.42839091822776,356.42839052174804,356.4283897819631,356.42838979540346,356.4283898057972,356.4283898158082,356.42838998143066,356.42838974445283]},{\"line\":{\"color\":\"rgba(55, 128, 191, 0.6475770925110131)\",\"dash\":\"solid\",\"shape\":\"linear\",\"width\":1.3},\"mode\":\"lines\",\"name\":\"Niacin\",\"text\":\"\",\"type\":\"scatter\",\"x\":[0.3659673552268968,0.5489510328403452,0.6587412394084142,0.7319347104537935,0.805128181499173,0.8783216525445522,0.9515151235899316,1.024708594635311,1.0979020656806904,1.463869420907587,2.927738841815174],\"y\":[38.21315218332913,38.21315223767074,38.21315221102051,38.213151444529366,38.21315186821096,38.21315209917493,38.21315208122393,38.21315207104907,38.21315206469074,38.21315197860009,38.21315223257272]},{\"line\":{\"color\":\"rgba(50, 171, 96, 0.6475770925110131)\",\"dash\":\"solid\",\"shape\":\"linear\",\"width\":1.3},\"mode\":\"lines\",\"name\":\"Nitrogen\",\"text\":\"\",\"type\":\"scatter\",\"x\":[0.3659673552268968,0.5489510328403452,0.6587412394084142,0.7319347104537935,0.805128181499173,0.8783216525445522,0.9515151235899316,1.024708594635311,1.0979020656806904,1.463869420907587,2.927738841815174],\"y\":[11.493774643703762,11.493774663731704,11.493774656172292,11.493774321301368,11.493774491460496,11.493774625994476,11.493774621365272,11.493774618446876,11.493774616150493,11.493774589783145,11.493774661906093]},{\"line\":{\"color\":\"rgba(128, 0, 128, 0.6475770925110131)\",\"dash\":\"solid\",\"shape\":\"linear\",\"width\":1.3},\"mode\":\"lines\",\"name\":\"Oligosaccharides\",\"text\":\"\",\"type\":\"scatter\",\"x\":[0.3659673552268968,0.5489510328403452,0.6587412394084142,0.7319347104537935,0.805128181499173,0.8783216525445522,0.9515151235899316,1.024708594635311,1.0979020656806904,1.463869420907587,2.927738841815174],\"y\":[0.0,0.0,0.0,0.0,0.0,0.0,0.0,0.0,0.0,0.0,0.0]},{\"line\":{\"color\":\"rgba(219, 64, 82, 0.6475770925110131)\",\"dash\":\"solid\",\"shape\":\"linear\",\"width\":1.3},\"mode\":\"lines\",\"name\":\"Organic acids\",\"text\":\"\",\"type\":\"scatter\",\"x\":[0.3659673552268968,0.5489510328403452,0.6587412394084142,0.7319347104537935,0.805128181499173,0.8783216525445522,0.9515151235899316,1.024708594635311,1.0979020656806904,1.463869420907587,2.927738841815174],\"y\":[0.0,0.0,0.0,0.0,0.0,0.0,0.0,0.0,0.0,0.0,0.0]},{\"line\":{\"color\":\"rgba(0, 128, 128, 0.6475770925110131)\",\"dash\":\"solid\",\"shape\":\"linear\",\"width\":1.3},\"mode\":\"lines\",\"name\":\"Oxalic acid\",\"text\":\"\",\"type\":\"scatter\",\"x\":[0.3659673552268968,0.5489510328403452,0.6587412394084142,0.7319347104537935,0.805128181499173,0.8783216525445522,0.9515151235899316,1.024708594635311,1.0979020656806904,1.463869420907587,2.927738841815174],\"y\":[0.0,0.0,0.0,0.0,0.0,0.0,0.0,0.0,0.0,0.0,0.0]},{\"line\":{\"color\":\"rgba(255, 255, 51, 0.6475770925110131)\",\"dash\":\"solid\",\"shape\":\"linear\",\"width\":1.3},\"mode\":\"lines\",\"name\":\"PUFA 18:2\",\"text\":\"\",\"type\":\"scatter\",\"x\":[0.3659673552268968,0.5489510328403452,0.6587412394084142,0.7319347104537935,0.805128181499173,0.8783216525445522,0.9515151235899316,1.024708594635311,1.0979020656806904,1.463869420907587,2.927738841815174],\"y\":[1.2399538180247671,1.2399538080665018,1.2399538097929441,1.2399538869659634,1.2399538327064537,1.239953799224594,1.2399537978375232,1.239953798149701,1.2399538000398427,1.2399538156175465,1.2399538088177764]},{\"line\":{\"color\":\"rgba(128, 128, 0, 0.6475770925110131)\",\"dash\":\"solid\",\"shape\":\"linear\",\"width\":1.3},\"mode\":\"lines\",\"name\":\"PUFA 18:2 CLAs\",\"text\":\"\",\"type\":\"scatter\",\"x\":[0.3659673552268968,0.5489510328403452,0.6587412394084142,0.7319347104537935,0.805128181499173,0.8783216525445522,0.9515151235899316,1.024708594635311,1.0979020656806904,1.463869420907587,2.927738841815174],\"y\":[2.4556115935282508e-12,9.458479970970569e-14,3.7719292812474823e-13,1.4972339594058437e-11,9.617383894035878e-12,4.533905000381402e-13,5.367464029582286e-13,6.086043262729518e-13,6.889272849566358e-13,2.2776261743525798e-12,1.4558373285395587e-13]},{\"line\":{\"color\":\"rgba(251, 128, 114, 0.6475770925110131)\",\"dash\":\"solid\",\"shape\":\"linear\",\"width\":1.3},\"mode\":\"lines\",\"name\":\"PUFA 18:2 c\",\"text\":\"\",\"type\":\"scatter\",\"x\":[0.3659673552268968,0.5489510328403452,0.6587412394084142,0.7319347104537935,0.805128181499173,0.8783216525445522,0.9515151235899316,1.024708594635311,1.0979020656806904,1.463869420907587,2.927738841815174],\"y\":[6.030831850731994,6.030831849496536,6.0308318496343665,6.030831854933051,6.030831853339244,6.0308318497515785,6.030831849834905,6.030831849895495,6.03083184994871,6.030831850753676,6.030831849522753]},{\"line\":{\"color\":\"rgba(128, 177, 211, 0.6475770925110131)\",\"dash\":\"solid\",\"shape\":\"linear\",\"width\":1.3},\"mode\":\"lines\",\"name\":\"PUFA 18:2 n-6 c,c\",\"text\":\"\",\"type\":\"scatter\",\"x\":[0.3659673552268968,0.5489510328403452,0.6587412394084142,0.7319347104537935,0.805128181499173,0.8783216525445522,0.9515151235899316,1.024708594635311,1.0979020656806904,1.463869420907587,2.927738841815174],\"y\":[23.287997287504144,23.287997316708832,23.287997302463683,23.287996709656895,23.287997024481264,23.28799724637135,23.28799723794236,23.287997232459933,23.287997227906573,23.2879971787305,23.287997313333285]},{\"line\":{\"color\":\"rgba(128, 177, 211, 0.6123348017621146)\",\"dash\":\"solid\",\"shape\":\"linear\",\"width\":1.3},\"mode\":\"lines\",\"name\":\"PUFA 18:3\",\"text\":\"\",\"type\":\"scatter\",\"x\":[0.3659673552268968,0.5489510328403452,0.6587412394084142,0.7319347104537935,0.805128181499173,0.8783216525445522,0.9515151235899316,1.024708594635311,1.0979020656806904,1.463869420907587,2.927738841815174],\"y\":[0.47045579766552165,0.47045579959114764,0.47045579912450625,0.47045577953960305,0.4704557884621164,0.4704557959190947,0.47045579543628935,0.4704557952312796,0.47045579520514613,0.470455794493912,0.47045579950291905]},{\"line\":{\"color\":\"rgba(255, 153, 51, 0.6123348017621146)\",\"dash\":\"solid\",\"shape\":\"linear\",\"width\":1.3},\"mode\":\"lines\",\"name\":\"PUFA 18:3 c\",\"text\":\"\",\"type\":\"scatter\",\"x\":[0.3659673552268968,0.5489510328403452,0.6587412394084142,0.7319347104537935,0.805128181499173,0.8783216525445522,0.9515151235899316,1.024708594635311,1.0979020656806904,1.463869420907587,2.927738841815174],\"y\":[1.015924701317882,1.0159247011097627,1.0159247011329808,1.0159247020255715,1.0159247017570865,1.0159247011527257,1.0159247011667625,1.0159247011769694,1.0159247011859336,1.0159247013215342,1.015924701114179]},{\"line\":{\"color\":\"rgba(55, 128, 191, 0.6123348017621146)\",\"dash\":\"solid\",\"shape\":\"linear\",\"width\":1.3},\"mode\":\"lines\",\"name\":\"PUFA 18:3 n-3 c,c,c (ALA)\",\"text\":\"\",\"type\":\"scatter\",\"x\":[0.3659673552268968,0.5489510328403452,0.6587412394084142,0.7319347104537935,0.805128181499173,0.8783216525445522,0.9515151235899316,1.024708594635311,1.0979020656806904,1.463869420907587,2.927738841815174],\"y\":[1.0497260389219072,1.0497260378846254,1.0497260381770877,1.0497260413897331,1.049726038215009,1.049726038210224,1.0497260382668565,1.0497260383526914,1.049726038487522,1.0497260400551076,1.0497260379453726]},{\"line\":{\"color\":\"rgba(50, 171, 96, 0.6123348017621146)\",\"dash\":\"solid\",\"shape\":\"linear\",\"width\":1.3},\"mode\":\"lines\",\"name\":\"PUFA 18:3 n-6 c,c,c\",\"text\":\"\",\"type\":\"scatter\",\"x\":[0.3659673552268968,0.5489510328403452,0.6587412394084142,0.7319347104537935,0.805128181499173,0.8783216525445522,0.9515151235899316,1.024708594635311,1.0979020656806904,1.463869420907587,2.927738841815174],\"y\":[0.004567748236132759,0.004567748209633034,0.004567748235650262,0.004567747894813499,0.00456774774720047,0.004567748233265366,0.00456774823559849,0.0045677482432868585,0.004567748257784399,0.004567748395170671,0.004567748214833947]},{\"line\":{\"color\":\"rgba(128, 0, 128, 0.6123348017621146)\",\"dash\":\"solid\",\"shape\":\"linear\",\"width\":1.3},\"mode\":\"lines\",\"name\":\"PUFA 18:3i\",\"text\":\"\",\"type\":\"scatter\",\"x\":[0.3659673552268968,0.5489510328403452,0.6587412394084142,0.7319347104537935,0.805128181499173,0.8783216525445522,0.9515151235899316,1.024708594635311,1.0979020656806904,1.463869420907587,2.927738841815174],\"y\":[0.0,0.0,0.0,0.0,0.0,0.0,0.0,0.0,0.0,0.0,0.0]},{\"line\":{\"color\":\"rgba(219, 64, 82, 0.6123348017621146)\",\"dash\":\"solid\",\"shape\":\"linear\",\"width\":1.3},\"mode\":\"lines\",\"name\":\"PUFA 18:4\",\"text\":\"\",\"type\":\"scatter\",\"x\":[0.3659673552268968,0.5489510328403452,0.6587412394084142,0.7319347104537935,0.805128181499173,0.8783216525445522,0.9515151235899316,1.024708594635311,1.0979020656806904,1.463869420907587,2.927738841815174],\"y\":[0.0,0.0,0.0,0.0,0.0,0.0,0.0,0.0,0.0,0.0,0.0]},{\"line\":{\"color\":\"rgba(0, 128, 128, 0.6123348017621146)\",\"dash\":\"solid\",\"shape\":\"linear\",\"width\":1.3},\"mode\":\"lines\",\"name\":\"PUFA 20:2 c\",\"text\":\"\",\"type\":\"scatter\",\"x\":[0.3659673552268968,0.5489510328403452,0.6587412394084142,0.7319347104537935,0.805128181499173,0.8783216525445522,0.9515151235899316,1.024708594635311,1.0979020656806904,1.463869420907587,2.927738841815174],\"y\":[0.0034342406519910374,0.003434240651287509,0.0034342406513659957,0.0034342406543833174,0.0034342406534757283,0.003434240651432742,0.003434240651480192,0.0034342406515146954,0.003434240651544998,0.0034342406520033834,0.0034342406513024376]},{\"line\":{\"color\":\"rgba(255, 255, 51, 0.6123348017621146)\",\"dash\":\"solid\",\"shape\":\"linear\",\"width\":1.3},\"mode\":\"lines\",\"name\":\"PUFA 20:2 n-6 c,c\",\"text\":\"\",\"type\":\"scatter\",\"x\":[0.3659673552268968,0.5489510328403452,0.6587412394084142,0.7319347104537935,0.805128181499173,0.8783216525445522,0.9515151235899316,1.024708594635311,1.0979020656806904,1.463869420907587,2.927738841815174],\"y\":[0.0034342406559693026,0.003434240651441101,0.003434240651994952,0.0034342406789619286,0.0034342406690472393,0.003434240652149092,0.0034342406523270343,0.0034342406524745634,0.0034342406526328036,0.0034342406556129926,0.0034342406515717777]},{\"line\":{\"color\":\"rgba(128, 128, 0, 0.6123348017621146)\",\"dash\":\"solid\",\"shape\":\"linear\",\"width\":1.3},\"mode\":\"lines\",\"name\":\"PUFA 20:3\",\"text\":\"\",\"type\":\"scatter\",\"x\":[0.3659673552268968,0.5489510328403452,0.6587412394084142,0.7319347104537935,0.805128181499173,0.8783216525445522,0.9515151235899316,1.024708594635311,1.0979020656806904,1.463869420907587,2.927738841815174],\"y\":[0.00487226477223373,0.00487226475644177,0.004872264782681596,0.004872264341682228,0.004872264212875747,0.004872264779773563,0.00487226478182666,0.00487226478965153,0.004872264804693514,0.00487226494290024,0.004872264761684617]},{\"line\":{\"color\":\"rgba(251, 128, 114, 0.6123348017621146)\",\"dash\":\"solid\",\"shape\":\"linear\",\"width\":1.3},\"mode\":\"lines\",\"name\":\"PUFA 20:3 c\",\"text\":\"\",\"type\":\"scatter\",\"x\":[0.3659673552268968,0.5489510328403452,0.6587412394084142,0.7319347104537935,0.805128181499173,0.8783216525445522,0.9515151235899316,1.024708594635311,1.0979020656806904,1.463869420907587,2.927738841815174],\"y\":[0.0,0.0,0.0,0.0,0.0,0.0,0.0,0.0,0.0,0.0,0.0]},{\"line\":{\"color\":\"rgba(251, 128, 114, 0.5770925110132159)\",\"dash\":\"solid\",\"shape\":\"linear\",\"width\":1.3},\"mode\":\"lines\",\"name\":\"PUFA 20:3 n-3\",\"text\":\"\",\"type\":\"scatter\",\"x\":[0.3659673552268968,0.5489510328403452,0.6587412394084142,0.7319347104537935,0.805128181499173,0.8783216525445522,0.9515151235899316,1.024708594635311,1.0979020656806904,1.463869420907587,2.927738841815174],\"y\":[0.0,0.0,0.0,0.0,0.0,0.0,0.0,0.0,0.0,0.0,0.0]},{\"line\":{\"color\":\"rgba(128, 177, 211, 0.5770925110132159)\",\"dash\":\"solid\",\"shape\":\"linear\",\"width\":1.3},\"mode\":\"lines\",\"name\":\"PUFA 20:3 n-9\",\"text\":\"\",\"type\":\"scatter\",\"x\":[0.3659673552268968,0.5489510328403452,0.6587412394084142,0.7319347104537935,0.805128181499173,0.8783216525445522,0.9515151235899316,1.024708594635311,1.0979020656806904,1.463869420907587,2.927738841815174],\"y\":[0.0,0.0,0.0,0.0,0.0,0.0,0.0,0.0,0.0,0.0,0.0]},{\"line\":{\"color\":\"rgba(255, 153, 51, 0.5770925110132159)\",\"dash\":\"solid\",\"shape\":\"linear\",\"width\":1.3},\"mode\":\"lines\",\"name\":\"PUFA 20:4\",\"text\":\"\",\"type\":\"scatter\",\"x\":[0.3659673552268968,0.5489510328403452,0.6587412394084142,0.7319347104537935,0.805128181499173,0.8783216525445522,0.9515151235899316,1.024708594635311,1.0979020656806904,1.463869420907587,2.927738841815174],\"y\":[0.0005050329331714848,0.0005050329267390874,0.0005050329270959549,0.0005050329214612186,0.0005050329322826194,0.0005050329227371409,0.0005050329225659159,0.0005050329225393999,0.0005050329226018418,0.000505032927377288,0.0005050329268510428]},{\"line\":{\"color\":\"rgba(55, 128, 191, 0.5770925110132159)\",\"dash\":\"solid\",\"shape\":\"linear\",\"width\":1.3},\"mode\":\"lines\",\"name\":\"PUFA 20:4 n-6\",\"text\":\"\",\"type\":\"scatter\",\"x\":[0.3659673552268968,0.5489510328403452,0.6587412394084142,0.7319347104537935,0.805128181499173,0.8783216525445522,0.9515151235899316,1.024708594635311,1.0979020656806904,1.463869420907587,2.927738841815174],\"y\":[0.0,0.0,0.0,0.0,0.0,0.0,0.0,0.0,0.0,0.0,0.0]},{\"line\":{\"color\":\"rgba(50, 171, 96, 0.5770925110132159)\",\"dash\":\"solid\",\"shape\":\"linear\",\"width\":1.3},\"mode\":\"lines\",\"name\":\"PUFA 20:4c\",\"text\":\"\",\"type\":\"scatter\",\"x\":[0.3659673552268968,0.5489510328403452,0.6587412394084142,0.7319347104537935,0.805128181499173,0.8783216525445522,0.9515151235899316,1.024708594635311,1.0979020656806904,1.463869420907587,2.927738841815174],\"y\":[0.0,0.0,0.0,0.0,0.0,0.0,0.0,0.0,0.0,0.0,0.0]},{\"line\":{\"color\":\"rgba(128, 0, 128, 0.5770925110132159)\",\"dash\":\"solid\",\"shape\":\"linear\",\"width\":1.3},\"mode\":\"lines\",\"name\":\"PUFA 20:5 n-3 (EPA)\",\"text\":\"\",\"type\":\"scatter\",\"x\":[0.3659673552268968,0.5489510328403452,0.6587412394084142,0.7319347104537935,0.805128181499173,0.8783216525445522,0.9515151235899316,1.024708594635311,1.0979020656806904,1.463869420907587,2.927738841815174],\"y\":[0.0,0.0,0.0,0.0,0.0,0.0,0.0,0.0,0.0,0.0,0.0]},{\"line\":{\"color\":\"rgba(219, 64, 82, 0.5770925110132159)\",\"dash\":\"solid\",\"shape\":\"linear\",\"width\":1.3},\"mode\":\"lines\",\"name\":\"PUFA 20:5c\",\"text\":\"\",\"type\":\"scatter\",\"x\":[0.3659673552268968,0.5489510328403452,0.6587412394084142,0.7319347104537935,0.805128181499173,0.8783216525445522,0.9515151235899316,1.024708594635311,1.0979020656806904,1.463869420907587,2.927738841815174],\"y\":[0.0,0.0,0.0,0.0,0.0,0.0,0.0,0.0,0.0,0.0,0.0]},{\"line\":{\"color\":\"rgba(0, 128, 128, 0.5770925110132159)\",\"dash\":\"solid\",\"shape\":\"linear\",\"width\":1.3},\"mode\":\"lines\",\"name\":\"PUFA 21:5\",\"text\":\"\",\"type\":\"scatter\",\"x\":[0.3659673552268968,0.5489510328403452,0.6587412394084142,0.7319347104537935,0.805128181499173,0.8783216525445522,0.9515151235899316,1.024708594635311,1.0979020656806904,1.463869420907587,2.927738841815174],\"y\":[0.0,0.0,0.0,0.0,0.0,0.0,0.0,0.0,0.0,0.0,0.0]},{\"line\":{\"color\":\"rgba(255, 255, 51, 0.5770925110132159)\",\"dash\":\"solid\",\"shape\":\"linear\",\"width\":1.3},\"mode\":\"lines\",\"name\":\"PUFA 22:2\",\"text\":\"\",\"type\":\"scatter\",\"x\":[0.3659673552268968,0.5489510328403452,0.6587412394084142,0.7319347104537935,0.805128181499173,0.8783216525445522,0.9515151235899316,1.024708594635311,1.0979020656806904,1.463869420907587,2.927738841815174],\"y\":[0.0,0.0,0.0,0.0,0.0,0.0,0.0,0.0,0.0,0.0,0.0]},{\"line\":{\"color\":\"rgba(128, 128, 0, 0.5770925110132159)\",\"dash\":\"solid\",\"shape\":\"linear\",\"width\":1.3},\"mode\":\"lines\",\"name\":\"PUFA 22:3\",\"text\":\"\",\"type\":\"scatter\",\"x\":[0.3659673552268968,0.5489510328403452,0.6587412394084142,0.7319347104537935,0.805128181499173,0.8783216525445522,0.9515151235899316,1.024708594635311,1.0979020656806904,1.463869420907587,2.927738841815174],\"y\":[0.0,0.0,0.0,0.0,0.0,0.0,0.0,0.0,0.0,0.0,0.0]},{\"line\":{\"color\":\"rgba(128, 128, 0, 0.5418502202643172)\",\"dash\":\"solid\",\"shape\":\"linear\",\"width\":1.3},\"mode\":\"lines\",\"name\":\"PUFA 22:4\",\"text\":\"\",\"type\":\"scatter\",\"x\":[0.3659673552268968,0.5489510328403452,0.6587412394084142,0.7319347104537935,0.805128181499173,0.8783216525445522,0.9515151235899316,1.024708594635311,1.0979020656806904,1.463869420907587,2.927738841815174],\"y\":[0.0,0.0,0.0,0.0,0.0,0.0,0.0,0.0,0.0,0.0,0.0]},{\"line\":{\"color\":\"rgba(251, 128, 114, 0.5418502202643172)\",\"dash\":\"solid\",\"shape\":\"linear\",\"width\":1.3},\"mode\":\"lines\",\"name\":\"PUFA 22:5 c\",\"text\":\"\",\"type\":\"scatter\",\"x\":[0.3659673552268968,0.5489510328403452,0.6587412394084142,0.7319347104537935,0.805128181499173,0.8783216525445522,0.9515151235899316,1.024708594635311,1.0979020656806904,1.463869420907587,2.927738841815174],\"y\":[0.0,0.0,0.0,0.0,0.0,0.0,0.0,0.0,0.0,0.0,0.0]},{\"line\":{\"color\":\"rgba(128, 177, 211, 0.5418502202643172)\",\"dash\":\"solid\",\"shape\":\"linear\",\"width\":1.3},\"mode\":\"lines\",\"name\":\"PUFA 22:5 n-3 (DPA)\",\"text\":\"\",\"type\":\"scatter\",\"x\":[0.3659673552268968,0.5489510328403452,0.6587412394084142,0.7319347104537935,0.805128181499173,0.8783216525445522,0.9515151235899316,1.024708594635311,1.0979020656806904,1.463869420907587,2.927738841815174],\"y\":[0.0,0.0,0.0,0.0,0.0,0.0,0.0,0.0,0.0,0.0,0.0]},{\"line\":{\"color\":\"rgba(255, 153, 51, 0.5418502202643172)\",\"dash\":\"solid\",\"shape\":\"linear\",\"width\":1.3},\"mode\":\"lines\",\"name\":\"PUFA 22:6 c\",\"text\":\"\",\"type\":\"scatter\",\"x\":[0.3659673552268968,0.5489510328403452,0.6587412394084142,0.7319347104537935,0.805128181499173,0.8783216525445522,0.9515151235899316,1.024708594635311,1.0979020656806904,1.463869420907587,2.927738841815174],\"y\":[0.0,0.0,0.0,0.0,0.0,0.0,0.0,0.0,0.0,0.0,0.0]},{\"line\":{\"color\":\"rgba(55, 128, 191, 0.5418502202643172)\",\"dash\":\"solid\",\"shape\":\"linear\",\"width\":1.3},\"mode\":\"lines\",\"name\":\"PUFA 22:6 n-3 (DHA)\",\"text\":\"\",\"type\":\"scatter\",\"x\":[0.3659673552268968,0.5489510328403452,0.6587412394084142,0.7319347104537935,0.805128181499173,0.8783216525445522,0.9515151235899316,1.024708594635311,1.0979020656806904,1.463869420907587,2.927738841815174],\"y\":[3.534986952630571e-11,1.3679320178561227e-12,5.359379369782234e-12,1.689523722852809e-10,1.1246739743386102e-10,6.10150245337977e-12,7.343617375792275e-12,8.433893340777908e-12,9.673622292265983e-12,3.1282795544244904e-11,3.02632155606256e-12]},{\"line\":{\"color\":\"rgba(50, 171, 96, 0.5418502202643172)\",\"dash\":\"solid\",\"shape\":\"linear\",\"width\":1.3},\"mode\":\"lines\",\"name\":\"Pantothenic acid\",\"text\":\"\",\"type\":\"scatter\",\"x\":[0.3659673552268968,0.5489510328403452,0.6587412394084142,0.7319347104537935,0.805128181499173,0.8783216525445522,0.9515151235899316,1.024708594635311,1.0979020656806904,1.463869420907587,2.927738841815174],\"y\":[1.6446993572530946,1.6446993326112758,1.644699338231838,1.6446995691915873,1.6446994483086594,1.6446993533734453,1.6446993560220773,1.644699357991311,1.6446993599647992,1.6446993824629357,1.6446993342101905]},{\"line\":{\"color\":\"rgba(128, 0, 128, 0.5418502202643172)\",\"dash\":\"solid\",\"shape\":\"linear\",\"width\":1.3},\"mode\":\"lines\",\"name\":\"Phenylalanine\",\"text\":\"\",\"type\":\"scatter\",\"x\":[0.3659673552268968,0.5489510328403452,0.6587412394084142,0.7319347104537935,0.805128181499173,0.8783216525445522,0.9515151235899316,1.024708594635311,1.0979020656806904,1.463869420907587,2.927738841815174],\"y\":[5.767722056712775,5.767722055877562,5.767722054556792,5.767722006333353,5.767722044189049,5.7677220519109405,5.767722051816112,5.767722051303461,5.767722050280581,5.767722044966196,5.767722055529349]},{\"line\":{\"color\":\"rgba(219, 64, 82, 0.5418502202643172)\",\"dash\":\"solid\",\"shape\":\"linear\",\"width\":1.3},\"mode\":\"lines\",\"name\":\"Phosphorus, P\",\"text\":\"\",\"type\":\"scatter\",\"x\":[0.3659673552268968,0.5489510328403452,0.6587412394084142,0.7319347104537935,0.805128181499173,0.8783216525445522,0.9515151235899316,1.024708594635311,1.0979020656806904,1.463869420907587,2.927738841815174],\"y\":[1811.717750113554,1811.7177503164849,1811.7177498525236,1811.7177382596337,1811.7177480034381,1811.7177480649882,1811.7177478644442,1811.717747673682,1811.717747435621,1811.717745993634,1811.717750220102]},{\"line\":{\"color\":\"rgba(0, 128, 128, 0.5418502202643172)\",\"dash\":\"solid\",\"shape\":\"linear\",\"width\":1.3},\"mode\":\"lines\",\"name\":\"Phytosterols\",\"text\":\"\",\"type\":\"scatter\",\"x\":[0.3659673552268968,0.5489510328403452,0.6587412394084142,0.7319347104537935,0.805128181499173,0.8783216525445522,0.9515151235899316,1.024708594635311,1.0979020656806904,1.463869420907587,2.927738841815174],\"y\":[5.432710751086565e-09,2.916236613025008e-10,1.115548842949434e-09,3.8149938955698984e-08,2.594097604221767e-08,1.5515059895608255e-09,1.8513783013684369e-09,2.0890980511867014e-09,2.33294590274128e-09,6.807633119852251e-09,4.753308730489098e-10]},{\"line\":{\"color\":\"rgba(255, 255, 51, 0.5418502202643172)\",\"dash\":\"solid\",\"shape\":\"linear\",\"width\":1.3},\"mode\":\"lines\",\"name\":\"Potassium, K\",\"text\":\"\",\"type\":\"scatter\",\"x\":[0.3659673552268968,0.5489510328403452,0.6587412394084142,0.7319347104537935,0.805128181499173,0.8783216525445522,0.9515151235899316,1.024708594635311,1.0979020656806904,1.463869420907587,2.927738841815174],\"y\":[4700.000001519131,4700.000000058775,4700.0000002352,4700.000010381467,4700.000006846125,4700.000000292803,4700.000000343809,4700.000000388494,4700.000000439578,4700.000001490286,4700.000000087977]},{\"line\":{\"color\":\"rgba(255, 255, 51, 0.5066079295154184)\",\"dash\":\"solid\",\"shape\":\"linear\",\"width\":1.3},\"mode\":\"lines\",\"name\":\"Proline\",\"text\":\"\",\"type\":\"scatter\",\"x\":[0.3659673552268968,0.5489510328403452,0.6587412394084142,0.7319347104537935,0.805128181499173,0.8783216525445522,0.9515151235899316,1.024708594635311,1.0979020656806904,1.463869420907587,2.927738841815174],\"y\":[87.86788725615317,87.86788723934279,87.86788723961067,87.86788731233858,87.86788730901311,87.86788723678723,87.86788723752677,87.8678872377287,87.86788723747681,87.86788724313783,87.8678872393147]},{\"line\":{\"color\":\"rgba(128, 128, 0, 0.5066079295154184)\",\"dash\":\"solid\",\"shape\":\"linear\",\"width\":1.3},\"mode\":\"lines\",\"name\":\"Protein\",\"text\":\"\",\"type\":\"scatter\",\"x\":[0.3659673552268968,0.5489510328403452,0.6587412394084142,0.7319347104537935,0.805128181499173,0.8783216525445522,0.9515151235899316,1.024708594635311,1.0979020656806904,1.463869420907587,2.927738841815174],\"y\":[100.83375170299172,100.83375169114325,100.83375166429087,100.83375070154362,100.83375142818915,100.83375156492728,100.8337515562706,100.83375154497504,100.83375152809202,100.8337514442141,100.83375168409451]},{\"line\":{\"color\":\"rgba(251, 128, 114, 0.5066079295154184)\",\"dash\":\"solid\",\"shape\":\"linear\",\"width\":1.3},\"mode\":\"lines\",\"name\":\"Proximates\",\"text\":\"\",\"type\":\"scatter\",\"x\":[0.3659673552268968,0.5489510328403452,0.6587412394084142,0.7319347104537935,0.805128181499173,0.8783216525445522,0.9515151235899316,1.024708594635311,1.0979020656806904,1.463869420907587,2.927738841815174],\"y\":[0.0,0.0,0.0,0.0,0.0,0.0,0.0,0.0,0.0,0.0,0.0]},{\"line\":{\"color\":\"rgba(128, 177, 211, 0.5066079295154184)\",\"dash\":\"solid\",\"shape\":\"linear\",\"width\":1.3},\"mode\":\"lines\",\"name\":\"Pyruvic acid\",\"text\":\"\",\"type\":\"scatter\",\"x\":[0.3659673552268968,0.5489510328403452,0.6587412394084142,0.7319347104537935,0.805128181499173,0.8783216525445522,0.9515151235899316,1.024708594635311,1.0979020656806904,1.463869420907587,2.927738841815174],\"y\":[0.0,0.0,0.0,0.0,0.0,0.0,0.0,0.0,0.0,0.0,0.0]},{\"line\":{\"color\":\"rgba(255, 153, 51, 0.5066079295154184)\",\"dash\":\"solid\",\"shape\":\"linear\",\"width\":1.3},\"mode\":\"lines\",\"name\":\"Quinic acid\",\"text\":\"\",\"type\":\"scatter\",\"x\":[0.3659673552268968,0.5489510328403452,0.6587412394084142,0.7319347104537935,0.805128181499173,0.8783216525445522,0.9515151235899316,1.024708594635311,1.0979020656806904,1.463869420907587,2.927738841815174],\"y\":[0.0,0.0,0.0,0.0,0.0,0.0,0.0,0.0,0.0,0.0,0.0]},{\"line\":{\"color\":\"rgba(55, 128, 191, 0.5066079295154184)\",\"dash\":\"solid\",\"shape\":\"linear\",\"width\":1.3},\"mode\":\"lines\",\"name\":\"Raffinose\",\"text\":\"\",\"type\":\"scatter\",\"x\":[0.3659673552268968,0.5489510328403452,0.6587412394084142,0.7319347104537935,0.805128181499173,0.8783216525445522,0.9515151235899316,1.024708594635311,1.0979020656806904,1.463869420907587,2.927738841815174],\"y\":[0.40618672102571335,0.40618672094250313,0.4061867209517862,0.40618672130866157,0.406186721201316,0.4061867209596806,0.4061867209652928,0.4061867209693737,0.40618672097295777,0.40618672102717357,0.40618672094426883]},{\"line\":{\"color\":\"rgba(50, 171, 96, 0.5066079295154184)\",\"dash\":\"solid\",\"shape\":\"linear\",\"width\":1.3},\"mode\":\"lines\",\"name\":\"Retinol\",\"text\":\"\",\"type\":\"scatter\",\"x\":[0.3659673552268968,0.5489510328403452,0.6587412394084142,0.7319347104537935,0.805128181499173,0.8783216525445522,0.9515151235899316,1.024708594635311,1.0979020656806904,1.463869420907587,2.927738841815174],\"y\":[355.5125922941122,355.51259222128294,355.5125922294079,355.512592541761,355.5125924478074,355.51259223631746,355.51259224122947,355.5125922448013,355.5125922479382,355.5125922953903,355.51259222282835]},{\"line\":{\"color\":\"rgba(128, 0, 128, 0.5066079295154184)\",\"dash\":\"solid\",\"shape\":\"linear\",\"width\":1.3},\"mode\":\"lines\",\"name\":\"Riboflavin\",\"text\":\"\",\"type\":\"scatter\",\"x\":[0.3659673552268968,0.5489510328403452,0.6587412394084142,0.7319347104537935,0.805128181499173,0.8783216525445522,0.9515151235899316,1.024708594635311,1.0979020656806904,1.463869420907587,2.927738841815174],\"y\":[1.3144601696531173,1.314460166927801,1.3144601676722296,1.3144601939801224,1.314460182801595,1.3144601709121755,1.3144601714906117,1.3144601717580098,1.3144601718320483,1.3144601740709398,1.3144601670717049]},{\"line\":{\"color\":\"rgba(219, 64, 82, 0.5066079295154184)\",\"dash\":\"solid\",\"shape\":\"linear\",\"width\":1.3},\"mode\":\"lines\",\"name\":\"SFA 10:0\",\"text\":\"\",\"type\":\"scatter\",\"x\":[0.3659673552268968,0.5489510328403452,0.6587412394084142,0.7319347104537935,0.805128181499173,0.8783216525445522,0.9515151235899316,1.024708594635311,1.0979020656806904,1.463869420907587,2.927738841815174],\"y\":[8.528389332880997e-12,1.5936257655639102e-13,7.281126483220756e-13,4.051460215661283e-11,2.5865065014736334e-11,9.351270422169108e-13,1.131666909901615e-12,1.2655888977803473e-12,1.3899048127269039e-12,4.188420258632129e-12,4.792380121985249e-13]},{\"line\":{\"color\":\"rgba(0, 128, 128, 0.5066079295154184)\",\"dash\":\"solid\",\"shape\":\"linear\",\"width\":1.3},\"mode\":\"lines\",\"name\":\"SFA 11:0\",\"text\":\"\",\"type\":\"scatter\",\"x\":[0.3659673552268968,0.5489510328403452,0.6587412394084142,0.7319347104537935,0.805128181499173,0.8783216525445522,0.9515151235899316,1.024708594635311,1.0979020656806904,1.463869420907587,2.927738841815174],\"y\":[0.0,0.0,0.0,0.0,0.0,0.0,0.0,0.0,0.0,0.0,0.0]},{\"line\":{\"color\":\"rgba(0, 128, 128, 0.47136563876652)\",\"dash\":\"solid\",\"shape\":\"linear\",\"width\":1.3},\"mode\":\"lines\",\"name\":\"SFA 12:0\",\"text\":\"\",\"type\":\"scatter\",\"x\":[0.3659673552268968,0.5489510328403452,0.6587412394084142,0.7319347104537935,0.805128181499173,0.8783216525445522,0.9515151235899316,1.024708594635311,1.0979020656806904,1.463869420907587,2.927738841815174],\"y\":[0.0010100658557289897,0.001010065852720097,0.0010100658512833,0.0010100657709364584,0.0010100658184985169,0.0010100658425190754,0.0010100658416527088,0.0010100658410648483,0.0010100658405211716,0.0010100658387207733,0.00101006585244826]},{\"line\":{\"color\":\"rgba(255, 255, 51, 0.47136563876652)\",\"dash\":\"solid\",\"shape\":\"linear\",\"width\":1.3},\"mode\":\"lines\",\"name\":\"SFA 13:0\",\"text\":\"\",\"type\":\"scatter\",\"x\":[0.3659673552268968,0.5489510328403452,0.6587412394084142,0.7319347104537935,0.805128181499173,0.8783216525445522,0.9515151235899316,1.024708594635311,1.0979020656806904,1.463869420907587,2.927738841815174],\"y\":[0.0,0.0,0.0,0.0,0.0,0.0,0.0,0.0,0.0,0.0,0.0]},{\"line\":{\"color\":\"rgba(128, 128, 0, 0.47136563876652)\",\"dash\":\"solid\",\"shape\":\"linear\",\"width\":1.3},\"mode\":\"lines\",\"name\":\"SFA 14:0\",\"text\":\"\",\"type\":\"scatter\",\"x\":[0.3659673552268968,0.5489510328403452,0.6587412394084142,0.7319347104537935,0.805128181499173,0.8783216525445522,0.9515151235899316,1.024708594635311,1.0979020656806904,1.463869420907587,2.927738841815174],\"y\":[0.026505972310911993,0.026505972381387344,0.026505972355906588,0.026505972076208376,0.026505972250926782,0.026505972216966937,0.026505972193339774,0.026505972183228293,0.026505972181948147,0.026505972119788154,0.026505972378291623]},{\"line\":{\"color\":\"rgba(251, 128, 114, 0.47136563876652)\",\"dash\":\"solid\",\"shape\":\"linear\",\"width\":1.3},\"mode\":\"lines\",\"name\":\"SFA 15:0\",\"text\":\"\",\"type\":\"scatter\",\"x\":[0.3659673552268968,0.5489510328403452,0.6587412394084142,0.7319347104537935,0.805128181499173,0.8783216525445522,0.9515151235899316,1.024708594635311,1.0979020656806904,1.463869420907587,2.927738841815174],\"y\":[0.010305774637442403,0.01030577461259955,0.010305774614134063,0.010305774725717106,0.010305774686760081,0.010305774615131021,0.010305774615810932,0.010305774616267591,0.010305774616665916,0.010305774625200954,0.010305774613320724]},{\"line\":{\"color\":\"rgba(128, 177, 211, 0.47136563876652)\",\"dash\":\"solid\",\"shape\":\"linear\",\"width\":1.3},\"mode\":\"lines\",\"name\":\"SFA 16:0\",\"text\":\"\",\"type\":\"scatter\",\"x\":[0.3659673552268968,0.5489510328403452,0.6587412394084142,0.7319347104537935,0.805128181499173,0.8783216525445522,0.9515151235899316,1.024708594635311,1.0979020656806904,1.463869420907587,2.927738841815174],\"y\":[9.774709961255688,9.774709975064642,9.774709971320677,9.774709666921066,9.774709785447143,9.774709942811501,9.774709938690721,9.774709936979807,9.774709936850405,9.774709930541013,9.774709974191994]},{\"line\":{\"color\":\"rgba(255, 153, 51, 0.47136563876652)\",\"dash\":\"solid\",\"shape\":\"linear\",\"width\":1.3},\"mode\":\"lines\",\"name\":\"SFA 17:0\",\"text\":\"\",\"type\":\"scatter\",\"x\":[0.3659673552268968,0.5489510328403452,0.6587412394084142,0.7319347104537935,0.805128181499173,0.8783216525445522,0.9515151235899316,1.024708594635311,1.0979020656806904,1.463869420907587,2.927738841815174],\"y\":[0.01221063346549219,0.012210633427513556,0.012210633430113966,0.012210633608984705,0.012210633546278504,0.012210633431640364,0.012210633432715797,0.012210633433472227,0.012210633434169288,0.012210633448909032,0.012210633428524884]},{\"line\":{\"color\":\"rgba(55, 128, 191, 0.47136563876652)\",\"dash\":\"solid\",\"shape\":\"linear\",\"width\":1.3},\"mode\":\"lines\",\"name\":\"SFA 18:0\",\"text\":\"\",\"type\":\"scatter\",\"x\":[0.3659673552268968,0.5489510328403452,0.6587412394084142,0.7319347104537935,0.805128181499173,0.8783216525445522,0.9515151235899316,1.024708594635311,1.0979020656806904,1.463869420907587,2.927738841815174],\"y\":[2.845717476026671,2.845717483173762,2.8457174804828953,2.845717389242205,2.84571743647067,2.845717469015992,2.8457174671632255,2.8457174661295075,2.8457174655052584,2.845717456805291,2.845717482612039]},{\"line\":{\"color\":\"rgba(50, 171, 96, 0.47136563876652)\",\"dash\":\"solid\",\"shape\":\"linear\",\"width\":1.3},\"mode\":\"lines\",\"name\":\"SFA 20:0\",\"text\":\"\",\"type\":\"scatter\",\"x\":[0.3659673552268968,0.5489510328403452,0.6587412394084142,0.7319347104537935,0.805128181499173,0.8783216525445522,0.9515151235899316,1.024708594635311,1.0979020656806904,1.463869420907587,2.927738841815174],\"y\":[1.2482723503132664,1.2482723529338466,1.2482723518345356,1.2482723070784318,1.2482723304138812,1.2482723476701116,1.2482723470221273,1.2482723466055476,1.2482723462671732,1.2482723423869806,1.248272352680698]},{\"line\":{\"color\":\"rgba(128, 0, 128, 0.47136563876652)\",\"dash\":\"solid\",\"shape\":\"linear\",\"width\":1.3},\"mode\":\"lines\",\"name\":\"SFA 21:0\",\"text\":\"\",\"type\":\"scatter\",\"x\":[0.3659673552268968,0.5489510328403452,0.6587412394084142,0.7319347104537935,0.805128181499173,0.8783216525445522,0.9515151235899316,1.024708594635311,1.0979020656806904,1.463869420907587,2.927738841815174],\"y\":[0.0,0.0,0.0,0.0,0.0,0.0,0.0,0.0,0.0,0.0,0.0]},{\"line\":{\"color\":\"rgba(219, 64, 82, 0.47136563876652)\",\"dash\":\"solid\",\"shape\":\"linear\",\"width\":1.3},\"mode\":\"lines\",\"name\":\"SFA 22:0\",\"text\":\"\",\"type\":\"scatter\",\"x\":[0.3659673552268968,0.5489510328403452,0.6587412394084142,0.7319347104537935,0.805128181499173,0.8783216525445522,0.9515151235899316,1.024708594635311,1.0979020656806904,1.463869420907587,2.927738841815174],\"y\":[2.5677857022852235,2.5677857076883175,2.5677857054493476,2.567785612014018,2.5677856605678464,2.567785697100409,2.5677856958053282,2.567785694958872,2.567785694252363,2.567785686263321,2.5677857071652452]},{\"line\":{\"color\":\"rgba(219, 64, 82, 0.43612334801762126)\",\"dash\":\"solid\",\"shape\":\"linear\",\"width\":1.3},\"mode\":\"lines\",\"name\":\"SFA 23:0\",\"text\":\"\",\"type\":\"scatter\",\"x\":[0.3659673552268968,0.5489510328403452,0.6587412394084142,0.7319347104537935,0.805128181499173,0.8783216525445522,0.9515151235899316,1.024708594635311,1.0979020656806904,1.463869420907587,2.927738841815174],\"y\":[0.0,0.0,0.0,0.0,0.0,0.0,0.0,0.0,0.0,0.0,0.0]},{\"line\":{\"color\":\"rgba(0, 128, 128, 0.43612334801762126)\",\"dash\":\"solid\",\"shape\":\"linear\",\"width\":1.3},\"mode\":\"lines\",\"name\":\"SFA 24:0\",\"text\":\"\",\"type\":\"scatter\",\"x\":[0.3659673552268968,0.5489510328403452,0.6587412394084142,0.7319347104537935,0.805128181499173,0.8783216525445522,0.9515151235899316,1.024708594635311,1.0979020656806904,1.463869420907587,2.927738841815174],\"y\":[1.4756526223845154,1.4756526254439777,1.475652624161011,1.475652570337044,1.4756525983237252,1.4756526193884494,1.4756526186499621,1.4756526181648635,1.475652617756714,1.47565261317134,1.4756526251435884]},{\"line\":{\"color\":\"rgba(255, 255, 51, 0.43612334801762126)\",\"dash\":\"solid\",\"shape\":\"linear\",\"width\":1.3},\"mode\":\"lines\",\"name\":\"SFA 4:0\",\"text\":\"\",\"type\":\"scatter\",\"x\":[0.3659673552268968,0.5489510328403452,0.6587412394084142,0.7319347104537935,0.805128181499173,0.8783216525445522,0.9515151235899316,1.024708594635311,1.0979020656806904,1.463869420907587,2.927738841815174],\"y\":[0.0,0.0,0.0,0.0,0.0,0.0,0.0,0.0,0.0,0.0,0.0]},{\"line\":{\"color\":\"rgba(128, 128, 0, 0.43612334801762126)\",\"dash\":\"solid\",\"shape\":\"linear\",\"width\":1.3},\"mode\":\"lines\",\"name\":\"SFA 5:0\",\"text\":\"\",\"type\":\"scatter\",\"x\":[0.3659673552268968,0.5489510328403452,0.6587412394084142,0.7319347104537935,0.805128181499173,0.8783216525445522,0.9515151235899316,1.024708594635311,1.0979020656806904,1.463869420907587,2.927738841815174],\"y\":[0.0,0.0,0.0,0.0,0.0,0.0,0.0,0.0,0.0,0.0,0.0]},{\"line\":{\"color\":\"rgba(251, 128, 114, 0.43612334801762126)\",\"dash\":\"solid\",\"shape\":\"linear\",\"width\":1.3},\"mode\":\"lines\",\"name\":\"SFA 6:0\",\"text\":\"\",\"type\":\"scatter\",\"x\":[0.3659673552268968,0.5489510328403452,0.6587412394084142,0.7319347104537935,0.805128181499173,0.8783216525445522,0.9515151235899316,1.024708594635311,1.0979020656806904,1.463869420907587,2.927738841815174],\"y\":[0.0,0.0,0.0,0.0,0.0,0.0,0.0,0.0,0.0,0.0,0.0]},{\"line\":{\"color\":\"rgba(128, 177, 211, 0.43612334801762126)\",\"dash\":\"solid\",\"shape\":\"linear\",\"width\":1.3},\"mode\":\"lines\",\"name\":\"SFA 7:0\",\"text\":\"\",\"type\":\"scatter\",\"x\":[0.3659673552268968,0.5489510328403452,0.6587412394084142,0.7319347104537935,0.805128181499173,0.8783216525445522,0.9515151235899316,1.024708594635311,1.0979020656806904,1.463869420907587,2.927738841815174],\"y\":[0.0,0.0,0.0,0.0,0.0,0.0,0.0,0.0,0.0,0.0,0.0]},{\"line\":{\"color\":\"rgba(255, 153, 51, 0.43612334801762126)\",\"dash\":\"solid\",\"shape\":\"linear\",\"width\":1.3},\"mode\":\"lines\",\"name\":\"SFA 8:0\",\"text\":\"\",\"type\":\"scatter\",\"x\":[0.3659673552268968,0.5489510328403452,0.6587412394084142,0.7319347104537935,0.805128181499173,0.8783216525445522,0.9515151235899316,1.024708594635311,1.0979020656806904,1.463869420907587,2.927738841815174],\"y\":[0.00030451654826460815,0.0003045165472776106,0.00030451654891759975,0.00030451652135513925,0.0003045165133047342,0.0003045165487358477,0.00030451654886416626,0.00030451654935322064,0.00030451655029334465,0.000304516558931265,0.00030451654760528854]},{\"line\":{\"color\":\"rgba(55, 128, 191, 0.43612334801762126)\",\"dash\":\"solid\",\"shape\":\"linear\",\"width\":1.3},\"mode\":\"lines\",\"name\":\"SFA 9:0\",\"text\":\"\",\"type\":\"scatter\",\"x\":[0.3659673552268968,0.5489510328403452,0.6587412394084142,0.7319347104537935,0.805128181499173,0.8783216525445522,0.9515151235899316,1.024708594635311,1.0979020656806904,1.463869420907587,2.927738841815174],\"y\":[0.0,0.0,0.0,0.0,0.0,0.0,0.0,0.0,0.0,0.0,0.0]},{\"line\":{\"color\":\"rgba(50, 171, 96, 0.43612334801762126)\",\"dash\":\"solid\",\"shape\":\"linear\",\"width\":1.3},\"mode\":\"lines\",\"name\":\"Selenium, Se\",\"text\":\"\",\"type\":\"scatter\",\"x\":[0.3659673552268968,0.5489510328403452,0.6587412394084142,0.7319347104537935,0.805128181499173,0.8783216525445522,0.9515151235899316,1.024708594635311,1.0979020656806904,1.463869420907587,2.927738841815174],\"y\":[58.37417708331241,58.374177176253156,58.37417711937992,58.3741783033486,58.374178166424635,58.37417686722332,58.37417683154052,58.374176809387386,58.37417679394501,58.37417666198371,58.37417716362129]},{\"line\":{\"color\":\"rgba(128, 0, 128, 0.43612334801762126)\",\"dash\":\"solid\",\"shape\":\"linear\",\"width\":1.3},\"mode\":\"lines\",\"name\":\"Serine\",\"text\":\"\",\"type\":\"scatter\",\"x\":[0.3659673552268968,0.5489510328403452,0.6587412394084142,0.7319347104537935,0.805128181499173,0.8783216525445522,0.9515151235899316,1.024708594635311,1.0979020656806904,1.463869420907587,2.927738841815174],\"y\":[5.697782733247114,5.697782733792292,5.6977827325095065,5.697782672543779,5.697782714566514,5.697782730123677,5.697782730071428,5.697782729571593,5.697782728535909,5.69778272323215,5.697782733415711]},{\"line\":{\"color\":\"rgba(128, 0, 128, 0.40088105726872253)\",\"dash\":\"solid\",\"shape\":\"linear\",\"width\":1.3},\"mode\":\"lines\",\"name\":\"Sodium, Na\",\"text\":\"\",\"type\":\"scatter\",\"x\":[0.3659673552268968,0.5489510328403452,0.6587412394084142,0.7319347104537935,0.805128181499173,0.8783216525445522,0.9515151235899316,1.024708594635311,1.0979020656806904,1.463869420907587,2.927738841815174],\"y\":[1499.7054271307263,1499.7054305667173,1499.7054296350805,1499.7054300301613,1499.7054343963912,1499.7054267225553,1499.7054261315072,1499.7054257978475,1499.7054255915662,1499.7054220985885,1499.705430408146]},{\"line\":{\"color\":\"rgba(219, 64, 82, 0.40088105726872253)\",\"dash\":\"solid\",\"shape\":\"linear\",\"width\":1.3},\"mode\":\"lines\",\"name\":\"Stachyose\",\"text\":\"\",\"type\":\"scatter\",\"x\":[0.3659673552268968,0.5489510328403452,0.6587412394084142,0.7319347104537935,0.805128181499173,0.8783216525445522,0.9515151235899316,1.024708594635311,1.0979020656806904,1.463869420907587,2.927738841815174],\"y\":[2.6521495808442785,2.6521495803009674,2.6521495803615798,2.6521495826917567,2.652149581990856,2.6521495804131257,2.6521495804497697,2.6521495804764155,2.6521495804998176,2.652149580853813,2.652149580312496]},{\"line\":{\"color\":\"rgba(0, 128, 128, 0.40088105726872253)\",\"dash\":\"solid\",\"shape\":\"linear\",\"width\":1.3},\"mode\":\"lines\",\"name\":\"Starch\",\"text\":\"\",\"type\":\"scatter\",\"x\":[0.3659673552268968,0.5489510328403452,0.6587412394084142,0.7319347104537935,0.805128181499173,0.8783216525445522,0.9515151235899316,1.024708594635311,1.0979020656806904,1.463869420907587,2.927738841815174],\"y\":[12.73006219008592,12.730062171687877,12.730062093819463,12.730064404081743,12.730063795182339,12.730061669692825,12.730061603311102,12.730061573153119,12.730061567444457,12.730061440237796,12.73006216337386]},{\"line\":{\"color\":\"rgba(255, 255, 51, 0.40088105726872253)\",\"dash\":\"solid\",\"shape\":\"linear\",\"width\":1.3},\"mode\":\"lines\",\"name\":\"Stigmasterol\",\"text\":\"\",\"type\":\"scatter\",\"x\":[0.3659673552268968,0.5489510328403452,0.6587412394084142,0.7319347104537935,0.805128181499173,0.8783216525445522,0.9515151235899316,1.024708594635311,1.0979020656806904,1.463869420907587,2.927738841815174],\"y\":[0.6090331193769105,0.6090330947530096,0.6090330987311353,0.6090331309208142,0.6090330860964046,0.6090330994229333,0.6090331001561139,0.6090331013944662,0.6090331034385392,0.6090331254518195,0.6090330959238703]},{\"line\":{\"color\":\"rgba(128, 128, 0, 0.40088105726872253)\",\"dash\":\"solid\",\"shape\":\"linear\",\"width\":1.3},\"mode\":\"lines\",\"name\":\"Sucrose\",\"text\":\"\",\"type\":\"scatter\",\"x\":[0.3659673552268968,0.5489510328403452,0.6587412394084142,0.7319347104537935,0.805128181499173,0.8783216525445522,0.9515151235899316,1.024708594635311,1.0979020656806904,1.463869420907587,2.927738841815174],\"y\":[12.850189423757246,12.850189418026744,12.850189412051144,12.850190231940493,12.850189860865155,12.850189407790102,12.850189402175033,12.850189401285913,12.850189404457408,12.850189380207427,12.85018941973731]},{\"line\":{\"color\":\"rgba(251, 128, 114, 0.40088105726872253)\",\"dash\":\"solid\",\"shape\":\"linear\",\"width\":1.3},\"mode\":\"lines\",\"name\":\"Sugars, Total\",\"text\":\"\",\"type\":\"scatter\",\"x\":[0.3659673552268968,0.5489510328403452,0.6587412394084142,0.7319347104537935,0.805128181499173,0.8783216525445522,0.9515151235899316,1.024708594635311,1.0979020656806904,1.463869420907587,2.927738841815174],\"y\":[31.42025085042328,31.420251815012403,31.420251651006534,31.42024273670417,31.42024652141302,31.420250945193885,31.420250825340414,31.420250763066722,31.420250732280813,31.42025021772775,31.420251772878885]},{\"line\":{\"color\":\"rgba(128, 177, 211, 0.40088105726872253)\",\"dash\":\"solid\",\"shape\":\"linear\",\"width\":1.3},\"mode\":\"lines\",\"name\":\"Sugars, total including NLEA\",\"text\":\"\",\"type\":\"scatter\",\"x\":[0.3659673552268968,0.5489510328403452,0.6587412394084142,0.7319347104537935,0.805128181499173,0.8783216525445522,0.9515151235899316,1.024708594635311,1.0979020656806904,1.463869420907587,2.927738841815174],\"y\":[3.6997529479881575,3.699752629797152,3.6997526750438694,3.699756721185133,3.699754986231073,3.69975288394866,3.6997529140619476,3.699752932978674,3.6997529480241234,3.699753096012886,3.699752645521848]},{\"line\":{\"color\":\"rgba(255, 153, 51, 0.40088105726872253)\",\"dash\":\"solid\",\"shape\":\"linear\",\"width\":1.3},\"mode\":\"lines\",\"name\":\"TFA 14:1 t\",\"text\":\"\",\"type\":\"scatter\",\"x\":[0.3659673552268968,0.5489510328403452,0.6587412394084142,0.7319347104537935,0.805128181499173,0.8783216525445522,0.9515151235899316,1.024708594635311,1.0979020656806904,1.463869420907587,2.927738841815174],\"y\":[0.0,0.0,0.0,0.0,0.0,0.0,0.0,0.0,0.0,0.0,0.0]},{\"line\":{\"color\":\"rgba(55, 128, 191, 0.40088105726872253)\",\"dash\":\"solid\",\"shape\":\"linear\",\"width\":1.3},\"mode\":\"lines\",\"name\":\"TFA 16:1 t\",\"text\":\"\",\"type\":\"scatter\",\"x\":[0.3659673552268968,0.5489510328403452,0.6587412394084142,0.7319347104537935,0.805128181499173,0.8783216525445522,0.9515151235899316,1.024708594635311,1.0979020656806904,1.463869420907587,2.927738841815174],\"y\":[0.0,0.0,0.0,0.0,0.0,0.0,0.0,0.0,0.0,0.0,0.0]},{\"line\":{\"color\":\"rgba(50, 171, 96, 0.40088105726872253)\",\"dash\":\"solid\",\"shape\":\"linear\",\"width\":1.3},\"mode\":\"lines\",\"name\":\"TFA 18:1 t\",\"text\":\"\",\"type\":\"scatter\",\"x\":[0.3659673552268968,0.5489510328403452,0.6587412394084142,0.7319347104537935,0.805128181499173,0.8783216525445522,0.9515151235899316,1.024708594635311,1.0979020656806904,1.463869420907587,2.927738841815174],\"y\":[0.004960569836973177,0.004960569829881641,0.004960569830757333,0.004960569873284899,0.004960569857529708,0.004960569830977733,0.004960569831251686,0.004960569831479671,0.004960569831725768,0.004960569836372356,0.0049605698301007015]},{\"line\":{\"color\":\"rgba(50, 171, 96, 0.3656387665198238)\",\"dash\":\"solid\",\"shape\":\"linear\",\"width\":1.3},\"mode\":\"lines\",\"name\":\"TFA 18:2 t\",\"text\":\"\",\"type\":\"scatter\",\"x\":[0.3659673552268968,0.5489510328403452,0.6587412394084142,0.7319347104537935,0.805128181499173,0.8783216525445522,0.9515151235899316,1.024708594635311,1.0979020656806904,1.463869420907587,2.927738841815174],\"y\":[0.006868481303982075,0.006868481302575018,0.0068684813027319915,0.006868481308766635,0.0068684813069514565,0.006868481302865484,0.006868481302960384,0.006868481303029391,0.006868481303089996,0.006868481304006767,0.006868481302604875]},{\"line\":{\"color\":\"rgba(128, 0, 128, 0.3656387665198238)\",\"dash\":\"solid\",\"shape\":\"linear\",\"width\":1.3},\"mode\":\"lines\",\"name\":\"TFA 18:2 t not further defined\",\"text\":\"\",\"type\":\"scatter\",\"x\":[0.3659673552268968,0.5489510328403452,0.6587412394084142,0.7319347104537935,0.805128181499173,0.8783216525445522,0.9515151235899316,1.024708594635311,1.0979020656806904,1.463869420907587,2.927738841815174],\"y\":[0.0068684813152127535,0.006868481303008315,0.006868481304492828,0.006868481377886977,0.006868481350917657,0.006868481304902705,0.0068684813053697304,0.006868481305760599,0.006868481306184176,0.006868481314262821,0.0068684813033376675]},{\"line\":{\"color\":\"rgba(219, 64, 82, 0.3656387665198238)\",\"dash\":\"solid\",\"shape\":\"linear\",\"width\":1.3},\"mode\":\"lines\",\"name\":\"TFA 18:3 t\",\"text\":\"\",\"type\":\"scatter\",\"x\":[0.3659673552268968,0.5489510328403452,0.6587412394084142,0.7319347104537935,0.805128181499173,0.8783216525445522,0.9515151235899316,1.024708594635311,1.0979020656806904,1.463869420907587,2.927738841815174],\"y\":[0.0,0.0,0.0,0.0,0.0,0.0,0.0,0.0,0.0,0.0,0.0]},{\"line\":{\"color\":\"rgba(0, 128, 128, 0.3656387665198238)\",\"dash\":\"solid\",\"shape\":\"linear\",\"width\":1.3},\"mode\":\"lines\",\"name\":\"TFA 20:1 t\",\"text\":\"\",\"type\":\"scatter\",\"x\":[0.3659673552268968,0.5489510328403452,0.6587412394084142,0.7319347104537935,0.805128181499173,0.8783216525445522,0.9515151235899316,1.024708594635311,1.0979020656806904,1.463869420907587,2.927738841815174],\"y\":[0.0,0.0,0.0,0.0,0.0,0.0,0.0,0.0,0.0,0.0,0.0]},{\"line\":{\"color\":\"rgba(255, 255, 51, 0.3656387665198238)\",\"dash\":\"solid\",\"shape\":\"linear\",\"width\":1.3},\"mode\":\"lines\",\"name\":\"TFA 22:1 t\",\"text\":\"\",\"type\":\"scatter\",\"x\":[0.3659673552268968,0.5489510328403452,0.6587412394084142,0.7319347104537935,0.805128181499173,0.8783216525445522,0.9515151235899316,1.024708594635311,1.0979020656806904,1.463869420907587,2.927738841815174],\"y\":[0.0,0.0,0.0,0.0,0.0,0.0,0.0,0.0,0.0,0.0,0.0]},{\"line\":{\"color\":\"rgba(128, 128, 0, 0.3656387665198238)\",\"dash\":\"solid\",\"shape\":\"linear\",\"width\":1.3},\"mode\":\"lines\",\"name\":\"Theobromine\",\"text\":\"\",\"type\":\"scatter\",\"x\":[0.3659673552268968,0.5489510328403452,0.6587412394084142,0.7319347104537935,0.805128181499173,0.8783216525445522,0.9515151235899316,1.024708594635311,1.0979020656806904,1.463869420907587,2.927738841815174],\"y\":[0.0,0.0,0.0,0.0,0.0,0.0,0.0,0.0,0.0,0.0,0.0]},{\"line\":{\"color\":\"rgba(251, 128, 114, 0.3656387665198238)\",\"dash\":\"solid\",\"shape\":\"linear\",\"width\":1.3},\"mode\":\"lines\",\"name\":\"Thiamin\",\"text\":\"\",\"type\":\"scatter\",\"x\":[0.3659673552268968,0.5489510328403452,0.6587412394084142,0.7319347104537935,0.805128181499173,0.8783216525445522,0.9515151235899316,1.024708594635311,1.0979020656806904,1.463869420907587,2.927738841815174],\"y\":[1.605425892129433,1.6054258925183649,1.6054258920048572,1.6054258929024185,1.6054258963632506,1.605425889724872,1.6054258893647302,1.6054258891551756,1.6054258890170396,1.605425887555405,1.6054258924842708]},{\"line\":{\"color\":\"rgba(128, 177, 211, 0.3656387665198238)\",\"dash\":\"solid\",\"shape\":\"linear\",\"width\":1.3},\"mode\":\"lines\",\"name\":\"Threonine\",\"text\":\"\",\"type\":\"scatter\",\"x\":[0.3659673552268968,0.5489510328403452,0.6587412394084142,0.7319347104537935,0.805128181499173,0.8783216525445522,0.9515151235899316,1.024708594635311,1.0979020656806904,1.463869420907587,2.927738841815174],\"y\":[3.5316752541433716,3.5316752415685047,3.5316752425849245,3.53167535525278,3.531675316697527,3.5316752492967005,3.5316752504756295,3.5316752509080915,3.5316752508319387,3.531675253459417,3.5316752419489843]},{\"line\":{\"color\":\"rgba(255, 153, 51, 0.3656387665198238)\",\"dash\":\"solid\",\"shape\":\"linear\",\"width\":1.3},\"mode\":\"lines\",\"name\":\"Tocopherol, beta\",\"text\":\"\",\"type\":\"scatter\",\"x\":[0.3659673552268968,0.5489510328403452,0.6587412394084142,0.7319347104537935,0.805128181499173,0.8783216525445522,0.9515151235899316,1.024708594635311,1.0979020656806904,1.463869420907587,2.927738841815174],\"y\":[0.0283217471914067,0.02832174648317616,0.02832174659436091,0.028321756371103422,0.028321751559051984,0.02832174655424717,0.02832174655015227,0.02832174658479441,0.02832174666482989,0.02832174734390689,0.02832174652397774]},{\"line\":{\"color\":\"rgba(55, 128, 191, 0.3656387665198238)\",\"dash\":\"solid\",\"shape\":\"linear\",\"width\":1.3},\"mode\":\"lines\",\"name\":\"Tocopherol, delta\",\"text\":\"\",\"type\":\"scatter\",\"x\":[0.3659673552268968,0.5489510328403452,0.6587412394084142,0.7319347104537935,0.805128181499173,0.8783216525445522,0.9515151235899316,1.024708594635311,1.0979020656806904,1.463869420907587,2.927738841815174],\"y\":[5.435177747812464,5.43517774914631,5.435177748393063,5.435177748084186,5.43517775034661,5.435177743120202,5.435177742273264,5.43517774196277,5.435177742024553,5.435177740924632,5.435177749053796]},{\"line\":{\"color\":\"rgba(55, 128, 191, 0.3303964757709253)\",\"dash\":\"solid\",\"shape\":\"linear\",\"width\":1.3},\"mode\":\"lines\",\"name\":\"Tocopherol, gamma\",\"text\":\"\",\"type\":\"scatter\",\"x\":[0.3659673552268968,0.5489510328403452,0.6587412394084142,0.7319347104537935,0.805128181499173,0.8783216525445522,0.9515151235899316,1.024708594635311,1.0979020656806904,1.463869420907587,2.927738841815174],\"y\":[9.137318385528653,9.137318383346726,9.137318381660327,9.137318454447698,9.137318430188857,9.137318361005091,9.137318357939881,9.137318356979048,9.13731835758188,9.137318359815838,9.137318383411372]},{\"line\":{\"color\":\"rgba(50, 171, 96, 0.3303964757709253)\",\"dash\":\"solid\",\"shape\":\"linear\",\"width\":1.3},\"mode\":\"lines\",\"name\":\"Tocotrienol, alpha\",\"text\":\"\",\"type\":\"scatter\",\"x\":[0.3659673552268968,0.5489510328403452,0.6587412394084142,0.7319347104537935,0.805128181499173,0.8783216525445522,0.9515151235899316,1.024708594635311,1.0979020656806904,1.463869420907587,2.927738841815174],\"y\":[0.00822560727351132,0.008225606367564186,0.008225606489435338,0.008225620936673398,0.008225614949029505,0.00822560697782136,0.00822560706161594,0.008225607109571436,0.008225607144189594,0.008225607654990343,0.00822560640208814]},{\"line\":{\"color\":\"rgba(128, 0, 128, 0.3303964757709253)\",\"dash\":\"solid\",\"shape\":\"linear\",\"width\":1.3},\"mode\":\"lines\",\"name\":\"Tocotrienol, beta\",\"text\":\"\",\"type\":\"scatter\",\"x\":[0.3659673552268968,0.5489510328403452,0.6587412394084142,0.7319347104537935,0.805128181499173,0.8783216525445522,0.9515151235899316,1.024708594635311,1.0979020656806904,1.463869420907587,2.927738841815174],\"y\":[0.007915477850699217,0.007915478212687949,0.007915478115394383,0.007915477190543157,0.007915477718365461,0.007915477654666664,0.00791547757129216,0.007915477534459198,0.007915477527849822,0.007915477255441103,0.007915478197484367]},{\"line\":{\"color\":\"rgba(219, 64, 82, 0.3303964757709253)\",\"dash\":\"solid\",\"shape\":\"linear\",\"width\":1.3},\"mode\":\"lines\",\"name\":\"Tocotrienol, delta\",\"text\":\"\",\"type\":\"scatter\",\"x\":[0.3659673552268968,0.5489510328403452,0.6587412394084142,0.7319347104537935,0.805128181499173,0.8783216525445522,0.9515151235899316,1.024708594635311,1.0979020656806904,1.463869420907587,2.927738841815174],\"y\":[0.0,0.0,0.0,0.0,0.0,0.0,0.0,0.0,0.0,0.0,0.0]},{\"line\":{\"color\":\"rgba(0, 128, 128, 0.3303964757709253)\",\"dash\":\"solid\",\"shape\":\"linear\",\"width\":1.3},\"mode\":\"lines\",\"name\":\"Tocotrienol, gamma\",\"text\":\"\",\"type\":\"scatter\",\"x\":[0.3659673552268968,0.5489510328403452,0.6587412394084142,0.7319347104537935,0.805128181499173,0.8783216525445522,0.9515151235899316,1.024708594635311,1.0979020656806904,1.463869420907587,2.927738841815174],\"y\":[0.0,0.0,0.0,0.0,0.0,0.0,0.0,0.0,0.0,0.0,0.0]},{\"line\":{\"color\":\"rgba(255, 255, 51, 0.3303964757709253)\",\"dash\":\"solid\",\"shape\":\"linear\",\"width\":1.3},\"mode\":\"lines\",\"name\":\"Total dietary fiber (AOAC 2011.25)\",\"text\":\"\",\"type\":\"scatter\",\"x\":[0.3659673552268968,0.5489510328403452,0.6587412394084142,0.7319347104537935,0.805128181499173,0.8783216525445522,0.9515151235899316,1.024708594635311,1.0979020656806904,1.463869420907587,2.927738841815174],\"y\":[7.34415933230788,7.34415963737057,7.344159586317058,7.344156782870189,7.3441579752718855,7.344159362456948,7.344159324635836,7.3441593051530845,7.344159295788707,7.344159138492139,7.344159624129666]},{\"line\":{\"color\":\"rgba(128, 128, 0, 0.3303964757709253)\",\"dash\":\"solid\",\"shape\":\"linear\",\"width\":1.3},\"mode\":\"lines\",\"name\":\"Total fat (NLEA)\",\"text\":\"\",\"type\":\"scatter\",\"x\":[0.3659673552268968,0.5489510328403452,0.6587412394084142,0.7319347104537935,0.805128181499173,0.8783216525445522,0.9515151235899316,1.024708594635311,1.0979020656806904,1.463869420907587,2.927738841815174],\"y\":[11.503027222073447,11.503027219716971,11.503027219979865,11.503027230086415,11.503027227046436,11.50302722020343,11.503027220362366,11.503027220477934,11.503027220579435,11.5030272221148,11.503027219766976]},{\"line\":{\"color\":\"rgba(251, 128, 114, 0.3303964757709253)\",\"dash\":\"solid\",\"shape\":\"linear\",\"width\":1.3},\"mode\":\"lines\",\"name\":\"Total lipid (fat)\",\"text\":\"\",\"type\":\"scatter\",\"x\":[0.3659673552268968,0.5489510328403452,0.6587412394084142,0.7319347104537935,0.805128181499173,0.8783216525445522,0.9515151235899316,1.024708594635311,1.0979020656806904,1.463869420907587,2.927738841815174],\"y\":[108.68997334940701,108.68997353805078,108.68997347420984,108.68996988727847,108.68997146911413,108.68997311741053,108.68997306388472,108.6899730373873,108.68997302650342,108.68997285712027,108.68997352358711]},{\"line\":{\"color\":\"rgba(128, 177, 211, 0.3303964757709253)\",\"dash\":\"solid\",\"shape\":\"linear\",\"width\":1.3},\"mode\":\"lines\",\"name\":\"Tryptophan\",\"text\":\"\",\"type\":\"scatter\",\"x\":[0.3659673552268968,0.5489510328403452,0.6587412394084142,0.7319347104537935,0.805128181499173,0.8783216525445522,0.9515151235899316,1.024708594635311,1.0979020656806904,1.463869420907587,2.927738841815174],\"y\":[1.1031694032315293,1.1031694029477728,1.1031694027773438,1.1031693988857099,1.1031694036255808,1.1031694025437708,1.1031694025732268,1.1031694025057737,1.1031694023359975,1.1031694016786497,1.1031694028970054]},{\"line\":{\"color\":\"rgba(255, 153, 51, 0.3303964757709253)\",\"dash\":\"solid\",\"shape\":\"linear\",\"width\":1.3},\"mode\":\"lines\",\"name\":\"Tyrosine\",\"text\":\"\",\"type\":\"scatter\",\"x\":[0.3659673552268968,0.5489510328403452,0.6587412394084142,0.7319347104537935,0.805128181499173,0.8783216525445522,0.9515151235899316,1.024708594635311,1.0979020656806904,1.463869420907587,2.927738841815174],\"y\":[3.47808715864746,3.4780871581252497,3.478087157000506,3.4780871247812235,3.478087148565073,3.478087153497913,3.478087153078044,3.4780871526480075,3.4780871520851084,3.478087148010929,3.478087157899564]},{\"line\":{\"color\":\"rgba(255, 153, 51, 0.29515418502202656)\",\"dash\":\"solid\",\"shape\":\"linear\",\"width\":1.3},\"mode\":\"lines\",\"name\":\"Valine\",\"text\":\"\",\"type\":\"scatter\",\"x\":[0.3659673552268968,0.5489510328403452,0.6587412394084142,0.7319347104537935,0.805128181499173,0.8783216525445522,0.9515151235899316,1.024708594635311,1.0979020656806904,1.463869420907587,2.927738841815174],\"y\":[4.825285164758307,4.825285161671691,4.825285161122607,4.82528514206584,4.825285164481114,4.82528516135247,4.825285161703236,4.825285161483488,4.825285160705678,4.8252851581059915,4.825285161510125]},{\"line\":{\"color\":\"rgba(55, 128, 191, 0.29515418502202656)\",\"dash\":\"solid\",\"shape\":\"linear\",\"width\":1.3},\"mode\":\"lines\",\"name\":\"Verbascose\",\"text\":\"\",\"type\":\"scatter\",\"x\":[0.3659673552268968,0.5489510328403452,0.6587412394084142,0.7319347104537935,0.805128181499173,0.8783216525445522,0.9515151235899316,1.024708594635311,1.0979020656806904,1.463869420907587,2.927738841815174],\"y\":[0.16026456375958176,0.16026456372675044,0.16026456373041315,0.16026456387122148,0.16026456382886733,0.16026456373352796,0.1602645637357423,0.16026456373735246,0.16026456373876657,0.1602645637601579,0.1602645637274471]},{\"line\":{\"color\":\"rgba(50, 171, 96, 0.29515418502202656)\",\"dash\":\"solid\",\"shape\":\"linear\",\"width\":1.3},\"mode\":\"lines\",\"name\":\"Vitamin A, IU\",\"text\":\"\",\"type\":\"scatter\",\"x\":[0.3659673552268968,0.5489510328403452,0.6587412394084142,0.7319347104537935,0.805128181499173,0.8783216525445522,0.9515151235899316,1.024708594635311,1.0979020656806904,1.463869420907587,2.927738841815174],\"y\":[6075.713385858085,6075.712238068573,6075.7124056366665,6075.726495486211,6075.720416279695,6075.713213993627,6075.713329676463,6075.71339969395,6075.713451687799,6075.713963479947,6075.712294520803]},{\"line\":{\"color\":\"rgba(128, 0, 128, 0.29515418502202656)\",\"dash\":\"solid\",\"shape\":\"linear\",\"width\":1.3},\"mode\":\"lines\",\"name\":\"Vitamin A, RAE\",\"text\":\"\",\"type\":\"scatter\",\"x\":[0.3659673552268968,0.5489510328403452,0.6587412394084142,0.7319347104537935,0.805128181499173,0.8783216525445522,0.9515151235899316,1.024708594635311,1.0979020656806904,1.463869420907587,2.927738841815174],\"y\":[700.0000576851573,700.0000003409233,700.0000086927766,700.0007088906044,700.0004070258926,700.0000486706592,700.0000544027816,700.0000578678646,700.0000604371243,700.000085839818,700.0000031270265]},{\"line\":{\"color\":\"rgba(219, 64, 82, 0.29515418502202656)\",\"dash\":\"solid\",\"shape\":\"linear\",\"width\":1.3},\"mode\":\"lines\",\"name\":\"Vitamin B-12\",\"text\":\"\",\"type\":\"scatter\",\"x\":[0.3659673552268968,0.5489510328403452,0.6587412394084142,0.7319347104537935,0.805128181499173,0.8783216525445522,0.9515151235899316,1.024708594635311,1.0979020656806904,1.463869420907587,2.927738841815174],\"y\":[2.4000000005292033,2.4000000000375468,2.4000000000923967,2.400000002201035,2.4000000015667715,2.4000000001390416,2.4000000001722017,2.4000000001963144,2.4000000002174913,2.4000000005378315,2.4000000000479793]},{\"line\":{\"color\":\"rgba(0, 128, 128, 0.29515418502202656)\",\"dash\":\"solid\",\"shape\":\"linear\",\"width\":1.3},\"mode\":\"lines\",\"name\":\"Vitamin B-12, added\",\"text\":\"\",\"type\":\"scatter\",\"x\":[0.3659673552268968,0.5489510328403452,0.6587412394084142,0.7319347104537935,0.805128181499173,0.8783216525445522,0.9515151235899316,1.024708594635311,1.0979020656806904,1.463869420907587,2.927738841815174],\"y\":[0.0,0.0,0.0,0.0,0.0,0.0,0.0,0.0,0.0,0.0,0.0]},{\"line\":{\"color\":\"rgba(255, 255, 51, 0.29515418502202656)\",\"dash\":\"solid\",\"shape\":\"linear\",\"width\":1.3},\"mode\":\"lines\",\"name\":\"Vitamin B-6\",\"text\":\"\",\"type\":\"scatter\",\"x\":[0.3659673552268968,0.5489510328403452,0.6587412394084142,0.7319347104537935,0.805128181499173,0.8783216525445522,0.9515151235899316,1.024708594635311,1.0979020656806904,1.463869420907587,2.927738841815174],\"y\":[1.824061999297051,1.8240620009709645,1.8240620002654566,1.8240619775471067,1.8240619865994945,1.8240619956638293,1.8240619949145913,1.8240619946239698,1.824061994650588,1.8240619934469153,1.824062000874958]},{\"line\":{\"color\":\"rgba(128, 128, 0, 0.29515418502202656)\",\"dash\":\"solid\",\"shape\":\"linear\",\"width\":1.3},\"mode\":\"lines\",\"name\":\"Vitamin C, total ascorbic acid\",\"text\":\"\",\"type\":\"scatter\",\"x\":[0.3659673552268968,0.5489510328403452,0.6587412394084142,0.7319347104537935,0.805128181499173,0.8783216525445522,0.9515151235899316,1.024708594635311,1.0979020656806904,1.463869420907587,2.927738841815174],\"y\":[75.00000015415185,75.00000000629035,75.00000002028835,75.00000061919751,75.00000039512562,75.00000002622066,75.00000003155984,75.00000003564321,75.0000000396129,75.00000011208907,75.00000000886449]},{\"line\":{\"color\":\"rgba(251, 128, 114, 0.29515418502202656)\",\"dash\":\"solid\",\"shape\":\"linear\",\"width\":1.3},\"mode\":\"lines\",\"name\":\"Vitamin D (D2 + D3)\",\"text\":\"\",\"type\":\"scatter\",\"x\":[0.3659673552268968,0.5489510328403452,0.6587412394084142,0.7319347104537935,0.805128181499173,0.8783216525445522,0.9515151235899316,1.024708594635311,1.0979020656806904,1.463869420907587,2.927738841815174],\"y\":[4.15772068267985,4.157720681825549,4.157720681920904,4.157720685586203,4.1577206844833325,4.1577206820018535,4.157720682059442,4.157720682101333,4.157720682138144,4.157720682695112,4.157720681843736]},{\"line\":{\"color\":\"rgba(128, 177, 211, 0.29515418502202656)\",\"dash\":\"solid\",\"shape\":\"linear\",\"width\":1.3},\"mode\":\"lines\",\"name\":\"Vitamin D (D2 + D3), International Units\",\"text\":\"\",\"type\":\"scatter\",\"x\":[0.3659673552268968,0.5489510328403452,0.6587412394084142,0.7319347104537935,0.805128181499173,0.8783216525445522,0.9515151235899316,1.024708594635311,1.0979020656806904,1.463869420907587,2.927738841815174],\"y\":[166.06461463860796,166.06461460448597,166.06461460829456,166.06461475469197,166.06461471064168,166.0646146115278,166.06461461382798,166.06461461550117,166.0646146169714,166.06461463921755,166.0646146052124]},{\"line\":{\"color\":\"rgba(128, 177, 211, 0.25991189427312783)\",\"dash\":\"solid\",\"shape\":\"linear\",\"width\":1.3},\"mode\":\"lines\",\"name\":\"Vitamin D2 (ergocalciferol)\",\"text\":\"\",\"type\":\"scatter\",\"x\":[0.3659673552268968,0.5489510328403452,0.6587412394084142,0.7319347104537935,0.805128181499173,0.8783216525445522,0.9515151235899316,1.024708594635311,1.0979020656806904,1.463869420907587,2.927738841815174],\"y\":[4.160162809365707,4.160162808510909,4.1601628086063185,4.160162812273747,4.1601628111702365,4.160162808687315,4.160162808744938,4.160162808786853,4.160162808823685,4.160162809380977,4.1601628085291065]},{\"line\":{\"color\":\"rgba(255, 153, 51, 0.25991189427312783)\",\"dash\":\"solid\",\"shape\":\"linear\",\"width\":1.3},\"mode\":\"lines\",\"name\":\"Vitamin D3 (cholecalciferol)\",\"text\":\"\",\"type\":\"scatter\",\"x\":[0.3659673552268968,0.5489510328403452,0.6587412394084142,0.7319347104537935,0.805128181499173,0.8783216525445522,0.9515151235899316,1.024708594635311,1.0979020656806904,1.463869420907587,2.927738841815174],\"y\":[0.0,0.0,0.0,0.0,0.0,0.0,0.0,0.0,0.0,0.0,0.0]},{\"line\":{\"color\":\"rgba(55, 128, 191, 0.25991189427312783)\",\"dash\":\"solid\",\"shape\":\"linear\",\"width\":1.3},\"mode\":\"lines\",\"name\":\"Vitamin D4\",\"text\":\"\",\"type\":\"scatter\",\"x\":[0.3659673552268968,0.5489510328403452,0.6587412394084142,0.7319347104537935,0.805128181499173,0.8783216525445522,0.9515151235899316,1.024708594635311,1.0979020656806904,1.463869420907587,2.927738841815174],\"y\":[0.0,0.0,0.0,0.0,0.0,0.0,0.0,0.0,0.0,0.0,0.0]},{\"line\":{\"color\":\"rgba(50, 171, 96, 0.25991189427312783)\",\"dash\":\"solid\",\"shape\":\"linear\",\"width\":1.3},\"mode\":\"lines\",\"name\":\"Vitamin E (alpha-tocopherol)\",\"text\":\"\",\"type\":\"scatter\",\"x\":[0.3659673552268968,0.5489510328403452,0.6587412394084142,0.7319347104537935,0.805128181499173,0.8783216525445522,0.9515151235899316,1.024708594635311,1.0979020656806904,1.463869420907587,2.927738841815174],\"y\":[15.000000011555723,15.000000000213085,15.000000000608678,15.000000009114245,15.000000006619084,15.000000000727352,15.00000000090967,15.000000001055046,15.00000000120048,15.00000000284154,15.000000000477089]},{\"line\":{\"color\":\"rgba(128, 0, 128, 0.25991189427312783)\",\"dash\":\"solid\",\"shape\":\"linear\",\"width\":1.3},\"mode\":\"lines\",\"name\":\"Vitamin E, added\",\"text\":\"\",\"type\":\"scatter\",\"x\":[0.3659673552268968,0.5489510328403452,0.6587412394084142,0.7319347104537935,0.805128181499173,0.8783216525445522,0.9515151235899316,1.024708594635311,1.0979020656806904,1.463869420907587,2.927738841815174],\"y\":[0.0,0.0,0.0,0.0,0.0,0.0,0.0,0.0,0.0,0.0,0.0]},{\"line\":{\"color\":\"rgba(219, 64, 82, 0.25991189427312783)\",\"dash\":\"solid\",\"shape\":\"linear\",\"width\":1.3},\"mode\":\"lines\",\"name\":\"Vitamin K (Dihydrophylloquinone)\",\"text\":\"\",\"type\":\"scatter\",\"x\":[0.3659673552268968,0.5489510328403452,0.6587412394084142,0.7319347104537935,0.805128181499173,0.8783216525445522,0.9515151235899316,1.024708594635311,1.0979020656806904,1.463869420907587,2.927738841815174],\"y\":[0.0,0.0,0.0,0.0,0.0,0.0,0.0,0.0,0.0,0.0,0.0]},{\"line\":{\"color\":\"rgba(0, 128, 128, 0.25991189427312783)\",\"dash\":\"solid\",\"shape\":\"linear\",\"width\":1.3},\"mode\":\"lines\",\"name\":\"Vitamin K (Menaquinone-4)\",\"text\":\"\",\"type\":\"scatter\",\"x\":[0.3659673552268968,0.5489510328403452,0.6587412394084142,0.7319347104537935,0.805128181499173,0.8783216525445522,0.9515151235899316,1.024708594635311,1.0979020656806904,1.463869420907587,2.927738841815174],\"y\":[8.273373718922614e-10,3.20154302051433e-11,1.2543228312256294e-10,3.954204457740616e-09,2.6322156846222795e-09,1.4280112124931377e-10,1.718718960291809e-10,1.9738899308203616e-10,2.264039259892039e-10,7.321505340142425e-10,7.082880237593226e-11]},{\"line\":{\"color\":\"rgba(255, 255, 51, 0.25991189427312783)\",\"dash\":\"solid\",\"shape\":\"linear\",\"width\":1.3},\"mode\":\"lines\",\"name\":\"Vitamin K (phylloquinone)\",\"text\":\"\",\"type\":\"scatter\",\"x\":[0.3659673552268968,0.5489510328403452,0.6587412394084142,0.7319347104537935,0.805128181499173,0.8783216525445522,0.9515151235899316,1.024708594635311,1.0979020656806904,1.463869420907587,2.927738841815174],\"y\":[90.00000021725955,90.00000001692926,90.0000000455401,90.00000128157262,90.00000092138427,90.00000007498188,90.00000009281958,90.00000010578802,90.00000011699687,90.00000031512879,90.000000019939]},{\"line\":{\"color\":\"rgba(128, 128, 0, 0.25991189427312783)\",\"dash\":\"solid\",\"shape\":\"linear\",\"width\":1.3},\"mode\":\"lines\",\"name\":\"Vitamins and Other Components\",\"text\":\"\",\"type\":\"scatter\",\"x\":[0.3659673552268968,0.5489510328403452,0.6587412394084142,0.7319347104537935,0.805128181499173,0.8783216525445522,0.9515151235899316,1.024708594635311,1.0979020656806904,1.463869420907587,2.927738841815174],\"y\":[0.0,0.0,0.0,0.0,0.0,0.0,0.0,0.0,0.0,0.0,0.0]},{\"line\":{\"color\":\"rgba(251, 128, 114, 0.25991189427312783)\",\"dash\":\"solid\",\"shape\":\"linear\",\"width\":1.3},\"mode\":\"lines\",\"name\":\"Water\",\"text\":\"\",\"type\":\"scatter\",\"x\":[0.3659673552268968,0.5489510328403452,0.6587412394084142,0.7319347104537935,0.805128181499173,0.8783216525445522,0.9515151235899316,1.024708594635311,1.0979020656806904,1.463869420907587,2.927738841815174],\"y\":[1196.535841281426,1196.535840149944,1196.5358404999863,1196.5358619735541,1196.5358523843456,1196.5358423935133,1196.5358426644457,1196.535842811843,1196.5358428947711,1196.5358438210844,1196.5358402325567]},{\"line\":{\"color\":\"rgba(251, 128, 114, 0.2246696035242291)\",\"dash\":\"solid\",\"shape\":\"linear\",\"width\":1.3},\"mode\":\"lines\",\"name\":\"Zeaxanthin\",\"text\":\"\",\"type\":\"scatter\",\"x\":[0.3659673552268968,0.5489510328403452,0.6587412394084142,0.7319347104537935,0.805128181499173,0.8783216525445522,0.9515151235899316,1.024708594635311,1.0979020656806904,1.463869420907587,2.927738841815174],\"y\":[44.31849431030437,44.31849402881547,44.318494074337124,44.31849538842238,44.3184947633733,44.318494069596326,44.318494071393374,44.31849407064213,44.318494069729184,44.318494109001016,44.31849402511898]},{\"line\":{\"color\":\"rgba(128, 177, 211, 0.2246696035242291)\",\"dash\":\"solid\",\"shape\":\"linear\",\"width\":1.3},\"mode\":\"lines\",\"name\":\"Zinc, Zn\",\"text\":\"\",\"type\":\"scatter\",\"x\":[0.3659673552268968,0.5489510328403452,0.6587412394084142,0.7319347104537935,0.805128181499173,0.8783216525445522,0.9515151235899316,1.024708594635311,1.0979020656806904,1.463869420907587,2.927738841815174],\"y\":[10.967730689186768,10.967730671529877,10.9677306702413,10.967730664783442,10.967730696092945,10.967730660951549,10.967730660385344,10.967730659680026,10.967730658663816,10.967730657572973,10.967730671496904]},{\"line\":{\"color\":\"rgba(255, 153, 51, 0.2246696035242291)\",\"dash\":\"solid\",\"shape\":\"linear\",\"width\":1.3},\"mode\":\"lines\",\"name\":\"cis-Lutein/Zeaxanthin\",\"text\":\"\",\"type\":\"scatter\",\"x\":[0.3659673552268968,0.5489510328403452,0.6587412394084142,0.7319347104537935,0.805128181499173,0.8783216525445522,0.9515151235899316,1.024708594635311,1.0979020656806904,1.463869420907587,2.927738841815174],\"y\":[5.894683287995283,5.894683286787716,5.894683286922434,5.894683292101499,5.894683290543672,5.894683287037,5.894683287118446,5.894683287177669,5.8946832872296815,5.894683288016474,5.89468328681334]},{\"line\":{\"color\":\"rgba(55, 128, 191, 0.2246696035242291)\",\"dash\":\"solid\",\"shape\":\"linear\",\"width\":1.3},\"mode\":\"lines\",\"name\":\"cis-Lycopene\",\"text\":\"\",\"type\":\"scatter\",\"x\":[0.3659673552268968,0.5489510328403452,0.6587412394084142,0.7319347104537935,0.805128181499173,0.8783216525445522,0.9515151235899316,1.024708594635311,1.0979020656806904,1.463869420907587,2.927738841815174],\"y\":[0.0,0.0,0.0,0.0,0.0,0.0,0.0,0.0,0.0,0.0,0.0]},{\"line\":{\"color\":\"rgba(50, 171, 96, 0.2246696035242291)\",\"dash\":\"solid\",\"shape\":\"linear\",\"width\":1.3},\"mode\":\"lines\",\"name\":\"cis-beta-Carotene\",\"text\":\"\",\"type\":\"scatter\",\"x\":[0.3659673552268968,0.5489510328403452,0.6587412394084142,0.7319347104537935,0.805128181499173,0.8783216525445522,0.9515151235899316,1.024708594635311,1.0979020656806904,1.463869420907587,2.927738841815174],\"y\":[1.5896448754449395,1.5896449430778736,1.5896449318214716,1.5896443175259862,1.5896445782908109,1.5896448833235828,1.5896448750688663,1.5896448707941437,1.5896448687046962,1.5896448335974835,1.5896449401441475]},{\"line\":{\"color\":\"rgba(128, 0, 128, 0.2246696035242291)\",\"dash\":\"solid\",\"shape\":\"linear\",\"width\":1.3},\"mode\":\"lines\",\"name\":\"trans-Lycopene\",\"text\":\"\",\"type\":\"scatter\",\"x\":[0.3659673552268968,0.5489510328403452,0.6587412394084142,0.7319347104537935,0.805128181499173,0.8783216525445522,0.9515151235899316,1.024708594635311,1.0979020656806904,1.463869420907587,2.927738841815174],\"y\":[0.0,0.0,0.0,0.0,0.0,0.0,0.0,0.0,0.0,0.0,0.0]},{\"line\":{\"color\":\"rgba(219, 64, 82, 0.2246696035242291)\",\"dash\":\"solid\",\"shape\":\"linear\",\"width\":1.3},\"mode\":\"lines\",\"name\":\"trans-beta-Carotene\",\"text\":\"\",\"type\":\"scatter\",\"x\":[0.3659673552268968,0.5489510328403452,0.6587412394084142,0.7319347104537935,0.805128181499173,0.8783216525445522,0.9515151235899316,1.024708594635311,1.0979020656806904,1.463869420907587,2.927738841815174],\"y\":[11.127514128114576,11.127514601545116,11.127514522750301,11.127510222681904,11.127512048035676,11.12751418326508,11.127514125482064,11.127514095559006,11.127514080932874,11.127513835182384,11.127514581009033]}],                        {\"legend\":{\"bgcolor\":\"#F5F6F9\",\"font\":{\"color\":\"#4D5663\"}},\"paper_bgcolor\":\"#F5F6F9\",\"plot_bgcolor\":\"#F5F6F9\",\"template\":{\"data\":{\"bar\":[{\"error_x\":{\"color\":\"#2a3f5f\"},\"error_y\":{\"color\":\"#2a3f5f\"},\"marker\":{\"line\":{\"color\":\"#E5ECF6\",\"width\":0.5},\"pattern\":{\"fillmode\":\"overlay\",\"size\":10,\"solidity\":0.2}},\"type\":\"bar\"}],\"barpolar\":[{\"marker\":{\"line\":{\"color\":\"#E5ECF6\",\"width\":0.5},\"pattern\":{\"fillmode\":\"overlay\",\"size\":10,\"solidity\":0.2}},\"type\":\"barpolar\"}],\"carpet\":[{\"aaxis\":{\"endlinecolor\":\"#2a3f5f\",\"gridcolor\":\"white\",\"linecolor\":\"white\",\"minorgridcolor\":\"white\",\"startlinecolor\":\"#2a3f5f\"},\"baxis\":{\"endlinecolor\":\"#2a3f5f\",\"gridcolor\":\"white\",\"linecolor\":\"white\",\"minorgridcolor\":\"white\",\"startlinecolor\":\"#2a3f5f\"},\"type\":\"carpet\"}],\"choropleth\":[{\"colorbar\":{\"outlinewidth\":0,\"ticks\":\"\"},\"type\":\"choropleth\"}],\"contour\":[{\"colorbar\":{\"outlinewidth\":0,\"ticks\":\"\"},\"colorscale\":[[0.0,\"#0d0887\"],[0.1111111111111111,\"#46039f\"],[0.2222222222222222,\"#7201a8\"],[0.3333333333333333,\"#9c179e\"],[0.4444444444444444,\"#bd3786\"],[0.5555555555555556,\"#d8576b\"],[0.6666666666666666,\"#ed7953\"],[0.7777777777777778,\"#fb9f3a\"],[0.8888888888888888,\"#fdca26\"],[1.0,\"#f0f921\"]],\"type\":\"contour\"}],\"contourcarpet\":[{\"colorbar\":{\"outlinewidth\":0,\"ticks\":\"\"},\"type\":\"contourcarpet\"}],\"heatmap\":[{\"colorbar\":{\"outlinewidth\":0,\"ticks\":\"\"},\"colorscale\":[[0.0,\"#0d0887\"],[0.1111111111111111,\"#46039f\"],[0.2222222222222222,\"#7201a8\"],[0.3333333333333333,\"#9c179e\"],[0.4444444444444444,\"#bd3786\"],[0.5555555555555556,\"#d8576b\"],[0.6666666666666666,\"#ed7953\"],[0.7777777777777778,\"#fb9f3a\"],[0.8888888888888888,\"#fdca26\"],[1.0,\"#f0f921\"]],\"type\":\"heatmap\"}],\"heatmapgl\":[{\"colorbar\":{\"outlinewidth\":0,\"ticks\":\"\"},\"colorscale\":[[0.0,\"#0d0887\"],[0.1111111111111111,\"#46039f\"],[0.2222222222222222,\"#7201a8\"],[0.3333333333333333,\"#9c179e\"],[0.4444444444444444,\"#bd3786\"],[0.5555555555555556,\"#d8576b\"],[0.6666666666666666,\"#ed7953\"],[0.7777777777777778,\"#fb9f3a\"],[0.8888888888888888,\"#fdca26\"],[1.0,\"#f0f921\"]],\"type\":\"heatmapgl\"}],\"histogram\":[{\"marker\":{\"pattern\":{\"fillmode\":\"overlay\",\"size\":10,\"solidity\":0.2}},\"type\":\"histogram\"}],\"histogram2d\":[{\"colorbar\":{\"outlinewidth\":0,\"ticks\":\"\"},\"colorscale\":[[0.0,\"#0d0887\"],[0.1111111111111111,\"#46039f\"],[0.2222222222222222,\"#7201a8\"],[0.3333333333333333,\"#9c179e\"],[0.4444444444444444,\"#bd3786\"],[0.5555555555555556,\"#d8576b\"],[0.6666666666666666,\"#ed7953\"],[0.7777777777777778,\"#fb9f3a\"],[0.8888888888888888,\"#fdca26\"],[1.0,\"#f0f921\"]],\"type\":\"histogram2d\"}],\"histogram2dcontour\":[{\"colorbar\":{\"outlinewidth\":0,\"ticks\":\"\"},\"colorscale\":[[0.0,\"#0d0887\"],[0.1111111111111111,\"#46039f\"],[0.2222222222222222,\"#7201a8\"],[0.3333333333333333,\"#9c179e\"],[0.4444444444444444,\"#bd3786\"],[0.5555555555555556,\"#d8576b\"],[0.6666666666666666,\"#ed7953\"],[0.7777777777777778,\"#fb9f3a\"],[0.8888888888888888,\"#fdca26\"],[1.0,\"#f0f921\"]],\"type\":\"histogram2dcontour\"}],\"mesh3d\":[{\"colorbar\":{\"outlinewidth\":0,\"ticks\":\"\"},\"type\":\"mesh3d\"}],\"parcoords\":[{\"line\":{\"colorbar\":{\"outlinewidth\":0,\"ticks\":\"\"}},\"type\":\"parcoords\"}],\"pie\":[{\"automargin\":true,\"type\":\"pie\"}],\"scatter\":[{\"marker\":{\"colorbar\":{\"outlinewidth\":0,\"ticks\":\"\"}},\"type\":\"scatter\"}],\"scatter3d\":[{\"line\":{\"colorbar\":{\"outlinewidth\":0,\"ticks\":\"\"}},\"marker\":{\"colorbar\":{\"outlinewidth\":0,\"ticks\":\"\"}},\"type\":\"scatter3d\"}],\"scattercarpet\":[{\"marker\":{\"colorbar\":{\"outlinewidth\":0,\"ticks\":\"\"}},\"type\":\"scattercarpet\"}],\"scattergeo\":[{\"marker\":{\"colorbar\":{\"outlinewidth\":0,\"ticks\":\"\"}},\"type\":\"scattergeo\"}],\"scattergl\":[{\"marker\":{\"colorbar\":{\"outlinewidth\":0,\"ticks\":\"\"}},\"type\":\"scattergl\"}],\"scattermapbox\":[{\"marker\":{\"colorbar\":{\"outlinewidth\":0,\"ticks\":\"\"}},\"type\":\"scattermapbox\"}],\"scatterpolar\":[{\"marker\":{\"colorbar\":{\"outlinewidth\":0,\"ticks\":\"\"}},\"type\":\"scatterpolar\"}],\"scatterpolargl\":[{\"marker\":{\"colorbar\":{\"outlinewidth\":0,\"ticks\":\"\"}},\"type\":\"scatterpolargl\"}],\"scatterternary\":[{\"marker\":{\"colorbar\":{\"outlinewidth\":0,\"ticks\":\"\"}},\"type\":\"scatterternary\"}],\"surface\":[{\"colorbar\":{\"outlinewidth\":0,\"ticks\":\"\"},\"colorscale\":[[0.0,\"#0d0887\"],[0.1111111111111111,\"#46039f\"],[0.2222222222222222,\"#7201a8\"],[0.3333333333333333,\"#9c179e\"],[0.4444444444444444,\"#bd3786\"],[0.5555555555555556,\"#d8576b\"],[0.6666666666666666,\"#ed7953\"],[0.7777777777777778,\"#fb9f3a\"],[0.8888888888888888,\"#fdca26\"],[1.0,\"#f0f921\"]],\"type\":\"surface\"}],\"table\":[{\"cells\":{\"fill\":{\"color\":\"#EBF0F8\"},\"line\":{\"color\":\"white\"}},\"header\":{\"fill\":{\"color\":\"#C8D4E3\"},\"line\":{\"color\":\"white\"}},\"type\":\"table\"}]},\"layout\":{\"annotationdefaults\":{\"arrowcolor\":\"#2a3f5f\",\"arrowhead\":0,\"arrowwidth\":1},\"autotypenumbers\":\"strict\",\"coloraxis\":{\"colorbar\":{\"outlinewidth\":0,\"ticks\":\"\"}},\"colorscale\":{\"diverging\":[[0,\"#8e0152\"],[0.1,\"#c51b7d\"],[0.2,\"#de77ae\"],[0.3,\"#f1b6da\"],[0.4,\"#fde0ef\"],[0.5,\"#f7f7f7\"],[0.6,\"#e6f5d0\"],[0.7,\"#b8e186\"],[0.8,\"#7fbc41\"],[0.9,\"#4d9221\"],[1,\"#276419\"]],\"sequential\":[[0.0,\"#0d0887\"],[0.1111111111111111,\"#46039f\"],[0.2222222222222222,\"#7201a8\"],[0.3333333333333333,\"#9c179e\"],[0.4444444444444444,\"#bd3786\"],[0.5555555555555556,\"#d8576b\"],[0.6666666666666666,\"#ed7953\"],[0.7777777777777778,\"#fb9f3a\"],[0.8888888888888888,\"#fdca26\"],[1.0,\"#f0f921\"]],\"sequentialminus\":[[0.0,\"#0d0887\"],[0.1111111111111111,\"#46039f\"],[0.2222222222222222,\"#7201a8\"],[0.3333333333333333,\"#9c179e\"],[0.4444444444444444,\"#bd3786\"],[0.5555555555555556,\"#d8576b\"],[0.6666666666666666,\"#ed7953\"],[0.7777777777777778,\"#fb9f3a\"],[0.8888888888888888,\"#fdca26\"],[1.0,\"#f0f921\"]]},\"colorway\":[\"#636efa\",\"#EF553B\",\"#00cc96\",\"#ab63fa\",\"#FFA15A\",\"#19d3f3\",\"#FF6692\",\"#B6E880\",\"#FF97FF\",\"#FECB52\"],\"font\":{\"color\":\"#2a3f5f\"},\"geo\":{\"bgcolor\":\"white\",\"lakecolor\":\"white\",\"landcolor\":\"#E5ECF6\",\"showlakes\":true,\"showland\":true,\"subunitcolor\":\"white\"},\"hoverlabel\":{\"align\":\"left\"},\"hovermode\":\"closest\",\"mapbox\":{\"style\":\"light\"},\"paper_bgcolor\":\"white\",\"plot_bgcolor\":\"#E5ECF6\",\"polar\":{\"angularaxis\":{\"gridcolor\":\"white\",\"linecolor\":\"white\",\"ticks\":\"\"},\"bgcolor\":\"#E5ECF6\",\"radialaxis\":{\"gridcolor\":\"white\",\"linecolor\":\"white\",\"ticks\":\"\"}},\"scene\":{\"xaxis\":{\"backgroundcolor\":\"#E5ECF6\",\"gridcolor\":\"white\",\"gridwidth\":2,\"linecolor\":\"white\",\"showbackground\":true,\"ticks\":\"\",\"zerolinecolor\":\"white\"},\"yaxis\":{\"backgroundcolor\":\"#E5ECF6\",\"gridcolor\":\"white\",\"gridwidth\":2,\"linecolor\":\"white\",\"showbackground\":true,\"ticks\":\"\",\"zerolinecolor\":\"white\"},\"zaxis\":{\"backgroundcolor\":\"#E5ECF6\",\"gridcolor\":\"white\",\"gridwidth\":2,\"linecolor\":\"white\",\"showbackground\":true,\"ticks\":\"\",\"zerolinecolor\":\"white\"}},\"shapedefaults\":{\"line\":{\"color\":\"#2a3f5f\"}},\"ternary\":{\"aaxis\":{\"gridcolor\":\"white\",\"linecolor\":\"white\",\"ticks\":\"\"},\"baxis\":{\"gridcolor\":\"white\",\"linecolor\":\"white\",\"ticks\":\"\"},\"bgcolor\":\"#E5ECF6\",\"caxis\":{\"gridcolor\":\"white\",\"linecolor\":\"white\",\"ticks\":\"\"}},\"title\":{\"x\":0.05},\"xaxis\":{\"automargin\":true,\"gridcolor\":\"white\",\"linecolor\":\"white\",\"ticks\":\"\",\"title\":{\"standoff\":15},\"zerolinecolor\":\"white\",\"zerolinewidth\":2},\"yaxis\":{\"automargin\":true,\"gridcolor\":\"white\",\"linecolor\":\"white\",\"ticks\":\"\",\"title\":{\"standoff\":15},\"zerolinecolor\":\"white\",\"zerolinewidth\":2}}},\"title\":{\"font\":{\"color\":\"#4D5663\"}},\"xaxis\":{\"gridcolor\":\"#E1E5ED\",\"showgrid\":true,\"tickfont\":{\"color\":\"#4D5663\"},\"title\":{\"font\":{\"color\":\"#4D5663\"},\"text\":\"Spinach Price\"},\"zerolinecolor\":\"#E1E5ED\"},\"yaxis\":{\"gridcolor\":\"#E1E5ED\",\"showgrid\":true,\"tickfont\":{\"color\":\"#4D5663\"},\"title\":{\"font\":{\"color\":\"#4D5663\"},\"text\":\"Nutrients\"},\"zerolinecolor\":\"#E1E5ED\"}},                        {\"showLink\": true, \"linkText\": \"Export to plot.ly\", \"plotlyServerURL\": \"https://plot.ly\", \"responsive\": true}                    ).then(function(){\n",
       "                            \n",
       "var gd = document.getElementById('3bb9f9a0-0966-48cc-aed2-55a63bc8860f');\n",
       "var x = new MutationObserver(function (mutations, observer) {{\n",
       "        var display = window.getComputedStyle(gd).display;\n",
       "        if (!display || display === 'none') {{\n",
       "            console.log([gd, 'removed!']);\n",
       "            Plotly.purge(gd);\n",
       "            observer.disconnect();\n",
       "        }}\n",
       "}});\n",
       "\n",
       "// Listen for the removal of the full notebook cells\n",
       "var notebookContainer = gd.closest('#notebook-container');\n",
       "if (notebookContainer) {{\n",
       "    x.observe(notebookContainer, {childList: true});\n",
       "}}\n",
       "\n",
       "// Listen for the clearing of the current output cell\n",
       "var outputEl = gd.closest('.output');\n",
       "if (outputEl) {{\n",
       "    x.observe(outputEl, {childList: true});\n",
       "}}\n",
       "\n",
       "                        })                };                });            </script>        </div>"
      ]
     },
     "metadata": {},
     "output_type": "display_data"
    }
   ],
   "source": [
    "# Matrix product maps quantities of food into quantities of nutrients\n",
    "NutrientResponse = Diet_response@FoodNutrients.T\n",
    "\n",
    "# Drop columns of missing nutrients\n",
    "NutrientResponse = NutrientResponse.loc[:,NutrientResponse.count()>0]\n",
    "NutrientResponse.iplot(xTitle='%s Price' % ReferenceGood,yTitle='Nutrients')"
   ]
  },
  {
   "cell_type": "markdown",
   "metadata": {},
   "source": [
    "## Adding Constraint on Total Weight\n",
    "\n"
   ]
  },
  {
   "cell_type": "markdown",
   "metadata": {},
   "source": [
    "At least at some prices the minimum cost subistence diet involves\n",
    "eating unreasonable amounts of food (e.g., 10 kilograms of cabbage per\n",
    "day).  We can easily add an additional constraint of the form\n",
    "$$\n",
    "     \\sum x_i \\leq \\text{max weight}\n",
    "$$\n",
    "to our linear programming problem since it&rsquo;s just another linear\n",
    "inequality, and this may give us more realistic results.\n",
    "\n"
   ]
  },
  {
   "cell_type": "markdown",
   "metadata": {},
   "source": [
    "### Price Changes and Subsistence Diet Composition with Weight Constraint\n",
    "\n"
   ]
  },
  {
   "cell_type": "markdown",
   "metadata": {},
   "source": [
    "Re-do our analysis of changing prices, but with a constraint that\n",
    "  total weight of diet must be less that 15 hectograms (1.5 kg).\n",
    "\n"
   ]
  },
  {
   "cell_type": "code",
   "execution_count": 130,
   "metadata": {},
   "outputs": [
    {
     "data": {
      "text/html": [
       "        <script type=\"text/javascript\">\n",
       "        window.PlotlyConfig = {MathJaxConfig: 'local'};\n",
       "        if (window.MathJax) {MathJax.Hub.Config({SVG: {font: \"STIX-Web\"}});}\n",
       "        if (typeof require !== 'undefined') {\n",
       "        require.undef(\"plotly\");\n",
       "        requirejs.config({\n",
       "            paths: {\n",
       "                'plotly': ['https://cdn.plot.ly/plotly-2.3.1.min']\n",
       "            }\n",
       "        });\n",
       "        require(['plotly'], function(Plotly) {\n",
       "            window._Plotly = Plotly;\n",
       "        });\n",
       "        }\n",
       "        </script>\n",
       "        "
      ]
     },
     "metadata": {},
     "output_type": "display_data"
    },
    {
     "data": {
      "application/vnd.plotly.v1+json": {
       "config": {
        "linkText": "Export to plot.ly",
        "plotlyServerURL": "https://plot.ly",
        "showLink": true
       },
       "data": [
        {
         "line": {
          "color": "rgba(255, 153, 51, 1.0)",
          "dash": "solid",
          "shape": "linear",
          "width": 1.3
         },
         "mode": "lines",
         "name": " Banana,raw",
         "text": "",
         "type": "scatter",
         "x": [
          0.3659673552268968,
          0.5489510328403452,
          0.6587412394084142,
          0.7319347104537935,
          0.805128181499173,
          0.8783216525445522,
          0.9515151235899316,
          1.024708594635311,
          1.0979020656806904,
          1.463869420907587,
          2.927738841815174
         ],
         "y": [
          2.6403380349263073e-9,
          0.8625908049470082,
          1.004213392724774,
          1.0042136449919215,
          1.004213675881353,
          1.0042136450394816,
          1.0042136318021595,
          1.0042136368988184,
          1.0042136485902868,
          1.0042136822633474,
          1.0042133417009134
         ]
        },
        {
         "line": {
          "color": "rgba(55, 128, 191, 1.0)",
          "dash": "solid",
          "shape": "linear",
          "width": 1.3
         },
         "mode": "lines",
         "name": "Oranges, Navel",
         "text": "",
         "type": "scatter",
         "x": [
          0.3659673552268968,
          0.5489510328403452,
          0.6587412394084142,
          0.7319347104537935,
          0.805128181499173,
          0.8783216525445522,
          0.9515151235899316,
          1.024708594635311,
          1.0979020656806904,
          1.463869420907587,
          2.927738841815174
         ],
         "y": [
          0.20523579229357417,
          0.4366247039359835,
          0.3236740315789345,
          0.3236736123328427,
          0.3236735782798047,
          0.32367359964601605,
          0.3236736092214539,
          0.3236736037249149,
          0.3236735937793921,
          0.32367357174107053,
          0.3236740117846321
         ]
        },
        {
         "line": {
          "color": "rgba(50, 171, 96, 1.0)",
          "dash": "solid",
          "shape": "linear",
          "width": 1.3
         },
         "mode": "lines",
         "name": "Lentils, red",
         "text": "",
         "type": "scatter",
         "x": [
          0.3659673552268968,
          0.5489510328403452,
          0.6587412394084142,
          0.7319347104537935,
          0.805128181499173,
          0.8783216525445522,
          0.9515151235899316,
          1.024708594635311,
          1.0979020656806904,
          1.463869420907587,
          2.927738841815174
         ],
         "y": [
          0.03997609686649811,
          0.7941100540471716,
          0.8190824273020493,
          0.8190828097893811,
          0.8190828337357501,
          0.8190828233169671,
          0.8190828181508241,
          0.8190828222247957,
          0.8190828284543406,
          0.8190828380697911,
          0.8190824850424572
         ]
        },
        {
         "line": {
          "color": "rgba(128, 0, 128, 1.0)",
          "dash": "solid",
          "shape": "linear",
          "width": 1.3
         },
         "mode": "lines",
         "name": "Black beans, canned",
         "text": "",
         "type": "scatter",
         "x": [
          0.3659673552268968,
          0.5489510328403452,
          0.6587412394084142,
          0.7319347104537935,
          0.805128181499173,
          0.8783216525445522,
          0.9515151235899316,
          1.024708594635311,
          1.0979020656806904,
          1.463869420907587,
          2.927738841815174
         ],
         "y": [
          4.827789764766429,
          1.44509406675226,
          1.5469088341711668,
          1.546907898146053,
          1.546907829977197,
          1.5469078606947821,
          1.54690787499043,
          1.546907864240072,
          1.5469078472185354,
          1.5469078169661883,
          1.5469087390412202
         ]
        },
        {
         "line": {
          "color": "rgba(219, 64, 82, 1.0)",
          "dash": "solid",
          "shape": "linear",
          "width": 1.3
         },
         "mode": "lines",
         "name": "Kale",
         "text": "",
         "type": "scatter",
         "x": [
          0.3659673552268968,
          0.5489510328403452,
          0.6587412394084142,
          0.7319347104537935,
          0.805128181499173,
          0.8783216525445522,
          0.9515151235899316,
          1.024708594635311,
          1.0979020656806904,
          1.463869420907587,
          2.927738841815174
         ],
         "y": [
          0.1467380705385,
          0.11250089565476215,
          0.20652654656322972,
          0.20652672659144009,
          0.20652674061737344,
          0.2065267321292095,
          0.20652672830664684,
          0.2065267305851555,
          0.20652673462171386,
          0.2065267432858721,
          0.20652656072832934
         ]
        },
        {
         "line": {
          "color": "rgba(0, 128, 128, 1.0)",
          "dash": "solid",
          "shape": "linear",
          "width": 1.3
         },
         "mode": "lines",
         "name": "Carrot",
         "text": "",
         "type": "scatter",
         "x": [
          0.3659673552268968,
          0.5489510328403452,
          0.6587412394084142,
          0.7319347104537935,
          0.805128181499173,
          0.8783216525445522,
          0.9515151235899316,
          1.024708594635311,
          1.0979020656806904,
          1.463869420907587,
          2.927738841815174
         ],
         "y": [
          0.03184790827884519,
          2.4221220190596076,
          2.431713806894673,
          2.431715525113197,
          2.431715639650991,
          2.431715597787568,
          2.431715577694695,
          2.4317155960604646,
          2.431715622810005,
          2.431715662105153,
          2.4317140628955656
         ]
        },
        {
         "line": {
          "color": "rgba(255, 255, 51, 1.0)",
          "dash": "solid",
          "shape": "linear",
          "width": 1.3
         },
         "mode": "lines",
         "name": "Avocado",
         "text": "",
         "type": "scatter",
         "x": [
          0.3659673552268968,
          0.5489510328403452,
          0.6587412394084142,
          0.7319347104537935,
          0.805128181499173,
          0.8783216525445522,
          0.9515151235899316,
          1.024708594635311,
          1.0979020656806904,
          1.463869420907587,
          2.927738841815174
         ],
         "y": [
          1.0051770950105638,
          0.4470392388916063,
          0.4313254646223128,
          0.4313251644577738,
          0.43132514794562904,
          0.43132515550570494,
          0.43132515944621885,
          0.4313251563230847,
          0.43132515157740536,
          0.43132514482857864,
          0.43132540688183163
         ]
        },
        {
         "line": {
          "color": "rgba(128, 128, 0, 1.0)",
          "dash": "solid",
          "shape": "linear",
          "width": 1.3
         },
         "mode": "lines",
         "name": "Spinach",
         "text": "",
         "type": "scatter",
         "x": [
          0.3659673552268968,
          0.5489510328403452,
          0.6587412394084142,
          0.7319347104537935,
          0.805128181499173,
          0.8783216525445522,
          0.9515151235899316,
          1.024708594635311,
          1.0979020656806904,
          1.463869420907587,
          2.927738841815174
         ],
         "y": [
          0.9737014897551106,
          0.15329472252868587,
          1.1531043803246494e-8,
          1.1992572304157349e-9,
          3.261324337771417e-10,
          4.2321318517947726e-10,
          3.800219077877228e-10,
          2.831005313654123e-10,
          1.9569407876093558e-10,
          4.104863141330223e-11,
          2.3090495086745792e-10
         ]
        },
        {
         "line": {
          "color": "rgba(251, 128, 114, 1.0)",
          "dash": "solid",
          "shape": "linear",
          "width": 1.3
         },
         "mode": "lines",
         "name": "Tortillas, corn",
         "text": "",
         "type": "scatter",
         "x": [
          0.3659673552268968,
          0.5489510328403452,
          0.6587412394084142,
          0.7319347104537935,
          0.805128181499173,
          0.8783216525445522,
          0.9515151235899316,
          1.024708594635311,
          1.0979020656806904,
          1.463869420907587,
          2.927738841815174
         ],
         "y": [
          0.033124921589616635,
          0.32258116329908915,
          0.23724029394425114,
          0.23724007818213103,
          0.23724006513952928,
          0.2372400702851179,
          0.23724007285598167,
          0.23724007064659194,
          0.23724006739803796,
          0.2372400628121961,
          0.23724025627053635
         ]
        },
        {
         "line": {
          "color": "rgba(128, 177, 211, 1.0)",
          "dash": "solid",
          "shape": "linear",
          "width": 1.3
         },
         "mode": "lines",
         "name": "Soy milk, unsweetened",
         "text": "",
         "type": "scatter",
         "x": [
          0.3659673552268968,
          0.5489510328403452,
          0.6587412394084142,
          0.7319347104537935,
          0.805128181499173,
          0.8783216525445522,
          0.9515151235899316,
          1.024708594635311,
          1.0979020656806904,
          1.463869420907587,
          2.927738841815174
         ],
         "y": [
          6.105316713431457,
          6.105316713969768,
          6.105316719715856,
          6.10531671482001,
          6.105316713962694,
          6.105316714498706,
          6.105316714686499,
          6.105316714563623,
          6.105316714330166,
          6.105316713657843,
          6.105316719785138
         ]
        },
        {
         "line": {
          "color": "rgba(128, 177, 211, 0.8999999999999999)",
          "dash": "solid",
          "shape": "linear",
          "width": 1.3
         },
         "mode": "lines",
         "name": "Peanut butter, creamy",
         "text": "",
         "type": "scatter",
         "x": [
          0.3659673552268968,
          0.5489510328403452,
          0.6587412394084142,
          0.7319347104537935,
          0.805128181499173,
          0.8783216525445522,
          0.9515151235899316,
          1.024708594635311,
          1.0979020656806904,
          1.463869420907587,
          2.927738841815174
         ],
         "y": [
          1.631092142763707,
          1.8987256104556511,
          1.8939984156988883,
          1.8939978120481444,
          1.8939977691712901,
          1.893997791036805,
          1.8939978013092105,
          1.8939977942989463,
          1.893997782765097,
          1.8939977613194374,
          1.8939983611288704
         ]
        }
       ],
       "layout": {
        "autosize": true,
        "legend": {
         "bgcolor": "#F5F6F9",
         "font": {
          "color": "#4D5663"
         }
        },
        "paper_bgcolor": "#F5F6F9",
        "plot_bgcolor": "#F5F6F9",
        "template": {
         "data": {
          "bar": [
           {
            "error_x": {
             "color": "#2a3f5f"
            },
            "error_y": {
             "color": "#2a3f5f"
            },
            "marker": {
             "line": {
              "color": "#E5ECF6",
              "width": 0.5
             },
             "pattern": {
              "fillmode": "overlay",
              "size": 10,
              "solidity": 0.2
             }
            },
            "type": "bar"
           }
          ],
          "barpolar": [
           {
            "marker": {
             "line": {
              "color": "#E5ECF6",
              "width": 0.5
             },
             "pattern": {
              "fillmode": "overlay",
              "size": 10,
              "solidity": 0.2
             }
            },
            "type": "barpolar"
           }
          ],
          "carpet": [
           {
            "aaxis": {
             "endlinecolor": "#2a3f5f",
             "gridcolor": "white",
             "linecolor": "white",
             "minorgridcolor": "white",
             "startlinecolor": "#2a3f5f"
            },
            "baxis": {
             "endlinecolor": "#2a3f5f",
             "gridcolor": "white",
             "linecolor": "white",
             "minorgridcolor": "white",
             "startlinecolor": "#2a3f5f"
            },
            "type": "carpet"
           }
          ],
          "choropleth": [
           {
            "colorbar": {
             "outlinewidth": 0,
             "ticks": ""
            },
            "type": "choropleth"
           }
          ],
          "contour": [
           {
            "colorbar": {
             "outlinewidth": 0,
             "ticks": ""
            },
            "colorscale": [
             [
              0,
              "#0d0887"
             ],
             [
              0.1111111111111111,
              "#46039f"
             ],
             [
              0.2222222222222222,
              "#7201a8"
             ],
             [
              0.3333333333333333,
              "#9c179e"
             ],
             [
              0.4444444444444444,
              "#bd3786"
             ],
             [
              0.5555555555555556,
              "#d8576b"
             ],
             [
              0.6666666666666666,
              "#ed7953"
             ],
             [
              0.7777777777777778,
              "#fb9f3a"
             ],
             [
              0.8888888888888888,
              "#fdca26"
             ],
             [
              1,
              "#f0f921"
             ]
            ],
            "type": "contour"
           }
          ],
          "contourcarpet": [
           {
            "colorbar": {
             "outlinewidth": 0,
             "ticks": ""
            },
            "type": "contourcarpet"
           }
          ],
          "heatmap": [
           {
            "colorbar": {
             "outlinewidth": 0,
             "ticks": ""
            },
            "colorscale": [
             [
              0,
              "#0d0887"
             ],
             [
              0.1111111111111111,
              "#46039f"
             ],
             [
              0.2222222222222222,
              "#7201a8"
             ],
             [
              0.3333333333333333,
              "#9c179e"
             ],
             [
              0.4444444444444444,
              "#bd3786"
             ],
             [
              0.5555555555555556,
              "#d8576b"
             ],
             [
              0.6666666666666666,
              "#ed7953"
             ],
             [
              0.7777777777777778,
              "#fb9f3a"
             ],
             [
              0.8888888888888888,
              "#fdca26"
             ],
             [
              1,
              "#f0f921"
             ]
            ],
            "type": "heatmap"
           }
          ],
          "heatmapgl": [
           {
            "colorbar": {
             "outlinewidth": 0,
             "ticks": ""
            },
            "colorscale": [
             [
              0,
              "#0d0887"
             ],
             [
              0.1111111111111111,
              "#46039f"
             ],
             [
              0.2222222222222222,
              "#7201a8"
             ],
             [
              0.3333333333333333,
              "#9c179e"
             ],
             [
              0.4444444444444444,
              "#bd3786"
             ],
             [
              0.5555555555555556,
              "#d8576b"
             ],
             [
              0.6666666666666666,
              "#ed7953"
             ],
             [
              0.7777777777777778,
              "#fb9f3a"
             ],
             [
              0.8888888888888888,
              "#fdca26"
             ],
             [
              1,
              "#f0f921"
             ]
            ],
            "type": "heatmapgl"
           }
          ],
          "histogram": [
           {
            "marker": {
             "pattern": {
              "fillmode": "overlay",
              "size": 10,
              "solidity": 0.2
             }
            },
            "type": "histogram"
           }
          ],
          "histogram2d": [
           {
            "colorbar": {
             "outlinewidth": 0,
             "ticks": ""
            },
            "colorscale": [
             [
              0,
              "#0d0887"
             ],
             [
              0.1111111111111111,
              "#46039f"
             ],
             [
              0.2222222222222222,
              "#7201a8"
             ],
             [
              0.3333333333333333,
              "#9c179e"
             ],
             [
              0.4444444444444444,
              "#bd3786"
             ],
             [
              0.5555555555555556,
              "#d8576b"
             ],
             [
              0.6666666666666666,
              "#ed7953"
             ],
             [
              0.7777777777777778,
              "#fb9f3a"
             ],
             [
              0.8888888888888888,
              "#fdca26"
             ],
             [
              1,
              "#f0f921"
             ]
            ],
            "type": "histogram2d"
           }
          ],
          "histogram2dcontour": [
           {
            "colorbar": {
             "outlinewidth": 0,
             "ticks": ""
            },
            "colorscale": [
             [
              0,
              "#0d0887"
             ],
             [
              0.1111111111111111,
              "#46039f"
             ],
             [
              0.2222222222222222,
              "#7201a8"
             ],
             [
              0.3333333333333333,
              "#9c179e"
             ],
             [
              0.4444444444444444,
              "#bd3786"
             ],
             [
              0.5555555555555556,
              "#d8576b"
             ],
             [
              0.6666666666666666,
              "#ed7953"
             ],
             [
              0.7777777777777778,
              "#fb9f3a"
             ],
             [
              0.8888888888888888,
              "#fdca26"
             ],
             [
              1,
              "#f0f921"
             ]
            ],
            "type": "histogram2dcontour"
           }
          ],
          "mesh3d": [
           {
            "colorbar": {
             "outlinewidth": 0,
             "ticks": ""
            },
            "type": "mesh3d"
           }
          ],
          "parcoords": [
           {
            "line": {
             "colorbar": {
              "outlinewidth": 0,
              "ticks": ""
             }
            },
            "type": "parcoords"
           }
          ],
          "pie": [
           {
            "automargin": true,
            "type": "pie"
           }
          ],
          "scatter": [
           {
            "marker": {
             "colorbar": {
              "outlinewidth": 0,
              "ticks": ""
             }
            },
            "type": "scatter"
           }
          ],
          "scatter3d": [
           {
            "line": {
             "colorbar": {
              "outlinewidth": 0,
              "ticks": ""
             }
            },
            "marker": {
             "colorbar": {
              "outlinewidth": 0,
              "ticks": ""
             }
            },
            "type": "scatter3d"
           }
          ],
          "scattercarpet": [
           {
            "marker": {
             "colorbar": {
              "outlinewidth": 0,
              "ticks": ""
             }
            },
            "type": "scattercarpet"
           }
          ],
          "scattergeo": [
           {
            "marker": {
             "colorbar": {
              "outlinewidth": 0,
              "ticks": ""
             }
            },
            "type": "scattergeo"
           }
          ],
          "scattergl": [
           {
            "marker": {
             "colorbar": {
              "outlinewidth": 0,
              "ticks": ""
             }
            },
            "type": "scattergl"
           }
          ],
          "scattermapbox": [
           {
            "marker": {
             "colorbar": {
              "outlinewidth": 0,
              "ticks": ""
             }
            },
            "type": "scattermapbox"
           }
          ],
          "scatterpolar": [
           {
            "marker": {
             "colorbar": {
              "outlinewidth": 0,
              "ticks": ""
             }
            },
            "type": "scatterpolar"
           }
          ],
          "scatterpolargl": [
           {
            "marker": {
             "colorbar": {
              "outlinewidth": 0,
              "ticks": ""
             }
            },
            "type": "scatterpolargl"
           }
          ],
          "scatterternary": [
           {
            "marker": {
             "colorbar": {
              "outlinewidth": 0,
              "ticks": ""
             }
            },
            "type": "scatterternary"
           }
          ],
          "surface": [
           {
            "colorbar": {
             "outlinewidth": 0,
             "ticks": ""
            },
            "colorscale": [
             [
              0,
              "#0d0887"
             ],
             [
              0.1111111111111111,
              "#46039f"
             ],
             [
              0.2222222222222222,
              "#7201a8"
             ],
             [
              0.3333333333333333,
              "#9c179e"
             ],
             [
              0.4444444444444444,
              "#bd3786"
             ],
             [
              0.5555555555555556,
              "#d8576b"
             ],
             [
              0.6666666666666666,
              "#ed7953"
             ],
             [
              0.7777777777777778,
              "#fb9f3a"
             ],
             [
              0.8888888888888888,
              "#fdca26"
             ],
             [
              1,
              "#f0f921"
             ]
            ],
            "type": "surface"
           }
          ],
          "table": [
           {
            "cells": {
             "fill": {
              "color": "#EBF0F8"
             },
             "line": {
              "color": "white"
             }
            },
            "header": {
             "fill": {
              "color": "#C8D4E3"
             },
             "line": {
              "color": "white"
             }
            },
            "type": "table"
           }
          ]
         },
         "layout": {
          "annotationdefaults": {
           "arrowcolor": "#2a3f5f",
           "arrowhead": 0,
           "arrowwidth": 1
          },
          "autotypenumbers": "strict",
          "coloraxis": {
           "colorbar": {
            "outlinewidth": 0,
            "ticks": ""
           }
          },
          "colorscale": {
           "diverging": [
            [
             0,
             "#8e0152"
            ],
            [
             0.1,
             "#c51b7d"
            ],
            [
             0.2,
             "#de77ae"
            ],
            [
             0.3,
             "#f1b6da"
            ],
            [
             0.4,
             "#fde0ef"
            ],
            [
             0.5,
             "#f7f7f7"
            ],
            [
             0.6,
             "#e6f5d0"
            ],
            [
             0.7,
             "#b8e186"
            ],
            [
             0.8,
             "#7fbc41"
            ],
            [
             0.9,
             "#4d9221"
            ],
            [
             1,
             "#276419"
            ]
           ],
           "sequential": [
            [
             0,
             "#0d0887"
            ],
            [
             0.1111111111111111,
             "#46039f"
            ],
            [
             0.2222222222222222,
             "#7201a8"
            ],
            [
             0.3333333333333333,
             "#9c179e"
            ],
            [
             0.4444444444444444,
             "#bd3786"
            ],
            [
             0.5555555555555556,
             "#d8576b"
            ],
            [
             0.6666666666666666,
             "#ed7953"
            ],
            [
             0.7777777777777778,
             "#fb9f3a"
            ],
            [
             0.8888888888888888,
             "#fdca26"
            ],
            [
             1,
             "#f0f921"
            ]
           ],
           "sequentialminus": [
            [
             0,
             "#0d0887"
            ],
            [
             0.1111111111111111,
             "#46039f"
            ],
            [
             0.2222222222222222,
             "#7201a8"
            ],
            [
             0.3333333333333333,
             "#9c179e"
            ],
            [
             0.4444444444444444,
             "#bd3786"
            ],
            [
             0.5555555555555556,
             "#d8576b"
            ],
            [
             0.6666666666666666,
             "#ed7953"
            ],
            [
             0.7777777777777778,
             "#fb9f3a"
            ],
            [
             0.8888888888888888,
             "#fdca26"
            ],
            [
             1,
             "#f0f921"
            ]
           ]
          },
          "colorway": [
           "#636efa",
           "#EF553B",
           "#00cc96",
           "#ab63fa",
           "#FFA15A",
           "#19d3f3",
           "#FF6692",
           "#B6E880",
           "#FF97FF",
           "#FECB52"
          ],
          "font": {
           "color": "#2a3f5f"
          },
          "geo": {
           "bgcolor": "white",
           "lakecolor": "white",
           "landcolor": "#E5ECF6",
           "showlakes": true,
           "showland": true,
           "subunitcolor": "white"
          },
          "hoverlabel": {
           "align": "left"
          },
          "hovermode": "closest",
          "mapbox": {
           "style": "light"
          },
          "paper_bgcolor": "white",
          "plot_bgcolor": "#E5ECF6",
          "polar": {
           "angularaxis": {
            "gridcolor": "white",
            "linecolor": "white",
            "ticks": ""
           },
           "bgcolor": "#E5ECF6",
           "radialaxis": {
            "gridcolor": "white",
            "linecolor": "white",
            "ticks": ""
           }
          },
          "scene": {
           "xaxis": {
            "backgroundcolor": "#E5ECF6",
            "gridcolor": "white",
            "gridwidth": 2,
            "linecolor": "white",
            "showbackground": true,
            "ticks": "",
            "zerolinecolor": "white"
           },
           "yaxis": {
            "backgroundcolor": "#E5ECF6",
            "gridcolor": "white",
            "gridwidth": 2,
            "linecolor": "white",
            "showbackground": true,
            "ticks": "",
            "zerolinecolor": "white"
           },
           "zaxis": {
            "backgroundcolor": "#E5ECF6",
            "gridcolor": "white",
            "gridwidth": 2,
            "linecolor": "white",
            "showbackground": true,
            "ticks": "",
            "zerolinecolor": "white"
           }
          },
          "shapedefaults": {
           "line": {
            "color": "#2a3f5f"
           }
          },
          "ternary": {
           "aaxis": {
            "gridcolor": "white",
            "linecolor": "white",
            "ticks": ""
           },
           "baxis": {
            "gridcolor": "white",
            "linecolor": "white",
            "ticks": ""
           },
           "bgcolor": "#E5ECF6",
           "caxis": {
            "gridcolor": "white",
            "linecolor": "white",
            "ticks": ""
           }
          },
          "title": {
           "x": 0.05
          },
          "xaxis": {
           "automargin": true,
           "gridcolor": "white",
           "linecolor": "white",
           "ticks": "",
           "title": {
            "standoff": 15
           },
           "zerolinecolor": "white",
           "zerolinewidth": 2
          },
          "yaxis": {
           "automargin": true,
           "gridcolor": "white",
           "linecolor": "white",
           "ticks": "",
           "title": {
            "standoff": 15
           },
           "zerolinecolor": "white",
           "zerolinewidth": 2
          }
         }
        },
        "title": {
         "font": {
          "color": "#4D5663"
         }
        },
        "xaxis": {
         "autorange": true,
         "gridcolor": "#E1E5ED",
         "range": [
          0.3659673552268968,
          2.927738841815174
         ],
         "showgrid": true,
         "tickfont": {
          "color": "#4D5663"
         },
         "title": {
          "font": {
           "color": "#4D5663"
          },
          "text": "Spinach Price"
         },
         "type": "linear",
         "zerolinecolor": "#E1E5ED"
        },
        "yaxis": {
         "autorange": true,
         "gridcolor": "#E1E5ED",
         "range": [
          -0.33918426216695635,
          6.444500981993143
         ],
         "showgrid": true,
         "tickfont": {
          "color": "#4D5663"
         },
         "title": {
          "font": {
           "color": "#4D5663"
          },
          "text": "Hectograms"
         },
         "type": "linear",
         "zerolinecolor": "#E1E5ED"
        }
       }
      },
      "image/png": "[encoded data removed]",
      "text/html": [
       "<div>                            <div id=\"ca8f2eb6-0b74-4ade-8333-8a2498e58ad6\" class=\"plotly-graph-div\" style=\"height:525px; width:100%;\"></div>            <script type=\"text/javascript\">                require([\"plotly\"], function(Plotly) {                    window.PLOTLYENV=window.PLOTLYENV || {};\n",
       "                    window.PLOTLYENV.BASE_URL='https://plot.ly';                                    if (document.getElementById(\"ca8f2eb6-0b74-4ade-8333-8a2498e58ad6\")) {                    Plotly.newPlot(                        \"ca8f2eb6-0b74-4ade-8333-8a2498e58ad6\",                        [{\"line\":{\"color\":\"rgba(255, 153, 51, 1.0)\",\"dash\":\"solid\",\"shape\":\"linear\",\"width\":1.3},\"mode\":\"lines\",\"name\":\" Banana,raw\",\"text\":\"\",\"type\":\"scatter\",\"x\":[0.3659673552268968,0.5489510328403452,0.6587412394084142,0.7319347104537935,0.805128181499173,0.8783216525445522,0.9515151235899316,1.024708594635311,1.0979020656806904,1.463869420907587,2.927738841815174],\"y\":[2.6403380349263073e-09,0.8625908049470082,1.004213392724774,1.0042136449919215,1.004213675881353,1.0042136450394816,1.0042136318021595,1.0042136368988184,1.0042136485902868,1.0042136822633474,1.0042133417009134]},{\"line\":{\"color\":\"rgba(55, 128, 191, 1.0)\",\"dash\":\"solid\",\"shape\":\"linear\",\"width\":1.3},\"mode\":\"lines\",\"name\":\"Oranges, Navel\",\"text\":\"\",\"type\":\"scatter\",\"x\":[0.3659673552268968,0.5489510328403452,0.6587412394084142,0.7319347104537935,0.805128181499173,0.8783216525445522,0.9515151235899316,1.024708594635311,1.0979020656806904,1.463869420907587,2.927738841815174],\"y\":[0.20523579229357417,0.4366247039359835,0.3236740315789345,0.3236736123328427,0.3236735782798047,0.32367359964601605,0.3236736092214539,0.3236736037249149,0.3236735937793921,0.32367357174107053,0.3236740117846321]},{\"line\":{\"color\":\"rgba(50, 171, 96, 1.0)\",\"dash\":\"solid\",\"shape\":\"linear\",\"width\":1.3},\"mode\":\"lines\",\"name\":\"Lentils, red\",\"text\":\"\",\"type\":\"scatter\",\"x\":[0.3659673552268968,0.5489510328403452,0.6587412394084142,0.7319347104537935,0.805128181499173,0.8783216525445522,0.9515151235899316,1.024708594635311,1.0979020656806904,1.463869420907587,2.927738841815174],\"y\":[0.03997609686649811,0.7941100540471716,0.8190824273020493,0.8190828097893811,0.8190828337357501,0.8190828233169671,0.8190828181508241,0.8190828222247957,0.8190828284543406,0.8190828380697911,0.8190824850424572]},{\"line\":{\"color\":\"rgba(128, 0, 128, 1.0)\",\"dash\":\"solid\",\"shape\":\"linear\",\"width\":1.3},\"mode\":\"lines\",\"name\":\"Black beans, canned\",\"text\":\"\",\"type\":\"scatter\",\"x\":[0.3659673552268968,0.5489510328403452,0.6587412394084142,0.7319347104537935,0.805128181499173,0.8783216525445522,0.9515151235899316,1.024708594635311,1.0979020656806904,1.463869420907587,2.927738841815174],\"y\":[4.827789764766429,1.44509406675226,1.5469088341711668,1.546907898146053,1.546907829977197,1.5469078606947821,1.54690787499043,1.546907864240072,1.5469078472185354,1.5469078169661883,1.5469087390412202]},{\"line\":{\"color\":\"rgba(219, 64, 82, 1.0)\",\"dash\":\"solid\",\"shape\":\"linear\",\"width\":1.3},\"mode\":\"lines\",\"name\":\"Kale\",\"text\":\"\",\"type\":\"scatter\",\"x\":[0.3659673552268968,0.5489510328403452,0.6587412394084142,0.7319347104537935,0.805128181499173,0.8783216525445522,0.9515151235899316,1.024708594635311,1.0979020656806904,1.463869420907587,2.927738841815174],\"y\":[0.1467380705385,0.11250089565476215,0.20652654656322972,0.20652672659144009,0.20652674061737344,0.2065267321292095,0.20652672830664684,0.2065267305851555,0.20652673462171386,0.2065267432858721,0.20652656072832934]},{\"line\":{\"color\":\"rgba(0, 128, 128, 1.0)\",\"dash\":\"solid\",\"shape\":\"linear\",\"width\":1.3},\"mode\":\"lines\",\"name\":\"Carrot\",\"text\":\"\",\"type\":\"scatter\",\"x\":[0.3659673552268968,0.5489510328403452,0.6587412394084142,0.7319347104537935,0.805128181499173,0.8783216525445522,0.9515151235899316,1.024708594635311,1.0979020656806904,1.463869420907587,2.927738841815174],\"y\":[0.03184790827884519,2.4221220190596076,2.431713806894673,2.431715525113197,2.431715639650991,2.431715597787568,2.431715577694695,2.4317155960604646,2.431715622810005,2.431715662105153,2.4317140628955656]},{\"line\":{\"color\":\"rgba(255, 255, 51, 1.0)\",\"dash\":\"solid\",\"shape\":\"linear\",\"width\":1.3},\"mode\":\"lines\",\"name\":\"Avocado\",\"text\":\"\",\"type\":\"scatter\",\"x\":[0.3659673552268968,0.5489510328403452,0.6587412394084142,0.7319347104537935,0.805128181499173,0.8783216525445522,0.9515151235899316,1.024708594635311,1.0979020656806904,1.463869420907587,2.927738841815174],\"y\":[1.0051770950105638,0.4470392388916063,0.4313254646223128,0.4313251644577738,0.43132514794562904,0.43132515550570494,0.43132515944621885,0.4313251563230847,0.43132515157740536,0.43132514482857864,0.43132540688183163]},{\"line\":{\"color\":\"rgba(128, 128, 0, 1.0)\",\"dash\":\"solid\",\"shape\":\"linear\",\"width\":1.3},\"mode\":\"lines\",\"name\":\"Spinach\",\"text\":\"\",\"type\":\"scatter\",\"x\":[0.3659673552268968,0.5489510328403452,0.6587412394084142,0.7319347104537935,0.805128181499173,0.8783216525445522,0.9515151235899316,1.024708594635311,1.0979020656806904,1.463869420907587,2.927738841815174],\"y\":[0.9737014897551106,0.15329472252868587,1.1531043803246494e-08,1.1992572304157349e-09,3.261324337771417e-10,4.2321318517947726e-10,3.800219077877228e-10,2.831005313654123e-10,1.9569407876093558e-10,4.104863141330223e-11,2.3090495086745792e-10]},{\"line\":{\"color\":\"rgba(251, 128, 114, 1.0)\",\"dash\":\"solid\",\"shape\":\"linear\",\"width\":1.3},\"mode\":\"lines\",\"name\":\"Tortillas, corn\",\"text\":\"\",\"type\":\"scatter\",\"x\":[0.3659673552268968,0.5489510328403452,0.6587412394084142,0.7319347104537935,0.805128181499173,0.8783216525445522,0.9515151235899316,1.024708594635311,1.0979020656806904,1.463869420907587,2.927738841815174],\"y\":[0.033124921589616635,0.32258116329908915,0.23724029394425114,0.23724007818213103,0.23724006513952928,0.2372400702851179,0.23724007285598167,0.23724007064659194,0.23724006739803796,0.2372400628121961,0.23724025627053635]},{\"line\":{\"color\":\"rgba(128, 177, 211, 1.0)\",\"dash\":\"solid\",\"shape\":\"linear\",\"width\":1.3},\"mode\":\"lines\",\"name\":\"Soy milk, unsweetened\",\"text\":\"\",\"type\":\"scatter\",\"x\":[0.3659673552268968,0.5489510328403452,0.6587412394084142,0.7319347104537935,0.805128181499173,0.8783216525445522,0.9515151235899316,1.024708594635311,1.0979020656806904,1.463869420907587,2.927738841815174],\"y\":[6.105316713431457,6.105316713969768,6.105316719715856,6.10531671482001,6.105316713962694,6.105316714498706,6.105316714686499,6.105316714563623,6.105316714330166,6.105316713657843,6.105316719785138]},{\"line\":{\"color\":\"rgba(128, 177, 211, 0.8999999999999999)\",\"dash\":\"solid\",\"shape\":\"linear\",\"width\":1.3},\"mode\":\"lines\",\"name\":\"Peanut butter, creamy\",\"text\":\"\",\"type\":\"scatter\",\"x\":[0.3659673552268968,0.5489510328403452,0.6587412394084142,0.7319347104537935,0.805128181499173,0.8783216525445522,0.9515151235899316,1.024708594635311,1.0979020656806904,1.463869420907587,2.927738841815174],\"y\":[1.631092142763707,1.8987256104556511,1.8939984156988883,1.8939978120481444,1.8939977691712901,1.893997791036805,1.8939978013092105,1.8939977942989463,1.893997782765097,1.8939977613194374,1.8939983611288704]}],                        {\"legend\":{\"bgcolor\":\"#F5F6F9\",\"font\":{\"color\":\"#4D5663\"}},\"paper_bgcolor\":\"#F5F6F9\",\"plot_bgcolor\":\"#F5F6F9\",\"template\":{\"data\":{\"bar\":[{\"error_x\":{\"color\":\"#2a3f5f\"},\"error_y\":{\"color\":\"#2a3f5f\"},\"marker\":{\"line\":{\"color\":\"#E5ECF6\",\"width\":0.5},\"pattern\":{\"fillmode\":\"overlay\",\"size\":10,\"solidity\":0.2}},\"type\":\"bar\"}],\"barpolar\":[{\"marker\":{\"line\":{\"color\":\"#E5ECF6\",\"width\":0.5},\"pattern\":{\"fillmode\":\"overlay\",\"size\":10,\"solidity\":0.2}},\"type\":\"barpolar\"}],\"carpet\":[{\"aaxis\":{\"endlinecolor\":\"#2a3f5f\",\"gridcolor\":\"white\",\"linecolor\":\"white\",\"minorgridcolor\":\"white\",\"startlinecolor\":\"#2a3f5f\"},\"baxis\":{\"endlinecolor\":\"#2a3f5f\",\"gridcolor\":\"white\",\"linecolor\":\"white\",\"minorgridcolor\":\"white\",\"startlinecolor\":\"#2a3f5f\"},\"type\":\"carpet\"}],\"choropleth\":[{\"colorbar\":{\"outlinewidth\":0,\"ticks\":\"\"},\"type\":\"choropleth\"}],\"contour\":[{\"colorbar\":{\"outlinewidth\":0,\"ticks\":\"\"},\"colorscale\":[[0.0,\"#0d0887\"],[0.1111111111111111,\"#46039f\"],[0.2222222222222222,\"#7201a8\"],[0.3333333333333333,\"#9c179e\"],[0.4444444444444444,\"#bd3786\"],[0.5555555555555556,\"#d8576b\"],[0.6666666666666666,\"#ed7953\"],[0.7777777777777778,\"#fb9f3a\"],[0.8888888888888888,\"#fdca26\"],[1.0,\"#f0f921\"]],\"type\":\"contour\"}],\"contourcarpet\":[{\"colorbar\":{\"outlinewidth\":0,\"ticks\":\"\"},\"type\":\"contourcarpet\"}],\"heatmap\":[{\"colorbar\":{\"outlinewidth\":0,\"ticks\":\"\"},\"colorscale\":[[0.0,\"#0d0887\"],[0.1111111111111111,\"#46039f\"],[0.2222222222222222,\"#7201a8\"],[0.3333333333333333,\"#9c179e\"],[0.4444444444444444,\"#bd3786\"],[0.5555555555555556,\"#d8576b\"],[0.6666666666666666,\"#ed7953\"],[0.7777777777777778,\"#fb9f3a\"],[0.8888888888888888,\"#fdca26\"],[1.0,\"#f0f921\"]],\"type\":\"heatmap\"}],\"heatmapgl\":[{\"colorbar\":{\"outlinewidth\":0,\"ticks\":\"\"},\"colorscale\":[[0.0,\"#0d0887\"],[0.1111111111111111,\"#46039f\"],[0.2222222222222222,\"#7201a8\"],[0.3333333333333333,\"#9c179e\"],[0.4444444444444444,\"#bd3786\"],[0.5555555555555556,\"#d8576b\"],[0.6666666666666666,\"#ed7953\"],[0.7777777777777778,\"#fb9f3a\"],[0.8888888888888888,\"#fdca26\"],[1.0,\"#f0f921\"]],\"type\":\"heatmapgl\"}],\"histogram\":[{\"marker\":{\"pattern\":{\"fillmode\":\"overlay\",\"size\":10,\"solidity\":0.2}},\"type\":\"histogram\"}],\"histogram2d\":[{\"colorbar\":{\"outlinewidth\":0,\"ticks\":\"\"},\"colorscale\":[[0.0,\"#0d0887\"],[0.1111111111111111,\"#46039f\"],[0.2222222222222222,\"#7201a8\"],[0.3333333333333333,\"#9c179e\"],[0.4444444444444444,\"#bd3786\"],[0.5555555555555556,\"#d8576b\"],[0.6666666666666666,\"#ed7953\"],[0.7777777777777778,\"#fb9f3a\"],[0.8888888888888888,\"#fdca26\"],[1.0,\"#f0f921\"]],\"type\":\"histogram2d\"}],\"histogram2dcontour\":[{\"colorbar\":{\"outlinewidth\":0,\"ticks\":\"\"},\"colorscale\":[[0.0,\"#0d0887\"],[0.1111111111111111,\"#46039f\"],[0.2222222222222222,\"#7201a8\"],[0.3333333333333333,\"#9c179e\"],[0.4444444444444444,\"#bd3786\"],[0.5555555555555556,\"#d8576b\"],[0.6666666666666666,\"#ed7953\"],[0.7777777777777778,\"#fb9f3a\"],[0.8888888888888888,\"#fdca26\"],[1.0,\"#f0f921\"]],\"type\":\"histogram2dcontour\"}],\"mesh3d\":[{\"colorbar\":{\"outlinewidth\":0,\"ticks\":\"\"},\"type\":\"mesh3d\"}],\"parcoords\":[{\"line\":{\"colorbar\":{\"outlinewidth\":0,\"ticks\":\"\"}},\"type\":\"parcoords\"}],\"pie\":[{\"automargin\":true,\"type\":\"pie\"}],\"scatter\":[{\"marker\":{\"colorbar\":{\"outlinewidth\":0,\"ticks\":\"\"}},\"type\":\"scatter\"}],\"scatter3d\":[{\"line\":{\"colorbar\":{\"outlinewidth\":0,\"ticks\":\"\"}},\"marker\":{\"colorbar\":{\"outlinewidth\":0,\"ticks\":\"\"}},\"type\":\"scatter3d\"}],\"scattercarpet\":[{\"marker\":{\"colorbar\":{\"outlinewidth\":0,\"ticks\":\"\"}},\"type\":\"scattercarpet\"}],\"scattergeo\":[{\"marker\":{\"colorbar\":{\"outlinewidth\":0,\"ticks\":\"\"}},\"type\":\"scattergeo\"}],\"scattergl\":[{\"marker\":{\"colorbar\":{\"outlinewidth\":0,\"ticks\":\"\"}},\"type\":\"scattergl\"}],\"scattermapbox\":[{\"marker\":{\"colorbar\":{\"outlinewidth\":0,\"ticks\":\"\"}},\"type\":\"scattermapbox\"}],\"scatterpolar\":[{\"marker\":{\"colorbar\":{\"outlinewidth\":0,\"ticks\":\"\"}},\"type\":\"scatterpolar\"}],\"scatterpolargl\":[{\"marker\":{\"colorbar\":{\"outlinewidth\":0,\"ticks\":\"\"}},\"type\":\"scatterpolargl\"}],\"scatterternary\":[{\"marker\":{\"colorbar\":{\"outlinewidth\":0,\"ticks\":\"\"}},\"type\":\"scatterternary\"}],\"surface\":[{\"colorbar\":{\"outlinewidth\":0,\"ticks\":\"\"},\"colorscale\":[[0.0,\"#0d0887\"],[0.1111111111111111,\"#46039f\"],[0.2222222222222222,\"#7201a8\"],[0.3333333333333333,\"#9c179e\"],[0.4444444444444444,\"#bd3786\"],[0.5555555555555556,\"#d8576b\"],[0.6666666666666666,\"#ed7953\"],[0.7777777777777778,\"#fb9f3a\"],[0.8888888888888888,\"#fdca26\"],[1.0,\"#f0f921\"]],\"type\":\"surface\"}],\"table\":[{\"cells\":{\"fill\":{\"color\":\"#EBF0F8\"},\"line\":{\"color\":\"white\"}},\"header\":{\"fill\":{\"color\":\"#C8D4E3\"},\"line\":{\"color\":\"white\"}},\"type\":\"table\"}]},\"layout\":{\"annotationdefaults\":{\"arrowcolor\":\"#2a3f5f\",\"arrowhead\":0,\"arrowwidth\":1},\"autotypenumbers\":\"strict\",\"coloraxis\":{\"colorbar\":{\"outlinewidth\":0,\"ticks\":\"\"}},\"colorscale\":{\"diverging\":[[0,\"#8e0152\"],[0.1,\"#c51b7d\"],[0.2,\"#de77ae\"],[0.3,\"#f1b6da\"],[0.4,\"#fde0ef\"],[0.5,\"#f7f7f7\"],[0.6,\"#e6f5d0\"],[0.7,\"#b8e186\"],[0.8,\"#7fbc41\"],[0.9,\"#4d9221\"],[1,\"#276419\"]],\"sequential\":[[0.0,\"#0d0887\"],[0.1111111111111111,\"#46039f\"],[0.2222222222222222,\"#7201a8\"],[0.3333333333333333,\"#9c179e\"],[0.4444444444444444,\"#bd3786\"],[0.5555555555555556,\"#d8576b\"],[0.6666666666666666,\"#ed7953\"],[0.7777777777777778,\"#fb9f3a\"],[0.8888888888888888,\"#fdca26\"],[1.0,\"#f0f921\"]],\"sequentialminus\":[[0.0,\"#0d0887\"],[0.1111111111111111,\"#46039f\"],[0.2222222222222222,\"#7201a8\"],[0.3333333333333333,\"#9c179e\"],[0.4444444444444444,\"#bd3786\"],[0.5555555555555556,\"#d8576b\"],[0.6666666666666666,\"#ed7953\"],[0.7777777777777778,\"#fb9f3a\"],[0.8888888888888888,\"#fdca26\"],[1.0,\"#f0f921\"]]},\"colorway\":[\"#636efa\",\"#EF553B\",\"#00cc96\",\"#ab63fa\",\"#FFA15A\",\"#19d3f3\",\"#FF6692\",\"#B6E880\",\"#FF97FF\",\"#FECB52\"],\"font\":{\"color\":\"#2a3f5f\"},\"geo\":{\"bgcolor\":\"white\",\"lakecolor\":\"white\",\"landcolor\":\"#E5ECF6\",\"showlakes\":true,\"showland\":true,\"subunitcolor\":\"white\"},\"hoverlabel\":{\"align\":\"left\"},\"hovermode\":\"closest\",\"mapbox\":{\"style\":\"light\"},\"paper_bgcolor\":\"white\",\"plot_bgcolor\":\"#E5ECF6\",\"polar\":{\"angularaxis\":{\"gridcolor\":\"white\",\"linecolor\":\"white\",\"ticks\":\"\"},\"bgcolor\":\"#E5ECF6\",\"radialaxis\":{\"gridcolor\":\"white\",\"linecolor\":\"white\",\"ticks\":\"\"}},\"scene\":{\"xaxis\":{\"backgroundcolor\":\"#E5ECF6\",\"gridcolor\":\"white\",\"gridwidth\":2,\"linecolor\":\"white\",\"showbackground\":true,\"ticks\":\"\",\"zerolinecolor\":\"white\"},\"yaxis\":{\"backgroundcolor\":\"#E5ECF6\",\"gridcolor\":\"white\",\"gridwidth\":2,\"linecolor\":\"white\",\"showbackground\":true,\"ticks\":\"\",\"zerolinecolor\":\"white\"},\"zaxis\":{\"backgroundcolor\":\"#E5ECF6\",\"gridcolor\":\"white\",\"gridwidth\":2,\"linecolor\":\"white\",\"showbackground\":true,\"ticks\":\"\",\"zerolinecolor\":\"white\"}},\"shapedefaults\":{\"line\":{\"color\":\"#2a3f5f\"}},\"ternary\":{\"aaxis\":{\"gridcolor\":\"white\",\"linecolor\":\"white\",\"ticks\":\"\"},\"baxis\":{\"gridcolor\":\"white\",\"linecolor\":\"white\",\"ticks\":\"\"},\"bgcolor\":\"#E5ECF6\",\"caxis\":{\"gridcolor\":\"white\",\"linecolor\":\"white\",\"ticks\":\"\"}},\"title\":{\"x\":0.05},\"xaxis\":{\"automargin\":true,\"gridcolor\":\"white\",\"linecolor\":\"white\",\"ticks\":\"\",\"title\":{\"standoff\":15},\"zerolinecolor\":\"white\",\"zerolinewidth\":2},\"yaxis\":{\"automargin\":true,\"gridcolor\":\"white\",\"linecolor\":\"white\",\"ticks\":\"\",\"title\":{\"standoff\":15},\"zerolinecolor\":\"white\",\"zerolinewidth\":2}}},\"title\":{\"font\":{\"color\":\"#4D5663\"}},\"xaxis\":{\"gridcolor\":\"#E1E5ED\",\"showgrid\":true,\"tickfont\":{\"color\":\"#4D5663\"},\"title\":{\"font\":{\"color\":\"#4D5663\"},\"text\":\"Spinach Price\"},\"zerolinecolor\":\"#E1E5ED\"},\"yaxis\":{\"gridcolor\":\"#E1E5ED\",\"showgrid\":true,\"tickfont\":{\"color\":\"#4D5663\"},\"title\":{\"font\":{\"color\":\"#4D5663\"},\"text\":\"Hectograms\"},\"zerolinecolor\":\"#E1E5ED\"}},                        {\"showLink\": true, \"linkText\": \"Export to plot.ly\", \"plotlyServerURL\": \"https://plot.ly\", \"responsive\": true}                    ).then(function(){\n",
       "                            \n",
       "var gd = document.getElementById('ca8f2eb6-0b74-4ade-8333-8a2498e58ad6');\n",
       "var x = new MutationObserver(function (mutations, observer) {{\n",
       "        var display = window.getComputedStyle(gd).display;\n",
       "        if (!display || display === 'none') {{\n",
       "            console.log([gd, 'removed!']);\n",
       "            Plotly.purge(gd);\n",
       "            observer.disconnect();\n",
       "        }}\n",
       "}});\n",
       "\n",
       "// Listen for the removal of the full notebook cells\n",
       "var notebookContainer = gd.closest('#notebook-container');\n",
       "if (notebookContainer) {{\n",
       "    x.observe(notebookContainer, {childList: true});\n",
       "}}\n",
       "\n",
       "// Listen for the clearing of the current output cell\n",
       "var outputEl = gd.closest('.output');\n",
       "if (outputEl) {{\n",
       "    x.observe(outputEl, {childList: true});\n",
       "}}\n",
       "\n",
       "                        })                };                });            </script>        </div>"
      ]
     },
     "metadata": {},
     "output_type": "display_data"
    }
   ],
   "source": [
    "import cufflinks as cf\n",
    "cf.go_offline()\n",
    "\n",
    "ReferenceGood = 'Spinach'\n",
    "\n",
    "scale = [0.5,0.75,0.9,1.,1.1,1.2,1.3,1.4,1.5,2,4]\n",
    "\n",
    "cost0 = solve_subsistence_problem(FoodNutrients,Prices,\n",
    "                                  diet_min[group],diet_max[group],max_weight=15,tol=tol).fun\n",
    "\n",
    "my_p = Prices.copy()\n",
    "\n",
    "diet = {}\n",
    "for s in scale:\n",
    "\n",
    "    my_p[ReferenceGood] = Prices[ReferenceGood]*s\n",
    "    result = solve_subsistence_problem(FoodNutrients,my_p,\n",
    "                                       diet_min[group],diet_max[group],max_weight=15,tol=tol)\n",
    "    diet[my_p[ReferenceGood]] = result.diet\n",
    "\n",
    "Diet_response = pd.DataFrame(diet).T\n",
    "Diet_response.index.name = '%s Price' % ReferenceGood\n",
    "\n",
    "Diet_response.reset_index(inplace=True)\n",
    "\n",
    "# Get rid of units for index (cufflinks chokes)\n",
    "Diet_response['%s Price' % ReferenceGood] = Diet_response['%s Price' % ReferenceGood].apply(lambda x: x.magnitude)\n",
    "\n",
    "Diet_response = Diet_response.set_index('%s Price' % ReferenceGood)\n",
    "\n",
    "# Just look at goods consumed in quantities greater than error tolerance\n",
    "Diet_response.loc[:,(Diet_response>tol).sum()>0].iplot(xTitle='%s Price' % ReferenceGood,yTitle='Hectograms')"
   ]
  }
 ],
 "metadata": {
  "kernelspec": {
   "display_name": "Python 3 (ipykernel)",
   "language": "python",
   "name": "python3"
  },
  "language_info": {
   "codemirror_mode": {
    "name": "ipython",
    "version": 3
   },
   "file_extension": ".py",
   "mimetype": "text/x-python",
   "name": "python",
   "nbconvert_exporter": "python",
   "pygments_lexer": "ipython3",
   "version": "3.9.15"
  },
  "org": null
 },
 "nbformat": 4,
 "nbformat_minor": 4
}
