{
 "cells": [
  {
   "cell_type": "markdown",
   "metadata": {},
   "source": [
    "## Function to solve the subsistence problem\n",
    "\n"
   ]
  },
  {
   "cell_type": "markdown",
   "metadata": {},
   "source": [
    "The following code block defines a function\n",
    "`solve_subsistence_problem`, which takes as arguments a dataframe\n",
    "mapping different foods to nutrients; a series of prices for those\n",
    "same foods; a series giving dietary recommended intake (DRI) minimums;\n",
    "and a series giving dietary recommended maximums.\n",
    "\n"
   ]
  },
  {
   "cell_type": "code",
   "execution_count": 3,
   "metadata": {},
   "outputs": [],
   "source": [
    "from  scipy.optimize import linprog as lp\n",
    "import numpy as np\n",
    "import warnings\n",
    "\n",
    "def solve_subsistence_problem(FoodNutrients,Prices,dietmin,dietmax,max_weight=None,tol=1e-6):\n",
    "    \"\"\"Solve Stigler's Subsistence Cost Problem.\n",
    "\n",
    "    Inputs:\n",
    "       - FoodNutrients : A pd.DataFrame with rows corresponding to foods, columns to nutrients.\n",
    "       - Prices : A pd.Series of prices for different foods\n",
    "       - diet_min : A pd.Series of DRIs, with index corresponding to columns of FoodNutrients,\n",
    "                    describing minimum intakes.\n",
    "       - diet_max : A pd.Series of DRIs, with index corresponding to columns of FoodNutrients,\n",
    "                    describing maximum intakes.\n",
    "       - max_weight : Maximum weight (in hectograms) allowed for diet.\n",
    "       - tol : Solution values smaller than this in absolute value treated as zeros.\n",
    "       \n",
    "    \"\"\"\n",
    "    try: \n",
    "        p = Prices.apply(lambda x:x.magnitude)\n",
    "    except AttributeError:  # Maybe not passing in prices with units?\n",
    "        warnings.warn(\"Prices have no units.  BE CAREFUL!  We're assuming prices are per hectogram or deciliter!\")\n",
    "        p = Prices\n",
    "\n",
    "    p = p.dropna()\n",
    "\n",
    "    # Compile list that we have both prices and nutritional info for; drop if either missing\n",
    "    use = p.index.intersection(FoodNutrients.columns)\n",
    "    p = p[use]\n",
    "\n",
    "    # Drop nutritional information for foods we don't know the price of,\n",
    "    # and replace missing nutrients with zeros.\n",
    "    Aall = FoodNutrients[p.index].fillna(0)\n",
    "\n",
    "    # Drop rows of A that we don't have constraints for.\n",
    "    Amin = Aall.loc[Aall.index.intersection(dietmin.index)]\n",
    "    Amin = Amin.reindex(dietmin.index,axis=0)\n",
    "    idx = Amin.index.to_frame()\n",
    "    idx['type'] = 'min'\n",
    "    #Amin.index = pd.MultiIndex.from_frame(idx)\n",
    "    #dietmin.index = Amin.index\n",
    "    \n",
    "    Amax = Aall.loc[Aall.index.intersection(dietmax.index)]\n",
    "    Amax = Amax.reindex(dietmax.index,axis=0)\n",
    "    idx = Amax.index.to_frame()\n",
    "    idx['type'] = 'max'\n",
    "    #Amax.index = pd.MultiIndex.from_frame(idx)\n",
    "    #dietmax.index = Amax.index\n",
    "\n",
    "    # Minimum requirements involve multiplying constraint by -1 to make <=.\n",
    "    A = pd.concat([Amin,\n",
    "                   -Amax])\n",
    "\n",
    "    b = pd.concat([dietmin,\n",
    "                   -dietmax]) # Note sign change for max constraints\n",
    "\n",
    "    # Make sure order of p, A, b are consistent\n",
    "    A = A.reindex(p.index,axis=1)\n",
    "    A = A.reindex(b.index,axis=0)\n",
    "\n",
    "    if max_weight is not None:\n",
    "        # Add up weights of foods consumed\n",
    "        A.loc['Hectograms'] = -1\n",
    "        b.loc['Hectograms'] = -max_weight\n",
    "        \n",
    "    # Now solve problem!  (Note that the linear program solver we'll use assumes\n",
    "    # \"less-than-or-equal\" constraints.  We can switch back and forth by\n",
    "    # multiplying $A$ and $b$ by $-1$.)\n",
    "\n",
    "    result = lp(p, -A, -b, method='interior-point')\n",
    "\n",
    "    result.A = A\n",
    "    result.b = b\n",
    "    \n",
    "    if result.success:\n",
    "        result.diet = pd.Series(result.x,index=p.index)\n",
    "    else: # No feasible solution?\n",
    "        warnings.warn(result.message)\n",
    "        result.diet = pd.Series(result.x,index=p.index)*np.nan  \n",
    "\n",
    "    return result"
   ]
  },
  {
   "cell_type": "markdown",
   "metadata": {},
   "source": [
    "## Setup\n",
    "\n"
   ]
  },
  {
   "cell_type": "code",
   "execution_count": 4,
   "metadata": {},
   "outputs": [
    {
     "name": "stdout",
     "output_type": "stream",
     "text": [
      "Requirement already satisfied: eep153_tools in /opt/conda/lib/python3.9/site-packages (0.11)\n"
     ]
    }
   ],
   "source": [
    "#!git reset --hard origin/master  # To revert to original\n",
    "!pip install eep153_tools"
   ]
  },
  {
   "cell_type": "markdown",
   "metadata": {},
   "source": [
    "## USDA Food Central DataBase\n",
    "\n",
    "API key to access USDA Food Central DataBase\n"
   ]
  },
  {
   "cell_type": "code",
   "execution_count": 5,
   "metadata": {},
   "outputs": [],
   "source": [
    "# API key for Gov; substitute your own!\n",
    "apikey = \"zjPzq6seNovgsh28xoUlw7NW7Ikj7Zidg1We4Ekv\""
   ]
  },
  {
   "cell_type": "markdown",
   "metadata": {},
   "source": [
    "## Data on Prices of Different Foods\n"
   ]
  },
  {
   "cell_type": "markdown",
   "metadata": {},
   "source": [
    "We have a spreadsheet for the prices in each supermarket (Trader Joes, Walmart, Wholefoods, Target, and FoodMaxx) . We will be using the read_sheets function to import the data on prices into this notebook. You can find the spreadsheet here: (https://docs.google.com/spreadsheets/d/1dZW1_vvjZwcAfxfHiAkjqrLEpFbFsZ4s7_MzTG6Ezu0/edit#gid=1105367422)\n",
    "\n",
    "Below we will show dataframes for each of the 5 supermarkets we obtained grocery prices from."
   ]
  },
  {
   "cell_type": "markdown",
   "metadata": {},
   "source": [
    "## Trader Joes Price List\n"
   ]
  },
  {
   "cell_type": "code",
   "execution_count": 6,
   "metadata": {},
   "outputs": [
    {
     "name": "stdout",
     "output_type": "stream",
     "text": [
      "Key available for students@eep153.iam.gserviceaccount.com.\n"
     ]
    },
    {
     "data": {
      "text/html": [
       "<div>\n",
       "<style scoped>\n",
       "    .dataframe tbody tr th:only-of-type {\n",
       "        vertical-align: middle;\n",
       "    }\n",
       "\n",
       "    .dataframe tbody tr th {\n",
       "        vertical-align: top;\n",
       "    }\n",
       "\n",
       "    .dataframe thead th {\n",
       "        text-align: right;\n",
       "    }\n",
       "</style>\n",
       "<table border=\"1\" class=\"dataframe\">\n",
       "  <thead>\n",
       "    <tr style=\"text-align: right;\">\n",
       "      <th></th>\n",
       "      <th>Food</th>\n",
       "      <th>Quantity</th>\n",
       "      <th>Units</th>\n",
       "      <th>Price</th>\n",
       "      <th>Date</th>\n",
       "      <th>Location</th>\n",
       "      <th>FDC</th>\n",
       "    </tr>\n",
       "  </thead>\n",
       "  <tbody>\n",
       "    <tr>\n",
       "      <th>0</th>\n",
       "      <td>Banana,raw</td>\n",
       "      <td>120.00</td>\n",
       "      <td>grams</td>\n",
       "      <td>0.19</td>\n",
       "      <td>02/27/23</td>\n",
       "      <td>Trader Joe's</td>\n",
       "      <td>1105314</td>\n",
       "    </tr>\n",
       "    <tr>\n",
       "      <th>1</th>\n",
       "      <td>Apple, Gala</td>\n",
       "      <td>0.33</td>\n",
       "      <td>pound</td>\n",
       "      <td>1.29</td>\n",
       "      <td>02/27/23</td>\n",
       "      <td>Trader Joe's</td>\n",
       "      <td>1750341</td>\n",
       "    </tr>\n",
       "    <tr>\n",
       "      <th>2</th>\n",
       "      <td>Oranges, Navel</td>\n",
       "      <td>3.00</td>\n",
       "      <td>pound</td>\n",
       "      <td>3.69</td>\n",
       "      <td>02/27/23</td>\n",
       "      <td>Trader Joe's</td>\n",
       "      <td>746771</td>\n",
       "    </tr>\n",
       "    <tr>\n",
       "      <th>3</th>\n",
       "      <td>Blueberries</td>\n",
       "      <td>11.00</td>\n",
       "      <td>oz</td>\n",
       "      <td>4.49</td>\n",
       "      <td>03/01/23</td>\n",
       "      <td>Trader Joe's</td>\n",
       "      <td>2346411</td>\n",
       "    </tr>\n",
       "    <tr>\n",
       "      <th>4</th>\n",
       "      <td>Raspberries</td>\n",
       "      <td>6.00</td>\n",
       "      <td>oz</td>\n",
       "      <td>3.99</td>\n",
       "      <td>03/01/23</td>\n",
       "      <td>Trader Joe's</td>\n",
       "      <td>2346410</td>\n",
       "    </tr>\n",
       "    <tr>\n",
       "      <th>5</th>\n",
       "      <td>Grapes, green, seedless</td>\n",
       "      <td>2.00</td>\n",
       "      <td>pound</td>\n",
       "      <td>5.99</td>\n",
       "      <td>03/01/23</td>\n",
       "      <td>Trader Joe's</td>\n",
       "      <td>2346413</td>\n",
       "    </tr>\n",
       "    <tr>\n",
       "      <th>6</th>\n",
       "      <td>Strawberries</td>\n",
       "      <td>1.00</td>\n",
       "      <td>pound</td>\n",
       "      <td>3.99</td>\n",
       "      <td>02/27/23</td>\n",
       "      <td>Trader Joe's</td>\n",
       "      <td>167762</td>\n",
       "    </tr>\n",
       "    <tr>\n",
       "      <th>7</th>\n",
       "      <td>Lentils, red</td>\n",
       "      <td>17.63</td>\n",
       "      <td>oz</td>\n",
       "      <td>3.29</td>\n",
       "      <td>02/27/23</td>\n",
       "      <td>Trader Joe's</td>\n",
       "      <td>174284</td>\n",
       "    </tr>\n",
       "    <tr>\n",
       "      <th>8</th>\n",
       "      <td>Tofu</td>\n",
       "      <td>19.00</td>\n",
       "      <td>oz</td>\n",
       "      <td>2.29</td>\n",
       "      <td>03/01/23</td>\n",
       "      <td>Trader Joe's</td>\n",
       "      <td>173788</td>\n",
       "    </tr>\n",
       "    <tr>\n",
       "      <th>9</th>\n",
       "      <td>Split peas, dry</td>\n",
       "      <td>12.00</td>\n",
       "      <td>oz</td>\n",
       "      <td>2.69</td>\n",
       "      <td>03/01/23</td>\n",
       "      <td>Trader Joe's</td>\n",
       "      <td>172428</td>\n",
       "    </tr>\n",
       "    <tr>\n",
       "      <th>10</th>\n",
       "      <td>Chickpeas, canned</td>\n",
       "      <td>9.88</td>\n",
       "      <td>oz</td>\n",
       "      <td>1.99</td>\n",
       "      <td>03/01/23</td>\n",
       "      <td>Trader Joe's</td>\n",
       "      <td>173800</td>\n",
       "    </tr>\n",
       "    <tr>\n",
       "      <th>11</th>\n",
       "      <td>Quinoa, dry</td>\n",
       "      <td>16.00</td>\n",
       "      <td>oz</td>\n",
       "      <td>3.99</td>\n",
       "      <td>02/27/23</td>\n",
       "      <td>Trader Joe's</td>\n",
       "      <td>168874</td>\n",
       "    </tr>\n",
       "    <tr>\n",
       "      <th>12</th>\n",
       "      <td>Hummus</td>\n",
       "      <td>16.00</td>\n",
       "      <td>oz</td>\n",
       "      <td>3.99</td>\n",
       "      <td>02/27/23</td>\n",
       "      <td>Trader Joe's</td>\n",
       "      <td>174289</td>\n",
       "    </tr>\n",
       "    <tr>\n",
       "      <th>13</th>\n",
       "      <td>Black beans, canned</td>\n",
       "      <td>15.50</td>\n",
       "      <td>oz</td>\n",
       "      <td>1.09</td>\n",
       "      <td>02/27/23</td>\n",
       "      <td>Trader Joe's</td>\n",
       "      <td>175238</td>\n",
       "    </tr>\n",
       "    <tr>\n",
       "      <th>14</th>\n",
       "      <td>Tomato, Roma</td>\n",
       "      <td>1.00</td>\n",
       "      <td>pound</td>\n",
       "      <td>2.99</td>\n",
       "      <td>02/27/23</td>\n",
       "      <td>Trader Joe's</td>\n",
       "      <td>1999634</td>\n",
       "    </tr>\n",
       "    <tr>\n",
       "      <th>15</th>\n",
       "      <td>Broccoli</td>\n",
       "      <td>12.00</td>\n",
       "      <td>oz</td>\n",
       "      <td>2.49</td>\n",
       "      <td>03/01/23</td>\n",
       "      <td>Trader Joe's</td>\n",
       "      <td>539572</td>\n",
       "    </tr>\n",
       "    <tr>\n",
       "      <th>16</th>\n",
       "      <td>Kale</td>\n",
       "      <td>10.00</td>\n",
       "      <td>oz</td>\n",
       "      <td>2.99</td>\n",
       "      <td>02/27/23</td>\n",
       "      <td>Trader Joe's</td>\n",
       "      <td>1103116</td>\n",
       "    </tr>\n",
       "    <tr>\n",
       "      <th>17</th>\n",
       "      <td>Green beans, raw</td>\n",
       "      <td>24.00</td>\n",
       "      <td>oz</td>\n",
       "      <td>1.99</td>\n",
       "      <td>02/27/23</td>\n",
       "      <td>Trader Joe's</td>\n",
       "      <td>2346400</td>\n",
       "    </tr>\n",
       "    <tr>\n",
       "      <th>18</th>\n",
       "      <td>Onions, yellow</td>\n",
       "      <td>4.30</td>\n",
       "      <td>oz</td>\n",
       "      <td>0.99</td>\n",
       "      <td>03/01/23</td>\n",
       "      <td>Trader Joe's</td>\n",
       "      <td>790646</td>\n",
       "    </tr>\n",
       "    <tr>\n",
       "      <th>19</th>\n",
       "      <td>Celery</td>\n",
       "      <td>16.00</td>\n",
       "      <td>oz</td>\n",
       "      <td>2.79</td>\n",
       "      <td>03/01/23</td>\n",
       "      <td>Trader Joe's</td>\n",
       "      <td>2346405</td>\n",
       "    </tr>\n",
       "    <tr>\n",
       "      <th>20</th>\n",
       "      <td>Potato, Russet</td>\n",
       "      <td>200.00</td>\n",
       "      <td>grams</td>\n",
       "      <td>0.79</td>\n",
       "      <td>02/27/23</td>\n",
       "      <td>Trader Joe's</td>\n",
       "      <td>2060240</td>\n",
       "    </tr>\n",
       "    <tr>\n",
       "      <th>21</th>\n",
       "      <td>Carrot</td>\n",
       "      <td>2.00</td>\n",
       "      <td>pound</td>\n",
       "      <td>1.99</td>\n",
       "      <td>02/27/23</td>\n",
       "      <td>Trader Joe's</td>\n",
       "      <td>170393</td>\n",
       "    </tr>\n",
       "    <tr>\n",
       "      <th>22</th>\n",
       "      <td>Cucumber</td>\n",
       "      <td>1.00</td>\n",
       "      <td>pound</td>\n",
       "      <td>2.49</td>\n",
       "      <td>02/27/23</td>\n",
       "      <td>Trader Joe's</td>\n",
       "      <td>2346406</td>\n",
       "    </tr>\n",
       "    <tr>\n",
       "      <th>23</th>\n",
       "      <td>Avocado</td>\n",
       "      <td>5.40</td>\n",
       "      <td>oz</td>\n",
       "      <td>0.60</td>\n",
       "      <td>03/01/23</td>\n",
       "      <td>Trader Joe's</td>\n",
       "      <td>171705</td>\n",
       "    </tr>\n",
       "    <tr>\n",
       "      <th>24</th>\n",
       "      <td>Lettuce, Romaine</td>\n",
       "      <td>5.00</td>\n",
       "      <td>oz</td>\n",
       "      <td>2.49</td>\n",
       "      <td>02/27/23</td>\n",
       "      <td>Trader Joe's</td>\n",
       "      <td>169247</td>\n",
       "    </tr>\n",
       "    <tr>\n",
       "      <th>25</th>\n",
       "      <td>Mushrooms</td>\n",
       "      <td>6.00</td>\n",
       "      <td>oz</td>\n",
       "      <td>3.29</td>\n",
       "      <td>02/27/23</td>\n",
       "      <td>Trader Joe's</td>\n",
       "      <td>1999629</td>\n",
       "    </tr>\n",
       "    <tr>\n",
       "      <th>26</th>\n",
       "      <td>Spinach</td>\n",
       "      <td>12.00</td>\n",
       "      <td>oz</td>\n",
       "      <td>2.49</td>\n",
       "      <td>03/01/23</td>\n",
       "      <td>Trader Joe's</td>\n",
       "      <td>1999632</td>\n",
       "    </tr>\n",
       "    <tr>\n",
       "      <th>27</th>\n",
       "      <td>Rice, White</td>\n",
       "      <td>3.00</td>\n",
       "      <td>pound</td>\n",
       "      <td>2.99</td>\n",
       "      <td>02/27/23</td>\n",
       "      <td>Trader Joe's</td>\n",
       "      <td>168931</td>\n",
       "    </tr>\n",
       "    <tr>\n",
       "      <th>28</th>\n",
       "      <td>Tortillas, corn</td>\n",
       "      <td>12.00</td>\n",
       "      <td>oz</td>\n",
       "      <td>1.29</td>\n",
       "      <td>03/01/23</td>\n",
       "      <td>Trader Joe's</td>\n",
       "      <td>167535</td>\n",
       "    </tr>\n",
       "    <tr>\n",
       "      <th>29</th>\n",
       "      <td>Oats, rolled</td>\n",
       "      <td>18.00</td>\n",
       "      <td>oz</td>\n",
       "      <td>2.99</td>\n",
       "      <td>02/27/23</td>\n",
       "      <td>Trader Joe's</td>\n",
       "      <td>2346396</td>\n",
       "    </tr>\n",
       "    <tr>\n",
       "      <th>30</th>\n",
       "      <td>Soy milk, unsweetened</td>\n",
       "      <td>32.00</td>\n",
       "      <td>oz</td>\n",
       "      <td>2.49</td>\n",
       "      <td>02/27/23</td>\n",
       "      <td>Trader Joe's</td>\n",
       "      <td>1999630</td>\n",
       "    </tr>\n",
       "    <tr>\n",
       "      <th>31</th>\n",
       "      <td>Peanut butter, creamy</td>\n",
       "      <td>16.00</td>\n",
       "      <td>oz</td>\n",
       "      <td>2.29</td>\n",
       "      <td>02/27/23</td>\n",
       "      <td>Trader Joe's</td>\n",
       "      <td>2262072</td>\n",
       "    </tr>\n",
       "    <tr>\n",
       "      <th>32</th>\n",
       "      <td>Rice, Brown</td>\n",
       "      <td>32.00</td>\n",
       "      <td>oz</td>\n",
       "      <td>3.29</td>\n",
       "      <td>03/01/23</td>\n",
       "      <td>Trader Joe's</td>\n",
       "      <td>169706</td>\n",
       "    </tr>\n",
       "    <tr>\n",
       "      <th>33</th>\n",
       "      <td>Spaghetti, dry</td>\n",
       "      <td>1.00</td>\n",
       "      <td>pound</td>\n",
       "      <td>0.99</td>\n",
       "      <td>02/27/23</td>\n",
       "      <td>Trader Joe's</td>\n",
       "      <td>168927</td>\n",
       "    </tr>\n",
       "  </tbody>\n",
       "</table>\n",
       "</div>"
      ],
      "text/plain": [
       "                       Food  Quantity  Units  Price      Date      Location  \\\n",
       "0                Banana,raw    120.00  grams   0.19  02/27/23  Trader Joe's   \n",
       "1               Apple, Gala      0.33  pound   1.29  02/27/23  Trader Joe's   \n",
       "2            Oranges, Navel      3.00  pound   3.69  02/27/23  Trader Joe's   \n",
       "3               Blueberries     11.00     oz   4.49  03/01/23  Trader Joe's   \n",
       "4               Raspberries      6.00     oz   3.99  03/01/23  Trader Joe's   \n",
       "5   Grapes, green, seedless      2.00  pound   5.99  03/01/23  Trader Joe's   \n",
       "6              Strawberries      1.00  pound   3.99  02/27/23  Trader Joe's   \n",
       "7              Lentils, red     17.63     oz   3.29  02/27/23  Trader Joe's   \n",
       "8                      Tofu     19.00     oz   2.29  03/01/23  Trader Joe's   \n",
       "9           Split peas, dry     12.00     oz   2.69  03/01/23  Trader Joe's   \n",
       "10        Chickpeas, canned      9.88     oz   1.99  03/01/23  Trader Joe's   \n",
       "11              Quinoa, dry     16.00     oz   3.99  02/27/23  Trader Joe's   \n",
       "12                   Hummus     16.00     oz   3.99  02/27/23  Trader Joe's   \n",
       "13      Black beans, canned     15.50     oz   1.09  02/27/23  Trader Joe's   \n",
       "14             Tomato, Roma      1.00  pound   2.99  02/27/23  Trader Joe's   \n",
       "15                 Broccoli     12.00     oz   2.49  03/01/23  Trader Joe's   \n",
       "16                     Kale     10.00     oz   2.99  02/27/23  Trader Joe's   \n",
       "17         Green beans, raw     24.00     oz   1.99  02/27/23  Trader Joe's   \n",
       "18           Onions, yellow      4.30     oz   0.99  03/01/23  Trader Joe's   \n",
       "19                   Celery     16.00     oz   2.79  03/01/23  Trader Joe's   \n",
       "20           Potato, Russet    200.00  grams   0.79  02/27/23  Trader Joe's   \n",
       "21                   Carrot      2.00  pound   1.99  02/27/23  Trader Joe's   \n",
       "22                 Cucumber      1.00  pound   2.49  02/27/23  Trader Joe's   \n",
       "23                  Avocado      5.40     oz   0.60  03/01/23  Trader Joe's   \n",
       "24         Lettuce, Romaine      5.00     oz   2.49  02/27/23  Trader Joe's   \n",
       "25                Mushrooms      6.00     oz   3.29  02/27/23  Trader Joe's   \n",
       "26                  Spinach     12.00     oz   2.49  03/01/23  Trader Joe's   \n",
       "27              Rice, White      3.00  pound   2.99  02/27/23  Trader Joe's   \n",
       "28          Tortillas, corn     12.00     oz   1.29  03/01/23  Trader Joe's   \n",
       "29             Oats, rolled     18.00     oz   2.99  02/27/23  Trader Joe's   \n",
       "30    Soy milk, unsweetened     32.00     oz   2.49  02/27/23  Trader Joe's   \n",
       "31    Peanut butter, creamy     16.00     oz   2.29  02/27/23  Trader Joe's   \n",
       "32              Rice, Brown     32.00     oz   3.29  03/01/23  Trader Joe's   \n",
       "33           Spaghetti, dry      1.00  pound   0.99  02/27/23  Trader Joe's   \n",
       "\n",
       "        FDC  \n",
       "0   1105314  \n",
       "1   1750341  \n",
       "2    746771  \n",
       "3   2346411  \n",
       "4   2346410  \n",
       "5   2346413  \n",
       "6    167762  \n",
       "7    174284  \n",
       "8    173788  \n",
       "9    172428  \n",
       "10   173800  \n",
       "11   168874  \n",
       "12   174289  \n",
       "13   175238  \n",
       "14  1999634  \n",
       "15   539572  \n",
       "16  1103116  \n",
       "17  2346400  \n",
       "18   790646  \n",
       "19  2346405  \n",
       "20  2060240  \n",
       "21   170393  \n",
       "22  2346406  \n",
       "23   171705  \n",
       "24   169247  \n",
       "25  1999629  \n",
       "26  1999632  \n",
       "27   168931  \n",
       "28   167535  \n",
       "29  2346396  \n",
       "30  1999630  \n",
       "31  2262072  \n",
       "32   169706  \n",
       "33   168927  "
      ]
     },
     "execution_count": 6,
     "metadata": {},
     "output_type": "execute_result"
    }
   ],
   "source": [
    "import pandas as pd\n",
    "from eep153_tools.sheets import read_sheets\n",
    "\n",
    "df = read_sheets('https://docs.google.com/spreadsheets/d/1dZW1_vvjZwcAfxfHiAkjqrLEpFbFsZ4s7_MzTG6Ezu0/edit#gid=0',sheet='Trader Joes')\n",
    "df"
   ]
  },
  {
   "cell_type": "markdown",
   "metadata": {},
   "source": [
    "## Walmart Price List\n"
   ]
  },
  {
   "cell_type": "code",
   "execution_count": 7,
   "metadata": {},
   "outputs": [
    {
     "name": "stdout",
     "output_type": "stream",
     "text": [
      "Key available for students@eep153.iam.gserviceaccount.com.\n"
     ]
    },
    {
     "data": {
      "text/html": [
       "<div>\n",
       "<style scoped>\n",
       "    .dataframe tbody tr th:only-of-type {\n",
       "        vertical-align: middle;\n",
       "    }\n",
       "\n",
       "    .dataframe tbody tr th {\n",
       "        vertical-align: top;\n",
       "    }\n",
       "\n",
       "    .dataframe thead th {\n",
       "        text-align: right;\n",
       "    }\n",
       "</style>\n",
       "<table border=\"1\" class=\"dataframe\">\n",
       "  <thead>\n",
       "    <tr style=\"text-align: right;\">\n",
       "      <th></th>\n",
       "      <th>Food</th>\n",
       "      <th>Quantity</th>\n",
       "      <th>Units</th>\n",
       "      <th>Price</th>\n",
       "      <th>Date</th>\n",
       "      <th>Location</th>\n",
       "      <th>FDC</th>\n",
       "      <th>Note</th>\n",
       "    </tr>\n",
       "  </thead>\n",
       "  <tbody>\n",
       "    <tr>\n",
       "      <th>0</th>\n",
       "      <td>Banana,raw</td>\n",
       "      <td>1.0</td>\n",
       "      <td>lbs</td>\n",
       "      <td>0.77</td>\n",
       "      <td>02/27/23</td>\n",
       "      <td>walmart</td>\n",
       "      <td>1105073</td>\n",
       "      <td></td>\n",
       "    </tr>\n",
       "    <tr>\n",
       "      <th>1</th>\n",
       "      <td>Apple, Gala</td>\n",
       "      <td>1.0</td>\n",
       "      <td>lbs</td>\n",
       "      <td>1.67</td>\n",
       "      <td>02/27/23</td>\n",
       "      <td>walmart</td>\n",
       "      <td>1750341</td>\n",
       "      <td></td>\n",
       "    </tr>\n",
       "    <tr>\n",
       "      <th>2</th>\n",
       "      <td>Oranges, Navel</td>\n",
       "      <td>1.0</td>\n",
       "      <td>lbs</td>\n",
       "      <td>0.88</td>\n",
       "      <td>02/27/23</td>\n",
       "      <td>walmart</td>\n",
       "      <td>746771</td>\n",
       "      <td></td>\n",
       "    </tr>\n",
       "    <tr>\n",
       "      <th>3</th>\n",
       "      <td>Blueberries</td>\n",
       "      <td>11.0</td>\n",
       "      <td>oz</td>\n",
       "      <td>3.38</td>\n",
       "      <td>02/27/23</td>\n",
       "      <td>walmart</td>\n",
       "      <td>2346411</td>\n",
       "      <td></td>\n",
       "    </tr>\n",
       "    <tr>\n",
       "      <th>4</th>\n",
       "      <td>Raspberries</td>\n",
       "      <td>12.0</td>\n",
       "      <td>oz</td>\n",
       "      <td>5.98</td>\n",
       "      <td>02/27/23</td>\n",
       "      <td>walmart</td>\n",
       "      <td>2346410</td>\n",
       "      <td></td>\n",
       "    </tr>\n",
       "    <tr>\n",
       "      <th>5</th>\n",
       "      <td>Grapes, green, seedless</td>\n",
       "      <td>1.0</td>\n",
       "      <td>lbs</td>\n",
       "      <td>1.98</td>\n",
       "      <td>02/27/23</td>\n",
       "      <td>walmart</td>\n",
       "      <td>2346413</td>\n",
       "      <td></td>\n",
       "    </tr>\n",
       "    <tr>\n",
       "      <th>6</th>\n",
       "      <td>Strawberries</td>\n",
       "      <td>1.0</td>\n",
       "      <td>lbs</td>\n",
       "      <td>2.78</td>\n",
       "      <td>02/27/23</td>\n",
       "      <td>walmart</td>\n",
       "      <td>167762</td>\n",
       "      <td></td>\n",
       "    </tr>\n",
       "    <tr>\n",
       "      <th>7</th>\n",
       "      <td>Lentils, red</td>\n",
       "      <td>27.0</td>\n",
       "      <td>oz</td>\n",
       "      <td>9.55</td>\n",
       "      <td>03/01/23</td>\n",
       "      <td>walmart</td>\n",
       "      <td>174284</td>\n",
       "      <td></td>\n",
       "    </tr>\n",
       "    <tr>\n",
       "      <th>8</th>\n",
       "      <td>Tofu</td>\n",
       "      <td>1.0</td>\n",
       "      <td>lbs</td>\n",
       "      <td>2.12</td>\n",
       "      <td>02/27/23</td>\n",
       "      <td>walmart</td>\n",
       "      <td>173788</td>\n",
       "      <td></td>\n",
       "    </tr>\n",
       "    <tr>\n",
       "      <th>9</th>\n",
       "      <td>Split peas, dry</td>\n",
       "      <td>1.0</td>\n",
       "      <td>lbs</td>\n",
       "      <td>1.48</td>\n",
       "      <td>02/27/23</td>\n",
       "      <td>walmart</td>\n",
       "      <td>172428</td>\n",
       "      <td>green</td>\n",
       "    </tr>\n",
       "    <tr>\n",
       "      <th>10</th>\n",
       "      <td>Chickpeas, canned</td>\n",
       "      <td>15.5</td>\n",
       "      <td>oz</td>\n",
       "      <td>0.78</td>\n",
       "      <td>02/27/23</td>\n",
       "      <td>walmart</td>\n",
       "      <td>173800</td>\n",
       "      <td></td>\n",
       "    </tr>\n",
       "    <tr>\n",
       "      <th>11</th>\n",
       "      <td>Quinoa, dry</td>\n",
       "      <td>1.0</td>\n",
       "      <td>lbs</td>\n",
       "      <td>3.72</td>\n",
       "      <td>02/27/23</td>\n",
       "      <td>walmart</td>\n",
       "      <td>168874</td>\n",
       "      <td>organic</td>\n",
       "    </tr>\n",
       "    <tr>\n",
       "      <th>12</th>\n",
       "      <td>Fresh Hummus</td>\n",
       "      <td>10.0</td>\n",
       "      <td>oz</td>\n",
       "      <td>3.47</td>\n",
       "      <td>02/27/23</td>\n",
       "      <td>walmart</td>\n",
       "      <td>174289</td>\n",
       "      <td></td>\n",
       "    </tr>\n",
       "    <tr>\n",
       "      <th>13</th>\n",
       "      <td>Black beans, canned</td>\n",
       "      <td>15.0</td>\n",
       "      <td>oz</td>\n",
       "      <td>0.78</td>\n",
       "      <td>02/27/23</td>\n",
       "      <td>walmart</td>\n",
       "      <td>175238</td>\n",
       "      <td></td>\n",
       "    </tr>\n",
       "    <tr>\n",
       "      <th>14</th>\n",
       "      <td>Tomato, Roma</td>\n",
       "      <td>1.0</td>\n",
       "      <td>lbs</td>\n",
       "      <td>1.28</td>\n",
       "      <td>02/27/23</td>\n",
       "      <td>walmart</td>\n",
       "      <td>1999634</td>\n",
       "      <td></td>\n",
       "    </tr>\n",
       "    <tr>\n",
       "      <th>15</th>\n",
       "      <td>Broccoli Florest</td>\n",
       "      <td>1.0</td>\n",
       "      <td>oz</td>\n",
       "      <td>4.15</td>\n",
       "      <td>02/27/23</td>\n",
       "      <td>walmart</td>\n",
       "      <td>539572</td>\n",
       "      <td></td>\n",
       "    </tr>\n",
       "    <tr>\n",
       "      <th>16</th>\n",
       "      <td>Kale</td>\n",
       "      <td>40.0</td>\n",
       "      <td>oz</td>\n",
       "      <td>11.78</td>\n",
       "      <td>02/27/23</td>\n",
       "      <td>walmart</td>\n",
       "      <td>1103116</td>\n",
       "      <td></td>\n",
       "    </tr>\n",
       "    <tr>\n",
       "      <th>17</th>\n",
       "      <td>Green beans, raw</td>\n",
       "      <td>12.0</td>\n",
       "      <td>oz</td>\n",
       "      <td>2.78</td>\n",
       "      <td>02/27/23</td>\n",
       "      <td>walmart</td>\n",
       "      <td>2346400</td>\n",
       "      <td></td>\n",
       "    </tr>\n",
       "    <tr>\n",
       "      <th>18</th>\n",
       "      <td>Onions, yellow</td>\n",
       "      <td>3.0</td>\n",
       "      <td>oz</td>\n",
       "      <td>2.24</td>\n",
       "      <td>02/27/23</td>\n",
       "      <td>walmart</td>\n",
       "      <td>790646</td>\n",
       "      <td>organic</td>\n",
       "    </tr>\n",
       "    <tr>\n",
       "      <th>19</th>\n",
       "      <td>Celery</td>\n",
       "      <td>20.0</td>\n",
       "      <td>oz</td>\n",
       "      <td>2.98</td>\n",
       "      <td>02/27/23</td>\n",
       "      <td>walmart</td>\n",
       "      <td>2346405</td>\n",
       "      <td></td>\n",
       "    </tr>\n",
       "    <tr>\n",
       "      <th>20</th>\n",
       "      <td>Potato, Russet</td>\n",
       "      <td>5.0</td>\n",
       "      <td>lbs</td>\n",
       "      <td>3.47</td>\n",
       "      <td>02/27/23</td>\n",
       "      <td>walmart</td>\n",
       "      <td>2060240</td>\n",
       "      <td></td>\n",
       "    </tr>\n",
       "    <tr>\n",
       "      <th>21</th>\n",
       "      <td>Carrot</td>\n",
       "      <td>1.0</td>\n",
       "      <td>lbs</td>\n",
       "      <td>0.98</td>\n",
       "      <td>02/27/23</td>\n",
       "      <td>walmart</td>\n",
       "      <td>1103193</td>\n",
       "      <td>whole</td>\n",
       "    </tr>\n",
       "    <tr>\n",
       "      <th>22</th>\n",
       "      <td>Cucumber</td>\n",
       "      <td>1.0</td>\n",
       "      <td>oz</td>\n",
       "      <td>0.68</td>\n",
       "      <td>02/27/23</td>\n",
       "      <td>walmart</td>\n",
       "      <td>2346406</td>\n",
       "      <td></td>\n",
       "    </tr>\n",
       "    <tr>\n",
       "      <th>23</th>\n",
       "      <td>Avocado</td>\n",
       "      <td>1.0</td>\n",
       "      <td>lbs</td>\n",
       "      <td>1.09</td>\n",
       "      <td>02/27/23</td>\n",
       "      <td>walmart</td>\n",
       "      <td>815990</td>\n",
       "      <td></td>\n",
       "    </tr>\n",
       "    <tr>\n",
       "      <th>24</th>\n",
       "      <td>Lettuce, Romaine</td>\n",
       "      <td>10.0</td>\n",
       "      <td>oz</td>\n",
       "      <td>2.98</td>\n",
       "      <td>02/27/23</td>\n",
       "      <td>walmart</td>\n",
       "      <td>169247</td>\n",
       "      <td></td>\n",
       "    </tr>\n",
       "    <tr>\n",
       "      <th>25</th>\n",
       "      <td>Fresh whole Mushrooms</td>\n",
       "      <td>8.0</td>\n",
       "      <td>oz</td>\n",
       "      <td>2.08</td>\n",
       "      <td>02/27/23</td>\n",
       "      <td>walmart</td>\n",
       "      <td>1999629</td>\n",
       "      <td></td>\n",
       "    </tr>\n",
       "    <tr>\n",
       "      <th>26</th>\n",
       "      <td>Market side fresh Spinach</td>\n",
       "      <td>10.0</td>\n",
       "      <td>oz</td>\n",
       "      <td>2.28</td>\n",
       "      <td>02/27/23</td>\n",
       "      <td>walmart</td>\n",
       "      <td>1999632</td>\n",
       "      <td></td>\n",
       "    </tr>\n",
       "    <tr>\n",
       "      <th>27</th>\n",
       "      <td>Rice, White</td>\n",
       "      <td>14.0</td>\n",
       "      <td>oz</td>\n",
       "      <td>2.44</td>\n",
       "      <td>02/27/23</td>\n",
       "      <td>walmart</td>\n",
       "      <td>168931</td>\n",
       "      <td></td>\n",
       "    </tr>\n",
       "    <tr>\n",
       "      <th>28</th>\n",
       "      <td>Tortillas, corn</td>\n",
       "      <td>25.0</td>\n",
       "      <td>oz</td>\n",
       "      <td>2.48</td>\n",
       "      <td>02/27/23</td>\n",
       "      <td>walmart</td>\n",
       "      <td>167535</td>\n",
       "      <td></td>\n",
       "    </tr>\n",
       "    <tr>\n",
       "      <th>29</th>\n",
       "      <td>Organic Oats, rolled</td>\n",
       "      <td>24.0</td>\n",
       "      <td>oz</td>\n",
       "      <td>12.29</td>\n",
       "      <td>02/27/23</td>\n",
       "      <td>walmart</td>\n",
       "      <td>2346396</td>\n",
       "      <td></td>\n",
       "    </tr>\n",
       "    <tr>\n",
       "      <th>30</th>\n",
       "      <td>Soy milk, unsweetened</td>\n",
       "      <td>32.0</td>\n",
       "      <td>floz</td>\n",
       "      <td>3.24</td>\n",
       "      <td>02/27/23</td>\n",
       "      <td>walmart</td>\n",
       "      <td>1999630</td>\n",
       "      <td></td>\n",
       "    </tr>\n",
       "    <tr>\n",
       "      <th>31</th>\n",
       "      <td>Peanut butter, creamy</td>\n",
       "      <td>24.0</td>\n",
       "      <td>oz</td>\n",
       "      <td>12.56</td>\n",
       "      <td>02/27/23</td>\n",
       "      <td>walmart</td>\n",
       "      <td>2262072</td>\n",
       "      <td>organic</td>\n",
       "    </tr>\n",
       "    <tr>\n",
       "      <th>32</th>\n",
       "      <td>Rice, Brown</td>\n",
       "      <td>32.0</td>\n",
       "      <td>oz</td>\n",
       "      <td>1.37</td>\n",
       "      <td>02/27/23</td>\n",
       "      <td>walmart</td>\n",
       "      <td>169706</td>\n",
       "      <td>Fresh</td>\n",
       "    </tr>\n",
       "    <tr>\n",
       "      <th>33</th>\n",
       "      <td>Spaghetti, dry</td>\n",
       "      <td>1.0</td>\n",
       "      <td>oz</td>\n",
       "      <td>0.09</td>\n",
       "      <td>02/27/23</td>\n",
       "      <td>walmart</td>\n",
       "      <td>168927</td>\n",
       "      <td></td>\n",
       "    </tr>\n",
       "  </tbody>\n",
       "</table>\n",
       "</div>"
      ],
      "text/plain": [
       "                         Food  Quantity Units  Price      Date Location  \\\n",
       "0                  Banana,raw       1.0   lbs   0.77  02/27/23  walmart   \n",
       "1                 Apple, Gala       1.0   lbs   1.67  02/27/23  walmart   \n",
       "2              Oranges, Navel       1.0   lbs   0.88  02/27/23  walmart   \n",
       "3                 Blueberries      11.0    oz   3.38  02/27/23  walmart   \n",
       "4                 Raspberries      12.0    oz   5.98  02/27/23  walmart   \n",
       "5     Grapes, green, seedless       1.0   lbs   1.98  02/27/23  walmart   \n",
       "6                Strawberries       1.0   lbs   2.78  02/27/23  walmart   \n",
       "7                Lentils, red      27.0    oz   9.55  03/01/23  walmart   \n",
       "8                        Tofu       1.0   lbs   2.12  02/27/23  walmart   \n",
       "9             Split peas, dry       1.0   lbs   1.48  02/27/23  walmart   \n",
       "10          Chickpeas, canned      15.5    oz   0.78  02/27/23  walmart   \n",
       "11                Quinoa, dry       1.0   lbs   3.72  02/27/23  walmart   \n",
       "12               Fresh Hummus      10.0    oz   3.47  02/27/23  walmart   \n",
       "13        Black beans, canned      15.0    oz   0.78  02/27/23  walmart   \n",
       "14               Tomato, Roma       1.0   lbs   1.28  02/27/23  walmart   \n",
       "15           Broccoli Florest       1.0    oz   4.15  02/27/23  walmart   \n",
       "16                       Kale      40.0    oz  11.78  02/27/23  walmart   \n",
       "17           Green beans, raw      12.0    oz   2.78  02/27/23  walmart   \n",
       "18             Onions, yellow       3.0    oz   2.24  02/27/23  walmart   \n",
       "19                     Celery      20.0    oz   2.98  02/27/23  walmart   \n",
       "20             Potato, Russet       5.0   lbs   3.47  02/27/23  walmart   \n",
       "21                     Carrot       1.0   lbs   0.98  02/27/23  walmart   \n",
       "22                   Cucumber       1.0    oz   0.68  02/27/23  walmart   \n",
       "23                    Avocado       1.0   lbs   1.09  02/27/23  walmart   \n",
       "24           Lettuce, Romaine      10.0    oz   2.98  02/27/23  walmart   \n",
       "25      Fresh whole Mushrooms       8.0    oz   2.08  02/27/23  walmart   \n",
       "26  Market side fresh Spinach      10.0    oz   2.28  02/27/23  walmart   \n",
       "27                Rice, White      14.0    oz   2.44  02/27/23  walmart   \n",
       "28            Tortillas, corn      25.0    oz   2.48  02/27/23  walmart   \n",
       "29       Organic Oats, rolled      24.0    oz  12.29  02/27/23  walmart   \n",
       "30      Soy milk, unsweetened      32.0  floz   3.24  02/27/23  walmart   \n",
       "31      Peanut butter, creamy      24.0    oz  12.56  02/27/23  walmart   \n",
       "32                Rice, Brown      32.0    oz   1.37  02/27/23  walmart   \n",
       "33             Spaghetti, dry       1.0    oz   0.09  02/27/23  walmart   \n",
       "\n",
       "        FDC     Note  \n",
       "0   1105073           \n",
       "1   1750341           \n",
       "2    746771           \n",
       "3   2346411           \n",
       "4   2346410           \n",
       "5   2346413           \n",
       "6    167762           \n",
       "7    174284           \n",
       "8    173788           \n",
       "9    172428    green  \n",
       "10   173800           \n",
       "11   168874  organic  \n",
       "12   174289           \n",
       "13   175238           \n",
       "14  1999634           \n",
       "15   539572           \n",
       "16  1103116           \n",
       "17  2346400           \n",
       "18   790646  organic  \n",
       "19  2346405           \n",
       "20  2060240           \n",
       "21  1103193    whole  \n",
       "22  2346406           \n",
       "23   815990           \n",
       "24   169247           \n",
       "25  1999629           \n",
       "26  1999632           \n",
       "27   168931           \n",
       "28   167535           \n",
       "29  2346396           \n",
       "30  1999630           \n",
       "31  2262072  organic  \n",
       "32   169706    Fresh  \n",
       "33   168927           "
      ]
     },
     "execution_count": 7,
     "metadata": {},
     "output_type": "execute_result"
    }
   ],
   "source": [
    "import pandas as pd\n",
    "from eep153_tools.sheets import read_sheets\n",
    "\n",
    "walmartdf = read_sheets('https://docs.google.com/spreadsheets/d/1dZW1_vvjZwcAfxfHiAkjqrLEpFbFsZ4s7_MzTG6Ezu0/edit#gid=0',sheet='Walmart')\n",
    "walmartdf"
   ]
  },
  {
   "cell_type": "markdown",
   "metadata": {},
   "source": [
    "## Whole Foods Price List\n"
   ]
  },
  {
   "cell_type": "code",
   "execution_count": 8,
   "metadata": {},
   "outputs": [
    {
     "name": "stdout",
     "output_type": "stream",
     "text": [
      "Key available for students@eep153.iam.gserviceaccount.com.\n"
     ]
    },
    {
     "data": {
      "text/html": [
       "<div>\n",
       "<style scoped>\n",
       "    .dataframe tbody tr th:only-of-type {\n",
       "        vertical-align: middle;\n",
       "    }\n",
       "\n",
       "    .dataframe tbody tr th {\n",
       "        vertical-align: top;\n",
       "    }\n",
       "\n",
       "    .dataframe thead th {\n",
       "        text-align: right;\n",
       "    }\n",
       "</style>\n",
       "<table border=\"1\" class=\"dataframe\">\n",
       "  <thead>\n",
       "    <tr style=\"text-align: right;\">\n",
       "      <th></th>\n",
       "      <th>Food</th>\n",
       "      <th>FDC</th>\n",
       "      <th>Quantity</th>\n",
       "      <th>Units</th>\n",
       "      <th>Price</th>\n",
       "      <th>Date</th>\n",
       "      <th>Location</th>\n",
       "      <th>Notes</th>\n",
       "    </tr>\n",
       "  </thead>\n",
       "  <tbody>\n",
       "    <tr>\n",
       "      <th>0</th>\n",
       "      <td>Banana,raw</td>\n",
       "      <td>1105314</td>\n",
       "      <td>1.0</td>\n",
       "      <td>lbs</td>\n",
       "      <td>0.99</td>\n",
       "      <td>2/27/23</td>\n",
       "      <td>Whole Foods</td>\n",
       "      <td></td>\n",
       "    </tr>\n",
       "    <tr>\n",
       "      <th>1</th>\n",
       "      <td>Apple, Gala</td>\n",
       "      <td>1750341</td>\n",
       "      <td>3.0</td>\n",
       "      <td>lbs</td>\n",
       "      <td>6.49</td>\n",
       "      <td>2/27/23</td>\n",
       "      <td>Whole Foods</td>\n",
       "      <td></td>\n",
       "    </tr>\n",
       "    <tr>\n",
       "      <th>2</th>\n",
       "      <td>Oranges, Navel</td>\n",
       "      <td>746771</td>\n",
       "      <td>1.0</td>\n",
       "      <td>lbs</td>\n",
       "      <td>2.39</td>\n",
       "      <td>2/27/23</td>\n",
       "      <td>Whole Foods</td>\n",
       "      <td></td>\n",
       "    </tr>\n",
       "    <tr>\n",
       "      <th>3</th>\n",
       "      <td>Blueberries</td>\n",
       "      <td>2346411</td>\n",
       "      <td>11.0</td>\n",
       "      <td>oz</td>\n",
       "      <td>6.99</td>\n",
       "      <td>2/27/23</td>\n",
       "      <td>Whole Foods</td>\n",
       "      <td></td>\n",
       "    </tr>\n",
       "    <tr>\n",
       "      <th>4</th>\n",
       "      <td>Raspberries</td>\n",
       "      <td>2346410</td>\n",
       "      <td>12.0</td>\n",
       "      <td>oz</td>\n",
       "      <td>8.69</td>\n",
       "      <td>2/27/23</td>\n",
       "      <td>Whole Foods</td>\n",
       "      <td>Only organic</td>\n",
       "    </tr>\n",
       "    <tr>\n",
       "      <th>5</th>\n",
       "      <td>Grapes, green, seedless</td>\n",
       "      <td>2346413</td>\n",
       "      <td>3.0</td>\n",
       "      <td>lbs</td>\n",
       "      <td>7.49</td>\n",
       "      <td>2/27/23</td>\n",
       "      <td>Whole Foods</td>\n",
       "      <td></td>\n",
       "    </tr>\n",
       "    <tr>\n",
       "      <th>6</th>\n",
       "      <td>Strawberries</td>\n",
       "      <td>167762</td>\n",
       "      <td>1.0</td>\n",
       "      <td>lbs</td>\n",
       "      <td>4.49</td>\n",
       "      <td>2/27/23</td>\n",
       "      <td>Whole Foods</td>\n",
       "      <td></td>\n",
       "    </tr>\n",
       "    <tr>\n",
       "      <th>7</th>\n",
       "      <td>Lentils, red</td>\n",
       "      <td>174284</td>\n",
       "      <td>1.0</td>\n",
       "      <td>lbs</td>\n",
       "      <td>2.99</td>\n",
       "      <td>2/27/23</td>\n",
       "      <td>Whole Foods</td>\n",
       "      <td></td>\n",
       "    </tr>\n",
       "    <tr>\n",
       "      <th>8</th>\n",
       "      <td>Tofu</td>\n",
       "      <td>173788</td>\n",
       "      <td>14.0</td>\n",
       "      <td>oz</td>\n",
       "      <td>2.99</td>\n",
       "      <td>2/27/23</td>\n",
       "      <td>Whole Foods</td>\n",
       "      <td></td>\n",
       "    </tr>\n",
       "    <tr>\n",
       "      <th>9</th>\n",
       "      <td>Split peas, dry</td>\n",
       "      <td>172428</td>\n",
       "      <td>1.0</td>\n",
       "      <td>lbs</td>\n",
       "      <td>2.99</td>\n",
       "      <td>2/27/23</td>\n",
       "      <td>Whole Foods</td>\n",
       "      <td></td>\n",
       "    </tr>\n",
       "    <tr>\n",
       "      <th>10</th>\n",
       "      <td>Chickpeas, canned</td>\n",
       "      <td>173800</td>\n",
       "      <td>15.5</td>\n",
       "      <td>oz</td>\n",
       "      <td>1.99</td>\n",
       "      <td>2/27/23</td>\n",
       "      <td>Whole Foods</td>\n",
       "      <td></td>\n",
       "    </tr>\n",
       "    <tr>\n",
       "      <th>11</th>\n",
       "      <td>Quinoa, dry</td>\n",
       "      <td>168874</td>\n",
       "      <td>1.0</td>\n",
       "      <td>lbs</td>\n",
       "      <td>4.79</td>\n",
       "      <td>2/27/23</td>\n",
       "      <td>Whole Foods</td>\n",
       "      <td>Only organic</td>\n",
       "    </tr>\n",
       "    <tr>\n",
       "      <th>12</th>\n",
       "      <td>Hummus</td>\n",
       "      <td>174289</td>\n",
       "      <td>1.0</td>\n",
       "      <td>lbs</td>\n",
       "      <td>5.29</td>\n",
       "      <td>2/27/23</td>\n",
       "      <td>Whole Foods</td>\n",
       "      <td></td>\n",
       "    </tr>\n",
       "    <tr>\n",
       "      <th>13</th>\n",
       "      <td>Black beans, canned</td>\n",
       "      <td>175238</td>\n",
       "      <td>15.0</td>\n",
       "      <td>oz</td>\n",
       "      <td>1.99</td>\n",
       "      <td>2/27/23</td>\n",
       "      <td>Whole Foods</td>\n",
       "      <td></td>\n",
       "    </tr>\n",
       "    <tr>\n",
       "      <th>14</th>\n",
       "      <td>Tomato, Roma</td>\n",
       "      <td>1999634</td>\n",
       "      <td>1.0</td>\n",
       "      <td>lbs</td>\n",
       "      <td>3.19</td>\n",
       "      <td>2/27/23</td>\n",
       "      <td>Whole Foods</td>\n",
       "      <td></td>\n",
       "    </tr>\n",
       "    <tr>\n",
       "      <th>15</th>\n",
       "      <td>Broccoli</td>\n",
       "      <td>539572</td>\n",
       "      <td>1.0</td>\n",
       "      <td>lbs</td>\n",
       "      <td>2.99</td>\n",
       "      <td>2/27/23</td>\n",
       "      <td>Whole Foods</td>\n",
       "      <td></td>\n",
       "    </tr>\n",
       "    <tr>\n",
       "      <th>16</th>\n",
       "      <td>Kale</td>\n",
       "      <td>1103116</td>\n",
       "      <td>1.0</td>\n",
       "      <td>lbs</td>\n",
       "      <td>4.99</td>\n",
       "      <td>2/27/23</td>\n",
       "      <td>Whole Foods</td>\n",
       "      <td></td>\n",
       "    </tr>\n",
       "    <tr>\n",
       "      <th>17</th>\n",
       "      <td>Green beans, raw</td>\n",
       "      <td>2346400</td>\n",
       "      <td>1.0</td>\n",
       "      <td>lbs</td>\n",
       "      <td>2.99</td>\n",
       "      <td>2/27/23</td>\n",
       "      <td>Whole Foods</td>\n",
       "      <td></td>\n",
       "    </tr>\n",
       "    <tr>\n",
       "      <th>18</th>\n",
       "      <td>Onions, yellow</td>\n",
       "      <td>790646</td>\n",
       "      <td>1.0</td>\n",
       "      <td>lbs</td>\n",
       "      <td>1.99</td>\n",
       "      <td>2/27/23</td>\n",
       "      <td>Whole Foods</td>\n",
       "      <td></td>\n",
       "    </tr>\n",
       "    <tr>\n",
       "      <th>19</th>\n",
       "      <td>Celery</td>\n",
       "      <td>2346405</td>\n",
       "      <td>1.0</td>\n",
       "      <td>lbs</td>\n",
       "      <td>2.69</td>\n",
       "      <td>2/27/23</td>\n",
       "      <td>Whole Foods</td>\n",
       "      <td></td>\n",
       "    </tr>\n",
       "    <tr>\n",
       "      <th>20</th>\n",
       "      <td>Potato, Russet</td>\n",
       "      <td>2060240</td>\n",
       "      <td>1.0</td>\n",
       "      <td>lbs</td>\n",
       "      <td>1.69</td>\n",
       "      <td>2/27/23</td>\n",
       "      <td>Whole Foods</td>\n",
       "      <td></td>\n",
       "    </tr>\n",
       "    <tr>\n",
       "      <th>21</th>\n",
       "      <td>Carrot</td>\n",
       "      <td>170393</td>\n",
       "      <td>1.0</td>\n",
       "      <td>lbs</td>\n",
       "      <td>1.49</td>\n",
       "      <td>2/27/23</td>\n",
       "      <td>Whole Foods</td>\n",
       "      <td>Oragnic</td>\n",
       "    </tr>\n",
       "    <tr>\n",
       "      <th>22</th>\n",
       "      <td>Cucumber</td>\n",
       "      <td>2346406</td>\n",
       "      <td>14.0</td>\n",
       "      <td>oz</td>\n",
       "      <td>1.79</td>\n",
       "      <td>2/27/23</td>\n",
       "      <td>Whole Foods</td>\n",
       "      <td></td>\n",
       "    </tr>\n",
       "    <tr>\n",
       "      <th>23</th>\n",
       "      <td>Avocado</td>\n",
       "      <td>171705</td>\n",
       "      <td>8.0</td>\n",
       "      <td>oz</td>\n",
       "      <td>1.99</td>\n",
       "      <td>2/27/23</td>\n",
       "      <td>Whole Foods</td>\n",
       "      <td></td>\n",
       "    </tr>\n",
       "    <tr>\n",
       "      <th>24</th>\n",
       "      <td>Lettuce, Romaine</td>\n",
       "      <td>169247</td>\n",
       "      <td>22.0</td>\n",
       "      <td>oz</td>\n",
       "      <td>2.99</td>\n",
       "      <td>2/27/23</td>\n",
       "      <td>Whole Foods</td>\n",
       "      <td></td>\n",
       "    </tr>\n",
       "    <tr>\n",
       "      <th>25</th>\n",
       "      <td>Mushrooms</td>\n",
       "      <td>1999629</td>\n",
       "      <td>8.0</td>\n",
       "      <td>oz</td>\n",
       "      <td>3.49</td>\n",
       "      <td>2/27/23</td>\n",
       "      <td>Whole Foods</td>\n",
       "      <td></td>\n",
       "    </tr>\n",
       "    <tr>\n",
       "      <th>26</th>\n",
       "      <td>Spinach</td>\n",
       "      <td>1999632</td>\n",
       "      <td>5.0</td>\n",
       "      <td>oz</td>\n",
       "      <td>3.99</td>\n",
       "      <td>2/27/23</td>\n",
       "      <td>Whole Foods</td>\n",
       "      <td></td>\n",
       "    </tr>\n",
       "    <tr>\n",
       "      <th>27</th>\n",
       "      <td>Rice, White</td>\n",
       "      <td>168931</td>\n",
       "      <td>2.0</td>\n",
       "      <td>lbs</td>\n",
       "      <td>5.29</td>\n",
       "      <td>2/27/23</td>\n",
       "      <td>Whole Foods</td>\n",
       "      <td></td>\n",
       "    </tr>\n",
       "    <tr>\n",
       "      <th>28</th>\n",
       "      <td>Tortillas, corn</td>\n",
       "      <td>167535</td>\n",
       "      <td>8.0</td>\n",
       "      <td>oz</td>\n",
       "      <td>1.99</td>\n",
       "      <td>2/27/23</td>\n",
       "      <td>Whole Foods</td>\n",
       "      <td></td>\n",
       "    </tr>\n",
       "    <tr>\n",
       "      <th>29</th>\n",
       "      <td>Oats, rolled</td>\n",
       "      <td>2346396</td>\n",
       "      <td>42.0</td>\n",
       "      <td>oz</td>\n",
       "      <td>5.99</td>\n",
       "      <td>2/27/23</td>\n",
       "      <td>Whole Foods</td>\n",
       "      <td></td>\n",
       "    </tr>\n",
       "    <tr>\n",
       "      <th>30</th>\n",
       "      <td>Soy milk, unsweetened</td>\n",
       "      <td>1999630</td>\n",
       "      <td>32.0</td>\n",
       "      <td>oz</td>\n",
       "      <td>5.39</td>\n",
       "      <td>2/27/23</td>\n",
       "      <td>Whole Foods</td>\n",
       "      <td>Organic</td>\n",
       "    </tr>\n",
       "    <tr>\n",
       "      <th>31</th>\n",
       "      <td>Peanut butter, creamy</td>\n",
       "      <td>2262072</td>\n",
       "      <td>36.0</td>\n",
       "      <td>oz</td>\n",
       "      <td>6.79</td>\n",
       "      <td>2/27/23</td>\n",
       "      <td>Whole Foods</td>\n",
       "      <td></td>\n",
       "    </tr>\n",
       "    <tr>\n",
       "      <th>32</th>\n",
       "      <td>Rice, Brown</td>\n",
       "      <td>169706</td>\n",
       "      <td>80.0</td>\n",
       "      <td>oz</td>\n",
       "      <td>5.99</td>\n",
       "      <td>2/27/23</td>\n",
       "      <td>Whole Foods</td>\n",
       "      <td></td>\n",
       "    </tr>\n",
       "    <tr>\n",
       "      <th>33</th>\n",
       "      <td>Spaghetti, dry</td>\n",
       "      <td>168927</td>\n",
       "      <td>16.0</td>\n",
       "      <td>oz</td>\n",
       "      <td>1.59</td>\n",
       "      <td>2/27/23</td>\n",
       "      <td>Whole Foods</td>\n",
       "      <td></td>\n",
       "    </tr>\n",
       "  </tbody>\n",
       "</table>\n",
       "</div>"
      ],
      "text/plain": [
       "                       Food      FDC  Quantity Units  Price     Date  \\\n",
       "0                Banana,raw  1105314       1.0   lbs   0.99  2/27/23   \n",
       "1               Apple, Gala  1750341       3.0   lbs   6.49  2/27/23   \n",
       "2            Oranges, Navel   746771       1.0   lbs   2.39  2/27/23   \n",
       "3               Blueberries  2346411      11.0    oz   6.99  2/27/23   \n",
       "4               Raspberries  2346410      12.0    oz   8.69  2/27/23   \n",
       "5   Grapes, green, seedless  2346413       3.0   lbs   7.49  2/27/23   \n",
       "6              Strawberries   167762       1.0   lbs   4.49  2/27/23   \n",
       "7              Lentils, red   174284       1.0   lbs   2.99  2/27/23   \n",
       "8                      Tofu   173788      14.0    oz   2.99  2/27/23   \n",
       "9           Split peas, dry   172428       1.0   lbs   2.99  2/27/23   \n",
       "10        Chickpeas, canned   173800      15.5    oz   1.99  2/27/23   \n",
       "11              Quinoa, dry   168874       1.0   lbs   4.79  2/27/23   \n",
       "12                   Hummus   174289       1.0   lbs   5.29  2/27/23   \n",
       "13      Black beans, canned   175238      15.0    oz   1.99  2/27/23   \n",
       "14             Tomato, Roma  1999634       1.0   lbs   3.19  2/27/23   \n",
       "15                 Broccoli   539572       1.0   lbs   2.99  2/27/23   \n",
       "16                     Kale  1103116       1.0   lbs   4.99  2/27/23   \n",
       "17         Green beans, raw  2346400       1.0   lbs   2.99  2/27/23   \n",
       "18           Onions, yellow   790646       1.0   lbs   1.99  2/27/23   \n",
       "19                   Celery  2346405       1.0   lbs   2.69  2/27/23   \n",
       "20           Potato, Russet  2060240       1.0   lbs   1.69  2/27/23   \n",
       "21                   Carrot   170393       1.0   lbs   1.49  2/27/23   \n",
       "22                 Cucumber  2346406      14.0    oz   1.79  2/27/23   \n",
       "23                  Avocado   171705       8.0    oz   1.99  2/27/23   \n",
       "24         Lettuce, Romaine   169247      22.0    oz   2.99  2/27/23   \n",
       "25                Mushrooms  1999629       8.0    oz   3.49  2/27/23   \n",
       "26                  Spinach  1999632       5.0    oz   3.99  2/27/23   \n",
       "27              Rice, White   168931       2.0   lbs   5.29  2/27/23   \n",
       "28          Tortillas, corn   167535       8.0    oz   1.99  2/27/23   \n",
       "29             Oats, rolled  2346396      42.0    oz   5.99  2/27/23   \n",
       "30    Soy milk, unsweetened  1999630      32.0    oz   5.39  2/27/23   \n",
       "31    Peanut butter, creamy  2262072      36.0    oz   6.79  2/27/23   \n",
       "32              Rice, Brown   169706      80.0    oz   5.99  2/27/23   \n",
       "33           Spaghetti, dry   168927      16.0    oz   1.59  2/27/23   \n",
       "\n",
       "       Location         Notes  \n",
       "0   Whole Foods                \n",
       "1   Whole Foods                \n",
       "2   Whole Foods                \n",
       "3   Whole Foods                \n",
       "4   Whole Foods  Only organic  \n",
       "5   Whole Foods                \n",
       "6   Whole Foods                \n",
       "7   Whole Foods                \n",
       "8   Whole Foods                \n",
       "9   Whole Foods                \n",
       "10  Whole Foods                \n",
       "11  Whole Foods  Only organic  \n",
       "12  Whole Foods                \n",
       "13  Whole Foods                \n",
       "14  Whole Foods                \n",
       "15  Whole Foods                \n",
       "16  Whole Foods                \n",
       "17  Whole Foods                \n",
       "18  Whole Foods                \n",
       "19  Whole Foods                \n",
       "20  Whole Foods                \n",
       "21  Whole Foods       Oragnic  \n",
       "22  Whole Foods                \n",
       "23  Whole Foods                \n",
       "24  Whole Foods                \n",
       "25  Whole Foods                \n",
       "26  Whole Foods                \n",
       "27  Whole Foods                \n",
       "28  Whole Foods                \n",
       "29  Whole Foods                \n",
       "30  Whole Foods       Organic  \n",
       "31  Whole Foods                \n",
       "32  Whole Foods                \n",
       "33  Whole Foods                "
      ]
     },
     "execution_count": 8,
     "metadata": {},
     "output_type": "execute_result"
    }
   ],
   "source": [
    "import pandas as pd\n",
    "from eep153_tools.sheets import read_sheets\n",
    "\n",
    "wholefoodsdf = read_sheets('https://docs.google.com/spreadsheets/d/1dZW1_vvjZwcAfxfHiAkjqrLEpFbFsZ4s7_MzTG6Ezu0/edit#gid=0',sheet='Whole Foods')\n",
    "wholefoodsdf"
   ]
  },
  {
   "cell_type": "markdown",
   "metadata": {},
   "source": [
    "## FoodMaxx Price List\n"
   ]
  },
  {
   "cell_type": "code",
   "execution_count": 9,
   "metadata": {},
   "outputs": [
    {
     "name": "stdout",
     "output_type": "stream",
     "text": [
      "Key available for students@eep153.iam.gserviceaccount.com.\n"
     ]
    },
    {
     "data": {
      "text/html": [
       "<div>\n",
       "<style scoped>\n",
       "    .dataframe tbody tr th:only-of-type {\n",
       "        vertical-align: middle;\n",
       "    }\n",
       "\n",
       "    .dataframe tbody tr th {\n",
       "        vertical-align: top;\n",
       "    }\n",
       "\n",
       "    .dataframe thead th {\n",
       "        text-align: right;\n",
       "    }\n",
       "</style>\n",
       "<table border=\"1\" class=\"dataframe\">\n",
       "  <thead>\n",
       "    <tr style=\"text-align: right;\">\n",
       "      <th></th>\n",
       "      <th>Food</th>\n",
       "      <th>Quantity</th>\n",
       "      <th>Units</th>\n",
       "      <th>Price</th>\n",
       "      <th>Date</th>\n",
       "      <th>Location</th>\n",
       "      <th>FDC</th>\n",
       "    </tr>\n",
       "  </thead>\n",
       "  <tbody>\n",
       "    <tr>\n",
       "      <th>0</th>\n",
       "      <td>Banana,raw</td>\n",
       "      <td>1</td>\n",
       "      <td>lbs</td>\n",
       "      <td>0.69</td>\n",
       "      <td>02/27/23</td>\n",
       "      <td>FoodMaxx</td>\n",
       "      <td>1105073</td>\n",
       "    </tr>\n",
       "    <tr>\n",
       "      <th>1</th>\n",
       "      <td>Apple, Gala</td>\n",
       "      <td>1</td>\n",
       "      <td>lbs</td>\n",
       "      <td>0.99</td>\n",
       "      <td>02/27/23</td>\n",
       "      <td>FoodMaxx</td>\n",
       "      <td>1750341</td>\n",
       "    </tr>\n",
       "    <tr>\n",
       "      <th>2</th>\n",
       "      <td>Oranges, Navel</td>\n",
       "      <td>1</td>\n",
       "      <td>lbs</td>\n",
       "      <td>0.99</td>\n",
       "      <td>02/27/23</td>\n",
       "      <td>FoodMaxx</td>\n",
       "      <td>746771</td>\n",
       "    </tr>\n",
       "    <tr>\n",
       "      <th>3</th>\n",
       "      <td>Blueberries</td>\n",
       "      <td>6</td>\n",
       "      <td>oz</td>\n",
       "      <td>3.49</td>\n",
       "      <td>02/27/23</td>\n",
       "      <td>FoodMaxx</td>\n",
       "      <td>2346411</td>\n",
       "    </tr>\n",
       "    <tr>\n",
       "      <th>4</th>\n",
       "      <td>Raspberries</td>\n",
       "      <td>1</td>\n",
       "      <td>lbs</td>\n",
       "      <td>4.99</td>\n",
       "      <td>02/27/23</td>\n",
       "      <td>FoodMaxx</td>\n",
       "      <td>2346410</td>\n",
       "    </tr>\n",
       "    <tr>\n",
       "      <th>5</th>\n",
       "      <td>Grapes, green, seedless</td>\n",
       "      <td>1</td>\n",
       "      <td>lbs</td>\n",
       "      <td>2.99</td>\n",
       "      <td>02/27/23</td>\n",
       "      <td>FoodMaxx</td>\n",
       "      <td>2346413</td>\n",
       "    </tr>\n",
       "    <tr>\n",
       "      <th>6</th>\n",
       "      <td>Strawberries</td>\n",
       "      <td>1</td>\n",
       "      <td>lbs</td>\n",
       "      <td>6.99</td>\n",
       "      <td>02/27/23</td>\n",
       "      <td>FoodMaxx</td>\n",
       "      <td>167762</td>\n",
       "    </tr>\n",
       "    <tr>\n",
       "      <th>7</th>\n",
       "      <td>Lentils, red</td>\n",
       "      <td>1</td>\n",
       "      <td>lbs</td>\n",
       "      <td>1.99</td>\n",
       "      <td>02/27/23</td>\n",
       "      <td>FoodMaxx</td>\n",
       "      <td>174284</td>\n",
       "    </tr>\n",
       "    <tr>\n",
       "      <th>8</th>\n",
       "      <td>Tofu</td>\n",
       "      <td>14</td>\n",
       "      <td>oz</td>\n",
       "      <td>2.99</td>\n",
       "      <td>02/27/23</td>\n",
       "      <td>FoodMaxx</td>\n",
       "      <td>173788</td>\n",
       "    </tr>\n",
       "    <tr>\n",
       "      <th>9</th>\n",
       "      <td>Split peas, dry</td>\n",
       "      <td>1</td>\n",
       "      <td>lbs</td>\n",
       "      <td>1.79</td>\n",
       "      <td>02/27/23</td>\n",
       "      <td>FoodMaxx</td>\n",
       "      <td>172428</td>\n",
       "    </tr>\n",
       "    <tr>\n",
       "      <th>10</th>\n",
       "      <td>Chickpeas, canned</td>\n",
       "      <td>1</td>\n",
       "      <td>lbs</td>\n",
       "      <td>0.79</td>\n",
       "      <td>02/27/23</td>\n",
       "      <td>FoodMaxx</td>\n",
       "      <td>173800</td>\n",
       "    </tr>\n",
       "    <tr>\n",
       "      <th>11</th>\n",
       "      <td>Quinoa, dry</td>\n",
       "      <td>1</td>\n",
       "      <td>lbs</td>\n",
       "      <td>4.99</td>\n",
       "      <td>02/27/23</td>\n",
       "      <td>FoodMaxx</td>\n",
       "      <td>168874</td>\n",
       "    </tr>\n",
       "    <tr>\n",
       "      <th>12</th>\n",
       "      <td>Hummus</td>\n",
       "      <td>10</td>\n",
       "      <td>oz</td>\n",
       "      <td>3.99</td>\n",
       "      <td>02/27/23</td>\n",
       "      <td>FoodMaxx</td>\n",
       "      <td>174289</td>\n",
       "    </tr>\n",
       "    <tr>\n",
       "      <th>13</th>\n",
       "      <td>Black beans, canned</td>\n",
       "      <td>15</td>\n",
       "      <td>oz</td>\n",
       "      <td>1.19</td>\n",
       "      <td>02/27/23</td>\n",
       "      <td>FoodMaxx</td>\n",
       "      <td>175238</td>\n",
       "    </tr>\n",
       "    <tr>\n",
       "      <th>14</th>\n",
       "      <td>Tomato, Roma</td>\n",
       "      <td>1</td>\n",
       "      <td>lbs</td>\n",
       "      <td>1.39</td>\n",
       "      <td>02/27/23</td>\n",
       "      <td>FoodMaxx</td>\n",
       "      <td>1999634</td>\n",
       "    </tr>\n",
       "    <tr>\n",
       "      <th>15</th>\n",
       "      <td>Broccoli</td>\n",
       "      <td>1</td>\n",
       "      <td>lbs</td>\n",
       "      <td>1.89</td>\n",
       "      <td>02/27/23</td>\n",
       "      <td>FoodMaxx</td>\n",
       "      <td>539572</td>\n",
       "    </tr>\n",
       "    <tr>\n",
       "      <th>16</th>\n",
       "      <td>Kale</td>\n",
       "      <td>8</td>\n",
       "      <td>oz</td>\n",
       "      <td>1.29</td>\n",
       "      <td>02/27/23</td>\n",
       "      <td>FoodMaxx</td>\n",
       "      <td>1103116</td>\n",
       "    </tr>\n",
       "    <tr>\n",
       "      <th>17</th>\n",
       "      <td>Green beans, raw</td>\n",
       "      <td>12</td>\n",
       "      <td>oz</td>\n",
       "      <td>3.29</td>\n",
       "      <td>02/27/23</td>\n",
       "      <td>FoodMaxx</td>\n",
       "      <td>2346400</td>\n",
       "    </tr>\n",
       "    <tr>\n",
       "      <th>18</th>\n",
       "      <td>Onions, yellow</td>\n",
       "      <td>5</td>\n",
       "      <td>lbs</td>\n",
       "      <td>4.69</td>\n",
       "      <td>02/27/23</td>\n",
       "      <td>FoodMaxx</td>\n",
       "      <td>790646</td>\n",
       "    </tr>\n",
       "    <tr>\n",
       "      <th>19</th>\n",
       "      <td>Celery</td>\n",
       "      <td>1</td>\n",
       "      <td>lbs</td>\n",
       "      <td>1.29</td>\n",
       "      <td>02/27/23</td>\n",
       "      <td>FoodMaxx</td>\n",
       "      <td>2346405</td>\n",
       "    </tr>\n",
       "    <tr>\n",
       "      <th>20</th>\n",
       "      <td>Potato, Russet</td>\n",
       "      <td>1</td>\n",
       "      <td>lbs</td>\n",
       "      <td>1.89</td>\n",
       "      <td>02/27/23</td>\n",
       "      <td>FoodMaxx</td>\n",
       "      <td>2060240</td>\n",
       "    </tr>\n",
       "    <tr>\n",
       "      <th>21</th>\n",
       "      <td>Carrot</td>\n",
       "      <td>1</td>\n",
       "      <td>lbs</td>\n",
       "      <td>0.69</td>\n",
       "      <td>02/27/23</td>\n",
       "      <td>FoodMaxx</td>\n",
       "      <td>1103193</td>\n",
       "    </tr>\n",
       "    <tr>\n",
       "      <th>22</th>\n",
       "      <td>Cucumber</td>\n",
       "      <td>8</td>\n",
       "      <td>oz</td>\n",
       "      <td>0.79</td>\n",
       "      <td>02/27/23</td>\n",
       "      <td>FoodMaxx</td>\n",
       "      <td>2346406</td>\n",
       "    </tr>\n",
       "    <tr>\n",
       "      <th>23</th>\n",
       "      <td>Avocado</td>\n",
       "      <td>5</td>\n",
       "      <td>oz</td>\n",
       "      <td>0.50</td>\n",
       "      <td>02/27/23</td>\n",
       "      <td>FoodMaxx</td>\n",
       "      <td>815990</td>\n",
       "    </tr>\n",
       "    <tr>\n",
       "      <th>24</th>\n",
       "      <td>Lettuce, Romaine</td>\n",
       "      <td>1</td>\n",
       "      <td>lbs</td>\n",
       "      <td>3.49</td>\n",
       "      <td>02/27/23</td>\n",
       "      <td>FoodMaxx</td>\n",
       "      <td>169247</td>\n",
       "    </tr>\n",
       "    <tr>\n",
       "      <th>25</th>\n",
       "      <td>Mushrooms</td>\n",
       "      <td>8</td>\n",
       "      <td>oz</td>\n",
       "      <td>2.99</td>\n",
       "      <td>02/27/23</td>\n",
       "      <td>FoodMaxx</td>\n",
       "      <td>1999629</td>\n",
       "    </tr>\n",
       "    <tr>\n",
       "      <th>26</th>\n",
       "      <td>Spinach</td>\n",
       "      <td>8</td>\n",
       "      <td>oz</td>\n",
       "      <td>2.49</td>\n",
       "      <td>02/27/23</td>\n",
       "      <td>FoodMaxx</td>\n",
       "      <td>1999632</td>\n",
       "    </tr>\n",
       "    <tr>\n",
       "      <th>27</th>\n",
       "      <td>Rice, White</td>\n",
       "      <td>2</td>\n",
       "      <td>lbs</td>\n",
       "      <td>4.59</td>\n",
       "      <td>02/27/23</td>\n",
       "      <td>FoodMaxx</td>\n",
       "      <td>168931</td>\n",
       "    </tr>\n",
       "    <tr>\n",
       "      <th>28</th>\n",
       "      <td>Tortillas, corn</td>\n",
       "      <td>30</td>\n",
       "      <td>oz</td>\n",
       "      <td>2.79</td>\n",
       "      <td>02/27/23</td>\n",
       "      <td>FoodMaxx</td>\n",
       "      <td>167535</td>\n",
       "    </tr>\n",
       "    <tr>\n",
       "      <th>29</th>\n",
       "      <td>Oats, rolled</td>\n",
       "      <td>42</td>\n",
       "      <td>oz</td>\n",
       "      <td>3.99</td>\n",
       "      <td>02/27/23</td>\n",
       "      <td>FoodMaxx</td>\n",
       "      <td>2346396</td>\n",
       "    </tr>\n",
       "    <tr>\n",
       "      <th>30</th>\n",
       "      <td>Soy milk, unsweetened</td>\n",
       "      <td>32</td>\n",
       "      <td>oz</td>\n",
       "      <td>2.69</td>\n",
       "      <td>02/27/23</td>\n",
       "      <td>FoodMaxx</td>\n",
       "      <td>1999630</td>\n",
       "    </tr>\n",
       "    <tr>\n",
       "      <th>31</th>\n",
       "      <td>Peanut butter, creamy</td>\n",
       "      <td>16</td>\n",
       "      <td>oz</td>\n",
       "      <td>2.79</td>\n",
       "      <td>02/27/23</td>\n",
       "      <td>FoodMaxx</td>\n",
       "      <td>2262072</td>\n",
       "    </tr>\n",
       "    <tr>\n",
       "      <th>32</th>\n",
       "      <td>Rice, Brown</td>\n",
       "      <td>28</td>\n",
       "      <td>oz</td>\n",
       "      <td>2.99</td>\n",
       "      <td>02/27/23</td>\n",
       "      <td>FoodMaxx</td>\n",
       "      <td>169706</td>\n",
       "    </tr>\n",
       "    <tr>\n",
       "      <th>33</th>\n",
       "      <td>Spaghetti, dry</td>\n",
       "      <td>1</td>\n",
       "      <td>lbs</td>\n",
       "      <td>1.69</td>\n",
       "      <td>02/27/23</td>\n",
       "      <td>FoodMaxx</td>\n",
       "      <td>168927</td>\n",
       "    </tr>\n",
       "  </tbody>\n",
       "</table>\n",
       "</div>"
      ],
      "text/plain": [
       "                       Food  Quantity Units  Price      Date  Location  \\\n",
       "0                Banana,raw         1   lbs   0.69  02/27/23  FoodMaxx   \n",
       "1               Apple, Gala         1   lbs   0.99  02/27/23  FoodMaxx   \n",
       "2            Oranges, Navel         1   lbs   0.99  02/27/23  FoodMaxx   \n",
       "3               Blueberries         6    oz   3.49  02/27/23  FoodMaxx   \n",
       "4               Raspberries         1   lbs   4.99  02/27/23  FoodMaxx   \n",
       "5   Grapes, green, seedless         1   lbs   2.99  02/27/23  FoodMaxx   \n",
       "6              Strawberries         1   lbs   6.99  02/27/23  FoodMaxx   \n",
       "7              Lentils, red         1   lbs   1.99  02/27/23  FoodMaxx   \n",
       "8                      Tofu        14    oz   2.99  02/27/23  FoodMaxx   \n",
       "9           Split peas, dry         1   lbs   1.79  02/27/23  FoodMaxx   \n",
       "10        Chickpeas, canned         1   lbs   0.79  02/27/23  FoodMaxx   \n",
       "11              Quinoa, dry         1   lbs   4.99  02/27/23  FoodMaxx   \n",
       "12                   Hummus        10    oz   3.99  02/27/23  FoodMaxx   \n",
       "13      Black beans, canned        15    oz   1.19  02/27/23  FoodMaxx   \n",
       "14             Tomato, Roma         1   lbs   1.39  02/27/23  FoodMaxx   \n",
       "15                 Broccoli         1   lbs   1.89  02/27/23  FoodMaxx   \n",
       "16                     Kale         8    oz   1.29  02/27/23  FoodMaxx   \n",
       "17         Green beans, raw        12    oz   3.29  02/27/23  FoodMaxx   \n",
       "18           Onions, yellow         5   lbs   4.69  02/27/23  FoodMaxx   \n",
       "19                   Celery         1   lbs   1.29  02/27/23  FoodMaxx   \n",
       "20           Potato, Russet         1   lbs   1.89  02/27/23  FoodMaxx   \n",
       "21                   Carrot         1   lbs   0.69  02/27/23  FoodMaxx   \n",
       "22                 Cucumber         8    oz   0.79  02/27/23  FoodMaxx   \n",
       "23                  Avocado         5    oz   0.50  02/27/23  FoodMaxx   \n",
       "24         Lettuce, Romaine         1   lbs   3.49  02/27/23  FoodMaxx   \n",
       "25                Mushrooms         8    oz   2.99  02/27/23  FoodMaxx   \n",
       "26                  Spinach         8    oz   2.49  02/27/23  FoodMaxx   \n",
       "27              Rice, White         2   lbs   4.59  02/27/23  FoodMaxx   \n",
       "28          Tortillas, corn        30    oz   2.79  02/27/23  FoodMaxx   \n",
       "29             Oats, rolled        42    oz   3.99  02/27/23  FoodMaxx   \n",
       "30    Soy milk, unsweetened        32    oz   2.69  02/27/23  FoodMaxx   \n",
       "31    Peanut butter, creamy        16    oz   2.79  02/27/23  FoodMaxx   \n",
       "32              Rice, Brown        28    oz   2.99  02/27/23  FoodMaxx   \n",
       "33           Spaghetti, dry         1   lbs   1.69  02/27/23  FoodMaxx   \n",
       "\n",
       "        FDC  \n",
       "0   1105073  \n",
       "1   1750341  \n",
       "2    746771  \n",
       "3   2346411  \n",
       "4   2346410  \n",
       "5   2346413  \n",
       "6    167762  \n",
       "7    174284  \n",
       "8    173788  \n",
       "9    172428  \n",
       "10   173800  \n",
       "11   168874  \n",
       "12   174289  \n",
       "13   175238  \n",
       "14  1999634  \n",
       "15   539572  \n",
       "16  1103116  \n",
       "17  2346400  \n",
       "18   790646  \n",
       "19  2346405  \n",
       "20  2060240  \n",
       "21  1103193  \n",
       "22  2346406  \n",
       "23   815990  \n",
       "24   169247  \n",
       "25  1999629  \n",
       "26  1999632  \n",
       "27   168931  \n",
       "28   167535  \n",
       "29  2346396  \n",
       "30  1999630  \n",
       "31  2262072  \n",
       "32   169706  \n",
       "33   168927  "
      ]
     },
     "execution_count": 9,
     "metadata": {},
     "output_type": "execute_result"
    }
   ],
   "source": [
    "import pandas as pd\n",
    "from eep153_tools.sheets import read_sheets\n",
    "\n",
    "foodmaxxdf = read_sheets('https://docs.google.com/spreadsheets/d/1dZW1_vvjZwcAfxfHiAkjqrLEpFbFsZ4s7_MzTG6Ezu0/edit#gid=0',sheet='Food Max')\n",
    "foodmaxxdf"
   ]
  },
  {
   "cell_type": "markdown",
   "metadata": {},
   "source": [
    "## Target Price List\n"
   ]
  },
  {
   "cell_type": "code",
   "execution_count": 10,
   "metadata": {},
   "outputs": [
    {
     "name": "stdout",
     "output_type": "stream",
     "text": [
      "Key available for students@eep153.iam.gserviceaccount.com.\n"
     ]
    },
    {
     "data": {
      "text/html": [
       "<div>\n",
       "<style scoped>\n",
       "    .dataframe tbody tr th:only-of-type {\n",
       "        vertical-align: middle;\n",
       "    }\n",
       "\n",
       "    .dataframe tbody tr th {\n",
       "        vertical-align: top;\n",
       "    }\n",
       "\n",
       "    .dataframe thead th {\n",
       "        text-align: right;\n",
       "    }\n",
       "</style>\n",
       "<table border=\"1\" class=\"dataframe\">\n",
       "  <thead>\n",
       "    <tr style=\"text-align: right;\">\n",
       "      <th></th>\n",
       "      <th>Food</th>\n",
       "      <th>Quantity</th>\n",
       "      <th>Units</th>\n",
       "      <th>Price</th>\n",
       "      <th>Date</th>\n",
       "      <th>Location</th>\n",
       "      <th>FDC</th>\n",
       "      <th>notes</th>\n",
       "    </tr>\n",
       "  </thead>\n",
       "  <tbody>\n",
       "    <tr>\n",
       "      <th>0</th>\n",
       "      <td>Banana,raw</td>\n",
       "      <td>2.00</td>\n",
       "      <td>lbs</td>\n",
       "      <td>1.99</td>\n",
       "      <td>02/27/23</td>\n",
       "      <td>Target</td>\n",
       "      <td>1105314</td>\n",
       "      <td>organic</td>\n",
       "    </tr>\n",
       "    <tr>\n",
       "      <th>1</th>\n",
       "      <td>Apple, Gala</td>\n",
       "      <td>0.66</td>\n",
       "      <td>lbs</td>\n",
       "      <td>5.99</td>\n",
       "      <td>02/27/23</td>\n",
       "      <td>Target</td>\n",
       "      <td>1750341</td>\n",
       "      <td>organic</td>\n",
       "    </tr>\n",
       "    <tr>\n",
       "      <th>2</th>\n",
       "      <td>Oranges, Navel</td>\n",
       "      <td>4.00</td>\n",
       "      <td>lbs</td>\n",
       "      <td>5.99</td>\n",
       "      <td>02/27/23</td>\n",
       "      <td>Target</td>\n",
       "      <td>746771</td>\n",
       "      <td></td>\n",
       "    </tr>\n",
       "    <tr>\n",
       "      <th>3</th>\n",
       "      <td>Blueberries</td>\n",
       "      <td>11.20</td>\n",
       "      <td>oz</td>\n",
       "      <td>3.59</td>\n",
       "      <td>02/27/23</td>\n",
       "      <td>Target</td>\n",
       "      <td>2346411</td>\n",
       "      <td></td>\n",
       "    </tr>\n",
       "    <tr>\n",
       "      <th>4</th>\n",
       "      <td>Raspberries</td>\n",
       "      <td>12.00</td>\n",
       "      <td>oz</td>\n",
       "      <td>8.29</td>\n",
       "      <td>02/27/23</td>\n",
       "      <td>Target</td>\n",
       "      <td>2346410</td>\n",
       "      <td></td>\n",
       "    </tr>\n",
       "    <tr>\n",
       "      <th>5</th>\n",
       "      <td>Grapes, green, seedless</td>\n",
       "      <td>1.50</td>\n",
       "      <td>lb</td>\n",
       "      <td>4.29</td>\n",
       "      <td>02/27/23</td>\n",
       "      <td>Target</td>\n",
       "      <td>2346413</td>\n",
       "      <td></td>\n",
       "    </tr>\n",
       "    <tr>\n",
       "      <th>6</th>\n",
       "      <td>Strawberries</td>\n",
       "      <td>1.00</td>\n",
       "      <td>lb</td>\n",
       "      <td>3.49</td>\n",
       "      <td>02/27/23</td>\n",
       "      <td>Target</td>\n",
       "      <td>167762</td>\n",
       "      <td></td>\n",
       "    </tr>\n",
       "    <tr>\n",
       "      <th>7</th>\n",
       "      <td>Lentils, red</td>\n",
       "      <td>1.00</td>\n",
       "      <td>lb</td>\n",
       "      <td>1.59</td>\n",
       "      <td>02/27/23</td>\n",
       "      <td>Target</td>\n",
       "      <td>174284</td>\n",
       "      <td>green</td>\n",
       "    </tr>\n",
       "    <tr>\n",
       "      <th>8</th>\n",
       "      <td>Tofu</td>\n",
       "      <td>14.00</td>\n",
       "      <td>oz</td>\n",
       "      <td>3.29</td>\n",
       "      <td>02/27/23</td>\n",
       "      <td>Target</td>\n",
       "      <td>173788</td>\n",
       "      <td></td>\n",
       "    </tr>\n",
       "    <tr>\n",
       "      <th>9</th>\n",
       "      <td>Split peas, dry</td>\n",
       "      <td>1.00</td>\n",
       "      <td>lb</td>\n",
       "      <td>1.39</td>\n",
       "      <td>02/27/23</td>\n",
       "      <td>Target</td>\n",
       "      <td>172428</td>\n",
       "      <td></td>\n",
       "    </tr>\n",
       "    <tr>\n",
       "      <th>10</th>\n",
       "      <td>Chickpeas, canned</td>\n",
       "      <td>15.50</td>\n",
       "      <td>oz</td>\n",
       "      <td>0.85</td>\n",
       "      <td>02/27/23</td>\n",
       "      <td>Target</td>\n",
       "      <td>173800</td>\n",
       "      <td></td>\n",
       "    </tr>\n",
       "    <tr>\n",
       "      <th>11</th>\n",
       "      <td>Quinoa, dry</td>\n",
       "      <td>48.00</td>\n",
       "      <td>oz</td>\n",
       "      <td>9.69</td>\n",
       "      <td>02/27/23</td>\n",
       "      <td>Target</td>\n",
       "      <td>168874</td>\n",
       "      <td>organic</td>\n",
       "    </tr>\n",
       "    <tr>\n",
       "      <th>12</th>\n",
       "      <td>Hummus</td>\n",
       "      <td>10.00</td>\n",
       "      <td>oz</td>\n",
       "      <td>3.49</td>\n",
       "      <td>02/27/23</td>\n",
       "      <td>Target</td>\n",
       "      <td>174289</td>\n",
       "      <td></td>\n",
       "    </tr>\n",
       "    <tr>\n",
       "      <th>13</th>\n",
       "      <td>Black beans, canned</td>\n",
       "      <td>15.50</td>\n",
       "      <td>oz</td>\n",
       "      <td>0.85</td>\n",
       "      <td>02/27/23</td>\n",
       "      <td>Target</td>\n",
       "      <td>175238</td>\n",
       "      <td></td>\n",
       "    </tr>\n",
       "    <tr>\n",
       "      <th>14</th>\n",
       "      <td>Tomato, Roma</td>\n",
       "      <td>16.00</td>\n",
       "      <td>oz</td>\n",
       "      <td>1.99</td>\n",
       "      <td>02/27/23</td>\n",
       "      <td>Target</td>\n",
       "      <td>1999634</td>\n",
       "      <td></td>\n",
       "    </tr>\n",
       "    <tr>\n",
       "      <th>15</th>\n",
       "      <td>Broccoli</td>\n",
       "      <td>12.00</td>\n",
       "      <td>oz</td>\n",
       "      <td>2.99</td>\n",
       "      <td>02/27/23</td>\n",
       "      <td>Target</td>\n",
       "      <td>539572</td>\n",
       "      <td></td>\n",
       "    </tr>\n",
       "    <tr>\n",
       "      <th>16</th>\n",
       "      <td>Kale</td>\n",
       "      <td>16.00</td>\n",
       "      <td>oz</td>\n",
       "      <td>3.49</td>\n",
       "      <td>02/27/23</td>\n",
       "      <td>Target</td>\n",
       "      <td>1103116</td>\n",
       "      <td></td>\n",
       "    </tr>\n",
       "    <tr>\n",
       "      <th>17</th>\n",
       "      <td>Green beans, raw</td>\n",
       "      <td>12.00</td>\n",
       "      <td>oz</td>\n",
       "      <td>2.99</td>\n",
       "      <td>02/27/23</td>\n",
       "      <td>Target</td>\n",
       "      <td>2346400</td>\n",
       "      <td></td>\n",
       "    </tr>\n",
       "    <tr>\n",
       "      <th>18</th>\n",
       "      <td>Onions, yellow</td>\n",
       "      <td>2.00</td>\n",
       "      <td>lb</td>\n",
       "      <td>3.49</td>\n",
       "      <td>02/27/23</td>\n",
       "      <td>Target</td>\n",
       "      <td>790646</td>\n",
       "      <td></td>\n",
       "    </tr>\n",
       "    <tr>\n",
       "      <th>19</th>\n",
       "      <td>Celery</td>\n",
       "      <td>20.00</td>\n",
       "      <td>oz</td>\n",
       "      <td>3.19</td>\n",
       "      <td>02/27/23</td>\n",
       "      <td>Target</td>\n",
       "      <td>2346405</td>\n",
       "      <td></td>\n",
       "    </tr>\n",
       "    <tr>\n",
       "      <th>20</th>\n",
       "      <td>Potato, Russet</td>\n",
       "      <td>5.00</td>\n",
       "      <td>lb</td>\n",
       "      <td>4.39</td>\n",
       "      <td>02/27/23</td>\n",
       "      <td>Target</td>\n",
       "      <td>2060240</td>\n",
       "      <td></td>\n",
       "    </tr>\n",
       "    <tr>\n",
       "      <th>21</th>\n",
       "      <td>Carrot</td>\n",
       "      <td>1.00</td>\n",
       "      <td>lb</td>\n",
       "      <td>1.29</td>\n",
       "      <td>02/27/23</td>\n",
       "      <td>Target</td>\n",
       "      <td>170393</td>\n",
       "      <td></td>\n",
       "    </tr>\n",
       "    <tr>\n",
       "      <th>22</th>\n",
       "      <td>Cucumber</td>\n",
       "      <td>16.00</td>\n",
       "      <td>oz</td>\n",
       "      <td>2.69</td>\n",
       "      <td>02/27/23</td>\n",
       "      <td>Target</td>\n",
       "      <td>2346406</td>\n",
       "      <td></td>\n",
       "    </tr>\n",
       "    <tr>\n",
       "      <th>23</th>\n",
       "      <td>Avocado</td>\n",
       "      <td>32.00</td>\n",
       "      <td>oz</td>\n",
       "      <td>3.29</td>\n",
       "      <td>02/27/23</td>\n",
       "      <td>Target</td>\n",
       "      <td>171705</td>\n",
       "      <td></td>\n",
       "    </tr>\n",
       "    <tr>\n",
       "      <th>24</th>\n",
       "      <td>Lettuce, Romaine</td>\n",
       "      <td>22.00</td>\n",
       "      <td>oz</td>\n",
       "      <td>4.29</td>\n",
       "      <td>02/27/23</td>\n",
       "      <td>Target</td>\n",
       "      <td>169247</td>\n",
       "      <td></td>\n",
       "    </tr>\n",
       "    <tr>\n",
       "      <th>25</th>\n",
       "      <td>Mushrooms</td>\n",
       "      <td>8.00</td>\n",
       "      <td>oz</td>\n",
       "      <td>2.19</td>\n",
       "      <td>02/27/23</td>\n",
       "      <td>Target</td>\n",
       "      <td>1999629</td>\n",
       "      <td></td>\n",
       "    </tr>\n",
       "    <tr>\n",
       "      <th>26</th>\n",
       "      <td>Spinach</td>\n",
       "      <td>9.00</td>\n",
       "      <td>oz</td>\n",
       "      <td>2.29</td>\n",
       "      <td>02/27/23</td>\n",
       "      <td>Target</td>\n",
       "      <td>1999632</td>\n",
       "      <td></td>\n",
       "    </tr>\n",
       "    <tr>\n",
       "      <th>27</th>\n",
       "      <td>Rice, White</td>\n",
       "      <td>32.00</td>\n",
       "      <td>oz</td>\n",
       "      <td>2.19</td>\n",
       "      <td>02/27/23</td>\n",
       "      <td>Target</td>\n",
       "      <td>168931</td>\n",
       "      <td></td>\n",
       "    </tr>\n",
       "    <tr>\n",
       "      <th>28</th>\n",
       "      <td>Tortillas, corn</td>\n",
       "      <td>25.00</td>\n",
       "      <td>oz</td>\n",
       "      <td>2.99</td>\n",
       "      <td>02/27/23</td>\n",
       "      <td>Target</td>\n",
       "      <td>167535</td>\n",
       "      <td></td>\n",
       "    </tr>\n",
       "    <tr>\n",
       "      <th>29</th>\n",
       "      <td>Oats, rolled</td>\n",
       "      <td>42.00</td>\n",
       "      <td>oz</td>\n",
       "      <td>4.19</td>\n",
       "      <td>02/27/23</td>\n",
       "      <td>Target</td>\n",
       "      <td>2346396</td>\n",
       "      <td></td>\n",
       "    </tr>\n",
       "    <tr>\n",
       "      <th>30</th>\n",
       "      <td>Soy milk, unsweetened</td>\n",
       "      <td>64.00</td>\n",
       "      <td>oz</td>\n",
       "      <td>3.99</td>\n",
       "      <td>02/27/23</td>\n",
       "      <td>Target</td>\n",
       "      <td>1999630</td>\n",
       "      <td></td>\n",
       "    </tr>\n",
       "    <tr>\n",
       "      <th>31</th>\n",
       "      <td>Peanut butter, creamy</td>\n",
       "      <td>16.00</td>\n",
       "      <td>oz</td>\n",
       "      <td>1.79</td>\n",
       "      <td>02/27/23</td>\n",
       "      <td>Target</td>\n",
       "      <td>2262072</td>\n",
       "      <td></td>\n",
       "    </tr>\n",
       "    <tr>\n",
       "      <th>32</th>\n",
       "      <td>Rice, Brown</td>\n",
       "      <td>1.00</td>\n",
       "      <td>lb</td>\n",
       "      <td>1.19</td>\n",
       "      <td>02/27/23</td>\n",
       "      <td>Target</td>\n",
       "      <td>169706</td>\n",
       "      <td></td>\n",
       "    </tr>\n",
       "    <tr>\n",
       "      <th>33</th>\n",
       "      <td>Spaghetti, dry</td>\n",
       "      <td>16.00</td>\n",
       "      <td>oz</td>\n",
       "      <td>0.99</td>\n",
       "      <td>02/27/23</td>\n",
       "      <td>Target</td>\n",
       "      <td>168927</td>\n",
       "      <td></td>\n",
       "    </tr>\n",
       "  </tbody>\n",
       "</table>\n",
       "</div>"
      ],
      "text/plain": [
       "                       Food  Quantity Units  Price      Date Location  \\\n",
       "0                Banana,raw      2.00   lbs   1.99  02/27/23   Target   \n",
       "1               Apple, Gala      0.66   lbs   5.99  02/27/23   Target   \n",
       "2            Oranges, Navel      4.00   lbs   5.99  02/27/23   Target   \n",
       "3               Blueberries     11.20    oz   3.59  02/27/23   Target   \n",
       "4               Raspberries     12.00    oz   8.29  02/27/23   Target   \n",
       "5   Grapes, green, seedless      1.50    lb   4.29  02/27/23   Target   \n",
       "6              Strawberries      1.00    lb   3.49  02/27/23   Target   \n",
       "7              Lentils, red      1.00    lb   1.59  02/27/23   Target   \n",
       "8                      Tofu     14.00    oz   3.29  02/27/23   Target   \n",
       "9           Split peas, dry      1.00    lb   1.39  02/27/23   Target   \n",
       "10        Chickpeas, canned     15.50    oz   0.85  02/27/23   Target   \n",
       "11              Quinoa, dry     48.00    oz   9.69  02/27/23   Target   \n",
       "12                   Hummus     10.00    oz   3.49  02/27/23   Target   \n",
       "13      Black beans, canned     15.50    oz   0.85  02/27/23   Target   \n",
       "14             Tomato, Roma     16.00    oz   1.99  02/27/23   Target   \n",
       "15                 Broccoli     12.00    oz   2.99  02/27/23   Target   \n",
       "16                     Kale     16.00    oz   3.49  02/27/23   Target   \n",
       "17         Green beans, raw     12.00    oz   2.99  02/27/23   Target   \n",
       "18           Onions, yellow      2.00    lb   3.49  02/27/23   Target   \n",
       "19                   Celery     20.00    oz   3.19  02/27/23   Target   \n",
       "20           Potato, Russet      5.00    lb   4.39  02/27/23   Target   \n",
       "21                   Carrot      1.00    lb   1.29  02/27/23   Target   \n",
       "22                 Cucumber     16.00    oz   2.69  02/27/23   Target   \n",
       "23                  Avocado     32.00    oz   3.29  02/27/23   Target   \n",
       "24         Lettuce, Romaine     22.00    oz   4.29  02/27/23   Target   \n",
       "25                Mushrooms      8.00    oz   2.19  02/27/23   Target   \n",
       "26                  Spinach      9.00    oz   2.29  02/27/23   Target   \n",
       "27              Rice, White     32.00    oz   2.19  02/27/23   Target   \n",
       "28          Tortillas, corn     25.00    oz   2.99  02/27/23   Target   \n",
       "29             Oats, rolled     42.00    oz   4.19  02/27/23   Target   \n",
       "30    Soy milk, unsweetened     64.00    oz   3.99  02/27/23   Target   \n",
       "31    Peanut butter, creamy     16.00    oz   1.79  02/27/23   Target   \n",
       "32              Rice, Brown      1.00    lb   1.19  02/27/23   Target   \n",
       "33           Spaghetti, dry     16.00    oz   0.99  02/27/23   Target   \n",
       "\n",
       "        FDC    notes  \n",
       "0   1105314  organic  \n",
       "1   1750341  organic  \n",
       "2    746771           \n",
       "3   2346411           \n",
       "4   2346410           \n",
       "5   2346413           \n",
       "6    167762           \n",
       "7    174284    green  \n",
       "8    173788           \n",
       "9    172428           \n",
       "10   173800           \n",
       "11   168874  organic  \n",
       "12   174289           \n",
       "13   175238           \n",
       "14  1999634           \n",
       "15   539572           \n",
       "16  1103116           \n",
       "17  2346400           \n",
       "18   790646           \n",
       "19  2346405           \n",
       "20  2060240           \n",
       "21   170393           \n",
       "22  2346406           \n",
       "23   171705           \n",
       "24   169247           \n",
       "25  1999629           \n",
       "26  1999632           \n",
       "27   168931           \n",
       "28   167535           \n",
       "29  2346396           \n",
       "30  1999630           \n",
       "31  2262072           \n",
       "32   169706           \n",
       "33   168927           "
      ]
     },
     "execution_count": 10,
     "metadata": {},
     "output_type": "execute_result"
    }
   ],
   "source": [
    "import pandas as pd\n",
    "from eep153_tools.sheets import read_sheets\n",
    "\n",
    "targetdf = read_sheets('https://docs.google.com/spreadsheets/d/1dZW1_vvjZwcAfxfHiAkjqrLEpFbFsZ4s7_MzTG6Ezu0/edit#gid=0',sheet='Target')\n",
    "targetdf"
   ]
  },
  {
   "cell_type": "markdown",
   "metadata": {},
   "source": [
    "### Look up nutritional information for foods\n",
    "\n"
   ]
  },
  {
   "cell_type": "markdown",
   "metadata": {},
   "source": [
    "Now we have a list of foods with prices. For the remainder of this code, we will be using data from Trader Joes. Do lookups on USDA database\n",
    "to get nutritional information.\n",
    "\n"
   ]
  },
  {
   "cell_type": "code",
   "execution_count": 11,
   "metadata": {},
   "outputs": [
    {
     "data": {
      "text/html": [
       "<div>\n",
       "<style scoped>\n",
       "    .dataframe tbody tr th:only-of-type {\n",
       "        vertical-align: middle;\n",
       "    }\n",
       "\n",
       "    .dataframe tbody tr th {\n",
       "        vertical-align: top;\n",
       "    }\n",
       "\n",
       "    .dataframe thead th {\n",
       "        text-align: right;\n",
       "    }\n",
       "</style>\n",
       "<table border=\"1\" class=\"dataframe\">\n",
       "  <thead>\n",
       "    <tr style=\"text-align: right;\">\n",
       "      <th></th>\n",
       "      <th>Banana,raw</th>\n",
       "      <th>Apple, Gala</th>\n",
       "      <th>Oranges, Navel</th>\n",
       "      <th>Blueberries</th>\n",
       "      <th>Raspberries</th>\n",
       "      <th>Grapes, green, seedless</th>\n",
       "      <th>Strawberries</th>\n",
       "      <th>Lentils, red</th>\n",
       "      <th>Tofu</th>\n",
       "      <th>Split peas, dry</th>\n",
       "      <th>...</th>\n",
       "      <th>Lettuce, Romaine</th>\n",
       "      <th>Mushrooms</th>\n",
       "      <th>Spinach</th>\n",
       "      <th>Rice, White</th>\n",
       "      <th>Tortillas, corn</th>\n",
       "      <th>Oats, rolled</th>\n",
       "      <th>Soy milk, unsweetened</th>\n",
       "      <th>Peanut butter, creamy</th>\n",
       "      <th>Rice, Brown</th>\n",
       "      <th>Spaghetti, dry</th>\n",
       "    </tr>\n",
       "  </thead>\n",
       "  <tbody>\n",
       "    <tr>\n",
       "      <th>Ergosta-5,7-dienol</th>\n",
       "      <td>0.0</td>\n",
       "      <td>0.0</td>\n",
       "      <td>0.000</td>\n",
       "      <td>0.0</td>\n",
       "      <td>0.0</td>\n",
       "      <td>0.0</td>\n",
       "      <td>0.000</td>\n",
       "      <td>0.000</td>\n",
       "      <td>0.0</td>\n",
       "      <td>0.000</td>\n",
       "      <td>...</td>\n",
       "      <td>0.000</td>\n",
       "      <td>5.841</td>\n",
       "      <td>0.0</td>\n",
       "      <td>0.000</td>\n",
       "      <td>0.000</td>\n",
       "      <td>0.0</td>\n",
       "      <td>0.0000</td>\n",
       "      <td>0.00</td>\n",
       "      <td>0.000</td>\n",
       "      <td>0.000</td>\n",
       "    </tr>\n",
       "    <tr>\n",
       "      <th>Ergosta-7,22-dienol</th>\n",
       "      <td>0.0</td>\n",
       "      <td>0.0</td>\n",
       "      <td>0.000</td>\n",
       "      <td>0.0</td>\n",
       "      <td>0.0</td>\n",
       "      <td>0.0</td>\n",
       "      <td>0.000</td>\n",
       "      <td>0.000</td>\n",
       "      <td>0.0</td>\n",
       "      <td>0.000</td>\n",
       "      <td>...</td>\n",
       "      <td>0.000</td>\n",
       "      <td>1.543</td>\n",
       "      <td>0.0</td>\n",
       "      <td>0.000</td>\n",
       "      <td>0.000</td>\n",
       "      <td>0.0</td>\n",
       "      <td>0.0000</td>\n",
       "      <td>0.00</td>\n",
       "      <td>0.000</td>\n",
       "      <td>0.000</td>\n",
       "    </tr>\n",
       "    <tr>\n",
       "      <th>Alanine</th>\n",
       "      <td>0.0</td>\n",
       "      <td>0.0</td>\n",
       "      <td>0.028</td>\n",
       "      <td>0.0</td>\n",
       "      <td>0.0</td>\n",
       "      <td>0.0</td>\n",
       "      <td>0.033</td>\n",
       "      <td>1.042</td>\n",
       "      <td>0.0</td>\n",
       "      <td>1.049</td>\n",
       "      <td>...</td>\n",
       "      <td>0.056</td>\n",
       "      <td>0.000</td>\n",
       "      <td>0.0</td>\n",
       "      <td>0.377</td>\n",
       "      <td>0.215</td>\n",
       "      <td>0.0</td>\n",
       "      <td>0.1394</td>\n",
       "      <td>1.16</td>\n",
       "      <td>0.437</td>\n",
       "      <td>0.438</td>\n",
       "    </tr>\n",
       "    <tr>\n",
       "      <th>Alcohol, ethyl</th>\n",
       "      <td>0.0</td>\n",
       "      <td>0.0</td>\n",
       "      <td>0.000</td>\n",
       "      <td>0.0</td>\n",
       "      <td>0.0</td>\n",
       "      <td>0.0</td>\n",
       "      <td>0.000</td>\n",
       "      <td>0.000</td>\n",
       "      <td>0.0</td>\n",
       "      <td>0.000</td>\n",
       "      <td>...</td>\n",
       "      <td>0.000</td>\n",
       "      <td>0.000</td>\n",
       "      <td>0.0</td>\n",
       "      <td>0.000</td>\n",
       "      <td>0.000</td>\n",
       "      <td>0.0</td>\n",
       "      <td>0.0000</td>\n",
       "      <td>0.00</td>\n",
       "      <td>0.000</td>\n",
       "      <td>0.000</td>\n",
       "    </tr>\n",
       "    <tr>\n",
       "      <th>Amino acids</th>\n",
       "      <td>0.0</td>\n",
       "      <td>0.0</td>\n",
       "      <td>0.000</td>\n",
       "      <td>0.0</td>\n",
       "      <td>0.0</td>\n",
       "      <td>0.0</td>\n",
       "      <td>0.000</td>\n",
       "      <td>0.000</td>\n",
       "      <td>0.0</td>\n",
       "      <td>0.000</td>\n",
       "      <td>...</td>\n",
       "      <td>0.000</td>\n",
       "      <td>0.000</td>\n",
       "      <td>0.0</td>\n",
       "      <td>0.000</td>\n",
       "      <td>0.000</td>\n",
       "      <td>0.0</td>\n",
       "      <td>0.0000</td>\n",
       "      <td>0.00</td>\n",
       "      <td>0.000</td>\n",
       "      <td>0.000</td>\n",
       "    </tr>\n",
       "    <tr>\n",
       "      <th>...</th>\n",
       "      <td>...</td>\n",
       "      <td>...</td>\n",
       "      <td>...</td>\n",
       "      <td>...</td>\n",
       "      <td>...</td>\n",
       "      <td>...</td>\n",
       "      <td>...</td>\n",
       "      <td>...</td>\n",
       "      <td>...</td>\n",
       "      <td>...</td>\n",
       "      <td>...</td>\n",
       "      <td>...</td>\n",
       "      <td>...</td>\n",
       "      <td>...</td>\n",
       "      <td>...</td>\n",
       "      <td>...</td>\n",
       "      <td>...</td>\n",
       "      <td>...</td>\n",
       "      <td>...</td>\n",
       "      <td>...</td>\n",
       "      <td>...</td>\n",
       "    </tr>\n",
       "    <tr>\n",
       "      <th>cis-Lutein/Zeaxanthin</th>\n",
       "      <td>0.0</td>\n",
       "      <td>0.0</td>\n",
       "      <td>0.000</td>\n",
       "      <td>0.0</td>\n",
       "      <td>0.0</td>\n",
       "      <td>0.0</td>\n",
       "      <td>0.000</td>\n",
       "      <td>0.000</td>\n",
       "      <td>0.0</td>\n",
       "      <td>0.000</td>\n",
       "      <td>...</td>\n",
       "      <td>0.000</td>\n",
       "      <td>0.000</td>\n",
       "      <td>0.0</td>\n",
       "      <td>0.000</td>\n",
       "      <td>0.000</td>\n",
       "      <td>0.0</td>\n",
       "      <td>0.9655</td>\n",
       "      <td>0.00</td>\n",
       "      <td>0.000</td>\n",
       "      <td>0.000</td>\n",
       "    </tr>\n",
       "    <tr>\n",
       "      <th>cis-Lycopene</th>\n",
       "      <td>0.0</td>\n",
       "      <td>0.0</td>\n",
       "      <td>0.000</td>\n",
       "      <td>0.0</td>\n",
       "      <td>0.0</td>\n",
       "      <td>0.0</td>\n",
       "      <td>0.000</td>\n",
       "      <td>0.000</td>\n",
       "      <td>0.0</td>\n",
       "      <td>0.000</td>\n",
       "      <td>...</td>\n",
       "      <td>0.000</td>\n",
       "      <td>0.000</td>\n",
       "      <td>0.0</td>\n",
       "      <td>0.000</td>\n",
       "      <td>0.000</td>\n",
       "      <td>0.0</td>\n",
       "      <td>0.0000</td>\n",
       "      <td>0.00</td>\n",
       "      <td>0.000</td>\n",
       "      <td>0.000</td>\n",
       "    </tr>\n",
       "    <tr>\n",
       "      <th>cis-beta-Carotene</th>\n",
       "      <td>1.0</td>\n",
       "      <td>0.0</td>\n",
       "      <td>0.000</td>\n",
       "      <td>0.0</td>\n",
       "      <td>0.0</td>\n",
       "      <td>0.0</td>\n",
       "      <td>0.000</td>\n",
       "      <td>0.000</td>\n",
       "      <td>0.0</td>\n",
       "      <td>0.000</td>\n",
       "      <td>...</td>\n",
       "      <td>0.000</td>\n",
       "      <td>0.000</td>\n",
       "      <td>0.0</td>\n",
       "      <td>0.000</td>\n",
       "      <td>0.000</td>\n",
       "      <td>0.0</td>\n",
       "      <td>0.0000</td>\n",
       "      <td>0.00</td>\n",
       "      <td>0.000</td>\n",
       "      <td>0.000</td>\n",
       "    </tr>\n",
       "    <tr>\n",
       "      <th>trans-Lycopene</th>\n",
       "      <td>0.0</td>\n",
       "      <td>0.0</td>\n",
       "      <td>0.000</td>\n",
       "      <td>0.0</td>\n",
       "      <td>0.0</td>\n",
       "      <td>0.0</td>\n",
       "      <td>0.000</td>\n",
       "      <td>0.000</td>\n",
       "      <td>0.0</td>\n",
       "      <td>0.000</td>\n",
       "      <td>...</td>\n",
       "      <td>0.000</td>\n",
       "      <td>0.000</td>\n",
       "      <td>0.0</td>\n",
       "      <td>0.000</td>\n",
       "      <td>0.000</td>\n",
       "      <td>0.0</td>\n",
       "      <td>0.0000</td>\n",
       "      <td>0.00</td>\n",
       "      <td>0.000</td>\n",
       "      <td>0.000</td>\n",
       "    </tr>\n",
       "    <tr>\n",
       "      <th>trans-beta-Carotene</th>\n",
       "      <td>7.0</td>\n",
       "      <td>0.0</td>\n",
       "      <td>0.000</td>\n",
       "      <td>0.0</td>\n",
       "      <td>0.0</td>\n",
       "      <td>0.0</td>\n",
       "      <td>0.000</td>\n",
       "      <td>0.000</td>\n",
       "      <td>0.0</td>\n",
       "      <td>0.000</td>\n",
       "      <td>...</td>\n",
       "      <td>0.000</td>\n",
       "      <td>0.000</td>\n",
       "      <td>0.0</td>\n",
       "      <td>0.000</td>\n",
       "      <td>0.000</td>\n",
       "      <td>0.0</td>\n",
       "      <td>0.0000</td>\n",
       "      <td>0.00</td>\n",
       "      <td>0.000</td>\n",
       "      <td>0.000</td>\n",
       "    </tr>\n",
       "  </tbody>\n",
       "</table>\n",
       "<p>227 rows × 34 columns</p>\n",
       "</div>"
      ],
      "text/plain": [
       "                        Banana,raw  Apple, Gala  Oranges, Navel  Blueberries  \\\n",
       " Ergosta-5,7-dienol            0.0          0.0           0.000          0.0   \n",
       " Ergosta-7,22-dienol           0.0          0.0           0.000          0.0   \n",
       "Alanine                        0.0          0.0           0.028          0.0   \n",
       "Alcohol, ethyl                 0.0          0.0           0.000          0.0   \n",
       "Amino acids                    0.0          0.0           0.000          0.0   \n",
       "...                            ...          ...             ...          ...   \n",
       "cis-Lutein/Zeaxanthin          0.0          0.0           0.000          0.0   \n",
       "cis-Lycopene                   0.0          0.0           0.000          0.0   \n",
       "cis-beta-Carotene              1.0          0.0           0.000          0.0   \n",
       "trans-Lycopene                 0.0          0.0           0.000          0.0   \n",
       "trans-beta-Carotene            7.0          0.0           0.000          0.0   \n",
       "\n",
       "                       Raspberries  Grapes, green, seedless  Strawberries  \\\n",
       " Ergosta-5,7-dienol            0.0                      0.0         0.000   \n",
       " Ergosta-7,22-dienol           0.0                      0.0         0.000   \n",
       "Alanine                        0.0                      0.0         0.033   \n",
       "Alcohol, ethyl                 0.0                      0.0         0.000   \n",
       "Amino acids                    0.0                      0.0         0.000   \n",
       "...                            ...                      ...           ...   \n",
       "cis-Lutein/Zeaxanthin          0.0                      0.0         0.000   \n",
       "cis-Lycopene                   0.0                      0.0         0.000   \n",
       "cis-beta-Carotene              0.0                      0.0         0.000   \n",
       "trans-Lycopene                 0.0                      0.0         0.000   \n",
       "trans-beta-Carotene            0.0                      0.0         0.000   \n",
       "\n",
       "                       Lentils, red  Tofu  Split peas, dry  ...  \\\n",
       " Ergosta-5,7-dienol           0.000   0.0            0.000  ...   \n",
       " Ergosta-7,22-dienol          0.000   0.0            0.000  ...   \n",
       "Alanine                       1.042   0.0            1.049  ...   \n",
       "Alcohol, ethyl                0.000   0.0            0.000  ...   \n",
       "Amino acids                   0.000   0.0            0.000  ...   \n",
       "...                             ...   ...              ...  ...   \n",
       "cis-Lutein/Zeaxanthin         0.000   0.0            0.000  ...   \n",
       "cis-Lycopene                  0.000   0.0            0.000  ...   \n",
       "cis-beta-Carotene             0.000   0.0            0.000  ...   \n",
       "trans-Lycopene                0.000   0.0            0.000  ...   \n",
       "trans-beta-Carotene           0.000   0.0            0.000  ...   \n",
       "\n",
       "                       Lettuce, Romaine  Mushrooms  Spinach  Rice, White  \\\n",
       " Ergosta-5,7-dienol               0.000      5.841      0.0        0.000   \n",
       " Ergosta-7,22-dienol              0.000      1.543      0.0        0.000   \n",
       "Alanine                           0.056      0.000      0.0        0.377   \n",
       "Alcohol, ethyl                    0.000      0.000      0.0        0.000   \n",
       "Amino acids                       0.000      0.000      0.0        0.000   \n",
       "...                                 ...        ...      ...          ...   \n",
       "cis-Lutein/Zeaxanthin             0.000      0.000      0.0        0.000   \n",
       "cis-Lycopene                      0.000      0.000      0.0        0.000   \n",
       "cis-beta-Carotene                 0.000      0.000      0.0        0.000   \n",
       "trans-Lycopene                    0.000      0.000      0.0        0.000   \n",
       "trans-beta-Carotene               0.000      0.000      0.0        0.000   \n",
       "\n",
       "                       Tortillas, corn  Oats, rolled  Soy milk, unsweetened  \\\n",
       " Ergosta-5,7-dienol              0.000           0.0                 0.0000   \n",
       " Ergosta-7,22-dienol             0.000           0.0                 0.0000   \n",
       "Alanine                          0.215           0.0                 0.1394   \n",
       "Alcohol, ethyl                   0.000           0.0                 0.0000   \n",
       "Amino acids                      0.000           0.0                 0.0000   \n",
       "...                                ...           ...                    ...   \n",
       "cis-Lutein/Zeaxanthin            0.000           0.0                 0.9655   \n",
       "cis-Lycopene                     0.000           0.0                 0.0000   \n",
       "cis-beta-Carotene                0.000           0.0                 0.0000   \n",
       "trans-Lycopene                   0.000           0.0                 0.0000   \n",
       "trans-beta-Carotene              0.000           0.0                 0.0000   \n",
       "\n",
       "                       Peanut butter, creamy  Rice, Brown  Spaghetti, dry  \n",
       " Ergosta-5,7-dienol                     0.00        0.000           0.000  \n",
       " Ergosta-7,22-dienol                    0.00        0.000           0.000  \n",
       "Alanine                                 1.16        0.437           0.438  \n",
       "Alcohol, ethyl                          0.00        0.000           0.000  \n",
       "Amino acids                             0.00        0.000           0.000  \n",
       "...                                      ...          ...             ...  \n",
       "cis-Lutein/Zeaxanthin                   0.00        0.000           0.000  \n",
       "cis-Lycopene                            0.00        0.000           0.000  \n",
       "cis-beta-Carotene                       0.00        0.000           0.000  \n",
       "trans-Lycopene                          0.00        0.000           0.000  \n",
       "trans-beta-Carotene                     0.00        0.000           0.000  \n",
       "\n",
       "[227 rows x 34 columns]"
      ]
     },
     "execution_count": 11,
     "metadata": {},
     "output_type": "execute_result"
    }
   ],
   "source": [
    "import fooddatacentral as fdc\n",
    "import warnings\n",
    "\n",
    "D = {}\n",
    "count = 0\n",
    "for food in  df.Food.tolist():\n",
    "    try:\n",
    "        FDC = df.loc[df.Food==food,:].FDC[count]\n",
    "        count+=1\n",
    "        D[food] = fdc.nutrients(apikey,FDC).Quantity\n",
    "    except AttributeError: \n",
    "        warnings.warn(\"Couldn't find FDC Code %s for food %s.\" % (food,FDC))        \n",
    "\n",
    "FoodNutrients = pd.DataFrame(D,dtype=float)\n",
    "FoodNutrients = FoodNutrients.fillna(0)\n",
    "FoodNutrients"
   ]
  },
  {
   "cell_type": "markdown",
   "metadata": {},
   "source": [
    "## Units & Prices\n",
    "\n"
   ]
  },
  {
   "cell_type": "markdown",
   "metadata": {},
   "source": [
    "Now, the prices we observe can be for lots of different quantities and\n",
    "units.  The FDC database basically wants everything in either hundreds\n",
    "of grams (hectograms) or hundreds of milliliters (deciliters).  \n",
    "We use the `units` function to convert all foods to either\n",
    "deciliters or hectograms, to match FDC database:\n",
    "\n"
   ]
  },
  {
   "cell_type": "code",
   "execution_count": 12,
   "metadata": {},
   "outputs": [
    {
     "name": "stderr",
     "output_type": "stream",
     "text": [
      "/opt/conda/lib/python3.9/site-packages/pandas/core/dtypes/cast.py:1990: UnitStrippedWarning: The unit of the quantity is stripped when downcasting to ndarray.\n",
      "  result[:] = values\n"
     ]
    },
    {
     "data": {
      "text/plain": [
       "Food\n",
       " Banana,raw                0.15833333333333335 / hectogram\n",
       "Apple, Gala                 0.8618070249045213 / hectogram\n",
       "Oranges, Navel              0.2711685824873994 / hectogram\n",
       "Blueberries                 1.4398189923056004 / hectogram\n",
       "Raspberries                 2.3457184696470974 / hectogram\n",
       "Grapes, green, seedless     0.6602844752437083 / hectogram\n",
       "Strawberries                0.8796444261176615 / hectogram\n",
       "Lentils, red                0.6582605491441835 / hectogram\n",
       "Tofu                        0.4251440677081007 / hectogram\n",
       "Split peas, dry             0.7907246470364275 / hectogram\n",
       "Chickpeas, canned             0.71047757368082 / hectogram\n",
       "Quinoa, dry                 0.8796444261176615 / hectogram\n",
       "Hummus                      0.8796444261176615 / hectogram\n",
       "Black beans, canned        0.24805560338737195 / hectogram\n",
       "Tomato, Roma                 0.659182163932784 / hectogram\n",
       "Broccoli                    0.7319347104537935 / hectogram\n",
       "Kale                        1.0546914622924541 / hectogram\n",
       "Green beans, raw           0.29247993449860427 / hectogram\n",
       "Onions, yellow              0.8121214495368513 / hectogram\n",
       "Celery                      0.6150897114958084 / hectogram\n",
       "Potato, Russet                           0.395 / hectogram\n",
       "Carrot                     0.21935995087395316 / hectogram\n",
       "Cucumber                    0.5489510328403452 / hectogram\n",
       "Avocado                     0.3919329105508934 / hectogram\n",
       "Lettuce, Romaine            1.7566433050891044 / hectogram\n",
       "Mushrooms                   1.9341889135686592 / hectogram\n",
       "Spinach                     0.7319347104537935 / hectogram\n",
       "Rice, White                0.21972738797759467 / hectogram\n",
       "Tortillas, corn             0.3791950909579894 / hectogram\n",
       "Oats, rolled                0.5859397012735857 / hectogram\n",
       "Soy milk, unsweetened       0.2744755164201726 / hectogram\n",
       "Peanut butter, creamy       0.5048585804033696 / hectogram\n",
       "Rice, Brown                0.36266042129412357 / hectogram\n",
       "Spaghetti, dry             0.21825763956302877 / hectogram\n",
       "Name: FDC Price, dtype: object"
      ]
     },
     "execution_count": 12,
     "metadata": {},
     "output_type": "execute_result"
    }
   ],
   "source": [
    "# Convert food quantities to FDC units\n",
    "df['FDC Quantity'] = df[['Quantity','Units']].T.apply(lambda x : fdc.units(x['Quantity'],x['Units']))\n",
    "\n",
    "# Now may want to filter df by time or place--need to get a unique set of food names.\n",
    "df['FDC Price'] = df['Price']/df['FDC Quantity']\n",
    "\n",
    "df.dropna(how='any') # Drop food with any missing data\n",
    "\n",
    "# To use minimum price observed\n",
    "Prices = df.groupby('Food',sort=False)['FDC Price'].min()\n",
    "Prices"
   ]
  },
  {
   "cell_type": "markdown",
   "metadata": {},
   "source": [
    "## Dietary Requirements\n",
    "\n"
   ]
  },
  {
   "cell_type": "markdown",
   "metadata": {},
   "source": [
    "Next, we will create a function that takes as arguments the characteristics of a person (e.g., age, sex, activity level) and returns a pandas.Series of Dietary Reference Intakes (DRI's) or \"Recommended Daily Allowances\" (RDA) of a variety of nutrients appropriate for our population of interest.\n",
    "\n",
    "Our data for this is based\n",
    "on  US government recommendations available at\n",
    "[https://www.dietaryguidelines.gov/sites/default/files/2021-03/Dietary_Guidelines_for_Americans-2020-2025.pdf](https://www.dietaryguidelines.gov/sites/default/files/2021-03/Dietary_Guidelines_for_Americans-2020-2025.pdf)\n",
    "\n",
    "These data have been put into a google sheets that we will access using the read_sheets function defined earlier. You can access the spreadsheet here: https://docs.google.com/spreadsheets/d/1swR8k5x6GaRZd5DvfDF55oeAZZvOC4edB3ofOKov8nE/edit#gid=188168169\n",
    "\n",
    "\n",
    "Note that we&rsquo;ve tweaked the nutrient labels to match those in the FDC\n",
    "data.\n",
    "\n",
    "Also note that the last two rows refer to the maximum requirements which involve multiplying the constraint by -1 to make <=.\n"
   ]
  },
  {
   "cell_type": "code",
   "execution_count": 13,
   "metadata": {},
   "outputs": [
    {
     "name": "stdout",
     "output_type": "stream",
     "text": [
      "Key available for students@eep153.iam.gserviceaccount.com.\n"
     ]
    }
   ],
   "source": [
    "RDIs = read_sheets('https://docs.google.com/spreadsheets/d/1swR8k5x6GaRZd5DvfDF55oeAZZvOC4edB3ofOKov8nE/edit#gid=188168169')\n",
    "def recommended_diet(age, sex, activity_level):\n",
    "    if activity_level == 'high' or activity_level == 'High':\n",
    "        if sex == 'Female' or sex == 'F':\n",
    "            if age in range(1,4):\n",
    "                agerange = '1-3'\n",
    "            if age in range(4,9):\n",
    "                agerange = '4-8'\n",
    "            if age in range(9,14):\n",
    "                agerange = '9-13'\n",
    "            if age in range(14,19):\n",
    "                agerange = '14-18'\n",
    "            if age in range(19,31):\n",
    "                agerange = '19-30'\n",
    "            if age in range(31,51):\n",
    "                agerange = '31-50'\n",
    "            if age in range(51,100000000):\n",
    "                agerange = '51+'\n",
    "            group = 'F ' + agerange\n",
    "        if sex == 'Male' or sex == 'M':\n",
    "            if age in range(1,4):\n",
    "                agerange = '1-3'\n",
    "            if age in range(4,9):\n",
    "                agerange = '4-8'\n",
    "            if age in range(9,14):\n",
    "                agerange = '9-13'\n",
    "            if age in range(14,19):\n",
    "                agerange = '14-18'\n",
    "            if age in range(19,31):\n",
    "                agerange = '19-30'\n",
    "            if age in range(31,51):\n",
    "                agerange = '31-50'\n",
    "            if age in range(51,100000000):\n",
    "                agerange = '51+'\n",
    "            group = 'M ' + agerange\n",
    "        bmin = RDIs['high_activity'].set_index('Nutrition')[[group]]\n",
    "        bmax = RDIs['high_max'].set_index('Nutrition')[[group]]\n",
    "    if activity_level == 'moderate' or activity_level == 'Moderate':\n",
    "        if sex == 'Female' or sex == 'F':\n",
    "            if age in range(1,4):\n",
    "                agerange = '1-3'\n",
    "            if age in range(4,9):\n",
    "                agerange = '4-8'\n",
    "            if age in range(9,14):\n",
    "                agerange = '9-13'\n",
    "            if age in range(14,19):\n",
    "                agerange = '14-18'\n",
    "            if age in range(19,31):\n",
    "                agerange = '19-30'\n",
    "            if age in range(31,51):\n",
    "                agerange = '31-50'\n",
    "            if age in range(51,100000000):\n",
    "                agerange = '51+'\n",
    "            group = 'F ' + agerange\n",
    "        if sex == 'Male' or sex == 'M':\n",
    "            if age in range(14,19):\n",
    "                agerange = '14-18'\n",
    "            if age in range(19,31):\n",
    "                agerange = '19-30'\n",
    "            if age in range(31,51):\n",
    "                agerange = '31-50'\n",
    "            if age in range(51,100000000):\n",
    "                agerange = '51+'\n",
    "            group = 'M ' + agerange\n",
    "        bmin = RDIs['moderate_activity'].set_index('Nutrition')[[group]]\n",
    "        bmax = RDIs['moderate_max'].set_index('Nutrition')[[group]]\n",
    "    b = pd.concat([bmin,-bmax])\n",
    "    return b.squeeze()"
   ]
  },
  {
   "cell_type": "markdown",
   "metadata": {},
   "source": [
    "Let's find our the recommended daily allowance of nutrient intake for a Male aged 52 years old with high activity levels. "
   ]
  },
  {
   "cell_type": "code",
   "execution_count": 14,
   "metadata": {},
   "outputs": [
    {
     "data": {
      "text/plain": [
       "Nutrition\n",
       "Energy                            2600.0\n",
       "Protein                             56.0\n",
       "Fiber, total dietary                28.0\n",
       "Folate, DFE                        400.0\n",
       "Calcium, Ca                       1000.0\n",
       "Carbohydrate, by difference        130.0\n",
       "Iron, Fe                             8.0\n",
       "Magnesium, Mg                      420.0\n",
       "Niacin                              16.0\n",
       "Phosphorus, P                      700.0\n",
       "Potassium, K                      4700.0\n",
       "Riboflavin                           1.3\n",
       "Thiamin                              1.2\n",
       "Vitamin A, RAE                     900.0\n",
       "Vitamin B-12                         2.4\n",
       "Vitamin B-6                          1.7\n",
       "Vitamin C, total ascorbic acid      90.0\n",
       "Vitamin E (alpha-tocopherol)        15.0\n",
       "Vitamin K (phylloquinone)          120.0\n",
       "Zinc, Zn                            11.0\n",
       "Sodium, Na                       -2300.0\n",
       "Energy                           -3500.0\n",
       "Name: M 51+, dtype: float64"
      ]
     },
     "execution_count": 14,
     "metadata": {},
     "output_type": "execute_result"
    }
   ],
   "source": [
    "recommended = recommended_diet(52, 'M' , 'High')\n",
    "recommended\n"
   ]
  },
  {
   "cell_type": "markdown",
   "metadata": {},
   "source": [
    "For this code demonstration, we will use nutritional information based on high activity levels."
   ]
  },
  {
   "cell_type": "code",
   "execution_count": 15,
   "metadata": {},
   "outputs": [
    {
     "name": "stdout",
     "output_type": "stream",
     "text": [
      "Key available for students@eep153.iam.gserviceaccount.com.\n"
     ]
    }
   ],
   "source": [
    "from eep153_tools.sheets import read_sheets\n",
    "\n",
    "DRI_url = \"https://docs.google.com/spreadsheets/d/1swR8k5x6GaRZd5DvfDF55oeAZZvOC4edB3ofOKov8nE/edit#gid=188168169\"\n",
    "\n",
    "DRIs = read_sheets(DRI_url)\n",
    "\n",
    "# Define *minimums*\n",
    "diet_min = DRIs['moderate_activity'].set_index('Nutrition')\n",
    "\n",
    "# Define *maximums*\n",
    "diet_max = DRIs['moderate_max'].set_index('Nutrition')\n"
   ]
  },
  {
   "cell_type": "markdown",
   "metadata": {},
   "source": [
    "## Using `solve_subsistence_problem` to analyze diet\n",
    "\n"
   ]
  },
  {
   "cell_type": "markdown",
   "metadata": {},
   "source": [
    "Let&rsquo;s choose a particular group (type of person with particular\n",
    "dietary requirements) and solve the subsistence problem for them:\n",
    "\n"
   ]
  },
  {
   "cell_type": "code",
   "execution_count": 16,
   "metadata": {},
   "outputs": [
    {
     "name": "stdout",
     "output_type": "stream",
     "text": [
      "Cost of diet for F 19-30 is $4.69 per day.\n",
      "\n",
      "\n",
      "Diet (in 100s of grams or milliliters):\n",
      " Banana,raw              1.589644\n",
      "Oranges, Navel           0.338834\n",
      "Black beans, canned      5.381961\n",
      "Kale                     0.168344\n",
      "Carrot                   0.359735\n",
      "Avocado                  0.304517\n",
      "Tortillas, corn          0.158310\n",
      "Soy milk, unsweetened    6.105317\n",
      "Peanut butter, creamy    1.773057\n",
      "dtype: float64\n",
      "\n",
      "\n",
      "With the following nutritional outcomes of interest:\n",
      "                                    Outcome  Recommendation\n",
      "Nutrition                                                  \n",
      "Energy                          3229.221341          2100.0\n",
      "Protein                          100.833751            46.0\n",
      "Fiber, total dietary              55.844313            28.0\n",
      "Folate, DFE                      400.000002           400.0\n",
      "Calcium, Ca                     1000.000014          1000.0\n",
      "Carbohydrate, by difference      192.369320           130.0\n",
      "Iron, Fe                          18.000000            18.0\n",
      "Magnesium, Mg                    731.531214           310.0\n",
      "Niacin                            38.213151            14.0\n",
      "Phosphorus, P                   1811.717738           700.0\n",
      "Potassium, K                    4700.000010          4700.0\n",
      "Riboflavin                         1.314460             1.1\n",
      "Thiamin                            1.605426             1.1\n",
      "Vitamin A, RAE                   700.000709           700.0\n",
      "Vitamin B-12                       2.400000             2.4\n",
      "Vitamin B-6                        1.824062             1.3\n",
      "Vitamin C, total ascorbic acid    75.000001            75.0\n",
      "Vitamin E (alpha-tocopherol)      15.000000            15.0\n",
      "Vitamin K (phylloquinone)         90.000001            90.0\n",
      "Zinc, Zn                          10.967731             8.0\n",
      "Sodium, Na                      1499.705430          2300.0\n",
      "Energy                          3229.221341          3300.0\n",
      "\n",
      "\n",
      "Constraining nutrients are:\n",
      "['Folate, DFE', 'Calcium, Ca', 'Iron, Fe', 'Potassium, K', 'Vitamin B-12', 'Vitamin C, total ascorbic acid', 'Vitamin E (alpha-tocopherol)', 'Vitamin K (phylloquinone)']\n"
     ]
    }
   ],
   "source": [
    "group = 'F 19-30'\n",
    "tol = 1e-6\n",
    "\n",
    "result = solve_subsistence_problem(FoodNutrients,Prices,diet_min[group],diet_max[group],tol=tol)\n",
    "\n",
    "print(\"Cost of diet for %s is $%4.2f per day.\\n\" % (group,result.fun))\n",
    "\n",
    "# Put back into nice series\n",
    "diet = result.diet\n",
    "\n",
    "print(\"\\nDiet (in 100s of grams or milliliters):\")\n",
    "print(diet[diet >= tol])  # Drop items with quantities less than precision of calculation.\n",
    "print()\n",
    "\n",
    "tab = pd.DataFrame({\"Outcome\":np.abs(result.A).dot(diet),\"Recommendation\":np.abs(result.b)})\n",
    "print(\"\\nWith the following nutritional outcomes of interest:\")\n",
    "print(tab)\n",
    "print()\n",
    "\n",
    "print(\"\\nConstraining nutrients are:\")\n",
    "excess = tab.diff(axis=1).iloc[:,1]\n",
    "print(excess.loc[np.abs(excess) < tol*100].index.tolist())"
   ]
  },
  {
   "cell_type": "markdown",
   "metadata": {},
   "source": [
    "## Effects of Price Changes on Subsistence Diet Cost\n",
    "\n"
   ]
  },
  {
   "cell_type": "markdown",
   "metadata": {},
   "source": [
    "As prices change, we should expect the minimum cost diet to also\n",
    "  change.  The code below creates a graph which changes prices away\n",
    "  from the \\`base&rsquo; case one food at a time, and plots changes in total\n",
    "  diet cost.\n",
    "\n"
   ]
  },
  {
   "cell_type": "code",
   "execution_count": 17,
   "metadata": {},
   "outputs": [
    {
     "name": "stderr",
     "output_type": "stream",
     "text": [
      "/opt/conda/lib/python3.9/site-packages/geopandas/_compat.py:111: UserWarning:\n",
      "\n",
      "The Shapely GEOS version (3.10.3-CAPI-1.16.1) is incompatible with the GEOS version PyGEOS was compiled with (3.10.4-CAPI-1.16.2). Conversions between both will be slow.\n",
      "\n"
     ]
    },
    {
     "data": {
      "text/html": [
       "        <script type=\"text/javascript\">\n",
       "        window.PlotlyConfig = {MathJaxConfig: 'local'};\n",
       "        if (window.MathJax) {MathJax.Hub.Config({SVG: {font: \"STIX-Web\"}});}\n",
       "        if (typeof require !== 'undefined') {\n",
       "        require.undef(\"plotly\");\n",
       "        requirejs.config({\n",
       "            paths: {\n",
       "                'plotly': ['https://cdn.plot.ly/plotly-2.3.1.min']\n",
       "            }\n",
       "        });\n",
       "        require(['plotly'], function(Plotly) {\n",
       "            window._Plotly = Plotly;\n",
       "        });\n",
       "        }\n",
       "        </script>\n",
       "        "
      ]
     },
     "metadata": {},
     "output_type": "display_data"
    },
    {
     "data": {
      "application/vnd.plotly.v1+json": {
       "config": {
        "linkText": "Export to plot.ly",
        "plotlyServerURL": "https://plot.ly",
        "showLink": true
       },
       "data": [
        {
         "line": {
          "color": "rgba(255, 153, 51, 1.0)",
          "dash": "solid",
          "shape": "linear",
          "width": 1.3
         },
         "mode": "lines",
         "name": " Banana,raw",
         "text": "",
         "type": "scatter",
         "x": [
          -0.6931471805599453,
          -0.5108256237659907,
          -0.35667494393873245,
          -0.22314355131420968,
          -0.10536051565782628,
          0,
          0.09531017980432495,
          0.1823215567939546,
          0.26236426446749106,
          0.33647223662121284,
          0.4054651081081644
         ],
         "y": [
          -0.029652601479320476,
          -0.023397936367012876,
          -0.01718276360776043,
          -0.011005694385064877,
          -0.00538643139910236,
          0,
          0.004234103927641291,
          0.006741513265729743,
          0.0068192627983111,
          0.006819262430732989,
          0.0068192625657435444
         ]
        },
        {
         "line": {
          "color": "rgba(55, 128, 191, 1.0)",
          "dash": "solid",
          "shape": "linear",
          "width": 1.3
         },
         "mode": "lines",
         "name": "Apple, Gala",
         "text": "",
         "type": "scatter",
         "x": [
          -0.6931471805599453,
          -0.5108256237659907,
          -0.35667494393873245,
          -0.22314355131420968,
          -0.10536051565782628,
          0,
          0.09531017980432495,
          0.1823215567939546,
          0.26236426446749106,
          0.33647223662121284,
          0.4054651081081644
         ],
         "y": [
          -1.572307085788229e-08,
          -1.5719256797643534e-08,
          -1.5648173102042514e-08,
          -1.265520662943838e-08,
          -3.4740426151762336e-09,
          0,
          -1.4534566433899357e-08,
          -1.3464536354365554e-08,
          -1.5052895932007225e-08,
          -1.555616514379802e-08,
          -1.0609787771338406e-08
         ]
        },
        {
         "line": {
          "color": "rgba(50, 171, 96, 1.0)",
          "dash": "solid",
          "shape": "linear",
          "width": 1.3
         },
         "mode": "lines",
         "name": "Oranges, Navel",
         "text": "",
         "type": "scatter",
         "x": [
          -0.6931471805599453,
          -0.5108256237659907,
          -0.35667494393873245,
          -0.22314355131420968,
          -0.10536051565782628,
          0,
          0.09531017980432495,
          0.1823215567939546,
          0.26236426446749106,
          0.33647223662121284,
          0.4054651081081644
         ],
         "y": [
          -0.01171491526537751,
          -0.009013249983663284,
          -0.006318976393598185,
          -0.003929791222974597,
          -0.0019629726238367634,
          0,
          0.0019591036043742896,
          0.0039144084021034906,
          0.005865857714865553,
          0.00781385645981047,
          0.009757395769055427
         ]
        },
        {
         "line": {
          "color": "rgba(128, 0, 128, 1.0)",
          "dash": "solid",
          "shape": "linear",
          "width": 1.3
         },
         "mode": "lines",
         "name": "Blueberries",
         "text": "",
         "type": "scatter",
         "x": [
          -0.6931471805599453,
          -0.5108256237659907,
          -0.35667494393873245,
          -0.22314355131420968,
          -0.10536051565782628,
          0,
          0.09531017980432495,
          0.1823215567939546,
          0.26236426446749106,
          0.33647223662121284,
          0.4054651081081644
         ],
         "y": [
          7.67671034902433e-09,
          5.2534512157927124e-09,
          2.8234496922794226e-09,
          5.472091667181824e-10,
          -9.463827503923388e-10,
          0,
          -2.1983885847027267e-09,
          -5.8884395311050225e-09,
          -9.493248676703245e-09,
          -1.2228376386307095e-08,
          -1.398044223502215e-08
         ]
        },
        {
         "line": {
          "color": "rgba(219, 64, 82, 1.0)",
          "dash": "solid",
          "shape": "linear",
          "width": 1.3
         },
         "mode": "lines",
         "name": "Raspberries",
         "text": "",
         "type": "scatter",
         "x": [
          -0.6931471805599453,
          -0.5108256237659907,
          -0.35667494393873245,
          -0.22314355131420968,
          -0.10536051565782628,
          0,
          0.09531017980432495,
          0.1823215567939546,
          0.26236426446749106,
          0.33647223662121284,
          0.4054651081081644
         ],
         "y": [
          -7.031966122980032e-10,
          -7.638456536871086e-10,
          -4.863526249582502e-10,
          -4.0444836377070326e-10,
          3.345013155297681e-11,
          0,
          -9.174313535299062e-10,
          -2.3887790662978344e-09,
          -4.105433668123027e-09,
          -5.831936839359356e-09,
          -7.418798714006381e-09
         ]
        },
        {
         "line": {
          "color": "rgba(0, 128, 128, 1.0)",
          "dash": "solid",
          "shape": "linear",
          "width": 1.3
         },
         "mode": "lines",
         "name": "Grapes, green, seedless",
         "text": "",
         "type": "scatter",
         "x": [
          -0.6931471805599453,
          -0.5108256237659907,
          -0.35667494393873245,
          -0.22314355131420968,
          -0.10536051565782628,
          0,
          0.09531017980432495,
          0.1823215567939546,
          0.26236426446749106,
          0.33647223662121284,
          0.4054651081081644
         ],
         "y": [
          -9.047716616880081e-09,
          -6.657279749644109e-09,
          -4.473527003293402e-09,
          -2.569516935861343e-09,
          -1.0453311555159895e-09,
          0,
          4.998248480519872e-10,
          4.332758595409545e-10,
          -1.680920958121722e-10,
          -1.228827373944753e-09,
          -2.643648081721028e-09
         ]
        },
        {
         "line": {
          "color": "rgba(255, 255, 51, 1.0)",
          "dash": "solid",
          "shape": "linear",
          "width": 1.3
         },
         "mode": "lines",
         "name": "Strawberries",
         "text": "",
         "type": "scatter",
         "x": [
          -0.6931471805599453,
          -0.5108256237659907,
          -0.35667494393873245,
          -0.22314355131420968,
          -0.10536051565782628,
          0,
          0.09531017980432495,
          0.1823215567939546,
          0.26236426446749106,
          0.33647223662121284,
          0.4054651081081644
         ],
         "y": [
          -1.0559821073363238e-08,
          -7.1770819545216794e-09,
          -4.4746226824013065e-09,
          -2.3320084779334406e-09,
          -8.383850284194342e-10,
          0,
          3.5491343191392915e-10,
          2.2510238115411838e-10,
          -3.576521301980138e-10,
          -1.328719468668536e-09,
          -2.6040603041165837e-09
         ]
        },
        {
         "line": {
          "color": "rgba(128, 128, 0, 1.0)",
          "dash": "solid",
          "shape": "linear",
          "width": 1.3
         },
         "mode": "lines",
         "name": "Lentils, red",
         "text": "",
         "type": "scatter",
         "x": [
          -0.6931471805599453,
          -0.5108256237659907,
          -0.35667494393873245,
          -0.22314355131420968,
          -0.10536051565782628,
          0,
          0.09531017980432495,
          0.1823215567939546,
          0.26236426446749106,
          0.33647223662121284,
          0.4054651081081644
         ],
         "y": [
          -0.04397823959338412,
          -0.028824016758969905,
          -0.015508868449938991,
          -0.0031293712162609056,
          2.3559130002798373e-07,
          0,
          -7.288805696699245e-09,
          -8.941436853155916e-09,
          -9.707986794942534e-09,
          -1.0206054609119932e-08,
          -1.0596035882675775e-08
         ]
        },
        {
         "line": {
          "color": "rgba(251, 128, 114, 1.0)",
          "dash": "solid",
          "shape": "linear",
          "width": 1.3
         },
         "mode": "lines",
         "name": "Tofu",
         "text": "",
         "type": "scatter",
         "x": [
          -0.6931471805599453,
          -0.5108256237659907,
          -0.35667494393873245,
          -0.22314355131420968,
          -0.10536051565782628,
          0,
          0.09531017980432495,
          0.1823215567939546,
          0.26236426446749106,
          0.33647223662121284,
          0.4054651081081644
         ],
         "y": [
          -1.551674778491932e-08,
          -1.48419697634318e-08,
          -1.1922587432897434e-08,
          -7.307546705580903e-09,
          -3.0599638425520168e-09,
          0,
          1.8535672979299512e-09,
          2.7436157752468973e-09,
          2.7488580263101757e-09,
          2.973840724803821e-09,
          3.525238317262635e-09
         ]
        },
        {
         "line": {
          "color": "rgba(128, 177, 211, 1.0)",
          "dash": "solid",
          "shape": "linear",
          "width": 1.3
         },
         "mode": "lines",
         "name": "Split peas, dry",
         "text": "",
         "type": "scatter",
         "x": [
          -0.6931471805599453,
          -0.5108256237659907,
          -0.35667494393873245,
          -0.22314355131420968,
          -0.10536051565782628,
          0,
          0.09531017980432495,
          0.1823215567939546,
          0.26236426446749106,
          0.33647223662121284,
          0.4054651081081644
         ],
         "y": [
          -0.001918939973602894,
          -1.1344574122286221e-08,
          -1.524474569321552e-08,
          -1.450945285565073e-08,
          -6.940238852162717e-09,
          0,
          3.6225604672534566e-09,
          5.104244791572376e-09,
          6.0244731244269e-09,
          3.863080292631053e-09,
          5.492737360959861e-09
         ]
        },
        {
         "line": {
          "color": "rgba(128, 177, 211, 0.8999999999999999)",
          "dash": "solid",
          "shape": "linear",
          "width": 1.3
         },
         "mode": "lines",
         "name": "Chickpeas, canned",
         "text": "",
         "type": "scatter",
         "x": [
          -0.6931471805599453,
          -0.5108256237659907,
          -0.35667494393873245,
          -0.22314355131420968,
          -0.10536051565782628,
          0,
          0.09531017980432495,
          0.1823215567939546,
          0.26236426446749106,
          0.33647223662121284,
          0.4054651081081644
         ],
         "y": [
          8.898188848454225e-10,
          8.595084640320376e-10,
          7.183045267118789e-10,
          5.102973597933821e-10,
          2.647655427883471e-10,
          0,
          -2.72773026425709e-10,
          -5.467156728829044e-10,
          -8.177402092148292e-10,
          -1.0834305680703009e-09,
          -1.342455036925241e-09
         ]
        },
        {
         "line": {
          "color": "rgba(255, 153, 51, 0.8999999999999999)",
          "dash": "solid",
          "shape": "linear",
          "width": 1.3
         },
         "mode": "lines",
         "name": "Quinoa, dry",
         "text": "",
         "type": "scatter",
         "x": [
          -0.6931471805599453,
          -0.5108256237659907,
          -0.35667494393873245,
          -0.22314355131420968,
          -0.10536051565782628,
          0,
          0.09531017980432495,
          0.1823215567939546,
          0.26236426446749106,
          0.33647223662121284,
          0.4054651081081644
         ],
         "y": [
          -0.008257717250694498,
          -0.0006287403212418017,
          3.837702348875779e-08,
          8.282323903493157e-09,
          2.4826700664439135e-09,
          0,
          -1.4141197112189644e-09,
          -2.346755792448641e-09,
          -3.0202335122942993e-09,
          -3.537854349074822e-09,
          -3.9541811014860705e-09
         ]
        },
        {
         "line": {
          "color": "rgba(55, 128, 191, 0.8999999999999999)",
          "dash": "solid",
          "shape": "linear",
          "width": 1.3
         },
         "mode": "lines",
         "name": "Hummus",
         "text": "",
         "type": "scatter",
         "x": [
          -0.6931471805599453,
          -0.5108256237659907,
          -0.35667494393873245,
          -0.22314355131420968,
          -0.10536051565782628,
          0,
          0.09531017980432495,
          0.1823215567939546,
          0.26236426446749106,
          0.33647223662121284,
          0.4054651081081644
         ],
         "y": [
          -4.6211254929510695e-09,
          1.4745866739004738e-09,
          3.3610019155722963e-09,
          3.042243785591267e-09,
          1.6958139322840867e-09,
          0,
          -1.6986676524272115e-09,
          -3.3840419412871693e-09,
          -4.948350519371027e-09,
          -6.280351258784415e-09,
          -7.4292929862022574e-09
         ]
        },
        {
         "line": {
          "color": "rgba(50, 171, 96, 0.8999999999999999)",
          "dash": "solid",
          "shape": "linear",
          "width": 1.3
         },
         "mode": "lines",
         "name": "Black beans, canned",
         "text": "",
         "type": "scatter",
         "x": [
          -0.6931471805599453,
          -0.5108256237659907,
          -0.35667494393873245,
          -0.22314355131420968,
          -0.10536051565782628,
          0,
          0.09531017980432495,
          0.1823215567939546,
          0.26236426446749106,
          0.33647223662121284,
          0.4054651081081644
         ],
         "y": [
          -0.18566551658824515,
          -0.13754903462731002,
          -0.09905859617875408,
          -0.06337544941915613,
          -0.029612757773852926,
          0,
          0.027083230687134904,
          0.03524214917504101,
          0.04069823414448287,
          0.04471851926278404,
          0.048722126865029566
         ]
        },
        {
         "line": {
          "color": "rgba(128, 0, 128, 0.8999999999999999)",
          "dash": "solid",
          "shape": "linear",
          "width": 1.3
         },
         "mode": "lines",
         "name": "Tomato, Roma",
         "text": "",
         "type": "scatter",
         "x": [
          -0.6931471805599453,
          -0.5108256237659907,
          -0.35667494393873245,
          -0.22314355131420968,
          -0.10536051565782628,
          0,
          0.09531017980432495,
          0.1823215567939546,
          0.26236426446749106,
          0.33647223662121284,
          0.4054651081081644
         ],
         "y": [
          -9.70524920698184e-09,
          -6.5772311147266984e-09,
          -4.2528792800152234e-09,
          -2.3924335874367292e-09,
          -9.560932050641574e-10,
          0,
          4.0425041084191414e-10,
          2.1331336694741793e-10,
          -5.623019829119574e-10,
          -1.8536526775164149e-09,
          -3.5431720953369994e-09
         ]
        },
        {
         "line": {
          "color": "rgba(219, 64, 82, 0.8999999999999999)",
          "dash": "solid",
          "shape": "linear",
          "width": 1.3
         },
         "mode": "lines",
         "name": "Broccoli",
         "text": "",
         "type": "scatter",
         "x": [
          -0.6931471805599453,
          -0.5108256237659907,
          -0.35667494393873245,
          -0.22314355131420968,
          -0.10536051565782628,
          0,
          0.09531017980432495,
          0.1823215567939546,
          0.26236426446749106,
          0.33647223662121284,
          0.4054651081081644
         ],
         "y": [
          -1.5558512710420112e-08,
          -1.576903087217869e-08,
          -1.5529940676348044e-08,
          -9.857593678844142e-09,
          -3.717994696811937e-09,
          0,
          -4.790237662459928e-09,
          -1.500265867245489e-08,
          -1.563613151190677e-08,
          -1.5641704942599853e-08,
          -1.5618445880892716e-08
         ]
        },
        {
         "line": {
          "color": "rgba(0, 128, 128, 0.8999999999999999)",
          "dash": "solid",
          "shape": "linear",
          "width": 1.3
         },
         "mode": "lines",
         "name": "Kale",
         "text": "",
         "type": "scatter",
         "x": [
          -0.6931471805599453,
          -0.5108256237659907,
          -0.35667494393873245,
          -0.22314355131420968,
          -0.10536051565782628,
          0,
          0.09531017980432495,
          0.1823215567939546,
          0.26236426446749106,
          0.33647223662121284,
          0.4054651081081644
         ],
         "y": [
          -0.022904153454124936,
          -0.015274080154083795,
          -0.011433565306948782,
          -0.007607840737371071,
          -0.0037966899296865576,
          0,
          0.003782324062982713,
          0.0075504119637712554,
          0.011064391588259264,
          0.01415964814878745,
          0.01724535486635341
         ]
        },
        {
         "line": {
          "color": "rgba(255, 255, 51, 0.8999999999999999)",
          "dash": "solid",
          "shape": "linear",
          "width": 1.3
         },
         "mode": "lines",
         "name": "Green beans, raw",
         "text": "",
         "type": "scatter",
         "x": [
          -0.6931471805599453,
          -0.5108256237659907,
          -0.35667494393873245,
          -0.22314355131420968,
          -0.10536051565782628,
          0,
          0.09531017980432495,
          0.1823215567939546,
          0.26236426446749106,
          0.33647223662121284,
          0.4054651081081644
         ],
         "y": [
          -2.458225737102491e-09,
          -1.5395835946951503e-08,
          -1.5739139893126592e-08,
          -1.504881564028571e-08,
          -1.0487813228473581e-08,
          0,
          1.2971896805844409e-08,
          2.5462763795234336e-08,
          3.58728118548539e-08,
          5.596341300319717e-08,
          7.460645112060814e-08
         ]
        },
        {
         "line": {
          "color": "rgba(128, 128, 0, 0.8999999999999999)",
          "dash": "solid",
          "shape": "linear",
          "width": 1.3
         },
         "mode": "lines",
         "name": "Onions, yellow",
         "text": "",
         "type": "scatter",
         "x": [
          -0.6931471805599453,
          -0.5108256237659907,
          -0.35667494393873245,
          -0.22314355131420968,
          -0.10536051565782628,
          0,
          0.09531017980432495,
          0.1823215567939546,
          0.26236426446749106,
          0.33647223662121284,
          0.4054651081081644
         ],
         "y": [
          -4.675660758397183e-09,
          -2.6452338132712936e-09,
          -1.3995662416578887e-09,
          -6.480206373606023e-10,
          -2.1520230044742248e-10,
          0,
          5.691869198025773e-11,
          -8.324341216371609e-12,
          -1.7250545438041373e-10,
          -4.1959014049829215e-10,
          -7.37610639506311e-10
         ]
        },
        {
         "line": {
          "color": "rgba(251, 128, 114, 0.8999999999999999)",
          "dash": "solid",
          "shape": "linear",
          "width": 1.3
         },
         "mode": "lines",
         "name": "Celery",
         "text": "",
         "type": "scatter",
         "x": [
          -0.6931471805599453,
          -0.5108256237659907,
          -0.35667494393873245,
          -0.22314355131420968,
          -0.10536051565782628,
          0,
          0.09531017980432495,
          0.1823215567939546,
          0.26236426446749106,
          0.33647223662121284,
          0.4054651081081644
         ],
         "y": [
          -1.1935218107332358e-08,
          -9.953669604789334e-09,
          -7.500660676270878e-09,
          -4.92535380361462e-09,
          -2.394498491245172e-09,
          0,
          2.194599610739696e-09,
          4.147268742042833e-09,
          5.835443000661483e-09,
          7.25373469768038e-09,
          8.410478722512848e-09
         ]
        },
        {
         "line": {
          "color": "rgba(251, 128, 114, 0.7999999999999998)",
          "dash": "solid",
          "shape": "linear",
          "width": 1.3
         },
         "mode": "lines",
         "name": "Potato, Russet",
         "text": "",
         "type": "scatter",
         "x": [
          -0.6931471805599453,
          -0.5108256237659907,
          -0.35667494393873245,
          -0.22314355131420968,
          -0.10536051565782628,
          0,
          0.09531017980432495,
          0.1823215567939546,
          0.26236426446749106,
          0.33647223662121284,
          0.4054651081081644
         ],
         "y": [
          -0.011184594739442348,
          -1.5798620869764952e-08,
          2.0357711051727725e-09,
          -1.563882391380589e-08,
          -1.369427458592634e-08,
          0,
          1.2811707168578476e-08,
          3.330816922315103e-08,
          4.791565163088561e-08,
          7.087305935221234e-08,
          9.234797388930997e-08
         ]
        },
        {
         "line": {
          "color": "rgba(128, 177, 211, 0.7999999999999998)",
          "dash": "solid",
          "shape": "linear",
          "width": 1.3
         },
         "mode": "lines",
         "name": "Carrot",
         "text": "",
         "type": "scatter",
         "x": [
          -0.6931471805599453,
          -0.5108256237659907,
          -0.35667494393873245,
          -0.22314355131420968,
          -0.10536051565782628,
          0,
          0.09531017980432495,
          0.1823215567939546,
          0.26236426446749106,
          0.33647223662121284,
          0.4054651081081644
         ],
         "y": [
          -0.08717975018382935,
          -0.05812570045735961,
          -0.036126546947566465,
          -0.01684515285905748,
          -0.004766812931784825,
          0,
          0.001682794822168504,
          0.0033627723715782955,
          0.005039927315135691,
          0.00671427049573731,
          0.008385812198289317
         ]
        },
        {
         "line": {
          "color": "rgba(255, 153, 51, 0.7999999999999998)",
          "dash": "solid",
          "shape": "linear",
          "width": 1.3
         },
         "mode": "lines",
         "name": "Cucumber",
         "text": "",
         "type": "scatter",
         "x": [
          -0.6931471805599453,
          -0.5108256237659907,
          -0.35667494393873245,
          -0.22314355131420968,
          -0.10536051565782628,
          0,
          0.09531017980432495,
          0.1823215567939546,
          0.26236426446749106,
          0.33647223662121284,
          0.4054651081081644
         ],
         "y": [
          -8.21871463154776e-09,
          -6.041574259139557e-09,
          -4.085879198887913e-09,
          -2.3920301323886156e-09,
          -1.0138914157830738e-09,
          0,
          6.184996957122806e-10,
          8.331830777390113e-10,
          6.581106768487829e-10,
          1.322151277262399e-10,
          -6.925967579629969e-10
         ]
        },
        {
         "line": {
          "color": "rgba(55, 128, 191, 0.7999999999999998)",
          "dash": "solid",
          "shape": "linear",
          "width": 1.3
         },
         "mode": "lines",
         "name": "Avocado",
         "text": "",
         "type": "scatter",
         "x": [
          -0.6931471805599453,
          -0.5108256237659907,
          -0.35667494393873245,
          -0.22314355131420968,
          -0.10536051565782628,
          0,
          0.09531017980432495,
          0.1823215567939546,
          0.26236426446749106,
          0.33647223662121284,
          0.4054651081081644
         ],
         "y": [
          -0.03174932347990932,
          -0.02049956673672614,
          -0.011121229832779096,
          -0.005107483282907135,
          -0.002550568721752029,
          0,
          0.002544056719255059,
          0.004215988375794859,
          0.004215987330668613,
          0.004215987119545512,
          0.0042159870709814785
         ]
        },
        {
         "line": {
          "color": "rgba(50, 171, 96, 0.7999999999999998)",
          "dash": "solid",
          "shape": "linear",
          "width": 1.3
         },
         "mode": "lines",
         "name": "Lettuce, Romaine",
         "text": "",
         "type": "scatter",
         "x": [
          -0.6931471805599453,
          -0.5108256237659907,
          -0.35667494393873245,
          -0.22314355131420968,
          -0.10536051565782628,
          0,
          0.09531017980432495,
          0.1823215567939546,
          0.26236426446749106,
          0.33647223662121284,
          0.4054651081081644
         ],
         "y": [
          -1.5756060469444454e-08,
          -1.5622902316183177e-08,
          -1.5456720467538868e-08,
          -1.566402275721251e-08,
          -1.4018832637528115e-08,
          0,
          -5.403218886921476e-09,
          -6.692224130599733e-09,
          -9.98353105173575e-09,
          -1.3439873193630942e-08,
          -1.4550448951653709e-08
         ]
        },
        {
         "line": {
          "color": "rgba(128, 0, 128, 0.7999999999999998)",
          "dash": "solid",
          "shape": "linear",
          "width": 1.3
         },
         "mode": "lines",
         "name": "Mushrooms",
         "text": "",
         "type": "scatter",
         "x": [
          -0.6931471805599453,
          -0.5108256237659907,
          -0.35667494393873245,
          -0.22314355131420968,
          -0.10536051565782628,
          0,
          0.09531017980432495,
          0.1823215567939546,
          0.26236426446749106,
          0.33647223662121284,
          0.4054651081081644
         ],
         "y": [
          -1.579199505864933e-08,
          -1.5305981599386357e-08,
          -1.447613861491259e-08,
          -3.0870395133821667e-10,
          -6.419689226717698e-10,
          0,
          -1.7818972979699189e-09,
          -5.440114706854276e-09,
          -9.667354630249066e-09,
          -1.3129522999516552e-08,
          -1.4572271495743507e-08
         ]
        },
        {
         "line": {
          "color": "rgba(219, 64, 82, 0.7999999999999998)",
          "dash": "solid",
          "shape": "linear",
          "width": 1.3
         },
         "mode": "lines",
         "name": "Spinach",
         "text": "",
         "type": "scatter",
         "x": [
          -0.6931471805599453,
          -0.5108256237659907,
          -0.35667494393873245,
          -0.22314355131420968,
          -0.10536051565782628,
          0,
          0.09531017980432495,
          0.1823215567939546,
          0.26236426446749106,
          0.33647223662121284,
          0.4054651081081644
         ],
         "y": [
          -1.3534677026361472e-08,
          1.5853840493791383e-07,
          -1.5814836232407425e-08,
          -1.5677701260201756e-08,
          -1.5486507973795024e-08,
          0,
          -5.13692201207681e-09,
          -1.5238893374496613e-08,
          -1.5119239863357527e-08,
          -1.5037703750931984e-08,
          -1.49683290217068e-08
         ]
        },
        {
         "line": {
          "color": "rgba(0, 128, 128, 0.7999999999999998)",
          "dash": "solid",
          "shape": "linear",
          "width": 1.3
         },
         "mode": "lines",
         "name": "Rice, White",
         "text": "",
         "type": "scatter",
         "x": [
          -0.6931471805599453,
          -0.5108256237659907,
          -0.35667494393873245,
          -0.22314355131420968,
          -0.10536051565782628,
          0,
          0.09531017980432495,
          0.1823215567939546,
          0.26236426446749106,
          0.33647223662121284,
          0.4054651081081644
         ],
         "y": [
          6.443993664215527e-08,
          2.8186230951693806e-08,
          1.3311056390689434e-08,
          6.2185212341520935e-09,
          2.3470623195177578e-09,
          0,
          -1.5423233813108826e-09,
          -2.6218001137842124e-09,
          -3.4166259879699922e-09,
          -4.026979424701972e-09,
          -4.5325805433952526e-09
         ]
        },
        {
         "line": {
          "color": "rgba(255, 255, 51, 0.7999999999999998)",
          "dash": "solid",
          "shape": "linear",
          "width": 1.3
         },
         "mode": "lines",
         "name": "Tortillas, corn",
         "text": "",
         "type": "scatter",
         "x": [
          -0.6931471805599453,
          -0.5108256237659907,
          -0.35667494393873245,
          -0.22314355131420968,
          -0.10536051565782628,
          0,
          0.09531017980432495,
          0.1823215567939546,
          0.26236426446749106,
          0.33647223662121284,
          0.4054651081081644
         ],
         "y": [
          -0.011347940357039222,
          -0.008119792035507898,
          -0.005167712881316218,
          -0.0030286339619697714,
          -0.001282069984954864,
          0,
          0.0012804122683328085,
          0.0017208077668905693,
          0.001720715044669027,
          0.0017210571630789167,
          0.0017207325243337615
         ]
        },
        {
         "line": {
          "color": "rgba(128, 128, 0, 0.7999999999999998)",
          "dash": "solid",
          "shape": "linear",
          "width": 1.3
         },
         "mode": "lines",
         "name": "Oats, rolled",
         "text": "",
         "type": "scatter",
         "x": [
          -0.6931471805599453,
          -0.5108256237659907,
          -0.35667494393873245,
          -0.22314355131420968,
          -0.10536051565782628,
          0,
          0.09531017980432495,
          0.1823215567939546,
          0.26236426446749106,
          0.33647223662121284,
          0.4054651081081644
         ],
         "y": [
          -1.4490340143960069e-08,
          -1.0396855097606881e-08,
          -6.7151415764722815e-09,
          -3.835225366870891e-09,
          -1.660013017313923e-09,
          0,
          1.2924830086720941e-09,
          2.317923850170621e-09,
          3.1454017119173954e-09,
          3.8231351344923676e-09,
          4.385414022299574e-09
         ]
        },
        {
         "line": {
          "color": "rgba(128, 128, 0, 0.7)",
          "dash": "solid",
          "shape": "linear",
          "width": 1.3
         },
         "mode": "lines",
         "name": "Soy milk, unsweetened",
         "text": "",
         "type": "scatter",
         "x": [
          -0.6931471805599453,
          -0.5108256237659907,
          -0.35667494393873245,
          -0.22314355131420968,
          -0.10536051565782628,
          0,
          0.09531017980432495,
          0.1823215567939546,
          0.26236426446749106,
          0.33647223662121284,
          0.4054651081081644
         ],
         "y": [
          -0.19702499006728477,
          -0.15439193942801932,
          -0.11350238541947295,
          -0.07421931409318766,
          -0.03642125135082577,
          0,
          0.0351412268655212,
          0.06908935585817434,
          0.1019227487924666,
          0.13371229217768915,
          0.16452231879982895
         ]
        },
        {
         "line": {
          "color": "rgba(251, 128, 114, 0.7)",
          "dash": "solid",
          "shape": "linear",
          "width": 1.3
         },
         "mode": "lines",
         "name": "Peanut butter, creamy",
         "text": "",
         "type": "scatter",
         "x": [
          -0.6931471805599453,
          -0.5108256237659907,
          -0.35667494393873245,
          -0.22314355131420968,
          -0.10536051565782628,
          0,
          0.09531017980432495,
          0.1823215567939546,
          0.26236426446749106,
          0.33647223662121284,
          0.4054651081081644
         ],
         "y": [
          -0.10834646760350483,
          -0.08018104829491247,
          -0.059197530595756304,
          -0.03895950161273121,
          -0.019289899034675064,
          0,
          0.018924935302786945,
          0.036957993998634864,
          0.05412128471627969,
          0.07003343008740709,
          0.08412198369466775
         ]
        },
        {
         "line": {
          "color": "rgba(128, 177, 211, 0.7)",
          "dash": "solid",
          "shape": "linear",
          "width": 1.3
         },
         "mode": "lines",
         "name": "Rice, Brown",
         "text": "",
         "type": "scatter",
         "x": [
          -0.6931471805599453,
          -0.5108256237659907,
          -0.35667494393873245,
          -0.22314355131420968,
          -0.10536051565782628,
          0,
          0.09531017980432495,
          0.1823215567939546,
          0.26236426446749106,
          0.33647223662121284,
          0.4054651081081644
         ],
         "y": [
          1.0796188715323849e-07,
          2.9326892484094394e-08,
          9.049031039068168e-09,
          3.3484401861800136e-09,
          1.092920420233741e-09,
          0,
          -6.060130177292184e-10,
          -9.793071913754164e-10,
          -1.2318239769142058e-09,
          -1.4187397933201836e-09,
          -1.5699197509877236e-09
         ]
        },
        {
         "line": {
          "color": "rgba(255, 153, 51, 0.7)",
          "dash": "solid",
          "shape": "linear",
          "width": 1.3
         },
         "mode": "lines",
         "name": "Spaghetti, dry",
         "text": "",
         "type": "scatter",
         "x": [
          -0.6931471805599453,
          -0.5108256237659907,
          -0.35667494393873245,
          -0.22314355131420968,
          -0.10536051565782628,
          0,
          0.09531017980432495,
          0.1823215567939546,
          0.26236426446749106,
          0.33647223662121284,
          0.4054651081081644
         ],
         "y": [
          -0.00026539682648947993,
          -2.7290311737800668e-05,
          -1.575575926593313e-08,
          1.3237286390192325e-07,
          3.096978181465751e-08,
          0,
          -7.884545270006151e-09,
          -1.0581172105642403e-08,
          -1.1812944803286407e-08,
          -1.2053835113862181e-08,
          -1.2217975927907583e-08
         ]
        }
       ],
       "layout": {
        "autosize": true,
        "legend": {
         "bgcolor": "#F5F6F9",
         "font": {
          "color": "#4D5663"
         }
        },
        "paper_bgcolor": "#F5F6F9",
        "plot_bgcolor": "#F5F6F9",
        "template": {
         "data": {
          "bar": [
           {
            "error_x": {
             "color": "#2a3f5f"
            },
            "error_y": {
             "color": "#2a3f5f"
            },
            "marker": {
             "line": {
              "color": "#E5ECF6",
              "width": 0.5
             },
             "pattern": {
              "fillmode": "overlay",
              "size": 10,
              "solidity": 0.2
             }
            },
            "type": "bar"
           }
          ],
          "barpolar": [
           {
            "marker": {
             "line": {
              "color": "#E5ECF6",
              "width": 0.5
             },
             "pattern": {
              "fillmode": "overlay",
              "size": 10,
              "solidity": 0.2
             }
            },
            "type": "barpolar"
           }
          ],
          "carpet": [
           {
            "aaxis": {
             "endlinecolor": "#2a3f5f",
             "gridcolor": "white",
             "linecolor": "white",
             "minorgridcolor": "white",
             "startlinecolor": "#2a3f5f"
            },
            "baxis": {
             "endlinecolor": "#2a3f5f",
             "gridcolor": "white",
             "linecolor": "white",
             "minorgridcolor": "white",
             "startlinecolor": "#2a3f5f"
            },
            "type": "carpet"
           }
          ],
          "choropleth": [
           {
            "colorbar": {
             "outlinewidth": 0,
             "ticks": ""
            },
            "type": "choropleth"
           }
          ],
          "contour": [
           {
            "colorbar": {
             "outlinewidth": 0,
             "ticks": ""
            },
            "colorscale": [
             [
              0,
              "#0d0887"
             ],
             [
              0.1111111111111111,
              "#46039f"
             ],
             [
              0.2222222222222222,
              "#7201a8"
             ],
             [
              0.3333333333333333,
              "#9c179e"
             ],
             [
              0.4444444444444444,
              "#bd3786"
             ],
             [
              0.5555555555555556,
              "#d8576b"
             ],
             [
              0.6666666666666666,
              "#ed7953"
             ],
             [
              0.7777777777777778,
              "#fb9f3a"
             ],
             [
              0.8888888888888888,
              "#fdca26"
             ],
             [
              1,
              "#f0f921"
             ]
            ],
            "type": "contour"
           }
          ],
          "contourcarpet": [
           {
            "colorbar": {
             "outlinewidth": 0,
             "ticks": ""
            },
            "type": "contourcarpet"
           }
          ],
          "heatmap": [
           {
            "colorbar": {
             "outlinewidth": 0,
             "ticks": ""
            },
            "colorscale": [
             [
              0,
              "#0d0887"
             ],
             [
              0.1111111111111111,
              "#46039f"
             ],
             [
              0.2222222222222222,
              "#7201a8"
             ],
             [
              0.3333333333333333,
              "#9c179e"
             ],
             [
              0.4444444444444444,
              "#bd3786"
             ],
             [
              0.5555555555555556,
              "#d8576b"
             ],
             [
              0.6666666666666666,
              "#ed7953"
             ],
             [
              0.7777777777777778,
              "#fb9f3a"
             ],
             [
              0.8888888888888888,
              "#fdca26"
             ],
             [
              1,
              "#f0f921"
             ]
            ],
            "type": "heatmap"
           }
          ],
          "heatmapgl": [
           {
            "colorbar": {
             "outlinewidth": 0,
             "ticks": ""
            },
            "colorscale": [
             [
              0,
              "#0d0887"
             ],
             [
              0.1111111111111111,
              "#46039f"
             ],
             [
              0.2222222222222222,
              "#7201a8"
             ],
             [
              0.3333333333333333,
              "#9c179e"
             ],
             [
              0.4444444444444444,
              "#bd3786"
             ],
             [
              0.5555555555555556,
              "#d8576b"
             ],
             [
              0.6666666666666666,
              "#ed7953"
             ],
             [
              0.7777777777777778,
              "#fb9f3a"
             ],
             [
              0.8888888888888888,
              "#fdca26"
             ],
             [
              1,
              "#f0f921"
             ]
            ],
            "type": "heatmapgl"
           }
          ],
          "histogram": [
           {
            "marker": {
             "pattern": {
              "fillmode": "overlay",
              "size": 10,
              "solidity": 0.2
             }
            },
            "type": "histogram"
           }
          ],
          "histogram2d": [
           {
            "colorbar": {
             "outlinewidth": 0,
             "ticks": ""
            },
            "colorscale": [
             [
              0,
              "#0d0887"
             ],
             [
              0.1111111111111111,
              "#46039f"
             ],
             [
              0.2222222222222222,
              "#7201a8"
             ],
             [
              0.3333333333333333,
              "#9c179e"
             ],
             [
              0.4444444444444444,
              "#bd3786"
             ],
             [
              0.5555555555555556,
              "#d8576b"
             ],
             [
              0.6666666666666666,
              "#ed7953"
             ],
             [
              0.7777777777777778,
              "#fb9f3a"
             ],
             [
              0.8888888888888888,
              "#fdca26"
             ],
             [
              1,
              "#f0f921"
             ]
            ],
            "type": "histogram2d"
           }
          ],
          "histogram2dcontour": [
           {
            "colorbar": {
             "outlinewidth": 0,
             "ticks": ""
            },
            "colorscale": [
             [
              0,
              "#0d0887"
             ],
             [
              0.1111111111111111,
              "#46039f"
             ],
             [
              0.2222222222222222,
              "#7201a8"
             ],
             [
              0.3333333333333333,
              "#9c179e"
             ],
             [
              0.4444444444444444,
              "#bd3786"
             ],
             [
              0.5555555555555556,
              "#d8576b"
             ],
             [
              0.6666666666666666,
              "#ed7953"
             ],
             [
              0.7777777777777778,
              "#fb9f3a"
             ],
             [
              0.8888888888888888,
              "#fdca26"
             ],
             [
              1,
              "#f0f921"
             ]
            ],
            "type": "histogram2dcontour"
           }
          ],
          "mesh3d": [
           {
            "colorbar": {
             "outlinewidth": 0,
             "ticks": ""
            },
            "type": "mesh3d"
           }
          ],
          "parcoords": [
           {
            "line": {
             "colorbar": {
              "outlinewidth": 0,
              "ticks": ""
             }
            },
            "type": "parcoords"
           }
          ],
          "pie": [
           {
            "automargin": true,
            "type": "pie"
           }
          ],
          "scatter": [
           {
            "marker": {
             "colorbar": {
              "outlinewidth": 0,
              "ticks": ""
             }
            },
            "type": "scatter"
           }
          ],
          "scatter3d": [
           {
            "line": {
             "colorbar": {
              "outlinewidth": 0,
              "ticks": ""
             }
            },
            "marker": {
             "colorbar": {
              "outlinewidth": 0,
              "ticks": ""
             }
            },
            "type": "scatter3d"
           }
          ],
          "scattercarpet": [
           {
            "marker": {
             "colorbar": {
              "outlinewidth": 0,
              "ticks": ""
             }
            },
            "type": "scattercarpet"
           }
          ],
          "scattergeo": [
           {
            "marker": {
             "colorbar": {
              "outlinewidth": 0,
              "ticks": ""
             }
            },
            "type": "scattergeo"
           }
          ],
          "scattergl": [
           {
            "marker": {
             "colorbar": {
              "outlinewidth": 0,
              "ticks": ""
             }
            },
            "type": "scattergl"
           }
          ],
          "scattermapbox": [
           {
            "marker": {
             "colorbar": {
              "outlinewidth": 0,
              "ticks": ""
             }
            },
            "type": "scattermapbox"
           }
          ],
          "scatterpolar": [
           {
            "marker": {
             "colorbar": {
              "outlinewidth": 0,
              "ticks": ""
             }
            },
            "type": "scatterpolar"
           }
          ],
          "scatterpolargl": [
           {
            "marker": {
             "colorbar": {
              "outlinewidth": 0,
              "ticks": ""
             }
            },
            "type": "scatterpolargl"
           }
          ],
          "scatterternary": [
           {
            "marker": {
             "colorbar": {
              "outlinewidth": 0,
              "ticks": ""
             }
            },
            "type": "scatterternary"
           }
          ],
          "surface": [
           {
            "colorbar": {
             "outlinewidth": 0,
             "ticks": ""
            },
            "colorscale": [
             [
              0,
              "#0d0887"
             ],
             [
              0.1111111111111111,
              "#46039f"
             ],
             [
              0.2222222222222222,
              "#7201a8"
             ],
             [
              0.3333333333333333,
              "#9c179e"
             ],
             [
              0.4444444444444444,
              "#bd3786"
             ],
             [
              0.5555555555555556,
              "#d8576b"
             ],
             [
              0.6666666666666666,
              "#ed7953"
             ],
             [
              0.7777777777777778,
              "#fb9f3a"
             ],
             [
              0.8888888888888888,
              "#fdca26"
             ],
             [
              1,
              "#f0f921"
             ]
            ],
            "type": "surface"
           }
          ],
          "table": [
           {
            "cells": {
             "fill": {
              "color": "#EBF0F8"
             },
             "line": {
              "color": "white"
             }
            },
            "header": {
             "fill": {
              "color": "#C8D4E3"
             },
             "line": {
              "color": "white"
             }
            },
            "type": "table"
           }
          ]
         },
         "layout": {
          "annotationdefaults": {
           "arrowcolor": "#2a3f5f",
           "arrowhead": 0,
           "arrowwidth": 1
          },
          "autotypenumbers": "strict",
          "coloraxis": {
           "colorbar": {
            "outlinewidth": 0,
            "ticks": ""
           }
          },
          "colorscale": {
           "diverging": [
            [
             0,
             "#8e0152"
            ],
            [
             0.1,
             "#c51b7d"
            ],
            [
             0.2,
             "#de77ae"
            ],
            [
             0.3,
             "#f1b6da"
            ],
            [
             0.4,
             "#fde0ef"
            ],
            [
             0.5,
             "#f7f7f7"
            ],
            [
             0.6,
             "#e6f5d0"
            ],
            [
             0.7,
             "#b8e186"
            ],
            [
             0.8,
             "#7fbc41"
            ],
            [
             0.9,
             "#4d9221"
            ],
            [
             1,
             "#276419"
            ]
           ],
           "sequential": [
            [
             0,
             "#0d0887"
            ],
            [
             0.1111111111111111,
             "#46039f"
            ],
            [
             0.2222222222222222,
             "#7201a8"
            ],
            [
             0.3333333333333333,
             "#9c179e"
            ],
            [
             0.4444444444444444,
             "#bd3786"
            ],
            [
             0.5555555555555556,
             "#d8576b"
            ],
            [
             0.6666666666666666,
             "#ed7953"
            ],
            [
             0.7777777777777778,
             "#fb9f3a"
            ],
            [
             0.8888888888888888,
             "#fdca26"
            ],
            [
             1,
             "#f0f921"
            ]
           ],
           "sequentialminus": [
            [
             0,
             "#0d0887"
            ],
            [
             0.1111111111111111,
             "#46039f"
            ],
            [
             0.2222222222222222,
             "#7201a8"
            ],
            [
             0.3333333333333333,
             "#9c179e"
            ],
            [
             0.4444444444444444,
             "#bd3786"
            ],
            [
             0.5555555555555556,
             "#d8576b"
            ],
            [
             0.6666666666666666,
             "#ed7953"
            ],
            [
             0.7777777777777778,
             "#fb9f3a"
            ],
            [
             0.8888888888888888,
             "#fdca26"
            ],
            [
             1,
             "#f0f921"
            ]
           ]
          },
          "colorway": [
           "#636efa",
           "#EF553B",
           "#00cc96",
           "#ab63fa",
           "#FFA15A",
           "#19d3f3",
           "#FF6692",
           "#B6E880",
           "#FF97FF",
           "#FECB52"
          ],
          "font": {
           "color": "#2a3f5f"
          },
          "geo": {
           "bgcolor": "white",
           "lakecolor": "white",
           "landcolor": "#E5ECF6",
           "showlakes": true,
           "showland": true,
           "subunitcolor": "white"
          },
          "hoverlabel": {
           "align": "left"
          },
          "hovermode": "closest",
          "mapbox": {
           "style": "light"
          },
          "paper_bgcolor": "white",
          "plot_bgcolor": "#E5ECF6",
          "polar": {
           "angularaxis": {
            "gridcolor": "white",
            "linecolor": "white",
            "ticks": ""
           },
           "bgcolor": "#E5ECF6",
           "radialaxis": {
            "gridcolor": "white",
            "linecolor": "white",
            "ticks": ""
           }
          },
          "scene": {
           "xaxis": {
            "backgroundcolor": "#E5ECF6",
            "gridcolor": "white",
            "gridwidth": 2,
            "linecolor": "white",
            "showbackground": true,
            "ticks": "",
            "zerolinecolor": "white"
           },
           "yaxis": {
            "backgroundcolor": "#E5ECF6",
            "gridcolor": "white",
            "gridwidth": 2,
            "linecolor": "white",
            "showbackground": true,
            "ticks": "",
            "zerolinecolor": "white"
           },
           "zaxis": {
            "backgroundcolor": "#E5ECF6",
            "gridcolor": "white",
            "gridwidth": 2,
            "linecolor": "white",
            "showbackground": true,
            "ticks": "",
            "zerolinecolor": "white"
           }
          },
          "shapedefaults": {
           "line": {
            "color": "#2a3f5f"
           }
          },
          "ternary": {
           "aaxis": {
            "gridcolor": "white",
            "linecolor": "white",
            "ticks": ""
           },
           "baxis": {
            "gridcolor": "white",
            "linecolor": "white",
            "ticks": ""
           },
           "bgcolor": "#E5ECF6",
           "caxis": {
            "gridcolor": "white",
            "linecolor": "white",
            "ticks": ""
           }
          },
          "title": {
           "x": 0.05
          },
          "xaxis": {
           "automargin": true,
           "gridcolor": "white",
           "linecolor": "white",
           "ticks": "",
           "title": {
            "standoff": 15
           },
           "zerolinecolor": "white",
           "zerolinewidth": 2
          },
          "yaxis": {
           "automargin": true,
           "gridcolor": "white",
           "linecolor": "white",
           "ticks": "",
           "title": {
            "standoff": 15
           },
           "zerolinecolor": "white",
           "zerolinewidth": 2
          }
         }
        },
        "title": {
         "font": {
          "color": "#4D5663"
         }
        },
        "xaxis": {
         "autorange": true,
         "gridcolor": "#E1E5ED",
         "range": [
          -0.6931471805599453,
          0.4054651081081644
         ],
         "showgrid": true,
         "tickfont": {
          "color": "#4D5663"
         },
         "title": {
          "font": {
           "color": "#4D5663"
          },
          "text": "change in log price"
         },
         "type": "linear",
         "zerolinecolor": "#E1E5ED"
        },
        "yaxis": {
         "autorange": true,
         "gridcolor": "#E1E5ED",
         "range": [
          -0.21711095167101332,
          0.1846082804035575
         ],
         "showgrid": true,
         "tickfont": {
          "color": "#4D5663"
         },
         "title": {
          "font": {
           "color": "#4D5663"
          },
          "text": "change in log cost"
         },
         "type": "linear",
         "zerolinecolor": "#E1E5ED"
        }
       }
      },
      "image/png": "[encoded data removed]",
      "text/html": [
       "<div>                            <div id=\"09fdda50-036e-448b-ad18-c40cba6eee4b\" class=\"plotly-graph-div\" style=\"height:525px; width:100%;\"></div>            <script type=\"text/javascript\">                require([\"plotly\"], function(Plotly) {                    window.PLOTLYENV=window.PLOTLYENV || {};\n",
       "                    window.PLOTLYENV.BASE_URL='https://plot.ly';                                    if (document.getElementById(\"09fdda50-036e-448b-ad18-c40cba6eee4b\")) {                    Plotly.newPlot(                        \"09fdda50-036e-448b-ad18-c40cba6eee4b\",                        [{\"line\":{\"color\":\"rgba(255, 153, 51, 1.0)\",\"dash\":\"solid\",\"shape\":\"linear\",\"width\":1.3},\"mode\":\"lines\",\"name\":\" Banana,raw\",\"text\":\"\",\"type\":\"scatter\",\"x\":[-0.6931471805599453,-0.5108256237659907,-0.35667494393873245,-0.22314355131420968,-0.10536051565782628,0.0,0.09531017980432495,0.1823215567939546,0.26236426446749106,0.33647223662121284,0.4054651081081644],\"y\":[-0.029652601479320476,-0.023397936367012876,-0.01718276360776043,-0.011005694385064877,-0.00538643139910236,0.0,0.004234103927641291,0.006741513265729743,0.0068192627983111,0.006819262430732989,0.0068192625657435444]},{\"line\":{\"color\":\"rgba(55, 128, 191, 1.0)\",\"dash\":\"solid\",\"shape\":\"linear\",\"width\":1.3},\"mode\":\"lines\",\"name\":\"Apple, Gala\",\"text\":\"\",\"type\":\"scatter\",\"x\":[-0.6931471805599453,-0.5108256237659907,-0.35667494393873245,-0.22314355131420968,-0.10536051565782628,0.0,0.09531017980432495,0.1823215567939546,0.26236426446749106,0.33647223662121284,0.4054651081081644],\"y\":[-1.572307085788229e-08,-1.5719256797643534e-08,-1.5648173102042514e-08,-1.265520662943838e-08,-3.4740426151762336e-09,0.0,-1.4534566433899357e-08,-1.3464536354365554e-08,-1.5052895932007225e-08,-1.555616514379802e-08,-1.0609787771338406e-08]},{\"line\":{\"color\":\"rgba(50, 171, 96, 1.0)\",\"dash\":\"solid\",\"shape\":\"linear\",\"width\":1.3},\"mode\":\"lines\",\"name\":\"Oranges, Navel\",\"text\":\"\",\"type\":\"scatter\",\"x\":[-0.6931471805599453,-0.5108256237659907,-0.35667494393873245,-0.22314355131420968,-0.10536051565782628,0.0,0.09531017980432495,0.1823215567939546,0.26236426446749106,0.33647223662121284,0.4054651081081644],\"y\":[-0.01171491526537751,-0.009013249983663284,-0.006318976393598185,-0.003929791222974597,-0.0019629726238367634,0.0,0.0019591036043742896,0.0039144084021034906,0.005865857714865553,0.00781385645981047,0.009757395769055427]},{\"line\":{\"color\":\"rgba(128, 0, 128, 1.0)\",\"dash\":\"solid\",\"shape\":\"linear\",\"width\":1.3},\"mode\":\"lines\",\"name\":\"Blueberries\",\"text\":\"\",\"type\":\"scatter\",\"x\":[-0.6931471805599453,-0.5108256237659907,-0.35667494393873245,-0.22314355131420968,-0.10536051565782628,0.0,0.09531017980432495,0.1823215567939546,0.26236426446749106,0.33647223662121284,0.4054651081081644],\"y\":[7.67671034902433e-09,5.2534512157927124e-09,2.8234496922794226e-09,5.472091667181824e-10,-9.463827503923388e-10,0.0,-2.1983885847027267e-09,-5.8884395311050225e-09,-9.493248676703245e-09,-1.2228376386307095e-08,-1.398044223502215e-08]},{\"line\":{\"color\":\"rgba(219, 64, 82, 1.0)\",\"dash\":\"solid\",\"shape\":\"linear\",\"width\":1.3},\"mode\":\"lines\",\"name\":\"Raspberries\",\"text\":\"\",\"type\":\"scatter\",\"x\":[-0.6931471805599453,-0.5108256237659907,-0.35667494393873245,-0.22314355131420968,-0.10536051565782628,0.0,0.09531017980432495,0.1823215567939546,0.26236426446749106,0.33647223662121284,0.4054651081081644],\"y\":[-7.031966122980032e-10,-7.638456536871086e-10,-4.863526249582502e-10,-4.0444836377070326e-10,3.345013155297681e-11,0.0,-9.174313535299062e-10,-2.3887790662978344e-09,-4.105433668123027e-09,-5.831936839359356e-09,-7.418798714006381e-09]},{\"line\":{\"color\":\"rgba(0, 128, 128, 1.0)\",\"dash\":\"solid\",\"shape\":\"linear\",\"width\":1.3},\"mode\":\"lines\",\"name\":\"Grapes, green, seedless\",\"text\":\"\",\"type\":\"scatter\",\"x\":[-0.6931471805599453,-0.5108256237659907,-0.35667494393873245,-0.22314355131420968,-0.10536051565782628,0.0,0.09531017980432495,0.1823215567939546,0.26236426446749106,0.33647223662121284,0.4054651081081644],\"y\":[-9.047716616880081e-09,-6.657279749644109e-09,-4.473527003293402e-09,-2.569516935861343e-09,-1.0453311555159895e-09,0.0,4.998248480519872e-10,4.332758595409545e-10,-1.680920958121722e-10,-1.228827373944753e-09,-2.643648081721028e-09]},{\"line\":{\"color\":\"rgba(255, 255, 51, 1.0)\",\"dash\":\"solid\",\"shape\":\"linear\",\"width\":1.3},\"mode\":\"lines\",\"name\":\"Strawberries\",\"text\":\"\",\"type\":\"scatter\",\"x\":[-0.6931471805599453,-0.5108256237659907,-0.35667494393873245,-0.22314355131420968,-0.10536051565782628,0.0,0.09531017980432495,0.1823215567939546,0.26236426446749106,0.33647223662121284,0.4054651081081644],\"y\":[-1.0559821073363238e-08,-7.1770819545216794e-09,-4.4746226824013065e-09,-2.3320084779334406e-09,-8.383850284194342e-10,0.0,3.5491343191392915e-10,2.2510238115411838e-10,-3.576521301980138e-10,-1.328719468668536e-09,-2.6040603041165837e-09]},{\"line\":{\"color\":\"rgba(128, 128, 0, 1.0)\",\"dash\":\"solid\",\"shape\":\"linear\",\"width\":1.3},\"mode\":\"lines\",\"name\":\"Lentils, red\",\"text\":\"\",\"type\":\"scatter\",\"x\":[-0.6931471805599453,-0.5108256237659907,-0.35667494393873245,-0.22314355131420968,-0.10536051565782628,0.0,0.09531017980432495,0.1823215567939546,0.26236426446749106,0.33647223662121284,0.4054651081081644],\"y\":[-0.04397823959338412,-0.028824016758969905,-0.015508868449938991,-0.0031293712162609056,2.3559130002798373e-07,0.0,-7.288805696699245e-09,-8.941436853155916e-09,-9.707986794942534e-09,-1.0206054609119932e-08,-1.0596035882675775e-08]},{\"line\":{\"color\":\"rgba(251, 128, 114, 1.0)\",\"dash\":\"solid\",\"shape\":\"linear\",\"width\":1.3},\"mode\":\"lines\",\"name\":\"Tofu\",\"text\":\"\",\"type\":\"scatter\",\"x\":[-0.6931471805599453,-0.5108256237659907,-0.35667494393873245,-0.22314355131420968,-0.10536051565782628,0.0,0.09531017980432495,0.1823215567939546,0.26236426446749106,0.33647223662121284,0.4054651081081644],\"y\":[-1.551674778491932e-08,-1.48419697634318e-08,-1.1922587432897434e-08,-7.307546705580903e-09,-3.0599638425520168e-09,0.0,1.8535672979299512e-09,2.7436157752468973e-09,2.7488580263101757e-09,2.973840724803821e-09,3.525238317262635e-09]},{\"line\":{\"color\":\"rgba(128, 177, 211, 1.0)\",\"dash\":\"solid\",\"shape\":\"linear\",\"width\":1.3},\"mode\":\"lines\",\"name\":\"Split peas, dry\",\"text\":\"\",\"type\":\"scatter\",\"x\":[-0.6931471805599453,-0.5108256237659907,-0.35667494393873245,-0.22314355131420968,-0.10536051565782628,0.0,0.09531017980432495,0.1823215567939546,0.26236426446749106,0.33647223662121284,0.4054651081081644],\"y\":[-0.001918939973602894,-1.1344574122286221e-08,-1.524474569321552e-08,-1.450945285565073e-08,-6.940238852162717e-09,0.0,3.6225604672534566e-09,5.104244791572376e-09,6.0244731244269e-09,3.863080292631053e-09,5.492737360959861e-09]},{\"line\":{\"color\":\"rgba(128, 177, 211, 0.8999999999999999)\",\"dash\":\"solid\",\"shape\":\"linear\",\"width\":1.3},\"mode\":\"lines\",\"name\":\"Chickpeas, canned\",\"text\":\"\",\"type\":\"scatter\",\"x\":[-0.6931471805599453,-0.5108256237659907,-0.35667494393873245,-0.22314355131420968,-0.10536051565782628,0.0,0.09531017980432495,0.1823215567939546,0.26236426446749106,0.33647223662121284,0.4054651081081644],\"y\":[8.898188848454225e-10,8.595084640320376e-10,7.183045267118789e-10,5.102973597933821e-10,2.647655427883471e-10,0.0,-2.72773026425709e-10,-5.467156728829044e-10,-8.177402092148292e-10,-1.0834305680703009e-09,-1.342455036925241e-09]},{\"line\":{\"color\":\"rgba(255, 153, 51, 0.8999999999999999)\",\"dash\":\"solid\",\"shape\":\"linear\",\"width\":1.3},\"mode\":\"lines\",\"name\":\"Quinoa, dry\",\"text\":\"\",\"type\":\"scatter\",\"x\":[-0.6931471805599453,-0.5108256237659907,-0.35667494393873245,-0.22314355131420968,-0.10536051565782628,0.0,0.09531017980432495,0.1823215567939546,0.26236426446749106,0.33647223662121284,0.4054651081081644],\"y\":[-0.008257717250694498,-0.0006287403212418017,3.837702348875779e-08,8.282323903493157e-09,2.4826700664439135e-09,0.0,-1.4141197112189644e-09,-2.346755792448641e-09,-3.0202335122942993e-09,-3.537854349074822e-09,-3.9541811014860705e-09]},{\"line\":{\"color\":\"rgba(55, 128, 191, 0.8999999999999999)\",\"dash\":\"solid\",\"shape\":\"linear\",\"width\":1.3},\"mode\":\"lines\",\"name\":\"Hummus\",\"text\":\"\",\"type\":\"scatter\",\"x\":[-0.6931471805599453,-0.5108256237659907,-0.35667494393873245,-0.22314355131420968,-0.10536051565782628,0.0,0.09531017980432495,0.1823215567939546,0.26236426446749106,0.33647223662121284,0.4054651081081644],\"y\":[-4.6211254929510695e-09,1.4745866739004738e-09,3.3610019155722963e-09,3.042243785591267e-09,1.6958139322840867e-09,0.0,-1.6986676524272115e-09,-3.3840419412871693e-09,-4.948350519371027e-09,-6.280351258784415e-09,-7.4292929862022574e-09]},{\"line\":{\"color\":\"rgba(50, 171, 96, 0.8999999999999999)\",\"dash\":\"solid\",\"shape\":\"linear\",\"width\":1.3},\"mode\":\"lines\",\"name\":\"Black beans, canned\",\"text\":\"\",\"type\":\"scatter\",\"x\":[-0.6931471805599453,-0.5108256237659907,-0.35667494393873245,-0.22314355131420968,-0.10536051565782628,0.0,0.09531017980432495,0.1823215567939546,0.26236426446749106,0.33647223662121284,0.4054651081081644],\"y\":[-0.18566551658824515,-0.13754903462731002,-0.09905859617875408,-0.06337544941915613,-0.029612757773852926,0.0,0.027083230687134904,0.03524214917504101,0.04069823414448287,0.04471851926278404,0.048722126865029566]},{\"line\":{\"color\":\"rgba(128, 0, 128, 0.8999999999999999)\",\"dash\":\"solid\",\"shape\":\"linear\",\"width\":1.3},\"mode\":\"lines\",\"name\":\"Tomato, Roma\",\"text\":\"\",\"type\":\"scatter\",\"x\":[-0.6931471805599453,-0.5108256237659907,-0.35667494393873245,-0.22314355131420968,-0.10536051565782628,0.0,0.09531017980432495,0.1823215567939546,0.26236426446749106,0.33647223662121284,0.4054651081081644],\"y\":[-9.70524920698184e-09,-6.5772311147266984e-09,-4.2528792800152234e-09,-2.3924335874367292e-09,-9.560932050641574e-10,0.0,4.0425041084191414e-10,2.1331336694741793e-10,-5.623019829119574e-10,-1.8536526775164149e-09,-3.5431720953369994e-09]},{\"line\":{\"color\":\"rgba(219, 64, 82, 0.8999999999999999)\",\"dash\":\"solid\",\"shape\":\"linear\",\"width\":1.3},\"mode\":\"lines\",\"name\":\"Broccoli\",\"text\":\"\",\"type\":\"scatter\",\"x\":[-0.6931471805599453,-0.5108256237659907,-0.35667494393873245,-0.22314355131420968,-0.10536051565782628,0.0,0.09531017980432495,0.1823215567939546,0.26236426446749106,0.33647223662121284,0.4054651081081644],\"y\":[-1.5558512710420112e-08,-1.576903087217869e-08,-1.5529940676348044e-08,-9.857593678844142e-09,-3.717994696811937e-09,0.0,-4.790237662459928e-09,-1.500265867245489e-08,-1.563613151190677e-08,-1.5641704942599853e-08,-1.5618445880892716e-08]},{\"line\":{\"color\":\"rgba(0, 128, 128, 0.8999999999999999)\",\"dash\":\"solid\",\"shape\":\"linear\",\"width\":1.3},\"mode\":\"lines\",\"name\":\"Kale\",\"text\":\"\",\"type\":\"scatter\",\"x\":[-0.6931471805599453,-0.5108256237659907,-0.35667494393873245,-0.22314355131420968,-0.10536051565782628,0.0,0.09531017980432495,0.1823215567939546,0.26236426446749106,0.33647223662121284,0.4054651081081644],\"y\":[-0.022904153454124936,-0.015274080154083795,-0.011433565306948782,-0.007607840737371071,-0.0037966899296865576,0.0,0.003782324062982713,0.0075504119637712554,0.011064391588259264,0.01415964814878745,0.01724535486635341]},{\"line\":{\"color\":\"rgba(255, 255, 51, 0.8999999999999999)\",\"dash\":\"solid\",\"shape\":\"linear\",\"width\":1.3},\"mode\":\"lines\",\"name\":\"Green beans, raw\",\"text\":\"\",\"type\":\"scatter\",\"x\":[-0.6931471805599453,-0.5108256237659907,-0.35667494393873245,-0.22314355131420968,-0.10536051565782628,0.0,0.09531017980432495,0.1823215567939546,0.26236426446749106,0.33647223662121284,0.4054651081081644],\"y\":[-2.458225737102491e-09,-1.5395835946951503e-08,-1.5739139893126592e-08,-1.504881564028571e-08,-1.0487813228473581e-08,0.0,1.2971896805844409e-08,2.5462763795234336e-08,3.58728118548539e-08,5.596341300319717e-08,7.460645112060814e-08]},{\"line\":{\"color\":\"rgba(128, 128, 0, 0.8999999999999999)\",\"dash\":\"solid\",\"shape\":\"linear\",\"width\":1.3},\"mode\":\"lines\",\"name\":\"Onions, yellow\",\"text\":\"\",\"type\":\"scatter\",\"x\":[-0.6931471805599453,-0.5108256237659907,-0.35667494393873245,-0.22314355131420968,-0.10536051565782628,0.0,0.09531017980432495,0.1823215567939546,0.26236426446749106,0.33647223662121284,0.4054651081081644],\"y\":[-4.675660758397183e-09,-2.6452338132712936e-09,-1.3995662416578887e-09,-6.480206373606023e-10,-2.1520230044742248e-10,0.0,5.691869198025773e-11,-8.324341216371609e-12,-1.7250545438041373e-10,-4.1959014049829215e-10,-7.37610639506311e-10]},{\"line\":{\"color\":\"rgba(251, 128, 114, 0.8999999999999999)\",\"dash\":\"solid\",\"shape\":\"linear\",\"width\":1.3},\"mode\":\"lines\",\"name\":\"Celery\",\"text\":\"\",\"type\":\"scatter\",\"x\":[-0.6931471805599453,-0.5108256237659907,-0.35667494393873245,-0.22314355131420968,-0.10536051565782628,0.0,0.09531017980432495,0.1823215567939546,0.26236426446749106,0.33647223662121284,0.4054651081081644],\"y\":[-1.1935218107332358e-08,-9.953669604789334e-09,-7.500660676270878e-09,-4.92535380361462e-09,-2.394498491245172e-09,0.0,2.194599610739696e-09,4.147268742042833e-09,5.835443000661483e-09,7.25373469768038e-09,8.410478722512848e-09]},{\"line\":{\"color\":\"rgba(251, 128, 114, 0.7999999999999998)\",\"dash\":\"solid\",\"shape\":\"linear\",\"width\":1.3},\"mode\":\"lines\",\"name\":\"Potato, Russet\",\"text\":\"\",\"type\":\"scatter\",\"x\":[-0.6931471805599453,-0.5108256237659907,-0.35667494393873245,-0.22314355131420968,-0.10536051565782628,0.0,0.09531017980432495,0.1823215567939546,0.26236426446749106,0.33647223662121284,0.4054651081081644],\"y\":[-0.011184594739442348,-1.5798620869764952e-08,2.0357711051727725e-09,-1.563882391380589e-08,-1.369427458592634e-08,0.0,1.2811707168578476e-08,3.330816922315103e-08,4.791565163088561e-08,7.087305935221234e-08,9.234797388930997e-08]},{\"line\":{\"color\":\"rgba(128, 177, 211, 0.7999999999999998)\",\"dash\":\"solid\",\"shape\":\"linear\",\"width\":1.3},\"mode\":\"lines\",\"name\":\"Carrot\",\"text\":\"\",\"type\":\"scatter\",\"x\":[-0.6931471805599453,-0.5108256237659907,-0.35667494393873245,-0.22314355131420968,-0.10536051565782628,0.0,0.09531017980432495,0.1823215567939546,0.26236426446749106,0.33647223662121284,0.4054651081081644],\"y\":[-0.08717975018382935,-0.05812570045735961,-0.036126546947566465,-0.01684515285905748,-0.004766812931784825,0.0,0.001682794822168504,0.0033627723715782955,0.005039927315135691,0.00671427049573731,0.008385812198289317]},{\"line\":{\"color\":\"rgba(255, 153, 51, 0.7999999999999998)\",\"dash\":\"solid\",\"shape\":\"linear\",\"width\":1.3},\"mode\":\"lines\",\"name\":\"Cucumber\",\"text\":\"\",\"type\":\"scatter\",\"x\":[-0.6931471805599453,-0.5108256237659907,-0.35667494393873245,-0.22314355131420968,-0.10536051565782628,0.0,0.09531017980432495,0.1823215567939546,0.26236426446749106,0.33647223662121284,0.4054651081081644],\"y\":[-8.21871463154776e-09,-6.041574259139557e-09,-4.085879198887913e-09,-2.3920301323886156e-09,-1.0138914157830738e-09,0.0,6.184996957122806e-10,8.331830777390113e-10,6.581106768487829e-10,1.322151277262399e-10,-6.925967579629969e-10]},{\"line\":{\"color\":\"rgba(55, 128, 191, 0.7999999999999998)\",\"dash\":\"solid\",\"shape\":\"linear\",\"width\":1.3},\"mode\":\"lines\",\"name\":\"Avocado\",\"text\":\"\",\"type\":\"scatter\",\"x\":[-0.6931471805599453,-0.5108256237659907,-0.35667494393873245,-0.22314355131420968,-0.10536051565782628,0.0,0.09531017980432495,0.1823215567939546,0.26236426446749106,0.33647223662121284,0.4054651081081644],\"y\":[-0.03174932347990932,-0.02049956673672614,-0.011121229832779096,-0.005107483282907135,-0.002550568721752029,0.0,0.002544056719255059,0.004215988375794859,0.004215987330668613,0.004215987119545512,0.0042159870709814785]},{\"line\":{\"color\":\"rgba(50, 171, 96, 0.7999999999999998)\",\"dash\":\"solid\",\"shape\":\"linear\",\"width\":1.3},\"mode\":\"lines\",\"name\":\"Lettuce, Romaine\",\"text\":\"\",\"type\":\"scatter\",\"x\":[-0.6931471805599453,-0.5108256237659907,-0.35667494393873245,-0.22314355131420968,-0.10536051565782628,0.0,0.09531017980432495,0.1823215567939546,0.26236426446749106,0.33647223662121284,0.4054651081081644],\"y\":[-1.5756060469444454e-08,-1.5622902316183177e-08,-1.5456720467538868e-08,-1.566402275721251e-08,-1.4018832637528115e-08,0.0,-5.403218886921476e-09,-6.692224130599733e-09,-9.98353105173575e-09,-1.3439873193630942e-08,-1.4550448951653709e-08]},{\"line\":{\"color\":\"rgba(128, 0, 128, 0.7999999999999998)\",\"dash\":\"solid\",\"shape\":\"linear\",\"width\":1.3},\"mode\":\"lines\",\"name\":\"Mushrooms\",\"text\":\"\",\"type\":\"scatter\",\"x\":[-0.6931471805599453,-0.5108256237659907,-0.35667494393873245,-0.22314355131420968,-0.10536051565782628,0.0,0.09531017980432495,0.1823215567939546,0.26236426446749106,0.33647223662121284,0.4054651081081644],\"y\":[-1.579199505864933e-08,-1.5305981599386357e-08,-1.447613861491259e-08,-3.0870395133821667e-10,-6.419689226717698e-10,0.0,-1.7818972979699189e-09,-5.440114706854276e-09,-9.667354630249066e-09,-1.3129522999516552e-08,-1.4572271495743507e-08]},{\"line\":{\"color\":\"rgba(219, 64, 82, 0.7999999999999998)\",\"dash\":\"solid\",\"shape\":\"linear\",\"width\":1.3},\"mode\":\"lines\",\"name\":\"Spinach\",\"text\":\"\",\"type\":\"scatter\",\"x\":[-0.6931471805599453,-0.5108256237659907,-0.35667494393873245,-0.22314355131420968,-0.10536051565782628,0.0,0.09531017980432495,0.1823215567939546,0.26236426446749106,0.33647223662121284,0.4054651081081644],\"y\":[-1.3534677026361472e-08,1.5853840493791383e-07,-1.5814836232407425e-08,-1.5677701260201756e-08,-1.5486507973795024e-08,0.0,-5.13692201207681e-09,-1.5238893374496613e-08,-1.5119239863357527e-08,-1.5037703750931984e-08,-1.49683290217068e-08]},{\"line\":{\"color\":\"rgba(0, 128, 128, 0.7999999999999998)\",\"dash\":\"solid\",\"shape\":\"linear\",\"width\":1.3},\"mode\":\"lines\",\"name\":\"Rice, White\",\"text\":\"\",\"type\":\"scatter\",\"x\":[-0.6931471805599453,-0.5108256237659907,-0.35667494393873245,-0.22314355131420968,-0.10536051565782628,0.0,0.09531017980432495,0.1823215567939546,0.26236426446749106,0.33647223662121284,0.4054651081081644],\"y\":[6.443993664215527e-08,2.8186230951693806e-08,1.3311056390689434e-08,6.2185212341520935e-09,2.3470623195177578e-09,0.0,-1.5423233813108826e-09,-2.6218001137842124e-09,-3.4166259879699922e-09,-4.026979424701972e-09,-4.5325805433952526e-09]},{\"line\":{\"color\":\"rgba(255, 255, 51, 0.7999999999999998)\",\"dash\":\"solid\",\"shape\":\"linear\",\"width\":1.3},\"mode\":\"lines\",\"name\":\"Tortillas, corn\",\"text\":\"\",\"type\":\"scatter\",\"x\":[-0.6931471805599453,-0.5108256237659907,-0.35667494393873245,-0.22314355131420968,-0.10536051565782628,0.0,0.09531017980432495,0.1823215567939546,0.26236426446749106,0.33647223662121284,0.4054651081081644],\"y\":[-0.011347940357039222,-0.008119792035507898,-0.005167712881316218,-0.0030286339619697714,-0.001282069984954864,0.0,0.0012804122683328085,0.0017208077668905693,0.001720715044669027,0.0017210571630789167,0.0017207325243337615]},{\"line\":{\"color\":\"rgba(128, 128, 0, 0.7999999999999998)\",\"dash\":\"solid\",\"shape\":\"linear\",\"width\":1.3},\"mode\":\"lines\",\"name\":\"Oats, rolled\",\"text\":\"\",\"type\":\"scatter\",\"x\":[-0.6931471805599453,-0.5108256237659907,-0.35667494393873245,-0.22314355131420968,-0.10536051565782628,0.0,0.09531017980432495,0.1823215567939546,0.26236426446749106,0.33647223662121284,0.4054651081081644],\"y\":[-1.4490340143960069e-08,-1.0396855097606881e-08,-6.7151415764722815e-09,-3.835225366870891e-09,-1.660013017313923e-09,0.0,1.2924830086720941e-09,2.317923850170621e-09,3.1454017119173954e-09,3.8231351344923676e-09,4.385414022299574e-09]},{\"line\":{\"color\":\"rgba(128, 128, 0, 0.7)\",\"dash\":\"solid\",\"shape\":\"linear\",\"width\":1.3},\"mode\":\"lines\",\"name\":\"Soy milk, unsweetened\",\"text\":\"\",\"type\":\"scatter\",\"x\":[-0.6931471805599453,-0.5108256237659907,-0.35667494393873245,-0.22314355131420968,-0.10536051565782628,0.0,0.09531017980432495,0.1823215567939546,0.26236426446749106,0.33647223662121284,0.4054651081081644],\"y\":[-0.19702499006728477,-0.15439193942801932,-0.11350238541947295,-0.07421931409318766,-0.03642125135082577,0.0,0.0351412268655212,0.06908935585817434,0.1019227487924666,0.13371229217768915,0.16452231879982895]},{\"line\":{\"color\":\"rgba(251, 128, 114, 0.7)\",\"dash\":\"solid\",\"shape\":\"linear\",\"width\":1.3},\"mode\":\"lines\",\"name\":\"Peanut butter, creamy\",\"text\":\"\",\"type\":\"scatter\",\"x\":[-0.6931471805599453,-0.5108256237659907,-0.35667494393873245,-0.22314355131420968,-0.10536051565782628,0.0,0.09531017980432495,0.1823215567939546,0.26236426446749106,0.33647223662121284,0.4054651081081644],\"y\":[-0.10834646760350483,-0.08018104829491247,-0.059197530595756304,-0.03895950161273121,-0.019289899034675064,0.0,0.018924935302786945,0.036957993998634864,0.05412128471627969,0.07003343008740709,0.08412198369466775]},{\"line\":{\"color\":\"rgba(128, 177, 211, 0.7)\",\"dash\":\"solid\",\"shape\":\"linear\",\"width\":1.3},\"mode\":\"lines\",\"name\":\"Rice, Brown\",\"text\":\"\",\"type\":\"scatter\",\"x\":[-0.6931471805599453,-0.5108256237659907,-0.35667494393873245,-0.22314355131420968,-0.10536051565782628,0.0,0.09531017980432495,0.1823215567939546,0.26236426446749106,0.33647223662121284,0.4054651081081644],\"y\":[1.0796188715323849e-07,2.9326892484094394e-08,9.049031039068168e-09,3.3484401861800136e-09,1.092920420233741e-09,0.0,-6.060130177292184e-10,-9.793071913754164e-10,-1.2318239769142058e-09,-1.4187397933201836e-09,-1.5699197509877236e-09]},{\"line\":{\"color\":\"rgba(255, 153, 51, 0.7)\",\"dash\":\"solid\",\"shape\":\"linear\",\"width\":1.3},\"mode\":\"lines\",\"name\":\"Spaghetti, dry\",\"text\":\"\",\"type\":\"scatter\",\"x\":[-0.6931471805599453,-0.5108256237659907,-0.35667494393873245,-0.22314355131420968,-0.10536051565782628,0.0,0.09531017980432495,0.1823215567939546,0.26236426446749106,0.33647223662121284,0.4054651081081644],\"y\":[-0.00026539682648947993,-2.7290311737800668e-05,-1.575575926593313e-08,1.3237286390192325e-07,3.096978181465751e-08,0.0,-7.884545270006151e-09,-1.0581172105642403e-08,-1.1812944803286407e-08,-1.2053835113862181e-08,-1.2217975927907583e-08]}],                        {\"legend\":{\"bgcolor\":\"#F5F6F9\",\"font\":{\"color\":\"#4D5663\"}},\"paper_bgcolor\":\"#F5F6F9\",\"plot_bgcolor\":\"#F5F6F9\",\"template\":{\"data\":{\"bar\":[{\"error_x\":{\"color\":\"#2a3f5f\"},\"error_y\":{\"color\":\"#2a3f5f\"},\"marker\":{\"line\":{\"color\":\"#E5ECF6\",\"width\":0.5},\"pattern\":{\"fillmode\":\"overlay\",\"size\":10,\"solidity\":0.2}},\"type\":\"bar\"}],\"barpolar\":[{\"marker\":{\"line\":{\"color\":\"#E5ECF6\",\"width\":0.5},\"pattern\":{\"fillmode\":\"overlay\",\"size\":10,\"solidity\":0.2}},\"type\":\"barpolar\"}],\"carpet\":[{\"aaxis\":{\"endlinecolor\":\"#2a3f5f\",\"gridcolor\":\"white\",\"linecolor\":\"white\",\"minorgridcolor\":\"white\",\"startlinecolor\":\"#2a3f5f\"},\"baxis\":{\"endlinecolor\":\"#2a3f5f\",\"gridcolor\":\"white\",\"linecolor\":\"white\",\"minorgridcolor\":\"white\",\"startlinecolor\":\"#2a3f5f\"},\"type\":\"carpet\"}],\"choropleth\":[{\"colorbar\":{\"outlinewidth\":0,\"ticks\":\"\"},\"type\":\"choropleth\"}],\"contour\":[{\"colorbar\":{\"outlinewidth\":0,\"ticks\":\"\"},\"colorscale\":[[0.0,\"#0d0887\"],[0.1111111111111111,\"#46039f\"],[0.2222222222222222,\"#7201a8\"],[0.3333333333333333,\"#9c179e\"],[0.4444444444444444,\"#bd3786\"],[0.5555555555555556,\"#d8576b\"],[0.6666666666666666,\"#ed7953\"],[0.7777777777777778,\"#fb9f3a\"],[0.8888888888888888,\"#fdca26\"],[1.0,\"#f0f921\"]],\"type\":\"contour\"}],\"contourcarpet\":[{\"colorbar\":{\"outlinewidth\":0,\"ticks\":\"\"},\"type\":\"contourcarpet\"}],\"heatmap\":[{\"colorbar\":{\"outlinewidth\":0,\"ticks\":\"\"},\"colorscale\":[[0.0,\"#0d0887\"],[0.1111111111111111,\"#46039f\"],[0.2222222222222222,\"#7201a8\"],[0.3333333333333333,\"#9c179e\"],[0.4444444444444444,\"#bd3786\"],[0.5555555555555556,\"#d8576b\"],[0.6666666666666666,\"#ed7953\"],[0.7777777777777778,\"#fb9f3a\"],[0.8888888888888888,\"#fdca26\"],[1.0,\"#f0f921\"]],\"type\":\"heatmap\"}],\"heatmapgl\":[{\"colorbar\":{\"outlinewidth\":0,\"ticks\":\"\"},\"colorscale\":[[0.0,\"#0d0887\"],[0.1111111111111111,\"#46039f\"],[0.2222222222222222,\"#7201a8\"],[0.3333333333333333,\"#9c179e\"],[0.4444444444444444,\"#bd3786\"],[0.5555555555555556,\"#d8576b\"],[0.6666666666666666,\"#ed7953\"],[0.7777777777777778,\"#fb9f3a\"],[0.8888888888888888,\"#fdca26\"],[1.0,\"#f0f921\"]],\"type\":\"heatmapgl\"}],\"histogram\":[{\"marker\":{\"pattern\":{\"fillmode\":\"overlay\",\"size\":10,\"solidity\":0.2}},\"type\":\"histogram\"}],\"histogram2d\":[{\"colorbar\":{\"outlinewidth\":0,\"ticks\":\"\"},\"colorscale\":[[0.0,\"#0d0887\"],[0.1111111111111111,\"#46039f\"],[0.2222222222222222,\"#7201a8\"],[0.3333333333333333,\"#9c179e\"],[0.4444444444444444,\"#bd3786\"],[0.5555555555555556,\"#d8576b\"],[0.6666666666666666,\"#ed7953\"],[0.7777777777777778,\"#fb9f3a\"],[0.8888888888888888,\"#fdca26\"],[1.0,\"#f0f921\"]],\"type\":\"histogram2d\"}],\"histogram2dcontour\":[{\"colorbar\":{\"outlinewidth\":0,\"ticks\":\"\"},\"colorscale\":[[0.0,\"#0d0887\"],[0.1111111111111111,\"#46039f\"],[0.2222222222222222,\"#7201a8\"],[0.3333333333333333,\"#9c179e\"],[0.4444444444444444,\"#bd3786\"],[0.5555555555555556,\"#d8576b\"],[0.6666666666666666,\"#ed7953\"],[0.7777777777777778,\"#fb9f3a\"],[0.8888888888888888,\"#fdca26\"],[1.0,\"#f0f921\"]],\"type\":\"histogram2dcontour\"}],\"mesh3d\":[{\"colorbar\":{\"outlinewidth\":0,\"ticks\":\"\"},\"type\":\"mesh3d\"}],\"parcoords\":[{\"line\":{\"colorbar\":{\"outlinewidth\":0,\"ticks\":\"\"}},\"type\":\"parcoords\"}],\"pie\":[{\"automargin\":true,\"type\":\"pie\"}],\"scatter\":[{\"marker\":{\"colorbar\":{\"outlinewidth\":0,\"ticks\":\"\"}},\"type\":\"scatter\"}],\"scatter3d\":[{\"line\":{\"colorbar\":{\"outlinewidth\":0,\"ticks\":\"\"}},\"marker\":{\"colorbar\":{\"outlinewidth\":0,\"ticks\":\"\"}},\"type\":\"scatter3d\"}],\"scattercarpet\":[{\"marker\":{\"colorbar\":{\"outlinewidth\":0,\"ticks\":\"\"}},\"type\":\"scattercarpet\"}],\"scattergeo\":[{\"marker\":{\"colorbar\":{\"outlinewidth\":0,\"ticks\":\"\"}},\"type\":\"scattergeo\"}],\"scattergl\":[{\"marker\":{\"colorbar\":{\"outlinewidth\":0,\"ticks\":\"\"}},\"type\":\"scattergl\"}],\"scattermapbox\":[{\"marker\":{\"colorbar\":{\"outlinewidth\":0,\"ticks\":\"\"}},\"type\":\"scattermapbox\"}],\"scatterpolar\":[{\"marker\":{\"colorbar\":{\"outlinewidth\":0,\"ticks\":\"\"}},\"type\":\"scatterpolar\"}],\"scatterpolargl\":[{\"marker\":{\"colorbar\":{\"outlinewidth\":0,\"ticks\":\"\"}},\"type\":\"scatterpolargl\"}],\"scatterternary\":[{\"marker\":{\"colorbar\":{\"outlinewidth\":0,\"ticks\":\"\"}},\"type\":\"scatterternary\"}],\"surface\":[{\"colorbar\":{\"outlinewidth\":0,\"ticks\":\"\"},\"colorscale\":[[0.0,\"#0d0887\"],[0.1111111111111111,\"#46039f\"],[0.2222222222222222,\"#7201a8\"],[0.3333333333333333,\"#9c179e\"],[0.4444444444444444,\"#bd3786\"],[0.5555555555555556,\"#d8576b\"],[0.6666666666666666,\"#ed7953\"],[0.7777777777777778,\"#fb9f3a\"],[0.8888888888888888,\"#fdca26\"],[1.0,\"#f0f921\"]],\"type\":\"surface\"}],\"table\":[{\"cells\":{\"fill\":{\"color\":\"#EBF0F8\"},\"line\":{\"color\":\"white\"}},\"header\":{\"fill\":{\"color\":\"#C8D4E3\"},\"line\":{\"color\":\"white\"}},\"type\":\"table\"}]},\"layout\":{\"annotationdefaults\":{\"arrowcolor\":\"#2a3f5f\",\"arrowhead\":0,\"arrowwidth\":1},\"autotypenumbers\":\"strict\",\"coloraxis\":{\"colorbar\":{\"outlinewidth\":0,\"ticks\":\"\"}},\"colorscale\":{\"diverging\":[[0,\"#8e0152\"],[0.1,\"#c51b7d\"],[0.2,\"#de77ae\"],[0.3,\"#f1b6da\"],[0.4,\"#fde0ef\"],[0.5,\"#f7f7f7\"],[0.6,\"#e6f5d0\"],[0.7,\"#b8e186\"],[0.8,\"#7fbc41\"],[0.9,\"#4d9221\"],[1,\"#276419\"]],\"sequential\":[[0.0,\"#0d0887\"],[0.1111111111111111,\"#46039f\"],[0.2222222222222222,\"#7201a8\"],[0.3333333333333333,\"#9c179e\"],[0.4444444444444444,\"#bd3786\"],[0.5555555555555556,\"#d8576b\"],[0.6666666666666666,\"#ed7953\"],[0.7777777777777778,\"#fb9f3a\"],[0.8888888888888888,\"#fdca26\"],[1.0,\"#f0f921\"]],\"sequentialminus\":[[0.0,\"#0d0887\"],[0.1111111111111111,\"#46039f\"],[0.2222222222222222,\"#7201a8\"],[0.3333333333333333,\"#9c179e\"],[0.4444444444444444,\"#bd3786\"],[0.5555555555555556,\"#d8576b\"],[0.6666666666666666,\"#ed7953\"],[0.7777777777777778,\"#fb9f3a\"],[0.8888888888888888,\"#fdca26\"],[1.0,\"#f0f921\"]]},\"colorway\":[\"#636efa\",\"#EF553B\",\"#00cc96\",\"#ab63fa\",\"#FFA15A\",\"#19d3f3\",\"#FF6692\",\"#B6E880\",\"#FF97FF\",\"#FECB52\"],\"font\":{\"color\":\"#2a3f5f\"},\"geo\":{\"bgcolor\":\"white\",\"lakecolor\":\"white\",\"landcolor\":\"#E5ECF6\",\"showlakes\":true,\"showland\":true,\"subunitcolor\":\"white\"},\"hoverlabel\":{\"align\":\"left\"},\"hovermode\":\"closest\",\"mapbox\":{\"style\":\"light\"},\"paper_bgcolor\":\"white\",\"plot_bgcolor\":\"#E5ECF6\",\"polar\":{\"angularaxis\":{\"gridcolor\":\"white\",\"linecolor\":\"white\",\"ticks\":\"\"},\"bgcolor\":\"#E5ECF6\",\"radialaxis\":{\"gridcolor\":\"white\",\"linecolor\":\"white\",\"ticks\":\"\"}},\"scene\":{\"xaxis\":{\"backgroundcolor\":\"#E5ECF6\",\"gridcolor\":\"white\",\"gridwidth\":2,\"linecolor\":\"white\",\"showbackground\":true,\"ticks\":\"\",\"zerolinecolor\":\"white\"},\"yaxis\":{\"backgroundcolor\":\"#E5ECF6\",\"gridcolor\":\"white\",\"gridwidth\":2,\"linecolor\":\"white\",\"showbackground\":true,\"ticks\":\"\",\"zerolinecolor\":\"white\"},\"zaxis\":{\"backgroundcolor\":\"#E5ECF6\",\"gridcolor\":\"white\",\"gridwidth\":2,\"linecolor\":\"white\",\"showbackground\":true,\"ticks\":\"\",\"zerolinecolor\":\"white\"}},\"shapedefaults\":{\"line\":{\"color\":\"#2a3f5f\"}},\"ternary\":{\"aaxis\":{\"gridcolor\":\"white\",\"linecolor\":\"white\",\"ticks\":\"\"},\"baxis\":{\"gridcolor\":\"white\",\"linecolor\":\"white\",\"ticks\":\"\"},\"bgcolor\":\"#E5ECF6\",\"caxis\":{\"gridcolor\":\"white\",\"linecolor\":\"white\",\"ticks\":\"\"}},\"title\":{\"x\":0.05},\"xaxis\":{\"automargin\":true,\"gridcolor\":\"white\",\"linecolor\":\"white\",\"ticks\":\"\",\"title\":{\"standoff\":15},\"zerolinecolor\":\"white\",\"zerolinewidth\":2},\"yaxis\":{\"automargin\":true,\"gridcolor\":\"white\",\"linecolor\":\"white\",\"ticks\":\"\",\"title\":{\"standoff\":15},\"zerolinecolor\":\"white\",\"zerolinewidth\":2}}},\"title\":{\"font\":{\"color\":\"#4D5663\"}},\"xaxis\":{\"gridcolor\":\"#E1E5ED\",\"showgrid\":true,\"tickfont\":{\"color\":\"#4D5663\"},\"title\":{\"font\":{\"color\":\"#4D5663\"},\"text\":\"change in log price\"},\"zerolinecolor\":\"#E1E5ED\"},\"yaxis\":{\"gridcolor\":\"#E1E5ED\",\"showgrid\":true,\"tickfont\":{\"color\":\"#4D5663\"},\"title\":{\"font\":{\"color\":\"#4D5663\"},\"text\":\"change in log cost\"},\"zerolinecolor\":\"#E1E5ED\"}},                        {\"showLink\": true, \"linkText\": \"Export to plot.ly\", \"plotlyServerURL\": \"https://plot.ly\", \"responsive\": true}                    ).then(function(){\n",
       "                            \n",
       "var gd = document.getElementById('09fdda50-036e-448b-ad18-c40cba6eee4b');\n",
       "var x = new MutationObserver(function (mutations, observer) {{\n",
       "        var display = window.getComputedStyle(gd).display;\n",
       "        if (!display || display === 'none') {{\n",
       "            console.log([gd, 'removed!']);\n",
       "            Plotly.purge(gd);\n",
       "            observer.disconnect();\n",
       "        }}\n",
       "}});\n",
       "\n",
       "// Listen for the removal of the full notebook cells\n",
       "var notebookContainer = gd.closest('#notebook-container');\n",
       "if (notebookContainer) {{\n",
       "    x.observe(notebookContainer, {childList: true});\n",
       "}}\n",
       "\n",
       "// Listen for the clearing of the current output cell\n",
       "var outputEl = gd.closest('.output');\n",
       "if (outputEl) {{\n",
       "    x.observe(outputEl, {childList: true});\n",
       "}}\n",
       "\n",
       "                        })                };                });            </script>        </div>"
      ]
     },
     "metadata": {},
     "output_type": "display_data"
    }
   ],
   "source": [
    "import cufflinks as cf\n",
    "cf.go_offline()\n",
    "\n",
    "scale = [.5,.6,.7,.8,.9,1.,1.1,1.2,1.3,1.4,1.5]\n",
    "\n",
    "cost0 = solve_subsistence_problem(FoodNutrients,Prices,diet_min[group],diet_max[group],tol=tol).fun\n",
    "\n",
    "Price_response={}\n",
    "for s in scale:\n",
    "    cost = {}\n",
    "    for i,p in enumerate(Prices):\n",
    "        my_p = Prices.copy()\n",
    "        my_p[i] = p*s\n",
    "        result = solve_subsistence_problem(FoodNutrients,my_p,diet_min[group],diet_max[group],tol=tol)\n",
    "        cost[Prices.index[i]] = np.log(result.fun/cost0)\n",
    "    Price_response[np.log(s)] = cost\n",
    "\n",
    "Price_response = pd.DataFrame(Price_response).T\n",
    "Price_response.iplot(xTitle='change in log price',yTitle='change in log cost')"
   ]
  },
  {
   "cell_type": "markdown",
   "metadata": {},
   "source": [
    "## Effects of Price Changes on Subsistence Diet Composition\n",
    "\n"
   ]
  },
  {
   "cell_type": "markdown",
   "metadata": {},
   "source": [
    "The code below creates a graph which changes prices just for *one* food,\n",
    "  and traces out the effects of this change on all the foods consumed.\n",
    "\n"
   ]
  },
  {
   "cell_type": "code",
   "execution_count": 18,
   "metadata": {},
   "outputs": [
    {
     "data": {
      "text/html": [
       "        <script type=\"text/javascript\">\n",
       "        window.PlotlyConfig = {MathJaxConfig: 'local'};\n",
       "        if (window.MathJax) {MathJax.Hub.Config({SVG: {font: \"STIX-Web\"}});}\n",
       "        if (typeof require !== 'undefined') {\n",
       "        require.undef(\"plotly\");\n",
       "        requirejs.config({\n",
       "            paths: {\n",
       "                'plotly': ['https://cdn.plot.ly/plotly-2.3.1.min']\n",
       "            }\n",
       "        });\n",
       "        require(['plotly'], function(Plotly) {\n",
       "            window._Plotly = Plotly;\n",
       "        });\n",
       "        }\n",
       "        </script>\n",
       "        "
      ]
     },
     "metadata": {},
     "output_type": "display_data"
    },
    {
     "name": "stderr",
     "output_type": "stream",
     "text": [
      "/opt/conda/lib/python3.9/site-packages/pandas/core/dtypes/cast.py:1990: UnitStrippedWarning:\n",
      "\n",
      "The unit of the quantity is stripped when downcasting to ndarray.\n",
      "\n"
     ]
    },
    {
     "data": {
      "application/vnd.plotly.v1+json": {
       "config": {
        "linkText": "Export to plot.ly",
        "plotlyServerURL": "https://plot.ly",
        "showLink": true
       },
       "data": [
        {
         "line": {
          "color": "rgba(255, 153, 51, 1.0)",
          "dash": "solid",
          "shape": "linear",
          "width": 1.3
         },
         "mode": "lines",
         "name": " Banana,raw",
         "text": "",
         "type": "scatter",
         "x": [
          0.5273457311462271,
          0.7910185967193406,
          0.9492223160632087,
          1.0546914622924541,
          1.1601606085216996,
          1.265629754750945,
          1.3710989009801904,
          1.4765680472094358,
          1.5820371934386812,
          2.1093829245849083,
          4.218765849169817
         ],
         "y": [
          1.4570728255591157,
          1.589644084273127,
          1.589644159428059,
          1.5896443175259862,
          1.58964494297016,
          1.589644941632249,
          0.7459709343748206,
          0.7459701841300096,
          0.7459701588879121,
          2.1360026279996593e-08,
          4.843508980057196e-08
         ]
        },
        {
         "line": {
          "color": "rgba(55, 128, 191, 1.0)",
          "dash": "solid",
          "shape": "linear",
          "width": 1.3
         },
         "mode": "lines",
         "name": "Oranges, Navel",
         "text": "",
         "type": "scatter",
         "x": [
          0.5273457311462271,
          0.7910185967193406,
          0.9492223160632087,
          1.0546914622924541,
          1.1601606085216996,
          1.265629754750945,
          1.3710989009801904,
          1.4765680472094358,
          1.5820371934386812,
          2.1093829245849083,
          4.218765849169817
         ],
         "y": [
          1.2570187313645239e-08,
          0.3388344710220515,
          0.3388345062230736,
          0.3388344836976061,
          0.3388344032367826,
          0.33883440330933023,
          0.46198040090605985,
          0.4619805107029659,
          0.46198051499696885,
          0.5799101627285722,
          0.6224949210916072
         ]
        },
        {
         "line": {
          "color": "rgba(50, 171, 96, 1.0)",
          "dash": "solid",
          "shape": "linear",
          "width": 1.3
         },
         "mode": "lines",
         "name": "Lentils, red",
         "text": "",
         "type": "scatter",
         "x": [
          0.5273457311462271,
          0.7910185967193406,
          0.9492223160632087,
          1.0546914622924541,
          1.1601606085216996,
          1.265629754750945,
          1.3710989009801904,
          1.4765680472094358,
          1.5820371934386812,
          2.1093829245849083,
          4.218765849169817
         ],
         "y": [
          6.980022120174134e-09,
          7.816765717627948e-08,
          3.248774607267361e-08,
          2.2052633944158974e-08,
          7.029259442875645e-11,
          8.125646859081035e-10,
          1.877041567166927e-09,
          5.659449997047453e-10,
          1.4809250321468403e-09,
          5.891056057224929e-09,
          0.9804749863923692
         ]
        },
        {
         "line": {
          "color": "rgba(128, 0, 128, 1.0)",
          "dash": "solid",
          "shape": "linear",
          "width": 1.3
         },
         "mode": "lines",
         "name": "Black beans, canned",
         "text": "",
         "type": "scatter",
         "x": [
          0.5273457311462271,
          0.7910185967193406,
          0.9492223160632087,
          1.0546914622924541,
          1.1601606085216996,
          1.265629754750945,
          1.3710989009801904,
          1.4765680472094358,
          1.5820371934386812,
          2.1093829245849083,
          4.218765849169817
         ],
         "y": [
          5.561005657327143,
          5.381961206018461,
          5.381961407856854,
          5.381961423955438,
          5.381961613316848,
          5.381961608533785,
          5.627072016339199,
          5.6270722455809175,
          5.627072230632784,
          5.553739849056747,
          0.7924487337773432
         ]
        },
        {
         "line": {
          "color": "rgba(219, 64, 82, 1.0)",
          "dash": "solid",
          "shape": "linear",
          "width": 1.3
         },
         "mode": "lines",
         "name": "Kale",
         "text": "",
         "type": "scatter",
         "x": [
          0.5273457311462271,
          0.7910185967193406,
          0.9492223160632087,
          1.0546914622924541,
          1.1601606085216996,
          1.265629754750945,
          1.3710989009801904,
          1.4765680472094358,
          1.5820371934386812,
          2.1093829245849083,
          4.218765849169817
         ],
         "y": [
          0.39081982821762057,
          0.1683443379973419,
          0.16834428672512894,
          0.1683442848494885,
          0.16834430870022374,
          0.1683443087088067,
          0.13924855895197855,
          0.13924853286490424,
          0.1392485316712264,
          0.10926537795353478,
          0.060121459985132124
         ]
        },
        {
         "line": {
          "color": "rgba(0, 128, 128, 1.0)",
          "dash": "solid",
          "shape": "linear",
          "width": 1.3
         },
         "mode": "lines",
         "name": "Carrot",
         "text": "",
         "type": "scatter",
         "x": [
          0.5273457311462271,
          0.7910185967193406,
          0.9492223160632087,
          1.0546914622924541,
          1.1601606085216996,
          1.265629754750945,
          1.3710989009801904,
          1.4765680472094358,
          1.5820371934386812,
          2.1093829245849083,
          4.218765849169817
         ],
         "y": [
          0.2950322137282765,
          0.3597357047021694,
          0.3597356123638072,
          0.3597353769588023,
          0.35973452603459977,
          0.3597345246307571,
          1.2329954371384664,
          1.2329962222256692,
          1.2329962801838652,
          2.4772445031319146,
          3.8697000092524547
         ]
        },
        {
         "line": {
          "color": "rgba(255, 255, 51, 1.0)",
          "dash": "solid",
          "shape": "linear",
          "width": 1.3
         },
         "mode": "lines",
         "name": "Avocado",
         "text": "",
         "type": "scatter",
         "x": [
          0.5273457311462271,
          0.7910185967193406,
          0.9492223160632087,
          1.0546914622924541,
          1.1601606085216996,
          1.265629754750945,
          1.3710989009801904,
          1.4765680472094358,
          1.5820371934386812,
          2.1093829245849083,
          4.218765849169817
         ],
         "y": [
          0.38200261318501716,
          0.3045161259311982,
          0.3045163991240479,
          0.30451652135513924,
          0.3045165472803642,
          0.3045165490561706,
          0.30479328434208675,
          0.3047932796424884,
          0.30479326606131096,
          0.09110826131604755,
          0.5957552386072746
         ]
        },
        {
         "line": {
          "color": "rgba(128, 128, 0, 1.0)",
          "dash": "solid",
          "shape": "linear",
          "width": 1.3
         },
         "mode": "lines",
         "name": "Tortillas, corn",
         "text": "",
         "type": "scatter",
         "x": [
          0.5273457311462271,
          0.7910185967193406,
          0.9492223160632087,
          1.0546914622924541,
          1.1601606085216996,
          1.265629754750945,
          1.3710989009801904,
          1.4765680472094358,
          1.5820371934386812,
          2.1093829245849083,
          4.218765849169817
         ],
         "y": [
          1.96521972645267e-09,
          0.1583096584279685,
          0.1583095549660742,
          0.1583095338694348,
          0.15830956441925276,
          0.1583095645017611,
          1.4189868162108993e-07,
          5.71327223005863e-11,
          4.4109019582781505e-09,
          3.857012741095635e-09,
          0.27121353183794744
         ]
        },
        {
         "line": {
          "color": "rgba(251, 128, 114, 1.0)",
          "dash": "solid",
          "shape": "linear",
          "width": 1.3
         },
         "mode": "lines",
         "name": "Soy milk, unsweetened",
         "text": "",
         "type": "scatter",
         "x": [
          0.5273457311462271,
          0.7910185967193406,
          0.9492223160632087,
          1.0546914622924541,
          1.1601606085216996,
          1.265629754750945,
          1.3710989009801904,
          1.4765680472094358,
          1.5820371934386812,
          2.1093829245849083,
          4.218765849169817
         ],
         "y": [
          6.105316713714309,
          6.105316745284758,
          6.105316723129637,
          6.105316718903675,
          6.1053167133556885,
          6.10531671352328,
          6.105316714447211,
          6.105316713444642,
          6.1053167133590796,
          6.105316713978005,
          6.105316741621486
         ]
        },
        {
         "line": {
          "color": "rgba(128, 177, 211, 1.0)",
          "dash": "solid",
          "shape": "linear",
          "width": 1.3
         },
         "mode": "lines",
         "name": "Peanut butter, creamy",
         "text": "",
         "type": "scatter",
         "x": [
          0.5273457311462271,
          0.7910185967193406,
          0.9492223160632087,
          1.0546914622924541,
          1.1601606085216996,
          1.265629754750945,
          1.3710989009801904,
          1.4765680472094358,
          1.5820371934386812,
          2.1093829245849083,
          4.218765849169817
         ],
         "y": [
          1.7288326106420333,
          1.7730572187059033,
          1.7730571214898294,
          1.7730571057789526,
          1.773057173161075,
          1.7730571731220348,
          1.6671003661117734,
          1.6671002712523733,
          1.66710027056717,
          1.609161806462309,
          1.754654493180789
         ]
        }
       ],
       "layout": {
        "autosize": true,
        "legend": {
         "bgcolor": "#F5F6F9",
         "font": {
          "color": "#4D5663"
         }
        },
        "paper_bgcolor": "#F5F6F9",
        "plot_bgcolor": "#F5F6F9",
        "template": {
         "data": {
          "bar": [
           {
            "error_x": {
             "color": "#2a3f5f"
            },
            "error_y": {
             "color": "#2a3f5f"
            },
            "marker": {
             "line": {
              "color": "#E5ECF6",
              "width": 0.5
             },
             "pattern": {
              "fillmode": "overlay",
              "size": 10,
              "solidity": 0.2
             }
            },
            "type": "bar"
           }
          ],
          "barpolar": [
           {
            "marker": {
             "line": {
              "color": "#E5ECF6",
              "width": 0.5
             },
             "pattern": {
              "fillmode": "overlay",
              "size": 10,
              "solidity": 0.2
             }
            },
            "type": "barpolar"
           }
          ],
          "carpet": [
           {
            "aaxis": {
             "endlinecolor": "#2a3f5f",
             "gridcolor": "white",
             "linecolor": "white",
             "minorgridcolor": "white",
             "startlinecolor": "#2a3f5f"
            },
            "baxis": {
             "endlinecolor": "#2a3f5f",
             "gridcolor": "white",
             "linecolor": "white",
             "minorgridcolor": "white",
             "startlinecolor": "#2a3f5f"
            },
            "type": "carpet"
           }
          ],
          "choropleth": [
           {
            "colorbar": {
             "outlinewidth": 0,
             "ticks": ""
            },
            "type": "choropleth"
           }
          ],
          "contour": [
           {
            "colorbar": {
             "outlinewidth": 0,
             "ticks": ""
            },
            "colorscale": [
             [
              0,
              "#0d0887"
             ],
             [
              0.1111111111111111,
              "#46039f"
             ],
             [
              0.2222222222222222,
              "#7201a8"
             ],
             [
              0.3333333333333333,
              "#9c179e"
             ],
             [
              0.4444444444444444,
              "#bd3786"
             ],
             [
              0.5555555555555556,
              "#d8576b"
             ],
             [
              0.6666666666666666,
              "#ed7953"
             ],
             [
              0.7777777777777778,
              "#fb9f3a"
             ],
             [
              0.8888888888888888,
              "#fdca26"
             ],
             [
              1,
              "#f0f921"
             ]
            ],
            "type": "contour"
           }
          ],
          "contourcarpet": [
           {
            "colorbar": {
             "outlinewidth": 0,
             "ticks": ""
            },
            "type": "contourcarpet"
           }
          ],
          "heatmap": [
           {
            "colorbar": {
             "outlinewidth": 0,
             "ticks": ""
            },
            "colorscale": [
             [
              0,
              "#0d0887"
             ],
             [
              0.1111111111111111,
              "#46039f"
             ],
             [
              0.2222222222222222,
              "#7201a8"
             ],
             [
              0.3333333333333333,
              "#9c179e"
             ],
             [
              0.4444444444444444,
              "#bd3786"
             ],
             [
              0.5555555555555556,
              "#d8576b"
             ],
             [
              0.6666666666666666,
              "#ed7953"
             ],
             [
              0.7777777777777778,
              "#fb9f3a"
             ],
             [
              0.8888888888888888,
              "#fdca26"
             ],
             [
              1,
              "#f0f921"
             ]
            ],
            "type": "heatmap"
           }
          ],
          "heatmapgl": [
           {
            "colorbar": {
             "outlinewidth": 0,
             "ticks": ""
            },
            "colorscale": [
             [
              0,
              "#0d0887"
             ],
             [
              0.1111111111111111,
              "#46039f"
             ],
             [
              0.2222222222222222,
              "#7201a8"
             ],
             [
              0.3333333333333333,
              "#9c179e"
             ],
             [
              0.4444444444444444,
              "#bd3786"
             ],
             [
              0.5555555555555556,
              "#d8576b"
             ],
             [
              0.6666666666666666,
              "#ed7953"
             ],
             [
              0.7777777777777778,
              "#fb9f3a"
             ],
             [
              0.8888888888888888,
              "#fdca26"
             ],
             [
              1,
              "#f0f921"
             ]
            ],
            "type": "heatmapgl"
           }
          ],
          "histogram": [
           {
            "marker": {
             "pattern": {
              "fillmode": "overlay",
              "size": 10,
              "solidity": 0.2
             }
            },
            "type": "histogram"
           }
          ],
          "histogram2d": [
           {
            "colorbar": {
             "outlinewidth": 0,
             "ticks": ""
            },
            "colorscale": [
             [
              0,
              "#0d0887"
             ],
             [
              0.1111111111111111,
              "#46039f"
             ],
             [
              0.2222222222222222,
              "#7201a8"
             ],
             [
              0.3333333333333333,
              "#9c179e"
             ],
             [
              0.4444444444444444,
              "#bd3786"
             ],
             [
              0.5555555555555556,
              "#d8576b"
             ],
             [
              0.6666666666666666,
              "#ed7953"
             ],
             [
              0.7777777777777778,
              "#fb9f3a"
             ],
             [
              0.8888888888888888,
              "#fdca26"
             ],
             [
              1,
              "#f0f921"
             ]
            ],
            "type": "histogram2d"
           }
          ],
          "histogram2dcontour": [
           {
            "colorbar": {
             "outlinewidth": 0,
             "ticks": ""
            },
            "colorscale": [
             [
              0,
              "#0d0887"
             ],
             [
              0.1111111111111111,
              "#46039f"
             ],
             [
              0.2222222222222222,
              "#7201a8"
             ],
             [
              0.3333333333333333,
              "#9c179e"
             ],
             [
              0.4444444444444444,
              "#bd3786"
             ],
             [
              0.5555555555555556,
              "#d8576b"
             ],
             [
              0.6666666666666666,
              "#ed7953"
             ],
             [
              0.7777777777777778,
              "#fb9f3a"
             ],
             [
              0.8888888888888888,
              "#fdca26"
             ],
             [
              1,
              "#f0f921"
             ]
            ],
            "type": "histogram2dcontour"
           }
          ],
          "mesh3d": [
           {
            "colorbar": {
             "outlinewidth": 0,
             "ticks": ""
            },
            "type": "mesh3d"
           }
          ],
          "parcoords": [
           {
            "line": {
             "colorbar": {
              "outlinewidth": 0,
              "ticks": ""
             }
            },
            "type": "parcoords"
           }
          ],
          "pie": [
           {
            "automargin": true,
            "type": "pie"
           }
          ],
          "scatter": [
           {
            "marker": {
             "colorbar": {
              "outlinewidth": 0,
              "ticks": ""
             }
            },
            "type": "scatter"
           }
          ],
          "scatter3d": [
           {
            "line": {
             "colorbar": {
              "outlinewidth": 0,
              "ticks": ""
             }
            },
            "marker": {
             "colorbar": {
              "outlinewidth": 0,
              "ticks": ""
             }
            },
            "type": "scatter3d"
           }
          ],
          "scattercarpet": [
           {
            "marker": {
             "colorbar": {
              "outlinewidth": 0,
              "ticks": ""
             }
            },
            "type": "scattercarpet"
           }
          ],
          "scattergeo": [
           {
            "marker": {
             "colorbar": {
              "outlinewidth": 0,
              "ticks": ""
             }
            },
            "type": "scattergeo"
           }
          ],
          "scattergl": [
           {
            "marker": {
             "colorbar": {
              "outlinewidth": 0,
              "ticks": ""
             }
            },
            "type": "scattergl"
           }
          ],
          "scattermapbox": [
           {
            "marker": {
             "colorbar": {
              "outlinewidth": 0,
              "ticks": ""
             }
            },
            "type": "scattermapbox"
           }
          ],
          "scatterpolar": [
           {
            "marker": {
             "colorbar": {
              "outlinewidth": 0,
              "ticks": ""
             }
            },
            "type": "scatterpolar"
           }
          ],
          "scatterpolargl": [
           {
            "marker": {
             "colorbar": {
              "outlinewidth": 0,
              "ticks": ""
             }
            },
            "type": "scatterpolargl"
           }
          ],
          "scatterternary": [
           {
            "marker": {
             "colorbar": {
              "outlinewidth": 0,
              "ticks": ""
             }
            },
            "type": "scatterternary"
           }
          ],
          "surface": [
           {
            "colorbar": {
             "outlinewidth": 0,
             "ticks": ""
            },
            "colorscale": [
             [
              0,
              "#0d0887"
             ],
             [
              0.1111111111111111,
              "#46039f"
             ],
             [
              0.2222222222222222,
              "#7201a8"
             ],
             [
              0.3333333333333333,
              "#9c179e"
             ],
             [
              0.4444444444444444,
              "#bd3786"
             ],
             [
              0.5555555555555556,
              "#d8576b"
             ],
             [
              0.6666666666666666,
              "#ed7953"
             ],
             [
              0.7777777777777778,
              "#fb9f3a"
             ],
             [
              0.8888888888888888,
              "#fdca26"
             ],
             [
              1,
              "#f0f921"
             ]
            ],
            "type": "surface"
           }
          ],
          "table": [
           {
            "cells": {
             "fill": {
              "color": "#EBF0F8"
             },
             "line": {
              "color": "white"
             }
            },
            "header": {
             "fill": {
              "color": "#C8D4E3"
             },
             "line": {
              "color": "white"
             }
            },
            "type": "table"
           }
          ]
         },
         "layout": {
          "annotationdefaults": {
           "arrowcolor": "#2a3f5f",
           "arrowhead": 0,
           "arrowwidth": 1
          },
          "autotypenumbers": "strict",
          "coloraxis": {
           "colorbar": {
            "outlinewidth": 0,
            "ticks": ""
           }
          },
          "colorscale": {
           "diverging": [
            [
             0,
             "#8e0152"
            ],
            [
             0.1,
             "#c51b7d"
            ],
            [
             0.2,
             "#de77ae"
            ],
            [
             0.3,
             "#f1b6da"
            ],
            [
             0.4,
             "#fde0ef"
            ],
            [
             0.5,
             "#f7f7f7"
            ],
            [
             0.6,
             "#e6f5d0"
            ],
            [
             0.7,
             "#b8e186"
            ],
            [
             0.8,
             "#7fbc41"
            ],
            [
             0.9,
             "#4d9221"
            ],
            [
             1,
             "#276419"
            ]
           ],
           "sequential": [
            [
             0,
             "#0d0887"
            ],
            [
             0.1111111111111111,
             "#46039f"
            ],
            [
             0.2222222222222222,
             "#7201a8"
            ],
            [
             0.3333333333333333,
             "#9c179e"
            ],
            [
             0.4444444444444444,
             "#bd3786"
            ],
            [
             0.5555555555555556,
             "#d8576b"
            ],
            [
             0.6666666666666666,
             "#ed7953"
            ],
            [
             0.7777777777777778,
             "#fb9f3a"
            ],
            [
             0.8888888888888888,
             "#fdca26"
            ],
            [
             1,
             "#f0f921"
            ]
           ],
           "sequentialminus": [
            [
             0,
             "#0d0887"
            ],
            [
             0.1111111111111111,
             "#46039f"
            ],
            [
             0.2222222222222222,
             "#7201a8"
            ],
            [
             0.3333333333333333,
             "#9c179e"
            ],
            [
             0.4444444444444444,
             "#bd3786"
            ],
            [
             0.5555555555555556,
             "#d8576b"
            ],
            [
             0.6666666666666666,
             "#ed7953"
            ],
            [
             0.7777777777777778,
             "#fb9f3a"
            ],
            [
             0.8888888888888888,
             "#fdca26"
            ],
            [
             1,
             "#f0f921"
            ]
           ]
          },
          "colorway": [
           "#636efa",
           "#EF553B",
           "#00cc96",
           "#ab63fa",
           "#FFA15A",
           "#19d3f3",
           "#FF6692",
           "#B6E880",
           "#FF97FF",
           "#FECB52"
          ],
          "font": {
           "color": "#2a3f5f"
          },
          "geo": {
           "bgcolor": "white",
           "lakecolor": "white",
           "landcolor": "#E5ECF6",
           "showlakes": true,
           "showland": true,
           "subunitcolor": "white"
          },
          "hoverlabel": {
           "align": "left"
          },
          "hovermode": "closest",
          "mapbox": {
           "style": "light"
          },
          "paper_bgcolor": "white",
          "plot_bgcolor": "#E5ECF6",
          "polar": {
           "angularaxis": {
            "gridcolor": "white",
            "linecolor": "white",
            "ticks": ""
           },
           "bgcolor": "#E5ECF6",
           "radialaxis": {
            "gridcolor": "white",
            "linecolor": "white",
            "ticks": ""
           }
          },
          "scene": {
           "xaxis": {
            "backgroundcolor": "#E5ECF6",
            "gridcolor": "white",
            "gridwidth": 2,
            "linecolor": "white",
            "showbackground": true,
            "ticks": "",
            "zerolinecolor": "white"
           },
           "yaxis": {
            "backgroundcolor": "#E5ECF6",
            "gridcolor": "white",
            "gridwidth": 2,
            "linecolor": "white",
            "showbackground": true,
            "ticks": "",
            "zerolinecolor": "white"
           },
           "zaxis": {
            "backgroundcolor": "#E5ECF6",
            "gridcolor": "white",
            "gridwidth": 2,
            "linecolor": "white",
            "showbackground": true,
            "ticks": "",
            "zerolinecolor": "white"
           }
          },
          "shapedefaults": {
           "line": {
            "color": "#2a3f5f"
           }
          },
          "ternary": {
           "aaxis": {
            "gridcolor": "white",
            "linecolor": "white",
            "ticks": ""
           },
           "baxis": {
            "gridcolor": "white",
            "linecolor": "white",
            "ticks": ""
           },
           "bgcolor": "#E5ECF6",
           "caxis": {
            "gridcolor": "white",
            "linecolor": "white",
            "ticks": ""
           }
          },
          "title": {
           "x": 0.05
          },
          "xaxis": {
           "automargin": true,
           "gridcolor": "white",
           "linecolor": "white",
           "ticks": "",
           "title": {
            "standoff": 15
           },
           "zerolinecolor": "white",
           "zerolinewidth": 2
          },
          "yaxis": {
           "automargin": true,
           "gridcolor": "white",
           "linecolor": "white",
           "ticks": "",
           "title": {
            "standoff": 15
           },
           "zerolinecolor": "white",
           "zerolinewidth": 2
          }
         }
        },
        "title": {
         "font": {
          "color": "#4D5663"
         }
        },
        "xaxis": {
         "autorange": true,
         "gridcolor": "#E1E5ED",
         "range": [
          0.5273457311462271,
          4.218765849169817
         ],
         "showgrid": true,
         "tickfont": {
          "color": "#4D5663"
         },
         "title": {
          "font": {
           "color": "#4D5663"
          },
          "text": "Kale Price"
         },
         "type": "linear",
         "zerolinecolor": "#E1E5ED"
        },
        "yaxis": {
         "autorange": true,
         "gridcolor": "#E1E5ED",
         "range": [
          -0.3391842635666242,
          6.444501008908515
         ],
         "showgrid": true,
         "tickfont": {
          "color": "#4D5663"
         },
         "title": {
          "font": {
           "color": "#4D5663"
          },
          "text": "Hectograms"
         },
         "type": "linear",
         "zerolinecolor": "#E1E5ED"
        }
       }
      },
      "image/png": "[encoded data removed]",
      "text/html": [
       "<div>                            <div id=\"f442e045-1bd7-4d3d-9218-c9258d28b917\" class=\"plotly-graph-div\" style=\"height:525px; width:100%;\"></div>            <script type=\"text/javascript\">                require([\"plotly\"], function(Plotly) {                    window.PLOTLYENV=window.PLOTLYENV || {};\n",
       "                    window.PLOTLYENV.BASE_URL='https://plot.ly';                                    if (document.getElementById(\"f442e045-1bd7-4d3d-9218-c9258d28b917\")) {                    Plotly.newPlot(                        \"f442e045-1bd7-4d3d-9218-c9258d28b917\",                        [{\"line\":{\"color\":\"rgba(255, 153, 51, 1.0)\",\"dash\":\"solid\",\"shape\":\"linear\",\"width\":1.3},\"mode\":\"lines\",\"name\":\" Banana,raw\",\"text\":\"\",\"type\":\"scatter\",\"x\":[0.5273457311462271,0.7910185967193406,0.9492223160632087,1.0546914622924541,1.1601606085216996,1.265629754750945,1.3710989009801904,1.4765680472094358,1.5820371934386812,2.1093829245849083,4.218765849169817],\"y\":[1.4570728255591157,1.589644084273127,1.589644159428059,1.5896443175259862,1.58964494297016,1.589644941632249,0.7459709343748206,0.7459701841300096,0.7459701588879121,2.1360026279996593e-08,4.843508980057196e-08]},{\"line\":{\"color\":\"rgba(55, 128, 191, 1.0)\",\"dash\":\"solid\",\"shape\":\"linear\",\"width\":1.3},\"mode\":\"lines\",\"name\":\"Oranges, Navel\",\"text\":\"\",\"type\":\"scatter\",\"x\":[0.5273457311462271,0.7910185967193406,0.9492223160632087,1.0546914622924541,1.1601606085216996,1.265629754750945,1.3710989009801904,1.4765680472094358,1.5820371934386812,2.1093829245849083,4.218765849169817],\"y\":[1.2570187313645239e-08,0.3388344710220515,0.3388345062230736,0.3388344836976061,0.3388344032367826,0.33883440330933023,0.46198040090605985,0.4619805107029659,0.46198051499696885,0.5799101627285722,0.6224949210916072]},{\"line\":{\"color\":\"rgba(50, 171, 96, 1.0)\",\"dash\":\"solid\",\"shape\":\"linear\",\"width\":1.3},\"mode\":\"lines\",\"name\":\"Lentils, red\",\"text\":\"\",\"type\":\"scatter\",\"x\":[0.5273457311462271,0.7910185967193406,0.9492223160632087,1.0546914622924541,1.1601606085216996,1.265629754750945,1.3710989009801904,1.4765680472094358,1.5820371934386812,2.1093829245849083,4.218765849169817],\"y\":[6.980022120174134e-09,7.816765717627948e-08,3.248774607267361e-08,2.2052633944158974e-08,7.029259442875645e-11,8.125646859081035e-10,1.877041567166927e-09,5.659449997047453e-10,1.4809250321468403e-09,5.891056057224929e-09,0.9804749863923692]},{\"line\":{\"color\":\"rgba(128, 0, 128, 1.0)\",\"dash\":\"solid\",\"shape\":\"linear\",\"width\":1.3},\"mode\":\"lines\",\"name\":\"Black beans, canned\",\"text\":\"\",\"type\":\"scatter\",\"x\":[0.5273457311462271,0.7910185967193406,0.9492223160632087,1.0546914622924541,1.1601606085216996,1.265629754750945,1.3710989009801904,1.4765680472094358,1.5820371934386812,2.1093829245849083,4.218765849169817],\"y\":[5.561005657327143,5.381961206018461,5.381961407856854,5.381961423955438,5.381961613316848,5.381961608533785,5.627072016339199,5.6270722455809175,5.627072230632784,5.553739849056747,0.7924487337773432]},{\"line\":{\"color\":\"rgba(219, 64, 82, 1.0)\",\"dash\":\"solid\",\"shape\":\"linear\",\"width\":1.3},\"mode\":\"lines\",\"name\":\"Kale\",\"text\":\"\",\"type\":\"scatter\",\"x\":[0.5273457311462271,0.7910185967193406,0.9492223160632087,1.0546914622924541,1.1601606085216996,1.265629754750945,1.3710989009801904,1.4765680472094358,1.5820371934386812,2.1093829245849083,4.218765849169817],\"y\":[0.39081982821762057,0.1683443379973419,0.16834428672512894,0.1683442848494885,0.16834430870022374,0.1683443087088067,0.13924855895197855,0.13924853286490424,0.1392485316712264,0.10926537795353478,0.060121459985132124]},{\"line\":{\"color\":\"rgba(0, 128, 128, 1.0)\",\"dash\":\"solid\",\"shape\":\"linear\",\"width\":1.3},\"mode\":\"lines\",\"name\":\"Carrot\",\"text\":\"\",\"type\":\"scatter\",\"x\":[0.5273457311462271,0.7910185967193406,0.9492223160632087,1.0546914622924541,1.1601606085216996,1.265629754750945,1.3710989009801904,1.4765680472094358,1.5820371934386812,2.1093829245849083,4.218765849169817],\"y\":[0.2950322137282765,0.3597357047021694,0.3597356123638072,0.3597353769588023,0.35973452603459977,0.3597345246307571,1.2329954371384664,1.2329962222256692,1.2329962801838652,2.4772445031319146,3.8697000092524547]},{\"line\":{\"color\":\"rgba(255, 255, 51, 1.0)\",\"dash\":\"solid\",\"shape\":\"linear\",\"width\":1.3},\"mode\":\"lines\",\"name\":\"Avocado\",\"text\":\"\",\"type\":\"scatter\",\"x\":[0.5273457311462271,0.7910185967193406,0.9492223160632087,1.0546914622924541,1.1601606085216996,1.265629754750945,1.3710989009801904,1.4765680472094358,1.5820371934386812,2.1093829245849083,4.218765849169817],\"y\":[0.38200261318501716,0.3045161259311982,0.3045163991240479,0.30451652135513924,0.3045165472803642,0.3045165490561706,0.30479328434208675,0.3047932796424884,0.30479326606131096,0.09110826131604755,0.5957552386072746]},{\"line\":{\"color\":\"rgba(128, 128, 0, 1.0)\",\"dash\":\"solid\",\"shape\":\"linear\",\"width\":1.3},\"mode\":\"lines\",\"name\":\"Tortillas, corn\",\"text\":\"\",\"type\":\"scatter\",\"x\":[0.5273457311462271,0.7910185967193406,0.9492223160632087,1.0546914622924541,1.1601606085216996,1.265629754750945,1.3710989009801904,1.4765680472094358,1.5820371934386812,2.1093829245849083,4.218765849169817],\"y\":[1.96521972645267e-09,0.1583096584279685,0.1583095549660742,0.1583095338694348,0.15830956441925276,0.1583095645017611,1.4189868162108993e-07,5.71327223005863e-11,4.4109019582781505e-09,3.857012741095635e-09,0.27121353183794744]},{\"line\":{\"color\":\"rgba(251, 128, 114, 1.0)\",\"dash\":\"solid\",\"shape\":\"linear\",\"width\":1.3},\"mode\":\"lines\",\"name\":\"Soy milk, unsweetened\",\"text\":\"\",\"type\":\"scatter\",\"x\":[0.5273457311462271,0.7910185967193406,0.9492223160632087,1.0546914622924541,1.1601606085216996,1.265629754750945,1.3710989009801904,1.4765680472094358,1.5820371934386812,2.1093829245849083,4.218765849169817],\"y\":[6.105316713714309,6.105316745284758,6.105316723129637,6.105316718903675,6.1053167133556885,6.10531671352328,6.105316714447211,6.105316713444642,6.1053167133590796,6.105316713978005,6.105316741621486]},{\"line\":{\"color\":\"rgba(128, 177, 211, 1.0)\",\"dash\":\"solid\",\"shape\":\"linear\",\"width\":1.3},\"mode\":\"lines\",\"name\":\"Peanut butter, creamy\",\"text\":\"\",\"type\":\"scatter\",\"x\":[0.5273457311462271,0.7910185967193406,0.9492223160632087,1.0546914622924541,1.1601606085216996,1.265629754750945,1.3710989009801904,1.4765680472094358,1.5820371934386812,2.1093829245849083,4.218765849169817],\"y\":[1.7288326106420333,1.7730572187059033,1.7730571214898294,1.7730571057789526,1.773057173161075,1.7730571731220348,1.6671003661117734,1.6671002712523733,1.66710027056717,1.609161806462309,1.754654493180789]}],                        {\"legend\":{\"bgcolor\":\"#F5F6F9\",\"font\":{\"color\":\"#4D5663\"}},\"paper_bgcolor\":\"#F5F6F9\",\"plot_bgcolor\":\"#F5F6F9\",\"template\":{\"data\":{\"bar\":[{\"error_x\":{\"color\":\"#2a3f5f\"},\"error_y\":{\"color\":\"#2a3f5f\"},\"marker\":{\"line\":{\"color\":\"#E5ECF6\",\"width\":0.5},\"pattern\":{\"fillmode\":\"overlay\",\"size\":10,\"solidity\":0.2}},\"type\":\"bar\"}],\"barpolar\":[{\"marker\":{\"line\":{\"color\":\"#E5ECF6\",\"width\":0.5},\"pattern\":{\"fillmode\":\"overlay\",\"size\":10,\"solidity\":0.2}},\"type\":\"barpolar\"}],\"carpet\":[{\"aaxis\":{\"endlinecolor\":\"#2a3f5f\",\"gridcolor\":\"white\",\"linecolor\":\"white\",\"minorgridcolor\":\"white\",\"startlinecolor\":\"#2a3f5f\"},\"baxis\":{\"endlinecolor\":\"#2a3f5f\",\"gridcolor\":\"white\",\"linecolor\":\"white\",\"minorgridcolor\":\"white\",\"startlinecolor\":\"#2a3f5f\"},\"type\":\"carpet\"}],\"choropleth\":[{\"colorbar\":{\"outlinewidth\":0,\"ticks\":\"\"},\"type\":\"choropleth\"}],\"contour\":[{\"colorbar\":{\"outlinewidth\":0,\"ticks\":\"\"},\"colorscale\":[[0.0,\"#0d0887\"],[0.1111111111111111,\"#46039f\"],[0.2222222222222222,\"#7201a8\"],[0.3333333333333333,\"#9c179e\"],[0.4444444444444444,\"#bd3786\"],[0.5555555555555556,\"#d8576b\"],[0.6666666666666666,\"#ed7953\"],[0.7777777777777778,\"#fb9f3a\"],[0.8888888888888888,\"#fdca26\"],[1.0,\"#f0f921\"]],\"type\":\"contour\"}],\"contourcarpet\":[{\"colorbar\":{\"outlinewidth\":0,\"ticks\":\"\"},\"type\":\"contourcarpet\"}],\"heatmap\":[{\"colorbar\":{\"outlinewidth\":0,\"ticks\":\"\"},\"colorscale\":[[0.0,\"#0d0887\"],[0.1111111111111111,\"#46039f\"],[0.2222222222222222,\"#7201a8\"],[0.3333333333333333,\"#9c179e\"],[0.4444444444444444,\"#bd3786\"],[0.5555555555555556,\"#d8576b\"],[0.6666666666666666,\"#ed7953\"],[0.7777777777777778,\"#fb9f3a\"],[0.8888888888888888,\"#fdca26\"],[1.0,\"#f0f921\"]],\"type\":\"heatmap\"}],\"heatmapgl\":[{\"colorbar\":{\"outlinewidth\":0,\"ticks\":\"\"},\"colorscale\":[[0.0,\"#0d0887\"],[0.1111111111111111,\"#46039f\"],[0.2222222222222222,\"#7201a8\"],[0.3333333333333333,\"#9c179e\"],[0.4444444444444444,\"#bd3786\"],[0.5555555555555556,\"#d8576b\"],[0.6666666666666666,\"#ed7953\"],[0.7777777777777778,\"#fb9f3a\"],[0.8888888888888888,\"#fdca26\"],[1.0,\"#f0f921\"]],\"type\":\"heatmapgl\"}],\"histogram\":[{\"marker\":{\"pattern\":{\"fillmode\":\"overlay\",\"size\":10,\"solidity\":0.2}},\"type\":\"histogram\"}],\"histogram2d\":[{\"colorbar\":{\"outlinewidth\":0,\"ticks\":\"\"},\"colorscale\":[[0.0,\"#0d0887\"],[0.1111111111111111,\"#46039f\"],[0.2222222222222222,\"#7201a8\"],[0.3333333333333333,\"#9c179e\"],[0.4444444444444444,\"#bd3786\"],[0.5555555555555556,\"#d8576b\"],[0.6666666666666666,\"#ed7953\"],[0.7777777777777778,\"#fb9f3a\"],[0.8888888888888888,\"#fdca26\"],[1.0,\"#f0f921\"]],\"type\":\"histogram2d\"}],\"histogram2dcontour\":[{\"colorbar\":{\"outlinewidth\":0,\"ticks\":\"\"},\"colorscale\":[[0.0,\"#0d0887\"],[0.1111111111111111,\"#46039f\"],[0.2222222222222222,\"#7201a8\"],[0.3333333333333333,\"#9c179e\"],[0.4444444444444444,\"#bd3786\"],[0.5555555555555556,\"#d8576b\"],[0.6666666666666666,\"#ed7953\"],[0.7777777777777778,\"#fb9f3a\"],[0.8888888888888888,\"#fdca26\"],[1.0,\"#f0f921\"]],\"type\":\"histogram2dcontour\"}],\"mesh3d\":[{\"colorbar\":{\"outlinewidth\":0,\"ticks\":\"\"},\"type\":\"mesh3d\"}],\"parcoords\":[{\"line\":{\"colorbar\":{\"outlinewidth\":0,\"ticks\":\"\"}},\"type\":\"parcoords\"}],\"pie\":[{\"automargin\":true,\"type\":\"pie\"}],\"scatter\":[{\"marker\":{\"colorbar\":{\"outlinewidth\":0,\"ticks\":\"\"}},\"type\":\"scatter\"}],\"scatter3d\":[{\"line\":{\"colorbar\":{\"outlinewidth\":0,\"ticks\":\"\"}},\"marker\":{\"colorbar\":{\"outlinewidth\":0,\"ticks\":\"\"}},\"type\":\"scatter3d\"}],\"scattercarpet\":[{\"marker\":{\"colorbar\":{\"outlinewidth\":0,\"ticks\":\"\"}},\"type\":\"scattercarpet\"}],\"scattergeo\":[{\"marker\":{\"colorbar\":{\"outlinewidth\":0,\"ticks\":\"\"}},\"type\":\"scattergeo\"}],\"scattergl\":[{\"marker\":{\"colorbar\":{\"outlinewidth\":0,\"ticks\":\"\"}},\"type\":\"scattergl\"}],\"scattermapbox\":[{\"marker\":{\"colorbar\":{\"outlinewidth\":0,\"ticks\":\"\"}},\"type\":\"scattermapbox\"}],\"scatterpolar\":[{\"marker\":{\"colorbar\":{\"outlinewidth\":0,\"ticks\":\"\"}},\"type\":\"scatterpolar\"}],\"scatterpolargl\":[{\"marker\":{\"colorbar\":{\"outlinewidth\":0,\"ticks\":\"\"}},\"type\":\"scatterpolargl\"}],\"scatterternary\":[{\"marker\":{\"colorbar\":{\"outlinewidth\":0,\"ticks\":\"\"}},\"type\":\"scatterternary\"}],\"surface\":[{\"colorbar\":{\"outlinewidth\":0,\"ticks\":\"\"},\"colorscale\":[[0.0,\"#0d0887\"],[0.1111111111111111,\"#46039f\"],[0.2222222222222222,\"#7201a8\"],[0.3333333333333333,\"#9c179e\"],[0.4444444444444444,\"#bd3786\"],[0.5555555555555556,\"#d8576b\"],[0.6666666666666666,\"#ed7953\"],[0.7777777777777778,\"#fb9f3a\"],[0.8888888888888888,\"#fdca26\"],[1.0,\"#f0f921\"]],\"type\":\"surface\"}],\"table\":[{\"cells\":{\"fill\":{\"color\":\"#EBF0F8\"},\"line\":{\"color\":\"white\"}},\"header\":{\"fill\":{\"color\":\"#C8D4E3\"},\"line\":{\"color\":\"white\"}},\"type\":\"table\"}]},\"layout\":{\"annotationdefaults\":{\"arrowcolor\":\"#2a3f5f\",\"arrowhead\":0,\"arrowwidth\":1},\"autotypenumbers\":\"strict\",\"coloraxis\":{\"colorbar\":{\"outlinewidth\":0,\"ticks\":\"\"}},\"colorscale\":{\"diverging\":[[0,\"#8e0152\"],[0.1,\"#c51b7d\"],[0.2,\"#de77ae\"],[0.3,\"#f1b6da\"],[0.4,\"#fde0ef\"],[0.5,\"#f7f7f7\"],[0.6,\"#e6f5d0\"],[0.7,\"#b8e186\"],[0.8,\"#7fbc41\"],[0.9,\"#4d9221\"],[1,\"#276419\"]],\"sequential\":[[0.0,\"#0d0887\"],[0.1111111111111111,\"#46039f\"],[0.2222222222222222,\"#7201a8\"],[0.3333333333333333,\"#9c179e\"],[0.4444444444444444,\"#bd3786\"],[0.5555555555555556,\"#d8576b\"],[0.6666666666666666,\"#ed7953\"],[0.7777777777777778,\"#fb9f3a\"],[0.8888888888888888,\"#fdca26\"],[1.0,\"#f0f921\"]],\"sequentialminus\":[[0.0,\"#0d0887\"],[0.1111111111111111,\"#46039f\"],[0.2222222222222222,\"#7201a8\"],[0.3333333333333333,\"#9c179e\"],[0.4444444444444444,\"#bd3786\"],[0.5555555555555556,\"#d8576b\"],[0.6666666666666666,\"#ed7953\"],[0.7777777777777778,\"#fb9f3a\"],[0.8888888888888888,\"#fdca26\"],[1.0,\"#f0f921\"]]},\"colorway\":[\"#636efa\",\"#EF553B\",\"#00cc96\",\"#ab63fa\",\"#FFA15A\",\"#19d3f3\",\"#FF6692\",\"#B6E880\",\"#FF97FF\",\"#FECB52\"],\"font\":{\"color\":\"#2a3f5f\"},\"geo\":{\"bgcolor\":\"white\",\"lakecolor\":\"white\",\"landcolor\":\"#E5ECF6\",\"showlakes\":true,\"showland\":true,\"subunitcolor\":\"white\"},\"hoverlabel\":{\"align\":\"left\"},\"hovermode\":\"closest\",\"mapbox\":{\"style\":\"light\"},\"paper_bgcolor\":\"white\",\"plot_bgcolor\":\"#E5ECF6\",\"polar\":{\"angularaxis\":{\"gridcolor\":\"white\",\"linecolor\":\"white\",\"ticks\":\"\"},\"bgcolor\":\"#E5ECF6\",\"radialaxis\":{\"gridcolor\":\"white\",\"linecolor\":\"white\",\"ticks\":\"\"}},\"scene\":{\"xaxis\":{\"backgroundcolor\":\"#E5ECF6\",\"gridcolor\":\"white\",\"gridwidth\":2,\"linecolor\":\"white\",\"showbackground\":true,\"ticks\":\"\",\"zerolinecolor\":\"white\"},\"yaxis\":{\"backgroundcolor\":\"#E5ECF6\",\"gridcolor\":\"white\",\"gridwidth\":2,\"linecolor\":\"white\",\"showbackground\":true,\"ticks\":\"\",\"zerolinecolor\":\"white\"},\"zaxis\":{\"backgroundcolor\":\"#E5ECF6\",\"gridcolor\":\"white\",\"gridwidth\":2,\"linecolor\":\"white\",\"showbackground\":true,\"ticks\":\"\",\"zerolinecolor\":\"white\"}},\"shapedefaults\":{\"line\":{\"color\":\"#2a3f5f\"}},\"ternary\":{\"aaxis\":{\"gridcolor\":\"white\",\"linecolor\":\"white\",\"ticks\":\"\"},\"baxis\":{\"gridcolor\":\"white\",\"linecolor\":\"white\",\"ticks\":\"\"},\"bgcolor\":\"#E5ECF6\",\"caxis\":{\"gridcolor\":\"white\",\"linecolor\":\"white\",\"ticks\":\"\"}},\"title\":{\"x\":0.05},\"xaxis\":{\"automargin\":true,\"gridcolor\":\"white\",\"linecolor\":\"white\",\"ticks\":\"\",\"title\":{\"standoff\":15},\"zerolinecolor\":\"white\",\"zerolinewidth\":2},\"yaxis\":{\"automargin\":true,\"gridcolor\":\"white\",\"linecolor\":\"white\",\"ticks\":\"\",\"title\":{\"standoff\":15},\"zerolinecolor\":\"white\",\"zerolinewidth\":2}}},\"title\":{\"font\":{\"color\":\"#4D5663\"}},\"xaxis\":{\"gridcolor\":\"#E1E5ED\",\"showgrid\":true,\"tickfont\":{\"color\":\"#4D5663\"},\"title\":{\"font\":{\"color\":\"#4D5663\"},\"text\":\"Kale Price\"},\"zerolinecolor\":\"#E1E5ED\"},\"yaxis\":{\"gridcolor\":\"#E1E5ED\",\"showgrid\":true,\"tickfont\":{\"color\":\"#4D5663\"},\"title\":{\"font\":{\"color\":\"#4D5663\"},\"text\":\"Hectograms\"},\"zerolinecolor\":\"#E1E5ED\"}},                        {\"showLink\": true, \"linkText\": \"Export to plot.ly\", \"plotlyServerURL\": \"https://plot.ly\", \"responsive\": true}                    ).then(function(){\n",
       "                            \n",
       "var gd = document.getElementById('f442e045-1bd7-4d3d-9218-c9258d28b917');\n",
       "var x = new MutationObserver(function (mutations, observer) {{\n",
       "        var display = window.getComputedStyle(gd).display;\n",
       "        if (!display || display === 'none') {{\n",
       "            console.log([gd, 'removed!']);\n",
       "            Plotly.purge(gd);\n",
       "            observer.disconnect();\n",
       "        }}\n",
       "}});\n",
       "\n",
       "// Listen for the removal of the full notebook cells\n",
       "var notebookContainer = gd.closest('#notebook-container');\n",
       "if (notebookContainer) {{\n",
       "    x.observe(notebookContainer, {childList: true});\n",
       "}}\n",
       "\n",
       "// Listen for the clearing of the current output cell\n",
       "var outputEl = gd.closest('.output');\n",
       "if (outputEl) {{\n",
       "    x.observe(outputEl, {childList: true});\n",
       "}}\n",
       "\n",
       "                        })                };                });            </script>        </div>"
      ]
     },
     "metadata": {},
     "output_type": "display_data"
    }
   ],
   "source": [
    "import cufflinks as cf\n",
    "cf.go_offline()\n",
    "\n",
    "ReferenceGood = 'Kale'\n",
    "\n",
    "scale = [0.5,0.75,0.9,1.,1.1,1.2,1.3,1.4,1.5,2,4]\n",
    "\n",
    "cost0 = solve_subsistence_problem(FoodNutrients,Prices,diet_min[group],diet_max[group],tol=tol).fun\n",
    "\n",
    "my_p = Prices.copy()\n",
    "\n",
    "diet = {}\n",
    "for s in scale:\n",
    "\n",
    "    my_p[ReferenceGood] = Prices[ReferenceGood]*s\n",
    "    result = solve_subsistence_problem(FoodNutrients,my_p,diet_min[group],diet_max[group],tol=tol)\n",
    "    diet[my_p[ReferenceGood]] = result.diet\n",
    "\n",
    "Diet_response = pd.DataFrame(diet).T\n",
    "Diet_response.index.name = '%s Price' % ReferenceGood\n",
    "\n",
    "Diet_response.reset_index(inplace=True)\n",
    "\n",
    "# Get rid of units for index (cufflinks chokes)\n",
    "Diet_response['%s Price' % ReferenceGood] = Diet_response['%s Price' % ReferenceGood].apply(lambda x: x.magnitude)\n",
    "\n",
    "Diet_response = Diet_response.set_index('%s Price' % ReferenceGood)\n",
    "\n",
    "# Just look at goods consumed in quantities greater than error tolerance\n",
    "Diet_response.loc[:,(Diet_response>tol).sum()>0].iplot(xTitle='%s Price' % ReferenceGood,yTitle='Hectograms')"
   ]
  },
  {
   "cell_type": "markdown",
   "metadata": {},
   "source": [
    "## Effects of Price Changes on Subsistence Diet Nutrition\n",
    "\n"
   ]
  },
  {
   "cell_type": "markdown",
   "metadata": {},
   "source": [
    "The code below creates a graph which uses the food price changes\n",
    "  described above, but maps into nutrients.\n",
    "\n"
   ]
  },
  {
   "cell_type": "code",
   "execution_count": 19,
   "metadata": {},
   "outputs": [
    {
     "data": {
      "application/vnd.plotly.v1+json": {
       "config": {
        "linkText": "Export to plot.ly",
        "plotlyServerURL": "https://plot.ly",
        "showLink": true
       },
       "data": [
        {
         "line": {
          "color": "rgba(255, 153, 51, 1.0)",
          "dash": "solid",
          "shape": "linear",
          "width": 1.3
         },
         "mode": "lines",
         "name": " Ergosta-5,7-dienol",
         "text": "",
         "type": "scatter",
         "x": [
          0.5273457311462271,
          0.7910185967193406,
          0.9492223160632087,
          1.0546914622924541,
          1.1601606085216996,
          1.265629754750945,
          1.3710989009801904,
          1.4765680472094358,
          1.5820371934386812,
          2.1093829245849083,
          4.218765849169817
         ],
         "y": [
          3.391873474498506e-10,
          1.765625738226251e-08,
          5.630620561660287e-09,
          3.445356696039069e-09,
          3.088813526848171e-11,
          8.690853522475835e-11,
          5.299622977250818e-10,
          7.988068589939383e-11,
          6.917503273296149e-11,
          4.240763526197337e-10,
          1.8482201971434275e-08
         ]
        },
        {
         "line": {
          "color": "rgba(55, 128, 191, 1.0)",
          "dash": "solid",
          "shape": "linear",
          "width": 1.3
         },
         "mode": "lines",
         "name": " Ergosta-7,22-dienol",
         "text": "",
         "type": "scatter",
         "x": [
          0.5273457311462271,
          0.7910185967193406,
          0.9492223160632087,
          1.0546914622924541,
          1.1601606085216996,
          1.265629754750945,
          1.3710989009801904,
          1.4765680472094358,
          1.5820371934386812,
          2.1093829245849083,
          4.218765849169817
         ],
         "y": [
          8.960213612653988e-11,
          4.6642022155163585e-09,
          1.4874246749943198e-09,
          9.101498685136592e-10,
          8.159628953820797e-12,
          2.295837525283378e-11,
          1.3999860047762388e-10,
          2.110184871473458e-11,
          1.8273767421153834e-11,
          1.1202701799216727e-10,
          4.88238959800087e-09
         ]
        },
        {
         "line": {
          "color": "rgba(50, 171, 96, 1.0)",
          "dash": "solid",
          "shape": "linear",
          "width": 1.3
         },
         "mode": "lines",
         "name": "Alanine",
         "text": "",
         "type": "scatter",
         "x": [
          0.5273457311462271,
          0.7910185967193406,
          0.9492223160632087,
          1.0546914622924541,
          1.1601606085216996,
          1.265629754750945,
          1.3710989009801904,
          1.4765680472094358,
          1.5820371934386812,
          2.1093829245849083,
          4.218765849169817
         ],
         "y": [
          4.455219463332283,
          4.499851430034971,
          4.499851256286038,
          4.499851196872199,
          4.499851177669968,
          4.499851178666231,
          4.512221745748243,
          4.512221755844508,
          4.512221757759001,
          4.545530488453744,
          4.703220630744081
         ]
        },
        {
         "line": {
          "color": "rgba(128, 0, 128, 1.0)",
          "dash": "solid",
          "shape": "linear",
          "width": 1.3
         },
         "mode": "lines",
         "name": "Alcohol, ethyl",
         "text": "",
         "type": "scatter",
         "x": [
          0.5273457311462271,
          0.7910185967193406,
          0.9492223160632087,
          1.0546914622924541,
          1.1601606085216996,
          1.265629754750945,
          1.3710989009801904,
          1.4765680472094358,
          1.5820371934386812,
          2.1093829245849083,
          4.218765849169817
         ],
         "y": [
          0,
          0,
          0,
          0,
          0,
          0,
          0,
          0,
          0,
          0,
          0
         ]
        },
        {
         "line": {
          "color": "rgba(219, 64, 82, 1.0)",
          "dash": "solid",
          "shape": "linear",
          "width": 1.3
         },
         "mode": "lines",
         "name": "Amino acids",
         "text": "",
         "type": "scatter",
         "x": [
          0.5273457311462271,
          0.7910185967193406,
          0.9492223160632087,
          1.0546914622924541,
          1.1601606085216996,
          1.265629754750945,
          1.3710989009801904,
          1.4765680472094358,
          1.5820371934386812,
          2.1093829245849083,
          4.218765849169817
         ],
         "y": [
          0,
          0,
          0,
          0,
          0,
          0,
          0,
          0,
          0,
          0,
          0
         ]
        },
        {
         "line": {
          "color": "rgba(0, 128, 128, 1.0)",
          "dash": "solid",
          "shape": "linear",
          "width": 1.3
         },
         "mode": "lines",
         "name": "Arginine",
         "text": "",
         "type": "scatter",
         "x": [
          0.5273457311462271,
          0.7910185967193406,
          0.9492223160632087,
          1.0546914622924541,
          1.1601606085216996,
          1.265629754750945,
          1.3710989009801904,
          1.4765680472094358,
          1.5820371934386812,
          2.1093829245849083,
          4.218765849169817
         ],
         "y": [
          9.287176949790197,
          9.450229336410775,
          9.450228887098008,
          9.450228779241465,
          9.450228899618526,
          9.450228901235887,
          9.22820498590851,
          9.228204784500319,
          9.228204784395809,
          9.117499605989881,
          10.163906413170436
         ]
        },
        {
         "line": {
          "color": "rgba(255, 255, 51, 1.0)",
          "dash": "solid",
          "shape": "linear",
          "width": 1.3
         },
         "mode": "lines",
         "name": "Ash",
         "text": "",
         "type": "scatter",
         "x": [
          0.5273457311462271,
          0.7910185967193406,
          0.9492223160632087,
          1.0546914622924541,
          1.1601606085216996,
          1.265629754750945,
          1.3710989009801904,
          1.4765680472094358,
          1.5820371934386812,
          2.1093829245849083,
          4.218765849169817
         ],
         "y": [
          18.863066100530325,
          19.326688545619827,
          19.32668828986182,
          19.326688181926954,
          19.3266881524788,
          19.326688152366202,
          19.279159122968725,
          19.27915908047303,
          19.279159088968278,
          19.40717550079177,
          18.558761870352882
         ]
        },
        {
         "line": {
          "color": "rgba(128, 128, 0, 1.0)",
          "dash": "solid",
          "shape": "linear",
          "width": 1.3
         },
         "mode": "lines",
         "name": "Aspartic acid",
         "text": "",
         "type": "scatter",
         "x": [
          0.5273457311462271,
          0.7910185967193406,
          0.9492223160632087,
          1.0546914622924541,
          1.1601606085216996,
          1.265629754750945,
          1.3710989009801904,
          1.4765680472094358,
          1.5820371934386812,
          2.1093829245849083,
          4.218765849169817
         ],
         "y": [
          12.668268412371951,
          12.763269295104799,
          12.763268889723294,
          12.763268766433056,
          12.763268859399133,
          12.763268860265361,
          12.722762182429621,
          12.722762145334855,
          12.722762143360749,
          12.669665417459735,
          12.740882908040346
         ]
        },
        {
         "line": {
          "color": "rgba(251, 128, 114, 1.0)",
          "dash": "solid",
          "shape": "linear",
          "width": 1.3
         },
         "mode": "lines",
         "name": "Beta-glucan",
         "text": "",
         "type": "scatter",
         "x": [
          0.5273457311462271,
          0.7910185967193406,
          0.9492223160632087,
          1.0546914622924541,
          1.1601606085216996,
          1.265629754750945,
          1.3710989009801904,
          1.4765680472094358,
          1.5820371934386812,
          2.1093829245849083,
          4.218765849169817
         ],
         "y": [
          1.0900075252397032e-09,
          5.5438687246920295e-08,
          1.7541558965388746e-08,
          1.120856679774549e-08,
          1.0676959158461928e-10,
          3.022176283666248e-10,
          1.9159473802626452e-09,
          3.0950496533212667e-10,
          3.264901727706332e-10,
          2.1282673149170283e-09,
          1.5383164386394722e-07
         ]
        },
        {
         "line": {
          "color": "rgba(128, 177, 211, 1.0)",
          "dash": "solid",
          "shape": "linear",
          "width": 1.3
         },
         "mode": "lines",
         "name": "Beta-sitostanol",
         "text": "",
         "type": "scatter",
         "x": [
          0.5273457311462271,
          0.7910185967193406,
          0.9492223160632087,
          1.0546914622924541,
          1.1601606085216996,
          1.265629754750945,
          1.3710989009801904,
          1.4765680472094358,
          1.5820371934386812,
          2.1093829245849083,
          4.218765849169817
         ],
         "y": [
          0,
          0,
          0,
          0,
          0,
          0,
          0,
          0,
          0,
          0,
          0
         ]
        },
        {
         "line": {
          "color": "rgba(128, 177, 211, 0.9647577092511013)",
          "dash": "solid",
          "shape": "linear",
          "width": 1.3
         },
         "mode": "lines",
         "name": "Beta-sitosterol",
         "text": "",
         "type": "scatter",
         "x": [
          0.5273457311462271,
          0.7910185967193406,
          0.9492223160632087,
          1.0546914622924541,
          1.1601606085216996,
          1.265629754750945,
          1.3710989009801904,
          1.4765680472094358,
          1.5820371934386812,
          2.1093829245849083,
          4.218765849169817
         ],
         "y": [
          29.032198930122345,
          23.14322924465095,
          23.143247860351703,
          23.143256659464377,
          23.14325759661143,
          23.143257766459506,
          23.164289698219548,
          23.164289279428534,
          23.16428829026311,
          6.924228136899248,
          91.35972249459422
         ]
        },
        {
         "line": {
          "color": "rgba(255, 153, 51, 0.9647577092511013)",
          "dash": "solid",
          "shape": "linear",
          "width": 1.3
         },
         "mode": "lines",
         "name": "Betaine",
         "text": "",
         "type": "scatter",
         "x": [
          0.5273457311462271,
          0.7910185967193406,
          0.9492223160632087,
          1.0546914622924541,
          1.1601606085216996,
          1.265629754750945,
          1.3710989009801904,
          1.4765680472094358,
          1.5820371934386812,
          2.1093829245849083,
          4.218765849169817
         ],
         "y": [
          0.38541504516215735,
          7.544325158338176,
          7.5443131307512346,
          7.5443108232310125,
          7.544309636523166,
          7.544309677243563,
          0.7065602182641767,
          0.7065538338749813,
          0.7065540403119677,
          1.0546740080111812,
          14.278016994606881
         ]
        },
        {
         "line": {
          "color": "rgba(55, 128, 191, 0.9647577092511013)",
          "dash": "solid",
          "shape": "linear",
          "width": 1.3
         },
         "mode": "lines",
         "name": "Biotin",
         "text": "",
         "type": "scatter",
         "x": [
          0.5273457311462271,
          0.7910185967193406,
          0.9492223160632087,
          1.0546914622924541,
          1.1601606085216996,
          1.265629754750945,
          1.3710989009801904,
          1.4765680472094358,
          1.5820371934386812,
          2.1093829245849083,
          4.218765849169817
         ],
         "y": [
          172.18833873885603,
          176.07170207750517,
          176.07169319614584,
          176.0716917533399,
          176.071697565223,
          176.07169756388248,
          166.767630354,
          166.7676220103027,
          166.76762194986136,
          161.68004543074056,
          174.45575932149126
         ]
        },
        {
         "line": {
          "color": "rgba(50, 171, 96, 0.9647577092511013)",
          "dash": "solid",
          "shape": "linear",
          "width": 1.3
         },
         "mode": "lines",
         "name": "Caffeine",
         "text": "",
         "type": "scatter",
         "x": [
          0.5273457311462271,
          0.7910185967193406,
          0.9492223160632087,
          1.0546914622924541,
          1.1601606085216996,
          1.265629754750945,
          1.3710989009801904,
          1.4765680472094358,
          1.5820371934386812,
          2.1093829245849083,
          4.218765849169817
         ],
         "y": [
          0,
          0,
          0,
          0,
          0,
          0,
          0,
          0,
          0,
          0,
          0
         ]
        },
        {
         "line": {
          "color": "rgba(128, 0, 128, 0.9647577092511013)",
          "dash": "solid",
          "shape": "linear",
          "width": 1.3
         },
         "mode": "lines",
         "name": "Calcium, Ca",
         "text": "",
         "type": "scatter",
         "x": [
          0.5273457311462271,
          0.7910185967193406,
          0.9492223160632087,
          1.0546914622924541,
          1.1601606085216996,
          1.265629754750945,
          1.3710989009801904,
          1.4765680472094358,
          1.5820371934386812,
          2.1093829245849083,
          4.218765849169817
         ],
         "y": [
          1018.3281881365995,
          1000.0000674551537,
          1000.0000275619484,
          1000.0000136005189,
          1000.0000000177484,
          1000.0000000145526,
          1000.0000003142552,
          1000.0000002079408,
          1000.000001870007,
          1026.7665110544199,
          1000.000151279376
         ]
        },
        {
         "line": {
          "color": "rgba(219, 64, 82, 0.9647577092511013)",
          "dash": "solid",
          "shape": "linear",
          "width": 1.3
         },
         "mode": "lines",
         "name": "Campesterol",
         "text": "",
         "type": "scatter",
         "x": [
          0.5273457311462271,
          0.7910185967193406,
          0.9492223160632087,
          1.0546914622924541,
          1.1601606085216996,
          1.265629754750945,
          1.3710989009801904,
          1.4765680472094358,
          1.5820371934386812,
          2.1093829245849083,
          4.218765849169817
         ],
         "y": [
          1.9100131078052185,
          1.5225810986619341,
          1.5225821905467158,
          1.5225827390914999,
          1.5225827368235765,
          1.522582750156241,
          1.5239664329726832,
          1.523966401608112,
          1.523966339192105,
          0.4555413419265741,
          8.861626111390589
         ]
        },
        {
         "line": {
          "color": "rgba(0, 128, 128, 0.9647577092511013)",
          "dash": "solid",
          "shape": "linear",
          "width": 1.3
         },
         "mode": "lines",
         "name": "Carbohydrate, by difference",
         "text": "",
         "type": "scatter",
         "x": [
          0.5273457311462271,
          0.7910185967193406,
          0.9492223160632087,
          1.0546914622924541,
          1.1601606085216996,
          1.265629754750945,
          1.3710989009801904,
          1.4765680472094358,
          1.5820371934386812,
          2.1093829245849083,
          4.218765849169817
         ],
         "y": [
          180.50557253515265,
          192.36933689471368,
          192.36932212648878,
          192.36931966898084,
          192.36932356210193,
          192.36932376744207,
          176.508595557136,
          176.50858118943668,
          176.50858105535158,
          168.17840595196193,
          185.84260791853197
         ]
        },
        {
         "line": {
          "color": "rgba(255, 255, 51, 0.9647577092511013)",
          "dash": "solid",
          "shape": "linear",
          "width": 1.3
         },
         "mode": "lines",
         "name": "Carbohydrate, by summation",
         "text": "",
         "type": "scatter",
         "x": [
          0.5273457311462271,
          0.7910185967193406,
          0.9492223160632087,
          1.0546914622924541,
          1.1601606085216996,
          1.265629754750945,
          1.3710989009801904,
          1.4765680472094358,
          1.5820371934386812,
          2.1093829245849083,
          4.218765849169817
         ],
         "y": [
          30.88994403802969,
          37.29210011536003,
          37.29210198933904,
          37.29210508519911,
          37.2921174654956,
          37.29211743837329,
          20.711576061786758,
          20.71156131756239,
          20.71156082785125,
          6.147048180642134,
          6.598447342221792
         ]
        },
        {
         "line": {
          "color": "rgba(128, 128, 0, 0.9647577092511013)",
          "dash": "solid",
          "shape": "linear",
          "width": 1.3
         },
         "mode": "lines",
         "name": "Carbohydrates",
         "text": "",
         "type": "scatter",
         "x": [
          0.5273457311462271,
          0.7910185967193406,
          0.9492223160632087,
          1.0546914622924541,
          1.1601606085216996,
          1.265629754750945,
          1.3710989009801904,
          1.4765680472094358,
          1.5820371934386812,
          2.1093829245849083,
          4.218765849169817
         ],
         "y": [
          0,
          0,
          0,
          0,
          0,
          0,
          0,
          0,
          0,
          0,
          0
         ]
        },
        {
         "line": {
          "color": "rgba(251, 128, 114, 0.9647577092511013)",
          "dash": "solid",
          "shape": "linear",
          "width": 1.3
         },
         "mode": "lines",
         "name": "Carotene, alpha",
         "text": "",
         "type": "scatter",
         "x": [
          0.5273457311462271,
          0.7910185967193406,
          0.9492223160632087,
          1.0546914622924541,
          1.1601606085216996,
          1.265629754750945,
          1.3710989009801904,
          1.4765680472094358,
          1.5820371934386812,
          2.1093829245849083,
          4.218765849169817
         ],
         "y": [
          1045.1945796287919,
          1269.236940873047,
          1269.2366268884577,
          1269.23581242389,
          1269.2328587578436,
          1269.2328539099824,
          4299.6619702955495,
          4299.664694679032,
          4299.6648956970275,
          8615.565735811017,
          13469.245058250239
         ]
        },
        {
         "line": {
          "color": "rgba(251, 128, 114, 0.9295154185022025)",
          "dash": "solid",
          "shape": "linear",
          "width": 1.3
         },
         "mode": "lines",
         "name": "Carotene, beta",
         "text": "",
         "type": "scatter",
         "x": [
          0.5273457311462271,
          0.7910185967193406,
          0.9492223160632087,
          1.0546914622924541,
          1.1601606085216996,
          1.265629754750945,
          1.3710989009801904,
          1.4765680472094358,
          1.5820371934386812,
          2.1093829245849083,
          4.218765849169817
         ],
         "y": [
          3601.335545256749,
          3495.155853428871,
          3495.1548865384466,
          3495.152916121599,
          3495.1458998734165,
          3495.1458890369436,
          10639.87551428319,
          10639.881935779744,
          10639.882411398285,
          20843.211058063596,
          32304.26678089708
         ]
        },
        {
         "line": {
          "color": "rgba(128, 177, 211, 0.9295154185022025)",
          "dash": "solid",
          "shape": "linear",
          "width": 1.3
         },
         "mode": "lines",
         "name": "Carotene, gamma",
         "text": "",
         "type": "scatter",
         "x": [
          0.5273457311462271,
          0.7910185967193406,
          0.9492223160632087,
          1.0546914622924541,
          1.1601606085216996,
          1.265629754750945,
          1.3710989009801904,
          1.4765680472094358,
          1.5820371934386812,
          2.1093829245849083,
          4.218765849169817
         ],
         "y": [
          5.351462082798341e-10,
          2.7547613884123536e-08,
          1.0993428687331682e-08,
          7.11321394213959e-09,
          4.970140529574316e-11,
          1.604255768661408e-10,
          6.508166667299427e-10,
          1.2208138418602414e-10,
          1.0069821019759458e-10,
          5.94212292618043e-10,
          3.3594369957580234e-08
         ]
        },
        {
         "line": {
          "color": "rgba(255, 153, 51, 0.9295154185022025)",
          "dash": "solid",
          "shape": "linear",
          "width": 1.3
         },
         "mode": "lines",
         "name": "Cholesterol",
         "text": "",
         "type": "scatter",
         "x": [
          0.5273457311462271,
          0.7910185967193406,
          0.9492223160632087,
          1.0546914622924541,
          1.1601606085216996,
          1.265629754750945,
          1.3710989009801904,
          1.4765680472094358,
          1.5820371934386812,
          2.1093829245849083,
          4.218765849169817
         ],
         "y": [
          0,
          0,
          0,
          0,
          0,
          0,
          0,
          0,
          0,
          0,
          0
         ]
        },
        {
         "line": {
          "color": "rgba(55, 128, 191, 0.9295154185022025)",
          "dash": "solid",
          "shape": "linear",
          "width": 1.3
         },
         "mode": "lines",
         "name": "Choline, total",
         "text": "",
         "type": "scatter",
         "x": [
          0.5273457311462271,
          0.7910185967193406,
          0.9492223160632087,
          1.0546914622924541,
          1.1601606085216996,
          1.265629754750945,
          1.3710989009801904,
          1.4765680472094358,
          1.5820371934386812,
          2.1093829245849083,
          4.218765849169817
         ],
         "y": [
          137.2314618512733,
          133.51198527029965,
          133.51198959118437,
          133.5119889536027,
          133.5119854293694,
          133.51198535111143,
          145.79612062829707,
          145.7961317137813,
          145.79613171344306,
          151.9948863409091,
          62.772219112493396
         ]
        },
        {
         "line": {
          "color": "rgba(50, 171, 96, 0.9295154185022025)",
          "dash": "solid",
          "shape": "linear",
          "width": 1.3
         },
         "mode": "lines",
         "name": "Citric acid",
         "text": "",
         "type": "scatter",
         "x": [
          0.5273457311462271,
          0.7910185967193406,
          0.9492223160632087,
          1.0546914622924541,
          1.1601606085216996,
          1.265629754750945,
          1.3710989009801904,
          1.4765680472094358,
          1.5820371934386812,
          2.1093829245849083,
          4.218765849169817
         ],
         "y": [
          496.86183363172256,
          542.0686385990526,
          542.0686607531493,
          542.068713834625,
          542.0689255632194,
          542.068925130485,
          254.37608874941688,
          254.37583281384357,
          254.37582420119685,
          7.4079539272121575e-06,
          2.4486108995619875e-05
         ]
        },
        {
         "line": {
          "color": "rgba(128, 0, 128, 0.9295154185022025)",
          "dash": "solid",
          "shape": "linear",
          "width": 1.3
         },
         "mode": "lines",
         "name": "Copper, Cu",
         "text": "",
         "type": "scatter",
         "x": [
          0.5273457311462271,
          0.7910185967193406,
          0.9492223160632087,
          1.0546914622924541,
          1.1601606085216996,
          1.265629754750945,
          1.3710989009801904,
          1.4765680472094358,
          1.5820371934386812,
          2.1093829245849083,
          4.218765849169817
         ],
         "y": [
          2.9140350183818575,
          2.933240821401403,
          2.9332407284366013,
          2.9332407192254024,
          2.933240760735286,
          2.9332407620501915,
          2.865304240360971,
          2.865304177379072,
          2.8653041733239437,
          2.7659150503319836,
          3.397798811297963
         ]
        },
        {
         "line": {
          "color": "rgba(219, 64, 82, 0.9295154185022025)",
          "dash": "solid",
          "shape": "linear",
          "width": 1.3
         },
         "mode": "lines",
         "name": "Cryptoxanthin, alpha",
         "text": "",
         "type": "scatter",
         "x": [
          0.5273457311462271,
          0.7910185967193406,
          0.9492223160632087,
          1.0546914622924541,
          1.1601606085216996,
          1.265629754750945,
          1.3710989009801904,
          1.4765680472094358,
          1.5820371934386812,
          2.1093829245849083,
          4.218765849169817
         ],
         "y": [
          2.4238975316204247e-09,
          1.2477448641632426e-07,
          4.9793765230855267e-08,
          3.221867491439696e-08,
          2.251181298689543e-10,
          7.26633495217226e-10,
          2.9478166669532698e-09,
          5.529568577837564e-10,
          4.5610365795381074e-10,
          2.6914321489170187e-09,
          1.5216273451374578e-07
         ]
        },
        {
         "line": {
          "color": "rgba(0, 128, 128, 0.9295154185022025)",
          "dash": "solid",
          "shape": "linear",
          "width": 1.3
         },
         "mode": "lines",
         "name": "Cryptoxanthin, beta",
         "text": "",
         "type": "scatter",
         "x": [
          0.5273457311462271,
          0.7910185967193406,
          0.9492223160632087,
          1.0546914622924541,
          1.1601606085216996,
          1.265629754750945,
          1.3710989009801904,
          1.4765680472094358,
          1.5820371934386812,
          2.1093829245849083,
          4.218765849169817
         ],
         "y": [
          21.248208537114067,
          13.071748964301383,
          13.071755043645503,
          13.071758371248503,
          13.071759659316806,
          13.071759710527193,
          12.293923060466865,
          12.293922218723829,
          12.293921805967564,
          5.501196528358277,
          18.30442653331545
         ]
        },
        {
         "line": {
          "color": "rgba(255, 255, 51, 0.9295154185022025)",
          "dash": "solid",
          "shape": "linear",
          "width": 1.3
         },
         "mode": "lines",
         "name": "Cysteine",
         "text": "",
         "type": "scatter",
         "x": [
          0.5273457311462271,
          0.7910185967193406,
          0.9492223160632087,
          1.0546914622924541,
          1.1601606085216996,
          1.265629754750945,
          1.3710989009801904,
          1.4765680472094358,
          1.5820371934386812,
          2.1093829245849083,
          4.218765849169817
         ],
         "y": [
          1.2393299063864496,
          1.2620525118249668,
          1.2620524606014285,
          1.2620524522861873,
          1.2620524865881124,
          1.26205248657769,
          1.2076118791889439,
          1.2076118303925363,
          1.2076118300355592,
          1.1778430472140697,
          1.2525971912395248
         ]
        },
        {
         "line": {
          "color": "rgba(128, 128, 0, 0.9295154185022025)",
          "dash": "solid",
          "shape": "linear",
          "width": 1.3
         },
         "mode": "lines",
         "name": "Cystine",
         "text": "",
         "type": "scatter",
         "x": [
          0.5273457311462271,
          0.7910185967193406,
          0.9492223160632087,
          1.0546914622924541,
          1.1601606085216996,
          1.265629754750945,
          1.3710989009801904,
          1.4765680472094358,
          1.5820371934386812,
          2.1093829245849083,
          4.218765849169817
         ],
         "y": [
          0.3462180645781322,
          0.36499938336632926,
          0.36499933929578204,
          0.3649993104455485,
          0.36499923061341916,
          0.3649992313027748,
          0.4298419182107009,
          0.42984197576911154,
          0.4298419801944659,
          0.5242998437035941,
          0.7463777895095454
         ]
        },
        {
         "line": {
          "color": "rgba(128, 128, 0, 0.894273127753304)",
          "dash": "solid",
          "shape": "linear",
          "width": 1.3
         },
         "mode": "lines",
         "name": "Daidzein",
         "text": "",
         "type": "scatter",
         "x": [
          0.5273457311462271,
          0.7910185967193406,
          0.9492223160632087,
          1.0546914622924541,
          1.1601606085216996,
          1.265629754750945,
          1.3710989009801904,
          1.4765680472094358,
          1.5820371934386812,
          2.1093829245849083,
          4.218765849169817
         ],
         "y": [
          22.60194092445377,
          23.108754947290258,
          23.10875382307138,
          23.108753641093887,
          23.108754410758134,
          23.108754410387306,
          21.894489402471855,
          21.894488314925056,
          21.894488307033534,
          21.230513508674612,
          22.8978597110987
         ]
        },
        {
         "line": {
          "color": "rgba(251, 128, 114, 0.894273127753304)",
          "dash": "solid",
          "shape": "linear",
          "width": 1.3
         },
         "mode": "lines",
         "name": "Daidzin",
         "text": "",
         "type": "scatter",
         "x": [
          0.5273457311462271,
          0.7910185967193406,
          0.9492223160632087,
          1.0546914622924541,
          1.1601606085216996,
          1.265629754750945,
          1.3710989009801904,
          1.4765680472094358,
          1.5820371934386812,
          2.1093829245849083,
          4.218765849169817
         ],
         "y": [
          79.9421697881416,
          79.97088523373198,
          79.97088488458697,
          79.97088481982873,
          79.97088479195543,
          79.97088479409368,
          79.90208705122987,
          79.9020869766945,
          79.90208697514498,
          79.86446753839202,
          79.95893629675567
         ]
        },
        {
         "line": {
          "color": "rgba(128, 177, 211, 0.894273127753304)",
          "dash": "solid",
          "shape": "linear",
          "width": 1.3
         },
         "mode": "lines",
         "name": "Delta-5-avenasterol",
         "text": "",
         "type": "scatter",
         "x": [
          0.5273457311462271,
          0.7910185967193406,
          0.9492223160632087,
          1.0546914622924541,
          1.1601606085216996,
          1.265629754750945,
          1.3710989009801904,
          1.4765680472094358,
          1.5820371934386812,
          2.1093829245849083,
          4.218765849169817
         ],
         "y": [
          0,
          0,
          0,
          0,
          0,
          0,
          0,
          0,
          0,
          0,
          0
         ]
        },
        {
         "line": {
          "color": "rgba(255, 153, 51, 0.894273127753304)",
          "dash": "solid",
          "shape": "linear",
          "width": 1.3
         },
         "mode": "lines",
         "name": "Delta-7-Stigmastenol",
         "text": "",
         "type": "scatter",
         "x": [
          0.5273457311462271,
          0.7910185967193406,
          0.9492223160632087,
          1.0546914622924541,
          1.1601606085216996,
          1.265629754750945,
          1.3710989009801904,
          1.4765680472094358,
          1.5820371934386812,
          2.1093829245849083,
          4.218765849169817
         ],
         "y": [
          0,
          0,
          0,
          0,
          0,
          0,
          0,
          0,
          0,
          0,
          0
         ]
        },
        {
         "line": {
          "color": "rgba(55, 128, 191, 0.894273127753304)",
          "dash": "solid",
          "shape": "linear",
          "width": 1.3
         },
         "mode": "lines",
         "name": "Energy",
         "text": "",
         "type": "scatter",
         "x": [
          0.5273457311462271,
          0.7910185967193406,
          0.9492223160632087,
          1.0546914622924541,
          1.1601606085216996,
          1.265629754750945,
          1.3710989009801904,
          1.4765680472094358,
          1.5820371934386812,
          2.1093829245849083,
          4.218765849169817
         ],
         "y": [
          3028.3289022187005,
          3229.2214572619478,
          3229.2213294165203,
          3229.221341040752,
          3229.2214018832387,
          3229.2214069461556,
          2955.585264072525,
          2955.5850137348557,
          2955.5850052821093,
          2717.5136899502695,
          3299.999646746663
         ]
        },
        {
         "line": {
          "color": "rgba(50, 171, 96, 0.894273127753304)",
          "dash": "solid",
          "shape": "linear",
          "width": 1.3
         },
         "mode": "lines",
         "name": "Energy (Atwater General Factors)",
         "text": "",
         "type": "scatter",
         "x": [
          0.5273457311462271,
          0.7910185967193406,
          0.9492223160632087,
          1.0546914622924541,
          1.1601606085216996,
          1.265629754750945,
          1.3710989009801904,
          1.4765680472094358,
          1.5820371934386812,
          2.1093829245849083,
          4.218765849169817
         ],
         "y": [
          1326.9802324364787,
          1354.9147175018138,
          1354.914648486047,
          1354.9146370872024,
          1354.9146771597434,
          1354.9146771846351,
          1287.9870603159213,
          1287.9870001054794,
          1287.9869996658015,
          1251.3901691028336,
          1343.2906465546857
         ]
        },
        {
         "line": {
          "color": "rgba(128, 0, 128, 0.894273127753304)",
          "dash": "solid",
          "shape": "linear",
          "width": 1.3
         },
         "mode": "lines",
         "name": "Energy (Atwater Specific Factors)",
         "text": "",
         "type": "scatter",
         "x": [
          0.5273457311462271,
          0.7910185967193406,
          0.9492223160632087,
          1.0546914622924541,
          1.1601606085216996,
          1.265629754750945,
          1.3710989009801904,
          1.4765680472094358,
          1.5820371934386812,
          2.1093829245849083,
          4.218765849169817
         ],
         "y": [
          1253.907674841679,
          1279.9729179213814,
          1279.972853481468,
          1279.972842852658,
          1279.972880258766,
          1279.9728802815566,
          1217.523739125808,
          1217.5236829397077,
          1217.5236825297811,
          1183.375736667622,
          1269.1266746537412
         ]
        },
        {
         "line": {
          "color": "rgba(219, 64, 82, 0.894273127753304)",
          "dash": "solid",
          "shape": "linear",
          "width": 1.3
         },
         "mode": "lines",
         "name": "Ergosta-7-enol",
         "text": "",
         "type": "scatter",
         "x": [
          0.5273457311462271,
          0.7910185967193406,
          0.9492223160632087,
          1.0546914622924541,
          1.1601606085216996,
          1.265629754750945,
          1.3710989009801904,
          1.4765680472094358,
          1.5820371934386812,
          2.1093829245849083,
          4.218765849169817
         ],
         "y": [
          9.488651356498131e-11,
          4.939278302108704e-09,
          1.5751470634742181e-09,
          9.638268860345555e-10,
          8.640851400222414e-12,
          2.431236886787453e-11,
          1.4825516084279808e-10,
          2.2346351782162215e-11,
          1.9351481507560187e-11,
          1.1863392572858153e-10,
          5.170333508187571e-09
         ]
        },
        {
         "line": {
          "color": "rgba(0, 128, 128, 0.894273127753304)",
          "dash": "solid",
          "shape": "linear",
          "width": 1.3
         },
         "mode": "lines",
         "name": "Ergosterol",
         "text": "",
         "type": "scatter",
         "x": [
          0.5273457311462271,
          0.7910185967193406,
          0.9492223160632087,
          1.0546914622924541,
          1.1601606085216996,
          1.265629754750945,
          1.3710989009801904,
          1.4765680472094358,
          1.5820371934386812,
          2.1093829245849083,
          4.218765849169817
         ],
         "y": [
          3.2286965448059737e-09,
          1.6806846609378456e-07,
          5.359741537892689e-08,
          3.279606784793225e-08,
          2.940216265926354e-10,
          8.272752197391824e-10,
          5.044667651688845e-09,
          7.603776983404035e-10,
          6.584714637823418e-10,
          4.036748023567401e-09,
          1.7593056490528088e-07
         ]
        },
        {
         "line": {
          "color": "rgba(255, 255, 51, 0.894273127753304)",
          "dash": "solid",
          "shape": "linear",
          "width": 1.3
         },
         "mode": "lines",
         "name": "Ergothioneine",
         "text": "",
         "type": "scatter",
         "x": [
          0.5273457311462271,
          0.7910185967193406,
          0.9492223160632087,
          1.0546914622924541,
          1.1601606085216996,
          1.265629754750945,
          1.3710989009801904,
          1.4765680472094358,
          1.5820371934386812,
          2.1093829245849083,
          4.218765849169817
         ],
         "y": [
          2.467978473997372e-10,
          1.2846960088104034e-08,
          4.096924736698548e-09,
          2.5068936754264755e-09,
          2.247467469458094e-11,
          6.323596553761735e-11,
          3.8560858848340995e-10,
          5.812239600623588e-11,
          5.0332800738758136e-11,
          3.085643723050622e-10,
          1.3447929871356902e-08
         ]
        },
        {
         "line": {
          "color": "rgba(255, 255, 51, 0.8590308370044053)",
          "dash": "solid",
          "shape": "linear",
          "width": 1.3
         },
         "mode": "lines",
         "name": "Fatty acids, total monounsaturated",
         "text": "",
         "type": "scatter",
         "x": [
          0.5273457311462271,
          0.7910185967193406,
          0.9492223160632087,
          1.0546914622924541,
          1.1601606085216996,
          1.265629754750945,
          1.3710989009801904,
          1.4765680472094358,
          1.5820371934386812,
          2.1093829245849083,
          4.218765849169817
         ],
         "y": [
          59.560547232127504,
          60.734292992629896,
          60.73429213861081,
          60.734292735340816,
          60.734295099814005,
          60.73429511794271,
          56.89492012547889,
          56.894916634852144,
          56.89491649757626,
          53.03170632952336,
          63.85850919467003
         ]
        },
        {
         "line": {
          "color": "rgba(128, 128, 0, 0.8590308370044053)",
          "dash": "solid",
          "shape": "linear",
          "width": 1.3
         },
         "mode": "lines",
         "name": "Fatty acids, total polyunsaturated",
         "text": "",
         "type": "scatter",
         "x": [
          0.5273457311462271,
          0.7910185967193406,
          0.9492223160632087,
          1.0546914622924541,
          1.1601606085216996,
          1.265629754750945,
          1.3710989009801904,
          1.4765680472094358,
          1.5820371934386812,
          2.1093829245849083,
          4.218765849169817
         ],
         "y": [
          25.63720475418712,
          26.10422625909004,
          26.104225266461498,
          26.104225194751432,
          26.10422577411204,
          26.10422578031125,
          24.82781290645962,
          24.82781174677203,
          24.82781172826606,
          23.970631763903793,
          27.522382152181716
         ]
        },
        {
         "line": {
          "color": "rgba(251, 128, 114, 0.8590308370044053)",
          "dash": "solid",
          "shape": "linear",
          "width": 1.3
         },
         "mode": "lines",
         "name": "Fatty acids, total saturated",
         "text": "",
         "type": "scatter",
         "x": [
          0.5273457311462271,
          0.7910185967193406,
          0.9492223160632087,
          1.0546914622924541,
          1.1601606085216996,
          1.265629754750945,
          1.3710989009801904,
          1.4765680472094358,
          1.5820371934386812,
          2.1093829245849083,
          4.218765849169817
         ],
         "y": [
          17.772194750860052,
          18.122579594597216,
          18.122579134758265,
          18.122579205785765,
          18.122579805716125,
          18.122579810398854,
          17.07876116444185,
          17.078760217067614,
          17.0787601883321,
          16.165892710246627,
          18.845644099764844
         ]
        },
        {
         "line": {
          "color": "rgba(128, 177, 211, 0.8590308370044053)",
          "dash": "solid",
          "shape": "linear",
          "width": 1.3
         },
         "mode": "lines",
         "name": "Fatty acids, total trans",
         "text": "",
         "type": "scatter",
         "x": [
          0.5273457311462271,
          0.7910185967193406,
          0.9492223160632087,
          1.0546914622924541,
          1.1601606085216996,
          1.265629754750945,
          1.3710989009801904,
          1.4765680472094358,
          1.5820371934386812,
          2.1093829245849083,
          4.218765849169817
         ],
         "y": [
          3.4485205624227655e-11,
          0.0022163355928530755,
          0.0022163339380632556,
          0.002216333587458873,
          0.002216333902545271,
          0.002216333905376395,
          1.9942263598341366e-09,
          2.588353702584859e-12,
          6.321969606097415e-11,
          6.464573472464638e-11,
          0.00379699038109046
         ]
        },
        {
         "line": {
          "color": "rgba(255, 153, 51, 0.8590308370044053)",
          "dash": "solid",
          "shape": "linear",
          "width": 1.3
         },
         "mode": "lines",
         "name": "Fatty acids, total trans-monoenoic",
         "text": "",
         "type": "scatter",
         "x": [
          0.5273457311462271,
          0.7910185967193406,
          0.9492223160632087,
          1.0546914622924541,
          1.1601606085216996,
          1.265629754750945,
          1.3710989009801904,
          1.4765680472094358,
          1.5820371934386812,
          2.1093829245849083,
          4.218765849169817
         ],
         "y": [
          0.004960569832357316,
          0.004960569987400262,
          0.004960569895830403,
          0.004960569873284899,
          0.004960569829839424,
          0.004960569830573875,
          0.004960569833297099,
          0.004960569830319662,
          0.004960569830152922,
          0.00496056983421725,
          0.004960570192751338
         ]
        },
        {
         "line": {
          "color": "rgba(55, 128, 191, 0.8590308370044053)",
          "dash": "solid",
          "shape": "linear",
          "width": 1.3
         },
         "mode": "lines",
         "name": "Fatty acids, total trans-polyenoic",
         "text": "",
         "type": "scatter",
         "x": [
          0.5273457311462271,
          0.7910185967193406,
          0.9492223160632087,
          1.0546914622924541,
          1.1601606085216996,
          1.265629754750945,
          1.3710989009801904,
          1.4765680472094358,
          1.5820371934386812,
          2.1093829245849083,
          4.218765849169817
         ],
         "y": [
          4.215797161791944e-12,
          2.2712673095151447e-10,
          1.0282734818862355e-10,
          6.912034248246069e-11,
          4.092508848360363e-13,
          1.4184832941786465e-12,
          4.5464573342240114e-12,
          1.071646096653697e-12,
          8.655805886693675e-13,
          6.190676493421579e-12,
          5.587479670216735e-10
         ]
        },
        {
         "line": {
          "color": "rgba(50, 171, 96, 0.8590308370044053)",
          "dash": "solid",
          "shape": "linear",
          "width": 1.3
         },
         "mode": "lines",
         "name": "Fiber, insoluble",
         "text": "",
         "type": "scatter",
         "x": [
          0.5273457311462271,
          0.7910185967193406,
          0.9492223160632087,
          1.0546914622924541,
          1.1601606085216996,
          1.265629754750945,
          1.3710989009801904,
          1.4765680472094358,
          1.5820371934386812,
          2.1093829245849083,
          4.218765849169817
         ],
         "y": [
          2.262633716456143e-08,
          0.6099020478396927,
          0.6099021112015325,
          0.609902070655691,
          0.6099019258262087,
          0.6099019259567945,
          0.8315647216309078,
          0.8315649192653387,
          0.831564926994544,
          1.04383829291143,
          1.120490857964893
         ]
        },
        {
         "line": {
          "color": "rgba(128, 0, 128, 0.8590308370044053)",
          "dash": "solid",
          "shape": "linear",
          "width": 1.3
         },
         "mode": "lines",
         "name": "Fiber, soluble",
         "text": "",
         "type": "scatter",
         "x": [
          0.5273457311462271,
          0.7910185967193406,
          0.9492223160632087,
          1.0546914622924541,
          1.1601606085216996,
          1.265629754750945,
          1.3710989009801904,
          1.4765680472094358,
          1.5820371934386812,
          2.1093829245849083,
          4.218765849169817
         ],
         "y": [
          2.514037462729048e-09,
          0.0677668942044103,
          0.06776690124461472,
          0.06776689673952123,
          0.06776688064735652,
          0.06776688066186605,
          0.09239608018121198,
          0.09239610214059318,
          0.09239610299939377,
          0.11598203254571444,
          0.12449898421832145
         ]
        },
        {
         "line": {
          "color": "rgba(219, 64, 82, 0.8590308370044053)",
          "dash": "solid",
          "shape": "linear",
          "width": 1.3
         },
         "mode": "lines",
         "name": "Fiber, total dietary",
         "text": "",
         "type": "scatter",
         "x": [
          0.5273457311462271,
          0.7910185967193406,
          0.9492223160632087,
          1.0546914622924541,
          1.1601606085216996,
          1.265629754750945,
          1.3710989009801904,
          1.4765680472094358,
          1.5820371934386812,
          2.1093829245849083,
          4.218765849169817
         ],
         "y": [
          56.76724057200578,
          55.84431239333083,
          55.84431309435194,
          55.84431310503791,
          55.844313010125674,
          55.8443130050708,
          57.62540563576092,
          57.62540723852195,
          57.625407181247866,
          57.650053554151654,
          44.12082988224757
         ]
        },
        {
         "line": {
          "color": "rgba(0, 128, 128, 0.8590308370044053)",
          "dash": "solid",
          "shape": "linear",
          "width": 1.3
         },
         "mode": "lines",
         "name": "Fluoride, F",
         "text": "",
         "type": "scatter",
         "x": [
          0.5273457311462271,
          0.7910185967193406,
          0.9492223160632087,
          1.0546914622924541,
          1.1601606085216996,
          1.265629754750945,
          1.3710989009801904,
          1.4765680472094358,
          1.5820371934386812,
          2.1093829245849083,
          4.218765849169817
         ],
         "y": [
          3.618121416595881,
          6.448960356565097,
          6.448959873963582,
          6.44895954713115,
          6.448957602752702,
          6.44895761254117,
          6.079141228401546,
          6.079140869992603,
          6.079141047434618,
          8.564940317481948,
          21.97759740963095
         ]
        },
        {
         "line": {
          "color": "rgba(0, 128, 128, 0.8237885462555066)",
          "dash": "solid",
          "shape": "linear",
          "width": 1.3
         },
         "mode": "lines",
         "name": "Folate, DFE",
         "text": "",
         "type": "scatter",
         "x": [
          0.5273457311462271,
          0.7910185967193406,
          0.9492223160632087,
          1.0546914622924541,
          1.1601606085216996,
          1.265629754750945,
          1.3710989009801904,
          1.4765680472094358,
          1.5820371934386812,
          2.1093829245849083,
          4.218765849169817
         ],
         "y": [
          400.0000001420315,
          400.0000080965078,
          400.00000355506063,
          400.0000024339112,
          400.0000000131982,
          400.00000008073624,
          400.00000025244776,
          400.00000005671495,
          400.0000000635146,
          400.0000010944101,
          424.85243167808557
         ]
        },
        {
         "line": {
          "color": "rgba(255, 255, 51, 0.8237885462555066)",
          "dash": "solid",
          "shape": "linear",
          "width": 1.3
         },
         "mode": "lines",
         "name": "Folate, food",
         "text": "",
         "type": "scatter",
         "x": [
          0.5273457311462271,
          0.7910185967193406,
          0.9492223160632087,
          1.0546914622924541,
          1.1601606085216996,
          1.265629754750945,
          1.3710989009801904,
          1.4765680472094358,
          1.5820371934386812,
          2.1093829245849083,
          4.218765849169817
         ],
         "y": [
          399.9999998099094,
          373.24567582218117,
          373.2456887657941,
          373.24569120997677,
          373.2456836263445,
          373.2456836799386,
          399.9999762715706,
          400.00000004705953,
          399.9999993180722,
          400.0000004425749,
          379.01734479747245
         ]
        },
        {
         "line": {
          "color": "rgba(128, 128, 0, 0.8237885462555066)",
          "dash": "solid",
          "shape": "linear",
          "width": 1.3
         },
         "mode": "lines",
         "name": "Folate, total",
         "text": "",
         "type": "scatter",
         "x": [
          0.5273457311462271,
          0.7910185967193406,
          0.9492223160632087,
          1.0546914622924541,
          1.1601606085216996,
          1.265629754750945,
          1.3710989009801904,
          1.4765680472094358,
          1.5820371934386812,
          2.1093829245849083,
          4.218765849169817
         ],
         "y": [
          708.8108307305782,
          712.3586380702574,
          712.358630701056,
          712.3586305697884,
          712.3586382554183,
          712.3586383181631,
          704.3989742215492,
          704.3989668912932,
          704.3989662756572,
          691.2667935172228,
          712.3538857108683
         ]
        },
        {
         "line": {
          "color": "rgba(251, 128, 114, 0.8237885462555066)",
          "dash": "solid",
          "shape": "linear",
          "width": 1.3
         },
         "mode": "lines",
         "name": "Folic acid",
         "text": "",
         "type": "scatter",
         "x": [
          0.5273457311462271,
          0.7910185967193406,
          0.9492223160632087,
          1.0546914622924541,
          1.1601606085216996,
          1.265629754750945,
          1.3710989009801904,
          1.4765680472094358,
          1.5820371934386812,
          2.1093829245849083,
          4.218765849169817
         ],
         "y": [
          1.96521972645267e-07,
          15.830965842796852,
          15.830955496607421,
          15.83095338694348,
          15.830956441925276,
          15.830956450176108,
          1.4189868162108993e-05,
          5.7132722300586304e-09,
          4.4109019582781505e-07,
          3.857012741095635e-07,
          27.121353183794746
         ]
        },
        {
         "line": {
          "color": "rgba(128, 177, 211, 0.8237885462555066)",
          "dash": "solid",
          "shape": "linear",
          "width": 1.3
         },
         "mode": "lines",
         "name": "Fructose",
         "text": "",
         "type": "scatter",
         "x": [
          0.5273457311462271,
          0.7910185967193406,
          0.9492223160632087,
          1.0546914622924541,
          1.1601606085216996,
          1.265629754750945,
          1.3710989009801904,
          1.4765680472094358,
          1.5820371934386812,
          2.1093829245849083,
          4.218765849169817
         ],
         "y": [
          9.081681574271196,
          10.719727987303576,
          10.719728321859993,
          10.71972907476865,
          10.719732156750172,
          10.719732149650726,
          6.34795943249852,
          6.347955543695246,
          6.347955430189069,
          2.7420055888078214,
          3.6770507124058867
         ]
        },
        {
         "line": {
          "color": "rgba(255, 153, 51, 0.8237885462555066)",
          "dash": "solid",
          "shape": "linear",
          "width": 1.3
         },
         "mode": "lines",
         "name": "Galactose",
         "text": "",
         "type": "scatter",
         "x": [
          0.5273457311462271,
          0.7910185967193406,
          0.9492223160632087,
          1.0546914622924541,
          1.1601606085216996,
          1.265629754750945,
          1.3710989009801904,
          1.4765680472094358,
          1.5820371934386812,
          2.1093829245849083,
          4.218765849169817
         ],
         "y": [
          0.03820026131850172,
          0.03045161259311982,
          0.03045163991240479,
          0.030451652135513926,
          0.03045165472803642,
          0.030451654905617062,
          0.030479328434208676,
          0.030479327964248844,
          0.030479326606131098,
          0.009110826131604756,
          0.05957552386072747
         ]
        },
        {
         "line": {
          "color": "rgba(55, 128, 191, 0.8237885462555066)",
          "dash": "solid",
          "shape": "linear",
          "width": 1.3
         },
         "mode": "lines",
         "name": "Genistein",
         "text": "",
         "type": "scatter",
         "x": [
          0.5273457311462271,
          0.7910185967193406,
          0.9492223160632087,
          1.0546914622924541,
          1.1601606085216996,
          1.265629754750945,
          1.3710989009801904,
          1.4765680472094358,
          1.5820371934386812,
          2.1093829245849083,
          4.218765849169817
         ],
         "y": [
          2.320630882882809,
          2.3206308948827363,
          2.3206308864615752,
          2.320630884855287,
          2.320630882746497,
          2.3206308828101987,
          2.320630883161385,
          2.3206308827803084,
          2.320630882747786,
          2.3206308829830395,
          2.320630893490327
         ]
        },
        {
         "line": {
          "color": "rgba(50, 171, 96, 0.8237885462555066)",
          "dash": "solid",
          "shape": "linear",
          "width": 1.3
         },
         "mode": "lines",
         "name": "Genistin",
         "text": "",
         "type": "scatter",
         "x": [
          0.5273457311462271,
          0.7910185967193406,
          0.9492223160632087,
          1.0546914622924541,
          1.1601606085216996,
          1.265629754750945,
          1.3710989009801904,
          1.4765680472094358,
          1.5820371934386812,
          2.1093829245849083,
          4.218765849169817
         ],
         "y": [
          118.18111198872656,
          118.2665545253461,
          118.26655392078682,
          118.26655381094305,
          118.2665538367677,
          118.26655383984466,
          118.06184530607997,
          118.06184510395329,
          118.06184510102004,
          117.94990800001145,
          118.23100039072543
         ]
        },
        {
         "line": {
          "color": "rgba(128, 0, 128, 0.8237885462555066)",
          "dash": "solid",
          "shape": "linear",
          "width": 1.3
         },
         "mode": "lines",
         "name": "Glucose",
         "text": "",
         "type": "scatter",
         "x": [
          0.5273457311462271,
          0.7910185967193406,
          0.9492223160632087,
          1.0546914622924541,
          1.1601606085216996,
          1.265629754750945,
          1.3710989009801904,
          1.4765680472094358,
          1.5820371934386812,
          2.1093829245849083,
          4.218765849169817
         ],
         "y": [
          8.402164185158922,
          9.846133458574585,
          9.84613382810078,
          9.846134528441706,
          9.846137282103456,
          9.846137276047443,
          5.913579937651766,
          5.913576439276364,
          5.913576337142629,
          2.6667029669852105,
          3.7854020003635624
         ]
        },
        {
         "line": {
          "color": "rgba(219, 64, 82, 0.8237885462555066)",
          "dash": "solid",
          "shape": "linear",
          "width": 1.3
         },
         "mode": "lines",
         "name": "Glutamic acid",
         "text": "",
         "type": "scatter",
         "x": [
          0.5273457311462271,
          0.7910185967193406,
          0.9492223160632087,
          1.0546914622924541,
          1.1601606085216996,
          1.265629754750945,
          1.3710989009801904,
          1.4765680472094358,
          1.5820371934386812,
          2.1093829245849083,
          4.218765849169817
         ],
         "y": [
          19.447941202786218,
          19.97127040898667,
          19.971269270231804,
          19.971268936146156,
          19.971268888405117,
          19.971268899977908,
          19.585674587833395,
          19.585674234879257,
          19.585674245666816,
          19.60007751027255,
          20.900223827748015
         ]
        },
        {
         "line": {
          "color": "rgba(219, 64, 82, 0.7885462555066078)",
          "dash": "solid",
          "shape": "linear",
          "width": 1.3
         },
         "mode": "lines",
         "name": "Glycine",
         "text": "",
         "type": "scatter",
         "x": [
          0.5273457311462271,
          0.7910185967193406,
          0.9492223160632087,
          1.0546914622924541,
          1.1601606085216996,
          1.265629754750945,
          1.3710989009801904,
          1.4765680472094358,
          1.5820371934386812,
          2.1093829245849083,
          4.218765849169817
         ],
         "y": [
          5.1948885395263575,
          5.265694944082312,
          5.265694718183633,
          5.265694665317646,
          5.265694735223266,
          5.2656947363763855,
          5.151975375967198,
          5.151975272811416,
          5.151975271109863,
          5.074781192146573,
          5.336982246921968
         ]
        },
        {
         "line": {
          "color": "rgba(0, 128, 128, 0.7885462555066078)",
          "dash": "solid",
          "shape": "linear",
          "width": 1.3
         },
         "mode": "lines",
         "name": "Glycitin",
         "text": "",
         "type": "scatter",
         "x": [
          0.5273457311462271,
          0.7910185967193406,
          0.9492223160632087,
          1.0546914622924541,
          1.1601606085216996,
          1.265629754750945,
          1.3710989009801904,
          1.4765680472094358,
          1.5820371934386812,
          2.1093829245849083,
          4.218765849169817
         ],
         "y": [
          9.04690076610987,
          9.065143460029878,
          9.06514338968651,
          9.065143377437336,
          9.065143397659456,
          9.065143397872117,
          9.021436216241549,
          9.02143617574354,
          9.021436175344101,
          8.99753655974568,
          9.057552330750404
         ]
        },
        {
         "line": {
          "color": "rgba(255, 255, 51, 0.7885462555066078)",
          "dash": "solid",
          "shape": "linear",
          "width": 1.3
         },
         "mode": "lines",
         "name": "High Molecular Weight Dietary Fiber (HMWDF)",
         "text": "",
         "type": "scatter",
         "x": [
          0.5273457311462271,
          0.7910185967193406,
          0.9492223160632087,
          1.0546914622924541,
          1.1601606085216996,
          1.265629754750945,
          1.3710989009801904,
          1.4765680472094358,
          1.5820371934386812,
          2.1093829245849083,
          4.218765849169817
         ],
         "y": [
          2.6545758209281865e-09,
          1.3488204135120537e-07,
          4.266421085335303e-08,
          2.73108978678497e-08,
          2.607848611424833e-10,
          7.383370133928278e-10,
          4.687624081807612e-09,
          7.59112167799371e-10,
          8.056861667356279e-10,
          5.260712365235688e-09,
          3.842095762610784e-07
         ]
        },
        {
         "line": {
          "color": "rgba(128, 128, 0, 0.7885462555066078)",
          "dash": "solid",
          "shape": "linear",
          "width": 1.3
         },
         "mode": "lines",
         "name": "Histidine",
         "text": "",
         "type": "scatter",
         "x": [
          0.5273457311462271,
          0.7910185967193406,
          0.9492223160632087,
          1.0546914622924541,
          1.1601606085216996,
          1.265629754750945,
          1.3710989009801904,
          1.4765680472094358,
          1.5820371934386812,
          2.1093829245849083,
          4.218765849169817
         ],
         "y": [
          2.7181242363572236,
          2.7444187005278557,
          2.7444185914525296,
          2.744418559509464,
          2.7444185690681993,
          2.7444185697819496,
          2.726158808706489,
          2.7261587917184715,
          2.7261587915912093,
          2.7153984277624694,
          2.8330195220393577
         ]
        },
        {
         "line": {
          "color": "rgba(251, 128, 114, 0.7885462555066078)",
          "dash": "solid",
          "shape": "linear",
          "width": 1.3
         },
         "mode": "lines",
         "name": "Hydroxyproline",
         "text": "",
         "type": "scatter",
         "x": [
          0.5273457311462271,
          0.7910185967193406,
          0.9492223160632087,
          1.0546914622924541,
          1.1601606085216996,
          1.265629754750945,
          1.3710989009801904,
          1.4765680472094358,
          1.5820371934386812,
          2.1093829245849083,
          4.218765849169817
         ],
         "y": [
          0.2809352992293304,
          0.2881217980397093,
          0.2881217822420973,
          0.2881217796890798,
          0.28812179063867466,
          0.2881217906323307,
          0.2709038094931632,
          0.2709037940785107,
          0.27090379396716513,
          0.2614887935501252,
          0.2851313551418782
         ]
        },
        {
         "line": {
          "color": "rgba(128, 177, 211, 0.7885462555066078)",
          "dash": "solid",
          "shape": "linear",
          "width": 1.3
         },
         "mode": "lines",
         "name": "Iodine, I",
         "text": "",
         "type": "scatter",
         "x": [
          0.5273457311462271,
          0.7910185967193406,
          0.9492223160632087,
          1.0546914622924541,
          1.1601606085216996,
          1.265629754750945,
          1.3710989009801904,
          1.4765680472094358,
          1.5820371934386812,
          2.1093829245849083,
          4.218765849169817
         ],
         "y": [
          0,
          0,
          0,
          0,
          0,
          0,
          0,
          0,
          0,
          0,
          0
         ]
        },
        {
         "line": {
          "color": "rgba(255, 153, 51, 0.7885462555066078)",
          "dash": "solid",
          "shape": "linear",
          "width": 1.3
         },
         "mode": "lines",
         "name": "Iron, Fe",
         "text": "",
         "type": "scatter",
         "x": [
          0.5273457311462271,
          0.7910185967193406,
          0.9492223160632087,
          1.0546914622924541,
          1.1601606085216996,
          1.265629754750945,
          1.3710989009801904,
          1.4765680472094358,
          1.5820371934386812,
          2.1093829245849083,
          4.218765849169817
         ],
         "y": [
          18.00000000992707,
          18.000001103691762,
          18.000000264213053,
          18.000000007956732,
          18.000000000269377,
          18.000000003586436,
          18.000000007357116,
          18.00000000050103,
          18.000000000371372,
          18.000000002358227,
          18.00000026198099
         ]
        },
        {
         "line": {
          "color": "rgba(55, 128, 191, 0.7885462555066078)",
          "dash": "solid",
          "shape": "linear",
          "width": 1.3
         },
         "mode": "lines",
         "name": "Isoflavones",
         "text": "",
         "type": "scatter",
         "x": [
          0.5273457311462271,
          0.7910185967193406,
          0.9492223160632087,
          1.0546914622924541,
          1.1601606085216996,
          1.265629754750945,
          1.3710989009801904,
          1.4765680472094358,
          1.5820371934386812,
          2.1093829245849083,
          4.218765849169817
         ],
         "y": [
          0,
          0,
          0,
          0,
          0,
          0,
          0,
          0,
          0,
          0,
          0
         ]
        },
        {
         "line": {
          "color": "rgba(50, 171, 96, 0.7885462555066078)",
          "dash": "solid",
          "shape": "linear",
          "width": 1.3
         },
         "mode": "lines",
         "name": "Isoleucine",
         "text": "",
         "type": "scatter",
         "x": [
          0.5273457311462271,
          0.7910185967193406,
          0.9492223160632087,
          1.0546914622924541,
          1.1601606085216996,
          1.265629754750945,
          1.3710989009801904,
          1.4765680472094358,
          1.5820371934386812,
          2.1093829245849083,
          4.218765849169817
         ],
         "y": [
          4.115489247631516,
          4.144934929782868,
          4.144934776369902,
          4.144934725835075,
          4.144934722206348,
          4.144934723317665,
          4.149729832409763,
          4.149729835913726,
          4.149729836102117,
          4.155035316114495,
          4.201728761813927
         ]
        },
        {
         "line": {
          "color": "rgba(128, 0, 128, 0.7885462555066078)",
          "dash": "solid",
          "shape": "linear",
          "width": 1.3
         },
         "mode": "lines",
         "name": "Lactose",
         "text": "",
         "type": "scatter",
         "x": [
          0.5273457311462271,
          0.7910185967193406,
          0.9492223160632087,
          1.0546914622924541,
          1.1601606085216996,
          1.265629754750945,
          1.3710989009801904,
          1.4765680472094358,
          1.5820371934386812,
          2.1093829245849083,
          4.218765849169817
         ],
         "y": [
          0,
          0,
          0,
          0,
          0,
          0,
          0,
          0,
          0,
          0,
          0
         ]
        },
        {
         "line": {
          "color": "rgba(128, 0, 128, 0.7533039647577093)",
          "dash": "solid",
          "shape": "linear",
          "width": 1.3
         },
         "mode": "lines",
         "name": "Leucine",
         "text": "",
         "type": "scatter",
         "x": [
          0.5273457311462271,
          0.7910185967193406,
          0.9492223160632087,
          1.0546914622924541,
          1.1601606085216996,
          1.265629754750945,
          1.3710989009801904,
          1.4765680472094358,
          1.5820371934386812,
          2.1093829245849083,
          4.218765849169817
         ],
         "y": [
          7.70655470241468,
          7.77472496140595,
          7.7747246626204545,
          7.774724575048634,
          7.774724615395801,
          7.774724617517744,
          7.72044320679084,
          7.720443156789144,
          7.720443155010159,
          7.673219342694326,
          7.622536214927715
         ]
        },
        {
         "line": {
          "color": "rgba(219, 64, 82, 0.7533039647577093)",
          "dash": "solid",
          "shape": "linear",
          "width": 1.3
         },
         "mode": "lines",
         "name": "Lipids",
         "text": "",
         "type": "scatter",
         "x": [
          0.5273457311462271,
          0.7910185967193406,
          0.9492223160632087,
          1.0546914622924541,
          1.1601606085216996,
          1.265629754750945,
          1.3710989009801904,
          1.4765680472094358,
          1.5820371934386812,
          2.1093829245849083,
          4.218765849169817
         ],
         "y": [
          0,
          0,
          0,
          0,
          0,
          0,
          0,
          0,
          0,
          0,
          0
         ]
        },
        {
         "line": {
          "color": "rgba(0, 128, 128, 0.7533039647577093)",
          "dash": "solid",
          "shape": "linear",
          "width": 1.3
         },
         "mode": "lines",
         "name": "Low Molecular Weight Dietary Fiber (LMWDF)",
         "text": "",
         "type": "scatter",
         "x": [
          0.5273457311462271,
          0.7910185967193406,
          0.9492223160632087,
          1.0546914622924541,
          1.1601606085216996,
          1.265629754750945,
          1.3710989009801904,
          1.4765680472094358,
          1.5820371934386812,
          2.1093829245849083,
          4.218765849169817
         ],
         "y": [
          1.9189111417077504e-10,
          9.750207544443517e-09,
          3.0840644638299304e-09,
          1.974220732197236e-09,
          1.8851334804219086e-11,
          5.337210977983402e-11,
          3.388539143543089e-10,
          5.487388173703791e-11,
          5.824057274537457e-11,
          3.8028070215153174e-10,
          2.7773327505876576e-08
         ]
        },
        {
         "line": {
          "color": "rgba(255, 255, 51, 0.7533039647577093)",
          "dash": "solid",
          "shape": "linear",
          "width": 1.3
         },
         "mode": "lines",
         "name": "Lutein",
         "text": "",
         "type": "scatter",
         "x": [
          0.5273457311462271,
          0.7910185967193406,
          0.9492223160632087,
          1.0546914622924541,
          1.1601606085216996,
          1.265629754750945,
          1.3710989009801904,
          1.4765680472094358,
          1.5820371934386812,
          2.1093829245849083,
          4.218765849169817
         ],
         "y": [
          2.9264917717699535e-06,
          0.00014583719130551348,
          6.284638284625143e-05,
          4.058826202422489e-05,
          2.4968564237066493e-07,
          1.0507572425383111e-06,
          2.5078572237626842e-06,
          5.904276565355574e-07,
          4.2622040751843605e-07,
          2.7071813210069846e-06,
          0.00018750102023777125
         ]
        },
        {
         "line": {
          "color": "rgba(128, 128, 0, 0.7533039647577093)",
          "dash": "solid",
          "shape": "linear",
          "width": 1.3
         },
         "mode": "lines",
         "name": "Lutein + zeaxanthin",
         "text": "",
         "type": "scatter",
         "x": [
          0.5273457311462271,
          0.7910185967193406,
          0.9492223160632087,
          1.0546914622924541,
          1.1601606085216996,
          1.265629754750945,
          1.3710989009801904,
          1.4765680472094358,
          1.5820371934386812,
          2.1093829245849083,
          4.218765849169817
         ],
         "y": [
          2675.7962604102836,
          1280.5648373335775,
          1280.5644669419457,
          1280.5643995786488,
          1280.56428782662,
          1280.564288928218,
          1320.1549730527768,
          1320.1550054105676,
          1320.1550089578836,
          1393.0793781716952,
          1581.9211783675296
         ]
        },
        {
         "line": {
          "color": "rgba(251, 128, 114, 0.7533039647577093)",
          "dash": "solid",
          "shape": "linear",
          "width": 1.3
         },
         "mode": "lines",
         "name": "Lycopene",
         "text": "",
         "type": "scatter",
         "x": [
          0.5273457311462271,
          0.7910185967193406,
          0.9492223160632087,
          1.0546914622924541,
          1.1601606085216996,
          1.265629754750945,
          1.3710989009801904,
          1.4765680472094358,
          1.5820371934386812,
          2.1093829245849083,
          4.218765849169817
         ],
         "y": [
          0.295032934727615,
          0.3597728194403107,
          0.3597504237456104,
          0.35974496055010413,
          0.35973459299701077,
          0.35973474077119316,
          1.2329963139799331,
          1.2329963867052,
          1.2329964158539715,
          2.477245303710641,
          3.8697452707494846
         ]
        },
        {
         "line": {
          "color": "rgba(128, 177, 211, 0.7533039647577093)",
          "dash": "solid",
          "shape": "linear",
          "width": 1.3
         },
         "mode": "lines",
         "name": "Lysine",
         "text": "",
         "type": "scatter",
         "x": [
          0.5273457311462271,
          0.7910185967193406,
          0.9492223160632087,
          1.0546914622924541,
          1.1601606085216996,
          1.265629754750945,
          1.3710989009801904,
          1.4765680472094358,
          1.5820371934386812,
          2.1093829245849083,
          4.218765849169817
         ],
         "y": [
          5.418438330182834,
          5.415373735268792,
          5.415373595344113,
          5.415373542544784,
          5.415373535099617,
          5.415373535620666,
          5.48691848852145,
          5.486918551884181,
          5.486918551160606,
          5.502091834877069,
          5.585743354815858
         ]
        },
        {
         "line": {
          "color": "rgba(255, 153, 51, 0.7533039647577093)",
          "dash": "solid",
          "shape": "linear",
          "width": 1.3
         },
         "mode": "lines",
         "name": "MUFA 12:1",
         "text": "",
         "type": "scatter",
         "x": [
          0.5273457311462271,
          0.7910185967193406,
          0.9492223160632087,
          1.0546914622924541,
          1.1601606085216996,
          1.265629754750945,
          1.3710989009801904,
          1.4765680472094358,
          1.5820371934386812,
          2.1093829245849083,
          4.218765849169817
         ],
         "y": [
          0,
          0,
          0,
          0,
          0,
          0,
          0,
          0,
          0,
          0,
          0
         ]
        },
        {
         "line": {
          "color": "rgba(55, 128, 191, 0.7533039647577093)",
          "dash": "solid",
          "shape": "linear",
          "width": 1.3
         },
         "mode": "lines",
         "name": "MUFA 14:1",
         "text": "",
         "type": "scatter",
         "x": [
          0.5273457311462271,
          0.7910185967193406,
          0.9492223160632087,
          1.0546914622924541,
          1.1601606085216996,
          1.265629754750945,
          1.3710989009801904,
          1.4765680472094358,
          1.5820371934386812,
          2.1093829245849083,
          4.218765849169817
         ],
         "y": [
          0,
          0,
          0,
          0,
          0,
          0,
          0,
          0,
          0,
          0,
          0
         ]
        },
        {
         "line": {
          "color": "rgba(50, 171, 96, 0.7533039647577093)",
          "dash": "solid",
          "shape": "linear",
          "width": 1.3
         },
         "mode": "lines",
         "name": "MUFA 14:1 c",
         "text": "",
         "type": "scatter",
         "x": [
          0.5273457311462271,
          0.7910185967193406,
          0.9492223160632087,
          1.0546914622924541,
          1.1601606085216996,
          1.265629754750945,
          1.3710989009801904,
          1.4765680472094358,
          1.5820371934386812,
          2.1093829245849083,
          4.218765849169817
         ],
         "y": [
          0,
          0,
          0,
          0,
          0,
          0,
          0,
          0,
          0,
          0,
          0
         ]
        },
        {
         "line": {
          "color": "rgba(50, 171, 96, 0.7180616740088106)",
          "dash": "solid",
          "shape": "linear",
          "width": 1.3
         },
         "mode": "lines",
         "name": "MUFA 15:1",
         "text": "",
         "type": "scatter",
         "x": [
          0.5273457311462271,
          0.7910185967193406,
          0.9492223160632087,
          1.0546914622924541,
          1.1601606085216996,
          1.265629754750945,
          1.3710989009801904,
          1.4765680472094358,
          1.5820371934386812,
          2.1093829245849083,
          4.218765849169817
         ],
         "y": [
          0,
          0,
          0,
          0,
          0,
          0,
          0,
          0,
          0,
          0,
          0
         ]
        },
        {
         "line": {
          "color": "rgba(128, 0, 128, 0.7180616740088106)",
          "dash": "solid",
          "shape": "linear",
          "width": 1.3
         },
         "mode": "lines",
         "name": "MUFA 16:1",
         "text": "",
         "type": "scatter",
         "x": [
          0.5273457311462271,
          0.7910185967193406,
          0.9492223160632087,
          1.0546914622924541,
          1.1601606085216996,
          1.265629754750945,
          1.3710989009801904,
          1.4765680472094358,
          1.5820371934386812,
          2.1093829245849083,
          4.218765849169817
         ],
         "y": [
          0.26722788845749146,
          0.2143798956450835,
          0.2143800849955026,
          0.21438016959479314,
          0.2143801860059145,
          0.21438018724719843,
          0.21521170435580952,
          0.21521170163864956,
          0.2152116923043725,
          0.06854805545074545,
          0.42547505258016455
         ]
        },
        {
         "line": {
          "color": "rgba(219, 64, 82, 0.7180616740088106)",
          "dash": "solid",
          "shape": "linear",
          "width": 1.3
         },
         "mode": "lines",
         "name": "MUFA 16:1 c",
         "text": "",
         "type": "scatter",
         "x": [
          0.5273457311462271,
          0.7910185967193406,
          0.9492223160632087,
          1.0546914622924541,
          1.1601606085216996,
          1.265629754750945,
          1.3710989009801904,
          1.4765680472094358,
          1.5820371934386812,
          2.1093829245849083,
          4.218765849169817
         ],
         "y": [
          0.011832103796497052,
          0.011832104140587506,
          0.011832103942495167,
          0.011832103890694072,
          0.011832103791002042,
          0.011832103792584857,
          0.011832103798057738,
          0.011832103791972092,
          0.01183210379150369,
          0.011832103798599065,
          0.011832104525337247
         ]
        },
        {
         "line": {
          "color": "rgba(0, 128, 128, 0.7180616740088106)",
          "dash": "solid",
          "shape": "linear",
          "width": 1.3
         },
         "mode": "lines",
         "name": "MUFA 17:1",
         "text": "",
         "type": "scatter",
         "x": [
          0.5273457311462271,
          0.7910185967193406,
          0.9492223160632087,
          1.0546914622924541,
          1.1601606085216996,
          1.265629754750945,
          1.3710989009801904,
          1.4765680472094358,
          1.5820371934386812,
          2.1093829245849083,
          4.218765849169817
         ],
         "y": [
          0.009925342848256165,
          0.009150478149916883,
          0.009150480780630382,
          0.0091504819769968,
          0.009150482186421064,
          0.009150482204988318,
          0.009153249560720547,
          0.009153249510547268,
          0.009153249374510617,
          0.007016399330927337,
          0.01206286947992291
         ]
        },
        {
         "line": {
          "color": "rgba(255, 255, 51, 0.7180616740088106)",
          "dash": "solid",
          "shape": "linear",
          "width": 1.3
         },
         "mode": "lines",
         "name": "MUFA 17:1 c",
         "text": "",
         "type": "scatter",
         "x": [
          0.5273457311462271,
          0.7910185967193406,
          0.9492223160632087,
          1.0546914622924541,
          1.1601606085216996,
          1.265629754750945,
          1.3710989009801904,
          1.4765680472094358,
          1.5820371934386812,
          2.1093829245849083,
          4.218765849169817
         ],
         "y": [
          0.006105316713714309,
          0.006105316745284758,
          0.006105316723129637,
          0.006105316718903676,
          0.006105316713355688,
          0.00610531671352328,
          0.006105316714447211,
          0.006105316713444642,
          0.00610531671335908,
          0.006105316713978005,
          0.006105316741621486
         ]
        },
        {
         "line": {
          "color": "rgba(128, 128, 0, 0.7180616740088106)",
          "dash": "solid",
          "shape": "linear",
          "width": 1.3
         },
         "mode": "lines",
         "name": "MUFA 18:1",
         "text": "",
         "type": "scatter",
         "x": [
          0.5273457311462271,
          0.7910185967193406,
          0.9492223160632087,
          1.0546914622924541,
          1.1601606085216996,
          1.265629754750945,
          1.3710989009801904,
          1.4765680472094358,
          1.5820371934386812,
          2.1093829245849083,
          4.218765849169817
         ],
         "y": [
          3.646151463128569,
          3.5101019495613226,
          3.5101039120669433,
          3.510104908600878,
          3.5101051936208583,
          3.5101052114492317,
          2.931978052904191,
          2.931977486557421,
          2.9319773800876323,
          1.0034443041289711,
          6.966688943375651
         ]
        },
        {
         "line": {
          "color": "rgba(251, 128, 114, 0.7180616740088106)",
          "dash": "solid",
          "shape": "linear",
          "width": 1.3
         },
         "mode": "lines",
         "name": "MUFA 18:1 c",
         "text": "",
         "type": "scatter",
         "x": [
          0.5273457311462271,
          0.7910185967193406,
          0.9492223160632087,
          1.0546914622924541,
          1.1601606085216996,
          1.265629754750945,
          1.3710989009801904,
          1.4765680472094358,
          1.5820371934386812,
          2.1093829245849083,
          4.218765849169817
         ],
         "y": [
          53.94835409401557,
          55.264478556709165,
          55.264475593404704,
          55.264475106837814,
          55.2644770725504,
          55.26447707232052,
          52.111202497208374,
          52.11119967214817,
          52.111199651548105,
          50.386950962647624,
          54.71681358070132
         ]
        },
        {
         "line": {
          "color": "rgba(128, 177, 211, 0.7180616740088106)",
          "dash": "solid",
          "shape": "linear",
          "width": 1.3
         },
         "mode": "lines",
         "name": "MUFA 20:1",
         "text": "",
         "type": "scatter",
         "x": [
          0.5273457311462271,
          0.7910185967193406,
          0.9492223160632087,
          1.0546914622924541,
          1.1601606085216996,
          1.265629754750945,
          1.3710989009801904,
          1.4765680472094358,
          1.5820371934386812,
          2.1093829245849083,
          4.218765849169817
         ],
         "y": [
          0.009550065551613762,
          0.01489515096856397,
          0.014895150865938202,
          0.01489515248479379,
          0.014895153650645712,
          0.014895153716955356,
          0.00761983872180812,
          0.007619832011678214,
          0.007619831880818323,
          0.002277706839925175,
          0.03815493288701225
         ]
        },
        {
         "line": {
          "color": "rgba(255, 153, 51, 0.7180616740088106)",
          "dash": "solid",
          "shape": "linear",
          "width": 1.3
         },
         "mode": "lines",
         "name": "MUFA 20:1 c",
         "text": "",
         "type": "scatter",
         "x": [
          0.5273457311462271,
          0.7910185967193406,
          0.9492223160632087,
          1.0546914622924541,
          1.1601606085216996,
          1.265629754750945,
          1.3710989009801904,
          1.4765680472094358,
          1.5820371934386812,
          2.1093829245849083,
          4.218765849169817
         ],
         "y": [
          1.4134882774231188,
          1.4488944987910017,
          1.4488944208531804,
          1.4488944082547128,
          1.4488944621741375,
          1.4488944621436886,
          1.3640654424557201,
          1.364065366506459,
          1.3640653659574735,
          1.3176798315981006,
          1.434161276717964
         ]
        },
        {
         "line": {
          "color": "rgba(55, 128, 191, 0.7180616740088106)",
          "dash": "solid",
          "shape": "linear",
          "width": 1.3
         },
         "mode": "lines",
         "name": "MUFA 22:1",
         "text": "",
         "type": "scatter",
         "x": [
          0.5273457311462271,
          0.7910185967193406,
          0.9492223160632087,
          1.0546914622924541,
          1.1601606085216996,
          1.265629754750945,
          1.3710989009801904,
          1.4765680472094358,
          1.5820371934386812,
          2.1093829245849083,
          4.218765849169817
         ],
         "y": [
          3.24360392437105e-11,
          1.4956051811996522e-09,
          4.884417735096282e-10,
          3.0759368409938255e-10,
          2.483045230186262e-12,
          7.439818462837099e-12,
          4.080433780211102e-11,
          6.350653732064709e-12,
          5.716856146496036e-12,
          3.468960041968052e-11,
          1.956701191676995e-09
         ]
        },
        {
         "line": {
          "color": "rgba(55, 128, 191, 0.6828193832599119)",
          "dash": "solid",
          "shape": "linear",
          "width": 1.3
         },
         "mode": "lines",
         "name": "MUFA 22:1 c",
         "text": "",
         "type": "scatter",
         "x": [
          0.5273457311462271,
          0.7910185967193406,
          0.9492223160632087,
          1.0546914622924541,
          1.1601606085216996,
          1.265629754750945,
          1.3710989009801904,
          1.4765680472094358,
          1.5820371934386812,
          2.1093829245849083,
          4.218765849169817
         ],
         "y": [
          7.13081474527269e-13,
          3.6586061909569896e-11,
          1.3747796973296097e-11,
          9.230984106226928e-12,
          6.660452448229842e-14,
          2.539383162393716e-13,
          1.0710232632550068e-12,
          2.2013424961991333e-13,
          2.31758511248517e-13,
          2.0295645633359592e-12,
          1.2161979570481346e-10
         ]
        },
        {
         "line": {
          "color": "rgba(50, 171, 96, 0.6828193832599119)",
          "dash": "solid",
          "shape": "linear",
          "width": 1.3
         },
         "mode": "lines",
         "name": "MUFA 22:1 n-11",
         "text": "",
         "type": "scatter",
         "x": [
          0.5273457311462271,
          0.7910185967193406,
          0.9492223160632087,
          1.0546914622924541,
          1.1601606085216996,
          1.265629754750945,
          1.3710989009801904,
          1.4765680472094358,
          1.5820371934386812,
          2.1093829245849083,
          4.218765849169817
         ],
         "y": [
          0,
          0,
          0,
          0,
          0,
          0,
          0,
          0,
          0,
          0,
          0
         ]
        },
        {
         "line": {
          "color": "rgba(128, 0, 128, 0.6828193832599119)",
          "dash": "solid",
          "shape": "linear",
          "width": 1.3
         },
         "mode": "lines",
         "name": "MUFA 22:1 n-9",
         "text": "",
         "type": "scatter",
         "x": [
          0.5273457311462271,
          0.7910185967193406,
          0.9492223160632087,
          1.0546914622924541,
          1.1601606085216996,
          1.265629754750945,
          1.3710989009801904,
          1.4765680472094358,
          1.5820371934386812,
          2.1093829245849083,
          4.218765849169817
         ],
         "y": [
          0.2282059046047484,
          0.23404355286917924,
          0.2340435400366575,
          0.23404353796282176,
          0.2340435468572619,
          0.2340435468521086,
          0.2200572483267541,
          0.22005723580531328,
          0.22005723571486646,
          0.2124093584530248,
          0.23161439309986417
         ]
        },
        {
         "line": {
          "color": "rgba(219, 64, 82, 0.6828193832599119)",
          "dash": "solid",
          "shape": "linear",
          "width": 1.3
         },
         "mode": "lines",
         "name": "MUFA 24:1 c",
         "text": "",
         "type": "scatter",
         "x": [
          0.5273457311462271,
          0.7910185967193406,
          0.9492223160632087,
          1.0546914622924541,
          1.1601606085216996,
          1.265629754750945,
          1.3710989009801904,
          1.4765680472094358,
          1.5820371934386812,
          2.1093829245849083,
          4.218765849169817
         ],
         "y": [
          6.789366251964204e-12,
          3.14713630387207e-10,
          1.0464977305650998e-10,
          6.610121239340477e-11,
          5.234875018804908e-13,
          1.5688521918422652e-12,
          8.427768266884593e-12,
          1.326607889279661e-12,
          1.1762722389723135e-12,
          7.036164261939153e-12,
          4.1228739256789607e-10
         ]
        },
        {
         "line": {
          "color": "rgba(0, 128, 128, 0.6828193832599119)",
          "dash": "solid",
          "shape": "linear",
          "width": 1.3
         },
         "mode": "lines",
         "name": "Magnesium, Mg",
         "text": "",
         "type": "scatter",
         "x": [
          0.5273457311462271,
          0.7910185967193406,
          0.9492223160632087,
          1.0546914622924541,
          1.1601606085216996,
          1.265629754750945,
          1.3710989009801904,
          1.4765680472094358,
          1.5820371934386812,
          2.1093829245849083,
          4.218765849169817
         ],
         "y": [
          727.4304376529776,
          731.5312398099229,
          731.5312160867448,
          731.5312139854624,
          731.5312337993886,
          731.5312339020797,
          703.6001061631789,
          703.6000809758001,
          703.6000800239326,
          677.9938521769546,
          633.0922369983216
         ]
        },
        {
         "line": {
          "color": "rgba(255, 255, 51, 0.6828193832599119)",
          "dash": "solid",
          "shape": "linear",
          "width": 1.3
         },
         "mode": "lines",
         "name": "Malic acid",
         "text": "",
         "type": "scatter",
         "x": [
          0.5273457311462271,
          0.7910185967193406,
          0.9492223160632087,
          1.0546914622924541,
          1.1601606085216996,
          1.265629754750945,
          1.3710989009801904,
          1.4765680472094358,
          1.5820371934386812,
          2.1093829245849083,
          4.218765849169817
         ],
         "y": [
          537.6598726349209,
          586.5786672789749,
          586.5786949031796,
          586.5787532155205,
          586.5789839563122,
          586.5789834633531,
          275.26327478827477,
          275.26299794476637,
          275.26298863027415,
          7.88570942315027e-06,
          1.812025142471314e-05
         ]
        },
        {
         "line": {
          "color": "rgba(128, 128, 0, 0.6828193832599119)",
          "dash": "solid",
          "shape": "linear",
          "width": 1.3
         },
         "mode": "lines",
         "name": "Maltose",
         "text": "",
         "type": "scatter",
         "x": [
          0.5273457311462271,
          0.7910185967193406,
          0.9492223160632087,
          1.0546914622924541,
          1.1601606085216996,
          1.265629754750945,
          1.3710989009801904,
          1.4765680472094358,
          1.5820371934386812,
          2.1093829245849083,
          4.218765849169817
         ],
         "y": [
          7.59945341228239e-09,
          0.3261181425861704,
          0.3261178167764962,
          0.3261177371970329,
          0.32611770272327933,
          0.3261177080220222,
          2.9606863320227093e-07,
          1.2326609940854318e-09,
          9.26592578791651e-09,
          1.4128683293275925e-08,
          0.558700164051814
         ]
        },
        {
         "line": {
          "color": "rgba(251, 128, 114, 0.6828193832599119)",
          "dash": "solid",
          "shape": "linear",
          "width": 1.3
         },
         "mode": "lines",
         "name": "Manganese, Mn",
         "text": "",
         "type": "scatter",
         "x": [
          0.5273457311462271,
          0.7910185967193406,
          0.9492223160632087,
          1.0546914622924541,
          1.1601606085216996,
          1.265629754750945,
          1.3710989009801904,
          1.4765680472094358,
          1.5820371934386812,
          2.1093829245849083,
          4.218765849169817
         ],
         "y": [
          5.94231500567317,
          6.098906654068922,
          6.0989061927685215,
          6.098906107282732,
          6.098906161170635,
          6.098906165188604,
          5.807034790389701,
          5.807034521438796,
          5.807034519804746,
          5.651097424692881,
          6.88074771231416
         ]
        },
        {
         "line": {
          "color": "rgba(128, 177, 211, 0.6828193832599119)",
          "dash": "solid",
          "shape": "linear",
          "width": 1.3
         },
         "mode": "lines",
         "name": "Methionine",
         "text": "",
         "type": "scatter",
         "x": [
          0.5273457311462271,
          0.7910185967193406,
          0.9492223160632087,
          1.0546914622924541,
          1.1601606085216996,
          1.265629754750945,
          1.3710989009801904,
          1.4765680472094358,
          1.5820371934386812,
          2.1093829245849083,
          4.218765849169817
         ],
         "y": [
          1.2434685480669505,
          1.2615511921177192,
          1.261551143916893,
          1.261551130183689,
          1.2615511344524224,
          1.2615511347857373,
          1.2498446278519624,
          1.2498446170174382,
          1.2498446169221913,
          1.2448396479165886,
          1.1980782677246908
         ]
        },
        {
         "line": {
          "color": "rgba(255, 153, 51, 0.6828193832599119)",
          "dash": "solid",
          "shape": "linear",
          "width": 1.3
         },
         "mode": "lines",
         "name": "Minerals",
         "text": "",
         "type": "scatter",
         "x": [
          0.5273457311462271,
          0.7910185967193406,
          0.9492223160632087,
          1.0546914622924541,
          1.1601606085216996,
          1.265629754750945,
          1.3710989009801904,
          1.4765680472094358,
          1.5820371934386812,
          2.1093829245849083,
          4.218765849169817
         ],
         "y": [
          0,
          0,
          0,
          0,
          0,
          0,
          0,
          0,
          0,
          0,
          0
         ]
        },
        {
         "line": {
          "color": "rgba(255, 153, 51, 0.6475770925110131)",
          "dash": "solid",
          "shape": "linear",
          "width": 1.3
         },
         "mode": "lines",
         "name": "Molybdenum, Mo",
         "text": "",
         "type": "scatter",
         "x": [
          0.5273457311462271,
          0.7910185967193406,
          0.9492223160632087,
          1.0546914622924541,
          1.1601606085216996,
          1.265629754750945,
          1.3710989009801904,
          1.4765680472094358,
          1.5820371934386812,
          2.1093829245849083,
          4.218765849169817
         ],
         "y": [
          356.42838981833495,
          356.4283955950351,
          356.42839167243216,
          356.42839091822776,
          356.4283897331136,
          356.4283897617442,
          356.4283899128299,
          356.4283897515191,
          356.4283897447125,
          356.42838988634765,
          356.4283997686326
         ]
        },
        {
         "line": {
          "color": "rgba(55, 128, 191, 0.6475770925110131)",
          "dash": "solid",
          "shape": "linear",
          "width": 1.3
         },
         "mode": "lines",
         "name": "Niacin",
         "text": "",
         "type": "scatter",
         "x": [
          0.5273457311462271,
          0.7910185967193406,
          0.9492223160632087,
          1.0546914622924541,
          1.1601606085216996,
          1.265629754750945,
          1.3710989009801904,
          1.4765680472094358,
          1.5820371934386812,
          2.1093829245849083,
          4.218765849169817
         ],
         "y": [
          37.00184387917483,
          38.213153855129704,
          38.21315182380164,
          38.213151444529366,
          38.21315223778108,
          38.21315224350745,
          36.19757714867549,
          36.1975753338273,
          36.19757534819094,
          35.528186923009436,
          39.88709655867628
         ]
        },
        {
         "line": {
          "color": "rgba(50, 171, 96, 0.6475770925110131)",
          "dash": "solid",
          "shape": "linear",
          "width": 1.3
         },
         "mode": "lines",
         "name": "Nitrogen",
         "text": "",
         "type": "scatter",
         "x": [
          0.5273457311462271,
          0.7910185967193406,
          0.9492223160632087,
          1.0546914622924541,
          1.1601606085216996,
          1.265629754750945,
          1.3710989009801904,
          1.4765680472094358,
          1.5820371934386812,
          2.1093829245849083,
          4.218765849169817
         ],
         "y": [
          11.236106468242138,
          11.49377485282009,
          11.493774385300624,
          11.493774321301368,
          11.493774663427677,
          11.493774663490331,
          10.944200014253337,
          10.944199520679593,
          10.944199515164584,
          10.616611640043727,
          11.261868519608957
         ]
        },
        {
         "line": {
          "color": "rgba(128, 0, 128, 0.6475770925110131)",
          "dash": "solid",
          "shape": "linear",
          "width": 1.3
         },
         "mode": "lines",
         "name": "Oligosaccharides",
         "text": "",
         "type": "scatter",
         "x": [
          0.5273457311462271,
          0.7910185967193406,
          0.9492223160632087,
          1.0546914622924541,
          1.1601606085216996,
          1.265629754750945,
          1.3710989009801904,
          1.4765680472094358,
          1.5820371934386812,
          2.1093829245849083,
          4.218765849169817
         ],
         "y": [
          0,
          0,
          0,
          0,
          0,
          0,
          0,
          0,
          0,
          0,
          0
         ]
        },
        {
         "line": {
          "color": "rgba(219, 64, 82, 0.6475770925110131)",
          "dash": "solid",
          "shape": "linear",
          "width": 1.3
         },
         "mode": "lines",
         "name": "Organic acids",
         "text": "",
         "type": "scatter",
         "x": [
          0.5273457311462271,
          0.7910185967193406,
          0.9492223160632087,
          1.0546914622924541,
          1.1601606085216996,
          1.265629754750945,
          1.3710989009801904,
          1.4765680472094358,
          1.5820371934386812,
          2.1093829245849083,
          4.218765849169817
         ],
         "y": [
          0,
          0,
          0,
          0,
          0,
          0,
          0,
          0,
          0,
          0,
          0
         ]
        },
        {
         "line": {
          "color": "rgba(0, 128, 128, 0.6475770925110131)",
          "dash": "solid",
          "shape": "linear",
          "width": 1.3
         },
         "mode": "lines",
         "name": "Oxalic acid",
         "text": "",
         "type": "scatter",
         "x": [
          0.5273457311462271,
          0.7910185967193406,
          0.9492223160632087,
          1.0546914622924541,
          1.1601606085216996,
          1.265629754750945,
          1.3710989009801904,
          1.4765680472094358,
          1.5820371934386812,
          2.1093829245849083,
          4.218765849169817
         ],
         "y": [
          0,
          0,
          0,
          0,
          0,
          0,
          0,
          0,
          0,
          0,
          0
         ]
        },
        {
         "line": {
          "color": "rgba(255, 255, 51, 0.6475770925110131)",
          "dash": "solid",
          "shape": "linear",
          "width": 1.3
         },
         "mode": "lines",
         "name": "PUFA 18:2",
         "text": "",
         "type": "scatter",
         "x": [
          0.5273457311462271,
          0.7910185967193406,
          0.9492223160632087,
          1.0546914622924541,
          1.1601606085216996,
          1.265629754750945,
          1.3710989009801904,
          1.4765680472094358,
          1.5820371934386812,
          2.1093829245849083,
          4.218765849169817
         ],
         "y": [
          1.1608525657173847,
          1.2399537415924013,
          1.2399537947415316,
          1.2399538869659634,
          1.2399538084042017,
          1.2399538141733002,
          1.0566859878679868,
          1.056685810096551,
          1.0566857997982475,
          0.8096902341748711,
          2.802768185278718
         ]
        },
        {
         "line": {
          "color": "rgba(128, 128, 0, 0.6475770925110131)",
          "dash": "solid",
          "shape": "linear",
          "width": 1.3
         },
         "mode": "lines",
         "name": "PUFA 18:2 CLAs",
         "text": "",
         "type": "scatter",
         "x": [
          0.5273457311462271,
          0.7910185967193406,
          0.9492223160632087,
          1.0546914622924541,
          1.1601606085216996,
          1.265629754750945,
          1.3710989009801904,
          1.4765680472094358,
          1.5820371934386812,
          2.1093829245849083,
          4.218765849169817
         ],
         "y": [
          8.756789218161687e-13,
          4.7635167260486146e-11,
          2.2269887803831863e-11,
          1.4972339594058437e-11,
          8.566159008843448e-14,
          2.911362444848187e-13,
          8.688585177422512e-13,
          2.1287796175844592e-13,
          1.5845551935521262e-13,
          1.040277982521405e-12,
          1.0928204282921498e-10
         ]
        },
        {
         "line": {
          "color": "rgba(251, 128, 114, 0.6475770925110131)",
          "dash": "solid",
          "shape": "linear",
          "width": 1.3
         },
         "mode": "lines",
         "name": "PUFA 18:2 c",
         "text": "",
         "type": "scatter",
         "x": [
          0.5273457311462271,
          0.7910185967193406,
          0.9492223160632087,
          1.0546914622924541,
          1.1601606085216996,
          1.265629754750945,
          1.3710989009801904,
          1.4765680472094358,
          1.5820371934386812,
          2.1093829245849083,
          4.218765849169817
         ],
         "y": [
          6.030831849806995,
          6.030831880992284,
          6.0308318591074555,
          6.030831854933051,
          6.030831849452749,
          6.030831849618296,
          6.030831850530955,
          6.0308318495406175,
          6.030831849456099,
          6.030831850067473,
          6.030831877373704
         ]
        },
        {
         "line": {
          "color": "rgba(128, 177, 211, 0.6475770925110131)",
          "dash": "solid",
          "shape": "linear",
          "width": 1.3
         },
         "mode": "lines",
         "name": "PUFA 18:2 n-6 c,c",
         "text": "",
         "type": "scatter",
         "x": [
          0.5273457311462271,
          0.7910185967193406,
          0.9492223160632087,
          1.0546914622924541,
          1.1601606085216996,
          1.265629754750945,
          1.3710989009801904,
          1.4765680472094358,
          1.5820371934386812,
          2.1093829245849083,
          4.218765849169817
         ],
         "y": [
          22.857559651843633,
          23.28799793429066,
          23.287996888284887,
          23.287996709656895,
          23.287997316088134,
          23.287997316505873,
          22.256719716689087,
          22.25671879030604,
          22.25671878341115,
          21.692803716027324,
          23.108884405111255
         ]
        },
        {
         "line": {
          "color": "rgba(128, 177, 211, 0.6123348017621146)",
          "dash": "solid",
          "shape": "linear",
          "width": 1.3
         },
         "mode": "lines",
         "name": "PUFA 18:3",
         "text": "",
         "type": "scatter",
         "x": [
          0.5273457311462271,
          0.7910185967193406,
          0.9492223160632087,
          1.0546914622924541,
          1.1601606085216996,
          1.265629754750945,
          1.3710989009801904,
          1.4765680472094358,
          1.5820371934386812,
          2.1093829245849083,
          4.218765849169817
         ],
         "y": [
          0.5130476116059587,
          0.4704558192933474,
          0.47045577904418073,
          0.47045577953960305,
          0.4704557995983916,
          0.4704557999314634,
          0.41394426758251257,
          0.41394421610420745,
          0.41394421510188834,
          0.3742085095901343,
          0.500182729169943
         ]
        },
        {
         "line": {
          "color": "rgba(255, 153, 51, 0.6123348017621146)",
          "dash": "solid",
          "shape": "linear",
          "width": 1.3
         },
         "mode": "lines",
         "name": "PUFA 18:3 c",
         "text": "",
         "type": "scatter",
         "x": [
          0.5273457311462271,
          0.7910185967193406,
          0.9492223160632087,
          1.0546914622924541,
          1.1601606085216996,
          1.265629754750945,
          1.3710989009801904,
          1.4765680472094358,
          1.5820371934386812,
          2.1093829245849083,
          4.218765849169817
         ],
         "y": [
          1.015924701162061,
          1.0159247064153836,
          1.0159247027287717,
          1.0159247020255715,
          1.0159247011023864,
          1.0159247011302737,
          1.0159247012840158,
          1.0159247011171884,
          1.0159247011029509,
          1.01592470120594,
          1.0159247058058152
         ]
        },
        {
         "line": {
          "color": "rgba(55, 128, 191, 0.6123348017621146)",
          "dash": "solid",
          "shape": "linear",
          "width": 1.3
         },
         "mode": "lines",
         "name": "PUFA 18:3 n-3 c,c,c (ALA)",
         "text": "",
         "type": "scatter",
         "x": [
          0.5273457311462271,
          0.7910185967193406,
          0.9492223160632087,
          1.0546914622924541,
          1.1601606085216996,
          1.265629754750945,
          1.3710989009801904,
          1.4765680472094358,
          1.5820371934386812,
          2.1093829245849083,
          4.218765849169817
         ],
         "y": [
          1.0583269915347326,
          1.0497260136800397,
          1.0497260310652117,
          1.0497260413897331,
          1.0497260378764772,
          1.0497260382282454,
          1.0497567561852037,
          1.0497567552395504,
          1.0497567536943961,
          1.0260377186996898,
          1.0820535766353125
         ]
        },
        {
         "line": {
          "color": "rgba(50, 171, 96, 0.6123348017621146)",
          "dash": "solid",
          "shape": "linear",
          "width": 1.3
         },
         "mode": "lines",
         "name": "PUFA 18:3 n-6 c,c,c",
         "text": "",
         "type": "scatter",
         "x": [
          0.5273457311462271,
          0.7910185967193406,
          0.9492223160632087,
          1.0546914622924541,
          1.1601606085216996,
          1.265629754750945,
          1.3710989009801904,
          1.4765680472094358,
          1.5820371934386812,
          2.1093829245849083,
          4.218765849169817
         ],
         "y": [
          0.0057300392022182995,
          0.004567742129558451,
          0.00456774609766076,
          0.004567747894813499,
          0.004567748209638519,
          0.004567748237328164,
          0.0045718992697214855,
          0.004571899195740824,
          0.004571898991775003,
          0.001366623925610126,
          0.008936329149901884
         ]
        },
        {
         "line": {
          "color": "rgba(128, 0, 128, 0.6123348017621146)",
          "dash": "solid",
          "shape": "linear",
          "width": 1.3
         },
         "mode": "lines",
         "name": "PUFA 18:3i",
         "text": "",
         "type": "scatter",
         "x": [
          0.5273457311462271,
          0.7910185967193406,
          0.9492223160632087,
          1.0546914622924541,
          1.1601606085216996,
          1.265629754750945,
          1.3710989009801904,
          1.4765680472094358,
          1.5820371934386812,
          2.1093829245849083,
          4.218765849169817
         ],
         "y": [
          0,
          0,
          0,
          0,
          0,
          0,
          0,
          0,
          0,
          0,
          0
         ]
        },
        {
         "line": {
          "color": "rgba(219, 64, 82, 0.6123348017621146)",
          "dash": "solid",
          "shape": "linear",
          "width": 1.3
         },
         "mode": "lines",
         "name": "PUFA 18:4",
         "text": "",
         "type": "scatter",
         "x": [
          0.5273457311462271,
          0.7910185967193406,
          0.9492223160632087,
          1.0546914622924541,
          1.1601606085216996,
          1.265629754750945,
          1.3710989009801904,
          1.4765680472094358,
          1.5820371934386812,
          2.1093829245849083,
          4.218765849169817
         ],
         "y": [
          0,
          0,
          0,
          0,
          0,
          0,
          0,
          0,
          0,
          0,
          0
         ]
        },
        {
         "line": {
          "color": "rgba(0, 128, 128, 0.6123348017621146)",
          "dash": "solid",
          "shape": "linear",
          "width": 1.3
         },
         "mode": "lines",
         "name": "PUFA 20:2 c",
         "text": "",
         "type": "scatter",
         "x": [
          0.5273457311462271,
          0.7910185967193406,
          0.9492223160632087,
          1.0546914622924541,
          1.1601606085216996,
          1.265629754750945,
          1.3710989009801904,
          1.4765680472094358,
          1.5820371934386812,
          2.1093829245849083,
          4.218765849169817
         ],
         "y": [
          0.0034342406514642986,
          0.003434240669222676,
          0.0034342406567604206,
          0.0034342406543833174,
          0.0034342406512625745,
          0.0034342406513568446,
          0.003434240651876556,
          0.003434240651312611,
          0.003434240651264482,
          0.0034342406516126274,
          0.003434240667162086
         ]
        },
        {
         "line": {
          "color": "rgba(255, 255, 51, 0.6123348017621146)",
          "dash": "solid",
          "shape": "linear",
          "width": 1.3
         },
         "mode": "lines",
         "name": "PUFA 20:2 n-6 c,c",
         "text": "",
         "type": "scatter",
         "x": [
          0.5273457311462271,
          0.7910185967193406,
          0.9492223160632087,
          1.0546914622924541,
          1.1601606085216996,
          1.265629754750945,
          1.3710989009801904,
          1.4765680472094358,
          1.5820371934386812,
          2.1093829245849083,
          4.218765849169817
         ],
         "y": [
          0.0034342406529884115,
          0.0034342407510292634,
          0.003434240693327503,
          0.0034342406789619286,
          0.0034342406514100924,
          0.0034342406518719955,
          0.0034342406535705456,
          0.0034342406517065154,
          0.003434240651591635,
          0.003434240654014447,
          0.003434240873681374
         ]
        },
        {
         "line": {
          "color": "rgba(128, 128, 0, 0.6123348017621146)",
          "dash": "solid",
          "shape": "linear",
          "width": 1.3
         },
         "mode": "lines",
         "name": "PUFA 20:3",
         "text": "",
         "type": "scatter",
         "x": [
          0.5273457311462271,
          0.7910185967193406,
          0.9492223160632087,
          1.0546914622924541,
          1.1601606085216996,
          1.265629754750945,
          1.3710989009801904,
          1.4765680472094358,
          1.5820371934386812,
          2.1093829245849083,
          4.218765849169817
         ],
         "y": [
          0.006112041810960275,
          0.004872258014899171,
          0.004872262385984766,
          0.004872264341682228,
          0.004872264756485827,
          0.00487226478489873,
          0.004876692549473388,
          0.004876692474279815,
          0.004876692256980976,
          0.0014577321810567607,
          0.009532083817716395
         ]
        },
        {
         "line": {
          "color": "rgba(251, 128, 114, 0.6123348017621146)",
          "dash": "solid",
          "shape": "linear",
          "width": 1.3
         },
         "mode": "lines",
         "name": "PUFA 20:3 c",
         "text": "",
         "type": "scatter",
         "x": [
          0.5273457311462271,
          0.7910185967193406,
          0.9492223160632087,
          1.0546914622924541,
          1.1601606085216996,
          1.265629754750945,
          1.3710989009801904,
          1.4765680472094358,
          1.5820371934386812,
          2.1093829245849083,
          4.218765849169817
         ],
         "y": [
          0,
          0,
          0,
          0,
          0,
          0,
          0,
          0,
          0,
          0,
          0
         ]
        },
        {
         "line": {
          "color": "rgba(251, 128, 114, 0.5770925110132159)",
          "dash": "solid",
          "shape": "linear",
          "width": 1.3
         },
         "mode": "lines",
         "name": "PUFA 20:3 n-3",
         "text": "",
         "type": "scatter",
         "x": [
          0.5273457311462271,
          0.7910185967193406,
          0.9492223160632087,
          1.0546914622924541,
          1.1601606085216996,
          1.265629754750945,
          1.3710989009801904,
          1.4765680472094358,
          1.5820371934386812,
          2.1093829245849083,
          4.218765849169817
         ],
         "y": [
          0,
          0,
          0,
          0,
          0,
          0,
          0,
          0,
          0,
          0,
          0
         ]
        },
        {
         "line": {
          "color": "rgba(128, 177, 211, 0.5770925110132159)",
          "dash": "solid",
          "shape": "linear",
          "width": 1.3
         },
         "mode": "lines",
         "name": "PUFA 20:3 n-9",
         "text": "",
         "type": "scatter",
         "x": [
          0.5273457311462271,
          0.7910185967193406,
          0.9492223160632087,
          1.0546914622924541,
          1.1601606085216996,
          1.265629754750945,
          1.3710989009801904,
          1.4765680472094358,
          1.5820371934386812,
          2.1093829245849083,
          4.218765849169817
         ],
         "y": [
          0,
          0,
          0,
          0,
          0,
          0,
          0,
          0,
          0,
          0,
          0
         ]
        },
        {
         "line": {
          "color": "rgba(255, 153, 51, 0.5770925110132159)",
          "dash": "solid",
          "shape": "linear",
          "width": 1.3
         },
         "mode": "lines",
         "name": "PUFA 20:4",
         "text": "",
         "type": "scatter",
         "x": [
          0.5273457311462271,
          0.7910185967193406,
          0.9492223160632087,
          1.0546914622924541,
          1.1601606085216996,
          1.265629754750945,
          1.3710989009801904,
          1.4765680472094358,
          1.5820371934386812,
          2.1093829245849083,
          4.218765849169817
         ],
         "y": [
          0.0011724594902005991,
          0.0005050332857622836,
          0.0005050329630619018,
          0.0005050329214612186,
          0.0005050329265673204,
          0.0005050329276148536,
          0.00041774568343759603,
          0.00041774559979529093,
          0.0004177455960412391,
          0.00032779614049739225,
          0.00018036485831410956
         ]
        },
        {
         "line": {
          "color": "rgba(55, 128, 191, 0.5770925110132159)",
          "dash": "solid",
          "shape": "linear",
          "width": 1.3
         },
         "mode": "lines",
         "name": "PUFA 20:4 n-6",
         "text": "",
         "type": "scatter",
         "x": [
          0.5273457311462271,
          0.7910185967193406,
          0.9492223160632087,
          1.0546914622924541,
          1.1601606085216996,
          1.265629754750945,
          1.3710989009801904,
          1.4765680472094358,
          1.5820371934386812,
          2.1093829245849083,
          4.218765849169817
         ],
         "y": [
          0,
          0,
          0,
          0,
          0,
          0,
          0,
          0,
          0,
          0,
          0
         ]
        },
        {
         "line": {
          "color": "rgba(50, 171, 96, 0.5770925110132159)",
          "dash": "solid",
          "shape": "linear",
          "width": 1.3
         },
         "mode": "lines",
         "name": "PUFA 20:4c",
         "text": "",
         "type": "scatter",
         "x": [
          0.5273457311462271,
          0.7910185967193406,
          0.9492223160632087,
          1.0546914622924541,
          1.1601606085216996,
          1.265629754750945,
          1.3710989009801904,
          1.4765680472094358,
          1.5820371934386812,
          2.1093829245849083,
          4.218765849169817
         ],
         "y": [
          0,
          0,
          0,
          0,
          0,
          0,
          0,
          0,
          0,
          0,
          0
         ]
        },
        {
         "line": {
          "color": "rgba(128, 0, 128, 0.5770925110132159)",
          "dash": "solid",
          "shape": "linear",
          "width": 1.3
         },
         "mode": "lines",
         "name": "PUFA 20:5 n-3 (EPA)",
         "text": "",
         "type": "scatter",
         "x": [
          0.5273457311462271,
          0.7910185967193406,
          0.9492223160632087,
          1.0546914622924541,
          1.1601606085216996,
          1.265629754750945,
          1.3710989009801904,
          1.4765680472094358,
          1.5820371934386812,
          2.1093829245849083,
          4.218765849169817
         ],
         "y": [
          0,
          0,
          0,
          0,
          0,
          0,
          0,
          0,
          0,
          0,
          0
         ]
        },
        {
         "line": {
          "color": "rgba(219, 64, 82, 0.5770925110132159)",
          "dash": "solid",
          "shape": "linear",
          "width": 1.3
         },
         "mode": "lines",
         "name": "PUFA 20:5c",
         "text": "",
         "type": "scatter",
         "x": [
          0.5273457311462271,
          0.7910185967193406,
          0.9492223160632087,
          1.0546914622924541,
          1.1601606085216996,
          1.265629754750945,
          1.3710989009801904,
          1.4765680472094358,
          1.5820371934386812,
          2.1093829245849083,
          4.218765849169817
         ],
         "y": [
          0,
          0,
          0,
          0,
          0,
          0,
          0,
          0,
          0,
          0,
          0
         ]
        },
        {
         "line": {
          "color": "rgba(0, 128, 128, 0.5770925110132159)",
          "dash": "solid",
          "shape": "linear",
          "width": 1.3
         },
         "mode": "lines",
         "name": "PUFA 21:5",
         "text": "",
         "type": "scatter",
         "x": [
          0.5273457311462271,
          0.7910185967193406,
          0.9492223160632087,
          1.0546914622924541,
          1.1601606085216996,
          1.265629754750945,
          1.3710989009801904,
          1.4765680472094358,
          1.5820371934386812,
          2.1093829245849083,
          4.218765849169817
         ],
         "y": [
          0,
          0,
          0,
          0,
          0,
          0,
          0,
          0,
          0,
          0,
          0
         ]
        },
        {
         "line": {
          "color": "rgba(255, 255, 51, 0.5770925110132159)",
          "dash": "solid",
          "shape": "linear",
          "width": 1.3
         },
         "mode": "lines",
         "name": "PUFA 22:2",
         "text": "",
         "type": "scatter",
         "x": [
          0.5273457311462271,
          0.7910185967193406,
          0.9492223160632087,
          1.0546914622924541,
          1.1601606085216996,
          1.265629754750945,
          1.3710989009801904,
          1.4765680472094358,
          1.5820371934386812,
          2.1093829245849083,
          4.218765849169817
         ],
         "y": [
          0,
          0,
          0,
          0,
          0,
          0,
          0,
          0,
          0,
          0,
          0
         ]
        },
        {
         "line": {
          "color": "rgba(128, 128, 0, 0.5770925110132159)",
          "dash": "solid",
          "shape": "linear",
          "width": 1.3
         },
         "mode": "lines",
         "name": "PUFA 22:3",
         "text": "",
         "type": "scatter",
         "x": [
          0.5273457311462271,
          0.7910185967193406,
          0.9492223160632087,
          1.0546914622924541,
          1.1601606085216996,
          1.265629754750945,
          1.3710989009801904,
          1.4765680472094358,
          1.5820371934386812,
          2.1093829245849083,
          4.218765849169817
         ],
         "y": [
          0,
          0,
          0,
          0,
          0,
          0,
          0,
          0,
          0,
          0,
          0
         ]
        },
        {
         "line": {
          "color": "rgba(128, 128, 0, 0.5418502202643172)",
          "dash": "solid",
          "shape": "linear",
          "width": 1.3
         },
         "mode": "lines",
         "name": "PUFA 22:4",
         "text": "",
         "type": "scatter",
         "x": [
          0.5273457311462271,
          0.7910185967193406,
          0.9492223160632087,
          1.0546914622924541,
          1.1601606085216996,
          1.265629754750945,
          1.3710989009801904,
          1.4765680472094358,
          1.5820371934386812,
          2.1093829245849083,
          4.218765849169817
         ],
         "y": [
          0,
          0,
          0,
          0,
          0,
          0,
          0,
          0,
          0,
          0,
          0
         ]
        },
        {
         "line": {
          "color": "rgba(251, 128, 114, 0.5418502202643172)",
          "dash": "solid",
          "shape": "linear",
          "width": 1.3
         },
         "mode": "lines",
         "name": "PUFA 22:5 c",
         "text": "",
         "type": "scatter",
         "x": [
          0.5273457311462271,
          0.7910185967193406,
          0.9492223160632087,
          1.0546914622924541,
          1.1601606085216996,
          1.265629754750945,
          1.3710989009801904,
          1.4765680472094358,
          1.5820371934386812,
          2.1093829245849083,
          4.218765849169817
         ],
         "y": [
          0,
          0,
          0,
          0,
          0,
          0,
          0,
          0,
          0,
          0,
          0
         ]
        },
        {
         "line": {
          "color": "rgba(128, 177, 211, 0.5418502202643172)",
          "dash": "solid",
          "shape": "linear",
          "width": 1.3
         },
         "mode": "lines",
         "name": "PUFA 22:5 n-3 (DPA)",
         "text": "",
         "type": "scatter",
         "x": [
          0.5273457311462271,
          0.7910185967193406,
          0.9492223160632087,
          1.0546914622924541,
          1.1601606085216996,
          1.265629754750945,
          1.3710989009801904,
          1.4765680472094358,
          1.5820371934386812,
          2.1093829245849083,
          4.218765849169817
         ],
         "y": [
          0,
          0,
          0,
          0,
          0,
          0,
          0,
          0,
          0,
          0,
          0
         ]
        },
        {
         "line": {
          "color": "rgba(255, 153, 51, 0.5418502202643172)",
          "dash": "solid",
          "shape": "linear",
          "width": 1.3
         },
         "mode": "lines",
         "name": "PUFA 22:6 c",
         "text": "",
         "type": "scatter",
         "x": [
          0.5273457311462271,
          0.7910185967193406,
          0.9492223160632087,
          1.0546914622924541,
          1.1601606085216996,
          1.265629754750945,
          1.3710989009801904,
          1.4765680472094358,
          1.5820371934386812,
          2.1093829245849083,
          4.218765849169817
         ],
         "y": [
          0,
          0,
          0,
          0,
          0,
          0,
          0,
          0,
          0,
          0,
          0
         ]
        },
        {
         "line": {
          "color": "rgba(55, 128, 191, 0.5418502202643172)",
          "dash": "solid",
          "shape": "linear",
          "width": 1.3
         },
         "mode": "lines",
         "name": "PUFA 22:6 n-3 (DHA)",
         "text": "",
         "type": "scatter",
         "x": [
          0.5273457311462271,
          0.7910185967193406,
          0.9492223160632087,
          1.0546914622924541,
          1.1601606085216996,
          1.265629754750945,
          1.3710989009801904,
          1.4765680472094358,
          1.5820371934386812,
          2.1093829245849083,
          4.218765849169817
         ],
         "y": [
          1.7963602592188094e-11,
          8.261915494775164e-10,
          2.688026132193688e-10,
          1.689523722852809e-10,
          1.3683459417841722e-12,
          4.069112854097508e-12,
          2.2499587750918464e-11,
          3.4714989840350048e-12,
          3.1060191428510044e-12,
          1.8494237171664992e-11,
          1.0391424772372594e-09
         ]
        },
        {
         "line": {
          "color": "rgba(50, 171, 96, 0.5418502202643172)",
          "dash": "solid",
          "shape": "linear",
          "width": 1.3
         },
         "mode": "lines",
         "name": "Pantothenic acid",
         "text": "",
         "type": "scatter",
         "x": [
          0.5273457311462271,
          0.7910185967193406,
          0.9492223160632087,
          1.0546914622924541,
          1.1601606085216996,
          1.265629754750945,
          1.3710989009801904,
          1.4765680472094358,
          1.5820371934386812,
          2.1093829245849083,
          4.218765849169817
         ],
         "y": [
          1.6343704745110192,
          1.6446992532766358,
          1.6446995010386414,
          1.6446995691915873,
          1.6446993328392194,
          1.6446993363543119,
          1.9159238070739377,
          1.9159240416698171,
          1.915924038162483,
          1.9760818175778812,
          2.6101728896341005
         ]
        },
        {
         "line": {
          "color": "rgba(128, 0, 128, 0.5418502202643172)",
          "dash": "solid",
          "shape": "linear",
          "width": 1.3
         },
         "mode": "lines",
         "name": "Phenylalanine",
         "text": "",
         "type": "scatter",
         "x": [
          0.5273457311462271,
          0.7910185967193406,
          0.9492223160632087,
          1.0546914622924541,
          1.1601606085216996,
          1.265629754750945,
          1.3710989009801904,
          1.4765680472094358,
          1.5820371934386812,
          2.1093829245849083,
          4.218765849169817
         ],
         "y": [
          5.6981774182589335,
          5.767722291630325,
          5.767722068446293,
          5.767722006333353,
          5.7677220556697675,
          5.767722057064088,
          5.702324436014376,
          5.702324376558932,
          5.70232437485246,
          5.650438529889576,
          5.606977976853991
         ]
        },
        {
         "line": {
          "color": "rgba(219, 64, 82, 0.5418502202643172)",
          "dash": "solid",
          "shape": "linear",
          "width": 1.3
         },
         "mode": "lines",
         "name": "Phosphorus, P",
         "text": "",
         "type": "scatter",
         "x": [
          0.5273457311462271,
          0.7910185967193406,
          0.9492223160632087,
          1.0546914622924541,
          1.1601606085216996,
          1.265629754750945,
          1.3710989009801904,
          1.4765680472094358,
          1.5820371934386812,
          2.1093829245849083,
          4.218765849169817
         ],
         "y": [
          1783.23654587698,
          1811.7178383594967,
          1811.7177583814416,
          1811.7177382596337,
          1811.7177502804702,
          1811.7177507159422,
          1776.0573380415353,
          1776.057305469314,
          1776.057305455289,
          1762.4450400491673,
          1724.7156763475127
         ]
        },
        {
         "line": {
          "color": "rgba(0, 128, 128, 0.5418502202643172)",
          "dash": "solid",
          "shape": "linear",
          "width": 1.3
         },
         "mode": "lines",
         "name": "Phytosterols",
         "text": "",
         "type": "scatter",
         "x": [
          0.5273457311462271,
          0.7910185967193406,
          0.9492223160632087,
          1.0546914622924541,
          1.1601606085216996,
          1.265629754750945,
          1.3710989009801904,
          1.4765680472094358,
          1.5820371934386812,
          2.1093829245849083,
          4.218765849169817
         ],
         "y": [
          2.9069501963290116e-09,
          1.402919927512473e-07,
          5.784430717910394e-08,
          3.8149938955698984e-08,
          2.5739400480434597e-10,
          8.027206314330673e-10,
          3.2460374921572398e-09,
          6.283310059294661e-10,
          5.42817746653693e-10,
          3.019727516261343e-09,
          1.9912697355228866e-07
         ]
        },
        {
         "line": {
          "color": "rgba(255, 255, 51, 0.5418502202643172)",
          "dash": "solid",
          "shape": "linear",
          "width": 1.3
         },
         "mode": "lines",
         "name": "Potassium, K",
         "text": "",
         "type": "scatter",
         "x": [
          0.5273457311462271,
          0.7910185967193406,
          0.9492223160632087,
          1.0546914622924541,
          1.1601606085216996,
          1.265629754750945,
          1.3710989009801904,
          1.4765680472094358,
          1.5820371934386812,
          2.1093829245849083,
          4.218765849169817
         ],
         "y": [
          4700.00000067457,
          4700.000030017734,
          4700.000014904935,
          4700.000010381467,
          4700.000000055481,
          4700.000000247954,
          4700.000000453048,
          4700.000000124724,
          4700.0000000883165,
          4700.000000631012,
          4700.0100051624695
         ]
        },
        {
         "line": {
          "color": "rgba(255, 255, 51, 0.5066079295154184)",
          "dash": "solid",
          "shape": "linear",
          "width": 1.3
         },
         "mode": "lines",
         "name": "Proline",
         "text": "",
         "type": "scatter",
         "x": [
          0.5273457311462271,
          0.7910185967193406,
          0.9492223160632087,
          1.0546914622924541,
          1.1601606085216996,
          1.265629754750945,
          1.3710989009801904,
          1.4765680472094358,
          1.5820371934386812,
          2.1093829245849083,
          4.218765849169817
         ],
         "y": [
          87.70436854048332,
          87.86788803412088,
          87.86788745174782,
          87.86788731233858,
          87.86788723862541,
          87.86788724459589,
          87.76413313506862,
          87.76413302658065,
          87.76413302538576,
          87.73104943332132,
          87.63213528999707
         ]
        },
        {
         "line": {
          "color": "rgba(128, 128, 0, 0.5066079295154184)",
          "dash": "solid",
          "shape": "linear",
          "width": 1.3
         },
         "mode": "lines",
         "name": "Protein",
         "text": "",
         "type": "scatter",
         "x": [
          0.5273457311462271,
          0.7910185967193406,
          0.9492223160632087,
          1.0546914622924541,
          1.1601606085216996,
          1.265629754750945,
          1.3710989009801904,
          1.4765680472094358,
          1.5820371934386812,
          2.1093829245849083,
          4.218765849169817
         ],
         "y": [
          99.92231064689713,
          100.83375661510335,
          100.83375182062525,
          100.83375070154362,
          100.83375168748641,
          100.83375172339603,
          98.71714450406397,
          98.71714256539033,
          98.71714251541611,
          97.08246096532372,
          99.67753833500143
         ]
        },
        {
         "line": {
          "color": "rgba(251, 128, 114, 0.5066079295154184)",
          "dash": "solid",
          "shape": "linear",
          "width": 1.3
         },
         "mode": "lines",
         "name": "Proximates",
         "text": "",
         "type": "scatter",
         "x": [
          0.5273457311462271,
          0.7910185967193406,
          0.9492223160632087,
          1.0546914622924541,
          1.1601606085216996,
          1.265629754750945,
          1.3710989009801904,
          1.4765680472094358,
          1.5820371934386812,
          2.1093829245849083,
          4.218765849169817
         ],
         "y": [
          0,
          0,
          0,
          0,
          0,
          0,
          0,
          0,
          0,
          0,
          0
         ]
        },
        {
         "line": {
          "color": "rgba(128, 177, 211, 0.5066079295154184)",
          "dash": "solid",
          "shape": "linear",
          "width": 1.3
         },
         "mode": "lines",
         "name": "Pyruvic acid",
         "text": "",
         "type": "scatter",
         "x": [
          0.5273457311462271,
          0.7910185967193406,
          0.9492223160632087,
          1.0546914622924541,
          1.1601606085216996,
          1.265629754750945,
          1.3710989009801904,
          1.4765680472094358,
          1.5820371934386812,
          2.1093829245849083,
          4.218765849169817
         ],
         "y": [
          0,
          0,
          0,
          0,
          0,
          0,
          0,
          0,
          0,
          0,
          0
         ]
        },
        {
         "line": {
          "color": "rgba(255, 153, 51, 0.5066079295154184)",
          "dash": "solid",
          "shape": "linear",
          "width": 1.3
         },
         "mode": "lines",
         "name": "Quinic acid",
         "text": "",
         "type": "scatter",
         "x": [
          0.5273457311462271,
          0.7910185967193406,
          0.9492223160632087,
          1.0546914622924541,
          1.1601606085216996,
          1.265629754750945,
          1.3710989009801904,
          1.4765680472094358,
          1.5820371934386812,
          2.1093829245849083,
          4.218765849169817
         ],
         "y": [
          0,
          0,
          0,
          0,
          0,
          0,
          0,
          0,
          0,
          0,
          0
         ]
        },
        {
         "line": {
          "color": "rgba(55, 128, 191, 0.5066079295154184)",
          "dash": "solid",
          "shape": "linear",
          "width": 1.3
         },
         "mode": "lines",
         "name": "Raffinose",
         "text": "",
         "type": "scatter",
         "x": [
          0.5273457311462271,
          0.7910185967193406,
          0.9492223160632087,
          1.0546914622924541,
          1.1601606085216996,
          1.265629754750945,
          1.3710989009801904,
          1.4765680472094358,
          1.5820371934386812,
          2.1093829245849083,
          4.218765849169817
         ],
         "y": [
          0.406186720963413,
          0.40618672306379494,
          0.4061867215898148,
          0.40618672130866157,
          0.406186720939554,
          0.40618672095070385,
          0.40618672101217296,
          0.4061867209454721,
          0.4061867209397796,
          0.4061867209809567,
          0.4061867228200775
         ]
        },
        {
         "line": {
          "color": "rgba(50, 171, 96, 0.5066079295154184)",
          "dash": "solid",
          "shape": "linear",
          "width": 1.3
         },
         "mode": "lines",
         "name": "Retinol",
         "text": "",
         "type": "scatter",
         "x": [
          0.5273457311462271,
          0.7910185967193406,
          0.9492223160632087,
          1.0546914622924541,
          1.1601606085216996,
          1.265629754750945,
          1.3710989009801904,
          1.4765680472094358,
          1.5820371934386812,
          2.1093829245849083,
          4.218765849169817
         ],
         "y": [
          355.5125922395842,
          355.5125940779314,
          355.51259278783874,
          355.512592541761,
          355.51259221870174,
          355.51259222846056,
          355.5125922822611,
          355.5125922238815,
          355.51259221889916,
          355.5125922549392,
          355.51259386461913
         ]
        },
        {
         "line": {
          "color": "rgba(128, 0, 128, 0.5066079295154184)",
          "dash": "solid",
          "shape": "linear",
          "width": 1.3
         },
         "mode": "lines",
         "name": "Riboflavin",
         "text": "",
         "type": "scatter",
         "x": [
          0.5273457311462271,
          0.7910185967193406,
          0.9492223160632087,
          1.0546914622924541,
          1.1601606085216996,
          1.265629754750945,
          1.3710989009801904,
          1.4765680472094358,
          1.5820371934386812,
          2.1093829245849083,
          4.218765849169817
         ],
         "y": [
          1.3825539735437762,
          1.3144601993345681,
          1.314460200034097,
          1.3144601939801224,
          1.314460166897181,
          1.3144601668559779,
          1.3711123771833889,
          1.3711124278029705,
          1.3711124279941744,
          1.4023101474347235,
          1.1000015008533686
         ]
        },
        {
         "line": {
          "color": "rgba(219, 64, 82, 0.5066079295154184)",
          "dash": "solid",
          "shape": "linear",
          "width": 1.3
         },
         "mode": "lines",
         "name": "SFA 10:0",
         "text": "",
         "type": "scatter",
         "x": [
          0.5273457311462271,
          0.7910185967193406,
          0.9492223160632087,
          1.0546914622924541,
          1.1601606085216996,
          1.265629754750945,
          1.3710989009801904,
          1.4765680472094358,
          1.5820371934386812,
          2.1093829245849083,
          4.218765849169817
         ],
         "y": [
          8.406185069228673e-12,
          1.513397809954193e-10,
          5.998334001926581e-11,
          4.051460215661283e-11,
          2.035016433933533e-13,
          1.3204413183868466e-12,
          4.01908809367694e-12,
          1.0062134989445719e-12,
          1.944442054643874e-12,
          9.950185183896847e-12,
          0.0009804752296319605
         ]
        },
        {
         "line": {
          "color": "rgba(0, 128, 128, 0.5066079295154184)",
          "dash": "solid",
          "shape": "linear",
          "width": 1.3
         },
         "mode": "lines",
         "name": "SFA 11:0",
         "text": "",
         "type": "scatter",
         "x": [
          0.5273457311462271,
          0.7910185967193406,
          0.9492223160632087,
          1.0546914622924541,
          1.1601606085216996,
          1.265629754750945,
          1.3710989009801904,
          1.4765680472094358,
          1.5820371934386812,
          2.1093829245849083,
          4.218765849169817
         ],
         "y": [
          0,
          0,
          0,
          0,
          0,
          0,
          0,
          0,
          0,
          0,
          0
         ]
        },
        {
         "line": {
          "color": "rgba(0, 128, 128, 0.47136563876652)",
          "dash": "solid",
          "shape": "linear",
          "width": 1.3
         },
         "mode": "lines",
         "name": "SFA 12:0",
         "text": "",
         "type": "scatter",
         "x": [
          0.5273457311462271,
          0.7910185967193406,
          0.9492223160632087,
          1.0546914622924541,
          1.1601606085216996,
          1.265629754750945,
          1.3710989009801904,
          1.4765680472094358,
          1.5820371934386812,
          2.1093829245849083,
          4.218765849169817
         ],
         "y": [
          0.0023449189846029028,
          0.0010100662585439653,
          0.001010065811904628,
          0.0010100657709364584,
          0.001010065852466937,
          0.0010100658544531327,
          0.0008354913596664987,
          0.0008354911987023343,
          0.0008354911932786956,
          0.0006555922821903984,
          0.0023216788725581466
         ]
        },
        {
         "line": {
          "color": "rgba(255, 255, 51, 0.47136563876652)",
          "dash": "solid",
          "shape": "linear",
          "width": 1.3
         },
         "mode": "lines",
         "name": "SFA 13:0",
         "text": "",
         "type": "scatter",
         "x": [
          0.5273457311462271,
          0.7910185967193406,
          0.9492223160632087,
          1.0546914622924541,
          1.1601606085216996,
          1.265629754750945,
          1.3710989009801904,
          1.4765680472094358,
          1.5820371934386812,
          2.1093829245849083,
          4.218765849169817
         ],
         "y": [
          0,
          0,
          0,
          0,
          0,
          0,
          0,
          0,
          0,
          0,
          0
         ]
        },
        {
         "line": {
          "color": "rgba(128, 128, 0, 0.47136563876652)",
          "dash": "solid",
          "shape": "linear",
          "width": 1.3
         },
         "mode": "lines",
         "name": "SFA 14:0",
         "text": "",
         "type": "scatter",
         "x": [
          0.5273457311462271,
          0.7910185967193406,
          0.9492223160632087,
          1.0546914622924541,
          1.1601606085216996,
          1.265629754750945,
          1.3710989009801904,
          1.4765680472094358,
          1.5820371934386812,
          2.1093829245849083,
          4.218765849169817
         ],
         "y": [
          0.025624491659539696,
          0.026505974914879982,
          0.02650597251853493,
          0.026505972076208376,
          0.02650597238343198,
          0.026505972391609085,
          0.024115065995971147,
          0.024115063831399115,
          0.024115063886731083,
          0.023935164991224164,
          0.030378717212427575
         ]
        },
        {
         "line": {
          "color": "rgba(251, 128, 114, 0.47136563876652)",
          "dash": "solid",
          "shape": "linear",
          "width": 1.3
         },
         "mode": "lines",
         "name": "SFA 15:0",
         "text": "",
         "type": "scatter",
         "x": [
          0.5273457311462271,
          0.7910185967193406,
          0.9492223160632087,
          1.0546914622924541,
          1.1601606085216996,
          1.265629754750945,
          1.3710989009801904,
          1.4765680472094358,
          1.5820371934386812,
          2.1093829245849083,
          4.218765849169817
         ],
         "y": [
          0.010305774636348203,
          0.010305775039643965,
          0.010305774782745447,
          0.010305774725717106,
          0.010305774612607453,
          0.010305774615790972,
          0.010305774623164433,
          0.010305774614755604,
          0.010305774617330753,
          0.01030577463698223,
          0.013247200032365708
         ]
        },
        {
         "line": {
          "color": "rgba(128, 177, 211, 0.47136563876652)",
          "dash": "solid",
          "shape": "linear",
          "width": 1.3
         },
         "mode": "lines",
         "name": "SFA 16:0",
         "text": "",
         "type": "scatter",
         "x": [
          0.5273457311462271,
          0.7910185967193406,
          0.9492223160632087,
          1.0546914622924541,
          1.1601606085216996,
          1.265629754750945,
          1.3710989009801904,
          1.4765680472094358,
          1.5820371934386812,
          2.1093829245849083,
          4.218765849169817
         ],
         "y": [
          9.683293128918338,
          9.774709490734255,
          9.77470951646247,
          9.774709666921066,
          9.774709974924082,
          9.774709979343697,
          9.262626558709774,
          9.262626088576035,
          9.262626061339567,
          8.608791187746323,
          10.431842182084234
         ]
        },
        {
         "line": {
          "color": "rgba(255, 153, 51, 0.47136563876652)",
          "dash": "solid",
          "shape": "linear",
          "width": 1.3
         },
         "mode": "lines",
         "name": "SFA 17:0",
         "text": "",
         "type": "scatter",
         "x": [
          0.5273457311462271,
          0.7910185967193406,
          0.9492223160632087,
          1.0546914622924541,
          1.1601606085216996,
          1.265629754750945,
          1.3710989009801904,
          1.4765680472094358,
          1.5820371934386812,
          2.1093829245849083,
          4.218765849169817
         ],
         "y": [
          0.012210633460634127,
          0.012210634085245968,
          0.012210633699659303,
          0.012210633608984705,
          0.012210633427501704,
          0.01221063343209621,
          0.012210633442555581,
          0.012210633430554911,
          0.012210633433855077,
          0.012210633460755257,
          0.01613253416999011
         ]
        },
        {
         "line": {
          "color": "rgba(55, 128, 191, 0.47136563876652)",
          "dash": "solid",
          "shape": "linear",
          "width": 1.3
         },
         "mode": "lines",
         "name": "SFA 18:0",
         "text": "",
         "type": "scatter",
         "x": [
          0.5273457311462271,
          0.7910185967193406,
          0.9492223160632087,
          1.0546914622924541,
          1.1601606085216996,
          1.265629754750945,
          1.3710989009801904,
          1.4765680472094358,
          1.5820371934386812,
          2.1093829245849083,
          4.218765849169817
         ],
         "y": [
          2.7238058110693872,
          2.8457175889564312,
          2.8457174169092143,
          2.845717389242205,
          2.8457174831691807,
          2.8457174834035794,
          2.6408335881986456,
          2.6408334040999843,
          2.640833404538808,
          2.5574636736410863,
          2.9156283129479186
         ]
        },
        {
         "line": {
          "color": "rgba(50, 171, 96, 0.47136563876652)",
          "dash": "solid",
          "shape": "linear",
          "width": 1.3
         },
         "mode": "lines",
         "name": "SFA 20:0",
         "text": "",
         "type": "scatter",
         "x": [
          0.5273457311462271,
          0.7910185967193406,
          0.9492223160632087,
          1.0546914622924541,
          1.1601606085216996,
          1.265629754750945,
          1.3710989009801904,
          1.4765680472094358,
          1.5820371934386812,
          2.1093829245849083,
          4.218765849169817
         ],
         "y": [
          1.2144435467198085,
          1.2482723893751118,
          1.2482723187332938,
          1.2482723070784318,
          1.2482723528984503,
          1.2482723528931121,
          1.1723051197596548,
          1.172305051688202,
          1.172305051331429,
          1.1327562558294884,
          1.2520341289444556
         ]
        },
        {
         "line": {
          "color": "rgba(128, 0, 128, 0.47136563876652)",
          "dash": "solid",
          "shape": "linear",
          "width": 1.3
         },
         "mode": "lines",
         "name": "SFA 21:0",
         "text": "",
         "type": "scatter",
         "x": [
          0.5273457311462271,
          0.7910185967193406,
          0.9492223160632087,
          1.0546914622924541,
          1.1601606085216996,
          1.265629754750945,
          1.3710989009801904,
          1.4765680472094358,
          1.5820371934386812,
          2.1093829245849083,
          4.218765849169817
         ],
         "y": [
          0,
          0,
          0,
          0,
          0,
          0,
          0,
          0,
          0,
          0,
          0
         ]
        },
        {
         "line": {
          "color": "rgba(219, 64, 82, 0.47136563876652)",
          "dash": "solid",
          "shape": "linear",
          "width": 1.3
         },
         "mode": "lines",
         "name": "SFA 22:0",
         "text": "",
         "type": "scatter",
         "x": [
          0.5273457311462271,
          0.7910185967193406,
          0.9492223160632087,
          1.0546914622924541,
          1.1601606085216996,
          1.265629754750945,
          1.3710989009801904,
          1.4765680472094358,
          1.5820371934386812,
          2.1093829245849083,
          4.218765849169817
         ],
         "y": [
          2.5030685255171923,
          2.567785776119989,
          2.5677856349752175,
          2.567785612014018,
          2.567785707608409,
          2.567785707570427,
          2.4151618107823842,
          2.4151616740935316,
          2.4151616731768994,
          2.3326573003780493,
          2.5565488875008517
         ]
        },
        {
         "line": {
          "color": "rgba(219, 64, 82, 0.43612334801762126)",
          "dash": "solid",
          "shape": "linear",
          "width": 1.3
         },
         "mode": "lines",
         "name": "SFA 23:0",
         "text": "",
         "type": "scatter",
         "x": [
          0.5273457311462271,
          0.7910185967193406,
          0.9492223160632087,
          1.0546914622924541,
          1.1601606085216996,
          1.265629754750945,
          1.3710989009801904,
          1.4765680472094358,
          1.5820371934386812,
          2.1093829245849083,
          4.218765849169817
         ],
         "y": [
          0,
          0,
          0,
          0,
          0,
          0,
          0,
          0,
          0,
          0,
          0
         ]
        },
        {
         "line": {
          "color": "rgba(0, 128, 128, 0.43612334801762126)",
          "dash": "solid",
          "shape": "linear",
          "width": 1.3
         },
         "mode": "lines",
         "name": "SFA 24:0",
         "text": "",
         "type": "scatter",
         "x": [
          0.5273457311462271,
          0.7910185967193406,
          0.9492223160632087,
          1.0546914622924541,
          1.1601606085216996,
          1.265629754750945,
          1.3710989009801904,
          1.4765680472094358,
          1.5820371934386812,
          2.1093829245849083,
          4.218765849169817
         ],
         "y": [
          1.4391983186093005,
          1.4756526646975632,
          1.47565258352768,
          1.475652570337044,
          1.4756526253968332,
          1.4756526253770954,
          1.3883124293856208,
          1.388312351161816,
          1.38831235060724,
          1.3405536747177529,
          1.4722489978557325
         ]
        },
        {
         "line": {
          "color": "rgba(255, 255, 51, 0.43612334801762126)",
          "dash": "solid",
          "shape": "linear",
          "width": 1.3
         },
         "mode": "lines",
         "name": "SFA 4:0",
         "text": "",
         "type": "scatter",
         "x": [
          0.5273457311462271,
          0.7910185967193406,
          0.9492223160632087,
          1.0546914622924541,
          1.1601606085216996,
          1.265629754750945,
          1.3710989009801904,
          1.4765680472094358,
          1.5820371934386812,
          2.1093829245849083,
          4.218765849169817
         ],
         "y": [
          0,
          0,
          0,
          0,
          0,
          0,
          0,
          0,
          0,
          0,
          0
         ]
        },
        {
         "line": {
          "color": "rgba(128, 128, 0, 0.43612334801762126)",
          "dash": "solid",
          "shape": "linear",
          "width": 1.3
         },
         "mode": "lines",
         "name": "SFA 5:0",
         "text": "",
         "type": "scatter",
         "x": [
          0.5273457311462271,
          0.7910185967193406,
          0.9492223160632087,
          1.0546914622924541,
          1.1601606085216996,
          1.265629754750945,
          1.3710989009801904,
          1.4765680472094358,
          1.5820371934386812,
          2.1093829245849083,
          4.218765849169817
         ],
         "y": [
          0,
          0,
          0,
          0,
          0,
          0,
          0,
          0,
          0,
          0,
          0
         ]
        },
        {
         "line": {
          "color": "rgba(251, 128, 114, 0.43612334801762126)",
          "dash": "solid",
          "shape": "linear",
          "width": 1.3
         },
         "mode": "lines",
         "name": "SFA 6:0",
         "text": "",
         "type": "scatter",
         "x": [
          0.5273457311462271,
          0.7910185967193406,
          0.9492223160632087,
          1.0546914622924541,
          1.1601606085216996,
          1.265629754750945,
          1.3710989009801904,
          1.4765680472094358,
          1.5820371934386812,
          2.1093829245849083,
          4.218765849169817
         ],
         "y": [
          0,
          0,
          0,
          0,
          0,
          0,
          0,
          0,
          0,
          0,
          0
         ]
        },
        {
         "line": {
          "color": "rgba(128, 177, 211, 0.43612334801762126)",
          "dash": "solid",
          "shape": "linear",
          "width": 1.3
         },
         "mode": "lines",
         "name": "SFA 7:0",
         "text": "",
         "type": "scatter",
         "x": [
          0.5273457311462271,
          0.7910185967193406,
          0.9492223160632087,
          1.0546914622924541,
          1.1601606085216996,
          1.265629754750945,
          1.3710989009801904,
          1.4765680472094358,
          1.5820371934386812,
          2.1093829245849083,
          4.218765849169817
         ],
         "y": [
          0,
          0,
          0,
          0,
          0,
          0,
          0,
          0,
          0,
          0,
          0
         ]
        },
        {
         "line": {
          "color": "rgba(255, 153, 51, 0.43612334801762126)",
          "dash": "solid",
          "shape": "linear",
          "width": 1.3
         },
         "mode": "lines",
         "name": "SFA 8:0",
         "text": "",
         "type": "scatter",
         "x": [
          0.5273457311462271,
          0.7910185967193406,
          0.9492223160632087,
          1.0546914622924541,
          1.1601606085216996,
          1.265629754750945,
          1.3710989009801904,
          1.4765680472094358,
          1.5820371934386812,
          2.1093829245849083,
          4.218765849169817
         ],
         "y": [
          0.0003820026131850172,
          0.0003045161259311982,
          0.0003045163991240479,
          0.00030451652135513925,
          0.0003045165472803642,
          0.0003045165490561706,
          0.00030479328434208675,
          0.00030479327964248845,
          0.000304793266061311,
          9.110826131604755e-05,
          0.0005957552386072747
         ]
        },
        {
         "line": {
          "color": "rgba(55, 128, 191, 0.43612334801762126)",
          "dash": "solid",
          "shape": "linear",
          "width": 1.3
         },
         "mode": "lines",
         "name": "SFA 9:0",
         "text": "",
         "type": "scatter",
         "x": [
          0.5273457311462271,
          0.7910185967193406,
          0.9492223160632087,
          1.0546914622924541,
          1.1601606085216996,
          1.265629754750945,
          1.3710989009801904,
          1.4765680472094358,
          1.5820371934386812,
          2.1093829245849083,
          4.218765849169817
         ],
         "y": [
          0,
          0,
          0,
          0,
          0,
          0,
          0,
          0,
          0,
          0,
          0
         ]
        },
        {
         "line": {
          "color": "rgba(50, 171, 96, 0.43612334801762126)",
          "dash": "solid",
          "shape": "linear",
          "width": 1.3
         },
         "mode": "lines",
         "name": "Selenium, Se",
         "text": "",
         "type": "scatter",
         "x": [
          0.5273457311462271,
          0.7910185967193406,
          0.9492223160632087,
          1.0546914622924541,
          1.1601606085216996,
          1.265629754750945,
          1.3710989009801904,
          1.4765680472094358,
          1.5820371934386812,
          2.1093829245849083,
          4.218765849169817
         ],
         "y": [
          54.47314012995612,
          58.37418847247207,
          58.37418031711636,
          58.3741783033486,
          58.37417717793018,
          58.3741773423943,
          53.1510058770241,
          53.15100110063723,
          53.15100113165612,
          51.89959579133499,
          54.87951223212768
         ]
        },
        {
         "line": {
          "color": "rgba(128, 0, 128, 0.43612334801762126)",
          "dash": "solid",
          "shape": "linear",
          "width": 1.3
         },
         "mode": "lines",
         "name": "Serine",
         "text": "",
         "type": "scatter",
         "x": [
          0.5273457311462271,
          0.7910185967193406,
          0.9492223160632087,
          1.0546914622924541,
          1.1601606085216996,
          1.265629754750945,
          1.3710989009801904,
          1.4765680472094358,
          1.5820371934386812,
          2.1093829245849083,
          4.218765849169817
         ],
         "y": [
          5.644309541721456,
          5.69778292467487,
          5.697782726737103,
          5.697782672543779,
          5.697782733562396,
          5.697782734686832,
          5.638069205873765,
          5.638069151860751,
          5.638069149099827,
          5.574506145390436,
          5.3337198052420876
         ]
        },
        {
         "line": {
          "color": "rgba(128, 0, 128, 0.40088105726872253)",
          "dash": "solid",
          "shape": "linear",
          "width": 1.3
         },
         "mode": "lines",
         "name": "Sodium, Na",
         "text": "",
         "type": "scatter",
         "x": [
          0.5273457311462271,
          0.7910185967193406,
          0.9492223160632087,
          1.0546914622924541,
          1.1601606085216996,
          1.265629754750945,
          1.3710989009801904,
          1.4765680472094358,
          1.5820371934386812,
          2.1093829245849083,
          4.218765849169817
         ],
         "y": [
          1402.007088686987,
          1499.7055527422117,
          1499.7054652225736,
          1499.7054300301613,
          1499.705430633498,
          1499.7054300387945,
          1452.5035870506101,
          1452.5035459404835,
          1452.5035508185688,
          1513.42625510375,
          1193.9727026058652
         ]
        },
        {
         "line": {
          "color": "rgba(219, 64, 82, 0.40088105726872253)",
          "dash": "solid",
          "shape": "linear",
          "width": 1.3
         },
         "mode": "lines",
         "name": "Stachyose",
         "text": "",
         "type": "scatter",
         "x": [
          0.5273457311462271,
          0.7910185967193406,
          0.9492223160632087,
          1.0546914622924541,
          1.1601606085216996,
          1.265629754750945,
          1.3710989009801904,
          1.4765680472094358,
          1.5820371934386812,
          2.1093829245849083,
          4.218765849169817
         ],
         "y": [
          2.652149580437496,
          2.6521495941516986,
          2.6521495845275145,
          2.6521495826917567,
          2.652149580281711,
          2.652149580354513,
          2.6521495807558684,
          2.6521495803203528,
          2.6521495802831843,
          2.652149580552045,
          2.6521495925603737
         ]
        },
        {
         "line": {
          "color": "rgba(0, 128, 128, 0.40088105726872253)",
          "dash": "solid",
          "shape": "linear",
          "width": 1.3
         },
         "mode": "lines",
         "name": "Starch",
         "text": "",
         "type": "scatter",
         "x": [
          0.5273457311462271,
          0.7910185967193406,
          0.9492223160632087,
          1.0546914622924541,
          1.1601606085216996,
          1.265629754750945,
          1.3710989009801904,
          1.4765680472094358,
          1.5820371934386812,
          2.1093829245849083,
          4.218765849169817
         ],
         "y": [
          5.796803456213076,
          12.730077811164346,
          12.73006686031395,
          12.730064404081743,
          12.730062180525623,
          12.73006238209917,
          4.526970322972392,
          4.526962805873938,
          4.526962983365252,
          3.5524823115314454,
          63.19221987006757
         ]
        },
        {
         "line": {
          "color": "rgba(255, 255, 51, 0.40088105726872253)",
          "dash": "solid",
          "shape": "linear",
          "width": 1.3
         },
         "mode": "lines",
         "name": "Stigmasterol",
         "text": "",
         "type": "scatter",
         "x": [
          0.5273457311462271,
          0.7910185967193406,
          0.9492223160632087,
          1.0546914622924541,
          1.1601606085216996,
          1.265629754750945,
          1.3710989009801904,
          1.4765680472094358,
          1.5820371934386812,
          2.1093829245849083,
          4.218765849169817
         ],
         "y": [
          0.7640052542901228,
          0.6090325645330251,
          0.6090329281990801,
          0.6090331309208142,
          0.6090330948418988,
          0.6090331013625999,
          0.6095865761923398,
          0.6095865615487569,
          0.609586538046322,
          0.18221654619631933,
          5.1134104227840265
         ]
        },
        {
         "line": {
          "color": "rgba(128, 128, 0, 0.40088105726872253)",
          "dash": "solid",
          "shape": "linear",
          "width": 1.3
         },
         "mode": "lines",
         "name": "Sucrose",
         "text": "",
         "type": "scatter",
         "x": [
          0.5273457311462271,
          0.7910185967193406,
          0.9492223160632087,
          1.0546914622924541,
          1.1601606085216996,
          1.265629754750945,
          1.3710989009801904,
          1.4765680472094358,
          1.5820371934386812,
          2.1093829245849083,
          4.218765849169817
         ],
         "y": [
          10.572701149097304,
          12.850190538103941,
          12.850190536493615,
          12.850190231940493,
          12.850189421236905,
          12.85018941281747,
          12.898648551702312,
          12.89864862258082,
          12.898648744109524,
          14.728648818102842,
          20.06645594927811
         ]
        },
        {
         "line": {
          "color": "rgba(251, 128, 114, 0.40088105726872253)",
          "dash": "solid",
          "shape": "linear",
          "width": 1.3
         },
         "mode": "lines",
         "name": "Sugars, Total",
         "text": "",
         "type": "scatter",
         "x": [
          0.5273457311462271,
          0.7910185967193406,
          0.9492223160632087,
          1.0546914622924541,
          1.1601606085216996,
          1.265629754750945,
          1.3710989009801904,
          1.4765680472094358,
          1.5820371934386812,
          2.1093829245849083,
          4.218765849169817
         ],
         "y": [
          26.421801638685267,
          31.420239331066448,
          31.42024050041167,
          31.42024273670417,
          31.420251813180673,
          31.42025179479524,
          19.145563689286888,
          19.145552765829258,
          19.14555240331151,
          8.36988132062483,
          8.73483370803737
         ]
        },
        {
         "line": {
          "color": "rgba(128, 177, 211, 0.40088105726872253)",
          "dash": "solid",
          "shape": "linear",
          "width": 1.3
         },
         "mode": "lines",
         "name": "Sugars, total including NLEA",
         "text": "",
         "type": "scatter",
         "x": [
          0.5273457311462271,
          0.7910185967193406,
          0.9492223160632087,
          1.0546914622924541,
          1.1601606085216996,
          1.265629754750945,
          1.3710989009801904,
          1.4765680472094358,
          1.5820371934386812,
          2.1093829245849083,
          4.218765849169817
         ],
         "y": [
          3.242261598387196,
          3.699758786696149,
          3.6997579032027956,
          3.699756721185133,
          3.699752634601116,
          3.699752636576609,
          7.451187741407327,
          7.4511911038834935,
          7.4511913753694134,
          13.167042892609494,
          19.687365816534292
         ]
        },
        {
         "line": {
          "color": "rgba(255, 153, 51, 0.40088105726872253)",
          "dash": "solid",
          "shape": "linear",
          "width": 1.3
         },
         "mode": "lines",
         "name": "TFA 14:1 t",
         "text": "",
         "type": "scatter",
         "x": [
          0.5273457311462271,
          0.7910185967193406,
          0.9492223160632087,
          1.0546914622924541,
          1.1601606085216996,
          1.265629754750945,
          1.3710989009801904,
          1.4765680472094358,
          1.5820371934386812,
          2.1093829245849083,
          4.218765849169817
         ],
         "y": [
          0,
          0,
          0,
          0,
          0,
          0,
          0,
          0,
          0,
          0,
          0
         ]
        },
        {
         "line": {
          "color": "rgba(55, 128, 191, 0.40088105726872253)",
          "dash": "solid",
          "shape": "linear",
          "width": 1.3
         },
         "mode": "lines",
         "name": "TFA 16:1 t",
         "text": "",
         "type": "scatter",
         "x": [
          0.5273457311462271,
          0.7910185967193406,
          0.9492223160632087,
          1.0546914622924541,
          1.1601606085216996,
          1.265629754750945,
          1.3710989009801904,
          1.4765680472094358,
          1.5820371934386812,
          2.1093829245849083,
          4.218765849169817
         ],
         "y": [
          0,
          0,
          0,
          0,
          0,
          0,
          0,
          0,
          0,
          0,
          0
         ]
        },
        {
         "line": {
          "color": "rgba(50, 171, 96, 0.40088105726872253)",
          "dash": "solid",
          "shape": "linear",
          "width": 1.3
         },
         "mode": "lines",
         "name": "TFA 18:1 t",
         "text": "",
         "type": "scatter",
         "x": [
          0.5273457311462271,
          0.7910185967193406,
          0.9492223160632087,
          1.0546914622924541,
          1.1601606085216996,
          1.265629754750945,
          1.3710989009801904,
          1.4765680472094358,
          1.5820371934386812,
          2.1093829245849083,
          4.218765849169817
         ],
         "y": [
          0.004960569832357316,
          0.004960569987400262,
          0.004960569895830403,
          0.004960569873284899,
          0.004960569829839424,
          0.004960569830573875,
          0.004960569833297099,
          0.004960569830319662,
          0.004960569830152922,
          0.00496056983421725,
          0.004960570192751338
         ]
        },
        {
         "line": {
          "color": "rgba(50, 171, 96, 0.3656387665198238)",
          "dash": "solid",
          "shape": "linear",
          "width": 1.3
         },
         "mode": "lines",
         "name": "TFA 18:2 t",
         "text": "",
         "type": "scatter",
         "x": [
          0.5273457311462271,
          0.7910185967193406,
          0.9492223160632087,
          1.0546914622924541,
          1.1601606085216996,
          1.265629754750945,
          1.3710989009801904,
          1.4765680472094358,
          1.5820371934386812,
          2.1093829245849083,
          4.218765849169817
         ],
         "y": [
          0.006868481302928597,
          0.006868481338445352,
          0.006868481313520841,
          0.006868481308766635,
          0.006868481302525149,
          0.006868481302713689,
          0.006868481303753112,
          0.006868481302625222,
          0.006868481302528964,
          0.006868481303225255,
          0.006868481334324172
         ]
        },
        {
         "line": {
          "color": "rgba(128, 0, 128, 0.3656387665198238)",
          "dash": "solid",
          "shape": "linear",
          "width": 1.3
         },
         "mode": "lines",
         "name": "TFA 18:2 t not further defined",
         "text": "",
         "type": "scatter",
         "x": [
          0.5273457311462271,
          0.7910185967193406,
          0.9492223160632087,
          1.0546914622924541,
          1.1601606085216996,
          1.265629754750945,
          1.3710989009801904,
          1.4765680472094358,
          1.5820371934386812,
          2.1093829245849083,
          4.218765849169817
         ],
         "y": [
          0.006868481307144394,
          0.006868481565572083,
          0.0068684814163481895,
          0.006868481377886977,
          0.0068684813029344,
          0.006868481304132173,
          0.006868481308299569,
          0.006868481303696868,
          0.006868481303394545,
          0.006868481309415931,
          0.006868481893072139
         ]
        },
        {
         "line": {
          "color": "rgba(219, 64, 82, 0.3656387665198238)",
          "dash": "solid",
          "shape": "linear",
          "width": 1.3
         },
         "mode": "lines",
         "name": "TFA 18:3 t",
         "text": "",
         "type": "scatter",
         "x": [
          0.5273457311462271,
          0.7910185967193406,
          0.9492223160632087,
          1.0546914622924541,
          1.1601606085216996,
          1.265629754750945,
          1.3710989009801904,
          1.4765680472094358,
          1.5820371934386812,
          2.1093829245849083,
          4.218765849169817
         ],
         "y": [
          0,
          0,
          0,
          0,
          0,
          0,
          0,
          0,
          0,
          0,
          0
         ]
        },
        {
         "line": {
          "color": "rgba(0, 128, 128, 0.3656387665198238)",
          "dash": "solid",
          "shape": "linear",
          "width": 1.3
         },
         "mode": "lines",
         "name": "TFA 20:1 t",
         "text": "",
         "type": "scatter",
         "x": [
          0.5273457311462271,
          0.7910185967193406,
          0.9492223160632087,
          1.0546914622924541,
          1.1601606085216996,
          1.265629754750945,
          1.3710989009801904,
          1.4765680472094358,
          1.5820371934386812,
          2.1093829245849083,
          4.218765849169817
         ],
         "y": [
          0,
          0,
          0,
          0,
          0,
          0,
          0,
          0,
          0,
          0,
          0
         ]
        },
        {
         "line": {
          "color": "rgba(255, 255, 51, 0.3656387665198238)",
          "dash": "solid",
          "shape": "linear",
          "width": 1.3
         },
         "mode": "lines",
         "name": "TFA 22:1 t",
         "text": "",
         "type": "scatter",
         "x": [
          0.5273457311462271,
          0.7910185967193406,
          0.9492223160632087,
          1.0546914622924541,
          1.1601606085216996,
          1.265629754750945,
          1.3710989009801904,
          1.4765680472094358,
          1.5820371934386812,
          2.1093829245849083,
          4.218765849169817
         ],
         "y": [
          0,
          0,
          0,
          0,
          0,
          0,
          0,
          0,
          0,
          0,
          0
         ]
        },
        {
         "line": {
          "color": "rgba(128, 128, 0, 0.3656387665198238)",
          "dash": "solid",
          "shape": "linear",
          "width": 1.3
         },
         "mode": "lines",
         "name": "Theobromine",
         "text": "",
         "type": "scatter",
         "x": [
          0.5273457311462271,
          0.7910185967193406,
          0.9492223160632087,
          1.0546914622924541,
          1.1601606085216996,
          1.265629754750945,
          1.3710989009801904,
          1.4765680472094358,
          1.5820371934386812,
          2.1093829245849083,
          4.218765849169817
         ],
         "y": [
          0,
          0,
          0,
          0,
          0,
          0,
          0,
          0,
          0,
          0,
          0
         ]
        },
        {
         "line": {
          "color": "rgba(251, 128, 114, 0.3656387665198238)",
          "dash": "solid",
          "shape": "linear",
          "width": 1.3
         },
         "mode": "lines",
         "name": "Thiamin",
         "text": "",
         "type": "scatter",
         "x": [
          0.5273457311462271,
          0.7910185967193406,
          0.9492223160632087,
          1.0546914622924541,
          1.1601606085216996,
          1.265629754750945,
          1.3710989009801904,
          1.4765680472094358,
          1.5820371934386812,
          2.1093829245849083,
          4.218765849169817
         ],
         "y": [
          1.5436579944770341,
          1.6054259978973322,
          1.6054259164445306,
          1.6054258929024185,
          1.605425892552984,
          1.6054258927516671,
          1.5653603968670018,
          1.5653603604857789,
          1.5653603624753472,
          1.5787667334317694,
          1.6849116518755098
         ]
        },
        {
         "line": {
          "color": "rgba(128, 177, 211, 0.3656387665198238)",
          "dash": "solid",
          "shape": "linear",
          "width": 1.3
         },
         "mode": "lines",
         "name": "Threonine",
         "text": "",
         "type": "scatter",
         "x": [
          0.5273457311462271,
          0.7910185967193406,
          0.9492223160632087,
          1.0546914622924541,
          1.1601606085216996,
          1.265629754750945,
          1.3710989009801904,
          1.4765680472094358,
          1.5820371934386812,
          2.1093829245849083,
          4.218765849169817
         ],
         "y": [
          3.4948294129560398,
          3.5316755751132516,
          3.53167542831615,
          3.53167535525278,
          3.5316752415944928,
          3.531675242514947,
          3.640627838173821,
          3.640627935247093,
          3.640627942870246,
          3.8015716568490205,
          4.092241495960126
         ]
        },
        {
         "line": {
          "color": "rgba(255, 153, 51, 0.3656387665198238)",
          "dash": "solid",
          "shape": "linear",
          "width": 1.3
         },
         "mode": "lines",
         "name": "Tocopherol, beta",
         "text": "",
         "type": "scatter",
         "x": [
          0.5273457311462271,
          0.7910185967193406,
          0.9492223160632087,
          1.0546914622924541,
          1.1601606085216996,
          1.265629754750945,
          1.3710989009801904,
          1.4765680472094358,
          1.5820371934386812,
          2.1093829245849083,
          4.218765849169817
         ],
         "y": [
          0.022050453137278526,
          0.028321756052344143,
          0.02832175581426098,
          0.028321756371103422,
          0.028321746502271757,
          0.02832174674114888,
          0.027569627337733476,
          0.027569626266810837,
          0.02756962639783406,
          0.029327858638172093,
          0.08475759561197302
         ]
        },
        {
         "line": {
          "color": "rgba(55, 128, 191, 0.3656387665198238)",
          "dash": "solid",
          "shape": "linear",
          "width": 1.3
         },
         "mode": "lines",
         "name": "Tocopherol, delta",
         "text": "",
         "type": "scatter",
         "x": [
          0.5273457311462271,
          0.7910185967193406,
          0.9492223160632087,
          1.0546914622924541,
          1.1601606085216996,
          1.265629754750945,
          1.3710989009801904,
          1.4765680472094358,
          1.5820371934386812,
          2.1093829245849083,
          4.218765849169817
         ],
         "y": [
          5.344907925327463,
          5.4351778650770335,
          5.435177767723875,
          5.435177748084186,
          5.4351777491989175,
          5.435177749605233,
          5.343363820606672,
          5.343363736708896,
          5.343363738847891,
          5.339090039827601,
          5.506486941036004
         ]
        },
        {
         "line": {
          "color": "rgba(55, 128, 191, 0.3303964757709253)",
          "dash": "solid",
          "shape": "linear",
          "width": 1.3
         },
         "mode": "lines",
         "name": "Tocopherol, gamma",
         "text": "",
         "type": "scatter",
         "x": [
          0.5273457311462271,
          0.7910185967193406,
          0.9492223160632087,
          1.0546914622924541,
          1.1601606085216996,
          1.265629754750945,
          1.3710989009801904,
          1.4765680472094358,
          1.5820371934386812,
          2.1093829245849083,
          4.218765849169817
         ],
         "y": [
          8.795610609063234,
          9.137318982098817,
          9.137318535516528,
          9.137318454447698,
          9.137318383674524,
          9.137318388561718,
          8.77013185775389,
          8.770131517769704,
          8.770131522642691,
          8.699615483312927,
          9.495365381324106
         ]
        },
        {
         "line": {
          "color": "rgba(50, 171, 96, 0.3303964757709253)",
          "dash": "solid",
          "shape": "linear",
          "width": 1.3
         },
         "mode": "lines",
         "name": "Tocotrienol, alpha",
         "text": "",
         "type": "scatter",
         "x": [
          0.5273457311462271,
          0.7910185967193406,
          0.9492223160632087,
          1.0546914622924541,
          1.1601606085216996,
          1.265629754750945,
          1.3710989009801904,
          1.4765680472094358,
          1.5820371934386812,
          2.1093829245849083,
          4.218765849169817
         ],
         "y": [
          0.006770348533295077,
          0.008225631677860392,
          0.008225624764074395,
          0.008225620936673398,
          0.00822560637942626,
          0.008225606725778477,
          0.015377888890537999,
          0.015377895094620538,
          0.015377895519585679,
          0.02568352809997111,
          0.04736670743921228
         ]
        },
        {
         "line": {
          "color": "rgba(128, 0, 128, 0.3303964757709253)",
          "dash": "solid",
          "shape": "linear",
          "width": 1.3
         },
         "mode": "lines",
         "name": "Tocotrienol, beta",
         "text": "",
         "type": "scatter",
         "x": [
          0.5273457311462271,
          0.7910185967193406,
          0.9492223160632087,
          1.0546914622924541,
          1.1601606085216996,
          1.265629754750945,
          1.3710989009801904,
          1.4765680472094358,
          1.5820371934386812,
          2.1093829245849083,
          4.218765849169817
         ],
         "y": [
          1.1637884742360234e-10,
          0.007915484177646157,
          0.00791547842966281,
          0.007915477190543157,
          0.007915478221062734,
          0.007915478251355372,
          7.114104229334219e-09,
          8.545246248428418e-12,
          2.2146074971933365e-10,
          2.2439776484365378e-10,
          0.013560678063660852
         ]
        },
        {
         "line": {
          "color": "rgba(219, 64, 82, 0.3303964757709253)",
          "dash": "solid",
          "shape": "linear",
          "width": 1.3
         },
         "mode": "lines",
         "name": "Tocotrienol, delta",
         "text": "",
         "type": "scatter",
         "x": [
          0.5273457311462271,
          0.7910185967193406,
          0.9492223160632087,
          1.0546914622924541,
          1.1601606085216996,
          1.265629754750945,
          1.3710989009801904,
          1.4765680472094358,
          1.5820371934386812,
          2.1093829245849083,
          4.218765849169817
         ],
         "y": [
          0,
          0,
          0,
          0,
          0,
          0,
          0,
          0,
          0,
          0,
          0
         ]
        },
        {
         "line": {
          "color": "rgba(0, 128, 128, 0.3303964757709253)",
          "dash": "solid",
          "shape": "linear",
          "width": 1.3
         },
         "mode": "lines",
         "name": "Tocotrienol, gamma",
         "text": "",
         "type": "scatter",
         "x": [
          0.5273457311462271,
          0.7910185967193406,
          0.9492223160632087,
          1.0546914622924541,
          1.1601606085216996,
          1.265629754750945,
          1.3710989009801904,
          1.4765680472094358,
          1.5820371934386812,
          2.1093829245849083,
          4.218765849169817
         ],
         "y": [
          0,
          0,
          0,
          0,
          0,
          0,
          0,
          0,
          0,
          0,
          0
         ]
        },
        {
         "line": {
          "color": "rgba(255, 255, 51, 0.3303964757709253)",
          "dash": "solid",
          "shape": "linear",
          "width": 1.3
         },
         "mode": "lines",
         "name": "Total dietary fiber (AOAC 2011.25)",
         "text": "",
         "type": "scatter",
         "x": [
          0.5273457311462271,
          0.7910185967193406,
          0.9492223160632087,
          1.0546914622924541,
          1.1601606085216996,
          1.265629754750945,
          1.3710989009801904,
          1.4765680472094358,
          1.5820371934386812,
          2.1093829245849083,
          4.218765849169817
         ],
         "y": [
          6.73167645743317,
          7.344155840229124,
          7.344156072587083,
          7.344156782870189,
          7.344159636848353,
          7.34415963127908,
          3.4463857224656773,
          3.446382251609833,
          3.4463821350191246,
          1.0489053797369093e-07,
          6.669813248095364e-07
         ]
        },
        {
         "line": {
          "color": "rgba(128, 128, 0, 0.3303964757709253)",
          "dash": "solid",
          "shape": "linear",
          "width": 1.3
         },
         "mode": "lines",
         "name": "Total fat (NLEA)",
         "text": "",
         "type": "scatter",
         "x": [
          0.5273457311462271,
          0.7910185967193406,
          0.9492223160632087,
          1.0546914622924541,
          1.1601606085216996,
          1.265629754750945,
          1.3710989009801904,
          1.4765680472094358,
          1.5820371934386812,
          2.1093829245849083,
          4.218765849169817
         ],
         "y": [
          11.50302722030913,
          11.503027279791013,
          11.503027238048551,
          11.503027230086415,
          11.503027219633454,
          11.503027219949212,
          11.50302722168999,
          11.503027219801051,
          11.503027219639842,
          11.50302722080596,
          11.503027272889042
         ]
        },
        {
         "line": {
          "color": "rgba(251, 128, 114, 0.3303964757709253)",
          "dash": "solid",
          "shape": "linear",
          "width": 1.3
         },
         "mode": "lines",
         "name": "Total lipid (fat)",
         "text": "",
         "type": "scatter",
         "x": [
          0.5273457311462271,
          0.7910185967193406,
          0.9492223160632087,
          1.0546914622924541,
          1.1601606085216996,
          1.265629754750945,
          1.3710989009801904,
          1.4765680472094358,
          1.5820371934386812,
          2.1093829245849083,
          4.218765849169817
         ],
         "y": [
          106.71852435515835,
          108.689971535624,
          108.68996921448563,
          108.68996988727847,
          108.6899735362978,
          108.68997356853363,
          102.26771853972859,
          102.26771269852428,
          102.2677124998924,
          96.30522847132397,
          113.96506602206091
         ]
        },
        {
         "line": {
          "color": "rgba(128, 177, 211, 0.3303964757709253)",
          "dash": "solid",
          "shape": "linear",
          "width": 1.3
         },
         "mode": "lines",
         "name": "Tryptophan",
         "text": "",
         "type": "scatter",
         "x": [
          0.5273457311462271,
          0.7910185967193406,
          0.9492223160632087,
          1.0546914622924541,
          1.1601606085216996,
          1.265629754750945,
          1.3710989009801904,
          1.4765680472094358,
          1.5820371934386812,
          2.1093829245849083,
          4.218765849169817
         ],
         "y": [
          1.0914106609375696,
          1.1031694504330865,
          1.1031694104839078,
          1.1031693988857099,
          1.1031694029110002,
          1.103169403320614,
          1.0950642802958948,
          1.0950642727812698,
          1.0950642723956856,
          1.0870603129636571,
          1.0480878783185703
         ]
        },
        {
         "line": {
          "color": "rgba(255, 153, 51, 0.3303964757709253)",
          "dash": "solid",
          "shape": "linear",
          "width": 1.3
         },
         "mode": "lines",
         "name": "Tyrosine",
         "text": "",
         "type": "scatter",
         "x": [
          0.5273457311462271,
          0.7910185967193406,
          0.9492223160632087,
          1.0546914622924541,
          1.1601606085216996,
          1.265629754750945,
          1.3710989009801904,
          1.4765680472094358,
          1.5820371934386812,
          2.1093829245849083,
          4.218765849169817
         ],
         "y": [
          3.42194443536936,
          3.4780873176516875,
          3.478087163931205,
          3.4780871247812235,
          3.4780871580481425,
          3.4780871587155464,
          3.4073397875541147,
          3.4073397234231044,
          3.4073397237619973,
          3.3795360065295257,
          3.6473093634157356
         ]
        },
        {
         "line": {
          "color": "rgba(255, 153, 51, 0.29515418502202656)",
          "dash": "solid",
          "shape": "linear",
          "width": 1.3
         },
         "mode": "lines",
         "name": "Valine",
         "text": "",
         "type": "scatter",
         "x": [
          0.5273457311462271,
          0.7910185967193406,
          0.9492223160632087,
          1.0546914622924541,
          1.1601606085216996,
          1.265629754750945,
          1.3710989009801904,
          1.4765680472094358,
          1.5820371934386812,
          2.1093829245849083,
          4.218765849169817
         ],
         "y": [
          4.792183117937258,
          4.825285370011294,
          4.825285195351938,
          4.82528514206584,
          4.825285161490185,
          4.825285162740476,
          4.812902690613706,
          4.812902678665882,
          4.812902677292218,
          4.788306975786796,
          4.731274487722754
         ]
        },
        {
         "line": {
          "color": "rgba(55, 128, 191, 0.29515418502202656)",
          "dash": "solid",
          "shape": "linear",
          "width": 1.3
         },
         "mode": "lines",
         "name": "Verbascose",
         "text": "",
         "type": "scatter",
         "x": [
          0.5273457311462271,
          0.7910185967193406,
          0.9492223160632087,
          1.0546914622924541,
          1.1601606085216996,
          1.265629754750945,
          1.3710989009801904,
          1.4765680472094358,
          1.5820371934386812,
          2.1093829245849083,
          4.218765849169817
         ],
         "y": [
          0.16026456373500061,
          0.16026456456372487,
          0.16026456398215297,
          0.16026456387122148,
          0.1602645637255868,
          0.1602645637299861,
          0.16026456375423928,
          0.16026456372792186,
          0.16026456372567582,
          0.16026456374192263,
          0.160264564467564
         ]
        },
        {
         "line": {
          "color": "rgba(50, 171, 96, 0.29515418502202656)",
          "dash": "solid",
          "shape": "linear",
          "width": 1.3
         },
         "mode": "lines",
         "name": "Vitamin A, IU",
         "text": "",
         "type": "scatter",
         "x": [
          0.5273457311462271,
          0.7910185967193406,
          0.9492223160632087,
          1.0546914622924541,
          1.1601606085216996,
          1.265629754750945,
          1.3710989009801904,
          1.4765680472094358,
          1.5820371934386812,
          2.1093829245849083,
          4.218765849169817
         ],
         "y": [
          5006.824568710873,
          6075.731968330094,
          6075.730427716438,
          6075.726495486211,
          6075.712254434007,
          6075.712231562657,
          20665.429881754564,
          20665.442996581856,
          20665.44396278957,
          41420.36343638267,
          64794.226056113155
         ]
        },
        {
         "line": {
          "color": "rgba(128, 0, 128, 0.29515418502202656)",
          "dash": "solid",
          "shape": "linear",
          "width": 1.3
         },
         "mode": "lines",
         "name": "Vitamin A, RAE",
         "text": "",
         "type": "scatter",
         "x": [
          0.5273457311462271,
          0.7910185967193406,
          0.9492223160632087,
          1.0546914622924541,
          1.1601606085216996,
          1.265629754750945,
          1.3710989009801904,
          1.4765680472094358,
          1.5820371934386812,
          2.1093829245849083,
          4.218765849169817
         ],
         "y": [
          700.0000011629896,
          700.0010018942182,
          700.0009071027104,
          700.0007088906044,
          700.0000011462322,
          700.0000000528734,
          1421.3190496152251,
          1421.3196978852973,
          1421.319745859551,
          2450.7993070161856,
          3608.1299393160953
         ]
        },
        {
         "line": {
          "color": "rgba(219, 64, 82, 0.29515418502202656)",
          "dash": "solid",
          "shape": "linear",
          "width": 1.3
         },
         "mode": "lines",
         "name": "Vitamin B-12",
         "text": "",
         "type": "scatter",
         "x": [
          0.5273457311462271,
          0.7910185967193406,
          0.9492223160632087,
          1.0546914622924541,
          1.1601606085216996,
          1.265629754750945,
          1.3710989009801904,
          1.4765680472094358,
          1.5820371934386812,
          2.1093829245849083,
          4.218765849169817
         ],
         "y": [
          2.400000000161095,
          2.4000000125714385,
          2.4000000038622606,
          2.400000002201035,
          2.400000000020121,
          2.4000000000860013,
          2.400000000449199,
          2.4000000000550887,
          2.4000000000214543,
          2.400000000264754,
          2.4000000111314064
         ]
        },
        {
         "line": {
          "color": "rgba(0, 128, 128, 0.29515418502202656)",
          "dash": "solid",
          "shape": "linear",
          "width": 1.3
         },
         "mode": "lines",
         "name": "Vitamin B-12, added",
         "text": "",
         "type": "scatter",
         "x": [
          0.5273457311462271,
          0.7910185967193406,
          0.9492223160632087,
          1.0546914622924541,
          1.1601606085216996,
          1.265629754750945,
          1.3710989009801904,
          1.4765680472094358,
          1.5820371934386812,
          2.1093829245849083,
          4.218765849169817
         ],
         "y": [
          0,
          0,
          0,
          0,
          0,
          0,
          0,
          0,
          0,
          0,
          0
         ]
        },
        {
         "line": {
          "color": "rgba(255, 255, 51, 0.29515418502202656)",
          "dash": "solid",
          "shape": "linear",
          "width": 1.3
         },
         "mode": "lines",
         "name": "Vitamin B-6",
         "text": "",
         "type": "scatter",
         "x": [
          0.5273457311462271,
          0.7910185967193406,
          0.9492223160632087,
          1.0546914622924541,
          1.1601606085216996,
          1.265629754750945,
          1.3710989009801904,
          1.4765680472094358,
          1.5820371934386812,
          2.1093829245849083,
          4.218765849169817
         ],
         "y": [
          1.8018627255152369,
          1.8240619916886551,
          1.8240619679988632,
          1.8240619775471067,
          1.8240620010225965,
          1.8240620017398244,
          1.7424985646582887,
          1.7424984904061023,
          1.7424984890748858,
          1.6822099944199733,
          2.196417632725249
         ]
        },
        {
         "line": {
          "color": "rgba(128, 128, 0, 0.29515418502202656)",
          "dash": "solid",
          "shape": "linear",
          "width": 1.3
         },
         "mode": "lines",
         "name": "Vitamin C, total ascorbic acid",
         "text": "",
         "type": "scatter",
         "x": [
          0.5273457311462271,
          0.7910185967193406,
          0.9492223160632087,
          1.0546914622924541,
          1.1601606085216996,
          1.265629754750945,
          1.3710989009801904,
          1.4765680472094358,
          1.5820371934386812,
          2.1093829245849083,
          4.218765849169817
         ],
         "y": [
          75.00000003667833,
          75.0000026497281,
          75.00000099701171,
          75.00000061919751,
          75.0000000041265,
          75.0000000150515,
          75.00000005395772,
          75.00000001041239,
          75.00000000584399,
          75.00000005484752,
          75.0000032882538
         ]
        },
        {
         "line": {
          "color": "rgba(251, 128, 114, 0.29515418502202656)",
          "dash": "solid",
          "shape": "linear",
          "width": 1.3
         },
         "mode": "lines",
         "name": "Vitamin D (D2 + D3)",
         "text": "",
         "type": "scatter",
         "x": [
          0.5273457311462271,
          0.7910185967193406,
          0.9492223160632087,
          1.0546914622924541,
          1.1601606085216996,
          1.265629754750945,
          1.3710989009801904,
          1.4765680472094358,
          1.5820371934386812,
          2.1093829245849083,
          4.218765849169817
         ],
         "y": [
          4.157720682040705,
          4.157720703604515,
          4.157720688472201,
          4.157720685586203,
          4.157720681795339,
          4.157720681909677,
          4.1577206825405195,
          4.157720681856098,
          4.15772068179779,
          4.157720682220597,
          4.157720701112896
         ]
        },
        {
         "line": {
          "color": "rgba(128, 177, 211, 0.29515418502202656)",
          "dash": "solid",
          "shape": "linear",
          "width": 1.3
         },
         "mode": "lines",
         "name": "Vitamin D (D2 + D3), International Units",
         "text": "",
         "type": "scatter",
         "x": [
          0.5273457311462271,
          0.7910185967193406,
          0.9492223160632087,
          1.0546914622924541,
          1.1601606085216996,
          1.265629754750945,
          1.3710989009801904,
          1.4765680472094358,
          1.5820371934386812,
          2.1093829245849083,
          4.218765849169817
         ],
         "y": [
          166.0646146130796,
          166.06461547436922,
          166.06461486996287,
          166.06461475469197,
          166.06461460327932,
          166.06461460784612,
          166.06461463304288,
          166.06461460570614,
          166.06461460337724,
          166.06461462026476,
          166.06461537485097
         ]
        },
        {
         "line": {
          "color": "rgba(128, 177, 211, 0.25991189427312783)",
          "dash": "solid",
          "shape": "linear",
          "width": 1.3
         },
         "mode": "lines",
         "name": "Vitamin D2 (ergocalciferol)",
         "text": "",
         "type": "scatter",
         "x": [
          0.5273457311462271,
          0.7910185967193406,
          0.9492223160632087,
          1.0546914622924541,
          1.1601606085216996,
          1.265629754750945,
          1.3710989009801904,
          1.4765680472094358,
          1.5820371934386812,
          2.1093829245849083,
          4.218765849169817
         ],
         "y": [
          4.160162808726189,
          4.160162830302538,
          4.160162815161424,
          4.160162812273747,
          4.16016280848068,
          4.160162808595086,
          4.160162809226295,
          4.160162808541475,
          4.1601628084831335,
          4.160162808906186,
          4.160162827809449
         ]
        },
        {
         "line": {
          "color": "rgba(255, 153, 51, 0.25991189427312783)",
          "dash": "solid",
          "shape": "linear",
          "width": 1.3
         },
         "mode": "lines",
         "name": "Vitamin D3 (cholecalciferol)",
         "text": "",
         "type": "scatter",
         "x": [
          0.5273457311462271,
          0.7910185967193406,
          0.9492223160632087,
          1.0546914622924541,
          1.1601606085216996,
          1.265629754750945,
          1.3710989009801904,
          1.4765680472094358,
          1.5820371934386812,
          2.1093829245849083,
          4.218765849169817
         ],
         "y": [
          0,
          0,
          0,
          0,
          0,
          0,
          0,
          0,
          0,
          0,
          0
         ]
        },
        {
         "line": {
          "color": "rgba(55, 128, 191, 0.25991189427312783)",
          "dash": "solid",
          "shape": "linear",
          "width": 1.3
         },
         "mode": "lines",
         "name": "Vitamin D4",
         "text": "",
         "type": "scatter",
         "x": [
          0.5273457311462271,
          0.7910185967193406,
          0.9492223160632087,
          1.0546914622924541,
          1.1601606085216996,
          1.265629754750945,
          1.3710989009801904,
          1.4765680472094358,
          1.5820371934386812,
          2.1093829245849083,
          4.218765849169817
         ],
         "y": [
          0,
          0,
          0,
          0,
          0,
          0,
          0,
          0,
          0,
          0,
          0
         ]
        },
        {
         "line": {
          "color": "rgba(50, 171, 96, 0.25991189427312783)",
          "dash": "solid",
          "shape": "linear",
          "width": 1.3
         },
         "mode": "lines",
         "name": "Vitamin E (alpha-tocopherol)",
         "text": "",
         "type": "scatter",
         "x": [
          0.5273457311462271,
          0.7910185967193406,
          0.9492223160632087,
          1.0546914622924541,
          1.1601606085216996,
          1.265629754750945,
          1.3710989009801904,
          1.4765680472094358,
          1.5820371934386812,
          2.1093829245849083,
          4.218765849169817
         ],
         "y": [
          15.000000001709955,
          15.000000095708538,
          15.000000018883188,
          15.000000009114245,
          15.000000000176003,
          15.000000000422386,
          15.000000004439734,
          15.000000000497653,
          15.000000000498877,
          15.000000005036474,
          15.000000097135377
         ]
        },
        {
         "line": {
          "color": "rgba(128, 0, 128, 0.25991189427312783)",
          "dash": "solid",
          "shape": "linear",
          "width": 1.3
         },
         "mode": "lines",
         "name": "Vitamin E, added",
         "text": "",
         "type": "scatter",
         "x": [
          0.5273457311462271,
          0.7910185967193406,
          0.9492223160632087,
          1.0546914622924541,
          1.1601606085216996,
          1.265629754750945,
          1.3710989009801904,
          1.4765680472094358,
          1.5820371934386812,
          2.1093829245849083,
          4.218765849169817
         ],
         "y": [
          0,
          0,
          0,
          0,
          0,
          0,
          0,
          0,
          0,
          0,
          0
         ]
        },
        {
         "line": {
          "color": "rgba(219, 64, 82, 0.25991189427312783)",
          "dash": "solid",
          "shape": "linear",
          "width": 1.3
         },
         "mode": "lines",
         "name": "Vitamin K (Dihydrophylloquinone)",
         "text": "",
         "type": "scatter",
         "x": [
          0.5273457311462271,
          0.7910185967193406,
          0.9492223160632087,
          1.0546914622924541,
          1.1601606085216996,
          1.265629754750945,
          1.3710989009801904,
          1.4765680472094358,
          1.5820371934386812,
          2.1093829245849083,
          4.218765849169817
         ],
         "y": [
          0,
          0,
          0,
          0,
          0,
          0,
          0,
          0,
          0,
          0,
          0
         ]
        },
        {
         "line": {
          "color": "rgba(0, 128, 128, 0.25991189427312783)",
          "dash": "solid",
          "shape": "linear",
          "width": 1.3
         },
         "mode": "lines",
         "name": "Vitamin K (Menaquinone-4)",
         "text": "",
         "type": "scatter",
         "x": [
          0.5273457311462271,
          0.7910185967193406,
          0.9492223160632087,
          1.0546914622924541,
          1.1601606085216996,
          1.265629754750945,
          1.3710989009801904,
          1.4765680472094358,
          1.5820371934386812,
          2.1093829245849083,
          4.218765849169817
         ],
         "y": [
          4.2042474151929587e-10,
          1.933639796649507e-08,
          6.291124990240547e-09,
          3.954204457740616e-09,
          3.2025117786438074e-11,
          9.523455615972891e-11,
          5.265860962980918e-10,
          8.12478485625214e-11,
          7.269406504544904e-11,
          4.3284384869854237e-10,
          2.4320355850233732e-08
         ]
        },
        {
         "line": {
          "color": "rgba(255, 255, 51, 0.25991189427312783)",
          "dash": "solid",
          "shape": "linear",
          "width": 1.3
         },
         "mode": "lines",
         "name": "Vitamin K (phylloquinone)",
         "text": "",
         "type": "scatter",
         "x": [
          0.5273457311462271,
          0.7910185967193406,
          0.9492223160632087,
          1.0546914622924541,
          1.1601606085216996,
          1.265629754750945,
          1.3710989009801904,
          1.4765680472094358,
          1.5820371934386812,
          2.1093829245849083,
          4.218765849169817
         ],
         "y": [
          177.272233436095,
          90.00001910768067,
          90.00000287650018,
          90.00000128157262,
          90.00000000786328,
          90.00000002572709,
          90.000000088926,
          90.00000001264922,
          90.0000000073493,
          90.00000003871673,
          90.00000122268261
         ]
        },
        {
         "line": {
          "color": "rgba(128, 128, 0, 0.25991189427312783)",
          "dash": "solid",
          "shape": "linear",
          "width": 1.3
         },
         "mode": "lines",
         "name": "Vitamins and Other Components",
         "text": "",
         "type": "scatter",
         "x": [
          0.5273457311462271,
          0.7910185967193406,
          0.9492223160632087,
          1.0546914622924541,
          1.1601606085216996,
          1.265629754750945,
          1.3710989009801904,
          1.4765680472094358,
          1.5820371934386812,
          2.1093829245849083,
          4.218765849169817
         ],
         "y": [
          0,
          0,
          0,
          0,
          0,
          0,
          0,
          0,
          0,
          0,
          0
         ]
        },
        {
         "line": {
          "color": "rgba(251, 128, 114, 0.25991189427312783)",
          "dash": "solid",
          "shape": "linear",
          "width": 1.3
         },
         "mode": "lines",
         "name": "Water",
         "text": "",
         "type": "scatter",
         "x": [
          0.5273457311462271,
          0.7910185967193406,
          0.9492223160632087,
          1.0546914622924541,
          1.1601606085216996,
          1.265629754750945,
          1.3710989009801904,
          1.4765680472094358,
          1.5820371934386812,
          2.1093829245849083,
          4.218765849169817
         ],
         "y": [
          1185.431850942513,
          1196.5358541833523,
          1196.5358670065043,
          1196.5358619735541,
          1196.5358401608478,
          1196.5358398550904,
          1231.4866379954565,
          1231.4866697921393,
          1231.4866712590633,
          1271.4488275585325,
          1087.112191315895
         ]
        },
        {
         "line": {
          "color": "rgba(251, 128, 114, 0.2246696035242291)",
          "dash": "solid",
          "shape": "linear",
          "width": 1.3
         },
         "mode": "lines",
         "name": "Zeaxanthin",
         "text": "",
         "type": "scatter",
         "x": [
          0.5273457311462271,
          0.7910185967193406,
          0.9492223160632087,
          1.0546914622924541,
          1.1601606085216996,
          1.265629754750945,
          1.3710989009801904,
          1.4765680472094358,
          1.5820371934386812,
          2.1093829245849083,
          4.218765849169817
         ],
         "y": [
          44.318494120432895,
          44.318499016378965,
          44.318496146224575,
          44.31849538842238,
          44.31849403040031,
          44.31849405781119,
          44.318494111913964,
          44.31849404216612,
          44.31849403617446,
          44.3184941150985,
          44.31850035190889
         ]
        },
        {
         "line": {
          "color": "rgba(128, 177, 211, 0.2246696035242291)",
          "dash": "solid",
          "shape": "linear",
          "width": 1.3
         },
         "mode": "lines",
         "name": "Zinc, Zn",
         "text": "",
         "type": "scatter",
         "x": [
          0.5273457311462271,
          0.7910185967193406,
          0.9492223160632087,
          1.0546914622924541,
          1.1601606085216996,
          1.265629754750945,
          1.3710989009801904,
          1.4765680472094358,
          1.5820371934386812,
          2.1093829245849083,
          4.218765849169817
         ],
         "y": [
          10.901107085514818,
          10.967731343156006,
          10.967730780251415,
          10.967730664783442,
          10.967730671323327,
          10.967730677446049,
          10.762384799335504,
          10.762384604723604,
          10.762384600559528,
          10.589162346647912,
          12.790547838732156
         ]
        },
        {
         "line": {
          "color": "rgba(255, 153, 51, 0.2246696035242291)",
          "dash": "solid",
          "shape": "linear",
          "width": 1.3
         },
         "mode": "lines",
         "name": "cis-Lutein/Zeaxanthin",
         "text": "",
         "type": "scatter",
         "x": [
          0.5273457311462271,
          0.7910185967193406,
          0.9492223160632087,
          1.0546914622924541,
          1.1601606085216996,
          1.265629754750945,
          1.3710989009801904,
          1.4765680472094358,
          1.5820371934386812,
          2.1093829245849083,
          4.218765849169817
         ],
         "y": [
          5.894683287091166,
          5.894683317572434,
          5.894683296181665,
          5.894683292101499,
          5.894683286744917,
          5.8946832869067265,
          5.894683287798783,
          5.894683286830802,
          5.894683286748191,
          5.894683287345764,
          5.894683314035545
         ]
        },
        {
         "line": {
          "color": "rgba(55, 128, 191, 0.2246696035242291)",
          "dash": "solid",
          "shape": "linear",
          "width": 1.3
         },
         "mode": "lines",
         "name": "cis-Lycopene",
         "text": "",
         "type": "scatter",
         "x": [
          0.5273457311462271,
          0.7910185967193406,
          0.9492223160632087,
          1.0546914622924541,
          1.1601606085216996,
          1.265629754750945,
          1.3710989009801904,
          1.4765680472094358,
          1.5820371934386812,
          2.1093829245849083,
          4.218765849169817
         ],
         "y": [
          0,
          0,
          0,
          0,
          0,
          0,
          0,
          0,
          0,
          0,
          0
         ]
        },
        {
         "line": {
          "color": "rgba(50, 171, 96, 0.2246696035242291)",
          "dash": "solid",
          "shape": "linear",
          "width": 1.3
         },
         "mode": "lines",
         "name": "cis-beta-Carotene",
         "text": "",
         "type": "scatter",
         "x": [
          0.5273457311462271,
          0.7910185967193406,
          0.9492223160632087,
          1.0546914622924541,
          1.1601606085216996,
          1.265629754750945,
          1.3710989009801904,
          1.4765680472094358,
          1.5820371934386812,
          2.1093829245849083,
          4.218765849169817
         ],
         "y": [
          1.4570728255591157,
          1.589644084273127,
          1.589644159428059,
          1.5896443175259862,
          1.58964494297016,
          1.589644941632249,
          0.7459709343748206,
          0.7459701841300096,
          0.7459701588879121,
          2.1360026279996593e-08,
          4.843508980057196e-08
         ]
        },
        {
         "line": {
          "color": "rgba(128, 0, 128, 0.2246696035242291)",
          "dash": "solid",
          "shape": "linear",
          "width": 1.3
         },
         "mode": "lines",
         "name": "trans-Lycopene",
         "text": "",
         "type": "scatter",
         "x": [
          0.5273457311462271,
          0.7910185967193406,
          0.9492223160632087,
          1.0546914622924541,
          1.1601606085216996,
          1.265629754750945,
          1.3710989009801904,
          1.4765680472094358,
          1.5820371934386812,
          2.1093829245849083,
          4.218765849169817
         ],
         "y": [
          0,
          0,
          0,
          0,
          0,
          0,
          0,
          0,
          0,
          0,
          0
         ]
        },
        {
         "line": {
          "color": "rgba(219, 64, 82, 0.2246696035242291)",
          "dash": "solid",
          "shape": "linear",
          "width": 1.3
         },
         "mode": "lines",
         "name": "trans-beta-Carotene",
         "text": "",
         "type": "scatter",
         "x": [
          0.5273457311462271,
          0.7910185967193406,
          0.9492223160632087,
          1.0546914622924541,
          1.1601606085216996,
          1.265629754750945,
          1.3710989009801904,
          1.4765680472094358,
          1.5820371934386812,
          2.1093829245849083,
          4.218765849169817
         ],
         "y": [
          10.199509778913809,
          11.127508589911889,
          11.127509115996414,
          11.127510222681904,
          11.12751460079112,
          11.127514591425742,
          5.221796540623744,
          5.221791288910067,
          5.221791112215384,
          1.4952018395997614e-07,
          3.390456286040037e-07
         ]
        }
       ],
       "layout": {
        "autosize": true,
        "legend": {
         "bgcolor": "#F5F6F9",
         "font": {
          "color": "#4D5663"
         }
        },
        "paper_bgcolor": "#F5F6F9",
        "plot_bgcolor": "#F5F6F9",
        "template": {
         "data": {
          "bar": [
           {
            "error_x": {
             "color": "#2a3f5f"
            },
            "error_y": {
             "color": "#2a3f5f"
            },
            "marker": {
             "line": {
              "color": "#E5ECF6",
              "width": 0.5
             },
             "pattern": {
              "fillmode": "overlay",
              "size": 10,
              "solidity": 0.2
             }
            },
            "type": "bar"
           }
          ],
          "barpolar": [
           {
            "marker": {
             "line": {
              "color": "#E5ECF6",
              "width": 0.5
             },
             "pattern": {
              "fillmode": "overlay",
              "size": 10,
              "solidity": 0.2
             }
            },
            "type": "barpolar"
           }
          ],
          "carpet": [
           {
            "aaxis": {
             "endlinecolor": "#2a3f5f",
             "gridcolor": "white",
             "linecolor": "white",
             "minorgridcolor": "white",
             "startlinecolor": "#2a3f5f"
            },
            "baxis": {
             "endlinecolor": "#2a3f5f",
             "gridcolor": "white",
             "linecolor": "white",
             "minorgridcolor": "white",
             "startlinecolor": "#2a3f5f"
            },
            "type": "carpet"
           }
          ],
          "choropleth": [
           {
            "colorbar": {
             "outlinewidth": 0,
             "ticks": ""
            },
            "type": "choropleth"
           }
          ],
          "contour": [
           {
            "colorbar": {
             "outlinewidth": 0,
             "ticks": ""
            },
            "colorscale": [
             [
              0,
              "#0d0887"
             ],
             [
              0.1111111111111111,
              "#46039f"
             ],
             [
              0.2222222222222222,
              "#7201a8"
             ],
             [
              0.3333333333333333,
              "#9c179e"
             ],
             [
              0.4444444444444444,
              "#bd3786"
             ],
             [
              0.5555555555555556,
              "#d8576b"
             ],
             [
              0.6666666666666666,
              "#ed7953"
             ],
             [
              0.7777777777777778,
              "#fb9f3a"
             ],
             [
              0.8888888888888888,
              "#fdca26"
             ],
             [
              1,
              "#f0f921"
             ]
            ],
            "type": "contour"
           }
          ],
          "contourcarpet": [
           {
            "colorbar": {
             "outlinewidth": 0,
             "ticks": ""
            },
            "type": "contourcarpet"
           }
          ],
          "heatmap": [
           {
            "colorbar": {
             "outlinewidth": 0,
             "ticks": ""
            },
            "colorscale": [
             [
              0,
              "#0d0887"
             ],
             [
              0.1111111111111111,
              "#46039f"
             ],
             [
              0.2222222222222222,
              "#7201a8"
             ],
             [
              0.3333333333333333,
              "#9c179e"
             ],
             [
              0.4444444444444444,
              "#bd3786"
             ],
             [
              0.5555555555555556,
              "#d8576b"
             ],
             [
              0.6666666666666666,
              "#ed7953"
             ],
             [
              0.7777777777777778,
              "#fb9f3a"
             ],
             [
              0.8888888888888888,
              "#fdca26"
             ],
             [
              1,
              "#f0f921"
             ]
            ],
            "type": "heatmap"
           }
          ],
          "heatmapgl": [
           {
            "colorbar": {
             "outlinewidth": 0,
             "ticks": ""
            },
            "colorscale": [
             [
              0,
              "#0d0887"
             ],
             [
              0.1111111111111111,
              "#46039f"
             ],
             [
              0.2222222222222222,
              "#7201a8"
             ],
             [
              0.3333333333333333,
              "#9c179e"
             ],
             [
              0.4444444444444444,
              "#bd3786"
             ],
             [
              0.5555555555555556,
              "#d8576b"
             ],
             [
              0.6666666666666666,
              "#ed7953"
             ],
             [
              0.7777777777777778,
              "#fb9f3a"
             ],
             [
              0.8888888888888888,
              "#fdca26"
             ],
             [
              1,
              "#f0f921"
             ]
            ],
            "type": "heatmapgl"
           }
          ],
          "histogram": [
           {
            "marker": {
             "pattern": {
              "fillmode": "overlay",
              "size": 10,
              "solidity": 0.2
             }
            },
            "type": "histogram"
           }
          ],
          "histogram2d": [
           {
            "colorbar": {
             "outlinewidth": 0,
             "ticks": ""
            },
            "colorscale": [
             [
              0,
              "#0d0887"
             ],
             [
              0.1111111111111111,
              "#46039f"
             ],
             [
              0.2222222222222222,
              "#7201a8"
             ],
             [
              0.3333333333333333,
              "#9c179e"
             ],
             [
              0.4444444444444444,
              "#bd3786"
             ],
             [
              0.5555555555555556,
              "#d8576b"
             ],
             [
              0.6666666666666666,
              "#ed7953"
             ],
             [
              0.7777777777777778,
              "#fb9f3a"
             ],
             [
              0.8888888888888888,
              "#fdca26"
             ],
             [
              1,
              "#f0f921"
             ]
            ],
            "type": "histogram2d"
           }
          ],
          "histogram2dcontour": [
           {
            "colorbar": {
             "outlinewidth": 0,
             "ticks": ""
            },
            "colorscale": [
             [
              0,
              "#0d0887"
             ],
             [
              0.1111111111111111,
              "#46039f"
             ],
             [
              0.2222222222222222,
              "#7201a8"
             ],
             [
              0.3333333333333333,
              "#9c179e"
             ],
             [
              0.4444444444444444,
              "#bd3786"
             ],
             [
              0.5555555555555556,
              "#d8576b"
             ],
             [
              0.6666666666666666,
              "#ed7953"
             ],
             [
              0.7777777777777778,
              "#fb9f3a"
             ],
             [
              0.8888888888888888,
              "#fdca26"
             ],
             [
              1,
              "#f0f921"
             ]
            ],
            "type": "histogram2dcontour"
           }
          ],
          "mesh3d": [
           {
            "colorbar": {
             "outlinewidth": 0,
             "ticks": ""
            },
            "type": "mesh3d"
           }
          ],
          "parcoords": [
           {
            "line": {
             "colorbar": {
              "outlinewidth": 0,
              "ticks": ""
             }
            },
            "type": "parcoords"
           }
          ],
          "pie": [
           {
            "automargin": true,
            "type": "pie"
           }
          ],
          "scatter": [
           {
            "marker": {
             "colorbar": {
              "outlinewidth": 0,
              "ticks": ""
             }
            },
            "type": "scatter"
           }
          ],
          "scatter3d": [
           {
            "line": {
             "colorbar": {
              "outlinewidth": 0,
              "ticks": ""
             }
            },
            "marker": {
             "colorbar": {
              "outlinewidth": 0,
              "ticks": ""
             }
            },
            "type": "scatter3d"
           }
          ],
          "scattercarpet": [
           {
            "marker": {
             "colorbar": {
              "outlinewidth": 0,
              "ticks": ""
             }
            },
            "type": "scattercarpet"
           }
          ],
          "scattergeo": [
           {
            "marker": {
             "colorbar": {
              "outlinewidth": 0,
              "ticks": ""
             }
            },
            "type": "scattergeo"
           }
          ],
          "scattergl": [
           {
            "marker": {
             "colorbar": {
              "outlinewidth": 0,
              "ticks": ""
             }
            },
            "type": "scattergl"
           }
          ],
          "scattermapbox": [
           {
            "marker": {
             "colorbar": {
              "outlinewidth": 0,
              "ticks": ""
             }
            },
            "type": "scattermapbox"
           }
          ],
          "scatterpolar": [
           {
            "marker": {
             "colorbar": {
              "outlinewidth": 0,
              "ticks": ""
             }
            },
            "type": "scatterpolar"
           }
          ],
          "scatterpolargl": [
           {
            "marker": {
             "colorbar": {
              "outlinewidth": 0,
              "ticks": ""
             }
            },
            "type": "scatterpolargl"
           }
          ],
          "scatterternary": [
           {
            "marker": {
             "colorbar": {
              "outlinewidth": 0,
              "ticks": ""
             }
            },
            "type": "scatterternary"
           }
          ],
          "surface": [
           {
            "colorbar": {
             "outlinewidth": 0,
             "ticks": ""
            },
            "colorscale": [
             [
              0,
              "#0d0887"
             ],
             [
              0.1111111111111111,
              "#46039f"
             ],
             [
              0.2222222222222222,
              "#7201a8"
             ],
             [
              0.3333333333333333,
              "#9c179e"
             ],
             [
              0.4444444444444444,
              "#bd3786"
             ],
             [
              0.5555555555555556,
              "#d8576b"
             ],
             [
              0.6666666666666666,
              "#ed7953"
             ],
             [
              0.7777777777777778,
              "#fb9f3a"
             ],
             [
              0.8888888888888888,
              "#fdca26"
             ],
             [
              1,
              "#f0f921"
             ]
            ],
            "type": "surface"
           }
          ],
          "table": [
           {
            "cells": {
             "fill": {
              "color": "#EBF0F8"
             },
             "line": {
              "color": "white"
             }
            },
            "header": {
             "fill": {
              "color": "#C8D4E3"
             },
             "line": {
              "color": "white"
             }
            },
            "type": "table"
           }
          ]
         },
         "layout": {
          "annotationdefaults": {
           "arrowcolor": "#2a3f5f",
           "arrowhead": 0,
           "arrowwidth": 1
          },
          "autotypenumbers": "strict",
          "coloraxis": {
           "colorbar": {
            "outlinewidth": 0,
            "ticks": ""
           }
          },
          "colorscale": {
           "diverging": [
            [
             0,
             "#8e0152"
            ],
            [
             0.1,
             "#c51b7d"
            ],
            [
             0.2,
             "#de77ae"
            ],
            [
             0.3,
             "#f1b6da"
            ],
            [
             0.4,
             "#fde0ef"
            ],
            [
             0.5,
             "#f7f7f7"
            ],
            [
             0.6,
             "#e6f5d0"
            ],
            [
             0.7,
             "#b8e186"
            ],
            [
             0.8,
             "#7fbc41"
            ],
            [
             0.9,
             "#4d9221"
            ],
            [
             1,
             "#276419"
            ]
           ],
           "sequential": [
            [
             0,
             "#0d0887"
            ],
            [
             0.1111111111111111,
             "#46039f"
            ],
            [
             0.2222222222222222,
             "#7201a8"
            ],
            [
             0.3333333333333333,
             "#9c179e"
            ],
            [
             0.4444444444444444,
             "#bd3786"
            ],
            [
             0.5555555555555556,
             "#d8576b"
            ],
            [
             0.6666666666666666,
             "#ed7953"
            ],
            [
             0.7777777777777778,
             "#fb9f3a"
            ],
            [
             0.8888888888888888,
             "#fdca26"
            ],
            [
             1,
             "#f0f921"
            ]
           ],
           "sequentialminus": [
            [
             0,
             "#0d0887"
            ],
            [
             0.1111111111111111,
             "#46039f"
            ],
            [
             0.2222222222222222,
             "#7201a8"
            ],
            [
             0.3333333333333333,
             "#9c179e"
            ],
            [
             0.4444444444444444,
             "#bd3786"
            ],
            [
             0.5555555555555556,
             "#d8576b"
            ],
            [
             0.6666666666666666,
             "#ed7953"
            ],
            [
             0.7777777777777778,
             "#fb9f3a"
            ],
            [
             0.8888888888888888,
             "#fdca26"
            ],
            [
             1,
             "#f0f921"
            ]
           ]
          },
          "colorway": [
           "#636efa",
           "#EF553B",
           "#00cc96",
           "#ab63fa",
           "#FFA15A",
           "#19d3f3",
           "#FF6692",
           "#B6E880",
           "#FF97FF",
           "#FECB52"
          ],
          "font": {
           "color": "#2a3f5f"
          },
          "geo": {
           "bgcolor": "white",
           "lakecolor": "white",
           "landcolor": "#E5ECF6",
           "showlakes": true,
           "showland": true,
           "subunitcolor": "white"
          },
          "hoverlabel": {
           "align": "left"
          },
          "hovermode": "closest",
          "mapbox": {
           "style": "light"
          },
          "paper_bgcolor": "white",
          "plot_bgcolor": "#E5ECF6",
          "polar": {
           "angularaxis": {
            "gridcolor": "white",
            "linecolor": "white",
            "ticks": ""
           },
           "bgcolor": "#E5ECF6",
           "radialaxis": {
            "gridcolor": "white",
            "linecolor": "white",
            "ticks": ""
           }
          },
          "scene": {
           "xaxis": {
            "backgroundcolor": "#E5ECF6",
            "gridcolor": "white",
            "gridwidth": 2,
            "linecolor": "white",
            "showbackground": true,
            "ticks": "",
            "zerolinecolor": "white"
           },
           "yaxis": {
            "backgroundcolor": "#E5ECF6",
            "gridcolor": "white",
            "gridwidth": 2,
            "linecolor": "white",
            "showbackground": true,
            "ticks": "",
            "zerolinecolor": "white"
           },
           "zaxis": {
            "backgroundcolor": "#E5ECF6",
            "gridcolor": "white",
            "gridwidth": 2,
            "linecolor": "white",
            "showbackground": true,
            "ticks": "",
            "zerolinecolor": "white"
           }
          },
          "shapedefaults": {
           "line": {
            "color": "#2a3f5f"
           }
          },
          "ternary": {
           "aaxis": {
            "gridcolor": "white",
            "linecolor": "white",
            "ticks": ""
           },
           "baxis": {
            "gridcolor": "white",
            "linecolor": "white",
            "ticks": ""
           },
           "bgcolor": "#E5ECF6",
           "caxis": {
            "gridcolor": "white",
            "linecolor": "white",
            "ticks": ""
           }
          },
          "title": {
           "x": 0.05
          },
          "xaxis": {
           "automargin": true,
           "gridcolor": "white",
           "linecolor": "white",
           "ticks": "",
           "title": {
            "standoff": 15
           },
           "zerolinecolor": "white",
           "zerolinewidth": 2
          },
          "yaxis": {
           "automargin": true,
           "gridcolor": "white",
           "linecolor": "white",
           "ticks": "",
           "title": {
            "standoff": 15
           },
           "zerolinecolor": "white",
           "zerolinewidth": 2
          }
         }
        },
        "title": {
         "font": {
          "color": "#4D5663"
         }
        },
        "xaxis": {
         "autorange": true,
         "gridcolor": "#E1E5ED",
         "range": [
          0.5273457311462271,
          4.218765849169817
         ],
         "showgrid": true,
         "tickfont": {
          "color": "#4D5663"
         },
         "title": {
          "font": {
           "color": "#4D5663"
          },
          "text": "Kale Price"
         },
         "type": "linear",
         "zerolinecolor": "#E1E5ED"
        },
        "yaxis": {
         "autorange": true,
         "gridcolor": "#E1E5ED",
         "range": [
          -3599.6792253396197,
          68393.90528145278
         ],
         "showgrid": true,
         "tickfont": {
          "color": "#4D5663"
         },
         "title": {
          "font": {
           "color": "#4D5663"
          },
          "text": "Nutrients"
         },
         "type": "linear",
         "zerolinecolor": "#E1E5ED"
        }
       }
      },
      "image/png": "[encoded data removed]",
      "text/html": [
       "<div>                            <div id=\"affbd809-c271-4999-af8f-5bed14961ae3\" class=\"plotly-graph-div\" style=\"height:525px; width:100%;\"></div>            <script type=\"text/javascript\">                require([\"plotly\"], function(Plotly) {                    window.PLOTLYENV=window.PLOTLYENV || {};\n",
       "                    window.PLOTLYENV.BASE_URL='https://plot.ly';                                    if (document.getElementById(\"affbd809-c271-4999-af8f-5bed14961ae3\")) {                    Plotly.newPlot(                        \"affbd809-c271-4999-af8f-5bed14961ae3\",                        [{\"line\":{\"color\":\"rgba(255, 153, 51, 1.0)\",\"dash\":\"solid\",\"shape\":\"linear\",\"width\":1.3},\"mode\":\"lines\",\"name\":\" Ergosta-5,7-dienol\",\"text\":\"\",\"type\":\"scatter\",\"x\":[0.5273457311462271,0.7910185967193406,0.9492223160632087,1.0546914622924541,1.1601606085216996,1.265629754750945,1.3710989009801904,1.4765680472094358,1.5820371934386812,2.1093829245849083,4.218765849169817],\"y\":[3.391873474498506e-10,1.765625738226251e-08,5.630620561660287e-09,3.445356696039069e-09,3.088813526848171e-11,8.690853522475835e-11,5.299622977250818e-10,7.988068589939383e-11,6.917503273296149e-11,4.240763526197337e-10,1.8482201971434275e-08]},{\"line\":{\"color\":\"rgba(55, 128, 191, 1.0)\",\"dash\":\"solid\",\"shape\":\"linear\",\"width\":1.3},\"mode\":\"lines\",\"name\":\" Ergosta-7,22-dienol\",\"text\":\"\",\"type\":\"scatter\",\"x\":[0.5273457311462271,0.7910185967193406,0.9492223160632087,1.0546914622924541,1.1601606085216996,1.265629754750945,1.3710989009801904,1.4765680472094358,1.5820371934386812,2.1093829245849083,4.218765849169817],\"y\":[8.960213612653988e-11,4.6642022155163585e-09,1.4874246749943198e-09,9.101498685136592e-10,8.159628953820797e-12,2.295837525283378e-11,1.3999860047762388e-10,2.110184871473458e-11,1.8273767421153834e-11,1.1202701799216727e-10,4.88238959800087e-09]},{\"line\":{\"color\":\"rgba(50, 171, 96, 1.0)\",\"dash\":\"solid\",\"shape\":\"linear\",\"width\":1.3},\"mode\":\"lines\",\"name\":\"Alanine\",\"text\":\"\",\"type\":\"scatter\",\"x\":[0.5273457311462271,0.7910185967193406,0.9492223160632087,1.0546914622924541,1.1601606085216996,1.265629754750945,1.3710989009801904,1.4765680472094358,1.5820371934386812,2.1093829245849083,4.218765849169817],\"y\":[4.455219463332283,4.499851430034971,4.499851256286038,4.499851196872199,4.499851177669968,4.499851178666231,4.512221745748243,4.512221755844508,4.512221757759001,4.545530488453744,4.703220630744081]},{\"line\":{\"color\":\"rgba(128, 0, 128, 1.0)\",\"dash\":\"solid\",\"shape\":\"linear\",\"width\":1.3},\"mode\":\"lines\",\"name\":\"Alcohol, ethyl\",\"text\":\"\",\"type\":\"scatter\",\"x\":[0.5273457311462271,0.7910185967193406,0.9492223160632087,1.0546914622924541,1.1601606085216996,1.265629754750945,1.3710989009801904,1.4765680472094358,1.5820371934386812,2.1093829245849083,4.218765849169817],\"y\":[0.0,0.0,0.0,0.0,0.0,0.0,0.0,0.0,0.0,0.0,0.0]},{\"line\":{\"color\":\"rgba(219, 64, 82, 1.0)\",\"dash\":\"solid\",\"shape\":\"linear\",\"width\":1.3},\"mode\":\"lines\",\"name\":\"Amino acids\",\"text\":\"\",\"type\":\"scatter\",\"x\":[0.5273457311462271,0.7910185967193406,0.9492223160632087,1.0546914622924541,1.1601606085216996,1.265629754750945,1.3710989009801904,1.4765680472094358,1.5820371934386812,2.1093829245849083,4.218765849169817],\"y\":[0.0,0.0,0.0,0.0,0.0,0.0,0.0,0.0,0.0,0.0,0.0]},{\"line\":{\"color\":\"rgba(0, 128, 128, 1.0)\",\"dash\":\"solid\",\"shape\":\"linear\",\"width\":1.3},\"mode\":\"lines\",\"name\":\"Arginine\",\"text\":\"\",\"type\":\"scatter\",\"x\":[0.5273457311462271,0.7910185967193406,0.9492223160632087,1.0546914622924541,1.1601606085216996,1.265629754750945,1.3710989009801904,1.4765680472094358,1.5820371934386812,2.1093829245849083,4.218765849169817],\"y\":[9.287176949790197,9.450229336410775,9.450228887098008,9.450228779241465,9.450228899618526,9.450228901235887,9.22820498590851,9.228204784500319,9.228204784395809,9.117499605989881,10.163906413170436]},{\"line\":{\"color\":\"rgba(255, 255, 51, 1.0)\",\"dash\":\"solid\",\"shape\":\"linear\",\"width\":1.3},\"mode\":\"lines\",\"name\":\"Ash\",\"text\":\"\",\"type\":\"scatter\",\"x\":[0.5273457311462271,0.7910185967193406,0.9492223160632087,1.0546914622924541,1.1601606085216996,1.265629754750945,1.3710989009801904,1.4765680472094358,1.5820371934386812,2.1093829245849083,4.218765849169817],\"y\":[18.863066100530325,19.326688545619827,19.32668828986182,19.326688181926954,19.3266881524788,19.326688152366202,19.279159122968725,19.27915908047303,19.279159088968278,19.40717550079177,18.558761870352882]},{\"line\":{\"color\":\"rgba(128, 128, 0, 1.0)\",\"dash\":\"solid\",\"shape\":\"linear\",\"width\":1.3},\"mode\":\"lines\",\"name\":\"Aspartic acid\",\"text\":\"\",\"type\":\"scatter\",\"x\":[0.5273457311462271,0.7910185967193406,0.9492223160632087,1.0546914622924541,1.1601606085216996,1.265629754750945,1.3710989009801904,1.4765680472094358,1.5820371934386812,2.1093829245849083,4.218765849169817],\"y\":[12.668268412371951,12.763269295104799,12.763268889723294,12.763268766433056,12.763268859399133,12.763268860265361,12.722762182429621,12.722762145334855,12.722762143360749,12.669665417459735,12.740882908040346]},{\"line\":{\"color\":\"rgba(251, 128, 114, 1.0)\",\"dash\":\"solid\",\"shape\":\"linear\",\"width\":1.3},\"mode\":\"lines\",\"name\":\"Beta-glucan\",\"text\":\"\",\"type\":\"scatter\",\"x\":[0.5273457311462271,0.7910185967193406,0.9492223160632087,1.0546914622924541,1.1601606085216996,1.265629754750945,1.3710989009801904,1.4765680472094358,1.5820371934386812,2.1093829245849083,4.218765849169817],\"y\":[1.0900075252397032e-09,5.5438687246920295e-08,1.7541558965388746e-08,1.120856679774549e-08,1.0676959158461928e-10,3.022176283666248e-10,1.9159473802626452e-09,3.0950496533212667e-10,3.264901727706332e-10,2.1282673149170283e-09,1.5383164386394722e-07]},{\"line\":{\"color\":\"rgba(128, 177, 211, 1.0)\",\"dash\":\"solid\",\"shape\":\"linear\",\"width\":1.3},\"mode\":\"lines\",\"name\":\"Beta-sitostanol\",\"text\":\"\",\"type\":\"scatter\",\"x\":[0.5273457311462271,0.7910185967193406,0.9492223160632087,1.0546914622924541,1.1601606085216996,1.265629754750945,1.3710989009801904,1.4765680472094358,1.5820371934386812,2.1093829245849083,4.218765849169817],\"y\":[0.0,0.0,0.0,0.0,0.0,0.0,0.0,0.0,0.0,0.0,0.0]},{\"line\":{\"color\":\"rgba(128, 177, 211, 0.9647577092511013)\",\"dash\":\"solid\",\"shape\":\"linear\",\"width\":1.3},\"mode\":\"lines\",\"name\":\"Beta-sitosterol\",\"text\":\"\",\"type\":\"scatter\",\"x\":[0.5273457311462271,0.7910185967193406,0.9492223160632087,1.0546914622924541,1.1601606085216996,1.265629754750945,1.3710989009801904,1.4765680472094358,1.5820371934386812,2.1093829245849083,4.218765849169817],\"y\":[29.032198930122345,23.14322924465095,23.143247860351703,23.143256659464377,23.14325759661143,23.143257766459506,23.164289698219548,23.164289279428534,23.16428829026311,6.924228136899248,91.35972249459422]},{\"line\":{\"color\":\"rgba(255, 153, 51, 0.9647577092511013)\",\"dash\":\"solid\",\"shape\":\"linear\",\"width\":1.3},\"mode\":\"lines\",\"name\":\"Betaine\",\"text\":\"\",\"type\":\"scatter\",\"x\":[0.5273457311462271,0.7910185967193406,0.9492223160632087,1.0546914622924541,1.1601606085216996,1.265629754750945,1.3710989009801904,1.4765680472094358,1.5820371934386812,2.1093829245849083,4.218765849169817],\"y\":[0.38541504516215735,7.544325158338176,7.5443131307512346,7.5443108232310125,7.544309636523166,7.544309677243563,0.7065602182641767,0.7065538338749813,0.7065540403119677,1.0546740080111812,14.278016994606881]},{\"line\":{\"color\":\"rgba(55, 128, 191, 0.9647577092511013)\",\"dash\":\"solid\",\"shape\":\"linear\",\"width\":1.3},\"mode\":\"lines\",\"name\":\"Biotin\",\"text\":\"\",\"type\":\"scatter\",\"x\":[0.5273457311462271,0.7910185967193406,0.9492223160632087,1.0546914622924541,1.1601606085216996,1.265629754750945,1.3710989009801904,1.4765680472094358,1.5820371934386812,2.1093829245849083,4.218765849169817],\"y\":[172.18833873885603,176.07170207750517,176.07169319614584,176.0716917533399,176.071697565223,176.07169756388248,166.767630354,166.7676220103027,166.76762194986136,161.68004543074056,174.45575932149126]},{\"line\":{\"color\":\"rgba(50, 171, 96, 0.9647577092511013)\",\"dash\":\"solid\",\"shape\":\"linear\",\"width\":1.3},\"mode\":\"lines\",\"name\":\"Caffeine\",\"text\":\"\",\"type\":\"scatter\",\"x\":[0.5273457311462271,0.7910185967193406,0.9492223160632087,1.0546914622924541,1.1601606085216996,1.265629754750945,1.3710989009801904,1.4765680472094358,1.5820371934386812,2.1093829245849083,4.218765849169817],\"y\":[0.0,0.0,0.0,0.0,0.0,0.0,0.0,0.0,0.0,0.0,0.0]},{\"line\":{\"color\":\"rgba(128, 0, 128, 0.9647577092511013)\",\"dash\":\"solid\",\"shape\":\"linear\",\"width\":1.3},\"mode\":\"lines\",\"name\":\"Calcium, Ca\",\"text\":\"\",\"type\":\"scatter\",\"x\":[0.5273457311462271,0.7910185967193406,0.9492223160632087,1.0546914622924541,1.1601606085216996,1.265629754750945,1.3710989009801904,1.4765680472094358,1.5820371934386812,2.1093829245849083,4.218765849169817],\"y\":[1018.3281881365995,1000.0000674551537,1000.0000275619484,1000.0000136005189,1000.0000000177484,1000.0000000145526,1000.0000003142552,1000.0000002079408,1000.000001870007,1026.7665110544199,1000.000151279376]},{\"line\":{\"color\":\"rgba(219, 64, 82, 0.9647577092511013)\",\"dash\":\"solid\",\"shape\":\"linear\",\"width\":1.3},\"mode\":\"lines\",\"name\":\"Campesterol\",\"text\":\"\",\"type\":\"scatter\",\"x\":[0.5273457311462271,0.7910185967193406,0.9492223160632087,1.0546914622924541,1.1601606085216996,1.265629754750945,1.3710989009801904,1.4765680472094358,1.5820371934386812,2.1093829245849083,4.218765849169817],\"y\":[1.9100131078052185,1.5225810986619341,1.5225821905467158,1.5225827390914999,1.5225827368235765,1.522582750156241,1.5239664329726832,1.523966401608112,1.523966339192105,0.4555413419265741,8.861626111390589]},{\"line\":{\"color\":\"rgba(0, 128, 128, 0.9647577092511013)\",\"dash\":\"solid\",\"shape\":\"linear\",\"width\":1.3},\"mode\":\"lines\",\"name\":\"Carbohydrate, by difference\",\"text\":\"\",\"type\":\"scatter\",\"x\":[0.5273457311462271,0.7910185967193406,0.9492223160632087,1.0546914622924541,1.1601606085216996,1.265629754750945,1.3710989009801904,1.4765680472094358,1.5820371934386812,2.1093829245849083,4.218765849169817],\"y\":[180.50557253515265,192.36933689471368,192.36932212648878,192.36931966898084,192.36932356210193,192.36932376744207,176.508595557136,176.50858118943668,176.50858105535158,168.17840595196193,185.84260791853197]},{\"line\":{\"color\":\"rgba(255, 255, 51, 0.9647577092511013)\",\"dash\":\"solid\",\"shape\":\"linear\",\"width\":1.3},\"mode\":\"lines\",\"name\":\"Carbohydrate, by summation\",\"text\":\"\",\"type\":\"scatter\",\"x\":[0.5273457311462271,0.7910185967193406,0.9492223160632087,1.0546914622924541,1.1601606085216996,1.265629754750945,1.3710989009801904,1.4765680472094358,1.5820371934386812,2.1093829245849083,4.218765849169817],\"y\":[30.88994403802969,37.29210011536003,37.29210198933904,37.29210508519911,37.2921174654956,37.29211743837329,20.711576061786758,20.71156131756239,20.71156082785125,6.147048180642134,6.598447342221792]},{\"line\":{\"color\":\"rgba(128, 128, 0, 0.9647577092511013)\",\"dash\":\"solid\",\"shape\":\"linear\",\"width\":1.3},\"mode\":\"lines\",\"name\":\"Carbohydrates\",\"text\":\"\",\"type\":\"scatter\",\"x\":[0.5273457311462271,0.7910185967193406,0.9492223160632087,1.0546914622924541,1.1601606085216996,1.265629754750945,1.3710989009801904,1.4765680472094358,1.5820371934386812,2.1093829245849083,4.218765849169817],\"y\":[0.0,0.0,0.0,0.0,0.0,0.0,0.0,0.0,0.0,0.0,0.0]},{\"line\":{\"color\":\"rgba(251, 128, 114, 0.9647577092511013)\",\"dash\":\"solid\",\"shape\":\"linear\",\"width\":1.3},\"mode\":\"lines\",\"name\":\"Carotene, alpha\",\"text\":\"\",\"type\":\"scatter\",\"x\":[0.5273457311462271,0.7910185967193406,0.9492223160632087,1.0546914622924541,1.1601606085216996,1.265629754750945,1.3710989009801904,1.4765680472094358,1.5820371934386812,2.1093829245849083,4.218765849169817],\"y\":[1045.1945796287919,1269.236940873047,1269.2366268884577,1269.23581242389,1269.2328587578436,1269.2328539099824,4299.6619702955495,4299.664694679032,4299.6648956970275,8615.565735811017,13469.245058250239]},{\"line\":{\"color\":\"rgba(251, 128, 114, 0.9295154185022025)\",\"dash\":\"solid\",\"shape\":\"linear\",\"width\":1.3},\"mode\":\"lines\",\"name\":\"Carotene, beta\",\"text\":\"\",\"type\":\"scatter\",\"x\":[0.5273457311462271,0.7910185967193406,0.9492223160632087,1.0546914622924541,1.1601606085216996,1.265629754750945,1.3710989009801904,1.4765680472094358,1.5820371934386812,2.1093829245849083,4.218765849169817],\"y\":[3601.335545256749,3495.155853428871,3495.1548865384466,3495.152916121599,3495.1458998734165,3495.1458890369436,10639.87551428319,10639.881935779744,10639.882411398285,20843.211058063596,32304.26678089708]},{\"line\":{\"color\":\"rgba(128, 177, 211, 0.9295154185022025)\",\"dash\":\"solid\",\"shape\":\"linear\",\"width\":1.3},\"mode\":\"lines\",\"name\":\"Carotene, gamma\",\"text\":\"\",\"type\":\"scatter\",\"x\":[0.5273457311462271,0.7910185967193406,0.9492223160632087,1.0546914622924541,1.1601606085216996,1.265629754750945,1.3710989009801904,1.4765680472094358,1.5820371934386812,2.1093829245849083,4.218765849169817],\"y\":[5.351462082798341e-10,2.7547613884123536e-08,1.0993428687331682e-08,7.11321394213959e-09,4.970140529574316e-11,1.604255768661408e-10,6.508166667299427e-10,1.2208138418602414e-10,1.0069821019759458e-10,5.94212292618043e-10,3.3594369957580234e-08]},{\"line\":{\"color\":\"rgba(255, 153, 51, 0.9295154185022025)\",\"dash\":\"solid\",\"shape\":\"linear\",\"width\":1.3},\"mode\":\"lines\",\"name\":\"Cholesterol\",\"text\":\"\",\"type\":\"scatter\",\"x\":[0.5273457311462271,0.7910185967193406,0.9492223160632087,1.0546914622924541,1.1601606085216996,1.265629754750945,1.3710989009801904,1.4765680472094358,1.5820371934386812,2.1093829245849083,4.218765849169817],\"y\":[0.0,0.0,0.0,0.0,0.0,0.0,0.0,0.0,0.0,0.0,0.0]},{\"line\":{\"color\":\"rgba(55, 128, 191, 0.9295154185022025)\",\"dash\":\"solid\",\"shape\":\"linear\",\"width\":1.3},\"mode\":\"lines\",\"name\":\"Choline, total\",\"text\":\"\",\"type\":\"scatter\",\"x\":[0.5273457311462271,0.7910185967193406,0.9492223160632087,1.0546914622924541,1.1601606085216996,1.265629754750945,1.3710989009801904,1.4765680472094358,1.5820371934386812,2.1093829245849083,4.218765849169817],\"y\":[137.2314618512733,133.51198527029965,133.51198959118437,133.5119889536027,133.5119854293694,133.51198535111143,145.79612062829707,145.7961317137813,145.79613171344306,151.9948863409091,62.772219112493396]},{\"line\":{\"color\":\"rgba(50, 171, 96, 0.9295154185022025)\",\"dash\":\"solid\",\"shape\":\"linear\",\"width\":1.3},\"mode\":\"lines\",\"name\":\"Citric acid\",\"text\":\"\",\"type\":\"scatter\",\"x\":[0.5273457311462271,0.7910185967193406,0.9492223160632087,1.0546914622924541,1.1601606085216996,1.265629754750945,1.3710989009801904,1.4765680472094358,1.5820371934386812,2.1093829245849083,4.218765849169817],\"y\":[496.86183363172256,542.0686385990526,542.0686607531493,542.068713834625,542.0689255632194,542.068925130485,254.37608874941688,254.37583281384357,254.37582420119685,7.4079539272121575e-06,2.4486108995619875e-05]},{\"line\":{\"color\":\"rgba(128, 0, 128, 0.9295154185022025)\",\"dash\":\"solid\",\"shape\":\"linear\",\"width\":1.3},\"mode\":\"lines\",\"name\":\"Copper, Cu\",\"text\":\"\",\"type\":\"scatter\",\"x\":[0.5273457311462271,0.7910185967193406,0.9492223160632087,1.0546914622924541,1.1601606085216996,1.265629754750945,1.3710989009801904,1.4765680472094358,1.5820371934386812,2.1093829245849083,4.218765849169817],\"y\":[2.9140350183818575,2.933240821401403,2.9332407284366013,2.9332407192254024,2.933240760735286,2.9332407620501915,2.865304240360971,2.865304177379072,2.8653041733239437,2.7659150503319836,3.397798811297963]},{\"line\":{\"color\":\"rgba(219, 64, 82, 0.9295154185022025)\",\"dash\":\"solid\",\"shape\":\"linear\",\"width\":1.3},\"mode\":\"lines\",\"name\":\"Cryptoxanthin, alpha\",\"text\":\"\",\"type\":\"scatter\",\"x\":[0.5273457311462271,0.7910185967193406,0.9492223160632087,1.0546914622924541,1.1601606085216996,1.265629754750945,1.3710989009801904,1.4765680472094358,1.5820371934386812,2.1093829245849083,4.218765849169817],\"y\":[2.4238975316204247e-09,1.2477448641632426e-07,4.9793765230855267e-08,3.221867491439696e-08,2.251181298689543e-10,7.26633495217226e-10,2.9478166669532698e-09,5.529568577837564e-10,4.5610365795381074e-10,2.6914321489170187e-09,1.5216273451374578e-07]},{\"line\":{\"color\":\"rgba(0, 128, 128, 0.9295154185022025)\",\"dash\":\"solid\",\"shape\":\"linear\",\"width\":1.3},\"mode\":\"lines\",\"name\":\"Cryptoxanthin, beta\",\"text\":\"\",\"type\":\"scatter\",\"x\":[0.5273457311462271,0.7910185967193406,0.9492223160632087,1.0546914622924541,1.1601606085216996,1.265629754750945,1.3710989009801904,1.4765680472094358,1.5820371934386812,2.1093829245849083,4.218765849169817],\"y\":[21.248208537114067,13.071748964301383,13.071755043645503,13.071758371248503,13.071759659316806,13.071759710527193,12.293923060466865,12.293922218723829,12.293921805967564,5.501196528358277,18.30442653331545]},{\"line\":{\"color\":\"rgba(255, 255, 51, 0.9295154185022025)\",\"dash\":\"solid\",\"shape\":\"linear\",\"width\":1.3},\"mode\":\"lines\",\"name\":\"Cysteine\",\"text\":\"\",\"type\":\"scatter\",\"x\":[0.5273457311462271,0.7910185967193406,0.9492223160632087,1.0546914622924541,1.1601606085216996,1.265629754750945,1.3710989009801904,1.4765680472094358,1.5820371934386812,2.1093829245849083,4.218765849169817],\"y\":[1.2393299063864496,1.2620525118249668,1.2620524606014285,1.2620524522861873,1.2620524865881124,1.26205248657769,1.2076118791889439,1.2076118303925363,1.2076118300355592,1.1778430472140697,1.2525971912395248]},{\"line\":{\"color\":\"rgba(128, 128, 0, 0.9295154185022025)\",\"dash\":\"solid\",\"shape\":\"linear\",\"width\":1.3},\"mode\":\"lines\",\"name\":\"Cystine\",\"text\":\"\",\"type\":\"scatter\",\"x\":[0.5273457311462271,0.7910185967193406,0.9492223160632087,1.0546914622924541,1.1601606085216996,1.265629754750945,1.3710989009801904,1.4765680472094358,1.5820371934386812,2.1093829245849083,4.218765849169817],\"y\":[0.3462180645781322,0.36499938336632926,0.36499933929578204,0.3649993104455485,0.36499923061341916,0.3649992313027748,0.4298419182107009,0.42984197576911154,0.4298419801944659,0.5242998437035941,0.7463777895095454]},{\"line\":{\"color\":\"rgba(128, 128, 0, 0.894273127753304)\",\"dash\":\"solid\",\"shape\":\"linear\",\"width\":1.3},\"mode\":\"lines\",\"name\":\"Daidzein\",\"text\":\"\",\"type\":\"scatter\",\"x\":[0.5273457311462271,0.7910185967193406,0.9492223160632087,1.0546914622924541,1.1601606085216996,1.265629754750945,1.3710989009801904,1.4765680472094358,1.5820371934386812,2.1093829245849083,4.218765849169817],\"y\":[22.60194092445377,23.108754947290258,23.10875382307138,23.108753641093887,23.108754410758134,23.108754410387306,21.894489402471855,21.894488314925056,21.894488307033534,21.230513508674612,22.8978597110987]},{\"line\":{\"color\":\"rgba(251, 128, 114, 0.894273127753304)\",\"dash\":\"solid\",\"shape\":\"linear\",\"width\":1.3},\"mode\":\"lines\",\"name\":\"Daidzin\",\"text\":\"\",\"type\":\"scatter\",\"x\":[0.5273457311462271,0.7910185967193406,0.9492223160632087,1.0546914622924541,1.1601606085216996,1.265629754750945,1.3710989009801904,1.4765680472094358,1.5820371934386812,2.1093829245849083,4.218765849169817],\"y\":[79.9421697881416,79.97088523373198,79.97088488458697,79.97088481982873,79.97088479195543,79.97088479409368,79.90208705122987,79.9020869766945,79.90208697514498,79.86446753839202,79.95893629675567]},{\"line\":{\"color\":\"rgba(128, 177, 211, 0.894273127753304)\",\"dash\":\"solid\",\"shape\":\"linear\",\"width\":1.3},\"mode\":\"lines\",\"name\":\"Delta-5-avenasterol\",\"text\":\"\",\"type\":\"scatter\",\"x\":[0.5273457311462271,0.7910185967193406,0.9492223160632087,1.0546914622924541,1.1601606085216996,1.265629754750945,1.3710989009801904,1.4765680472094358,1.5820371934386812,2.1093829245849083,4.218765849169817],\"y\":[0.0,0.0,0.0,0.0,0.0,0.0,0.0,0.0,0.0,0.0,0.0]},{\"line\":{\"color\":\"rgba(255, 153, 51, 0.894273127753304)\",\"dash\":\"solid\",\"shape\":\"linear\",\"width\":1.3},\"mode\":\"lines\",\"name\":\"Delta-7-Stigmastenol\",\"text\":\"\",\"type\":\"scatter\",\"x\":[0.5273457311462271,0.7910185967193406,0.9492223160632087,1.0546914622924541,1.1601606085216996,1.265629754750945,1.3710989009801904,1.4765680472094358,1.5820371934386812,2.1093829245849083,4.218765849169817],\"y\":[0.0,0.0,0.0,0.0,0.0,0.0,0.0,0.0,0.0,0.0,0.0]},{\"line\":{\"color\":\"rgba(55, 128, 191, 0.894273127753304)\",\"dash\":\"solid\",\"shape\":\"linear\",\"width\":1.3},\"mode\":\"lines\",\"name\":\"Energy\",\"text\":\"\",\"type\":\"scatter\",\"x\":[0.5273457311462271,0.7910185967193406,0.9492223160632087,1.0546914622924541,1.1601606085216996,1.265629754750945,1.3710989009801904,1.4765680472094358,1.5820371934386812,2.1093829245849083,4.218765849169817],\"y\":[3028.3289022187005,3229.2214572619478,3229.2213294165203,3229.221341040752,3229.2214018832387,3229.2214069461556,2955.585264072525,2955.5850137348557,2955.5850052821093,2717.5136899502695,3299.999646746663]},{\"line\":{\"color\":\"rgba(50, 171, 96, 0.894273127753304)\",\"dash\":\"solid\",\"shape\":\"linear\",\"width\":1.3},\"mode\":\"lines\",\"name\":\"Energy (Atwater General Factors)\",\"text\":\"\",\"type\":\"scatter\",\"x\":[0.5273457311462271,0.7910185967193406,0.9492223160632087,1.0546914622924541,1.1601606085216996,1.265629754750945,1.3710989009801904,1.4765680472094358,1.5820371934386812,2.1093829245849083,4.218765849169817],\"y\":[1326.9802324364787,1354.9147175018138,1354.914648486047,1354.9146370872024,1354.9146771597434,1354.9146771846351,1287.9870603159213,1287.9870001054794,1287.9869996658015,1251.3901691028336,1343.2906465546857]},{\"line\":{\"color\":\"rgba(128, 0, 128, 0.894273127753304)\",\"dash\":\"solid\",\"shape\":\"linear\",\"width\":1.3},\"mode\":\"lines\",\"name\":\"Energy (Atwater Specific Factors)\",\"text\":\"\",\"type\":\"scatter\",\"x\":[0.5273457311462271,0.7910185967193406,0.9492223160632087,1.0546914622924541,1.1601606085216996,1.265629754750945,1.3710989009801904,1.4765680472094358,1.5820371934386812,2.1093829245849083,4.218765849169817],\"y\":[1253.907674841679,1279.9729179213814,1279.972853481468,1279.972842852658,1279.972880258766,1279.9728802815566,1217.523739125808,1217.5236829397077,1217.5236825297811,1183.375736667622,1269.1266746537412]},{\"line\":{\"color\":\"rgba(219, 64, 82, 0.894273127753304)\",\"dash\":\"solid\",\"shape\":\"linear\",\"width\":1.3},\"mode\":\"lines\",\"name\":\"Ergosta-7-enol\",\"text\":\"\",\"type\":\"scatter\",\"x\":[0.5273457311462271,0.7910185967193406,0.9492223160632087,1.0546914622924541,1.1601606085216996,1.265629754750945,1.3710989009801904,1.4765680472094358,1.5820371934386812,2.1093829245849083,4.218765849169817],\"y\":[9.488651356498131e-11,4.939278302108704e-09,1.5751470634742181e-09,9.638268860345555e-10,8.640851400222414e-12,2.431236886787453e-11,1.4825516084279808e-10,2.2346351782162215e-11,1.9351481507560187e-11,1.1863392572858153e-10,5.170333508187571e-09]},{\"line\":{\"color\":\"rgba(0, 128, 128, 0.894273127753304)\",\"dash\":\"solid\",\"shape\":\"linear\",\"width\":1.3},\"mode\":\"lines\",\"name\":\"Ergosterol\",\"text\":\"\",\"type\":\"scatter\",\"x\":[0.5273457311462271,0.7910185967193406,0.9492223160632087,1.0546914622924541,1.1601606085216996,1.265629754750945,1.3710989009801904,1.4765680472094358,1.5820371934386812,2.1093829245849083,4.218765849169817],\"y\":[3.2286965448059737e-09,1.6806846609378456e-07,5.359741537892689e-08,3.279606784793225e-08,2.940216265926354e-10,8.272752197391824e-10,5.044667651688845e-09,7.603776983404035e-10,6.584714637823418e-10,4.036748023567401e-09,1.7593056490528088e-07]},{\"line\":{\"color\":\"rgba(255, 255, 51, 0.894273127753304)\",\"dash\":\"solid\",\"shape\":\"linear\",\"width\":1.3},\"mode\":\"lines\",\"name\":\"Ergothioneine\",\"text\":\"\",\"type\":\"scatter\",\"x\":[0.5273457311462271,0.7910185967193406,0.9492223160632087,1.0546914622924541,1.1601606085216996,1.265629754750945,1.3710989009801904,1.4765680472094358,1.5820371934386812,2.1093829245849083,4.218765849169817],\"y\":[2.467978473997372e-10,1.2846960088104034e-08,4.096924736698548e-09,2.5068936754264755e-09,2.247467469458094e-11,6.323596553761735e-11,3.8560858848340995e-10,5.812239600623588e-11,5.0332800738758136e-11,3.085643723050622e-10,1.3447929871356902e-08]},{\"line\":{\"color\":\"rgba(255, 255, 51, 0.8590308370044053)\",\"dash\":\"solid\",\"shape\":\"linear\",\"width\":1.3},\"mode\":\"lines\",\"name\":\"Fatty acids, total monounsaturated\",\"text\":\"\",\"type\":\"scatter\",\"x\":[0.5273457311462271,0.7910185967193406,0.9492223160632087,1.0546914622924541,1.1601606085216996,1.265629754750945,1.3710989009801904,1.4765680472094358,1.5820371934386812,2.1093829245849083,4.218765849169817],\"y\":[59.560547232127504,60.734292992629896,60.73429213861081,60.734292735340816,60.734295099814005,60.73429511794271,56.89492012547889,56.894916634852144,56.89491649757626,53.03170632952336,63.85850919467003]},{\"line\":{\"color\":\"rgba(128, 128, 0, 0.8590308370044053)\",\"dash\":\"solid\",\"shape\":\"linear\",\"width\":1.3},\"mode\":\"lines\",\"name\":\"Fatty acids, total polyunsaturated\",\"text\":\"\",\"type\":\"scatter\",\"x\":[0.5273457311462271,0.7910185967193406,0.9492223160632087,1.0546914622924541,1.1601606085216996,1.265629754750945,1.3710989009801904,1.4765680472094358,1.5820371934386812,2.1093829245849083,4.218765849169817],\"y\":[25.63720475418712,26.10422625909004,26.104225266461498,26.104225194751432,26.10422577411204,26.10422578031125,24.82781290645962,24.82781174677203,24.82781172826606,23.970631763903793,27.522382152181716]},{\"line\":{\"color\":\"rgba(251, 128, 114, 0.8590308370044053)\",\"dash\":\"solid\",\"shape\":\"linear\",\"width\":1.3},\"mode\":\"lines\",\"name\":\"Fatty acids, total saturated\",\"text\":\"\",\"type\":\"scatter\",\"x\":[0.5273457311462271,0.7910185967193406,0.9492223160632087,1.0546914622924541,1.1601606085216996,1.265629754750945,1.3710989009801904,1.4765680472094358,1.5820371934386812,2.1093829245849083,4.218765849169817],\"y\":[17.772194750860052,18.122579594597216,18.122579134758265,18.122579205785765,18.122579805716125,18.122579810398854,17.07876116444185,17.078760217067614,17.0787601883321,16.165892710246627,18.845644099764844]},{\"line\":{\"color\":\"rgba(128, 177, 211, 0.8590308370044053)\",\"dash\":\"solid\",\"shape\":\"linear\",\"width\":1.3},\"mode\":\"lines\",\"name\":\"Fatty acids, total trans\",\"text\":\"\",\"type\":\"scatter\",\"x\":[0.5273457311462271,0.7910185967193406,0.9492223160632087,1.0546914622924541,1.1601606085216996,1.265629754750945,1.3710989009801904,1.4765680472094358,1.5820371934386812,2.1093829245849083,4.218765849169817],\"y\":[3.4485205624227655e-11,0.0022163355928530755,0.0022163339380632556,0.002216333587458873,0.002216333902545271,0.002216333905376395,1.9942263598341366e-09,2.588353702584859e-12,6.321969606097415e-11,6.464573472464638e-11,0.00379699038109046]},{\"line\":{\"color\":\"rgba(255, 153, 51, 0.8590308370044053)\",\"dash\":\"solid\",\"shape\":\"linear\",\"width\":1.3},\"mode\":\"lines\",\"name\":\"Fatty acids, total trans-monoenoic\",\"text\":\"\",\"type\":\"scatter\",\"x\":[0.5273457311462271,0.7910185967193406,0.9492223160632087,1.0546914622924541,1.1601606085216996,1.265629754750945,1.3710989009801904,1.4765680472094358,1.5820371934386812,2.1093829245849083,4.218765849169817],\"y\":[0.004960569832357316,0.004960569987400262,0.004960569895830403,0.004960569873284899,0.004960569829839424,0.004960569830573875,0.004960569833297099,0.004960569830319662,0.004960569830152922,0.00496056983421725,0.004960570192751338]},{\"line\":{\"color\":\"rgba(55, 128, 191, 0.8590308370044053)\",\"dash\":\"solid\",\"shape\":\"linear\",\"width\":1.3},\"mode\":\"lines\",\"name\":\"Fatty acids, total trans-polyenoic\",\"text\":\"\",\"type\":\"scatter\",\"x\":[0.5273457311462271,0.7910185967193406,0.9492223160632087,1.0546914622924541,1.1601606085216996,1.265629754750945,1.3710989009801904,1.4765680472094358,1.5820371934386812,2.1093829245849083,4.218765849169817],\"y\":[4.215797161791944e-12,2.2712673095151447e-10,1.0282734818862355e-10,6.912034248246069e-11,4.092508848360363e-13,1.4184832941786465e-12,4.5464573342240114e-12,1.071646096653697e-12,8.655805886693675e-13,6.190676493421579e-12,5.587479670216735e-10]},{\"line\":{\"color\":\"rgba(50, 171, 96, 0.8590308370044053)\",\"dash\":\"solid\",\"shape\":\"linear\",\"width\":1.3},\"mode\":\"lines\",\"name\":\"Fiber, insoluble\",\"text\":\"\",\"type\":\"scatter\",\"x\":[0.5273457311462271,0.7910185967193406,0.9492223160632087,1.0546914622924541,1.1601606085216996,1.265629754750945,1.3710989009801904,1.4765680472094358,1.5820371934386812,2.1093829245849083,4.218765849169817],\"y\":[2.262633716456143e-08,0.6099020478396927,0.6099021112015325,0.609902070655691,0.6099019258262087,0.6099019259567945,0.8315647216309078,0.8315649192653387,0.831564926994544,1.04383829291143,1.120490857964893]},{\"line\":{\"color\":\"rgba(128, 0, 128, 0.8590308370044053)\",\"dash\":\"solid\",\"shape\":\"linear\",\"width\":1.3},\"mode\":\"lines\",\"name\":\"Fiber, soluble\",\"text\":\"\",\"type\":\"scatter\",\"x\":[0.5273457311462271,0.7910185967193406,0.9492223160632087,1.0546914622924541,1.1601606085216996,1.265629754750945,1.3710989009801904,1.4765680472094358,1.5820371934386812,2.1093829245849083,4.218765849169817],\"y\":[2.514037462729048e-09,0.0677668942044103,0.06776690124461472,0.06776689673952123,0.06776688064735652,0.06776688066186605,0.09239608018121198,0.09239610214059318,0.09239610299939377,0.11598203254571444,0.12449898421832145]},{\"line\":{\"color\":\"rgba(219, 64, 82, 0.8590308370044053)\",\"dash\":\"solid\",\"shape\":\"linear\",\"width\":1.3},\"mode\":\"lines\",\"name\":\"Fiber, total dietary\",\"text\":\"\",\"type\":\"scatter\",\"x\":[0.5273457311462271,0.7910185967193406,0.9492223160632087,1.0546914622924541,1.1601606085216996,1.265629754750945,1.3710989009801904,1.4765680472094358,1.5820371934386812,2.1093829245849083,4.218765849169817],\"y\":[56.76724057200578,55.84431239333083,55.84431309435194,55.84431310503791,55.844313010125674,55.8443130050708,57.62540563576092,57.62540723852195,57.625407181247866,57.650053554151654,44.12082988224757]},{\"line\":{\"color\":\"rgba(0, 128, 128, 0.8590308370044053)\",\"dash\":\"solid\",\"shape\":\"linear\",\"width\":1.3},\"mode\":\"lines\",\"name\":\"Fluoride, F\",\"text\":\"\",\"type\":\"scatter\",\"x\":[0.5273457311462271,0.7910185967193406,0.9492223160632087,1.0546914622924541,1.1601606085216996,1.265629754750945,1.3710989009801904,1.4765680472094358,1.5820371934386812,2.1093829245849083,4.218765849169817],\"y\":[3.618121416595881,6.448960356565097,6.448959873963582,6.44895954713115,6.448957602752702,6.44895761254117,6.079141228401546,6.079140869992603,6.079141047434618,8.564940317481948,21.97759740963095]},{\"line\":{\"color\":\"rgba(0, 128, 128, 0.8237885462555066)\",\"dash\":\"solid\",\"shape\":\"linear\",\"width\":1.3},\"mode\":\"lines\",\"name\":\"Folate, DFE\",\"text\":\"\",\"type\":\"scatter\",\"x\":[0.5273457311462271,0.7910185967193406,0.9492223160632087,1.0546914622924541,1.1601606085216996,1.265629754750945,1.3710989009801904,1.4765680472094358,1.5820371934386812,2.1093829245849083,4.218765849169817],\"y\":[400.0000001420315,400.0000080965078,400.00000355506063,400.0000024339112,400.0000000131982,400.00000008073624,400.00000025244776,400.00000005671495,400.0000000635146,400.0000010944101,424.85243167808557]},{\"line\":{\"color\":\"rgba(255, 255, 51, 0.8237885462555066)\",\"dash\":\"solid\",\"shape\":\"linear\",\"width\":1.3},\"mode\":\"lines\",\"name\":\"Folate, food\",\"text\":\"\",\"type\":\"scatter\",\"x\":[0.5273457311462271,0.7910185967193406,0.9492223160632087,1.0546914622924541,1.1601606085216996,1.265629754750945,1.3710989009801904,1.4765680472094358,1.5820371934386812,2.1093829245849083,4.218765849169817],\"y\":[399.9999998099094,373.24567582218117,373.2456887657941,373.24569120997677,373.2456836263445,373.2456836799386,399.9999762715706,400.00000004705953,399.9999993180722,400.0000004425749,379.01734479747245]},{\"line\":{\"color\":\"rgba(128, 128, 0, 0.8237885462555066)\",\"dash\":\"solid\",\"shape\":\"linear\",\"width\":1.3},\"mode\":\"lines\",\"name\":\"Folate, total\",\"text\":\"\",\"type\":\"scatter\",\"x\":[0.5273457311462271,0.7910185967193406,0.9492223160632087,1.0546914622924541,1.1601606085216996,1.265629754750945,1.3710989009801904,1.4765680472094358,1.5820371934386812,2.1093829245849083,4.218765849169817],\"y\":[708.8108307305782,712.3586380702574,712.358630701056,712.3586305697884,712.3586382554183,712.3586383181631,704.3989742215492,704.3989668912932,704.3989662756572,691.2667935172228,712.3538857108683]},{\"line\":{\"color\":\"rgba(251, 128, 114, 0.8237885462555066)\",\"dash\":\"solid\",\"shape\":\"linear\",\"width\":1.3},\"mode\":\"lines\",\"name\":\"Folic acid\",\"text\":\"\",\"type\":\"scatter\",\"x\":[0.5273457311462271,0.7910185967193406,0.9492223160632087,1.0546914622924541,1.1601606085216996,1.265629754750945,1.3710989009801904,1.4765680472094358,1.5820371934386812,2.1093829245849083,4.218765849169817],\"y\":[1.96521972645267e-07,15.830965842796852,15.830955496607421,15.83095338694348,15.830956441925276,15.830956450176108,1.4189868162108993e-05,5.7132722300586304e-09,4.4109019582781505e-07,3.857012741095635e-07,27.121353183794746]},{\"line\":{\"color\":\"rgba(128, 177, 211, 0.8237885462555066)\",\"dash\":\"solid\",\"shape\":\"linear\",\"width\":1.3},\"mode\":\"lines\",\"name\":\"Fructose\",\"text\":\"\",\"type\":\"scatter\",\"x\":[0.5273457311462271,0.7910185967193406,0.9492223160632087,1.0546914622924541,1.1601606085216996,1.265629754750945,1.3710989009801904,1.4765680472094358,1.5820371934386812,2.1093829245849083,4.218765849169817],\"y\":[9.081681574271196,10.719727987303576,10.719728321859993,10.71972907476865,10.719732156750172,10.719732149650726,6.34795943249852,6.347955543695246,6.347955430189069,2.7420055888078214,3.6770507124058867]},{\"line\":{\"color\":\"rgba(255, 153, 51, 0.8237885462555066)\",\"dash\":\"solid\",\"shape\":\"linear\",\"width\":1.3},\"mode\":\"lines\",\"name\":\"Galactose\",\"text\":\"\",\"type\":\"scatter\",\"x\":[0.5273457311462271,0.7910185967193406,0.9492223160632087,1.0546914622924541,1.1601606085216996,1.265629754750945,1.3710989009801904,1.4765680472094358,1.5820371934386812,2.1093829245849083,4.218765849169817],\"y\":[0.03820026131850172,0.03045161259311982,0.03045163991240479,0.030451652135513926,0.03045165472803642,0.030451654905617062,0.030479328434208676,0.030479327964248844,0.030479326606131098,0.009110826131604756,0.05957552386072747]},{\"line\":{\"color\":\"rgba(55, 128, 191, 0.8237885462555066)\",\"dash\":\"solid\",\"shape\":\"linear\",\"width\":1.3},\"mode\":\"lines\",\"name\":\"Genistein\",\"text\":\"\",\"type\":\"scatter\",\"x\":[0.5273457311462271,0.7910185967193406,0.9492223160632087,1.0546914622924541,1.1601606085216996,1.265629754750945,1.3710989009801904,1.4765680472094358,1.5820371934386812,2.1093829245849083,4.218765849169817],\"y\":[2.320630882882809,2.3206308948827363,2.3206308864615752,2.320630884855287,2.320630882746497,2.3206308828101987,2.320630883161385,2.3206308827803084,2.320630882747786,2.3206308829830395,2.320630893490327]},{\"line\":{\"color\":\"rgba(50, 171, 96, 0.8237885462555066)\",\"dash\":\"solid\",\"shape\":\"linear\",\"width\":1.3},\"mode\":\"lines\",\"name\":\"Genistin\",\"text\":\"\",\"type\":\"scatter\",\"x\":[0.5273457311462271,0.7910185967193406,0.9492223160632087,1.0546914622924541,1.1601606085216996,1.265629754750945,1.3710989009801904,1.4765680472094358,1.5820371934386812,2.1093829245849083,4.218765849169817],\"y\":[118.18111198872656,118.2665545253461,118.26655392078682,118.26655381094305,118.2665538367677,118.26655383984466,118.06184530607997,118.06184510395329,118.06184510102004,117.94990800001145,118.23100039072543]},{\"line\":{\"color\":\"rgba(128, 0, 128, 0.8237885462555066)\",\"dash\":\"solid\",\"shape\":\"linear\",\"width\":1.3},\"mode\":\"lines\",\"name\":\"Glucose\",\"text\":\"\",\"type\":\"scatter\",\"x\":[0.5273457311462271,0.7910185967193406,0.9492223160632087,1.0546914622924541,1.1601606085216996,1.265629754750945,1.3710989009801904,1.4765680472094358,1.5820371934386812,2.1093829245849083,4.218765849169817],\"y\":[8.402164185158922,9.846133458574585,9.84613382810078,9.846134528441706,9.846137282103456,9.846137276047443,5.913579937651766,5.913576439276364,5.913576337142629,2.6667029669852105,3.7854020003635624]},{\"line\":{\"color\":\"rgba(219, 64, 82, 0.8237885462555066)\",\"dash\":\"solid\",\"shape\":\"linear\",\"width\":1.3},\"mode\":\"lines\",\"name\":\"Glutamic acid\",\"text\":\"\",\"type\":\"scatter\",\"x\":[0.5273457311462271,0.7910185967193406,0.9492223160632087,1.0546914622924541,1.1601606085216996,1.265629754750945,1.3710989009801904,1.4765680472094358,1.5820371934386812,2.1093829245849083,4.218765849169817],\"y\":[19.447941202786218,19.97127040898667,19.971269270231804,19.971268936146156,19.971268888405117,19.971268899977908,19.585674587833395,19.585674234879257,19.585674245666816,19.60007751027255,20.900223827748015]},{\"line\":{\"color\":\"rgba(219, 64, 82, 0.7885462555066078)\",\"dash\":\"solid\",\"shape\":\"linear\",\"width\":1.3},\"mode\":\"lines\",\"name\":\"Glycine\",\"text\":\"\",\"type\":\"scatter\",\"x\":[0.5273457311462271,0.7910185967193406,0.9492223160632087,1.0546914622924541,1.1601606085216996,1.265629754750945,1.3710989009801904,1.4765680472094358,1.5820371934386812,2.1093829245849083,4.218765849169817],\"y\":[5.1948885395263575,5.265694944082312,5.265694718183633,5.265694665317646,5.265694735223266,5.2656947363763855,5.151975375967198,5.151975272811416,5.151975271109863,5.074781192146573,5.336982246921968]},{\"line\":{\"color\":\"rgba(0, 128, 128, 0.7885462555066078)\",\"dash\":\"solid\",\"shape\":\"linear\",\"width\":1.3},\"mode\":\"lines\",\"name\":\"Glycitin\",\"text\":\"\",\"type\":\"scatter\",\"x\":[0.5273457311462271,0.7910185967193406,0.9492223160632087,1.0546914622924541,1.1601606085216996,1.265629754750945,1.3710989009801904,1.4765680472094358,1.5820371934386812,2.1093829245849083,4.218765849169817],\"y\":[9.04690076610987,9.065143460029878,9.06514338968651,9.065143377437336,9.065143397659456,9.065143397872117,9.021436216241549,9.02143617574354,9.021436175344101,8.99753655974568,9.057552330750404]},{\"line\":{\"color\":\"rgba(255, 255, 51, 0.7885462555066078)\",\"dash\":\"solid\",\"shape\":\"linear\",\"width\":1.3},\"mode\":\"lines\",\"name\":\"High Molecular Weight Dietary Fiber (HMWDF)\",\"text\":\"\",\"type\":\"scatter\",\"x\":[0.5273457311462271,0.7910185967193406,0.9492223160632087,1.0546914622924541,1.1601606085216996,1.265629754750945,1.3710989009801904,1.4765680472094358,1.5820371934386812,2.1093829245849083,4.218765849169817],\"y\":[2.6545758209281865e-09,1.3488204135120537e-07,4.266421085335303e-08,2.73108978678497e-08,2.607848611424833e-10,7.383370133928278e-10,4.687624081807612e-09,7.59112167799371e-10,8.056861667356279e-10,5.260712365235688e-09,3.842095762610784e-07]},{\"line\":{\"color\":\"rgba(128, 128, 0, 0.7885462555066078)\",\"dash\":\"solid\",\"shape\":\"linear\",\"width\":1.3},\"mode\":\"lines\",\"name\":\"Histidine\",\"text\":\"\",\"type\":\"scatter\",\"x\":[0.5273457311462271,0.7910185967193406,0.9492223160632087,1.0546914622924541,1.1601606085216996,1.265629754750945,1.3710989009801904,1.4765680472094358,1.5820371934386812,2.1093829245849083,4.218765849169817],\"y\":[2.7181242363572236,2.7444187005278557,2.7444185914525296,2.744418559509464,2.7444185690681993,2.7444185697819496,2.726158808706489,2.7261587917184715,2.7261587915912093,2.7153984277624694,2.8330195220393577]},{\"line\":{\"color\":\"rgba(251, 128, 114, 0.7885462555066078)\",\"dash\":\"solid\",\"shape\":\"linear\",\"width\":1.3},\"mode\":\"lines\",\"name\":\"Hydroxyproline\",\"text\":\"\",\"type\":\"scatter\",\"x\":[0.5273457311462271,0.7910185967193406,0.9492223160632087,1.0546914622924541,1.1601606085216996,1.265629754750945,1.3710989009801904,1.4765680472094358,1.5820371934386812,2.1093829245849083,4.218765849169817],\"y\":[0.2809352992293304,0.2881217980397093,0.2881217822420973,0.2881217796890798,0.28812179063867466,0.2881217906323307,0.2709038094931632,0.2709037940785107,0.27090379396716513,0.2614887935501252,0.2851313551418782]},{\"line\":{\"color\":\"rgba(128, 177, 211, 0.7885462555066078)\",\"dash\":\"solid\",\"shape\":\"linear\",\"width\":1.3},\"mode\":\"lines\",\"name\":\"Iodine, I\",\"text\":\"\",\"type\":\"scatter\",\"x\":[0.5273457311462271,0.7910185967193406,0.9492223160632087,1.0546914622924541,1.1601606085216996,1.265629754750945,1.3710989009801904,1.4765680472094358,1.5820371934386812,2.1093829245849083,4.218765849169817],\"y\":[0.0,0.0,0.0,0.0,0.0,0.0,0.0,0.0,0.0,0.0,0.0]},{\"line\":{\"color\":\"rgba(255, 153, 51, 0.7885462555066078)\",\"dash\":\"solid\",\"shape\":\"linear\",\"width\":1.3},\"mode\":\"lines\",\"name\":\"Iron, Fe\",\"text\":\"\",\"type\":\"scatter\",\"x\":[0.5273457311462271,0.7910185967193406,0.9492223160632087,1.0546914622924541,1.1601606085216996,1.265629754750945,1.3710989009801904,1.4765680472094358,1.5820371934386812,2.1093829245849083,4.218765849169817],\"y\":[18.00000000992707,18.000001103691762,18.000000264213053,18.000000007956732,18.000000000269377,18.000000003586436,18.000000007357116,18.00000000050103,18.000000000371372,18.000000002358227,18.00000026198099]},{\"line\":{\"color\":\"rgba(55, 128, 191, 0.7885462555066078)\",\"dash\":\"solid\",\"shape\":\"linear\",\"width\":1.3},\"mode\":\"lines\",\"name\":\"Isoflavones\",\"text\":\"\",\"type\":\"scatter\",\"x\":[0.5273457311462271,0.7910185967193406,0.9492223160632087,1.0546914622924541,1.1601606085216996,1.265629754750945,1.3710989009801904,1.4765680472094358,1.5820371934386812,2.1093829245849083,4.218765849169817],\"y\":[0.0,0.0,0.0,0.0,0.0,0.0,0.0,0.0,0.0,0.0,0.0]},{\"line\":{\"color\":\"rgba(50, 171, 96, 0.7885462555066078)\",\"dash\":\"solid\",\"shape\":\"linear\",\"width\":1.3},\"mode\":\"lines\",\"name\":\"Isoleucine\",\"text\":\"\",\"type\":\"scatter\",\"x\":[0.5273457311462271,0.7910185967193406,0.9492223160632087,1.0546914622924541,1.1601606085216996,1.265629754750945,1.3710989009801904,1.4765680472094358,1.5820371934386812,2.1093829245849083,4.218765849169817],\"y\":[4.115489247631516,4.144934929782868,4.144934776369902,4.144934725835075,4.144934722206348,4.144934723317665,4.149729832409763,4.149729835913726,4.149729836102117,4.155035316114495,4.201728761813927]},{\"line\":{\"color\":\"rgba(128, 0, 128, 0.7885462555066078)\",\"dash\":\"solid\",\"shape\":\"linear\",\"width\":1.3},\"mode\":\"lines\",\"name\":\"Lactose\",\"text\":\"\",\"type\":\"scatter\",\"x\":[0.5273457311462271,0.7910185967193406,0.9492223160632087,1.0546914622924541,1.1601606085216996,1.265629754750945,1.3710989009801904,1.4765680472094358,1.5820371934386812,2.1093829245849083,4.218765849169817],\"y\":[0.0,0.0,0.0,0.0,0.0,0.0,0.0,0.0,0.0,0.0,0.0]},{\"line\":{\"color\":\"rgba(128, 0, 128, 0.7533039647577093)\",\"dash\":\"solid\",\"shape\":\"linear\",\"width\":1.3},\"mode\":\"lines\",\"name\":\"Leucine\",\"text\":\"\",\"type\":\"scatter\",\"x\":[0.5273457311462271,0.7910185967193406,0.9492223160632087,1.0546914622924541,1.1601606085216996,1.265629754750945,1.3710989009801904,1.4765680472094358,1.5820371934386812,2.1093829245849083,4.218765849169817],\"y\":[7.70655470241468,7.77472496140595,7.7747246626204545,7.774724575048634,7.774724615395801,7.774724617517744,7.72044320679084,7.720443156789144,7.720443155010159,7.673219342694326,7.622536214927715]},{\"line\":{\"color\":\"rgba(219, 64, 82, 0.7533039647577093)\",\"dash\":\"solid\",\"shape\":\"linear\",\"width\":1.3},\"mode\":\"lines\",\"name\":\"Lipids\",\"text\":\"\",\"type\":\"scatter\",\"x\":[0.5273457311462271,0.7910185967193406,0.9492223160632087,1.0546914622924541,1.1601606085216996,1.265629754750945,1.3710989009801904,1.4765680472094358,1.5820371934386812,2.1093829245849083,4.218765849169817],\"y\":[0.0,0.0,0.0,0.0,0.0,0.0,0.0,0.0,0.0,0.0,0.0]},{\"line\":{\"color\":\"rgba(0, 128, 128, 0.7533039647577093)\",\"dash\":\"solid\",\"shape\":\"linear\",\"width\":1.3},\"mode\":\"lines\",\"name\":\"Low Molecular Weight Dietary Fiber (LMWDF)\",\"text\":\"\",\"type\":\"scatter\",\"x\":[0.5273457311462271,0.7910185967193406,0.9492223160632087,1.0546914622924541,1.1601606085216996,1.265629754750945,1.3710989009801904,1.4765680472094358,1.5820371934386812,2.1093829245849083,4.218765849169817],\"y\":[1.9189111417077504e-10,9.750207544443517e-09,3.0840644638299304e-09,1.974220732197236e-09,1.8851334804219086e-11,5.337210977983402e-11,3.388539143543089e-10,5.487388173703791e-11,5.824057274537457e-11,3.8028070215153174e-10,2.7773327505876576e-08]},{\"line\":{\"color\":\"rgba(255, 255, 51, 0.7533039647577093)\",\"dash\":\"solid\",\"shape\":\"linear\",\"width\":1.3},\"mode\":\"lines\",\"name\":\"Lutein\",\"text\":\"\",\"type\":\"scatter\",\"x\":[0.5273457311462271,0.7910185967193406,0.9492223160632087,1.0546914622924541,1.1601606085216996,1.265629754750945,1.3710989009801904,1.4765680472094358,1.5820371934386812,2.1093829245849083,4.218765849169817],\"y\":[2.9264917717699535e-06,0.00014583719130551348,6.284638284625143e-05,4.058826202422489e-05,2.4968564237066493e-07,1.0507572425383111e-06,2.5078572237626842e-06,5.904276565355574e-07,4.2622040751843605e-07,2.7071813210069846e-06,0.00018750102023777125]},{\"line\":{\"color\":\"rgba(128, 128, 0, 0.7533039647577093)\",\"dash\":\"solid\",\"shape\":\"linear\",\"width\":1.3},\"mode\":\"lines\",\"name\":\"Lutein + zeaxanthin\",\"text\":\"\",\"type\":\"scatter\",\"x\":[0.5273457311462271,0.7910185967193406,0.9492223160632087,1.0546914622924541,1.1601606085216996,1.265629754750945,1.3710989009801904,1.4765680472094358,1.5820371934386812,2.1093829245849083,4.218765849169817],\"y\":[2675.7962604102836,1280.5648373335775,1280.5644669419457,1280.5643995786488,1280.56428782662,1280.564288928218,1320.1549730527768,1320.1550054105676,1320.1550089578836,1393.0793781716952,1581.9211783675296]},{\"line\":{\"color\":\"rgba(251, 128, 114, 0.7533039647577093)\",\"dash\":\"solid\",\"shape\":\"linear\",\"width\":1.3},\"mode\":\"lines\",\"name\":\"Lycopene\",\"text\":\"\",\"type\":\"scatter\",\"x\":[0.5273457311462271,0.7910185967193406,0.9492223160632087,1.0546914622924541,1.1601606085216996,1.265629754750945,1.3710989009801904,1.4765680472094358,1.5820371934386812,2.1093829245849083,4.218765849169817],\"y\":[0.295032934727615,0.3597728194403107,0.3597504237456104,0.35974496055010413,0.35973459299701077,0.35973474077119316,1.2329963139799331,1.2329963867052,1.2329964158539715,2.477245303710641,3.8697452707494846]},{\"line\":{\"color\":\"rgba(128, 177, 211, 0.7533039647577093)\",\"dash\":\"solid\",\"shape\":\"linear\",\"width\":1.3},\"mode\":\"lines\",\"name\":\"Lysine\",\"text\":\"\",\"type\":\"scatter\",\"x\":[0.5273457311462271,0.7910185967193406,0.9492223160632087,1.0546914622924541,1.1601606085216996,1.265629754750945,1.3710989009801904,1.4765680472094358,1.5820371934386812,2.1093829245849083,4.218765849169817],\"y\":[5.418438330182834,5.415373735268792,5.415373595344113,5.415373542544784,5.415373535099617,5.415373535620666,5.48691848852145,5.486918551884181,5.486918551160606,5.502091834877069,5.585743354815858]},{\"line\":{\"color\":\"rgba(255, 153, 51, 0.7533039647577093)\",\"dash\":\"solid\",\"shape\":\"linear\",\"width\":1.3},\"mode\":\"lines\",\"name\":\"MUFA 12:1\",\"text\":\"\",\"type\":\"scatter\",\"x\":[0.5273457311462271,0.7910185967193406,0.9492223160632087,1.0546914622924541,1.1601606085216996,1.265629754750945,1.3710989009801904,1.4765680472094358,1.5820371934386812,2.1093829245849083,4.218765849169817],\"y\":[0.0,0.0,0.0,0.0,0.0,0.0,0.0,0.0,0.0,0.0,0.0]},{\"line\":{\"color\":\"rgba(55, 128, 191, 0.7533039647577093)\",\"dash\":\"solid\",\"shape\":\"linear\",\"width\":1.3},\"mode\":\"lines\",\"name\":\"MUFA 14:1\",\"text\":\"\",\"type\":\"scatter\",\"x\":[0.5273457311462271,0.7910185967193406,0.9492223160632087,1.0546914622924541,1.1601606085216996,1.265629754750945,1.3710989009801904,1.4765680472094358,1.5820371934386812,2.1093829245849083,4.218765849169817],\"y\":[0.0,0.0,0.0,0.0,0.0,0.0,0.0,0.0,0.0,0.0,0.0]},{\"line\":{\"color\":\"rgba(50, 171, 96, 0.7533039647577093)\",\"dash\":\"solid\",\"shape\":\"linear\",\"width\":1.3},\"mode\":\"lines\",\"name\":\"MUFA 14:1 c\",\"text\":\"\",\"type\":\"scatter\",\"x\":[0.5273457311462271,0.7910185967193406,0.9492223160632087,1.0546914622924541,1.1601606085216996,1.265629754750945,1.3710989009801904,1.4765680472094358,1.5820371934386812,2.1093829245849083,4.218765849169817],\"y\":[0.0,0.0,0.0,0.0,0.0,0.0,0.0,0.0,0.0,0.0,0.0]},{\"line\":{\"color\":\"rgba(50, 171, 96, 0.7180616740088106)\",\"dash\":\"solid\",\"shape\":\"linear\",\"width\":1.3},\"mode\":\"lines\",\"name\":\"MUFA 15:1\",\"text\":\"\",\"type\":\"scatter\",\"x\":[0.5273457311462271,0.7910185967193406,0.9492223160632087,1.0546914622924541,1.1601606085216996,1.265629754750945,1.3710989009801904,1.4765680472094358,1.5820371934386812,2.1093829245849083,4.218765849169817],\"y\":[0.0,0.0,0.0,0.0,0.0,0.0,0.0,0.0,0.0,0.0,0.0]},{\"line\":{\"color\":\"rgba(128, 0, 128, 0.7180616740088106)\",\"dash\":\"solid\",\"shape\":\"linear\",\"width\":1.3},\"mode\":\"lines\",\"name\":\"MUFA 16:1\",\"text\":\"\",\"type\":\"scatter\",\"x\":[0.5273457311462271,0.7910185967193406,0.9492223160632087,1.0546914622924541,1.1601606085216996,1.265629754750945,1.3710989009801904,1.4765680472094358,1.5820371934386812,2.1093829245849083,4.218765849169817],\"y\":[0.26722788845749146,0.2143798956450835,0.2143800849955026,0.21438016959479314,0.2143801860059145,0.21438018724719843,0.21521170435580952,0.21521170163864956,0.2152116923043725,0.06854805545074545,0.42547505258016455]},{\"line\":{\"color\":\"rgba(219, 64, 82, 0.7180616740088106)\",\"dash\":\"solid\",\"shape\":\"linear\",\"width\":1.3},\"mode\":\"lines\",\"name\":\"MUFA 16:1 c\",\"text\":\"\",\"type\":\"scatter\",\"x\":[0.5273457311462271,0.7910185967193406,0.9492223160632087,1.0546914622924541,1.1601606085216996,1.265629754750945,1.3710989009801904,1.4765680472094358,1.5820371934386812,2.1093829245849083,4.218765849169817],\"y\":[0.011832103796497052,0.011832104140587506,0.011832103942495167,0.011832103890694072,0.011832103791002042,0.011832103792584857,0.011832103798057738,0.011832103791972092,0.01183210379150369,0.011832103798599065,0.011832104525337247]},{\"line\":{\"color\":\"rgba(0, 128, 128, 0.7180616740088106)\",\"dash\":\"solid\",\"shape\":\"linear\",\"width\":1.3},\"mode\":\"lines\",\"name\":\"MUFA 17:1\",\"text\":\"\",\"type\":\"scatter\",\"x\":[0.5273457311462271,0.7910185967193406,0.9492223160632087,1.0546914622924541,1.1601606085216996,1.265629754750945,1.3710989009801904,1.4765680472094358,1.5820371934386812,2.1093829245849083,4.218765849169817],\"y\":[0.009925342848256165,0.009150478149916883,0.009150480780630382,0.0091504819769968,0.009150482186421064,0.009150482204988318,0.009153249560720547,0.009153249510547268,0.009153249374510617,0.007016399330927337,0.01206286947992291]},{\"line\":{\"color\":\"rgba(255, 255, 51, 0.7180616740088106)\",\"dash\":\"solid\",\"shape\":\"linear\",\"width\":1.3},\"mode\":\"lines\",\"name\":\"MUFA 17:1 c\",\"text\":\"\",\"type\":\"scatter\",\"x\":[0.5273457311462271,0.7910185967193406,0.9492223160632087,1.0546914622924541,1.1601606085216996,1.265629754750945,1.3710989009801904,1.4765680472094358,1.5820371934386812,2.1093829245849083,4.218765849169817],\"y\":[0.006105316713714309,0.006105316745284758,0.006105316723129637,0.006105316718903676,0.006105316713355688,0.00610531671352328,0.006105316714447211,0.006105316713444642,0.00610531671335908,0.006105316713978005,0.006105316741621486]},{\"line\":{\"color\":\"rgba(128, 128, 0, 0.7180616740088106)\",\"dash\":\"solid\",\"shape\":\"linear\",\"width\":1.3},\"mode\":\"lines\",\"name\":\"MUFA 18:1\",\"text\":\"\",\"type\":\"scatter\",\"x\":[0.5273457311462271,0.7910185967193406,0.9492223160632087,1.0546914622924541,1.1601606085216996,1.265629754750945,1.3710989009801904,1.4765680472094358,1.5820371934386812,2.1093829245849083,4.218765849169817],\"y\":[3.646151463128569,3.5101019495613226,3.5101039120669433,3.510104908600878,3.5101051936208583,3.5101052114492317,2.931978052904191,2.931977486557421,2.9319773800876323,1.0034443041289711,6.966688943375651]},{\"line\":{\"color\":\"rgba(251, 128, 114, 0.7180616740088106)\",\"dash\":\"solid\",\"shape\":\"linear\",\"width\":1.3},\"mode\":\"lines\",\"name\":\"MUFA 18:1 c\",\"text\":\"\",\"type\":\"scatter\",\"x\":[0.5273457311462271,0.7910185967193406,0.9492223160632087,1.0546914622924541,1.1601606085216996,1.265629754750945,1.3710989009801904,1.4765680472094358,1.5820371934386812,2.1093829245849083,4.218765849169817],\"y\":[53.94835409401557,55.264478556709165,55.264475593404704,55.264475106837814,55.2644770725504,55.26447707232052,52.111202497208374,52.11119967214817,52.111199651548105,50.386950962647624,54.71681358070132]},{\"line\":{\"color\":\"rgba(128, 177, 211, 0.7180616740088106)\",\"dash\":\"solid\",\"shape\":\"linear\",\"width\":1.3},\"mode\":\"lines\",\"name\":\"MUFA 20:1\",\"text\":\"\",\"type\":\"scatter\",\"x\":[0.5273457311462271,0.7910185967193406,0.9492223160632087,1.0546914622924541,1.1601606085216996,1.265629754750945,1.3710989009801904,1.4765680472094358,1.5820371934386812,2.1093829245849083,4.218765849169817],\"y\":[0.009550065551613762,0.01489515096856397,0.014895150865938202,0.01489515248479379,0.014895153650645712,0.014895153716955356,0.00761983872180812,0.007619832011678214,0.007619831880818323,0.002277706839925175,0.03815493288701225]},{\"line\":{\"color\":\"rgba(255, 153, 51, 0.7180616740088106)\",\"dash\":\"solid\",\"shape\":\"linear\",\"width\":1.3},\"mode\":\"lines\",\"name\":\"MUFA 20:1 c\",\"text\":\"\",\"type\":\"scatter\",\"x\":[0.5273457311462271,0.7910185967193406,0.9492223160632087,1.0546914622924541,1.1601606085216996,1.265629754750945,1.3710989009801904,1.4765680472094358,1.5820371934386812,2.1093829245849083,4.218765849169817],\"y\":[1.4134882774231188,1.4488944987910017,1.4488944208531804,1.4488944082547128,1.4488944621741375,1.4488944621436886,1.3640654424557201,1.364065366506459,1.3640653659574735,1.3176798315981006,1.434161276717964]},{\"line\":{\"color\":\"rgba(55, 128, 191, 0.7180616740088106)\",\"dash\":\"solid\",\"shape\":\"linear\",\"width\":1.3},\"mode\":\"lines\",\"name\":\"MUFA 22:1\",\"text\":\"\",\"type\":\"scatter\",\"x\":[0.5273457311462271,0.7910185967193406,0.9492223160632087,1.0546914622924541,1.1601606085216996,1.265629754750945,1.3710989009801904,1.4765680472094358,1.5820371934386812,2.1093829245849083,4.218765849169817],\"y\":[3.24360392437105e-11,1.4956051811996522e-09,4.884417735096282e-10,3.0759368409938255e-10,2.483045230186262e-12,7.439818462837099e-12,4.080433780211102e-11,6.350653732064709e-12,5.716856146496036e-12,3.468960041968052e-11,1.956701191676995e-09]},{\"line\":{\"color\":\"rgba(55, 128, 191, 0.6828193832599119)\",\"dash\":\"solid\",\"shape\":\"linear\",\"width\":1.3},\"mode\":\"lines\",\"name\":\"MUFA 22:1 c\",\"text\":\"\",\"type\":\"scatter\",\"x\":[0.5273457311462271,0.7910185967193406,0.9492223160632087,1.0546914622924541,1.1601606085216996,1.265629754750945,1.3710989009801904,1.4765680472094358,1.5820371934386812,2.1093829245849083,4.218765849169817],\"y\":[7.13081474527269e-13,3.6586061909569896e-11,1.3747796973296097e-11,9.230984106226928e-12,6.660452448229842e-14,2.539383162393716e-13,1.0710232632550068e-12,2.2013424961991333e-13,2.31758511248517e-13,2.0295645633359592e-12,1.2161979570481346e-10]},{\"line\":{\"color\":\"rgba(50, 171, 96, 0.6828193832599119)\",\"dash\":\"solid\",\"shape\":\"linear\",\"width\":1.3},\"mode\":\"lines\",\"name\":\"MUFA 22:1 n-11\",\"text\":\"\",\"type\":\"scatter\",\"x\":[0.5273457311462271,0.7910185967193406,0.9492223160632087,1.0546914622924541,1.1601606085216996,1.265629754750945,1.3710989009801904,1.4765680472094358,1.5820371934386812,2.1093829245849083,4.218765849169817],\"y\":[0.0,0.0,0.0,0.0,0.0,0.0,0.0,0.0,0.0,0.0,0.0]},{\"line\":{\"color\":\"rgba(128, 0, 128, 0.6828193832599119)\",\"dash\":\"solid\",\"shape\":\"linear\",\"width\":1.3},\"mode\":\"lines\",\"name\":\"MUFA 22:1 n-9\",\"text\":\"\",\"type\":\"scatter\",\"x\":[0.5273457311462271,0.7910185967193406,0.9492223160632087,1.0546914622924541,1.1601606085216996,1.265629754750945,1.3710989009801904,1.4765680472094358,1.5820371934386812,2.1093829245849083,4.218765849169817],\"y\":[0.2282059046047484,0.23404355286917924,0.2340435400366575,0.23404353796282176,0.2340435468572619,0.2340435468521086,0.2200572483267541,0.22005723580531328,0.22005723571486646,0.2124093584530248,0.23161439309986417]},{\"line\":{\"color\":\"rgba(219, 64, 82, 0.6828193832599119)\",\"dash\":\"solid\",\"shape\":\"linear\",\"width\":1.3},\"mode\":\"lines\",\"name\":\"MUFA 24:1 c\",\"text\":\"\",\"type\":\"scatter\",\"x\":[0.5273457311462271,0.7910185967193406,0.9492223160632087,1.0546914622924541,1.1601606085216996,1.265629754750945,1.3710989009801904,1.4765680472094358,1.5820371934386812,2.1093829245849083,4.218765849169817],\"y\":[6.789366251964204e-12,3.14713630387207e-10,1.0464977305650998e-10,6.610121239340477e-11,5.234875018804908e-13,1.5688521918422652e-12,8.427768266884593e-12,1.326607889279661e-12,1.1762722389723135e-12,7.036164261939153e-12,4.1228739256789607e-10]},{\"line\":{\"color\":\"rgba(0, 128, 128, 0.6828193832599119)\",\"dash\":\"solid\",\"shape\":\"linear\",\"width\":1.3},\"mode\":\"lines\",\"name\":\"Magnesium, Mg\",\"text\":\"\",\"type\":\"scatter\",\"x\":[0.5273457311462271,0.7910185967193406,0.9492223160632087,1.0546914622924541,1.1601606085216996,1.265629754750945,1.3710989009801904,1.4765680472094358,1.5820371934386812,2.1093829245849083,4.218765849169817],\"y\":[727.4304376529776,731.5312398099229,731.5312160867448,731.5312139854624,731.5312337993886,731.5312339020797,703.6001061631789,703.6000809758001,703.6000800239326,677.9938521769546,633.0922369983216]},{\"line\":{\"color\":\"rgba(255, 255, 51, 0.6828193832599119)\",\"dash\":\"solid\",\"shape\":\"linear\",\"width\":1.3},\"mode\":\"lines\",\"name\":\"Malic acid\",\"text\":\"\",\"type\":\"scatter\",\"x\":[0.5273457311462271,0.7910185967193406,0.9492223160632087,1.0546914622924541,1.1601606085216996,1.265629754750945,1.3710989009801904,1.4765680472094358,1.5820371934386812,2.1093829245849083,4.218765849169817],\"y\":[537.6598726349209,586.5786672789749,586.5786949031796,586.5787532155205,586.5789839563122,586.5789834633531,275.26327478827477,275.26299794476637,275.26298863027415,7.88570942315027e-06,1.812025142471314e-05]},{\"line\":{\"color\":\"rgba(128, 128, 0, 0.6828193832599119)\",\"dash\":\"solid\",\"shape\":\"linear\",\"width\":1.3},\"mode\":\"lines\",\"name\":\"Maltose\",\"text\":\"\",\"type\":\"scatter\",\"x\":[0.5273457311462271,0.7910185967193406,0.9492223160632087,1.0546914622924541,1.1601606085216996,1.265629754750945,1.3710989009801904,1.4765680472094358,1.5820371934386812,2.1093829245849083,4.218765849169817],\"y\":[7.59945341228239e-09,0.3261181425861704,0.3261178167764962,0.3261177371970329,0.32611770272327933,0.3261177080220222,2.9606863320227093e-07,1.2326609940854318e-09,9.26592578791651e-09,1.4128683293275925e-08,0.558700164051814]},{\"line\":{\"color\":\"rgba(251, 128, 114, 0.6828193832599119)\",\"dash\":\"solid\",\"shape\":\"linear\",\"width\":1.3},\"mode\":\"lines\",\"name\":\"Manganese, Mn\",\"text\":\"\",\"type\":\"scatter\",\"x\":[0.5273457311462271,0.7910185967193406,0.9492223160632087,1.0546914622924541,1.1601606085216996,1.265629754750945,1.3710989009801904,1.4765680472094358,1.5820371934386812,2.1093829245849083,4.218765849169817],\"y\":[5.94231500567317,6.098906654068922,6.0989061927685215,6.098906107282732,6.098906161170635,6.098906165188604,5.807034790389701,5.807034521438796,5.807034519804746,5.651097424692881,6.88074771231416]},{\"line\":{\"color\":\"rgba(128, 177, 211, 0.6828193832599119)\",\"dash\":\"solid\",\"shape\":\"linear\",\"width\":1.3},\"mode\":\"lines\",\"name\":\"Methionine\",\"text\":\"\",\"type\":\"scatter\",\"x\":[0.5273457311462271,0.7910185967193406,0.9492223160632087,1.0546914622924541,1.1601606085216996,1.265629754750945,1.3710989009801904,1.4765680472094358,1.5820371934386812,2.1093829245849083,4.218765849169817],\"y\":[1.2434685480669505,1.2615511921177192,1.261551143916893,1.261551130183689,1.2615511344524224,1.2615511347857373,1.2498446278519624,1.2498446170174382,1.2498446169221913,1.2448396479165886,1.1980782677246908]},{\"line\":{\"color\":\"rgba(255, 153, 51, 0.6828193832599119)\",\"dash\":\"solid\",\"shape\":\"linear\",\"width\":1.3},\"mode\":\"lines\",\"name\":\"Minerals\",\"text\":\"\",\"type\":\"scatter\",\"x\":[0.5273457311462271,0.7910185967193406,0.9492223160632087,1.0546914622924541,1.1601606085216996,1.265629754750945,1.3710989009801904,1.4765680472094358,1.5820371934386812,2.1093829245849083,4.218765849169817],\"y\":[0.0,0.0,0.0,0.0,0.0,0.0,0.0,0.0,0.0,0.0,0.0]},{\"line\":{\"color\":\"rgba(255, 153, 51, 0.6475770925110131)\",\"dash\":\"solid\",\"shape\":\"linear\",\"width\":1.3},\"mode\":\"lines\",\"name\":\"Molybdenum, Mo\",\"text\":\"\",\"type\":\"scatter\",\"x\":[0.5273457311462271,0.7910185967193406,0.9492223160632087,1.0546914622924541,1.1601606085216996,1.265629754750945,1.3710989009801904,1.4765680472094358,1.5820371934386812,2.1093829245849083,4.218765849169817],\"y\":[356.42838981833495,356.4283955950351,356.42839167243216,356.42839091822776,356.4283897331136,356.4283897617442,356.4283899128299,356.4283897515191,356.4283897447125,356.42838988634765,356.4283997686326]},{\"line\":{\"color\":\"rgba(55, 128, 191, 0.6475770925110131)\",\"dash\":\"solid\",\"shape\":\"linear\",\"width\":1.3},\"mode\":\"lines\",\"name\":\"Niacin\",\"text\":\"\",\"type\":\"scatter\",\"x\":[0.5273457311462271,0.7910185967193406,0.9492223160632087,1.0546914622924541,1.1601606085216996,1.265629754750945,1.3710989009801904,1.4765680472094358,1.5820371934386812,2.1093829245849083,4.218765849169817],\"y\":[37.00184387917483,38.213153855129704,38.21315182380164,38.213151444529366,38.21315223778108,38.21315224350745,36.19757714867549,36.1975753338273,36.19757534819094,35.528186923009436,39.88709655867628]},{\"line\":{\"color\":\"rgba(50, 171, 96, 0.6475770925110131)\",\"dash\":\"solid\",\"shape\":\"linear\",\"width\":1.3},\"mode\":\"lines\",\"name\":\"Nitrogen\",\"text\":\"\",\"type\":\"scatter\",\"x\":[0.5273457311462271,0.7910185967193406,0.9492223160632087,1.0546914622924541,1.1601606085216996,1.265629754750945,1.3710989009801904,1.4765680472094358,1.5820371934386812,2.1093829245849083,4.218765849169817],\"y\":[11.236106468242138,11.49377485282009,11.493774385300624,11.493774321301368,11.493774663427677,11.493774663490331,10.944200014253337,10.944199520679593,10.944199515164584,10.616611640043727,11.261868519608957]},{\"line\":{\"color\":\"rgba(128, 0, 128, 0.6475770925110131)\",\"dash\":\"solid\",\"shape\":\"linear\",\"width\":1.3},\"mode\":\"lines\",\"name\":\"Oligosaccharides\",\"text\":\"\",\"type\":\"scatter\",\"x\":[0.5273457311462271,0.7910185967193406,0.9492223160632087,1.0546914622924541,1.1601606085216996,1.265629754750945,1.3710989009801904,1.4765680472094358,1.5820371934386812,2.1093829245849083,4.218765849169817],\"y\":[0.0,0.0,0.0,0.0,0.0,0.0,0.0,0.0,0.0,0.0,0.0]},{\"line\":{\"color\":\"rgba(219, 64, 82, 0.6475770925110131)\",\"dash\":\"solid\",\"shape\":\"linear\",\"width\":1.3},\"mode\":\"lines\",\"name\":\"Organic acids\",\"text\":\"\",\"type\":\"scatter\",\"x\":[0.5273457311462271,0.7910185967193406,0.9492223160632087,1.0546914622924541,1.1601606085216996,1.265629754750945,1.3710989009801904,1.4765680472094358,1.5820371934386812,2.1093829245849083,4.218765849169817],\"y\":[0.0,0.0,0.0,0.0,0.0,0.0,0.0,0.0,0.0,0.0,0.0]},{\"line\":{\"color\":\"rgba(0, 128, 128, 0.6475770925110131)\",\"dash\":\"solid\",\"shape\":\"linear\",\"width\":1.3},\"mode\":\"lines\",\"name\":\"Oxalic acid\",\"text\":\"\",\"type\":\"scatter\",\"x\":[0.5273457311462271,0.7910185967193406,0.9492223160632087,1.0546914622924541,1.1601606085216996,1.265629754750945,1.3710989009801904,1.4765680472094358,1.5820371934386812,2.1093829245849083,4.218765849169817],\"y\":[0.0,0.0,0.0,0.0,0.0,0.0,0.0,0.0,0.0,0.0,0.0]},{\"line\":{\"color\":\"rgba(255, 255, 51, 0.6475770925110131)\",\"dash\":\"solid\",\"shape\":\"linear\",\"width\":1.3},\"mode\":\"lines\",\"name\":\"PUFA 18:2\",\"text\":\"\",\"type\":\"scatter\",\"x\":[0.5273457311462271,0.7910185967193406,0.9492223160632087,1.0546914622924541,1.1601606085216996,1.265629754750945,1.3710989009801904,1.4765680472094358,1.5820371934386812,2.1093829245849083,4.218765849169817],\"y\":[1.1608525657173847,1.2399537415924013,1.2399537947415316,1.2399538869659634,1.2399538084042017,1.2399538141733002,1.0566859878679868,1.056685810096551,1.0566857997982475,0.8096902341748711,2.802768185278718]},{\"line\":{\"color\":\"rgba(128, 128, 0, 0.6475770925110131)\",\"dash\":\"solid\",\"shape\":\"linear\",\"width\":1.3},\"mode\":\"lines\",\"name\":\"PUFA 18:2 CLAs\",\"text\":\"\",\"type\":\"scatter\",\"x\":[0.5273457311462271,0.7910185967193406,0.9492223160632087,1.0546914622924541,1.1601606085216996,1.265629754750945,1.3710989009801904,1.4765680472094358,1.5820371934386812,2.1093829245849083,4.218765849169817],\"y\":[8.756789218161687e-13,4.7635167260486146e-11,2.2269887803831863e-11,1.4972339594058437e-11,8.566159008843448e-14,2.911362444848187e-13,8.688585177422512e-13,2.1287796175844592e-13,1.5845551935521262e-13,1.040277982521405e-12,1.0928204282921498e-10]},{\"line\":{\"color\":\"rgba(251, 128, 114, 0.6475770925110131)\",\"dash\":\"solid\",\"shape\":\"linear\",\"width\":1.3},\"mode\":\"lines\",\"name\":\"PUFA 18:2 c\",\"text\":\"\",\"type\":\"scatter\",\"x\":[0.5273457311462271,0.7910185967193406,0.9492223160632087,1.0546914622924541,1.1601606085216996,1.265629754750945,1.3710989009801904,1.4765680472094358,1.5820371934386812,2.1093829245849083,4.218765849169817],\"y\":[6.030831849806995,6.030831880992284,6.0308318591074555,6.030831854933051,6.030831849452749,6.030831849618296,6.030831850530955,6.0308318495406175,6.030831849456099,6.030831850067473,6.030831877373704]},{\"line\":{\"color\":\"rgba(128, 177, 211, 0.6475770925110131)\",\"dash\":\"solid\",\"shape\":\"linear\",\"width\":1.3},\"mode\":\"lines\",\"name\":\"PUFA 18:2 n-6 c,c\",\"text\":\"\",\"type\":\"scatter\",\"x\":[0.5273457311462271,0.7910185967193406,0.9492223160632087,1.0546914622924541,1.1601606085216996,1.265629754750945,1.3710989009801904,1.4765680472094358,1.5820371934386812,2.1093829245849083,4.218765849169817],\"y\":[22.857559651843633,23.28799793429066,23.287996888284887,23.287996709656895,23.287997316088134,23.287997316505873,22.256719716689087,22.25671879030604,22.25671878341115,21.692803716027324,23.108884405111255]},{\"line\":{\"color\":\"rgba(128, 177, 211, 0.6123348017621146)\",\"dash\":\"solid\",\"shape\":\"linear\",\"width\":1.3},\"mode\":\"lines\",\"name\":\"PUFA 18:3\",\"text\":\"\",\"type\":\"scatter\",\"x\":[0.5273457311462271,0.7910185967193406,0.9492223160632087,1.0546914622924541,1.1601606085216996,1.265629754750945,1.3710989009801904,1.4765680472094358,1.5820371934386812,2.1093829245849083,4.218765849169817],\"y\":[0.5130476116059587,0.4704558192933474,0.47045577904418073,0.47045577953960305,0.4704557995983916,0.4704557999314634,0.41394426758251257,0.41394421610420745,0.41394421510188834,0.3742085095901343,0.500182729169943]},{\"line\":{\"color\":\"rgba(255, 153, 51, 0.6123348017621146)\",\"dash\":\"solid\",\"shape\":\"linear\",\"width\":1.3},\"mode\":\"lines\",\"name\":\"PUFA 18:3 c\",\"text\":\"\",\"type\":\"scatter\",\"x\":[0.5273457311462271,0.7910185967193406,0.9492223160632087,1.0546914622924541,1.1601606085216996,1.265629754750945,1.3710989009801904,1.4765680472094358,1.5820371934386812,2.1093829245849083,4.218765849169817],\"y\":[1.015924701162061,1.0159247064153836,1.0159247027287717,1.0159247020255715,1.0159247011023864,1.0159247011302737,1.0159247012840158,1.0159247011171884,1.0159247011029509,1.01592470120594,1.0159247058058152]},{\"line\":{\"color\":\"rgba(55, 128, 191, 0.6123348017621146)\",\"dash\":\"solid\",\"shape\":\"linear\",\"width\":1.3},\"mode\":\"lines\",\"name\":\"PUFA 18:3 n-3 c,c,c (ALA)\",\"text\":\"\",\"type\":\"scatter\",\"x\":[0.5273457311462271,0.7910185967193406,0.9492223160632087,1.0546914622924541,1.1601606085216996,1.265629754750945,1.3710989009801904,1.4765680472094358,1.5820371934386812,2.1093829245849083,4.218765849169817],\"y\":[1.0583269915347326,1.0497260136800397,1.0497260310652117,1.0497260413897331,1.0497260378764772,1.0497260382282454,1.0497567561852037,1.0497567552395504,1.0497567536943961,1.0260377186996898,1.0820535766353125]},{\"line\":{\"color\":\"rgba(50, 171, 96, 0.6123348017621146)\",\"dash\":\"solid\",\"shape\":\"linear\",\"width\":1.3},\"mode\":\"lines\",\"name\":\"PUFA 18:3 n-6 c,c,c\",\"text\":\"\",\"type\":\"scatter\",\"x\":[0.5273457311462271,0.7910185967193406,0.9492223160632087,1.0546914622924541,1.1601606085216996,1.265629754750945,1.3710989009801904,1.4765680472094358,1.5820371934386812,2.1093829245849083,4.218765849169817],\"y\":[0.0057300392022182995,0.004567742129558451,0.00456774609766076,0.004567747894813499,0.004567748209638519,0.004567748237328164,0.0045718992697214855,0.004571899195740824,0.004571898991775003,0.001366623925610126,0.008936329149901884]},{\"line\":{\"color\":\"rgba(128, 0, 128, 0.6123348017621146)\",\"dash\":\"solid\",\"shape\":\"linear\",\"width\":1.3},\"mode\":\"lines\",\"name\":\"PUFA 18:3i\",\"text\":\"\",\"type\":\"scatter\",\"x\":[0.5273457311462271,0.7910185967193406,0.9492223160632087,1.0546914622924541,1.1601606085216996,1.265629754750945,1.3710989009801904,1.4765680472094358,1.5820371934386812,2.1093829245849083,4.218765849169817],\"y\":[0.0,0.0,0.0,0.0,0.0,0.0,0.0,0.0,0.0,0.0,0.0]},{\"line\":{\"color\":\"rgba(219, 64, 82, 0.6123348017621146)\",\"dash\":\"solid\",\"shape\":\"linear\",\"width\":1.3},\"mode\":\"lines\",\"name\":\"PUFA 18:4\",\"text\":\"\",\"type\":\"scatter\",\"x\":[0.5273457311462271,0.7910185967193406,0.9492223160632087,1.0546914622924541,1.1601606085216996,1.265629754750945,1.3710989009801904,1.4765680472094358,1.5820371934386812,2.1093829245849083,4.218765849169817],\"y\":[0.0,0.0,0.0,0.0,0.0,0.0,0.0,0.0,0.0,0.0,0.0]},{\"line\":{\"color\":\"rgba(0, 128, 128, 0.6123348017621146)\",\"dash\":\"solid\",\"shape\":\"linear\",\"width\":1.3},\"mode\":\"lines\",\"name\":\"PUFA 20:2 c\",\"text\":\"\",\"type\":\"scatter\",\"x\":[0.5273457311462271,0.7910185967193406,0.9492223160632087,1.0546914622924541,1.1601606085216996,1.265629754750945,1.3710989009801904,1.4765680472094358,1.5820371934386812,2.1093829245849083,4.218765849169817],\"y\":[0.0034342406514642986,0.003434240669222676,0.0034342406567604206,0.0034342406543833174,0.0034342406512625745,0.0034342406513568446,0.003434240651876556,0.003434240651312611,0.003434240651264482,0.0034342406516126274,0.003434240667162086]},{\"line\":{\"color\":\"rgba(255, 255, 51, 0.6123348017621146)\",\"dash\":\"solid\",\"shape\":\"linear\",\"width\":1.3},\"mode\":\"lines\",\"name\":\"PUFA 20:2 n-6 c,c\",\"text\":\"\",\"type\":\"scatter\",\"x\":[0.5273457311462271,0.7910185967193406,0.9492223160632087,1.0546914622924541,1.1601606085216996,1.265629754750945,1.3710989009801904,1.4765680472094358,1.5820371934386812,2.1093829245849083,4.218765849169817],\"y\":[0.0034342406529884115,0.0034342407510292634,0.003434240693327503,0.0034342406789619286,0.0034342406514100924,0.0034342406518719955,0.0034342406535705456,0.0034342406517065154,0.003434240651591635,0.003434240654014447,0.003434240873681374]},{\"line\":{\"color\":\"rgba(128, 128, 0, 0.6123348017621146)\",\"dash\":\"solid\",\"shape\":\"linear\",\"width\":1.3},\"mode\":\"lines\",\"name\":\"PUFA 20:3\",\"text\":\"\",\"type\":\"scatter\",\"x\":[0.5273457311462271,0.7910185967193406,0.9492223160632087,1.0546914622924541,1.1601606085216996,1.265629754750945,1.3710989009801904,1.4765680472094358,1.5820371934386812,2.1093829245849083,4.218765849169817],\"y\":[0.006112041810960275,0.004872258014899171,0.004872262385984766,0.004872264341682228,0.004872264756485827,0.00487226478489873,0.004876692549473388,0.004876692474279815,0.004876692256980976,0.0014577321810567607,0.009532083817716395]},{\"line\":{\"color\":\"rgba(251, 128, 114, 0.6123348017621146)\",\"dash\":\"solid\",\"shape\":\"linear\",\"width\":1.3},\"mode\":\"lines\",\"name\":\"PUFA 20:3 c\",\"text\":\"\",\"type\":\"scatter\",\"x\":[0.5273457311462271,0.7910185967193406,0.9492223160632087,1.0546914622924541,1.1601606085216996,1.265629754750945,1.3710989009801904,1.4765680472094358,1.5820371934386812,2.1093829245849083,4.218765849169817],\"y\":[0.0,0.0,0.0,0.0,0.0,0.0,0.0,0.0,0.0,0.0,0.0]},{\"line\":{\"color\":\"rgba(251, 128, 114, 0.5770925110132159)\",\"dash\":\"solid\",\"shape\":\"linear\",\"width\":1.3},\"mode\":\"lines\",\"name\":\"PUFA 20:3 n-3\",\"text\":\"\",\"type\":\"scatter\",\"x\":[0.5273457311462271,0.7910185967193406,0.9492223160632087,1.0546914622924541,1.1601606085216996,1.265629754750945,1.3710989009801904,1.4765680472094358,1.5820371934386812,2.1093829245849083,4.218765849169817],\"y\":[0.0,0.0,0.0,0.0,0.0,0.0,0.0,0.0,0.0,0.0,0.0]},{\"line\":{\"color\":\"rgba(128, 177, 211, 0.5770925110132159)\",\"dash\":\"solid\",\"shape\":\"linear\",\"width\":1.3},\"mode\":\"lines\",\"name\":\"PUFA 20:3 n-9\",\"text\":\"\",\"type\":\"scatter\",\"x\":[0.5273457311462271,0.7910185967193406,0.9492223160632087,1.0546914622924541,1.1601606085216996,1.265629754750945,1.3710989009801904,1.4765680472094358,1.5820371934386812,2.1093829245849083,4.218765849169817],\"y\":[0.0,0.0,0.0,0.0,0.0,0.0,0.0,0.0,0.0,0.0,0.0]},{\"line\":{\"color\":\"rgba(255, 153, 51, 0.5770925110132159)\",\"dash\":\"solid\",\"shape\":\"linear\",\"width\":1.3},\"mode\":\"lines\",\"name\":\"PUFA 20:4\",\"text\":\"\",\"type\":\"scatter\",\"x\":[0.5273457311462271,0.7910185967193406,0.9492223160632087,1.0546914622924541,1.1601606085216996,1.265629754750945,1.3710989009801904,1.4765680472094358,1.5820371934386812,2.1093829245849083,4.218765849169817],\"y\":[0.0011724594902005991,0.0005050332857622836,0.0005050329630619018,0.0005050329214612186,0.0005050329265673204,0.0005050329276148536,0.00041774568343759603,0.00041774559979529093,0.0004177455960412391,0.00032779614049739225,0.00018036485831410956]},{\"line\":{\"color\":\"rgba(55, 128, 191, 0.5770925110132159)\",\"dash\":\"solid\",\"shape\":\"linear\",\"width\":1.3},\"mode\":\"lines\",\"name\":\"PUFA 20:4 n-6\",\"text\":\"\",\"type\":\"scatter\",\"x\":[0.5273457311462271,0.7910185967193406,0.9492223160632087,1.0546914622924541,1.1601606085216996,1.265629754750945,1.3710989009801904,1.4765680472094358,1.5820371934386812,2.1093829245849083,4.218765849169817],\"y\":[0.0,0.0,0.0,0.0,0.0,0.0,0.0,0.0,0.0,0.0,0.0]},{\"line\":{\"color\":\"rgba(50, 171, 96, 0.5770925110132159)\",\"dash\":\"solid\",\"shape\":\"linear\",\"width\":1.3},\"mode\":\"lines\",\"name\":\"PUFA 20:4c\",\"text\":\"\",\"type\":\"scatter\",\"x\":[0.5273457311462271,0.7910185967193406,0.9492223160632087,1.0546914622924541,1.1601606085216996,1.265629754750945,1.3710989009801904,1.4765680472094358,1.5820371934386812,2.1093829245849083,4.218765849169817],\"y\":[0.0,0.0,0.0,0.0,0.0,0.0,0.0,0.0,0.0,0.0,0.0]},{\"line\":{\"color\":\"rgba(128, 0, 128, 0.5770925110132159)\",\"dash\":\"solid\",\"shape\":\"linear\",\"width\":1.3},\"mode\":\"lines\",\"name\":\"PUFA 20:5 n-3 (EPA)\",\"text\":\"\",\"type\":\"scatter\",\"x\":[0.5273457311462271,0.7910185967193406,0.9492223160632087,1.0546914622924541,1.1601606085216996,1.265629754750945,1.3710989009801904,1.4765680472094358,1.5820371934386812,2.1093829245849083,4.218765849169817],\"y\":[0.0,0.0,0.0,0.0,0.0,0.0,0.0,0.0,0.0,0.0,0.0]},{\"line\":{\"color\":\"rgba(219, 64, 82, 0.5770925110132159)\",\"dash\":\"solid\",\"shape\":\"linear\",\"width\":1.3},\"mode\":\"lines\",\"name\":\"PUFA 20:5c\",\"text\":\"\",\"type\":\"scatter\",\"x\":[0.5273457311462271,0.7910185967193406,0.9492223160632087,1.0546914622924541,1.1601606085216996,1.265629754750945,1.3710989009801904,1.4765680472094358,1.5820371934386812,2.1093829245849083,4.218765849169817],\"y\":[0.0,0.0,0.0,0.0,0.0,0.0,0.0,0.0,0.0,0.0,0.0]},{\"line\":{\"color\":\"rgba(0, 128, 128, 0.5770925110132159)\",\"dash\":\"solid\",\"shape\":\"linear\",\"width\":1.3},\"mode\":\"lines\",\"name\":\"PUFA 21:5\",\"text\":\"\",\"type\":\"scatter\",\"x\":[0.5273457311462271,0.7910185967193406,0.9492223160632087,1.0546914622924541,1.1601606085216996,1.265629754750945,1.3710989009801904,1.4765680472094358,1.5820371934386812,2.1093829245849083,4.218765849169817],\"y\":[0.0,0.0,0.0,0.0,0.0,0.0,0.0,0.0,0.0,0.0,0.0]},{\"line\":{\"color\":\"rgba(255, 255, 51, 0.5770925110132159)\",\"dash\":\"solid\",\"shape\":\"linear\",\"width\":1.3},\"mode\":\"lines\",\"name\":\"PUFA 22:2\",\"text\":\"\",\"type\":\"scatter\",\"x\":[0.5273457311462271,0.7910185967193406,0.9492223160632087,1.0546914622924541,1.1601606085216996,1.265629754750945,1.3710989009801904,1.4765680472094358,1.5820371934386812,2.1093829245849083,4.218765849169817],\"y\":[0.0,0.0,0.0,0.0,0.0,0.0,0.0,0.0,0.0,0.0,0.0]},{\"line\":{\"color\":\"rgba(128, 128, 0, 0.5770925110132159)\",\"dash\":\"solid\",\"shape\":\"linear\",\"width\":1.3},\"mode\":\"lines\",\"name\":\"PUFA 22:3\",\"text\":\"\",\"type\":\"scatter\",\"x\":[0.5273457311462271,0.7910185967193406,0.9492223160632087,1.0546914622924541,1.1601606085216996,1.265629754750945,1.3710989009801904,1.4765680472094358,1.5820371934386812,2.1093829245849083,4.218765849169817],\"y\":[0.0,0.0,0.0,0.0,0.0,0.0,0.0,0.0,0.0,0.0,0.0]},{\"line\":{\"color\":\"rgba(128, 128, 0, 0.5418502202643172)\",\"dash\":\"solid\",\"shape\":\"linear\",\"width\":1.3},\"mode\":\"lines\",\"name\":\"PUFA 22:4\",\"text\":\"\",\"type\":\"scatter\",\"x\":[0.5273457311462271,0.7910185967193406,0.9492223160632087,1.0546914622924541,1.1601606085216996,1.265629754750945,1.3710989009801904,1.4765680472094358,1.5820371934386812,2.1093829245849083,4.218765849169817],\"y\":[0.0,0.0,0.0,0.0,0.0,0.0,0.0,0.0,0.0,0.0,0.0]},{\"line\":{\"color\":\"rgba(251, 128, 114, 0.5418502202643172)\",\"dash\":\"solid\",\"shape\":\"linear\",\"width\":1.3},\"mode\":\"lines\",\"name\":\"PUFA 22:5 c\",\"text\":\"\",\"type\":\"scatter\",\"x\":[0.5273457311462271,0.7910185967193406,0.9492223160632087,1.0546914622924541,1.1601606085216996,1.265629754750945,1.3710989009801904,1.4765680472094358,1.5820371934386812,2.1093829245849083,4.218765849169817],\"y\":[0.0,0.0,0.0,0.0,0.0,0.0,0.0,0.0,0.0,0.0,0.0]},{\"line\":{\"color\":\"rgba(128, 177, 211, 0.5418502202643172)\",\"dash\":\"solid\",\"shape\":\"linear\",\"width\":1.3},\"mode\":\"lines\",\"name\":\"PUFA 22:5 n-3 (DPA)\",\"text\":\"\",\"type\":\"scatter\",\"x\":[0.5273457311462271,0.7910185967193406,0.9492223160632087,1.0546914622924541,1.1601606085216996,1.265629754750945,1.3710989009801904,1.4765680472094358,1.5820371934386812,2.1093829245849083,4.218765849169817],\"y\":[0.0,0.0,0.0,0.0,0.0,0.0,0.0,0.0,0.0,0.0,0.0]},{\"line\":{\"color\":\"rgba(255, 153, 51, 0.5418502202643172)\",\"dash\":\"solid\",\"shape\":\"linear\",\"width\":1.3},\"mode\":\"lines\",\"name\":\"PUFA 22:6 c\",\"text\":\"\",\"type\":\"scatter\",\"x\":[0.5273457311462271,0.7910185967193406,0.9492223160632087,1.0546914622924541,1.1601606085216996,1.265629754750945,1.3710989009801904,1.4765680472094358,1.5820371934386812,2.1093829245849083,4.218765849169817],\"y\":[0.0,0.0,0.0,0.0,0.0,0.0,0.0,0.0,0.0,0.0,0.0]},{\"line\":{\"color\":\"rgba(55, 128, 191, 0.5418502202643172)\",\"dash\":\"solid\",\"shape\":\"linear\",\"width\":1.3},\"mode\":\"lines\",\"name\":\"PUFA 22:6 n-3 (DHA)\",\"text\":\"\",\"type\":\"scatter\",\"x\":[0.5273457311462271,0.7910185967193406,0.9492223160632087,1.0546914622924541,1.1601606085216996,1.265629754750945,1.3710989009801904,1.4765680472094358,1.5820371934386812,2.1093829245849083,4.218765849169817],\"y\":[1.7963602592188094e-11,8.261915494775164e-10,2.688026132193688e-10,1.689523722852809e-10,1.3683459417841722e-12,4.069112854097508e-12,2.2499587750918464e-11,3.4714989840350048e-12,3.1060191428510044e-12,1.8494237171664992e-11,1.0391424772372594e-09]},{\"line\":{\"color\":\"rgba(50, 171, 96, 0.5418502202643172)\",\"dash\":\"solid\",\"shape\":\"linear\",\"width\":1.3},\"mode\":\"lines\",\"name\":\"Pantothenic acid\",\"text\":\"\",\"type\":\"scatter\",\"x\":[0.5273457311462271,0.7910185967193406,0.9492223160632087,1.0546914622924541,1.1601606085216996,1.265629754750945,1.3710989009801904,1.4765680472094358,1.5820371934386812,2.1093829245849083,4.218765849169817],\"y\":[1.6343704745110192,1.6446992532766358,1.6446995010386414,1.6446995691915873,1.6446993328392194,1.6446993363543119,1.9159238070739377,1.9159240416698171,1.915924038162483,1.9760818175778812,2.6101728896341005]},{\"line\":{\"color\":\"rgba(128, 0, 128, 0.5418502202643172)\",\"dash\":\"solid\",\"shape\":\"linear\",\"width\":1.3},\"mode\":\"lines\",\"name\":\"Phenylalanine\",\"text\":\"\",\"type\":\"scatter\",\"x\":[0.5273457311462271,0.7910185967193406,0.9492223160632087,1.0546914622924541,1.1601606085216996,1.265629754750945,1.3710989009801904,1.4765680472094358,1.5820371934386812,2.1093829245849083,4.218765849169817],\"y\":[5.6981774182589335,5.767722291630325,5.767722068446293,5.767722006333353,5.7677220556697675,5.767722057064088,5.702324436014376,5.702324376558932,5.70232437485246,5.650438529889576,5.606977976853991]},{\"line\":{\"color\":\"rgba(219, 64, 82, 0.5418502202643172)\",\"dash\":\"solid\",\"shape\":\"linear\",\"width\":1.3},\"mode\":\"lines\",\"name\":\"Phosphorus, P\",\"text\":\"\",\"type\":\"scatter\",\"x\":[0.5273457311462271,0.7910185967193406,0.9492223160632087,1.0546914622924541,1.1601606085216996,1.265629754750945,1.3710989009801904,1.4765680472094358,1.5820371934386812,2.1093829245849083,4.218765849169817],\"y\":[1783.23654587698,1811.7178383594967,1811.7177583814416,1811.7177382596337,1811.7177502804702,1811.7177507159422,1776.0573380415353,1776.057305469314,1776.057305455289,1762.4450400491673,1724.7156763475127]},{\"line\":{\"color\":\"rgba(0, 128, 128, 0.5418502202643172)\",\"dash\":\"solid\",\"shape\":\"linear\",\"width\":1.3},\"mode\":\"lines\",\"name\":\"Phytosterols\",\"text\":\"\",\"type\":\"scatter\",\"x\":[0.5273457311462271,0.7910185967193406,0.9492223160632087,1.0546914622924541,1.1601606085216996,1.265629754750945,1.3710989009801904,1.4765680472094358,1.5820371934386812,2.1093829245849083,4.218765849169817],\"y\":[2.9069501963290116e-09,1.402919927512473e-07,5.784430717910394e-08,3.8149938955698984e-08,2.5739400480434597e-10,8.027206314330673e-10,3.2460374921572398e-09,6.283310059294661e-10,5.42817746653693e-10,3.019727516261343e-09,1.9912697355228866e-07]},{\"line\":{\"color\":\"rgba(255, 255, 51, 0.5418502202643172)\",\"dash\":\"solid\",\"shape\":\"linear\",\"width\":1.3},\"mode\":\"lines\",\"name\":\"Potassium, K\",\"text\":\"\",\"type\":\"scatter\",\"x\":[0.5273457311462271,0.7910185967193406,0.9492223160632087,1.0546914622924541,1.1601606085216996,1.265629754750945,1.3710989009801904,1.4765680472094358,1.5820371934386812,2.1093829245849083,4.218765849169817],\"y\":[4700.00000067457,4700.000030017734,4700.000014904935,4700.000010381467,4700.000000055481,4700.000000247954,4700.000000453048,4700.000000124724,4700.0000000883165,4700.000000631012,4700.0100051624695]},{\"line\":{\"color\":\"rgba(255, 255, 51, 0.5066079295154184)\",\"dash\":\"solid\",\"shape\":\"linear\",\"width\":1.3},\"mode\":\"lines\",\"name\":\"Proline\",\"text\":\"\",\"type\":\"scatter\",\"x\":[0.5273457311462271,0.7910185967193406,0.9492223160632087,1.0546914622924541,1.1601606085216996,1.265629754750945,1.3710989009801904,1.4765680472094358,1.5820371934386812,2.1093829245849083,4.218765849169817],\"y\":[87.70436854048332,87.86788803412088,87.86788745174782,87.86788731233858,87.86788723862541,87.86788724459589,87.76413313506862,87.76413302658065,87.76413302538576,87.73104943332132,87.63213528999707]},{\"line\":{\"color\":\"rgba(128, 128, 0, 0.5066079295154184)\",\"dash\":\"solid\",\"shape\":\"linear\",\"width\":1.3},\"mode\":\"lines\",\"name\":\"Protein\",\"text\":\"\",\"type\":\"scatter\",\"x\":[0.5273457311462271,0.7910185967193406,0.9492223160632087,1.0546914622924541,1.1601606085216996,1.265629754750945,1.3710989009801904,1.4765680472094358,1.5820371934386812,2.1093829245849083,4.218765849169817],\"y\":[99.92231064689713,100.83375661510335,100.83375182062525,100.83375070154362,100.83375168748641,100.83375172339603,98.71714450406397,98.71714256539033,98.71714251541611,97.08246096532372,99.67753833500143]},{\"line\":{\"color\":\"rgba(251, 128, 114, 0.5066079295154184)\",\"dash\":\"solid\",\"shape\":\"linear\",\"width\":1.3},\"mode\":\"lines\",\"name\":\"Proximates\",\"text\":\"\",\"type\":\"scatter\",\"x\":[0.5273457311462271,0.7910185967193406,0.9492223160632087,1.0546914622924541,1.1601606085216996,1.265629754750945,1.3710989009801904,1.4765680472094358,1.5820371934386812,2.1093829245849083,4.218765849169817],\"y\":[0.0,0.0,0.0,0.0,0.0,0.0,0.0,0.0,0.0,0.0,0.0]},{\"line\":{\"color\":\"rgba(128, 177, 211, 0.5066079295154184)\",\"dash\":\"solid\",\"shape\":\"linear\",\"width\":1.3},\"mode\":\"lines\",\"name\":\"Pyruvic acid\",\"text\":\"\",\"type\":\"scatter\",\"x\":[0.5273457311462271,0.7910185967193406,0.9492223160632087,1.0546914622924541,1.1601606085216996,1.265629754750945,1.3710989009801904,1.4765680472094358,1.5820371934386812,2.1093829245849083,4.218765849169817],\"y\":[0.0,0.0,0.0,0.0,0.0,0.0,0.0,0.0,0.0,0.0,0.0]},{\"line\":{\"color\":\"rgba(255, 153, 51, 0.5066079295154184)\",\"dash\":\"solid\",\"shape\":\"linear\",\"width\":1.3},\"mode\":\"lines\",\"name\":\"Quinic acid\",\"text\":\"\",\"type\":\"scatter\",\"x\":[0.5273457311462271,0.7910185967193406,0.9492223160632087,1.0546914622924541,1.1601606085216996,1.265629754750945,1.3710989009801904,1.4765680472094358,1.5820371934386812,2.1093829245849083,4.218765849169817],\"y\":[0.0,0.0,0.0,0.0,0.0,0.0,0.0,0.0,0.0,0.0,0.0]},{\"line\":{\"color\":\"rgba(55, 128, 191, 0.5066079295154184)\",\"dash\":\"solid\",\"shape\":\"linear\",\"width\":1.3},\"mode\":\"lines\",\"name\":\"Raffinose\",\"text\":\"\",\"type\":\"scatter\",\"x\":[0.5273457311462271,0.7910185967193406,0.9492223160632087,1.0546914622924541,1.1601606085216996,1.265629754750945,1.3710989009801904,1.4765680472094358,1.5820371934386812,2.1093829245849083,4.218765849169817],\"y\":[0.406186720963413,0.40618672306379494,0.4061867215898148,0.40618672130866157,0.406186720939554,0.40618672095070385,0.40618672101217296,0.4061867209454721,0.4061867209397796,0.4061867209809567,0.4061867228200775]},{\"line\":{\"color\":\"rgba(50, 171, 96, 0.5066079295154184)\",\"dash\":\"solid\",\"shape\":\"linear\",\"width\":1.3},\"mode\":\"lines\",\"name\":\"Retinol\",\"text\":\"\",\"type\":\"scatter\",\"x\":[0.5273457311462271,0.7910185967193406,0.9492223160632087,1.0546914622924541,1.1601606085216996,1.265629754750945,1.3710989009801904,1.4765680472094358,1.5820371934386812,2.1093829245849083,4.218765849169817],\"y\":[355.5125922395842,355.5125940779314,355.51259278783874,355.512592541761,355.51259221870174,355.51259222846056,355.5125922822611,355.5125922238815,355.51259221889916,355.5125922549392,355.51259386461913]},{\"line\":{\"color\":\"rgba(128, 0, 128, 0.5066079295154184)\",\"dash\":\"solid\",\"shape\":\"linear\",\"width\":1.3},\"mode\":\"lines\",\"name\":\"Riboflavin\",\"text\":\"\",\"type\":\"scatter\",\"x\":[0.5273457311462271,0.7910185967193406,0.9492223160632087,1.0546914622924541,1.1601606085216996,1.265629754750945,1.3710989009801904,1.4765680472094358,1.5820371934386812,2.1093829245849083,4.218765849169817],\"y\":[1.3825539735437762,1.3144601993345681,1.314460200034097,1.3144601939801224,1.314460166897181,1.3144601668559779,1.3711123771833889,1.3711124278029705,1.3711124279941744,1.4023101474347235,1.1000015008533686]},{\"line\":{\"color\":\"rgba(219, 64, 82, 0.5066079295154184)\",\"dash\":\"solid\",\"shape\":\"linear\",\"width\":1.3},\"mode\":\"lines\",\"name\":\"SFA 10:0\",\"text\":\"\",\"type\":\"scatter\",\"x\":[0.5273457311462271,0.7910185967193406,0.9492223160632087,1.0546914622924541,1.1601606085216996,1.265629754750945,1.3710989009801904,1.4765680472094358,1.5820371934386812,2.1093829245849083,4.218765849169817],\"y\":[8.406185069228673e-12,1.513397809954193e-10,5.998334001926581e-11,4.051460215661283e-11,2.035016433933533e-13,1.3204413183868466e-12,4.01908809367694e-12,1.0062134989445719e-12,1.944442054643874e-12,9.950185183896847e-12,0.0009804752296319605]},{\"line\":{\"color\":\"rgba(0, 128, 128, 0.5066079295154184)\",\"dash\":\"solid\",\"shape\":\"linear\",\"width\":1.3},\"mode\":\"lines\",\"name\":\"SFA 11:0\",\"text\":\"\",\"type\":\"scatter\",\"x\":[0.5273457311462271,0.7910185967193406,0.9492223160632087,1.0546914622924541,1.1601606085216996,1.265629754750945,1.3710989009801904,1.4765680472094358,1.5820371934386812,2.1093829245849083,4.218765849169817],\"y\":[0.0,0.0,0.0,0.0,0.0,0.0,0.0,0.0,0.0,0.0,0.0]},{\"line\":{\"color\":\"rgba(0, 128, 128, 0.47136563876652)\",\"dash\":\"solid\",\"shape\":\"linear\",\"width\":1.3},\"mode\":\"lines\",\"name\":\"SFA 12:0\",\"text\":\"\",\"type\":\"scatter\",\"x\":[0.5273457311462271,0.7910185967193406,0.9492223160632087,1.0546914622924541,1.1601606085216996,1.265629754750945,1.3710989009801904,1.4765680472094358,1.5820371934386812,2.1093829245849083,4.218765849169817],\"y\":[0.0023449189846029028,0.0010100662585439653,0.001010065811904628,0.0010100657709364584,0.001010065852466937,0.0010100658544531327,0.0008354913596664987,0.0008354911987023343,0.0008354911932786956,0.0006555922821903984,0.0023216788725581466]},{\"line\":{\"color\":\"rgba(255, 255, 51, 0.47136563876652)\",\"dash\":\"solid\",\"shape\":\"linear\",\"width\":1.3},\"mode\":\"lines\",\"name\":\"SFA 13:0\",\"text\":\"\",\"type\":\"scatter\",\"x\":[0.5273457311462271,0.7910185967193406,0.9492223160632087,1.0546914622924541,1.1601606085216996,1.265629754750945,1.3710989009801904,1.4765680472094358,1.5820371934386812,2.1093829245849083,4.218765849169817],\"y\":[0.0,0.0,0.0,0.0,0.0,0.0,0.0,0.0,0.0,0.0,0.0]},{\"line\":{\"color\":\"rgba(128, 128, 0, 0.47136563876652)\",\"dash\":\"solid\",\"shape\":\"linear\",\"width\":1.3},\"mode\":\"lines\",\"name\":\"SFA 14:0\",\"text\":\"\",\"type\":\"scatter\",\"x\":[0.5273457311462271,0.7910185967193406,0.9492223160632087,1.0546914622924541,1.1601606085216996,1.265629754750945,1.3710989009801904,1.4765680472094358,1.5820371934386812,2.1093829245849083,4.218765849169817],\"y\":[0.025624491659539696,0.026505974914879982,0.02650597251853493,0.026505972076208376,0.02650597238343198,0.026505972391609085,0.024115065995971147,0.024115063831399115,0.024115063886731083,0.023935164991224164,0.030378717212427575]},{\"line\":{\"color\":\"rgba(251, 128, 114, 0.47136563876652)\",\"dash\":\"solid\",\"shape\":\"linear\",\"width\":1.3},\"mode\":\"lines\",\"name\":\"SFA 15:0\",\"text\":\"\",\"type\":\"scatter\",\"x\":[0.5273457311462271,0.7910185967193406,0.9492223160632087,1.0546914622924541,1.1601606085216996,1.265629754750945,1.3710989009801904,1.4765680472094358,1.5820371934386812,2.1093829245849083,4.218765849169817],\"y\":[0.010305774636348203,0.010305775039643965,0.010305774782745447,0.010305774725717106,0.010305774612607453,0.010305774615790972,0.010305774623164433,0.010305774614755604,0.010305774617330753,0.01030577463698223,0.013247200032365708]},{\"line\":{\"color\":\"rgba(128, 177, 211, 0.47136563876652)\",\"dash\":\"solid\",\"shape\":\"linear\",\"width\":1.3},\"mode\":\"lines\",\"name\":\"SFA 16:0\",\"text\":\"\",\"type\":\"scatter\",\"x\":[0.5273457311462271,0.7910185967193406,0.9492223160632087,1.0546914622924541,1.1601606085216996,1.265629754750945,1.3710989009801904,1.4765680472094358,1.5820371934386812,2.1093829245849083,4.218765849169817],\"y\":[9.683293128918338,9.774709490734255,9.77470951646247,9.774709666921066,9.774709974924082,9.774709979343697,9.262626558709774,9.262626088576035,9.262626061339567,8.608791187746323,10.431842182084234]},{\"line\":{\"color\":\"rgba(255, 153, 51, 0.47136563876652)\",\"dash\":\"solid\",\"shape\":\"linear\",\"width\":1.3},\"mode\":\"lines\",\"name\":\"SFA 17:0\",\"text\":\"\",\"type\":\"scatter\",\"x\":[0.5273457311462271,0.7910185967193406,0.9492223160632087,1.0546914622924541,1.1601606085216996,1.265629754750945,1.3710989009801904,1.4765680472094358,1.5820371934386812,2.1093829245849083,4.218765849169817],\"y\":[0.012210633460634127,0.012210634085245968,0.012210633699659303,0.012210633608984705,0.012210633427501704,0.01221063343209621,0.012210633442555581,0.012210633430554911,0.012210633433855077,0.012210633460755257,0.01613253416999011]},{\"line\":{\"color\":\"rgba(55, 128, 191, 0.47136563876652)\",\"dash\":\"solid\",\"shape\":\"linear\",\"width\":1.3},\"mode\":\"lines\",\"name\":\"SFA 18:0\",\"text\":\"\",\"type\":\"scatter\",\"x\":[0.5273457311462271,0.7910185967193406,0.9492223160632087,1.0546914622924541,1.1601606085216996,1.265629754750945,1.3710989009801904,1.4765680472094358,1.5820371934386812,2.1093829245849083,4.218765849169817],\"y\":[2.7238058110693872,2.8457175889564312,2.8457174169092143,2.845717389242205,2.8457174831691807,2.8457174834035794,2.6408335881986456,2.6408334040999843,2.640833404538808,2.5574636736410863,2.9156283129479186]},{\"line\":{\"color\":\"rgba(50, 171, 96, 0.47136563876652)\",\"dash\":\"solid\",\"shape\":\"linear\",\"width\":1.3},\"mode\":\"lines\",\"name\":\"SFA 20:0\",\"text\":\"\",\"type\":\"scatter\",\"x\":[0.5273457311462271,0.7910185967193406,0.9492223160632087,1.0546914622924541,1.1601606085216996,1.265629754750945,1.3710989009801904,1.4765680472094358,1.5820371934386812,2.1093829245849083,4.218765849169817],\"y\":[1.2144435467198085,1.2482723893751118,1.2482723187332938,1.2482723070784318,1.2482723528984503,1.2482723528931121,1.1723051197596548,1.172305051688202,1.172305051331429,1.1327562558294884,1.2520341289444556]},{\"line\":{\"color\":\"rgba(128, 0, 128, 0.47136563876652)\",\"dash\":\"solid\",\"shape\":\"linear\",\"width\":1.3},\"mode\":\"lines\",\"name\":\"SFA 21:0\",\"text\":\"\",\"type\":\"scatter\",\"x\":[0.5273457311462271,0.7910185967193406,0.9492223160632087,1.0546914622924541,1.1601606085216996,1.265629754750945,1.3710989009801904,1.4765680472094358,1.5820371934386812,2.1093829245849083,4.218765849169817],\"y\":[0.0,0.0,0.0,0.0,0.0,0.0,0.0,0.0,0.0,0.0,0.0]},{\"line\":{\"color\":\"rgba(219, 64, 82, 0.47136563876652)\",\"dash\":\"solid\",\"shape\":\"linear\",\"width\":1.3},\"mode\":\"lines\",\"name\":\"SFA 22:0\",\"text\":\"\",\"type\":\"scatter\",\"x\":[0.5273457311462271,0.7910185967193406,0.9492223160632087,1.0546914622924541,1.1601606085216996,1.265629754750945,1.3710989009801904,1.4765680472094358,1.5820371934386812,2.1093829245849083,4.218765849169817],\"y\":[2.5030685255171923,2.567785776119989,2.5677856349752175,2.567785612014018,2.567785707608409,2.567785707570427,2.4151618107823842,2.4151616740935316,2.4151616731768994,2.3326573003780493,2.5565488875008517]},{\"line\":{\"color\":\"rgba(219, 64, 82, 0.43612334801762126)\",\"dash\":\"solid\",\"shape\":\"linear\",\"width\":1.3},\"mode\":\"lines\",\"name\":\"SFA 23:0\",\"text\":\"\",\"type\":\"scatter\",\"x\":[0.5273457311462271,0.7910185967193406,0.9492223160632087,1.0546914622924541,1.1601606085216996,1.265629754750945,1.3710989009801904,1.4765680472094358,1.5820371934386812,2.1093829245849083,4.218765849169817],\"y\":[0.0,0.0,0.0,0.0,0.0,0.0,0.0,0.0,0.0,0.0,0.0]},{\"line\":{\"color\":\"rgba(0, 128, 128, 0.43612334801762126)\",\"dash\":\"solid\",\"shape\":\"linear\",\"width\":1.3},\"mode\":\"lines\",\"name\":\"SFA 24:0\",\"text\":\"\",\"type\":\"scatter\",\"x\":[0.5273457311462271,0.7910185967193406,0.9492223160632087,1.0546914622924541,1.1601606085216996,1.265629754750945,1.3710989009801904,1.4765680472094358,1.5820371934386812,2.1093829245849083,4.218765849169817],\"y\":[1.4391983186093005,1.4756526646975632,1.47565258352768,1.475652570337044,1.4756526253968332,1.4756526253770954,1.3883124293856208,1.388312351161816,1.38831235060724,1.3405536747177529,1.4722489978557325]},{\"line\":{\"color\":\"rgba(255, 255, 51, 0.43612334801762126)\",\"dash\":\"solid\",\"shape\":\"linear\",\"width\":1.3},\"mode\":\"lines\",\"name\":\"SFA 4:0\",\"text\":\"\",\"type\":\"scatter\",\"x\":[0.5273457311462271,0.7910185967193406,0.9492223160632087,1.0546914622924541,1.1601606085216996,1.265629754750945,1.3710989009801904,1.4765680472094358,1.5820371934386812,2.1093829245849083,4.218765849169817],\"y\":[0.0,0.0,0.0,0.0,0.0,0.0,0.0,0.0,0.0,0.0,0.0]},{\"line\":{\"color\":\"rgba(128, 128, 0, 0.43612334801762126)\",\"dash\":\"solid\",\"shape\":\"linear\",\"width\":1.3},\"mode\":\"lines\",\"name\":\"SFA 5:0\",\"text\":\"\",\"type\":\"scatter\",\"x\":[0.5273457311462271,0.7910185967193406,0.9492223160632087,1.0546914622924541,1.1601606085216996,1.265629754750945,1.3710989009801904,1.4765680472094358,1.5820371934386812,2.1093829245849083,4.218765849169817],\"y\":[0.0,0.0,0.0,0.0,0.0,0.0,0.0,0.0,0.0,0.0,0.0]},{\"line\":{\"color\":\"rgba(251, 128, 114, 0.43612334801762126)\",\"dash\":\"solid\",\"shape\":\"linear\",\"width\":1.3},\"mode\":\"lines\",\"name\":\"SFA 6:0\",\"text\":\"\",\"type\":\"scatter\",\"x\":[0.5273457311462271,0.7910185967193406,0.9492223160632087,1.0546914622924541,1.1601606085216996,1.265629754750945,1.3710989009801904,1.4765680472094358,1.5820371934386812,2.1093829245849083,4.218765849169817],\"y\":[0.0,0.0,0.0,0.0,0.0,0.0,0.0,0.0,0.0,0.0,0.0]},{\"line\":{\"color\":\"rgba(128, 177, 211, 0.43612334801762126)\",\"dash\":\"solid\",\"shape\":\"linear\",\"width\":1.3},\"mode\":\"lines\",\"name\":\"SFA 7:0\",\"text\":\"\",\"type\":\"scatter\",\"x\":[0.5273457311462271,0.7910185967193406,0.9492223160632087,1.0546914622924541,1.1601606085216996,1.265629754750945,1.3710989009801904,1.4765680472094358,1.5820371934386812,2.1093829245849083,4.218765849169817],\"y\":[0.0,0.0,0.0,0.0,0.0,0.0,0.0,0.0,0.0,0.0,0.0]},{\"line\":{\"color\":\"rgba(255, 153, 51, 0.43612334801762126)\",\"dash\":\"solid\",\"shape\":\"linear\",\"width\":1.3},\"mode\":\"lines\",\"name\":\"SFA 8:0\",\"text\":\"\",\"type\":\"scatter\",\"x\":[0.5273457311462271,0.7910185967193406,0.9492223160632087,1.0546914622924541,1.1601606085216996,1.265629754750945,1.3710989009801904,1.4765680472094358,1.5820371934386812,2.1093829245849083,4.218765849169817],\"y\":[0.0003820026131850172,0.0003045161259311982,0.0003045163991240479,0.00030451652135513925,0.0003045165472803642,0.0003045165490561706,0.00030479328434208675,0.00030479327964248845,0.000304793266061311,9.110826131604755e-05,0.0005957552386072747]},{\"line\":{\"color\":\"rgba(55, 128, 191, 0.43612334801762126)\",\"dash\":\"solid\",\"shape\":\"linear\",\"width\":1.3},\"mode\":\"lines\",\"name\":\"SFA 9:0\",\"text\":\"\",\"type\":\"scatter\",\"x\":[0.5273457311462271,0.7910185967193406,0.9492223160632087,1.0546914622924541,1.1601606085216996,1.265629754750945,1.3710989009801904,1.4765680472094358,1.5820371934386812,2.1093829245849083,4.218765849169817],\"y\":[0.0,0.0,0.0,0.0,0.0,0.0,0.0,0.0,0.0,0.0,0.0]},{\"line\":{\"color\":\"rgba(50, 171, 96, 0.43612334801762126)\",\"dash\":\"solid\",\"shape\":\"linear\",\"width\":1.3},\"mode\":\"lines\",\"name\":\"Selenium, Se\",\"text\":\"\",\"type\":\"scatter\",\"x\":[0.5273457311462271,0.7910185967193406,0.9492223160632087,1.0546914622924541,1.1601606085216996,1.265629754750945,1.3710989009801904,1.4765680472094358,1.5820371934386812,2.1093829245849083,4.218765849169817],\"y\":[54.47314012995612,58.37418847247207,58.37418031711636,58.3741783033486,58.37417717793018,58.3741773423943,53.1510058770241,53.15100110063723,53.15100113165612,51.89959579133499,54.87951223212768]},{\"line\":{\"color\":\"rgba(128, 0, 128, 0.43612334801762126)\",\"dash\":\"solid\",\"shape\":\"linear\",\"width\":1.3},\"mode\":\"lines\",\"name\":\"Serine\",\"text\":\"\",\"type\":\"scatter\",\"x\":[0.5273457311462271,0.7910185967193406,0.9492223160632087,1.0546914622924541,1.1601606085216996,1.265629754750945,1.3710989009801904,1.4765680472094358,1.5820371934386812,2.1093829245849083,4.218765849169817],\"y\":[5.644309541721456,5.69778292467487,5.697782726737103,5.697782672543779,5.697782733562396,5.697782734686832,5.638069205873765,5.638069151860751,5.638069149099827,5.574506145390436,5.3337198052420876]},{\"line\":{\"color\":\"rgba(128, 0, 128, 0.40088105726872253)\",\"dash\":\"solid\",\"shape\":\"linear\",\"width\":1.3},\"mode\":\"lines\",\"name\":\"Sodium, Na\",\"text\":\"\",\"type\":\"scatter\",\"x\":[0.5273457311462271,0.7910185967193406,0.9492223160632087,1.0546914622924541,1.1601606085216996,1.265629754750945,1.3710989009801904,1.4765680472094358,1.5820371934386812,2.1093829245849083,4.218765849169817],\"y\":[1402.007088686987,1499.7055527422117,1499.7054652225736,1499.7054300301613,1499.705430633498,1499.7054300387945,1452.5035870506101,1452.5035459404835,1452.5035508185688,1513.42625510375,1193.9727026058652]},{\"line\":{\"color\":\"rgba(219, 64, 82, 0.40088105726872253)\",\"dash\":\"solid\",\"shape\":\"linear\",\"width\":1.3},\"mode\":\"lines\",\"name\":\"Stachyose\",\"text\":\"\",\"type\":\"scatter\",\"x\":[0.5273457311462271,0.7910185967193406,0.9492223160632087,1.0546914622924541,1.1601606085216996,1.265629754750945,1.3710989009801904,1.4765680472094358,1.5820371934386812,2.1093829245849083,4.218765849169817],\"y\":[2.652149580437496,2.6521495941516986,2.6521495845275145,2.6521495826917567,2.652149580281711,2.652149580354513,2.6521495807558684,2.6521495803203528,2.6521495802831843,2.652149580552045,2.6521495925603737]},{\"line\":{\"color\":\"rgba(0, 128, 128, 0.40088105726872253)\",\"dash\":\"solid\",\"shape\":\"linear\",\"width\":1.3},\"mode\":\"lines\",\"name\":\"Starch\",\"text\":\"\",\"type\":\"scatter\",\"x\":[0.5273457311462271,0.7910185967193406,0.9492223160632087,1.0546914622924541,1.1601606085216996,1.265629754750945,1.3710989009801904,1.4765680472094358,1.5820371934386812,2.1093829245849083,4.218765849169817],\"y\":[5.796803456213076,12.730077811164346,12.73006686031395,12.730064404081743,12.730062180525623,12.73006238209917,4.526970322972392,4.526962805873938,4.526962983365252,3.5524823115314454,63.19221987006757]},{\"line\":{\"color\":\"rgba(255, 255, 51, 0.40088105726872253)\",\"dash\":\"solid\",\"shape\":\"linear\",\"width\":1.3},\"mode\":\"lines\",\"name\":\"Stigmasterol\",\"text\":\"\",\"type\":\"scatter\",\"x\":[0.5273457311462271,0.7910185967193406,0.9492223160632087,1.0546914622924541,1.1601606085216996,1.265629754750945,1.3710989009801904,1.4765680472094358,1.5820371934386812,2.1093829245849083,4.218765849169817],\"y\":[0.7640052542901228,0.6090325645330251,0.6090329281990801,0.6090331309208142,0.6090330948418988,0.6090331013625999,0.6095865761923398,0.6095865615487569,0.609586538046322,0.18221654619631933,5.1134104227840265]},{\"line\":{\"color\":\"rgba(128, 128, 0, 0.40088105726872253)\",\"dash\":\"solid\",\"shape\":\"linear\",\"width\":1.3},\"mode\":\"lines\",\"name\":\"Sucrose\",\"text\":\"\",\"type\":\"scatter\",\"x\":[0.5273457311462271,0.7910185967193406,0.9492223160632087,1.0546914622924541,1.1601606085216996,1.265629754750945,1.3710989009801904,1.4765680472094358,1.5820371934386812,2.1093829245849083,4.218765849169817],\"y\":[10.572701149097304,12.850190538103941,12.850190536493615,12.850190231940493,12.850189421236905,12.85018941281747,12.898648551702312,12.89864862258082,12.898648744109524,14.728648818102842,20.06645594927811]},{\"line\":{\"color\":\"rgba(251, 128, 114, 0.40088105726872253)\",\"dash\":\"solid\",\"shape\":\"linear\",\"width\":1.3},\"mode\":\"lines\",\"name\":\"Sugars, Total\",\"text\":\"\",\"type\":\"scatter\",\"x\":[0.5273457311462271,0.7910185967193406,0.9492223160632087,1.0546914622924541,1.1601606085216996,1.265629754750945,1.3710989009801904,1.4765680472094358,1.5820371934386812,2.1093829245849083,4.218765849169817],\"y\":[26.421801638685267,31.420239331066448,31.42024050041167,31.42024273670417,31.420251813180673,31.42025179479524,19.145563689286888,19.145552765829258,19.14555240331151,8.36988132062483,8.73483370803737]},{\"line\":{\"color\":\"rgba(128, 177, 211, 0.40088105726872253)\",\"dash\":\"solid\",\"shape\":\"linear\",\"width\":1.3},\"mode\":\"lines\",\"name\":\"Sugars, total including NLEA\",\"text\":\"\",\"type\":\"scatter\",\"x\":[0.5273457311462271,0.7910185967193406,0.9492223160632087,1.0546914622924541,1.1601606085216996,1.265629754750945,1.3710989009801904,1.4765680472094358,1.5820371934386812,2.1093829245849083,4.218765849169817],\"y\":[3.242261598387196,3.699758786696149,3.6997579032027956,3.699756721185133,3.699752634601116,3.699752636576609,7.451187741407327,7.4511911038834935,7.4511913753694134,13.167042892609494,19.687365816534292]},{\"line\":{\"color\":\"rgba(255, 153, 51, 0.40088105726872253)\",\"dash\":\"solid\",\"shape\":\"linear\",\"width\":1.3},\"mode\":\"lines\",\"name\":\"TFA 14:1 t\",\"text\":\"\",\"type\":\"scatter\",\"x\":[0.5273457311462271,0.7910185967193406,0.9492223160632087,1.0546914622924541,1.1601606085216996,1.265629754750945,1.3710989009801904,1.4765680472094358,1.5820371934386812,2.1093829245849083,4.218765849169817],\"y\":[0.0,0.0,0.0,0.0,0.0,0.0,0.0,0.0,0.0,0.0,0.0]},{\"line\":{\"color\":\"rgba(55, 128, 191, 0.40088105726872253)\",\"dash\":\"solid\",\"shape\":\"linear\",\"width\":1.3},\"mode\":\"lines\",\"name\":\"TFA 16:1 t\",\"text\":\"\",\"type\":\"scatter\",\"x\":[0.5273457311462271,0.7910185967193406,0.9492223160632087,1.0546914622924541,1.1601606085216996,1.265629754750945,1.3710989009801904,1.4765680472094358,1.5820371934386812,2.1093829245849083,4.218765849169817],\"y\":[0.0,0.0,0.0,0.0,0.0,0.0,0.0,0.0,0.0,0.0,0.0]},{\"line\":{\"color\":\"rgba(50, 171, 96, 0.40088105726872253)\",\"dash\":\"solid\",\"shape\":\"linear\",\"width\":1.3},\"mode\":\"lines\",\"name\":\"TFA 18:1 t\",\"text\":\"\",\"type\":\"scatter\",\"x\":[0.5273457311462271,0.7910185967193406,0.9492223160632087,1.0546914622924541,1.1601606085216996,1.265629754750945,1.3710989009801904,1.4765680472094358,1.5820371934386812,2.1093829245849083,4.218765849169817],\"y\":[0.004960569832357316,0.004960569987400262,0.004960569895830403,0.004960569873284899,0.004960569829839424,0.004960569830573875,0.004960569833297099,0.004960569830319662,0.004960569830152922,0.00496056983421725,0.004960570192751338]},{\"line\":{\"color\":\"rgba(50, 171, 96, 0.3656387665198238)\",\"dash\":\"solid\",\"shape\":\"linear\",\"width\":1.3},\"mode\":\"lines\",\"name\":\"TFA 18:2 t\",\"text\":\"\",\"type\":\"scatter\",\"x\":[0.5273457311462271,0.7910185967193406,0.9492223160632087,1.0546914622924541,1.1601606085216996,1.265629754750945,1.3710989009801904,1.4765680472094358,1.5820371934386812,2.1093829245849083,4.218765849169817],\"y\":[0.006868481302928597,0.006868481338445352,0.006868481313520841,0.006868481308766635,0.006868481302525149,0.006868481302713689,0.006868481303753112,0.006868481302625222,0.006868481302528964,0.006868481303225255,0.006868481334324172]},{\"line\":{\"color\":\"rgba(128, 0, 128, 0.3656387665198238)\",\"dash\":\"solid\",\"shape\":\"linear\",\"width\":1.3},\"mode\":\"lines\",\"name\":\"TFA 18:2 t not further defined\",\"text\":\"\",\"type\":\"scatter\",\"x\":[0.5273457311462271,0.7910185967193406,0.9492223160632087,1.0546914622924541,1.1601606085216996,1.265629754750945,1.3710989009801904,1.4765680472094358,1.5820371934386812,2.1093829245849083,4.218765849169817],\"y\":[0.006868481307144394,0.006868481565572083,0.0068684814163481895,0.006868481377886977,0.0068684813029344,0.006868481304132173,0.006868481308299569,0.006868481303696868,0.006868481303394545,0.006868481309415931,0.006868481893072139]},{\"line\":{\"color\":\"rgba(219, 64, 82, 0.3656387665198238)\",\"dash\":\"solid\",\"shape\":\"linear\",\"width\":1.3},\"mode\":\"lines\",\"name\":\"TFA 18:3 t\",\"text\":\"\",\"type\":\"scatter\",\"x\":[0.5273457311462271,0.7910185967193406,0.9492223160632087,1.0546914622924541,1.1601606085216996,1.265629754750945,1.3710989009801904,1.4765680472094358,1.5820371934386812,2.1093829245849083,4.218765849169817],\"y\":[0.0,0.0,0.0,0.0,0.0,0.0,0.0,0.0,0.0,0.0,0.0]},{\"line\":{\"color\":\"rgba(0, 128, 128, 0.3656387665198238)\",\"dash\":\"solid\",\"shape\":\"linear\",\"width\":1.3},\"mode\":\"lines\",\"name\":\"TFA 20:1 t\",\"text\":\"\",\"type\":\"scatter\",\"x\":[0.5273457311462271,0.7910185967193406,0.9492223160632087,1.0546914622924541,1.1601606085216996,1.265629754750945,1.3710989009801904,1.4765680472094358,1.5820371934386812,2.1093829245849083,4.218765849169817],\"y\":[0.0,0.0,0.0,0.0,0.0,0.0,0.0,0.0,0.0,0.0,0.0]},{\"line\":{\"color\":\"rgba(255, 255, 51, 0.3656387665198238)\",\"dash\":\"solid\",\"shape\":\"linear\",\"width\":1.3},\"mode\":\"lines\",\"name\":\"TFA 22:1 t\",\"text\":\"\",\"type\":\"scatter\",\"x\":[0.5273457311462271,0.7910185967193406,0.9492223160632087,1.0546914622924541,1.1601606085216996,1.265629754750945,1.3710989009801904,1.4765680472094358,1.5820371934386812,2.1093829245849083,4.218765849169817],\"y\":[0.0,0.0,0.0,0.0,0.0,0.0,0.0,0.0,0.0,0.0,0.0]},{\"line\":{\"color\":\"rgba(128, 128, 0, 0.3656387665198238)\",\"dash\":\"solid\",\"shape\":\"linear\",\"width\":1.3},\"mode\":\"lines\",\"name\":\"Theobromine\",\"text\":\"\",\"type\":\"scatter\",\"x\":[0.5273457311462271,0.7910185967193406,0.9492223160632087,1.0546914622924541,1.1601606085216996,1.265629754750945,1.3710989009801904,1.4765680472094358,1.5820371934386812,2.1093829245849083,4.218765849169817],\"y\":[0.0,0.0,0.0,0.0,0.0,0.0,0.0,0.0,0.0,0.0,0.0]},{\"line\":{\"color\":\"rgba(251, 128, 114, 0.3656387665198238)\",\"dash\":\"solid\",\"shape\":\"linear\",\"width\":1.3},\"mode\":\"lines\",\"name\":\"Thiamin\",\"text\":\"\",\"type\":\"scatter\",\"x\":[0.5273457311462271,0.7910185967193406,0.9492223160632087,1.0546914622924541,1.1601606085216996,1.265629754750945,1.3710989009801904,1.4765680472094358,1.5820371934386812,2.1093829245849083,4.218765849169817],\"y\":[1.5436579944770341,1.6054259978973322,1.6054259164445306,1.6054258929024185,1.605425892552984,1.6054258927516671,1.5653603968670018,1.5653603604857789,1.5653603624753472,1.5787667334317694,1.6849116518755098]},{\"line\":{\"color\":\"rgba(128, 177, 211, 0.3656387665198238)\",\"dash\":\"solid\",\"shape\":\"linear\",\"width\":1.3},\"mode\":\"lines\",\"name\":\"Threonine\",\"text\":\"\",\"type\":\"scatter\",\"x\":[0.5273457311462271,0.7910185967193406,0.9492223160632087,1.0546914622924541,1.1601606085216996,1.265629754750945,1.3710989009801904,1.4765680472094358,1.5820371934386812,2.1093829245849083,4.218765849169817],\"y\":[3.4948294129560398,3.5316755751132516,3.53167542831615,3.53167535525278,3.5316752415944928,3.531675242514947,3.640627838173821,3.640627935247093,3.640627942870246,3.8015716568490205,4.092241495960126]},{\"line\":{\"color\":\"rgba(255, 153, 51, 0.3656387665198238)\",\"dash\":\"solid\",\"shape\":\"linear\",\"width\":1.3},\"mode\":\"lines\",\"name\":\"Tocopherol, beta\",\"text\":\"\",\"type\":\"scatter\",\"x\":[0.5273457311462271,0.7910185967193406,0.9492223160632087,1.0546914622924541,1.1601606085216996,1.265629754750945,1.3710989009801904,1.4765680472094358,1.5820371934386812,2.1093829245849083,4.218765849169817],\"y\":[0.022050453137278526,0.028321756052344143,0.02832175581426098,0.028321756371103422,0.028321746502271757,0.02832174674114888,0.027569627337733476,0.027569626266810837,0.02756962639783406,0.029327858638172093,0.08475759561197302]},{\"line\":{\"color\":\"rgba(55, 128, 191, 0.3656387665198238)\",\"dash\":\"solid\",\"shape\":\"linear\",\"width\":1.3},\"mode\":\"lines\",\"name\":\"Tocopherol, delta\",\"text\":\"\",\"type\":\"scatter\",\"x\":[0.5273457311462271,0.7910185967193406,0.9492223160632087,1.0546914622924541,1.1601606085216996,1.265629754750945,1.3710989009801904,1.4765680472094358,1.5820371934386812,2.1093829245849083,4.218765849169817],\"y\":[5.344907925327463,5.4351778650770335,5.435177767723875,5.435177748084186,5.4351777491989175,5.435177749605233,5.343363820606672,5.343363736708896,5.343363738847891,5.339090039827601,5.506486941036004]},{\"line\":{\"color\":\"rgba(55, 128, 191, 0.3303964757709253)\",\"dash\":\"solid\",\"shape\":\"linear\",\"width\":1.3},\"mode\":\"lines\",\"name\":\"Tocopherol, gamma\",\"text\":\"\",\"type\":\"scatter\",\"x\":[0.5273457311462271,0.7910185967193406,0.9492223160632087,1.0546914622924541,1.1601606085216996,1.265629754750945,1.3710989009801904,1.4765680472094358,1.5820371934386812,2.1093829245849083,4.218765849169817],\"y\":[8.795610609063234,9.137318982098817,9.137318535516528,9.137318454447698,9.137318383674524,9.137318388561718,8.77013185775389,8.770131517769704,8.770131522642691,8.699615483312927,9.495365381324106]},{\"line\":{\"color\":\"rgba(50, 171, 96, 0.3303964757709253)\",\"dash\":\"solid\",\"shape\":\"linear\",\"width\":1.3},\"mode\":\"lines\",\"name\":\"Tocotrienol, alpha\",\"text\":\"\",\"type\":\"scatter\",\"x\":[0.5273457311462271,0.7910185967193406,0.9492223160632087,1.0546914622924541,1.1601606085216996,1.265629754750945,1.3710989009801904,1.4765680472094358,1.5820371934386812,2.1093829245849083,4.218765849169817],\"y\":[0.006770348533295077,0.008225631677860392,0.008225624764074395,0.008225620936673398,0.00822560637942626,0.008225606725778477,0.015377888890537999,0.015377895094620538,0.015377895519585679,0.02568352809997111,0.04736670743921228]},{\"line\":{\"color\":\"rgba(128, 0, 128, 0.3303964757709253)\",\"dash\":\"solid\",\"shape\":\"linear\",\"width\":1.3},\"mode\":\"lines\",\"name\":\"Tocotrienol, beta\",\"text\":\"\",\"type\":\"scatter\",\"x\":[0.5273457311462271,0.7910185967193406,0.9492223160632087,1.0546914622924541,1.1601606085216996,1.265629754750945,1.3710989009801904,1.4765680472094358,1.5820371934386812,2.1093829245849083,4.218765849169817],\"y\":[1.1637884742360234e-10,0.007915484177646157,0.00791547842966281,0.007915477190543157,0.007915478221062734,0.007915478251355372,7.114104229334219e-09,8.545246248428418e-12,2.2146074971933365e-10,2.2439776484365378e-10,0.013560678063660852]},{\"line\":{\"color\":\"rgba(219, 64, 82, 0.3303964757709253)\",\"dash\":\"solid\",\"shape\":\"linear\",\"width\":1.3},\"mode\":\"lines\",\"name\":\"Tocotrienol, delta\",\"text\":\"\",\"type\":\"scatter\",\"x\":[0.5273457311462271,0.7910185967193406,0.9492223160632087,1.0546914622924541,1.1601606085216996,1.265629754750945,1.3710989009801904,1.4765680472094358,1.5820371934386812,2.1093829245849083,4.218765849169817],\"y\":[0.0,0.0,0.0,0.0,0.0,0.0,0.0,0.0,0.0,0.0,0.0]},{\"line\":{\"color\":\"rgba(0, 128, 128, 0.3303964757709253)\",\"dash\":\"solid\",\"shape\":\"linear\",\"width\":1.3},\"mode\":\"lines\",\"name\":\"Tocotrienol, gamma\",\"text\":\"\",\"type\":\"scatter\",\"x\":[0.5273457311462271,0.7910185967193406,0.9492223160632087,1.0546914622924541,1.1601606085216996,1.265629754750945,1.3710989009801904,1.4765680472094358,1.5820371934386812,2.1093829245849083,4.218765849169817],\"y\":[0.0,0.0,0.0,0.0,0.0,0.0,0.0,0.0,0.0,0.0,0.0]},{\"line\":{\"color\":\"rgba(255, 255, 51, 0.3303964757709253)\",\"dash\":\"solid\",\"shape\":\"linear\",\"width\":1.3},\"mode\":\"lines\",\"name\":\"Total dietary fiber (AOAC 2011.25)\",\"text\":\"\",\"type\":\"scatter\",\"x\":[0.5273457311462271,0.7910185967193406,0.9492223160632087,1.0546914622924541,1.1601606085216996,1.265629754750945,1.3710989009801904,1.4765680472094358,1.5820371934386812,2.1093829245849083,4.218765849169817],\"y\":[6.73167645743317,7.344155840229124,7.344156072587083,7.344156782870189,7.344159636848353,7.34415963127908,3.4463857224656773,3.446382251609833,3.4463821350191246,1.0489053797369093e-07,6.669813248095364e-07]},{\"line\":{\"color\":\"rgba(128, 128, 0, 0.3303964757709253)\",\"dash\":\"solid\",\"shape\":\"linear\",\"width\":1.3},\"mode\":\"lines\",\"name\":\"Total fat (NLEA)\",\"text\":\"\",\"type\":\"scatter\",\"x\":[0.5273457311462271,0.7910185967193406,0.9492223160632087,1.0546914622924541,1.1601606085216996,1.265629754750945,1.3710989009801904,1.4765680472094358,1.5820371934386812,2.1093829245849083,4.218765849169817],\"y\":[11.50302722030913,11.503027279791013,11.503027238048551,11.503027230086415,11.503027219633454,11.503027219949212,11.50302722168999,11.503027219801051,11.503027219639842,11.50302722080596,11.503027272889042]},{\"line\":{\"color\":\"rgba(251, 128, 114, 0.3303964757709253)\",\"dash\":\"solid\",\"shape\":\"linear\",\"width\":1.3},\"mode\":\"lines\",\"name\":\"Total lipid (fat)\",\"text\":\"\",\"type\":\"scatter\",\"x\":[0.5273457311462271,0.7910185967193406,0.9492223160632087,1.0546914622924541,1.1601606085216996,1.265629754750945,1.3710989009801904,1.4765680472094358,1.5820371934386812,2.1093829245849083,4.218765849169817],\"y\":[106.71852435515835,108.689971535624,108.68996921448563,108.68996988727847,108.6899735362978,108.68997356853363,102.26771853972859,102.26771269852428,102.2677124998924,96.30522847132397,113.96506602206091]},{\"line\":{\"color\":\"rgba(128, 177, 211, 0.3303964757709253)\",\"dash\":\"solid\",\"shape\":\"linear\",\"width\":1.3},\"mode\":\"lines\",\"name\":\"Tryptophan\",\"text\":\"\",\"type\":\"scatter\",\"x\":[0.5273457311462271,0.7910185967193406,0.9492223160632087,1.0546914622924541,1.1601606085216996,1.265629754750945,1.3710989009801904,1.4765680472094358,1.5820371934386812,2.1093829245849083,4.218765849169817],\"y\":[1.0914106609375696,1.1031694504330865,1.1031694104839078,1.1031693988857099,1.1031694029110002,1.103169403320614,1.0950642802958948,1.0950642727812698,1.0950642723956856,1.0870603129636571,1.0480878783185703]},{\"line\":{\"color\":\"rgba(255, 153, 51, 0.3303964757709253)\",\"dash\":\"solid\",\"shape\":\"linear\",\"width\":1.3},\"mode\":\"lines\",\"name\":\"Tyrosine\",\"text\":\"\",\"type\":\"scatter\",\"x\":[0.5273457311462271,0.7910185967193406,0.9492223160632087,1.0546914622924541,1.1601606085216996,1.265629754750945,1.3710989009801904,1.4765680472094358,1.5820371934386812,2.1093829245849083,4.218765849169817],\"y\":[3.42194443536936,3.4780873176516875,3.478087163931205,3.4780871247812235,3.4780871580481425,3.4780871587155464,3.4073397875541147,3.4073397234231044,3.4073397237619973,3.3795360065295257,3.6473093634157356]},{\"line\":{\"color\":\"rgba(255, 153, 51, 0.29515418502202656)\",\"dash\":\"solid\",\"shape\":\"linear\",\"width\":1.3},\"mode\":\"lines\",\"name\":\"Valine\",\"text\":\"\",\"type\":\"scatter\",\"x\":[0.5273457311462271,0.7910185967193406,0.9492223160632087,1.0546914622924541,1.1601606085216996,1.265629754750945,1.3710989009801904,1.4765680472094358,1.5820371934386812,2.1093829245849083,4.218765849169817],\"y\":[4.792183117937258,4.825285370011294,4.825285195351938,4.82528514206584,4.825285161490185,4.825285162740476,4.812902690613706,4.812902678665882,4.812902677292218,4.788306975786796,4.731274487722754]},{\"line\":{\"color\":\"rgba(55, 128, 191, 0.29515418502202656)\",\"dash\":\"solid\",\"shape\":\"linear\",\"width\":1.3},\"mode\":\"lines\",\"name\":\"Verbascose\",\"text\":\"\",\"type\":\"scatter\",\"x\":[0.5273457311462271,0.7910185967193406,0.9492223160632087,1.0546914622924541,1.1601606085216996,1.265629754750945,1.3710989009801904,1.4765680472094358,1.5820371934386812,2.1093829245849083,4.218765849169817],\"y\":[0.16026456373500061,0.16026456456372487,0.16026456398215297,0.16026456387122148,0.1602645637255868,0.1602645637299861,0.16026456375423928,0.16026456372792186,0.16026456372567582,0.16026456374192263,0.160264564467564]},{\"line\":{\"color\":\"rgba(50, 171, 96, 0.29515418502202656)\",\"dash\":\"solid\",\"shape\":\"linear\",\"width\":1.3},\"mode\":\"lines\",\"name\":\"Vitamin A, IU\",\"text\":\"\",\"type\":\"scatter\",\"x\":[0.5273457311462271,0.7910185967193406,0.9492223160632087,1.0546914622924541,1.1601606085216996,1.265629754750945,1.3710989009801904,1.4765680472094358,1.5820371934386812,2.1093829245849083,4.218765849169817],\"y\":[5006.824568710873,6075.731968330094,6075.730427716438,6075.726495486211,6075.712254434007,6075.712231562657,20665.429881754564,20665.442996581856,20665.44396278957,41420.36343638267,64794.226056113155]},{\"line\":{\"color\":\"rgba(128, 0, 128, 0.29515418502202656)\",\"dash\":\"solid\",\"shape\":\"linear\",\"width\":1.3},\"mode\":\"lines\",\"name\":\"Vitamin A, RAE\",\"text\":\"\",\"type\":\"scatter\",\"x\":[0.5273457311462271,0.7910185967193406,0.9492223160632087,1.0546914622924541,1.1601606085216996,1.265629754750945,1.3710989009801904,1.4765680472094358,1.5820371934386812,2.1093829245849083,4.218765849169817],\"y\":[700.0000011629896,700.0010018942182,700.0009071027104,700.0007088906044,700.0000011462322,700.0000000528734,1421.3190496152251,1421.3196978852973,1421.319745859551,2450.7993070161856,3608.1299393160953]},{\"line\":{\"color\":\"rgba(219, 64, 82, 0.29515418502202656)\",\"dash\":\"solid\",\"shape\":\"linear\",\"width\":1.3},\"mode\":\"lines\",\"name\":\"Vitamin B-12\",\"text\":\"\",\"type\":\"scatter\",\"x\":[0.5273457311462271,0.7910185967193406,0.9492223160632087,1.0546914622924541,1.1601606085216996,1.265629754750945,1.3710989009801904,1.4765680472094358,1.5820371934386812,2.1093829245849083,4.218765849169817],\"y\":[2.400000000161095,2.4000000125714385,2.4000000038622606,2.400000002201035,2.400000000020121,2.4000000000860013,2.400000000449199,2.4000000000550887,2.4000000000214543,2.400000000264754,2.4000000111314064]},{\"line\":{\"color\":\"rgba(0, 128, 128, 0.29515418502202656)\",\"dash\":\"solid\",\"shape\":\"linear\",\"width\":1.3},\"mode\":\"lines\",\"name\":\"Vitamin B-12, added\",\"text\":\"\",\"type\":\"scatter\",\"x\":[0.5273457311462271,0.7910185967193406,0.9492223160632087,1.0546914622924541,1.1601606085216996,1.265629754750945,1.3710989009801904,1.4765680472094358,1.5820371934386812,2.1093829245849083,4.218765849169817],\"y\":[0.0,0.0,0.0,0.0,0.0,0.0,0.0,0.0,0.0,0.0,0.0]},{\"line\":{\"color\":\"rgba(255, 255, 51, 0.29515418502202656)\",\"dash\":\"solid\",\"shape\":\"linear\",\"width\":1.3},\"mode\":\"lines\",\"name\":\"Vitamin B-6\",\"text\":\"\",\"type\":\"scatter\",\"x\":[0.5273457311462271,0.7910185967193406,0.9492223160632087,1.0546914622924541,1.1601606085216996,1.265629754750945,1.3710989009801904,1.4765680472094358,1.5820371934386812,2.1093829245849083,4.218765849169817],\"y\":[1.8018627255152369,1.8240619916886551,1.8240619679988632,1.8240619775471067,1.8240620010225965,1.8240620017398244,1.7424985646582887,1.7424984904061023,1.7424984890748858,1.6822099944199733,2.196417632725249]},{\"line\":{\"color\":\"rgba(128, 128, 0, 0.29515418502202656)\",\"dash\":\"solid\",\"shape\":\"linear\",\"width\":1.3},\"mode\":\"lines\",\"name\":\"Vitamin C, total ascorbic acid\",\"text\":\"\",\"type\":\"scatter\",\"x\":[0.5273457311462271,0.7910185967193406,0.9492223160632087,1.0546914622924541,1.1601606085216996,1.265629754750945,1.3710989009801904,1.4765680472094358,1.5820371934386812,2.1093829245849083,4.218765849169817],\"y\":[75.00000003667833,75.0000026497281,75.00000099701171,75.00000061919751,75.0000000041265,75.0000000150515,75.00000005395772,75.00000001041239,75.00000000584399,75.00000005484752,75.0000032882538]},{\"line\":{\"color\":\"rgba(251, 128, 114, 0.29515418502202656)\",\"dash\":\"solid\",\"shape\":\"linear\",\"width\":1.3},\"mode\":\"lines\",\"name\":\"Vitamin D (D2 + D3)\",\"text\":\"\",\"type\":\"scatter\",\"x\":[0.5273457311462271,0.7910185967193406,0.9492223160632087,1.0546914622924541,1.1601606085216996,1.265629754750945,1.3710989009801904,1.4765680472094358,1.5820371934386812,2.1093829245849083,4.218765849169817],\"y\":[4.157720682040705,4.157720703604515,4.157720688472201,4.157720685586203,4.157720681795339,4.157720681909677,4.1577206825405195,4.157720681856098,4.15772068179779,4.157720682220597,4.157720701112896]},{\"line\":{\"color\":\"rgba(128, 177, 211, 0.29515418502202656)\",\"dash\":\"solid\",\"shape\":\"linear\",\"width\":1.3},\"mode\":\"lines\",\"name\":\"Vitamin D (D2 + D3), International Units\",\"text\":\"\",\"type\":\"scatter\",\"x\":[0.5273457311462271,0.7910185967193406,0.9492223160632087,1.0546914622924541,1.1601606085216996,1.265629754750945,1.3710989009801904,1.4765680472094358,1.5820371934386812,2.1093829245849083,4.218765849169817],\"y\":[166.0646146130796,166.06461547436922,166.06461486996287,166.06461475469197,166.06461460327932,166.06461460784612,166.06461463304288,166.06461460570614,166.06461460337724,166.06461462026476,166.06461537485097]},{\"line\":{\"color\":\"rgba(128, 177, 211, 0.25991189427312783)\",\"dash\":\"solid\",\"shape\":\"linear\",\"width\":1.3},\"mode\":\"lines\",\"name\":\"Vitamin D2 (ergocalciferol)\",\"text\":\"\",\"type\":\"scatter\",\"x\":[0.5273457311462271,0.7910185967193406,0.9492223160632087,1.0546914622924541,1.1601606085216996,1.265629754750945,1.3710989009801904,1.4765680472094358,1.5820371934386812,2.1093829245849083,4.218765849169817],\"y\":[4.160162808726189,4.160162830302538,4.160162815161424,4.160162812273747,4.16016280848068,4.160162808595086,4.160162809226295,4.160162808541475,4.1601628084831335,4.160162808906186,4.160162827809449]},{\"line\":{\"color\":\"rgba(255, 153, 51, 0.25991189427312783)\",\"dash\":\"solid\",\"shape\":\"linear\",\"width\":1.3},\"mode\":\"lines\",\"name\":\"Vitamin D3 (cholecalciferol)\",\"text\":\"\",\"type\":\"scatter\",\"x\":[0.5273457311462271,0.7910185967193406,0.9492223160632087,1.0546914622924541,1.1601606085216996,1.265629754750945,1.3710989009801904,1.4765680472094358,1.5820371934386812,2.1093829245849083,4.218765849169817],\"y\":[0.0,0.0,0.0,0.0,0.0,0.0,0.0,0.0,0.0,0.0,0.0]},{\"line\":{\"color\":\"rgba(55, 128, 191, 0.25991189427312783)\",\"dash\":\"solid\",\"shape\":\"linear\",\"width\":1.3},\"mode\":\"lines\",\"name\":\"Vitamin D4\",\"text\":\"\",\"type\":\"scatter\",\"x\":[0.5273457311462271,0.7910185967193406,0.9492223160632087,1.0546914622924541,1.1601606085216996,1.265629754750945,1.3710989009801904,1.4765680472094358,1.5820371934386812,2.1093829245849083,4.218765849169817],\"y\":[0.0,0.0,0.0,0.0,0.0,0.0,0.0,0.0,0.0,0.0,0.0]},{\"line\":{\"color\":\"rgba(50, 171, 96, 0.25991189427312783)\",\"dash\":\"solid\",\"shape\":\"linear\",\"width\":1.3},\"mode\":\"lines\",\"name\":\"Vitamin E (alpha-tocopherol)\",\"text\":\"\",\"type\":\"scatter\",\"x\":[0.5273457311462271,0.7910185967193406,0.9492223160632087,1.0546914622924541,1.1601606085216996,1.265629754750945,1.3710989009801904,1.4765680472094358,1.5820371934386812,2.1093829245849083,4.218765849169817],\"y\":[15.000000001709955,15.000000095708538,15.000000018883188,15.000000009114245,15.000000000176003,15.000000000422386,15.000000004439734,15.000000000497653,15.000000000498877,15.000000005036474,15.000000097135377]},{\"line\":{\"color\":\"rgba(128, 0, 128, 0.25991189427312783)\",\"dash\":\"solid\",\"shape\":\"linear\",\"width\":1.3},\"mode\":\"lines\",\"name\":\"Vitamin E, added\",\"text\":\"\",\"type\":\"scatter\",\"x\":[0.5273457311462271,0.7910185967193406,0.9492223160632087,1.0546914622924541,1.1601606085216996,1.265629754750945,1.3710989009801904,1.4765680472094358,1.5820371934386812,2.1093829245849083,4.218765849169817],\"y\":[0.0,0.0,0.0,0.0,0.0,0.0,0.0,0.0,0.0,0.0,0.0]},{\"line\":{\"color\":\"rgba(219, 64, 82, 0.25991189427312783)\",\"dash\":\"solid\",\"shape\":\"linear\",\"width\":1.3},\"mode\":\"lines\",\"name\":\"Vitamin K (Dihydrophylloquinone)\",\"text\":\"\",\"type\":\"scatter\",\"x\":[0.5273457311462271,0.7910185967193406,0.9492223160632087,1.0546914622924541,1.1601606085216996,1.265629754750945,1.3710989009801904,1.4765680472094358,1.5820371934386812,2.1093829245849083,4.218765849169817],\"y\":[0.0,0.0,0.0,0.0,0.0,0.0,0.0,0.0,0.0,0.0,0.0]},{\"line\":{\"color\":\"rgba(0, 128, 128, 0.25991189427312783)\",\"dash\":\"solid\",\"shape\":\"linear\",\"width\":1.3},\"mode\":\"lines\",\"name\":\"Vitamin K (Menaquinone-4)\",\"text\":\"\",\"type\":\"scatter\",\"x\":[0.5273457311462271,0.7910185967193406,0.9492223160632087,1.0546914622924541,1.1601606085216996,1.265629754750945,1.3710989009801904,1.4765680472094358,1.5820371934386812,2.1093829245849083,4.218765849169817],\"y\":[4.2042474151929587e-10,1.933639796649507e-08,6.291124990240547e-09,3.954204457740616e-09,3.2025117786438074e-11,9.523455615972891e-11,5.265860962980918e-10,8.12478485625214e-11,7.269406504544904e-11,4.3284384869854237e-10,2.4320355850233732e-08]},{\"line\":{\"color\":\"rgba(255, 255, 51, 0.25991189427312783)\",\"dash\":\"solid\",\"shape\":\"linear\",\"width\":1.3},\"mode\":\"lines\",\"name\":\"Vitamin K (phylloquinone)\",\"text\":\"\",\"type\":\"scatter\",\"x\":[0.5273457311462271,0.7910185967193406,0.9492223160632087,1.0546914622924541,1.1601606085216996,1.265629754750945,1.3710989009801904,1.4765680472094358,1.5820371934386812,2.1093829245849083,4.218765849169817],\"y\":[177.272233436095,90.00001910768067,90.00000287650018,90.00000128157262,90.00000000786328,90.00000002572709,90.000000088926,90.00000001264922,90.0000000073493,90.00000003871673,90.00000122268261]},{\"line\":{\"color\":\"rgba(128, 128, 0, 0.25991189427312783)\",\"dash\":\"solid\",\"shape\":\"linear\",\"width\":1.3},\"mode\":\"lines\",\"name\":\"Vitamins and Other Components\",\"text\":\"\",\"type\":\"scatter\",\"x\":[0.5273457311462271,0.7910185967193406,0.9492223160632087,1.0546914622924541,1.1601606085216996,1.265629754750945,1.3710989009801904,1.4765680472094358,1.5820371934386812,2.1093829245849083,4.218765849169817],\"y\":[0.0,0.0,0.0,0.0,0.0,0.0,0.0,0.0,0.0,0.0,0.0]},{\"line\":{\"color\":\"rgba(251, 128, 114, 0.25991189427312783)\",\"dash\":\"solid\",\"shape\":\"linear\",\"width\":1.3},\"mode\":\"lines\",\"name\":\"Water\",\"text\":\"\",\"type\":\"scatter\",\"x\":[0.5273457311462271,0.7910185967193406,0.9492223160632087,1.0546914622924541,1.1601606085216996,1.265629754750945,1.3710989009801904,1.4765680472094358,1.5820371934386812,2.1093829245849083,4.218765849169817],\"y\":[1185.431850942513,1196.5358541833523,1196.5358670065043,1196.5358619735541,1196.5358401608478,1196.5358398550904,1231.4866379954565,1231.4866697921393,1231.4866712590633,1271.4488275585325,1087.112191315895]},{\"line\":{\"color\":\"rgba(251, 128, 114, 0.2246696035242291)\",\"dash\":\"solid\",\"shape\":\"linear\",\"width\":1.3},\"mode\":\"lines\",\"name\":\"Zeaxanthin\",\"text\":\"\",\"type\":\"scatter\",\"x\":[0.5273457311462271,0.7910185967193406,0.9492223160632087,1.0546914622924541,1.1601606085216996,1.265629754750945,1.3710989009801904,1.4765680472094358,1.5820371934386812,2.1093829245849083,4.218765849169817],\"y\":[44.318494120432895,44.318499016378965,44.318496146224575,44.31849538842238,44.31849403040031,44.31849405781119,44.318494111913964,44.31849404216612,44.31849403617446,44.3184941150985,44.31850035190889]},{\"line\":{\"color\":\"rgba(128, 177, 211, 0.2246696035242291)\",\"dash\":\"solid\",\"shape\":\"linear\",\"width\":1.3},\"mode\":\"lines\",\"name\":\"Zinc, Zn\",\"text\":\"\",\"type\":\"scatter\",\"x\":[0.5273457311462271,0.7910185967193406,0.9492223160632087,1.0546914622924541,1.1601606085216996,1.265629754750945,1.3710989009801904,1.4765680472094358,1.5820371934386812,2.1093829245849083,4.218765849169817],\"y\":[10.901107085514818,10.967731343156006,10.967730780251415,10.967730664783442,10.967730671323327,10.967730677446049,10.762384799335504,10.762384604723604,10.762384600559528,10.589162346647912,12.790547838732156]},{\"line\":{\"color\":\"rgba(255, 153, 51, 0.2246696035242291)\",\"dash\":\"solid\",\"shape\":\"linear\",\"width\":1.3},\"mode\":\"lines\",\"name\":\"cis-Lutein/Zeaxanthin\",\"text\":\"\",\"type\":\"scatter\",\"x\":[0.5273457311462271,0.7910185967193406,0.9492223160632087,1.0546914622924541,1.1601606085216996,1.265629754750945,1.3710989009801904,1.4765680472094358,1.5820371934386812,2.1093829245849083,4.218765849169817],\"y\":[5.894683287091166,5.894683317572434,5.894683296181665,5.894683292101499,5.894683286744917,5.8946832869067265,5.894683287798783,5.894683286830802,5.894683286748191,5.894683287345764,5.894683314035545]},{\"line\":{\"color\":\"rgba(55, 128, 191, 0.2246696035242291)\",\"dash\":\"solid\",\"shape\":\"linear\",\"width\":1.3},\"mode\":\"lines\",\"name\":\"cis-Lycopene\",\"text\":\"\",\"type\":\"scatter\",\"x\":[0.5273457311462271,0.7910185967193406,0.9492223160632087,1.0546914622924541,1.1601606085216996,1.265629754750945,1.3710989009801904,1.4765680472094358,1.5820371934386812,2.1093829245849083,4.218765849169817],\"y\":[0.0,0.0,0.0,0.0,0.0,0.0,0.0,0.0,0.0,0.0,0.0]},{\"line\":{\"color\":\"rgba(50, 171, 96, 0.2246696035242291)\",\"dash\":\"solid\",\"shape\":\"linear\",\"width\":1.3},\"mode\":\"lines\",\"name\":\"cis-beta-Carotene\",\"text\":\"\",\"type\":\"scatter\",\"x\":[0.5273457311462271,0.7910185967193406,0.9492223160632087,1.0546914622924541,1.1601606085216996,1.265629754750945,1.3710989009801904,1.4765680472094358,1.5820371934386812,2.1093829245849083,4.218765849169817],\"y\":[1.4570728255591157,1.589644084273127,1.589644159428059,1.5896443175259862,1.58964494297016,1.589644941632249,0.7459709343748206,0.7459701841300096,0.7459701588879121,2.1360026279996593e-08,4.843508980057196e-08]},{\"line\":{\"color\":\"rgba(128, 0, 128, 0.2246696035242291)\",\"dash\":\"solid\",\"shape\":\"linear\",\"width\":1.3},\"mode\":\"lines\",\"name\":\"trans-Lycopene\",\"text\":\"\",\"type\":\"scatter\",\"x\":[0.5273457311462271,0.7910185967193406,0.9492223160632087,1.0546914622924541,1.1601606085216996,1.265629754750945,1.3710989009801904,1.4765680472094358,1.5820371934386812,2.1093829245849083,4.218765849169817],\"y\":[0.0,0.0,0.0,0.0,0.0,0.0,0.0,0.0,0.0,0.0,0.0]},{\"line\":{\"color\":\"rgba(219, 64, 82, 0.2246696035242291)\",\"dash\":\"solid\",\"shape\":\"linear\",\"width\":1.3},\"mode\":\"lines\",\"name\":\"trans-beta-Carotene\",\"text\":\"\",\"type\":\"scatter\",\"x\":[0.5273457311462271,0.7910185967193406,0.9492223160632087,1.0546914622924541,1.1601606085216996,1.265629754750945,1.3710989009801904,1.4765680472094358,1.5820371934386812,2.1093829245849083,4.218765849169817],\"y\":[10.199509778913809,11.127508589911889,11.127509115996414,11.127510222681904,11.12751460079112,11.127514591425742,5.221796540623744,5.221791288910067,5.221791112215384,1.4952018395997614e-07,3.390456286040037e-07]}],                        {\"legend\":{\"bgcolor\":\"#F5F6F9\",\"font\":{\"color\":\"#4D5663\"}},\"paper_bgcolor\":\"#F5F6F9\",\"plot_bgcolor\":\"#F5F6F9\",\"template\":{\"data\":{\"bar\":[{\"error_x\":{\"color\":\"#2a3f5f\"},\"error_y\":{\"color\":\"#2a3f5f\"},\"marker\":{\"line\":{\"color\":\"#E5ECF6\",\"width\":0.5},\"pattern\":{\"fillmode\":\"overlay\",\"size\":10,\"solidity\":0.2}},\"type\":\"bar\"}],\"barpolar\":[{\"marker\":{\"line\":{\"color\":\"#E5ECF6\",\"width\":0.5},\"pattern\":{\"fillmode\":\"overlay\",\"size\":10,\"solidity\":0.2}},\"type\":\"barpolar\"}],\"carpet\":[{\"aaxis\":{\"endlinecolor\":\"#2a3f5f\",\"gridcolor\":\"white\",\"linecolor\":\"white\",\"minorgridcolor\":\"white\",\"startlinecolor\":\"#2a3f5f\"},\"baxis\":{\"endlinecolor\":\"#2a3f5f\",\"gridcolor\":\"white\",\"linecolor\":\"white\",\"minorgridcolor\":\"white\",\"startlinecolor\":\"#2a3f5f\"},\"type\":\"carpet\"}],\"choropleth\":[{\"colorbar\":{\"outlinewidth\":0,\"ticks\":\"\"},\"type\":\"choropleth\"}],\"contour\":[{\"colorbar\":{\"outlinewidth\":0,\"ticks\":\"\"},\"colorscale\":[[0.0,\"#0d0887\"],[0.1111111111111111,\"#46039f\"],[0.2222222222222222,\"#7201a8\"],[0.3333333333333333,\"#9c179e\"],[0.4444444444444444,\"#bd3786\"],[0.5555555555555556,\"#d8576b\"],[0.6666666666666666,\"#ed7953\"],[0.7777777777777778,\"#fb9f3a\"],[0.8888888888888888,\"#fdca26\"],[1.0,\"#f0f921\"]],\"type\":\"contour\"}],\"contourcarpet\":[{\"colorbar\":{\"outlinewidth\":0,\"ticks\":\"\"},\"type\":\"contourcarpet\"}],\"heatmap\":[{\"colorbar\":{\"outlinewidth\":0,\"ticks\":\"\"},\"colorscale\":[[0.0,\"#0d0887\"],[0.1111111111111111,\"#46039f\"],[0.2222222222222222,\"#7201a8\"],[0.3333333333333333,\"#9c179e\"],[0.4444444444444444,\"#bd3786\"],[0.5555555555555556,\"#d8576b\"],[0.6666666666666666,\"#ed7953\"],[0.7777777777777778,\"#fb9f3a\"],[0.8888888888888888,\"#fdca26\"],[1.0,\"#f0f921\"]],\"type\":\"heatmap\"}],\"heatmapgl\":[{\"colorbar\":{\"outlinewidth\":0,\"ticks\":\"\"},\"colorscale\":[[0.0,\"#0d0887\"],[0.1111111111111111,\"#46039f\"],[0.2222222222222222,\"#7201a8\"],[0.3333333333333333,\"#9c179e\"],[0.4444444444444444,\"#bd3786\"],[0.5555555555555556,\"#d8576b\"],[0.6666666666666666,\"#ed7953\"],[0.7777777777777778,\"#fb9f3a\"],[0.8888888888888888,\"#fdca26\"],[1.0,\"#f0f921\"]],\"type\":\"heatmapgl\"}],\"histogram\":[{\"marker\":{\"pattern\":{\"fillmode\":\"overlay\",\"size\":10,\"solidity\":0.2}},\"type\":\"histogram\"}],\"histogram2d\":[{\"colorbar\":{\"outlinewidth\":0,\"ticks\":\"\"},\"colorscale\":[[0.0,\"#0d0887\"],[0.1111111111111111,\"#46039f\"],[0.2222222222222222,\"#7201a8\"],[0.3333333333333333,\"#9c179e\"],[0.4444444444444444,\"#bd3786\"],[0.5555555555555556,\"#d8576b\"],[0.6666666666666666,\"#ed7953\"],[0.7777777777777778,\"#fb9f3a\"],[0.8888888888888888,\"#fdca26\"],[1.0,\"#f0f921\"]],\"type\":\"histogram2d\"}],\"histogram2dcontour\":[{\"colorbar\":{\"outlinewidth\":0,\"ticks\":\"\"},\"colorscale\":[[0.0,\"#0d0887\"],[0.1111111111111111,\"#46039f\"],[0.2222222222222222,\"#7201a8\"],[0.3333333333333333,\"#9c179e\"],[0.4444444444444444,\"#bd3786\"],[0.5555555555555556,\"#d8576b\"],[0.6666666666666666,\"#ed7953\"],[0.7777777777777778,\"#fb9f3a\"],[0.8888888888888888,\"#fdca26\"],[1.0,\"#f0f921\"]],\"type\":\"histogram2dcontour\"}],\"mesh3d\":[{\"colorbar\":{\"outlinewidth\":0,\"ticks\":\"\"},\"type\":\"mesh3d\"}],\"parcoords\":[{\"line\":{\"colorbar\":{\"outlinewidth\":0,\"ticks\":\"\"}},\"type\":\"parcoords\"}],\"pie\":[{\"automargin\":true,\"type\":\"pie\"}],\"scatter\":[{\"marker\":{\"colorbar\":{\"outlinewidth\":0,\"ticks\":\"\"}},\"type\":\"scatter\"}],\"scatter3d\":[{\"line\":{\"colorbar\":{\"outlinewidth\":0,\"ticks\":\"\"}},\"marker\":{\"colorbar\":{\"outlinewidth\":0,\"ticks\":\"\"}},\"type\":\"scatter3d\"}],\"scattercarpet\":[{\"marker\":{\"colorbar\":{\"outlinewidth\":0,\"ticks\":\"\"}},\"type\":\"scattercarpet\"}],\"scattergeo\":[{\"marker\":{\"colorbar\":{\"outlinewidth\":0,\"ticks\":\"\"}},\"type\":\"scattergeo\"}],\"scattergl\":[{\"marker\":{\"colorbar\":{\"outlinewidth\":0,\"ticks\":\"\"}},\"type\":\"scattergl\"}],\"scattermapbox\":[{\"marker\":{\"colorbar\":{\"outlinewidth\":0,\"ticks\":\"\"}},\"type\":\"scattermapbox\"}],\"scatterpolar\":[{\"marker\":{\"colorbar\":{\"outlinewidth\":0,\"ticks\":\"\"}},\"type\":\"scatterpolar\"}],\"scatterpolargl\":[{\"marker\":{\"colorbar\":{\"outlinewidth\":0,\"ticks\":\"\"}},\"type\":\"scatterpolargl\"}],\"scatterternary\":[{\"marker\":{\"colorbar\":{\"outlinewidth\":0,\"ticks\":\"\"}},\"type\":\"scatterternary\"}],\"surface\":[{\"colorbar\":{\"outlinewidth\":0,\"ticks\":\"\"},\"colorscale\":[[0.0,\"#0d0887\"],[0.1111111111111111,\"#46039f\"],[0.2222222222222222,\"#7201a8\"],[0.3333333333333333,\"#9c179e\"],[0.4444444444444444,\"#bd3786\"],[0.5555555555555556,\"#d8576b\"],[0.6666666666666666,\"#ed7953\"],[0.7777777777777778,\"#fb9f3a\"],[0.8888888888888888,\"#fdca26\"],[1.0,\"#f0f921\"]],\"type\":\"surface\"}],\"table\":[{\"cells\":{\"fill\":{\"color\":\"#EBF0F8\"},\"line\":{\"color\":\"white\"}},\"header\":{\"fill\":{\"color\":\"#C8D4E3\"},\"line\":{\"color\":\"white\"}},\"type\":\"table\"}]},\"layout\":{\"annotationdefaults\":{\"arrowcolor\":\"#2a3f5f\",\"arrowhead\":0,\"arrowwidth\":1},\"autotypenumbers\":\"strict\",\"coloraxis\":{\"colorbar\":{\"outlinewidth\":0,\"ticks\":\"\"}},\"colorscale\":{\"diverging\":[[0,\"#8e0152\"],[0.1,\"#c51b7d\"],[0.2,\"#de77ae\"],[0.3,\"#f1b6da\"],[0.4,\"#fde0ef\"],[0.5,\"#f7f7f7\"],[0.6,\"#e6f5d0\"],[0.7,\"#b8e186\"],[0.8,\"#7fbc41\"],[0.9,\"#4d9221\"],[1,\"#276419\"]],\"sequential\":[[0.0,\"#0d0887\"],[0.1111111111111111,\"#46039f\"],[0.2222222222222222,\"#7201a8\"],[0.3333333333333333,\"#9c179e\"],[0.4444444444444444,\"#bd3786\"],[0.5555555555555556,\"#d8576b\"],[0.6666666666666666,\"#ed7953\"],[0.7777777777777778,\"#fb9f3a\"],[0.8888888888888888,\"#fdca26\"],[1.0,\"#f0f921\"]],\"sequentialminus\":[[0.0,\"#0d0887\"],[0.1111111111111111,\"#46039f\"],[0.2222222222222222,\"#7201a8\"],[0.3333333333333333,\"#9c179e\"],[0.4444444444444444,\"#bd3786\"],[0.5555555555555556,\"#d8576b\"],[0.6666666666666666,\"#ed7953\"],[0.7777777777777778,\"#fb9f3a\"],[0.8888888888888888,\"#fdca26\"],[1.0,\"#f0f921\"]]},\"colorway\":[\"#636efa\",\"#EF553B\",\"#00cc96\",\"#ab63fa\",\"#FFA15A\",\"#19d3f3\",\"#FF6692\",\"#B6E880\",\"#FF97FF\",\"#FECB52\"],\"font\":{\"color\":\"#2a3f5f\"},\"geo\":{\"bgcolor\":\"white\",\"lakecolor\":\"white\",\"landcolor\":\"#E5ECF6\",\"showlakes\":true,\"showland\":true,\"subunitcolor\":\"white\"},\"hoverlabel\":{\"align\":\"left\"},\"hovermode\":\"closest\",\"mapbox\":{\"style\":\"light\"},\"paper_bgcolor\":\"white\",\"plot_bgcolor\":\"#E5ECF6\",\"polar\":{\"angularaxis\":{\"gridcolor\":\"white\",\"linecolor\":\"white\",\"ticks\":\"\"},\"bgcolor\":\"#E5ECF6\",\"radialaxis\":{\"gridcolor\":\"white\",\"linecolor\":\"white\",\"ticks\":\"\"}},\"scene\":{\"xaxis\":{\"backgroundcolor\":\"#E5ECF6\",\"gridcolor\":\"white\",\"gridwidth\":2,\"linecolor\":\"white\",\"showbackground\":true,\"ticks\":\"\",\"zerolinecolor\":\"white\"},\"yaxis\":{\"backgroundcolor\":\"#E5ECF6\",\"gridcolor\":\"white\",\"gridwidth\":2,\"linecolor\":\"white\",\"showbackground\":true,\"ticks\":\"\",\"zerolinecolor\":\"white\"},\"zaxis\":{\"backgroundcolor\":\"#E5ECF6\",\"gridcolor\":\"white\",\"gridwidth\":2,\"linecolor\":\"white\",\"showbackground\":true,\"ticks\":\"\",\"zerolinecolor\":\"white\"}},\"shapedefaults\":{\"line\":{\"color\":\"#2a3f5f\"}},\"ternary\":{\"aaxis\":{\"gridcolor\":\"white\",\"linecolor\":\"white\",\"ticks\":\"\"},\"baxis\":{\"gridcolor\":\"white\",\"linecolor\":\"white\",\"ticks\":\"\"},\"bgcolor\":\"#E5ECF6\",\"caxis\":{\"gridcolor\":\"white\",\"linecolor\":\"white\",\"ticks\":\"\"}},\"title\":{\"x\":0.05},\"xaxis\":{\"automargin\":true,\"gridcolor\":\"white\",\"linecolor\":\"white\",\"ticks\":\"\",\"title\":{\"standoff\":15},\"zerolinecolor\":\"white\",\"zerolinewidth\":2},\"yaxis\":{\"automargin\":true,\"gridcolor\":\"white\",\"linecolor\":\"white\",\"ticks\":\"\",\"title\":{\"standoff\":15},\"zerolinecolor\":\"white\",\"zerolinewidth\":2}}},\"title\":{\"font\":{\"color\":\"#4D5663\"}},\"xaxis\":{\"gridcolor\":\"#E1E5ED\",\"showgrid\":true,\"tickfont\":{\"color\":\"#4D5663\"},\"title\":{\"font\":{\"color\":\"#4D5663\"},\"text\":\"Kale Price\"},\"zerolinecolor\":\"#E1E5ED\"},\"yaxis\":{\"gridcolor\":\"#E1E5ED\",\"showgrid\":true,\"tickfont\":{\"color\":\"#4D5663\"},\"title\":{\"font\":{\"color\":\"#4D5663\"},\"text\":\"Nutrients\"},\"zerolinecolor\":\"#E1E5ED\"}},                        {\"showLink\": true, \"linkText\": \"Export to plot.ly\", \"plotlyServerURL\": \"https://plot.ly\", \"responsive\": true}                    ).then(function(){\n",
       "                            \n",
       "var gd = document.getElementById('affbd809-c271-4999-af8f-5bed14961ae3');\n",
       "var x = new MutationObserver(function (mutations, observer) {{\n",
       "        var display = window.getComputedStyle(gd).display;\n",
       "        if (!display || display === 'none') {{\n",
       "            console.log([gd, 'removed!']);\n",
       "            Plotly.purge(gd);\n",
       "            observer.disconnect();\n",
       "        }}\n",
       "}});\n",
       "\n",
       "// Listen for the removal of the full notebook cells\n",
       "var notebookContainer = gd.closest('#notebook-container');\n",
       "if (notebookContainer) {{\n",
       "    x.observe(notebookContainer, {childList: true});\n",
       "}}\n",
       "\n",
       "// Listen for the clearing of the current output cell\n",
       "var outputEl = gd.closest('.output');\n",
       "if (outputEl) {{\n",
       "    x.observe(outputEl, {childList: true});\n",
       "}}\n",
       "\n",
       "                        })                };                });            </script>        </div>"
      ]
     },
     "metadata": {},
     "output_type": "display_data"
    }
   ],
   "source": [
    "# Matrix product maps quantities of food into quantities of nutrients\n",
    "NutrientResponse = Diet_response@FoodNutrients.T\n",
    "\n",
    "# Drop columns of missing nutrients\n",
    "NutrientResponse = NutrientResponse.loc[:,NutrientResponse.count()>0]\n",
    "NutrientResponse.iplot(xTitle='%s Price' % ReferenceGood,yTitle='Nutrients')"
   ]
  },
  {
   "cell_type": "markdown",
   "metadata": {},
   "source": [
    "## Adding Constraint on Total Weight\n",
    "\n"
   ]
  },
  {
   "cell_type": "markdown",
   "metadata": {},
   "source": [
    "At least at some prices the minimum cost subistence diet involves\n",
    "eating unreasonable amounts of food (e.g., 10 kilograms of cabbage per\n",
    "day).  We can easily add an additional constraint of the form\n",
    "$$\n",
    "     \\sum x_i \\leq \\text{max weight}\n",
    "$$\n",
    "to our linear programming problem since it&rsquo;s just another linear\n",
    "inequality, and this may give us more realistic results.\n",
    "\n"
   ]
  },
  {
   "cell_type": "markdown",
   "metadata": {},
   "source": [
    "### Price Changes and Subsistence Diet Composition with Weight Constraint\n",
    "\n"
   ]
  },
  {
   "cell_type": "markdown",
   "metadata": {},
   "source": [
    "Re-do our analysis of changing prices, but with a constraint that\n",
    "  total weight of diet must be less that 15 hectograms (1.5 kg).\n",
    "\n"
   ]
  },
  {
   "cell_type": "code",
   "execution_count": 20,
   "metadata": {},
   "outputs": [
    {
     "data": {
      "text/html": [
       "        <script type=\"text/javascript\">\n",
       "        window.PlotlyConfig = {MathJaxConfig: 'local'};\n",
       "        if (window.MathJax) {MathJax.Hub.Config({SVG: {font: \"STIX-Web\"}});}\n",
       "        if (typeof require !== 'undefined') {\n",
       "        require.undef(\"plotly\");\n",
       "        requirejs.config({\n",
       "            paths: {\n",
       "                'plotly': ['https://cdn.plot.ly/plotly-2.3.1.min']\n",
       "            }\n",
       "        });\n",
       "        require(['plotly'], function(Plotly) {\n",
       "            window._Plotly = Plotly;\n",
       "        });\n",
       "        }\n",
       "        </script>\n",
       "        "
      ]
     },
     "metadata": {},
     "output_type": "display_data"
    },
    {
     "data": {
      "application/vnd.plotly.v1+json": {
       "config": {
        "linkText": "Export to plot.ly",
        "plotlyServerURL": "https://plot.ly",
        "showLink": true
       },
       "data": [
        {
         "line": {
          "color": "rgba(255, 153, 51, 1.0)",
          "dash": "solid",
          "shape": "linear",
          "width": 1.3
         },
         "mode": "lines",
         "name": " Banana,raw",
         "text": "",
         "type": "scatter",
         "x": [
          0.5273457311462271,
          0.7910185967193406,
          0.9492223160632087,
          1.0546914622924541,
          1.1601606085216996,
          1.265629754750945,
          1.3710989009801904,
          1.4765680472094358,
          1.5820371934386812,
          2.1093829245849083,
          4.218765849169817
         ],
         "y": [
          1.8106724608264566,
          1.5897062637619928,
          1.0042137032161218,
          1.0042136449919215,
          0.23367364127135531,
          1.0567009978208803e-08,
          2.1933938211942966e-08,
          4.827084127998403e-07,
          8.407054561866274e-10,
          4.212490066016633e-09,
          2.1265851104361133e-09
         ]
        },
        {
         "line": {
          "color": "rgba(55, 128, 191, 1.0)",
          "dash": "solid",
          "shape": "linear",
          "width": 1.3
         },
         "mode": "lines",
         "name": "Oranges, Navel",
         "text": "",
         "type": "scatter",
         "x": [
          0.5273457311462271,
          0.7910185967193406,
          0.9492223160632087,
          1.0546914622924541,
          1.1601606085216996,
          1.265629754750945,
          1.3710989009801904,
          1.4765680472094358,
          1.5820371934386812,
          2.1093829245849083,
          4.218765849169817
         ],
         "y": [
          1.0603658272523208e-08,
          1.9981291337363786e-09,
          0.3236735610233908,
          0.3236736123328427,
          0.6035319625143084,
          0.638296892751795,
          0.6382968889738172,
          0.638296811447952,
          0.6382968947150484,
          0.6382968934613024,
          0.6304656126934921
         ]
        },
        {
         "line": {
          "color": "rgba(50, 171, 96, 1.0)",
          "dash": "solid",
          "shape": "linear",
          "width": 1.3
         },
         "mode": "lines",
         "name": "Lentils, red",
         "text": "",
         "type": "scatter",
         "x": [
          0.5273457311462271,
          0.7910185967193406,
          0.9492223160632087,
          1.0546914622924541,
          1.1601606085216996,
          1.265629754750945,
          1.3710989009801904,
          1.4765680472094358,
          1.5820371934386812,
          2.1093829245849083,
          4.218765849169817
         ],
         "y": [
          0.587534905973063,
          0.5909669737045181,
          0.8190828348882403,
          0.8190828097893811,
          0.8705696434620828,
          0.9179220773161693,
          0.9179220698730666,
          0.9179219709439267,
          0.9179220825556588,
          0.9179220799467728,
          0.9558639266967854
         ]
        },
        {
         "line": {
          "color": "rgba(128, 0, 128, 1.0)",
          "dash": "solid",
          "shape": "linear",
          "width": 1.3
         },
         "mode": "lines",
         "name": "Split peas, dry",
         "text": "",
         "type": "scatter",
         "x": [
          0.5273457311462271,
          0.7910185967193406,
          0.9492223160632087,
          1.0546914622924541,
          1.1601606085216996,
          1.265629754750945,
          1.3710989009801904,
          1.4765680472094358,
          1.5820371934386812,
          2.1093829245849083,
          4.218765849169817
         ],
         "y": [
          8.990150864041651e-09,
          1.0226781290427607e-09,
          1.3860366473594216e-10,
          2.64364988767605e-09,
          0.09613751404333466,
          0.07824991144860471,
          0.07824990145695407,
          0.07824992844665979,
          0.07824991646446135,
          0.07824991775151888,
          0.04702951611848941
         ]
        },
        {
         "line": {
          "color": "rgba(219, 64, 82, 1.0)",
          "dash": "solid",
          "shape": "linear",
          "width": 1.3
         },
         "mode": "lines",
         "name": "Black beans, canned",
         "text": "",
         "type": "scatter",
         "x": [
          0.5273457311462271,
          0.7910185967193406,
          0.9492223160632087,
          1.0546914622924541,
          1.1601606085216996,
          1.265629754750945,
          1.3710989009801904,
          1.4765680472094358,
          1.5820371934386812,
          2.1093829245849083,
          4.218765849169817
         ],
         "y": [
          3.4141834196325895,
          2.7400387625042435,
          1.5469078259571787,
          1.546907898146053,
          0.9893088296251059,
          0.8881061942798739,
          0.8881062436859205,
          0.8881064817321311,
          0.8881061657996107,
          0.8881061672876794,
          0.762868844279779
         ]
        },
        {
         "line": {
          "color": "rgba(0, 128, 128, 1.0)",
          "dash": "solid",
          "shape": "linear",
          "width": 1.3
         },
         "mode": "lines",
         "name": "Kale",
         "text": "",
         "type": "scatter",
         "x": [
          0.5273457311462271,
          0.7910185967193406,
          0.9492223160632087,
          1.0546914622924541,
          1.1601606085216996,
          1.265629754750945,
          1.3710989009801904,
          1.4765680472094358,
          1.5820371934386812,
          2.1093829245849083,
          4.218765849169817
         ],
         "y": [
          0.400988829255701,
          0.378484135272983,
          0.20652674783177463,
          0.20652672659144009,
          0.075954451952024,
          0.0668194251255231,
          0.06681942810350125,
          0.066819450714138,
          0.06681942353943418,
          0.06681942394701886,
          0.06146771793837544
         ]
        },
        {
         "line": {
          "color": "rgba(255, 255, 51, 1.0)",
          "dash": "solid",
          "shape": "linear",
          "width": 1.3
         },
         "mode": "lines",
         "name": "Carrot",
         "text": "",
         "type": "scatter",
         "x": [
          0.5273457311462271,
          0.7910185967193406,
          0.9492223160632087,
          1.0546914622924541,
          1.1601606085216996,
          1.265629754750945,
          1.3710989009801904,
          1.4765680472094358,
          1.5820371934386812,
          2.1093829245849083,
          4.218765849169817
         ],
         "y": [
          0.28995882270943646,
          1.0336613502406915,
          2.4317156436103162,
          2.431715525113197,
          3.4524794040308615,
          3.810643081342382,
          3.8106429928923644,
          3.810642140468224,
          3.8106431286980333,
          3.8106431069828246,
          3.8239479272570875
         ]
        },
        {
         "line": {
          "color": "rgba(128, 128, 0, 1.0)",
          "dash": "solid",
          "shape": "linear",
          "width": 1.3
         },
         "mode": "lines",
         "name": "Avocado",
         "text": "",
         "type": "scatter",
         "x": [
          0.5273457311462271,
          0.7910185967193406,
          0.9492223160632087,
          1.0546914622924541,
          1.1601606085216996,
          1.265629754750945,
          1.3710989009801904,
          1.4765680472094358,
          1.5820371934386812,
          2.1093829245849083,
          4.218765849169817
         ],
         "y": [
          0.33485093079103334,
          0.5594844054123169,
          0.43132514880301304,
          0.4313251644577738,
          0.46691341576132855,
          0.4453720895523916,
          0.4453721006062969,
          0.44537218062035716,
          0.44537208473523404,
          0.44537209070233924,
          0.5667736697458499
         ]
        },
        {
         "line": {
          "color": "rgba(251, 128, 114, 1.0)",
          "dash": "solid",
          "shape": "linear",
          "width": 1.3
         },
         "mode": "lines",
         "name": "Tortillas, corn",
         "text": "",
         "type": "scatter",
         "x": [
          0.5273457311462271,
          0.7910185967193406,
          0.9492223160632087,
          1.0546914622924541,
          1.1601606085216996,
          1.265629754750945,
          1.3710989009801904,
          1.4765680472094358,
          1.5820371934386812,
          2.1093829245849083,
          4.218765849169817
         ],
         "y": [
          0.07651191114916861,
          0.12700294665615627,
          0.23724006198929484,
          0.23724007818213103,
          0.2791898385563435,
          0.2381675939428528,
          0.23816759216248948,
          0.23816767210226514,
          0.23816759431211298,
          0.23816759532680795,
          0.2730625333150642
         ]
        },
        {
         "line": {
          "color": "rgba(128, 177, 211, 1.0)",
          "dash": "solid",
          "shape": "linear",
          "width": 1.3
         },
         "mode": "lines",
         "name": "Soy milk, unsweetened",
         "text": "",
         "type": "scatter",
         "x": [
          0.5273457311462271,
          0.7910185967193406,
          0.9492223160632087,
          1.0546914622924541,
          1.1601606085216996,
          1.265629754750945,
          1.3710989009801904,
          1.4765680472094358,
          1.5820371934386812,
          2.1093829245849083,
          4.218765849169817
         ],
         "y": [
          6.1053167279426175,
          6.105316714609829,
          6.105316713478235,
          6.10531671482001,
          6.105317087341485,
          6.105316713784549,
          6.105316715399609,
          6.105316722929117,
          6.105316713398817,
          6.105316714628201,
          6.105316717378104
         ]
        },
        {
         "line": {
          "color": "rgba(128, 177, 211, 0.8999999999999999)",
          "dash": "solid",
          "shape": "linear",
          "width": 1.3
         },
         "mode": "lines",
         "name": "Peanut butter, creamy",
         "text": "",
         "type": "scatter",
         "x": [
          0.5273457311462271,
          0.7910185967193406,
          0.9492223160632087,
          1.0546914622924541,
          1.1601606085216996,
          1.265629754750945,
          1.3710989009801904,
          1.4765680472094358,
          1.5820371934386812,
          2.1093829245849083,
          4.218765849169817
         ],
         "y": [
          1.9799817968494866,
          1.87533842864108,
          1.893997757380363,
          1.8939978120481444,
          1.826921391086972,
          1.8111060057484478,
          1.8111060261746044,
          1.811106071479433,
          1.8111059941022434,
          1.8111059948651091,
          1.77320350752899
         ]
        }
       ],
       "layout": {
        "autosize": true,
        "legend": {
         "bgcolor": "#F5F6F9",
         "font": {
          "color": "#4D5663"
         }
        },
        "paper_bgcolor": "#F5F6F9",
        "plot_bgcolor": "#F5F6F9",
        "template": {
         "data": {
          "bar": [
           {
            "error_x": {
             "color": "#2a3f5f"
            },
            "error_y": {
             "color": "#2a3f5f"
            },
            "marker": {
             "line": {
              "color": "#E5ECF6",
              "width": 0.5
             },
             "pattern": {
              "fillmode": "overlay",
              "size": 10,
              "solidity": 0.2
             }
            },
            "type": "bar"
           }
          ],
          "barpolar": [
           {
            "marker": {
             "line": {
              "color": "#E5ECF6",
              "width": 0.5
             },
             "pattern": {
              "fillmode": "overlay",
              "size": 10,
              "solidity": 0.2
             }
            },
            "type": "barpolar"
           }
          ],
          "carpet": [
           {
            "aaxis": {
             "endlinecolor": "#2a3f5f",
             "gridcolor": "white",
             "linecolor": "white",
             "minorgridcolor": "white",
             "startlinecolor": "#2a3f5f"
            },
            "baxis": {
             "endlinecolor": "#2a3f5f",
             "gridcolor": "white",
             "linecolor": "white",
             "minorgridcolor": "white",
             "startlinecolor": "#2a3f5f"
            },
            "type": "carpet"
           }
          ],
          "choropleth": [
           {
            "colorbar": {
             "outlinewidth": 0,
             "ticks": ""
            },
            "type": "choropleth"
           }
          ],
          "contour": [
           {
            "colorbar": {
             "outlinewidth": 0,
             "ticks": ""
            },
            "colorscale": [
             [
              0,
              "#0d0887"
             ],
             [
              0.1111111111111111,
              "#46039f"
             ],
             [
              0.2222222222222222,
              "#7201a8"
             ],
             [
              0.3333333333333333,
              "#9c179e"
             ],
             [
              0.4444444444444444,
              "#bd3786"
             ],
             [
              0.5555555555555556,
              "#d8576b"
             ],
             [
              0.6666666666666666,
              "#ed7953"
             ],
             [
              0.7777777777777778,
              "#fb9f3a"
             ],
             [
              0.8888888888888888,
              "#fdca26"
             ],
             [
              1,
              "#f0f921"
             ]
            ],
            "type": "contour"
           }
          ],
          "contourcarpet": [
           {
            "colorbar": {
             "outlinewidth": 0,
             "ticks": ""
            },
            "type": "contourcarpet"
           }
          ],
          "heatmap": [
           {
            "colorbar": {
             "outlinewidth": 0,
             "ticks": ""
            },
            "colorscale": [
             [
              0,
              "#0d0887"
             ],
             [
              0.1111111111111111,
              "#46039f"
             ],
             [
              0.2222222222222222,
              "#7201a8"
             ],
             [
              0.3333333333333333,
              "#9c179e"
             ],
             [
              0.4444444444444444,
              "#bd3786"
             ],
             [
              0.5555555555555556,
              "#d8576b"
             ],
             [
              0.6666666666666666,
              "#ed7953"
             ],
             [
              0.7777777777777778,
              "#fb9f3a"
             ],
             [
              0.8888888888888888,
              "#fdca26"
             ],
             [
              1,
              "#f0f921"
             ]
            ],
            "type": "heatmap"
           }
          ],
          "heatmapgl": [
           {
            "colorbar": {
             "outlinewidth": 0,
             "ticks": ""
            },
            "colorscale": [
             [
              0,
              "#0d0887"
             ],
             [
              0.1111111111111111,
              "#46039f"
             ],
             [
              0.2222222222222222,
              "#7201a8"
             ],
             [
              0.3333333333333333,
              "#9c179e"
             ],
             [
              0.4444444444444444,
              "#bd3786"
             ],
             [
              0.5555555555555556,
              "#d8576b"
             ],
             [
              0.6666666666666666,
              "#ed7953"
             ],
             [
              0.7777777777777778,
              "#fb9f3a"
             ],
             [
              0.8888888888888888,
              "#fdca26"
             ],
             [
              1,
              "#f0f921"
             ]
            ],
            "type": "heatmapgl"
           }
          ],
          "histogram": [
           {
            "marker": {
             "pattern": {
              "fillmode": "overlay",
              "size": 10,
              "solidity": 0.2
             }
            },
            "type": "histogram"
           }
          ],
          "histogram2d": [
           {
            "colorbar": {
             "outlinewidth": 0,
             "ticks": ""
            },
            "colorscale": [
             [
              0,
              "#0d0887"
             ],
             [
              0.1111111111111111,
              "#46039f"
             ],
             [
              0.2222222222222222,
              "#7201a8"
             ],
             [
              0.3333333333333333,
              "#9c179e"
             ],
             [
              0.4444444444444444,
              "#bd3786"
             ],
             [
              0.5555555555555556,
              "#d8576b"
             ],
             [
              0.6666666666666666,
              "#ed7953"
             ],
             [
              0.7777777777777778,
              "#fb9f3a"
             ],
             [
              0.8888888888888888,
              "#fdca26"
             ],
             [
              1,
              "#f0f921"
             ]
            ],
            "type": "histogram2d"
           }
          ],
          "histogram2dcontour": [
           {
            "colorbar": {
             "outlinewidth": 0,
             "ticks": ""
            },
            "colorscale": [
             [
              0,
              "#0d0887"
             ],
             [
              0.1111111111111111,
              "#46039f"
             ],
             [
              0.2222222222222222,
              "#7201a8"
             ],
             [
              0.3333333333333333,
              "#9c179e"
             ],
             [
              0.4444444444444444,
              "#bd3786"
             ],
             [
              0.5555555555555556,
              "#d8576b"
             ],
             [
              0.6666666666666666,
              "#ed7953"
             ],
             [
              0.7777777777777778,
              "#fb9f3a"
             ],
             [
              0.8888888888888888,
              "#fdca26"
             ],
             [
              1,
              "#f0f921"
             ]
            ],
            "type": "histogram2dcontour"
           }
          ],
          "mesh3d": [
           {
            "colorbar": {
             "outlinewidth": 0,
             "ticks": ""
            },
            "type": "mesh3d"
           }
          ],
          "parcoords": [
           {
            "line": {
             "colorbar": {
              "outlinewidth": 0,
              "ticks": ""
             }
            },
            "type": "parcoords"
           }
          ],
          "pie": [
           {
            "automargin": true,
            "type": "pie"
           }
          ],
          "scatter": [
           {
            "marker": {
             "colorbar": {
              "outlinewidth": 0,
              "ticks": ""
             }
            },
            "type": "scatter"
           }
          ],
          "scatter3d": [
           {
            "line": {
             "colorbar": {
              "outlinewidth": 0,
              "ticks": ""
             }
            },
            "marker": {
             "colorbar": {
              "outlinewidth": 0,
              "ticks": ""
             }
            },
            "type": "scatter3d"
           }
          ],
          "scattercarpet": [
           {
            "marker": {
             "colorbar": {
              "outlinewidth": 0,
              "ticks": ""
             }
            },
            "type": "scattercarpet"
           }
          ],
          "scattergeo": [
           {
            "marker": {
             "colorbar": {
              "outlinewidth": 0,
              "ticks": ""
             }
            },
            "type": "scattergeo"
           }
          ],
          "scattergl": [
           {
            "marker": {
             "colorbar": {
              "outlinewidth": 0,
              "ticks": ""
             }
            },
            "type": "scattergl"
           }
          ],
          "scattermapbox": [
           {
            "marker": {
             "colorbar": {
              "outlinewidth": 0,
              "ticks": ""
             }
            },
            "type": "scattermapbox"
           }
          ],
          "scatterpolar": [
           {
            "marker": {
             "colorbar": {
              "outlinewidth": 0,
              "ticks": ""
             }
            },
            "type": "scatterpolar"
           }
          ],
          "scatterpolargl": [
           {
            "marker": {
             "colorbar": {
              "outlinewidth": 0,
              "ticks": ""
             }
            },
            "type": "scatterpolargl"
           }
          ],
          "scatterternary": [
           {
            "marker": {
             "colorbar": {
              "outlinewidth": 0,
              "ticks": ""
             }
            },
            "type": "scatterternary"
           }
          ],
          "surface": [
           {
            "colorbar": {
             "outlinewidth": 0,
             "ticks": ""
            },
            "colorscale": [
             [
              0,
              "#0d0887"
             ],
             [
              0.1111111111111111,
              "#46039f"
             ],
             [
              0.2222222222222222,
              "#7201a8"
             ],
             [
              0.3333333333333333,
              "#9c179e"
             ],
             [
              0.4444444444444444,
              "#bd3786"
             ],
             [
              0.5555555555555556,
              "#d8576b"
             ],
             [
              0.6666666666666666,
              "#ed7953"
             ],
             [
              0.7777777777777778,
              "#fb9f3a"
             ],
             [
              0.8888888888888888,
              "#fdca26"
             ],
             [
              1,
              "#f0f921"
             ]
            ],
            "type": "surface"
           }
          ],
          "table": [
           {
            "cells": {
             "fill": {
              "color": "#EBF0F8"
             },
             "line": {
              "color": "white"
             }
            },
            "header": {
             "fill": {
              "color": "#C8D4E3"
             },
             "line": {
              "color": "white"
             }
            },
            "type": "table"
           }
          ]
         },
         "layout": {
          "annotationdefaults": {
           "arrowcolor": "#2a3f5f",
           "arrowhead": 0,
           "arrowwidth": 1
          },
          "autotypenumbers": "strict",
          "coloraxis": {
           "colorbar": {
            "outlinewidth": 0,
            "ticks": ""
           }
          },
          "colorscale": {
           "diverging": [
            [
             0,
             "#8e0152"
            ],
            [
             0.1,
             "#c51b7d"
            ],
            [
             0.2,
             "#de77ae"
            ],
            [
             0.3,
             "#f1b6da"
            ],
            [
             0.4,
             "#fde0ef"
            ],
            [
             0.5,
             "#f7f7f7"
            ],
            [
             0.6,
             "#e6f5d0"
            ],
            [
             0.7,
             "#b8e186"
            ],
            [
             0.8,
             "#7fbc41"
            ],
            [
             0.9,
             "#4d9221"
            ],
            [
             1,
             "#276419"
            ]
           ],
           "sequential": [
            [
             0,
             "#0d0887"
            ],
            [
             0.1111111111111111,
             "#46039f"
            ],
            [
             0.2222222222222222,
             "#7201a8"
            ],
            [
             0.3333333333333333,
             "#9c179e"
            ],
            [
             0.4444444444444444,
             "#bd3786"
            ],
            [
             0.5555555555555556,
             "#d8576b"
            ],
            [
             0.6666666666666666,
             "#ed7953"
            ],
            [
             0.7777777777777778,
             "#fb9f3a"
            ],
            [
             0.8888888888888888,
             "#fdca26"
            ],
            [
             1,
             "#f0f921"
            ]
           ],
           "sequentialminus": [
            [
             0,
             "#0d0887"
            ],
            [
             0.1111111111111111,
             "#46039f"
            ],
            [
             0.2222222222222222,
             "#7201a8"
            ],
            [
             0.3333333333333333,
             "#9c179e"
            ],
            [
             0.4444444444444444,
             "#bd3786"
            ],
            [
             0.5555555555555556,
             "#d8576b"
            ],
            [
             0.6666666666666666,
             "#ed7953"
            ],
            [
             0.7777777777777778,
             "#fb9f3a"
            ],
            [
             0.8888888888888888,
             "#fdca26"
            ],
            [
             1,
             "#f0f921"
            ]
           ]
          },
          "colorway": [
           "#636efa",
           "#EF553B",
           "#00cc96",
           "#ab63fa",
           "#FFA15A",
           "#19d3f3",
           "#FF6692",
           "#B6E880",
           "#FF97FF",
           "#FECB52"
          ],
          "font": {
           "color": "#2a3f5f"
          },
          "geo": {
           "bgcolor": "white",
           "lakecolor": "white",
           "landcolor": "#E5ECF6",
           "showlakes": true,
           "showland": true,
           "subunitcolor": "white"
          },
          "hoverlabel": {
           "align": "left"
          },
          "hovermode": "closest",
          "mapbox": {
           "style": "light"
          },
          "paper_bgcolor": "white",
          "plot_bgcolor": "#E5ECF6",
          "polar": {
           "angularaxis": {
            "gridcolor": "white",
            "linecolor": "white",
            "ticks": ""
           },
           "bgcolor": "#E5ECF6",
           "radialaxis": {
            "gridcolor": "white",
            "linecolor": "white",
            "ticks": ""
           }
          },
          "scene": {
           "xaxis": {
            "backgroundcolor": "#E5ECF6",
            "gridcolor": "white",
            "gridwidth": 2,
            "linecolor": "white",
            "showbackground": true,
            "ticks": "",
            "zerolinecolor": "white"
           },
           "yaxis": {
            "backgroundcolor": "#E5ECF6",
            "gridcolor": "white",
            "gridwidth": 2,
            "linecolor": "white",
            "showbackground": true,
            "ticks": "",
            "zerolinecolor": "white"
           },
           "zaxis": {
            "backgroundcolor": "#E5ECF6",
            "gridcolor": "white",
            "gridwidth": 2,
            "linecolor": "white",
            "showbackground": true,
            "ticks": "",
            "zerolinecolor": "white"
           }
          },
          "shapedefaults": {
           "line": {
            "color": "#2a3f5f"
           }
          },
          "ternary": {
           "aaxis": {
            "gridcolor": "white",
            "linecolor": "white",
            "ticks": ""
           },
           "baxis": {
            "gridcolor": "white",
            "linecolor": "white",
            "ticks": ""
           },
           "bgcolor": "#E5ECF6",
           "caxis": {
            "gridcolor": "white",
            "linecolor": "white",
            "ticks": ""
           }
          },
          "title": {
           "x": 0.05
          },
          "xaxis": {
           "automargin": true,
           "gridcolor": "white",
           "linecolor": "white",
           "ticks": "",
           "title": {
            "standoff": 15
           },
           "zerolinecolor": "white",
           "zerolinewidth": 2
          },
          "yaxis": {
           "automargin": true,
           "gridcolor": "white",
           "linecolor": "white",
           "ticks": "",
           "title": {
            "standoff": 15
           },
           "zerolinecolor": "white",
           "zerolinewidth": 2
          }
         }
        },
        "title": {
         "font": {
          "color": "#4D5663"
         }
        },
        "xaxis": {
         "autorange": true,
         "gridcolor": "#E1E5ED",
         "range": [
          0.5273457311462271,
          4.218765849169817
         ],
         "showgrid": true,
         "tickfont": {
          "color": "#4D5663"
         },
         "title": {
          "font": {
           "color": "#4D5663"
          },
          "text": "Kale Price"
         },
         "type": "linear",
         "zerolinecolor": "#E1E5ED"
        },
        "yaxis": {
         "autorange": true,
         "gridcolor": "#E1E5ED",
         "range": [
          -0.33918428248377863,
          6.4445013699638665
         ],
         "showgrid": true,
         "tickfont": {
          "color": "#4D5663"
         },
         "title": {
          "font": {
           "color": "#4D5663"
          },
          "text": "Hectograms"
         },
         "type": "linear",
         "zerolinecolor": "#E1E5ED"
        }
       }
      },
      "image/png": "[encoded data removed]",
      "text/html": [
       "<div>                            <div id=\"18586139-ffd7-4122-8d93-0c5d0c9ea499\" class=\"plotly-graph-div\" style=\"height:525px; width:100%;\"></div>            <script type=\"text/javascript\">                require([\"plotly\"], function(Plotly) {                    window.PLOTLYENV=window.PLOTLYENV || {};\n",
       "                    window.PLOTLYENV.BASE_URL='https://plot.ly';                                    if (document.getElementById(\"18586139-ffd7-4122-8d93-0c5d0c9ea499\")) {                    Plotly.newPlot(                        \"18586139-ffd7-4122-8d93-0c5d0c9ea499\",                        [{\"line\":{\"color\":\"rgba(255, 153, 51, 1.0)\",\"dash\":\"solid\",\"shape\":\"linear\",\"width\":1.3},\"mode\":\"lines\",\"name\":\" Banana,raw\",\"text\":\"\",\"type\":\"scatter\",\"x\":[0.5273457311462271,0.7910185967193406,0.9492223160632087,1.0546914622924541,1.1601606085216996,1.265629754750945,1.3710989009801904,1.4765680472094358,1.5820371934386812,2.1093829245849083,4.218765849169817],\"y\":[1.8106724608264566,1.5897062637619928,1.0042137032161218,1.0042136449919215,0.23367364127135531,1.0567009978208803e-08,2.1933938211942966e-08,4.827084127998403e-07,8.407054561866274e-10,4.212490066016633e-09,2.1265851104361133e-09]},{\"line\":{\"color\":\"rgba(55, 128, 191, 1.0)\",\"dash\":\"solid\",\"shape\":\"linear\",\"width\":1.3},\"mode\":\"lines\",\"name\":\"Oranges, Navel\",\"text\":\"\",\"type\":\"scatter\",\"x\":[0.5273457311462271,0.7910185967193406,0.9492223160632087,1.0546914622924541,1.1601606085216996,1.265629754750945,1.3710989009801904,1.4765680472094358,1.5820371934386812,2.1093829245849083,4.218765849169817],\"y\":[1.0603658272523208e-08,1.9981291337363786e-09,0.3236735610233908,0.3236736123328427,0.6035319625143084,0.638296892751795,0.6382968889738172,0.638296811447952,0.6382968947150484,0.6382968934613024,0.6304656126934921]},{\"line\":{\"color\":\"rgba(50, 171, 96, 1.0)\",\"dash\":\"solid\",\"shape\":\"linear\",\"width\":1.3},\"mode\":\"lines\",\"name\":\"Lentils, red\",\"text\":\"\",\"type\":\"scatter\",\"x\":[0.5273457311462271,0.7910185967193406,0.9492223160632087,1.0546914622924541,1.1601606085216996,1.265629754750945,1.3710989009801904,1.4765680472094358,1.5820371934386812,2.1093829245849083,4.218765849169817],\"y\":[0.587534905973063,0.5909669737045181,0.8190828348882403,0.8190828097893811,0.8705696434620828,0.9179220773161693,0.9179220698730666,0.9179219709439267,0.9179220825556588,0.9179220799467728,0.9558639266967854]},{\"line\":{\"color\":\"rgba(128, 0, 128, 1.0)\",\"dash\":\"solid\",\"shape\":\"linear\",\"width\":1.3},\"mode\":\"lines\",\"name\":\"Split peas, dry\",\"text\":\"\",\"type\":\"scatter\",\"x\":[0.5273457311462271,0.7910185967193406,0.9492223160632087,1.0546914622924541,1.1601606085216996,1.265629754750945,1.3710989009801904,1.4765680472094358,1.5820371934386812,2.1093829245849083,4.218765849169817],\"y\":[8.990150864041651e-09,1.0226781290427607e-09,1.3860366473594216e-10,2.64364988767605e-09,0.09613751404333466,0.07824991144860471,0.07824990145695407,0.07824992844665979,0.07824991646446135,0.07824991775151888,0.04702951611848941]},{\"line\":{\"color\":\"rgba(219, 64, 82, 1.0)\",\"dash\":\"solid\",\"shape\":\"linear\",\"width\":1.3},\"mode\":\"lines\",\"name\":\"Black beans, canned\",\"text\":\"\",\"type\":\"scatter\",\"x\":[0.5273457311462271,0.7910185967193406,0.9492223160632087,1.0546914622924541,1.1601606085216996,1.265629754750945,1.3710989009801904,1.4765680472094358,1.5820371934386812,2.1093829245849083,4.218765849169817],\"y\":[3.4141834196325895,2.7400387625042435,1.5469078259571787,1.546907898146053,0.9893088296251059,0.8881061942798739,0.8881062436859205,0.8881064817321311,0.8881061657996107,0.8881061672876794,0.762868844279779]},{\"line\":{\"color\":\"rgba(0, 128, 128, 1.0)\",\"dash\":\"solid\",\"shape\":\"linear\",\"width\":1.3},\"mode\":\"lines\",\"name\":\"Kale\",\"text\":\"\",\"type\":\"scatter\",\"x\":[0.5273457311462271,0.7910185967193406,0.9492223160632087,1.0546914622924541,1.1601606085216996,1.265629754750945,1.3710989009801904,1.4765680472094358,1.5820371934386812,2.1093829245849083,4.218765849169817],\"y\":[0.400988829255701,0.378484135272983,0.20652674783177463,0.20652672659144009,0.075954451952024,0.0668194251255231,0.06681942810350125,0.066819450714138,0.06681942353943418,0.06681942394701886,0.06146771793837544]},{\"line\":{\"color\":\"rgba(255, 255, 51, 1.0)\",\"dash\":\"solid\",\"shape\":\"linear\",\"width\":1.3},\"mode\":\"lines\",\"name\":\"Carrot\",\"text\":\"\",\"type\":\"scatter\",\"x\":[0.5273457311462271,0.7910185967193406,0.9492223160632087,1.0546914622924541,1.1601606085216996,1.265629754750945,1.3710989009801904,1.4765680472094358,1.5820371934386812,2.1093829245849083,4.218765849169817],\"y\":[0.28995882270943646,1.0336613502406915,2.4317156436103162,2.431715525113197,3.4524794040308615,3.810643081342382,3.8106429928923644,3.810642140468224,3.8106431286980333,3.8106431069828246,3.8239479272570875]},{\"line\":{\"color\":\"rgba(128, 128, 0, 1.0)\",\"dash\":\"solid\",\"shape\":\"linear\",\"width\":1.3},\"mode\":\"lines\",\"name\":\"Avocado\",\"text\":\"\",\"type\":\"scatter\",\"x\":[0.5273457311462271,0.7910185967193406,0.9492223160632087,1.0546914622924541,1.1601606085216996,1.265629754750945,1.3710989009801904,1.4765680472094358,1.5820371934386812,2.1093829245849083,4.218765849169817],\"y\":[0.33485093079103334,0.5594844054123169,0.43132514880301304,0.4313251644577738,0.46691341576132855,0.4453720895523916,0.4453721006062969,0.44537218062035716,0.44537208473523404,0.44537209070233924,0.5667736697458499]},{\"line\":{\"color\":\"rgba(251, 128, 114, 1.0)\",\"dash\":\"solid\",\"shape\":\"linear\",\"width\":1.3},\"mode\":\"lines\",\"name\":\"Tortillas, corn\",\"text\":\"\",\"type\":\"scatter\",\"x\":[0.5273457311462271,0.7910185967193406,0.9492223160632087,1.0546914622924541,1.1601606085216996,1.265629754750945,1.3710989009801904,1.4765680472094358,1.5820371934386812,2.1093829245849083,4.218765849169817],\"y\":[0.07651191114916861,0.12700294665615627,0.23724006198929484,0.23724007818213103,0.2791898385563435,0.2381675939428528,0.23816759216248948,0.23816767210226514,0.23816759431211298,0.23816759532680795,0.2730625333150642]},{\"line\":{\"color\":\"rgba(128, 177, 211, 1.0)\",\"dash\":\"solid\",\"shape\":\"linear\",\"width\":1.3},\"mode\":\"lines\",\"name\":\"Soy milk, unsweetened\",\"text\":\"\",\"type\":\"scatter\",\"x\":[0.5273457311462271,0.7910185967193406,0.9492223160632087,1.0546914622924541,1.1601606085216996,1.265629754750945,1.3710989009801904,1.4765680472094358,1.5820371934386812,2.1093829245849083,4.218765849169817],\"y\":[6.1053167279426175,6.105316714609829,6.105316713478235,6.10531671482001,6.105317087341485,6.105316713784549,6.105316715399609,6.105316722929117,6.105316713398817,6.105316714628201,6.105316717378104]},{\"line\":{\"color\":\"rgba(128, 177, 211, 0.8999999999999999)\",\"dash\":\"solid\",\"shape\":\"linear\",\"width\":1.3},\"mode\":\"lines\",\"name\":\"Peanut butter, creamy\",\"text\":\"\",\"type\":\"scatter\",\"x\":[0.5273457311462271,0.7910185967193406,0.9492223160632087,1.0546914622924541,1.1601606085216996,1.265629754750945,1.3710989009801904,1.4765680472094358,1.5820371934386812,2.1093829245849083,4.218765849169817],\"y\":[1.9799817968494866,1.87533842864108,1.893997757380363,1.8939978120481444,1.826921391086972,1.8111060057484478,1.8111060261746044,1.811106071479433,1.8111059941022434,1.8111059948651091,1.77320350752899]}],                        {\"legend\":{\"bgcolor\":\"#F5F6F9\",\"font\":{\"color\":\"#4D5663\"}},\"paper_bgcolor\":\"#F5F6F9\",\"plot_bgcolor\":\"#F5F6F9\",\"template\":{\"data\":{\"bar\":[{\"error_x\":{\"color\":\"#2a3f5f\"},\"error_y\":{\"color\":\"#2a3f5f\"},\"marker\":{\"line\":{\"color\":\"#E5ECF6\",\"width\":0.5},\"pattern\":{\"fillmode\":\"overlay\",\"size\":10,\"solidity\":0.2}},\"type\":\"bar\"}],\"barpolar\":[{\"marker\":{\"line\":{\"color\":\"#E5ECF6\",\"width\":0.5},\"pattern\":{\"fillmode\":\"overlay\",\"size\":10,\"solidity\":0.2}},\"type\":\"barpolar\"}],\"carpet\":[{\"aaxis\":{\"endlinecolor\":\"#2a3f5f\",\"gridcolor\":\"white\",\"linecolor\":\"white\",\"minorgridcolor\":\"white\",\"startlinecolor\":\"#2a3f5f\"},\"baxis\":{\"endlinecolor\":\"#2a3f5f\",\"gridcolor\":\"white\",\"linecolor\":\"white\",\"minorgridcolor\":\"white\",\"startlinecolor\":\"#2a3f5f\"},\"type\":\"carpet\"}],\"choropleth\":[{\"colorbar\":{\"outlinewidth\":0,\"ticks\":\"\"},\"type\":\"choropleth\"}],\"contour\":[{\"colorbar\":{\"outlinewidth\":0,\"ticks\":\"\"},\"colorscale\":[[0.0,\"#0d0887\"],[0.1111111111111111,\"#46039f\"],[0.2222222222222222,\"#7201a8\"],[0.3333333333333333,\"#9c179e\"],[0.4444444444444444,\"#bd3786\"],[0.5555555555555556,\"#d8576b\"],[0.6666666666666666,\"#ed7953\"],[0.7777777777777778,\"#fb9f3a\"],[0.8888888888888888,\"#fdca26\"],[1.0,\"#f0f921\"]],\"type\":\"contour\"}],\"contourcarpet\":[{\"colorbar\":{\"outlinewidth\":0,\"ticks\":\"\"},\"type\":\"contourcarpet\"}],\"heatmap\":[{\"colorbar\":{\"outlinewidth\":0,\"ticks\":\"\"},\"colorscale\":[[0.0,\"#0d0887\"],[0.1111111111111111,\"#46039f\"],[0.2222222222222222,\"#7201a8\"],[0.3333333333333333,\"#9c179e\"],[0.4444444444444444,\"#bd3786\"],[0.5555555555555556,\"#d8576b\"],[0.6666666666666666,\"#ed7953\"],[0.7777777777777778,\"#fb9f3a\"],[0.8888888888888888,\"#fdca26\"],[1.0,\"#f0f921\"]],\"type\":\"heatmap\"}],\"heatmapgl\":[{\"colorbar\":{\"outlinewidth\":0,\"ticks\":\"\"},\"colorscale\":[[0.0,\"#0d0887\"],[0.1111111111111111,\"#46039f\"],[0.2222222222222222,\"#7201a8\"],[0.3333333333333333,\"#9c179e\"],[0.4444444444444444,\"#bd3786\"],[0.5555555555555556,\"#d8576b\"],[0.6666666666666666,\"#ed7953\"],[0.7777777777777778,\"#fb9f3a\"],[0.8888888888888888,\"#fdca26\"],[1.0,\"#f0f921\"]],\"type\":\"heatmapgl\"}],\"histogram\":[{\"marker\":{\"pattern\":{\"fillmode\":\"overlay\",\"size\":10,\"solidity\":0.2}},\"type\":\"histogram\"}],\"histogram2d\":[{\"colorbar\":{\"outlinewidth\":0,\"ticks\":\"\"},\"colorscale\":[[0.0,\"#0d0887\"],[0.1111111111111111,\"#46039f\"],[0.2222222222222222,\"#7201a8\"],[0.3333333333333333,\"#9c179e\"],[0.4444444444444444,\"#bd3786\"],[0.5555555555555556,\"#d8576b\"],[0.6666666666666666,\"#ed7953\"],[0.7777777777777778,\"#fb9f3a\"],[0.8888888888888888,\"#fdca26\"],[1.0,\"#f0f921\"]],\"type\":\"histogram2d\"}],\"histogram2dcontour\":[{\"colorbar\":{\"outlinewidth\":0,\"ticks\":\"\"},\"colorscale\":[[0.0,\"#0d0887\"],[0.1111111111111111,\"#46039f\"],[0.2222222222222222,\"#7201a8\"],[0.3333333333333333,\"#9c179e\"],[0.4444444444444444,\"#bd3786\"],[0.5555555555555556,\"#d8576b\"],[0.6666666666666666,\"#ed7953\"],[0.7777777777777778,\"#fb9f3a\"],[0.8888888888888888,\"#fdca26\"],[1.0,\"#f0f921\"]],\"type\":\"histogram2dcontour\"}],\"mesh3d\":[{\"colorbar\":{\"outlinewidth\":0,\"ticks\":\"\"},\"type\":\"mesh3d\"}],\"parcoords\":[{\"line\":{\"colorbar\":{\"outlinewidth\":0,\"ticks\":\"\"}},\"type\":\"parcoords\"}],\"pie\":[{\"automargin\":true,\"type\":\"pie\"}],\"scatter\":[{\"marker\":{\"colorbar\":{\"outlinewidth\":0,\"ticks\":\"\"}},\"type\":\"scatter\"}],\"scatter3d\":[{\"line\":{\"colorbar\":{\"outlinewidth\":0,\"ticks\":\"\"}},\"marker\":{\"colorbar\":{\"outlinewidth\":0,\"ticks\":\"\"}},\"type\":\"scatter3d\"}],\"scattercarpet\":[{\"marker\":{\"colorbar\":{\"outlinewidth\":0,\"ticks\":\"\"}},\"type\":\"scattercarpet\"}],\"scattergeo\":[{\"marker\":{\"colorbar\":{\"outlinewidth\":0,\"ticks\":\"\"}},\"type\":\"scattergeo\"}],\"scattergl\":[{\"marker\":{\"colorbar\":{\"outlinewidth\":0,\"ticks\":\"\"}},\"type\":\"scattergl\"}],\"scattermapbox\":[{\"marker\":{\"colorbar\":{\"outlinewidth\":0,\"ticks\":\"\"}},\"type\":\"scattermapbox\"}],\"scatterpolar\":[{\"marker\":{\"colorbar\":{\"outlinewidth\":0,\"ticks\":\"\"}},\"type\":\"scatterpolar\"}],\"scatterpolargl\":[{\"marker\":{\"colorbar\":{\"outlinewidth\":0,\"ticks\":\"\"}},\"type\":\"scatterpolargl\"}],\"scatterternary\":[{\"marker\":{\"colorbar\":{\"outlinewidth\":0,\"ticks\":\"\"}},\"type\":\"scatterternary\"}],\"surface\":[{\"colorbar\":{\"outlinewidth\":0,\"ticks\":\"\"},\"colorscale\":[[0.0,\"#0d0887\"],[0.1111111111111111,\"#46039f\"],[0.2222222222222222,\"#7201a8\"],[0.3333333333333333,\"#9c179e\"],[0.4444444444444444,\"#bd3786\"],[0.5555555555555556,\"#d8576b\"],[0.6666666666666666,\"#ed7953\"],[0.7777777777777778,\"#fb9f3a\"],[0.8888888888888888,\"#fdca26\"],[1.0,\"#f0f921\"]],\"type\":\"surface\"}],\"table\":[{\"cells\":{\"fill\":{\"color\":\"#EBF0F8\"},\"line\":{\"color\":\"white\"}},\"header\":{\"fill\":{\"color\":\"#C8D4E3\"},\"line\":{\"color\":\"white\"}},\"type\":\"table\"}]},\"layout\":{\"annotationdefaults\":{\"arrowcolor\":\"#2a3f5f\",\"arrowhead\":0,\"arrowwidth\":1},\"autotypenumbers\":\"strict\",\"coloraxis\":{\"colorbar\":{\"outlinewidth\":0,\"ticks\":\"\"}},\"colorscale\":{\"diverging\":[[0,\"#8e0152\"],[0.1,\"#c51b7d\"],[0.2,\"#de77ae\"],[0.3,\"#f1b6da\"],[0.4,\"#fde0ef\"],[0.5,\"#f7f7f7\"],[0.6,\"#e6f5d0\"],[0.7,\"#b8e186\"],[0.8,\"#7fbc41\"],[0.9,\"#4d9221\"],[1,\"#276419\"]],\"sequential\":[[0.0,\"#0d0887\"],[0.1111111111111111,\"#46039f\"],[0.2222222222222222,\"#7201a8\"],[0.3333333333333333,\"#9c179e\"],[0.4444444444444444,\"#bd3786\"],[0.5555555555555556,\"#d8576b\"],[0.6666666666666666,\"#ed7953\"],[0.7777777777777778,\"#fb9f3a\"],[0.8888888888888888,\"#fdca26\"],[1.0,\"#f0f921\"]],\"sequentialminus\":[[0.0,\"#0d0887\"],[0.1111111111111111,\"#46039f\"],[0.2222222222222222,\"#7201a8\"],[0.3333333333333333,\"#9c179e\"],[0.4444444444444444,\"#bd3786\"],[0.5555555555555556,\"#d8576b\"],[0.6666666666666666,\"#ed7953\"],[0.7777777777777778,\"#fb9f3a\"],[0.8888888888888888,\"#fdca26\"],[1.0,\"#f0f921\"]]},\"colorway\":[\"#636efa\",\"#EF553B\",\"#00cc96\",\"#ab63fa\",\"#FFA15A\",\"#19d3f3\",\"#FF6692\",\"#B6E880\",\"#FF97FF\",\"#FECB52\"],\"font\":{\"color\":\"#2a3f5f\"},\"geo\":{\"bgcolor\":\"white\",\"lakecolor\":\"white\",\"landcolor\":\"#E5ECF6\",\"showlakes\":true,\"showland\":true,\"subunitcolor\":\"white\"},\"hoverlabel\":{\"align\":\"left\"},\"hovermode\":\"closest\",\"mapbox\":{\"style\":\"light\"},\"paper_bgcolor\":\"white\",\"plot_bgcolor\":\"#E5ECF6\",\"polar\":{\"angularaxis\":{\"gridcolor\":\"white\",\"linecolor\":\"white\",\"ticks\":\"\"},\"bgcolor\":\"#E5ECF6\",\"radialaxis\":{\"gridcolor\":\"white\",\"linecolor\":\"white\",\"ticks\":\"\"}},\"scene\":{\"xaxis\":{\"backgroundcolor\":\"#E5ECF6\",\"gridcolor\":\"white\",\"gridwidth\":2,\"linecolor\":\"white\",\"showbackground\":true,\"ticks\":\"\",\"zerolinecolor\":\"white\"},\"yaxis\":{\"backgroundcolor\":\"#E5ECF6\",\"gridcolor\":\"white\",\"gridwidth\":2,\"linecolor\":\"white\",\"showbackground\":true,\"ticks\":\"\",\"zerolinecolor\":\"white\"},\"zaxis\":{\"backgroundcolor\":\"#E5ECF6\",\"gridcolor\":\"white\",\"gridwidth\":2,\"linecolor\":\"white\",\"showbackground\":true,\"ticks\":\"\",\"zerolinecolor\":\"white\"}},\"shapedefaults\":{\"line\":{\"color\":\"#2a3f5f\"}},\"ternary\":{\"aaxis\":{\"gridcolor\":\"white\",\"linecolor\":\"white\",\"ticks\":\"\"},\"baxis\":{\"gridcolor\":\"white\",\"linecolor\":\"white\",\"ticks\":\"\"},\"bgcolor\":\"#E5ECF6\",\"caxis\":{\"gridcolor\":\"white\",\"linecolor\":\"white\",\"ticks\":\"\"}},\"title\":{\"x\":0.05},\"xaxis\":{\"automargin\":true,\"gridcolor\":\"white\",\"linecolor\":\"white\",\"ticks\":\"\",\"title\":{\"standoff\":15},\"zerolinecolor\":\"white\",\"zerolinewidth\":2},\"yaxis\":{\"automargin\":true,\"gridcolor\":\"white\",\"linecolor\":\"white\",\"ticks\":\"\",\"title\":{\"standoff\":15},\"zerolinecolor\":\"white\",\"zerolinewidth\":2}}},\"title\":{\"font\":{\"color\":\"#4D5663\"}},\"xaxis\":{\"gridcolor\":\"#E1E5ED\",\"showgrid\":true,\"tickfont\":{\"color\":\"#4D5663\"},\"title\":{\"font\":{\"color\":\"#4D5663\"},\"text\":\"Kale Price\"},\"zerolinecolor\":\"#E1E5ED\"},\"yaxis\":{\"gridcolor\":\"#E1E5ED\",\"showgrid\":true,\"tickfont\":{\"color\":\"#4D5663\"},\"title\":{\"font\":{\"color\":\"#4D5663\"},\"text\":\"Hectograms\"},\"zerolinecolor\":\"#E1E5ED\"}},                        {\"showLink\": true, \"linkText\": \"Export to plot.ly\", \"plotlyServerURL\": \"https://plot.ly\", \"responsive\": true}                    ).then(function(){\n",
       "                            \n",
       "var gd = document.getElementById('18586139-ffd7-4122-8d93-0c5d0c9ea499');\n",
       "var x = new MutationObserver(function (mutations, observer) {{\n",
       "        var display = window.getComputedStyle(gd).display;\n",
       "        if (!display || display === 'none') {{\n",
       "            console.log([gd, 'removed!']);\n",
       "            Plotly.purge(gd);\n",
       "            observer.disconnect();\n",
       "        }}\n",
       "}});\n",
       "\n",
       "// Listen for the removal of the full notebook cells\n",
       "var notebookContainer = gd.closest('#notebook-container');\n",
       "if (notebookContainer) {{\n",
       "    x.observe(notebookContainer, {childList: true});\n",
       "}}\n",
       "\n",
       "// Listen for the clearing of the current output cell\n",
       "var outputEl = gd.closest('.output');\n",
       "if (outputEl) {{\n",
       "    x.observe(outputEl, {childList: true});\n",
       "}}\n",
       "\n",
       "                        })                };                });            </script>        </div>"
      ]
     },
     "metadata": {},
     "output_type": "display_data"
    }
   ],
   "source": [
    "import cufflinks as cf\n",
    "cf.go_offline()\n",
    "\n",
    "ReferenceGood = 'Kale'\n",
    "\n",
    "scale = [0.5,0.75,0.9,1.,1.1,1.2,1.3,1.4,1.5,2,4]\n",
    "\n",
    "cost0 = solve_subsistence_problem(FoodNutrients,Prices,\n",
    "                                  diet_min[group],diet_max[group],max_weight=15,tol=tol).fun\n",
    "\n",
    "my_p = Prices.copy()\n",
    "\n",
    "diet = {}\n",
    "for s in scale:\n",
    "\n",
    "    my_p[ReferenceGood] = Prices[ReferenceGood]*s\n",
    "    result = solve_subsistence_problem(FoodNutrients,my_p,\n",
    "                                       diet_min[group],diet_max[group],max_weight=15,tol=tol)\n",
    "    diet[my_p[ReferenceGood]] = result.diet\n",
    "\n",
    "Diet_response = pd.DataFrame(diet).T\n",
    "Diet_response.index.name = '%s Price' % ReferenceGood\n",
    "\n",
    "Diet_response.reset_index(inplace=True)\n",
    "\n",
    "# Get rid of units for index (cufflinks chokes)\n",
    "Diet_response['%s Price' % ReferenceGood] = Diet_response['%s Price' % ReferenceGood].apply(lambda x: x.magnitude)\n",
    "\n",
    "Diet_response = Diet_response.set_index('%s Price' % ReferenceGood)\n",
    "\n",
    "# Just look at goods consumed in quantities greater than error tolerance\n",
    "Diet_response.loc[:,(Diet_response>tol).sum()>0].iplot(xTitle='%s Price' % ReferenceGood,yTitle='Hectograms')"
   ]
  }
 ],
 "metadata": {
  "kernelspec": {
   "display_name": "Python 3 (ipykernel)",
   "language": "python",
   "name": "python3"
  },
  "language_info": {
   "codemirror_mode": {
    "name": "ipython",
    "version": 3
   },
   "file_extension": ".py",
   "mimetype": "text/x-python",
   "name": "python",
   "nbconvert_exporter": "python",
   "pygments_lexer": "ipython3",
   "version": "3.9.15"
  },
  "org": null
 },
 "nbformat": 4,
 "nbformat_minor": 4
}
