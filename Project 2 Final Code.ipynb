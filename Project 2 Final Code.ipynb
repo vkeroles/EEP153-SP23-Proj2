{
 "cells": [
  {
   "cell_type": "markdown",
   "metadata": {},
   "source": [
    "## Function to solve the subsistence problem\n",
    "\n"
   ]
  },
  {
   "cell_type": "markdown",
   "metadata": {},
   "source": [
    "The following code block defines a function\n",
    "`solve_subsistence_problem`, which takes as arguments a dataframe\n",
    "mapping different foods to nutrients; a series of prices for those\n",
    "same foods; a series giving dietary recommended intake (DRI) minimums;\n",
    "and a series giving dietary recommended maximums.\n",
    "\n"
   ]
  },
  {
   "cell_type": "code",
   "execution_count": 35,
   "metadata": {},
   "outputs": [],
   "source": [
    "from  scipy.optimize import linprog as lp\n",
    "import numpy as np\n",
    "import warnings\n",
    "\n",
    "def solve_subsistence_problem(FoodNutrients,Prices,dietmin,dietmax,max_weight=None,tol=1e-6):\n",
    "    \"\"\"Solve Stigler's Subsistence Cost Problem.\n",
    "\n",
    "    Inputs:\n",
    "       - FoodNutrients : A pd.DataFrame with rows corresponding to foods, columns to nutrients.\n",
    "       - Prices : A pd.Series of prices for different foods\n",
    "       - diet_min : A pd.Series of DRIs, with index corresponding to columns of FoodNutrients,\n",
    "                    describing minimum intakes.\n",
    "       - diet_max : A pd.Series of DRIs, with index corresponding to columns of FoodNutrients,\n",
    "                    describing maximum intakes.\n",
    "       - max_weight : Maximum weight (in hectograms) allowed for diet.\n",
    "       - tol : Solution values smaller than this in absolute value treated as zeros.\n",
    "       \n",
    "    \"\"\"\n",
    "    try: \n",
    "        p = Prices.apply(lambda x:x.magnitude)\n",
    "    except AttributeError:  # Maybe not passing in prices with units?\n",
    "        warnings.warn(\"Prices have no units.  BE CAREFUL!  We're assuming prices are per hectogram or deciliter!\")\n",
    "        p = Prices\n",
    "\n",
    "    p = p.dropna()\n",
    "\n",
    "    # Compile list that we have both prices and nutritional info for; drop if either missing\n",
    "    use = p.index.intersection(FoodNutrients.columns)\n",
    "    p = p[use]\n",
    "\n",
    "    # Drop nutritional information for foods we don't know the price of,\n",
    "    # and replace missing nutrients with zeros.\n",
    "    Aall = FoodNutrients[p.index].fillna(0)\n",
    "\n",
    "    # Drop rows of A that we don't have constraints for.\n",
    "    Amin = Aall.loc[Aall.index.intersection(dietmin.index)]\n",
    "    Amin = Amin.reindex(dietmin.index,axis=0)\n",
    "    idx = Amin.index.to_frame()\n",
    "    idx['type'] = 'min'\n",
    "    #Amin.index = pd.MultiIndex.from_frame(idx)\n",
    "    #dietmin.index = Amin.index\n",
    "    \n",
    "    Amax = Aall.loc[Aall.index.intersection(dietmax.index)]\n",
    "    Amax = Amax.reindex(dietmax.index,axis=0)\n",
    "    idx = Amax.index.to_frame()\n",
    "    idx['type'] = 'max'\n",
    "    #Amax.index = pd.MultiIndex.from_frame(idx)\n",
    "    #dietmax.index = Amax.index\n",
    "\n",
    "    # Minimum requirements involve multiplying constraint by -1 to make <=.\n",
    "    A = pd.concat([Amin,\n",
    "                   -Amax])\n",
    "\n",
    "    b = pd.concat([dietmin,\n",
    "                   -dietmax]) # Note sign change for max constraints\n",
    "\n",
    "    # Make sure order of p, A, b are consistent\n",
    "    A = A.reindex(p.index,axis=1)\n",
    "    A = A.reindex(b.index,axis=0)\n",
    "\n",
    "    if max_weight is not None:\n",
    "        # Add up weights of foods consumed\n",
    "        A.loc['Hectograms'] = -1\n",
    "        b.loc['Hectograms'] = -max_weight\n",
    "        \n",
    "    # Now solve problem!  (Note that the linear program solver we'll use assumes\n",
    "    # \"less-than-or-equal\" constraints.  We can switch back and forth by\n",
    "    # multiplying $A$ and $b$ by $-1$.)\n",
    "\n",
    "    result = lp(p, -A, -b, method='interior-point')\n",
    "\n",
    "    result.A = A\n",
    "    result.b = b\n",
    "    \n",
    "    if result.success:\n",
    "        result.diet = pd.Series(result.x,index=p.index)\n",
    "    else: # No feasible solution?\n",
    "        warnings.warn(result.message)\n",
    "        result.diet = pd.Series(result.x,index=p.index)*np.nan  \n",
    "\n",
    "    return result"
   ]
  },
  {
   "cell_type": "markdown",
   "metadata": {},
   "source": [
    "## Setup\n",
    "\n"
   ]
  },
  {
   "cell_type": "code",
   "execution_count": 36,
   "metadata": {},
   "outputs": [
    {
     "name": "stdout",
     "output_type": "stream",
     "text": [
      "Requirement already satisfied: pint>=0.18 in /opt/conda/lib/python3.9/site-packages (from -r requirements.txt (line 3)) (0.20.1)\n",
      "Requirement already satisfied: requests>=2.26.0 in /opt/conda/lib/python3.9/site-packages (from -r requirements.txt (line 6)) (2.28.2)\n",
      "Requirement already satisfied: python-gnupg in /opt/conda/lib/python3.9/site-packages (from -r requirements.txt (line 8)) (0.5.0)\n",
      "Requirement already satisfied: eep153_tools in /opt/conda/lib/python3.9/site-packages (from -r requirements.txt (line 10)) (0.11)\n",
      "Requirement already satisfied: fooddatacentral in /opt/conda/lib/python3.9/site-packages (from -r requirements.txt (line 12)) (1.0.9)\n",
      "Requirement already satisfied: certifi>=2017.4.17 in /opt/conda/lib/python3.9/site-packages (from requests>=2.26.0->-r requirements.txt (line 6)) (2021.10.8)\n",
      "Requirement already satisfied: urllib3<1.27,>=1.21.1 in /opt/conda/lib/python3.9/site-packages (from requests>=2.26.0->-r requirements.txt (line 6)) (1.26.7)\n",
      "Requirement already satisfied: idna<4,>=2.5 in /opt/conda/lib/python3.9/site-packages (from requests>=2.26.0->-r requirements.txt (line 6)) (3.1)\n",
      "Requirement already satisfied: charset-normalizer<4,>=2 in /opt/conda/lib/python3.9/site-packages (from requests>=2.26.0->-r requirements.txt (line 6)) (2.0.0)\n"
     ]
    }
   ],
   "source": [
    "#!git reset --hard origin/master  # To revert to original\n",
    "!pip install -r requirements.txt --upgrade"
   ]
  },
  {
   "cell_type": "markdown",
   "metadata": {},
   "source": [
    "## USDA Food Central DataBase\n",
    "\n",
    "API key to access USDA Food Central DataBase\n"
   ]
  },
  {
   "cell_type": "code",
   "execution_count": 37,
   "metadata": {},
   "outputs": [],
   "source": [
    "# API key for Gov; substitute your own!\n",
    "apikey = \"zjPzq6seNovgsh28xoUlw7NW7Ikj7Zidg1We4Ekv\""
   ]
  },
  {
   "cell_type": "markdown",
   "metadata": {},
   "source": [
    "## Data on Prices of Different Foods\n"
   ]
  },
  {
   "cell_type": "markdown",
   "metadata": {},
   "source": [
    "We have a spreadsheet for the prices in each supermarket (Trader Joes, Walmart, Wholefoods, Target, and FoodMaxx) . We will be using the read_sheets function to import the data on prices into this notebook. You can find the spreadsheet here: (https://docs.google.com/spreadsheets/d/1dZW1_vvjZwcAfxfHiAkjqrLEpFbFsZ4s7_MzTG6Ezu0/edit#gid=1105367422)\n",
    "\n",
    "Below we will show dataframes for each of the 5 supermarkets we obtained grocery prices from."
   ]
  },
  {
   "cell_type": "markdown",
   "metadata": {},
   "source": [
    "## Trader Joes Price List\n"
   ]
  },
  {
   "cell_type": "code",
   "execution_count": 139,
   "metadata": {},
   "outputs": [
    {
     "name": "stdout",
     "output_type": "stream",
     "text": [
      "Key available for students@eep153.iam.gserviceaccount.com.\n"
     ]
    },
    {
     "data": {
      "text/html": [
       "<div>\n",
       "<style scoped>\n",
       "    .dataframe tbody tr th:only-of-type {\n",
       "        vertical-align: middle;\n",
       "    }\n",
       "\n",
       "    .dataframe tbody tr th {\n",
       "        vertical-align: top;\n",
       "    }\n",
       "\n",
       "    .dataframe thead th {\n",
       "        text-align: right;\n",
       "    }\n",
       "</style>\n",
       "<table border=\"1\" class=\"dataframe\">\n",
       "  <thead>\n",
       "    <tr style=\"text-align: right;\">\n",
       "      <th></th>\n",
       "      <th>Food</th>\n",
       "      <th>Quantity</th>\n",
       "      <th>Units</th>\n",
       "      <th>Price</th>\n",
       "      <th>Date</th>\n",
       "      <th>Location</th>\n",
       "      <th>FDC</th>\n",
       "    </tr>\n",
       "  </thead>\n",
       "  <tbody>\n",
       "    <tr>\n",
       "      <th>0</th>\n",
       "      <td>Banana,raw</td>\n",
       "      <td>120.00</td>\n",
       "      <td>grams</td>\n",
       "      <td>0.19</td>\n",
       "      <td>02/27/23</td>\n",
       "      <td>Trader Joe's</td>\n",
       "      <td>1105314</td>\n",
       "    </tr>\n",
       "    <tr>\n",
       "      <th>1</th>\n",
       "      <td>Apple, Gala</td>\n",
       "      <td>0.33</td>\n",
       "      <td>pound</td>\n",
       "      <td>1.29</td>\n",
       "      <td>02/27/23</td>\n",
       "      <td>Trader Joe's</td>\n",
       "      <td>1750341</td>\n",
       "    </tr>\n",
       "    <tr>\n",
       "      <th>2</th>\n",
       "      <td>Oranges, Navel</td>\n",
       "      <td>3.00</td>\n",
       "      <td>pound</td>\n",
       "      <td>3.69</td>\n",
       "      <td>02/27/23</td>\n",
       "      <td>Trader Joe's</td>\n",
       "      <td>746771</td>\n",
       "    </tr>\n",
       "    <tr>\n",
       "      <th>3</th>\n",
       "      <td>Blueberries</td>\n",
       "      <td>11.00</td>\n",
       "      <td>oz</td>\n",
       "      <td>4.49</td>\n",
       "      <td>03/01/23</td>\n",
       "      <td>Trader Joe's</td>\n",
       "      <td>2346411</td>\n",
       "    </tr>\n",
       "    <tr>\n",
       "      <th>4</th>\n",
       "      <td>Raspberries</td>\n",
       "      <td>6.00</td>\n",
       "      <td>oz</td>\n",
       "      <td>3.99</td>\n",
       "      <td>03/01/23</td>\n",
       "      <td>Trader Joe's</td>\n",
       "      <td>2346410</td>\n",
       "    </tr>\n",
       "    <tr>\n",
       "      <th>5</th>\n",
       "      <td>Grapes, green, seedless</td>\n",
       "      <td>2.00</td>\n",
       "      <td>pound</td>\n",
       "      <td>5.99</td>\n",
       "      <td>03/01/23</td>\n",
       "      <td>Trader Joe's</td>\n",
       "      <td>2346413</td>\n",
       "    </tr>\n",
       "    <tr>\n",
       "      <th>6</th>\n",
       "      <td>Strawberries</td>\n",
       "      <td>1.00</td>\n",
       "      <td>pound</td>\n",
       "      <td>3.99</td>\n",
       "      <td>02/27/23</td>\n",
       "      <td>Trader Joe's</td>\n",
       "      <td>167762</td>\n",
       "    </tr>\n",
       "    <tr>\n",
       "      <th>7</th>\n",
       "      <td>Lentils, red</td>\n",
       "      <td>17.63</td>\n",
       "      <td>oz</td>\n",
       "      <td>3.29</td>\n",
       "      <td>02/27/23</td>\n",
       "      <td>Trader Joe's</td>\n",
       "      <td>174284</td>\n",
       "    </tr>\n",
       "    <tr>\n",
       "      <th>8</th>\n",
       "      <td>Tofu</td>\n",
       "      <td>19.00</td>\n",
       "      <td>oz</td>\n",
       "      <td>2.29</td>\n",
       "      <td>03/01/23</td>\n",
       "      <td>Trader Joe's</td>\n",
       "      <td>173788</td>\n",
       "    </tr>\n",
       "    <tr>\n",
       "      <th>9</th>\n",
       "      <td>Split peas, dry</td>\n",
       "      <td>12.00</td>\n",
       "      <td>oz</td>\n",
       "      <td>2.69</td>\n",
       "      <td>03/01/23</td>\n",
       "      <td>Trader Joe's</td>\n",
       "      <td>172428</td>\n",
       "    </tr>\n",
       "    <tr>\n",
       "      <th>10</th>\n",
       "      <td>Chickpeas, canned</td>\n",
       "      <td>9.88</td>\n",
       "      <td>oz</td>\n",
       "      <td>1.99</td>\n",
       "      <td>03/01/23</td>\n",
       "      <td>Trader Joe's</td>\n",
       "      <td>173800</td>\n",
       "    </tr>\n",
       "    <tr>\n",
       "      <th>11</th>\n",
       "      <td>Quinoa, dry</td>\n",
       "      <td>16.00</td>\n",
       "      <td>oz</td>\n",
       "      <td>3.99</td>\n",
       "      <td>02/27/23</td>\n",
       "      <td>Trader Joe's</td>\n",
       "      <td>168874</td>\n",
       "    </tr>\n",
       "    <tr>\n",
       "      <th>12</th>\n",
       "      <td>Hummus</td>\n",
       "      <td>16.00</td>\n",
       "      <td>oz</td>\n",
       "      <td>3.99</td>\n",
       "      <td>02/27/23</td>\n",
       "      <td>Trader Joe's</td>\n",
       "      <td>174289</td>\n",
       "    </tr>\n",
       "    <tr>\n",
       "      <th>13</th>\n",
       "      <td>Black beans, canned</td>\n",
       "      <td>15.50</td>\n",
       "      <td>oz</td>\n",
       "      <td>1.09</td>\n",
       "      <td>02/27/23</td>\n",
       "      <td>Trader Joe's</td>\n",
       "      <td>175238</td>\n",
       "    </tr>\n",
       "    <tr>\n",
       "      <th>14</th>\n",
       "      <td>Tomato, Roma</td>\n",
       "      <td>1.00</td>\n",
       "      <td>pound</td>\n",
       "      <td>2.99</td>\n",
       "      <td>02/27/23</td>\n",
       "      <td>Trader Joe's</td>\n",
       "      <td>1999634</td>\n",
       "    </tr>\n",
       "    <tr>\n",
       "      <th>15</th>\n",
       "      <td>Broccoli</td>\n",
       "      <td>12.00</td>\n",
       "      <td>oz</td>\n",
       "      <td>2.49</td>\n",
       "      <td>03/01/23</td>\n",
       "      <td>Trader Joe's</td>\n",
       "      <td>539572</td>\n",
       "    </tr>\n",
       "    <tr>\n",
       "      <th>16</th>\n",
       "      <td>Kale</td>\n",
       "      <td>10.00</td>\n",
       "      <td>oz</td>\n",
       "      <td>2.99</td>\n",
       "      <td>02/27/23</td>\n",
       "      <td>Trader Joe's</td>\n",
       "      <td>1103116</td>\n",
       "    </tr>\n",
       "    <tr>\n",
       "      <th>17</th>\n",
       "      <td>Green beans, raw</td>\n",
       "      <td>24.00</td>\n",
       "      <td>oz</td>\n",
       "      <td>1.99</td>\n",
       "      <td>02/27/23</td>\n",
       "      <td>Trader Joe's</td>\n",
       "      <td>2346400</td>\n",
       "    </tr>\n",
       "    <tr>\n",
       "      <th>18</th>\n",
       "      <td>Onions, yellow</td>\n",
       "      <td>4.30</td>\n",
       "      <td>oz</td>\n",
       "      <td>0.99</td>\n",
       "      <td>03/01/23</td>\n",
       "      <td>Trader Joe's</td>\n",
       "      <td>790646</td>\n",
       "    </tr>\n",
       "    <tr>\n",
       "      <th>19</th>\n",
       "      <td>Celery</td>\n",
       "      <td>16.00</td>\n",
       "      <td>oz</td>\n",
       "      <td>2.79</td>\n",
       "      <td>03/01/23</td>\n",
       "      <td>Trader Joe's</td>\n",
       "      <td>2346405</td>\n",
       "    </tr>\n",
       "    <tr>\n",
       "      <th>20</th>\n",
       "      <td>Potato, Russet</td>\n",
       "      <td>200.00</td>\n",
       "      <td>grams</td>\n",
       "      <td>0.79</td>\n",
       "      <td>02/27/23</td>\n",
       "      <td>Trader Joe's</td>\n",
       "      <td>2060240</td>\n",
       "    </tr>\n",
       "    <tr>\n",
       "      <th>21</th>\n",
       "      <td>Carrot</td>\n",
       "      <td>2.00</td>\n",
       "      <td>pound</td>\n",
       "      <td>1.99</td>\n",
       "      <td>02/27/23</td>\n",
       "      <td>Trader Joe's</td>\n",
       "      <td>170393</td>\n",
       "    </tr>\n",
       "    <tr>\n",
       "      <th>22</th>\n",
       "      <td>Cucumber</td>\n",
       "      <td>1.00</td>\n",
       "      <td>pound</td>\n",
       "      <td>2.49</td>\n",
       "      <td>02/27/23</td>\n",
       "      <td>Trader Joe's</td>\n",
       "      <td>2346406</td>\n",
       "    </tr>\n",
       "    <tr>\n",
       "      <th>23</th>\n",
       "      <td>Avocado</td>\n",
       "      <td>5.40</td>\n",
       "      <td>oz</td>\n",
       "      <td>0.60</td>\n",
       "      <td>03/01/23</td>\n",
       "      <td>Trader Joe's</td>\n",
       "      <td>171705</td>\n",
       "    </tr>\n",
       "    <tr>\n",
       "      <th>24</th>\n",
       "      <td>Lettuce, Romaine</td>\n",
       "      <td>5.00</td>\n",
       "      <td>oz</td>\n",
       "      <td>2.49</td>\n",
       "      <td>02/27/23</td>\n",
       "      <td>Trader Joe's</td>\n",
       "      <td>169247</td>\n",
       "    </tr>\n",
       "    <tr>\n",
       "      <th>25</th>\n",
       "      <td>Mushrooms</td>\n",
       "      <td>6.00</td>\n",
       "      <td>oz</td>\n",
       "      <td>3.29</td>\n",
       "      <td>02/27/23</td>\n",
       "      <td>Trader Joe's</td>\n",
       "      <td>1999629</td>\n",
       "    </tr>\n",
       "    <tr>\n",
       "      <th>26</th>\n",
       "      <td>Spinach</td>\n",
       "      <td>12.00</td>\n",
       "      <td>oz</td>\n",
       "      <td>2.49</td>\n",
       "      <td>03/01/23</td>\n",
       "      <td>Trader Joe's</td>\n",
       "      <td>1999632</td>\n",
       "    </tr>\n",
       "    <tr>\n",
       "      <th>27</th>\n",
       "      <td>Rice, White</td>\n",
       "      <td>3.00</td>\n",
       "      <td>pound</td>\n",
       "      <td>2.99</td>\n",
       "      <td>02/27/23</td>\n",
       "      <td>Trader Joe's</td>\n",
       "      <td>168931</td>\n",
       "    </tr>\n",
       "    <tr>\n",
       "      <th>28</th>\n",
       "      <td>Tortillas, corn</td>\n",
       "      <td>12.00</td>\n",
       "      <td>oz</td>\n",
       "      <td>1.29</td>\n",
       "      <td>03/01/23</td>\n",
       "      <td>Trader Joe's</td>\n",
       "      <td>167535</td>\n",
       "    </tr>\n",
       "    <tr>\n",
       "      <th>29</th>\n",
       "      <td>Oats, rolled</td>\n",
       "      <td>18.00</td>\n",
       "      <td>oz</td>\n",
       "      <td>2.99</td>\n",
       "      <td>02/27/23</td>\n",
       "      <td>Trader Joe's</td>\n",
       "      <td>2346396</td>\n",
       "    </tr>\n",
       "    <tr>\n",
       "      <th>30</th>\n",
       "      <td>Soy milk, unsweetened</td>\n",
       "      <td>32.00</td>\n",
       "      <td>oz</td>\n",
       "      <td>2.49</td>\n",
       "      <td>02/27/23</td>\n",
       "      <td>Trader Joe's</td>\n",
       "      <td>1999630</td>\n",
       "    </tr>\n",
       "    <tr>\n",
       "      <th>31</th>\n",
       "      <td>Peanut butter, creamy</td>\n",
       "      <td>16.00</td>\n",
       "      <td>oz</td>\n",
       "      <td>2.29</td>\n",
       "      <td>02/27/23</td>\n",
       "      <td>Trader Joe's</td>\n",
       "      <td>2262072</td>\n",
       "    </tr>\n",
       "    <tr>\n",
       "      <th>32</th>\n",
       "      <td>Rice, Brown</td>\n",
       "      <td>32.00</td>\n",
       "      <td>oz</td>\n",
       "      <td>3.29</td>\n",
       "      <td>03/01/23</td>\n",
       "      <td>Trader Joe's</td>\n",
       "      <td>169706</td>\n",
       "    </tr>\n",
       "    <tr>\n",
       "      <th>33</th>\n",
       "      <td>Spaghetti, dry</td>\n",
       "      <td>1.00</td>\n",
       "      <td>pound</td>\n",
       "      <td>0.99</td>\n",
       "      <td>02/27/23</td>\n",
       "      <td>Trader Joe's</td>\n",
       "      <td>168927</td>\n",
       "    </tr>\n",
       "  </tbody>\n",
       "</table>\n",
       "</div>"
      ],
      "text/plain": [
       "                       Food  Quantity  Units  Price      Date      Location  \\\n",
       "0                Banana,raw    120.00  grams   0.19  02/27/23  Trader Joe's   \n",
       "1               Apple, Gala      0.33  pound   1.29  02/27/23  Trader Joe's   \n",
       "2            Oranges, Navel      3.00  pound   3.69  02/27/23  Trader Joe's   \n",
       "3               Blueberries     11.00     oz   4.49  03/01/23  Trader Joe's   \n",
       "4               Raspberries      6.00     oz   3.99  03/01/23  Trader Joe's   \n",
       "5   Grapes, green, seedless      2.00  pound   5.99  03/01/23  Trader Joe's   \n",
       "6              Strawberries      1.00  pound   3.99  02/27/23  Trader Joe's   \n",
       "7              Lentils, red     17.63     oz   3.29  02/27/23  Trader Joe's   \n",
       "8                      Tofu     19.00     oz   2.29  03/01/23  Trader Joe's   \n",
       "9           Split peas, dry     12.00     oz   2.69  03/01/23  Trader Joe's   \n",
       "10        Chickpeas, canned      9.88     oz   1.99  03/01/23  Trader Joe's   \n",
       "11              Quinoa, dry     16.00     oz   3.99  02/27/23  Trader Joe's   \n",
       "12                   Hummus     16.00     oz   3.99  02/27/23  Trader Joe's   \n",
       "13      Black beans, canned     15.50     oz   1.09  02/27/23  Trader Joe's   \n",
       "14             Tomato, Roma      1.00  pound   2.99  02/27/23  Trader Joe's   \n",
       "15                 Broccoli     12.00     oz   2.49  03/01/23  Trader Joe's   \n",
       "16                     Kale     10.00     oz   2.99  02/27/23  Trader Joe's   \n",
       "17         Green beans, raw     24.00     oz   1.99  02/27/23  Trader Joe's   \n",
       "18           Onions, yellow      4.30     oz   0.99  03/01/23  Trader Joe's   \n",
       "19                   Celery     16.00     oz   2.79  03/01/23  Trader Joe's   \n",
       "20           Potato, Russet    200.00  grams   0.79  02/27/23  Trader Joe's   \n",
       "21                   Carrot      2.00  pound   1.99  02/27/23  Trader Joe's   \n",
       "22                 Cucumber      1.00  pound   2.49  02/27/23  Trader Joe's   \n",
       "23                  Avocado      5.40     oz   0.60  03/01/23  Trader Joe's   \n",
       "24         Lettuce, Romaine      5.00     oz   2.49  02/27/23  Trader Joe's   \n",
       "25                Mushrooms      6.00     oz   3.29  02/27/23  Trader Joe's   \n",
       "26                  Spinach     12.00     oz   2.49  03/01/23  Trader Joe's   \n",
       "27              Rice, White      3.00  pound   2.99  02/27/23  Trader Joe's   \n",
       "28          Tortillas, corn     12.00     oz   1.29  03/01/23  Trader Joe's   \n",
       "29             Oats, rolled     18.00     oz   2.99  02/27/23  Trader Joe's   \n",
       "30    Soy milk, unsweetened     32.00     oz   2.49  02/27/23  Trader Joe's   \n",
       "31    Peanut butter, creamy     16.00     oz   2.29  02/27/23  Trader Joe's   \n",
       "32              Rice, Brown     32.00     oz   3.29  03/01/23  Trader Joe's   \n",
       "33           Spaghetti, dry      1.00  pound   0.99  02/27/23  Trader Joe's   \n",
       "\n",
       "        FDC  \n",
       "0   1105314  \n",
       "1   1750341  \n",
       "2    746771  \n",
       "3   2346411  \n",
       "4   2346410  \n",
       "5   2346413  \n",
       "6    167762  \n",
       "7    174284  \n",
       "8    173788  \n",
       "9    172428  \n",
       "10   173800  \n",
       "11   168874  \n",
       "12   174289  \n",
       "13   175238  \n",
       "14  1999634  \n",
       "15   539572  \n",
       "16  1103116  \n",
       "17  2346400  \n",
       "18   790646  \n",
       "19  2346405  \n",
       "20  2060240  \n",
       "21   170393  \n",
       "22  2346406  \n",
       "23   171705  \n",
       "24   169247  \n",
       "25  1999629  \n",
       "26  1999632  \n",
       "27   168931  \n",
       "28   167535  \n",
       "29  2346396  \n",
       "30  1999630  \n",
       "31  2262072  \n",
       "32   169706  \n",
       "33   168927  "
      ]
     },
     "execution_count": 139,
     "metadata": {},
     "output_type": "execute_result"
    }
   ],
   "source": [
    "import pandas as pd\n",
    "from eep153_tools.sheets import read_sheets\n",
    "\n",
    "df = read_sheets('https://docs.google.com/spreadsheets/d/1dZW1_vvjZwcAfxfHiAkjqrLEpFbFsZ4s7_MzTG6Ezu0/edit#gid=0',sheet='Trader Joes')\n",
    "df"
   ]
  },
  {
   "cell_type": "markdown",
   "metadata": {},
   "source": [
    "## Walmart Price List\n"
   ]
  },
  {
   "cell_type": "code",
   "execution_count": 140,
   "metadata": {},
   "outputs": [
    {
     "name": "stdout",
     "output_type": "stream",
     "text": [
      "Key available for students@eep153.iam.gserviceaccount.com.\n"
     ]
    },
    {
     "data": {
      "text/html": [
       "<div>\n",
       "<style scoped>\n",
       "    .dataframe tbody tr th:only-of-type {\n",
       "        vertical-align: middle;\n",
       "    }\n",
       "\n",
       "    .dataframe tbody tr th {\n",
       "        vertical-align: top;\n",
       "    }\n",
       "\n",
       "    .dataframe thead th {\n",
       "        text-align: right;\n",
       "    }\n",
       "</style>\n",
       "<table border=\"1\" class=\"dataframe\">\n",
       "  <thead>\n",
       "    <tr style=\"text-align: right;\">\n",
       "      <th></th>\n",
       "      <th>Food</th>\n",
       "      <th>Quantity</th>\n",
       "      <th>Units</th>\n",
       "      <th>Price</th>\n",
       "      <th>Date</th>\n",
       "      <th>Location</th>\n",
       "      <th>FDC</th>\n",
       "      <th>Note</th>\n",
       "    </tr>\n",
       "  </thead>\n",
       "  <tbody>\n",
       "    <tr>\n",
       "      <th>0</th>\n",
       "      <td>Banana,raw</td>\n",
       "      <td>1.0</td>\n",
       "      <td>lbs</td>\n",
       "      <td>0.77</td>\n",
       "      <td>02/27/23</td>\n",
       "      <td>walmart</td>\n",
       "      <td>1105073</td>\n",
       "      <td></td>\n",
       "    </tr>\n",
       "    <tr>\n",
       "      <th>1</th>\n",
       "      <td>Apple, Gala</td>\n",
       "      <td>1.0</td>\n",
       "      <td>lbs</td>\n",
       "      <td>1.67</td>\n",
       "      <td>02/27/23</td>\n",
       "      <td>walmart</td>\n",
       "      <td>1750341</td>\n",
       "      <td></td>\n",
       "    </tr>\n",
       "    <tr>\n",
       "      <th>2</th>\n",
       "      <td>Oranges, Navel</td>\n",
       "      <td>1.0</td>\n",
       "      <td>lbs</td>\n",
       "      <td>0.88</td>\n",
       "      <td>02/27/23</td>\n",
       "      <td>walmart</td>\n",
       "      <td>746771</td>\n",
       "      <td></td>\n",
       "    </tr>\n",
       "    <tr>\n",
       "      <th>3</th>\n",
       "      <td>Blueberries</td>\n",
       "      <td>11.0</td>\n",
       "      <td>oz</td>\n",
       "      <td>3.38</td>\n",
       "      <td>02/27/23</td>\n",
       "      <td>walmart</td>\n",
       "      <td>2346411</td>\n",
       "      <td></td>\n",
       "    </tr>\n",
       "    <tr>\n",
       "      <th>4</th>\n",
       "      <td>Raspberries</td>\n",
       "      <td>12.0</td>\n",
       "      <td>oz</td>\n",
       "      <td>5.98</td>\n",
       "      <td>02/27/23</td>\n",
       "      <td>walmart</td>\n",
       "      <td>2346410</td>\n",
       "      <td></td>\n",
       "    </tr>\n",
       "    <tr>\n",
       "      <th>5</th>\n",
       "      <td>Grapes, green, seedless</td>\n",
       "      <td>1.0</td>\n",
       "      <td>lbs</td>\n",
       "      <td>1.98</td>\n",
       "      <td>02/27/23</td>\n",
       "      <td>walmart</td>\n",
       "      <td>2346413</td>\n",
       "      <td></td>\n",
       "    </tr>\n",
       "    <tr>\n",
       "      <th>6</th>\n",
       "      <td>Strawberries</td>\n",
       "      <td>1.0</td>\n",
       "      <td>lbs</td>\n",
       "      <td>2.78</td>\n",
       "      <td>02/27/23</td>\n",
       "      <td>walmart</td>\n",
       "      <td>167762</td>\n",
       "      <td></td>\n",
       "    </tr>\n",
       "    <tr>\n",
       "      <th>7</th>\n",
       "      <td>Lentils, red</td>\n",
       "      <td>27.0</td>\n",
       "      <td>oz</td>\n",
       "      <td>9.55</td>\n",
       "      <td>03/01/23</td>\n",
       "      <td>walmart</td>\n",
       "      <td>174284</td>\n",
       "      <td></td>\n",
       "    </tr>\n",
       "    <tr>\n",
       "      <th>8</th>\n",
       "      <td>Tofu</td>\n",
       "      <td>1.0</td>\n",
       "      <td>lbs</td>\n",
       "      <td>2.12</td>\n",
       "      <td>02/27/23</td>\n",
       "      <td>walmart</td>\n",
       "      <td>173788</td>\n",
       "      <td></td>\n",
       "    </tr>\n",
       "    <tr>\n",
       "      <th>9</th>\n",
       "      <td>Split peas, dry</td>\n",
       "      <td>1.0</td>\n",
       "      <td>lbs</td>\n",
       "      <td>1.48</td>\n",
       "      <td>02/27/23</td>\n",
       "      <td>walmart</td>\n",
       "      <td>172428</td>\n",
       "      <td>green</td>\n",
       "    </tr>\n",
       "    <tr>\n",
       "      <th>10</th>\n",
       "      <td>Chickpeas, canned</td>\n",
       "      <td>15.5</td>\n",
       "      <td>oz</td>\n",
       "      <td>0.78</td>\n",
       "      <td>02/27/23</td>\n",
       "      <td>walmart</td>\n",
       "      <td>173800</td>\n",
       "      <td></td>\n",
       "    </tr>\n",
       "    <tr>\n",
       "      <th>11</th>\n",
       "      <td>Quinoa, dry</td>\n",
       "      <td>1.0</td>\n",
       "      <td>lbs</td>\n",
       "      <td>3.72</td>\n",
       "      <td>02/27/23</td>\n",
       "      <td>walmart</td>\n",
       "      <td>168874</td>\n",
       "      <td>organic</td>\n",
       "    </tr>\n",
       "    <tr>\n",
       "      <th>12</th>\n",
       "      <td>Fresh Hummus</td>\n",
       "      <td>10.0</td>\n",
       "      <td>oz</td>\n",
       "      <td>3.47</td>\n",
       "      <td>02/27/23</td>\n",
       "      <td>walmart</td>\n",
       "      <td>174289</td>\n",
       "      <td></td>\n",
       "    </tr>\n",
       "    <tr>\n",
       "      <th>13</th>\n",
       "      <td>Black beans, canned</td>\n",
       "      <td>15.0</td>\n",
       "      <td>oz</td>\n",
       "      <td>0.78</td>\n",
       "      <td>02/27/23</td>\n",
       "      <td>walmart</td>\n",
       "      <td>175238</td>\n",
       "      <td></td>\n",
       "    </tr>\n",
       "    <tr>\n",
       "      <th>14</th>\n",
       "      <td>Tomato, Roma</td>\n",
       "      <td>1.0</td>\n",
       "      <td>lbs</td>\n",
       "      <td>1.28</td>\n",
       "      <td>02/27/23</td>\n",
       "      <td>walmart</td>\n",
       "      <td>1999634</td>\n",
       "      <td></td>\n",
       "    </tr>\n",
       "    <tr>\n",
       "      <th>15</th>\n",
       "      <td>Broccoli Florest</td>\n",
       "      <td>1.0</td>\n",
       "      <td>oz</td>\n",
       "      <td>4.15</td>\n",
       "      <td>02/27/23</td>\n",
       "      <td>walmart</td>\n",
       "      <td>539572</td>\n",
       "      <td></td>\n",
       "    </tr>\n",
       "    <tr>\n",
       "      <th>16</th>\n",
       "      <td>Kale</td>\n",
       "      <td>40.0</td>\n",
       "      <td>oz</td>\n",
       "      <td>11.78</td>\n",
       "      <td>02/27/23</td>\n",
       "      <td>walmart</td>\n",
       "      <td>1103116</td>\n",
       "      <td></td>\n",
       "    </tr>\n",
       "    <tr>\n",
       "      <th>17</th>\n",
       "      <td>Green beans, raw</td>\n",
       "      <td>12.0</td>\n",
       "      <td>oz</td>\n",
       "      <td>2.78</td>\n",
       "      <td>02/27/23</td>\n",
       "      <td>walmart</td>\n",
       "      <td>2346400</td>\n",
       "      <td></td>\n",
       "    </tr>\n",
       "    <tr>\n",
       "      <th>18</th>\n",
       "      <td>Onions, yellow</td>\n",
       "      <td>3.0</td>\n",
       "      <td>oz</td>\n",
       "      <td>2.24</td>\n",
       "      <td>02/27/23</td>\n",
       "      <td>walmart</td>\n",
       "      <td>790646</td>\n",
       "      <td>organic</td>\n",
       "    </tr>\n",
       "    <tr>\n",
       "      <th>19</th>\n",
       "      <td>Celery</td>\n",
       "      <td>20.0</td>\n",
       "      <td>oz</td>\n",
       "      <td>2.98</td>\n",
       "      <td>02/27/23</td>\n",
       "      <td>walmart</td>\n",
       "      <td>2346405</td>\n",
       "      <td></td>\n",
       "    </tr>\n",
       "    <tr>\n",
       "      <th>20</th>\n",
       "      <td>Potato, Russet</td>\n",
       "      <td>5.0</td>\n",
       "      <td>lbs</td>\n",
       "      <td>3.47</td>\n",
       "      <td>02/27/23</td>\n",
       "      <td>walmart</td>\n",
       "      <td>2060240</td>\n",
       "      <td></td>\n",
       "    </tr>\n",
       "    <tr>\n",
       "      <th>21</th>\n",
       "      <td>Carrot</td>\n",
       "      <td>1.0</td>\n",
       "      <td>lbs</td>\n",
       "      <td>0.98</td>\n",
       "      <td>02/27/23</td>\n",
       "      <td>walmart</td>\n",
       "      <td>1103193</td>\n",
       "      <td>whole</td>\n",
       "    </tr>\n",
       "    <tr>\n",
       "      <th>22</th>\n",
       "      <td>Cucumber</td>\n",
       "      <td>1.0</td>\n",
       "      <td>oz</td>\n",
       "      <td>0.68</td>\n",
       "      <td>02/27/23</td>\n",
       "      <td>walmart</td>\n",
       "      <td>2346406</td>\n",
       "      <td></td>\n",
       "    </tr>\n",
       "    <tr>\n",
       "      <th>23</th>\n",
       "      <td>Avocado</td>\n",
       "      <td>1.0</td>\n",
       "      <td>lbs</td>\n",
       "      <td>1.09</td>\n",
       "      <td>02/27/23</td>\n",
       "      <td>walmart</td>\n",
       "      <td>815990</td>\n",
       "      <td></td>\n",
       "    </tr>\n",
       "    <tr>\n",
       "      <th>24</th>\n",
       "      <td>Lettuce, Romaine</td>\n",
       "      <td>10.0</td>\n",
       "      <td>oz</td>\n",
       "      <td>2.98</td>\n",
       "      <td>02/27/23</td>\n",
       "      <td>walmart</td>\n",
       "      <td>169247</td>\n",
       "      <td></td>\n",
       "    </tr>\n",
       "    <tr>\n",
       "      <th>25</th>\n",
       "      <td>Fresh whole Mushrooms</td>\n",
       "      <td>8.0</td>\n",
       "      <td>oz</td>\n",
       "      <td>2.08</td>\n",
       "      <td>02/27/23</td>\n",
       "      <td>walmart</td>\n",
       "      <td>1999629</td>\n",
       "      <td></td>\n",
       "    </tr>\n",
       "    <tr>\n",
       "      <th>26</th>\n",
       "      <td>Market side fresh Spinach</td>\n",
       "      <td>10.0</td>\n",
       "      <td>oz</td>\n",
       "      <td>2.28</td>\n",
       "      <td>02/27/23</td>\n",
       "      <td>walmart</td>\n",
       "      <td>1999632</td>\n",
       "      <td></td>\n",
       "    </tr>\n",
       "    <tr>\n",
       "      <th>27</th>\n",
       "      <td>Rice, White</td>\n",
       "      <td>14.0</td>\n",
       "      <td>oz</td>\n",
       "      <td>2.44</td>\n",
       "      <td>02/27/23</td>\n",
       "      <td>walmart</td>\n",
       "      <td>168931</td>\n",
       "      <td></td>\n",
       "    </tr>\n",
       "    <tr>\n",
       "      <th>28</th>\n",
       "      <td>Tortillas, corn</td>\n",
       "      <td>25.0</td>\n",
       "      <td>oz</td>\n",
       "      <td>2.48</td>\n",
       "      <td>02/27/23</td>\n",
       "      <td>walmart</td>\n",
       "      <td>167535</td>\n",
       "      <td></td>\n",
       "    </tr>\n",
       "    <tr>\n",
       "      <th>29</th>\n",
       "      <td>Organic Oats, rolled</td>\n",
       "      <td>24.0</td>\n",
       "      <td>oz</td>\n",
       "      <td>12.29</td>\n",
       "      <td>02/27/23</td>\n",
       "      <td>walmart</td>\n",
       "      <td>2346396</td>\n",
       "      <td></td>\n",
       "    </tr>\n",
       "    <tr>\n",
       "      <th>30</th>\n",
       "      <td>Soy milk, unsweetened</td>\n",
       "      <td>32.0</td>\n",
       "      <td>floz</td>\n",
       "      <td>3.24</td>\n",
       "      <td>02/27/23</td>\n",
       "      <td>walmart</td>\n",
       "      <td>1999630</td>\n",
       "      <td></td>\n",
       "    </tr>\n",
       "    <tr>\n",
       "      <th>31</th>\n",
       "      <td>Peanut butter, creamy</td>\n",
       "      <td>24.0</td>\n",
       "      <td>oz</td>\n",
       "      <td>12.56</td>\n",
       "      <td>02/27/23</td>\n",
       "      <td>walmart</td>\n",
       "      <td>2262072</td>\n",
       "      <td>organic</td>\n",
       "    </tr>\n",
       "    <tr>\n",
       "      <th>32</th>\n",
       "      <td>Rice, Brown</td>\n",
       "      <td>32.0</td>\n",
       "      <td>oz</td>\n",
       "      <td>1.37</td>\n",
       "      <td>02/27/23</td>\n",
       "      <td>walmart</td>\n",
       "      <td>169706</td>\n",
       "      <td>Fresh</td>\n",
       "    </tr>\n",
       "    <tr>\n",
       "      <th>33</th>\n",
       "      <td>Spaghetti, dry</td>\n",
       "      <td>1.0</td>\n",
       "      <td>oz</td>\n",
       "      <td>0.09</td>\n",
       "      <td>02/27/23</td>\n",
       "      <td>walmart</td>\n",
       "      <td>168927</td>\n",
       "      <td></td>\n",
       "    </tr>\n",
       "  </tbody>\n",
       "</table>\n",
       "</div>"
      ],
      "text/plain": [
       "                         Food  Quantity Units  Price      Date Location  \\\n",
       "0                  Banana,raw       1.0   lbs   0.77  02/27/23  walmart   \n",
       "1                 Apple, Gala       1.0   lbs   1.67  02/27/23  walmart   \n",
       "2              Oranges, Navel       1.0   lbs   0.88  02/27/23  walmart   \n",
       "3                 Blueberries      11.0    oz   3.38  02/27/23  walmart   \n",
       "4                 Raspberries      12.0    oz   5.98  02/27/23  walmart   \n",
       "5     Grapes, green, seedless       1.0   lbs   1.98  02/27/23  walmart   \n",
       "6                Strawberries       1.0   lbs   2.78  02/27/23  walmart   \n",
       "7                Lentils, red      27.0    oz   9.55  03/01/23  walmart   \n",
       "8                        Tofu       1.0   lbs   2.12  02/27/23  walmart   \n",
       "9             Split peas, dry       1.0   lbs   1.48  02/27/23  walmart   \n",
       "10          Chickpeas, canned      15.5    oz   0.78  02/27/23  walmart   \n",
       "11                Quinoa, dry       1.0   lbs   3.72  02/27/23  walmart   \n",
       "12               Fresh Hummus      10.0    oz   3.47  02/27/23  walmart   \n",
       "13        Black beans, canned      15.0    oz   0.78  02/27/23  walmart   \n",
       "14               Tomato, Roma       1.0   lbs   1.28  02/27/23  walmart   \n",
       "15           Broccoli Florest       1.0    oz   4.15  02/27/23  walmart   \n",
       "16                       Kale      40.0    oz  11.78  02/27/23  walmart   \n",
       "17           Green beans, raw      12.0    oz   2.78  02/27/23  walmart   \n",
       "18             Onions, yellow       3.0    oz   2.24  02/27/23  walmart   \n",
       "19                     Celery      20.0    oz   2.98  02/27/23  walmart   \n",
       "20             Potato, Russet       5.0   lbs   3.47  02/27/23  walmart   \n",
       "21                     Carrot       1.0   lbs   0.98  02/27/23  walmart   \n",
       "22                   Cucumber       1.0    oz   0.68  02/27/23  walmart   \n",
       "23                    Avocado       1.0   lbs   1.09  02/27/23  walmart   \n",
       "24           Lettuce, Romaine      10.0    oz   2.98  02/27/23  walmart   \n",
       "25      Fresh whole Mushrooms       8.0    oz   2.08  02/27/23  walmart   \n",
       "26  Market side fresh Spinach      10.0    oz   2.28  02/27/23  walmart   \n",
       "27                Rice, White      14.0    oz   2.44  02/27/23  walmart   \n",
       "28            Tortillas, corn      25.0    oz   2.48  02/27/23  walmart   \n",
       "29       Organic Oats, rolled      24.0    oz  12.29  02/27/23  walmart   \n",
       "30      Soy milk, unsweetened      32.0  floz   3.24  02/27/23  walmart   \n",
       "31      Peanut butter, creamy      24.0    oz  12.56  02/27/23  walmart   \n",
       "32                Rice, Brown      32.0    oz   1.37  02/27/23  walmart   \n",
       "33             Spaghetti, dry       1.0    oz   0.09  02/27/23  walmart   \n",
       "\n",
       "        FDC     Note  \n",
       "0   1105073           \n",
       "1   1750341           \n",
       "2    746771           \n",
       "3   2346411           \n",
       "4   2346410           \n",
       "5   2346413           \n",
       "6    167762           \n",
       "7    174284           \n",
       "8    173788           \n",
       "9    172428    green  \n",
       "10   173800           \n",
       "11   168874  organic  \n",
       "12   174289           \n",
       "13   175238           \n",
       "14  1999634           \n",
       "15   539572           \n",
       "16  1103116           \n",
       "17  2346400           \n",
       "18   790646  organic  \n",
       "19  2346405           \n",
       "20  2060240           \n",
       "21  1103193    whole  \n",
       "22  2346406           \n",
       "23   815990           \n",
       "24   169247           \n",
       "25  1999629           \n",
       "26  1999632           \n",
       "27   168931           \n",
       "28   167535           \n",
       "29  2346396           \n",
       "30  1999630           \n",
       "31  2262072  organic  \n",
       "32   169706    Fresh  \n",
       "33   168927           "
      ]
     },
     "execution_count": 140,
     "metadata": {},
     "output_type": "execute_result"
    }
   ],
   "source": [
    "import pandas as pd\n",
    "from eep153_tools.sheets import read_sheets\n",
    "\n",
    "walmartdf = read_sheets('https://docs.google.com/spreadsheets/d/1dZW1_vvjZwcAfxfHiAkjqrLEpFbFsZ4s7_MzTG6Ezu0/edit#gid=0',sheet='Walmart')\n",
    "walmartdf"
   ]
  },
  {
   "cell_type": "markdown",
   "metadata": {},
   "source": [
    "## Whole Foods Price List\n"
   ]
  },
  {
   "cell_type": "code",
   "execution_count": 141,
   "metadata": {},
   "outputs": [
    {
     "name": "stdout",
     "output_type": "stream",
     "text": [
      "Key available for students@eep153.iam.gserviceaccount.com.\n"
     ]
    },
    {
     "data": {
      "text/html": [
       "<div>\n",
       "<style scoped>\n",
       "    .dataframe tbody tr th:only-of-type {\n",
       "        vertical-align: middle;\n",
       "    }\n",
       "\n",
       "    .dataframe tbody tr th {\n",
       "        vertical-align: top;\n",
       "    }\n",
       "\n",
       "    .dataframe thead th {\n",
       "        text-align: right;\n",
       "    }\n",
       "</style>\n",
       "<table border=\"1\" class=\"dataframe\">\n",
       "  <thead>\n",
       "    <tr style=\"text-align: right;\">\n",
       "      <th></th>\n",
       "      <th>Food</th>\n",
       "      <th>FDC</th>\n",
       "      <th>Quantity</th>\n",
       "      <th>Units</th>\n",
       "      <th>Price</th>\n",
       "      <th>Date</th>\n",
       "      <th>Location</th>\n",
       "      <th>Notes</th>\n",
       "    </tr>\n",
       "  </thead>\n",
       "  <tbody>\n",
       "    <tr>\n",
       "      <th>0</th>\n",
       "      <td>Banana,raw</td>\n",
       "      <td>1105314</td>\n",
       "      <td>1.0</td>\n",
       "      <td>lbs</td>\n",
       "      <td>0.99</td>\n",
       "      <td>2/27/23</td>\n",
       "      <td>Whole Foods</td>\n",
       "      <td></td>\n",
       "    </tr>\n",
       "    <tr>\n",
       "      <th>1</th>\n",
       "      <td>Apple, Gala</td>\n",
       "      <td>1750341</td>\n",
       "      <td>3.0</td>\n",
       "      <td>lbs</td>\n",
       "      <td>6.49</td>\n",
       "      <td>2/27/23</td>\n",
       "      <td>Whole Foods</td>\n",
       "      <td></td>\n",
       "    </tr>\n",
       "    <tr>\n",
       "      <th>2</th>\n",
       "      <td>Oranges, Navel</td>\n",
       "      <td>746771</td>\n",
       "      <td>1.0</td>\n",
       "      <td>lbs</td>\n",
       "      <td>2.39</td>\n",
       "      <td>2/27/23</td>\n",
       "      <td>Whole Foods</td>\n",
       "      <td></td>\n",
       "    </tr>\n",
       "    <tr>\n",
       "      <th>3</th>\n",
       "      <td>Blueberries</td>\n",
       "      <td>2346411</td>\n",
       "      <td>11.0</td>\n",
       "      <td>oz</td>\n",
       "      <td>6.99</td>\n",
       "      <td>2/27/23</td>\n",
       "      <td>Whole Foods</td>\n",
       "      <td></td>\n",
       "    </tr>\n",
       "    <tr>\n",
       "      <th>4</th>\n",
       "      <td>Raspberries</td>\n",
       "      <td>2346410</td>\n",
       "      <td>12.0</td>\n",
       "      <td>oz</td>\n",
       "      <td>8.69</td>\n",
       "      <td>2/27/23</td>\n",
       "      <td>Whole Foods</td>\n",
       "      <td>Only organic</td>\n",
       "    </tr>\n",
       "    <tr>\n",
       "      <th>5</th>\n",
       "      <td>Grapes, green, seedless</td>\n",
       "      <td>2346413</td>\n",
       "      <td>3.0</td>\n",
       "      <td>lbs</td>\n",
       "      <td>7.49</td>\n",
       "      <td>2/27/23</td>\n",
       "      <td>Whole Foods</td>\n",
       "      <td></td>\n",
       "    </tr>\n",
       "    <tr>\n",
       "      <th>6</th>\n",
       "      <td>Strawberries</td>\n",
       "      <td>167762</td>\n",
       "      <td>1.0</td>\n",
       "      <td>lbs</td>\n",
       "      <td>4.49</td>\n",
       "      <td>2/27/23</td>\n",
       "      <td>Whole Foods</td>\n",
       "      <td></td>\n",
       "    </tr>\n",
       "    <tr>\n",
       "      <th>7</th>\n",
       "      <td>Lentils, red</td>\n",
       "      <td>174284</td>\n",
       "      <td>1.0</td>\n",
       "      <td>lbs</td>\n",
       "      <td>2.99</td>\n",
       "      <td>2/27/23</td>\n",
       "      <td>Whole Foods</td>\n",
       "      <td></td>\n",
       "    </tr>\n",
       "    <tr>\n",
       "      <th>8</th>\n",
       "      <td>Tofu</td>\n",
       "      <td>173788</td>\n",
       "      <td>14.0</td>\n",
       "      <td>oz</td>\n",
       "      <td>2.99</td>\n",
       "      <td>2/27/23</td>\n",
       "      <td>Whole Foods</td>\n",
       "      <td></td>\n",
       "    </tr>\n",
       "    <tr>\n",
       "      <th>9</th>\n",
       "      <td>Split peas, dry</td>\n",
       "      <td>172428</td>\n",
       "      <td>1.0</td>\n",
       "      <td>lbs</td>\n",
       "      <td>2.99</td>\n",
       "      <td>2/27/23</td>\n",
       "      <td>Whole Foods</td>\n",
       "      <td></td>\n",
       "    </tr>\n",
       "    <tr>\n",
       "      <th>10</th>\n",
       "      <td>Chickpeas, canned</td>\n",
       "      <td>173800</td>\n",
       "      <td>15.5</td>\n",
       "      <td>oz</td>\n",
       "      <td>1.99</td>\n",
       "      <td>2/27/23</td>\n",
       "      <td>Whole Foods</td>\n",
       "      <td></td>\n",
       "    </tr>\n",
       "    <tr>\n",
       "      <th>11</th>\n",
       "      <td>Quinoa, dry</td>\n",
       "      <td>168874</td>\n",
       "      <td>1.0</td>\n",
       "      <td>lbs</td>\n",
       "      <td>4.79</td>\n",
       "      <td>2/27/23</td>\n",
       "      <td>Whole Foods</td>\n",
       "      <td>Only organic</td>\n",
       "    </tr>\n",
       "    <tr>\n",
       "      <th>12</th>\n",
       "      <td>Hummus</td>\n",
       "      <td>174289</td>\n",
       "      <td>1.0</td>\n",
       "      <td>lbs</td>\n",
       "      <td>5.29</td>\n",
       "      <td>2/27/23</td>\n",
       "      <td>Whole Foods</td>\n",
       "      <td></td>\n",
       "    </tr>\n",
       "    <tr>\n",
       "      <th>13</th>\n",
       "      <td>Black beans, canned</td>\n",
       "      <td>175238</td>\n",
       "      <td>15.0</td>\n",
       "      <td>oz</td>\n",
       "      <td>1.99</td>\n",
       "      <td>2/27/23</td>\n",
       "      <td>Whole Foods</td>\n",
       "      <td></td>\n",
       "    </tr>\n",
       "    <tr>\n",
       "      <th>14</th>\n",
       "      <td>Tomato, Roma</td>\n",
       "      <td>1999634</td>\n",
       "      <td>1.0</td>\n",
       "      <td>lbs</td>\n",
       "      <td>3.19</td>\n",
       "      <td>2/27/23</td>\n",
       "      <td>Whole Foods</td>\n",
       "      <td></td>\n",
       "    </tr>\n",
       "    <tr>\n",
       "      <th>15</th>\n",
       "      <td>Broccoli</td>\n",
       "      <td>539572</td>\n",
       "      <td>1.0</td>\n",
       "      <td>lbs</td>\n",
       "      <td>2.99</td>\n",
       "      <td>2/27/23</td>\n",
       "      <td>Whole Foods</td>\n",
       "      <td></td>\n",
       "    </tr>\n",
       "    <tr>\n",
       "      <th>16</th>\n",
       "      <td>Kale</td>\n",
       "      <td>1103116</td>\n",
       "      <td>1.0</td>\n",
       "      <td>lbs</td>\n",
       "      <td>4.99</td>\n",
       "      <td>2/27/23</td>\n",
       "      <td>Whole Foods</td>\n",
       "      <td></td>\n",
       "    </tr>\n",
       "    <tr>\n",
       "      <th>17</th>\n",
       "      <td>Green beans, raw</td>\n",
       "      <td>2346400</td>\n",
       "      <td>1.0</td>\n",
       "      <td>lbs</td>\n",
       "      <td>2.99</td>\n",
       "      <td>2/27/23</td>\n",
       "      <td>Whole Foods</td>\n",
       "      <td></td>\n",
       "    </tr>\n",
       "    <tr>\n",
       "      <th>18</th>\n",
       "      <td>Onions, yellow</td>\n",
       "      <td>790646</td>\n",
       "      <td>1.0</td>\n",
       "      <td>lbs</td>\n",
       "      <td>1.99</td>\n",
       "      <td>2/27/23</td>\n",
       "      <td>Whole Foods</td>\n",
       "      <td></td>\n",
       "    </tr>\n",
       "    <tr>\n",
       "      <th>19</th>\n",
       "      <td>Celery</td>\n",
       "      <td>2346405</td>\n",
       "      <td>1.0</td>\n",
       "      <td>lbs</td>\n",
       "      <td>2.69</td>\n",
       "      <td>2/27/23</td>\n",
       "      <td>Whole Foods</td>\n",
       "      <td></td>\n",
       "    </tr>\n",
       "    <tr>\n",
       "      <th>20</th>\n",
       "      <td>Potato, Russet</td>\n",
       "      <td>2060240</td>\n",
       "      <td>1.0</td>\n",
       "      <td>lbs</td>\n",
       "      <td>1.69</td>\n",
       "      <td>2/27/23</td>\n",
       "      <td>Whole Foods</td>\n",
       "      <td></td>\n",
       "    </tr>\n",
       "    <tr>\n",
       "      <th>21</th>\n",
       "      <td>Carrot</td>\n",
       "      <td>170393</td>\n",
       "      <td>1.0</td>\n",
       "      <td>lbs</td>\n",
       "      <td>1.49</td>\n",
       "      <td>2/27/23</td>\n",
       "      <td>Whole Foods</td>\n",
       "      <td>Oragnic</td>\n",
       "    </tr>\n",
       "    <tr>\n",
       "      <th>22</th>\n",
       "      <td>Cucumber</td>\n",
       "      <td>2346406</td>\n",
       "      <td>14.0</td>\n",
       "      <td>oz</td>\n",
       "      <td>1.79</td>\n",
       "      <td>2/27/23</td>\n",
       "      <td>Whole Foods</td>\n",
       "      <td></td>\n",
       "    </tr>\n",
       "    <tr>\n",
       "      <th>23</th>\n",
       "      <td>Avocado</td>\n",
       "      <td>171705</td>\n",
       "      <td>8.0</td>\n",
       "      <td>oz</td>\n",
       "      <td>1.99</td>\n",
       "      <td>2/27/23</td>\n",
       "      <td>Whole Foods</td>\n",
       "      <td></td>\n",
       "    </tr>\n",
       "    <tr>\n",
       "      <th>24</th>\n",
       "      <td>Lettuce, Romaine</td>\n",
       "      <td>169247</td>\n",
       "      <td>22.0</td>\n",
       "      <td>oz</td>\n",
       "      <td>2.99</td>\n",
       "      <td>2/27/23</td>\n",
       "      <td>Whole Foods</td>\n",
       "      <td></td>\n",
       "    </tr>\n",
       "    <tr>\n",
       "      <th>25</th>\n",
       "      <td>Mushrooms</td>\n",
       "      <td>1999629</td>\n",
       "      <td>8.0</td>\n",
       "      <td>oz</td>\n",
       "      <td>3.49</td>\n",
       "      <td>2/27/23</td>\n",
       "      <td>Whole Foods</td>\n",
       "      <td></td>\n",
       "    </tr>\n",
       "    <tr>\n",
       "      <th>26</th>\n",
       "      <td>Spinach</td>\n",
       "      <td>1999632</td>\n",
       "      <td>5.0</td>\n",
       "      <td>oz</td>\n",
       "      <td>3.99</td>\n",
       "      <td>2/27/23</td>\n",
       "      <td>Whole Foods</td>\n",
       "      <td></td>\n",
       "    </tr>\n",
       "    <tr>\n",
       "      <th>27</th>\n",
       "      <td>Rice, White</td>\n",
       "      <td>168931</td>\n",
       "      <td>2.0</td>\n",
       "      <td>lbs</td>\n",
       "      <td>5.29</td>\n",
       "      <td>2/27/23</td>\n",
       "      <td>Whole Foods</td>\n",
       "      <td></td>\n",
       "    </tr>\n",
       "    <tr>\n",
       "      <th>28</th>\n",
       "      <td>Tortillas, corn</td>\n",
       "      <td>167535</td>\n",
       "      <td>8.0</td>\n",
       "      <td>oz</td>\n",
       "      <td>1.99</td>\n",
       "      <td>2/27/23</td>\n",
       "      <td>Whole Foods</td>\n",
       "      <td></td>\n",
       "    </tr>\n",
       "    <tr>\n",
       "      <th>29</th>\n",
       "      <td>Oats, rolled</td>\n",
       "      <td>2346396</td>\n",
       "      <td>42.0</td>\n",
       "      <td>oz</td>\n",
       "      <td>5.99</td>\n",
       "      <td>2/27/23</td>\n",
       "      <td>Whole Foods</td>\n",
       "      <td></td>\n",
       "    </tr>\n",
       "    <tr>\n",
       "      <th>30</th>\n",
       "      <td>Soy milk, unsweetened</td>\n",
       "      <td>1999630</td>\n",
       "      <td>32.0</td>\n",
       "      <td>oz</td>\n",
       "      <td>5.39</td>\n",
       "      <td>2/27/23</td>\n",
       "      <td>Whole Foods</td>\n",
       "      <td>Organic</td>\n",
       "    </tr>\n",
       "    <tr>\n",
       "      <th>31</th>\n",
       "      <td>Peanut butter, creamy</td>\n",
       "      <td>2262072</td>\n",
       "      <td>36.0</td>\n",
       "      <td>oz</td>\n",
       "      <td>6.79</td>\n",
       "      <td>2/27/23</td>\n",
       "      <td>Whole Foods</td>\n",
       "      <td></td>\n",
       "    </tr>\n",
       "    <tr>\n",
       "      <th>32</th>\n",
       "      <td>Rice, Brown</td>\n",
       "      <td>169706</td>\n",
       "      <td>80.0</td>\n",
       "      <td>oz</td>\n",
       "      <td>5.99</td>\n",
       "      <td>2/27/23</td>\n",
       "      <td>Whole Foods</td>\n",
       "      <td></td>\n",
       "    </tr>\n",
       "    <tr>\n",
       "      <th>33</th>\n",
       "      <td>Spaghetti, dry</td>\n",
       "      <td>168927</td>\n",
       "      <td>16.0</td>\n",
       "      <td>oz</td>\n",
       "      <td>1.59</td>\n",
       "      <td>2/27/23</td>\n",
       "      <td>Whole Foods</td>\n",
       "      <td></td>\n",
       "    </tr>\n",
       "  </tbody>\n",
       "</table>\n",
       "</div>"
      ],
      "text/plain": [
       "                       Food      FDC  Quantity Units  Price     Date  \\\n",
       "0                Banana,raw  1105314       1.0   lbs   0.99  2/27/23   \n",
       "1               Apple, Gala  1750341       3.0   lbs   6.49  2/27/23   \n",
       "2            Oranges, Navel   746771       1.0   lbs   2.39  2/27/23   \n",
       "3               Blueberries  2346411      11.0    oz   6.99  2/27/23   \n",
       "4               Raspberries  2346410      12.0    oz   8.69  2/27/23   \n",
       "5   Grapes, green, seedless  2346413       3.0   lbs   7.49  2/27/23   \n",
       "6              Strawberries   167762       1.0   lbs   4.49  2/27/23   \n",
       "7              Lentils, red   174284       1.0   lbs   2.99  2/27/23   \n",
       "8                      Tofu   173788      14.0    oz   2.99  2/27/23   \n",
       "9           Split peas, dry   172428       1.0   lbs   2.99  2/27/23   \n",
       "10        Chickpeas, canned   173800      15.5    oz   1.99  2/27/23   \n",
       "11              Quinoa, dry   168874       1.0   lbs   4.79  2/27/23   \n",
       "12                   Hummus   174289       1.0   lbs   5.29  2/27/23   \n",
       "13      Black beans, canned   175238      15.0    oz   1.99  2/27/23   \n",
       "14             Tomato, Roma  1999634       1.0   lbs   3.19  2/27/23   \n",
       "15                 Broccoli   539572       1.0   lbs   2.99  2/27/23   \n",
       "16                     Kale  1103116       1.0   lbs   4.99  2/27/23   \n",
       "17         Green beans, raw  2346400       1.0   lbs   2.99  2/27/23   \n",
       "18           Onions, yellow   790646       1.0   lbs   1.99  2/27/23   \n",
       "19                   Celery  2346405       1.0   lbs   2.69  2/27/23   \n",
       "20           Potato, Russet  2060240       1.0   lbs   1.69  2/27/23   \n",
       "21                   Carrot   170393       1.0   lbs   1.49  2/27/23   \n",
       "22                 Cucumber  2346406      14.0    oz   1.79  2/27/23   \n",
       "23                  Avocado   171705       8.0    oz   1.99  2/27/23   \n",
       "24         Lettuce, Romaine   169247      22.0    oz   2.99  2/27/23   \n",
       "25                Mushrooms  1999629       8.0    oz   3.49  2/27/23   \n",
       "26                  Spinach  1999632       5.0    oz   3.99  2/27/23   \n",
       "27              Rice, White   168931       2.0   lbs   5.29  2/27/23   \n",
       "28          Tortillas, corn   167535       8.0    oz   1.99  2/27/23   \n",
       "29             Oats, rolled  2346396      42.0    oz   5.99  2/27/23   \n",
       "30    Soy milk, unsweetened  1999630      32.0    oz   5.39  2/27/23   \n",
       "31    Peanut butter, creamy  2262072      36.0    oz   6.79  2/27/23   \n",
       "32              Rice, Brown   169706      80.0    oz   5.99  2/27/23   \n",
       "33           Spaghetti, dry   168927      16.0    oz   1.59  2/27/23   \n",
       "\n",
       "       Location         Notes  \n",
       "0   Whole Foods                \n",
       "1   Whole Foods                \n",
       "2   Whole Foods                \n",
       "3   Whole Foods                \n",
       "4   Whole Foods  Only organic  \n",
       "5   Whole Foods                \n",
       "6   Whole Foods                \n",
       "7   Whole Foods                \n",
       "8   Whole Foods                \n",
       "9   Whole Foods                \n",
       "10  Whole Foods                \n",
       "11  Whole Foods  Only organic  \n",
       "12  Whole Foods                \n",
       "13  Whole Foods                \n",
       "14  Whole Foods                \n",
       "15  Whole Foods                \n",
       "16  Whole Foods                \n",
       "17  Whole Foods                \n",
       "18  Whole Foods                \n",
       "19  Whole Foods                \n",
       "20  Whole Foods                \n",
       "21  Whole Foods       Oragnic  \n",
       "22  Whole Foods                \n",
       "23  Whole Foods                \n",
       "24  Whole Foods                \n",
       "25  Whole Foods                \n",
       "26  Whole Foods                \n",
       "27  Whole Foods                \n",
       "28  Whole Foods                \n",
       "29  Whole Foods                \n",
       "30  Whole Foods       Organic  \n",
       "31  Whole Foods                \n",
       "32  Whole Foods                \n",
       "33  Whole Foods                "
      ]
     },
     "execution_count": 141,
     "metadata": {},
     "output_type": "execute_result"
    }
   ],
   "source": [
    "import pandas as pd\n",
    "from eep153_tools.sheets import read_sheets\n",
    "\n",
    "wholefoodsdf = read_sheets('https://docs.google.com/spreadsheets/d/1dZW1_vvjZwcAfxfHiAkjqrLEpFbFsZ4s7_MzTG6Ezu0/edit#gid=0',sheet='Whole Foods')\n",
    "wholefoodsdf"
   ]
  },
  {
   "cell_type": "markdown",
   "metadata": {},
   "source": [
    "## FoodMaxx Price List\n"
   ]
  },
  {
   "cell_type": "code",
   "execution_count": 142,
   "metadata": {},
   "outputs": [
    {
     "name": "stdout",
     "output_type": "stream",
     "text": [
      "Key available for students@eep153.iam.gserviceaccount.com.\n"
     ]
    },
    {
     "data": {
      "text/html": [
       "<div>\n",
       "<style scoped>\n",
       "    .dataframe tbody tr th:only-of-type {\n",
       "        vertical-align: middle;\n",
       "    }\n",
       "\n",
       "    .dataframe tbody tr th {\n",
       "        vertical-align: top;\n",
       "    }\n",
       "\n",
       "    .dataframe thead th {\n",
       "        text-align: right;\n",
       "    }\n",
       "</style>\n",
       "<table border=\"1\" class=\"dataframe\">\n",
       "  <thead>\n",
       "    <tr style=\"text-align: right;\">\n",
       "      <th></th>\n",
       "      <th>Food</th>\n",
       "      <th>Quantity</th>\n",
       "      <th>Units</th>\n",
       "      <th>Price</th>\n",
       "      <th>Date</th>\n",
       "      <th>Location</th>\n",
       "      <th>FDC</th>\n",
       "    </tr>\n",
       "  </thead>\n",
       "  <tbody>\n",
       "    <tr>\n",
       "      <th>0</th>\n",
       "      <td>Banana,raw</td>\n",
       "      <td>1</td>\n",
       "      <td>lbs</td>\n",
       "      <td>0.69</td>\n",
       "      <td>02/27/23</td>\n",
       "      <td>FoodMaxx</td>\n",
       "      <td>1105073</td>\n",
       "    </tr>\n",
       "    <tr>\n",
       "      <th>1</th>\n",
       "      <td>Apple, Gala</td>\n",
       "      <td>1</td>\n",
       "      <td>lbs</td>\n",
       "      <td>0.99</td>\n",
       "      <td>02/27/23</td>\n",
       "      <td>FoodMaxx</td>\n",
       "      <td>1750341</td>\n",
       "    </tr>\n",
       "    <tr>\n",
       "      <th>2</th>\n",
       "      <td>Oranges, Navel</td>\n",
       "      <td>1</td>\n",
       "      <td>lbs</td>\n",
       "      <td>0.99</td>\n",
       "      <td>02/27/23</td>\n",
       "      <td>FoodMaxx</td>\n",
       "      <td>746771</td>\n",
       "    </tr>\n",
       "    <tr>\n",
       "      <th>3</th>\n",
       "      <td>Blueberries</td>\n",
       "      <td>6</td>\n",
       "      <td>oz</td>\n",
       "      <td>3.49</td>\n",
       "      <td>02/27/23</td>\n",
       "      <td>FoodMaxx</td>\n",
       "      <td>2346411</td>\n",
       "    </tr>\n",
       "    <tr>\n",
       "      <th>4</th>\n",
       "      <td>Raspberries</td>\n",
       "      <td>1</td>\n",
       "      <td>lbs</td>\n",
       "      <td>4.99</td>\n",
       "      <td>02/27/23</td>\n",
       "      <td>FoodMaxx</td>\n",
       "      <td>2346410</td>\n",
       "    </tr>\n",
       "    <tr>\n",
       "      <th>5</th>\n",
       "      <td>Grapes, green, seedless</td>\n",
       "      <td>1</td>\n",
       "      <td>lbs</td>\n",
       "      <td>2.99</td>\n",
       "      <td>02/27/23</td>\n",
       "      <td>FoodMaxx</td>\n",
       "      <td>2346413</td>\n",
       "    </tr>\n",
       "    <tr>\n",
       "      <th>6</th>\n",
       "      <td>Strawberries</td>\n",
       "      <td>1</td>\n",
       "      <td>lbs</td>\n",
       "      <td>6.99</td>\n",
       "      <td>02/27/23</td>\n",
       "      <td>FoodMaxx</td>\n",
       "      <td>167762</td>\n",
       "    </tr>\n",
       "    <tr>\n",
       "      <th>7</th>\n",
       "      <td>Lentils, red</td>\n",
       "      <td>1</td>\n",
       "      <td>lbs</td>\n",
       "      <td>1.99</td>\n",
       "      <td>02/27/23</td>\n",
       "      <td>FoodMaxx</td>\n",
       "      <td>174284</td>\n",
       "    </tr>\n",
       "    <tr>\n",
       "      <th>8</th>\n",
       "      <td>Tofu</td>\n",
       "      <td>14</td>\n",
       "      <td>oz</td>\n",
       "      <td>2.99</td>\n",
       "      <td>02/27/23</td>\n",
       "      <td>FoodMaxx</td>\n",
       "      <td>173788</td>\n",
       "    </tr>\n",
       "    <tr>\n",
       "      <th>9</th>\n",
       "      <td>Split peas, dry</td>\n",
       "      <td>1</td>\n",
       "      <td>lbs</td>\n",
       "      <td>1.79</td>\n",
       "      <td>02/27/23</td>\n",
       "      <td>FoodMaxx</td>\n",
       "      <td>172428</td>\n",
       "    </tr>\n",
       "    <tr>\n",
       "      <th>10</th>\n",
       "      <td>Chickpeas, canned</td>\n",
       "      <td>1</td>\n",
       "      <td>lbs</td>\n",
       "      <td>0.79</td>\n",
       "      <td>02/27/23</td>\n",
       "      <td>FoodMaxx</td>\n",
       "      <td>173800</td>\n",
       "    </tr>\n",
       "    <tr>\n",
       "      <th>11</th>\n",
       "      <td>Quinoa, dry</td>\n",
       "      <td>1</td>\n",
       "      <td>lbs</td>\n",
       "      <td>4.99</td>\n",
       "      <td>02/27/23</td>\n",
       "      <td>FoodMaxx</td>\n",
       "      <td>168874</td>\n",
       "    </tr>\n",
       "    <tr>\n",
       "      <th>12</th>\n",
       "      <td>Hummus</td>\n",
       "      <td>10</td>\n",
       "      <td>oz</td>\n",
       "      <td>3.99</td>\n",
       "      <td>02/27/23</td>\n",
       "      <td>FoodMaxx</td>\n",
       "      <td>174289</td>\n",
       "    </tr>\n",
       "    <tr>\n",
       "      <th>13</th>\n",
       "      <td>Black beans, canned</td>\n",
       "      <td>15</td>\n",
       "      <td>oz</td>\n",
       "      <td>1.19</td>\n",
       "      <td>02/27/23</td>\n",
       "      <td>FoodMaxx</td>\n",
       "      <td>175238</td>\n",
       "    </tr>\n",
       "    <tr>\n",
       "      <th>14</th>\n",
       "      <td>Tomato, Roma</td>\n",
       "      <td>1</td>\n",
       "      <td>lbs</td>\n",
       "      <td>1.39</td>\n",
       "      <td>02/27/23</td>\n",
       "      <td>FoodMaxx</td>\n",
       "      <td>1999634</td>\n",
       "    </tr>\n",
       "    <tr>\n",
       "      <th>15</th>\n",
       "      <td>Broccoli</td>\n",
       "      <td>1</td>\n",
       "      <td>lbs</td>\n",
       "      <td>1.89</td>\n",
       "      <td>02/27/23</td>\n",
       "      <td>FoodMaxx</td>\n",
       "      <td>539572</td>\n",
       "    </tr>\n",
       "    <tr>\n",
       "      <th>16</th>\n",
       "      <td>Kale</td>\n",
       "      <td>8</td>\n",
       "      <td>oz</td>\n",
       "      <td>1.29</td>\n",
       "      <td>02/27/23</td>\n",
       "      <td>FoodMaxx</td>\n",
       "      <td>1103116</td>\n",
       "    </tr>\n",
       "    <tr>\n",
       "      <th>17</th>\n",
       "      <td>Green beans, raw</td>\n",
       "      <td>12</td>\n",
       "      <td>oz</td>\n",
       "      <td>3.29</td>\n",
       "      <td>02/27/23</td>\n",
       "      <td>FoodMaxx</td>\n",
       "      <td>2346400</td>\n",
       "    </tr>\n",
       "    <tr>\n",
       "      <th>18</th>\n",
       "      <td>Onions, yellow</td>\n",
       "      <td>5</td>\n",
       "      <td>lbs</td>\n",
       "      <td>4.69</td>\n",
       "      <td>02/27/23</td>\n",
       "      <td>FoodMaxx</td>\n",
       "      <td>790646</td>\n",
       "    </tr>\n",
       "    <tr>\n",
       "      <th>19</th>\n",
       "      <td>Celery</td>\n",
       "      <td>1</td>\n",
       "      <td>lbs</td>\n",
       "      <td>1.29</td>\n",
       "      <td>02/27/23</td>\n",
       "      <td>FoodMaxx</td>\n",
       "      <td>2346405</td>\n",
       "    </tr>\n",
       "    <tr>\n",
       "      <th>20</th>\n",
       "      <td>Potato, Russet</td>\n",
       "      <td>1</td>\n",
       "      <td>lbs</td>\n",
       "      <td>1.89</td>\n",
       "      <td>02/27/23</td>\n",
       "      <td>FoodMaxx</td>\n",
       "      <td>2060240</td>\n",
       "    </tr>\n",
       "    <tr>\n",
       "      <th>21</th>\n",
       "      <td>Carrot</td>\n",
       "      <td>1</td>\n",
       "      <td>lbs</td>\n",
       "      <td>0.69</td>\n",
       "      <td>02/27/23</td>\n",
       "      <td>FoodMaxx</td>\n",
       "      <td>1103193</td>\n",
       "    </tr>\n",
       "    <tr>\n",
       "      <th>22</th>\n",
       "      <td>Cucumber</td>\n",
       "      <td>8</td>\n",
       "      <td>oz</td>\n",
       "      <td>0.79</td>\n",
       "      <td>02/27/23</td>\n",
       "      <td>FoodMaxx</td>\n",
       "      <td>2346406</td>\n",
       "    </tr>\n",
       "    <tr>\n",
       "      <th>23</th>\n",
       "      <td>Avocado</td>\n",
       "      <td>5</td>\n",
       "      <td>oz</td>\n",
       "      <td>0.50</td>\n",
       "      <td>02/27/23</td>\n",
       "      <td>FoodMaxx</td>\n",
       "      <td>815990</td>\n",
       "    </tr>\n",
       "    <tr>\n",
       "      <th>24</th>\n",
       "      <td>Lettuce, Romaine</td>\n",
       "      <td>1</td>\n",
       "      <td>lbs</td>\n",
       "      <td>3.49</td>\n",
       "      <td>02/27/23</td>\n",
       "      <td>FoodMaxx</td>\n",
       "      <td>169247</td>\n",
       "    </tr>\n",
       "    <tr>\n",
       "      <th>25</th>\n",
       "      <td>Mushrooms</td>\n",
       "      <td>8</td>\n",
       "      <td>oz</td>\n",
       "      <td>2.99</td>\n",
       "      <td>02/27/23</td>\n",
       "      <td>FoodMaxx</td>\n",
       "      <td>1999629</td>\n",
       "    </tr>\n",
       "    <tr>\n",
       "      <th>26</th>\n",
       "      <td>Spinach</td>\n",
       "      <td>8</td>\n",
       "      <td>oz</td>\n",
       "      <td>2.49</td>\n",
       "      <td>02/27/23</td>\n",
       "      <td>FoodMaxx</td>\n",
       "      <td>1999632</td>\n",
       "    </tr>\n",
       "    <tr>\n",
       "      <th>27</th>\n",
       "      <td>Rice, White</td>\n",
       "      <td>2</td>\n",
       "      <td>lbs</td>\n",
       "      <td>4.59</td>\n",
       "      <td>02/27/23</td>\n",
       "      <td>FoodMaxx</td>\n",
       "      <td>168931</td>\n",
       "    </tr>\n",
       "    <tr>\n",
       "      <th>28</th>\n",
       "      <td>Tortillas, corn</td>\n",
       "      <td>30</td>\n",
       "      <td>oz</td>\n",
       "      <td>2.79</td>\n",
       "      <td>02/27/23</td>\n",
       "      <td>FoodMaxx</td>\n",
       "      <td>167535</td>\n",
       "    </tr>\n",
       "    <tr>\n",
       "      <th>29</th>\n",
       "      <td>Oats, rolled</td>\n",
       "      <td>42</td>\n",
       "      <td>oz</td>\n",
       "      <td>3.99</td>\n",
       "      <td>02/27/23</td>\n",
       "      <td>FoodMaxx</td>\n",
       "      <td>2346396</td>\n",
       "    </tr>\n",
       "    <tr>\n",
       "      <th>30</th>\n",
       "      <td>Soy milk, unsweetened</td>\n",
       "      <td>32</td>\n",
       "      <td>oz</td>\n",
       "      <td>2.69</td>\n",
       "      <td>02/27/23</td>\n",
       "      <td>FoodMaxx</td>\n",
       "      <td>1999630</td>\n",
       "    </tr>\n",
       "    <tr>\n",
       "      <th>31</th>\n",
       "      <td>Peanut butter, creamy</td>\n",
       "      <td>16</td>\n",
       "      <td>oz</td>\n",
       "      <td>2.79</td>\n",
       "      <td>02/27/23</td>\n",
       "      <td>FoodMaxx</td>\n",
       "      <td>2262072</td>\n",
       "    </tr>\n",
       "    <tr>\n",
       "      <th>32</th>\n",
       "      <td>Rice, Brown</td>\n",
       "      <td>28</td>\n",
       "      <td>oz</td>\n",
       "      <td>2.99</td>\n",
       "      <td>02/27/23</td>\n",
       "      <td>FoodMaxx</td>\n",
       "      <td>169706</td>\n",
       "    </tr>\n",
       "    <tr>\n",
       "      <th>33</th>\n",
       "      <td>Spaghetti, dry</td>\n",
       "      <td>1</td>\n",
       "      <td>lbs</td>\n",
       "      <td>1.69</td>\n",
       "      <td>02/27/23</td>\n",
       "      <td>FoodMaxx</td>\n",
       "      <td>168927</td>\n",
       "    </tr>\n",
       "  </tbody>\n",
       "</table>\n",
       "</div>"
      ],
      "text/plain": [
       "                       Food  Quantity Units  Price      Date  Location  \\\n",
       "0                Banana,raw         1   lbs   0.69  02/27/23  FoodMaxx   \n",
       "1               Apple, Gala         1   lbs   0.99  02/27/23  FoodMaxx   \n",
       "2            Oranges, Navel         1   lbs   0.99  02/27/23  FoodMaxx   \n",
       "3               Blueberries         6    oz   3.49  02/27/23  FoodMaxx   \n",
       "4               Raspberries         1   lbs   4.99  02/27/23  FoodMaxx   \n",
       "5   Grapes, green, seedless         1   lbs   2.99  02/27/23  FoodMaxx   \n",
       "6              Strawberries         1   lbs   6.99  02/27/23  FoodMaxx   \n",
       "7              Lentils, red         1   lbs   1.99  02/27/23  FoodMaxx   \n",
       "8                      Tofu        14    oz   2.99  02/27/23  FoodMaxx   \n",
       "9           Split peas, dry         1   lbs   1.79  02/27/23  FoodMaxx   \n",
       "10        Chickpeas, canned         1   lbs   0.79  02/27/23  FoodMaxx   \n",
       "11              Quinoa, dry         1   lbs   4.99  02/27/23  FoodMaxx   \n",
       "12                   Hummus        10    oz   3.99  02/27/23  FoodMaxx   \n",
       "13      Black beans, canned        15    oz   1.19  02/27/23  FoodMaxx   \n",
       "14             Tomato, Roma         1   lbs   1.39  02/27/23  FoodMaxx   \n",
       "15                 Broccoli         1   lbs   1.89  02/27/23  FoodMaxx   \n",
       "16                     Kale         8    oz   1.29  02/27/23  FoodMaxx   \n",
       "17         Green beans, raw        12    oz   3.29  02/27/23  FoodMaxx   \n",
       "18           Onions, yellow         5   lbs   4.69  02/27/23  FoodMaxx   \n",
       "19                   Celery         1   lbs   1.29  02/27/23  FoodMaxx   \n",
       "20           Potato, Russet         1   lbs   1.89  02/27/23  FoodMaxx   \n",
       "21                   Carrot         1   lbs   0.69  02/27/23  FoodMaxx   \n",
       "22                 Cucumber         8    oz   0.79  02/27/23  FoodMaxx   \n",
       "23                  Avocado         5    oz   0.50  02/27/23  FoodMaxx   \n",
       "24         Lettuce, Romaine         1   lbs   3.49  02/27/23  FoodMaxx   \n",
       "25                Mushrooms         8    oz   2.99  02/27/23  FoodMaxx   \n",
       "26                  Spinach         8    oz   2.49  02/27/23  FoodMaxx   \n",
       "27              Rice, White         2   lbs   4.59  02/27/23  FoodMaxx   \n",
       "28          Tortillas, corn        30    oz   2.79  02/27/23  FoodMaxx   \n",
       "29             Oats, rolled        42    oz   3.99  02/27/23  FoodMaxx   \n",
       "30    Soy milk, unsweetened        32    oz   2.69  02/27/23  FoodMaxx   \n",
       "31    Peanut butter, creamy        16    oz   2.79  02/27/23  FoodMaxx   \n",
       "32              Rice, Brown        28    oz   2.99  02/27/23  FoodMaxx   \n",
       "33           Spaghetti, dry         1   lbs   1.69  02/27/23  FoodMaxx   \n",
       "\n",
       "        FDC  \n",
       "0   1105073  \n",
       "1   1750341  \n",
       "2    746771  \n",
       "3   2346411  \n",
       "4   2346410  \n",
       "5   2346413  \n",
       "6    167762  \n",
       "7    174284  \n",
       "8    173788  \n",
       "9    172428  \n",
       "10   173800  \n",
       "11   168874  \n",
       "12   174289  \n",
       "13   175238  \n",
       "14  1999634  \n",
       "15   539572  \n",
       "16  1103116  \n",
       "17  2346400  \n",
       "18   790646  \n",
       "19  2346405  \n",
       "20  2060240  \n",
       "21  1103193  \n",
       "22  2346406  \n",
       "23   815990  \n",
       "24   169247  \n",
       "25  1999629  \n",
       "26  1999632  \n",
       "27   168931  \n",
       "28   167535  \n",
       "29  2346396  \n",
       "30  1999630  \n",
       "31  2262072  \n",
       "32   169706  \n",
       "33   168927  "
      ]
     },
     "execution_count": 142,
     "metadata": {},
     "output_type": "execute_result"
    }
   ],
   "source": [
    "import pandas as pd\n",
    "from eep153_tools.sheets import read_sheets\n",
    "\n",
    "foodmaxxdf = read_sheets('https://docs.google.com/spreadsheets/d/1dZW1_vvjZwcAfxfHiAkjqrLEpFbFsZ4s7_MzTG6Ezu0/edit#gid=0',sheet='Food Max')\n",
    "foodmaxxdf"
   ]
  },
  {
   "cell_type": "markdown",
   "metadata": {},
   "source": [
    "## Target Price List\n"
   ]
  },
  {
   "cell_type": "code",
   "execution_count": 143,
   "metadata": {},
   "outputs": [
    {
     "name": "stdout",
     "output_type": "stream",
     "text": [
      "Key available for students@eep153.iam.gserviceaccount.com.\n"
     ]
    },
    {
     "data": {
      "text/html": [
       "<div>\n",
       "<style scoped>\n",
       "    .dataframe tbody tr th:only-of-type {\n",
       "        vertical-align: middle;\n",
       "    }\n",
       "\n",
       "    .dataframe tbody tr th {\n",
       "        vertical-align: top;\n",
       "    }\n",
       "\n",
       "    .dataframe thead th {\n",
       "        text-align: right;\n",
       "    }\n",
       "</style>\n",
       "<table border=\"1\" class=\"dataframe\">\n",
       "  <thead>\n",
       "    <tr style=\"text-align: right;\">\n",
       "      <th></th>\n",
       "      <th>Food</th>\n",
       "      <th>Quantity</th>\n",
       "      <th>Units</th>\n",
       "      <th>Price</th>\n",
       "      <th>Date</th>\n",
       "      <th>Location</th>\n",
       "      <th>FDC</th>\n",
       "      <th>notes</th>\n",
       "    </tr>\n",
       "  </thead>\n",
       "  <tbody>\n",
       "    <tr>\n",
       "      <th>0</th>\n",
       "      <td>Banana,raw</td>\n",
       "      <td>2.00</td>\n",
       "      <td>lbs</td>\n",
       "      <td>1.99</td>\n",
       "      <td>02/27/23</td>\n",
       "      <td>Target</td>\n",
       "      <td>1105314</td>\n",
       "      <td>organic</td>\n",
       "    </tr>\n",
       "    <tr>\n",
       "      <th>1</th>\n",
       "      <td>Apple, Gala</td>\n",
       "      <td>0.66</td>\n",
       "      <td>lbs</td>\n",
       "      <td>5.99</td>\n",
       "      <td>02/27/23</td>\n",
       "      <td>Target</td>\n",
       "      <td>1750341</td>\n",
       "      <td>organic</td>\n",
       "    </tr>\n",
       "    <tr>\n",
       "      <th>2</th>\n",
       "      <td>Oranges, Navel</td>\n",
       "      <td>4.00</td>\n",
       "      <td>lbs</td>\n",
       "      <td>5.99</td>\n",
       "      <td>02/27/23</td>\n",
       "      <td>Target</td>\n",
       "      <td>746771</td>\n",
       "      <td></td>\n",
       "    </tr>\n",
       "    <tr>\n",
       "      <th>3</th>\n",
       "      <td>Blueberries</td>\n",
       "      <td>11.20</td>\n",
       "      <td>oz</td>\n",
       "      <td>3.59</td>\n",
       "      <td>02/27/23</td>\n",
       "      <td>Target</td>\n",
       "      <td>2346411</td>\n",
       "      <td></td>\n",
       "    </tr>\n",
       "    <tr>\n",
       "      <th>4</th>\n",
       "      <td>Raspberries</td>\n",
       "      <td>12.00</td>\n",
       "      <td>oz</td>\n",
       "      <td>8.29</td>\n",
       "      <td>02/27/23</td>\n",
       "      <td>Target</td>\n",
       "      <td>2346410</td>\n",
       "      <td></td>\n",
       "    </tr>\n",
       "    <tr>\n",
       "      <th>5</th>\n",
       "      <td>Grapes, green, seedless</td>\n",
       "      <td>1.50</td>\n",
       "      <td>lb</td>\n",
       "      <td>4.29</td>\n",
       "      <td>02/27/23</td>\n",
       "      <td>Target</td>\n",
       "      <td>2346413</td>\n",
       "      <td></td>\n",
       "    </tr>\n",
       "    <tr>\n",
       "      <th>6</th>\n",
       "      <td>Strawberries</td>\n",
       "      <td>1.00</td>\n",
       "      <td>lb</td>\n",
       "      <td>3.49</td>\n",
       "      <td>02/27/23</td>\n",
       "      <td>Target</td>\n",
       "      <td>167762</td>\n",
       "      <td></td>\n",
       "    </tr>\n",
       "    <tr>\n",
       "      <th>7</th>\n",
       "      <td>Lentils, red</td>\n",
       "      <td>1.00</td>\n",
       "      <td>lb</td>\n",
       "      <td>1.59</td>\n",
       "      <td>02/27/23</td>\n",
       "      <td>Target</td>\n",
       "      <td>174284</td>\n",
       "      <td>green</td>\n",
       "    </tr>\n",
       "    <tr>\n",
       "      <th>8</th>\n",
       "      <td>Tofu</td>\n",
       "      <td>14.00</td>\n",
       "      <td>oz</td>\n",
       "      <td>3.29</td>\n",
       "      <td>02/27/23</td>\n",
       "      <td>Target</td>\n",
       "      <td>173788</td>\n",
       "      <td></td>\n",
       "    </tr>\n",
       "    <tr>\n",
       "      <th>9</th>\n",
       "      <td>Split peas, dry</td>\n",
       "      <td>1.00</td>\n",
       "      <td>lb</td>\n",
       "      <td>1.39</td>\n",
       "      <td>02/27/23</td>\n",
       "      <td>Target</td>\n",
       "      <td>172428</td>\n",
       "      <td></td>\n",
       "    </tr>\n",
       "    <tr>\n",
       "      <th>10</th>\n",
       "      <td>Chickpeas, canned</td>\n",
       "      <td>15.50</td>\n",
       "      <td>oz</td>\n",
       "      <td>0.85</td>\n",
       "      <td>02/27/23</td>\n",
       "      <td>Target</td>\n",
       "      <td>173800</td>\n",
       "      <td></td>\n",
       "    </tr>\n",
       "    <tr>\n",
       "      <th>11</th>\n",
       "      <td>Quinoa, dry</td>\n",
       "      <td>48.00</td>\n",
       "      <td>oz</td>\n",
       "      <td>9.69</td>\n",
       "      <td>02/27/23</td>\n",
       "      <td>Target</td>\n",
       "      <td>168874</td>\n",
       "      <td>organic</td>\n",
       "    </tr>\n",
       "    <tr>\n",
       "      <th>12</th>\n",
       "      <td>Hummus</td>\n",
       "      <td>10.00</td>\n",
       "      <td>oz</td>\n",
       "      <td>3.49</td>\n",
       "      <td>02/27/23</td>\n",
       "      <td>Target</td>\n",
       "      <td>174289</td>\n",
       "      <td></td>\n",
       "    </tr>\n",
       "    <tr>\n",
       "      <th>13</th>\n",
       "      <td>Black beans, canned</td>\n",
       "      <td>15.50</td>\n",
       "      <td>oz</td>\n",
       "      <td>0.85</td>\n",
       "      <td>02/27/23</td>\n",
       "      <td>Target</td>\n",
       "      <td>175238</td>\n",
       "      <td></td>\n",
       "    </tr>\n",
       "    <tr>\n",
       "      <th>14</th>\n",
       "      <td>Tomato, Roma</td>\n",
       "      <td>16.00</td>\n",
       "      <td>oz</td>\n",
       "      <td>1.99</td>\n",
       "      <td>02/27/23</td>\n",
       "      <td>Target</td>\n",
       "      <td>1999634</td>\n",
       "      <td></td>\n",
       "    </tr>\n",
       "    <tr>\n",
       "      <th>15</th>\n",
       "      <td>Broccoli</td>\n",
       "      <td>12.00</td>\n",
       "      <td>oz</td>\n",
       "      <td>2.99</td>\n",
       "      <td>02/27/23</td>\n",
       "      <td>Target</td>\n",
       "      <td>539572</td>\n",
       "      <td></td>\n",
       "    </tr>\n",
       "    <tr>\n",
       "      <th>16</th>\n",
       "      <td>Kale</td>\n",
       "      <td>16.00</td>\n",
       "      <td>oz</td>\n",
       "      <td>3.49</td>\n",
       "      <td>02/27/23</td>\n",
       "      <td>Target</td>\n",
       "      <td>1103116</td>\n",
       "      <td></td>\n",
       "    </tr>\n",
       "    <tr>\n",
       "      <th>17</th>\n",
       "      <td>Green beans, raw</td>\n",
       "      <td>12.00</td>\n",
       "      <td>oz</td>\n",
       "      <td>2.99</td>\n",
       "      <td>02/27/23</td>\n",
       "      <td>Target</td>\n",
       "      <td>2346400</td>\n",
       "      <td></td>\n",
       "    </tr>\n",
       "    <tr>\n",
       "      <th>18</th>\n",
       "      <td>Onions, yellow</td>\n",
       "      <td>2.00</td>\n",
       "      <td>lb</td>\n",
       "      <td>3.49</td>\n",
       "      <td>02/27/23</td>\n",
       "      <td>Target</td>\n",
       "      <td>790646</td>\n",
       "      <td></td>\n",
       "    </tr>\n",
       "    <tr>\n",
       "      <th>19</th>\n",
       "      <td>Celery</td>\n",
       "      <td>20.00</td>\n",
       "      <td>oz</td>\n",
       "      <td>3.19</td>\n",
       "      <td>02/27/23</td>\n",
       "      <td>Target</td>\n",
       "      <td>2346405</td>\n",
       "      <td></td>\n",
       "    </tr>\n",
       "    <tr>\n",
       "      <th>20</th>\n",
       "      <td>Potato, Russet</td>\n",
       "      <td>5.00</td>\n",
       "      <td>lb</td>\n",
       "      <td>4.39</td>\n",
       "      <td>02/27/23</td>\n",
       "      <td>Target</td>\n",
       "      <td>2060240</td>\n",
       "      <td></td>\n",
       "    </tr>\n",
       "    <tr>\n",
       "      <th>21</th>\n",
       "      <td>Carrot</td>\n",
       "      <td>1.00</td>\n",
       "      <td>lb</td>\n",
       "      <td>1.29</td>\n",
       "      <td>02/27/23</td>\n",
       "      <td>Target</td>\n",
       "      <td>170393</td>\n",
       "      <td></td>\n",
       "    </tr>\n",
       "    <tr>\n",
       "      <th>22</th>\n",
       "      <td>Cucumber</td>\n",
       "      <td>16.00</td>\n",
       "      <td>oz</td>\n",
       "      <td>2.69</td>\n",
       "      <td>02/27/23</td>\n",
       "      <td>Target</td>\n",
       "      <td>2346406</td>\n",
       "      <td></td>\n",
       "    </tr>\n",
       "    <tr>\n",
       "      <th>23</th>\n",
       "      <td>Avocado</td>\n",
       "      <td>32.00</td>\n",
       "      <td>oz</td>\n",
       "      <td>3.29</td>\n",
       "      <td>02/27/23</td>\n",
       "      <td>Target</td>\n",
       "      <td>171705</td>\n",
       "      <td></td>\n",
       "    </tr>\n",
       "    <tr>\n",
       "      <th>24</th>\n",
       "      <td>Lettuce, Romaine</td>\n",
       "      <td>22.00</td>\n",
       "      <td>oz</td>\n",
       "      <td>4.29</td>\n",
       "      <td>02/27/23</td>\n",
       "      <td>Target</td>\n",
       "      <td>169247</td>\n",
       "      <td></td>\n",
       "    </tr>\n",
       "    <tr>\n",
       "      <th>25</th>\n",
       "      <td>Mushrooms</td>\n",
       "      <td>8.00</td>\n",
       "      <td>oz</td>\n",
       "      <td>2.19</td>\n",
       "      <td>02/27/23</td>\n",
       "      <td>Target</td>\n",
       "      <td>1999629</td>\n",
       "      <td></td>\n",
       "    </tr>\n",
       "    <tr>\n",
       "      <th>26</th>\n",
       "      <td>Spinach</td>\n",
       "      <td>9.00</td>\n",
       "      <td>oz</td>\n",
       "      <td>2.29</td>\n",
       "      <td>02/27/23</td>\n",
       "      <td>Target</td>\n",
       "      <td>1999632</td>\n",
       "      <td></td>\n",
       "    </tr>\n",
       "    <tr>\n",
       "      <th>27</th>\n",
       "      <td>Rice, White</td>\n",
       "      <td>32.00</td>\n",
       "      <td>oz</td>\n",
       "      <td>2.19</td>\n",
       "      <td>02/27/23</td>\n",
       "      <td>Target</td>\n",
       "      <td>168931</td>\n",
       "      <td></td>\n",
       "    </tr>\n",
       "    <tr>\n",
       "      <th>28</th>\n",
       "      <td>Tortillas, corn</td>\n",
       "      <td>25.00</td>\n",
       "      <td>oz</td>\n",
       "      <td>2.99</td>\n",
       "      <td>02/27/23</td>\n",
       "      <td>Target</td>\n",
       "      <td>167535</td>\n",
       "      <td></td>\n",
       "    </tr>\n",
       "    <tr>\n",
       "      <th>29</th>\n",
       "      <td>Oats, rolled</td>\n",
       "      <td>42.00</td>\n",
       "      <td>oz</td>\n",
       "      <td>4.19</td>\n",
       "      <td>02/27/23</td>\n",
       "      <td>Target</td>\n",
       "      <td>2346396</td>\n",
       "      <td></td>\n",
       "    </tr>\n",
       "    <tr>\n",
       "      <th>30</th>\n",
       "      <td>Soy milk, unsweetened</td>\n",
       "      <td>64.00</td>\n",
       "      <td>oz</td>\n",
       "      <td>3.99</td>\n",
       "      <td>02/27/23</td>\n",
       "      <td>Target</td>\n",
       "      <td>1999630</td>\n",
       "      <td></td>\n",
       "    </tr>\n",
       "    <tr>\n",
       "      <th>31</th>\n",
       "      <td>Peanut butter, creamy</td>\n",
       "      <td>16.00</td>\n",
       "      <td>oz</td>\n",
       "      <td>1.79</td>\n",
       "      <td>02/27/23</td>\n",
       "      <td>Target</td>\n",
       "      <td>2262072</td>\n",
       "      <td></td>\n",
       "    </tr>\n",
       "    <tr>\n",
       "      <th>32</th>\n",
       "      <td>Rice, Brown</td>\n",
       "      <td>1.00</td>\n",
       "      <td>lb</td>\n",
       "      <td>1.19</td>\n",
       "      <td>02/27/23</td>\n",
       "      <td>Target</td>\n",
       "      <td>169706</td>\n",
       "      <td></td>\n",
       "    </tr>\n",
       "    <tr>\n",
       "      <th>33</th>\n",
       "      <td>Spaghetti, dry</td>\n",
       "      <td>16.00</td>\n",
       "      <td>oz</td>\n",
       "      <td>0.99</td>\n",
       "      <td>02/27/23</td>\n",
       "      <td>Target</td>\n",
       "      <td>168927</td>\n",
       "      <td></td>\n",
       "    </tr>\n",
       "  </tbody>\n",
       "</table>\n",
       "</div>"
      ],
      "text/plain": [
       "                       Food  Quantity Units  Price      Date Location  \\\n",
       "0                Banana,raw      2.00   lbs   1.99  02/27/23   Target   \n",
       "1               Apple, Gala      0.66   lbs   5.99  02/27/23   Target   \n",
       "2            Oranges, Navel      4.00   lbs   5.99  02/27/23   Target   \n",
       "3               Blueberries     11.20    oz   3.59  02/27/23   Target   \n",
       "4               Raspberries     12.00    oz   8.29  02/27/23   Target   \n",
       "5   Grapes, green, seedless      1.50    lb   4.29  02/27/23   Target   \n",
       "6              Strawberries      1.00    lb   3.49  02/27/23   Target   \n",
       "7              Lentils, red      1.00    lb   1.59  02/27/23   Target   \n",
       "8                      Tofu     14.00    oz   3.29  02/27/23   Target   \n",
       "9           Split peas, dry      1.00    lb   1.39  02/27/23   Target   \n",
       "10        Chickpeas, canned     15.50    oz   0.85  02/27/23   Target   \n",
       "11              Quinoa, dry     48.00    oz   9.69  02/27/23   Target   \n",
       "12                   Hummus     10.00    oz   3.49  02/27/23   Target   \n",
       "13      Black beans, canned     15.50    oz   0.85  02/27/23   Target   \n",
       "14             Tomato, Roma     16.00    oz   1.99  02/27/23   Target   \n",
       "15                 Broccoli     12.00    oz   2.99  02/27/23   Target   \n",
       "16                     Kale     16.00    oz   3.49  02/27/23   Target   \n",
       "17         Green beans, raw     12.00    oz   2.99  02/27/23   Target   \n",
       "18           Onions, yellow      2.00    lb   3.49  02/27/23   Target   \n",
       "19                   Celery     20.00    oz   3.19  02/27/23   Target   \n",
       "20           Potato, Russet      5.00    lb   4.39  02/27/23   Target   \n",
       "21                   Carrot      1.00    lb   1.29  02/27/23   Target   \n",
       "22                 Cucumber     16.00    oz   2.69  02/27/23   Target   \n",
       "23                  Avocado     32.00    oz   3.29  02/27/23   Target   \n",
       "24         Lettuce, Romaine     22.00    oz   4.29  02/27/23   Target   \n",
       "25                Mushrooms      8.00    oz   2.19  02/27/23   Target   \n",
       "26                  Spinach      9.00    oz   2.29  02/27/23   Target   \n",
       "27              Rice, White     32.00    oz   2.19  02/27/23   Target   \n",
       "28          Tortillas, corn     25.00    oz   2.99  02/27/23   Target   \n",
       "29             Oats, rolled     42.00    oz   4.19  02/27/23   Target   \n",
       "30    Soy milk, unsweetened     64.00    oz   3.99  02/27/23   Target   \n",
       "31    Peanut butter, creamy     16.00    oz   1.79  02/27/23   Target   \n",
       "32              Rice, Brown      1.00    lb   1.19  02/27/23   Target   \n",
       "33           Spaghetti, dry     16.00    oz   0.99  02/27/23   Target   \n",
       "\n",
       "        FDC    notes  \n",
       "0   1105314  organic  \n",
       "1   1750341  organic  \n",
       "2    746771           \n",
       "3   2346411           \n",
       "4   2346410           \n",
       "5   2346413           \n",
       "6    167762           \n",
       "7    174284    green  \n",
       "8    173788           \n",
       "9    172428           \n",
       "10   173800           \n",
       "11   168874  organic  \n",
       "12   174289           \n",
       "13   175238           \n",
       "14  1999634           \n",
       "15   539572           \n",
       "16  1103116           \n",
       "17  2346400           \n",
       "18   790646           \n",
       "19  2346405           \n",
       "20  2060240           \n",
       "21   170393           \n",
       "22  2346406           \n",
       "23   171705           \n",
       "24   169247           \n",
       "25  1999629           \n",
       "26  1999632           \n",
       "27   168931           \n",
       "28   167535           \n",
       "29  2346396           \n",
       "30  1999630           \n",
       "31  2262072           \n",
       "32   169706           \n",
       "33   168927           "
      ]
     },
     "execution_count": 143,
     "metadata": {},
     "output_type": "execute_result"
    }
   ],
   "source": [
    "import pandas as pd\n",
    "from eep153_tools.sheets import read_sheets\n",
    "\n",
    "targetdf = read_sheets('https://docs.google.com/spreadsheets/d/1dZW1_vvjZwcAfxfHiAkjqrLEpFbFsZ4s7_MzTG6Ezu0/edit#gid=0',sheet='Target')\n",
    "targetdf"
   ]
  },
  {
   "cell_type": "markdown",
   "metadata": {},
   "source": [
    "### Look up nutritional information for foods\n",
    "\n"
   ]
  },
  {
   "cell_type": "markdown",
   "metadata": {},
   "source": [
    "Now we have a list of foods with prices.  Do lookups on USDA database\n",
    "to get nutritional information.\n",
    "\n"
   ]
  },
  {
   "cell_type": "code",
   "execution_count": 145,
   "metadata": {},
   "outputs": [
    {
     "data": {
      "text/html": [
       "<div>\n",
       "<style scoped>\n",
       "    .dataframe tbody tr th:only-of-type {\n",
       "        vertical-align: middle;\n",
       "    }\n",
       "\n",
       "    .dataframe tbody tr th {\n",
       "        vertical-align: top;\n",
       "    }\n",
       "\n",
       "    .dataframe thead th {\n",
       "        text-align: right;\n",
       "    }\n",
       "</style>\n",
       "<table border=\"1\" class=\"dataframe\">\n",
       "  <thead>\n",
       "    <tr style=\"text-align: right;\">\n",
       "      <th></th>\n",
       "      <th>Banana,raw</th>\n",
       "      <th>Apple, Gala</th>\n",
       "      <th>Oranges, Navel</th>\n",
       "      <th>Blueberries</th>\n",
       "      <th>Raspberries</th>\n",
       "      <th>Grapes, green, seedless</th>\n",
       "      <th>Strawberries</th>\n",
       "      <th>Lentils, red</th>\n",
       "      <th>Tofu</th>\n",
       "      <th>Split peas, dry</th>\n",
       "      <th>...</th>\n",
       "      <th>Lettuce, Romaine</th>\n",
       "      <th>Mushrooms</th>\n",
       "      <th>Spinach</th>\n",
       "      <th>Rice, White</th>\n",
       "      <th>Tortillas, corn</th>\n",
       "      <th>Oats, rolled</th>\n",
       "      <th>Soy milk, unsweetened</th>\n",
       "      <th>Peanut butter, creamy</th>\n",
       "      <th>Rice, Brown</th>\n",
       "      <th>Spaghetti, dry</th>\n",
       "    </tr>\n",
       "  </thead>\n",
       "  <tbody>\n",
       "    <tr>\n",
       "      <th>Ergosta-5,7-dienol</th>\n",
       "      <td>0.0</td>\n",
       "      <td>0.0</td>\n",
       "      <td>0.000</td>\n",
       "      <td>0.0</td>\n",
       "      <td>0.0</td>\n",
       "      <td>0.0</td>\n",
       "      <td>0.000</td>\n",
       "      <td>0.000</td>\n",
       "      <td>0.0</td>\n",
       "      <td>0.000</td>\n",
       "      <td>...</td>\n",
       "      <td>0.000</td>\n",
       "      <td>5.841</td>\n",
       "      <td>0.0</td>\n",
       "      <td>0.000</td>\n",
       "      <td>0.000</td>\n",
       "      <td>0.0</td>\n",
       "      <td>0.0000</td>\n",
       "      <td>0.00</td>\n",
       "      <td>0.000</td>\n",
       "      <td>0.000</td>\n",
       "    </tr>\n",
       "    <tr>\n",
       "      <th>Ergosta-7,22-dienol</th>\n",
       "      <td>0.0</td>\n",
       "      <td>0.0</td>\n",
       "      <td>0.000</td>\n",
       "      <td>0.0</td>\n",
       "      <td>0.0</td>\n",
       "      <td>0.0</td>\n",
       "      <td>0.000</td>\n",
       "      <td>0.000</td>\n",
       "      <td>0.0</td>\n",
       "      <td>0.000</td>\n",
       "      <td>...</td>\n",
       "      <td>0.000</td>\n",
       "      <td>1.543</td>\n",
       "      <td>0.0</td>\n",
       "      <td>0.000</td>\n",
       "      <td>0.000</td>\n",
       "      <td>0.0</td>\n",
       "      <td>0.0000</td>\n",
       "      <td>0.00</td>\n",
       "      <td>0.000</td>\n",
       "      <td>0.000</td>\n",
       "    </tr>\n",
       "    <tr>\n",
       "      <th>Alanine</th>\n",
       "      <td>0.0</td>\n",
       "      <td>0.0</td>\n",
       "      <td>0.028</td>\n",
       "      <td>0.0</td>\n",
       "      <td>0.0</td>\n",
       "      <td>0.0</td>\n",
       "      <td>0.033</td>\n",
       "      <td>1.042</td>\n",
       "      <td>0.0</td>\n",
       "      <td>1.049</td>\n",
       "      <td>...</td>\n",
       "      <td>0.056</td>\n",
       "      <td>0.000</td>\n",
       "      <td>0.0</td>\n",
       "      <td>0.377</td>\n",
       "      <td>0.215</td>\n",
       "      <td>0.0</td>\n",
       "      <td>0.1394</td>\n",
       "      <td>1.16</td>\n",
       "      <td>0.437</td>\n",
       "      <td>0.438</td>\n",
       "    </tr>\n",
       "    <tr>\n",
       "      <th>Alcohol, ethyl</th>\n",
       "      <td>0.0</td>\n",
       "      <td>0.0</td>\n",
       "      <td>0.000</td>\n",
       "      <td>0.0</td>\n",
       "      <td>0.0</td>\n",
       "      <td>0.0</td>\n",
       "      <td>0.000</td>\n",
       "      <td>0.000</td>\n",
       "      <td>0.0</td>\n",
       "      <td>0.000</td>\n",
       "      <td>...</td>\n",
       "      <td>0.000</td>\n",
       "      <td>0.000</td>\n",
       "      <td>0.0</td>\n",
       "      <td>0.000</td>\n",
       "      <td>0.000</td>\n",
       "      <td>0.0</td>\n",
       "      <td>0.0000</td>\n",
       "      <td>0.00</td>\n",
       "      <td>0.000</td>\n",
       "      <td>0.000</td>\n",
       "    </tr>\n",
       "    <tr>\n",
       "      <th>Amino acids</th>\n",
       "      <td>0.0</td>\n",
       "      <td>0.0</td>\n",
       "      <td>0.000</td>\n",
       "      <td>0.0</td>\n",
       "      <td>0.0</td>\n",
       "      <td>0.0</td>\n",
       "      <td>0.000</td>\n",
       "      <td>0.000</td>\n",
       "      <td>0.0</td>\n",
       "      <td>0.000</td>\n",
       "      <td>...</td>\n",
       "      <td>0.000</td>\n",
       "      <td>0.000</td>\n",
       "      <td>0.0</td>\n",
       "      <td>0.000</td>\n",
       "      <td>0.000</td>\n",
       "      <td>0.0</td>\n",
       "      <td>0.0000</td>\n",
       "      <td>0.00</td>\n",
       "      <td>0.000</td>\n",
       "      <td>0.000</td>\n",
       "    </tr>\n",
       "    <tr>\n",
       "      <th>...</th>\n",
       "      <td>...</td>\n",
       "      <td>...</td>\n",
       "      <td>...</td>\n",
       "      <td>...</td>\n",
       "      <td>...</td>\n",
       "      <td>...</td>\n",
       "      <td>...</td>\n",
       "      <td>...</td>\n",
       "      <td>...</td>\n",
       "      <td>...</td>\n",
       "      <td>...</td>\n",
       "      <td>...</td>\n",
       "      <td>...</td>\n",
       "      <td>...</td>\n",
       "      <td>...</td>\n",
       "      <td>...</td>\n",
       "      <td>...</td>\n",
       "      <td>...</td>\n",
       "      <td>...</td>\n",
       "      <td>...</td>\n",
       "      <td>...</td>\n",
       "    </tr>\n",
       "    <tr>\n",
       "      <th>cis-Lutein/Zeaxanthin</th>\n",
       "      <td>0.0</td>\n",
       "      <td>0.0</td>\n",
       "      <td>0.000</td>\n",
       "      <td>0.0</td>\n",
       "      <td>0.0</td>\n",
       "      <td>0.0</td>\n",
       "      <td>0.000</td>\n",
       "      <td>0.000</td>\n",
       "      <td>0.0</td>\n",
       "      <td>0.000</td>\n",
       "      <td>...</td>\n",
       "      <td>0.000</td>\n",
       "      <td>0.000</td>\n",
       "      <td>0.0</td>\n",
       "      <td>0.000</td>\n",
       "      <td>0.000</td>\n",
       "      <td>0.0</td>\n",
       "      <td>0.9655</td>\n",
       "      <td>0.00</td>\n",
       "      <td>0.000</td>\n",
       "      <td>0.000</td>\n",
       "    </tr>\n",
       "    <tr>\n",
       "      <th>cis-Lycopene</th>\n",
       "      <td>0.0</td>\n",
       "      <td>0.0</td>\n",
       "      <td>0.000</td>\n",
       "      <td>0.0</td>\n",
       "      <td>0.0</td>\n",
       "      <td>0.0</td>\n",
       "      <td>0.000</td>\n",
       "      <td>0.000</td>\n",
       "      <td>0.0</td>\n",
       "      <td>0.000</td>\n",
       "      <td>...</td>\n",
       "      <td>0.000</td>\n",
       "      <td>0.000</td>\n",
       "      <td>0.0</td>\n",
       "      <td>0.000</td>\n",
       "      <td>0.000</td>\n",
       "      <td>0.0</td>\n",
       "      <td>0.0000</td>\n",
       "      <td>0.00</td>\n",
       "      <td>0.000</td>\n",
       "      <td>0.000</td>\n",
       "    </tr>\n",
       "    <tr>\n",
       "      <th>cis-beta-Carotene</th>\n",
       "      <td>1.0</td>\n",
       "      <td>0.0</td>\n",
       "      <td>0.000</td>\n",
       "      <td>0.0</td>\n",
       "      <td>0.0</td>\n",
       "      <td>0.0</td>\n",
       "      <td>0.000</td>\n",
       "      <td>0.000</td>\n",
       "      <td>0.0</td>\n",
       "      <td>0.000</td>\n",
       "      <td>...</td>\n",
       "      <td>0.000</td>\n",
       "      <td>0.000</td>\n",
       "      <td>0.0</td>\n",
       "      <td>0.000</td>\n",
       "      <td>0.000</td>\n",
       "      <td>0.0</td>\n",
       "      <td>0.0000</td>\n",
       "      <td>0.00</td>\n",
       "      <td>0.000</td>\n",
       "      <td>0.000</td>\n",
       "    </tr>\n",
       "    <tr>\n",
       "      <th>trans-Lycopene</th>\n",
       "      <td>0.0</td>\n",
       "      <td>0.0</td>\n",
       "      <td>0.000</td>\n",
       "      <td>0.0</td>\n",
       "      <td>0.0</td>\n",
       "      <td>0.0</td>\n",
       "      <td>0.000</td>\n",
       "      <td>0.000</td>\n",
       "      <td>0.0</td>\n",
       "      <td>0.000</td>\n",
       "      <td>...</td>\n",
       "      <td>0.000</td>\n",
       "      <td>0.000</td>\n",
       "      <td>0.0</td>\n",
       "      <td>0.000</td>\n",
       "      <td>0.000</td>\n",
       "      <td>0.0</td>\n",
       "      <td>0.0000</td>\n",
       "      <td>0.00</td>\n",
       "      <td>0.000</td>\n",
       "      <td>0.000</td>\n",
       "    </tr>\n",
       "    <tr>\n",
       "      <th>trans-beta-Carotene</th>\n",
       "      <td>7.0</td>\n",
       "      <td>0.0</td>\n",
       "      <td>0.000</td>\n",
       "      <td>0.0</td>\n",
       "      <td>0.0</td>\n",
       "      <td>0.0</td>\n",
       "      <td>0.000</td>\n",
       "      <td>0.000</td>\n",
       "      <td>0.0</td>\n",
       "      <td>0.000</td>\n",
       "      <td>...</td>\n",
       "      <td>0.000</td>\n",
       "      <td>0.000</td>\n",
       "      <td>0.0</td>\n",
       "      <td>0.000</td>\n",
       "      <td>0.000</td>\n",
       "      <td>0.0</td>\n",
       "      <td>0.0000</td>\n",
       "      <td>0.00</td>\n",
       "      <td>0.000</td>\n",
       "      <td>0.000</td>\n",
       "    </tr>\n",
       "  </tbody>\n",
       "</table>\n",
       "<p>227 rows × 34 columns</p>\n",
       "</div>"
      ],
      "text/plain": [
       "                        Banana,raw  Apple, Gala  Oranges, Navel  Blueberries  \\\n",
       " Ergosta-5,7-dienol            0.0          0.0           0.000          0.0   \n",
       " Ergosta-7,22-dienol           0.0          0.0           0.000          0.0   \n",
       "Alanine                        0.0          0.0           0.028          0.0   \n",
       "Alcohol, ethyl                 0.0          0.0           0.000          0.0   \n",
       "Amino acids                    0.0          0.0           0.000          0.0   \n",
       "...                            ...          ...             ...          ...   \n",
       "cis-Lutein/Zeaxanthin          0.0          0.0           0.000          0.0   \n",
       "cis-Lycopene                   0.0          0.0           0.000          0.0   \n",
       "cis-beta-Carotene              1.0          0.0           0.000          0.0   \n",
       "trans-Lycopene                 0.0          0.0           0.000          0.0   \n",
       "trans-beta-Carotene            7.0          0.0           0.000          0.0   \n",
       "\n",
       "                       Raspberries  Grapes, green, seedless  Strawberries  \\\n",
       " Ergosta-5,7-dienol            0.0                      0.0         0.000   \n",
       " Ergosta-7,22-dienol           0.0                      0.0         0.000   \n",
       "Alanine                        0.0                      0.0         0.033   \n",
       "Alcohol, ethyl                 0.0                      0.0         0.000   \n",
       "Amino acids                    0.0                      0.0         0.000   \n",
       "...                            ...                      ...           ...   \n",
       "cis-Lutein/Zeaxanthin          0.0                      0.0         0.000   \n",
       "cis-Lycopene                   0.0                      0.0         0.000   \n",
       "cis-beta-Carotene              0.0                      0.0         0.000   \n",
       "trans-Lycopene                 0.0                      0.0         0.000   \n",
       "trans-beta-Carotene            0.0                      0.0         0.000   \n",
       "\n",
       "                       Lentils, red  Tofu  Split peas, dry  ...  \\\n",
       " Ergosta-5,7-dienol           0.000   0.0            0.000  ...   \n",
       " Ergosta-7,22-dienol          0.000   0.0            0.000  ...   \n",
       "Alanine                       1.042   0.0            1.049  ...   \n",
       "Alcohol, ethyl                0.000   0.0            0.000  ...   \n",
       "Amino acids                   0.000   0.0            0.000  ...   \n",
       "...                             ...   ...              ...  ...   \n",
       "cis-Lutein/Zeaxanthin         0.000   0.0            0.000  ...   \n",
       "cis-Lycopene                  0.000   0.0            0.000  ...   \n",
       "cis-beta-Carotene             0.000   0.0            0.000  ...   \n",
       "trans-Lycopene                0.000   0.0            0.000  ...   \n",
       "trans-beta-Carotene           0.000   0.0            0.000  ...   \n",
       "\n",
       "                       Lettuce, Romaine  Mushrooms  Spinach  Rice, White  \\\n",
       " Ergosta-5,7-dienol               0.000      5.841      0.0        0.000   \n",
       " Ergosta-7,22-dienol              0.000      1.543      0.0        0.000   \n",
       "Alanine                           0.056      0.000      0.0        0.377   \n",
       "Alcohol, ethyl                    0.000      0.000      0.0        0.000   \n",
       "Amino acids                       0.000      0.000      0.0        0.000   \n",
       "...                                 ...        ...      ...          ...   \n",
       "cis-Lutein/Zeaxanthin             0.000      0.000      0.0        0.000   \n",
       "cis-Lycopene                      0.000      0.000      0.0        0.000   \n",
       "cis-beta-Carotene                 0.000      0.000      0.0        0.000   \n",
       "trans-Lycopene                    0.000      0.000      0.0        0.000   \n",
       "trans-beta-Carotene               0.000      0.000      0.0        0.000   \n",
       "\n",
       "                       Tortillas, corn  Oats, rolled  Soy milk, unsweetened  \\\n",
       " Ergosta-5,7-dienol              0.000           0.0                 0.0000   \n",
       " Ergosta-7,22-dienol             0.000           0.0                 0.0000   \n",
       "Alanine                          0.215           0.0                 0.1394   \n",
       "Alcohol, ethyl                   0.000           0.0                 0.0000   \n",
       "Amino acids                      0.000           0.0                 0.0000   \n",
       "...                                ...           ...                    ...   \n",
       "cis-Lutein/Zeaxanthin            0.000           0.0                 0.9655   \n",
       "cis-Lycopene                     0.000           0.0                 0.0000   \n",
       "cis-beta-Carotene                0.000           0.0                 0.0000   \n",
       "trans-Lycopene                   0.000           0.0                 0.0000   \n",
       "trans-beta-Carotene              0.000           0.0                 0.0000   \n",
       "\n",
       "                       Peanut butter, creamy  Rice, Brown  Spaghetti, dry  \n",
       " Ergosta-5,7-dienol                     0.00        0.000           0.000  \n",
       " Ergosta-7,22-dienol                    0.00        0.000           0.000  \n",
       "Alanine                                 1.16        0.437           0.438  \n",
       "Alcohol, ethyl                          0.00        0.000           0.000  \n",
       "Amino acids                             0.00        0.000           0.000  \n",
       "...                                      ...          ...             ...  \n",
       "cis-Lutein/Zeaxanthin                   0.00        0.000           0.000  \n",
       "cis-Lycopene                            0.00        0.000           0.000  \n",
       "cis-beta-Carotene                       0.00        0.000           0.000  \n",
       "trans-Lycopene                          0.00        0.000           0.000  \n",
       "trans-beta-Carotene                     0.00        0.000           0.000  \n",
       "\n",
       "[227 rows x 34 columns]"
      ]
     },
     "execution_count": 145,
     "metadata": {},
     "output_type": "execute_result"
    }
   ],
   "source": [
    "import fooddatacentral as fdc\n",
    "import warnings\n",
    "\n",
    "D = {}\n",
    "count = 0\n",
    "for food in  df.Food.tolist():\n",
    "    try:\n",
    "        FDC = df.loc[df.Food==food,:].FDC[count]\n",
    "        count+=1\n",
    "        D[food] = fdc.nutrients(apikey,FDC).Quantity\n",
    "    except AttributeError: \n",
    "        warnings.warn(\"Couldn't find FDC Code %s for food %s.\" % (food,FDC))        \n",
    "\n",
    "FoodNutrients = pd.DataFrame(D,dtype=float)\n",
    "FoodNutrients = FoodNutrients.fillna(0)\n",
    "FoodNutrients"
   ]
  },
  {
   "cell_type": "markdown",
   "metadata": {},
   "source": [
    "## Units & Prices\n",
    "\n"
   ]
  },
  {
   "cell_type": "markdown",
   "metadata": {},
   "source": [
    "Now, the prices we observe can be for lots of different quantities and\n",
    "units.  The FDC database basically wants everything in either hundreds\n",
    "of grams (hectograms) or hundreds of milliliters (deciliters).  \n",
    "We use the `units` function to convert all foods to either\n",
    "deciliters or hectograms, to match FDC database:\n",
    "\n"
   ]
  },
  {
   "cell_type": "code",
   "execution_count": 146,
   "metadata": {},
   "outputs": [
    {
     "name": "stderr",
     "output_type": "stream",
     "text": [
      "/opt/conda/lib/python3.9/site-packages/pandas/core/dtypes/cast.py:1990: UnitStrippedWarning:\n",
      "\n",
      "The unit of the quantity is stripped when downcasting to ndarray.\n",
      "\n"
     ]
    },
    {
     "data": {
      "text/plain": [
       "Food\n",
       " Banana,raw                0.15833333333333335 / hectogram\n",
       "Apple, Gala                 0.8618070249045213 / hectogram\n",
       "Oranges, Navel              0.2711685824873994 / hectogram\n",
       "Blueberries                 1.4398189923056004 / hectogram\n",
       "Raspberries                 2.3457184696470974 / hectogram\n",
       "Grapes, green, seedless     0.6602844752437083 / hectogram\n",
       "Strawberries                0.8796444261176615 / hectogram\n",
       "Lentils, red                0.6582605491441835 / hectogram\n",
       "Tofu                        0.4251440677081007 / hectogram\n",
       "Split peas, dry             0.7907246470364275 / hectogram\n",
       "Chickpeas, canned             0.71047757368082 / hectogram\n",
       "Quinoa, dry                 0.8796444261176615 / hectogram\n",
       "Hummus                      0.8796444261176615 / hectogram\n",
       "Black beans, canned        0.24805560338737195 / hectogram\n",
       "Tomato, Roma                 0.659182163932784 / hectogram\n",
       "Broccoli                    0.7319347104537935 / hectogram\n",
       "Kale                        1.0546914622924541 / hectogram\n",
       "Green beans, raw           0.29247993449860427 / hectogram\n",
       "Onions, yellow              0.8121214495368513 / hectogram\n",
       "Celery                      0.6150897114958084 / hectogram\n",
       "Potato, Russet                           0.395 / hectogram\n",
       "Carrot                     0.21935995087395316 / hectogram\n",
       "Cucumber                    0.5489510328403452 / hectogram\n",
       "Avocado                     0.3919329105508934 / hectogram\n",
       "Lettuce, Romaine            1.7566433050891044 / hectogram\n",
       "Mushrooms                   1.9341889135686592 / hectogram\n",
       "Spinach                     0.7319347104537935 / hectogram\n",
       "Rice, White                0.21972738797759467 / hectogram\n",
       "Tortillas, corn             0.3791950909579894 / hectogram\n",
       "Oats, rolled                0.5859397012735857 / hectogram\n",
       "Soy milk, unsweetened       0.2744755164201726 / hectogram\n",
       "Peanut butter, creamy       0.5048585804033696 / hectogram\n",
       "Rice, Brown                0.36266042129412357 / hectogram\n",
       "Spaghetti, dry             0.21825763956302877 / hectogram\n",
       "Name: FDC Price, dtype: object"
      ]
     },
     "execution_count": 146,
     "metadata": {},
     "output_type": "execute_result"
    }
   ],
   "source": [
    "# Convert food quantities to FDC units\n",
    "df['FDC Quantity'] = df[['Quantity','Units']].T.apply(lambda x : fdc.units(x['Quantity'],x['Units']))\n",
    "\n",
    "# Now may want to filter df by time or place--need to get a unique set of food names.\n",
    "df['FDC Price'] = df['Price']/df['FDC Quantity']\n",
    "\n",
    "df.dropna(how='any') # Drop food with any missing data\n",
    "\n",
    "# To use minimum price observed\n",
    "Prices = df.groupby('Food',sort=False)['FDC Price'].min()\n",
    "Prices"
   ]
  },
  {
   "cell_type": "markdown",
   "metadata": {},
   "source": [
    "## Dietary Requirements\n",
    "\n"
   ]
  },
  {
   "cell_type": "markdown",
   "metadata": {},
   "source": [
    "Next, we will create a function that takes as arguments the characteristics of a person (e.g., age, sex, activity level) and returns a pandas.Series of Dietary Reference Intakes (DRI's) or \"Recommended Daily Allowances\" (RDA) of a variety of nutrients appropriate for our population of interest.\n",
    "\n",
    "Our data for this is based\n",
    "on  US government recommendations available at\n",
    "[https://www.dietaryguidelines.gov/sites/default/files/2021-03/Dietary_Guidelines_for_Americans-2020-2025.pdf](https://www.dietaryguidelines.gov/sites/default/files/2021-03/Dietary_Guidelines_for_Americans-2020-2025.pdf)\n",
    "\n",
    "These data have been put into a google sheets that we will access using the read_sheets function defined earlier. You can access the spreadsheet here: https://docs.google.com/spreadsheets/d/1swR8k5x6GaRZd5DvfDF55oeAZZvOC4edB3ofOKov8nE/edit#gid=188168169\n",
    "\n",
    "\n",
    "Note that we&rsquo;ve tweaked the nutrient labels to match those in the FDC\n",
    "data.\n",
    "\n",
    "Also note that the last two rows refer to the maximum requirements which involve multiplying the constraint by -1 to make <=.\n"
   ]
  },
  {
   "cell_type": "code",
   "execution_count": 147,
   "metadata": {},
   "outputs": [
    {
     "name": "stdout",
     "output_type": "stream",
     "text": [
      "Key available for students@eep153.iam.gserviceaccount.com.\n"
     ]
    }
   ],
   "source": [
    "RDIs = read_sheets('https://docs.google.com/spreadsheets/d/1swR8k5x6GaRZd5DvfDF55oeAZZvOC4edB3ofOKov8nE/edit#gid=188168169')\n",
    "def recommended_diet(age, sex, activity_level):\n",
    "    if activity_level == 'high' or activity_level == 'High':\n",
    "        if sex == 'Female' or sex == 'F':\n",
    "            if age in range(1,4):\n",
    "                agerange = '1-3'\n",
    "            if age in range(4,9):\n",
    "                agerange = '4-8'\n",
    "            if age in range(9,14):\n",
    "                agerange = '9-13'\n",
    "            if age in range(14,19):\n",
    "                agerange = '14-18'\n",
    "            if age in range(19,31):\n",
    "                agerange = '19-30'\n",
    "            if age in range(31,51):\n",
    "                agerange = '31-50'\n",
    "            if age in range(51,100000000):\n",
    "                agerange = '51+'\n",
    "            group = 'F ' + agerange\n",
    "        if sex == 'Male' or sex == 'M':\n",
    "            if age in range(1,4):\n",
    "                agerange = '1-3'\n",
    "            if age in range(4,9):\n",
    "                agerange = '4-8'\n",
    "            if age in range(9,14):\n",
    "                agerange = '9-13'\n",
    "            if age in range(14,19):\n",
    "                agerange = '14-18'\n",
    "            if age in range(19,31):\n",
    "                agerange = '19-30'\n",
    "            if age in range(31,51):\n",
    "                agerange = '31-50'\n",
    "            if age in range(51,100000000):\n",
    "                agerange = '51+'\n",
    "            group = 'M ' + agerange\n",
    "        bmin = RDIs['high_activity'].set_index('Nutrition')[[group]]\n",
    "        bmax = RDIs['high_max'].set_index('Nutrition')[[group]]\n",
    "    if activity_level == 'moderate' or activity_level == 'Moderate':\n",
    "        if sex == 'Female' or sex == 'F':\n",
    "            if age in range(1,4):\n",
    "                agerange = '1-3'\n",
    "            if age in range(4,9):\n",
    "                agerange = '4-8'\n",
    "            if age in range(9,14):\n",
    "                agerange = '9-13'\n",
    "            if age in range(14,19):\n",
    "                agerange = '14-18'\n",
    "            if age in range(19,31):\n",
    "                agerange = '19-30'\n",
    "            if age in range(31,51):\n",
    "                agerange = '31-50'\n",
    "            if age in range(51,100000000):\n",
    "                agerange = '51+'\n",
    "            group = 'F ' + agerange\n",
    "        if sex == 'Male' or sex == 'M':\n",
    "            if age in range(14,19):\n",
    "                agerange = '14-18'\n",
    "            if age in range(19,31):\n",
    "                agerange = '19-30'\n",
    "            if age in range(31,51):\n",
    "                agerange = '31-50'\n",
    "            if age in range(51,100000000):\n",
    "                agerange = '51+'\n",
    "            group = 'M ' + agerange\n",
    "        bmin = RDIs['moderate_activity'].set_index('Nutrition')[[group]]\n",
    "        bmax = RDIs['moderate_max'].set_index('Nutrition')[[group]]\n",
    "    b = pd.concat([bmin,-bmax])\n",
    "    return b"
   ]
  },
  {
   "cell_type": "markdown",
   "metadata": {},
   "source": [
    "Let's find our the recommended daily allowance of nutrient intake for a Male aged 52 years old with high activity levels. "
   ]
  },
  {
   "cell_type": "code",
   "execution_count": 148,
   "metadata": {},
   "outputs": [
    {
     "data": {
      "text/html": [
       "<div>\n",
       "<style scoped>\n",
       "    .dataframe tbody tr th:only-of-type {\n",
       "        vertical-align: middle;\n",
       "    }\n",
       "\n",
       "    .dataframe tbody tr th {\n",
       "        vertical-align: top;\n",
       "    }\n",
       "\n",
       "    .dataframe thead th {\n",
       "        text-align: right;\n",
       "    }\n",
       "</style>\n",
       "<table border=\"1\" class=\"dataframe\">\n",
       "  <thead>\n",
       "    <tr style=\"text-align: right;\">\n",
       "      <th></th>\n",
       "      <th>M 31-50</th>\n",
       "    </tr>\n",
       "    <tr>\n",
       "      <th>Nutrition</th>\n",
       "      <th></th>\n",
       "    </tr>\n",
       "  </thead>\n",
       "  <tbody>\n",
       "    <tr>\n",
       "      <th>Energy</th>\n",
       "      <td>2850.0</td>\n",
       "    </tr>\n",
       "    <tr>\n",
       "      <th>Protein</th>\n",
       "      <td>56.0</td>\n",
       "    </tr>\n",
       "    <tr>\n",
       "      <th>Fiber, total dietary</th>\n",
       "      <td>30.8</td>\n",
       "    </tr>\n",
       "    <tr>\n",
       "      <th>Folate, DFE</th>\n",
       "      <td>400.0</td>\n",
       "    </tr>\n",
       "    <tr>\n",
       "      <th>Calcium, Ca</th>\n",
       "      <td>1000.0</td>\n",
       "    </tr>\n",
       "    <tr>\n",
       "      <th>Carbohydrate, by difference</th>\n",
       "      <td>130.0</td>\n",
       "    </tr>\n",
       "    <tr>\n",
       "      <th>Iron, Fe</th>\n",
       "      <td>8.0</td>\n",
       "    </tr>\n",
       "    <tr>\n",
       "      <th>Magnesium, Mg</th>\n",
       "      <td>420.0</td>\n",
       "    </tr>\n",
       "    <tr>\n",
       "      <th>Niacin</th>\n",
       "      <td>16.0</td>\n",
       "    </tr>\n",
       "    <tr>\n",
       "      <th>Phosphorus, P</th>\n",
       "      <td>700.0</td>\n",
       "    </tr>\n",
       "    <tr>\n",
       "      <th>Potassium, K</th>\n",
       "      <td>4700.0</td>\n",
       "    </tr>\n",
       "    <tr>\n",
       "      <th>Riboflavin</th>\n",
       "      <td>1.3</td>\n",
       "    </tr>\n",
       "    <tr>\n",
       "      <th>Thiamin</th>\n",
       "      <td>1.2</td>\n",
       "    </tr>\n",
       "    <tr>\n",
       "      <th>Vitamin A, RAE</th>\n",
       "      <td>900.0</td>\n",
       "    </tr>\n",
       "    <tr>\n",
       "      <th>Vitamin B-12</th>\n",
       "      <td>2.4</td>\n",
       "    </tr>\n",
       "    <tr>\n",
       "      <th>Vitamin B-6</th>\n",
       "      <td>1.3</td>\n",
       "    </tr>\n",
       "    <tr>\n",
       "      <th>Vitamin C, total ascorbic acid</th>\n",
       "      <td>90.0</td>\n",
       "    </tr>\n",
       "    <tr>\n",
       "      <th>Vitamin E (alpha-tocopherol)</th>\n",
       "      <td>15.0</td>\n",
       "    </tr>\n",
       "    <tr>\n",
       "      <th>Vitamin K (phylloquinone)</th>\n",
       "      <td>120.0</td>\n",
       "    </tr>\n",
       "    <tr>\n",
       "      <th>Zinc, Zn</th>\n",
       "      <td>11.0</td>\n",
       "    </tr>\n",
       "    <tr>\n",
       "      <th>Sodium, Na</th>\n",
       "      <td>-2300.0</td>\n",
       "    </tr>\n",
       "    <tr>\n",
       "      <th>Energy</th>\n",
       "      <td>-3500.0</td>\n",
       "    </tr>\n",
       "  </tbody>\n",
       "</table>\n",
       "</div>"
      ],
      "text/plain": [
       "                                M 31-50\n",
       "Nutrition                              \n",
       "Energy                           2850.0\n",
       "Protein                            56.0\n",
       "Fiber, total dietary               30.8\n",
       "Folate, DFE                       400.0\n",
       "Calcium, Ca                      1000.0\n",
       "Carbohydrate, by difference       130.0\n",
       "Iron, Fe                            8.0\n",
       "Magnesium, Mg                     420.0\n",
       "Niacin                             16.0\n",
       "Phosphorus, P                     700.0\n",
       "Potassium, K                     4700.0\n",
       "Riboflavin                          1.3\n",
       "Thiamin                             1.2\n",
       "Vitamin A, RAE                    900.0\n",
       "Vitamin B-12                        2.4\n",
       "Vitamin B-6                         1.3\n",
       "Vitamin C, total ascorbic acid     90.0\n",
       "Vitamin E (alpha-tocopherol)       15.0\n",
       "Vitamin K (phylloquinone)         120.0\n",
       "Zinc, Zn                           11.0\n",
       "Sodium, Na                      -2300.0\n",
       "Energy                          -3500.0"
      ]
     },
     "execution_count": 148,
     "metadata": {},
     "output_type": "execute_result"
    }
   ],
   "source": [
    "recommended = recommended_diet(50, 'M' , 'High')\n",
    "\n",
    "# Define *minimums*\n",
    "diet_min = recommended[:20]\n",
    "\n",
    "# Define *maximums*\n",
    "diet_max = recommended[20:]\n",
    "\n",
    "recommended\n"
   ]
  },
  {
   "cell_type": "markdown",
   "metadata": {},
   "source": [
    "For this code demonstration, we will use nutritional information based on high activity levels."
   ]
  },
  {
   "cell_type": "code",
   "execution_count": 149,
   "metadata": {},
   "outputs": [
    {
     "name": "stdout",
     "output_type": "stream",
     "text": [
      "Key available for students@eep153.iam.gserviceaccount.com.\n"
     ]
    }
   ],
   "source": [
    "from eep153_tools.sheets import read_sheets\n",
    "\n",
    "DRI_url = \"https://docs.google.com/spreadsheets/d/1swR8k5x6GaRZd5DvfDF55oeAZZvOC4edB3ofOKov8nE/edit#gid=188168169\"\n",
    "\n",
    "DRIs = read_sheets(DRI_url)\n",
    "\n",
    "# Define *minimums*\n",
    "diet_min = DRIs['moderate_activity'].set_index('Nutrition')\n",
    "\n",
    "# Define *maximums*\n",
    "diet_max = DRIs['moderate_max'].set_index('Nutrition')\n"
   ]
  },
  {
   "cell_type": "markdown",
   "metadata": {},
   "source": [
    "## Using `solve_subsistence_problem` to analyze diet\n",
    "\n"
   ]
  },
  {
   "cell_type": "markdown",
   "metadata": {},
   "source": [
    "Let&rsquo;s choose a particular group (type of person with particular\n",
    "dietary requirements) and solve the subsistence problem for them:\n",
    "\n"
   ]
  },
  {
   "cell_type": "code",
   "execution_count": 150,
   "metadata": {},
   "outputs": [
    {
     "name": "stdout",
     "output_type": "stream",
     "text": [
      "Cost of diet for F 19-30 is $4.69 per day.\n",
      "\n",
      "\n",
      "Diet (in 100s of grams or milliliters):\n",
      " Banana,raw              1.589644\n",
      "Oranges, Navel           0.338834\n",
      "Black beans, canned      5.381961\n",
      "Kale                     0.168344\n",
      "Carrot                   0.359735\n",
      "Avocado                  0.304517\n",
      "Tortillas, corn          0.158310\n",
      "Soy milk, unsweetened    6.105317\n",
      "Peanut butter, creamy    1.773057\n",
      "dtype: float64\n",
      "\n",
      "\n",
      "With the following nutritional outcomes of interest:\n",
      "                                    Outcome  Recommendation\n",
      "Nutrition                                                  \n",
      "Energy                          3229.221341          2100.0\n",
      "Protein                          100.833751            46.0\n",
      "Fiber, total dietary              55.844313            28.0\n",
      "Folate, DFE                      400.000002           400.0\n",
      "Calcium, Ca                     1000.000014          1000.0\n",
      "Carbohydrate, by difference      192.369320           130.0\n",
      "Iron, Fe                          18.000000            18.0\n",
      "Magnesium, Mg                    731.531214           310.0\n",
      "Niacin                            38.213151            14.0\n",
      "Phosphorus, P                   1811.717738           700.0\n",
      "Potassium, K                    4700.000010          4700.0\n",
      "Riboflavin                         1.314460             1.1\n",
      "Thiamin                            1.605426             1.1\n",
      "Vitamin A, RAE                   700.000709           700.0\n",
      "Vitamin B-12                       2.400000             2.4\n",
      "Vitamin B-6                        1.824062             1.3\n",
      "Vitamin C, total ascorbic acid    75.000001            75.0\n",
      "Vitamin E (alpha-tocopherol)      15.000000            15.0\n",
      "Vitamin K (phylloquinone)         90.000001            90.0\n",
      "Zinc, Zn                          10.967731             8.0\n",
      "Sodium, Na                      1499.705430          2300.0\n",
      "Energy                          3229.221341          3300.0\n",
      "\n",
      "\n",
      "Constraining nutrients are:\n",
      "['Folate, DFE', 'Calcium, Ca', 'Iron, Fe', 'Potassium, K', 'Vitamin B-12', 'Vitamin C, total ascorbic acid', 'Vitamin E (alpha-tocopherol)', 'Vitamin K (phylloquinone)']\n"
     ]
    }
   ],
   "source": [
    "group = 'F 19-30'\n",
    "tol = 1e-6\n",
    "\n",
    "result = solve_subsistence_problem(FoodNutrients,Prices,diet_min[group],diet_max[group],tol=tol)\n",
    "\n",
    "print(\"Cost of diet for %s is $%4.2f per day.\\n\" % (group,result.fun))\n",
    "\n",
    "# Put back into nice series\n",
    "diet = result.diet\n",
    "\n",
    "print(\"\\nDiet (in 100s of grams or milliliters):\")\n",
    "print(diet[diet >= tol])  # Drop items with quantities less than precision of calculation.\n",
    "print()\n",
    "\n",
    "tab = pd.DataFrame({\"Outcome\":np.abs(result.A).dot(diet),\"Recommendation\":np.abs(result.b)})\n",
    "print(\"\\nWith the following nutritional outcomes of interest:\")\n",
    "print(tab)\n",
    "print()\n",
    "\n",
    "print(\"\\nConstraining nutrients are:\")\n",
    "excess = tab.diff(axis=1).iloc[:,1]\n",
    "print(excess.loc[np.abs(excess) < tol*100].index.tolist())"
   ]
  },
  {
   "cell_type": "markdown",
   "metadata": {},
   "source": [
    "## Effects of Price Changes on Subsistence Diet Cost\n",
    "\n"
   ]
  },
  {
   "cell_type": "markdown",
   "metadata": {},
   "source": [
    "As prices change, we should expect the minimum cost diet to also\n",
    "  change.  The code below creates a graph which changes prices away\n",
    "  from the \\`base&rsquo; case one food at a time, and plots changes in total\n",
    "  diet cost.\n",
    "\n"
   ]
  },
  {
   "cell_type": "code",
   "execution_count": 102,
   "metadata": {},
   "outputs": [
    {
     "data": {
      "text/html": [
       "        <script type=\"text/javascript\">\n",
       "        window.PlotlyConfig = {MathJaxConfig: 'local'};\n",
       "        if (window.MathJax) {MathJax.Hub.Config({SVG: {font: \"STIX-Web\"}});}\n",
       "        if (typeof require !== 'undefined') {\n",
       "        require.undef(\"plotly\");\n",
       "        requirejs.config({\n",
       "            paths: {\n",
       "                'plotly': ['https://cdn.plot.ly/plotly-2.3.1.min']\n",
       "            }\n",
       "        });\n",
       "        require(['plotly'], function(Plotly) {\n",
       "            window._Plotly = Plotly;\n",
       "        });\n",
       "        }\n",
       "        </script>\n",
       "        "
      ]
     },
     "metadata": {},
     "output_type": "display_data"
    },
    {
     "data": {
      "application/vnd.plotly.v1+json": {
       "config": {
        "linkText": "Export to plot.ly",
        "plotlyServerURL": "https://plot.ly",
        "showLink": true
       },
       "data": [
        {
         "line": {
          "color": "rgba(255, 153, 51, 1.0)",
          "dash": "solid",
          "shape": "linear",
          "width": 1.3
         },
         "mode": "lines",
         "name": " Banana,raw",
         "text": "",
         "type": "scatter",
         "x": [
          -0.6931471805599453,
          -0.5108256237659907,
          -0.35667494393873245,
          -0.22314355131420968,
          -0.10536051565782628,
          0,
          0.09531017980432495,
          0.1823215567939546,
          0.26236426446749106,
          0.33647223662121284,
          0.4054651081081644
         ],
         "y": [
          -0.02506209941785446,
          -0.019814307008715042,
          -0.014823879225562012,
          -0.009858050036004906,
          -0.00491710556199968,
          0,
          0.004893023978934274,
          0.006558558159385,
          0.0065585555143731844,
          0.006558555555730637,
          0.006558703782860017
         ]
        },
        {
         "line": {
          "color": "rgba(55, 128, 191, 1.0)",
          "dash": "solid",
          "shape": "linear",
          "width": 1.3
         },
         "mode": "lines",
         "name": "Apple, Gala",
         "text": "",
         "type": "scatter",
         "x": [
          -0.6931471805599453,
          -0.5108256237659907,
          -0.35667494393873245,
          -0.22314355131420968,
          -0.10536051565782628,
          0,
          0.09531017980432495,
          0.1823215567939546,
          0.26236426446749106,
          0.33647223662121284,
          0.4054651081081644
         ],
         "y": [
          -3.5035555432520474e-07,
          -3.481238846961001e-07,
          -3.4218014847309836e-07,
          -3.538505324192687e-07,
          -3.5651916055406e-08,
          0,
          -3.4412982134360043e-07,
          -3.494113244114238e-07,
          -3.442160360753174e-07,
          -3.4303567530470985e-07,
          -3.537694879971759e-07
         ]
        },
        {
         "line": {
          "color": "rgba(50, 171, 96, 1.0)",
          "dash": "solid",
          "shape": "linear",
          "width": 1.3
         },
         "mode": "lines",
         "name": "Oranges, Navel",
         "text": "",
         "type": "scatter",
         "x": [
          -0.6931471805599453,
          -0.5108256237659907,
          -0.35667494393873245,
          -0.22314355131420968,
          -0.10536051565782628,
          0,
          0.09531017980432495,
          0.1823215567939546,
          0.26236426446749106,
          0.33647223662121284,
          0.4054651081081644
         ],
         "y": [
          -0.014143325374308893,
          -0.011118917867458332,
          -0.008327665796784602,
          -0.0055441825803117925,
          -0.002768424259972018,
          0,
          0.0027604454943774563,
          0.0055137232096524776,
          0.00825818623946904,
          0.010996085167987954,
          0.013726439899092967
         ]
        },
        {
         "line": {
          "color": "rgba(128, 0, 128, 1.0)",
          "dash": "solid",
          "shape": "linear",
          "width": 1.3
         },
         "mode": "lines",
         "name": "Blueberries",
         "text": "",
         "type": "scatter",
         "x": [
          -0.6931471805599453,
          -0.5108256237659907,
          -0.35667494393873245,
          -0.22314355131420968,
          -0.10536051565782628,
          0,
          0.09531017980432495,
          0.1823215567939546,
          0.26236426446749106,
          0.33647223662121284,
          0.4054651081081644
         ],
         "y": [
          -3.448918210696453e-07,
          -3.482011430338585e-07,
          -3.500281215739806e-07,
          -3.451066340889651e-07,
          -3.445849408869462e-07,
          0,
          -4.5134333290155354e-08,
          -1.4798876220377246e-07,
          -1.510330479272429e-07,
          -1.6299560153250896e-07,
          -2.1336392686228658e-07
         ]
        },
        {
         "line": {
          "color": "rgba(219, 64, 82, 1.0)",
          "dash": "solid",
          "shape": "linear",
          "width": 1.3
         },
         "mode": "lines",
         "name": "Raspberries",
         "text": "",
         "type": "scatter",
         "x": [
          -0.6931471805599453,
          -0.5108256237659907,
          -0.35667494393873245,
          -0.22314355131420968,
          -0.10536051565782628,
          0,
          0.09531017980432495,
          0.1823215567939546,
          0.26236426446749106,
          0.33647223662121284,
          0.4054651081081644
         ],
         "y": [
          -3.501082067627411e-07,
          -3.485232331673833e-07,
          -3.430267193545426e-07,
          -3.4383962015839123e-07,
          -3.3194045281644346e-07,
          0,
          3.1035358467841577e-08,
          -5.312718495258381e-08,
          -1.2676508191701048e-07,
          -1.4882412288624967e-07,
          -1.4886428321174166e-07
         ]
        },
        {
         "line": {
          "color": "rgba(0, 128, 128, 1.0)",
          "dash": "solid",
          "shape": "linear",
          "width": 1.3
         },
         "mode": "lines",
         "name": "Grapes, green, seedless",
         "text": "",
         "type": "scatter",
         "x": [
          -0.6931471805599453,
          -0.5108256237659907,
          -0.35667494393873245,
          -0.22314355131420968,
          -0.10536051565782628,
          0,
          0.09531017980432495,
          0.1823215567939546,
          0.26236426446749106,
          0.33647223662121284,
          0.4054651081081644
         ],
         "y": [
          -3.4423742630560673e-07,
          -3.4401494497340445e-07,
          -3.453828123757415e-07,
          -3.4471324096842565e-07,
          -1.6838678936709827e-07,
          0,
          4.394656386599258e-08,
          2.567650237215772e-08,
          -1.3172546251710323e-08,
          -5.618947165542342e-08,
          -9.371253346110842e-08
         ]
        },
        {
         "line": {
          "color": "rgba(255, 255, 51, 1.0)",
          "dash": "solid",
          "shape": "linear",
          "width": 1.3
         },
         "mode": "lines",
         "name": "Strawberries",
         "text": "",
         "type": "scatter",
         "x": [
          -0.6931471805599453,
          -0.5108256237659907,
          -0.35667494393873245,
          -0.22314355131420968,
          -0.10536051565782628,
          0,
          0.09531017980432495,
          0.1823215567939546,
          0.26236426446749106,
          0.33647223662121284,
          0.4054651081081644
         ],
         "y": [
          8.529471764833887e-08,
          1.9013721071497733e-06,
          -2.263540256061198e-07,
          -1.2811153248422274e-07,
          -4.7524586285404374e-08,
          0,
          4.926270936407282e-08,
          1.135688540890955e-07,
          1.9719944420356784e-07,
          2.853893995785388e-07,
          3.681364110943675e-07
         ]
        },
        {
         "line": {
          "color": "rgba(128, 128, 0, 1.0)",
          "dash": "solid",
          "shape": "linear",
          "width": 1.3
         },
         "mode": "lines",
         "name": "Lentils, red",
         "text": "",
         "type": "scatter",
         "x": [
          -0.6931471805599453,
          -0.5108256237659907,
          -0.35667494393873245,
          -0.22314355131420968,
          -0.10536051565782628,
          0,
          0.09531017980432495,
          0.1823215567939546,
          0.26236426446749106,
          0.33647223662121284,
          0.4054651081081644
         ],
         "y": [
          -0.01805512015309662,
          -0.012584712763782821,
          -0.007708107681895989,
          -0.0033256981668047434,
          -0.0015788177935150151,
          0,
          0.001575878675725409,
          0.003149629690675989,
          0.003863353249439868,
          0.003863354442836346,
          0.0038633539780697024
         ]
        },
        {
         "line": {
          "color": "rgba(251, 128, 114, 1.0)",
          "dash": "solid",
          "shape": "linear",
          "width": 1.3
         },
         "mode": "lines",
         "name": "Tofu",
         "text": "",
         "type": "scatter",
         "x": [
          -0.6931471805599453,
          -0.5108256237659907,
          -0.35667494393873245,
          -0.22314355131420968,
          -0.10536051565782628,
          0,
          0.09531017980432495,
          0.1823215567939546,
          0.26236426446749106,
          0.33647223662121284,
          0.4054651081081644
         ],
         "y": [
          -1.55621876059989e-07,
          -7.603853136463878e-08,
          -1.3049411303412425e-08,
          1.9135075341014885e-08,
          1.8597667899281118e-08,
          0,
          -2.2713900463100827e-08,
          -3.88534413307649e-08,
          -4.4057474639842753e-08,
          -4.344827858623148e-08,
          -3.898293619508464e-08
         ]
        },
        {
         "line": {
          "color": "rgba(128, 177, 211, 1.0)",
          "dash": "solid",
          "shape": "linear",
          "width": 1.3
         },
         "mode": "lines",
         "name": "Split peas, dry",
         "text": "",
         "type": "scatter",
         "x": [
          -0.6931471805599453,
          -0.5108256237659907,
          -0.35667494393873245,
          -0.22314355131420968,
          -0.10536051565782628,
          0,
          0.09531017980432495,
          0.1823215567939546,
          0.26236426446749106,
          0.33647223662121284,
          0.4054651081081644
         ],
         "y": [
          -0.0075846672150084405,
          -0.002300472699401281,
          -0.00013487046967750263,
          -3.5387615859619126e-07,
          -1.4643462937459612e-07,
          0,
          -3.461970441173281e-07,
          -3.443556407845459e-07,
          -3.4386146291573295e-07,
          -3.4399276892699273e-07,
          -3.4439359166228826e-07
         ]
        },
        {
         "line": {
          "color": "rgba(128, 177, 211, 0.8999999999999999)",
          "dash": "solid",
          "shape": "linear",
          "width": 1.3
         },
         "mode": "lines",
         "name": "Chickpeas, canned",
         "text": "",
         "type": "scatter",
         "x": [
          -0.6931471805599453,
          -0.5108256237659907,
          -0.35667494393873245,
          -0.22314355131420968,
          -0.10536051565782628,
          0,
          0.09531017980432495,
          0.1823215567939546,
          0.26236426446749106,
          0.33647223662121284,
          0.4054651081081644
         ],
         "y": [
          -3.469155352997414e-07,
          -3.278664266882132e-07,
          -2.519938906412e-07,
          -1.4754918387613774e-07,
          -5.810346273051968e-08,
          0,
          3.048771943946476e-08,
          4.201021620040378e-08,
          4.200735093694219e-08,
          3.5585982638065756e-08,
          2.591385583624673e-08
         ]
        },
        {
         "line": {
          "color": "rgba(255, 153, 51, 0.8999999999999999)",
          "dash": "solid",
          "shape": "linear",
          "width": 1.3
         },
         "mode": "lines",
         "name": "Quinoa, dry",
         "text": "",
         "type": "scatter",
         "x": [
          -0.6931471805599453,
          -0.5108256237659907,
          -0.35667494393873245,
          -0.22314355131420968,
          -0.10536051565782628,
          0,
          0.09531017980432495,
          0.1823215567939546,
          0.26236426446749106,
          0.33647223662121284,
          0.4054651081081644
         ],
         "y": [
          -0.037828774918396174,
          -0.0132631684408072,
          -0.0012963675858448595,
          -1.6873947031104394e-07,
          -6.162981366470671e-09,
          0,
          -1.7596384521103402e-07,
          -3.2112426689042943e-07,
          -3.4643611529637536e-07,
          -3.456223648364417e-07,
          -3.4496182232082774e-07
         ]
        },
        {
         "line": {
          "color": "rgba(55, 128, 191, 0.8999999999999999)",
          "dash": "solid",
          "shape": "linear",
          "width": 1.3
         },
         "mode": "lines",
         "name": "Hummus",
         "text": "",
         "type": "scatter",
         "x": [
          -0.6931471805599453,
          -0.5108256237659907,
          -0.35667494393873245,
          -0.22314355131420968,
          -0.10536051565782628,
          0,
          0.09531017980432495,
          0.1823215567939546,
          0.26236426446749106,
          0.33647223662121284,
          0.4054651081081644
         ],
         "y": [
          6.026116488654257e-07,
          -3.5381758742753433e-07,
          -9.153678778690399e-08,
          8.824654772792458e-08,
          1.3299374738632438e-07,
          0,
          -1.2083659492559175e-07,
          -1.9828095976898546e-07,
          -2.480151444243183e-07,
          -2.835278014629457e-07,
          -3.1127770454229855e-07
         ]
        },
        {
         "line": {
          "color": "rgba(50, 171, 96, 0.8999999999999999)",
          "dash": "solid",
          "shape": "linear",
          "width": 1.3
         },
         "mode": "lines",
         "name": "Black beans, canned",
         "text": "",
         "type": "scatter",
         "x": [
          -0.6931471805599453,
          -0.5108256237659907,
          -0.35667494393873245,
          -0.22314355131420968,
          -0.10536051565782628,
          0,
          0.09531017980432495,
          0.1823215567939546,
          0.26236426446749106,
          0.33647223662121284,
          0.4054651081081644
         ],
         "y": [
          -0.1728760287429172,
          -0.12852187515871927,
          -0.09066429374165363,
          -0.05788861953467212,
          -0.02619120340094427,
          0,
          0.022980264577387204,
          0.037165599084685155,
          0.04857683844872822,
          0.050342547332223556,
          0.05034254819621785
         ]
        },
        {
         "line": {
          "color": "rgba(128, 0, 128, 0.8999999999999999)",
          "dash": "solid",
          "shape": "linear",
          "width": 1.3
         },
         "mode": "lines",
         "name": "Tomato, Roma",
         "text": "",
         "type": "scatter",
         "x": [
          -0.6931471805599453,
          -0.5108256237659907,
          -0.35667494393873245,
          -0.22314355131420968,
          -0.10536051565782628,
          0,
          0.09531017980432495,
          0.1823215567939546,
          0.26236426446749106,
          0.33647223662121284,
          0.4054651081081644
         ],
         "y": [
          -3.496329357737604e-07,
          -3.464422399548348e-07,
          -3.4321631387084637e-07,
          -3.446858490924309e-07,
          -3.1012470626469816e-07,
          0,
          4.7033055898543174e-08,
          -1.3970620646897542e-08,
          -7.736487627813012e-08,
          -1.2515474485031722e-07,
          -1.4260019993493578e-07
         ]
        },
        {
         "line": {
          "color": "rgba(219, 64, 82, 0.8999999999999999)",
          "dash": "solid",
          "shape": "linear",
          "width": 1.3
         },
         "mode": "lines",
         "name": "Broccoli",
         "text": "",
         "type": "scatter",
         "x": [
          -0.6931471805599453,
          -0.5108256237659907,
          -0.35667494393873245,
          -0.22314355131420968,
          -0.10536051565782628,
          0,
          0.09531017980432495,
          0.1823215567939546,
          0.26236426446749106,
          0.33647223662121284,
          0.4054651081081644
         ],
         "y": [
          -1.176125213105909e-07,
          -3.5380679716614026e-07,
          5.480229633911173e-07,
          1.4806225460139778e-06,
          -1.8833220502426114e-07,
          0,
          -2.559501455260332e-07,
          -3.3863870601619356e-07,
          -3.3437467911527047e-07,
          5.412379997596021e-08,
          -3.5379436188670875e-07
         ]
        },
        {
         "line": {
          "color": "rgba(0, 128, 128, 0.8999999999999999)",
          "dash": "solid",
          "shape": "linear",
          "width": 1.3
         },
         "mode": "lines",
         "name": "Kale",
         "text": "",
         "type": "scatter",
         "x": [
          -0.6931471805599453,
          -0.5108256237659907,
          -0.35667494393873245,
          -0.22314355131420968,
          -0.10536051565782628,
          0,
          0.09531017980432495,
          0.1823215567939546,
          0.26236426446749106,
          0.33647223662121284,
          0.4054651081081644
         ],
         "y": [
          -0.031896490336758954,
          -0.020936037233602905,
          -0.015083865817309115,
          -0.010030628240584323,
          -0.005002850021214313,
          0,
          0.004977418564506645,
          0.009930520788714054,
          0.01485987311318267,
          0.019247002284754684,
          0.022431151431329475
         ]
        },
        {
         "line": {
          "color": "rgba(255, 255, 51, 0.8999999999999999)",
          "dash": "solid",
          "shape": "linear",
          "width": 1.3
         },
         "mode": "lines",
         "name": "Green beans, raw",
         "text": "",
         "type": "scatter",
         "x": [
          -0.6931471805599453,
          -0.5108256237659907,
          -0.35667494393873245,
          -0.22314355131420968,
          -0.10536051565782628,
          0,
          0.09531017980432495,
          0.1823215567939546,
          0.26236426446749106,
          0.33647223662121284,
          0.4054651081081644
         ],
         "y": [
          -3.5339343178904075e-07,
          -3.212755865625314e-07,
          6.511125693132703e-08,
          -2.8897199500746015e-07,
          -1.8531067254621347e-07,
          0,
          1.5332643689412872e-07,
          1.2511968966415817e-07,
          5.7785169422998495e-08,
          -5.992460878814488e-09,
          -5.7569724867940695e-08
         ]
        },
        {
         "line": {
          "color": "rgba(128, 128, 0, 0.8999999999999999)",
          "dash": "solid",
          "shape": "linear",
          "width": 1.3
         },
         "mode": "lines",
         "name": "Onions, yellow",
         "text": "",
         "type": "scatter",
         "x": [
          -0.6931471805599453,
          -0.5108256237659907,
          -0.35667494393873245,
          -0.22314355131420968,
          -0.10536051565782628,
          0,
          0.09531017980432495,
          0.1823215567939546,
          0.26236426446749106,
          0.33647223662121284,
          0.4054651081081644
         ],
         "y": [
          -3.4368521139726943e-07,
          -3.446173077850483e-07,
          -3.4609123605169816e-07,
          -3.1623992728874785e-07,
          -1.3899326067941052e-07,
          0,
          4.0925422435052486e-08,
          2.7335492606670343e-08,
          -4.954106470670695e-09,
          -4.451921808156874e-08,
          -8.269858762237302e-08
         ]
        },
        {
         "line": {
          "color": "rgba(251, 128, 114, 0.8999999999999999)",
          "dash": "solid",
          "shape": "linear",
          "width": 1.3
         },
         "mode": "lines",
         "name": "Celery",
         "text": "",
         "type": "scatter",
         "x": [
          -0.6931471805599453,
          -0.5108256237659907,
          -0.35667494393873245,
          -0.22314355131420968,
          -0.10536051565782628,
          0,
          0.09531017980432495,
          0.1823215567939546,
          0.26236426446749106,
          0.33647223662121284,
          0.4054651081081644
         ],
         "y": [
          -3.420463003835475e-07,
          -3.4281396768746605e-07,
          -3.4490760478276324e-07,
          -3.213835892040937e-07,
          -1.3247990838153764e-07,
          0,
          2.5202489111138988e-08,
          1.2136449615692263e-09,
          -3.583600125352061e-08,
          -7.09777726247066e-08,
          -1.0215760781755018e-07
         ]
        },
        {
         "line": {
          "color": "rgba(251, 128, 114, 0.7999999999999998)",
          "dash": "solid",
          "shape": "linear",
          "width": 1.3
         },
         "mode": "lines",
         "name": "Potato, Russet",
         "text": "",
         "type": "scatter",
         "x": [
          -0.6931471805599453,
          -0.5108256237659907,
          -0.35667494393873245,
          -0.22314355131420968,
          -0.10536051565782628,
          0,
          0.09531017980432495,
          0.1823215567939546,
          0.26236426446749106,
          0.33647223662121284,
          0.4054651081081644
         ],
         "y": [
          -0.004437809801179696,
          -3.368798706776166e-07,
          -2.5835460710801366e-07,
          -3.496687017320266e-07,
          3.267686056313935e-07,
          0,
          -3.425190308447051e-07,
          -3.3541336138137174e-07,
          -3.318153398548971e-07,
          -3.318197514385716e-07,
          -3.3456803562191137e-07
         ]
        },
        {
         "line": {
          "color": "rgba(128, 177, 211, 0.7999999999999998)",
          "dash": "solid",
          "shape": "linear",
          "width": 1.3
         },
         "mode": "lines",
         "name": "Carrot",
         "text": "",
         "type": "scatter",
         "x": [
          -0.6931471805599453,
          -0.5108256237659907,
          -0.35667494393873245,
          -0.22314355131420968,
          -0.10536051565782628,
          0,
          0.09531017980432495,
          0.1823215567939546,
          0.26236426446749106,
          0.33647223662121284,
          0.4054651081081644
         ],
         "y": [
          -0.1335560032167589,
          -0.07438470848578876,
          -0.0354903433369161,
          -0.020756285581166534,
          -0.00700560539853586,
          0,
          0.0026656709044291602,
          0.005324327776145574,
          0.007976027527585488,
          0.010620722663699641,
          0.01325841706966322
         ]
        },
        {
         "line": {
          "color": "rgba(255, 153, 51, 0.7999999999999998)",
          "dash": "solid",
          "shape": "linear",
          "width": 1.3
         },
         "mode": "lines",
         "name": "Cucumber",
         "text": "",
         "type": "scatter",
         "x": [
          -0.6931471805599453,
          -0.5108256237659907,
          -0.35667494393873245,
          -0.22314355131420968,
          -0.10536051565782628,
          0,
          0.09531017980432495,
          0.1823215567939546,
          0.26236426446749106,
          0.33647223662121284,
          0.4054651081081644
         ],
         "y": [
          -3.446057393681674e-07,
          -3.4292279667063514e-07,
          -3.441875997011552e-07,
          -3.4644775299121816e-07,
          -2.089618463429925e-07,
          0,
          4.194384307397494e-08,
          9.948794183394276e-09,
          -4.491515194054225e-08,
          -9.38386510337743e-08,
          -1.336409964285309e-07
         ]
        },
        {
         "line": {
          "color": "rgba(55, 128, 191, 0.7999999999999998)",
          "dash": "solid",
          "shape": "linear",
          "width": 1.3
         },
         "mode": "lines",
         "name": "Avocado",
         "text": "",
         "type": "scatter",
         "x": [
          -0.6931471805599453,
          -0.5108256237659907,
          -0.35667494393873245,
          -0.22314355131420968,
          -0.10536051565782628,
          0,
          0.09531017980432495,
          0.1823215567939546,
          0.26236426446749106,
          0.33647223662121284,
          0.4054651081081644
         ],
         "y": [
          -0.10458125944574373,
          -0.06996649494825055,
          -0.03842540334354244,
          -0.012277045763021879,
          -0.005259167943647716,
          0,
          0.005230951110696153,
          0.006671790657983486,
          0.006671716833244996,
          0.006671715007286836,
          0.006671714460882261
         ]
        },
        {
         "line": {
          "color": "rgba(50, 171, 96, 0.7999999999999998)",
          "dash": "solid",
          "shape": "linear",
          "width": 1.3
         },
         "mode": "lines",
         "name": "Lettuce, Romaine",
         "text": "",
         "type": "scatter",
         "x": [
          -0.6931471805599453,
          -0.5108256237659907,
          -0.35667494393873245,
          -0.22314355131420968,
          -0.10536051565782628,
          0,
          0.09531017980432495,
          0.1823215567939546,
          0.26236426446749106,
          0.33647223662121284,
          0.4054651081081644
         ],
         "y": [
          -3.3171227704017255e-07,
          -3.526121163895241e-07,
          -1.0466818959763073e-07,
          -3.4644816233058916e-07,
          -3.4978528396114607e-07,
          0,
          -2.023549974707146e-07,
          -2.3645030320269402e-07,
          -5.664332574646909e-08,
          4.0454135807545105e-07,
          -3.5387066410049803e-07
         ]
        },
        {
         "line": {
          "color": "rgba(128, 0, 128, 0.7999999999999998)",
          "dash": "solid",
          "shape": "linear",
          "width": 1.3
         },
         "mode": "lines",
         "name": "Mushrooms",
         "text": "",
         "type": "scatter",
         "x": [
          -0.6931471805599453,
          -0.5108256237659907,
          -0.35667494393873245,
          -0.22314355131420968,
          -0.10536051565782628,
          0,
          0.09531017980432495,
          0.1823215567939546,
          0.26236426446749106,
          0.33647223662121284,
          0.4054651081081644
         ],
         "y": [
          -2.884860535799454e-07,
          -3.4505415227416843e-07,
          -2.387410473417776e-07,
          -3.520106088891838e-07,
          -3.5362742158825013e-07,
          0,
          -2.3417182792433145e-07,
          -3.5172683089925573e-07,
          -3.4822442919275246e-07,
          -3.512015805379629e-07,
          -3.5245558676725636e-07
         ]
        },
        {
         "line": {
          "color": "rgba(219, 64, 82, 0.7999999999999998)",
          "dash": "solid",
          "shape": "linear",
          "width": 1.3
         },
         "mode": "lines",
         "name": "Spinach",
         "text": "",
         "type": "scatter",
         "x": [
          -0.6931471805599453,
          -0.5108256237659907,
          -0.35667494393873245,
          -0.22314355131420968,
          -0.10536051565782628,
          0,
          0.09531017980432495,
          0.1823215567939546,
          0.26236426446749106,
          0.33647223662121284,
          0.4054651081081644
         ],
         "y": [
          -2.1345253378079137e-07,
          5.0134147131564745e-08,
          -3.412002029021925e-07,
          -3.4774829367369716e-07,
          -3.5377530878753096e-07,
          0,
          -3.491836617764276e-07,
          -3.1669864383211704e-07,
          -3.478016961969098e-07,
          -3.386220796436135e-07,
          -3.428159468827306e-07
         ]
        },
        {
         "line": {
          "color": "rgba(0, 128, 128, 0.7999999999999998)",
          "dash": "solid",
          "shape": "linear",
          "width": 1.3
         },
         "mode": "lines",
         "name": "Rice, White",
         "text": "",
         "type": "scatter",
         "x": [
          -0.6931471805599453,
          -0.5108256237659907,
          -0.35667494393873245,
          -0.22314355131420968,
          -0.10536051565782628,
          0,
          0.09531017980432495,
          0.1823215567939546,
          0.26236426446749106,
          0.33647223662121284,
          0.4054651081081644
         ],
         "y": [
          -3.5142411294204113e-07,
          -3.5374249846589957e-07,
          -3.53853618729347e-07,
          -1.3524049340083367e-07,
          -6.203943751324684e-08,
          0,
          -3.079295176659969e-07,
          -3.4584349680347074e-07,
          -3.444538875624561e-07,
          -3.436787541158944e-07,
          -3.4347022773691747e-07
         ]
        },
        {
         "line": {
          "color": "rgba(255, 255, 51, 0.7999999999999998)",
          "dash": "solid",
          "shape": "linear",
          "width": 1.3
         },
         "mode": "lines",
         "name": "Tortillas, corn",
         "text": "",
         "type": "scatter",
         "x": [
          -0.6931471805599453,
          -0.5108256237659907,
          -0.35667494393873245,
          -0.22314355131420968,
          -0.10536051565782628,
          0,
          0.09531017980432495,
          0.1823215567939546,
          0.26236426446749106,
          0.33647223662121284,
          0.4054651081081644
         ],
         "y": [
          -0.009308654213076877,
          -0.006434788061995568,
          -0.0035925289070876673,
          -0.002253489681086474,
          -0.0011262725009006424,
          0,
          0.0011258965377728984,
          0.0014804224922025547,
          0.0014801538124242987,
          0.0014801560558506744,
          0.0014802033484459937
         ]
        },
        {
         "line": {
          "color": "rgba(128, 128, 0, 0.7999999999999998)",
          "dash": "solid",
          "shape": "linear",
          "width": 1.3
         },
         "mode": "lines",
         "name": "Oats, rolled",
         "text": "",
         "type": "scatter",
         "x": [
          -0.6931471805599453,
          -0.5108256237659907,
          -0.35667494393873245,
          -0.22314355131420968,
          -0.10536051565782628,
          0,
          0.09531017980432495,
          0.1823215567939546,
          0.26236426446749106,
          0.33647223662121284,
          0.4054651081081644
         ],
         "y": [
          8.233695053188222e-08,
          1.6582912683198632e-08,
          3.177671364401028e-08,
          3.040765770688306e-08,
          1.844063640327399e-08,
          0,
          -2.308181650249973e-08,
          -4.980230607577923e-08,
          -7.939379913367329e-08,
          -1.1110287352253383e-07,
          -1.4410181798027396e-07
         ]
        },
        {
         "line": {
          "color": "rgba(128, 128, 0, 0.7)",
          "dash": "solid",
          "shape": "linear",
          "width": 1.3
         },
         "mode": "lines",
         "name": "Soy milk, unsweetened",
         "text": "",
         "type": "scatter",
         "x": [
          -0.6931471805599453,
          -0.5108256237659907,
          -0.35667494393873245,
          -0.22314355131420968,
          -0.10536051565782628,
          0,
          0.09531017980432495,
          0.1823215567939546,
          0.26236426446749106,
          0.33647223662121284,
          0.4054651081081644
         ],
         "y": [
          -0.19343959066070723,
          -0.15164175027628865,
          -0.11152165839015496,
          -0.07294923006038713,
          -0.03580954919547749,
          0,
          0.034571419706881615,
          0.0679874747322847,
          0.10032291372193271,
          0.13164546807491045,
          0.16201668453500453
         ]
        },
        {
         "line": {
          "color": "rgba(251, 128, 114, 0.7)",
          "dash": "solid",
          "shape": "linear",
          "width": 1.3
         },
         "mode": "lines",
         "name": "Peanut butter, creamy",
         "text": "",
         "type": "scatter",
         "x": [
          -0.6931471805599453,
          -0.5108256237659907,
          -0.35667494393873245,
          -0.22314355131420968,
          -0.10536051565782628,
          0,
          0.09531017980432495,
          0.1823215567939546,
          0.26236426446749106,
          0.33647223662121284,
          0.4054651081081644
         ],
         "y": [
          -0.09682282902522668,
          -0.07563677700364824,
          -0.056151951827001605,
          -0.03708226448902073,
          -0.018369433796033688,
          0,
          0.018037382318231363,
          0.03575555699289189,
          0.05316538132993717,
          0.06910485165626083,
          0.08358320565266203
         ]
        },
        {
         "line": {
          "color": "rgba(128, 177, 211, 0.7)",
          "dash": "solid",
          "shape": "linear",
          "width": 1.3
         },
         "mode": "lines",
         "name": "Rice, Brown",
         "text": "",
         "type": "scatter",
         "x": [
          -0.6931471805599453,
          -0.5108256237659907,
          -0.35667494393873245,
          -0.22314355131420968,
          -0.10536051565782628,
          0,
          0.09531017980432495,
          0.1823215567939546,
          0.26236426446749106,
          0.33647223662121284,
          0.4054651081081644
         ],
         "y": [
          -0.0015983343681521707,
          -0.0005326385712356064,
          -3.532564638591655e-07,
          -1.4411644217312872e-07,
          -6.107719483509461e-08,
          0,
          -2.748917004376503e-07,
          -3.46214100035471e-07,
          -3.4480467108567163e-07,
          -3.43761491627864e-07,
          -3.4304530316208214e-07
         ]
        },
        {
         "line": {
          "color": "rgba(255, 153, 51, 0.7)",
          "dash": "solid",
          "shape": "linear",
          "width": 1.3
         },
         "mode": "lines",
         "name": "Spaghetti, dry",
         "text": "",
         "type": "scatter",
         "x": [
          -0.6931471805599453,
          -0.5108256237659907,
          -0.35667494393873245,
          -0.22314355131420968,
          -0.10536051565782628,
          0,
          0.09531017980432495,
          0.1823215567939546,
          0.26236426446749106,
          0.33647223662121284,
          0.4054651081081644
         ],
         "y": [
          -0.0026139770842719553,
          -0.0015586049650391392,
          -0.0009389501961862243,
          -0.00032002115164799736,
          -3.539046726862682e-07,
          0,
          -3.4954763442237806e-07,
          -3.5066395873539967e-07,
          -3.517757215857439e-07,
          -3.5226961202162553e-07,
          -3.5249745040569106e-07
         ]
        }
       ],
       "layout": {
        "autosize": true,
        "legend": {
         "bgcolor": "#F5F6F9",
         "font": {
          "color": "#4D5663"
         }
        },
        "paper_bgcolor": "#F5F6F9",
        "plot_bgcolor": "#F5F6F9",
        "template": {
         "data": {
          "bar": [
           {
            "error_x": {
             "color": "#2a3f5f"
            },
            "error_y": {
             "color": "#2a3f5f"
            },
            "marker": {
             "line": {
              "color": "#E5ECF6",
              "width": 0.5
             },
             "pattern": {
              "fillmode": "overlay",
              "size": 10,
              "solidity": 0.2
             }
            },
            "type": "bar"
           }
          ],
          "barpolar": [
           {
            "marker": {
             "line": {
              "color": "#E5ECF6",
              "width": 0.5
             },
             "pattern": {
              "fillmode": "overlay",
              "size": 10,
              "solidity": 0.2
             }
            },
            "type": "barpolar"
           }
          ],
          "carpet": [
           {
            "aaxis": {
             "endlinecolor": "#2a3f5f",
             "gridcolor": "white",
             "linecolor": "white",
             "minorgridcolor": "white",
             "startlinecolor": "#2a3f5f"
            },
            "baxis": {
             "endlinecolor": "#2a3f5f",
             "gridcolor": "white",
             "linecolor": "white",
             "minorgridcolor": "white",
             "startlinecolor": "#2a3f5f"
            },
            "type": "carpet"
           }
          ],
          "choropleth": [
           {
            "colorbar": {
             "outlinewidth": 0,
             "ticks": ""
            },
            "type": "choropleth"
           }
          ],
          "contour": [
           {
            "colorbar": {
             "outlinewidth": 0,
             "ticks": ""
            },
            "colorscale": [
             [
              0,
              "#0d0887"
             ],
             [
              0.1111111111111111,
              "#46039f"
             ],
             [
              0.2222222222222222,
              "#7201a8"
             ],
             [
              0.3333333333333333,
              "#9c179e"
             ],
             [
              0.4444444444444444,
              "#bd3786"
             ],
             [
              0.5555555555555556,
              "#d8576b"
             ],
             [
              0.6666666666666666,
              "#ed7953"
             ],
             [
              0.7777777777777778,
              "#fb9f3a"
             ],
             [
              0.8888888888888888,
              "#fdca26"
             ],
             [
              1,
              "#f0f921"
             ]
            ],
            "type": "contour"
           }
          ],
          "contourcarpet": [
           {
            "colorbar": {
             "outlinewidth": 0,
             "ticks": ""
            },
            "type": "contourcarpet"
           }
          ],
          "heatmap": [
           {
            "colorbar": {
             "outlinewidth": 0,
             "ticks": ""
            },
            "colorscale": [
             [
              0,
              "#0d0887"
             ],
             [
              0.1111111111111111,
              "#46039f"
             ],
             [
              0.2222222222222222,
              "#7201a8"
             ],
             [
              0.3333333333333333,
              "#9c179e"
             ],
             [
              0.4444444444444444,
              "#bd3786"
             ],
             [
              0.5555555555555556,
              "#d8576b"
             ],
             [
              0.6666666666666666,
              "#ed7953"
             ],
             [
              0.7777777777777778,
              "#fb9f3a"
             ],
             [
              0.8888888888888888,
              "#fdca26"
             ],
             [
              1,
              "#f0f921"
             ]
            ],
            "type": "heatmap"
           }
          ],
          "heatmapgl": [
           {
            "colorbar": {
             "outlinewidth": 0,
             "ticks": ""
            },
            "colorscale": [
             [
              0,
              "#0d0887"
             ],
             [
              0.1111111111111111,
              "#46039f"
             ],
             [
              0.2222222222222222,
              "#7201a8"
             ],
             [
              0.3333333333333333,
              "#9c179e"
             ],
             [
              0.4444444444444444,
              "#bd3786"
             ],
             [
              0.5555555555555556,
              "#d8576b"
             ],
             [
              0.6666666666666666,
              "#ed7953"
             ],
             [
              0.7777777777777778,
              "#fb9f3a"
             ],
             [
              0.8888888888888888,
              "#fdca26"
             ],
             [
              1,
              "#f0f921"
             ]
            ],
            "type": "heatmapgl"
           }
          ],
          "histogram": [
           {
            "marker": {
             "pattern": {
              "fillmode": "overlay",
              "size": 10,
              "solidity": 0.2
             }
            },
            "type": "histogram"
           }
          ],
          "histogram2d": [
           {
            "colorbar": {
             "outlinewidth": 0,
             "ticks": ""
            },
            "colorscale": [
             [
              0,
              "#0d0887"
             ],
             [
              0.1111111111111111,
              "#46039f"
             ],
             [
              0.2222222222222222,
              "#7201a8"
             ],
             [
              0.3333333333333333,
              "#9c179e"
             ],
             [
              0.4444444444444444,
              "#bd3786"
             ],
             [
              0.5555555555555556,
              "#d8576b"
             ],
             [
              0.6666666666666666,
              "#ed7953"
             ],
             [
              0.7777777777777778,
              "#fb9f3a"
             ],
             [
              0.8888888888888888,
              "#fdca26"
             ],
             [
              1,
              "#f0f921"
             ]
            ],
            "type": "histogram2d"
           }
          ],
          "histogram2dcontour": [
           {
            "colorbar": {
             "outlinewidth": 0,
             "ticks": ""
            },
            "colorscale": [
             [
              0,
              "#0d0887"
             ],
             [
              0.1111111111111111,
              "#46039f"
             ],
             [
              0.2222222222222222,
              "#7201a8"
             ],
             [
              0.3333333333333333,
              "#9c179e"
             ],
             [
              0.4444444444444444,
              "#bd3786"
             ],
             [
              0.5555555555555556,
              "#d8576b"
             ],
             [
              0.6666666666666666,
              "#ed7953"
             ],
             [
              0.7777777777777778,
              "#fb9f3a"
             ],
             [
              0.8888888888888888,
              "#fdca26"
             ],
             [
              1,
              "#f0f921"
             ]
            ],
            "type": "histogram2dcontour"
           }
          ],
          "mesh3d": [
           {
            "colorbar": {
             "outlinewidth": 0,
             "ticks": ""
            },
            "type": "mesh3d"
           }
          ],
          "parcoords": [
           {
            "line": {
             "colorbar": {
              "outlinewidth": 0,
              "ticks": ""
             }
            },
            "type": "parcoords"
           }
          ],
          "pie": [
           {
            "automargin": true,
            "type": "pie"
           }
          ],
          "scatter": [
           {
            "marker": {
             "colorbar": {
              "outlinewidth": 0,
              "ticks": ""
             }
            },
            "type": "scatter"
           }
          ],
          "scatter3d": [
           {
            "line": {
             "colorbar": {
              "outlinewidth": 0,
              "ticks": ""
             }
            },
            "marker": {
             "colorbar": {
              "outlinewidth": 0,
              "ticks": ""
             }
            },
            "type": "scatter3d"
           }
          ],
          "scattercarpet": [
           {
            "marker": {
             "colorbar": {
              "outlinewidth": 0,
              "ticks": ""
             }
            },
            "type": "scattercarpet"
           }
          ],
          "scattergeo": [
           {
            "marker": {
             "colorbar": {
              "outlinewidth": 0,
              "ticks": ""
             }
            },
            "type": "scattergeo"
           }
          ],
          "scattergl": [
           {
            "marker": {
             "colorbar": {
              "outlinewidth": 0,
              "ticks": ""
             }
            },
            "type": "scattergl"
           }
          ],
          "scattermapbox": [
           {
            "marker": {
             "colorbar": {
              "outlinewidth": 0,
              "ticks": ""
             }
            },
            "type": "scattermapbox"
           }
          ],
          "scatterpolar": [
           {
            "marker": {
             "colorbar": {
              "outlinewidth": 0,
              "ticks": ""
             }
            },
            "type": "scatterpolar"
           }
          ],
          "scatterpolargl": [
           {
            "marker": {
             "colorbar": {
              "outlinewidth": 0,
              "ticks": ""
             }
            },
            "type": "scatterpolargl"
           }
          ],
          "scatterternary": [
           {
            "marker": {
             "colorbar": {
              "outlinewidth": 0,
              "ticks": ""
             }
            },
            "type": "scatterternary"
           }
          ],
          "surface": [
           {
            "colorbar": {
             "outlinewidth": 0,
             "ticks": ""
            },
            "colorscale": [
             [
              0,
              "#0d0887"
             ],
             [
              0.1111111111111111,
              "#46039f"
             ],
             [
              0.2222222222222222,
              "#7201a8"
             ],
             [
              0.3333333333333333,
              "#9c179e"
             ],
             [
              0.4444444444444444,
              "#bd3786"
             ],
             [
              0.5555555555555556,
              "#d8576b"
             ],
             [
              0.6666666666666666,
              "#ed7953"
             ],
             [
              0.7777777777777778,
              "#fb9f3a"
             ],
             [
              0.8888888888888888,
              "#fdca26"
             ],
             [
              1,
              "#f0f921"
             ]
            ],
            "type": "surface"
           }
          ],
          "table": [
           {
            "cells": {
             "fill": {
              "color": "#EBF0F8"
             },
             "line": {
              "color": "white"
             }
            },
            "header": {
             "fill": {
              "color": "#C8D4E3"
             },
             "line": {
              "color": "white"
             }
            },
            "type": "table"
           }
          ]
         },
         "layout": {
          "annotationdefaults": {
           "arrowcolor": "#2a3f5f",
           "arrowhead": 0,
           "arrowwidth": 1
          },
          "autotypenumbers": "strict",
          "coloraxis": {
           "colorbar": {
            "outlinewidth": 0,
            "ticks": ""
           }
          },
          "colorscale": {
           "diverging": [
            [
             0,
             "#8e0152"
            ],
            [
             0.1,
             "#c51b7d"
            ],
            [
             0.2,
             "#de77ae"
            ],
            [
             0.3,
             "#f1b6da"
            ],
            [
             0.4,
             "#fde0ef"
            ],
            [
             0.5,
             "#f7f7f7"
            ],
            [
             0.6,
             "#e6f5d0"
            ],
            [
             0.7,
             "#b8e186"
            ],
            [
             0.8,
             "#7fbc41"
            ],
            [
             0.9,
             "#4d9221"
            ],
            [
             1,
             "#276419"
            ]
           ],
           "sequential": [
            [
             0,
             "#0d0887"
            ],
            [
             0.1111111111111111,
             "#46039f"
            ],
            [
             0.2222222222222222,
             "#7201a8"
            ],
            [
             0.3333333333333333,
             "#9c179e"
            ],
            [
             0.4444444444444444,
             "#bd3786"
            ],
            [
             0.5555555555555556,
             "#d8576b"
            ],
            [
             0.6666666666666666,
             "#ed7953"
            ],
            [
             0.7777777777777778,
             "#fb9f3a"
            ],
            [
             0.8888888888888888,
             "#fdca26"
            ],
            [
             1,
             "#f0f921"
            ]
           ],
           "sequentialminus": [
            [
             0,
             "#0d0887"
            ],
            [
             0.1111111111111111,
             "#46039f"
            ],
            [
             0.2222222222222222,
             "#7201a8"
            ],
            [
             0.3333333333333333,
             "#9c179e"
            ],
            [
             0.4444444444444444,
             "#bd3786"
            ],
            [
             0.5555555555555556,
             "#d8576b"
            ],
            [
             0.6666666666666666,
             "#ed7953"
            ],
            [
             0.7777777777777778,
             "#fb9f3a"
            ],
            [
             0.8888888888888888,
             "#fdca26"
            ],
            [
             1,
             "#f0f921"
            ]
           ]
          },
          "colorway": [
           "#636efa",
           "#EF553B",
           "#00cc96",
           "#ab63fa",
           "#FFA15A",
           "#19d3f3",
           "#FF6692",
           "#B6E880",
           "#FF97FF",
           "#FECB52"
          ],
          "font": {
           "color": "#2a3f5f"
          },
          "geo": {
           "bgcolor": "white",
           "lakecolor": "white",
           "landcolor": "#E5ECF6",
           "showlakes": true,
           "showland": true,
           "subunitcolor": "white"
          },
          "hoverlabel": {
           "align": "left"
          },
          "hovermode": "closest",
          "mapbox": {
           "style": "light"
          },
          "paper_bgcolor": "white",
          "plot_bgcolor": "#E5ECF6",
          "polar": {
           "angularaxis": {
            "gridcolor": "white",
            "linecolor": "white",
            "ticks": ""
           },
           "bgcolor": "#E5ECF6",
           "radialaxis": {
            "gridcolor": "white",
            "linecolor": "white",
            "ticks": ""
           }
          },
          "scene": {
           "xaxis": {
            "backgroundcolor": "#E5ECF6",
            "gridcolor": "white",
            "gridwidth": 2,
            "linecolor": "white",
            "showbackground": true,
            "ticks": "",
            "zerolinecolor": "white"
           },
           "yaxis": {
            "backgroundcolor": "#E5ECF6",
            "gridcolor": "white",
            "gridwidth": 2,
            "linecolor": "white",
            "showbackground": true,
            "ticks": "",
            "zerolinecolor": "white"
           },
           "zaxis": {
            "backgroundcolor": "#E5ECF6",
            "gridcolor": "white",
            "gridwidth": 2,
            "linecolor": "white",
            "showbackground": true,
            "ticks": "",
            "zerolinecolor": "white"
           }
          },
          "shapedefaults": {
           "line": {
            "color": "#2a3f5f"
           }
          },
          "ternary": {
           "aaxis": {
            "gridcolor": "white",
            "linecolor": "white",
            "ticks": ""
           },
           "baxis": {
            "gridcolor": "white",
            "linecolor": "white",
            "ticks": ""
           },
           "bgcolor": "#E5ECF6",
           "caxis": {
            "gridcolor": "white",
            "linecolor": "white",
            "ticks": ""
           }
          },
          "title": {
           "x": 0.05
          },
          "xaxis": {
           "automargin": true,
           "gridcolor": "white",
           "linecolor": "white",
           "ticks": "",
           "title": {
            "standoff": 15
           },
           "zerolinecolor": "white",
           "zerolinewidth": 2
          },
          "yaxis": {
           "automargin": true,
           "gridcolor": "white",
           "linecolor": "white",
           "ticks": "",
           "title": {
            "standoff": 15
           },
           "zerolinecolor": "white",
           "zerolinewidth": 2
          }
         }
        },
        "title": {
         "font": {
          "color": "#4D5663"
         }
        },
        "xaxis": {
         "autorange": true,
         "gridcolor": "#E1E5ED",
         "range": [
          -0.6931471805599453,
          0.4054651081081644
         ],
         "showgrid": true,
         "tickfont": {
          "color": "#4D5663"
         },
         "title": {
          "font": {
           "color": "#4D5663"
          },
          "text": "change in log price"
         },
         "type": "linear",
         "zerolinecolor": "#E1E5ED"
        },
        "yaxis": {
         "autorange": true,
         "gridcolor": "#E1E5ED",
         "range": [
          -0.21318716150491346,
          0.18176425537921076
         ],
         "showgrid": true,
         "tickfont": {
          "color": "#4D5663"
         },
         "title": {
          "font": {
           "color": "#4D5663"
          },
          "text": "change in log cost"
         },
         "type": "linear",
         "zerolinecolor": "#E1E5ED"
        }
       }
      },
      "image/png": "[encoded data removed]",
      "text/html": [
       "<div>                            <div id=\"d62ea329-fd35-49eb-8026-da8ca54dd2bf\" class=\"plotly-graph-div\" style=\"height:525px; width:100%;\"></div>            <script type=\"text/javascript\">                require([\"plotly\"], function(Plotly) {                    window.PLOTLYENV=window.PLOTLYENV || {};\n",
       "                    window.PLOTLYENV.BASE_URL='https://plot.ly';                                    if (document.getElementById(\"d62ea329-fd35-49eb-8026-da8ca54dd2bf\")) {                    Plotly.newPlot(                        \"d62ea329-fd35-49eb-8026-da8ca54dd2bf\",                        [{\"line\":{\"color\":\"rgba(255, 153, 51, 1.0)\",\"dash\":\"solid\",\"shape\":\"linear\",\"width\":1.3},\"mode\":\"lines\",\"name\":\" Banana,raw\",\"text\":\"\",\"type\":\"scatter\",\"x\":[-0.6931471805599453,-0.5108256237659907,-0.35667494393873245,-0.22314355131420968,-0.10536051565782628,0.0,0.09531017980432495,0.1823215567939546,0.26236426446749106,0.33647223662121284,0.4054651081081644],\"y\":[-0.02506209941785446,-0.019814307008715042,-0.014823879225562012,-0.009858050036004906,-0.00491710556199968,0.0,0.004893023978934274,0.006558558159385,0.0065585555143731844,0.006558555555730637,0.006558703782860017]},{\"line\":{\"color\":\"rgba(55, 128, 191, 1.0)\",\"dash\":\"solid\",\"shape\":\"linear\",\"width\":1.3},\"mode\":\"lines\",\"name\":\"Apple, Gala\",\"text\":\"\",\"type\":\"scatter\",\"x\":[-0.6931471805599453,-0.5108256237659907,-0.35667494393873245,-0.22314355131420968,-0.10536051565782628,0.0,0.09531017980432495,0.1823215567939546,0.26236426446749106,0.33647223662121284,0.4054651081081644],\"y\":[-3.5035555432520474e-07,-3.481238846961001e-07,-3.4218014847309836e-07,-3.538505324192687e-07,-3.5651916055406e-08,0.0,-3.4412982134360043e-07,-3.494113244114238e-07,-3.442160360753174e-07,-3.4303567530470985e-07,-3.537694879971759e-07]},{\"line\":{\"color\":\"rgba(50, 171, 96, 1.0)\",\"dash\":\"solid\",\"shape\":\"linear\",\"width\":1.3},\"mode\":\"lines\",\"name\":\"Oranges, Navel\",\"text\":\"\",\"type\":\"scatter\",\"x\":[-0.6931471805599453,-0.5108256237659907,-0.35667494393873245,-0.22314355131420968,-0.10536051565782628,0.0,0.09531017980432495,0.1823215567939546,0.26236426446749106,0.33647223662121284,0.4054651081081644],\"y\":[-0.014143325374308893,-0.011118917867458332,-0.008327665796784602,-0.0055441825803117925,-0.002768424259972018,0.0,0.0027604454943774563,0.0055137232096524776,0.00825818623946904,0.010996085167987954,0.013726439899092967]},{\"line\":{\"color\":\"rgba(128, 0, 128, 1.0)\",\"dash\":\"solid\",\"shape\":\"linear\",\"width\":1.3},\"mode\":\"lines\",\"name\":\"Blueberries\",\"text\":\"\",\"type\":\"scatter\",\"x\":[-0.6931471805599453,-0.5108256237659907,-0.35667494393873245,-0.22314355131420968,-0.10536051565782628,0.0,0.09531017980432495,0.1823215567939546,0.26236426446749106,0.33647223662121284,0.4054651081081644],\"y\":[-3.448918210696453e-07,-3.482011430338585e-07,-3.500281215739806e-07,-3.451066340889651e-07,-3.445849408869462e-07,0.0,-4.5134333290155354e-08,-1.4798876220377246e-07,-1.510330479272429e-07,-1.6299560153250896e-07,-2.1336392686228658e-07]},{\"line\":{\"color\":\"rgba(219, 64, 82, 1.0)\",\"dash\":\"solid\",\"shape\":\"linear\",\"width\":1.3},\"mode\":\"lines\",\"name\":\"Raspberries\",\"text\":\"\",\"type\":\"scatter\",\"x\":[-0.6931471805599453,-0.5108256237659907,-0.35667494393873245,-0.22314355131420968,-0.10536051565782628,0.0,0.09531017980432495,0.1823215567939546,0.26236426446749106,0.33647223662121284,0.4054651081081644],\"y\":[-3.501082067627411e-07,-3.485232331673833e-07,-3.430267193545426e-07,-3.4383962015839123e-07,-3.3194045281644346e-07,0.0,3.1035358467841577e-08,-5.312718495258381e-08,-1.2676508191701048e-07,-1.4882412288624967e-07,-1.4886428321174166e-07]},{\"line\":{\"color\":\"rgba(0, 128, 128, 1.0)\",\"dash\":\"solid\",\"shape\":\"linear\",\"width\":1.3},\"mode\":\"lines\",\"name\":\"Grapes, green, seedless\",\"text\":\"\",\"type\":\"scatter\",\"x\":[-0.6931471805599453,-0.5108256237659907,-0.35667494393873245,-0.22314355131420968,-0.10536051565782628,0.0,0.09531017980432495,0.1823215567939546,0.26236426446749106,0.33647223662121284,0.4054651081081644],\"y\":[-3.4423742630560673e-07,-3.4401494497340445e-07,-3.453828123757415e-07,-3.4471324096842565e-07,-1.6838678936709827e-07,0.0,4.394656386599258e-08,2.567650237215772e-08,-1.3172546251710323e-08,-5.618947165542342e-08,-9.371253346110842e-08]},{\"line\":{\"color\":\"rgba(255, 255, 51, 1.0)\",\"dash\":\"solid\",\"shape\":\"linear\",\"width\":1.3},\"mode\":\"lines\",\"name\":\"Strawberries\",\"text\":\"\",\"type\":\"scatter\",\"x\":[-0.6931471805599453,-0.5108256237659907,-0.35667494393873245,-0.22314355131420968,-0.10536051565782628,0.0,0.09531017980432495,0.1823215567939546,0.26236426446749106,0.33647223662121284,0.4054651081081644],\"y\":[8.529471764833887e-08,1.9013721071497733e-06,-2.263540256061198e-07,-1.2811153248422274e-07,-4.7524586285404374e-08,0.0,4.926270936407282e-08,1.135688540890955e-07,1.9719944420356784e-07,2.853893995785388e-07,3.681364110943675e-07]},{\"line\":{\"color\":\"rgba(128, 128, 0, 1.0)\",\"dash\":\"solid\",\"shape\":\"linear\",\"width\":1.3},\"mode\":\"lines\",\"name\":\"Lentils, red\",\"text\":\"\",\"type\":\"scatter\",\"x\":[-0.6931471805599453,-0.5108256237659907,-0.35667494393873245,-0.22314355131420968,-0.10536051565782628,0.0,0.09531017980432495,0.1823215567939546,0.26236426446749106,0.33647223662121284,0.4054651081081644],\"y\":[-0.01805512015309662,-0.012584712763782821,-0.007708107681895989,-0.0033256981668047434,-0.0015788177935150151,0.0,0.001575878675725409,0.003149629690675989,0.003863353249439868,0.003863354442836346,0.0038633539780697024]},{\"line\":{\"color\":\"rgba(251, 128, 114, 1.0)\",\"dash\":\"solid\",\"shape\":\"linear\",\"width\":1.3},\"mode\":\"lines\",\"name\":\"Tofu\",\"text\":\"\",\"type\":\"scatter\",\"x\":[-0.6931471805599453,-0.5108256237659907,-0.35667494393873245,-0.22314355131420968,-0.10536051565782628,0.0,0.09531017980432495,0.1823215567939546,0.26236426446749106,0.33647223662121284,0.4054651081081644],\"y\":[-1.55621876059989e-07,-7.603853136463878e-08,-1.3049411303412425e-08,1.9135075341014885e-08,1.8597667899281118e-08,0.0,-2.2713900463100827e-08,-3.88534413307649e-08,-4.4057474639842753e-08,-4.344827858623148e-08,-3.898293619508464e-08]},{\"line\":{\"color\":\"rgba(128, 177, 211, 1.0)\",\"dash\":\"solid\",\"shape\":\"linear\",\"width\":1.3},\"mode\":\"lines\",\"name\":\"Split peas, dry\",\"text\":\"\",\"type\":\"scatter\",\"x\":[-0.6931471805599453,-0.5108256237659907,-0.35667494393873245,-0.22314355131420968,-0.10536051565782628,0.0,0.09531017980432495,0.1823215567939546,0.26236426446749106,0.33647223662121284,0.4054651081081644],\"y\":[-0.0075846672150084405,-0.002300472699401281,-0.00013487046967750263,-3.5387615859619126e-07,-1.4643462937459612e-07,0.0,-3.461970441173281e-07,-3.443556407845459e-07,-3.4386146291573295e-07,-3.4399276892699273e-07,-3.4439359166228826e-07]},{\"line\":{\"color\":\"rgba(128, 177, 211, 0.8999999999999999)\",\"dash\":\"solid\",\"shape\":\"linear\",\"width\":1.3},\"mode\":\"lines\",\"name\":\"Chickpeas, canned\",\"text\":\"\",\"type\":\"scatter\",\"x\":[-0.6931471805599453,-0.5108256237659907,-0.35667494393873245,-0.22314355131420968,-0.10536051565782628,0.0,0.09531017980432495,0.1823215567939546,0.26236426446749106,0.33647223662121284,0.4054651081081644],\"y\":[-3.469155352997414e-07,-3.278664266882132e-07,-2.519938906412e-07,-1.4754918387613774e-07,-5.810346273051968e-08,0.0,3.048771943946476e-08,4.201021620040378e-08,4.200735093694219e-08,3.5585982638065756e-08,2.591385583624673e-08]},{\"line\":{\"color\":\"rgba(255, 153, 51, 0.8999999999999999)\",\"dash\":\"solid\",\"shape\":\"linear\",\"width\":1.3},\"mode\":\"lines\",\"name\":\"Quinoa, dry\",\"text\":\"\",\"type\":\"scatter\",\"x\":[-0.6931471805599453,-0.5108256237659907,-0.35667494393873245,-0.22314355131420968,-0.10536051565782628,0.0,0.09531017980432495,0.1823215567939546,0.26236426446749106,0.33647223662121284,0.4054651081081644],\"y\":[-0.037828774918396174,-0.0132631684408072,-0.0012963675858448595,-1.6873947031104394e-07,-6.162981366470671e-09,0.0,-1.7596384521103402e-07,-3.2112426689042943e-07,-3.4643611529637536e-07,-3.456223648364417e-07,-3.4496182232082774e-07]},{\"line\":{\"color\":\"rgba(55, 128, 191, 0.8999999999999999)\",\"dash\":\"solid\",\"shape\":\"linear\",\"width\":1.3},\"mode\":\"lines\",\"name\":\"Hummus\",\"text\":\"\",\"type\":\"scatter\",\"x\":[-0.6931471805599453,-0.5108256237659907,-0.35667494393873245,-0.22314355131420968,-0.10536051565782628,0.0,0.09531017980432495,0.1823215567939546,0.26236426446749106,0.33647223662121284,0.4054651081081644],\"y\":[6.026116488654257e-07,-3.5381758742753433e-07,-9.153678778690399e-08,8.824654772792458e-08,1.3299374738632438e-07,0.0,-1.2083659492559175e-07,-1.9828095976898546e-07,-2.480151444243183e-07,-2.835278014629457e-07,-3.1127770454229855e-07]},{\"line\":{\"color\":\"rgba(50, 171, 96, 0.8999999999999999)\",\"dash\":\"solid\",\"shape\":\"linear\",\"width\":1.3},\"mode\":\"lines\",\"name\":\"Black beans, canned\",\"text\":\"\",\"type\":\"scatter\",\"x\":[-0.6931471805599453,-0.5108256237659907,-0.35667494393873245,-0.22314355131420968,-0.10536051565782628,0.0,0.09531017980432495,0.1823215567939546,0.26236426446749106,0.33647223662121284,0.4054651081081644],\"y\":[-0.1728760287429172,-0.12852187515871927,-0.09066429374165363,-0.05788861953467212,-0.02619120340094427,0.0,0.022980264577387204,0.037165599084685155,0.04857683844872822,0.050342547332223556,0.05034254819621785]},{\"line\":{\"color\":\"rgba(128, 0, 128, 0.8999999999999999)\",\"dash\":\"solid\",\"shape\":\"linear\",\"width\":1.3},\"mode\":\"lines\",\"name\":\"Tomato, Roma\",\"text\":\"\",\"type\":\"scatter\",\"x\":[-0.6931471805599453,-0.5108256237659907,-0.35667494393873245,-0.22314355131420968,-0.10536051565782628,0.0,0.09531017980432495,0.1823215567939546,0.26236426446749106,0.33647223662121284,0.4054651081081644],\"y\":[-3.496329357737604e-07,-3.464422399548348e-07,-3.4321631387084637e-07,-3.446858490924309e-07,-3.1012470626469816e-07,0.0,4.7033055898543174e-08,-1.3970620646897542e-08,-7.736487627813012e-08,-1.2515474485031722e-07,-1.4260019993493578e-07]},{\"line\":{\"color\":\"rgba(219, 64, 82, 0.8999999999999999)\",\"dash\":\"solid\",\"shape\":\"linear\",\"width\":1.3},\"mode\":\"lines\",\"name\":\"Broccoli\",\"text\":\"\",\"type\":\"scatter\",\"x\":[-0.6931471805599453,-0.5108256237659907,-0.35667494393873245,-0.22314355131420968,-0.10536051565782628,0.0,0.09531017980432495,0.1823215567939546,0.26236426446749106,0.33647223662121284,0.4054651081081644],\"y\":[-1.176125213105909e-07,-3.5380679716614026e-07,5.480229633911173e-07,1.4806225460139778e-06,-1.8833220502426114e-07,0.0,-2.559501455260332e-07,-3.3863870601619356e-07,-3.3437467911527047e-07,5.412379997596021e-08,-3.5379436188670875e-07]},{\"line\":{\"color\":\"rgba(0, 128, 128, 0.8999999999999999)\",\"dash\":\"solid\",\"shape\":\"linear\",\"width\":1.3},\"mode\":\"lines\",\"name\":\"Kale\",\"text\":\"\",\"type\":\"scatter\",\"x\":[-0.6931471805599453,-0.5108256237659907,-0.35667494393873245,-0.22314355131420968,-0.10536051565782628,0.0,0.09531017980432495,0.1823215567939546,0.26236426446749106,0.33647223662121284,0.4054651081081644],\"y\":[-0.031896490336758954,-0.020936037233602905,-0.015083865817309115,-0.010030628240584323,-0.005002850021214313,0.0,0.004977418564506645,0.009930520788714054,0.01485987311318267,0.019247002284754684,0.022431151431329475]},{\"line\":{\"color\":\"rgba(255, 255, 51, 0.8999999999999999)\",\"dash\":\"solid\",\"shape\":\"linear\",\"width\":1.3},\"mode\":\"lines\",\"name\":\"Green beans, raw\",\"text\":\"\",\"type\":\"scatter\",\"x\":[-0.6931471805599453,-0.5108256237659907,-0.35667494393873245,-0.22314355131420968,-0.10536051565782628,0.0,0.09531017980432495,0.1823215567939546,0.26236426446749106,0.33647223662121284,0.4054651081081644],\"y\":[-3.5339343178904075e-07,-3.212755865625314e-07,6.511125693132703e-08,-2.8897199500746015e-07,-1.8531067254621347e-07,0.0,1.5332643689412872e-07,1.2511968966415817e-07,5.7785169422998495e-08,-5.992460878814488e-09,-5.7569724867940695e-08]},{\"line\":{\"color\":\"rgba(128, 128, 0, 0.8999999999999999)\",\"dash\":\"solid\",\"shape\":\"linear\",\"width\":1.3},\"mode\":\"lines\",\"name\":\"Onions, yellow\",\"text\":\"\",\"type\":\"scatter\",\"x\":[-0.6931471805599453,-0.5108256237659907,-0.35667494393873245,-0.22314355131420968,-0.10536051565782628,0.0,0.09531017980432495,0.1823215567939546,0.26236426446749106,0.33647223662121284,0.4054651081081644],\"y\":[-3.4368521139726943e-07,-3.446173077850483e-07,-3.4609123605169816e-07,-3.1623992728874785e-07,-1.3899326067941052e-07,0.0,4.0925422435052486e-08,2.7335492606670343e-08,-4.954106470670695e-09,-4.451921808156874e-08,-8.269858762237302e-08]},{\"line\":{\"color\":\"rgba(251, 128, 114, 0.8999999999999999)\",\"dash\":\"solid\",\"shape\":\"linear\",\"width\":1.3},\"mode\":\"lines\",\"name\":\"Celery\",\"text\":\"\",\"type\":\"scatter\",\"x\":[-0.6931471805599453,-0.5108256237659907,-0.35667494393873245,-0.22314355131420968,-0.10536051565782628,0.0,0.09531017980432495,0.1823215567939546,0.26236426446749106,0.33647223662121284,0.4054651081081644],\"y\":[-3.420463003835475e-07,-3.4281396768746605e-07,-3.4490760478276324e-07,-3.213835892040937e-07,-1.3247990838153764e-07,0.0,2.5202489111138988e-08,1.2136449615692263e-09,-3.583600125352061e-08,-7.09777726247066e-08,-1.0215760781755018e-07]},{\"line\":{\"color\":\"rgba(251, 128, 114, 0.7999999999999998)\",\"dash\":\"solid\",\"shape\":\"linear\",\"width\":1.3},\"mode\":\"lines\",\"name\":\"Potato, Russet\",\"text\":\"\",\"type\":\"scatter\",\"x\":[-0.6931471805599453,-0.5108256237659907,-0.35667494393873245,-0.22314355131420968,-0.10536051565782628,0.0,0.09531017980432495,0.1823215567939546,0.26236426446749106,0.33647223662121284,0.4054651081081644],\"y\":[-0.004437809801179696,-3.368798706776166e-07,-2.5835460710801366e-07,-3.496687017320266e-07,3.267686056313935e-07,0.0,-3.425190308447051e-07,-3.3541336138137174e-07,-3.318153398548971e-07,-3.318197514385716e-07,-3.3456803562191137e-07]},{\"line\":{\"color\":\"rgba(128, 177, 211, 0.7999999999999998)\",\"dash\":\"solid\",\"shape\":\"linear\",\"width\":1.3},\"mode\":\"lines\",\"name\":\"Carrot\",\"text\":\"\",\"type\":\"scatter\",\"x\":[-0.6931471805599453,-0.5108256237659907,-0.35667494393873245,-0.22314355131420968,-0.10536051565782628,0.0,0.09531017980432495,0.1823215567939546,0.26236426446749106,0.33647223662121284,0.4054651081081644],\"y\":[-0.1335560032167589,-0.07438470848578876,-0.0354903433369161,-0.020756285581166534,-0.00700560539853586,0.0,0.0026656709044291602,0.005324327776145574,0.007976027527585488,0.010620722663699641,0.01325841706966322]},{\"line\":{\"color\":\"rgba(255, 153, 51, 0.7999999999999998)\",\"dash\":\"solid\",\"shape\":\"linear\",\"width\":1.3},\"mode\":\"lines\",\"name\":\"Cucumber\",\"text\":\"\",\"type\":\"scatter\",\"x\":[-0.6931471805599453,-0.5108256237659907,-0.35667494393873245,-0.22314355131420968,-0.10536051565782628,0.0,0.09531017980432495,0.1823215567939546,0.26236426446749106,0.33647223662121284,0.4054651081081644],\"y\":[-3.446057393681674e-07,-3.4292279667063514e-07,-3.441875997011552e-07,-3.4644775299121816e-07,-2.089618463429925e-07,0.0,4.194384307397494e-08,9.948794183394276e-09,-4.491515194054225e-08,-9.38386510337743e-08,-1.336409964285309e-07]},{\"line\":{\"color\":\"rgba(55, 128, 191, 0.7999999999999998)\",\"dash\":\"solid\",\"shape\":\"linear\",\"width\":1.3},\"mode\":\"lines\",\"name\":\"Avocado\",\"text\":\"\",\"type\":\"scatter\",\"x\":[-0.6931471805599453,-0.5108256237659907,-0.35667494393873245,-0.22314355131420968,-0.10536051565782628,0.0,0.09531017980432495,0.1823215567939546,0.26236426446749106,0.33647223662121284,0.4054651081081644],\"y\":[-0.10458125944574373,-0.06996649494825055,-0.03842540334354244,-0.012277045763021879,-0.005259167943647716,0.0,0.005230951110696153,0.006671790657983486,0.006671716833244996,0.006671715007286836,0.006671714460882261]},{\"line\":{\"color\":\"rgba(50, 171, 96, 0.7999999999999998)\",\"dash\":\"solid\",\"shape\":\"linear\",\"width\":1.3},\"mode\":\"lines\",\"name\":\"Lettuce, Romaine\",\"text\":\"\",\"type\":\"scatter\",\"x\":[-0.6931471805599453,-0.5108256237659907,-0.35667494393873245,-0.22314355131420968,-0.10536051565782628,0.0,0.09531017980432495,0.1823215567939546,0.26236426446749106,0.33647223662121284,0.4054651081081644],\"y\":[-3.3171227704017255e-07,-3.526121163895241e-07,-1.0466818959763073e-07,-3.4644816233058916e-07,-3.4978528396114607e-07,0.0,-2.023549974707146e-07,-2.3645030320269402e-07,-5.664332574646909e-08,4.0454135807545105e-07,-3.5387066410049803e-07]},{\"line\":{\"color\":\"rgba(128, 0, 128, 0.7999999999999998)\",\"dash\":\"solid\",\"shape\":\"linear\",\"width\":1.3},\"mode\":\"lines\",\"name\":\"Mushrooms\",\"text\":\"\",\"type\":\"scatter\",\"x\":[-0.6931471805599453,-0.5108256237659907,-0.35667494393873245,-0.22314355131420968,-0.10536051565782628,0.0,0.09531017980432495,0.1823215567939546,0.26236426446749106,0.33647223662121284,0.4054651081081644],\"y\":[-2.884860535799454e-07,-3.4505415227416843e-07,-2.387410473417776e-07,-3.520106088891838e-07,-3.5362742158825013e-07,0.0,-2.3417182792433145e-07,-3.5172683089925573e-07,-3.4822442919275246e-07,-3.512015805379629e-07,-3.5245558676725636e-07]},{\"line\":{\"color\":\"rgba(219, 64, 82, 0.7999999999999998)\",\"dash\":\"solid\",\"shape\":\"linear\",\"width\":1.3},\"mode\":\"lines\",\"name\":\"Spinach\",\"text\":\"\",\"type\":\"scatter\",\"x\":[-0.6931471805599453,-0.5108256237659907,-0.35667494393873245,-0.22314355131420968,-0.10536051565782628,0.0,0.09531017980432495,0.1823215567939546,0.26236426446749106,0.33647223662121284,0.4054651081081644],\"y\":[-2.1345253378079137e-07,5.0134147131564745e-08,-3.412002029021925e-07,-3.4774829367369716e-07,-3.5377530878753096e-07,0.0,-3.491836617764276e-07,-3.1669864383211704e-07,-3.478016961969098e-07,-3.386220796436135e-07,-3.428159468827306e-07]},{\"line\":{\"color\":\"rgba(0, 128, 128, 0.7999999999999998)\",\"dash\":\"solid\",\"shape\":\"linear\",\"width\":1.3},\"mode\":\"lines\",\"name\":\"Rice, White\",\"text\":\"\",\"type\":\"scatter\",\"x\":[-0.6931471805599453,-0.5108256237659907,-0.35667494393873245,-0.22314355131420968,-0.10536051565782628,0.0,0.09531017980432495,0.1823215567939546,0.26236426446749106,0.33647223662121284,0.4054651081081644],\"y\":[-3.5142411294204113e-07,-3.5374249846589957e-07,-3.53853618729347e-07,-1.3524049340083367e-07,-6.203943751324684e-08,0.0,-3.079295176659969e-07,-3.4584349680347074e-07,-3.444538875624561e-07,-3.436787541158944e-07,-3.4347022773691747e-07]},{\"line\":{\"color\":\"rgba(255, 255, 51, 0.7999999999999998)\",\"dash\":\"solid\",\"shape\":\"linear\",\"width\":1.3},\"mode\":\"lines\",\"name\":\"Tortillas, corn\",\"text\":\"\",\"type\":\"scatter\",\"x\":[-0.6931471805599453,-0.5108256237659907,-0.35667494393873245,-0.22314355131420968,-0.10536051565782628,0.0,0.09531017980432495,0.1823215567939546,0.26236426446749106,0.33647223662121284,0.4054651081081644],\"y\":[-0.009308654213076877,-0.006434788061995568,-0.0035925289070876673,-0.002253489681086474,-0.0011262725009006424,0.0,0.0011258965377728984,0.0014804224922025547,0.0014801538124242987,0.0014801560558506744,0.0014802033484459937]},{\"line\":{\"color\":\"rgba(128, 128, 0, 0.7999999999999998)\",\"dash\":\"solid\",\"shape\":\"linear\",\"width\":1.3},\"mode\":\"lines\",\"name\":\"Oats, rolled\",\"text\":\"\",\"type\":\"scatter\",\"x\":[-0.6931471805599453,-0.5108256237659907,-0.35667494393873245,-0.22314355131420968,-0.10536051565782628,0.0,0.09531017980432495,0.1823215567939546,0.26236426446749106,0.33647223662121284,0.4054651081081644],\"y\":[8.233695053188222e-08,1.6582912683198632e-08,3.177671364401028e-08,3.040765770688306e-08,1.844063640327399e-08,0.0,-2.308181650249973e-08,-4.980230607577923e-08,-7.939379913367329e-08,-1.1110287352253383e-07,-1.4410181798027396e-07]},{\"line\":{\"color\":\"rgba(128, 128, 0, 0.7)\",\"dash\":\"solid\",\"shape\":\"linear\",\"width\":1.3},\"mode\":\"lines\",\"name\":\"Soy milk, unsweetened\",\"text\":\"\",\"type\":\"scatter\",\"x\":[-0.6931471805599453,-0.5108256237659907,-0.35667494393873245,-0.22314355131420968,-0.10536051565782628,0.0,0.09531017980432495,0.1823215567939546,0.26236426446749106,0.33647223662121284,0.4054651081081644],\"y\":[-0.19343959066070723,-0.15164175027628865,-0.11152165839015496,-0.07294923006038713,-0.03580954919547749,0.0,0.034571419706881615,0.0679874747322847,0.10032291372193271,0.13164546807491045,0.16201668453500453]},{\"line\":{\"color\":\"rgba(251, 128, 114, 0.7)\",\"dash\":\"solid\",\"shape\":\"linear\",\"width\":1.3},\"mode\":\"lines\",\"name\":\"Peanut butter, creamy\",\"text\":\"\",\"type\":\"scatter\",\"x\":[-0.6931471805599453,-0.5108256237659907,-0.35667494393873245,-0.22314355131420968,-0.10536051565782628,0.0,0.09531017980432495,0.1823215567939546,0.26236426446749106,0.33647223662121284,0.4054651081081644],\"y\":[-0.09682282902522668,-0.07563677700364824,-0.056151951827001605,-0.03708226448902073,-0.018369433796033688,0.0,0.018037382318231363,0.03575555699289189,0.05316538132993717,0.06910485165626083,0.08358320565266203]},{\"line\":{\"color\":\"rgba(128, 177, 211, 0.7)\",\"dash\":\"solid\",\"shape\":\"linear\",\"width\":1.3},\"mode\":\"lines\",\"name\":\"Rice, Brown\",\"text\":\"\",\"type\":\"scatter\",\"x\":[-0.6931471805599453,-0.5108256237659907,-0.35667494393873245,-0.22314355131420968,-0.10536051565782628,0.0,0.09531017980432495,0.1823215567939546,0.26236426446749106,0.33647223662121284,0.4054651081081644],\"y\":[-0.0015983343681521707,-0.0005326385712356064,-3.532564638591655e-07,-1.4411644217312872e-07,-6.107719483509461e-08,0.0,-2.748917004376503e-07,-3.46214100035471e-07,-3.4480467108567163e-07,-3.43761491627864e-07,-3.4304530316208214e-07]},{\"line\":{\"color\":\"rgba(255, 153, 51, 0.7)\",\"dash\":\"solid\",\"shape\":\"linear\",\"width\":1.3},\"mode\":\"lines\",\"name\":\"Spaghetti, dry\",\"text\":\"\",\"type\":\"scatter\",\"x\":[-0.6931471805599453,-0.5108256237659907,-0.35667494393873245,-0.22314355131420968,-0.10536051565782628,0.0,0.09531017980432495,0.1823215567939546,0.26236426446749106,0.33647223662121284,0.4054651081081644],\"y\":[-0.0026139770842719553,-0.0015586049650391392,-0.0009389501961862243,-0.00032002115164799736,-3.539046726862682e-07,0.0,-3.4954763442237806e-07,-3.5066395873539967e-07,-3.517757215857439e-07,-3.5226961202162553e-07,-3.5249745040569106e-07]}],                        {\"legend\":{\"bgcolor\":\"#F5F6F9\",\"font\":{\"color\":\"#4D5663\"}},\"paper_bgcolor\":\"#F5F6F9\",\"plot_bgcolor\":\"#F5F6F9\",\"template\":{\"data\":{\"bar\":[{\"error_x\":{\"color\":\"#2a3f5f\"},\"error_y\":{\"color\":\"#2a3f5f\"},\"marker\":{\"line\":{\"color\":\"#E5ECF6\",\"width\":0.5},\"pattern\":{\"fillmode\":\"overlay\",\"size\":10,\"solidity\":0.2}},\"type\":\"bar\"}],\"barpolar\":[{\"marker\":{\"line\":{\"color\":\"#E5ECF6\",\"width\":0.5},\"pattern\":{\"fillmode\":\"overlay\",\"size\":10,\"solidity\":0.2}},\"type\":\"barpolar\"}],\"carpet\":[{\"aaxis\":{\"endlinecolor\":\"#2a3f5f\",\"gridcolor\":\"white\",\"linecolor\":\"white\",\"minorgridcolor\":\"white\",\"startlinecolor\":\"#2a3f5f\"},\"baxis\":{\"endlinecolor\":\"#2a3f5f\",\"gridcolor\":\"white\",\"linecolor\":\"white\",\"minorgridcolor\":\"white\",\"startlinecolor\":\"#2a3f5f\"},\"type\":\"carpet\"}],\"choropleth\":[{\"colorbar\":{\"outlinewidth\":0,\"ticks\":\"\"},\"type\":\"choropleth\"}],\"contour\":[{\"colorbar\":{\"outlinewidth\":0,\"ticks\":\"\"},\"colorscale\":[[0.0,\"#0d0887\"],[0.1111111111111111,\"#46039f\"],[0.2222222222222222,\"#7201a8\"],[0.3333333333333333,\"#9c179e\"],[0.4444444444444444,\"#bd3786\"],[0.5555555555555556,\"#d8576b\"],[0.6666666666666666,\"#ed7953\"],[0.7777777777777778,\"#fb9f3a\"],[0.8888888888888888,\"#fdca26\"],[1.0,\"#f0f921\"]],\"type\":\"contour\"}],\"contourcarpet\":[{\"colorbar\":{\"outlinewidth\":0,\"ticks\":\"\"},\"type\":\"contourcarpet\"}],\"heatmap\":[{\"colorbar\":{\"outlinewidth\":0,\"ticks\":\"\"},\"colorscale\":[[0.0,\"#0d0887\"],[0.1111111111111111,\"#46039f\"],[0.2222222222222222,\"#7201a8\"],[0.3333333333333333,\"#9c179e\"],[0.4444444444444444,\"#bd3786\"],[0.5555555555555556,\"#d8576b\"],[0.6666666666666666,\"#ed7953\"],[0.7777777777777778,\"#fb9f3a\"],[0.8888888888888888,\"#fdca26\"],[1.0,\"#f0f921\"]],\"type\":\"heatmap\"}],\"heatmapgl\":[{\"colorbar\":{\"outlinewidth\":0,\"ticks\":\"\"},\"colorscale\":[[0.0,\"#0d0887\"],[0.1111111111111111,\"#46039f\"],[0.2222222222222222,\"#7201a8\"],[0.3333333333333333,\"#9c179e\"],[0.4444444444444444,\"#bd3786\"],[0.5555555555555556,\"#d8576b\"],[0.6666666666666666,\"#ed7953\"],[0.7777777777777778,\"#fb9f3a\"],[0.8888888888888888,\"#fdca26\"],[1.0,\"#f0f921\"]],\"type\":\"heatmapgl\"}],\"histogram\":[{\"marker\":{\"pattern\":{\"fillmode\":\"overlay\",\"size\":10,\"solidity\":0.2}},\"type\":\"histogram\"}],\"histogram2d\":[{\"colorbar\":{\"outlinewidth\":0,\"ticks\":\"\"},\"colorscale\":[[0.0,\"#0d0887\"],[0.1111111111111111,\"#46039f\"],[0.2222222222222222,\"#7201a8\"],[0.3333333333333333,\"#9c179e\"],[0.4444444444444444,\"#bd3786\"],[0.5555555555555556,\"#d8576b\"],[0.6666666666666666,\"#ed7953\"],[0.7777777777777778,\"#fb9f3a\"],[0.8888888888888888,\"#fdca26\"],[1.0,\"#f0f921\"]],\"type\":\"histogram2d\"}],\"histogram2dcontour\":[{\"colorbar\":{\"outlinewidth\":0,\"ticks\":\"\"},\"colorscale\":[[0.0,\"#0d0887\"],[0.1111111111111111,\"#46039f\"],[0.2222222222222222,\"#7201a8\"],[0.3333333333333333,\"#9c179e\"],[0.4444444444444444,\"#bd3786\"],[0.5555555555555556,\"#d8576b\"],[0.6666666666666666,\"#ed7953\"],[0.7777777777777778,\"#fb9f3a\"],[0.8888888888888888,\"#fdca26\"],[1.0,\"#f0f921\"]],\"type\":\"histogram2dcontour\"}],\"mesh3d\":[{\"colorbar\":{\"outlinewidth\":0,\"ticks\":\"\"},\"type\":\"mesh3d\"}],\"parcoords\":[{\"line\":{\"colorbar\":{\"outlinewidth\":0,\"ticks\":\"\"}},\"type\":\"parcoords\"}],\"pie\":[{\"automargin\":true,\"type\":\"pie\"}],\"scatter\":[{\"marker\":{\"colorbar\":{\"outlinewidth\":0,\"ticks\":\"\"}},\"type\":\"scatter\"}],\"scatter3d\":[{\"line\":{\"colorbar\":{\"outlinewidth\":0,\"ticks\":\"\"}},\"marker\":{\"colorbar\":{\"outlinewidth\":0,\"ticks\":\"\"}},\"type\":\"scatter3d\"}],\"scattercarpet\":[{\"marker\":{\"colorbar\":{\"outlinewidth\":0,\"ticks\":\"\"}},\"type\":\"scattercarpet\"}],\"scattergeo\":[{\"marker\":{\"colorbar\":{\"outlinewidth\":0,\"ticks\":\"\"}},\"type\":\"scattergeo\"}],\"scattergl\":[{\"marker\":{\"colorbar\":{\"outlinewidth\":0,\"ticks\":\"\"}},\"type\":\"scattergl\"}],\"scattermapbox\":[{\"marker\":{\"colorbar\":{\"outlinewidth\":0,\"ticks\":\"\"}},\"type\":\"scattermapbox\"}],\"scatterpolar\":[{\"marker\":{\"colorbar\":{\"outlinewidth\":0,\"ticks\":\"\"}},\"type\":\"scatterpolar\"}],\"scatterpolargl\":[{\"marker\":{\"colorbar\":{\"outlinewidth\":0,\"ticks\":\"\"}},\"type\":\"scatterpolargl\"}],\"scatterternary\":[{\"marker\":{\"colorbar\":{\"outlinewidth\":0,\"ticks\":\"\"}},\"type\":\"scatterternary\"}],\"surface\":[{\"colorbar\":{\"outlinewidth\":0,\"ticks\":\"\"},\"colorscale\":[[0.0,\"#0d0887\"],[0.1111111111111111,\"#46039f\"],[0.2222222222222222,\"#7201a8\"],[0.3333333333333333,\"#9c179e\"],[0.4444444444444444,\"#bd3786\"],[0.5555555555555556,\"#d8576b\"],[0.6666666666666666,\"#ed7953\"],[0.7777777777777778,\"#fb9f3a\"],[0.8888888888888888,\"#fdca26\"],[1.0,\"#f0f921\"]],\"type\":\"surface\"}],\"table\":[{\"cells\":{\"fill\":{\"color\":\"#EBF0F8\"},\"line\":{\"color\":\"white\"}},\"header\":{\"fill\":{\"color\":\"#C8D4E3\"},\"line\":{\"color\":\"white\"}},\"type\":\"table\"}]},\"layout\":{\"annotationdefaults\":{\"arrowcolor\":\"#2a3f5f\",\"arrowhead\":0,\"arrowwidth\":1},\"autotypenumbers\":\"strict\",\"coloraxis\":{\"colorbar\":{\"outlinewidth\":0,\"ticks\":\"\"}},\"colorscale\":{\"diverging\":[[0,\"#8e0152\"],[0.1,\"#c51b7d\"],[0.2,\"#de77ae\"],[0.3,\"#f1b6da\"],[0.4,\"#fde0ef\"],[0.5,\"#f7f7f7\"],[0.6,\"#e6f5d0\"],[0.7,\"#b8e186\"],[0.8,\"#7fbc41\"],[0.9,\"#4d9221\"],[1,\"#276419\"]],\"sequential\":[[0.0,\"#0d0887\"],[0.1111111111111111,\"#46039f\"],[0.2222222222222222,\"#7201a8\"],[0.3333333333333333,\"#9c179e\"],[0.4444444444444444,\"#bd3786\"],[0.5555555555555556,\"#d8576b\"],[0.6666666666666666,\"#ed7953\"],[0.7777777777777778,\"#fb9f3a\"],[0.8888888888888888,\"#fdca26\"],[1.0,\"#f0f921\"]],\"sequentialminus\":[[0.0,\"#0d0887\"],[0.1111111111111111,\"#46039f\"],[0.2222222222222222,\"#7201a8\"],[0.3333333333333333,\"#9c179e\"],[0.4444444444444444,\"#bd3786\"],[0.5555555555555556,\"#d8576b\"],[0.6666666666666666,\"#ed7953\"],[0.7777777777777778,\"#fb9f3a\"],[0.8888888888888888,\"#fdca26\"],[1.0,\"#f0f921\"]]},\"colorway\":[\"#636efa\",\"#EF553B\",\"#00cc96\",\"#ab63fa\",\"#FFA15A\",\"#19d3f3\",\"#FF6692\",\"#B6E880\",\"#FF97FF\",\"#FECB52\"],\"font\":{\"color\":\"#2a3f5f\"},\"geo\":{\"bgcolor\":\"white\",\"lakecolor\":\"white\",\"landcolor\":\"#E5ECF6\",\"showlakes\":true,\"showland\":true,\"subunitcolor\":\"white\"},\"hoverlabel\":{\"align\":\"left\"},\"hovermode\":\"closest\",\"mapbox\":{\"style\":\"light\"},\"paper_bgcolor\":\"white\",\"plot_bgcolor\":\"#E5ECF6\",\"polar\":{\"angularaxis\":{\"gridcolor\":\"white\",\"linecolor\":\"white\",\"ticks\":\"\"},\"bgcolor\":\"#E5ECF6\",\"radialaxis\":{\"gridcolor\":\"white\",\"linecolor\":\"white\",\"ticks\":\"\"}},\"scene\":{\"xaxis\":{\"backgroundcolor\":\"#E5ECF6\",\"gridcolor\":\"white\",\"gridwidth\":2,\"linecolor\":\"white\",\"showbackground\":true,\"ticks\":\"\",\"zerolinecolor\":\"white\"},\"yaxis\":{\"backgroundcolor\":\"#E5ECF6\",\"gridcolor\":\"white\",\"gridwidth\":2,\"linecolor\":\"white\",\"showbackground\":true,\"ticks\":\"\",\"zerolinecolor\":\"white\"},\"zaxis\":{\"backgroundcolor\":\"#E5ECF6\",\"gridcolor\":\"white\",\"gridwidth\":2,\"linecolor\":\"white\",\"showbackground\":true,\"ticks\":\"\",\"zerolinecolor\":\"white\"}},\"shapedefaults\":{\"line\":{\"color\":\"#2a3f5f\"}},\"ternary\":{\"aaxis\":{\"gridcolor\":\"white\",\"linecolor\":\"white\",\"ticks\":\"\"},\"baxis\":{\"gridcolor\":\"white\",\"linecolor\":\"white\",\"ticks\":\"\"},\"bgcolor\":\"#E5ECF6\",\"caxis\":{\"gridcolor\":\"white\",\"linecolor\":\"white\",\"ticks\":\"\"}},\"title\":{\"x\":0.05},\"xaxis\":{\"automargin\":true,\"gridcolor\":\"white\",\"linecolor\":\"white\",\"ticks\":\"\",\"title\":{\"standoff\":15},\"zerolinecolor\":\"white\",\"zerolinewidth\":2},\"yaxis\":{\"automargin\":true,\"gridcolor\":\"white\",\"linecolor\":\"white\",\"ticks\":\"\",\"title\":{\"standoff\":15},\"zerolinecolor\":\"white\",\"zerolinewidth\":2}}},\"title\":{\"font\":{\"color\":\"#4D5663\"}},\"xaxis\":{\"gridcolor\":\"#E1E5ED\",\"showgrid\":true,\"tickfont\":{\"color\":\"#4D5663\"},\"title\":{\"font\":{\"color\":\"#4D5663\"},\"text\":\"change in log price\"},\"zerolinecolor\":\"#E1E5ED\"},\"yaxis\":{\"gridcolor\":\"#E1E5ED\",\"showgrid\":true,\"tickfont\":{\"color\":\"#4D5663\"},\"title\":{\"font\":{\"color\":\"#4D5663\"},\"text\":\"change in log cost\"},\"zerolinecolor\":\"#E1E5ED\"}},                        {\"showLink\": true, \"linkText\": \"Export to plot.ly\", \"plotlyServerURL\": \"https://plot.ly\", \"responsive\": true}                    ).then(function(){\n",
       "                            \n",
       "var gd = document.getElementById('d62ea329-fd35-49eb-8026-da8ca54dd2bf');\n",
       "var x = new MutationObserver(function (mutations, observer) {{\n",
       "        var display = window.getComputedStyle(gd).display;\n",
       "        if (!display || display === 'none') {{\n",
       "            console.log([gd, 'removed!']);\n",
       "            Plotly.purge(gd);\n",
       "            observer.disconnect();\n",
       "        }}\n",
       "}});\n",
       "\n",
       "// Listen for the removal of the full notebook cells\n",
       "var notebookContainer = gd.closest('#notebook-container');\n",
       "if (notebookContainer) {{\n",
       "    x.observe(notebookContainer, {childList: true});\n",
       "}}\n",
       "\n",
       "// Listen for the clearing of the current output cell\n",
       "var outputEl = gd.closest('.output');\n",
       "if (outputEl) {{\n",
       "    x.observe(outputEl, {childList: true});\n",
       "}}\n",
       "\n",
       "                        })                };                });            </script>        </div>"
      ]
     },
     "metadata": {},
     "output_type": "display_data"
    }
   ],
   "source": [
    "import cufflinks as cf\n",
    "cf.go_offline()\n",
    "\n",
    "scale = [.5,.6,.7,.8,.9,1.,1.1,1.2,1.3,1.4,1.5]\n",
    "\n",
    "cost0 = solve_subsistence_problem(FoodNutrients,Prices,diet_min[group],diet_max[group],tol=tol).fun\n",
    "\n",
    "Price_response={}\n",
    "for s in scale:\n",
    "    cost = {}\n",
    "    for i,p in enumerate(Prices):\n",
    "        my_p = Prices.copy()\n",
    "        my_p[i] = p*s\n",
    "        result = solve_subsistence_problem(FoodNutrients,my_p,diet_min[group],diet_max[group],tol=tol)\n",
    "        cost[Prices.index[i]] = np.log(result.fun/cost0)\n",
    "    Price_response[np.log(s)] = cost\n",
    "\n",
    "Price_response = pd.DataFrame(Price_response).T\n",
    "Price_response.iplot(xTitle='change in log price',yTitle='change in log cost')"
   ]
  },
  {
   "cell_type": "markdown",
   "metadata": {},
   "source": [
    "## Effects of Price Changes on Subsistence Diet Composition\n",
    "\n"
   ]
  },
  {
   "cell_type": "markdown",
   "metadata": {},
   "source": [
    "The code below creates a graph which changes prices just for *one* food,\n",
    "  and traces out the effects of this change on all the foods consumed.\n",
    "\n"
   ]
  },
  {
   "cell_type": "code",
   "execution_count": 103,
   "metadata": {},
   "outputs": [
    {
     "data": {
      "text/html": [
       "        <script type=\"text/javascript\">\n",
       "        window.PlotlyConfig = {MathJaxConfig: 'local'};\n",
       "        if (window.MathJax) {MathJax.Hub.Config({SVG: {font: \"STIX-Web\"}});}\n",
       "        if (typeof require !== 'undefined') {\n",
       "        require.undef(\"plotly\");\n",
       "        requirejs.config({\n",
       "            paths: {\n",
       "                'plotly': ['https://cdn.plot.ly/plotly-2.3.1.min']\n",
       "            }\n",
       "        });\n",
       "        require(['plotly'], function(Plotly) {\n",
       "            window._Plotly = Plotly;\n",
       "        });\n",
       "        }\n",
       "        </script>\n",
       "        "
      ]
     },
     "metadata": {},
     "output_type": "display_data"
    },
    {
     "name": "stderr",
     "output_type": "stream",
     "text": [
      "/opt/conda/lib/python3.9/site-packages/pandas/core/dtypes/cast.py:1990: UnitStrippedWarning:\n",
      "\n",
      "The unit of the quantity is stripped when downcasting to ndarray.\n",
      "\n"
     ]
    },
    {
     "data": {
      "application/vnd.plotly.v1+json": {
       "config": {
        "linkText": "Export to plot.ly",
        "plotlyServerURL": "https://plot.ly",
        "showLink": true
       },
       "data": [
        {
         "line": {
          "color": "rgba(255, 153, 51, 1.0)",
          "dash": "solid",
          "shape": "linear",
          "width": 1.3
         },
         "mode": "lines",
         "name": " Banana,raw",
         "text": "",
         "type": "scatter",
         "x": [
          0.3659673552268968,
          0.5489510328403452,
          0.6587412394084142,
          0.7319347104537935,
          0.805128181499173,
          0.8783216525445522,
          0.9515151235899316,
          1.024708594635311,
          1.0979020656806904,
          1.463869420907587,
          2.927738841815174
         ],
         "y": [
          1.475733507082629,
          1.4757389438335713,
          1.4757397654620372,
          1.475709936777039,
          1.475739522947664,
          1.4757366971499197,
          1.475739313480535,
          1.475738630108072,
          1.4757389327024324,
          1.4757394711393894,
          1.4757078301691993
         ]
        },
        {
         "line": {
          "color": "rgba(55, 128, 191, 1.0)",
          "dash": "solid",
          "shape": "linear",
          "width": 1.3
         },
         "mode": "lines",
         "name": "Oranges, Navel",
         "text": "",
         "type": "scatter",
         "x": [
          0.3659673552268968,
          0.5489510328403452,
          0.6587412394084142,
          0.7319347104537935,
          0.805128181499173,
          0.8783216525445522,
          0.9515151235899316,
          1.024708594635311,
          1.0979020656806904,
          1.463869420907587,
          2.927738841815174
         ],
         "y": [
          0.4856237048264141,
          0.48562608080510605,
          0.48562596767627897,
          0.4856303046690672,
          0.48562599974426635,
          0.4856264075178191,
          0.4856260329906547,
          0.4856261342605288,
          0.4856260858780262,
          0.4856260084699278,
          0.4856306772096984
         ]
        },
        {
         "line": {
          "color": "rgba(50, 171, 96, 1.0)",
          "dash": "solid",
          "shape": "linear",
          "width": 1.3
         },
         "mode": "lines",
         "name": "Lentils, red",
         "text": "",
         "type": "scatter",
         "x": [
          0.3659673552268968,
          0.5489510328403452,
          0.6587412394084142,
          0.7319347104537935,
          0.805128181499173,
          0.8783216525445522,
          0.9515151235899316,
          1.024708594635311,
          1.0979020656806904,
          1.463869420907587,
          2.927738841815174
         ],
         "y": [
          0.11416535386308088,
          0.11416411195782664,
          0.11416401682971831,
          0.11416832807102675,
          0.11416404332152902,
          0.11416440101987028,
          0.11416407048528318,
          0.11416414137294886,
          0.1141641245445508,
          0.11416405244912858,
          0.11416795947466904
         ]
        },
        {
         "line": {
          "color": "rgba(128, 0, 128, 1.0)",
          "dash": "solid",
          "shape": "linear",
          "width": 1.3
         },
         "mode": "lines",
         "name": "Black beans, canned",
         "text": "",
         "type": "scatter",
         "x": [
          0.3659673552268968,
          0.5489510328403452,
          0.6587412394084142,
          0.7319347104537935,
          0.805128181499173,
          0.8783216525445522,
          0.9515151235899316,
          1.024708594635311,
          1.0979020656806904,
          1.463869420907587,
          2.927738841815174
         ],
         "y": [
          4.483629633377191,
          4.483653212566639,
          4.483653743810818,
          4.48362807925901,
          4.483653577646612,
          4.483651776619549,
          4.483653457811408,
          4.483653158911566,
          4.483653158394344,
          4.483653534953194,
          4.483632474746189
         ]
        },
        {
         "line": {
          "color": "rgba(219, 64, 82, 1.0)",
          "dash": "solid",
          "shape": "linear",
          "width": 1.3
         },
         "mode": "lines",
         "name": "Kale",
         "text": "",
         "type": "scatter",
         "x": [
          0.3659673552268968,
          0.5489510328403452,
          0.6587412394084142,
          0.7319347104537935,
          0.805128181499173,
          0.8783216525445522,
          0.9515151235899316,
          1.024708594635311,
          1.0979020656806904,
          1.463869420907587,
          2.927738841815174
         ],
         "y": [
          0.2253992125955011,
          0.2253994994535166,
          0.22539953662953252,
          0.22539802182185667,
          0.22539952563790605,
          0.22539939480748758,
          0.2253995160671811,
          0.22539948769416066,
          0.22539949712886007,
          0.22539952338802008,
          0.22539802729325628
         ]
        },
        {
         "line": {
          "color": "rgba(0, 128, 128, 1.0)",
          "dash": "solid",
          "shape": "linear",
          "width": 1.3
         },
         "mode": "lines",
         "name": "Carrot",
         "text": "",
         "type": "scatter",
         "x": [
          0.3659673552268968,
          0.5489510328403452,
          0.6587412394084142,
          0.7319347104537935,
          0.805128181499173,
          0.8783216525445522,
          0.9515151235899316,
          1.024708594635311,
          1.0979020656806904,
          1.463869420907587,
          2.927738841815174
         ],
         "y": [
          0.5797217004592743,
          0.5797237337307589,
          0.5797225945406094,
          0.5797689662900153,
          0.579722930006296,
          0.5797269300456898,
          0.5797232369314487,
          0.5797240950572139,
          0.5797238089508582,
          0.5797230165907481,
          0.5797690149166311
         ]
        },
        {
         "line": {
          "color": "rgba(255, 255, 51, 1.0)",
          "dash": "solid",
          "shape": "linear",
          "width": 1.3
         },
         "mode": "lines",
         "name": "Avocado",
         "text": "",
         "type": "scatter",
         "x": [
          0.3659673552268968,
          0.5489510328403452,
          0.6587412394084142,
          0.7319347104537935,
          0.805128181499173,
          0.8783216525445522,
          0.9515151235899316,
          1.024708594635311,
          1.0979020656806904,
          1.463869420907587,
          2.927738841815174
         ],
         "y": [
          0.6375377712683017,
          0.6375283145852526,
          0.6375282226151059,
          0.6375314861477098,
          0.6375282555114631,
          0.6375285138723372,
          0.6375282619147025,
          0.6375283137035833,
          0.6375283045697776,
          0.6375282523018118,
          0.6375309963263804
         ]
        },
        {
         "line": {
          "color": "rgba(128, 128, 0, 1.0)",
          "dash": "solid",
          "shape": "linear",
          "width": 1.3
         },
         "mode": "lines",
         "name": "Spinach",
         "text": "",
         "type": "scatter",
         "x": [
          0.3659673552268968,
          0.5489510328403452,
          0.6587412394084142,
          0.7319347104537935,
          0.805128181499173,
          0.8783216525445522,
          0.9515151235899316,
          1.024708594635311,
          1.0979020656806904,
          1.463869420907587,
          2.927738841815174
         ],
         "y": [
          7.94177503074357e-06,
          1.1320607888259516e-08,
          6.754471335069434e-11,
          1.3628620235501546e-07,
          1.6119431129577132e-09,
          6.640009559682181e-09,
          9.150613353883411e-10,
          1.9345290115370706e-09,
          1.320222064704643e-09,
          4.433074435458081e-10,
          9.387149247078114e-09
         ]
        },
        {
         "line": {
          "color": "rgba(251, 128, 114, 1.0)",
          "dash": "solid",
          "shape": "linear",
          "width": 1.3
         },
         "mode": "lines",
         "name": "Tortillas, corn",
         "text": "",
         "type": "scatter",
         "x": [
          0.3659673552268968,
          0.5489510328403452,
          0.6587412394084142,
          0.7319347104537935,
          0.805128181499173,
          0.8783216525445522,
          0.9515151235899316,
          1.024708594635311,
          1.0979020656806904,
          1.463869420907587,
          2.927738841815174
         ],
         "y": [
          0.14137670198905375,
          0.14137426404120362,
          0.14137433823725742,
          0.14137236618617866,
          0.14137431870354245,
          0.14137404584709173,
          0.14137429620881736,
          0.14137421780422763,
          0.14137426485144938,
          0.14137431572564818,
          0.14137158873112105
         ]
        },
        {
         "line": {
          "color": "rgba(128, 177, 211, 1.0)",
          "dash": "solid",
          "shape": "linear",
          "width": 1.3
         },
         "mode": "lines",
         "name": "Soy milk, unsweetened",
         "text": "",
         "type": "scatter",
         "x": [
          0.3659673552268968,
          0.5489510328403452,
          0.6587412394084142,
          0.7319347104537935,
          0.805128181499173,
          0.8783216525445522,
          0.9515151235899316,
          1.024708594635311,
          1.0979020656806904,
          1.463869420907587,
          2.927738841815174
         ],
         "y": [
          6.105316851069487,
          6.105316719820759,
          6.105316713433724,
          6.105316876563587,
          6.105316716224688,
          6.1053167300492746,
          6.105316716809493,
          6.105316720524108,
          6.1053167189443,
          6.105316716123754,
          6.105316879170122
         ]
        },
        {
         "line": {
          "color": "rgba(128, 177, 211, 0.8999999999999999)",
          "dash": "solid",
          "shape": "linear",
          "width": 1.3
         },
         "mode": "lines",
         "name": "Peanut butter, creamy",
         "text": "",
         "type": "scatter",
         "x": [
          0.3659673552268968,
          0.5489510328403452,
          0.6587412394084142,
          0.7319347104537935,
          0.805128181499173,
          0.8783216525445522,
          0.9515151235899316,
          1.024708594635311,
          1.0979020656806904,
          1.463869420907587,
          2.927738841815174
         ],
         "y": [
          1.7175107153367541,
          1.7175116215316197,
          1.7175117142183547,
          1.7175084809056382,
          1.7175116860116293,
          1.7175113786071468,
          1.7175116653557332,
          1.7175116000553927,
          1.7175116213569595,
          1.7175116844641607,
          1.7175082778317547
         ]
        }
       ],
       "layout": {
        "autosize": true,
        "legend": {
         "bgcolor": "#F5F6F9",
         "font": {
          "color": "#4D5663"
         }
        },
        "paper_bgcolor": "#F5F6F9",
        "plot_bgcolor": "#F5F6F9",
        "template": {
         "data": {
          "bar": [
           {
            "error_x": {
             "color": "#2a3f5f"
            },
            "error_y": {
             "color": "#2a3f5f"
            },
            "marker": {
             "line": {
              "color": "#E5ECF6",
              "width": 0.5
             },
             "pattern": {
              "fillmode": "overlay",
              "size": 10,
              "solidity": 0.2
             }
            },
            "type": "bar"
           }
          ],
          "barpolar": [
           {
            "marker": {
             "line": {
              "color": "#E5ECF6",
              "width": 0.5
             },
             "pattern": {
              "fillmode": "overlay",
              "size": 10,
              "solidity": 0.2
             }
            },
            "type": "barpolar"
           }
          ],
          "carpet": [
           {
            "aaxis": {
             "endlinecolor": "#2a3f5f",
             "gridcolor": "white",
             "linecolor": "white",
             "minorgridcolor": "white",
             "startlinecolor": "#2a3f5f"
            },
            "baxis": {
             "endlinecolor": "#2a3f5f",
             "gridcolor": "white",
             "linecolor": "white",
             "minorgridcolor": "white",
             "startlinecolor": "#2a3f5f"
            },
            "type": "carpet"
           }
          ],
          "choropleth": [
           {
            "colorbar": {
             "outlinewidth": 0,
             "ticks": ""
            },
            "type": "choropleth"
           }
          ],
          "contour": [
           {
            "colorbar": {
             "outlinewidth": 0,
             "ticks": ""
            },
            "colorscale": [
             [
              0,
              "#0d0887"
             ],
             [
              0.1111111111111111,
              "#46039f"
             ],
             [
              0.2222222222222222,
              "#7201a8"
             ],
             [
              0.3333333333333333,
              "#9c179e"
             ],
             [
              0.4444444444444444,
              "#bd3786"
             ],
             [
              0.5555555555555556,
              "#d8576b"
             ],
             [
              0.6666666666666666,
              "#ed7953"
             ],
             [
              0.7777777777777778,
              "#fb9f3a"
             ],
             [
              0.8888888888888888,
              "#fdca26"
             ],
             [
              1,
              "#f0f921"
             ]
            ],
            "type": "contour"
           }
          ],
          "contourcarpet": [
           {
            "colorbar": {
             "outlinewidth": 0,
             "ticks": ""
            },
            "type": "contourcarpet"
           }
          ],
          "heatmap": [
           {
            "colorbar": {
             "outlinewidth": 0,
             "ticks": ""
            },
            "colorscale": [
             [
              0,
              "#0d0887"
             ],
             [
              0.1111111111111111,
              "#46039f"
             ],
             [
              0.2222222222222222,
              "#7201a8"
             ],
             [
              0.3333333333333333,
              "#9c179e"
             ],
             [
              0.4444444444444444,
              "#bd3786"
             ],
             [
              0.5555555555555556,
              "#d8576b"
             ],
             [
              0.6666666666666666,
              "#ed7953"
             ],
             [
              0.7777777777777778,
              "#fb9f3a"
             ],
             [
              0.8888888888888888,
              "#fdca26"
             ],
             [
              1,
              "#f0f921"
             ]
            ],
            "type": "heatmap"
           }
          ],
          "heatmapgl": [
           {
            "colorbar": {
             "outlinewidth": 0,
             "ticks": ""
            },
            "colorscale": [
             [
              0,
              "#0d0887"
             ],
             [
              0.1111111111111111,
              "#46039f"
             ],
             [
              0.2222222222222222,
              "#7201a8"
             ],
             [
              0.3333333333333333,
              "#9c179e"
             ],
             [
              0.4444444444444444,
              "#bd3786"
             ],
             [
              0.5555555555555556,
              "#d8576b"
             ],
             [
              0.6666666666666666,
              "#ed7953"
             ],
             [
              0.7777777777777778,
              "#fb9f3a"
             ],
             [
              0.8888888888888888,
              "#fdca26"
             ],
             [
              1,
              "#f0f921"
             ]
            ],
            "type": "heatmapgl"
           }
          ],
          "histogram": [
           {
            "marker": {
             "pattern": {
              "fillmode": "overlay",
              "size": 10,
              "solidity": 0.2
             }
            },
            "type": "histogram"
           }
          ],
          "histogram2d": [
           {
            "colorbar": {
             "outlinewidth": 0,
             "ticks": ""
            },
            "colorscale": [
             [
              0,
              "#0d0887"
             ],
             [
              0.1111111111111111,
              "#46039f"
             ],
             [
              0.2222222222222222,
              "#7201a8"
             ],
             [
              0.3333333333333333,
              "#9c179e"
             ],
             [
              0.4444444444444444,
              "#bd3786"
             ],
             [
              0.5555555555555556,
              "#d8576b"
             ],
             [
              0.6666666666666666,
              "#ed7953"
             ],
             [
              0.7777777777777778,
              "#fb9f3a"
             ],
             [
              0.8888888888888888,
              "#fdca26"
             ],
             [
              1,
              "#f0f921"
             ]
            ],
            "type": "histogram2d"
           }
          ],
          "histogram2dcontour": [
           {
            "colorbar": {
             "outlinewidth": 0,
             "ticks": ""
            },
            "colorscale": [
             [
              0,
              "#0d0887"
             ],
             [
              0.1111111111111111,
              "#46039f"
             ],
             [
              0.2222222222222222,
              "#7201a8"
             ],
             [
              0.3333333333333333,
              "#9c179e"
             ],
             [
              0.4444444444444444,
              "#bd3786"
             ],
             [
              0.5555555555555556,
              "#d8576b"
             ],
             [
              0.6666666666666666,
              "#ed7953"
             ],
             [
              0.7777777777777778,
              "#fb9f3a"
             ],
             [
              0.8888888888888888,
              "#fdca26"
             ],
             [
              1,
              "#f0f921"
             ]
            ],
            "type": "histogram2dcontour"
           }
          ],
          "mesh3d": [
           {
            "colorbar": {
             "outlinewidth": 0,
             "ticks": ""
            },
            "type": "mesh3d"
           }
          ],
          "parcoords": [
           {
            "line": {
             "colorbar": {
              "outlinewidth": 0,
              "ticks": ""
             }
            },
            "type": "parcoords"
           }
          ],
          "pie": [
           {
            "automargin": true,
            "type": "pie"
           }
          ],
          "scatter": [
           {
            "marker": {
             "colorbar": {
              "outlinewidth": 0,
              "ticks": ""
             }
            },
            "type": "scatter"
           }
          ],
          "scatter3d": [
           {
            "line": {
             "colorbar": {
              "outlinewidth": 0,
              "ticks": ""
             }
            },
            "marker": {
             "colorbar": {
              "outlinewidth": 0,
              "ticks": ""
             }
            },
            "type": "scatter3d"
           }
          ],
          "scattercarpet": [
           {
            "marker": {
             "colorbar": {
              "outlinewidth": 0,
              "ticks": ""
             }
            },
            "type": "scattercarpet"
           }
          ],
          "scattergeo": [
           {
            "marker": {
             "colorbar": {
              "outlinewidth": 0,
              "ticks": ""
             }
            },
            "type": "scattergeo"
           }
          ],
          "scattergl": [
           {
            "marker": {
             "colorbar": {
              "outlinewidth": 0,
              "ticks": ""
             }
            },
            "type": "scattergl"
           }
          ],
          "scattermapbox": [
           {
            "marker": {
             "colorbar": {
              "outlinewidth": 0,
              "ticks": ""
             }
            },
            "type": "scattermapbox"
           }
          ],
          "scatterpolar": [
           {
            "marker": {
             "colorbar": {
              "outlinewidth": 0,
              "ticks": ""
             }
            },
            "type": "scatterpolar"
           }
          ],
          "scatterpolargl": [
           {
            "marker": {
             "colorbar": {
              "outlinewidth": 0,
              "ticks": ""
             }
            },
            "type": "scatterpolargl"
           }
          ],
          "scatterternary": [
           {
            "marker": {
             "colorbar": {
              "outlinewidth": 0,
              "ticks": ""
             }
            },
            "type": "scatterternary"
           }
          ],
          "surface": [
           {
            "colorbar": {
             "outlinewidth": 0,
             "ticks": ""
            },
            "colorscale": [
             [
              0,
              "#0d0887"
             ],
             [
              0.1111111111111111,
              "#46039f"
             ],
             [
              0.2222222222222222,
              "#7201a8"
             ],
             [
              0.3333333333333333,
              "#9c179e"
             ],
             [
              0.4444444444444444,
              "#bd3786"
             ],
             [
              0.5555555555555556,
              "#d8576b"
             ],
             [
              0.6666666666666666,
              "#ed7953"
             ],
             [
              0.7777777777777778,
              "#fb9f3a"
             ],
             [
              0.8888888888888888,
              "#fdca26"
             ],
             [
              1,
              "#f0f921"
             ]
            ],
            "type": "surface"
           }
          ],
          "table": [
           {
            "cells": {
             "fill": {
              "color": "#EBF0F8"
             },
             "line": {
              "color": "white"
             }
            },
            "header": {
             "fill": {
              "color": "#C8D4E3"
             },
             "line": {
              "color": "white"
             }
            },
            "type": "table"
           }
          ]
         },
         "layout": {
          "annotationdefaults": {
           "arrowcolor": "#2a3f5f",
           "arrowhead": 0,
           "arrowwidth": 1
          },
          "autotypenumbers": "strict",
          "coloraxis": {
           "colorbar": {
            "outlinewidth": 0,
            "ticks": ""
           }
          },
          "colorscale": {
           "diverging": [
            [
             0,
             "#8e0152"
            ],
            [
             0.1,
             "#c51b7d"
            ],
            [
             0.2,
             "#de77ae"
            ],
            [
             0.3,
             "#f1b6da"
            ],
            [
             0.4,
             "#fde0ef"
            ],
            [
             0.5,
             "#f7f7f7"
            ],
            [
             0.6,
             "#e6f5d0"
            ],
            [
             0.7,
             "#b8e186"
            ],
            [
             0.8,
             "#7fbc41"
            ],
            [
             0.9,
             "#4d9221"
            ],
            [
             1,
             "#276419"
            ]
           ],
           "sequential": [
            [
             0,
             "#0d0887"
            ],
            [
             0.1111111111111111,
             "#46039f"
            ],
            [
             0.2222222222222222,
             "#7201a8"
            ],
            [
             0.3333333333333333,
             "#9c179e"
            ],
            [
             0.4444444444444444,
             "#bd3786"
            ],
            [
             0.5555555555555556,
             "#d8576b"
            ],
            [
             0.6666666666666666,
             "#ed7953"
            ],
            [
             0.7777777777777778,
             "#fb9f3a"
            ],
            [
             0.8888888888888888,
             "#fdca26"
            ],
            [
             1,
             "#f0f921"
            ]
           ],
           "sequentialminus": [
            [
             0,
             "#0d0887"
            ],
            [
             0.1111111111111111,
             "#46039f"
            ],
            [
             0.2222222222222222,
             "#7201a8"
            ],
            [
             0.3333333333333333,
             "#9c179e"
            ],
            [
             0.4444444444444444,
             "#bd3786"
            ],
            [
             0.5555555555555556,
             "#d8576b"
            ],
            [
             0.6666666666666666,
             "#ed7953"
            ],
            [
             0.7777777777777778,
             "#fb9f3a"
            ],
            [
             0.8888888888888888,
             "#fdca26"
            ],
            [
             1,
             "#f0f921"
            ]
           ]
          },
          "colorway": [
           "#636efa",
           "#EF553B",
           "#00cc96",
           "#ab63fa",
           "#FFA15A",
           "#19d3f3",
           "#FF6692",
           "#B6E880",
           "#FF97FF",
           "#FECB52"
          ],
          "font": {
           "color": "#2a3f5f"
          },
          "geo": {
           "bgcolor": "white",
           "lakecolor": "white",
           "landcolor": "#E5ECF6",
           "showlakes": true,
           "showland": true,
           "subunitcolor": "white"
          },
          "hoverlabel": {
           "align": "left"
          },
          "hovermode": "closest",
          "mapbox": {
           "style": "light"
          },
          "paper_bgcolor": "white",
          "plot_bgcolor": "#E5ECF6",
          "polar": {
           "angularaxis": {
            "gridcolor": "white",
            "linecolor": "white",
            "ticks": ""
           },
           "bgcolor": "#E5ECF6",
           "radialaxis": {
            "gridcolor": "white",
            "linecolor": "white",
            "ticks": ""
           }
          },
          "scene": {
           "xaxis": {
            "backgroundcolor": "#E5ECF6",
            "gridcolor": "white",
            "gridwidth": 2,
            "linecolor": "white",
            "showbackground": true,
            "ticks": "",
            "zerolinecolor": "white"
           },
           "yaxis": {
            "backgroundcolor": "#E5ECF6",
            "gridcolor": "white",
            "gridwidth": 2,
            "linecolor": "white",
            "showbackground": true,
            "ticks": "",
            "zerolinecolor": "white"
           },
           "zaxis": {
            "backgroundcolor": "#E5ECF6",
            "gridcolor": "white",
            "gridwidth": 2,
            "linecolor": "white",
            "showbackground": true,
            "ticks": "",
            "zerolinecolor": "white"
           }
          },
          "shapedefaults": {
           "line": {
            "color": "#2a3f5f"
           }
          },
          "ternary": {
           "aaxis": {
            "gridcolor": "white",
            "linecolor": "white",
            "ticks": ""
           },
           "baxis": {
            "gridcolor": "white",
            "linecolor": "white",
            "ticks": ""
           },
           "bgcolor": "#E5ECF6",
           "caxis": {
            "gridcolor": "white",
            "linecolor": "white",
            "ticks": ""
           }
          },
          "title": {
           "x": 0.05
          },
          "xaxis": {
           "automargin": true,
           "gridcolor": "white",
           "linecolor": "white",
           "ticks": "",
           "title": {
            "standoff": 15
           },
           "zerolinecolor": "white",
           "zerolinewidth": 2
          },
          "yaxis": {
           "automargin": true,
           "gridcolor": "white",
           "linecolor": "white",
           "ticks": "",
           "title": {
            "standoff": 15
           },
           "zerolinecolor": "white",
           "zerolinewidth": 2
          }
         }
        },
        "title": {
         "font": {
          "color": "#4D5663"
         }
        },
        "xaxis": {
         "autorange": true,
         "gridcolor": "#E1E5ED",
         "range": [
          0.3659673552268968,
          2.927738841815174
         ],
         "showgrid": true,
         "tickfont": {
          "color": "#4D5663"
         },
         "title": {
          "font": {
           "color": "#4D5663"
          },
          "text": "Spinach Price"
         },
         "type": "linear",
         "zerolinecolor": "#E1E5ED"
        },
        "yaxis": {
         "autorange": true,
         "gridcolor": "#E1E5ED",
         "range": [
          -0.33918427099370957,
          6.4445011502313765
         ],
         "showgrid": true,
         "tickfont": {
          "color": "#4D5663"
         },
         "title": {
          "font": {
           "color": "#4D5663"
          },
          "text": "Hectograms"
         },
         "type": "linear",
         "zerolinecolor": "#E1E5ED"
        }
       }
      },
      "image/png": "[encoded data removed]",
      "text/html": [
       "<div>                            <div id=\"5e915a67-1088-4e41-a9df-69ca163e2983\" class=\"plotly-graph-div\" style=\"height:525px; width:100%;\"></div>            <script type=\"text/javascript\">                require([\"plotly\"], function(Plotly) {                    window.PLOTLYENV=window.PLOTLYENV || {};\n",
       "                    window.PLOTLYENV.BASE_URL='https://plot.ly';                                    if (document.getElementById(\"5e915a67-1088-4e41-a9df-69ca163e2983\")) {                    Plotly.newPlot(                        \"5e915a67-1088-4e41-a9df-69ca163e2983\",                        [{\"line\":{\"color\":\"rgba(255, 153, 51, 1.0)\",\"dash\":\"solid\",\"shape\":\"linear\",\"width\":1.3},\"mode\":\"lines\",\"name\":\" Banana,raw\",\"text\":\"\",\"type\":\"scatter\",\"x\":[0.3659673552268968,0.5489510328403452,0.6587412394084142,0.7319347104537935,0.805128181499173,0.8783216525445522,0.9515151235899316,1.024708594635311,1.0979020656806904,1.463869420907587,2.927738841815174],\"y\":[1.475733507082629,1.4757389438335713,1.4757397654620372,1.475709936777039,1.475739522947664,1.4757366971499197,1.475739313480535,1.475738630108072,1.4757389327024324,1.4757394711393894,1.4757078301691993]},{\"line\":{\"color\":\"rgba(55, 128, 191, 1.0)\",\"dash\":\"solid\",\"shape\":\"linear\",\"width\":1.3},\"mode\":\"lines\",\"name\":\"Oranges, Navel\",\"text\":\"\",\"type\":\"scatter\",\"x\":[0.3659673552268968,0.5489510328403452,0.6587412394084142,0.7319347104537935,0.805128181499173,0.8783216525445522,0.9515151235899316,1.024708594635311,1.0979020656806904,1.463869420907587,2.927738841815174],\"y\":[0.4856237048264141,0.48562608080510605,0.48562596767627897,0.4856303046690672,0.48562599974426635,0.4856264075178191,0.4856260329906547,0.4856261342605288,0.4856260858780262,0.4856260084699278,0.4856306772096984]},{\"line\":{\"color\":\"rgba(50, 171, 96, 1.0)\",\"dash\":\"solid\",\"shape\":\"linear\",\"width\":1.3},\"mode\":\"lines\",\"name\":\"Lentils, red\",\"text\":\"\",\"type\":\"scatter\",\"x\":[0.3659673552268968,0.5489510328403452,0.6587412394084142,0.7319347104537935,0.805128181499173,0.8783216525445522,0.9515151235899316,1.024708594635311,1.0979020656806904,1.463869420907587,2.927738841815174],\"y\":[0.11416535386308088,0.11416411195782664,0.11416401682971831,0.11416832807102675,0.11416404332152902,0.11416440101987028,0.11416407048528318,0.11416414137294886,0.1141641245445508,0.11416405244912858,0.11416795947466904]},{\"line\":{\"color\":\"rgba(128, 0, 128, 1.0)\",\"dash\":\"solid\",\"shape\":\"linear\",\"width\":1.3},\"mode\":\"lines\",\"name\":\"Black beans, canned\",\"text\":\"\",\"type\":\"scatter\",\"x\":[0.3659673552268968,0.5489510328403452,0.6587412394084142,0.7319347104537935,0.805128181499173,0.8783216525445522,0.9515151235899316,1.024708594635311,1.0979020656806904,1.463869420907587,2.927738841815174],\"y\":[4.483629633377191,4.483653212566639,4.483653743810818,4.48362807925901,4.483653577646612,4.483651776619549,4.483653457811408,4.483653158911566,4.483653158394344,4.483653534953194,4.483632474746189]},{\"line\":{\"color\":\"rgba(219, 64, 82, 1.0)\",\"dash\":\"solid\",\"shape\":\"linear\",\"width\":1.3},\"mode\":\"lines\",\"name\":\"Kale\",\"text\":\"\",\"type\":\"scatter\",\"x\":[0.3659673552268968,0.5489510328403452,0.6587412394084142,0.7319347104537935,0.805128181499173,0.8783216525445522,0.9515151235899316,1.024708594635311,1.0979020656806904,1.463869420907587,2.927738841815174],\"y\":[0.2253992125955011,0.2253994994535166,0.22539953662953252,0.22539802182185667,0.22539952563790605,0.22539939480748758,0.2253995160671811,0.22539948769416066,0.22539949712886007,0.22539952338802008,0.22539802729325628]},{\"line\":{\"color\":\"rgba(0, 128, 128, 1.0)\",\"dash\":\"solid\",\"shape\":\"linear\",\"width\":1.3},\"mode\":\"lines\",\"name\":\"Carrot\",\"text\":\"\",\"type\":\"scatter\",\"x\":[0.3659673552268968,0.5489510328403452,0.6587412394084142,0.7319347104537935,0.805128181499173,0.8783216525445522,0.9515151235899316,1.024708594635311,1.0979020656806904,1.463869420907587,2.927738841815174],\"y\":[0.5797217004592743,0.5797237337307589,0.5797225945406094,0.5797689662900153,0.579722930006296,0.5797269300456898,0.5797232369314487,0.5797240950572139,0.5797238089508582,0.5797230165907481,0.5797690149166311]},{\"line\":{\"color\":\"rgba(255, 255, 51, 1.0)\",\"dash\":\"solid\",\"shape\":\"linear\",\"width\":1.3},\"mode\":\"lines\",\"name\":\"Avocado\",\"text\":\"\",\"type\":\"scatter\",\"x\":[0.3659673552268968,0.5489510328403452,0.6587412394084142,0.7319347104537935,0.805128181499173,0.8783216525445522,0.9515151235899316,1.024708594635311,1.0979020656806904,1.463869420907587,2.927738841815174],\"y\":[0.6375377712683017,0.6375283145852526,0.6375282226151059,0.6375314861477098,0.6375282555114631,0.6375285138723372,0.6375282619147025,0.6375283137035833,0.6375283045697776,0.6375282523018118,0.6375309963263804]},{\"line\":{\"color\":\"rgba(128, 128, 0, 1.0)\",\"dash\":\"solid\",\"shape\":\"linear\",\"width\":1.3},\"mode\":\"lines\",\"name\":\"Spinach\",\"text\":\"\",\"type\":\"scatter\",\"x\":[0.3659673552268968,0.5489510328403452,0.6587412394084142,0.7319347104537935,0.805128181499173,0.8783216525445522,0.9515151235899316,1.024708594635311,1.0979020656806904,1.463869420907587,2.927738841815174],\"y\":[7.94177503074357e-06,1.1320607888259516e-08,6.754471335069434e-11,1.3628620235501546e-07,1.6119431129577132e-09,6.640009559682181e-09,9.150613353883411e-10,1.9345290115370706e-09,1.320222064704643e-09,4.433074435458081e-10,9.387149247078114e-09]},{\"line\":{\"color\":\"rgba(251, 128, 114, 1.0)\",\"dash\":\"solid\",\"shape\":\"linear\",\"width\":1.3},\"mode\":\"lines\",\"name\":\"Tortillas, corn\",\"text\":\"\",\"type\":\"scatter\",\"x\":[0.3659673552268968,0.5489510328403452,0.6587412394084142,0.7319347104537935,0.805128181499173,0.8783216525445522,0.9515151235899316,1.024708594635311,1.0979020656806904,1.463869420907587,2.927738841815174],\"y\":[0.14137670198905375,0.14137426404120362,0.14137433823725742,0.14137236618617866,0.14137431870354245,0.14137404584709173,0.14137429620881736,0.14137421780422763,0.14137426485144938,0.14137431572564818,0.14137158873112105]},{\"line\":{\"color\":\"rgba(128, 177, 211, 1.0)\",\"dash\":\"solid\",\"shape\":\"linear\",\"width\":1.3},\"mode\":\"lines\",\"name\":\"Soy milk, unsweetened\",\"text\":\"\",\"type\":\"scatter\",\"x\":[0.3659673552268968,0.5489510328403452,0.6587412394084142,0.7319347104537935,0.805128181499173,0.8783216525445522,0.9515151235899316,1.024708594635311,1.0979020656806904,1.463869420907587,2.927738841815174],\"y\":[6.105316851069487,6.105316719820759,6.105316713433724,6.105316876563587,6.105316716224688,6.1053167300492746,6.105316716809493,6.105316720524108,6.1053167189443,6.105316716123754,6.105316879170122]},{\"line\":{\"color\":\"rgba(128, 177, 211, 0.8999999999999999)\",\"dash\":\"solid\",\"shape\":\"linear\",\"width\":1.3},\"mode\":\"lines\",\"name\":\"Peanut butter, creamy\",\"text\":\"\",\"type\":\"scatter\",\"x\":[0.3659673552268968,0.5489510328403452,0.6587412394084142,0.7319347104537935,0.805128181499173,0.8783216525445522,0.9515151235899316,1.024708594635311,1.0979020656806904,1.463869420907587,2.927738841815174],\"y\":[1.7175107153367541,1.7175116215316197,1.7175117142183547,1.7175084809056382,1.7175116860116293,1.7175113786071468,1.7175116653557332,1.7175116000553927,1.7175116213569595,1.7175116844641607,1.7175082778317547]}],                        {\"legend\":{\"bgcolor\":\"#F5F6F9\",\"font\":{\"color\":\"#4D5663\"}},\"paper_bgcolor\":\"#F5F6F9\",\"plot_bgcolor\":\"#F5F6F9\",\"template\":{\"data\":{\"bar\":[{\"error_x\":{\"color\":\"#2a3f5f\"},\"error_y\":{\"color\":\"#2a3f5f\"},\"marker\":{\"line\":{\"color\":\"#E5ECF6\",\"width\":0.5},\"pattern\":{\"fillmode\":\"overlay\",\"size\":10,\"solidity\":0.2}},\"type\":\"bar\"}],\"barpolar\":[{\"marker\":{\"line\":{\"color\":\"#E5ECF6\",\"width\":0.5},\"pattern\":{\"fillmode\":\"overlay\",\"size\":10,\"solidity\":0.2}},\"type\":\"barpolar\"}],\"carpet\":[{\"aaxis\":{\"endlinecolor\":\"#2a3f5f\",\"gridcolor\":\"white\",\"linecolor\":\"white\",\"minorgridcolor\":\"white\",\"startlinecolor\":\"#2a3f5f\"},\"baxis\":{\"endlinecolor\":\"#2a3f5f\",\"gridcolor\":\"white\",\"linecolor\":\"white\",\"minorgridcolor\":\"white\",\"startlinecolor\":\"#2a3f5f\"},\"type\":\"carpet\"}],\"choropleth\":[{\"colorbar\":{\"outlinewidth\":0,\"ticks\":\"\"},\"type\":\"choropleth\"}],\"contour\":[{\"colorbar\":{\"outlinewidth\":0,\"ticks\":\"\"},\"colorscale\":[[0.0,\"#0d0887\"],[0.1111111111111111,\"#46039f\"],[0.2222222222222222,\"#7201a8\"],[0.3333333333333333,\"#9c179e\"],[0.4444444444444444,\"#bd3786\"],[0.5555555555555556,\"#d8576b\"],[0.6666666666666666,\"#ed7953\"],[0.7777777777777778,\"#fb9f3a\"],[0.8888888888888888,\"#fdca26\"],[1.0,\"#f0f921\"]],\"type\":\"contour\"}],\"contourcarpet\":[{\"colorbar\":{\"outlinewidth\":0,\"ticks\":\"\"},\"type\":\"contourcarpet\"}],\"heatmap\":[{\"colorbar\":{\"outlinewidth\":0,\"ticks\":\"\"},\"colorscale\":[[0.0,\"#0d0887\"],[0.1111111111111111,\"#46039f\"],[0.2222222222222222,\"#7201a8\"],[0.3333333333333333,\"#9c179e\"],[0.4444444444444444,\"#bd3786\"],[0.5555555555555556,\"#d8576b\"],[0.6666666666666666,\"#ed7953\"],[0.7777777777777778,\"#fb9f3a\"],[0.8888888888888888,\"#fdca26\"],[1.0,\"#f0f921\"]],\"type\":\"heatmap\"}],\"heatmapgl\":[{\"colorbar\":{\"outlinewidth\":0,\"ticks\":\"\"},\"colorscale\":[[0.0,\"#0d0887\"],[0.1111111111111111,\"#46039f\"],[0.2222222222222222,\"#7201a8\"],[0.3333333333333333,\"#9c179e\"],[0.4444444444444444,\"#bd3786\"],[0.5555555555555556,\"#d8576b\"],[0.6666666666666666,\"#ed7953\"],[0.7777777777777778,\"#fb9f3a\"],[0.8888888888888888,\"#fdca26\"],[1.0,\"#f0f921\"]],\"type\":\"heatmapgl\"}],\"histogram\":[{\"marker\":{\"pattern\":{\"fillmode\":\"overlay\",\"size\":10,\"solidity\":0.2}},\"type\":\"histogram\"}],\"histogram2d\":[{\"colorbar\":{\"outlinewidth\":0,\"ticks\":\"\"},\"colorscale\":[[0.0,\"#0d0887\"],[0.1111111111111111,\"#46039f\"],[0.2222222222222222,\"#7201a8\"],[0.3333333333333333,\"#9c179e\"],[0.4444444444444444,\"#bd3786\"],[0.5555555555555556,\"#d8576b\"],[0.6666666666666666,\"#ed7953\"],[0.7777777777777778,\"#fb9f3a\"],[0.8888888888888888,\"#fdca26\"],[1.0,\"#f0f921\"]],\"type\":\"histogram2d\"}],\"histogram2dcontour\":[{\"colorbar\":{\"outlinewidth\":0,\"ticks\":\"\"},\"colorscale\":[[0.0,\"#0d0887\"],[0.1111111111111111,\"#46039f\"],[0.2222222222222222,\"#7201a8\"],[0.3333333333333333,\"#9c179e\"],[0.4444444444444444,\"#bd3786\"],[0.5555555555555556,\"#d8576b\"],[0.6666666666666666,\"#ed7953\"],[0.7777777777777778,\"#fb9f3a\"],[0.8888888888888888,\"#fdca26\"],[1.0,\"#f0f921\"]],\"type\":\"histogram2dcontour\"}],\"mesh3d\":[{\"colorbar\":{\"outlinewidth\":0,\"ticks\":\"\"},\"type\":\"mesh3d\"}],\"parcoords\":[{\"line\":{\"colorbar\":{\"outlinewidth\":0,\"ticks\":\"\"}},\"type\":\"parcoords\"}],\"pie\":[{\"automargin\":true,\"type\":\"pie\"}],\"scatter\":[{\"marker\":{\"colorbar\":{\"outlinewidth\":0,\"ticks\":\"\"}},\"type\":\"scatter\"}],\"scatter3d\":[{\"line\":{\"colorbar\":{\"outlinewidth\":0,\"ticks\":\"\"}},\"marker\":{\"colorbar\":{\"outlinewidth\":0,\"ticks\":\"\"}},\"type\":\"scatter3d\"}],\"scattercarpet\":[{\"marker\":{\"colorbar\":{\"outlinewidth\":0,\"ticks\":\"\"}},\"type\":\"scattercarpet\"}],\"scattergeo\":[{\"marker\":{\"colorbar\":{\"outlinewidth\":0,\"ticks\":\"\"}},\"type\":\"scattergeo\"}],\"scattergl\":[{\"marker\":{\"colorbar\":{\"outlinewidth\":0,\"ticks\":\"\"}},\"type\":\"scattergl\"}],\"scattermapbox\":[{\"marker\":{\"colorbar\":{\"outlinewidth\":0,\"ticks\":\"\"}},\"type\":\"scattermapbox\"}],\"scatterpolar\":[{\"marker\":{\"colorbar\":{\"outlinewidth\":0,\"ticks\":\"\"}},\"type\":\"scatterpolar\"}],\"scatterpolargl\":[{\"marker\":{\"colorbar\":{\"outlinewidth\":0,\"ticks\":\"\"}},\"type\":\"scatterpolargl\"}],\"scatterternary\":[{\"marker\":{\"colorbar\":{\"outlinewidth\":0,\"ticks\":\"\"}},\"type\":\"scatterternary\"}],\"surface\":[{\"colorbar\":{\"outlinewidth\":0,\"ticks\":\"\"},\"colorscale\":[[0.0,\"#0d0887\"],[0.1111111111111111,\"#46039f\"],[0.2222222222222222,\"#7201a8\"],[0.3333333333333333,\"#9c179e\"],[0.4444444444444444,\"#bd3786\"],[0.5555555555555556,\"#d8576b\"],[0.6666666666666666,\"#ed7953\"],[0.7777777777777778,\"#fb9f3a\"],[0.8888888888888888,\"#fdca26\"],[1.0,\"#f0f921\"]],\"type\":\"surface\"}],\"table\":[{\"cells\":{\"fill\":{\"color\":\"#EBF0F8\"},\"line\":{\"color\":\"white\"}},\"header\":{\"fill\":{\"color\":\"#C8D4E3\"},\"line\":{\"color\":\"white\"}},\"type\":\"table\"}]},\"layout\":{\"annotationdefaults\":{\"arrowcolor\":\"#2a3f5f\",\"arrowhead\":0,\"arrowwidth\":1},\"autotypenumbers\":\"strict\",\"coloraxis\":{\"colorbar\":{\"outlinewidth\":0,\"ticks\":\"\"}},\"colorscale\":{\"diverging\":[[0,\"#8e0152\"],[0.1,\"#c51b7d\"],[0.2,\"#de77ae\"],[0.3,\"#f1b6da\"],[0.4,\"#fde0ef\"],[0.5,\"#f7f7f7\"],[0.6,\"#e6f5d0\"],[0.7,\"#b8e186\"],[0.8,\"#7fbc41\"],[0.9,\"#4d9221\"],[1,\"#276419\"]],\"sequential\":[[0.0,\"#0d0887\"],[0.1111111111111111,\"#46039f\"],[0.2222222222222222,\"#7201a8\"],[0.3333333333333333,\"#9c179e\"],[0.4444444444444444,\"#bd3786\"],[0.5555555555555556,\"#d8576b\"],[0.6666666666666666,\"#ed7953\"],[0.7777777777777778,\"#fb9f3a\"],[0.8888888888888888,\"#fdca26\"],[1.0,\"#f0f921\"]],\"sequentialminus\":[[0.0,\"#0d0887\"],[0.1111111111111111,\"#46039f\"],[0.2222222222222222,\"#7201a8\"],[0.3333333333333333,\"#9c179e\"],[0.4444444444444444,\"#bd3786\"],[0.5555555555555556,\"#d8576b\"],[0.6666666666666666,\"#ed7953\"],[0.7777777777777778,\"#fb9f3a\"],[0.8888888888888888,\"#fdca26\"],[1.0,\"#f0f921\"]]},\"colorway\":[\"#636efa\",\"#EF553B\",\"#00cc96\",\"#ab63fa\",\"#FFA15A\",\"#19d3f3\",\"#FF6692\",\"#B6E880\",\"#FF97FF\",\"#FECB52\"],\"font\":{\"color\":\"#2a3f5f\"},\"geo\":{\"bgcolor\":\"white\",\"lakecolor\":\"white\",\"landcolor\":\"#E5ECF6\",\"showlakes\":true,\"showland\":true,\"subunitcolor\":\"white\"},\"hoverlabel\":{\"align\":\"left\"},\"hovermode\":\"closest\",\"mapbox\":{\"style\":\"light\"},\"paper_bgcolor\":\"white\",\"plot_bgcolor\":\"#E5ECF6\",\"polar\":{\"angularaxis\":{\"gridcolor\":\"white\",\"linecolor\":\"white\",\"ticks\":\"\"},\"bgcolor\":\"#E5ECF6\",\"radialaxis\":{\"gridcolor\":\"white\",\"linecolor\":\"white\",\"ticks\":\"\"}},\"scene\":{\"xaxis\":{\"backgroundcolor\":\"#E5ECF6\",\"gridcolor\":\"white\",\"gridwidth\":2,\"linecolor\":\"white\",\"showbackground\":true,\"ticks\":\"\",\"zerolinecolor\":\"white\"},\"yaxis\":{\"backgroundcolor\":\"#E5ECF6\",\"gridcolor\":\"white\",\"gridwidth\":2,\"linecolor\":\"white\",\"showbackground\":true,\"ticks\":\"\",\"zerolinecolor\":\"white\"},\"zaxis\":{\"backgroundcolor\":\"#E5ECF6\",\"gridcolor\":\"white\",\"gridwidth\":2,\"linecolor\":\"white\",\"showbackground\":true,\"ticks\":\"\",\"zerolinecolor\":\"white\"}},\"shapedefaults\":{\"line\":{\"color\":\"#2a3f5f\"}},\"ternary\":{\"aaxis\":{\"gridcolor\":\"white\",\"linecolor\":\"white\",\"ticks\":\"\"},\"baxis\":{\"gridcolor\":\"white\",\"linecolor\":\"white\",\"ticks\":\"\"},\"bgcolor\":\"#E5ECF6\",\"caxis\":{\"gridcolor\":\"white\",\"linecolor\":\"white\",\"ticks\":\"\"}},\"title\":{\"x\":0.05},\"xaxis\":{\"automargin\":true,\"gridcolor\":\"white\",\"linecolor\":\"white\",\"ticks\":\"\",\"title\":{\"standoff\":15},\"zerolinecolor\":\"white\",\"zerolinewidth\":2},\"yaxis\":{\"automargin\":true,\"gridcolor\":\"white\",\"linecolor\":\"white\",\"ticks\":\"\",\"title\":{\"standoff\":15},\"zerolinecolor\":\"white\",\"zerolinewidth\":2}}},\"title\":{\"font\":{\"color\":\"#4D5663\"}},\"xaxis\":{\"gridcolor\":\"#E1E5ED\",\"showgrid\":true,\"tickfont\":{\"color\":\"#4D5663\"},\"title\":{\"font\":{\"color\":\"#4D5663\"},\"text\":\"Spinach Price\"},\"zerolinecolor\":\"#E1E5ED\"},\"yaxis\":{\"gridcolor\":\"#E1E5ED\",\"showgrid\":true,\"tickfont\":{\"color\":\"#4D5663\"},\"title\":{\"font\":{\"color\":\"#4D5663\"},\"text\":\"Hectograms\"},\"zerolinecolor\":\"#E1E5ED\"}},                        {\"showLink\": true, \"linkText\": \"Export to plot.ly\", \"plotlyServerURL\": \"https://plot.ly\", \"responsive\": true}                    ).then(function(){\n",
       "                            \n",
       "var gd = document.getElementById('5e915a67-1088-4e41-a9df-69ca163e2983');\n",
       "var x = new MutationObserver(function (mutations, observer) {{\n",
       "        var display = window.getComputedStyle(gd).display;\n",
       "        if (!display || display === 'none') {{\n",
       "            console.log([gd, 'removed!']);\n",
       "            Plotly.purge(gd);\n",
       "            observer.disconnect();\n",
       "        }}\n",
       "}});\n",
       "\n",
       "// Listen for the removal of the full notebook cells\n",
       "var notebookContainer = gd.closest('#notebook-container');\n",
       "if (notebookContainer) {{\n",
       "    x.observe(notebookContainer, {childList: true});\n",
       "}}\n",
       "\n",
       "// Listen for the clearing of the current output cell\n",
       "var outputEl = gd.closest('.output');\n",
       "if (outputEl) {{\n",
       "    x.observe(outputEl, {childList: true});\n",
       "}}\n",
       "\n",
       "                        })                };                });            </script>        </div>"
      ]
     },
     "metadata": {},
     "output_type": "display_data"
    }
   ],
   "source": [
    "import cufflinks as cf\n",
    "cf.go_offline()\n",
    "\n",
    "ReferenceGood = 'Spinach'\n",
    "\n",
    "scale = [0.5,0.75,0.9,1.,1.1,1.2,1.3,1.4,1.5,2,4]\n",
    "\n",
    "cost0 = solve_subsistence_problem(FoodNutrients,Prices,diet_min[group],diet_max[group],tol=tol).fun\n",
    "\n",
    "my_p = Prices.copy()\n",
    "\n",
    "diet = {}\n",
    "for s in scale:\n",
    "\n",
    "    my_p[ReferenceGood] = Prices[ReferenceGood]*s\n",
    "    result = solve_subsistence_problem(FoodNutrients,my_p,diet_min[group],diet_max[group],tol=tol)\n",
    "    diet[my_p[ReferenceGood]] = result.diet\n",
    "\n",
    "Diet_response = pd.DataFrame(diet).T\n",
    "Diet_response.index.name = '%s Price' % ReferenceGood\n",
    "\n",
    "Diet_response.reset_index(inplace=True)\n",
    "\n",
    "# Get rid of units for index (cufflinks chokes)\n",
    "Diet_response['%s Price' % ReferenceGood] = Diet_response['%s Price' % ReferenceGood].apply(lambda x: x.magnitude)\n",
    "\n",
    "Diet_response = Diet_response.set_index('%s Price' % ReferenceGood)\n",
    "\n",
    "# Just look at goods consumed in quantities greater than error tolerance\n",
    "Diet_response.loc[:,(Diet_response>tol).sum()>0].iplot(xTitle='%s Price' % ReferenceGood,yTitle='Hectograms')"
   ]
  },
  {
   "cell_type": "markdown",
   "metadata": {},
   "source": [
    "## Effects of Price Changes on Subsistence Diet Nutrition\n",
    "\n"
   ]
  },
  {
   "cell_type": "markdown",
   "metadata": {},
   "source": [
    "The code below creates a graph which uses the food price changes\n",
    "  described above, but maps into nutrients.\n",
    "\n"
   ]
  },
  {
   "cell_type": "code",
   "execution_count": 104,
   "metadata": {},
   "outputs": [
    {
     "data": {
      "application/vnd.plotly.v1+json": {
       "config": {
        "linkText": "Export to plot.ly",
        "plotlyServerURL": "https://plot.ly",
        "showLink": true
       },
       "data": [
        {
         "line": {
          "color": "rgba(255, 153, 51, 1.0)",
          "dash": "solid",
          "shape": "linear",
          "width": 1.3
         },
         "mode": "lines",
         "name": "Calcium, Ca",
         "text": "",
         "type": "scatter",
         "x": [
          0.3659673552268968,
          0.5489510328403452,
          0.6587412394084142,
          0.7319347104537935,
          0.805128181499173,
          0.8783216525445522,
          0.9515151235899316,
          1.024708594635311,
          1.0979020656806904,
          1.463869420907587,
          2.927738841815174
         ],
         "y": [
          1000.0000398395971,
          1000.0000031536399,
          1000.000000072557,
          1000.000138563079,
          1000.0000012672099,
          1000.0000086532251,
          1000.0000019440536,
          1000.0000037829549,
          1000.0000029587949,
          1000.0000018585546,
          1000.0001381307964
         ]
        },
        {
         "line": {
          "color": "rgba(55, 128, 191, 1.0)",
          "dash": "solid",
          "shape": "linear",
          "width": 1.3
         },
         "mode": "lines",
         "name": "Carbohydrate, by difference",
         "text": "",
         "type": "scatter",
         "x": [
          0.3659673552268968,
          0.5489510328403452,
          0.6587412394084142,
          0.7319347104537935,
          0.805128181499173,
          0.8783216525445522,
          0.9515151235899316,
          1.024708594635311,
          1.0979020656806904,
          1.463869420907587,
          2.927738841815174
         ],
         "y": [
          186.9229571960406,
          186.92315745219517,
          186.92316923662756,
          186.92274101999325,
          186.92316603313373,
          186.92312512379578,
          186.92316281478577,
          186.92315337913584,
          186.92315748535876,
          186.92316518761632,
          186.92271387707802
         ]
        },
        {
         "line": {
          "color": "rgba(50, 171, 96, 1.0)",
          "dash": "solid",
          "shape": "linear",
          "width": 1.3
         },
         "mode": "lines",
         "name": "Iron, Fe",
         "text": "",
         "type": "scatter",
         "x": [
          0.3659673552268968,
          0.5489510328403452,
          0.6587412394084142,
          0.7319347104537935,
          0.805128181499173,
          0.8783216525445522,
          0.9515151235899316,
          1.024708594635311,
          1.0979020656806904,
          1.463869420907587,
          2.927738841815174
         ],
         "y": [
          17.36660541263097,
          17.366618642431032,
          17.366618870219895,
          17.366607214826765,
          17.366618797110895,
          17.366618095829473,
          17.366618753263154,
          17.366618691265803,
          17.36661862502424,
          17.36661878848738,
          17.366610019127695
         ]
        },
        {
         "line": {
          "color": "rgba(128, 0, 128, 1.0)",
          "dash": "solid",
          "shape": "linear",
          "width": 1.3
         },
         "mode": "lines",
         "name": "Protein",
         "text": "",
         "type": "scatter",
         "x": [
          0.3659673552268968,
          0.5489510328403452,
          0.6587412394084142,
          0.7319347104537935,
          0.805128181499173,
          0.8783216525445522,
          0.9515151235899316,
          1.024708594635311,
          1.0979020656806904,
          1.463869420907587,
          2.927738841815174
         ],
         "y": [
          97.76479620371488,
          97.76486270537036,
          97.76486529804073,
          97.76476115476547,
          97.76486451430335,
          97.76485603999247,
          97.7648639355961,
          97.76486244507564,
          97.76486263737878,
          97.76486442540126,
          97.76476671236198
         ]
        },
        {
         "line": {
          "color": "rgba(219, 64, 82, 1.0)",
          "dash": "solid",
          "shape": "linear",
          "width": 1.3
         },
         "mode": "lines",
         "name": "Sodium, Na",
         "text": "",
         "type": "scatter",
         "x": [
          0.3659673552268968,
          0.5489510328403452,
          0.6587412394084142,
          0.7319347104537935,
          0.805128181499173,
          0.8783216525445522,
          0.9515151235899316,
          1.024708594635311,
          1.0979020656806904,
          1.463869420907587,
          2.927738841815174
         ],
         "y": [
          1373.5676911552625,
          1373.5685153710392,
          1373.5685817829356,
          1373.5661556108216,
          1373.5685626126074,
          1373.568327056329,
          1373.568546032121,
          1373.5684932616805,
          1373.5685124890076,
          1373.5685599968417,
          1373.5661312967602
         ]
        },
        {
         "line": {
          "color": "rgba(0, 128, 128, 1.0)",
          "dash": "solid",
          "shape": "linear",
          "width": 1.3
         },
         "mode": "lines",
         "name": "Total lipid (fat)",
         "text": "",
         "type": "scatter",
         "x": [
          0.3659673552268968,
          0.5489510328403452,
          0.6587412394084142,
          0.7319347104537935,
          0.805128181499173,
          0.8783216525445522,
          0.9515151235899316,
          1.024708594635311,
          1.0979020656806904,
          1.463869420907587,
          2.927738841815174
         ],
         "y": [
          110.81207635189276,
          110.81196237303328,
          110.81196594247326,
          110.81184662165448,
          110.81196496781675,
          110.81195218058373,
          110.81196390802359,
          110.81196101908654,
          110.81196222805,
          110.81196482837287,
          110.81182394063403
         ]
        }
       ],
       "layout": {
        "autosize": true,
        "legend": {
         "bgcolor": "#F5F6F9",
         "font": {
          "color": "#4D5663"
         }
        },
        "paper_bgcolor": "#F5F6F9",
        "plot_bgcolor": "#F5F6F9",
        "template": {
         "data": {
          "bar": [
           {
            "error_x": {
             "color": "#2a3f5f"
            },
            "error_y": {
             "color": "#2a3f5f"
            },
            "marker": {
             "line": {
              "color": "#E5ECF6",
              "width": 0.5
             },
             "pattern": {
              "fillmode": "overlay",
              "size": 10,
              "solidity": 0.2
             }
            },
            "type": "bar"
           }
          ],
          "barpolar": [
           {
            "marker": {
             "line": {
              "color": "#E5ECF6",
              "width": 0.5
             },
             "pattern": {
              "fillmode": "overlay",
              "size": 10,
              "solidity": 0.2
             }
            },
            "type": "barpolar"
           }
          ],
          "carpet": [
           {
            "aaxis": {
             "endlinecolor": "#2a3f5f",
             "gridcolor": "white",
             "linecolor": "white",
             "minorgridcolor": "white",
             "startlinecolor": "#2a3f5f"
            },
            "baxis": {
             "endlinecolor": "#2a3f5f",
             "gridcolor": "white",
             "linecolor": "white",
             "minorgridcolor": "white",
             "startlinecolor": "#2a3f5f"
            },
            "type": "carpet"
           }
          ],
          "choropleth": [
           {
            "colorbar": {
             "outlinewidth": 0,
             "ticks": ""
            },
            "type": "choropleth"
           }
          ],
          "contour": [
           {
            "colorbar": {
             "outlinewidth": 0,
             "ticks": ""
            },
            "colorscale": [
             [
              0,
              "#0d0887"
             ],
             [
              0.1111111111111111,
              "#46039f"
             ],
             [
              0.2222222222222222,
              "#7201a8"
             ],
             [
              0.3333333333333333,
              "#9c179e"
             ],
             [
              0.4444444444444444,
              "#bd3786"
             ],
             [
              0.5555555555555556,
              "#d8576b"
             ],
             [
              0.6666666666666666,
              "#ed7953"
             ],
             [
              0.7777777777777778,
              "#fb9f3a"
             ],
             [
              0.8888888888888888,
              "#fdca26"
             ],
             [
              1,
              "#f0f921"
             ]
            ],
            "type": "contour"
           }
          ],
          "contourcarpet": [
           {
            "colorbar": {
             "outlinewidth": 0,
             "ticks": ""
            },
            "type": "contourcarpet"
           }
          ],
          "heatmap": [
           {
            "colorbar": {
             "outlinewidth": 0,
             "ticks": ""
            },
            "colorscale": [
             [
              0,
              "#0d0887"
             ],
             [
              0.1111111111111111,
              "#46039f"
             ],
             [
              0.2222222222222222,
              "#7201a8"
             ],
             [
              0.3333333333333333,
              "#9c179e"
             ],
             [
              0.4444444444444444,
              "#bd3786"
             ],
             [
              0.5555555555555556,
              "#d8576b"
             ],
             [
              0.6666666666666666,
              "#ed7953"
             ],
             [
              0.7777777777777778,
              "#fb9f3a"
             ],
             [
              0.8888888888888888,
              "#fdca26"
             ],
             [
              1,
              "#f0f921"
             ]
            ],
            "type": "heatmap"
           }
          ],
          "heatmapgl": [
           {
            "colorbar": {
             "outlinewidth": 0,
             "ticks": ""
            },
            "colorscale": [
             [
              0,
              "#0d0887"
             ],
             [
              0.1111111111111111,
              "#46039f"
             ],
             [
              0.2222222222222222,
              "#7201a8"
             ],
             [
              0.3333333333333333,
              "#9c179e"
             ],
             [
              0.4444444444444444,
              "#bd3786"
             ],
             [
              0.5555555555555556,
              "#d8576b"
             ],
             [
              0.6666666666666666,
              "#ed7953"
             ],
             [
              0.7777777777777778,
              "#fb9f3a"
             ],
             [
              0.8888888888888888,
              "#fdca26"
             ],
             [
              1,
              "#f0f921"
             ]
            ],
            "type": "heatmapgl"
           }
          ],
          "histogram": [
           {
            "marker": {
             "pattern": {
              "fillmode": "overlay",
              "size": 10,
              "solidity": 0.2
             }
            },
            "type": "histogram"
           }
          ],
          "histogram2d": [
           {
            "colorbar": {
             "outlinewidth": 0,
             "ticks": ""
            },
            "colorscale": [
             [
              0,
              "#0d0887"
             ],
             [
              0.1111111111111111,
              "#46039f"
             ],
             [
              0.2222222222222222,
              "#7201a8"
             ],
             [
              0.3333333333333333,
              "#9c179e"
             ],
             [
              0.4444444444444444,
              "#bd3786"
             ],
             [
              0.5555555555555556,
              "#d8576b"
             ],
             [
              0.6666666666666666,
              "#ed7953"
             ],
             [
              0.7777777777777778,
              "#fb9f3a"
             ],
             [
              0.8888888888888888,
              "#fdca26"
             ],
             [
              1,
              "#f0f921"
             ]
            ],
            "type": "histogram2d"
           }
          ],
          "histogram2dcontour": [
           {
            "colorbar": {
             "outlinewidth": 0,
             "ticks": ""
            },
            "colorscale": [
             [
              0,
              "#0d0887"
             ],
             [
              0.1111111111111111,
              "#46039f"
             ],
             [
              0.2222222222222222,
              "#7201a8"
             ],
             [
              0.3333333333333333,
              "#9c179e"
             ],
             [
              0.4444444444444444,
              "#bd3786"
             ],
             [
              0.5555555555555556,
              "#d8576b"
             ],
             [
              0.6666666666666666,
              "#ed7953"
             ],
             [
              0.7777777777777778,
              "#fb9f3a"
             ],
             [
              0.8888888888888888,
              "#fdca26"
             ],
             [
              1,
              "#f0f921"
             ]
            ],
            "type": "histogram2dcontour"
           }
          ],
          "mesh3d": [
           {
            "colorbar": {
             "outlinewidth": 0,
             "ticks": ""
            },
            "type": "mesh3d"
           }
          ],
          "parcoords": [
           {
            "line": {
             "colorbar": {
              "outlinewidth": 0,
              "ticks": ""
             }
            },
            "type": "parcoords"
           }
          ],
          "pie": [
           {
            "automargin": true,
            "type": "pie"
           }
          ],
          "scatter": [
           {
            "marker": {
             "colorbar": {
              "outlinewidth": 0,
              "ticks": ""
             }
            },
            "type": "scatter"
           }
          ],
          "scatter3d": [
           {
            "line": {
             "colorbar": {
              "outlinewidth": 0,
              "ticks": ""
             }
            },
            "marker": {
             "colorbar": {
              "outlinewidth": 0,
              "ticks": ""
             }
            },
            "type": "scatter3d"
           }
          ],
          "scattercarpet": [
           {
            "marker": {
             "colorbar": {
              "outlinewidth": 0,
              "ticks": ""
             }
            },
            "type": "scattercarpet"
           }
          ],
          "scattergeo": [
           {
            "marker": {
             "colorbar": {
              "outlinewidth": 0,
              "ticks": ""
             }
            },
            "type": "scattergeo"
           }
          ],
          "scattergl": [
           {
            "marker": {
             "colorbar": {
              "outlinewidth": 0,
              "ticks": ""
             }
            },
            "type": "scattergl"
           }
          ],
          "scattermapbox": [
           {
            "marker": {
             "colorbar": {
              "outlinewidth": 0,
              "ticks": ""
             }
            },
            "type": "scattermapbox"
           }
          ],
          "scatterpolar": [
           {
            "marker": {
             "colorbar": {
              "outlinewidth": 0,
              "ticks": ""
             }
            },
            "type": "scatterpolar"
           }
          ],
          "scatterpolargl": [
           {
            "marker": {
             "colorbar": {
              "outlinewidth": 0,
              "ticks": ""
             }
            },
            "type": "scatterpolargl"
           }
          ],
          "scatterternary": [
           {
            "marker": {
             "colorbar": {
              "outlinewidth": 0,
              "ticks": ""
             }
            },
            "type": "scatterternary"
           }
          ],
          "surface": [
           {
            "colorbar": {
             "outlinewidth": 0,
             "ticks": ""
            },
            "colorscale": [
             [
              0,
              "#0d0887"
             ],
             [
              0.1111111111111111,
              "#46039f"
             ],
             [
              0.2222222222222222,
              "#7201a8"
             ],
             [
              0.3333333333333333,
              "#9c179e"
             ],
             [
              0.4444444444444444,
              "#bd3786"
             ],
             [
              0.5555555555555556,
              "#d8576b"
             ],
             [
              0.6666666666666666,
              "#ed7953"
             ],
             [
              0.7777777777777778,
              "#fb9f3a"
             ],
             [
              0.8888888888888888,
              "#fdca26"
             ],
             [
              1,
              "#f0f921"
             ]
            ],
            "type": "surface"
           }
          ],
          "table": [
           {
            "cells": {
             "fill": {
              "color": "#EBF0F8"
             },
             "line": {
              "color": "white"
             }
            },
            "header": {
             "fill": {
              "color": "#C8D4E3"
             },
             "line": {
              "color": "white"
             }
            },
            "type": "table"
           }
          ]
         },
         "layout": {
          "annotationdefaults": {
           "arrowcolor": "#2a3f5f",
           "arrowhead": 0,
           "arrowwidth": 1
          },
          "autotypenumbers": "strict",
          "coloraxis": {
           "colorbar": {
            "outlinewidth": 0,
            "ticks": ""
           }
          },
          "colorscale": {
           "diverging": [
            [
             0,
             "#8e0152"
            ],
            [
             0.1,
             "#c51b7d"
            ],
            [
             0.2,
             "#de77ae"
            ],
            [
             0.3,
             "#f1b6da"
            ],
            [
             0.4,
             "#fde0ef"
            ],
            [
             0.5,
             "#f7f7f7"
            ],
            [
             0.6,
             "#e6f5d0"
            ],
            [
             0.7,
             "#b8e186"
            ],
            [
             0.8,
             "#7fbc41"
            ],
            [
             0.9,
             "#4d9221"
            ],
            [
             1,
             "#276419"
            ]
           ],
           "sequential": [
            [
             0,
             "#0d0887"
            ],
            [
             0.1111111111111111,
             "#46039f"
            ],
            [
             0.2222222222222222,
             "#7201a8"
            ],
            [
             0.3333333333333333,
             "#9c179e"
            ],
            [
             0.4444444444444444,
             "#bd3786"
            ],
            [
             0.5555555555555556,
             "#d8576b"
            ],
            [
             0.6666666666666666,
             "#ed7953"
            ],
            [
             0.7777777777777778,
             "#fb9f3a"
            ],
            [
             0.8888888888888888,
             "#fdca26"
            ],
            [
             1,
             "#f0f921"
            ]
           ],
           "sequentialminus": [
            [
             0,
             "#0d0887"
            ],
            [
             0.1111111111111111,
             "#46039f"
            ],
            [
             0.2222222222222222,
             "#7201a8"
            ],
            [
             0.3333333333333333,
             "#9c179e"
            ],
            [
             0.4444444444444444,
             "#bd3786"
            ],
            [
             0.5555555555555556,
             "#d8576b"
            ],
            [
             0.6666666666666666,
             "#ed7953"
            ],
            [
             0.7777777777777778,
             "#fb9f3a"
            ],
            [
             0.8888888888888888,
             "#fdca26"
            ],
            [
             1,
             "#f0f921"
            ]
           ]
          },
          "colorway": [
           "#636efa",
           "#EF553B",
           "#00cc96",
           "#ab63fa",
           "#FFA15A",
           "#19d3f3",
           "#FF6692",
           "#B6E880",
           "#FF97FF",
           "#FECB52"
          ],
          "font": {
           "color": "#2a3f5f"
          },
          "geo": {
           "bgcolor": "white",
           "lakecolor": "white",
           "landcolor": "#E5ECF6",
           "showlakes": true,
           "showland": true,
           "subunitcolor": "white"
          },
          "hoverlabel": {
           "align": "left"
          },
          "hovermode": "closest",
          "mapbox": {
           "style": "light"
          },
          "paper_bgcolor": "white",
          "plot_bgcolor": "#E5ECF6",
          "polar": {
           "angularaxis": {
            "gridcolor": "white",
            "linecolor": "white",
            "ticks": ""
           },
           "bgcolor": "#E5ECF6",
           "radialaxis": {
            "gridcolor": "white",
            "linecolor": "white",
            "ticks": ""
           }
          },
          "scene": {
           "xaxis": {
            "backgroundcolor": "#E5ECF6",
            "gridcolor": "white",
            "gridwidth": 2,
            "linecolor": "white",
            "showbackground": true,
            "ticks": "",
            "zerolinecolor": "white"
           },
           "yaxis": {
            "backgroundcolor": "#E5ECF6",
            "gridcolor": "white",
            "gridwidth": 2,
            "linecolor": "white",
            "showbackground": true,
            "ticks": "",
            "zerolinecolor": "white"
           },
           "zaxis": {
            "backgroundcolor": "#E5ECF6",
            "gridcolor": "white",
            "gridwidth": 2,
            "linecolor": "white",
            "showbackground": true,
            "ticks": "",
            "zerolinecolor": "white"
           }
          },
          "shapedefaults": {
           "line": {
            "color": "#2a3f5f"
           }
          },
          "ternary": {
           "aaxis": {
            "gridcolor": "white",
            "linecolor": "white",
            "ticks": ""
           },
           "baxis": {
            "gridcolor": "white",
            "linecolor": "white",
            "ticks": ""
           },
           "bgcolor": "#E5ECF6",
           "caxis": {
            "gridcolor": "white",
            "linecolor": "white",
            "ticks": ""
           }
          },
          "title": {
           "x": 0.05
          },
          "xaxis": {
           "automargin": true,
           "gridcolor": "white",
           "linecolor": "white",
           "ticks": "",
           "title": {
            "standoff": 15
           },
           "zerolinecolor": "white",
           "zerolinewidth": 2
          },
          "yaxis": {
           "automargin": true,
           "gridcolor": "white",
           "linecolor": "white",
           "ticks": "",
           "title": {
            "standoff": 15
           },
           "zerolinecolor": "white",
           "zerolinewidth": 2
          }
         }
        },
        "title": {
         "font": {
          "color": "#4D5663"
         }
        },
        "xaxis": {
         "autorange": true,
         "gridcolor": "#E1E5ED",
         "range": [
          0.3659673552268968,
          2.927738841815174
         ],
         "showgrid": true,
         "tickfont": {
          "color": "#4D5663"
         },
         "title": {
          "font": {
           "color": "#4D5663"
          },
          "text": "Spinach Price"
         },
         "type": "linear",
         "zerolinecolor": "#E1E5ED"
        },
        "yaxis": {
         "autorange": true,
         "gridcolor": "#E1E5ED",
         "range": [
          -57.977948830163726,
          1448.9131360257302
         ],
         "showgrid": true,
         "tickfont": {
          "color": "#4D5663"
         },
         "title": {
          "font": {
           "color": "#4D5663"
          },
          "text": "Nutrients"
         },
         "type": "linear",
         "zerolinecolor": "#E1E5ED"
        }
       }
      },
      "image/png": "[encoded data removed]",
      "text/html": [
       "<div>                            <div id=\"630c4280-3359-40f8-b2bd-632dabd97655\" class=\"plotly-graph-div\" style=\"height:525px; width:100%;\"></div>            <script type=\"text/javascript\">                require([\"plotly\"], function(Plotly) {                    window.PLOTLYENV=window.PLOTLYENV || {};\n",
       "                    window.PLOTLYENV.BASE_URL='https://plot.ly';                                    if (document.getElementById(\"630c4280-3359-40f8-b2bd-632dabd97655\")) {                    Plotly.newPlot(                        \"630c4280-3359-40f8-b2bd-632dabd97655\",                        [{\"line\":{\"color\":\"rgba(255, 153, 51, 1.0)\",\"dash\":\"solid\",\"shape\":\"linear\",\"width\":1.3},\"mode\":\"lines\",\"name\":\"Calcium, Ca\",\"text\":\"\",\"type\":\"scatter\",\"x\":[0.3659673552268968,0.5489510328403452,0.6587412394084142,0.7319347104537935,0.805128181499173,0.8783216525445522,0.9515151235899316,1.024708594635311,1.0979020656806904,1.463869420907587,2.927738841815174],\"y\":[1000.0000398395971,1000.0000031536399,1000.000000072557,1000.000138563079,1000.0000012672099,1000.0000086532251,1000.0000019440536,1000.0000037829549,1000.0000029587949,1000.0000018585546,1000.0001381307964]},{\"line\":{\"color\":\"rgba(55, 128, 191, 1.0)\",\"dash\":\"solid\",\"shape\":\"linear\",\"width\":1.3},\"mode\":\"lines\",\"name\":\"Carbohydrate, by difference\",\"text\":\"\",\"type\":\"scatter\",\"x\":[0.3659673552268968,0.5489510328403452,0.6587412394084142,0.7319347104537935,0.805128181499173,0.8783216525445522,0.9515151235899316,1.024708594635311,1.0979020656806904,1.463869420907587,2.927738841815174],\"y\":[186.9229571960406,186.92315745219517,186.92316923662756,186.92274101999325,186.92316603313373,186.92312512379578,186.92316281478577,186.92315337913584,186.92315748535876,186.92316518761632,186.92271387707802]},{\"line\":{\"color\":\"rgba(50, 171, 96, 1.0)\",\"dash\":\"solid\",\"shape\":\"linear\",\"width\":1.3},\"mode\":\"lines\",\"name\":\"Iron, Fe\",\"text\":\"\",\"type\":\"scatter\",\"x\":[0.3659673552268968,0.5489510328403452,0.6587412394084142,0.7319347104537935,0.805128181499173,0.8783216525445522,0.9515151235899316,1.024708594635311,1.0979020656806904,1.463869420907587,2.927738841815174],\"y\":[17.36660541263097,17.366618642431032,17.366618870219895,17.366607214826765,17.366618797110895,17.366618095829473,17.366618753263154,17.366618691265803,17.36661862502424,17.36661878848738,17.366610019127695]},{\"line\":{\"color\":\"rgba(128, 0, 128, 1.0)\",\"dash\":\"solid\",\"shape\":\"linear\",\"width\":1.3},\"mode\":\"lines\",\"name\":\"Protein\",\"text\":\"\",\"type\":\"scatter\",\"x\":[0.3659673552268968,0.5489510328403452,0.6587412394084142,0.7319347104537935,0.805128181499173,0.8783216525445522,0.9515151235899316,1.024708594635311,1.0979020656806904,1.463869420907587,2.927738841815174],\"y\":[97.76479620371488,97.76486270537036,97.76486529804073,97.76476115476547,97.76486451430335,97.76485603999247,97.7648639355961,97.76486244507564,97.76486263737878,97.76486442540126,97.76476671236198]},{\"line\":{\"color\":\"rgba(219, 64, 82, 1.0)\",\"dash\":\"solid\",\"shape\":\"linear\",\"width\":1.3},\"mode\":\"lines\",\"name\":\"Sodium, Na\",\"text\":\"\",\"type\":\"scatter\",\"x\":[0.3659673552268968,0.5489510328403452,0.6587412394084142,0.7319347104537935,0.805128181499173,0.8783216525445522,0.9515151235899316,1.024708594635311,1.0979020656806904,1.463869420907587,2.927738841815174],\"y\":[1373.5676911552625,1373.5685153710392,1373.5685817829356,1373.5661556108216,1373.5685626126074,1373.568327056329,1373.568546032121,1373.5684932616805,1373.5685124890076,1373.5685599968417,1373.5661312967602]},{\"line\":{\"color\":\"rgba(0, 128, 128, 1.0)\",\"dash\":\"solid\",\"shape\":\"linear\",\"width\":1.3},\"mode\":\"lines\",\"name\":\"Total lipid (fat)\",\"text\":\"\",\"type\":\"scatter\",\"x\":[0.3659673552268968,0.5489510328403452,0.6587412394084142,0.7319347104537935,0.805128181499173,0.8783216525445522,0.9515151235899316,1.024708594635311,1.0979020656806904,1.463869420907587,2.927738841815174],\"y\":[110.81207635189276,110.81196237303328,110.81196594247326,110.81184662165448,110.81196496781675,110.81195218058373,110.81196390802359,110.81196101908654,110.81196222805,110.81196482837287,110.81182394063403]}],                        {\"legend\":{\"bgcolor\":\"#F5F6F9\",\"font\":{\"color\":\"#4D5663\"}},\"paper_bgcolor\":\"#F5F6F9\",\"plot_bgcolor\":\"#F5F6F9\",\"template\":{\"data\":{\"bar\":[{\"error_x\":{\"color\":\"#2a3f5f\"},\"error_y\":{\"color\":\"#2a3f5f\"},\"marker\":{\"line\":{\"color\":\"#E5ECF6\",\"width\":0.5},\"pattern\":{\"fillmode\":\"overlay\",\"size\":10,\"solidity\":0.2}},\"type\":\"bar\"}],\"barpolar\":[{\"marker\":{\"line\":{\"color\":\"#E5ECF6\",\"width\":0.5},\"pattern\":{\"fillmode\":\"overlay\",\"size\":10,\"solidity\":0.2}},\"type\":\"barpolar\"}],\"carpet\":[{\"aaxis\":{\"endlinecolor\":\"#2a3f5f\",\"gridcolor\":\"white\",\"linecolor\":\"white\",\"minorgridcolor\":\"white\",\"startlinecolor\":\"#2a3f5f\"},\"baxis\":{\"endlinecolor\":\"#2a3f5f\",\"gridcolor\":\"white\",\"linecolor\":\"white\",\"minorgridcolor\":\"white\",\"startlinecolor\":\"#2a3f5f\"},\"type\":\"carpet\"}],\"choropleth\":[{\"colorbar\":{\"outlinewidth\":0,\"ticks\":\"\"},\"type\":\"choropleth\"}],\"contour\":[{\"colorbar\":{\"outlinewidth\":0,\"ticks\":\"\"},\"colorscale\":[[0.0,\"#0d0887\"],[0.1111111111111111,\"#46039f\"],[0.2222222222222222,\"#7201a8\"],[0.3333333333333333,\"#9c179e\"],[0.4444444444444444,\"#bd3786\"],[0.5555555555555556,\"#d8576b\"],[0.6666666666666666,\"#ed7953\"],[0.7777777777777778,\"#fb9f3a\"],[0.8888888888888888,\"#fdca26\"],[1.0,\"#f0f921\"]],\"type\":\"contour\"}],\"contourcarpet\":[{\"colorbar\":{\"outlinewidth\":0,\"ticks\":\"\"},\"type\":\"contourcarpet\"}],\"heatmap\":[{\"colorbar\":{\"outlinewidth\":0,\"ticks\":\"\"},\"colorscale\":[[0.0,\"#0d0887\"],[0.1111111111111111,\"#46039f\"],[0.2222222222222222,\"#7201a8\"],[0.3333333333333333,\"#9c179e\"],[0.4444444444444444,\"#bd3786\"],[0.5555555555555556,\"#d8576b\"],[0.6666666666666666,\"#ed7953\"],[0.7777777777777778,\"#fb9f3a\"],[0.8888888888888888,\"#fdca26\"],[1.0,\"#f0f921\"]],\"type\":\"heatmap\"}],\"heatmapgl\":[{\"colorbar\":{\"outlinewidth\":0,\"ticks\":\"\"},\"colorscale\":[[0.0,\"#0d0887\"],[0.1111111111111111,\"#46039f\"],[0.2222222222222222,\"#7201a8\"],[0.3333333333333333,\"#9c179e\"],[0.4444444444444444,\"#bd3786\"],[0.5555555555555556,\"#d8576b\"],[0.6666666666666666,\"#ed7953\"],[0.7777777777777778,\"#fb9f3a\"],[0.8888888888888888,\"#fdca26\"],[1.0,\"#f0f921\"]],\"type\":\"heatmapgl\"}],\"histogram\":[{\"marker\":{\"pattern\":{\"fillmode\":\"overlay\",\"size\":10,\"solidity\":0.2}},\"type\":\"histogram\"}],\"histogram2d\":[{\"colorbar\":{\"outlinewidth\":0,\"ticks\":\"\"},\"colorscale\":[[0.0,\"#0d0887\"],[0.1111111111111111,\"#46039f\"],[0.2222222222222222,\"#7201a8\"],[0.3333333333333333,\"#9c179e\"],[0.4444444444444444,\"#bd3786\"],[0.5555555555555556,\"#d8576b\"],[0.6666666666666666,\"#ed7953\"],[0.7777777777777778,\"#fb9f3a\"],[0.8888888888888888,\"#fdca26\"],[1.0,\"#f0f921\"]],\"type\":\"histogram2d\"}],\"histogram2dcontour\":[{\"colorbar\":{\"outlinewidth\":0,\"ticks\":\"\"},\"colorscale\":[[0.0,\"#0d0887\"],[0.1111111111111111,\"#46039f\"],[0.2222222222222222,\"#7201a8\"],[0.3333333333333333,\"#9c179e\"],[0.4444444444444444,\"#bd3786\"],[0.5555555555555556,\"#d8576b\"],[0.6666666666666666,\"#ed7953\"],[0.7777777777777778,\"#fb9f3a\"],[0.8888888888888888,\"#fdca26\"],[1.0,\"#f0f921\"]],\"type\":\"histogram2dcontour\"}],\"mesh3d\":[{\"colorbar\":{\"outlinewidth\":0,\"ticks\":\"\"},\"type\":\"mesh3d\"}],\"parcoords\":[{\"line\":{\"colorbar\":{\"outlinewidth\":0,\"ticks\":\"\"}},\"type\":\"parcoords\"}],\"pie\":[{\"automargin\":true,\"type\":\"pie\"}],\"scatter\":[{\"marker\":{\"colorbar\":{\"outlinewidth\":0,\"ticks\":\"\"}},\"type\":\"scatter\"}],\"scatter3d\":[{\"line\":{\"colorbar\":{\"outlinewidth\":0,\"ticks\":\"\"}},\"marker\":{\"colorbar\":{\"outlinewidth\":0,\"ticks\":\"\"}},\"type\":\"scatter3d\"}],\"scattercarpet\":[{\"marker\":{\"colorbar\":{\"outlinewidth\":0,\"ticks\":\"\"}},\"type\":\"scattercarpet\"}],\"scattergeo\":[{\"marker\":{\"colorbar\":{\"outlinewidth\":0,\"ticks\":\"\"}},\"type\":\"scattergeo\"}],\"scattergl\":[{\"marker\":{\"colorbar\":{\"outlinewidth\":0,\"ticks\":\"\"}},\"type\":\"scattergl\"}],\"scattermapbox\":[{\"marker\":{\"colorbar\":{\"outlinewidth\":0,\"ticks\":\"\"}},\"type\":\"scattermapbox\"}],\"scatterpolar\":[{\"marker\":{\"colorbar\":{\"outlinewidth\":0,\"ticks\":\"\"}},\"type\":\"scatterpolar\"}],\"scatterpolargl\":[{\"marker\":{\"colorbar\":{\"outlinewidth\":0,\"ticks\":\"\"}},\"type\":\"scatterpolargl\"}],\"scatterternary\":[{\"marker\":{\"colorbar\":{\"outlinewidth\":0,\"ticks\":\"\"}},\"type\":\"scatterternary\"}],\"surface\":[{\"colorbar\":{\"outlinewidth\":0,\"ticks\":\"\"},\"colorscale\":[[0.0,\"#0d0887\"],[0.1111111111111111,\"#46039f\"],[0.2222222222222222,\"#7201a8\"],[0.3333333333333333,\"#9c179e\"],[0.4444444444444444,\"#bd3786\"],[0.5555555555555556,\"#d8576b\"],[0.6666666666666666,\"#ed7953\"],[0.7777777777777778,\"#fb9f3a\"],[0.8888888888888888,\"#fdca26\"],[1.0,\"#f0f921\"]],\"type\":\"surface\"}],\"table\":[{\"cells\":{\"fill\":{\"color\":\"#EBF0F8\"},\"line\":{\"color\":\"white\"}},\"header\":{\"fill\":{\"color\":\"#C8D4E3\"},\"line\":{\"color\":\"white\"}},\"type\":\"table\"}]},\"layout\":{\"annotationdefaults\":{\"arrowcolor\":\"#2a3f5f\",\"arrowhead\":0,\"arrowwidth\":1},\"autotypenumbers\":\"strict\",\"coloraxis\":{\"colorbar\":{\"outlinewidth\":0,\"ticks\":\"\"}},\"colorscale\":{\"diverging\":[[0,\"#8e0152\"],[0.1,\"#c51b7d\"],[0.2,\"#de77ae\"],[0.3,\"#f1b6da\"],[0.4,\"#fde0ef\"],[0.5,\"#f7f7f7\"],[0.6,\"#e6f5d0\"],[0.7,\"#b8e186\"],[0.8,\"#7fbc41\"],[0.9,\"#4d9221\"],[1,\"#276419\"]],\"sequential\":[[0.0,\"#0d0887\"],[0.1111111111111111,\"#46039f\"],[0.2222222222222222,\"#7201a8\"],[0.3333333333333333,\"#9c179e\"],[0.4444444444444444,\"#bd3786\"],[0.5555555555555556,\"#d8576b\"],[0.6666666666666666,\"#ed7953\"],[0.7777777777777778,\"#fb9f3a\"],[0.8888888888888888,\"#fdca26\"],[1.0,\"#f0f921\"]],\"sequentialminus\":[[0.0,\"#0d0887\"],[0.1111111111111111,\"#46039f\"],[0.2222222222222222,\"#7201a8\"],[0.3333333333333333,\"#9c179e\"],[0.4444444444444444,\"#bd3786\"],[0.5555555555555556,\"#d8576b\"],[0.6666666666666666,\"#ed7953\"],[0.7777777777777778,\"#fb9f3a\"],[0.8888888888888888,\"#fdca26\"],[1.0,\"#f0f921\"]]},\"colorway\":[\"#636efa\",\"#EF553B\",\"#00cc96\",\"#ab63fa\",\"#FFA15A\",\"#19d3f3\",\"#FF6692\",\"#B6E880\",\"#FF97FF\",\"#FECB52\"],\"font\":{\"color\":\"#2a3f5f\"},\"geo\":{\"bgcolor\":\"white\",\"lakecolor\":\"white\",\"landcolor\":\"#E5ECF6\",\"showlakes\":true,\"showland\":true,\"subunitcolor\":\"white\"},\"hoverlabel\":{\"align\":\"left\"},\"hovermode\":\"closest\",\"mapbox\":{\"style\":\"light\"},\"paper_bgcolor\":\"white\",\"plot_bgcolor\":\"#E5ECF6\",\"polar\":{\"angularaxis\":{\"gridcolor\":\"white\",\"linecolor\":\"white\",\"ticks\":\"\"},\"bgcolor\":\"#E5ECF6\",\"radialaxis\":{\"gridcolor\":\"white\",\"linecolor\":\"white\",\"ticks\":\"\"}},\"scene\":{\"xaxis\":{\"backgroundcolor\":\"#E5ECF6\",\"gridcolor\":\"white\",\"gridwidth\":2,\"linecolor\":\"white\",\"showbackground\":true,\"ticks\":\"\",\"zerolinecolor\":\"white\"},\"yaxis\":{\"backgroundcolor\":\"#E5ECF6\",\"gridcolor\":\"white\",\"gridwidth\":2,\"linecolor\":\"white\",\"showbackground\":true,\"ticks\":\"\",\"zerolinecolor\":\"white\"},\"zaxis\":{\"backgroundcolor\":\"#E5ECF6\",\"gridcolor\":\"white\",\"gridwidth\":2,\"linecolor\":\"white\",\"showbackground\":true,\"ticks\":\"\",\"zerolinecolor\":\"white\"}},\"shapedefaults\":{\"line\":{\"color\":\"#2a3f5f\"}},\"ternary\":{\"aaxis\":{\"gridcolor\":\"white\",\"linecolor\":\"white\",\"ticks\":\"\"},\"baxis\":{\"gridcolor\":\"white\",\"linecolor\":\"white\",\"ticks\":\"\"},\"bgcolor\":\"#E5ECF6\",\"caxis\":{\"gridcolor\":\"white\",\"linecolor\":\"white\",\"ticks\":\"\"}},\"title\":{\"x\":0.05},\"xaxis\":{\"automargin\":true,\"gridcolor\":\"white\",\"linecolor\":\"white\",\"ticks\":\"\",\"title\":{\"standoff\":15},\"zerolinecolor\":\"white\",\"zerolinewidth\":2},\"yaxis\":{\"automargin\":true,\"gridcolor\":\"white\",\"linecolor\":\"white\",\"ticks\":\"\",\"title\":{\"standoff\":15},\"zerolinecolor\":\"white\",\"zerolinewidth\":2}}},\"title\":{\"font\":{\"color\":\"#4D5663\"}},\"xaxis\":{\"gridcolor\":\"#E1E5ED\",\"showgrid\":true,\"tickfont\":{\"color\":\"#4D5663\"},\"title\":{\"font\":{\"color\":\"#4D5663\"},\"text\":\"Spinach Price\"},\"zerolinecolor\":\"#E1E5ED\"},\"yaxis\":{\"gridcolor\":\"#E1E5ED\",\"showgrid\":true,\"tickfont\":{\"color\":\"#4D5663\"},\"title\":{\"font\":{\"color\":\"#4D5663\"},\"text\":\"Nutrients\"},\"zerolinecolor\":\"#E1E5ED\"}},                        {\"showLink\": true, \"linkText\": \"Export to plot.ly\", \"plotlyServerURL\": \"https://plot.ly\", \"responsive\": true}                    ).then(function(){\n",
       "                            \n",
       "var gd = document.getElementById('630c4280-3359-40f8-b2bd-632dabd97655');\n",
       "var x = new MutationObserver(function (mutations, observer) {{\n",
       "        var display = window.getComputedStyle(gd).display;\n",
       "        if (!display || display === 'none') {{\n",
       "            console.log([gd, 'removed!']);\n",
       "            Plotly.purge(gd);\n",
       "            observer.disconnect();\n",
       "        }}\n",
       "}});\n",
       "\n",
       "// Listen for the removal of the full notebook cells\n",
       "var notebookContainer = gd.closest('#notebook-container');\n",
       "if (notebookContainer) {{\n",
       "    x.observe(notebookContainer, {childList: true});\n",
       "}}\n",
       "\n",
       "// Listen for the clearing of the current output cell\n",
       "var outputEl = gd.closest('.output');\n",
       "if (outputEl) {{\n",
       "    x.observe(outputEl, {childList: true});\n",
       "}}\n",
       "\n",
       "                        })                };                });            </script>        </div>"
      ]
     },
     "metadata": {},
     "output_type": "display_data"
    }
   ],
   "source": [
    "# Matrix product maps quantities of food into quantities of nutrients\n",
    "NutrientResponse = Diet_response@FoodNutrients.T\n",
    "\n",
    "# Drop columns of missing nutrients\n",
    "NutrientResponse = NutrientResponse.loc[:,NutrientResponse.count()>0]\n",
    "NutrientResponse.iplot(xTitle='%s Price' % ReferenceGood,yTitle='Nutrients')"
   ]
  },
  {
   "cell_type": "markdown",
   "metadata": {},
   "source": [
    "## Adding Constraint on Total Weight\n",
    "\n"
   ]
  },
  {
   "cell_type": "markdown",
   "metadata": {},
   "source": [
    "At least at some prices the minimum cost subistence diet involves\n",
    "eating unreasonable amounts of food (e.g., 10 kilograms of cabbage per\n",
    "day).  We can easily add an additional constraint of the form\n",
    "$$\n",
    "     \\sum x_i \\leq \\text{max weight}\n",
    "$$\n",
    "to our linear programming problem since it&rsquo;s just another linear\n",
    "inequality, and this may give us more realistic results.\n",
    "\n"
   ]
  },
  {
   "cell_type": "markdown",
   "metadata": {},
   "source": [
    "### Price Changes and Subsistence Diet Composition with Weight Constraint\n",
    "\n"
   ]
  },
  {
   "cell_type": "markdown",
   "metadata": {},
   "source": [
    "Re-do our analysis of changing prices, but with a constraint that\n",
    "  total weight of diet must be less that 12 hectograms (1.2 kg).\n",
    "\n"
   ]
  },
  {
   "cell_type": "code",
   "execution_count": 105,
   "metadata": {},
   "outputs": [
    {
     "data": {
      "text/html": [
       "        <script type=\"text/javascript\">\n",
       "        window.PlotlyConfig = {MathJaxConfig: 'local'};\n",
       "        if (window.MathJax) {MathJax.Hub.Config({SVG: {font: \"STIX-Web\"}});}\n",
       "        if (typeof require !== 'undefined') {\n",
       "        require.undef(\"plotly\");\n",
       "        requirejs.config({\n",
       "            paths: {\n",
       "                'plotly': ['https://cdn.plot.ly/plotly-2.3.1.min']\n",
       "            }\n",
       "        });\n",
       "        require(['plotly'], function(Plotly) {\n",
       "            window._Plotly = Plotly;\n",
       "        });\n",
       "        }\n",
       "        </script>\n",
       "        "
      ]
     },
     "metadata": {},
     "output_type": "display_data"
    },
    {
     "name": "stderr",
     "output_type": "stream",
     "text": [
      "/tmp/ipykernel_331/879501582.py:78: UserWarning:\n",
      "\n",
      "The algorithm terminated successfully and determined that the problem is infeasible.\n",
      "\n"
     ]
    },
    {
     "ename": "PlotlyEmptyDataError",
     "evalue": "Empty data list found. Make sure that you populated the list of data objects you're sending and try again.\nQuestions? Visit support.plot.ly",
     "output_type": "error",
     "traceback": [
      "\u001b[0;31m---------------------------------------------------------------------------\u001b[0m",
      "\u001b[0;31mPlotlyEmptyDataError\u001b[0m                      Traceback (most recent call last)",
      "Cell \u001b[0;32mIn[105], line 32\u001b[0m\n\u001b[1;32m     29\u001b[0m Diet_response \u001b[38;5;241m=\u001b[39m Diet_response\u001b[38;5;241m.\u001b[39mset_index(\u001b[38;5;124m'\u001b[39m\u001b[38;5;132;01m%s\u001b[39;00m\u001b[38;5;124m Price\u001b[39m\u001b[38;5;124m'\u001b[39m \u001b[38;5;241m%\u001b[39m ReferenceGood)\n\u001b[1;32m     31\u001b[0m \u001b[38;5;66;03m# Just look at goods consumed in quantities greater than error tolerance\u001b[39;00m\n\u001b[0;32m---> 32\u001b[0m \u001b[43mDiet_response\u001b[49m\u001b[38;5;241;43m.\u001b[39;49m\u001b[43mloc\u001b[49m\u001b[43m[\u001b[49m\u001b[43m:\u001b[49m\u001b[43m,\u001b[49m\u001b[43m(\u001b[49m\u001b[43mDiet_response\u001b[49m\u001b[38;5;241;43m>\u001b[39;49m\u001b[43mtol\u001b[49m\u001b[43m)\u001b[49m\u001b[38;5;241;43m.\u001b[39;49m\u001b[43msum\u001b[49m\u001b[43m(\u001b[49m\u001b[43m)\u001b[49m\u001b[38;5;241;43m>\u001b[39;49m\u001b[38;5;241;43m0\u001b[39;49m\u001b[43m]\u001b[49m\u001b[38;5;241;43m.\u001b[39;49m\u001b[43miplot\u001b[49m\u001b[43m(\u001b[49m\u001b[43mxTitle\u001b[49m\u001b[38;5;241;43m=\u001b[39;49m\u001b[38;5;124;43m'\u001b[39;49m\u001b[38;5;132;43;01m%s\u001b[39;49;00m\u001b[38;5;124;43m Price\u001b[39;49m\u001b[38;5;124;43m'\u001b[39;49m\u001b[43m \u001b[49m\u001b[38;5;241;43m%\u001b[39;49m\u001b[43m \u001b[49m\u001b[43mReferenceGood\u001b[49m\u001b[43m,\u001b[49m\u001b[43myTitle\u001b[49m\u001b[38;5;241;43m=\u001b[39;49m\u001b[38;5;124;43m'\u001b[39;49m\u001b[38;5;124;43mHectograms\u001b[39;49m\u001b[38;5;124;43m'\u001b[39;49m\u001b[43m)\u001b[49m\n",
      "File \u001b[0;32m/opt/conda/lib/python3.9/site-packages/cufflinks/plotlytools.py:1216\u001b[0m, in \u001b[0;36m_iplot\u001b[0;34m(self, kind, data, layout, filename, sharing, title, xTitle, yTitle, zTitle, theme, colors, colorscale, fill, width, dash, mode, interpolation, symbol, size, barmode, sortbars, bargap, bargroupgap, bins, histnorm, histfunc, orientation, boxpoints, annotations, keys, bestfit, bestfit_colors, mean, mean_colors, categories, x, y, z, text, gridcolor, zerolinecolor, margin, labels, values, secondary_y, secondary_y_title, subplots, shape, error_x, error_y, error_type, locations, lon, lat, asFrame, asDates, asFigure, asImage, dimensions, asPlot, asUrl, online, **kwargs)\u001b[0m\n\u001b[1;32m   1214\u001b[0m \t\u001b[38;5;28;01mreturn\u001b[39;00m Figure(figure)\n\u001b[1;32m   1215\u001b[0m \u001b[38;5;28;01melse\u001b[39;00m:\n\u001b[0;32m-> 1216\u001b[0m \t\u001b[38;5;28;01mreturn\u001b[39;00m \u001b[43miplot\u001b[49m\u001b[43m(\u001b[49m\u001b[43mfigure\u001b[49m\u001b[43m,\u001b[49m\u001b[43mvalidate\u001b[49m\u001b[38;5;241;43m=\u001b[39;49m\u001b[43mvalidate\u001b[49m\u001b[43m,\u001b[49m\u001b[43msharing\u001b[49m\u001b[38;5;241;43m=\u001b[39;49m\u001b[43msharing\u001b[49m\u001b[43m,\u001b[49m\u001b[43mfilename\u001b[49m\u001b[38;5;241;43m=\u001b[39;49m\u001b[43mfilename\u001b[49m\u001b[43m,\u001b[49m\n\u001b[1;32m   1217\u001b[0m \u001b[43m\t\t \u001b[49m\u001b[43monline\u001b[49m\u001b[38;5;241;43m=\u001b[39;49m\u001b[43monline\u001b[49m\u001b[43m,\u001b[49m\u001b[43masImage\u001b[49m\u001b[38;5;241;43m=\u001b[39;49m\u001b[43masImage\u001b[49m\u001b[43m,\u001b[49m\u001b[43masUrl\u001b[49m\u001b[38;5;241;43m=\u001b[39;49m\u001b[43masUrl\u001b[49m\u001b[43m,\u001b[49m\u001b[43masPlot\u001b[49m\u001b[38;5;241;43m=\u001b[39;49m\u001b[43masPlot\u001b[49m\u001b[43m,\u001b[49m\n\u001b[1;32m   1218\u001b[0m \u001b[43m\t\t \u001b[49m\u001b[43mdimensions\u001b[49m\u001b[38;5;241;43m=\u001b[39;49m\u001b[43mdimensions\u001b[49m\u001b[43m,\u001b[49m\u001b[43mdisplay_image\u001b[49m\u001b[38;5;241;43m=\u001b[39;49m\u001b[43mkwargs\u001b[49m\u001b[38;5;241;43m.\u001b[39;49m\u001b[43mget\u001b[49m\u001b[43m(\u001b[49m\u001b[38;5;124;43m'\u001b[39;49m\u001b[38;5;124;43mdisplay_image\u001b[39;49m\u001b[38;5;124;43m'\u001b[39;49m\u001b[43m,\u001b[49m\u001b[38;5;28;43;01mTrue\u001b[39;49;00m\u001b[43m)\u001b[49m\u001b[43m)\u001b[49m\n",
      "File \u001b[0;32m/opt/conda/lib/python3.9/site-packages/cufflinks/plotlytools.py:1468\u001b[0m, in \u001b[0;36miplot\u001b[0;34m(figure, validate, sharing, filename, online, asImage, asUrl, asPlot, dimensions, display_image, **kwargs)\u001b[0m\n\u001b[1;32m   1466\u001b[0m \u001b[38;5;66;03m## iplot\u001b[39;00m\n\u001b[1;32m   1467\u001b[0m \u001b[38;5;28;01mif\u001b[39;00m offline\u001b[38;5;241m.\u001b[39mis_offline() \u001b[38;5;129;01mand\u001b[39;00m \u001b[38;5;129;01mnot\u001b[39;00m online:\t\n\u001b[0;32m-> 1468\u001b[0m \t\u001b[38;5;28;01mreturn\u001b[39;00m \u001b[43moffline\u001b[49m\u001b[38;5;241;43m.\u001b[39;49m\u001b[43mpy_offline\u001b[49m\u001b[38;5;241;43m.\u001b[39;49m\u001b[43miplot\u001b[49m\u001b[43m(\u001b[49m\u001b[43mfigure\u001b[49m\u001b[43m,\u001b[49m\u001b[43m \u001b[49m\u001b[43mvalidate\u001b[49m\u001b[38;5;241;43m=\u001b[39;49m\u001b[43mvalidate\u001b[49m\u001b[43m,\u001b[49m\u001b[43m \u001b[49m\u001b[43mfilename\u001b[49m\u001b[38;5;241;43m=\u001b[39;49m\u001b[43mfilename\u001b[49m\u001b[43m,\u001b[49m\u001b[43m \u001b[49m\u001b[43mshow_link\u001b[49m\u001b[38;5;241;43m=\u001b[39;49m\u001b[43mshow_link\u001b[49m\u001b[43m,\u001b[49m\u001b[43m \u001b[49m\u001b[43mlink_text\u001b[49m\u001b[38;5;241;43m=\u001b[39;49m\u001b[43mlink_text\u001b[49m\u001b[43m,\u001b[49m\u001b[43m \u001b[49m\u001b[43mconfig\u001b[49m\u001b[38;5;241;43m=\u001b[39;49m\u001b[43mconfig\u001b[49m\u001b[43m)\u001b[49m\n\u001b[1;32m   1469\u001b[0m \u001b[38;5;28;01melse\u001b[39;00m:\t\t\n\u001b[1;32m   1470\u001b[0m \t\u001b[38;5;28;01mreturn\u001b[39;00m py\u001b[38;5;241m.\u001b[39miplot(figure,validate\u001b[38;5;241m=\u001b[39mvalidate,sharing\u001b[38;5;241m=\u001b[39msharing,\n\u001b[1;32m   1471\u001b[0m \t\t\t\t\tfilename\u001b[38;5;241m=\u001b[39mfilename)\n",
      "File \u001b[0;32m/opt/conda/lib/python3.9/site-packages/plotly/offline/offline.py:384\u001b[0m, in \u001b[0;36miplot\u001b[0;34m(figure_or_data, show_link, link_text, validate, image, filename, image_width, image_height, config, auto_play, animation_opts)\u001b[0m\n\u001b[1;32m    381\u001b[0m config\u001b[38;5;241m.\u001b[39msetdefault(\u001b[38;5;124m\"\u001b[39m\u001b[38;5;124mlinkText\u001b[39m\u001b[38;5;124m\"\u001b[39m, link_text)\n\u001b[1;32m    383\u001b[0m \u001b[38;5;66;03m# Get figure\u001b[39;00m\n\u001b[0;32m--> 384\u001b[0m figure \u001b[38;5;241m=\u001b[39m \u001b[43mtools\u001b[49m\u001b[38;5;241;43m.\u001b[39;49m\u001b[43mreturn_figure_from_figure_or_data\u001b[49m\u001b[43m(\u001b[49m\u001b[43mfigure_or_data\u001b[49m\u001b[43m,\u001b[49m\u001b[43m \u001b[49m\u001b[43mvalidate\u001b[49m\u001b[43m)\u001b[49m\n\u001b[1;32m    386\u001b[0m \u001b[38;5;66;03m# Handle image request\u001b[39;00m\n\u001b[1;32m    387\u001b[0m post_script \u001b[38;5;241m=\u001b[39m build_save_image_post_script(\n\u001b[1;32m    388\u001b[0m     image, filename, image_height, image_width, \u001b[38;5;124m\"\u001b[39m\u001b[38;5;124miplot\u001b[39m\u001b[38;5;124m\"\u001b[39m\n\u001b[1;32m    389\u001b[0m )\n",
      "File \u001b[0;32m/opt/conda/lib/python3.9/site-packages/plotly/tools.py:567\u001b[0m, in \u001b[0;36mreturn_figure_from_figure_or_data\u001b[0;34m(figure_or_data, validate_figure)\u001b[0m\n\u001b[1;32m    555\u001b[0m         \u001b[38;5;28;01mraise\u001b[39;00m exceptions\u001b[38;5;241m.\u001b[39mPlotlyError(\n\u001b[1;32m    556\u001b[0m             \u001b[38;5;124m\"\u001b[39m\u001b[38;5;124mInvalid \u001b[39m\u001b[38;5;124m'\u001b[39m\u001b[38;5;124mfigure_or_data\u001b[39m\u001b[38;5;124m'\u001b[39m\u001b[38;5;124m argument. \u001b[39m\u001b[38;5;124m\"\u001b[39m\n\u001b[1;32m    557\u001b[0m             \u001b[38;5;124m\"\u001b[39m\u001b[38;5;124mPlotly will not be able to properly \u001b[39m\u001b[38;5;124m\"\u001b[39m\n\u001b[0;32m   (...)\u001b[0m\n\u001b[1;32m    564\u001b[0m             \u001b[38;5;124m\"\u001b[39m\u001b[38;5;124m\"\u001b[39m\u001b[38;5;241m.\u001b[39mformat(err)\n\u001b[1;32m    565\u001b[0m         )\n\u001b[1;32m    566\u001b[0m     \u001b[38;5;28;01mif\u001b[39;00m \u001b[38;5;129;01mnot\u001b[39;00m figure[\u001b[38;5;124m\"\u001b[39m\u001b[38;5;124mdata\u001b[39m\u001b[38;5;124m\"\u001b[39m]:\n\u001b[0;32m--> 567\u001b[0m         \u001b[38;5;28;01mraise\u001b[39;00m exceptions\u001b[38;5;241m.\u001b[39mPlotlyEmptyDataError(\n\u001b[1;32m    568\u001b[0m             \u001b[38;5;124m\"\u001b[39m\u001b[38;5;124mEmpty data list found. Make sure that you populated the \u001b[39m\u001b[38;5;124m\"\u001b[39m\n\u001b[1;32m    569\u001b[0m             \u001b[38;5;124m\"\u001b[39m\u001b[38;5;124mlist of data objects you\u001b[39m\u001b[38;5;124m'\u001b[39m\u001b[38;5;124mre sending and try again.\u001b[39m\u001b[38;5;130;01m\\n\u001b[39;00m\u001b[38;5;124m\"\u001b[39m\n\u001b[1;32m    570\u001b[0m             \u001b[38;5;124m\"\u001b[39m\u001b[38;5;124mQuestions? Visit support.plot.ly\u001b[39m\u001b[38;5;124m\"\u001b[39m\n\u001b[1;32m    571\u001b[0m         )\n\u001b[1;32m    573\u001b[0m \u001b[38;5;28;01mreturn\u001b[39;00m figure\n",
      "\u001b[0;31mPlotlyEmptyDataError\u001b[0m: Empty data list found. Make sure that you populated the list of data objects you're sending and try again.\nQuestions? Visit support.plot.ly"
     ]
    }
   ],
   "source": [
    "import cufflinks as cf\n",
    "cf.go_offline()\n",
    "\n",
    "ReferenceGood = 'Spinach'\n",
    "\n",
    "scale = [0.5,0.75,0.9,1.,1.1,1.2,1.3,1.4,1.5,2,4]\n",
    "\n",
    "cost0 = solve_subsistence_problem(FoodNutrients,Prices,\n",
    "                                  diet_min[group],diet_max[group],max_weight=12,tol=tol).fun\n",
    "\n",
    "my_p = Prices.copy()\n",
    "\n",
    "diet = {}\n",
    "for s in scale:\n",
    "\n",
    "    my_p[ReferenceGood] = Prices[ReferenceGood]*s\n",
    "    result = solve_subsistence_problem(FoodNutrients,my_p,\n",
    "                                       diet_min[group],diet_max[group],max_weight=12,tol=tol)\n",
    "    diet[my_p[ReferenceGood]] = result.diet\n",
    "\n",
    "Diet_response = pd.DataFrame(diet).T\n",
    "Diet_response.index.name = '%s Price' % ReferenceGood\n",
    "\n",
    "Diet_response.reset_index(inplace=True)\n",
    "\n",
    "# Get rid of units for index (cufflinks chokes)\n",
    "Diet_response['%s Price' % ReferenceGood] = Diet_response['%s Price' % ReferenceGood].apply(lambda x: x.magnitude)\n",
    "\n",
    "Diet_response = Diet_response.set_index('%s Price' % ReferenceGood)\n",
    "\n",
    "# Just look at goods consumed in quantities greater than error tolerance\n",
    "Diet_response.loc[:,(Diet_response>tol).sum()>0].iplot(xTitle='%s Price' % ReferenceGood,yTitle='Hectograms')"
   ]
  }
 ],
 "metadata": {
  "kernelspec": {
   "display_name": "Python 3 (ipykernel)",
   "language": "python",
   "name": "python3"
  },
  "language_info": {
   "codemirror_mode": {
    "name": "ipython",
    "version": 3
   },
   "file_extension": ".py",
   "mimetype": "text/x-python",
   "name": "python",
   "nbconvert_exporter": "python",
   "pygments_lexer": "ipython3",
   "version": "3.9.15"
  },
  "org": null
 },
 "nbformat": 4,
 "nbformat_minor": 4
}
